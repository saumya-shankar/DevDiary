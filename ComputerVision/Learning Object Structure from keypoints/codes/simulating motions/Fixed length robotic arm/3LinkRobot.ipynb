{
 "cells": [
  {
   "cell_type": "code",
   "execution_count": 1,
   "metadata": {},
   "outputs": [],
   "source": [
    "import numpy as np\n",
    "import matplotlib.pyplot as plt\n",
    "from celluloid import Camera\n",
    "from IPython.display import HTML\n",
    "import pandas as pd\n",
    "import random\n",
    "import copy"
   ]
  },
  {
   "cell_type": "code",
   "execution_count": 2,
   "metadata": {},
   "outputs": [],
   "source": [
    "\n",
    "class ThreeLinkArm:\n",
    "    \n",
    "    def __init__(self):\n",
    "        # Set parameters for the 3-link planar arm\n",
    "        self.theta1 = np.deg2rad(0)\n",
    "        self.theta2 = np.deg2rad(90)\n",
    "        self.theta3 = np.deg2rad(90)\n",
    "        self.l1 = np.random.randint(2,8)\n",
    "        self.l2 = np.random.randint(2,8)\n",
    "        self.l3 = np.random.randint(2,8)\n",
    "\n",
    "    def forwardKinematics(self, theta1, theta2, theta3):\n",
    "        # Define the homogeneous transformation matrices for the 3-link planar arm\n",
    "        self.theta1 = theta1\n",
    "        self.theta2 = theta2\n",
    "        self.theta3 = theta3\n",
    "        self.t01 = np.matrix([[np.cos(self.theta1), -np.sin(self.theta1), 0], [np.sin(self.theta1), np.cos(self.theta1), 0], [0, 0, 1]])\n",
    "        self.t12 = np.matrix([[np.cos(self.theta2), -np.sin(self.theta2), self.l1], [np.sin(self.theta2), np.cos(self.theta2), 0], [0, 0, 1]])\n",
    "        self.t23 = np.matrix([[np.cos(self.theta3), -np.sin(self.theta3), self.l2], [np.sin(self.theta3), np.cos(self.theta3), 0], [0, 0, 1]])        \n",
    "        self.t3end = np.matrix([[np.cos(self.theta3), -np.sin(self.theta3), self.l3], [np.sin(self.theta3), np.cos(self.theta3), 0], [0, 0, 1]])\n",
    "        self.t0end = self.t01*self.t12*self.t23*self.t3end\n",
    "        return self.t0end\n",
    "    \n",
    "    def findJointPos(self): \n",
    "        # Find the x,y position of each joint and end effector so it can be plotted\n",
    "        # Find the transformation matrices for joint 2 and joint 3\n",
    "        self.t02 = self.t01*self.t12\n",
    "        self.t03 = self.t01*self.t12*self.t23\n",
    "        # Find the x, y coordinates for joints 2 and 3. Put them in a list j2 = [x,y]\n",
    "        j2 = [ self.t02[0, 2], self.t02[1, 2] ]\n",
    "        j3 = [ self.t03[0, 2], self.t03[1, 2] ]\n",
    "        endeff = [self.t0end[0,2],self.t0end[1,2]]\n",
    "        \n",
    "        self.jnt2pos, self.jnt3pos, self.endEffPos = j2,j3,endeff\n",
    "        return j2,j3,endeff\n",
    "    \n",
    "    def geomJacobian(self, jnt2pos=None, jnt3pos=None, endEffPos=None):\n",
    "        if jnt2pos is None:\n",
    "            jnt2pos=self.jnt2pos \n",
    "        if jnt3pos is None:\n",
    "            jnt3pos=self.jnt3pos\n",
    "        if endEffPos is None:\n",
    "            endEffPos=self.endEffPos\n",
    "        ai = np.array([0,0,1])\n",
    "        col0 = np.array(endEffPos + [0])\n",
    "        col1 = np.array(endEffPos + [0]) - np.array(jnt2pos + [0])\n",
    "        col2 = np.array(endEffPos + [0]) - np.array(jnt3pos + [0])\n",
    "        J = np.array([np.cross(ai,col0), np.cross(ai,col1), np.cross(ai,col2)]).T \n",
    "        return J"
   ]
  },
  {
   "cell_type": "code",
   "execution_count": 3,
   "metadata": {},
   "outputs": [],
   "source": [
    "def plotArm(jnt2pos, jnt3pos, endEffectPos, target=None, step=None):\n",
    "    # set up figure\n",
    "    fig = plt.figure(figsize=(10,10))\n",
    "    ax = fig.add_subplot(111, autoscale_on=False, xlim=(-25, 25), ylim=(-25, 25))\n",
    "    ax.grid()\n",
    "    \n",
    "    if step is not None:\n",
    "        step = np.array(step)\n",
    "        plt.scatter(step[:, 0],step[:, 1], color='lightblue', marker='o')\n",
    "        plt.plot(step[:, 0],step[:, 1], color='lightblue')\n",
    "    if target is not None:\n",
    "        target = np.array(target)\n",
    "        plt.scatter(target[:, 0],target[:, 1], color='red', marker='o')\n",
    "        \n",
    "    line, = ax.plot([], [], 'o-', lw=4, mew=5)\n",
    "    time_text = ax.text(0.02, 0.95, '', transform=ax.transAxes)\n",
    "\n",
    "    line.set_data([], [])\n",
    "    time_text.set_text('')\n",
    "    x = np.array([0, jnt2pos[0], jnt3pos[0], endEffectPos[0]])\n",
    "    y = np.array([0, jnt2pos[1], jnt3pos[1], endEffectPos[1]])\n",
    "    line.set_data((x,y))\n",
    "    \n",
    "    plt.show()\n",
    "    \n",
    "# gif animation plotter\n",
    "def plotArm2(jnt2pos, jnt3pos, endEffectPos,x1,y1,x2,y2, target=None, step=None, fig=None, camera=None):\n",
    "    # set up figure\n",
    "    ax = fig.add_subplot(111, autoscale_on=False,\n",
    "                         xlim=(-25, 25), ylim=(-25, 25))\n",
    "    ax.grid()\n",
    "    line, = ax.plot([], [], 'o-', lw=4, mew=5, color='lightblue')\n",
    "    time_text = ax.text(0.02, 0.95, '', transform=ax.transAxes)\n",
    "\n",
    "    line.set_data([], [])\n",
    "    time_text.set_text('')\n",
    "    x = np.array([0, jnt2pos[0], jnt3pos[0], endEffectPos[0]])\n",
    "    y = np.array([0, jnt2pos[1], jnt3pos[1], endEffectPos[1]])\n",
    "    line.set_data((x,y))\n",
    "\n",
    "    if(not np.isnan(x1[0])):\n",
    "            plt.plot([jnt2pos[0],jnt3pos[0],x1[0],jnt2pos[0]],\n",
    "                     [jnt2pos[1],jnt3pos[1],y1[0],jnt2pos[1]],'o-', lw=2, mew=5, color='green')\n",
    "    if(not np.isnan(x1[1])):\n",
    "            plt.plot([jnt3pos[0],endEffectPos[0],x1[1],jnt3pos[0]],\n",
    "                     [jnt3pos[1],endEffectPos[1],y1[1],jnt3pos[1]],'o-', lw=2, mew=5, color='yellow')\n",
    "    \n",
    "    plt.plot([endEffectPos[0],x2[0]],[endEffectPos[1],y2[0]],'o-', lw=2, mew=5, color='lightblue')\n",
    "    plt.plot([endEffectPos[0],x2[1]],[endEffectPos[1],y2[1]],'o-', lw=2, mew=5, color='lightblue')\n",
    "\n",
    "\n",
    "    if step is not None:\n",
    "        step = np.array(step)\n",
    "        plt.scatter(step[:, 0],step[:, 1], color='lightblue', marker='o')\n",
    "        plt.plot(step[:, 0],step[:, 1], color='lightblue')\n",
    "    if target is not None:\n",
    "        target = np.array(target)\n",
    "        plt.scatter(target[:, 0],target[:, 1], color='red', marker='o')\n",
    "\n",
    "    camera.snap()"
   ]
  },
  {
   "cell_type": "markdown",
   "metadata": {},
   "source": [
    "In this part, let's plan some simple polynomial trajectories in the work space. "
   ]
  },
  {
   "cell_type": "markdown",
   "metadata": {},
   "source": [
    "First, setup a simple environment with the arm manipulator and four intermediate interpolation points."
   ]
  },
  {
   "cell_type": "code",
   "execution_count": 4,
   "metadata": {},
   "outputs": [],
   "source": [
    "def create_simulation(animation_index,samples):\n",
    "    \n",
    "    # Setup our new manipulator\n",
    "    arm = ThreeLinkArm()\n",
    "    \n",
    "    # define the initial configuration of the manipulator (you are welcomed to try other values)\n",
    "    initTheta = [np.deg2rad(0),np.deg2rad(45),np.deg2rad(-45)]\n",
    "\n",
    "    # Initialise the arm with the initial values\n",
    "    _ = arm.forwardKinematics(*initTheta)\n",
    "\n",
    "    # Get the initial end-effector position \n",
    "    init_joint2pos, init_joint3pos, EF_init_pos = arm.findJointPos()\n",
    "\n",
    "    # Define the target postions of the end-effector\n",
    "    # EF_target_pos = np.array([[EF_init_pos[0], 6.,2.,-4.,-8.],\n",
    "    #                           [EF_init_pos[1], -6.,8.,-5.,6.]]).T\n",
    "    ##Choose points randomly, choose x equally spaced and y randomly\n",
    "    L=arm.l1+arm.l2+arm.l3\n",
    "    print(L)\n",
    "    x_points=np.array([2/3*L, 1/3*L, -1/3*L, -2/3*L])\n",
    "\n",
    "    y_points=[]\n",
    "    R=3*L/4\n",
    "    for i in range(4):\n",
    "        y_points.append(random.uniform(-1*np.sqrt(R**2-x_points[i]**2),\n",
    "                                          np.sqrt(R**2-x_points[i]**2)))\n",
    "    y_points=np.array(y_points)\n",
    "    \n",
    "    EF_target_pos = np.array([[EF_init_pos[0], x_points[0],x_points[1],x_points[2],x_points[3]],\n",
    "                              [EF_init_pos[1], y_points[0],y_points[1],y_points[2],y_points[3]]]).T\n",
    "\n",
    "    # Plot the pose of the arm\n",
    "    #plotArm(*arm.findJointPos(), target=EF_target_pos)\n",
    "    print(f\"The interpolation points are stored in the variable \\\"EF_target_pos\\\": \\n{EF_target_pos}\")\n",
    "    \n",
    "    pol = np.polyfit(EF_target_pos[:, 0], EF_target_pos[:, 1], EF_target_pos.shape[0]-1)  # polynomial coefficients\n",
    "    \n",
    "    # Plotting the planned trajectory\n",
    "    #epsilon = 100\n",
    "    epsilon = samples\n",
    "    \n",
    "    xx = np.linspace(EF_target_pos[0,0],EF_target_pos[-1,0], epsilon)\n",
    "    yy = np.polyval(pol,xx)   \n",
    "    curve = np.hstack([xx[:, None], yy[:, None]]) \n",
    "    \n",
    "    interpolated_points=curve\n",
    "\n",
    "#     plotArm(*arm.findJointPos(), target=EF_target_pos, step=interpolated_points)\n",
    "    print(f\"The intermediate points are stored in the variable \\\"interpolated_points\\\"\")\n",
    "    \n",
    "    # set the current E-F position for the IK loop\n",
    "    joint2pos, joint3pos, endEffectorPos = init_joint2pos, init_joint3pos, EF_init_pos\n",
    "    # set the initial robot configuration\n",
    "    newTheta = initTheta\n",
    "\n",
    "    # Set up the animation generator\n",
    "    fig = plt.figure(figsize=(10,10))\n",
    "    camera = Camera(fig)\n",
    "\n",
    "    temp=np.random.randint(0,2,2)\n",
    "    temp_angle=np.random.randint(15,60,2) \n",
    "    print(temp)\n",
    "    print(temp_angle)\n",
    "    \n",
    "    temp_eeff_angle=np.append(np.linspace(0,45,int(interpolated_points.shape[0]/8)),\n",
    "                          np.linspace(45,0,int(interpolated_points.shape[0]/8)))\n",
    "    \n",
    "    eeff_len=np.random.randint(2,5)\n",
    "    \n",
    "    keypoints_data=pd.DataFrame(columns=range((4+np.sum(temp)+2)*2),dtype=float)\n",
    "\n",
    "    for i in range(interpolated_points.shape[0]):\n",
    "        J = arm.geomJacobian()\n",
    "\n",
    "        newgoal = interpolated_points[i, :]\n",
    "        deltaStep = newgoal - endEffectorPos\n",
    "        subtarget = np.array([deltaStep[0], deltaStep[1], 0]) \n",
    "\n",
    "        radTheta = np.linalg.pinv(J) @ subtarget\n",
    "        newTheta = newTheta + radTheta\n",
    "\n",
    "        # ----------- Do forward kinematics to plot the arm ---------------\n",
    "        _ = arm.forwardKinematics(newTheta[0],newTheta[1],newTheta[2])\n",
    "        joint2pos, joint3pos, endEffectorPos = arm.findJointPos()\n",
    "\n",
    "        x1=[]\n",
    "        y1=[]\n",
    "        x2=[]\n",
    "        y2=[]\n",
    "\n",
    "        if(temp[0]==1):\n",
    "            x1=x1+[arm.l1*np.cos(newTheta[0]) \\\n",
    "                   +2*np.cos(newTheta[0]+newTheta[1]+np.deg2rad(temp_angle[0]))]\n",
    "            y1=y1+[arm.l1*np.sin(newTheta[0]) \\\n",
    "                   +2*np.sin(newTheta[0]+newTheta[1]+np.deg2rad(temp_angle[0]))]\n",
    "        else:\n",
    "            x1=x1+[np.nan]\n",
    "            y1=y1+[np.nan]\n",
    "\n",
    "        if(temp[1]==1):\n",
    "            x1=x1+[arm.l1*np.cos(newTheta[0]) \\\n",
    "                   +arm.l2*np.cos(newTheta[0]+newTheta[1]) \\\n",
    "                   +2*np.cos(newTheta[0]+newTheta[1]+newTheta[2]+np.deg2rad(temp_angle[1]))]\n",
    "            y1=y1+[arm.l1*np.sin(newTheta[0]) \\\n",
    "                   +arm.l2*np.sin(newTheta[0]+newTheta[1]) \\\n",
    "                   +2*np.sin(newTheta[0]+newTheta[1]+newTheta[2]+np.deg2rad(temp_angle[1]))]\n",
    "        else:\n",
    "            x1=x1+[np.nan]\n",
    "            y1=y1+[np.nan]\n",
    "\n",
    "        x2=x2+[arm.l1*np.cos(newTheta[0]) \\\n",
    "               +arm.l2*np.cos(newTheta[0]+newTheta[1]) \\\n",
    "               +arm.l3*np.cos(newTheta[0]+newTheta[1]+newTheta[2]) \\\n",
    "               +eeff_len*np.cos(newTheta[0]+newTheta[1]+newTheta[2] \\\n",
    "                                +np.deg2rad(temp_eeff_angle[i%len(temp_eeff_angle)]))]\n",
    "    \n",
    "        y2=y2+[arm.l1*np.sin(newTheta[0]) \\\n",
    "               +arm.l2*np.sin(newTheta[0]+newTheta[1]) \\\n",
    "               +arm.l3*np.sin(newTheta[0]+newTheta[1]+newTheta[2]) \\\n",
    "               +eeff_len*np.sin(newTheta[0]+newTheta[1]+newTheta[2] \\\n",
    "                                +np.deg2rad(temp_eeff_angle[i%len(temp_eeff_angle)]))]\n",
    "        x2=x2+[arm.l1*np.cos(newTheta[0]) \\\n",
    "               +arm.l2*np.cos(newTheta[0]+newTheta[1]) \\\n",
    "               +arm.l3*np.cos(newTheta[0]+newTheta[1]+newTheta[2]) \\\n",
    "               +eeff_len*np.cos(newTheta[0]+newTheta[1]+newTheta[2] \\\n",
    "                                -np.deg2rad(temp_eeff_angle[i%len(temp_eeff_angle)]))]\n",
    "    \n",
    "        y2=y2+[arm.l1*np.sin(newTheta[0]) \\\n",
    "               +arm.l2*np.sin(newTheta[0]+newTheta[1]) \\\n",
    "               +arm.l3*np.sin(newTheta[0]+newTheta[1]+newTheta[2]) \\\n",
    "               +eeff_len*np.sin(newTheta[0]+newTheta[1]+newTheta[2] \\\n",
    "                                -np.deg2rad(temp_eeff_angle[i%len(temp_eeff_angle)]))]\n",
    "\n",
    "        temp_keypoints=np.array([0,0,joint2pos[0],joint2pos[1],joint3pos[0],joint3pos[1],\n",
    "                                 endEffectorPos[0],endEffectorPos[1]])\n",
    "        for k in range(len(temp)):\n",
    "            if(temp[k]!=0):\n",
    "                temp_keypoints=np.append(temp_keypoints,np.array([x1[k],y1[k]]))\n",
    "        \n",
    "        temp_keypoints=np.append(temp_keypoints,np.array([x2[0],y2[0],x2[1],y2[1]]))\n",
    "        \n",
    "        keypoints_data = keypoints_data.append(pd.DataFrame(temp_keypoints[None,:],columns=keypoints_data.columns),\n",
    "                                               ignore_index = True)\n",
    "        \n",
    "        plotArm2(joint2pos, joint3pos, endEffectorPos,x1,\n",
    "                 y1,x2,y2, target=EF_target_pos, fig=fig, camera=camera)\n",
    "\n",
    "\n",
    "    plt.close()\n",
    "    animation = camera.animate()\n",
    "    animation.save('./animated_motion/animated_motion'+str(animation_index)+'.gif', writer = 'imagemagick')\n",
    "    \n",
    "    # create the adjacency matrix\n",
    "    adj_mat_size=sum(np.invert(np.isnan(x1)))\n",
    "    adj_mat=np.zeros((4+adj_mat_size+2,4+adj_mat_size+2))\n",
    "    adj_mat[0][1]=1\n",
    "    adj_mat[1][2]=1\n",
    "    adj_mat[2][3]=1\n",
    "    c2=1\n",
    "    for i in range(len(x1)):\n",
    "        if(not np.isnan(x1[i])):\n",
    "            adj_mat[i+1][3+c2]=1\n",
    "            adj_mat[i+2][3+c2]=1\n",
    "            c2=c2+1\n",
    "    adj_mat[3][3+c2]=1\n",
    "    adj_mat[3][3+c2+1]=1\n",
    "    \n",
    "    pd.DataFrame(adj_mat).astype(int).to_csv('./animated_motion/adj_mat'+str(animation_index)+'.csv')\n",
    "    keypoints_data.to_csv('./animated_motion/ts_data'+str(animation_index)+'.csv')    \n",
    "    "
   ]
  },
  {
   "cell_type": "code",
   "execution_count": 5,
   "metadata": {},
   "outputs": [
    {
     "name": "stdout",
     "output_type": "stream",
     "text": [
      "13\n",
      "The interpolation points are stored in the variable \"EF_target_pos\": \n",
      "[[11.53553391  3.53553391]\n",
      " [ 8.66666667  2.32353919]\n",
      " [ 4.33333333  1.88523062]\n",
      " [-4.33333333 -5.84736547]\n",
      " [-8.66666667  4.18174203]]\n",
      "The intermediate points are stored in the variable \"interpolated_points\"\n",
      "[1 1]\n",
      "[32 33]\n"
     ]
    },
    {
     "name": "stderr",
     "output_type": "stream",
     "text": [
      "<ipython-input-3-99abad6b2bba>:29: MatplotlibDeprecationWarning: Adding an axes using the same arguments as a previous axes currently reuses the earlier instance.  In a future version, a new instance will always be created and returned.  Meanwhile, this warning can be suppressed, and the future behavior ensured, by passing a unique label to each axes instance.\n",
      "  ax = fig.add_subplot(111, autoscale_on=False,\n"
     ]
    }
   ],
   "source": [
    "create_simulation(617,50)"
   ]
  },
  {
   "cell_type": "code",
   "execution_count": 5,
   "metadata": {},
   "outputs": [
    {
     "name": "stdout",
     "output_type": "stream",
     "text": [
      "16\n",
      "The interpolation points are stored in the variable \"EF_target_pos\": \n",
      "[[ 15.12132034   2.12132034]\n",
      " [ 10.66666667   4.48362141]\n",
      " [  5.33333333   1.8843021 ]\n",
      " [ -5.33333333   5.56405713]\n",
      " [-10.66666667   2.74013626]]\n",
      "The intermediate points are stored in the variable \"interpolated_points\"\n",
      "[1 1]\n",
      "[31 18]\n"
     ]
    },
    {
     "name": "stderr",
     "output_type": "stream",
     "text": [
      "<ipython-input-3-99abad6b2bba>:29: MatplotlibDeprecationWarning: Adding an axes using the same arguments as a previous axes currently reuses the earlier instance.  In a future version, a new instance will always be created and returned.  Meanwhile, this warning can be suppressed, and the future behavior ensured, by passing a unique label to each axes instance.\n",
      "  ax = fig.add_subplot(111, autoscale_on=False,\n"
     ]
    }
   ],
   "source": [
    "create_simulation(609,200)"
   ]
  },
  {
   "cell_type": "code",
   "execution_count": 6,
   "metadata": {},
   "outputs": [],
   "source": [
    "import os\n",
    "os.environ['MAGICK_THREAD_LIMIT'] = '2'"
   ]
  },
  {
   "cell_type": "code",
   "execution_count": 7,
   "metadata": {},
   "outputs": [
    {
     "name": "stdout",
     "output_type": "stream",
     "text": [
      "11\n",
      "The interpolation points are stored in the variable \"EF_target_pos\": \n",
      "[[10.41421356  1.41421356]\n",
      " [ 7.33333333 -1.72272715]\n",
      " [ 3.66666667  0.12842678]\n",
      " [-3.66666667  4.18403181]\n",
      " [-7.33333333 -3.13131369]]\n",
      "The intermediate points are stored in the variable \"interpolated_points\"\n",
      "[1 1]\n",
      "[51 24]\n"
     ]
    },
    {
     "name": "stderr",
     "output_type": "stream",
     "text": [
      "<ipython-input-3-99abad6b2bba>:29: MatplotlibDeprecationWarning: Adding an axes using the same arguments as a previous axes currently reuses the earlier instance.  In a future version, a new instance will always be created and returned.  Meanwhile, this warning can be suppressed, and the future behavior ensured, by passing a unique label to each axes instance.\n",
      "  ax = fig.add_subplot(111, autoscale_on=False,\n"
     ]
    },
    {
     "name": "stdout",
     "output_type": "stream",
     "text": [
      "16\n",
      "The interpolation points are stored in the variable \"EF_target_pos\": \n",
      "[[ 13.94974747   4.94974747]\n",
      " [ 10.66666667   0.38622742]\n",
      " [  5.33333333  -2.41131452]\n",
      " [ -5.33333333  -6.77647358]\n",
      " [-10.66666667  -3.74992087]]\n",
      "The intermediate points are stored in the variable \"interpolated_points\"\n",
      "[1 0]\n",
      "[51 15]\n"
     ]
    },
    {
     "name": "stderr",
     "output_type": "stream",
     "text": [
      "<ipython-input-3-99abad6b2bba>:29: MatplotlibDeprecationWarning: Adding an axes using the same arguments as a previous axes currently reuses the earlier instance.  In a future version, a new instance will always be created and returned.  Meanwhile, this warning can be suppressed, and the future behavior ensured, by passing a unique label to each axes instance.\n",
      "  ax = fig.add_subplot(111, autoscale_on=False,\n"
     ]
    },
    {
     "name": "stdout",
     "output_type": "stream",
     "text": [
      "17\n",
      "The interpolation points are stored in the variable \"EF_target_pos\": \n",
      "[[ 14.94974747   4.94974747]\n",
      " [ 11.33333333   2.50550211]\n",
      " [  5.66666667  10.74665088]\n",
      " [ -5.66666667   1.05758805]\n",
      " [-11.33333333   2.42688992]]\n",
      "The intermediate points are stored in the variable \"interpolated_points\"\n",
      "[0 1]\n",
      "[46 19]\n"
     ]
    },
    {
     "name": "stderr",
     "output_type": "stream",
     "text": [
      "<ipython-input-3-99abad6b2bba>:29: MatplotlibDeprecationWarning: Adding an axes using the same arguments as a previous axes currently reuses the earlier instance.  In a future version, a new instance will always be created and returned.  Meanwhile, this warning can be suppressed, and the future behavior ensured, by passing a unique label to each axes instance.\n",
      "  ax = fig.add_subplot(111, autoscale_on=False,\n"
     ]
    },
    {
     "name": "stdout",
     "output_type": "stream",
     "text": [
      "14\n",
      "The interpolation points are stored in the variable \"EF_target_pos\": \n",
      "[[12.53553391  3.53553391]\n",
      " [ 9.33333333 -2.16039591]\n",
      " [ 4.66666667 -3.87299071]\n",
      " [-4.66666667 -1.14831664]\n",
      " [-9.33333333  2.06944916]]\n",
      "The intermediate points are stored in the variable \"interpolated_points\"\n",
      "[1 0]\n",
      "[19 45]\n"
     ]
    },
    {
     "name": "stderr",
     "output_type": "stream",
     "text": [
      "<ipython-input-3-99abad6b2bba>:29: MatplotlibDeprecationWarning: Adding an axes using the same arguments as a previous axes currently reuses the earlier instance.  In a future version, a new instance will always be created and returned.  Meanwhile, this warning can be suppressed, and the future behavior ensured, by passing a unique label to each axes instance.\n",
      "  ax = fig.add_subplot(111, autoscale_on=False,\n"
     ]
    },
    {
     "name": "stdout",
     "output_type": "stream",
     "text": [
      "17\n",
      "The interpolation points are stored in the variable \"EF_target_pos\": \n",
      "[[ 14.94974747   4.94974747]\n",
      " [ 11.33333333   5.42483509]\n",
      " [  5.66666667   6.45994955]\n",
      " [ -5.66666667  -3.10530085]\n",
      " [-11.33333333  -3.49339699]]\n",
      "The intermediate points are stored in the variable \"interpolated_points\"\n",
      "[0 1]\n",
      "[40 52]\n"
     ]
    },
    {
     "name": "stderr",
     "output_type": "stream",
     "text": [
      "<ipython-input-3-99abad6b2bba>:29: MatplotlibDeprecationWarning: Adding an axes using the same arguments as a previous axes currently reuses the earlier instance.  In a future version, a new instance will always be created and returned.  Meanwhile, this warning can be suppressed, and the future behavior ensured, by passing a unique label to each axes instance.\n",
      "  ax = fig.add_subplot(111, autoscale_on=False,\n"
     ]
    },
    {
     "name": "stdout",
     "output_type": "stream",
     "text": [
      "8\n",
      "The interpolation points are stored in the variable \"EF_target_pos\": \n",
      "[[ 7.12132034  2.12132034]\n",
      " [ 5.33333333  2.08606804]\n",
      " [ 2.66666667 -1.38848806]\n",
      " [-2.66666667  2.86618709]\n",
      " [-5.33333333  1.29465024]]\n",
      "The intermediate points are stored in the variable \"interpolated_points\"\n",
      "[1 1]\n",
      "[58 56]\n"
     ]
    },
    {
     "name": "stderr",
     "output_type": "stream",
     "text": [
      "<ipython-input-3-99abad6b2bba>:29: MatplotlibDeprecationWarning: Adding an axes using the same arguments as a previous axes currently reuses the earlier instance.  In a future version, a new instance will always be created and returned.  Meanwhile, this warning can be suppressed, and the future behavior ensured, by passing a unique label to each axes instance.\n",
      "  ax = fig.add_subplot(111, autoscale_on=False,\n"
     ]
    },
    {
     "name": "stdout",
     "output_type": "stream",
     "text": [
      "12\n",
      "The interpolation points are stored in the variable \"EF_target_pos\": \n",
      "[[10.53553391  3.53553391]\n",
      " [ 8.          3.59020596]\n",
      " [ 4.         -4.03905567]\n",
      " [-4.          7.79047822]\n",
      " [-8.         -3.02698286]]\n",
      "The intermediate points are stored in the variable \"interpolated_points\"\n",
      "[1 0]\n",
      "[46 26]\n"
     ]
    },
    {
     "name": "stderr",
     "output_type": "stream",
     "text": [
      "<ipython-input-3-99abad6b2bba>:29: MatplotlibDeprecationWarning: Adding an axes using the same arguments as a previous axes currently reuses the earlier instance.  In a future version, a new instance will always be created and returned.  Meanwhile, this warning can be suppressed, and the future behavior ensured, by passing a unique label to each axes instance.\n",
      "  ax = fig.add_subplot(111, autoscale_on=False,\n"
     ]
    },
    {
     "name": "stdout",
     "output_type": "stream",
     "text": [
      "16\n",
      "The interpolation points are stored in the variable \"EF_target_pos\": \n",
      "[[ 14.82842712   2.82842712]\n",
      " [ 10.66666667   5.20728618]\n",
      " [  5.33333333   3.69290697]\n",
      " [ -5.33333333   4.83306762]\n",
      " [-10.66666667  -3.310269  ]]\n",
      "The intermediate points are stored in the variable \"interpolated_points\"\n",
      "[0 0]\n",
      "[45 56]\n"
     ]
    },
    {
     "name": "stderr",
     "output_type": "stream",
     "text": [
      "<ipython-input-3-99abad6b2bba>:29: MatplotlibDeprecationWarning: Adding an axes using the same arguments as a previous axes currently reuses the earlier instance.  In a future version, a new instance will always be created and returned.  Meanwhile, this warning can be suppressed, and the future behavior ensured, by passing a unique label to each axes instance.\n",
      "  ax = fig.add_subplot(111, autoscale_on=False,\n"
     ]
    },
    {
     "name": "stdout",
     "output_type": "stream",
     "text": [
      "13\n",
      "The interpolation points are stored in the variable \"EF_target_pos\": \n",
      "[[11.82842712  2.82842712]\n",
      " [ 8.66666667  1.8131086 ]\n",
      " [ 4.33333333  8.23132853]\n",
      " [-4.33333333  4.18592375]\n",
      " [-8.66666667  0.08703521]]\n",
      "The intermediate points are stored in the variable \"interpolated_points\"\n",
      "[1 0]\n",
      "[54 50]\n"
     ]
    },
    {
     "name": "stderr",
     "output_type": "stream",
     "text": [
      "<ipython-input-3-99abad6b2bba>:29: MatplotlibDeprecationWarning: Adding an axes using the same arguments as a previous axes currently reuses the earlier instance.  In a future version, a new instance will always be created and returned.  Meanwhile, this warning can be suppressed, and the future behavior ensured, by passing a unique label to each axes instance.\n",
      "  ax = fig.add_subplot(111, autoscale_on=False,\n"
     ]
    },
    {
     "name": "stdout",
     "output_type": "stream",
     "text": [
      "13\n",
      "The interpolation points are stored in the variable \"EF_target_pos\": \n",
      "[[11.53553391  3.53553391]\n",
      " [ 8.66666667 -3.08956557]\n",
      " [ 4.33333333  6.86176482]\n",
      " [-4.33333333  0.42295449]\n",
      " [-8.66666667 -4.29878116]]\n",
      "The intermediate points are stored in the variable \"interpolated_points\"\n",
      "[1 0]\n",
      "[50 50]\n"
     ]
    },
    {
     "name": "stderr",
     "output_type": "stream",
     "text": [
      "<ipython-input-3-99abad6b2bba>:29: MatplotlibDeprecationWarning: Adding an axes using the same arguments as a previous axes currently reuses the earlier instance.  In a future version, a new instance will always be created and returned.  Meanwhile, this warning can be suppressed, and the future behavior ensured, by passing a unique label to each axes instance.\n",
      "  ax = fig.add_subplot(111, autoscale_on=False,\n"
     ]
    },
    {
     "name": "stdout",
     "output_type": "stream",
     "text": [
      "11\n",
      "The interpolation points are stored in the variable \"EF_target_pos\": \n",
      "[[ 9.82842712  2.82842712]\n",
      " [ 7.33333333 -0.9609898 ]\n",
      " [ 3.66666667  1.90482864]\n",
      " [-3.66666667 -0.95187771]\n",
      " [-7.33333333 -2.07607521]]\n",
      "The intermediate points are stored in the variable \"interpolated_points\"\n",
      "[0 0]\n",
      "[55 54]\n"
     ]
    },
    {
     "name": "stderr",
     "output_type": "stream",
     "text": [
      "<ipython-input-3-99abad6b2bba>:29: MatplotlibDeprecationWarning: Adding an axes using the same arguments as a previous axes currently reuses the earlier instance.  In a future version, a new instance will always be created and returned.  Meanwhile, this warning can be suppressed, and the future behavior ensured, by passing a unique label to each axes instance.\n",
      "  ax = fig.add_subplot(111, autoscale_on=False,\n"
     ]
    },
    {
     "name": "stdout",
     "output_type": "stream",
     "text": [
      "16\n",
      "The interpolation points are stored in the variable \"EF_target_pos\": \n",
      "[[ 14.53553391   3.53553391]\n",
      " [ 10.66666667   4.83382746]\n",
      " [  5.33333333  -9.19098064]\n",
      " [ -5.33333333  -1.74567214]\n",
      " [-10.66666667  -1.17731525]]\n",
      "The intermediate points are stored in the variable \"interpolated_points\"\n",
      "[0 0]\n",
      "[32 51]\n"
     ]
    },
    {
     "name": "stderr",
     "output_type": "stream",
     "text": [
      "<ipython-input-3-99abad6b2bba>:29: MatplotlibDeprecationWarning: Adding an axes using the same arguments as a previous axes currently reuses the earlier instance.  In a future version, a new instance will always be created and returned.  Meanwhile, this warning can be suppressed, and the future behavior ensured, by passing a unique label to each axes instance.\n",
      "  ax = fig.add_subplot(111, autoscale_on=False,\n"
     ]
    },
    {
     "name": "stdout",
     "output_type": "stream",
     "text": [
      "15\n",
      "The interpolation points are stored in the variable \"EF_target_pos\": \n",
      "[[ 12.94974747   4.94974747]\n",
      " [ 10.           3.48974822]\n",
      " [  5.           8.93536875]\n",
      " [ -5.          -3.71653666]\n",
      " [-10.           3.01301951]]\n",
      "The intermediate points are stored in the variable \"interpolated_points\"\n",
      "[0 0]\n",
      "[39 15]\n"
     ]
    },
    {
     "name": "stderr",
     "output_type": "stream",
     "text": [
      "<ipython-input-3-99abad6b2bba>:29: MatplotlibDeprecationWarning: Adding an axes using the same arguments as a previous axes currently reuses the earlier instance.  In a future version, a new instance will always be created and returned.  Meanwhile, this warning can be suppressed, and the future behavior ensured, by passing a unique label to each axes instance.\n",
      "  ax = fig.add_subplot(111, autoscale_on=False,\n"
     ]
    },
    {
     "name": "stdout",
     "output_type": "stream",
     "text": [
      "15\n",
      "The interpolation points are stored in the variable \"EF_target_pos\": \n",
      "[[ 14.41421356   1.41421356]\n",
      " [ 10.          -1.84002737]\n",
      " [  5.          -0.86796752]\n",
      " [ -5.           9.24742629]\n",
      " [-10.          -1.58451138]]\n",
      "The intermediate points are stored in the variable \"interpolated_points\"\n",
      "[1 0]\n",
      "[28 38]\n"
     ]
    },
    {
     "name": "stderr",
     "output_type": "stream",
     "text": [
      "<ipython-input-3-99abad6b2bba>:29: MatplotlibDeprecationWarning: Adding an axes using the same arguments as a previous axes currently reuses the earlier instance.  In a future version, a new instance will always be created and returned.  Meanwhile, this warning can be suppressed, and the future behavior ensured, by passing a unique label to each axes instance.\n",
      "  ax = fig.add_subplot(111, autoscale_on=False,\n"
     ]
    },
    {
     "name": "stdout",
     "output_type": "stream",
     "text": [
      "7\n",
      "The interpolation points are stored in the variable \"EF_target_pos\": \n",
      "[[ 6.12132034  2.12132034]\n",
      " [ 4.66666667 -1.72700833]\n",
      " [ 2.33333333 -0.41210847]\n",
      " [-2.33333333 -2.57745588]\n",
      " [-4.66666667  0.86895615]]\n",
      "The intermediate points are stored in the variable \"interpolated_points\"\n",
      "[0 0]\n",
      "[15 35]\n"
     ]
    },
    {
     "name": "stderr",
     "output_type": "stream",
     "text": [
      "<ipython-input-3-99abad6b2bba>:29: MatplotlibDeprecationWarning: Adding an axes using the same arguments as a previous axes currently reuses the earlier instance.  In a future version, a new instance will always be created and returned.  Meanwhile, this warning can be suppressed, and the future behavior ensured, by passing a unique label to each axes instance.\n",
      "  ax = fig.add_subplot(111, autoscale_on=False,\n"
     ]
    },
    {
     "name": "stdout",
     "output_type": "stream",
     "text": [
      "14\n",
      "The interpolation points are stored in the variable \"EF_target_pos\": \n",
      "[[12.24264069  4.24264069]\n",
      " [ 9.33333333 -4.08986308]\n",
      " [ 4.66666667  5.29077694]\n",
      " [-4.66666667 -4.56402548]\n",
      " [-9.33333333 -4.48780963]]\n",
      "The intermediate points are stored in the variable \"interpolated_points\"\n",
      "[1 1]\n",
      "[36 22]\n"
     ]
    },
    {
     "name": "stderr",
     "output_type": "stream",
     "text": [
      "<ipython-input-3-99abad6b2bba>:29: MatplotlibDeprecationWarning: Adding an axes using the same arguments as a previous axes currently reuses the earlier instance.  In a future version, a new instance will always be created and returned.  Meanwhile, this warning can be suppressed, and the future behavior ensured, by passing a unique label to each axes instance.\n",
      "  ax = fig.add_subplot(111, autoscale_on=False,\n"
     ]
    },
    {
     "name": "stdout",
     "output_type": "stream",
     "text": [
      "20\n",
      "The interpolation points are stored in the variable \"EF_target_pos\": \n",
      "[[ 17.94974747   4.94974747]\n",
      " [ 13.33333333  -2.90276391]\n",
      " [  6.66666667   5.70176579]\n",
      " [ -6.66666667  11.37632415]\n",
      " [-13.33333333  -4.32493498]]\n",
      "The intermediate points are stored in the variable \"interpolated_points\"\n",
      "[0 0]\n",
      "[24 50]\n"
     ]
    },
    {
     "name": "stderr",
     "output_type": "stream",
     "text": [
      "<ipython-input-3-99abad6b2bba>:29: MatplotlibDeprecationWarning: Adding an axes using the same arguments as a previous axes currently reuses the earlier instance.  In a future version, a new instance will always be created and returned.  Meanwhile, this warning can be suppressed, and the future behavior ensured, by passing a unique label to each axes instance.\n",
      "  ax = fig.add_subplot(111, autoscale_on=False,\n"
     ]
    },
    {
     "name": "stdout",
     "output_type": "stream",
     "text": [
      "8\n",
      "The interpolation points are stored in the variable \"EF_target_pos\": \n",
      "[[ 7.41421356  1.41421356]\n",
      " [ 5.33333333 -0.15830695]\n",
      " [ 2.66666667  1.47579883]\n",
      " [-2.66666667  0.79632225]\n",
      " [-5.33333333 -2.08691377]]\n",
      "The intermediate points are stored in the variable \"interpolated_points\"\n",
      "[1 0]\n",
      "[30 55]\n"
     ]
    },
    {
     "name": "stderr",
     "output_type": "stream",
     "text": [
      "<ipython-input-3-99abad6b2bba>:29: MatplotlibDeprecationWarning: Adding an axes using the same arguments as a previous axes currently reuses the earlier instance.  In a future version, a new instance will always be created and returned.  Meanwhile, this warning can be suppressed, and the future behavior ensured, by passing a unique label to each axes instance.\n",
      "  ax = fig.add_subplot(111, autoscale_on=False,\n"
     ]
    },
    {
     "name": "stdout",
     "output_type": "stream",
     "text": [
      "11\n",
      "The interpolation points are stored in the variable \"EF_target_pos\": \n",
      "[[10.12132034  2.12132034]\n",
      " [ 7.33333333  2.49496671]\n",
      " [ 3.66666667  3.14790157]\n",
      " [-3.66666667  6.52510731]\n",
      " [-7.33333333  0.57797047]]\n",
      "The intermediate points are stored in the variable \"interpolated_points\"\n",
      "[1 0]\n",
      "[37 52]\n"
     ]
    },
    {
     "name": "stderr",
     "output_type": "stream",
     "text": [
      "<ipython-input-3-99abad6b2bba>:29: MatplotlibDeprecationWarning: Adding an axes using the same arguments as a previous axes currently reuses the earlier instance.  In a future version, a new instance will always be created and returned.  Meanwhile, this warning can be suppressed, and the future behavior ensured, by passing a unique label to each axes instance.\n",
      "  ax = fig.add_subplot(111, autoscale_on=False,\n"
     ]
    },
    {
     "name": "stdout",
     "output_type": "stream",
     "text": [
      "17\n",
      "The interpolation points are stored in the variable \"EF_target_pos\": \n",
      "[[ 15.24264069   4.24264069]\n",
      " [ 11.33333333  -0.18033945]\n",
      " [  5.66666667  -6.57024995]\n",
      " [ -5.66666667   9.63182082]\n",
      " [-11.33333333   5.49335355]]\n",
      "The intermediate points are stored in the variable \"interpolated_points\"\n",
      "[1 1]\n",
      "[40 32]\n"
     ]
    },
    {
     "name": "stderr",
     "output_type": "stream",
     "text": [
      "<ipython-input-3-99abad6b2bba>:29: MatplotlibDeprecationWarning: Adding an axes using the same arguments as a previous axes currently reuses the earlier instance.  In a future version, a new instance will always be created and returned.  Meanwhile, this warning can be suppressed, and the future behavior ensured, by passing a unique label to each axes instance.\n",
      "  ax = fig.add_subplot(111, autoscale_on=False,\n"
     ]
    },
    {
     "name": "stdout",
     "output_type": "stream",
     "text": [
      "14\n",
      "The interpolation points are stored in the variable \"EF_target_pos\": \n",
      "[[12.53553391  3.53553391]\n",
      " [ 9.33333333  4.18635181]\n",
      " [ 4.66666667  0.73739971]\n",
      " [-4.66666667  8.5928142 ]\n",
      " [-9.33333333 -1.91607534]]\n",
      "The intermediate points are stored in the variable \"interpolated_points\"\n",
      "[1 0]\n",
      "[19 27]\n"
     ]
    },
    {
     "name": "stderr",
     "output_type": "stream",
     "text": [
      "<ipython-input-3-99abad6b2bba>:29: MatplotlibDeprecationWarning: Adding an axes using the same arguments as a previous axes currently reuses the earlier instance.  In a future version, a new instance will always be created and returned.  Meanwhile, this warning can be suppressed, and the future behavior ensured, by passing a unique label to each axes instance.\n",
      "  ax = fig.add_subplot(111, autoscale_on=False,\n"
     ]
    },
    {
     "name": "stdout",
     "output_type": "stream",
     "text": [
      "16\n",
      "The interpolation points are stored in the variable \"EF_target_pos\": \n",
      "[[ 14.24264069   4.24264069]\n",
      " [ 10.66666667  -1.7478165 ]\n",
      " [  5.33333333   8.92583734]\n",
      " [ -5.33333333   6.96655297]\n",
      " [-10.66666667  -2.64580456]]\n",
      "The intermediate points are stored in the variable \"interpolated_points\"\n",
      "[1 1]\n",
      "[42 52]\n"
     ]
    },
    {
     "name": "stderr",
     "output_type": "stream",
     "text": [
      "<ipython-input-3-99abad6b2bba>:29: MatplotlibDeprecationWarning: Adding an axes using the same arguments as a previous axes currently reuses the earlier instance.  In a future version, a new instance will always be created and returned.  Meanwhile, this warning can be suppressed, and the future behavior ensured, by passing a unique label to each axes instance.\n",
      "  ax = fig.add_subplot(111, autoscale_on=False,\n"
     ]
    },
    {
     "name": "stdout",
     "output_type": "stream",
     "text": [
      "13\n",
      "The interpolation points are stored in the variable \"EF_target_pos\": \n",
      "[[12.12132034  2.12132034]\n",
      " [ 8.66666667  2.52242513]\n",
      " [ 4.33333333 -6.96725957]\n",
      " [-4.33333333  2.74180543]\n",
      " [-8.66666667 -3.52800773]]\n",
      "The intermediate points are stored in the variable \"interpolated_points\"\n",
      "[0 1]\n",
      "[54 26]\n"
     ]
    },
    {
     "name": "stderr",
     "output_type": "stream",
     "text": [
      "<ipython-input-3-99abad6b2bba>:29: MatplotlibDeprecationWarning: Adding an axes using the same arguments as a previous axes currently reuses the earlier instance.  In a future version, a new instance will always be created and returned.  Meanwhile, this warning can be suppressed, and the future behavior ensured, by passing a unique label to each axes instance.\n",
      "  ax = fig.add_subplot(111, autoscale_on=False,\n"
     ]
    },
    {
     "name": "stdout",
     "output_type": "stream",
     "text": [
      "16\n",
      "The interpolation points are stored in the variable \"EF_target_pos\": \n",
      "[[ 14.24264069   4.24264069]\n",
      " [ 10.66666667   3.6285162 ]\n",
      " [  5.33333333  -1.89678193]\n",
      " [ -5.33333333   1.63131761]\n",
      " [-10.66666667   4.62490498]]\n",
      "The intermediate points are stored in the variable \"interpolated_points\"\n",
      "[1 1]\n",
      "[49 43]\n"
     ]
    },
    {
     "name": "stderr",
     "output_type": "stream",
     "text": [
      "<ipython-input-3-99abad6b2bba>:29: MatplotlibDeprecationWarning: Adding an axes using the same arguments as a previous axes currently reuses the earlier instance.  In a future version, a new instance will always be created and returned.  Meanwhile, this warning can be suppressed, and the future behavior ensured, by passing a unique label to each axes instance.\n",
      "  ax = fig.add_subplot(111, autoscale_on=False,\n"
     ]
    },
    {
     "name": "stdout",
     "output_type": "stream",
     "text": [
      "12\n",
      "The interpolation points are stored in the variable \"EF_target_pos\": \n",
      "[[10.82842712  2.82842712]\n",
      " [ 8.         -0.28355012]\n",
      " [ 4.         -1.56726376]\n",
      " [-4.          6.26235575]\n",
      " [-8.          4.0340254 ]]\n",
      "The intermediate points are stored in the variable \"interpolated_points\"\n",
      "[1 0]\n",
      "[33 42]\n"
     ]
    },
    {
     "name": "stderr",
     "output_type": "stream",
     "text": [
      "<ipython-input-3-99abad6b2bba>:29: MatplotlibDeprecationWarning: Adding an axes using the same arguments as a previous axes currently reuses the earlier instance.  In a future version, a new instance will always be created and returned.  Meanwhile, this warning can be suppressed, and the future behavior ensured, by passing a unique label to each axes instance.\n",
      "  ax = fig.add_subplot(111, autoscale_on=False,\n"
     ]
    },
    {
     "name": "stdout",
     "output_type": "stream",
     "text": [
      "12\n",
      "The interpolation points are stored in the variable \"EF_target_pos\": \n",
      "[[11.12132034  2.12132034]\n",
      " [ 8.         -0.35779601]\n",
      " [ 4.         -5.69933639]\n",
      " [-4.         -6.85658196]\n",
      " [-8.          2.98614944]]\n",
      "The intermediate points are stored in the variable \"interpolated_points\"\n",
      "[0 0]\n",
      "[21 58]\n"
     ]
    },
    {
     "name": "stderr",
     "output_type": "stream",
     "text": [
      "<ipython-input-3-99abad6b2bba>:29: MatplotlibDeprecationWarning: Adding an axes using the same arguments as a previous axes currently reuses the earlier instance.  In a future version, a new instance will always be created and returned.  Meanwhile, this warning can be suppressed, and the future behavior ensured, by passing a unique label to each axes instance.\n",
      "  ax = fig.add_subplot(111, autoscale_on=False,\n"
     ]
    },
    {
     "name": "stdout",
     "output_type": "stream",
     "text": [
      "11\n",
      "The interpolation points are stored in the variable \"EF_target_pos\": \n",
      "[[10.41421356  1.41421356]\n",
      " [ 7.33333333 -3.61756353]\n",
      " [ 3.66666667  0.11471599]\n",
      " [-3.66666667 -1.30252142]\n",
      " [-7.33333333 -0.8080374 ]]\n",
      "The intermediate points are stored in the variable \"interpolated_points\"\n",
      "[0 0]\n",
      "[21 39]\n"
     ]
    },
    {
     "name": "stderr",
     "output_type": "stream",
     "text": [
      "<ipython-input-3-99abad6b2bba>:29: MatplotlibDeprecationWarning: Adding an axes using the same arguments as a previous axes currently reuses the earlier instance.  In a future version, a new instance will always be created and returned.  Meanwhile, this warning can be suppressed, and the future behavior ensured, by passing a unique label to each axes instance.\n",
      "  ax = fig.add_subplot(111, autoscale_on=False,\n"
     ]
    },
    {
     "name": "stdout",
     "output_type": "stream",
     "text": [
      "18\n",
      "The interpolation points are stored in the variable \"EF_target_pos\": \n",
      "[[ 15.94974747   4.94974747]\n",
      " [ 12.           5.72100207]\n",
      " [  6.           2.81870854]\n",
      " [ -6.         -11.9852725 ]\n",
      " [-12.          -1.96842049]]\n",
      "The intermediate points are stored in the variable \"interpolated_points\"\n",
      "[1 1]\n",
      "[17 21]\n"
     ]
    },
    {
     "name": "stderr",
     "output_type": "stream",
     "text": [
      "<ipython-input-3-99abad6b2bba>:29: MatplotlibDeprecationWarning: Adding an axes using the same arguments as a previous axes currently reuses the earlier instance.  In a future version, a new instance will always be created and returned.  Meanwhile, this warning can be suppressed, and the future behavior ensured, by passing a unique label to each axes instance.\n",
      "  ax = fig.add_subplot(111, autoscale_on=False,\n"
     ]
    },
    {
     "name": "stdout",
     "output_type": "stream",
     "text": [
      "10\n",
      "The interpolation points are stored in the variable \"EF_target_pos\": \n",
      "[[ 9.12132034  2.12132034]\n",
      " [ 6.66666667 -2.80710345]\n",
      " [ 3.33333333  5.15694146]\n",
      " [-3.33333333 -6.58924539]\n",
      " [-6.66666667 -1.77216223]]\n",
      "The intermediate points are stored in the variable \"interpolated_points\"\n",
      "[0 0]\n",
      "[34 32]\n"
     ]
    },
    {
     "name": "stderr",
     "output_type": "stream",
     "text": [
      "<ipython-input-3-99abad6b2bba>:29: MatplotlibDeprecationWarning: Adding an axes using the same arguments as a previous axes currently reuses the earlier instance.  In a future version, a new instance will always be created and returned.  Meanwhile, this warning can be suppressed, and the future behavior ensured, by passing a unique label to each axes instance.\n",
      "  ax = fig.add_subplot(111, autoscale_on=False,\n"
     ]
    },
    {
     "name": "stdout",
     "output_type": "stream",
     "text": [
      "12\n",
      "The interpolation points are stored in the variable \"EF_target_pos\": \n",
      "[[10.82842712  2.82842712]\n",
      " [ 8.          1.65060199]\n",
      " [ 4.         -1.66732196]\n",
      " [-4.          1.14938199]\n",
      " [-8.         -3.09064527]]\n",
      "The intermediate points are stored in the variable \"interpolated_points\"\n",
      "[0 0]\n",
      "[42 18]\n"
     ]
    },
    {
     "name": "stderr",
     "output_type": "stream",
     "text": [
      "<ipython-input-3-99abad6b2bba>:29: MatplotlibDeprecationWarning: Adding an axes using the same arguments as a previous axes currently reuses the earlier instance.  In a future version, a new instance will always be created and returned.  Meanwhile, this warning can be suppressed, and the future behavior ensured, by passing a unique label to each axes instance.\n",
      "  ax = fig.add_subplot(111, autoscale_on=False,\n"
     ]
    },
    {
     "name": "stdout",
     "output_type": "stream",
     "text": [
      "11\n",
      "The interpolation points are stored in the variable \"EF_target_pos\": \n",
      "[[ 9.53553391  3.53553391]\n",
      " [ 7.33333333  0.02647069]\n",
      " [ 3.66666667  6.96990089]\n",
      " [-3.66666667 -1.6050309 ]\n",
      " [-7.33333333  1.49901889]]\n",
      "The intermediate points are stored in the variable \"interpolated_points\"\n",
      "[0 1]\n",
      "[58 25]\n"
     ]
    },
    {
     "name": "stderr",
     "output_type": "stream",
     "text": [
      "<ipython-input-3-99abad6b2bba>:29: MatplotlibDeprecationWarning: Adding an axes using the same arguments as a previous axes currently reuses the earlier instance.  In a future version, a new instance will always be created and returned.  Meanwhile, this warning can be suppressed, and the future behavior ensured, by passing a unique label to each axes instance.\n",
      "  ax = fig.add_subplot(111, autoscale_on=False,\n"
     ]
    },
    {
     "name": "stdout",
     "output_type": "stream",
     "text": [
      "11\n",
      "The interpolation points are stored in the variable \"EF_target_pos\": \n",
      "[[10.41421356  1.41421356]\n",
      " [ 7.33333333  0.75064458]\n",
      " [ 3.66666667  0.25335685]\n",
      " [-3.66666667  3.08198614]\n",
      " [-7.33333333 -3.49237536]]\n",
      "The intermediate points are stored in the variable \"interpolated_points\"\n",
      "[1 0]\n",
      "[25 40]\n"
     ]
    },
    {
     "name": "stderr",
     "output_type": "stream",
     "text": [
      "<ipython-input-3-99abad6b2bba>:29: MatplotlibDeprecationWarning: Adding an axes using the same arguments as a previous axes currently reuses the earlier instance.  In a future version, a new instance will always be created and returned.  Meanwhile, this warning can be suppressed, and the future behavior ensured, by passing a unique label to each axes instance.\n",
      "  ax = fig.add_subplot(111, autoscale_on=False,\n"
     ]
    },
    {
     "name": "stdout",
     "output_type": "stream",
     "text": [
      "12\n",
      "The interpolation points are stored in the variable \"EF_target_pos\": \n",
      "[[ 9.94974747  4.94974747]\n",
      " [ 8.          1.21702106]\n",
      " [ 4.         -6.57869935]\n",
      " [-4.         -7.62737376]\n",
      " [-8.         -3.3996039 ]]\n",
      "The intermediate points are stored in the variable \"interpolated_points\"\n",
      "[0 0]\n",
      "[20 20]\n"
     ]
    },
    {
     "name": "stderr",
     "output_type": "stream",
     "text": [
      "<ipython-input-3-99abad6b2bba>:29: MatplotlibDeprecationWarning: Adding an axes using the same arguments as a previous axes currently reuses the earlier instance.  In a future version, a new instance will always be created and returned.  Meanwhile, this warning can be suppressed, and the future behavior ensured, by passing a unique label to each axes instance.\n",
      "  ax = fig.add_subplot(111, autoscale_on=False,\n"
     ]
    },
    {
     "name": "stdout",
     "output_type": "stream",
     "text": [
      "17\n",
      "The interpolation points are stored in the variable \"EF_target_pos\": \n",
      "[[ 16.12132034   2.12132034]\n",
      " [ 11.33333333   3.81424665]\n",
      " [  5.66666667  -4.84407785]\n",
      " [ -5.66666667 -10.80717345]\n",
      " [-11.33333333   1.54632495]]\n",
      "The intermediate points are stored in the variable \"interpolated_points\"\n",
      "[1 0]\n",
      "[26 36]\n"
     ]
    },
    {
     "name": "stderr",
     "output_type": "stream",
     "text": [
      "<ipython-input-3-99abad6b2bba>:29: MatplotlibDeprecationWarning: Adding an axes using the same arguments as a previous axes currently reuses the earlier instance.  In a future version, a new instance will always be created and returned.  Meanwhile, this warning can be suppressed, and the future behavior ensured, by passing a unique label to each axes instance.\n",
      "  ax = fig.add_subplot(111, autoscale_on=False,\n"
     ]
    },
    {
     "name": "stdout",
     "output_type": "stream",
     "text": [
      "12\n",
      "The interpolation points are stored in the variable \"EF_target_pos\": \n",
      "[[11.12132034  2.12132034]\n",
      " [ 8.          2.11834083]\n",
      " [ 4.          0.24144852]\n",
      " [-4.         -6.76635424]\n",
      " [-8.          0.95871284]]\n",
      "The intermediate points are stored in the variable \"interpolated_points\"\n",
      "[0 0]\n",
      "[37 51]\n"
     ]
    },
    {
     "name": "stderr",
     "output_type": "stream",
     "text": [
      "<ipython-input-3-99abad6b2bba>:29: MatplotlibDeprecationWarning: Adding an axes using the same arguments as a previous axes currently reuses the earlier instance.  In a future version, a new instance will always be created and returned.  Meanwhile, this warning can be suppressed, and the future behavior ensured, by passing a unique label to each axes instance.\n",
      "  ax = fig.add_subplot(111, autoscale_on=False,\n"
     ]
    },
    {
     "name": "stdout",
     "output_type": "stream",
     "text": [
      "16\n",
      "The interpolation points are stored in the variable \"EF_target_pos\": \n",
      "[[ 13.94974747   4.94974747]\n",
      " [ 10.66666667   1.55841783]\n",
      " [  5.33333333  -6.76364488]\n",
      " [ -5.33333333  -7.37138367]\n",
      " [-10.66666667  -0.25411155]]\n",
      "The intermediate points are stored in the variable \"interpolated_points\"\n",
      "[0 0]\n",
      "[31 52]\n"
     ]
    },
    {
     "name": "stderr",
     "output_type": "stream",
     "text": [
      "<ipython-input-3-99abad6b2bba>:29: MatplotlibDeprecationWarning: Adding an axes using the same arguments as a previous axes currently reuses the earlier instance.  In a future version, a new instance will always be created and returned.  Meanwhile, this warning can be suppressed, and the future behavior ensured, by passing a unique label to each axes instance.\n",
      "  ax = fig.add_subplot(111, autoscale_on=False,\n"
     ]
    },
    {
     "name": "stdout",
     "output_type": "stream",
     "text": [
      "16\n",
      "The interpolation points are stored in the variable \"EF_target_pos\": \n",
      "[[ 14.24264069   4.24264069]\n",
      " [ 10.66666667  -1.81141608]\n",
      " [  5.33333333  -9.15255132]\n",
      " [ -5.33333333  -0.74834198]\n",
      " [-10.66666667  -2.71495125]]\n",
      "The intermediate points are stored in the variable \"interpolated_points\"\n",
      "[1 0]\n",
      "[56 41]\n"
     ]
    },
    {
     "name": "stderr",
     "output_type": "stream",
     "text": [
      "<ipython-input-3-99abad6b2bba>:29: MatplotlibDeprecationWarning: Adding an axes using the same arguments as a previous axes currently reuses the earlier instance.  In a future version, a new instance will always be created and returned.  Meanwhile, this warning can be suppressed, and the future behavior ensured, by passing a unique label to each axes instance.\n",
      "  ax = fig.add_subplot(111, autoscale_on=False,\n"
     ]
    },
    {
     "name": "stdout",
     "output_type": "stream",
     "text": [
      "12\n",
      "The interpolation points are stored in the variable \"EF_target_pos\": \n",
      "[[ 9.94974747  4.94974747]\n",
      " [ 8.         -3.58025322]\n",
      " [ 4.         -4.1759866 ]\n",
      " [-4.         -4.10109685]\n",
      " [-8.          2.56111296]]\n",
      "The intermediate points are stored in the variable \"interpolated_points\"\n",
      "[1 1]\n",
      "[43 27]\n"
     ]
    },
    {
     "name": "stderr",
     "output_type": "stream",
     "text": [
      "<ipython-input-3-99abad6b2bba>:29: MatplotlibDeprecationWarning: Adding an axes using the same arguments as a previous axes currently reuses the earlier instance.  In a future version, a new instance will always be created and returned.  Meanwhile, this warning can be suppressed, and the future behavior ensured, by passing a unique label to each axes instance.\n",
      "  ax = fig.add_subplot(111, autoscale_on=False,\n"
     ]
    },
    {
     "name": "stdout",
     "output_type": "stream",
     "text": [
      "17\n",
      "The interpolation points are stored in the variable \"EF_target_pos\": \n",
      "[[ 14.94974747   4.94974747]\n",
      " [ 11.33333333  -3.60671837]\n",
      " [  5.66666667   3.1249709 ]\n",
      " [ -5.66666667  -5.56652876]\n",
      " [-11.33333333  -5.43938835]]\n",
      "The intermediate points are stored in the variable \"interpolated_points\"\n",
      "[1 1]\n",
      "[32 55]\n"
     ]
    },
    {
     "name": "stderr",
     "output_type": "stream",
     "text": [
      "<ipython-input-3-99abad6b2bba>:29: MatplotlibDeprecationWarning: Adding an axes using the same arguments as a previous axes currently reuses the earlier instance.  In a future version, a new instance will always be created and returned.  Meanwhile, this warning can be suppressed, and the future behavior ensured, by passing a unique label to each axes instance.\n",
      "  ax = fig.add_subplot(111, autoscale_on=False,\n"
     ]
    },
    {
     "name": "stdout",
     "output_type": "stream",
     "text": [
      "18\n",
      "The interpolation points are stored in the variable \"EF_target_pos\": \n",
      "[[ 16.53553391   3.53553391]\n",
      " [ 12.           1.20274317]\n",
      " [  6.          10.53470051]\n",
      " [ -6.          -6.45466778]\n",
      " [-12.           0.4956052 ]]\n",
      "The intermediate points are stored in the variable \"interpolated_points\"\n",
      "[0 1]\n",
      "[41 31]\n"
     ]
    },
    {
     "name": "stderr",
     "output_type": "stream",
     "text": [
      "<ipython-input-3-99abad6b2bba>:29: MatplotlibDeprecationWarning: Adding an axes using the same arguments as a previous axes currently reuses the earlier instance.  In a future version, a new instance will always be created and returned.  Meanwhile, this warning can be suppressed, and the future behavior ensured, by passing a unique label to each axes instance.\n",
      "  ax = fig.add_subplot(111, autoscale_on=False,\n"
     ]
    },
    {
     "name": "stdout",
     "output_type": "stream",
     "text": [
      "17\n",
      "The interpolation points are stored in the variable \"EF_target_pos\": \n",
      "[[ 14.94974747   4.94974747]\n",
      " [ 11.33333333   0.86398604]\n",
      " [  5.66666667   3.6788022 ]\n",
      " [ -5.66666667  -0.92172281]\n",
      " [-11.33333333  -4.62988097]]\n",
      "The intermediate points are stored in the variable \"interpolated_points\"\n",
      "[0 1]\n",
      "[19 35]\n"
     ]
    },
    {
     "name": "stderr",
     "output_type": "stream",
     "text": [
      "<ipython-input-3-99abad6b2bba>:29: MatplotlibDeprecationWarning: Adding an axes using the same arguments as a previous axes currently reuses the earlier instance.  In a future version, a new instance will always be created and returned.  Meanwhile, this warning can be suppressed, and the future behavior ensured, by passing a unique label to each axes instance.\n",
      "  ax = fig.add_subplot(111, autoscale_on=False,\n"
     ]
    },
    {
     "name": "stdout",
     "output_type": "stream",
     "text": [
      "13\n",
      "The interpolation points are stored in the variable \"EF_target_pos\": \n",
      "[[11.53553391  3.53553391]\n",
      " [ 8.66666667  0.61539846]\n",
      " [ 4.33333333 -6.95604198]\n",
      " [-4.33333333 -7.1046828 ]\n",
      " [-8.66666667  1.51278914]]\n",
      "The intermediate points are stored in the variable \"interpolated_points\"\n",
      "[0 1]\n",
      "[43 51]\n"
     ]
    },
    {
     "name": "stderr",
     "output_type": "stream",
     "text": [
      "<ipython-input-3-99abad6b2bba>:29: MatplotlibDeprecationWarning: Adding an axes using the same arguments as a previous axes currently reuses the earlier instance.  In a future version, a new instance will always be created and returned.  Meanwhile, this warning can be suppressed, and the future behavior ensured, by passing a unique label to each axes instance.\n",
      "  ax = fig.add_subplot(111, autoscale_on=False,\n"
     ]
    },
    {
     "name": "stdout",
     "output_type": "stream",
     "text": [
      "8\n",
      "The interpolation points are stored in the variable \"EF_target_pos\": \n",
      "[[ 7.41421356  1.41421356]\n",
      " [ 5.33333333 -2.02078128]\n",
      " [ 2.66666667  2.05276961]\n",
      " [-2.66666667 -3.52513825]\n",
      " [-5.33333333  0.34602872]]\n",
      "The intermediate points are stored in the variable \"interpolated_points\"\n",
      "[1 1]\n",
      "[27 39]\n"
     ]
    },
    {
     "name": "stderr",
     "output_type": "stream",
     "text": [
      "<ipython-input-3-99abad6b2bba>:29: MatplotlibDeprecationWarning: Adding an axes using the same arguments as a previous axes currently reuses the earlier instance.  In a future version, a new instance will always be created and returned.  Meanwhile, this warning can be suppressed, and the future behavior ensured, by passing a unique label to each axes instance.\n",
      "  ax = fig.add_subplot(111, autoscale_on=False,\n"
     ]
    },
    {
     "name": "stdout",
     "output_type": "stream",
     "text": [
      "9\n",
      "The interpolation points are stored in the variable \"EF_target_pos\": \n",
      "[[ 8.12132034  2.12132034]\n",
      " [ 6.         -2.37981195]\n",
      " [ 3.         -2.77731126]\n",
      " [-3.          2.86875098]\n",
      " [-6.          3.03471337]]\n",
      "The intermediate points are stored in the variable \"interpolated_points\"\n",
      "[0 0]\n",
      "[24 31]\n"
     ]
    },
    {
     "name": "stderr",
     "output_type": "stream",
     "text": [
      "<ipython-input-3-99abad6b2bba>:29: MatplotlibDeprecationWarning: Adding an axes using the same arguments as a previous axes currently reuses the earlier instance.  In a future version, a new instance will always be created and returned.  Meanwhile, this warning can be suppressed, and the future behavior ensured, by passing a unique label to each axes instance.\n",
      "  ax = fig.add_subplot(111, autoscale_on=False,\n"
     ]
    },
    {
     "name": "stdout",
     "output_type": "stream",
     "text": [
      "16\n",
      "The interpolation points are stored in the variable \"EF_target_pos\": \n",
      "[[ 14.24264069   4.24264069]\n",
      " [ 10.66666667   2.12334353]\n",
      " [  5.33333333  -5.22659779]\n",
      " [ -5.33333333  -8.9866107 ]\n",
      " [-10.66666667  -0.36338103]]\n",
      "The intermediate points are stored in the variable \"interpolated_points\"\n",
      "[0 0]\n",
      "[15 46]\n"
     ]
    },
    {
     "name": "stderr",
     "output_type": "stream",
     "text": [
      "<ipython-input-3-99abad6b2bba>:29: MatplotlibDeprecationWarning: Adding an axes using the same arguments as a previous axes currently reuses the earlier instance.  In a future version, a new instance will always be created and returned.  Meanwhile, this warning can be suppressed, and the future behavior ensured, by passing a unique label to each axes instance.\n",
      "  ax = fig.add_subplot(111, autoscale_on=False,\n"
     ]
    },
    {
     "name": "stdout",
     "output_type": "stream",
     "text": [
      "21\n",
      "The interpolation points are stored in the variable \"EF_target_pos\": \n",
      "[[ 18.94974747   4.94974747]\n",
      " [ 14.          -3.59094374]\n",
      " [  7.          -9.99473568]\n",
      " [ -7.          -3.34462092]\n",
      " [-14.          -0.95545715]]\n",
      "The intermediate points are stored in the variable \"interpolated_points\"\n",
      "[1 1]\n",
      "[24 21]\n"
     ]
    },
    {
     "name": "stderr",
     "output_type": "stream",
     "text": [
      "<ipython-input-3-99abad6b2bba>:29: MatplotlibDeprecationWarning: Adding an axes using the same arguments as a previous axes currently reuses the earlier instance.  In a future version, a new instance will always be created and returned.  Meanwhile, this warning can be suppressed, and the future behavior ensured, by passing a unique label to each axes instance.\n",
      "  ax = fig.add_subplot(111, autoscale_on=False,\n"
     ]
    },
    {
     "name": "stdout",
     "output_type": "stream",
     "text": [
      "14\n",
      "The interpolation points are stored in the variable \"EF_target_pos\": \n",
      "[[11.94974747  4.94974747]\n",
      " [ 9.33333333  0.21996228]\n",
      " [ 4.66666667 -7.84746779]\n",
      " [-4.66666667 -3.7437301 ]\n",
      " [-9.33333333  0.36624906]]\n",
      "The intermediate points are stored in the variable \"interpolated_points\"\n",
      "[0 1]\n",
      "[55 41]\n"
     ]
    },
    {
     "name": "stderr",
     "output_type": "stream",
     "text": [
      "<ipython-input-3-99abad6b2bba>:29: MatplotlibDeprecationWarning: Adding an axes using the same arguments as a previous axes currently reuses the earlier instance.  In a future version, a new instance will always be created and returned.  Meanwhile, this warning can be suppressed, and the future behavior ensured, by passing a unique label to each axes instance.\n",
      "  ax = fig.add_subplot(111, autoscale_on=False,\n"
     ]
    },
    {
     "name": "stdout",
     "output_type": "stream",
     "text": [
      "13\n",
      "The interpolation points are stored in the variable \"EF_target_pos\": \n",
      "[[12.41421356  1.41421356]\n",
      " [ 8.66666667  1.8737608 ]\n",
      " [ 4.33333333 -3.48140141]\n",
      " [-4.33333333 -0.13668802]\n",
      " [-8.66666667  2.61884115]]\n",
      "The intermediate points are stored in the variable \"interpolated_points\"\n",
      "[0 1]\n",
      "[46 50]\n"
     ]
    },
    {
     "name": "stderr",
     "output_type": "stream",
     "text": [
      "<ipython-input-3-99abad6b2bba>:29: MatplotlibDeprecationWarning: Adding an axes using the same arguments as a previous axes currently reuses the earlier instance.  In a future version, a new instance will always be created and returned.  Meanwhile, this warning can be suppressed, and the future behavior ensured, by passing a unique label to each axes instance.\n",
      "  ax = fig.add_subplot(111, autoscale_on=False,\n"
     ]
    },
    {
     "name": "stdout",
     "output_type": "stream",
     "text": [
      "16\n",
      "The interpolation points are stored in the variable \"EF_target_pos\": \n",
      "[[ 14.53553391   3.53553391]\n",
      " [ 10.66666667  -0.97999513]\n",
      " [  5.33333333 -10.10111253]\n",
      " [ -5.33333333   1.88549511]\n",
      " [-10.66666667   0.23578929]]\n",
      "The intermediate points are stored in the variable \"interpolated_points\"\n",
      "[0 0]\n",
      "[51 58]\n"
     ]
    },
    {
     "name": "stderr",
     "output_type": "stream",
     "text": [
      "<ipython-input-3-99abad6b2bba>:29: MatplotlibDeprecationWarning: Adding an axes using the same arguments as a previous axes currently reuses the earlier instance.  In a future version, a new instance will always be created and returned.  Meanwhile, this warning can be suppressed, and the future behavior ensured, by passing a unique label to each axes instance.\n",
      "  ax = fig.add_subplot(111, autoscale_on=False,\n"
     ]
    },
    {
     "name": "stdout",
     "output_type": "stream",
     "text": [
      "12\n",
      "The interpolation points are stored in the variable \"EF_target_pos\": \n",
      "[[10.24264069  4.24264069]\n",
      " [ 8.         -2.23358047]\n",
      " [ 4.          6.8926644 ]\n",
      " [-4.         -7.74920535]\n",
      " [-8.         -1.94999529]]\n",
      "The intermediate points are stored in the variable \"interpolated_points\"\n",
      "[0 0]\n",
      "[30 26]\n"
     ]
    },
    {
     "name": "stderr",
     "output_type": "stream",
     "text": [
      "<ipython-input-3-99abad6b2bba>:29: MatplotlibDeprecationWarning: Adding an axes using the same arguments as a previous axes currently reuses the earlier instance.  In a future version, a new instance will always be created and returned.  Meanwhile, this warning can be suppressed, and the future behavior ensured, by passing a unique label to each axes instance.\n",
      "  ax = fig.add_subplot(111, autoscale_on=False,\n"
     ]
    },
    {
     "name": "stdout",
     "output_type": "stream",
     "text": [
      "15\n",
      "The interpolation points are stored in the variable \"EF_target_pos\": \n",
      "[[ 14.41421356   1.41421356]\n",
      " [ 10.           4.53224584]\n",
      " [  5.           7.69791879]\n",
      " [ -5.          -8.29156103]\n",
      " [-10.          -2.39498106]]\n",
      "The intermediate points are stored in the variable \"interpolated_points\"\n",
      "[0 1]\n",
      "[44 25]\n"
     ]
    },
    {
     "name": "stderr",
     "output_type": "stream",
     "text": [
      "<ipython-input-3-99abad6b2bba>:29: MatplotlibDeprecationWarning: Adding an axes using the same arguments as a previous axes currently reuses the earlier instance.  In a future version, a new instance will always be created and returned.  Meanwhile, this warning can be suppressed, and the future behavior ensured, by passing a unique label to each axes instance.\n",
      "  ax = fig.add_subplot(111, autoscale_on=False,\n"
     ]
    },
    {
     "name": "stdout",
     "output_type": "stream",
     "text": [
      "19\n",
      "The interpolation points are stored in the variable \"EF_target_pos\": \n",
      "[[ 17.24264069   4.24264069]\n",
      " [ 12.66666667   4.60769918]\n",
      " [  6.33333333  11.61582192]\n",
      " [ -6.33333333   6.89798137]\n",
      " [-12.66666667  -6.45333625]]\n",
      "The intermediate points are stored in the variable \"interpolated_points\"\n",
      "[0 0]\n",
      "[51 31]\n"
     ]
    },
    {
     "name": "stderr",
     "output_type": "stream",
     "text": [
      "<ipython-input-3-99abad6b2bba>:29: MatplotlibDeprecationWarning: Adding an axes using the same arguments as a previous axes currently reuses the earlier instance.  In a future version, a new instance will always be created and returned.  Meanwhile, this warning can be suppressed, and the future behavior ensured, by passing a unique label to each axes instance.\n",
      "  ax = fig.add_subplot(111, autoscale_on=False,\n"
     ]
    },
    {
     "name": "stdout",
     "output_type": "stream",
     "text": [
      "19\n",
      "The interpolation points are stored in the variable \"EF_target_pos\": \n",
      "[[ 16.94974747   4.94974747]\n",
      " [ 12.66666667  -6.15401645]\n",
      " [  6.33333333  -4.28270273]\n",
      " [ -6.33333333   4.61434452]\n",
      " [-12.66666667   2.85589691]]\n",
      "The intermediate points are stored in the variable \"interpolated_points\"\n",
      "[1 1]\n",
      "[33 45]\n"
     ]
    },
    {
     "name": "stderr",
     "output_type": "stream",
     "text": [
      "<ipython-input-3-99abad6b2bba>:29: MatplotlibDeprecationWarning: Adding an axes using the same arguments as a previous axes currently reuses the earlier instance.  In a future version, a new instance will always be created and returned.  Meanwhile, this warning can be suppressed, and the future behavior ensured, by passing a unique label to each axes instance.\n",
      "  ax = fig.add_subplot(111, autoscale_on=False,\n"
     ]
    },
    {
     "name": "stdout",
     "output_type": "stream",
     "text": [
      "12\n",
      "The interpolation points are stored in the variable \"EF_target_pos\": \n",
      "[[11.41421356  1.41421356]\n",
      " [ 8.          3.67298655]\n",
      " [ 4.          7.4974907 ]\n",
      " [-4.         -0.38022679]\n",
      " [-8.          3.24530494]]\n",
      "The intermediate points are stored in the variable \"interpolated_points\"\n",
      "[0 1]\n",
      "[51 38]\n"
     ]
    },
    {
     "name": "stderr",
     "output_type": "stream",
     "text": [
      "<ipython-input-3-99abad6b2bba>:29: MatplotlibDeprecationWarning: Adding an axes using the same arguments as a previous axes currently reuses the earlier instance.  In a future version, a new instance will always be created and returned.  Meanwhile, this warning can be suppressed, and the future behavior ensured, by passing a unique label to each axes instance.\n",
      "  ax = fig.add_subplot(111, autoscale_on=False,\n"
     ]
    },
    {
     "name": "stdout",
     "output_type": "stream",
     "text": [
      "12\n",
      "The interpolation points are stored in the variable \"EF_target_pos\": \n",
      "[[11.12132034  2.12132034]\n",
      " [ 8.         -1.78181774]\n",
      " [ 4.         -5.28213592]\n",
      " [-4.          7.42092644]\n",
      " [-8.         -2.78614139]]\n",
      "The intermediate points are stored in the variable \"interpolated_points\"\n",
      "[0 1]\n",
      "[15 15]\n"
     ]
    },
    {
     "name": "stderr",
     "output_type": "stream",
     "text": [
      "<ipython-input-3-99abad6b2bba>:29: MatplotlibDeprecationWarning: Adding an axes using the same arguments as a previous axes currently reuses the earlier instance.  In a future version, a new instance will always be created and returned.  Meanwhile, this warning can be suppressed, and the future behavior ensured, by passing a unique label to each axes instance.\n",
      "  ax = fig.add_subplot(111, autoscale_on=False,\n"
     ]
    },
    {
     "name": "stdout",
     "output_type": "stream",
     "text": [
      "16\n",
      "The interpolation points are stored in the variable \"EF_target_pos\": \n",
      "[[ 13.94974747   4.94974747]\n",
      " [ 10.66666667   4.6144311 ]\n",
      " [  5.33333333  -8.16277335]\n",
      " [ -5.33333333  -9.59568726]\n",
      " [-10.66666667   5.43770536]]\n",
      "The intermediate points are stored in the variable \"interpolated_points\"\n",
      "[1 1]\n",
      "[15 37]\n"
     ]
    },
    {
     "name": "stderr",
     "output_type": "stream",
     "text": [
      "<ipython-input-3-99abad6b2bba>:29: MatplotlibDeprecationWarning: Adding an axes using the same arguments as a previous axes currently reuses the earlier instance.  In a future version, a new instance will always be created and returned.  Meanwhile, this warning can be suppressed, and the future behavior ensured, by passing a unique label to each axes instance.\n",
      "  ax = fig.add_subplot(111, autoscale_on=False,\n"
     ]
    },
    {
     "name": "stdout",
     "output_type": "stream",
     "text": [
      "11\n",
      "The interpolation points are stored in the variable \"EF_target_pos\": \n",
      "[[10.41421356  1.41421356]\n",
      " [ 7.33333333  2.71214258]\n",
      " [ 3.66666667  5.34590572]\n",
      " [-3.66666667  3.19328234]\n",
      " [-7.33333333  3.69810276]]\n",
      "The intermediate points are stored in the variable \"interpolated_points\"\n",
      "[0 1]\n",
      "[46 58]\n"
     ]
    },
    {
     "name": "stderr",
     "output_type": "stream",
     "text": [
      "<ipython-input-3-99abad6b2bba>:29: MatplotlibDeprecationWarning: Adding an axes using the same arguments as a previous axes currently reuses the earlier instance.  In a future version, a new instance will always be created and returned.  Meanwhile, this warning can be suppressed, and the future behavior ensured, by passing a unique label to each axes instance.\n",
      "  ax = fig.add_subplot(111, autoscale_on=False,\n"
     ]
    },
    {
     "name": "stdout",
     "output_type": "stream",
     "text": [
      "15\n",
      "The interpolation points are stored in the variable \"EF_target_pos\": \n",
      "[[ 14.12132034   2.12132034]\n",
      " [ 10.          -3.86783544]\n",
      " [  5.          -3.21760626]\n",
      " [ -5.           0.29987481]\n",
      " [-10.          -4.83888268]]\n",
      "The intermediate points are stored in the variable \"interpolated_points\"\n",
      "[0 0]\n",
      "[26 42]\n"
     ]
    },
    {
     "name": "stderr",
     "output_type": "stream",
     "text": [
      "<ipython-input-3-99abad6b2bba>:29: MatplotlibDeprecationWarning: Adding an axes using the same arguments as a previous axes currently reuses the earlier instance.  In a future version, a new instance will always be created and returned.  Meanwhile, this warning can be suppressed, and the future behavior ensured, by passing a unique label to each axes instance.\n",
      "  ax = fig.add_subplot(111, autoscale_on=False,\n"
     ]
    },
    {
     "name": "stdout",
     "output_type": "stream",
     "text": [
      "13\n",
      "The interpolation points are stored in the variable \"EF_target_pos\": \n",
      "[[12.12132034  2.12132034]\n",
      " [ 8.66666667 -0.89112174]\n",
      " [ 4.33333333  6.14038069]\n",
      " [-4.33333333 -0.92163133]\n",
      " [-8.66666667 -1.2560185 ]]\n",
      "The intermediate points are stored in the variable \"interpolated_points\"\n",
      "[1 1]\n",
      "[57 42]\n"
     ]
    },
    {
     "name": "stderr",
     "output_type": "stream",
     "text": [
      "<ipython-input-3-99abad6b2bba>:29: MatplotlibDeprecationWarning: Adding an axes using the same arguments as a previous axes currently reuses the earlier instance.  In a future version, a new instance will always be created and returned.  Meanwhile, this warning can be suppressed, and the future behavior ensured, by passing a unique label to each axes instance.\n",
      "  ax = fig.add_subplot(111, autoscale_on=False,\n"
     ]
    },
    {
     "name": "stdout",
     "output_type": "stream",
     "text": [
      "18\n",
      "The interpolation points are stored in the variable \"EF_target_pos\": \n",
      "[[ 15.94974747   4.94974747]\n",
      " [ 12.          -4.26735303]\n",
      " [  6.           5.93225073]\n",
      " [ -6.          -5.62509854]\n",
      " [-12.           5.74540268]]\n",
      "The intermediate points are stored in the variable \"interpolated_points\"\n",
      "[0 0]\n",
      "[28 31]\n"
     ]
    },
    {
     "name": "stderr",
     "output_type": "stream",
     "text": [
      "<ipython-input-3-99abad6b2bba>:29: MatplotlibDeprecationWarning: Adding an axes using the same arguments as a previous axes currently reuses the earlier instance.  In a future version, a new instance will always be created and returned.  Meanwhile, this warning can be suppressed, and the future behavior ensured, by passing a unique label to each axes instance.\n",
      "  ax = fig.add_subplot(111, autoscale_on=False,\n"
     ]
    },
    {
     "name": "stdout",
     "output_type": "stream",
     "text": [
      "10\n",
      "The interpolation points are stored in the variable \"EF_target_pos\": \n",
      "[[ 9.41421356  1.41421356]\n",
      " [ 6.66666667  1.8949809 ]\n",
      " [ 3.33333333  3.14288604]\n",
      " [-3.33333333 -6.08472582]\n",
      " [-6.66666667 -1.85045246]]\n",
      "The intermediate points are stored in the variable \"interpolated_points\"\n",
      "[0 1]\n",
      "[28 54]\n"
     ]
    },
    {
     "name": "stderr",
     "output_type": "stream",
     "text": [
      "<ipython-input-3-99abad6b2bba>:29: MatplotlibDeprecationWarning: Adding an axes using the same arguments as a previous axes currently reuses the earlier instance.  In a future version, a new instance will always be created and returned.  Meanwhile, this warning can be suppressed, and the future behavior ensured, by passing a unique label to each axes instance.\n",
      "  ax = fig.add_subplot(111, autoscale_on=False,\n"
     ]
    },
    {
     "name": "stdout",
     "output_type": "stream",
     "text": [
      "12\n",
      "The interpolation points are stored in the variable \"EF_target_pos\": \n",
      "[[11.41421356  1.41421356]\n",
      " [ 8.         -3.42961222]\n",
      " [ 4.          7.32211029]\n",
      " [-4.         -0.95952659]\n",
      " [-8.         -3.53075472]]\n",
      "The intermediate points are stored in the variable \"interpolated_points\"\n",
      "[0 1]\n",
      "[48 20]\n"
     ]
    },
    {
     "name": "stderr",
     "output_type": "stream",
     "text": [
      "<ipython-input-3-99abad6b2bba>:29: MatplotlibDeprecationWarning: Adding an axes using the same arguments as a previous axes currently reuses the earlier instance.  In a future version, a new instance will always be created and returned.  Meanwhile, this warning can be suppressed, and the future behavior ensured, by passing a unique label to each axes instance.\n",
      "  ax = fig.add_subplot(111, autoscale_on=False,\n"
     ]
    },
    {
     "name": "stdout",
     "output_type": "stream",
     "text": [
      "11\n",
      "The interpolation points are stored in the variable \"EF_target_pos\": \n",
      "[[ 9.82842712  2.82842712]\n",
      " [ 7.33333333  0.92008615]\n",
      " [ 3.66666667 -3.95192025]\n",
      " [-3.66666667 -5.87991899]\n",
      " [-7.33333333  0.46299524]]\n",
      "The intermediate points are stored in the variable \"interpolated_points\"\n",
      "[0 0]\n",
      "[48 26]\n"
     ]
    },
    {
     "name": "stderr",
     "output_type": "stream",
     "text": [
      "<ipython-input-3-99abad6b2bba>:29: MatplotlibDeprecationWarning: Adding an axes using the same arguments as a previous axes currently reuses the earlier instance.  In a future version, a new instance will always be created and returned.  Meanwhile, this warning can be suppressed, and the future behavior ensured, by passing a unique label to each axes instance.\n",
      "  ax = fig.add_subplot(111, autoscale_on=False,\n"
     ]
    },
    {
     "name": "stdout",
     "output_type": "stream",
     "text": [
      "16\n",
      "The interpolation points are stored in the variable \"EF_target_pos\": \n",
      "[[ 14.82842712   2.82842712]\n",
      " [ 10.66666667  -2.44305234]\n",
      " [  5.33333333   7.34346181]\n",
      " [ -5.33333333  -6.29347879]\n",
      " [-10.66666667  -1.30301617]]\n",
      "The intermediate points are stored in the variable \"interpolated_points\"\n",
      "[1 1]\n",
      "[46 19]\n"
     ]
    },
    {
     "name": "stderr",
     "output_type": "stream",
     "text": [
      "<ipython-input-3-99abad6b2bba>:29: MatplotlibDeprecationWarning: Adding an axes using the same arguments as a previous axes currently reuses the earlier instance.  In a future version, a new instance will always be created and returned.  Meanwhile, this warning can be suppressed, and the future behavior ensured, by passing a unique label to each axes instance.\n",
      "  ax = fig.add_subplot(111, autoscale_on=False,\n"
     ]
    },
    {
     "name": "stdout",
     "output_type": "stream",
     "text": [
      "11\n",
      "The interpolation points are stored in the variable \"EF_target_pos\": \n",
      "[[10.41421356  1.41421356]\n",
      " [ 7.33333333 -2.17556221]\n",
      " [ 3.66666667 -4.89421126]\n",
      " [-3.66666667 -2.99577322]\n",
      " [-7.33333333  1.56540477]]\n",
      "The intermediate points are stored in the variable \"interpolated_points\"\n",
      "[0 0]\n",
      "[46 44]\n"
     ]
    },
    {
     "name": "stderr",
     "output_type": "stream",
     "text": [
      "<ipython-input-3-99abad6b2bba>:29: MatplotlibDeprecationWarning: Adding an axes using the same arguments as a previous axes currently reuses the earlier instance.  In a future version, a new instance will always be created and returned.  Meanwhile, this warning can be suppressed, and the future behavior ensured, by passing a unique label to each axes instance.\n",
      "  ax = fig.add_subplot(111, autoscale_on=False,\n"
     ]
    },
    {
     "name": "stdout",
     "output_type": "stream",
     "text": [
      "16\n",
      "The interpolation points are stored in the variable \"EF_target_pos\": \n",
      "[[ 15.12132034   2.12132034]\n",
      " [ 10.66666667   4.53483129]\n",
      " [  5.33333333   3.25252687]\n",
      " [ -5.33333333   9.68909093]\n",
      " [-10.66666667  -2.2164481 ]]\n",
      "The intermediate points are stored in the variable \"interpolated_points\"\n",
      "[1 1]\n",
      "[39 28]\n"
     ]
    },
    {
     "name": "stderr",
     "output_type": "stream",
     "text": [
      "<ipython-input-3-99abad6b2bba>:29: MatplotlibDeprecationWarning: Adding an axes using the same arguments as a previous axes currently reuses the earlier instance.  In a future version, a new instance will always be created and returned.  Meanwhile, this warning can be suppressed, and the future behavior ensured, by passing a unique label to each axes instance.\n",
      "  ax = fig.add_subplot(111, autoscale_on=False,\n"
     ]
    },
    {
     "name": "stdout",
     "output_type": "stream",
     "text": [
      "13\n",
      "The interpolation points are stored in the variable \"EF_target_pos\": \n",
      "[[11.53553391  3.53553391]\n",
      " [ 8.66666667 -1.93021216]\n",
      " [ 4.33333333 -1.76556106]\n",
      " [-4.33333333 -2.10552284]\n",
      " [-8.66666667 -4.42139866]]\n",
      "The intermediate points are stored in the variable \"interpolated_points\"\n",
      "[0 1]\n",
      "[53 53]\n"
     ]
    },
    {
     "name": "stderr",
     "output_type": "stream",
     "text": [
      "<ipython-input-3-99abad6b2bba>:29: MatplotlibDeprecationWarning: Adding an axes using the same arguments as a previous axes currently reuses the earlier instance.  In a future version, a new instance will always be created and returned.  Meanwhile, this warning can be suppressed, and the future behavior ensured, by passing a unique label to each axes instance.\n",
      "  ax = fig.add_subplot(111, autoscale_on=False,\n"
     ]
    },
    {
     "name": "stdout",
     "output_type": "stream",
     "text": [
      "15\n",
      "The interpolation points are stored in the variable \"EF_target_pos\": \n",
      "[[ 13.24264069   4.24264069]\n",
      " [ 10.          -0.3869346 ]\n",
      " [  5.           0.19867215]\n",
      " [ -5.           3.72576058]\n",
      " [-10.          -1.45481434]]\n",
      "The intermediate points are stored in the variable \"interpolated_points\"\n",
      "[1 0]\n",
      "[55 52]\n"
     ]
    },
    {
     "name": "stderr",
     "output_type": "stream",
     "text": [
      "<ipython-input-3-99abad6b2bba>:29: MatplotlibDeprecationWarning: Adding an axes using the same arguments as a previous axes currently reuses the earlier instance.  In a future version, a new instance will always be created and returned.  Meanwhile, this warning can be suppressed, and the future behavior ensured, by passing a unique label to each axes instance.\n",
      "  ax = fig.add_subplot(111, autoscale_on=False,\n"
     ]
    },
    {
     "name": "stdout",
     "output_type": "stream",
     "text": [
      "14\n",
      "The interpolation points are stored in the variable \"EF_target_pos\": \n",
      "[[12.82842712  2.82842712]\n",
      " [ 9.33333333  0.95753502]\n",
      " [ 4.66666667 -5.79621249]\n",
      " [-4.66666667  1.88516491]\n",
      " [-9.33333333  3.76421637]]\n",
      "The intermediate points are stored in the variable \"interpolated_points\"\n",
      "[1 0]\n",
      "[44 32]\n"
     ]
    },
    {
     "name": "stderr",
     "output_type": "stream",
     "text": [
      "<ipython-input-3-99abad6b2bba>:29: MatplotlibDeprecationWarning: Adding an axes using the same arguments as a previous axes currently reuses the earlier instance.  In a future version, a new instance will always be created and returned.  Meanwhile, this warning can be suppressed, and the future behavior ensured, by passing a unique label to each axes instance.\n",
      "  ax = fig.add_subplot(111, autoscale_on=False,\n"
     ]
    },
    {
     "name": "stdout",
     "output_type": "stream",
     "text": [
      "19\n",
      "The interpolation points are stored in the variable \"EF_target_pos\": \n",
      "[[ 1.69497475e+01  4.94974747e+00]\n",
      " [ 1.26666667e+01 -1.48881707e-02]\n",
      " [ 6.33333333e+00 -8.63756747e+00]\n",
      " [-6.33333333e+00  1.03901823e+01]\n",
      " [-1.26666667e+01 -6.27874802e-01]]\n",
      "The intermediate points are stored in the variable \"interpolated_points\"\n",
      "[0 0]\n",
      "[37 52]\n"
     ]
    },
    {
     "name": "stderr",
     "output_type": "stream",
     "text": [
      "<ipython-input-3-99abad6b2bba>:29: MatplotlibDeprecationWarning: Adding an axes using the same arguments as a previous axes currently reuses the earlier instance.  In a future version, a new instance will always be created and returned.  Meanwhile, this warning can be suppressed, and the future behavior ensured, by passing a unique label to each axes instance.\n",
      "  ax = fig.add_subplot(111, autoscale_on=False,\n"
     ]
    },
    {
     "name": "stdout",
     "output_type": "stream",
     "text": [
      "13\n",
      "The interpolation points are stored in the variable \"EF_target_pos\": \n",
      "[[11.24264069  4.24264069]\n",
      " [ 8.66666667 -0.54812226]\n",
      " [ 4.33333333 -4.43745702]\n",
      " [-4.33333333  2.46383466]\n",
      " [-8.66666667 -0.81279041]]\n",
      "The intermediate points are stored in the variable \"interpolated_points\"\n",
      "[1 0]\n",
      "[35 42]\n"
     ]
    },
    {
     "name": "stderr",
     "output_type": "stream",
     "text": [
      "<ipython-input-3-99abad6b2bba>:29: MatplotlibDeprecationWarning: Adding an axes using the same arguments as a previous axes currently reuses the earlier instance.  In a future version, a new instance will always be created and returned.  Meanwhile, this warning can be suppressed, and the future behavior ensured, by passing a unique label to each axes instance.\n",
      "  ax = fig.add_subplot(111, autoscale_on=False,\n"
     ]
    },
    {
     "name": "stdout",
     "output_type": "stream",
     "text": [
      "13\n",
      "The interpolation points are stored in the variable \"EF_target_pos\": \n",
      "[[11.53553391  3.53553391]\n",
      " [ 8.66666667  0.19821926]\n",
      " [ 4.33333333 -4.38328601]\n",
      " [-4.33333333 -3.25794295]\n",
      " [-8.66666667  0.36436895]]\n",
      "The intermediate points are stored in the variable \"interpolated_points\"\n",
      "[0 0]\n",
      "[57 22]\n"
     ]
    },
    {
     "name": "stderr",
     "output_type": "stream",
     "text": [
      "<ipython-input-3-99abad6b2bba>:29: MatplotlibDeprecationWarning: Adding an axes using the same arguments as a previous axes currently reuses the earlier instance.  In a future version, a new instance will always be created and returned.  Meanwhile, this warning can be suppressed, and the future behavior ensured, by passing a unique label to each axes instance.\n",
      "  ax = fig.add_subplot(111, autoscale_on=False,\n"
     ]
    },
    {
     "name": "stdout",
     "output_type": "stream",
     "text": [
      "15\n",
      "The interpolation points are stored in the variable \"EF_target_pos\": \n",
      "[[ 13.53553391   3.53553391]\n",
      " [ 10.           2.84651054]\n",
      " [  5.           2.44079188]\n",
      " [ -5.           5.7447298 ]\n",
      " [-10.          -1.18708507]]\n",
      "The intermediate points are stored in the variable \"interpolated_points\"\n",
      "[1 0]\n",
      "[49 32]\n"
     ]
    },
    {
     "name": "stderr",
     "output_type": "stream",
     "text": [
      "<ipython-input-3-99abad6b2bba>:29: MatplotlibDeprecationWarning: Adding an axes using the same arguments as a previous axes currently reuses the earlier instance.  In a future version, a new instance will always be created and returned.  Meanwhile, this warning can be suppressed, and the future behavior ensured, by passing a unique label to each axes instance.\n",
      "  ax = fig.add_subplot(111, autoscale_on=False,\n"
     ]
    },
    {
     "name": "stdout",
     "output_type": "stream",
     "text": [
      "9\n",
      "The interpolation points are stored in the variable \"EF_target_pos\": \n",
      "[[ 7.82842712  2.82842712]\n",
      " [ 6.          1.39582791]\n",
      " [ 3.          2.03103151]\n",
      " [-3.          3.37619361]\n",
      " [-6.          2.88610229]]\n",
      "The intermediate points are stored in the variable \"interpolated_points\"\n",
      "[1 0]\n",
      "[44 59]\n"
     ]
    },
    {
     "name": "stderr",
     "output_type": "stream",
     "text": [
      "<ipython-input-3-99abad6b2bba>:29: MatplotlibDeprecationWarning: Adding an axes using the same arguments as a previous axes currently reuses the earlier instance.  In a future version, a new instance will always be created and returned.  Meanwhile, this warning can be suppressed, and the future behavior ensured, by passing a unique label to each axes instance.\n",
      "  ax = fig.add_subplot(111, autoscale_on=False,\n"
     ]
    },
    {
     "name": "stdout",
     "output_type": "stream",
     "text": [
      "11\n",
      "The interpolation points are stored in the variable \"EF_target_pos\": \n",
      "[[10.12132034  2.12132034]\n",
      " [ 7.33333333  0.64956037]\n",
      " [ 3.66666667  5.7000759 ]\n",
      " [-3.66666667  3.83458481]\n",
      " [-7.33333333  3.50442869]]\n",
      "The intermediate points are stored in the variable \"interpolated_points\"\n",
      "[1 1]\n",
      "[52 21]\n"
     ]
    },
    {
     "name": "stderr",
     "output_type": "stream",
     "text": [
      "<ipython-input-3-99abad6b2bba>:29: MatplotlibDeprecationWarning: Adding an axes using the same arguments as a previous axes currently reuses the earlier instance.  In a future version, a new instance will always be created and returned.  Meanwhile, this warning can be suppressed, and the future behavior ensured, by passing a unique label to each axes instance.\n",
      "  ax = fig.add_subplot(111, autoscale_on=False,\n"
     ]
    },
    {
     "name": "stdout",
     "output_type": "stream",
     "text": [
      "15\n",
      "The interpolation points are stored in the variable \"EF_target_pos\": \n",
      "[[ 14.12132034   2.12132034]\n",
      " [ 10.           3.39111722]\n",
      " [  5.           7.86728092]\n",
      " [ -5.          -7.38506504]\n",
      " [-10.          -3.60515806]]\n",
      "The intermediate points are stored in the variable \"interpolated_points\"\n",
      "[0 0]\n",
      "[24 51]\n"
     ]
    },
    {
     "name": "stderr",
     "output_type": "stream",
     "text": [
      "<ipython-input-3-99abad6b2bba>:29: MatplotlibDeprecationWarning: Adding an axes using the same arguments as a previous axes currently reuses the earlier instance.  In a future version, a new instance will always be created and returned.  Meanwhile, this warning can be suppressed, and the future behavior ensured, by passing a unique label to each axes instance.\n",
      "  ax = fig.add_subplot(111, autoscale_on=False,\n"
     ]
    },
    {
     "name": "stdout",
     "output_type": "stream",
     "text": [
      "15\n",
      "The interpolation points are stored in the variable \"EF_target_pos\": \n",
      "[[ 13.82842712   2.82842712]\n",
      " [ 10.          -1.94863871]\n",
      " [  5.           5.95116189]\n",
      " [ -5.           3.04526049]\n",
      " [-10.          -4.68495172]]\n",
      "The intermediate points are stored in the variable \"interpolated_points\"\n",
      "[0 1]\n",
      "[34 26]\n"
     ]
    },
    {
     "name": "stderr",
     "output_type": "stream",
     "text": [
      "<ipython-input-3-99abad6b2bba>:29: MatplotlibDeprecationWarning: Adding an axes using the same arguments as a previous axes currently reuses the earlier instance.  In a future version, a new instance will always be created and returned.  Meanwhile, this warning can be suppressed, and the future behavior ensured, by passing a unique label to each axes instance.\n",
      "  ax = fig.add_subplot(111, autoscale_on=False,\n"
     ]
    },
    {
     "name": "stdout",
     "output_type": "stream",
     "text": [
      "11\n",
      "The interpolation points are stored in the variable \"EF_target_pos\": \n",
      "[[10.41421356  1.41421356]\n",
      " [ 7.33333333  1.43430229]\n",
      " [ 3.66666667  1.70625438]\n",
      " [-3.66666667  6.13214888]\n",
      " [-7.33333333 -2.55553617]]\n",
      "The intermediate points are stored in the variable \"interpolated_points\"\n",
      "[1 0]\n",
      "[26 38]\n"
     ]
    },
    {
     "name": "stderr",
     "output_type": "stream",
     "text": [
      "<ipython-input-3-99abad6b2bba>:29: MatplotlibDeprecationWarning: Adding an axes using the same arguments as a previous axes currently reuses the earlier instance.  In a future version, a new instance will always be created and returned.  Meanwhile, this warning can be suppressed, and the future behavior ensured, by passing a unique label to each axes instance.\n",
      "  ax = fig.add_subplot(111, autoscale_on=False,\n"
     ]
    },
    {
     "name": "stdout",
     "output_type": "stream",
     "text": [
      "11\n",
      "The interpolation points are stored in the variable \"EF_target_pos\": \n",
      "[[ 9.53553391  3.53553391]\n",
      " [ 7.33333333  3.12773757]\n",
      " [ 3.66666667  1.09213805]\n",
      " [-3.66666667 -7.01167017]\n",
      " [-7.33333333 -2.28643212]]\n",
      "The intermediate points are stored in the variable \"interpolated_points\"\n",
      "[0 0]\n",
      "[20 35]\n"
     ]
    },
    {
     "name": "stderr",
     "output_type": "stream",
     "text": [
      "<ipython-input-3-99abad6b2bba>:29: MatplotlibDeprecationWarning: Adding an axes using the same arguments as a previous axes currently reuses the earlier instance.  In a future version, a new instance will always be created and returned.  Meanwhile, this warning can be suppressed, and the future behavior ensured, by passing a unique label to each axes instance.\n",
      "  ax = fig.add_subplot(111, autoscale_on=False,\n"
     ]
    },
    {
     "name": "stdout",
     "output_type": "stream",
     "text": [
      "14\n",
      "The interpolation points are stored in the variable \"EF_target_pos\": \n",
      "[[13.12132034  2.12132034]\n",
      " [ 9.33333333  1.94877188]\n",
      " [ 4.66666667 -5.71244467]\n",
      " [-4.66666667  6.52915865]\n",
      " [-9.33333333 -1.06587612]]\n",
      "The intermediate points are stored in the variable \"interpolated_points\"\n",
      "[1 0]\n",
      "[24 30]\n"
     ]
    },
    {
     "name": "stderr",
     "output_type": "stream",
     "text": [
      "<ipython-input-3-99abad6b2bba>:29: MatplotlibDeprecationWarning: Adding an axes using the same arguments as a previous axes currently reuses the earlier instance.  In a future version, a new instance will always be created and returned.  Meanwhile, this warning can be suppressed, and the future behavior ensured, by passing a unique label to each axes instance.\n",
      "  ax = fig.add_subplot(111, autoscale_on=False,\n"
     ]
    },
    {
     "name": "stdout",
     "output_type": "stream",
     "text": [
      "10\n",
      "The interpolation points are stored in the variable \"EF_target_pos\": \n",
      "[[ 9.41421356  1.41421356]\n",
      " [ 6.66666667  2.80961613]\n",
      " [ 3.33333333 -1.64462805]\n",
      " [-3.33333333  2.68640536]\n",
      " [-6.66666667 -2.4200819 ]]\n",
      "The intermediate points are stored in the variable \"interpolated_points\"\n",
      "[1 1]\n",
      "[35 56]\n"
     ]
    },
    {
     "name": "stderr",
     "output_type": "stream",
     "text": [
      "<ipython-input-3-99abad6b2bba>:29: MatplotlibDeprecationWarning: Adding an axes using the same arguments as a previous axes currently reuses the earlier instance.  In a future version, a new instance will always be created and returned.  Meanwhile, this warning can be suppressed, and the future behavior ensured, by passing a unique label to each axes instance.\n",
      "  ax = fig.add_subplot(111, autoscale_on=False,\n"
     ]
    },
    {
     "name": "stdout",
     "output_type": "stream",
     "text": [
      "15\n",
      "The interpolation points are stored in the variable \"EF_target_pos\": \n",
      "[[ 13.82842712   2.82842712]\n",
      " [ 10.           0.37993077]\n",
      " [  5.           8.51818116]\n",
      " [ -5.          -0.24156077]\n",
      " [-10.          -1.54863502]]\n",
      "The intermediate points are stored in the variable \"interpolated_points\"\n",
      "[1 1]\n",
      "[20 57]\n"
     ]
    },
    {
     "name": "stderr",
     "output_type": "stream",
     "text": [
      "<ipython-input-3-99abad6b2bba>:29: MatplotlibDeprecationWarning: Adding an axes using the same arguments as a previous axes currently reuses the earlier instance.  In a future version, a new instance will always be created and returned.  Meanwhile, this warning can be suppressed, and the future behavior ensured, by passing a unique label to each axes instance.\n",
      "  ax = fig.add_subplot(111, autoscale_on=False,\n"
     ]
    },
    {
     "name": "stdout",
     "output_type": "stream",
     "text": [
      "10\n",
      "The interpolation points are stored in the variable \"EF_target_pos\": \n",
      "[[ 9.12132034  2.12132034]\n",
      " [ 6.66666667 -2.81545163]\n",
      " [ 3.33333333 -0.95779695]\n",
      " [-3.33333333  2.46513293]\n",
      " [-6.66666667  2.95615415]]\n",
      "The intermediate points are stored in the variable \"interpolated_points\"\n",
      "[1 0]\n",
      "[38 48]\n"
     ]
    },
    {
     "name": "stderr",
     "output_type": "stream",
     "text": [
      "<ipython-input-3-99abad6b2bba>:29: MatplotlibDeprecationWarning: Adding an axes using the same arguments as a previous axes currently reuses the earlier instance.  In a future version, a new instance will always be created and returned.  Meanwhile, this warning can be suppressed, and the future behavior ensured, by passing a unique label to each axes instance.\n",
      "  ax = fig.add_subplot(111, autoscale_on=False,\n"
     ]
    },
    {
     "name": "stdout",
     "output_type": "stream",
     "text": [
      "17\n",
      "The interpolation points are stored in the variable \"EF_target_pos\": \n",
      "[[ 14.94974747   4.94974747]\n",
      " [ 11.33333333   0.56395372]\n",
      " [  5.66666667   5.62404298]\n",
      " [ -5.66666667   7.89710145]\n",
      " [-11.33333333   2.23837445]]\n",
      "The intermediate points are stored in the variable \"interpolated_points\"\n",
      "[1 0]\n",
      "[39 42]\n"
     ]
    },
    {
     "name": "stderr",
     "output_type": "stream",
     "text": [
      "<ipython-input-3-99abad6b2bba>:29: MatplotlibDeprecationWarning: Adding an axes using the same arguments as a previous axes currently reuses the earlier instance.  In a future version, a new instance will always be created and returned.  Meanwhile, this warning can be suppressed, and the future behavior ensured, by passing a unique label to each axes instance.\n",
      "  ax = fig.add_subplot(111, autoscale_on=False,\n"
     ]
    },
    {
     "name": "stdout",
     "output_type": "stream",
     "text": [
      "13\n",
      "The interpolation points are stored in the variable \"EF_target_pos\": \n",
      "[[10.94974747  4.94974747]\n",
      " [ 8.66666667  3.55588428]\n",
      " [ 4.33333333  7.32374981]\n",
      " [-4.33333333 -1.79403365]\n",
      " [-8.66666667 -3.8459597 ]]\n",
      "The intermediate points are stored in the variable \"interpolated_points\"\n",
      "[0 0]\n",
      "[19 38]\n"
     ]
    },
    {
     "name": "stderr",
     "output_type": "stream",
     "text": [
      "<ipython-input-3-99abad6b2bba>:29: MatplotlibDeprecationWarning: Adding an axes using the same arguments as a previous axes currently reuses the earlier instance.  In a future version, a new instance will always be created and returned.  Meanwhile, this warning can be suppressed, and the future behavior ensured, by passing a unique label to each axes instance.\n",
      "  ax = fig.add_subplot(111, autoscale_on=False,\n"
     ]
    },
    {
     "name": "stdout",
     "output_type": "stream",
     "text": [
      "13\n",
      "The interpolation points are stored in the variable \"EF_target_pos\": \n",
      "[[11.53553391  3.53553391]\n",
      " [ 8.66666667  2.85269571]\n",
      " [ 4.33333333 -7.94249004]\n",
      " [-4.33333333 -8.66682255]\n",
      " [-8.66666667  1.88011755]]\n",
      "The intermediate points are stored in the variable \"interpolated_points\"\n",
      "[0 1]\n",
      "[30 37]\n"
     ]
    },
    {
     "name": "stderr",
     "output_type": "stream",
     "text": [
      "<ipython-input-3-99abad6b2bba>:29: MatplotlibDeprecationWarning: Adding an axes using the same arguments as a previous axes currently reuses the earlier instance.  In a future version, a new instance will always be created and returned.  Meanwhile, this warning can be suppressed, and the future behavior ensured, by passing a unique label to each axes instance.\n",
      "  ax = fig.add_subplot(111, autoscale_on=False,\n"
     ]
    },
    {
     "name": "stdout",
     "output_type": "stream",
     "text": [
      "20\n",
      "The interpolation points are stored in the variable \"EF_target_pos\": \n",
      "[[ 18.24264069   4.24264069]\n",
      " [ 13.33333333  -3.01213264]\n",
      " [  6.66666667   1.85046769]\n",
      " [ -6.66666667  -5.07585936]\n",
      " [-13.33333333  -1.57872755]]\n",
      "The intermediate points are stored in the variable \"interpolated_points\"\n",
      "[1 1]\n",
      "[32 43]\n"
     ]
    },
    {
     "name": "stderr",
     "output_type": "stream",
     "text": [
      "<ipython-input-3-99abad6b2bba>:29: MatplotlibDeprecationWarning: Adding an axes using the same arguments as a previous axes currently reuses the earlier instance.  In a future version, a new instance will always be created and returned.  Meanwhile, this warning can be suppressed, and the future behavior ensured, by passing a unique label to each axes instance.\n",
      "  ax = fig.add_subplot(111, autoscale_on=False,\n"
     ]
    },
    {
     "name": "stdout",
     "output_type": "stream",
     "text": [
      "17\n",
      "The interpolation points are stored in the variable \"EF_target_pos\": \n",
      "[[ 16.12132034   2.12132034]\n",
      " [ 11.33333333   1.79945129]\n",
      " [  5.66666667  -0.75737472]\n",
      " [ -5.66666667  -3.18481556]\n",
      " [-11.33333333  -5.46741212]]\n",
      "The intermediate points are stored in the variable \"interpolated_points\"\n",
      "[0 0]\n",
      "[48 30]\n"
     ]
    },
    {
     "name": "stderr",
     "output_type": "stream",
     "text": [
      "<ipython-input-3-99abad6b2bba>:29: MatplotlibDeprecationWarning: Adding an axes using the same arguments as a previous axes currently reuses the earlier instance.  In a future version, a new instance will always be created and returned.  Meanwhile, this warning can be suppressed, and the future behavior ensured, by passing a unique label to each axes instance.\n",
      "  ax = fig.add_subplot(111, autoscale_on=False,\n"
     ]
    },
    {
     "name": "stdout",
     "output_type": "stream",
     "text": [
      "18\n",
      "The interpolation points are stored in the variable \"EF_target_pos\": \n",
      "[[ 16.24264069   4.24264069]\n",
      " [ 12.          -4.83803852]\n",
      " [  6.           9.56289725]\n",
      " [ -6.           0.17926248]\n",
      " [-12.           3.77005347]]\n",
      "The intermediate points are stored in the variable \"interpolated_points\"\n",
      "[1 0]\n",
      "[49 59]\n"
     ]
    },
    {
     "name": "stderr",
     "output_type": "stream",
     "text": [
      "<ipython-input-3-99abad6b2bba>:29: MatplotlibDeprecationWarning: Adding an axes using the same arguments as a previous axes currently reuses the earlier instance.  In a future version, a new instance will always be created and returned.  Meanwhile, this warning can be suppressed, and the future behavior ensured, by passing a unique label to each axes instance.\n",
      "  ax = fig.add_subplot(111, autoscale_on=False,\n"
     ]
    },
    {
     "name": "stdout",
     "output_type": "stream",
     "text": [
      "10\n",
      "The interpolation points are stored in the variable \"EF_target_pos\": \n",
      "[[ 9.12132034  2.12132034]\n",
      " [ 6.66666667  2.89423738]\n",
      " [ 3.33333333 -5.17891586]\n",
      " [-3.33333333  2.86165152]\n",
      " [-6.66666667 -1.94516187]]\n",
      "The intermediate points are stored in the variable \"interpolated_points\"\n",
      "[0 1]\n",
      "[48 22]\n"
     ]
    },
    {
     "name": "stderr",
     "output_type": "stream",
     "text": [
      "<ipython-input-3-99abad6b2bba>:29: MatplotlibDeprecationWarning: Adding an axes using the same arguments as a previous axes currently reuses the earlier instance.  In a future version, a new instance will always be created and returned.  Meanwhile, this warning can be suppressed, and the future behavior ensured, by passing a unique label to each axes instance.\n",
      "  ax = fig.add_subplot(111, autoscale_on=False,\n"
     ]
    },
    {
     "name": "stdout",
     "output_type": "stream",
     "text": [
      "13\n",
      "The interpolation points are stored in the variable \"EF_target_pos\": \n",
      "[[12.41421356  1.41421356]\n",
      " [ 8.66666667 -0.03231856]\n",
      " [ 4.33333333 -2.69354556]\n",
      " [-4.33333333 -3.50333503]\n",
      " [-8.66666667  0.06432701]]\n",
      "The intermediate points are stored in the variable \"interpolated_points\"\n",
      "[1 1]\n",
      "[58 19]\n"
     ]
    },
    {
     "name": "stderr",
     "output_type": "stream",
     "text": [
      "<ipython-input-3-99abad6b2bba>:29: MatplotlibDeprecationWarning: Adding an axes using the same arguments as a previous axes currently reuses the earlier instance.  In a future version, a new instance will always be created and returned.  Meanwhile, this warning can be suppressed, and the future behavior ensured, by passing a unique label to each axes instance.\n",
      "  ax = fig.add_subplot(111, autoscale_on=False,\n"
     ]
    },
    {
     "name": "stdout",
     "output_type": "stream",
     "text": [
      "12\n",
      "The interpolation points are stored in the variable \"EF_target_pos\": \n",
      "[[11.41421356  1.41421356]\n",
      " [ 8.         -0.49335367]\n",
      " [ 4.          0.6710898 ]\n",
      " [-4.          1.04808863]\n",
      " [-8.          0.14545683]]\n",
      "The intermediate points are stored in the variable \"interpolated_points\"\n",
      "[0 1]\n",
      "[43 38]\n"
     ]
    },
    {
     "name": "stderr",
     "output_type": "stream",
     "text": [
      "<ipython-input-3-99abad6b2bba>:29: MatplotlibDeprecationWarning: Adding an axes using the same arguments as a previous axes currently reuses the earlier instance.  In a future version, a new instance will always be created and returned.  Meanwhile, this warning can be suppressed, and the future behavior ensured, by passing a unique label to each axes instance.\n",
      "  ax = fig.add_subplot(111, autoscale_on=False,\n"
     ]
    },
    {
     "name": "stdout",
     "output_type": "stream",
     "text": [
      "14\n",
      "The interpolation points are stored in the variable \"EF_target_pos\": \n",
      "[[12.82842712  2.82842712]\n",
      " [ 9.33333333 -4.32535384]\n",
      " [ 4.66666667  2.20966327]\n",
      " [-4.66666667 -8.36869512]\n",
      " [-9.33333333  1.23190616]]\n",
      "The intermediate points are stored in the variable \"interpolated_points\"\n",
      "[0 1]\n",
      "[57 47]\n"
     ]
    },
    {
     "name": "stderr",
     "output_type": "stream",
     "text": [
      "<ipython-input-3-99abad6b2bba>:29: MatplotlibDeprecationWarning: Adding an axes using the same arguments as a previous axes currently reuses the earlier instance.  In a future version, a new instance will always be created and returned.  Meanwhile, this warning can be suppressed, and the future behavior ensured, by passing a unique label to each axes instance.\n",
      "  ax = fig.add_subplot(111, autoscale_on=False,\n"
     ]
    },
    {
     "name": "stdout",
     "output_type": "stream",
     "text": [
      "9\n",
      "The interpolation points are stored in the variable \"EF_target_pos\": \n",
      "[[ 8.12132034  2.12132034]\n",
      " [ 6.          0.2442734 ]\n",
      " [ 3.          1.48998948]\n",
      " [-3.         -5.06862053]\n",
      " [-6.         -0.36619279]]\n",
      "The intermediate points are stored in the variable \"interpolated_points\"\n",
      "[0 0]\n",
      "[58 40]\n"
     ]
    },
    {
     "name": "stderr",
     "output_type": "stream",
     "text": [
      "<ipython-input-3-99abad6b2bba>:29: MatplotlibDeprecationWarning: Adding an axes using the same arguments as a previous axes currently reuses the earlier instance.  In a future version, a new instance will always be created and returned.  Meanwhile, this warning can be suppressed, and the future behavior ensured, by passing a unique label to each axes instance.\n",
      "  ax = fig.add_subplot(111, autoscale_on=False,\n"
     ]
    },
    {
     "name": "stdout",
     "output_type": "stream",
     "text": [
      "10\n",
      "The interpolation points are stored in the variable \"EF_target_pos\": \n",
      "[[ 9.41421356  1.41421356]\n",
      " [ 6.66666667 -3.25717368]\n",
      " [ 3.33333333  6.25670289]\n",
      " [-3.33333333 -4.96805897]\n",
      " [-6.66666667 -0.55708982]]\n",
      "The intermediate points are stored in the variable \"interpolated_points\"\n",
      "[0 1]\n",
      "[29 57]\n"
     ]
    },
    {
     "name": "stderr",
     "output_type": "stream",
     "text": [
      "<ipython-input-3-99abad6b2bba>:29: MatplotlibDeprecationWarning: Adding an axes using the same arguments as a previous axes currently reuses the earlier instance.  In a future version, a new instance will always be created and returned.  Meanwhile, this warning can be suppressed, and the future behavior ensured, by passing a unique label to each axes instance.\n",
      "  ax = fig.add_subplot(111, autoscale_on=False,\n"
     ]
    },
    {
     "name": "stdout",
     "output_type": "stream",
     "text": [
      "13\n",
      "The interpolation points are stored in the variable \"EF_target_pos\": \n",
      "[[12.12132034  2.12132034]\n",
      " [ 8.66666667  0.84230238]\n",
      " [ 4.33333333 -6.80314263]\n",
      " [-4.33333333 -8.34802893]\n",
      " [-8.66666667 -3.31819498]]\n",
      "The intermediate points are stored in the variable \"interpolated_points\"\n",
      "[0 1]\n",
      "[22 27]\n"
     ]
    },
    {
     "name": "stderr",
     "output_type": "stream",
     "text": [
      "<ipython-input-3-99abad6b2bba>:29: MatplotlibDeprecationWarning: Adding an axes using the same arguments as a previous axes currently reuses the earlier instance.  In a future version, a new instance will always be created and returned.  Meanwhile, this warning can be suppressed, and the future behavior ensured, by passing a unique label to each axes instance.\n",
      "  ax = fig.add_subplot(111, autoscale_on=False,\n"
     ]
    },
    {
     "name": "stdout",
     "output_type": "stream",
     "text": [
      "14\n",
      "The interpolation points are stored in the variable \"EF_target_pos\": \n",
      "[[12.53553391  3.53553391]\n",
      " [ 9.33333333  0.93200927]\n",
      " [ 4.66666667  1.76078854]\n",
      " [-4.66666667  2.90097402]\n",
      " [-9.33333333  4.07692429]]\n",
      "The intermediate points are stored in the variable \"interpolated_points\"\n",
      "[0 0]\n",
      "[19 26]\n"
     ]
    },
    {
     "name": "stderr",
     "output_type": "stream",
     "text": [
      "<ipython-input-3-99abad6b2bba>:29: MatplotlibDeprecationWarning: Adding an axes using the same arguments as a previous axes currently reuses the earlier instance.  In a future version, a new instance will always be created and returned.  Meanwhile, this warning can be suppressed, and the future behavior ensured, by passing a unique label to each axes instance.\n",
      "  ax = fig.add_subplot(111, autoscale_on=False,\n"
     ]
    },
    {
     "name": "stdout",
     "output_type": "stream",
     "text": [
      "9\n",
      "The interpolation points are stored in the variable \"EF_target_pos\": \n",
      "[[ 8.41421356  1.41421356]\n",
      " [ 6.          0.65020119]\n",
      " [ 3.         -5.02057304]\n",
      " [-3.          5.74877021]\n",
      " [-6.         -0.21403971]]\n",
      "The intermediate points are stored in the variable \"interpolated_points\"\n",
      "[0 0]\n",
      "[56 29]\n"
     ]
    },
    {
     "name": "stderr",
     "output_type": "stream",
     "text": [
      "<ipython-input-3-99abad6b2bba>:29: MatplotlibDeprecationWarning: Adding an axes using the same arguments as a previous axes currently reuses the earlier instance.  In a future version, a new instance will always be created and returned.  Meanwhile, this warning can be suppressed, and the future behavior ensured, by passing a unique label to each axes instance.\n",
      "  ax = fig.add_subplot(111, autoscale_on=False,\n"
     ]
    },
    {
     "name": "stdout",
     "output_type": "stream",
     "text": [
      "12\n",
      "The interpolation points are stored in the variable \"EF_target_pos\": \n",
      "[[ 9.94974747  4.94974747]\n",
      " [ 8.          0.9161802 ]\n",
      " [ 4.         -4.26239356]\n",
      " [-4.         -0.78582458]\n",
      " [-8.         -2.62815379]]\n",
      "The intermediate points are stored in the variable \"interpolated_points\"\n",
      "[0 0]\n",
      "[17 15]\n"
     ]
    },
    {
     "name": "stderr",
     "output_type": "stream",
     "text": [
      "<ipython-input-3-99abad6b2bba>:29: MatplotlibDeprecationWarning: Adding an axes using the same arguments as a previous axes currently reuses the earlier instance.  In a future version, a new instance will always be created and returned.  Meanwhile, this warning can be suppressed, and the future behavior ensured, by passing a unique label to each axes instance.\n",
      "  ax = fig.add_subplot(111, autoscale_on=False,\n"
     ]
    },
    {
     "name": "stdout",
     "output_type": "stream",
     "text": [
      "18\n",
      "The interpolation points are stored in the variable \"EF_target_pos\": \n",
      "[[ 16.82842712   2.82842712]\n",
      " [ 12.           3.47531307]\n",
      " [  6.          -7.29199973]\n",
      " [ -6.         -10.70516664]\n",
      " [-12.           3.8596113 ]]\n",
      "The intermediate points are stored in the variable \"interpolated_points\"\n",
      "[1 0]\n",
      "[40 44]\n"
     ]
    },
    {
     "name": "stderr",
     "output_type": "stream",
     "text": [
      "<ipython-input-3-99abad6b2bba>:29: MatplotlibDeprecationWarning: Adding an axes using the same arguments as a previous axes currently reuses the earlier instance.  In a future version, a new instance will always be created and returned.  Meanwhile, this warning can be suppressed, and the future behavior ensured, by passing a unique label to each axes instance.\n",
      "  ax = fig.add_subplot(111, autoscale_on=False,\n"
     ]
    },
    {
     "name": "stdout",
     "output_type": "stream",
     "text": [
      "13\n",
      "The interpolation points are stored in the variable \"EF_target_pos\": \n",
      "[[12.12132034  2.12132034]\n",
      " [ 8.66666667  3.24293658]\n",
      " [ 4.33333333  5.75865976]\n",
      " [-4.33333333 -5.07375428]\n",
      " [-8.66666667  2.05050286]]\n",
      "The intermediate points are stored in the variable \"interpolated_points\"\n",
      "[1 0]\n",
      "[16 55]\n"
     ]
    },
    {
     "name": "stderr",
     "output_type": "stream",
     "text": [
      "<ipython-input-3-99abad6b2bba>:29: MatplotlibDeprecationWarning: Adding an axes using the same arguments as a previous axes currently reuses the earlier instance.  In a future version, a new instance will always be created and returned.  Meanwhile, this warning can be suppressed, and the future behavior ensured, by passing a unique label to each axes instance.\n",
      "  ax = fig.add_subplot(111, autoscale_on=False,\n"
     ]
    },
    {
     "name": "stdout",
     "output_type": "stream",
     "text": [
      "13\n",
      "The interpolation points are stored in the variable \"EF_target_pos\": \n",
      "[[11.53553391  3.53553391]\n",
      " [ 8.66666667  0.44700598]\n",
      " [ 4.33333333  2.72909846]\n",
      " [-4.33333333  5.18399123]\n",
      " [-8.66666667 -0.45738557]]\n",
      "The intermediate points are stored in the variable \"interpolated_points\"\n",
      "[0 1]\n",
      "[26 38]\n"
     ]
    },
    {
     "name": "stderr",
     "output_type": "stream",
     "text": [
      "<ipython-input-3-99abad6b2bba>:29: MatplotlibDeprecationWarning: Adding an axes using the same arguments as a previous axes currently reuses the earlier instance.  In a future version, a new instance will always be created and returned.  Meanwhile, this warning can be suppressed, and the future behavior ensured, by passing a unique label to each axes instance.\n",
      "  ax = fig.add_subplot(111, autoscale_on=False,\n"
     ]
    },
    {
     "name": "stdout",
     "output_type": "stream",
     "text": [
      "16\n",
      "The interpolation points are stored in the variable \"EF_target_pos\": \n",
      "[[ 14.24264069   4.24264069]\n",
      " [ 10.66666667  -0.99319103]\n",
      " [  5.33333333  -0.57462852]\n",
      " [ -5.33333333  -7.57332267]\n",
      " [-10.66666667  -1.96581009]]\n",
      "The intermediate points are stored in the variable \"interpolated_points\"\n",
      "[1 0]\n",
      "[55 51]\n"
     ]
    },
    {
     "name": "stderr",
     "output_type": "stream",
     "text": [
      "<ipython-input-3-99abad6b2bba>:29: MatplotlibDeprecationWarning: Adding an axes using the same arguments as a previous axes currently reuses the earlier instance.  In a future version, a new instance will always be created and returned.  Meanwhile, this warning can be suppressed, and the future behavior ensured, by passing a unique label to each axes instance.\n",
      "  ax = fig.add_subplot(111, autoscale_on=False,\n"
     ]
    },
    {
     "name": "stdout",
     "output_type": "stream",
     "text": [
      "15\n",
      "The interpolation points are stored in the variable \"EF_target_pos\": \n",
      "[[ 14.41421356   1.41421356]\n",
      " [ 10.           3.79100755]\n",
      " [  5.           0.52638269]\n",
      " [ -5.           8.97795217]\n",
      " [-10.          -3.46608179]]\n",
      "The intermediate points are stored in the variable \"interpolated_points\"\n",
      "[0 1]\n",
      "[55 54]\n"
     ]
    },
    {
     "name": "stderr",
     "output_type": "stream",
     "text": [
      "<ipython-input-3-99abad6b2bba>:29: MatplotlibDeprecationWarning: Adding an axes using the same arguments as a previous axes currently reuses the earlier instance.  In a future version, a new instance will always be created and returned.  Meanwhile, this warning can be suppressed, and the future behavior ensured, by passing a unique label to each axes instance.\n",
      "  ax = fig.add_subplot(111, autoscale_on=False,\n"
     ]
    },
    {
     "name": "stdout",
     "output_type": "stream",
     "text": [
      "11\n",
      "The interpolation points are stored in the variable \"EF_target_pos\": \n",
      "[[ 9.24264069  4.24264069]\n",
      " [ 7.33333333 -0.18564697]\n",
      " [ 3.66666667 -0.85298301]\n",
      " [-3.66666667 -5.27847981]\n",
      " [-7.33333333 -3.16763731]]\n",
      "The intermediate points are stored in the variable \"interpolated_points\"\n",
      "[1 0]\n",
      "[56 29]\n"
     ]
    },
    {
     "name": "stderr",
     "output_type": "stream",
     "text": [
      "<ipython-input-3-99abad6b2bba>:29: MatplotlibDeprecationWarning: Adding an axes using the same arguments as a previous axes currently reuses the earlier instance.  In a future version, a new instance will always be created and returned.  Meanwhile, this warning can be suppressed, and the future behavior ensured, by passing a unique label to each axes instance.\n",
      "  ax = fig.add_subplot(111, autoscale_on=False,\n"
     ]
    },
    {
     "name": "stdout",
     "output_type": "stream",
     "text": [
      "11\n",
      "The interpolation points are stored in the variable \"EF_target_pos\": \n",
      "[[10.41421356  1.41421356]\n",
      " [ 7.33333333  0.49687871]\n",
      " [ 3.66666667  4.49223249]\n",
      " [-3.66666667 -1.03744755]\n",
      " [-7.33333333  0.8166989 ]]\n",
      "The intermediate points are stored in the variable \"interpolated_points\"\n",
      "[1 0]\n",
      "[15 52]\n"
     ]
    },
    {
     "name": "stderr",
     "output_type": "stream",
     "text": [
      "<ipython-input-3-99abad6b2bba>:29: MatplotlibDeprecationWarning: Adding an axes using the same arguments as a previous axes currently reuses the earlier instance.  In a future version, a new instance will always be created and returned.  Meanwhile, this warning can be suppressed, and the future behavior ensured, by passing a unique label to each axes instance.\n",
      "  ax = fig.add_subplot(111, autoscale_on=False,\n"
     ]
    },
    {
     "name": "stdout",
     "output_type": "stream",
     "text": [
      "18\n",
      "The interpolation points are stored in the variable \"EF_target_pos\": \n",
      "[[ 16.24264069   4.24264069]\n",
      " [ 12.           5.83010473]\n",
      " [  6.           9.24432101]\n",
      " [ -6.          11.53647367]\n",
      " [-12.          -2.54766178]]\n",
      "The intermediate points are stored in the variable \"interpolated_points\"\n",
      "[0 1]\n",
      "[46 31]\n"
     ]
    },
    {
     "name": "stderr",
     "output_type": "stream",
     "text": [
      "<ipython-input-3-99abad6b2bba>:29: MatplotlibDeprecationWarning: Adding an axes using the same arguments as a previous axes currently reuses the earlier instance.  In a future version, a new instance will always be created and returned.  Meanwhile, this warning can be suppressed, and the future behavior ensured, by passing a unique label to each axes instance.\n",
      "  ax = fig.add_subplot(111, autoscale_on=False,\n"
     ]
    },
    {
     "name": "stdout",
     "output_type": "stream",
     "text": [
      "15\n",
      "The interpolation points are stored in the variable \"EF_target_pos\": \n",
      "[[ 12.94974747   4.94974747]\n",
      " [ 10.          -1.62100282]\n",
      " [  5.           2.36204644]\n",
      " [ -5.          -6.46697957]\n",
      " [-10.          -3.17755829]]\n",
      "The intermediate points are stored in the variable \"interpolated_points\"\n",
      "[0 1]\n",
      "[24 53]\n"
     ]
    },
    {
     "name": "stderr",
     "output_type": "stream",
     "text": [
      "<ipython-input-3-99abad6b2bba>:29: MatplotlibDeprecationWarning: Adding an axes using the same arguments as a previous axes currently reuses the earlier instance.  In a future version, a new instance will always be created and returned.  Meanwhile, this warning can be suppressed, and the future behavior ensured, by passing a unique label to each axes instance.\n",
      "  ax = fig.add_subplot(111, autoscale_on=False,\n"
     ]
    },
    {
     "name": "stdout",
     "output_type": "stream",
     "text": [
      "11\n",
      "The interpolation points are stored in the variable \"EF_target_pos\": \n",
      "[[10.41421356  1.41421356]\n",
      " [ 7.33333333 -2.15906482]\n",
      " [ 3.66666667 -2.12032177]\n",
      " [-3.66666667 -2.06640633]\n",
      " [-7.33333333  1.23849667]]\n",
      "The intermediate points are stored in the variable \"interpolated_points\"\n",
      "[1 1]\n",
      "[30 59]\n"
     ]
    },
    {
     "name": "stderr",
     "output_type": "stream",
     "text": [
      "<ipython-input-3-99abad6b2bba>:29: MatplotlibDeprecationWarning: Adding an axes using the same arguments as a previous axes currently reuses the earlier instance.  In a future version, a new instance will always be created and returned.  Meanwhile, this warning can be suppressed, and the future behavior ensured, by passing a unique label to each axes instance.\n",
      "  ax = fig.add_subplot(111, autoscale_on=False,\n"
     ]
    },
    {
     "name": "stdout",
     "output_type": "stream",
     "text": [
      "15\n",
      "The interpolation points are stored in the variable \"EF_target_pos\": \n",
      "[[ 14.12132034   2.12132034]\n",
      " [ 10.           2.98719238]\n",
      " [  5.           1.48779541]\n",
      " [ -5.           0.82130782]\n",
      " [-10.           3.33015894]]\n",
      "The intermediate points are stored in the variable \"interpolated_points\"\n",
      "[0 0]\n",
      "[25 31]\n"
     ]
    },
    {
     "name": "stderr",
     "output_type": "stream",
     "text": [
      "<ipython-input-3-99abad6b2bba>:29: MatplotlibDeprecationWarning: Adding an axes using the same arguments as a previous axes currently reuses the earlier instance.  In a future version, a new instance will always be created and returned.  Meanwhile, this warning can be suppressed, and the future behavior ensured, by passing a unique label to each axes instance.\n",
      "  ax = fig.add_subplot(111, autoscale_on=False,\n"
     ]
    },
    {
     "name": "stdout",
     "output_type": "stream",
     "text": [
      "13\n",
      "The interpolation points are stored in the variable \"EF_target_pos\": \n",
      "[[11.82842712  2.82842712]\n",
      " [ 8.66666667 -0.2660228 ]\n",
      " [ 4.33333333  0.56298204]\n",
      " [-4.33333333  0.9893898 ]\n",
      " [-8.66666667 -4.08848412]]\n",
      "The intermediate points are stored in the variable \"interpolated_points\"\n",
      "[0 0]\n",
      "[44 57]\n"
     ]
    },
    {
     "name": "stderr",
     "output_type": "stream",
     "text": [
      "<ipython-input-3-99abad6b2bba>:29: MatplotlibDeprecationWarning: Adding an axes using the same arguments as a previous axes currently reuses the earlier instance.  In a future version, a new instance will always be created and returned.  Meanwhile, this warning can be suppressed, and the future behavior ensured, by passing a unique label to each axes instance.\n",
      "  ax = fig.add_subplot(111, autoscale_on=False,\n"
     ]
    },
    {
     "name": "stdout",
     "output_type": "stream",
     "text": [
      "13\n",
      "The interpolation points are stored in the variable \"EF_target_pos\": \n",
      "[[11.82842712  2.82842712]\n",
      " [ 8.66666667 -3.35950396]\n",
      " [ 4.33333333 -0.18919169]\n",
      " [-4.33333333 -6.23466294]\n",
      " [-8.66666667 -0.58080872]]\n",
      "The intermediate points are stored in the variable \"interpolated_points\"\n",
      "[0 0]\n",
      "[31 16]\n"
     ]
    },
    {
     "name": "stderr",
     "output_type": "stream",
     "text": [
      "<ipython-input-3-99abad6b2bba>:29: MatplotlibDeprecationWarning: Adding an axes using the same arguments as a previous axes currently reuses the earlier instance.  In a future version, a new instance will always be created and returned.  Meanwhile, this warning can be suppressed, and the future behavior ensured, by passing a unique label to each axes instance.\n",
      "  ax = fig.add_subplot(111, autoscale_on=False,\n"
     ]
    },
    {
     "name": "stdout",
     "output_type": "stream",
     "text": [
      "15\n",
      "The interpolation points are stored in the variable \"EF_target_pos\": \n",
      "[[ 12.94974747   4.94974747]\n",
      " [ 10.           3.54664174]\n",
      " [  5.          -3.78748166]\n",
      " [ -5.          -7.93823732]\n",
      " [-10.          -1.38079099]]\n",
      "The intermediate points are stored in the variable \"interpolated_points\"\n",
      "[1 0]\n",
      "[47 36]\n"
     ]
    },
    {
     "name": "stderr",
     "output_type": "stream",
     "text": [
      "<ipython-input-3-99abad6b2bba>:29: MatplotlibDeprecationWarning: Adding an axes using the same arguments as a previous axes currently reuses the earlier instance.  In a future version, a new instance will always be created and returned.  Meanwhile, this warning can be suppressed, and the future behavior ensured, by passing a unique label to each axes instance.\n",
      "  ax = fig.add_subplot(111, autoscale_on=False,\n"
     ]
    },
    {
     "name": "stdout",
     "output_type": "stream",
     "text": [
      "18\n",
      "The interpolation points are stored in the variable \"EF_target_pos\": \n",
      "[[ 15.94974747   4.94974747]\n",
      " [ 12.          -2.63837411]\n",
      " [  6.          -4.15881687]\n",
      " [ -6.          -5.08506103]\n",
      " [-12.          -2.51810314]]\n",
      "The intermediate points are stored in the variable \"interpolated_points\"\n",
      "[0 1]\n",
      "[42 18]\n"
     ]
    },
    {
     "name": "stderr",
     "output_type": "stream",
     "text": [
      "<ipython-input-3-99abad6b2bba>:29: MatplotlibDeprecationWarning: Adding an axes using the same arguments as a previous axes currently reuses the earlier instance.  In a future version, a new instance will always be created and returned.  Meanwhile, this warning can be suppressed, and the future behavior ensured, by passing a unique label to each axes instance.\n",
      "  ax = fig.add_subplot(111, autoscale_on=False,\n"
     ]
    },
    {
     "name": "stdout",
     "output_type": "stream",
     "text": [
      "14\n",
      "The interpolation points are stored in the variable \"EF_target_pos\": \n",
      "[[12.53553391  3.53553391]\n",
      " [ 9.33333333  2.103511  ]\n",
      " [ 4.66666667 -4.90495457]\n",
      " [-4.66666667  6.25635041]\n",
      " [-9.33333333 -2.57299556]]\n",
      "The intermediate points are stored in the variable \"interpolated_points\"\n",
      "[0 1]\n",
      "[44 57]\n"
     ]
    },
    {
     "name": "stderr",
     "output_type": "stream",
     "text": [
      "<ipython-input-3-99abad6b2bba>:29: MatplotlibDeprecationWarning: Adding an axes using the same arguments as a previous axes currently reuses the earlier instance.  In a future version, a new instance will always be created and returned.  Meanwhile, this warning can be suppressed, and the future behavior ensured, by passing a unique label to each axes instance.\n",
      "  ax = fig.add_subplot(111, autoscale_on=False,\n"
     ]
    },
    {
     "name": "stdout",
     "output_type": "stream",
     "text": [
      "11\n",
      "The interpolation points are stored in the variable \"EF_target_pos\": \n",
      "[[10.12132034  2.12132034]\n",
      " [ 7.33333333  3.16579429]\n",
      " [ 3.66666667 -3.12299032]\n",
      " [-3.66666667 -4.89925697]\n",
      " [-7.33333333 -3.27129904]]\n",
      "The intermediate points are stored in the variable \"interpolated_points\"\n",
      "[1 1]\n",
      "[25 23]\n"
     ]
    },
    {
     "name": "stderr",
     "output_type": "stream",
     "text": [
      "<ipython-input-3-99abad6b2bba>:29: MatplotlibDeprecationWarning: Adding an axes using the same arguments as a previous axes currently reuses the earlier instance.  In a future version, a new instance will always be created and returned.  Meanwhile, this warning can be suppressed, and the future behavior ensured, by passing a unique label to each axes instance.\n",
      "  ax = fig.add_subplot(111, autoscale_on=False,\n"
     ]
    },
    {
     "name": "stdout",
     "output_type": "stream",
     "text": [
      "13\n",
      "The interpolation points are stored in the variable \"EF_target_pos\": \n",
      "[[12.12132034  2.12132034]\n",
      " [ 8.66666667 -3.14030373]\n",
      " [ 4.33333333  3.98724429]\n",
      " [-4.33333333  8.54699747]\n",
      " [-8.66666667  1.12843482]]\n",
      "The intermediate points are stored in the variable \"interpolated_points\"\n",
      "[0 1]\n",
      "[46 46]\n"
     ]
    },
    {
     "name": "stderr",
     "output_type": "stream",
     "text": [
      "<ipython-input-3-99abad6b2bba>:29: MatplotlibDeprecationWarning: Adding an axes using the same arguments as a previous axes currently reuses the earlier instance.  In a future version, a new instance will always be created and returned.  Meanwhile, this warning can be suppressed, and the future behavior ensured, by passing a unique label to each axes instance.\n",
      "  ax = fig.add_subplot(111, autoscale_on=False,\n"
     ]
    },
    {
     "name": "stdout",
     "output_type": "stream",
     "text": [
      "15\n",
      "The interpolation points are stored in the variable \"EF_target_pos\": \n",
      "[[ 13.24264069   4.24264069]\n",
      " [ 10.          -3.77655963]\n",
      " [  5.          -0.30421539]\n",
      " [ -5.           7.92756341]\n",
      " [-10.          -0.72416961]]\n",
      "The intermediate points are stored in the variable \"interpolated_points\"\n",
      "[0 0]\n",
      "[36 36]\n"
     ]
    },
    {
     "name": "stderr",
     "output_type": "stream",
     "text": [
      "<ipython-input-3-99abad6b2bba>:29: MatplotlibDeprecationWarning: Adding an axes using the same arguments as a previous axes currently reuses the earlier instance.  In a future version, a new instance will always be created and returned.  Meanwhile, this warning can be suppressed, and the future behavior ensured, by passing a unique label to each axes instance.\n",
      "  ax = fig.add_subplot(111, autoscale_on=False,\n"
     ]
    },
    {
     "name": "stdout",
     "output_type": "stream",
     "text": [
      "14\n",
      "The interpolation points are stored in the variable \"EF_target_pos\": \n",
      "[[13.41421356  1.41421356]\n",
      " [ 9.33333333  4.15780141]\n",
      " [ 4.66666667 -5.55055153]\n",
      " [-4.66666667  2.30492938]\n",
      " [-9.33333333  0.09020958]]\n",
      "The intermediate points are stored in the variable \"interpolated_points\"\n",
      "[1 0]\n",
      "[26 17]\n"
     ]
    },
    {
     "name": "stderr",
     "output_type": "stream",
     "text": [
      "<ipython-input-3-99abad6b2bba>:29: MatplotlibDeprecationWarning: Adding an axes using the same arguments as a previous axes currently reuses the earlier instance.  In a future version, a new instance will always be created and returned.  Meanwhile, this warning can be suppressed, and the future behavior ensured, by passing a unique label to each axes instance.\n",
      "  ax = fig.add_subplot(111, autoscale_on=False,\n"
     ]
    },
    {
     "name": "stdout",
     "output_type": "stream",
     "text": [
      "11\n",
      "The interpolation points are stored in the variable \"EF_target_pos\": \n",
      "[[10.12132034  2.12132034]\n",
      " [ 7.33333333  1.18405658]\n",
      " [ 3.66666667  3.52218726]\n",
      " [-3.66666667 -4.19575948]\n",
      " [-7.33333333  3.28962769]]\n",
      "The intermediate points are stored in the variable \"interpolated_points\"\n",
      "[0 1]\n",
      "[31 45]\n"
     ]
    },
    {
     "name": "stderr",
     "output_type": "stream",
     "text": [
      "<ipython-input-3-99abad6b2bba>:29: MatplotlibDeprecationWarning: Adding an axes using the same arguments as a previous axes currently reuses the earlier instance.  In a future version, a new instance will always be created and returned.  Meanwhile, this warning can be suppressed, and the future behavior ensured, by passing a unique label to each axes instance.\n",
      "  ax = fig.add_subplot(111, autoscale_on=False,\n"
     ]
    },
    {
     "name": "stdout",
     "output_type": "stream",
     "text": [
      "14\n",
      "The interpolation points are stored in the variable \"EF_target_pos\": \n",
      "[[13.12132034  2.12132034]\n",
      " [ 9.33333333  0.60826748]\n",
      " [ 4.66666667 -4.05492182]\n",
      " [-4.66666667  4.98812277]\n",
      " [-9.33333333  1.8678474 ]]\n",
      "The intermediate points are stored in the variable \"interpolated_points\"\n",
      "[1 0]\n",
      "[47 33]\n"
     ]
    },
    {
     "name": "stderr",
     "output_type": "stream",
     "text": [
      "<ipython-input-3-99abad6b2bba>:29: MatplotlibDeprecationWarning: Adding an axes using the same arguments as a previous axes currently reuses the earlier instance.  In a future version, a new instance will always be created and returned.  Meanwhile, this warning can be suppressed, and the future behavior ensured, by passing a unique label to each axes instance.\n",
      "  ax = fig.add_subplot(111, autoscale_on=False,\n"
     ]
    },
    {
     "name": "stdout",
     "output_type": "stream",
     "text": [
      "12\n",
      "The interpolation points are stored in the variable \"EF_target_pos\": \n",
      "[[10.82842712  2.82842712]\n",
      " [ 8.         -2.16997852]\n",
      " [ 4.         -7.31482921]\n",
      " [-4.         -5.61564616]\n",
      " [-8.         -0.51506176]]\n",
      "The intermediate points are stored in the variable \"interpolated_points\"\n",
      "[1 0]\n",
      "[37 22]\n"
     ]
    },
    {
     "name": "stderr",
     "output_type": "stream",
     "text": [
      "<ipython-input-3-99abad6b2bba>:29: MatplotlibDeprecationWarning: Adding an axes using the same arguments as a previous axes currently reuses the earlier instance.  In a future version, a new instance will always be created and returned.  Meanwhile, this warning can be suppressed, and the future behavior ensured, by passing a unique label to each axes instance.\n",
      "  ax = fig.add_subplot(111, autoscale_on=False,\n"
     ]
    },
    {
     "name": "stdout",
     "output_type": "stream",
     "text": [
      "13\n",
      "The interpolation points are stored in the variable \"EF_target_pos\": \n",
      "[[11.24264069  4.24264069]\n",
      " [ 8.66666667  0.09553746]\n",
      " [ 4.33333333 -0.06305759]\n",
      " [-4.33333333  2.43581435]\n",
      " [-8.66666667  1.48138843]]\n",
      "The intermediate points are stored in the variable \"interpolated_points\"\n",
      "[1 1]\n",
      "[22 42]\n"
     ]
    },
    {
     "name": "stderr",
     "output_type": "stream",
     "text": [
      "<ipython-input-3-99abad6b2bba>:29: MatplotlibDeprecationWarning: Adding an axes using the same arguments as a previous axes currently reuses the earlier instance.  In a future version, a new instance will always be created and returned.  Meanwhile, this warning can be suppressed, and the future behavior ensured, by passing a unique label to each axes instance.\n",
      "  ax = fig.add_subplot(111, autoscale_on=False,\n"
     ]
    },
    {
     "name": "stdout",
     "output_type": "stream",
     "text": [
      "15\n",
      "The interpolation points are stored in the variable \"EF_target_pos\": \n",
      "[[ 14.12132034   2.12132034]\n",
      " [ 10.          -1.79067689]\n",
      " [  5.          -4.27112459]\n",
      " [ -5.          -5.65851567]\n",
      " [-10.           2.40451312]]\n",
      "The intermediate points are stored in the variable \"interpolated_points\"\n",
      "[1 0]\n",
      "[17 28]\n"
     ]
    },
    {
     "name": "stderr",
     "output_type": "stream",
     "text": [
      "<ipython-input-3-99abad6b2bba>:29: MatplotlibDeprecationWarning: Adding an axes using the same arguments as a previous axes currently reuses the earlier instance.  In a future version, a new instance will always be created and returned.  Meanwhile, this warning can be suppressed, and the future behavior ensured, by passing a unique label to each axes instance.\n",
      "  ax = fig.add_subplot(111, autoscale_on=False,\n"
     ]
    },
    {
     "name": "stdout",
     "output_type": "stream",
     "text": [
      "14\n",
      "The interpolation points are stored in the variable \"EF_target_pos\": \n",
      "[[13.12132034  2.12132034]\n",
      " [ 9.33333333 -0.58657615]\n",
      " [ 4.66666667  1.69547698]\n",
      " [-4.66666667 -4.24510065]\n",
      " [-9.33333333  4.04647964]]\n",
      "The intermediate points are stored in the variable \"interpolated_points\"\n",
      "[1 0]\n",
      "[17 49]\n"
     ]
    },
    {
     "name": "stderr",
     "output_type": "stream",
     "text": [
      "<ipython-input-3-99abad6b2bba>:29: MatplotlibDeprecationWarning: Adding an axes using the same arguments as a previous axes currently reuses the earlier instance.  In a future version, a new instance will always be created and returned.  Meanwhile, this warning can be suppressed, and the future behavior ensured, by passing a unique label to each axes instance.\n",
      "  ax = fig.add_subplot(111, autoscale_on=False,\n"
     ]
    }
   ],
   "source": [
    "# for i in range(125):\n",
    "#     create_simulation(i,50)"
   ]
  },
  {
   "cell_type": "code",
   "execution_count": null,
   "metadata": {},
   "outputs": [],
   "source": []
  },
  {
   "cell_type": "code",
   "execution_count": null,
   "metadata": {},
   "outputs": [],
   "source": []
  }
 ],
 "metadata": {
  "kernelspec": {
   "display_name": "Python 3",
   "language": "python",
   "name": "python3"
  },
  "language_info": {
   "codemirror_mode": {
    "name": "ipython",
    "version": 3
   },
   "file_extension": ".py",
   "mimetype": "text/x-python",
   "name": "python",
   "nbconvert_exporter": "python",
   "pygments_lexer": "ipython3",
   "version": "3.8.10"
  }
 },
 "nbformat": 4,
 "nbformat_minor": 2
}
