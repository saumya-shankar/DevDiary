{
 "cells": [
  {
   "cell_type": "code",
   "execution_count": 1,
   "metadata": {},
   "outputs": [],
   "source": [
    "import numpy as np\n",
    "import matplotlib.pyplot as plt\n",
    "from celluloid import Camera\n",
    "from IPython.display import HTML\n",
    "import pandas as pd\n",
    "import random\n",
    "import copy"
   ]
  },
  {
   "cell_type": "code",
   "execution_count": 2,
   "metadata": {},
   "outputs": [],
   "source": [
    "\n",
    "class FourLinkArm:\n",
    "    \n",
    "    def __init__(self):\n",
    "        # Set parameters for the 3-link planar arm\n",
    "        self.theta1 = np.deg2rad(0)\n",
    "        self.theta2 = np.deg2rad(90)\n",
    "        self.theta3 = np.deg2rad(90)\n",
    "        self.theta4 = np.deg2rad(90)\n",
    "        self.orig_l1 = np.random.randint(4,9)\n",
    "        self.orig_l2 = np.random.randint(4,9)\n",
    "        self.orig_l3 = np.random.randint(4,9)\n",
    "        self.orig_l4 = np.random.randint(4,9)\n",
    "        self.l1=copy.copy(self.orig_l1)\n",
    "        self.l2=copy.copy(self.orig_l2)\n",
    "        self.l3=copy.copy(self.orig_l3)\n",
    "        self.l4=copy.copy(self.orig_l4)\n",
    "        max_len_shift=int(np.min([self.l1,self.l2,self.l3,self.l4])*(2/3))\n",
    "        self.arr1=np.linspace(-max_len_shift,max_len_shift,np.random.randint(10,50))\n",
    "        self.arr1=np.append(self.arr1,np.flip(self.arr1))\n",
    "        self.permute=np.random.permutation([1,1,-1,-1])\n",
    "\n",
    "    def forwardKinematics(self, theta1, theta2, theta3,theta4):\n",
    "        # Define the homogeneous transformation matrices for the 4-link planar arm\n",
    "        self.theta1 = theta1\n",
    "        self.theta2 = theta2\n",
    "        self.theta3 = theta3\n",
    "        self.theta4 = theta4\n",
    "        self.t01 = np.matrix([[np.cos(self.theta1), -np.sin(self.theta1), 0], \n",
    "                              [np.sin(self.theta1), np.cos(self.theta1), 0],\n",
    "                              [0, 0, 1]])\n",
    "        self.t12 = np.matrix([[np.cos(self.theta2), -np.sin(self.theta2), self.l1],\n",
    "                              [np.sin(self.theta2), np.cos(self.theta2), 0],\n",
    "                              [0, 0, 1]])\n",
    "        self.t23 = np.matrix([[np.cos(self.theta3), -np.sin(self.theta3), self.l2],\n",
    "                              [np.sin(self.theta3), np.cos(self.theta3), 0],\n",
    "                              [0, 0, 1]])        \n",
    "        self.t34 = np.matrix([[np.cos(self.theta4), -np.sin(self.theta4), self.l3],\n",
    "                              [np.sin(self.theta4), np.cos(self.theta4), 0],\n",
    "                              [0, 0, 1]])\n",
    "        self.t4end = np.matrix([[np.cos(self.theta4), -np.sin(self.theta4), self.l4],\n",
    "                                [np.sin(self.theta4), np.cos(self.theta4), 0],\n",
    "                                [0, 0, 1]])\n",
    "\n",
    "        self.t0end = self.t01*self.t12*self.t23*self.t34*self.t4end\n",
    "        return self.t0end\n",
    "    \n",
    "    def findJointPos(self): \n",
    "        # Find the x,y position of each joint and end effector so it can be plotted\n",
    "        # Find the transformation matrices for joint 2 and joint 3 and joint 4\n",
    "        self.t02 = self.t01*self.t12\n",
    "        self.t03 = self.t01*self.t12*self.t23\n",
    "        self.t04 = self.t01*self.t12*self.t23*self.t34\n",
    "        # Find the x, y coordinates for joints 2 and 3 and 4. Put them in a list j2 = [x,y]\n",
    "        j2 = [ self.t02[0, 2], self.t02[1, 2] ]\n",
    "        j3 = [ self.t03[0, 2], self.t03[1, 2] ]\n",
    "        j4 = [ self.t04[0, 2], self.t04[1, 2] ]\n",
    "        endeff = [self.t0end[0,2],self.t0end[1,2]]\n",
    "        \n",
    "        self.jnt2pos, self.jnt3pos, self.jnt4pos, self.endEffPos = j2,j3,j4,endeff\n",
    "        return j2,j3,j4,endeff\n",
    "    \n",
    "    def geomJacobian(self, jnt2pos=None, jnt3pos=None, jnt4pos=None, endEffPos=None):\n",
    "        if jnt2pos is None:\n",
    "            jnt2pos=self.jnt2pos \n",
    "        if jnt3pos is None:\n",
    "            jnt3pos=self.jnt3pos\n",
    "        if jnt4pos is None:\n",
    "            jnt4pos=self.jnt4pos\n",
    "        if endEffPos is None:\n",
    "            endEffPos=self.endEffPos\n",
    "        ai = np.array([0,0,1])\n",
    "        col0 = np.array(endEffPos + [0])\n",
    "        col1 = np.array(endEffPos + [0]) - np.array(jnt2pos + [0])\n",
    "        col2 = np.array(endEffPos + [0]) - np.array(jnt3pos + [0])\n",
    "        col3 = np.array(endEffPos + [0]) - np.array(jnt4pos + [0])\n",
    "        J = np.array([np.cross(ai,col0), np.cross(ai,col1), np.cross(ai,col2), np.cross(ai,col3)]).T \n",
    "        return J\n",
    "    \n",
    "    def random_link_len_change(self,i):\n",
    "        self.l1=self.orig_l1+self.permute[0]*self.arr1[i%len(self.arr1)]\n",
    "        self.l2=self.orig_l2+self.permute[1]*self.arr1[i%len(self.arr1)]\n",
    "        self.l3=self.orig_l3+self.permute[2]*self.arr1[i%len(self.arr1)]\n",
    "        self.l4=self.orig_l4+self.permute[3]*self.arr1[i%len(self.arr1)]"
   ]
  },
  {
   "cell_type": "code",
   "execution_count": 3,
   "metadata": {},
   "outputs": [],
   "source": [
    "def plotArm(jnt2pos, jnt3pos, jnt4pos, endEffectPos, target=None, step=None):\n",
    "    # set up figure\n",
    "    fig = plt.figure(figsize=(10,10))\n",
    "    ax = fig.add_subplot(111, autoscale_on=False, xlim=(-25, 25), ylim=(-25, 25))\n",
    "    ax.grid()\n",
    "    \n",
    "    if step is not None:\n",
    "        step = np.array(step)\n",
    "        plt.scatter(step[:, 0],step[:, 1], color='lightblue', marker='o')\n",
    "        plt.plot(step[:, 0],step[:, 1], color='lightblue')\n",
    "    if target is not None:\n",
    "        target = np.array(target)\n",
    "        plt.scatter(target[:, 0],target[:, 1], color='red', marker='o')\n",
    "        \n",
    "    line, = ax.plot([], [], 'o-', lw=4, mew=5)\n",
    "    time_text = ax.text(0.02, 0.95, '', transform=ax.transAxes)\n",
    "\n",
    "    line.set_data([], [])\n",
    "    time_text.set_text('')\n",
    "    x = np.array([0, jnt2pos[0], jnt3pos[0], jnt4pos[0], endEffectPos[0]])\n",
    "    y = np.array([0, jnt2pos[1], jnt3pos[1], jnt4pos[1], endEffectPos[1]])\n",
    "    line.set_data((x,y))\n",
    "    \n",
    "    plt.show()\n",
    "    \n",
    "# gif animation plotter\n",
    "def plotArm2(jnt2pos, jnt3pos, jnt4pos, endEffectPos,x2,y2, target=None, step=None, fig=None, camera=None):\n",
    "    # set up figure\n",
    "    ax = fig.add_subplot(111, autoscale_on=False,\n",
    "                         xlim=(-25, 25), ylim=(-25, 25))\n",
    "    ax.grid()\n",
    "    line, = ax.plot([], [], 'o-', lw=4, mew=5, color='lightblue')\n",
    "    time_text = ax.text(0.02, 0.95, '', transform=ax.transAxes)\n",
    "\n",
    "    line.set_data([], [])\n",
    "    time_text.set_text('')\n",
    "    x = np.array([0, jnt2pos[0], jnt3pos[0], jnt4pos[0], endEffectPos[0]])\n",
    "    y = np.array([0, jnt2pos[1], jnt3pos[1], jnt4pos[1], endEffectPos[1]])\n",
    "    line.set_data((x,y))\n",
    "    \n",
    "    plt.plot([jnt2pos[0],x2[0]],[jnt2pos[1],y2[0]],'o-', lw=2, mew=5, color='black')\n",
    "    plt.plot([jnt2pos[0],x2[1]],[jnt2pos[1],y2[1]],'o-', lw=2, mew=5, color='black')\n",
    "\n",
    "\n",
    "    if step is not None:\n",
    "        step = np.array(step)\n",
    "        plt.scatter(step[:, 0],step[:, 1], color='lightblue', marker='o')\n",
    "        plt.plot(step[:, 0],step[:, 1], color='lightblue')\n",
    "    if target is not None:\n",
    "        target = np.array(target)\n",
    "        plt.scatter(target[:, 0],target[:, 1], color='red', marker='o')\n",
    "\n",
    "    camera.snap()"
   ]
  },
  {
   "cell_type": "markdown",
   "metadata": {},
   "source": [
    "In this part, let's plan some simple polynomial trajectories in the work space. "
   ]
  },
  {
   "cell_type": "markdown",
   "metadata": {},
   "source": [
    "First, setup a simple environment with the arm manipulator and four intermediate interpolation points."
   ]
  },
  {
   "cell_type": "code",
   "execution_count": 4,
   "metadata": {},
   "outputs": [],
   "source": [
    "def create_simulation(animation_index,samples):\n",
    "    \n",
    "    # Setup our new manipulator\n",
    "    arm = FourLinkArm()\n",
    "    \n",
    "    # define the initial configuration of the manipulator (you are welcomed to try other values)\n",
    "    initTheta = [np.deg2rad(0),np.deg2rad(45),np.deg2rad(-45),np.deg2rad(45)]\n",
    "\n",
    "    # Initialise the arm with the initial values\n",
    "    _ = arm.forwardKinematics(*initTheta)\n",
    "\n",
    "    # Get the initial end-effector position \n",
    "    init_joint2pos, init_joint3pos, init_joint4pos, EF_init_pos = arm.findJointPos()\n",
    "\n",
    "    # Define the target postions of the end-effector\n",
    "    # EF_target_pos = np.array([[EF_init_pos[0], 6.,2.,-4.,-8.],\n",
    "    #                           [EF_init_pos[1], -6.,8.,-5.,6.]]).T\n",
    "    ##Choose points randomly, choose x equally spaced and y randomly\n",
    "    L=arm.l1+arm.l2+arm.l3+arm.l4\n",
    "    print(L)\n",
    "    x_points=np.array([2/3*L, 1/3*L, -1/3*L, -2/3*L])\n",
    "\n",
    "    y_points=[]\n",
    "    R=3*L/4\n",
    "    for i in range(4):\n",
    "        y_points.append(random.uniform(-1*np.sqrt(R**2-x_points[i]**2),\n",
    "                                          np.sqrt(R**2-x_points[i]**2)))\n",
    "    y_points=np.array(y_points)\n",
    "    \n",
    "    EF_target_pos = np.array([[EF_init_pos[0], x_points[0],x_points[1],x_points[2],x_points[3]],\n",
    "                              [EF_init_pos[1], y_points[0],y_points[1],y_points[2],y_points[3]]]).T\n",
    "\n",
    "    # Plot the pose of the arm\n",
    "    #plotArm(*arm.findJointPos(), target=EF_target_pos)\n",
    "    print(f\"The interpolation points are stored in the variable \\\"EF_target_pos\\\": \\n{EF_target_pos}\")\n",
    "    \n",
    "    pol = np.polyfit(EF_target_pos[:, 0], EF_target_pos[:, 1], EF_target_pos.shape[0]-1)  # polynomial coefficients\n",
    "    \n",
    "    # Plotting the planned trajectory\n",
    "    #epsilon = 100\n",
    "    epsilon = samples\n",
    "    \n",
    "    xx = np.linspace(EF_target_pos[0,0],EF_target_pos[-1,0], epsilon)\n",
    "    yy = np.polyval(pol,xx)   \n",
    "    curve = np.hstack([xx[:, None], yy[:, None]]) \n",
    "    \n",
    "    interpolated_points=curve\n",
    "\n",
    "#     plotArm(*arm.findJointPos(), target=EF_target_pos, step=interpolated_points)\n",
    "    print(f\"The intermediate points are stored in the variable \\\"interpolated_points\\\"\")\n",
    "    \n",
    "    # set the current E-F position for the IK loop\n",
    "    joint2pos, joint3pos, joint4pos, endEffectorPos = init_joint2pos, init_joint3pos, init_joint4pos, EF_init_pos\n",
    "    # set the initial robot configuration\n",
    "    newTheta = initTheta\n",
    "\n",
    "    # Set up the animation generator\n",
    "    fig = plt.figure(figsize=(10,10))\n",
    "    camera = Camera(fig)\n",
    "    \n",
    "    temp_eeff_angle=np.append(np.linspace(0,45,int(interpolated_points.shape[0]/8)),\n",
    "                          np.linspace(45,0,int(interpolated_points.shape[0]/8)))\n",
    "    \n",
    "    wrist_len_orig=np.random.randint(2,arm.l2+1)\n",
    "    \n",
    "    keypoints_data=pd.DataFrame(columns=range((5+2)*2),dtype=float)\n",
    "    arr2=np.linspace(-int(wrist_len_orig/2),int(wrist_len_orig/2),np.random.randint(10,50))\n",
    "    \n",
    "    arr2=np.append(arr2,np.flip(arr2))\n",
    "\n",
    "    for i in range(interpolated_points.shape[0]):\n",
    "        J = arm.geomJacobian()\n",
    "\n",
    "        newgoal = interpolated_points[i, :]\n",
    "        deltaStep = newgoal - endEffectorPos\n",
    "        subtarget = np.array([deltaStep[0], deltaStep[1], 0]) \n",
    "\n",
    "        radTheta = np.linalg.pinv(J) @ subtarget\n",
    "        newTheta = newTheta + radTheta\n",
    "\n",
    "        # ----------- Do forward kinematics to plot the arm ---------------\n",
    "        arm.random_link_len_change(i)\n",
    "        wrist_len=wrist_len_orig+arr2[i%len(arr2)]\n",
    "\n",
    "        _ = arm.forwardKinematics(newTheta[0],newTheta[1],newTheta[2],newTheta[3])\n",
    "        joint2pos, joint3pos, joint4pos, endEffectorPos = arm.findJointPos()\n",
    "\n",
    "        x2=[]\n",
    "        y2=[]\n",
    "\n",
    "        x2=x2+[arm.l1*np.cos(newTheta[0]) \\\n",
    "               +wrist_len*np.cos(newTheta[0]+newTheta[1]+np.deg2rad(temp_eeff_angle[i%len(temp_eeff_angle)]))]\n",
    "    \n",
    "        y2=y2+[arm.l1*np.sin(newTheta[0]) \\\n",
    "               +wrist_len*np.sin(newTheta[0]+newTheta[1]+np.deg2rad(temp_eeff_angle[i%len(temp_eeff_angle)]))]\n",
    "        \n",
    "        x2=x2+[arm.l1*np.cos(newTheta[0]) \\\n",
    "               +wrist_len*np.cos(newTheta[0]+newTheta[1]-np.deg2rad(temp_eeff_angle[i%len(temp_eeff_angle)]))]\n",
    "    \n",
    "        y2=y2+[arm.l1*np.sin(newTheta[0]) \\\n",
    "               +wrist_len*np.sin(newTheta[0]+newTheta[1]-np.deg2rad(temp_eeff_angle[i%len(temp_eeff_angle)]))]\n",
    "\n",
    "        temp_keypoints=np.array([0,0,joint2pos[0],joint2pos[1],joint3pos[0],joint3pos[1],joint4pos[0],joint4pos[1],\n",
    "                                 endEffectorPos[0],endEffectorPos[1]])\n",
    "        \n",
    "        temp_keypoints=np.append(temp_keypoints,np.array([x2[0],y2[0],x2[1],y2[1]]))\n",
    "        \n",
    "        keypoints_data = keypoints_data.append(pd.DataFrame(temp_keypoints[None,:],columns=keypoints_data.columns),\n",
    "                                               ignore_index = True)\n",
    "        \n",
    "        plotArm2(joint2pos, joint3pos, joint4pos, endEffectorPos,x2,y2, target=EF_target_pos, fig=fig, camera=camera)\n",
    "\n",
    "\n",
    "    plt.close()\n",
    "    animation = camera.animate()\n",
    "    animation.save('./animated_motion_dynamic_len/animated_motion'+str(animation_index)+'.gif', writer = 'imagemagick')\n",
    "    \n",
    "    # create the adjacency matrix\n",
    "    adj_mat=np.zeros((5+2,5+2))\n",
    "    adj_mat[0][1]=1\n",
    "    adj_mat[1][2]=1\n",
    "    adj_mat[2][3]=1\n",
    "    adj_mat[3][4]=1\n",
    "    adj_mat[1][5]=1\n",
    "    adj_mat[1][6]=1\n",
    "    \n",
    "    pd.DataFrame(adj_mat).astype(int).to_csv('./animated_motion_dynamic_len/adj_mat'+str(animation_index)+'.csv')\n",
    "    keypoints_data.to_csv('./animated_motion_dynamic_len/ts_data'+str(animation_index)+'.csv')    \n",
    "    "
   ]
  },
  {
   "cell_type": "code",
   "execution_count": 5,
   "metadata": {},
   "outputs": [],
   "source": [
    "import os\n",
    "os.environ['MAGICK_THREAD_LIMIT'] = '2'"
   ]
  },
  {
   "cell_type": "code",
   "execution_count": 6,
   "metadata": {},
   "outputs": [],
   "source": [
    "# create_simulation(1027,50)"
   ]
  },
  {
   "cell_type": "code",
   "execution_count": 7,
   "metadata": {},
   "outputs": [
    {
     "name": "stdout",
     "output_type": "stream",
     "text": [
      "19\n",
      "The interpolation points are stored in the variable \"EF_target_pos\": \n",
      "[[ 15.77817459   7.77817459]\n",
      " [ 12.66666667   2.09600716]\n",
      " [  6.33333333  -1.77983514]\n",
      " [ -6.33333333   8.00157094]\n",
      " [-12.66666667   2.1389914 ]]\n",
      "The intermediate points are stored in the variable \"interpolated_points\"\n"
     ]
    },
    {
     "name": "stderr",
     "output_type": "stream",
     "text": [
      "<ipython-input-3-898a7604bba6>:29: MatplotlibDeprecationWarning: Adding an axes using the same arguments as a previous axes currently reuses the earlier instance.  In a future version, a new instance will always be created and returned.  Meanwhile, this warning can be suppressed, and the future behavior ensured, by passing a unique label to each axes instance.\n",
      "  ax = fig.add_subplot(111, autoscale_on=False,\n"
     ]
    },
    {
     "name": "stdout",
     "output_type": "stream",
     "text": [
      "21\n",
      "The interpolation points are stored in the variable \"EF_target_pos\": \n",
      "[[ 17.48528137   8.48528137]\n",
      " [ 14.          -3.81761228]\n",
      " [  7.           0.72949161]\n",
      " [ -7.          -3.67065511]\n",
      " [-14.           6.53935531]]\n",
      "The intermediate points are stored in the variable \"interpolated_points\"\n"
     ]
    },
    {
     "name": "stderr",
     "output_type": "stream",
     "text": [
      "<ipython-input-3-898a7604bba6>:29: MatplotlibDeprecationWarning: Adding an axes using the same arguments as a previous axes currently reuses the earlier instance.  In a future version, a new instance will always be created and returned.  Meanwhile, this warning can be suppressed, and the future behavior ensured, by passing a unique label to each axes instance.\n",
      "  ax = fig.add_subplot(111, autoscale_on=False,\n"
     ]
    },
    {
     "name": "stdout",
     "output_type": "stream",
     "text": [
      "25\n",
      "The interpolation points are stored in the variable \"EF_target_pos\": \n",
      "[[ 22.07106781   7.07106781]\n",
      " [ 16.66666667   7.22120232]\n",
      " [  8.33333333  13.80006675]\n",
      " [ -8.33333333  -9.57044141]\n",
      " [-16.66666667  -0.19582448]]\n",
      "The intermediate points are stored in the variable \"interpolated_points\"\n"
     ]
    },
    {
     "name": "stderr",
     "output_type": "stream",
     "text": [
      "<ipython-input-3-898a7604bba6>:29: MatplotlibDeprecationWarning: Adding an axes using the same arguments as a previous axes currently reuses the earlier instance.  In a future version, a new instance will always be created and returned.  Meanwhile, this warning can be suppressed, and the future behavior ensured, by passing a unique label to each axes instance.\n",
      "  ax = fig.add_subplot(111, autoscale_on=False,\n"
     ]
    },
    {
     "name": "stdout",
     "output_type": "stream",
     "text": [
      "21\n",
      "The interpolation points are stored in the variable \"EF_target_pos\": \n",
      "[[ 18.07106781   7.07106781]\n",
      " [ 14.           3.21499562]\n",
      " [  7.         -10.05825404]\n",
      " [ -7.          -0.09911462]\n",
      " [-14.          -0.36729697]]\n",
      "The intermediate points are stored in the variable \"interpolated_points\"\n"
     ]
    },
    {
     "name": "stderr",
     "output_type": "stream",
     "text": [
      "<ipython-input-3-898a7604bba6>:29: MatplotlibDeprecationWarning: Adding an axes using the same arguments as a previous axes currently reuses the earlier instance.  In a future version, a new instance will always be created and returned.  Meanwhile, this warning can be suppressed, and the future behavior ensured, by passing a unique label to each axes instance.\n",
      "  ax = fig.add_subplot(111, autoscale_on=False,\n"
     ]
    },
    {
     "name": "stdout",
     "output_type": "stream",
     "text": [
      "22\n",
      "The interpolation points are stored in the variable \"EF_target_pos\": \n",
      "[[ 19.07106781   7.07106781]\n",
      " [ 14.66666667  -7.022474  ]\n",
      " [  7.33333333  -0.0488403 ]\n",
      " [ -7.33333333 -11.48820406]\n",
      " [-14.66666667   3.5208303 ]]\n",
      "The intermediate points are stored in the variable \"interpolated_points\"\n"
     ]
    },
    {
     "name": "stderr",
     "output_type": "stream",
     "text": [
      "<ipython-input-3-898a7604bba6>:29: MatplotlibDeprecationWarning: Adding an axes using the same arguments as a previous axes currently reuses the earlier instance.  In a future version, a new instance will always be created and returned.  Meanwhile, this warning can be suppressed, and the future behavior ensured, by passing a unique label to each axes instance.\n",
      "  ax = fig.add_subplot(111, autoscale_on=False,\n"
     ]
    },
    {
     "name": "stdout",
     "output_type": "stream",
     "text": [
      "28\n",
      "The interpolation points are stored in the variable \"EF_target_pos\": \n",
      "[[ 23.60660172  10.60660172]\n",
      " [ 18.66666667  -2.06787167]\n",
      " [  9.33333333 -10.563272  ]\n",
      " [ -9.33333333  -7.27791555]\n",
      " [-18.66666667   7.89403939]]\n",
      "The intermediate points are stored in the variable \"interpolated_points\"\n"
     ]
    },
    {
     "name": "stderr",
     "output_type": "stream",
     "text": [
      "<ipython-input-3-898a7604bba6>:29: MatplotlibDeprecationWarning: Adding an axes using the same arguments as a previous axes currently reuses the earlier instance.  In a future version, a new instance will always be created and returned.  Meanwhile, this warning can be suppressed, and the future behavior ensured, by passing a unique label to each axes instance.\n",
      "  ax = fig.add_subplot(111, autoscale_on=False,\n"
     ]
    },
    {
     "name": "stdout",
     "output_type": "stream",
     "text": [
      "29\n",
      "The interpolation points are stored in the variable \"EF_target_pos\": \n",
      "[[ 24.60660172  10.60660172]\n",
      " [ 19.33333333   4.52700205]\n",
      " [  9.66666667  -0.15705077]\n",
      " [ -9.66666667 -17.18322368]\n",
      " [-19.33333333  -7.36948987]]\n",
      "The intermediate points are stored in the variable \"interpolated_points\"\n"
     ]
    },
    {
     "name": "stderr",
     "output_type": "stream",
     "text": [
      "<ipython-input-3-898a7604bba6>:29: MatplotlibDeprecationWarning: Adding an axes using the same arguments as a previous axes currently reuses the earlier instance.  In a future version, a new instance will always be created and returned.  Meanwhile, this warning can be suppressed, and the future behavior ensured, by passing a unique label to each axes instance.\n",
      "  ax = fig.add_subplot(111, autoscale_on=False,\n"
     ]
    },
    {
     "name": "stdout",
     "output_type": "stream",
     "text": [
      "22\n",
      "The interpolation points are stored in the variable \"EF_target_pos\": \n",
      "[[ 18.19238816   9.19238816]\n",
      " [ 14.66666667   7.25775583]\n",
      " [  7.33333333   8.46231387]\n",
      " [ -7.33333333  10.43992673]\n",
      " [-14.66666667  -5.95471522]]\n",
      "The intermediate points are stored in the variable \"interpolated_points\"\n"
     ]
    },
    {
     "name": "stderr",
     "output_type": "stream",
     "text": [
      "<ipython-input-3-898a7604bba6>:29: MatplotlibDeprecationWarning: Adding an axes using the same arguments as a previous axes currently reuses the earlier instance.  In a future version, a new instance will always be created and returned.  Meanwhile, this warning can be suppressed, and the future behavior ensured, by passing a unique label to each axes instance.\n",
      "  ax = fig.add_subplot(111, autoscale_on=False,\n"
     ]
    },
    {
     "name": "stdout",
     "output_type": "stream",
     "text": [
      "23\n",
      "The interpolation points are stored in the variable \"EF_target_pos\": \n",
      "[[ 19.77817459   7.77817459]\n",
      " [ 15.33333333   5.57161469]\n",
      " [  7.66666667   3.95373362]\n",
      " [ -7.66666667  10.26238299]\n",
      " [-15.33333333   6.29047038]]\n",
      "The intermediate points are stored in the variable \"interpolated_points\"\n"
     ]
    },
    {
     "name": "stderr",
     "output_type": "stream",
     "text": [
      "<ipython-input-3-898a7604bba6>:29: MatplotlibDeprecationWarning: Adding an axes using the same arguments as a previous axes currently reuses the earlier instance.  In a future version, a new instance will always be created and returned.  Meanwhile, this warning can be suppressed, and the future behavior ensured, by passing a unique label to each axes instance.\n",
      "  ax = fig.add_subplot(111, autoscale_on=False,\n"
     ]
    },
    {
     "name": "stdout",
     "output_type": "stream",
     "text": [
      "21\n",
      "The interpolation points are stored in the variable \"EF_target_pos\": \n",
      "[[ 17.48528137   8.48528137]\n",
      " [ 14.           5.72009982]\n",
      " [  7.           1.67581239]\n",
      " [ -7.           1.54344425]\n",
      " [-14.           6.93824736]]\n",
      "The intermediate points are stored in the variable \"interpolated_points\"\n"
     ]
    },
    {
     "name": "stderr",
     "output_type": "stream",
     "text": [
      "<ipython-input-3-898a7604bba6>:29: MatplotlibDeprecationWarning: Adding an axes using the same arguments as a previous axes currently reuses the earlier instance.  In a future version, a new instance will always be created and returned.  Meanwhile, this warning can be suppressed, and the future behavior ensured, by passing a unique label to each axes instance.\n",
      "  ax = fig.add_subplot(111, autoscale_on=False,\n"
     ]
    },
    {
     "name": "stdout",
     "output_type": "stream",
     "text": [
      "23\n",
      "The interpolation points are stored in the variable \"EF_target_pos\": \n",
      "[[ 20.07106781   7.07106781]\n",
      " [ 15.33333333  -6.08849285]\n",
      " [  7.66666667  -9.82354665]\n",
      " [ -7.66666667  -2.11332847]\n",
      " [-15.33333333  -6.39854708]]\n",
      "The intermediate points are stored in the variable \"interpolated_points\"\n"
     ]
    },
    {
     "name": "stderr",
     "output_type": "stream",
     "text": [
      "<ipython-input-3-898a7604bba6>:29: MatplotlibDeprecationWarning: Adding an axes using the same arguments as a previous axes currently reuses the earlier instance.  In a future version, a new instance will always be created and returned.  Meanwhile, this warning can be suppressed, and the future behavior ensured, by passing a unique label to each axes instance.\n",
      "  ax = fig.add_subplot(111, autoscale_on=False,\n"
     ]
    },
    {
     "name": "stdout",
     "output_type": "stream",
     "text": [
      "25\n",
      "The interpolation points are stored in the variable \"EF_target_pos\": \n",
      "[[ 21.19238816   9.19238816]\n",
      " [ 16.66666667  -7.52358391]\n",
      " [  8.33333333  15.90264683]\n",
      " [ -8.33333333  11.55645761]\n",
      " [-16.66666667   7.32010923]]\n",
      "The intermediate points are stored in the variable \"interpolated_points\"\n"
     ]
    },
    {
     "name": "stderr",
     "output_type": "stream",
     "text": [
      "<ipython-input-3-898a7604bba6>:29: MatplotlibDeprecationWarning: Adding an axes using the same arguments as a previous axes currently reuses the earlier instance.  In a future version, a new instance will always be created and returned.  Meanwhile, this warning can be suppressed, and the future behavior ensured, by passing a unique label to each axes instance.\n",
      "  ax = fig.add_subplot(111, autoscale_on=False,\n"
     ]
    },
    {
     "name": "stdout",
     "output_type": "stream",
     "text": [
      "28\n",
      "The interpolation points are stored in the variable \"EF_target_pos\": \n",
      "[[ 23.3137085   11.3137085 ]\n",
      " [ 18.66666667  -0.93029551]\n",
      " [  9.33333333   1.03406664]\n",
      " [ -9.33333333  -4.3710062 ]\n",
      " [-18.66666667   1.40167074]]\n",
      "The intermediate points are stored in the variable \"interpolated_points\"\n"
     ]
    },
    {
     "name": "stderr",
     "output_type": "stream",
     "text": [
      "<ipython-input-3-898a7604bba6>:29: MatplotlibDeprecationWarning: Adding an axes using the same arguments as a previous axes currently reuses the earlier instance.  In a future version, a new instance will always be created and returned.  Meanwhile, this warning can be suppressed, and the future behavior ensured, by passing a unique label to each axes instance.\n",
      "  ax = fig.add_subplot(111, autoscale_on=False,\n"
     ]
    },
    {
     "name": "stdout",
     "output_type": "stream",
     "text": [
      "27\n",
      "The interpolation points are stored in the variable \"EF_target_pos\": \n",
      "[[ 23.48528137   8.48528137]\n",
      " [ 18.           0.58112217]\n",
      " [  9.           5.86489257]\n",
      " [ -9.          -6.02107161]\n",
      " [-18.          -4.32397336]]\n",
      "The intermediate points are stored in the variable \"interpolated_points\"\n"
     ]
    },
    {
     "name": "stderr",
     "output_type": "stream",
     "text": [
      "<ipython-input-3-898a7604bba6>:29: MatplotlibDeprecationWarning: Adding an axes using the same arguments as a previous axes currently reuses the earlier instance.  In a future version, a new instance will always be created and returned.  Meanwhile, this warning can be suppressed, and the future behavior ensured, by passing a unique label to each axes instance.\n",
      "  ax = fig.add_subplot(111, autoscale_on=False,\n"
     ]
    },
    {
     "name": "stdout",
     "output_type": "stream",
     "text": [
      "30\n",
      "The interpolation points are stored in the variable \"EF_target_pos\": \n",
      "[[ 25.60660172  10.60660172]\n",
      " [ 20.          -5.08916838]\n",
      " [ 10.          -1.68851626]\n",
      " [-10.           5.35673801]\n",
      " [-20.          -9.54871857]]\n",
      "The intermediate points are stored in the variable \"interpolated_points\"\n"
     ]
    },
    {
     "name": "stderr",
     "output_type": "stream",
     "text": [
      "<ipython-input-3-898a7604bba6>:29: MatplotlibDeprecationWarning: Adding an axes using the same arguments as a previous axes currently reuses the earlier instance.  In a future version, a new instance will always be created and returned.  Meanwhile, this warning can be suppressed, and the future behavior ensured, by passing a unique label to each axes instance.\n",
      "  ax = fig.add_subplot(111, autoscale_on=False,\n"
     ]
    },
    {
     "name": "stdout",
     "output_type": "stream",
     "text": [
      "23\n",
      "The interpolation points are stored in the variable \"EF_target_pos\": \n",
      "[[ 19.48528137   8.48528137]\n",
      " [ 15.33333333  -2.60395199]\n",
      " [  7.66666667  -0.66132901]\n",
      " [ -7.66666667 -10.5217296 ]\n",
      " [-15.33333333  -1.55165949]]\n",
      "The intermediate points are stored in the variable \"interpolated_points\"\n"
     ]
    },
    {
     "name": "stderr",
     "output_type": "stream",
     "text": [
      "<ipython-input-3-898a7604bba6>:29: MatplotlibDeprecationWarning: Adding an axes using the same arguments as a previous axes currently reuses the earlier instance.  In a future version, a new instance will always be created and returned.  Meanwhile, this warning can be suppressed, and the future behavior ensured, by passing a unique label to each axes instance.\n",
      "  ax = fig.add_subplot(111, autoscale_on=False,\n"
     ]
    },
    {
     "name": "stdout",
     "output_type": "stream",
     "text": [
      "21\n",
      "The interpolation points are stored in the variable \"EF_target_pos\": \n",
      "[[ 18.36396103   6.36396103]\n",
      " [ 14.          -6.44225228]\n",
      " [  7.           8.14542948]\n",
      " [ -7.           9.04805469]\n",
      " [-14.           0.97539831]]\n",
      "The intermediate points are stored in the variable \"interpolated_points\"\n"
     ]
    },
    {
     "name": "stderr",
     "output_type": "stream",
     "text": [
      "<ipython-input-3-898a7604bba6>:29: MatplotlibDeprecationWarning: Adding an axes using the same arguments as a previous axes currently reuses the earlier instance.  In a future version, a new instance will always be created and returned.  Meanwhile, this warning can be suppressed, and the future behavior ensured, by passing a unique label to each axes instance.\n",
      "  ax = fig.add_subplot(111, autoscale_on=False,\n"
     ]
    },
    {
     "name": "stdout",
     "output_type": "stream",
     "text": [
      "23\n",
      "The interpolation points are stored in the variable \"EF_target_pos\": \n",
      "[[ 19.77817459   7.77817459]\n",
      " [ 15.33333333  -2.00901517]\n",
      " [  7.66666667 -13.94899868]\n",
      " [ -7.66666667  -7.89615178]\n",
      " [-15.33333333   3.12411508]]\n",
      "The intermediate points are stored in the variable \"interpolated_points\"\n"
     ]
    },
    {
     "name": "stderr",
     "output_type": "stream",
     "text": [
      "<ipython-input-3-898a7604bba6>:29: MatplotlibDeprecationWarning: Adding an axes using the same arguments as a previous axes currently reuses the earlier instance.  In a future version, a new instance will always be created and returned.  Meanwhile, this warning can be suppressed, and the future behavior ensured, by passing a unique label to each axes instance.\n",
      "  ax = fig.add_subplot(111, autoscale_on=False,\n"
     ]
    },
    {
     "name": "stdout",
     "output_type": "stream",
     "text": [
      "22\n",
      "The interpolation points are stored in the variable \"EF_target_pos\": \n",
      "[[ 18.77817459   7.77817459]\n",
      " [ 14.66666667  -3.26149518]\n",
      " [  7.33333333  -5.9678216 ]\n",
      " [ -7.33333333   3.19007614]\n",
      " [-14.66666667   1.57701118]]\n",
      "The intermediate points are stored in the variable \"interpolated_points\"\n"
     ]
    },
    {
     "name": "stderr",
     "output_type": "stream",
     "text": [
      "<ipython-input-3-898a7604bba6>:29: MatplotlibDeprecationWarning: Adding an axes using the same arguments as a previous axes currently reuses the earlier instance.  In a future version, a new instance will always be created and returned.  Meanwhile, this warning can be suppressed, and the future behavior ensured, by passing a unique label to each axes instance.\n",
      "  ax = fig.add_subplot(111, autoscale_on=False,\n"
     ]
    },
    {
     "name": "stdout",
     "output_type": "stream",
     "text": [
      "27\n",
      "The interpolation points are stored in the variable \"EF_target_pos\": \n",
      "[[ 23.48528137   8.48528137]\n",
      " [ 18.          -4.12670174]\n",
      " [  9.         -17.41273608]\n",
      " [ -9.           2.34467182]\n",
      " [-18.           4.92263673]]\n",
      "The intermediate points are stored in the variable \"interpolated_points\"\n"
     ]
    },
    {
     "name": "stderr",
     "output_type": "stream",
     "text": [
      "<ipython-input-3-898a7604bba6>:29: MatplotlibDeprecationWarning: Adding an axes using the same arguments as a previous axes currently reuses the earlier instance.  In a future version, a new instance will always be created and returned.  Meanwhile, this warning can be suppressed, and the future behavior ensured, by passing a unique label to each axes instance.\n",
      "  ax = fig.add_subplot(111, autoscale_on=False,\n"
     ]
    },
    {
     "name": "stdout",
     "output_type": "stream",
     "text": [
      "27\n",
      "The interpolation points are stored in the variable \"EF_target_pos\": \n",
      "[[ 23.19238816   9.19238816]\n",
      " [ 18.           7.77370537]\n",
      " [  9.          11.11500147]\n",
      " [ -9.          16.14696117]\n",
      " [-18.           0.71299744]]\n",
      "The intermediate points are stored in the variable \"interpolated_points\"\n"
     ]
    },
    {
     "name": "stderr",
     "output_type": "stream",
     "text": [
      "<ipython-input-3-898a7604bba6>:29: MatplotlibDeprecationWarning: Adding an axes using the same arguments as a previous axes currently reuses the earlier instance.  In a future version, a new instance will always be created and returned.  Meanwhile, this warning can be suppressed, and the future behavior ensured, by passing a unique label to each axes instance.\n",
      "  ax = fig.add_subplot(111, autoscale_on=False,\n"
     ]
    },
    {
     "name": "stdout",
     "output_type": "stream",
     "text": [
      "26\n",
      "The interpolation points are stored in the variable \"EF_target_pos\": \n",
      "[[ 21.3137085   11.3137085 ]\n",
      " [ 17.33333333   0.74651817]\n",
      " [  8.66666667 -11.45606316]\n",
      " [ -8.66666667   0.8262322 ]\n",
      " [-17.33333333  -7.05295833]]\n",
      "The intermediate points are stored in the variable \"interpolated_points\"\n"
     ]
    },
    {
     "name": "stderr",
     "output_type": "stream",
     "text": [
      "<ipython-input-3-898a7604bba6>:29: MatplotlibDeprecationWarning: Adding an axes using the same arguments as a previous axes currently reuses the earlier instance.  In a future version, a new instance will always be created and returned.  Meanwhile, this warning can be suppressed, and the future behavior ensured, by passing a unique label to each axes instance.\n",
      "  ax = fig.add_subplot(111, autoscale_on=False,\n"
     ]
    },
    {
     "name": "stdout",
     "output_type": "stream",
     "text": [
      "24\n",
      "The interpolation points are stored in the variable \"EF_target_pos\": \n",
      "[[ 20.19238816   9.19238816]\n",
      " [ 16.          -2.24309371]\n",
      " [  8.         -10.17146324]\n",
      " [ -8.          -7.79866178]\n",
      " [-16.           3.96909534]]\n",
      "The intermediate points are stored in the variable \"interpolated_points\"\n"
     ]
    },
    {
     "name": "stderr",
     "output_type": "stream",
     "text": [
      "<ipython-input-3-898a7604bba6>:29: MatplotlibDeprecationWarning: Adding an axes using the same arguments as a previous axes currently reuses the earlier instance.  In a future version, a new instance will always be created and returned.  Meanwhile, this warning can be suppressed, and the future behavior ensured, by passing a unique label to each axes instance.\n",
      "  ax = fig.add_subplot(111, autoscale_on=False,\n"
     ]
    },
    {
     "name": "stdout",
     "output_type": "stream",
     "text": [
      "26\n",
      "The interpolation points are stored in the variable \"EF_target_pos\": \n",
      "[[ 21.3137085   11.3137085 ]\n",
      " [ 17.33333333  -8.50311635]\n",
      " [  8.66666667   6.81124365]\n",
      " [ -8.66666667  15.44193073]\n",
      " [-17.33333333  -4.29165701]]\n",
      "The intermediate points are stored in the variable \"interpolated_points\"\n"
     ]
    },
    {
     "name": "stderr",
     "output_type": "stream",
     "text": [
      "<ipython-input-3-898a7604bba6>:29: MatplotlibDeprecationWarning: Adding an axes using the same arguments as a previous axes currently reuses the earlier instance.  In a future version, a new instance will always be created and returned.  Meanwhile, this warning can be suppressed, and the future behavior ensured, by passing a unique label to each axes instance.\n",
      "  ax = fig.add_subplot(111, autoscale_on=False,\n"
     ]
    },
    {
     "name": "stdout",
     "output_type": "stream",
     "text": [
      "19\n",
      "The interpolation points are stored in the variable \"EF_target_pos\": \n",
      "[[ 16.36396103   6.36396103]\n",
      " [ 12.66666667   5.87863283]\n",
      " [  6.33333333  -4.91152669]\n",
      " [ -6.33333333   8.84669897]\n",
      " [-12.66666667   4.97774658]]\n",
      "The intermediate points are stored in the variable \"interpolated_points\"\n"
     ]
    },
    {
     "name": "stderr",
     "output_type": "stream",
     "text": [
      "<ipython-input-3-898a7604bba6>:29: MatplotlibDeprecationWarning: Adding an axes using the same arguments as a previous axes currently reuses the earlier instance.  In a future version, a new instance will always be created and returned.  Meanwhile, this warning can be suppressed, and the future behavior ensured, by passing a unique label to each axes instance.\n",
      "  ax = fig.add_subplot(111, autoscale_on=False,\n"
     ]
    },
    {
     "name": "stdout",
     "output_type": "stream",
     "text": [
      "21\n",
      "The interpolation points are stored in the variable \"EF_target_pos\": \n",
      "[[ 17.77817459   7.77817459]\n",
      " [ 14.           4.46740291]\n",
      " [  7.          -1.90670658]\n",
      " [ -7.           7.3041531 ]\n",
      " [-14.           7.01348273]]\n",
      "The intermediate points are stored in the variable \"interpolated_points\"\n"
     ]
    },
    {
     "name": "stderr",
     "output_type": "stream",
     "text": [
      "<ipython-input-3-898a7604bba6>:29: MatplotlibDeprecationWarning: Adding an axes using the same arguments as a previous axes currently reuses the earlier instance.  In a future version, a new instance will always be created and returned.  Meanwhile, this warning can be suppressed, and the future behavior ensured, by passing a unique label to each axes instance.\n",
      "  ax = fig.add_subplot(111, autoscale_on=False,\n"
     ]
    },
    {
     "name": "stdout",
     "output_type": "stream",
     "text": [
      "24\n",
      "The interpolation points are stored in the variable \"EF_target_pos\": \n",
      "[[ 20.48528137   8.48528137]\n",
      " [ 16.           7.054456  ]\n",
      " [  8.         -13.38422871]\n",
      " [ -8.          11.28939395]\n",
      " [-16.           5.29413988]]\n",
      "The intermediate points are stored in the variable \"interpolated_points\"\n"
     ]
    },
    {
     "name": "stderr",
     "output_type": "stream",
     "text": [
      "<ipython-input-3-898a7604bba6>:29: MatplotlibDeprecationWarning: Adding an axes using the same arguments as a previous axes currently reuses the earlier instance.  In a future version, a new instance will always be created and returned.  Meanwhile, this warning can be suppressed, and the future behavior ensured, by passing a unique label to each axes instance.\n",
      "  ax = fig.add_subplot(111, autoscale_on=False,\n"
     ]
    },
    {
     "name": "stdout",
     "output_type": "stream",
     "text": [
      "22\n",
      "The interpolation points are stored in the variable \"EF_target_pos\": \n",
      "[[ 18.48528137   8.48528137]\n",
      " [ 14.66666667   5.72756487]\n",
      " [  7.33333333 -14.07383214]\n",
      " [ -7.33333333  -0.78909699]\n",
      " [-14.66666667  -0.85822574]]\n",
      "The intermediate points are stored in the variable \"interpolated_points\"\n"
     ]
    },
    {
     "name": "stderr",
     "output_type": "stream",
     "text": [
      "<ipython-input-3-898a7604bba6>:29: MatplotlibDeprecationWarning: Adding an axes using the same arguments as a previous axes currently reuses the earlier instance.  In a future version, a new instance will always be created and returned.  Meanwhile, this warning can be suppressed, and the future behavior ensured, by passing a unique label to each axes instance.\n",
      "  ax = fig.add_subplot(111, autoscale_on=False,\n"
     ]
    },
    {
     "name": "stdout",
     "output_type": "stream",
     "text": [
      "27\n",
      "The interpolation points are stored in the variable \"EF_target_pos\": \n",
      "[[ 23.19238816   9.19238816]\n",
      " [ 18.           6.91047697]\n",
      " [  9.         -12.52252163]\n",
      " [ -9.           5.25957756]\n",
      " [-18.          -2.25472454]]\n",
      "The intermediate points are stored in the variable \"interpolated_points\"\n"
     ]
    },
    {
     "name": "stderr",
     "output_type": "stream",
     "text": [
      "<ipython-input-3-898a7604bba6>:29: MatplotlibDeprecationWarning: Adding an axes using the same arguments as a previous axes currently reuses the earlier instance.  In a future version, a new instance will always be created and returned.  Meanwhile, this warning can be suppressed, and the future behavior ensured, by passing a unique label to each axes instance.\n",
      "  ax = fig.add_subplot(111, autoscale_on=False,\n"
     ]
    },
    {
     "name": "stdout",
     "output_type": "stream",
     "text": [
      "23\n",
      "The interpolation points are stored in the variable \"EF_target_pos\": \n",
      "[[ 19.19238816   9.19238816]\n",
      " [ 15.33333333  -1.44308264]\n",
      " [  7.66666667   9.89219405]\n",
      " [ -7.66666667  12.71449559]\n",
      " [-15.33333333  -7.87824541]]\n",
      "The intermediate points are stored in the variable \"interpolated_points\"\n"
     ]
    },
    {
     "name": "stderr",
     "output_type": "stream",
     "text": [
      "<ipython-input-3-898a7604bba6>:29: MatplotlibDeprecationWarning: Adding an axes using the same arguments as a previous axes currently reuses the earlier instance.  In a future version, a new instance will always be created and returned.  Meanwhile, this warning can be suppressed, and the future behavior ensured, by passing a unique label to each axes instance.\n",
      "  ax = fig.add_subplot(111, autoscale_on=False,\n"
     ]
    },
    {
     "name": "stdout",
     "output_type": "stream",
     "text": [
      "29\n",
      "The interpolation points are stored in the variable \"EF_target_pos\": \n",
      "[[ 24.89949494   9.89949494]\n",
      " [ 19.33333333   6.78800981]\n",
      " [  9.66666667  -7.71953057]\n",
      " [ -9.66666667   6.36701344]\n",
      " [-19.33333333  -6.86212258]]\n",
      "The intermediate points are stored in the variable \"interpolated_points\"\n"
     ]
    },
    {
     "name": "stderr",
     "output_type": "stream",
     "text": [
      "<ipython-input-3-898a7604bba6>:29: MatplotlibDeprecationWarning: Adding an axes using the same arguments as a previous axes currently reuses the earlier instance.  In a future version, a new instance will always be created and returned.  Meanwhile, this warning can be suppressed, and the future behavior ensured, by passing a unique label to each axes instance.\n",
      "  ax = fig.add_subplot(111, autoscale_on=False,\n"
     ]
    },
    {
     "name": "stdout",
     "output_type": "stream",
     "text": [
      "23\n",
      "The interpolation points are stored in the variable \"EF_target_pos\": \n",
      "[[ 19.48528137   8.48528137]\n",
      " [ 15.33333333  -6.0340928 ]\n",
      " [  7.66666667   4.69129374]\n",
      " [ -7.66666667   5.71850747]\n",
      " [-15.33333333   3.89917407]]\n",
      "The intermediate points are stored in the variable \"interpolated_points\"\n"
     ]
    },
    {
     "name": "stderr",
     "output_type": "stream",
     "text": [
      "<ipython-input-3-898a7604bba6>:29: MatplotlibDeprecationWarning: Adding an axes using the same arguments as a previous axes currently reuses the earlier instance.  In a future version, a new instance will always be created and returned.  Meanwhile, this warning can be suppressed, and the future behavior ensured, by passing a unique label to each axes instance.\n",
      "  ax = fig.add_subplot(111, autoscale_on=False,\n"
     ]
    },
    {
     "name": "stdout",
     "output_type": "stream",
     "text": [
      "26\n",
      "The interpolation points are stored in the variable \"EF_target_pos\": \n",
      "[[ 22.48528137   8.48528137]\n",
      " [ 17.33333333   7.12247274]\n",
      " [  8.66666667   1.5428337 ]\n",
      " [ -8.66666667  10.24602758]\n",
      " [-17.33333333  -8.01290097]]\n",
      "The intermediate points are stored in the variable \"interpolated_points\"\n"
     ]
    },
    {
     "name": "stderr",
     "output_type": "stream",
     "text": [
      "<ipython-input-3-898a7604bba6>:29: MatplotlibDeprecationWarning: Adding an axes using the same arguments as a previous axes currently reuses the earlier instance.  In a future version, a new instance will always be created and returned.  Meanwhile, this warning can be suppressed, and the future behavior ensured, by passing a unique label to each axes instance.\n",
      "  ax = fig.add_subplot(111, autoscale_on=False,\n"
     ]
    },
    {
     "name": "stdout",
     "output_type": "stream",
     "text": [
      "22\n",
      "The interpolation points are stored in the variable \"EF_target_pos\": \n",
      "[[ 17.89949494   9.89949494]\n",
      " [ 14.66666667   6.8324638 ]\n",
      " [  7.33333333   1.43609667]\n",
      " [ -7.33333333   1.8091573 ]\n",
      " [-14.66666667   5.22365634]]\n",
      "The intermediate points are stored in the variable \"interpolated_points\"\n"
     ]
    },
    {
     "name": "stderr",
     "output_type": "stream",
     "text": [
      "<ipython-input-3-898a7604bba6>:29: MatplotlibDeprecationWarning: Adding an axes using the same arguments as a previous axes currently reuses the earlier instance.  In a future version, a new instance will always be created and returned.  Meanwhile, this warning can be suppressed, and the future behavior ensured, by passing a unique label to each axes instance.\n",
      "  ax = fig.add_subplot(111, autoscale_on=False,\n"
     ]
    },
    {
     "name": "stdout",
     "output_type": "stream",
     "text": [
      "23\n",
      "The interpolation points are stored in the variable \"EF_target_pos\": \n",
      "[[ 19.48528137   8.48528137]\n",
      " [ 15.33333333   2.59538761]\n",
      " [  7.66666667  12.44368374]\n",
      " [ -7.66666667  14.68022256]\n",
      " [-15.33333333   4.38631466]]\n",
      "The intermediate points are stored in the variable \"interpolated_points\"\n"
     ]
    },
    {
     "name": "stderr",
     "output_type": "stream",
     "text": [
      "<ipython-input-3-898a7604bba6>:29: MatplotlibDeprecationWarning: Adding an axes using the same arguments as a previous axes currently reuses the earlier instance.  In a future version, a new instance will always be created and returned.  Meanwhile, this warning can be suppressed, and the future behavior ensured, by passing a unique label to each axes instance.\n",
      "  ax = fig.add_subplot(111, autoscale_on=False,\n"
     ]
    },
    {
     "name": "stdout",
     "output_type": "stream",
     "text": [
      "23\n",
      "The interpolation points are stored in the variable \"EF_target_pos\": \n",
      "[[ 20.07106781   7.07106781]\n",
      " [ 15.33333333  -5.47057208]\n",
      " [  7.66666667   2.48475782]\n",
      " [ -7.66666667  -6.31090395]\n",
      " [-15.33333333  -4.30211279]]\n",
      "The intermediate points are stored in the variable \"interpolated_points\"\n"
     ]
    },
    {
     "name": "stderr",
     "output_type": "stream",
     "text": [
      "<ipython-input-3-898a7604bba6>:29: MatplotlibDeprecationWarning: Adding an axes using the same arguments as a previous axes currently reuses the earlier instance.  In a future version, a new instance will always be created and returned.  Meanwhile, this warning can be suppressed, and the future behavior ensured, by passing a unique label to each axes instance.\n",
      "  ax = fig.add_subplot(111, autoscale_on=False,\n"
     ]
    },
    {
     "name": "stdout",
     "output_type": "stream",
     "text": [
      "27\n",
      "The interpolation points are stored in the variable \"EF_target_pos\": \n",
      "[[ 22.60660172  10.60660172]\n",
      " [ 18.          -7.68134673]\n",
      " [  9.           8.01493967]\n",
      " [ -9.           5.00023112]\n",
      " [-18.          -3.89222102]]\n",
      "The intermediate points are stored in the variable \"interpolated_points\"\n"
     ]
    },
    {
     "name": "stderr",
     "output_type": "stream",
     "text": [
      "<ipython-input-3-898a7604bba6>:29: MatplotlibDeprecationWarning: Adding an axes using the same arguments as a previous axes currently reuses the earlier instance.  In a future version, a new instance will always be created and returned.  Meanwhile, this warning can be suppressed, and the future behavior ensured, by passing a unique label to each axes instance.\n",
      "  ax = fig.add_subplot(111, autoscale_on=False,\n"
     ]
    },
    {
     "name": "stdout",
     "output_type": "stream",
     "text": [
      "22\n",
      "The interpolation points are stored in the variable \"EF_target_pos\": \n",
      "[[ 19.07106781   7.07106781]\n",
      " [ 14.66666667  -5.09610411]\n",
      " [  7.33333333  -7.8105592 ]\n",
      " [ -7.33333333  13.91424673]\n",
      " [-14.66666667   6.32787137]]\n",
      "The intermediate points are stored in the variable \"interpolated_points\"\n"
     ]
    },
    {
     "name": "stderr",
     "output_type": "stream",
     "text": [
      "<ipython-input-3-898a7604bba6>:29: MatplotlibDeprecationWarning: Adding an axes using the same arguments as a previous axes currently reuses the earlier instance.  In a future version, a new instance will always be created and returned.  Meanwhile, this warning can be suppressed, and the future behavior ensured, by passing a unique label to each axes instance.\n",
      "  ax = fig.add_subplot(111, autoscale_on=False,\n"
     ]
    },
    {
     "name": "stdout",
     "output_type": "stream",
     "text": [
      "22\n",
      "The interpolation points are stored in the variable \"EF_target_pos\": \n",
      "[[ 19.07106781   7.07106781]\n",
      " [ 14.66666667  -4.04331157]\n",
      " [  7.33333333   4.08240636]\n",
      " [ -7.33333333   2.8897811 ]\n",
      " [-14.66666667  -6.57907017]]\n",
      "The intermediate points are stored in the variable \"interpolated_points\"\n"
     ]
    },
    {
     "name": "stderr",
     "output_type": "stream",
     "text": [
      "<ipython-input-3-898a7604bba6>:29: MatplotlibDeprecationWarning: Adding an axes using the same arguments as a previous axes currently reuses the earlier instance.  In a future version, a new instance will always be created and returned.  Meanwhile, this warning can be suppressed, and the future behavior ensured, by passing a unique label to each axes instance.\n",
      "  ax = fig.add_subplot(111, autoscale_on=False,\n"
     ]
    },
    {
     "name": "stdout",
     "output_type": "stream",
     "text": [
      "28\n",
      "The interpolation points are stored in the variable \"EF_target_pos\": \n",
      "[[ 23.60660172  10.60660172]\n",
      " [ 18.66666667   4.6588933 ]\n",
      " [  9.33333333 -15.73311756]\n",
      " [ -9.33333333  -9.02303219]\n",
      " [-18.66666667   1.74712917]]\n",
      "The intermediate points are stored in the variable \"interpolated_points\"\n"
     ]
    },
    {
     "name": "stderr",
     "output_type": "stream",
     "text": [
      "<ipython-input-3-898a7604bba6>:29: MatplotlibDeprecationWarning: Adding an axes using the same arguments as a previous axes currently reuses the earlier instance.  In a future version, a new instance will always be created and returned.  Meanwhile, this warning can be suppressed, and the future behavior ensured, by passing a unique label to each axes instance.\n",
      "  ax = fig.add_subplot(111, autoscale_on=False,\n"
     ]
    },
    {
     "name": "stdout",
     "output_type": "stream",
     "text": [
      "25\n",
      "The interpolation points are stored in the variable \"EF_target_pos\": \n",
      "[[ 21.48528137   8.48528137]\n",
      " [ 16.66666667  -6.41729282]\n",
      " [  8.33333333  11.03769512]\n",
      " [ -8.33333333  -0.81823525]\n",
      " [-16.66666667   1.03102313]]\n",
      "The intermediate points are stored in the variable \"interpolated_points\"\n"
     ]
    },
    {
     "name": "stderr",
     "output_type": "stream",
     "text": [
      "<ipython-input-3-898a7604bba6>:29: MatplotlibDeprecationWarning: Adding an axes using the same arguments as a previous axes currently reuses the earlier instance.  In a future version, a new instance will always be created and returned.  Meanwhile, this warning can be suppressed, and the future behavior ensured, by passing a unique label to each axes instance.\n",
      "  ax = fig.add_subplot(111, autoscale_on=False,\n"
     ]
    },
    {
     "name": "stdout",
     "output_type": "stream",
     "text": [
      "26\n",
      "The interpolation points are stored in the variable \"EF_target_pos\": \n",
      "[[ 22.19238816   9.19238816]\n",
      " [ 17.33333333  -1.12134766]\n",
      " [  8.66666667  -0.67629412]\n",
      " [ -8.66666667   6.47944031]\n",
      " [-17.33333333   3.04704301]]\n",
      "The intermediate points are stored in the variable \"interpolated_points\"\n"
     ]
    },
    {
     "name": "stderr",
     "output_type": "stream",
     "text": [
      "<ipython-input-3-898a7604bba6>:29: MatplotlibDeprecationWarning: Adding an axes using the same arguments as a previous axes currently reuses the earlier instance.  In a future version, a new instance will always be created and returned.  Meanwhile, this warning can be suppressed, and the future behavior ensured, by passing a unique label to each axes instance.\n",
      "  ax = fig.add_subplot(111, autoscale_on=False,\n"
     ]
    },
    {
     "name": "stdout",
     "output_type": "stream",
     "text": [
      "30\n",
      "The interpolation points are stored in the variable \"EF_target_pos\": \n",
      "[[ 25.60660172  10.60660172]\n",
      " [ 20.          -6.58389588]\n",
      " [ 10.          -5.97187059]\n",
      " [-10.           5.51872149]\n",
      " [-20.          -1.77962393]]\n",
      "The intermediate points are stored in the variable \"interpolated_points\"\n"
     ]
    },
    {
     "name": "stderr",
     "output_type": "stream",
     "text": [
      "<ipython-input-3-898a7604bba6>:29: MatplotlibDeprecationWarning: Adding an axes using the same arguments as a previous axes currently reuses the earlier instance.  In a future version, a new instance will always be created and returned.  Meanwhile, this warning can be suppressed, and the future behavior ensured, by passing a unique label to each axes instance.\n",
      "  ax = fig.add_subplot(111, autoscale_on=False,\n"
     ]
    },
    {
     "name": "stdout",
     "output_type": "stream",
     "text": [
      "25\n",
      "The interpolation points are stored in the variable \"EF_target_pos\": \n",
      "[[ 21.48528137   8.48528137]\n",
      " [ 16.66666667   0.0880586 ]\n",
      " [  8.33333333   3.15062655]\n",
      " [ -8.33333333   8.60419568]\n",
      " [-16.66666667  -4.49387106]]\n",
      "The intermediate points are stored in the variable \"interpolated_points\"\n"
     ]
    },
    {
     "name": "stderr",
     "output_type": "stream",
     "text": [
      "<ipython-input-3-898a7604bba6>:29: MatplotlibDeprecationWarning: Adding an axes using the same arguments as a previous axes currently reuses the earlier instance.  In a future version, a new instance will always be created and returned.  Meanwhile, this warning can be suppressed, and the future behavior ensured, by passing a unique label to each axes instance.\n",
      "  ax = fig.add_subplot(111, autoscale_on=False,\n"
     ]
    },
    {
     "name": "stdout",
     "output_type": "stream",
     "text": [
      "20\n",
      "The interpolation points are stored in the variable \"EF_target_pos\": \n",
      "[[ 17.65685425   5.65685425]\n",
      " [ 13.33333333  -5.47582124]\n",
      " [  6.66666667  -5.23037658]\n",
      " [ -6.66666667 -12.04794191]\n",
      " [-13.33333333   1.4151122 ]]\n",
      "The intermediate points are stored in the variable \"interpolated_points\"\n"
     ]
    },
    {
     "name": "stderr",
     "output_type": "stream",
     "text": [
      "<ipython-input-3-898a7604bba6>:29: MatplotlibDeprecationWarning: Adding an axes using the same arguments as a previous axes currently reuses the earlier instance.  In a future version, a new instance will always be created and returned.  Meanwhile, this warning can be suppressed, and the future behavior ensured, by passing a unique label to each axes instance.\n",
      "  ax = fig.add_subplot(111, autoscale_on=False,\n"
     ]
    },
    {
     "name": "stdout",
     "output_type": "stream",
     "text": [
      "26\n",
      "The interpolation points are stored in the variable \"EF_target_pos\": \n",
      "[[ 22.77817459   7.77817459]\n",
      " [ 17.33333333   8.58422793]\n",
      " [  8.66666667  -1.87198234]\n",
      " [ -8.66666667  11.89436332]\n",
      " [-17.33333333  -5.79834711]]\n",
      "The intermediate points are stored in the variable \"interpolated_points\"\n"
     ]
    },
    {
     "name": "stderr",
     "output_type": "stream",
     "text": [
      "<ipython-input-3-898a7604bba6>:29: MatplotlibDeprecationWarning: Adding an axes using the same arguments as a previous axes currently reuses the earlier instance.  In a future version, a new instance will always be created and returned.  Meanwhile, this warning can be suppressed, and the future behavior ensured, by passing a unique label to each axes instance.\n",
      "  ax = fig.add_subplot(111, autoscale_on=False,\n"
     ]
    },
    {
     "name": "stdout",
     "output_type": "stream",
     "text": [
      "21\n",
      "The interpolation points are stored in the variable \"EF_target_pos\": \n",
      "[[ 17.19238816   9.19238816]\n",
      " [ 14.          -1.25776375]\n",
      " [  7.          -7.0678124 ]\n",
      " [ -7.          -6.9195326 ]\n",
      " [-14.           5.67022031]]\n",
      "The intermediate points are stored in the variable \"interpolated_points\"\n"
     ]
    },
    {
     "name": "stderr",
     "output_type": "stream",
     "text": [
      "<ipython-input-3-898a7604bba6>:29: MatplotlibDeprecationWarning: Adding an axes using the same arguments as a previous axes currently reuses the earlier instance.  In a future version, a new instance will always be created and returned.  Meanwhile, this warning can be suppressed, and the future behavior ensured, by passing a unique label to each axes instance.\n",
      "  ax = fig.add_subplot(111, autoscale_on=False,\n"
     ]
    },
    {
     "name": "stdout",
     "output_type": "stream",
     "text": [
      "23\n",
      "The interpolation points are stored in the variable \"EF_target_pos\": \n",
      "[[ 19.48528137   8.48528137]\n",
      " [ 15.33333333   7.73550944]\n",
      " [  7.66666667  -2.49404716]\n",
      " [ -7.66666667   3.97293243]\n",
      " [-15.33333333   0.49874792]]\n",
      "The intermediate points are stored in the variable \"interpolated_points\"\n"
     ]
    },
    {
     "name": "stderr",
     "output_type": "stream",
     "text": [
      "<ipython-input-3-898a7604bba6>:29: MatplotlibDeprecationWarning: Adding an axes using the same arguments as a previous axes currently reuses the earlier instance.  In a future version, a new instance will always be created and returned.  Meanwhile, this warning can be suppressed, and the future behavior ensured, by passing a unique label to each axes instance.\n",
      "  ax = fig.add_subplot(111, autoscale_on=False,\n"
     ]
    },
    {
     "name": "stdout",
     "output_type": "stream",
     "text": [
      "18\n",
      "The interpolation points are stored in the variable \"EF_target_pos\": \n",
      "[[ 15.65685425   5.65685425]\n",
      " [ 12.          -1.07727245]\n",
      " [  6.          -6.91022141]\n",
      " [ -6.           6.7085117 ]\n",
      " [-12.           3.38067202]]\n",
      "The intermediate points are stored in the variable \"interpolated_points\"\n"
     ]
    },
    {
     "name": "stderr",
     "output_type": "stream",
     "text": [
      "<ipython-input-3-898a7604bba6>:29: MatplotlibDeprecationWarning: Adding an axes using the same arguments as a previous axes currently reuses the earlier instance.  In a future version, a new instance will always be created and returned.  Meanwhile, this warning can be suppressed, and the future behavior ensured, by passing a unique label to each axes instance.\n",
      "  ax = fig.add_subplot(111, autoscale_on=False,\n"
     ]
    },
    {
     "name": "stdout",
     "output_type": "stream",
     "text": [
      "20\n",
      "The interpolation points are stored in the variable \"EF_target_pos\": \n",
      "[[ 16.48528137   8.48528137]\n",
      " [ 13.33333333   0.79523798]\n",
      " [  6.66666667  -1.63129458]\n",
      " [ -6.66666667   2.47667747]\n",
      " [-13.33333333   5.32824608]]\n",
      "The intermediate points are stored in the variable \"interpolated_points\"\n"
     ]
    },
    {
     "name": "stderr",
     "output_type": "stream",
     "text": [
      "<ipython-input-3-898a7604bba6>:29: MatplotlibDeprecationWarning: Adding an axes using the same arguments as a previous axes currently reuses the earlier instance.  In a future version, a new instance will always be created and returned.  Meanwhile, this warning can be suppressed, and the future behavior ensured, by passing a unique label to each axes instance.\n",
      "  ax = fig.add_subplot(111, autoscale_on=False,\n"
     ]
    },
    {
     "name": "stdout",
     "output_type": "stream",
     "text": [
      "25\n",
      "The interpolation points are stored in the variable \"EF_target_pos\": \n",
      "[[ 20.3137085   11.3137085 ]\n",
      " [ 16.66666667   0.3297896 ]\n",
      " [  8.33333333   1.53068078]\n",
      " [ -8.33333333  -1.45034412]\n",
      " [-16.66666667   1.13232152]]\n",
      "The intermediate points are stored in the variable \"interpolated_points\"\n"
     ]
    },
    {
     "name": "stderr",
     "output_type": "stream",
     "text": [
      "<ipython-input-3-898a7604bba6>:29: MatplotlibDeprecationWarning: Adding an axes using the same arguments as a previous axes currently reuses the earlier instance.  In a future version, a new instance will always be created and returned.  Meanwhile, this warning can be suppressed, and the future behavior ensured, by passing a unique label to each axes instance.\n",
      "  ax = fig.add_subplot(111, autoscale_on=False,\n"
     ]
    },
    {
     "name": "stdout",
     "output_type": "stream",
     "text": [
      "25\n",
      "The interpolation points are stored in the variable \"EF_target_pos\": \n",
      "[[ 20.60660172  10.60660172]\n",
      " [ 16.66666667   5.57551963]\n",
      " [  8.33333333 -16.2358511 ]\n",
      " [ -8.33333333  16.19167635]\n",
      " [-16.66666667   2.70120821]]\n",
      "The intermediate points are stored in the variable \"interpolated_points\"\n"
     ]
    },
    {
     "name": "stderr",
     "output_type": "stream",
     "text": [
      "<ipython-input-3-898a7604bba6>:29: MatplotlibDeprecationWarning: Adding an axes using the same arguments as a previous axes currently reuses the earlier instance.  In a future version, a new instance will always be created and returned.  Meanwhile, this warning can be suppressed, and the future behavior ensured, by passing a unique label to each axes instance.\n",
      "  ax = fig.add_subplot(111, autoscale_on=False,\n"
     ]
    },
    {
     "name": "stdout",
     "output_type": "stream",
     "text": [
      "25\n",
      "The interpolation points are stored in the variable \"EF_target_pos\": \n",
      "[[ 21.77817459   7.77817459]\n",
      " [ 16.66666667  -6.54264149]\n",
      " [  8.33333333 -14.62597094]\n",
      " [ -8.33333333  -3.92649464]\n",
      " [-16.66666667  -8.09258813]]\n",
      "The intermediate points are stored in the variable \"interpolated_points\"\n"
     ]
    },
    {
     "name": "stderr",
     "output_type": "stream",
     "text": [
      "<ipython-input-3-898a7604bba6>:29: MatplotlibDeprecationWarning: Adding an axes using the same arguments as a previous axes currently reuses the earlier instance.  In a future version, a new instance will always be created and returned.  Meanwhile, this warning can be suppressed, and the future behavior ensured, by passing a unique label to each axes instance.\n",
      "  ax = fig.add_subplot(111, autoscale_on=False,\n"
     ]
    },
    {
     "name": "stdout",
     "output_type": "stream",
     "text": [
      "23\n",
      "The interpolation points are stored in the variable \"EF_target_pos\": \n",
      "[[ 20.07106781   7.07106781]\n",
      " [ 15.33333333   2.81295562]\n",
      " [  7.66666667  -3.16157979]\n",
      " [ -7.66666667  -7.33175484]\n",
      " [-15.33333333   0.96712051]]\n",
      "The intermediate points are stored in the variable \"interpolated_points\"\n"
     ]
    },
    {
     "name": "stderr",
     "output_type": "stream",
     "text": [
      "<ipython-input-3-898a7604bba6>:29: MatplotlibDeprecationWarning: Adding an axes using the same arguments as a previous axes currently reuses the earlier instance.  In a future version, a new instance will always be created and returned.  Meanwhile, this warning can be suppressed, and the future behavior ensured, by passing a unique label to each axes instance.\n",
      "  ax = fig.add_subplot(111, autoscale_on=False,\n"
     ]
    },
    {
     "name": "stdout",
     "output_type": "stream",
     "text": [
      "26\n",
      "The interpolation points are stored in the variable \"EF_target_pos\": \n",
      "[[ 21.89949494   9.89949494]\n",
      " [ 17.33333333  -8.48931661]\n",
      " [  8.66666667  16.40185464]\n",
      " [ -8.66666667  12.74400312]\n",
      " [-17.33333333   7.21168329]]\n",
      "The intermediate points are stored in the variable \"interpolated_points\"\n"
     ]
    },
    {
     "name": "stderr",
     "output_type": "stream",
     "text": [
      "<ipython-input-3-898a7604bba6>:29: MatplotlibDeprecationWarning: Adding an axes using the same arguments as a previous axes currently reuses the earlier instance.  In a future version, a new instance will always be created and returned.  Meanwhile, this warning can be suppressed, and the future behavior ensured, by passing a unique label to each axes instance.\n",
      "  ax = fig.add_subplot(111, autoscale_on=False,\n"
     ]
    },
    {
     "name": "stdout",
     "output_type": "stream",
     "text": [
      "19\n",
      "The interpolation points are stored in the variable \"EF_target_pos\": \n",
      "[[ 16.36396103   6.36396103]\n",
      " [ 12.66666667   3.26206946]\n",
      " [  6.33333333  10.75318905]\n",
      " [ -6.33333333  -2.56390858]\n",
      " [-12.66666667  -3.43301678]]\n",
      "The intermediate points are stored in the variable \"interpolated_points\"\n"
     ]
    },
    {
     "name": "stderr",
     "output_type": "stream",
     "text": [
      "<ipython-input-3-898a7604bba6>:29: MatplotlibDeprecationWarning: Adding an axes using the same arguments as a previous axes currently reuses the earlier instance.  In a future version, a new instance will always be created and returned.  Meanwhile, this warning can be suppressed, and the future behavior ensured, by passing a unique label to each axes instance.\n",
      "  ax = fig.add_subplot(111, autoscale_on=False,\n"
     ]
    },
    {
     "name": "stdout",
     "output_type": "stream",
     "text": [
      "25\n",
      "The interpolation points are stored in the variable \"EF_target_pos\": \n",
      "[[ 21.48528137   8.48528137]\n",
      " [ 16.66666667   6.02925653]\n",
      " [  8.33333333 -15.87892099]\n",
      " [ -8.33333333   7.66522179]\n",
      " [-16.66666667   4.81099692]]\n",
      "The intermediate points are stored in the variable \"interpolated_points\"\n"
     ]
    },
    {
     "name": "stderr",
     "output_type": "stream",
     "text": [
      "<ipython-input-3-898a7604bba6>:29: MatplotlibDeprecationWarning: Adding an axes using the same arguments as a previous axes currently reuses the earlier instance.  In a future version, a new instance will always be created and returned.  Meanwhile, this warning can be suppressed, and the future behavior ensured, by passing a unique label to each axes instance.\n",
      "  ax = fig.add_subplot(111, autoscale_on=False,\n"
     ]
    },
    {
     "name": "stdout",
     "output_type": "stream",
     "text": [
      "25\n",
      "The interpolation points are stored in the variable \"EF_target_pos\": \n",
      "[[ 20.60660172  10.60660172]\n",
      " [ 16.66666667   7.16304285]\n",
      " [  8.33333333   7.12114869]\n",
      " [ -8.33333333 -15.2944659 ]\n",
      " [-16.66666667   7.9722895 ]]\n",
      "The intermediate points are stored in the variable \"interpolated_points\"\n"
     ]
    },
    {
     "name": "stderr",
     "output_type": "stream",
     "text": [
      "<ipython-input-3-898a7604bba6>:29: MatplotlibDeprecationWarning: Adding an axes using the same arguments as a previous axes currently reuses the earlier instance.  In a future version, a new instance will always be created and returned.  Meanwhile, this warning can be suppressed, and the future behavior ensured, by passing a unique label to each axes instance.\n",
      "  ax = fig.add_subplot(111, autoscale_on=False,\n"
     ]
    },
    {
     "name": "stdout",
     "output_type": "stream",
     "text": [
      "25\n",
      "The interpolation points are stored in the variable \"EF_target_pos\": \n",
      "[[ 21.77817459   7.77817459]\n",
      " [ 16.66666667  -7.41560326]\n",
      " [  8.33333333   9.77083564]\n",
      " [ -8.33333333  -6.10222744]\n",
      " [-16.66666667  -3.22869322]]\n",
      "The intermediate points are stored in the variable \"interpolated_points\"\n"
     ]
    },
    {
     "name": "stderr",
     "output_type": "stream",
     "text": [
      "<ipython-input-3-898a7604bba6>:29: MatplotlibDeprecationWarning: Adding an axes using the same arguments as a previous axes currently reuses the earlier instance.  In a future version, a new instance will always be created and returned.  Meanwhile, this warning can be suppressed, and the future behavior ensured, by passing a unique label to each axes instance.\n",
      "  ax = fig.add_subplot(111, autoscale_on=False,\n"
     ]
    },
    {
     "name": "stdout",
     "output_type": "stream",
     "text": [
      "24\n",
      "The interpolation points are stored in the variable \"EF_target_pos\": \n",
      "[[ 20.48528137   8.48528137]\n",
      " [ 16.           7.92512949]\n",
      " [  8.          14.86460269]\n",
      " [ -8.           7.44543549]\n",
      " [-16.           7.1481937 ]]\n",
      "The intermediate points are stored in the variable \"interpolated_points\"\n"
     ]
    },
    {
     "name": "stderr",
     "output_type": "stream",
     "text": [
      "<ipython-input-3-898a7604bba6>:29: MatplotlibDeprecationWarning: Adding an axes using the same arguments as a previous axes currently reuses the earlier instance.  In a future version, a new instance will always be created and returned.  Meanwhile, this warning can be suppressed, and the future behavior ensured, by passing a unique label to each axes instance.\n",
      "  ax = fig.add_subplot(111, autoscale_on=False,\n"
     ]
    },
    {
     "name": "stdout",
     "output_type": "stream",
     "text": [
      "24\n",
      "The interpolation points are stored in the variable \"EF_target_pos\": \n",
      "[[ 19.60660172  10.60660172]\n",
      " [ 16.          -2.72449945]\n",
      " [  8.          13.17037457]\n",
      " [ -8.         -12.1560342 ]\n",
      " [-16.           0.55650473]]\n",
      "The intermediate points are stored in the variable \"interpolated_points\"\n"
     ]
    },
    {
     "name": "stderr",
     "output_type": "stream",
     "text": [
      "<ipython-input-3-898a7604bba6>:29: MatplotlibDeprecationWarning: Adding an axes using the same arguments as a previous axes currently reuses the earlier instance.  In a future version, a new instance will always be created and returned.  Meanwhile, this warning can be suppressed, and the future behavior ensured, by passing a unique label to each axes instance.\n",
      "  ax = fig.add_subplot(111, autoscale_on=False,\n"
     ]
    },
    {
     "name": "stdout",
     "output_type": "stream",
     "text": [
      "23\n",
      "The interpolation points are stored in the variable \"EF_target_pos\": \n",
      "[[ 19.77817459   7.77817459]\n",
      " [ 15.33333333  -4.78944704]\n",
      " [  7.66666667  -3.96698154]\n",
      " [ -7.66666667  15.33613344]\n",
      " [-15.33333333  -1.636738  ]]\n",
      "The intermediate points are stored in the variable \"interpolated_points\"\n"
     ]
    },
    {
     "name": "stderr",
     "output_type": "stream",
     "text": [
      "<ipython-input-3-898a7604bba6>:29: MatplotlibDeprecationWarning: Adding an axes using the same arguments as a previous axes currently reuses the earlier instance.  In a future version, a new instance will always be created and returned.  Meanwhile, this warning can be suppressed, and the future behavior ensured, by passing a unique label to each axes instance.\n",
      "  ax = fig.add_subplot(111, autoscale_on=False,\n"
     ]
    },
    {
     "name": "stdout",
     "output_type": "stream",
     "text": [
      "27\n",
      "The interpolation points are stored in the variable \"EF_target_pos\": \n",
      "[[ 23.19238816   9.19238816]\n",
      " [ 18.           0.49264456]\n",
      " [  9.         -14.43004346]\n",
      " [ -9.           7.44629115]\n",
      " [-18.          -8.99125675]]\n",
      "The intermediate points are stored in the variable \"interpolated_points\"\n"
     ]
    },
    {
     "name": "stderr",
     "output_type": "stream",
     "text": [
      "<ipython-input-3-898a7604bba6>:29: MatplotlibDeprecationWarning: Adding an axes using the same arguments as a previous axes currently reuses the earlier instance.  In a future version, a new instance will always be created and returned.  Meanwhile, this warning can be suppressed, and the future behavior ensured, by passing a unique label to each axes instance.\n",
      "  ax = fig.add_subplot(111, autoscale_on=False,\n"
     ]
    },
    {
     "name": "stdout",
     "output_type": "stream",
     "text": [
      "29\n",
      "The interpolation points are stored in the variable \"EF_target_pos\": \n",
      "[[ 24.89949494   9.89949494]\n",
      " [ 19.33333333  -8.64435242]\n",
      " [  9.66666667  15.7015337 ]\n",
      " [ -9.66666667  18.97713201]\n",
      " [-19.33333333  -7.08970287]]\n",
      "The intermediate points are stored in the variable \"interpolated_points\"\n"
     ]
    },
    {
     "name": "stderr",
     "output_type": "stream",
     "text": [
      "<ipython-input-3-898a7604bba6>:29: MatplotlibDeprecationWarning: Adding an axes using the same arguments as a previous axes currently reuses the earlier instance.  In a future version, a new instance will always be created and returned.  Meanwhile, this warning can be suppressed, and the future behavior ensured, by passing a unique label to each axes instance.\n",
      "  ax = fig.add_subplot(111, autoscale_on=False,\n"
     ]
    },
    {
     "name": "stdout",
     "output_type": "stream",
     "text": [
      "23\n",
      "The interpolation points are stored in the variable \"EF_target_pos\": \n",
      "[[ 19.77817459   7.77817459]\n",
      " [ 15.33333333  -4.19744845]\n",
      " [  7.66666667   2.51870819]\n",
      " [ -7.66666667   5.85312877]\n",
      " [-15.33333333   7.25140056]]\n",
      "The intermediate points are stored in the variable \"interpolated_points\"\n"
     ]
    },
    {
     "name": "stderr",
     "output_type": "stream",
     "text": [
      "<ipython-input-3-898a7604bba6>:29: MatplotlibDeprecationWarning: Adding an axes using the same arguments as a previous axes currently reuses the earlier instance.  In a future version, a new instance will always be created and returned.  Meanwhile, this warning can be suppressed, and the future behavior ensured, by passing a unique label to each axes instance.\n",
      "  ax = fig.add_subplot(111, autoscale_on=False,\n"
     ]
    },
    {
     "name": "stdout",
     "output_type": "stream",
     "text": [
      "24\n",
      "The interpolation points are stored in the variable \"EF_target_pos\": \n",
      "[[ 20.77817459   7.77817459]\n",
      " [ 16.          -0.50883557]\n",
      " [  8.          -2.1490878 ]\n",
      " [ -8.         -15.96067386]\n",
      " [-16.           4.78484649]]\n",
      "The intermediate points are stored in the variable \"interpolated_points\"\n"
     ]
    },
    {
     "name": "stderr",
     "output_type": "stream",
     "text": [
      "<ipython-input-3-898a7604bba6>:29: MatplotlibDeprecationWarning: Adding an axes using the same arguments as a previous axes currently reuses the earlier instance.  In a future version, a new instance will always be created and returned.  Meanwhile, this warning can be suppressed, and the future behavior ensured, by passing a unique label to each axes instance.\n",
      "  ax = fig.add_subplot(111, autoscale_on=False,\n"
     ]
    },
    {
     "name": "stdout",
     "output_type": "stream",
     "text": [
      "25\n",
      "The interpolation points are stored in the variable \"EF_target_pos\": \n",
      "[[ 21.19238816   9.19238816]\n",
      " [ 16.66666667   2.1350458 ]\n",
      " [  8.33333333  13.48768003]\n",
      " [ -8.33333333  -2.29668717]\n",
      " [-16.66666667   2.59942112]]\n",
      "The intermediate points are stored in the variable \"interpolated_points\"\n"
     ]
    },
    {
     "name": "stderr",
     "output_type": "stream",
     "text": [
      "<ipython-input-3-898a7604bba6>:29: MatplotlibDeprecationWarning: Adding an axes using the same arguments as a previous axes currently reuses the earlier instance.  In a future version, a new instance will always be created and returned.  Meanwhile, this warning can be suppressed, and the future behavior ensured, by passing a unique label to each axes instance.\n",
      "  ax = fig.add_subplot(111, autoscale_on=False,\n"
     ]
    },
    {
     "name": "stdout",
     "output_type": "stream",
     "text": [
      "25\n",
      "The interpolation points are stored in the variable \"EF_target_pos\": \n",
      "[[ 22.07106781   7.07106781]\n",
      " [ 16.66666667  -6.76709976]\n",
      " [  8.33333333   0.75012318]\n",
      " [ -8.33333333   2.33553387]\n",
      " [-16.66666667   0.70896888]]\n",
      "The intermediate points are stored in the variable \"interpolated_points\"\n"
     ]
    },
    {
     "name": "stderr",
     "output_type": "stream",
     "text": [
      "<ipython-input-3-898a7604bba6>:29: MatplotlibDeprecationWarning: Adding an axes using the same arguments as a previous axes currently reuses the earlier instance.  In a future version, a new instance will always be created and returned.  Meanwhile, this warning can be suppressed, and the future behavior ensured, by passing a unique label to each axes instance.\n",
      "  ax = fig.add_subplot(111, autoscale_on=False,\n"
     ]
    },
    {
     "name": "stdout",
     "output_type": "stream",
     "text": [
      "30\n",
      "The interpolation points are stored in the variable \"EF_target_pos\": \n",
      "[[ 25.89949494   9.89949494]\n",
      " [ 20.          -4.40489987]\n",
      " [ 10.         -13.78506878]\n",
      " [-10.           7.57772891]\n",
      " [-20.          -1.13106323]]\n",
      "The intermediate points are stored in the variable \"interpolated_points\"\n"
     ]
    },
    {
     "name": "stderr",
     "output_type": "stream",
     "text": [
      "<ipython-input-3-898a7604bba6>:29: MatplotlibDeprecationWarning: Adding an axes using the same arguments as a previous axes currently reuses the earlier instance.  In a future version, a new instance will always be created and returned.  Meanwhile, this warning can be suppressed, and the future behavior ensured, by passing a unique label to each axes instance.\n",
      "  ax = fig.add_subplot(111, autoscale_on=False,\n"
     ]
    },
    {
     "name": "stdout",
     "output_type": "stream",
     "text": [
      "25\n",
      "The interpolation points are stored in the variable \"EF_target_pos\": \n",
      "[[ 21.19238816   9.19238816]\n",
      " [ 16.66666667  -6.31851368]\n",
      " [  8.33333333 -14.62418714]\n",
      " [ -8.33333333 -11.1706714 ]\n",
      " [-16.66666667  -8.11271057]]\n",
      "The intermediate points are stored in the variable \"interpolated_points\"\n"
     ]
    },
    {
     "name": "stderr",
     "output_type": "stream",
     "text": [
      "<ipython-input-3-898a7604bba6>:29: MatplotlibDeprecationWarning: Adding an axes using the same arguments as a previous axes currently reuses the earlier instance.  In a future version, a new instance will always be created and returned.  Meanwhile, this warning can be suppressed, and the future behavior ensured, by passing a unique label to each axes instance.\n",
      "  ax = fig.add_subplot(111, autoscale_on=False,\n"
     ]
    },
    {
     "name": "stdout",
     "output_type": "stream",
     "text": [
      "27\n",
      "The interpolation points are stored in the variable \"EF_target_pos\": \n",
      "[[ 22.89949494   9.89949494]\n",
      " [ 18.           7.15518757]\n",
      " [  9.          16.61314381]\n",
      " [ -9.           2.41989917]\n",
      " [-18.          -2.98564277]]\n",
      "The intermediate points are stored in the variable \"interpolated_points\"\n"
     ]
    },
    {
     "name": "stderr",
     "output_type": "stream",
     "text": [
      "<ipython-input-3-898a7604bba6>:29: MatplotlibDeprecationWarning: Adding an axes using the same arguments as a previous axes currently reuses the earlier instance.  In a future version, a new instance will always be created and returned.  Meanwhile, this warning can be suppressed, and the future behavior ensured, by passing a unique label to each axes instance.\n",
      "  ax = fig.add_subplot(111, autoscale_on=False,\n"
     ]
    },
    {
     "name": "stdout",
     "output_type": "stream",
     "text": [
      "24\n",
      "The interpolation points are stored in the variable \"EF_target_pos\": \n",
      "[[ 21.65685425   5.65685425]\n",
      " [ 16.          -4.77329272]\n",
      " [  8.           5.80658672]\n",
      " [ -8.          -1.70765069]\n",
      " [-16.           1.75139907]]\n",
      "The intermediate points are stored in the variable \"interpolated_points\"\n"
     ]
    },
    {
     "name": "stderr",
     "output_type": "stream",
     "text": [
      "<ipython-input-3-898a7604bba6>:29: MatplotlibDeprecationWarning: Adding an axes using the same arguments as a previous axes currently reuses the earlier instance.  In a future version, a new instance will always be created and returned.  Meanwhile, this warning can be suppressed, and the future behavior ensured, by passing a unique label to each axes instance.\n",
      "  ax = fig.add_subplot(111, autoscale_on=False,\n"
     ]
    },
    {
     "name": "stdout",
     "output_type": "stream",
     "text": [
      "28\n",
      "The interpolation points are stored in the variable \"EF_target_pos\": \n",
      "[[ 24.48528137   8.48528137]\n",
      " [ 18.66666667  -5.66704109]\n",
      " [  9.33333333  -7.58943184]\n",
      " [ -9.33333333   2.78672977]\n",
      " [-18.66666667  -1.01769919]]\n",
      "The intermediate points are stored in the variable \"interpolated_points\"\n"
     ]
    },
    {
     "name": "stderr",
     "output_type": "stream",
     "text": [
      "<ipython-input-3-898a7604bba6>:29: MatplotlibDeprecationWarning: Adding an axes using the same arguments as a previous axes currently reuses the earlier instance.  In a future version, a new instance will always be created and returned.  Meanwhile, this warning can be suppressed, and the future behavior ensured, by passing a unique label to each axes instance.\n",
      "  ax = fig.add_subplot(111, autoscale_on=False,\n"
     ]
    },
    {
     "name": "stdout",
     "output_type": "stream",
     "text": [
      "25\n",
      "The interpolation points are stored in the variable \"EF_target_pos\": \n",
      "[[ 2.11923882e+01  9.19238816e+00]\n",
      " [ 1.66666667e+01  4.40597585e+00]\n",
      " [ 8.33333333e+00 -1.57999373e-02]\n",
      " [-8.33333333e+00 -3.61035313e-01]\n",
      " [-1.66666667e+01  6.38687512e+00]]\n",
      "The intermediate points are stored in the variable \"interpolated_points\"\n"
     ]
    },
    {
     "name": "stderr",
     "output_type": "stream",
     "text": [
      "<ipython-input-3-898a7604bba6>:29: MatplotlibDeprecationWarning: Adding an axes using the same arguments as a previous axes currently reuses the earlier instance.  In a future version, a new instance will always be created and returned.  Meanwhile, this warning can be suppressed, and the future behavior ensured, by passing a unique label to each axes instance.\n",
      "  ax = fig.add_subplot(111, autoscale_on=False,\n"
     ]
    },
    {
     "name": "stdout",
     "output_type": "stream",
     "text": [
      "26\n",
      "The interpolation points are stored in the variable \"EF_target_pos\": \n",
      "[[ 21.89949494   9.89949494]\n",
      " [ 17.33333333   2.08787528]\n",
      " [  8.66666667 -10.57448163]\n",
      " [ -8.66666667  16.79758602]\n",
      " [-17.33333333  -8.59714935]]\n",
      "The intermediate points are stored in the variable \"interpolated_points\"\n"
     ]
    },
    {
     "name": "stderr",
     "output_type": "stream",
     "text": [
      "<ipython-input-3-898a7604bba6>:29: MatplotlibDeprecationWarning: Adding an axes using the same arguments as a previous axes currently reuses the earlier instance.  In a future version, a new instance will always be created and returned.  Meanwhile, this warning can be suppressed, and the future behavior ensured, by passing a unique label to each axes instance.\n",
      "  ax = fig.add_subplot(111, autoscale_on=False,\n"
     ]
    },
    {
     "name": "stdout",
     "output_type": "stream",
     "text": [
      "22\n",
      "The interpolation points are stored in the variable \"EF_target_pos\": \n",
      "[[ 18.19238816   9.19238816]\n",
      " [ 14.66666667   7.03957298]\n",
      " [  7.33333333 -10.07472268]\n",
      " [ -7.33333333  -0.77871584]\n",
      " [-14.66666667   4.52751153]]\n",
      "The intermediate points are stored in the variable \"interpolated_points\"\n"
     ]
    },
    {
     "name": "stderr",
     "output_type": "stream",
     "text": [
      "<ipython-input-3-898a7604bba6>:29: MatplotlibDeprecationWarning: Adding an axes using the same arguments as a previous axes currently reuses the earlier instance.  In a future version, a new instance will always be created and returned.  Meanwhile, this warning can be suppressed, and the future behavior ensured, by passing a unique label to each axes instance.\n",
      "  ax = fig.add_subplot(111, autoscale_on=False,\n"
     ]
    },
    {
     "name": "stdout",
     "output_type": "stream",
     "text": [
      "27\n",
      "The interpolation points are stored in the variable \"EF_target_pos\": \n",
      "[[ 22.60660172  10.60660172]\n",
      " [ 18.           2.64765885]\n",
      " [  9.         -17.05365001]\n",
      " [ -9.           7.10397151]\n",
      " [-18.           5.61207193]]\n",
      "The intermediate points are stored in the variable \"interpolated_points\"\n"
     ]
    },
    {
     "name": "stderr",
     "output_type": "stream",
     "text": [
      "<ipython-input-3-898a7604bba6>:29: MatplotlibDeprecationWarning: Adding an axes using the same arguments as a previous axes currently reuses the earlier instance.  In a future version, a new instance will always be created and returned.  Meanwhile, this warning can be suppressed, and the future behavior ensured, by passing a unique label to each axes instance.\n",
      "  ax = fig.add_subplot(111, autoscale_on=False,\n"
     ]
    },
    {
     "name": "stdout",
     "output_type": "stream",
     "text": [
      "23\n",
      "The interpolation points are stored in the variable \"EF_target_pos\": \n",
      "[[ 19.19238816   9.19238816]\n",
      " [ 15.33333333  -7.21876172]\n",
      " [  7.66666667  -7.97075245]\n",
      " [ -7.66666667  -5.68910433]\n",
      " [-15.33333333  -0.87021037]]\n",
      "The intermediate points are stored in the variable \"interpolated_points\"\n"
     ]
    },
    {
     "name": "stderr",
     "output_type": "stream",
     "text": [
      "<ipython-input-3-898a7604bba6>:29: MatplotlibDeprecationWarning: Adding an axes using the same arguments as a previous axes currently reuses the earlier instance.  In a future version, a new instance will always be created and returned.  Meanwhile, this warning can be suppressed, and the future behavior ensured, by passing a unique label to each axes instance.\n",
      "  ax = fig.add_subplot(111, autoscale_on=False,\n"
     ]
    },
    {
     "name": "stdout",
     "output_type": "stream",
     "text": [
      "20\n",
      "The interpolation points are stored in the variable \"EF_target_pos\": \n",
      "[[ 16.48528137   8.48528137]\n",
      " [ 13.33333333  -5.67426527]\n",
      " [  6.66666667  11.88815715]\n",
      " [ -6.66666667   4.1190367 ]\n",
      " [-13.33333333   5.37342533]]\n",
      "The intermediate points are stored in the variable \"interpolated_points\"\n"
     ]
    },
    {
     "name": "stderr",
     "output_type": "stream",
     "text": [
      "<ipython-input-3-898a7604bba6>:29: MatplotlibDeprecationWarning: Adding an axes using the same arguments as a previous axes currently reuses the earlier instance.  In a future version, a new instance will always be created and returned.  Meanwhile, this warning can be suppressed, and the future behavior ensured, by passing a unique label to each axes instance.\n",
      "  ax = fig.add_subplot(111, autoscale_on=False,\n"
     ]
    },
    {
     "name": "stdout",
     "output_type": "stream",
     "text": [
      "23\n",
      "The interpolation points are stored in the variable \"EF_target_pos\": \n",
      "[[ 18.89949494   9.89949494]\n",
      " [ 15.33333333   6.90309714]\n",
      " [  7.66666667  -8.48677764]\n",
      " [ -7.66666667  14.40497592]\n",
      " [-15.33333333   2.22858836]]\n",
      "The intermediate points are stored in the variable \"interpolated_points\"\n"
     ]
    },
    {
     "name": "stderr",
     "output_type": "stream",
     "text": [
      "<ipython-input-3-898a7604bba6>:29: MatplotlibDeprecationWarning: Adding an axes using the same arguments as a previous axes currently reuses the earlier instance.  In a future version, a new instance will always be created and returned.  Meanwhile, this warning can be suppressed, and the future behavior ensured, by passing a unique label to each axes instance.\n",
      "  ax = fig.add_subplot(111, autoscale_on=False,\n"
     ]
    },
    {
     "name": "stdout",
     "output_type": "stream",
     "text": [
      "23\n",
      "The interpolation points are stored in the variable \"EF_target_pos\": \n",
      "[[ 19.48528137   8.48528137]\n",
      " [ 15.33333333   0.03772232]\n",
      " [  7.66666667  -1.67022057]\n",
      " [ -7.66666667   3.23138211]\n",
      " [-15.33333333   6.13619523]]\n",
      "The intermediate points are stored in the variable \"interpolated_points\"\n"
     ]
    },
    {
     "name": "stderr",
     "output_type": "stream",
     "text": [
      "<ipython-input-3-898a7604bba6>:29: MatplotlibDeprecationWarning: Adding an axes using the same arguments as a previous axes currently reuses the earlier instance.  In a future version, a new instance will always be created and returned.  Meanwhile, this warning can be suppressed, and the future behavior ensured, by passing a unique label to each axes instance.\n",
      "  ax = fig.add_subplot(111, autoscale_on=False,\n"
     ]
    },
    {
     "name": "stdout",
     "output_type": "stream",
     "text": [
      "21\n",
      "The interpolation points are stored in the variable \"EF_target_pos\": \n",
      "[[ 17.19238816   9.19238816]\n",
      " [ 14.           3.77021199]\n",
      " [  7.          -7.41674318]\n",
      " [ -7.          -1.58818147]\n",
      " [-14.           2.80873003]]\n",
      "The intermediate points are stored in the variable \"interpolated_points\"\n"
     ]
    },
    {
     "name": "stderr",
     "output_type": "stream",
     "text": [
      "<ipython-input-3-898a7604bba6>:29: MatplotlibDeprecationWarning: Adding an axes using the same arguments as a previous axes currently reuses the earlier instance.  In a future version, a new instance will always be created and returned.  Meanwhile, this warning can be suppressed, and the future behavior ensured, by passing a unique label to each axes instance.\n",
      "  ax = fig.add_subplot(111, autoscale_on=False,\n"
     ]
    },
    {
     "name": "stdout",
     "output_type": "stream",
     "text": [
      "22\n",
      "The interpolation points are stored in the variable \"EF_target_pos\": \n",
      "[[ 19.65685425   5.65685425]\n",
      " [ 14.66666667   4.97030634]\n",
      " [  7.33333333   1.48517543]\n",
      " [ -7.33333333   6.41932387]\n",
      " [-14.66666667  -1.97732401]]\n",
      "The intermediate points are stored in the variable \"interpolated_points\"\n"
     ]
    },
    {
     "name": "stderr",
     "output_type": "stream",
     "text": [
      "<ipython-input-3-898a7604bba6>:29: MatplotlibDeprecationWarning: Adding an axes using the same arguments as a previous axes currently reuses the earlier instance.  In a future version, a new instance will always be created and returned.  Meanwhile, this warning can be suppressed, and the future behavior ensured, by passing a unique label to each axes instance.\n",
      "  ax = fig.add_subplot(111, autoscale_on=False,\n"
     ]
    },
    {
     "name": "stdout",
     "output_type": "stream",
     "text": [
      "27\n",
      "The interpolation points are stored in the variable \"EF_target_pos\": \n",
      "[[ 23.19238816   9.19238816]\n",
      " [ 18.          -6.93464999]\n",
      " [  9.           3.22593558]\n",
      " [ -9.         -16.90673174]\n",
      " [-18.          -2.38494491]]\n",
      "The intermediate points are stored in the variable \"interpolated_points\"\n"
     ]
    },
    {
     "name": "stderr",
     "output_type": "stream",
     "text": [
      "<ipython-input-3-898a7604bba6>:29: MatplotlibDeprecationWarning: Adding an axes using the same arguments as a previous axes currently reuses the earlier instance.  In a future version, a new instance will always be created and returned.  Meanwhile, this warning can be suppressed, and the future behavior ensured, by passing a unique label to each axes instance.\n",
      "  ax = fig.add_subplot(111, autoscale_on=False,\n"
     ]
    },
    {
     "name": "stdout",
     "output_type": "stream",
     "text": [
      "22\n",
      "The interpolation points are stored in the variable \"EF_target_pos\": \n",
      "[[ 19.07106781   7.07106781]\n",
      " [ 14.66666667   5.59014552]\n",
      " [  7.33333333 -13.9482269 ]\n",
      " [ -7.33333333   1.80451031]\n",
      " [-14.66666667  -4.18343642]]\n",
      "The intermediate points are stored in the variable \"interpolated_points\"\n"
     ]
    },
    {
     "name": "stderr",
     "output_type": "stream",
     "text": [
      "<ipython-input-3-898a7604bba6>:29: MatplotlibDeprecationWarning: Adding an axes using the same arguments as a previous axes currently reuses the earlier instance.  In a future version, a new instance will always be created and returned.  Meanwhile, this warning can be suppressed, and the future behavior ensured, by passing a unique label to each axes instance.\n",
      "  ax = fig.add_subplot(111, autoscale_on=False,\n"
     ]
    },
    {
     "name": "stdout",
     "output_type": "stream",
     "text": [
      "20\n",
      "The interpolation points are stored in the variable \"EF_target_pos\": \n",
      "[[ 17.65685425   5.65685425]\n",
      " [ 13.33333333  -4.47143551]\n",
      " [  6.66666667   8.00886999]\n",
      " [ -6.66666667   6.53458637]\n",
      " [-13.33333333   2.45719112]]\n",
      "The intermediate points are stored in the variable \"interpolated_points\"\n"
     ]
    },
    {
     "name": "stderr",
     "output_type": "stream",
     "text": [
      "<ipython-input-3-898a7604bba6>:29: MatplotlibDeprecationWarning: Adding an axes using the same arguments as a previous axes currently reuses the earlier instance.  In a future version, a new instance will always be created and returned.  Meanwhile, this warning can be suppressed, and the future behavior ensured, by passing a unique label to each axes instance.\n",
      "  ax = fig.add_subplot(111, autoscale_on=False,\n"
     ]
    },
    {
     "name": "stdout",
     "output_type": "stream",
     "text": [
      "23\n",
      "The interpolation points are stored in the variable \"EF_target_pos\": \n",
      "[[ 19.19238816   9.19238816]\n",
      " [ 15.33333333   1.54242948]\n",
      " [  7.66666667  -2.50392857]\n",
      " [ -7.66666667  13.5874853 ]\n",
      " [-15.33333333  -7.64957435]]\n",
      "The intermediate points are stored in the variable \"interpolated_points\"\n"
     ]
    },
    {
     "name": "stderr",
     "output_type": "stream",
     "text": [
      "<ipython-input-3-898a7604bba6>:29: MatplotlibDeprecationWarning: Adding an axes using the same arguments as a previous axes currently reuses the earlier instance.  In a future version, a new instance will always be created and returned.  Meanwhile, this warning can be suppressed, and the future behavior ensured, by passing a unique label to each axes instance.\n",
      "  ax = fig.add_subplot(111, autoscale_on=False,\n"
     ]
    },
    {
     "name": "stdout",
     "output_type": "stream",
     "text": [
      "25\n",
      "The interpolation points are stored in the variable \"EF_target_pos\": \n",
      "[[ 21.77817459   7.77817459]\n",
      " [ 16.66666667  -5.24678654]\n",
      " [  8.33333333  -7.6170902 ]\n",
      " [ -8.33333333   1.26116332]\n",
      " [-16.66666667   2.9616276 ]]\n",
      "The intermediate points are stored in the variable \"interpolated_points\"\n"
     ]
    },
    {
     "name": "stderr",
     "output_type": "stream",
     "text": [
      "<ipython-input-3-898a7604bba6>:29: MatplotlibDeprecationWarning: Adding an axes using the same arguments as a previous axes currently reuses the earlier instance.  In a future version, a new instance will always be created and returned.  Meanwhile, this warning can be suppressed, and the future behavior ensured, by passing a unique label to each axes instance.\n",
      "  ax = fig.add_subplot(111, autoscale_on=False,\n"
     ]
    },
    {
     "name": "stdout",
     "output_type": "stream",
     "text": [
      "24\n",
      "The interpolation points are stored in the variable \"EF_target_pos\": \n",
      "[[ 19.89949494   9.89949494]\n",
      " [ 16.          -2.55248607]\n",
      " [  8.          10.25464122]\n",
      " [ -8.         -12.39794443]\n",
      " [-16.          -3.20433664]]\n",
      "The intermediate points are stored in the variable \"interpolated_points\"\n"
     ]
    },
    {
     "name": "stderr",
     "output_type": "stream",
     "text": [
      "<ipython-input-3-898a7604bba6>:29: MatplotlibDeprecationWarning: Adding an axes using the same arguments as a previous axes currently reuses the earlier instance.  In a future version, a new instance will always be created and returned.  Meanwhile, this warning can be suppressed, and the future behavior ensured, by passing a unique label to each axes instance.\n",
      "  ax = fig.add_subplot(111, autoscale_on=False,\n"
     ]
    },
    {
     "name": "stdout",
     "output_type": "stream",
     "text": [
      "21\n",
      "The interpolation points are stored in the variable \"EF_target_pos\": \n",
      "[[ 18.07106781   7.07106781]\n",
      " [ 14.          -4.08295259]\n",
      " [  7.          -1.71130364]\n",
      " [ -7.         -12.13585802]\n",
      " [-14.          -2.31210064]]\n",
      "The intermediate points are stored in the variable \"interpolated_points\"\n"
     ]
    },
    {
     "name": "stderr",
     "output_type": "stream",
     "text": [
      "<ipython-input-3-898a7604bba6>:29: MatplotlibDeprecationWarning: Adding an axes using the same arguments as a previous axes currently reuses the earlier instance.  In a future version, a new instance will always be created and returned.  Meanwhile, this warning can be suppressed, and the future behavior ensured, by passing a unique label to each axes instance.\n",
      "  ax = fig.add_subplot(111, autoscale_on=False,\n"
     ]
    },
    {
     "name": "stdout",
     "output_type": "stream",
     "text": [
      "21\n",
      "The interpolation points are stored in the variable \"EF_target_pos\": \n",
      "[[ 17.48528137   8.48528137]\n",
      " [ 14.          -1.6936485 ]\n",
      " [  7.           4.01026944]\n",
      " [ -7.          10.10334005]\n",
      " [-14.          -2.69820855]]\n",
      "The intermediate points are stored in the variable \"interpolated_points\"\n"
     ]
    },
    {
     "name": "stderr",
     "output_type": "stream",
     "text": [
      "<ipython-input-3-898a7604bba6>:29: MatplotlibDeprecationWarning: Adding an axes using the same arguments as a previous axes currently reuses the earlier instance.  In a future version, a new instance will always be created and returned.  Meanwhile, this warning can be suppressed, and the future behavior ensured, by passing a unique label to each axes instance.\n",
      "  ax = fig.add_subplot(111, autoscale_on=False,\n"
     ]
    },
    {
     "name": "stdout",
     "output_type": "stream",
     "text": [
      "26\n",
      "The interpolation points are stored in the variable \"EF_target_pos\": \n",
      "[[ 21.89949494   9.89949494]\n",
      " [ 17.33333333  -5.34758974]\n",
      " [  8.66666667  17.07524149]\n",
      " [ -8.66666667   1.84489171]\n",
      " [-17.33333333   6.50061128]]\n",
      "The intermediate points are stored in the variable \"interpolated_points\"\n"
     ]
    },
    {
     "name": "stderr",
     "output_type": "stream",
     "text": [
      "<ipython-input-3-898a7604bba6>:29: MatplotlibDeprecationWarning: Adding an axes using the same arguments as a previous axes currently reuses the earlier instance.  In a future version, a new instance will always be created and returned.  Meanwhile, this warning can be suppressed, and the future behavior ensured, by passing a unique label to each axes instance.\n",
      "  ax = fig.add_subplot(111, autoscale_on=False,\n"
     ]
    },
    {
     "name": "stdout",
     "output_type": "stream",
     "text": [
      "28\n",
      "The interpolation points are stored in the variable \"EF_target_pos\": \n",
      "[[ 24.48528137   8.48528137]\n",
      " [ 18.66666667  -1.68689529]\n",
      " [  9.33333333  16.81761821]\n",
      " [ -9.33333333  -5.07730791]\n",
      " [-18.66666667   7.24934871]]\n",
      "The intermediate points are stored in the variable \"interpolated_points\"\n"
     ]
    },
    {
     "name": "stderr",
     "output_type": "stream",
     "text": [
      "<ipython-input-3-898a7604bba6>:29: MatplotlibDeprecationWarning: Adding an axes using the same arguments as a previous axes currently reuses the earlier instance.  In a future version, a new instance will always be created and returned.  Meanwhile, this warning can be suppressed, and the future behavior ensured, by passing a unique label to each axes instance.\n",
      "  ax = fig.add_subplot(111, autoscale_on=False,\n"
     ]
    },
    {
     "name": "stdout",
     "output_type": "stream",
     "text": [
      "25\n",
      "The interpolation points are stored in the variable \"EF_target_pos\": \n",
      "[[ 20.89949494   9.89949494]\n",
      " [ 16.66666667  -2.85209728]\n",
      " [  8.33333333 -10.78326313]\n",
      " [ -8.33333333  12.21270097]\n",
      " [-16.66666667  -6.84589908]]\n",
      "The intermediate points are stored in the variable \"interpolated_points\"\n"
     ]
    },
    {
     "name": "stderr",
     "output_type": "stream",
     "text": [
      "<ipython-input-3-898a7604bba6>:29: MatplotlibDeprecationWarning: Adding an axes using the same arguments as a previous axes currently reuses the earlier instance.  In a future version, a new instance will always be created and returned.  Meanwhile, this warning can be suppressed, and the future behavior ensured, by passing a unique label to each axes instance.\n",
      "  ax = fig.add_subplot(111, autoscale_on=False,\n"
     ]
    },
    {
     "name": "stdout",
     "output_type": "stream",
     "text": [
      "20\n",
      "The interpolation points are stored in the variable \"EF_target_pos\": \n",
      "[[ 16.77817459   7.77817459]\n",
      " [ 13.33333333  -3.39460705]\n",
      " [  6.66666667 -11.82714067]\n",
      " [ -6.66666667  -8.9066115 ]\n",
      " [-13.33333333   0.74796312]]\n",
      "The intermediate points are stored in the variable \"interpolated_points\"\n"
     ]
    },
    {
     "name": "stderr",
     "output_type": "stream",
     "text": [
      "<ipython-input-3-898a7604bba6>:29: MatplotlibDeprecationWarning: Adding an axes using the same arguments as a previous axes currently reuses the earlier instance.  In a future version, a new instance will always be created and returned.  Meanwhile, this warning can be suppressed, and the future behavior ensured, by passing a unique label to each axes instance.\n",
      "  ax = fig.add_subplot(111, autoscale_on=False,\n"
     ]
    },
    {
     "name": "stdout",
     "output_type": "stream",
     "text": [
      "26\n",
      "The interpolation points are stored in the variable \"EF_target_pos\": \n",
      "[[ 22.77817459   7.77817459]\n",
      " [ 17.33333333  -8.56120986]\n",
      " [  8.66666667 -13.17525348]\n",
      " [ -8.66666667  -6.10402413]\n",
      " [-17.33333333  -6.02965594]]\n",
      "The intermediate points are stored in the variable \"interpolated_points\"\n"
     ]
    },
    {
     "name": "stderr",
     "output_type": "stream",
     "text": [
      "<ipython-input-3-898a7604bba6>:29: MatplotlibDeprecationWarning: Adding an axes using the same arguments as a previous axes currently reuses the earlier instance.  In a future version, a new instance will always be created and returned.  Meanwhile, this warning can be suppressed, and the future behavior ensured, by passing a unique label to each axes instance.\n",
      "  ax = fig.add_subplot(111, autoscale_on=False,\n"
     ]
    },
    {
     "name": "stdout",
     "output_type": "stream",
     "text": [
      "24\n",
      "The interpolation points are stored in the variable \"EF_target_pos\": \n",
      "[[ 20.77817459   7.77817459]\n",
      " [ 16.           2.17943134]\n",
      " [  8.          11.03954014]\n",
      " [ -8.          14.45867921]\n",
      " [-16.           7.45854692]]\n",
      "The intermediate points are stored in the variable \"interpolated_points\"\n"
     ]
    },
    {
     "name": "stderr",
     "output_type": "stream",
     "text": [
      "<ipython-input-3-898a7604bba6>:29: MatplotlibDeprecationWarning: Adding an axes using the same arguments as a previous axes currently reuses the earlier instance.  In a future version, a new instance will always be created and returned.  Meanwhile, this warning can be suppressed, and the future behavior ensured, by passing a unique label to each axes instance.\n",
      "  ax = fig.add_subplot(111, autoscale_on=False,\n"
     ]
    },
    {
     "name": "stdout",
     "output_type": "stream",
     "text": [
      "19\n",
      "The interpolation points are stored in the variable \"EF_target_pos\": \n",
      "[[ 16.36396103   6.36396103]\n",
      " [ 12.66666667  -0.06669759]\n",
      " [  6.33333333  10.05896393]\n",
      " [ -6.33333333   7.03840346]\n",
      " [-12.66666667   5.01012695]]\n",
      "The intermediate points are stored in the variable \"interpolated_points\"\n"
     ]
    },
    {
     "name": "stderr",
     "output_type": "stream",
     "text": [
      "<ipython-input-3-898a7604bba6>:29: MatplotlibDeprecationWarning: Adding an axes using the same arguments as a previous axes currently reuses the earlier instance.  In a future version, a new instance will always be created and returned.  Meanwhile, this warning can be suppressed, and the future behavior ensured, by passing a unique label to each axes instance.\n",
      "  ax = fig.add_subplot(111, autoscale_on=False,\n"
     ]
    },
    {
     "name": "stdout",
     "output_type": "stream",
     "text": [
      "21\n",
      "The interpolation points are stored in the variable \"EF_target_pos\": \n",
      "[[ 17.48528137   8.48528137]\n",
      " [ 14.          -1.62075494]\n",
      " [  7.         -13.50797857]\n",
      " [ -7.          -4.15185125]\n",
      " [-14.           5.93129858]]\n",
      "The intermediate points are stored in the variable \"interpolated_points\"\n"
     ]
    },
    {
     "name": "stderr",
     "output_type": "stream",
     "text": [
      "<ipython-input-3-898a7604bba6>:29: MatplotlibDeprecationWarning: Adding an axes using the same arguments as a previous axes currently reuses the earlier instance.  In a future version, a new instance will always be created and returned.  Meanwhile, this warning can be suppressed, and the future behavior ensured, by passing a unique label to each axes instance.\n",
      "  ax = fig.add_subplot(111, autoscale_on=False,\n"
     ]
    },
    {
     "name": "stdout",
     "output_type": "stream",
     "text": [
      "26\n",
      "The interpolation points are stored in the variable \"EF_target_pos\": \n",
      "[[ 22.19238816   9.19238816]\n",
      " [ 17.33333333  -0.17015508]\n",
      " [  8.66666667  -8.88292326]\n",
      " [ -8.66666667  -0.35237903]\n",
      " [-17.33333333   8.08534223]]\n",
      "The intermediate points are stored in the variable \"interpolated_points\"\n"
     ]
    },
    {
     "name": "stderr",
     "output_type": "stream",
     "text": [
      "<ipython-input-3-898a7604bba6>:29: MatplotlibDeprecationWarning: Adding an axes using the same arguments as a previous axes currently reuses the earlier instance.  In a future version, a new instance will always be created and returned.  Meanwhile, this warning can be suppressed, and the future behavior ensured, by passing a unique label to each axes instance.\n",
      "  ax = fig.add_subplot(111, autoscale_on=False,\n"
     ]
    },
    {
     "name": "stdout",
     "output_type": "stream",
     "text": [
      "21\n",
      "The interpolation points are stored in the variable \"EF_target_pos\": \n",
      "[[ 17.77817459   7.77817459]\n",
      " [ 14.           2.12870195]\n",
      " [  7.           6.81484023]\n",
      " [ -7.          -3.94951604]\n",
      " [-14.          -0.56887798]]\n",
      "The intermediate points are stored in the variable \"interpolated_points\"\n"
     ]
    },
    {
     "name": "stderr",
     "output_type": "stream",
     "text": [
      "<ipython-input-3-898a7604bba6>:29: MatplotlibDeprecationWarning: Adding an axes using the same arguments as a previous axes currently reuses the earlier instance.  In a future version, a new instance will always be created and returned.  Meanwhile, this warning can be suppressed, and the future behavior ensured, by passing a unique label to each axes instance.\n",
      "  ax = fig.add_subplot(111, autoscale_on=False,\n"
     ]
    },
    {
     "name": "stdout",
     "output_type": "stream",
     "text": [
      "26\n",
      "The interpolation points are stored in the variable \"EF_target_pos\": \n",
      "[[ 22.19238816   9.19238816]\n",
      " [ 17.33333333  -3.85220814]\n",
      " [  8.66666667   2.6675123 ]\n",
      " [ -8.66666667 -10.67050069]\n",
      " [-17.33333333   6.12507074]]\n",
      "The intermediate points are stored in the variable \"interpolated_points\"\n"
     ]
    },
    {
     "name": "stderr",
     "output_type": "stream",
     "text": [
      "<ipython-input-3-898a7604bba6>:29: MatplotlibDeprecationWarning: Adding an axes using the same arguments as a previous axes currently reuses the earlier instance.  In a future version, a new instance will always be created and returned.  Meanwhile, this warning can be suppressed, and the future behavior ensured, by passing a unique label to each axes instance.\n",
      "  ax = fig.add_subplot(111, autoscale_on=False,\n"
     ]
    },
    {
     "name": "stdout",
     "output_type": "stream",
     "text": [
      "24\n",
      "The interpolation points are stored in the variable \"EF_target_pos\": \n",
      "[[ 21.36396103   6.36396103]\n",
      " [ 16.           7.59463241]\n",
      " [  8.          -3.83042773]\n",
      " [ -8.          12.92189081]\n",
      " [-16.          -1.03343539]]\n",
      "The intermediate points are stored in the variable \"interpolated_points\"\n"
     ]
    },
    {
     "name": "stderr",
     "output_type": "stream",
     "text": [
      "<ipython-input-3-898a7604bba6>:29: MatplotlibDeprecationWarning: Adding an axes using the same arguments as a previous axes currently reuses the earlier instance.  In a future version, a new instance will always be created and returned.  Meanwhile, this warning can be suppressed, and the future behavior ensured, by passing a unique label to each axes instance.\n",
      "  ax = fig.add_subplot(111, autoscale_on=False,\n"
     ]
    },
    {
     "name": "stdout",
     "output_type": "stream",
     "text": [
      "25\n",
      "The interpolation points are stored in the variable \"EF_target_pos\": \n",
      "[[ 20.89949494   9.89949494]\n",
      " [ 16.66666667   7.51932451]\n",
      " [  8.33333333   8.44915634]\n",
      " [ -8.33333333 -12.85790113]\n",
      " [-16.66666667  -2.05568773]]\n",
      "The intermediate points are stored in the variable \"interpolated_points\"\n"
     ]
    },
    {
     "name": "stderr",
     "output_type": "stream",
     "text": [
      "<ipython-input-3-898a7604bba6>:29: MatplotlibDeprecationWarning: Adding an axes using the same arguments as a previous axes currently reuses the earlier instance.  In a future version, a new instance will always be created and returned.  Meanwhile, this warning can be suppressed, and the future behavior ensured, by passing a unique label to each axes instance.\n",
      "  ax = fig.add_subplot(111, autoscale_on=False,\n"
     ]
    },
    {
     "name": "stdout",
     "output_type": "stream",
     "text": [
      "25\n",
      "The interpolation points are stored in the variable \"EF_target_pos\": \n",
      "[[ 21.19238816   9.19238816]\n",
      " [ 16.66666667   2.96793876]\n",
      " [  8.33333333 -14.32136412]\n",
      " [ -8.33333333  -5.75534039]\n",
      " [-16.66666667  -3.78508079]]\n",
      "The intermediate points are stored in the variable \"interpolated_points\"\n"
     ]
    },
    {
     "name": "stderr",
     "output_type": "stream",
     "text": [
      "<ipython-input-3-898a7604bba6>:29: MatplotlibDeprecationWarning: Adding an axes using the same arguments as a previous axes currently reuses the earlier instance.  In a future version, a new instance will always be created and returned.  Meanwhile, this warning can be suppressed, and the future behavior ensured, by passing a unique label to each axes instance.\n",
      "  ax = fig.add_subplot(111, autoscale_on=False,\n"
     ]
    },
    {
     "name": "stdout",
     "output_type": "stream",
     "text": [
      "24\n",
      "The interpolation points are stored in the variable \"EF_target_pos\": \n",
      "[[ 20.77817459   7.77817459]\n",
      " [ 16.          -3.68829658]\n",
      " [  8.          -1.97840873]\n",
      " [ -8.          15.72070206]\n",
      " [-16.           1.72230864]]\n",
      "The intermediate points are stored in the variable \"interpolated_points\"\n"
     ]
    },
    {
     "name": "stderr",
     "output_type": "stream",
     "text": [
      "<ipython-input-3-898a7604bba6>:29: MatplotlibDeprecationWarning: Adding an axes using the same arguments as a previous axes currently reuses the earlier instance.  In a future version, a new instance will always be created and returned.  Meanwhile, this warning can be suppressed, and the future behavior ensured, by passing a unique label to each axes instance.\n",
      "  ax = fig.add_subplot(111, autoscale_on=False,\n"
     ]
    },
    {
     "name": "stdout",
     "output_type": "stream",
     "text": [
      "23\n",
      "The interpolation points are stored in the variable \"EF_target_pos\": \n",
      "[[ 19.48528137   8.48528137]\n",
      " [ 15.33333333   3.8799711 ]\n",
      " [  7.66666667 -12.54588442]\n",
      " [ -7.66666667  -6.34146125]\n",
      " [-15.33333333  -3.11421944]]\n",
      "The intermediate points are stored in the variable \"interpolated_points\"\n"
     ]
    },
    {
     "name": "stderr",
     "output_type": "stream",
     "text": [
      "<ipython-input-3-898a7604bba6>:29: MatplotlibDeprecationWarning: Adding an axes using the same arguments as a previous axes currently reuses the earlier instance.  In a future version, a new instance will always be created and returned.  Meanwhile, this warning can be suppressed, and the future behavior ensured, by passing a unique label to each axes instance.\n",
      "  ax = fig.add_subplot(111, autoscale_on=False,\n"
     ]
    },
    {
     "name": "stdout",
     "output_type": "stream",
     "text": [
      "25\n",
      "The interpolation points are stored in the variable \"EF_target_pos\": \n",
      "[[ 21.77817459   7.77817459]\n",
      " [ 16.66666667   5.34401842]\n",
      " [  8.33333333   2.9709852 ]\n",
      " [ -8.33333333  15.98704311]\n",
      " [-16.66666667   6.45223751]]\n",
      "The intermediate points are stored in the variable \"interpolated_points\"\n"
     ]
    },
    {
     "name": "stderr",
     "output_type": "stream",
     "text": [
      "<ipython-input-3-898a7604bba6>:29: MatplotlibDeprecationWarning: Adding an axes using the same arguments as a previous axes currently reuses the earlier instance.  In a future version, a new instance will always be created and returned.  Meanwhile, this warning can be suppressed, and the future behavior ensured, by passing a unique label to each axes instance.\n",
      "  ax = fig.add_subplot(111, autoscale_on=False,\n"
     ]
    },
    {
     "name": "stdout",
     "output_type": "stream",
     "text": [
      "27\n",
      "The interpolation points are stored in the variable \"EF_target_pos\": \n",
      "[[ 22.60660172  10.60660172]\n",
      " [ 18.          -0.04458142]\n",
      " [  9.          10.26021582]\n",
      " [ -9.           1.0628613 ]\n",
      " [-18.          -1.38242453]]\n",
      "The intermediate points are stored in the variable \"interpolated_points\"\n"
     ]
    },
    {
     "name": "stderr",
     "output_type": "stream",
     "text": [
      "<ipython-input-3-898a7604bba6>:29: MatplotlibDeprecationWarning: Adding an axes using the same arguments as a previous axes currently reuses the earlier instance.  In a future version, a new instance will always be created and returned.  Meanwhile, this warning can be suppressed, and the future behavior ensured, by passing a unique label to each axes instance.\n",
      "  ax = fig.add_subplot(111, autoscale_on=False,\n"
     ]
    },
    {
     "name": "stdout",
     "output_type": "stream",
     "text": [
      "25\n",
      "The interpolation points are stored in the variable \"EF_target_pos\": \n",
      "[[ 22.07106781   7.07106781]\n",
      " [ 16.66666667  -0.48328005]\n",
      " [  8.33333333 -11.55597821]\n",
      " [ -8.33333333 -13.94286527]\n",
      " [-16.66666667   0.61342081]]\n",
      "The intermediate points are stored in the variable \"interpolated_points\"\n"
     ]
    },
    {
     "name": "stderr",
     "output_type": "stream",
     "text": [
      "<ipython-input-3-898a7604bba6>:29: MatplotlibDeprecationWarning: Adding an axes using the same arguments as a previous axes currently reuses the earlier instance.  In a future version, a new instance will always be created and returned.  Meanwhile, this warning can be suppressed, and the future behavior ensured, by passing a unique label to each axes instance.\n",
      "  ax = fig.add_subplot(111, autoscale_on=False,\n"
     ]
    },
    {
     "name": "stdout",
     "output_type": "stream",
     "text": [
      "24\n",
      "The interpolation points are stored in the variable \"EF_target_pos\": \n",
      "[[ 19.60660172  10.60660172]\n",
      " [ 16.          -1.74557131]\n",
      " [  8.           4.92765095]\n",
      " [ -8.           8.74557767]\n",
      " [-16.           7.43883358]]\n",
      "The intermediate points are stored in the variable \"interpolated_points\"\n"
     ]
    },
    {
     "name": "stderr",
     "output_type": "stream",
     "text": [
      "<ipython-input-3-898a7604bba6>:29: MatplotlibDeprecationWarning: Adding an axes using the same arguments as a previous axes currently reuses the earlier instance.  In a future version, a new instance will always be created and returned.  Meanwhile, this warning can be suppressed, and the future behavior ensured, by passing a unique label to each axes instance.\n",
      "  ax = fig.add_subplot(111, autoscale_on=False,\n"
     ]
    },
    {
     "name": "stdout",
     "output_type": "stream",
     "text": [
      "25\n",
      "The interpolation points are stored in the variable \"EF_target_pos\": \n",
      "[[ 21.19238816   9.19238816]\n",
      " [ 16.66666667   7.36435012]\n",
      " [  8.33333333   7.70106954]\n",
      " [ -8.33333333   1.38629175]\n",
      " [-16.66666667   2.55744182]]\n",
      "The intermediate points are stored in the variable \"interpolated_points\"\n"
     ]
    },
    {
     "name": "stderr",
     "output_type": "stream",
     "text": [
      "<ipython-input-3-898a7604bba6>:29: MatplotlibDeprecationWarning: Adding an axes using the same arguments as a previous axes currently reuses the earlier instance.  In a future version, a new instance will always be created and returned.  Meanwhile, this warning can be suppressed, and the future behavior ensured, by passing a unique label to each axes instance.\n",
      "  ax = fig.add_subplot(111, autoscale_on=False,\n"
     ]
    },
    {
     "name": "stdout",
     "output_type": "stream",
     "text": [
      "23\n",
      "The interpolation points are stored in the variable \"EF_target_pos\": \n",
      "[[ 19.48528137   8.48528137]\n",
      " [ 15.33333333   2.36912101]\n",
      " [  7.66666667   5.13872263]\n",
      " [ -7.66666667   5.66702877]\n",
      " [-15.33333333  -6.66223442]]\n",
      "The intermediate points are stored in the variable \"interpolated_points\"\n"
     ]
    },
    {
     "name": "stderr",
     "output_type": "stream",
     "text": [
      "<ipython-input-3-898a7604bba6>:29: MatplotlibDeprecationWarning: Adding an axes using the same arguments as a previous axes currently reuses the earlier instance.  In a future version, a new instance will always be created and returned.  Meanwhile, this warning can be suppressed, and the future behavior ensured, by passing a unique label to each axes instance.\n",
      "  ax = fig.add_subplot(111, autoscale_on=False,\n"
     ]
    },
    {
     "name": "stdout",
     "output_type": "stream",
     "text": [
      "23\n",
      "The interpolation points are stored in the variable \"EF_target_pos\": \n",
      "[[ 19.48528137   8.48528137]\n",
      " [ 15.33333333  -7.13934703]\n",
      " [  7.66666667 -11.71264483]\n",
      " [ -7.66666667  13.80460034]\n",
      " [-15.33333333   7.64542964]]\n",
      "The intermediate points are stored in the variable \"interpolated_points\"\n"
     ]
    },
    {
     "name": "stderr",
     "output_type": "stream",
     "text": [
      "<ipython-input-3-898a7604bba6>:29: MatplotlibDeprecationWarning: Adding an axes using the same arguments as a previous axes currently reuses the earlier instance.  In a future version, a new instance will always be created and returned.  Meanwhile, this warning can be suppressed, and the future behavior ensured, by passing a unique label to each axes instance.\n",
      "  ax = fig.add_subplot(111, autoscale_on=False,\n"
     ]
    },
    {
     "name": "stdout",
     "output_type": "stream",
     "text": [
      "23\n",
      "The interpolation points are stored in the variable \"EF_target_pos\": \n",
      "[[ 20.36396103   6.36396103]\n",
      " [ 15.33333333  -2.992763  ]\n",
      " [  7.66666667   9.81086742]\n",
      " [ -7.66666667   0.41899067]\n",
      " [-15.33333333   3.54034778]]\n",
      "The intermediate points are stored in the variable \"interpolated_points\"\n"
     ]
    },
    {
     "name": "stderr",
     "output_type": "stream",
     "text": [
      "<ipython-input-3-898a7604bba6>:29: MatplotlibDeprecationWarning: Adding an axes using the same arguments as a previous axes currently reuses the earlier instance.  In a future version, a new instance will always be created and returned.  Meanwhile, this warning can be suppressed, and the future behavior ensured, by passing a unique label to each axes instance.\n",
      "  ax = fig.add_subplot(111, autoscale_on=False,\n"
     ]
    },
    {
     "name": "stdout",
     "output_type": "stream",
     "text": [
      "27\n",
      "The interpolation points are stored in the variable \"EF_target_pos\": \n",
      "[[ 23.19238816   9.19238816]\n",
      " [ 18.          -2.10663639]\n",
      " [  9.           4.92401404]\n",
      " [ -9.           5.69168193]\n",
      " [-18.           6.81482676]]\n",
      "The intermediate points are stored in the variable \"interpolated_points\"\n"
     ]
    },
    {
     "name": "stderr",
     "output_type": "stream",
     "text": [
      "<ipython-input-3-898a7604bba6>:29: MatplotlibDeprecationWarning: Adding an axes using the same arguments as a previous axes currently reuses the earlier instance.  In a future version, a new instance will always be created and returned.  Meanwhile, this warning can be suppressed, and the future behavior ensured, by passing a unique label to each axes instance.\n",
      "  ax = fig.add_subplot(111, autoscale_on=False,\n"
     ]
    },
    {
     "name": "stdout",
     "output_type": "stream",
     "text": [
      "25\n",
      "The interpolation points are stored in the variable \"EF_target_pos\": \n",
      "[[ 21.77817459   7.77817459]\n",
      " [ 16.66666667   8.03143174]\n",
      " [  8.33333333  -0.72599156]\n",
      " [ -8.33333333 -13.17843369]\n",
      " [-16.66666667   6.60235064]]\n",
      "The intermediate points are stored in the variable \"interpolated_points\"\n"
     ]
    },
    {
     "name": "stderr",
     "output_type": "stream",
     "text": [
      "<ipython-input-3-898a7604bba6>:29: MatplotlibDeprecationWarning: Adding an axes using the same arguments as a previous axes currently reuses the earlier instance.  In a future version, a new instance will always be created and returned.  Meanwhile, this warning can be suppressed, and the future behavior ensured, by passing a unique label to each axes instance.\n",
      "  ax = fig.add_subplot(111, autoscale_on=False,\n"
     ]
    },
    {
     "name": "stdout",
     "output_type": "stream",
     "text": [
      "23\n",
      "The interpolation points are stored in the variable \"EF_target_pos\": \n",
      "[[ 18.60660172  10.60660172]\n",
      " [ 15.33333333   4.89759389]\n",
      " [  7.66666667  -1.34153287]\n",
      " [ -7.66666667  -2.36035559]\n",
      " [-15.33333333  -4.83545024]]\n",
      "The intermediate points are stored in the variable \"interpolated_points\"\n"
     ]
    },
    {
     "name": "stderr",
     "output_type": "stream",
     "text": [
      "<ipython-input-3-898a7604bba6>:29: MatplotlibDeprecationWarning: Adding an axes using the same arguments as a previous axes currently reuses the earlier instance.  In a future version, a new instance will always be created and returned.  Meanwhile, this warning can be suppressed, and the future behavior ensured, by passing a unique label to each axes instance.\n",
      "  ax = fig.add_subplot(111, autoscale_on=False,\n"
     ]
    },
    {
     "name": "stdout",
     "output_type": "stream",
     "text": [
      "27\n",
      "The interpolation points are stored in the variable \"EF_target_pos\": \n",
      "[[ 22.89949494   9.89949494]\n",
      " [ 18.          -3.93922204]\n",
      " [  9.           1.02231654]\n",
      " [ -9.          17.14275093]\n",
      " [-18.          -3.53687168]]\n",
      "The intermediate points are stored in the variable \"interpolated_points\"\n"
     ]
    },
    {
     "name": "stderr",
     "output_type": "stream",
     "text": [
      "<ipython-input-3-898a7604bba6>:29: MatplotlibDeprecationWarning: Adding an axes using the same arguments as a previous axes currently reuses the earlier instance.  In a future version, a new instance will always be created and returned.  Meanwhile, this warning can be suppressed, and the future behavior ensured, by passing a unique label to each axes instance.\n",
      "  ax = fig.add_subplot(111, autoscale_on=False,\n"
     ]
    },
    {
     "name": "stdout",
     "output_type": "stream",
     "text": [
      "24\n",
      "The interpolation points are stored in the variable \"EF_target_pos\": \n",
      "[[ 20.48528137   8.48528137]\n",
      " [ 16.          -5.71090997]\n",
      " [  8.          13.95515026]\n",
      " [ -8.          -7.31919279]\n",
      " [-16.           1.82786969]]\n",
      "The intermediate points are stored in the variable \"interpolated_points\"\n"
     ]
    },
    {
     "name": "stderr",
     "output_type": "stream",
     "text": [
      "<ipython-input-3-898a7604bba6>:29: MatplotlibDeprecationWarning: Adding an axes using the same arguments as a previous axes currently reuses the earlier instance.  In a future version, a new instance will always be created and returned.  Meanwhile, this warning can be suppressed, and the future behavior ensured, by passing a unique label to each axes instance.\n",
      "  ax = fig.add_subplot(111, autoscale_on=False,\n"
     ]
    },
    {
     "name": "stdout",
     "output_type": "stream",
     "text": [
      "28\n",
      "The interpolation points are stored in the variable \"EF_target_pos\": \n",
      "[[ 23.3137085   11.3137085 ]\n",
      " [ 18.66666667   7.64005568]\n",
      " [  9.33333333  -7.65736688]\n",
      " [ -9.33333333   4.92314954]\n",
      " [-18.66666667   8.39372961]]\n",
      "The intermediate points are stored in the variable \"interpolated_points\"\n"
     ]
    },
    {
     "name": "stderr",
     "output_type": "stream",
     "text": [
      "<ipython-input-3-898a7604bba6>:29: MatplotlibDeprecationWarning: Adding an axes using the same arguments as a previous axes currently reuses the earlier instance.  In a future version, a new instance will always be created and returned.  Meanwhile, this warning can be suppressed, and the future behavior ensured, by passing a unique label to each axes instance.\n",
      "  ax = fig.add_subplot(111, autoscale_on=False,\n"
     ]
    },
    {
     "name": "stdout",
     "output_type": "stream",
     "text": [
      "24\n",
      "The interpolation points are stored in the variable \"EF_target_pos\": \n",
      "[[ 20.48528137   8.48528137]\n",
      " [ 16.          -2.67866097]\n",
      " [  8.          -3.93658776]\n",
      " [ -8.          -4.07898932]\n",
      " [-16.          -5.29595517]]\n",
      "The intermediate points are stored in the variable \"interpolated_points\"\n"
     ]
    },
    {
     "name": "stderr",
     "output_type": "stream",
     "text": [
      "<ipython-input-3-898a7604bba6>:29: MatplotlibDeprecationWarning: Adding an axes using the same arguments as a previous axes currently reuses the earlier instance.  In a future version, a new instance will always be created and returned.  Meanwhile, this warning can be suppressed, and the future behavior ensured, by passing a unique label to each axes instance.\n",
      "  ax = fig.add_subplot(111, autoscale_on=False,\n"
     ]
    },
    {
     "name": "stdout",
     "output_type": "stream",
     "text": [
      "27\n",
      "The interpolation points are stored in the variable \"EF_target_pos\": \n",
      "[[ 22.89949494   9.89949494]\n",
      " [ 18.           6.56983008]\n",
      " [  9.           1.29439555]\n",
      " [ -9.          15.48047697]\n",
      " [-18.          -4.61012682]]\n",
      "The intermediate points are stored in the variable \"interpolated_points\"\n"
     ]
    },
    {
     "name": "stderr",
     "output_type": "stream",
     "text": [
      "<ipython-input-3-898a7604bba6>:29: MatplotlibDeprecationWarning: Adding an axes using the same arguments as a previous axes currently reuses the earlier instance.  In a future version, a new instance will always be created and returned.  Meanwhile, this warning can be suppressed, and the future behavior ensured, by passing a unique label to each axes instance.\n",
      "  ax = fig.add_subplot(111, autoscale_on=False,\n"
     ]
    },
    {
     "name": "stdout",
     "output_type": "stream",
     "text": [
      "21\n",
      "The interpolation points are stored in the variable \"EF_target_pos\": \n",
      "[[ 18.36396103   6.36396103]\n",
      " [ 14.          -6.10291433]\n",
      " [  7.          -3.16471789]\n",
      " [ -7.          -4.54077975]\n",
      " [-14.          -1.99178988]]\n",
      "The intermediate points are stored in the variable \"interpolated_points\"\n"
     ]
    },
    {
     "name": "stderr",
     "output_type": "stream",
     "text": [
      "<ipython-input-3-898a7604bba6>:29: MatplotlibDeprecationWarning: Adding an axes using the same arguments as a previous axes currently reuses the earlier instance.  In a future version, a new instance will always be created and returned.  Meanwhile, this warning can be suppressed, and the future behavior ensured, by passing a unique label to each axes instance.\n",
      "  ax = fig.add_subplot(111, autoscale_on=False,\n"
     ]
    },
    {
     "name": "stdout",
     "output_type": "stream",
     "text": [
      "20\n",
      "The interpolation points are stored in the variable \"EF_target_pos\": \n",
      "[[ 17.07106781   7.07106781]\n",
      " [ 13.33333333   2.02764111]\n",
      " [  6.66666667 -12.30963233]\n",
      " [ -6.66666667 -11.95595412]\n",
      " [-13.33333333   4.5126903 ]]\n",
      "The intermediate points are stored in the variable \"interpolated_points\"\n"
     ]
    },
    {
     "name": "stderr",
     "output_type": "stream",
     "text": [
      "<ipython-input-3-898a7604bba6>:29: MatplotlibDeprecationWarning: Adding an axes using the same arguments as a previous axes currently reuses the earlier instance.  In a future version, a new instance will always be created and returned.  Meanwhile, this warning can be suppressed, and the future behavior ensured, by passing a unique label to each axes instance.\n",
      "  ax = fig.add_subplot(111, autoscale_on=False,\n"
     ]
    }
   ],
   "source": [
    "for i in range(875,1000):\n",
    "    create_simulation(i,50)"
   ]
  }
 ],
 "metadata": {
  "kernelspec": {
   "display_name": "Python 3",
   "language": "python",
   "name": "python3"
  },
  "language_info": {
   "codemirror_mode": {
    "name": "ipython",
    "version": 3
   },
   "file_extension": ".py",
   "mimetype": "text/x-python",
   "name": "python",
   "nbconvert_exporter": "python",
   "pygments_lexer": "ipython3",
   "version": "3.8.10"
  }
 },
 "nbformat": 4,
 "nbformat_minor": 2
}
