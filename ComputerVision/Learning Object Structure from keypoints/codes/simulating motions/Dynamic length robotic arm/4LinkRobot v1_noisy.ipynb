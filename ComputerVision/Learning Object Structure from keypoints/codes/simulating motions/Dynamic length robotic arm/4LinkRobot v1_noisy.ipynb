{
 "cells": [
  {
   "cell_type": "code",
   "execution_count": 1,
   "metadata": {},
   "outputs": [],
   "source": [
    "import numpy as np\n",
    "import matplotlib.pyplot as plt\n",
    "from celluloid import Camera\n",
    "from IPython.display import HTML\n",
    "import pandas as pd\n",
    "import random\n",
    "import copy"
   ]
  },
  {
   "cell_type": "code",
   "execution_count": 2,
   "metadata": {},
   "outputs": [],
   "source": [
    "\n",
    "class FourLinkArm:\n",
    "    \n",
    "    def __init__(self):\n",
    "        # Set parameters for the 3-link planar arm\n",
    "        self.theta1 = np.deg2rad(0)\n",
    "        self.theta2 = np.deg2rad(90)\n",
    "        self.theta3 = np.deg2rad(90)\n",
    "        self.theta4 = np.deg2rad(90)\n",
    "        self.orig_l1 = np.random.randint(4,9)\n",
    "        self.orig_l2 = np.random.randint(4,9)\n",
    "        self.orig_l3 = np.random.randint(4,9)\n",
    "        self.orig_l4 = np.random.randint(4,9)\n",
    "        self.l1=copy.copy(self.orig_l1)\n",
    "        self.l2=copy.copy(self.orig_l2)\n",
    "        self.l3=copy.copy(self.orig_l3)\n",
    "        self.l4=copy.copy(self.orig_l4)\n",
    "        max_len_shift=int(np.min([self.l1,self.l2,self.l3,self.l4])*(2/3))\n",
    "        self.arr1=np.linspace(-max_len_shift,max_len_shift,np.random.randint(10,50))\n",
    "        self.arr1=np.append(self.arr1,np.flip(self.arr1))\n",
    "        self.permute=np.random.permutation([1,1,-1,-1])\n",
    "\n",
    "    def forwardKinematics(self, theta1, theta2, theta3,theta4):\n",
    "        # Define the homogeneous transformation matrices for the 4-link planar arm\n",
    "        self.theta1 = theta1\n",
    "        self.theta2 = theta2\n",
    "        self.theta3 = theta3\n",
    "        self.theta4 = theta4\n",
    "        self.t01 = np.matrix([[np.cos(self.theta1), -np.sin(self.theta1), 0], \n",
    "                              [np.sin(self.theta1), np.cos(self.theta1), 0],\n",
    "                              [0, 0, 1]])\n",
    "        self.t12 = np.matrix([[np.cos(self.theta2), -np.sin(self.theta2), self.l1],\n",
    "                              [np.sin(self.theta2), np.cos(self.theta2), 0],\n",
    "                              [0, 0, 1]])\n",
    "        self.t23 = np.matrix([[np.cos(self.theta3), -np.sin(self.theta3), self.l2],\n",
    "                              [np.sin(self.theta3), np.cos(self.theta3), 0],\n",
    "                              [0, 0, 1]])        \n",
    "        self.t34 = np.matrix([[np.cos(self.theta4), -np.sin(self.theta4), self.l3],\n",
    "                              [np.sin(self.theta4), np.cos(self.theta4), 0],\n",
    "                              [0, 0, 1]])\n",
    "        self.t4end = np.matrix([[np.cos(self.theta4), -np.sin(self.theta4), self.l4],\n",
    "                                [np.sin(self.theta4), np.cos(self.theta4), 0],\n",
    "                                [0, 0, 1]])\n",
    "\n",
    "        self.t0end = self.t01*self.t12*self.t23*self.t34*self.t4end\n",
    "        return self.t0end\n",
    "    \n",
    "    def findJointPos(self): \n",
    "        # Find the x,y position of each joint and end effector so it can be plotted\n",
    "        # Find the transformation matrices for joint 2 and joint 3 and joint 4\n",
    "        self.t02 = self.t01*self.t12\n",
    "        self.t03 = self.t01*self.t12*self.t23\n",
    "        self.t04 = self.t01*self.t12*self.t23*self.t34\n",
    "        # Find the x, y coordinates for joints 2 and 3 and 4. Put them in a list j2 = [x,y]\n",
    "        j2 = [ self.t02[0, 2], self.t02[1, 2] ]\n",
    "        j3 = [ self.t03[0, 2], self.t03[1, 2] ]\n",
    "        j4 = [ self.t04[0, 2], self.t04[1, 2] ]\n",
    "        endeff = [self.t0end[0,2],self.t0end[1,2]]\n",
    "        \n",
    "        self.jnt2pos, self.jnt3pos, self.jnt4pos, self.endEffPos = j2,j3,j4,endeff\n",
    "        return j2,j3,j4,endeff\n",
    "    \n",
    "    def geomJacobian(self, jnt2pos=None, jnt3pos=None, jnt4pos=None, endEffPos=None):\n",
    "        if jnt2pos is None:\n",
    "            jnt2pos=self.jnt2pos \n",
    "        if jnt3pos is None:\n",
    "            jnt3pos=self.jnt3pos\n",
    "        if jnt4pos is None:\n",
    "            jnt4pos=self.jnt4pos\n",
    "        if endEffPos is None:\n",
    "            endEffPos=self.endEffPos\n",
    "        ai = np.array([0,0,1])\n",
    "        col0 = np.array(endEffPos + [0])\n",
    "        col1 = np.array(endEffPos + [0]) - np.array(jnt2pos + [0])\n",
    "        col2 = np.array(endEffPos + [0]) - np.array(jnt3pos + [0])\n",
    "        col3 = np.array(endEffPos + [0]) - np.array(jnt4pos + [0])\n",
    "        J = np.array([np.cross(ai,col0), np.cross(ai,col1), np.cross(ai,col2), np.cross(ai,col3)]).T \n",
    "        return J\n",
    "    \n",
    "    def random_link_len_change(self,i):\n",
    "        self.l1=self.orig_l1+self.permute[0]*self.arr1[i%len(self.arr1)]\n",
    "        self.l2=self.orig_l2+self.permute[1]*self.arr1[i%len(self.arr1)]\n",
    "        self.l3=self.orig_l3+self.permute[2]*self.arr1[i%len(self.arr1)]\n",
    "        self.l4=self.orig_l4+self.permute[3]*self.arr1[i%len(self.arr1)]"
   ]
  },
  {
   "cell_type": "code",
   "execution_count": 3,
   "metadata": {},
   "outputs": [],
   "source": [
    "def plotArm(jnt2pos, jnt3pos, jnt4pos, endEffectPos, target=None, step=None):\n",
    "    # set up figure\n",
    "    fig = plt.figure(figsize=(10,10))\n",
    "    ax = fig.add_subplot(111, autoscale_on=False, xlim=(-25, 25), ylim=(-25, 25))\n",
    "    ax.grid()\n",
    "    \n",
    "    if step is not None:\n",
    "        step = np.array(step)\n",
    "        plt.scatter(step[:, 0],step[:, 1], color='lightblue', marker='o')\n",
    "        plt.plot(step[:, 0],step[:, 1], color='lightblue')\n",
    "    if target is not None:\n",
    "        target = np.array(target)\n",
    "        plt.scatter(target[:, 0],target[:, 1], color='red', marker='o')\n",
    "        \n",
    "    line, = ax.plot([], [], 'o-', lw=4, mew=5)\n",
    "    time_text = ax.text(0.02, 0.95, '', transform=ax.transAxes)\n",
    "\n",
    "    line.set_data([], [])\n",
    "    time_text.set_text('')\n",
    "    x = np.array([0, jnt2pos[0], jnt3pos[0], jnt4pos[0], endEffectPos[0]])\n",
    "    y = np.array([0, jnt2pos[1], jnt3pos[1], jnt4pos[1], endEffectPos[1]])\n",
    "    line.set_data((x,y))\n",
    "    \n",
    "    plt.show()\n",
    "    \n",
    "# gif animation plotter\n",
    "def plotArm2(jnt2pos, jnt3pos, jnt4pos, endEffectPos,x1,y1,x2,y2, target=None, step=None, fig=None, camera=None):\n",
    "    # set up figure\n",
    "    ax = fig.add_subplot(111, autoscale_on=False,\n",
    "                         xlim=(-25, 25), ylim=(-25, 25))\n",
    "    ax.grid()\n",
    "    line, = ax.plot([], [], 'o-', lw=4, mew=5, color='lightblue')\n",
    "    time_text = ax.text(0.02, 0.95, '', transform=ax.transAxes)\n",
    "\n",
    "    line.set_data([], [])\n",
    "    time_text.set_text('')\n",
    "    x = np.array([0, jnt2pos[0], jnt3pos[0], jnt4pos[0], endEffectPos[0]])\n",
    "    y = np.array([0, jnt2pos[1], jnt3pos[1], jnt4pos[1], endEffectPos[1]])\n",
    "    line.set_data((x,y))\n",
    "\n",
    "    if(not np.isnan(x1[0])):\n",
    "            plt.plot([jnt2pos[0],jnt3pos[0],x1[0],jnt2pos[0]],\n",
    "                     [jnt2pos[1],jnt3pos[1],y1[0],jnt2pos[1]],'o-', lw=2, mew=5, color='green')\n",
    "    if(not np.isnan(x1[1])):\n",
    "            plt.plot([jnt3pos[0],jnt4pos[0],x1[1],jnt3pos[0]],\n",
    "                     [jnt3pos[1],jnt4pos[1],y1[1],jnt3pos[1]],'o-', lw=2, mew=5, color='yellow')\n",
    "    if(not np.isnan(x1[2])):\n",
    "            plt.plot([jnt4pos[0],endEffectPos[0],x1[2],jnt4pos[0]],\n",
    "                     [jnt4pos[1],endEffectPos[1],y1[2],jnt4pos[1]],'o-', lw=2, mew=5, color='black')\n",
    "    \n",
    "    plt.plot([endEffectPos[0],x2[0]],[endEffectPos[1],y2[0]],'o-', lw=2, mew=5, color='lightblue')\n",
    "    plt.plot([endEffectPos[0],x2[1]],[endEffectPos[1],y2[1]],'o-', lw=2, mew=5, color='lightblue')\n",
    "\n",
    "\n",
    "    if step is not None:\n",
    "        step = np.array(step)\n",
    "        plt.scatter(step[:, 0],step[:, 1], color='lightblue', marker='o')\n",
    "        plt.plot(step[:, 0],step[:, 1], color='lightblue')\n",
    "    if target is not None:\n",
    "        target = np.array(target)\n",
    "        plt.scatter(target[:, 0],target[:, 1], color='red', marker='o')\n",
    "\n",
    "    camera.snap()"
   ]
  },
  {
   "cell_type": "markdown",
   "metadata": {},
   "source": [
    "In this part, let's plan some simple polynomial trajectories in the work space. "
   ]
  },
  {
   "cell_type": "markdown",
   "metadata": {},
   "source": [
    "First, setup a simple environment with the arm manipulator and four intermediate interpolation points."
   ]
  },
  {
   "cell_type": "code",
   "execution_count": 4,
   "metadata": {},
   "outputs": [],
   "source": [
    "def create_simulation(animation_index,samples):\n",
    "    \n",
    "    # Setup our new manipulator\n",
    "    arm = FourLinkArm()\n",
    "    \n",
    "    # define the initial configuration of the manipulator (you are welcomed to try other values)\n",
    "    initTheta = [np.deg2rad(0),np.deg2rad(45),np.deg2rad(-45),np.deg2rad(45)]\n",
    "\n",
    "    # Initialise the arm with the initial values\n",
    "    _ = arm.forwardKinematics(*initTheta)\n",
    "\n",
    "    # Get the initial end-effector position \n",
    "    init_joint2pos, init_joint3pos, init_joint4pos, EF_init_pos = arm.findJointPos()\n",
    "\n",
    "    # Define the target postions of the end-effector\n",
    "    # EF_target_pos = np.array([[EF_init_pos[0], 6.,2.,-4.,-8.],\n",
    "    #                           [EF_init_pos[1], -6.,8.,-5.,6.]]).T\n",
    "    ##Choose points randomly, choose x equally spaced and y randomly\n",
    "    L=arm.l1+arm.l2+arm.l3+arm.l4\n",
    "    print(L)\n",
    "    x_points=np.array([2/3*L, 1/3*L, -1/3*L, -2/3*L])\n",
    "\n",
    "    y_points=[]\n",
    "    R=3*L/4\n",
    "    for i in range(4):\n",
    "        y_points.append(random.uniform(-1*np.sqrt(R**2-x_points[i]**2),\n",
    "                                          np.sqrt(R**2-x_points[i]**2)))\n",
    "    y_points=np.array(y_points)\n",
    "    \n",
    "    EF_target_pos = np.array([[EF_init_pos[0], x_points[0],x_points[1],x_points[2],x_points[3]],\n",
    "                              [EF_init_pos[1], y_points[0],y_points[1],y_points[2],y_points[3]]]).T\n",
    "\n",
    "    # Plot the pose of the arm\n",
    "    #plotArm(*arm.findJointPos(), target=EF_target_pos)\n",
    "    print(f\"The interpolation points are stored in the variable \\\"EF_target_pos\\\": \\n{EF_target_pos}\")\n",
    "    \n",
    "    pol = np.polyfit(EF_target_pos[:, 0], EF_target_pos[:, 1], EF_target_pos.shape[0]-1)  # polynomial coefficients\n",
    "    \n",
    "    # Plotting the planned trajectory\n",
    "    #epsilon = 100\n",
    "    epsilon = samples\n",
    "    \n",
    "    xx = np.linspace(EF_target_pos[0,0],EF_target_pos[-1,0], epsilon)\n",
    "    yy = np.polyval(pol,xx)   \n",
    "    curve = np.hstack([xx[:, None], yy[:, None]]) \n",
    "    \n",
    "    interpolated_points=curve\n",
    "\n",
    "#     plotArm(*arm.findJointPos(), target=EF_target_pos, step=interpolated_points)\n",
    "    print(f\"The intermediate points are stored in the variable \\\"interpolated_points\\\"\")\n",
    "    \n",
    "    # set the current E-F position for the IK loop\n",
    "    joint2pos, joint3pos, joint4pos, endEffectorPos = init_joint2pos, init_joint3pos, init_joint4pos, EF_init_pos\n",
    "    # set the initial robot configuration\n",
    "    newTheta = initTheta\n",
    "\n",
    "    # Set up the animation generator\n",
    "    fig = plt.figure(figsize=(10,10))\n",
    "    camera = Camera(fig)\n",
    "\n",
    "    temp=np.random.randint(0,2,3)\n",
    "    temp_angle=np.random.randint(15,60,3) \n",
    "    print(temp)\n",
    "    print(temp_angle)\n",
    "    \n",
    "    temp_eeff_angle=np.append(np.linspace(0,45,int(interpolated_points.shape[0]/8)),\n",
    "                          np.linspace(45,0,int(interpolated_points.shape[0]/8)))\n",
    "    \n",
    "    eeff_len_orig=np.random.randint(2,5)\n",
    "    \n",
    "    keypoints_data=pd.DataFrame(columns=range((5+np.sum(temp)+2)*2),dtype=float)\n",
    "    \n",
    "    arr2=np.linspace(-1,1,np.random.randint(10,50))\n",
    "    arr3=np.linspace(-int(eeff_len_orig/2),int(eeff_len_orig/2),np.random.randint(10,50))\n",
    "    \n",
    "    arr2=np.append(arr2,np.flip(arr2))\n",
    "    arr3=np.append(arr3,np.flip(arr3))\n",
    "\n",
    "\n",
    "    for i in range(interpolated_points.shape[0]):\n",
    "        J = arm.geomJacobian()\n",
    "\n",
    "        newgoal = interpolated_points[i, :]\n",
    "        deltaStep = newgoal - endEffectorPos\n",
    "        subtarget = np.array([deltaStep[0], deltaStep[1], 0]) \n",
    "\n",
    "        radTheta = np.linalg.pinv(J) @ subtarget\n",
    "        newTheta = newTheta + radTheta\n",
    "\n",
    "        # ----------- Do forward kinematics to plot the arm ---------------\n",
    "        arm.random_link_len_change(i)\n",
    "        eeff_len=eeff_len_orig+arr3[i%len(arr3)]\n",
    "\n",
    "        _ = arm.forwardKinematics(newTheta[0],newTheta[1],newTheta[2],newTheta[3])\n",
    "        joint2pos, joint3pos, joint4pos, endEffectorPos = arm.findJointPos()\n",
    "\n",
    "        x1=[]\n",
    "        y1=[]\n",
    "        x2=[]\n",
    "        y2=[]\n",
    "\n",
    "        if(temp[0]==1):\n",
    "            x1=x1+[arm.l1*np.cos(newTheta[0]) \\\n",
    "                   +(3+arr2[i%len(arr2)])*np.cos(newTheta[0]+newTheta[1]+np.deg2rad(temp_angle[0]))]\n",
    "            y1=y1+[arm.l1*np.sin(newTheta[0]) \\\n",
    "                   +(3+arr2[i%len(arr2)])*np.sin(newTheta[0]+newTheta[1]+np.deg2rad(temp_angle[0]))]\n",
    "        else:\n",
    "            x1=x1+[np.nan]\n",
    "            y1=y1+[np.nan]\n",
    "\n",
    "        if(temp[1]==1):\n",
    "            x1=x1+[arm.l1*np.cos(newTheta[0]) \\\n",
    "                   +arm.l2*np.cos(newTheta[0]+newTheta[1]) \\\n",
    "                   +(3+arr2[i%len(arr2)])*np.cos(newTheta[0]+newTheta[1]+newTheta[2]+np.deg2rad(temp_angle[1]))]\n",
    "            y1=y1+[arm.l1*np.sin(newTheta[0]) \\\n",
    "                   +arm.l2*np.sin(newTheta[0]+newTheta[1]) \\\n",
    "                   +(3+arr2[i%len(arr2)])*np.sin(newTheta[0]+newTheta[1]+newTheta[2]+np.deg2rad(temp_angle[1]))]\n",
    "        else:\n",
    "            x1=x1+[np.nan]\n",
    "            y1=y1+[np.nan]\n",
    "\n",
    "        if(temp[2]==1):\n",
    "            x1=x1+[arm.l1*np.cos(newTheta[0]) \\\n",
    "                   +arm.l2*np.cos(newTheta[0]+newTheta[1]) \\\n",
    "                   +arm.l3*np.cos(newTheta[0]+newTheta[1]+newTheta[2]) \\\n",
    "                   +(3+arr2[i%len(arr2)])*np.cos(newTheta[0]+newTheta[1]+newTheta[2]+newTheta[3]+np.deg2rad(temp_angle[2]))]\n",
    "            y1=y1+[arm.l1*np.sin(newTheta[0]) \\\n",
    "                   +arm.l2*np.sin(newTheta[0]+newTheta[1]) \\\n",
    "                   +arm.l3*np.sin(newTheta[0]+newTheta[1]+newTheta[2]) \\\n",
    "                   +(3+arr2[i%len(arr2)])*np.sin(newTheta[0]+newTheta[1]+newTheta[2]+newTheta[3]+np.deg2rad(temp_angle[2]))]\n",
    "        else:\n",
    "            x1=x1+[np.nan]\n",
    "            y1=y1+[np.nan]\n",
    "\n",
    "        x2=x2+[arm.l1*np.cos(newTheta[0]) \\\n",
    "               +arm.l2*np.cos(newTheta[0]+newTheta[1]) \\\n",
    "               +arm.l3*np.cos(newTheta[0]+newTheta[1]+newTheta[2]) \\\n",
    "               +arm.l4*np.cos(newTheta[0]+newTheta[1]+newTheta[2]+newTheta[3]) \\\n",
    "               +eeff_len*np.cos(newTheta[0]+newTheta[1]+newTheta[2]+newTheta[3] \\\n",
    "                                +np.deg2rad(temp_eeff_angle[i%len(temp_eeff_angle)]))]\n",
    "    \n",
    "        y2=y2+[arm.l1*np.sin(newTheta[0]) \\\n",
    "               +arm.l2*np.sin(newTheta[0]+newTheta[1]) \\\n",
    "               +arm.l3*np.sin(newTheta[0]+newTheta[1]+newTheta[2]) \\\n",
    "               +arm.l4*np.sin(newTheta[0]+newTheta[1]+newTheta[2]+newTheta[3]) \\\n",
    "               +eeff_len*np.sin(newTheta[0]+newTheta[1]+newTheta[2]+newTheta[3] \\\n",
    "                                +np.deg2rad(temp_eeff_angle[i%len(temp_eeff_angle)]))]\n",
    "        \n",
    "        x2=x2+[arm.l1*np.cos(newTheta[0]) \\\n",
    "               +arm.l2*np.cos(newTheta[0]+newTheta[1]) \\\n",
    "               +arm.l3*np.cos(newTheta[0]+newTheta[1]+newTheta[2]) \\\n",
    "               +arm.l4*np.cos(newTheta[0]+newTheta[1]+newTheta[2]+newTheta[3]) \\\n",
    "               +eeff_len*np.cos(newTheta[0]+newTheta[1]+newTheta[2]+newTheta[3] \\\n",
    "                                -np.deg2rad(temp_eeff_angle[i%len(temp_eeff_angle)]))]\n",
    "    \n",
    "        y2=y2+[arm.l1*np.sin(newTheta[0]) \\\n",
    "               +arm.l2*np.sin(newTheta[0]+newTheta[1]) \\\n",
    "               +arm.l3*np.sin(newTheta[0]+newTheta[1]+newTheta[2]) \\\n",
    "               +arm.l4*np.sin(newTheta[0]+newTheta[1]+newTheta[2]+newTheta[3]) \\\n",
    "               +eeff_len*np.sin(newTheta[0]+newTheta[1]+newTheta[2]+newTheta[3] \\\n",
    "                                -np.deg2rad(temp_eeff_angle[i%len(temp_eeff_angle)]))]\n",
    "\n",
    "        temp_keypoints=np.array([0,0,joint2pos[0],joint2pos[1],joint3pos[0],joint3pos[1],joint4pos[0],joint4pos[1],\n",
    "                                 endEffectorPos[0],endEffectorPos[1]])\n",
    "        for k in range(len(temp)):\n",
    "            if(temp[k]!=0):\n",
    "                temp_keypoints=np.append(temp_keypoints,np.array([x1[k],y1[k]]))\n",
    "        \n",
    "        temp_keypoints=np.append(temp_keypoints,np.array([x2[0],y2[0],x2[1],y2[1]]))\n",
    "        \n",
    "        keypoints_data = keypoints_data.append(pd.DataFrame(temp_keypoints[None,:],columns=keypoints_data.columns),\n",
    "                                               ignore_index = True)\n",
    "        \n",
    "        plotArm2(joint2pos, joint3pos, joint4pos, endEffectorPos,x1,\n",
    "                 y1,x2,y2, target=EF_target_pos, fig=fig, camera=camera)\n",
    "\n",
    "\n",
    "    plt.close()\n",
    "    animation = camera.animate()\n",
    "    animation.save('./animated_motion_dynamic_len/animated_motion'+str(animation_index)+'.gif', writer = 'imagemagick')\n",
    "    \n",
    "    # create the adjacency matrix\n",
    "    adj_mat_size=sum(np.invert(np.isnan(x1)))\n",
    "    adj_mat=np.zeros((5+adj_mat_size+2,5+adj_mat_size+2))\n",
    "    adj_mat[0][1]=1\n",
    "    adj_mat[1][2]=1\n",
    "    adj_mat[2][3]=1\n",
    "    adj_mat[3][4]=1\n",
    "    c2=1\n",
    "    for i in range(len(x1)):\n",
    "        if(not np.isnan(x1[i])):\n",
    "            adj_mat[i+1][4+c2]=1\n",
    "            adj_mat[i+2][4+c2]=1\n",
    "            c2=c2+1\n",
    "    adj_mat[4][4+c2]=1\n",
    "    adj_mat[4][4+c2+1]=1\n",
    "    \n",
    "    pd.DataFrame(adj_mat).astype(int).to_csv('./animated_motion_dynamic_len/adj_mat'+str(animation_index)+'.csv')\n",
    "    keypoints_data.to_csv('./animated_motion_dynamic_len/ts_data'+str(animation_index)+'.csv')    \n",
    "    "
   ]
  },
  {
   "cell_type": "code",
   "execution_count": 5,
   "metadata": {},
   "outputs": [],
   "source": [
    "import os\n",
    "os.environ['MAGICK_THREAD_LIMIT'] = '2'"
   ]
  },
  {
   "cell_type": "code",
   "execution_count": 6,
   "metadata": {},
   "outputs": [],
   "source": [
    "# create_simulation(1021,50)"
   ]
  },
  {
   "cell_type": "code",
   "execution_count": 7,
   "metadata": {},
   "outputs": [
    {
     "name": "stdout",
     "output_type": "stream",
     "text": [
      "26\n",
      "The interpolation points are stored in the variable \"EF_target_pos\": \n",
      "[[ 21.89949494   9.89949494]\n",
      " [ 17.33333333  -0.50819257]\n",
      " [  8.66666667  -0.73261568]\n",
      " [ -8.66666667  16.95337235]\n",
      " [-17.33333333   1.34033206]]\n",
      "The intermediate points are stored in the variable \"interpolated_points\"\n",
      "[1 1 1]\n",
      "[38 33 56]\n"
     ]
    },
    {
     "name": "stderr",
     "output_type": "stream",
     "text": [
      "<ipython-input-3-d5f98cda02b0>:29: MatplotlibDeprecationWarning: Adding an axes using the same arguments as a previous axes currently reuses the earlier instance.  In a future version, a new instance will always be created and returned.  Meanwhile, this warning can be suppressed, and the future behavior ensured, by passing a unique label to each axes instance.\n",
      "  ax = fig.add_subplot(111, autoscale_on=False,\n"
     ]
    },
    {
     "name": "stdout",
     "output_type": "stream",
     "text": [
      "24\n",
      "The interpolation points are stored in the variable \"EF_target_pos\": \n",
      "[[ 21.07106781   7.07106781]\n",
      " [ 16.           7.73216895]\n",
      " [  8.           8.98807053]\n",
      " [ -8.           4.63861876]\n",
      " [-16.           6.75949792]]\n",
      "The intermediate points are stored in the variable \"interpolated_points\"\n",
      "[0 0 0]\n",
      "[26 58 51]\n"
     ]
    },
    {
     "name": "stderr",
     "output_type": "stream",
     "text": [
      "<ipython-input-3-d5f98cda02b0>:29: MatplotlibDeprecationWarning: Adding an axes using the same arguments as a previous axes currently reuses the earlier instance.  In a future version, a new instance will always be created and returned.  Meanwhile, this warning can be suppressed, and the future behavior ensured, by passing a unique label to each axes instance.\n",
      "  ax = fig.add_subplot(111, autoscale_on=False,\n"
     ]
    },
    {
     "name": "stdout",
     "output_type": "stream",
     "text": [
      "17\n",
      "The interpolation points are stored in the variable \"EF_target_pos\": \n",
      "[[ 14.36396103   6.36396103]\n",
      " [ 11.33333333   5.03429949]\n",
      " [  5.66666667  -4.52474565]\n",
      " [ -5.66666667   0.54526393]\n",
      " [-11.33333333   4.36035649]]\n",
      "The intermediate points are stored in the variable \"interpolated_points\"\n",
      "[0 1 0]\n",
      "[49 29 44]\n"
     ]
    },
    {
     "name": "stderr",
     "output_type": "stream",
     "text": [
      "<ipython-input-3-d5f98cda02b0>:29: MatplotlibDeprecationWarning: Adding an axes using the same arguments as a previous axes currently reuses the earlier instance.  In a future version, a new instance will always be created and returned.  Meanwhile, this warning can be suppressed, and the future behavior ensured, by passing a unique label to each axes instance.\n",
      "  ax = fig.add_subplot(111, autoscale_on=False,\n"
     ]
    },
    {
     "name": "stdout",
     "output_type": "stream",
     "text": [
      "23\n",
      "The interpolation points are stored in the variable \"EF_target_pos\": \n",
      "[[ 19.19238816   9.19238816]\n",
      " [ 15.33333333  -1.89491508]\n",
      " [  7.66666667  -5.74437422]\n",
      " [ -7.66666667  -0.21688313]\n",
      " [-15.33333333   2.84905404]]\n",
      "The intermediate points are stored in the variable \"interpolated_points\"\n",
      "[1 1 1]\n",
      "[53 34 43]\n"
     ]
    },
    {
     "name": "stderr",
     "output_type": "stream",
     "text": [
      "<ipython-input-3-d5f98cda02b0>:29: MatplotlibDeprecationWarning: Adding an axes using the same arguments as a previous axes currently reuses the earlier instance.  In a future version, a new instance will always be created and returned.  Meanwhile, this warning can be suppressed, and the future behavior ensured, by passing a unique label to each axes instance.\n",
      "  ax = fig.add_subplot(111, autoscale_on=False,\n"
     ]
    },
    {
     "name": "stdout",
     "output_type": "stream",
     "text": [
      "23\n",
      "The interpolation points are stored in the variable \"EF_target_pos\": \n",
      "[[ 20.07106781   7.07106781]\n",
      " [ 15.33333333   3.07698398]\n",
      " [  7.66666667 -13.78744782]\n",
      " [ -7.66666667  -1.6207147 ]\n",
      " [-15.33333333   4.92448377]]\n",
      "The intermediate points are stored in the variable \"interpolated_points\"\n",
      "[1 1 0]\n",
      "[18 56 38]\n"
     ]
    },
    {
     "name": "stderr",
     "output_type": "stream",
     "text": [
      "<ipython-input-3-d5f98cda02b0>:29: MatplotlibDeprecationWarning: Adding an axes using the same arguments as a previous axes currently reuses the earlier instance.  In a future version, a new instance will always be created and returned.  Meanwhile, this warning can be suppressed, and the future behavior ensured, by passing a unique label to each axes instance.\n",
      "  ax = fig.add_subplot(111, autoscale_on=False,\n"
     ]
    },
    {
     "name": "stdout",
     "output_type": "stream",
     "text": [
      "28\n",
      "The interpolation points are stored in the variable \"EF_target_pos\": \n",
      "[[ 23.89949494   9.89949494]\n",
      " [ 18.66666667  -0.57795229]\n",
      " [  9.33333333   0.50936323]\n",
      " [ -9.33333333   3.28631976]\n",
      " [-18.66666667   7.17909631]]\n",
      "The intermediate points are stored in the variable \"interpolated_points\"\n",
      "[0 0 1]\n",
      "[16 25 32]\n"
     ]
    },
    {
     "name": "stderr",
     "output_type": "stream",
     "text": [
      "<ipython-input-3-d5f98cda02b0>:29: MatplotlibDeprecationWarning: Adding an axes using the same arguments as a previous axes currently reuses the earlier instance.  In a future version, a new instance will always be created and returned.  Meanwhile, this warning can be suppressed, and the future behavior ensured, by passing a unique label to each axes instance.\n",
      "  ax = fig.add_subplot(111, autoscale_on=False,\n"
     ]
    },
    {
     "name": "stdout",
     "output_type": "stream",
     "text": [
      "19\n",
      "The interpolation points are stored in the variable \"EF_target_pos\": \n",
      "[[ 15.77817459   7.77817459]\n",
      " [ 12.66666667   5.49594925]\n",
      " [  6.33333333  -7.88220072]\n",
      " [ -6.33333333  -4.78588301]\n",
      " [-12.66666667   1.08063851]]\n",
      "The intermediate points are stored in the variable \"interpolated_points\"\n",
      "[0 0 1]\n",
      "[21 50 52]\n"
     ]
    },
    {
     "name": "stderr",
     "output_type": "stream",
     "text": [
      "<ipython-input-3-d5f98cda02b0>:29: MatplotlibDeprecationWarning: Adding an axes using the same arguments as a previous axes currently reuses the earlier instance.  In a future version, a new instance will always be created and returned.  Meanwhile, this warning can be suppressed, and the future behavior ensured, by passing a unique label to each axes instance.\n",
      "  ax = fig.add_subplot(111, autoscale_on=False,\n"
     ]
    },
    {
     "name": "stdout",
     "output_type": "stream",
     "text": [
      "26\n",
      "The interpolation points are stored in the variable \"EF_target_pos\": \n",
      "[[ 21.3137085   11.3137085 ]\n",
      " [ 17.33333333  -3.96335092]\n",
      " [  8.66666667   1.19890112]\n",
      " [ -8.66666667  -7.97485987]\n",
      " [-17.33333333  -5.10734938]]\n",
      "The intermediate points are stored in the variable \"interpolated_points\"\n",
      "[1 0 0]\n",
      "[16 23 31]\n"
     ]
    },
    {
     "name": "stderr",
     "output_type": "stream",
     "text": [
      "<ipython-input-3-d5f98cda02b0>:29: MatplotlibDeprecationWarning: Adding an axes using the same arguments as a previous axes currently reuses the earlier instance.  In a future version, a new instance will always be created and returned.  Meanwhile, this warning can be suppressed, and the future behavior ensured, by passing a unique label to each axes instance.\n",
      "  ax = fig.add_subplot(111, autoscale_on=False,\n"
     ]
    },
    {
     "name": "stdout",
     "output_type": "stream",
     "text": [
      "22\n",
      "The interpolation points are stored in the variable \"EF_target_pos\": \n",
      "[[ 18.77817459   7.77817459]\n",
      " [ 14.66666667  -2.59181672]\n",
      " [  7.33333333 -13.84238095]\n",
      " [ -7.33333333  12.74160539]\n",
      " [-14.66666667  -3.30576159]]\n",
      "The intermediate points are stored in the variable \"interpolated_points\"\n",
      "[0 0 1]\n",
      "[53 35 44]\n"
     ]
    },
    {
     "name": "stderr",
     "output_type": "stream",
     "text": [
      "<ipython-input-3-d5f98cda02b0>:29: MatplotlibDeprecationWarning: Adding an axes using the same arguments as a previous axes currently reuses the earlier instance.  In a future version, a new instance will always be created and returned.  Meanwhile, this warning can be suppressed, and the future behavior ensured, by passing a unique label to each axes instance.\n",
      "  ax = fig.add_subplot(111, autoscale_on=False,\n"
     ]
    },
    {
     "name": "stdout",
     "output_type": "stream",
     "text": [
      "21\n",
      "The interpolation points are stored in the variable \"EF_target_pos\": \n",
      "[[ 18.36396103   6.36396103]\n",
      " [ 14.          -0.28403026]\n",
      " [  7.          12.93307259]\n",
      " [ -7.          12.85473321]\n",
      " [-14.          -3.71634334]]\n",
      "The intermediate points are stored in the variable \"interpolated_points\"\n",
      "[0 1 1]\n",
      "[54 52 56]\n"
     ]
    },
    {
     "name": "stderr",
     "output_type": "stream",
     "text": [
      "<ipython-input-3-d5f98cda02b0>:29: MatplotlibDeprecationWarning: Adding an axes using the same arguments as a previous axes currently reuses the earlier instance.  In a future version, a new instance will always be created and returned.  Meanwhile, this warning can be suppressed, and the future behavior ensured, by passing a unique label to each axes instance.\n",
      "  ax = fig.add_subplot(111, autoscale_on=False,\n"
     ]
    },
    {
     "name": "stdout",
     "output_type": "stream",
     "text": [
      "22\n",
      "The interpolation points are stored in the variable \"EF_target_pos\": \n",
      "[[ 19.07106781   7.07106781]\n",
      " [ 14.66666667  -3.64461863]\n",
      " [  7.33333333  11.08435433]\n",
      " [ -7.33333333  -6.34327197]\n",
      " [-14.66666667   1.37307033]]\n",
      "The intermediate points are stored in the variable \"interpolated_points\"\n",
      "[0 0 1]\n",
      "[32 15 44]\n"
     ]
    },
    {
     "name": "stderr",
     "output_type": "stream",
     "text": [
      "<ipython-input-3-d5f98cda02b0>:29: MatplotlibDeprecationWarning: Adding an axes using the same arguments as a previous axes currently reuses the earlier instance.  In a future version, a new instance will always be created and returned.  Meanwhile, this warning can be suppressed, and the future behavior ensured, by passing a unique label to each axes instance.\n",
      "  ax = fig.add_subplot(111, autoscale_on=False,\n"
     ]
    },
    {
     "name": "stdout",
     "output_type": "stream",
     "text": [
      "29\n",
      "The interpolation points are stored in the variable \"EF_target_pos\": \n",
      "[[ 24.3137085   11.3137085 ]\n",
      " [ 19.33333333  -7.2926775 ]\n",
      " [  9.66666667  17.1375948 ]\n",
      " [ -9.66666667  -0.4102069 ]\n",
      " [-19.33333333   8.95177465]]\n",
      "The intermediate points are stored in the variable \"interpolated_points\"\n",
      "[1 0 0]\n",
      "[28 26 36]\n"
     ]
    },
    {
     "name": "stderr",
     "output_type": "stream",
     "text": [
      "<ipython-input-3-d5f98cda02b0>:29: MatplotlibDeprecationWarning: Adding an axes using the same arguments as a previous axes currently reuses the earlier instance.  In a future version, a new instance will always be created and returned.  Meanwhile, this warning can be suppressed, and the future behavior ensured, by passing a unique label to each axes instance.\n",
      "  ax = fig.add_subplot(111, autoscale_on=False,\n"
     ]
    },
    {
     "name": "stdout",
     "output_type": "stream",
     "text": [
      "21\n",
      "The interpolation points are stored in the variable \"EF_target_pos\": \n",
      "[[ 17.48528137   8.48528137]\n",
      " [ 14.           3.17824446]\n",
      " [  7.           9.15959754]\n",
      " [ -7.           6.48875783]\n",
      " [-14.           6.41540419]]\n",
      "The intermediate points are stored in the variable \"interpolated_points\"\n",
      "[0 1 1]\n",
      "[37 22 56]\n"
     ]
    },
    {
     "name": "stderr",
     "output_type": "stream",
     "text": [
      "<ipython-input-3-d5f98cda02b0>:29: MatplotlibDeprecationWarning: Adding an axes using the same arguments as a previous axes currently reuses the earlier instance.  In a future version, a new instance will always be created and returned.  Meanwhile, this warning can be suppressed, and the future behavior ensured, by passing a unique label to each axes instance.\n",
      "  ax = fig.add_subplot(111, autoscale_on=False,\n"
     ]
    },
    {
     "name": "stdout",
     "output_type": "stream",
     "text": [
      "20\n",
      "The interpolation points are stored in the variable \"EF_target_pos\": \n",
      "[[ 17.07106781   7.07106781]\n",
      " [ 13.33333333  -5.21194904]\n",
      " [  6.66666667   0.31736465]\n",
      " [ -6.66666667   0.57218984]\n",
      " [-13.33333333  -0.54159849]]\n",
      "The intermediate points are stored in the variable \"interpolated_points\"\n",
      "[0 0 0]\n",
      "[24 24 25]\n"
     ]
    },
    {
     "name": "stderr",
     "output_type": "stream",
     "text": [
      "<ipython-input-3-d5f98cda02b0>:29: MatplotlibDeprecationWarning: Adding an axes using the same arguments as a previous axes currently reuses the earlier instance.  In a future version, a new instance will always be created and returned.  Meanwhile, this warning can be suppressed, and the future behavior ensured, by passing a unique label to each axes instance.\n",
      "  ax = fig.add_subplot(111, autoscale_on=False,\n"
     ]
    },
    {
     "name": "stdout",
     "output_type": "stream",
     "text": [
      "26\n",
      "The interpolation points are stored in the variable \"EF_target_pos\": \n",
      "[[ 22.77817459   7.77817459]\n",
      " [ 17.33333333   3.96293373]\n",
      " [  8.66666667 -12.16833932]\n",
      " [ -8.66666667  10.1800779 ]\n",
      " [-17.33333333  -3.41520434]]\n",
      "The intermediate points are stored in the variable \"interpolated_points\"\n",
      "[0 0 1]\n",
      "[15 26 34]\n"
     ]
    },
    {
     "name": "stderr",
     "output_type": "stream",
     "text": [
      "<ipython-input-3-d5f98cda02b0>:29: MatplotlibDeprecationWarning: Adding an axes using the same arguments as a previous axes currently reuses the earlier instance.  In a future version, a new instance will always be created and returned.  Meanwhile, this warning can be suppressed, and the future behavior ensured, by passing a unique label to each axes instance.\n",
      "  ax = fig.add_subplot(111, autoscale_on=False,\n"
     ]
    },
    {
     "name": "stdout",
     "output_type": "stream",
     "text": [
      "24\n",
      "The interpolation points are stored in the variable \"EF_target_pos\": \n",
      "[[ 21.36396103   6.36396103]\n",
      " [ 16.          -7.34298168]\n",
      " [  8.           6.68323549]\n",
      " [ -8.           4.76369085]\n",
      " [-16.           0.10821517]]\n",
      "The intermediate points are stored in the variable \"interpolated_points\"\n",
      "[1 0 1]\n",
      "[36 48 15]\n"
     ]
    },
    {
     "name": "stderr",
     "output_type": "stream",
     "text": [
      "<ipython-input-3-d5f98cda02b0>:29: MatplotlibDeprecationWarning: Adding an axes using the same arguments as a previous axes currently reuses the earlier instance.  In a future version, a new instance will always be created and returned.  Meanwhile, this warning can be suppressed, and the future behavior ensured, by passing a unique label to each axes instance.\n",
      "  ax = fig.add_subplot(111, autoscale_on=False,\n"
     ]
    },
    {
     "name": "stdout",
     "output_type": "stream",
     "text": [
      "23\n",
      "The interpolation points are stored in the variable \"EF_target_pos\": \n",
      "[[ 19.77817459   7.77817459]\n",
      " [ 15.33333333  -1.95388034]\n",
      " [  7.66666667  13.03943615]\n",
      " [ -7.66666667  10.05923425]\n",
      " [-15.33333333  -0.43385459]]\n",
      "The intermediate points are stored in the variable \"interpolated_points\"\n",
      "[1 0 1]\n",
      "[39 30 24]\n"
     ]
    },
    {
     "name": "stderr",
     "output_type": "stream",
     "text": [
      "<ipython-input-3-d5f98cda02b0>:29: MatplotlibDeprecationWarning: Adding an axes using the same arguments as a previous axes currently reuses the earlier instance.  In a future version, a new instance will always be created and returned.  Meanwhile, this warning can be suppressed, and the future behavior ensured, by passing a unique label to each axes instance.\n",
      "  ax = fig.add_subplot(111, autoscale_on=False,\n"
     ]
    },
    {
     "name": "stdout",
     "output_type": "stream",
     "text": [
      "24\n",
      "The interpolation points are stored in the variable \"EF_target_pos\": \n",
      "[[ 20.77817459   7.77817459]\n",
      " [ 16.           4.45803227]\n",
      " [  8.           7.09945885]\n",
      " [ -8.           3.11020129]\n",
      " [-16.          -5.38827511]]\n",
      "The intermediate points are stored in the variable \"interpolated_points\"\n",
      "[0 1 1]\n",
      "[19 25 38]\n"
     ]
    },
    {
     "name": "stderr",
     "output_type": "stream",
     "text": [
      "<ipython-input-3-d5f98cda02b0>:29: MatplotlibDeprecationWarning: Adding an axes using the same arguments as a previous axes currently reuses the earlier instance.  In a future version, a new instance will always be created and returned.  Meanwhile, this warning can be suppressed, and the future behavior ensured, by passing a unique label to each axes instance.\n",
      "  ax = fig.add_subplot(111, autoscale_on=False,\n"
     ]
    },
    {
     "name": "stdout",
     "output_type": "stream",
     "text": [
      "23\n",
      "The interpolation points are stored in the variable \"EF_target_pos\": \n",
      "[[ 18.89949494   9.89949494]\n",
      " [ 15.33333333   0.05801575]\n",
      " [  7.66666667  14.99773513]\n",
      " [ -7.66666667  -6.2570413 ]\n",
      " [-15.33333333  -4.71358536]]\n",
      "The intermediate points are stored in the variable \"interpolated_points\"\n",
      "[1 0 1]\n",
      "[57 59 33]\n"
     ]
    },
    {
     "name": "stderr",
     "output_type": "stream",
     "text": [
      "<ipython-input-3-d5f98cda02b0>:29: MatplotlibDeprecationWarning: Adding an axes using the same arguments as a previous axes currently reuses the earlier instance.  In a future version, a new instance will always be created and returned.  Meanwhile, this warning can be suppressed, and the future behavior ensured, by passing a unique label to each axes instance.\n",
      "  ax = fig.add_subplot(111, autoscale_on=False,\n"
     ]
    },
    {
     "name": "stdout",
     "output_type": "stream",
     "text": [
      "25\n",
      "The interpolation points are stored in the variable \"EF_target_pos\": \n",
      "[[ 21.48528137   8.48528137]\n",
      " [ 16.66666667  -7.21675998]\n",
      " [  8.33333333 -16.78088489]\n",
      " [ -8.33333333 -12.76576755]\n",
      " [-16.66666667   6.99807077]]\n",
      "The intermediate points are stored in the variable \"interpolated_points\"\n",
      "[1 0 0]\n",
      "[34 55 50]\n"
     ]
    },
    {
     "name": "stderr",
     "output_type": "stream",
     "text": [
      "<ipython-input-3-d5f98cda02b0>:29: MatplotlibDeprecationWarning: Adding an axes using the same arguments as a previous axes currently reuses the earlier instance.  In a future version, a new instance will always be created and returned.  Meanwhile, this warning can be suppressed, and the future behavior ensured, by passing a unique label to each axes instance.\n",
      "  ax = fig.add_subplot(111, autoscale_on=False,\n"
     ]
    },
    {
     "name": "stdout",
     "output_type": "stream",
     "text": [
      "29\n",
      "The interpolation points are stored in the variable \"EF_target_pos\": \n",
      "[[ 24.89949494   9.89949494]\n",
      " [ 19.33333333   2.71508068]\n",
      " [  9.66666667   2.92679356]\n",
      " [ -9.66666667   4.99329461]\n",
      " [-19.33333333  -1.60217313]]\n",
      "The intermediate points are stored in the variable \"interpolated_points\"\n",
      "[0 0 0]\n",
      "[50 17 17]\n"
     ]
    },
    {
     "name": "stderr",
     "output_type": "stream",
     "text": [
      "<ipython-input-3-d5f98cda02b0>:29: MatplotlibDeprecationWarning: Adding an axes using the same arguments as a previous axes currently reuses the earlier instance.  In a future version, a new instance will always be created and returned.  Meanwhile, this warning can be suppressed, and the future behavior ensured, by passing a unique label to each axes instance.\n",
      "  ax = fig.add_subplot(111, autoscale_on=False,\n"
     ]
    },
    {
     "name": "stdout",
     "output_type": "stream",
     "text": [
      "26\n",
      "The interpolation points are stored in the variable \"EF_target_pos\": \n",
      "[[ 21.89949494   9.89949494]\n",
      " [ 17.33333333   1.68100056]\n",
      " [  8.66666667  -9.64760027]\n",
      " [ -8.66666667   9.78004157]\n",
      " [-17.33333333  -8.49034282]]\n",
      "The intermediate points are stored in the variable \"interpolated_points\"\n",
      "[0 1 0]\n",
      "[43 28 59]\n"
     ]
    },
    {
     "name": "stderr",
     "output_type": "stream",
     "text": [
      "<ipython-input-3-d5f98cda02b0>:29: MatplotlibDeprecationWarning: Adding an axes using the same arguments as a previous axes currently reuses the earlier instance.  In a future version, a new instance will always be created and returned.  Meanwhile, this warning can be suppressed, and the future behavior ensured, by passing a unique label to each axes instance.\n",
      "  ax = fig.add_subplot(111, autoscale_on=False,\n"
     ]
    },
    {
     "name": "stdout",
     "output_type": "stream",
     "text": [
      "25\n",
      "The interpolation points are stored in the variable \"EF_target_pos\": \n",
      "[[ 21.19238816   9.19238816]\n",
      " [ 16.66666667   2.18707052]\n",
      " [  8.33333333   9.39579711]\n",
      " [ -8.33333333  -9.52415646]\n",
      " [-16.66666667  -5.92968588]]\n",
      "The intermediate points are stored in the variable \"interpolated_points\"\n",
      "[1 1 0]\n",
      "[38 53 51]\n"
     ]
    },
    {
     "name": "stderr",
     "output_type": "stream",
     "text": [
      "<ipython-input-3-d5f98cda02b0>:29: MatplotlibDeprecationWarning: Adding an axes using the same arguments as a previous axes currently reuses the earlier instance.  In a future version, a new instance will always be created and returned.  Meanwhile, this warning can be suppressed, and the future behavior ensured, by passing a unique label to each axes instance.\n",
      "  ax = fig.add_subplot(111, autoscale_on=False,\n"
     ]
    },
    {
     "name": "stdout",
     "output_type": "stream",
     "text": [
      "22\n",
      "The interpolation points are stored in the variable \"EF_target_pos\": \n",
      "[[ 18.77817459   7.77817459]\n",
      " [ 14.66666667   3.59268441]\n",
      " [  7.33333333 -13.58041489]\n",
      " [ -7.33333333  -6.52841754]\n",
      " [-14.66666667   5.18464653]]\n",
      "The intermediate points are stored in the variable \"interpolated_points\"\n",
      "[1 0 0]\n",
      "[48 46 29]\n"
     ]
    },
    {
     "name": "stderr",
     "output_type": "stream",
     "text": [
      "<ipython-input-3-d5f98cda02b0>:29: MatplotlibDeprecationWarning: Adding an axes using the same arguments as a previous axes currently reuses the earlier instance.  In a future version, a new instance will always be created and returned.  Meanwhile, this warning can be suppressed, and the future behavior ensured, by passing a unique label to each axes instance.\n",
      "  ax = fig.add_subplot(111, autoscale_on=False,\n"
     ]
    },
    {
     "name": "stdout",
     "output_type": "stream",
     "text": [
      "26\n",
      "The interpolation points are stored in the variable \"EF_target_pos\": \n",
      "[[ 22.19238816   9.19238816]\n",
      " [ 17.33333333  -2.08997919]\n",
      " [  8.66666667 -12.11852893]\n",
      " [ -8.66666667   2.29299079]\n",
      " [-17.33333333   7.16413131]]\n",
      "The intermediate points are stored in the variable \"interpolated_points\"\n",
      "[1 1 1]\n",
      "[51 39 20]\n"
     ]
    },
    {
     "name": "stderr",
     "output_type": "stream",
     "text": [
      "<ipython-input-3-d5f98cda02b0>:29: MatplotlibDeprecationWarning: Adding an axes using the same arguments as a previous axes currently reuses the earlier instance.  In a future version, a new instance will always be created and returned.  Meanwhile, this warning can be suppressed, and the future behavior ensured, by passing a unique label to each axes instance.\n",
      "  ax = fig.add_subplot(111, autoscale_on=False,\n"
     ]
    },
    {
     "name": "stdout",
     "output_type": "stream",
     "text": [
      "20\n",
      "The interpolation points are stored in the variable \"EF_target_pos\": \n",
      "[[ 16.77817459   7.77817459]\n",
      " [ 13.33333333  -2.80165068]\n",
      " [  6.66666667   1.64187135]\n",
      " [ -6.66666667  -6.89976467]\n",
      " [-13.33333333   5.79500284]]\n",
      "The intermediate points are stored in the variable \"interpolated_points\"\n",
      "[1 0 1]\n",
      "[40 33 34]\n"
     ]
    },
    {
     "name": "stderr",
     "output_type": "stream",
     "text": [
      "<ipython-input-3-d5f98cda02b0>:29: MatplotlibDeprecationWarning: Adding an axes using the same arguments as a previous axes currently reuses the earlier instance.  In a future version, a new instance will always be created and returned.  Meanwhile, this warning can be suppressed, and the future behavior ensured, by passing a unique label to each axes instance.\n",
      "  ax = fig.add_subplot(111, autoscale_on=False,\n"
     ]
    },
    {
     "name": "stdout",
     "output_type": "stream",
     "text": [
      "22\n",
      "The interpolation points are stored in the variable \"EF_target_pos\": \n",
      "[[ 19.07106781   7.07106781]\n",
      " [ 14.66666667   6.16915337]\n",
      " [  7.33333333  -6.46940692]\n",
      " [ -7.33333333   5.74176043]\n",
      " [-14.66666667  -6.2860419 ]]\n",
      "The intermediate points are stored in the variable \"interpolated_points\"\n",
      "[1 0 1]\n",
      "[21 24 39]\n"
     ]
    },
    {
     "name": "stderr",
     "output_type": "stream",
     "text": [
      "<ipython-input-3-d5f98cda02b0>:29: MatplotlibDeprecationWarning: Adding an axes using the same arguments as a previous axes currently reuses the earlier instance.  In a future version, a new instance will always be created and returned.  Meanwhile, this warning can be suppressed, and the future behavior ensured, by passing a unique label to each axes instance.\n",
      "  ax = fig.add_subplot(111, autoscale_on=False,\n"
     ]
    },
    {
     "name": "stdout",
     "output_type": "stream",
     "text": [
      "25\n",
      "The interpolation points are stored in the variable \"EF_target_pos\": \n",
      "[[ 21.77817459   7.77817459]\n",
      " [ 16.66666667   5.90417841]\n",
      " [  8.33333333   9.49859669]\n",
      " [ -8.33333333   5.01434881]\n",
      " [-16.66666667  -3.88467794]]\n",
      "The intermediate points are stored in the variable \"interpolated_points\"\n",
      "[0 1 0]\n",
      "[42 36 21]\n"
     ]
    },
    {
     "name": "stderr",
     "output_type": "stream",
     "text": [
      "<ipython-input-3-d5f98cda02b0>:29: MatplotlibDeprecationWarning: Adding an axes using the same arguments as a previous axes currently reuses the earlier instance.  In a future version, a new instance will always be created and returned.  Meanwhile, this warning can be suppressed, and the future behavior ensured, by passing a unique label to each axes instance.\n",
      "  ax = fig.add_subplot(111, autoscale_on=False,\n"
     ]
    },
    {
     "name": "stdout",
     "output_type": "stream",
     "text": [
      "25\n",
      "The interpolation points are stored in the variable \"EF_target_pos\": \n",
      "[[ 20.60660172  10.60660172]\n",
      " [ 16.66666667   8.32984175]\n",
      " [  8.33333333  10.83040829]\n",
      " [ -8.33333333  -5.83247736]\n",
      " [-16.66666667  -6.36774033]]\n",
      "The intermediate points are stored in the variable \"interpolated_points\"\n",
      "[1 0 0]\n",
      "[33 38 47]\n"
     ]
    },
    {
     "name": "stderr",
     "output_type": "stream",
     "text": [
      "<ipython-input-3-d5f98cda02b0>:29: MatplotlibDeprecationWarning: Adding an axes using the same arguments as a previous axes currently reuses the earlier instance.  In a future version, a new instance will always be created and returned.  Meanwhile, this warning can be suppressed, and the future behavior ensured, by passing a unique label to each axes instance.\n",
      "  ax = fig.add_subplot(111, autoscale_on=False,\n"
     ]
    },
    {
     "name": "stdout",
     "output_type": "stream",
     "text": [
      "20\n",
      "The interpolation points are stored in the variable \"EF_target_pos\": \n",
      "[[ 16.77817459   7.77817459]\n",
      " [ 13.33333333   6.77951921]\n",
      " [  6.66666667  10.16372337]\n",
      " [ -6.66666667  10.99916296]\n",
      " [-13.33333333   4.85815752]]\n",
      "The intermediate points are stored in the variable \"interpolated_points\"\n",
      "[0 1 0]\n",
      "[51 40 33]\n"
     ]
    },
    {
     "name": "stderr",
     "output_type": "stream",
     "text": [
      "<ipython-input-3-d5f98cda02b0>:29: MatplotlibDeprecationWarning: Adding an axes using the same arguments as a previous axes currently reuses the earlier instance.  In a future version, a new instance will always be created and returned.  Meanwhile, this warning can be suppressed, and the future behavior ensured, by passing a unique label to each axes instance.\n",
      "  ax = fig.add_subplot(111, autoscale_on=False,\n"
     ]
    },
    {
     "name": "stdout",
     "output_type": "stream",
     "text": [
      "25\n",
      "The interpolation points are stored in the variable \"EF_target_pos\": \n",
      "[[ 21.48528137   8.48528137]\n",
      " [ 16.66666667   4.36946444]\n",
      " [  8.33333333 -16.55537255]\n",
      " [ -8.33333333 -11.87063728]\n",
      " [-16.66666667  -0.14540024]]\n",
      "The intermediate points are stored in the variable \"interpolated_points\"\n",
      "[1 0 0]\n",
      "[22 56 57]\n"
     ]
    },
    {
     "name": "stderr",
     "output_type": "stream",
     "text": [
      "<ipython-input-3-d5f98cda02b0>:29: MatplotlibDeprecationWarning: Adding an axes using the same arguments as a previous axes currently reuses the earlier instance.  In a future version, a new instance will always be created and returned.  Meanwhile, this warning can be suppressed, and the future behavior ensured, by passing a unique label to each axes instance.\n",
      "  ax = fig.add_subplot(111, autoscale_on=False,\n"
     ]
    },
    {
     "name": "stdout",
     "output_type": "stream",
     "text": [
      "25\n",
      "The interpolation points are stored in the variable \"EF_target_pos\": \n",
      "[[ 20.3137085   11.3137085 ]\n",
      " [ 16.66666667   4.57574852]\n",
      " [  8.33333333   6.7208469 ]\n",
      " [ -8.33333333 -12.02116808]\n",
      " [-16.66666667  -0.13112296]]\n",
      "The intermediate points are stored in the variable \"interpolated_points\"\n",
      "[0 1 0]\n",
      "[41 34 58]\n"
     ]
    },
    {
     "name": "stderr",
     "output_type": "stream",
     "text": [
      "<ipython-input-3-d5f98cda02b0>:29: MatplotlibDeprecationWarning: Adding an axes using the same arguments as a previous axes currently reuses the earlier instance.  In a future version, a new instance will always be created and returned.  Meanwhile, this warning can be suppressed, and the future behavior ensured, by passing a unique label to each axes instance.\n",
      "  ax = fig.add_subplot(111, autoscale_on=False,\n"
     ]
    },
    {
     "name": "stdout",
     "output_type": "stream",
     "text": [
      "23\n",
      "The interpolation points are stored in the variable \"EF_target_pos\": \n",
      "[[ 19.77817459   7.77817459]\n",
      " [ 15.33333333   1.72894795]\n",
      " [  7.66666667 -14.50483143]\n",
      " [ -7.66666667 -11.94471121]\n",
      " [-15.33333333   4.39916932]]\n",
      "The intermediate points are stored in the variable \"interpolated_points\"\n",
      "[0 0 0]\n",
      "[57 56 35]\n"
     ]
    },
    {
     "name": "stderr",
     "output_type": "stream",
     "text": [
      "<ipython-input-3-d5f98cda02b0>:29: MatplotlibDeprecationWarning: Adding an axes using the same arguments as a previous axes currently reuses the earlier instance.  In a future version, a new instance will always be created and returned.  Meanwhile, this warning can be suppressed, and the future behavior ensured, by passing a unique label to each axes instance.\n",
      "  ax = fig.add_subplot(111, autoscale_on=False,\n"
     ]
    },
    {
     "name": "stdout",
     "output_type": "stream",
     "text": [
      "23\n",
      "The interpolation points are stored in the variable \"EF_target_pos\": \n",
      "[[ 19.77817459   7.77817459]\n",
      " [ 15.33333333  -5.79416366]\n",
      " [  7.66666667  -3.92009345]\n",
      " [ -7.66666667   9.26800267]\n",
      " [-15.33333333   5.91820379]]\n",
      "The intermediate points are stored in the variable \"interpolated_points\"\n",
      "[1 0 1]\n",
      "[42 31 44]\n"
     ]
    },
    {
     "name": "stderr",
     "output_type": "stream",
     "text": [
      "<ipython-input-3-d5f98cda02b0>:29: MatplotlibDeprecationWarning: Adding an axes using the same arguments as a previous axes currently reuses the earlier instance.  In a future version, a new instance will always be created and returned.  Meanwhile, this warning can be suppressed, and the future behavior ensured, by passing a unique label to each axes instance.\n",
      "  ax = fig.add_subplot(111, autoscale_on=False,\n"
     ]
    },
    {
     "name": "stdout",
     "output_type": "stream",
     "text": [
      "20\n",
      "The interpolation points are stored in the variable \"EF_target_pos\": \n",
      "[[ 17.36396103   6.36396103]\n",
      " [ 13.33333333  -4.6676281 ]\n",
      " [  6.66666667  -1.44655099]\n",
      " [ -6.66666667  -5.64921927]\n",
      " [-13.33333333  -0.94946941]]\n",
      "The intermediate points are stored in the variable \"interpolated_points\"\n",
      "[0 1 1]\n",
      "[22 23 39]\n"
     ]
    },
    {
     "name": "stderr",
     "output_type": "stream",
     "text": [
      "<ipython-input-3-d5f98cda02b0>:29: MatplotlibDeprecationWarning: Adding an axes using the same arguments as a previous axes currently reuses the earlier instance.  In a future version, a new instance will always be created and returned.  Meanwhile, this warning can be suppressed, and the future behavior ensured, by passing a unique label to each axes instance.\n",
      "  ax = fig.add_subplot(111, autoscale_on=False,\n"
     ]
    },
    {
     "name": "stdout",
     "output_type": "stream",
     "text": [
      "27\n",
      "The interpolation points are stored in the variable \"EF_target_pos\": \n",
      "[[ 22.60660172  10.60660172]\n",
      " [ 18.           0.20757714]\n",
      " [  9.         -10.98809054]\n",
      " [ -9.           0.42857113]\n",
      " [-18.          -6.84324525]]\n",
      "The intermediate points are stored in the variable \"interpolated_points\"\n",
      "[1 1 1]\n",
      "[22 16 29]\n"
     ]
    },
    {
     "name": "stderr",
     "output_type": "stream",
     "text": [
      "<ipython-input-3-d5f98cda02b0>:29: MatplotlibDeprecationWarning: Adding an axes using the same arguments as a previous axes currently reuses the earlier instance.  In a future version, a new instance will always be created and returned.  Meanwhile, this warning can be suppressed, and the future behavior ensured, by passing a unique label to each axes instance.\n",
      "  ax = fig.add_subplot(111, autoscale_on=False,\n"
     ]
    },
    {
     "name": "stdout",
     "output_type": "stream",
     "text": [
      "24\n",
      "The interpolation points are stored in the variable \"EF_target_pos\": \n",
      "[[ 19.60660172  10.60660172]\n",
      " [ 16.          -1.94089037]\n",
      " [  8.         -13.05439219]\n",
      " [ -8.           8.95929195]\n",
      " [-16.           1.52502749]]\n",
      "The intermediate points are stored in the variable \"interpolated_points\"\n",
      "[1 0 0]\n",
      "[51 26 35]\n"
     ]
    },
    {
     "name": "stderr",
     "output_type": "stream",
     "text": [
      "<ipython-input-3-d5f98cda02b0>:29: MatplotlibDeprecationWarning: Adding an axes using the same arguments as a previous axes currently reuses the earlier instance.  In a future version, a new instance will always be created and returned.  Meanwhile, this warning can be suppressed, and the future behavior ensured, by passing a unique label to each axes instance.\n",
      "  ax = fig.add_subplot(111, autoscale_on=False,\n"
     ]
    },
    {
     "name": "stdout",
     "output_type": "stream",
     "text": [
      "28\n",
      "The interpolation points are stored in the variable \"EF_target_pos\": \n",
      "[[ 24.19238816   9.19238816]\n",
      " [ 18.66666667   9.09218668]\n",
      " [  9.33333333  14.55711193]\n",
      " [ -9.33333333 -13.04795836]\n",
      " [-18.66666667  -3.11919818]]\n",
      "The intermediate points are stored in the variable \"interpolated_points\"\n",
      "[1 1 1]\n",
      "[27 18 27]\n"
     ]
    },
    {
     "name": "stderr",
     "output_type": "stream",
     "text": [
      "<ipython-input-3-d5f98cda02b0>:29: MatplotlibDeprecationWarning: Adding an axes using the same arguments as a previous axes currently reuses the earlier instance.  In a future version, a new instance will always be created and returned.  Meanwhile, this warning can be suppressed, and the future behavior ensured, by passing a unique label to each axes instance.\n",
      "  ax = fig.add_subplot(111, autoscale_on=False,\n"
     ]
    },
    {
     "name": "stdout",
     "output_type": "stream",
     "text": [
      "27\n",
      "The interpolation points are stored in the variable \"EF_target_pos\": \n",
      "[[ 22.3137085   11.3137085 ]\n",
      " [ 18.           7.74334902]\n",
      " [  9.         -12.61476987]\n",
      " [ -9.          -2.99603307]\n",
      " [-18.           1.63552825]]\n",
      "The intermediate points are stored in the variable \"interpolated_points\"\n",
      "[0 0 1]\n",
      "[57 50 23]\n"
     ]
    },
    {
     "name": "stderr",
     "output_type": "stream",
     "text": [
      "<ipython-input-3-d5f98cda02b0>:29: MatplotlibDeprecationWarning: Adding an axes using the same arguments as a previous axes currently reuses the earlier instance.  In a future version, a new instance will always be created and returned.  Meanwhile, this warning can be suppressed, and the future behavior ensured, by passing a unique label to each axes instance.\n",
      "  ax = fig.add_subplot(111, autoscale_on=False,\n"
     ]
    },
    {
     "name": "stdout",
     "output_type": "stream",
     "text": [
      "21\n",
      "The interpolation points are stored in the variable \"EF_target_pos\": \n",
      "[[ 17.19238816   9.19238816]\n",
      " [ 14.          -5.5336697 ]\n",
      " [  7.         -10.46146311]\n",
      " [ -7.           5.19776818]\n",
      " [-14.           6.49377173]]\n",
      "The intermediate points are stored in the variable \"interpolated_points\"\n",
      "[0 0 1]\n",
      "[59 22 59]\n"
     ]
    },
    {
     "name": "stderr",
     "output_type": "stream",
     "text": [
      "<ipython-input-3-d5f98cda02b0>:29: MatplotlibDeprecationWarning: Adding an axes using the same arguments as a previous axes currently reuses the earlier instance.  In a future version, a new instance will always be created and returned.  Meanwhile, this warning can be suppressed, and the future behavior ensured, by passing a unique label to each axes instance.\n",
      "  ax = fig.add_subplot(111, autoscale_on=False,\n"
     ]
    },
    {
     "name": "stdout",
     "output_type": "stream",
     "text": [
      "27\n",
      "The interpolation points are stored in the variable \"EF_target_pos\": \n",
      "[[ 22.3137085   11.3137085 ]\n",
      " [ 18.           8.00689794]\n",
      " [  9.         -15.66291759]\n",
      " [ -9.          12.88432078]\n",
      " [-18.          -8.82629649]]\n",
      "The intermediate points are stored in the variable \"interpolated_points\"\n",
      "[1 0 1]\n",
      "[44 16 52]\n"
     ]
    },
    {
     "name": "stderr",
     "output_type": "stream",
     "text": [
      "<ipython-input-3-d5f98cda02b0>:29: MatplotlibDeprecationWarning: Adding an axes using the same arguments as a previous axes currently reuses the earlier instance.  In a future version, a new instance will always be created and returned.  Meanwhile, this warning can be suppressed, and the future behavior ensured, by passing a unique label to each axes instance.\n",
      "  ax = fig.add_subplot(111, autoscale_on=False,\n"
     ]
    },
    {
     "name": "stdout",
     "output_type": "stream",
     "text": [
      "28\n",
      "The interpolation points are stored in the variable \"EF_target_pos\": \n",
      "[[ 24.48528137   8.48528137]\n",
      " [ 18.66666667   2.50261544]\n",
      " [  9.33333333  -2.09632529]\n",
      " [ -9.33333333  -5.61246502]\n",
      " [-18.66666667   4.86600932]]\n",
      "The intermediate points are stored in the variable \"interpolated_points\"\n",
      "[0 1 0]\n",
      "[44 39 18]\n"
     ]
    },
    {
     "name": "stderr",
     "output_type": "stream",
     "text": [
      "<ipython-input-3-d5f98cda02b0>:29: MatplotlibDeprecationWarning: Adding an axes using the same arguments as a previous axes currently reuses the earlier instance.  In a future version, a new instance will always be created and returned.  Meanwhile, this warning can be suppressed, and the future behavior ensured, by passing a unique label to each axes instance.\n",
      "  ax = fig.add_subplot(111, autoscale_on=False,\n"
     ]
    },
    {
     "name": "stdout",
     "output_type": "stream",
     "text": [
      "27\n",
      "The interpolation points are stored in the variable \"EF_target_pos\": \n",
      "[[ 23.19238816   9.19238816]\n",
      " [ 18.           7.87068485]\n",
      " [  9.          11.19782523]\n",
      " [ -9.           7.66930097]\n",
      " [-18.          -5.2390927 ]]\n",
      "The intermediate points are stored in the variable \"interpolated_points\"\n",
      "[1 0 0]\n",
      "[57 24 20]\n"
     ]
    },
    {
     "name": "stderr",
     "output_type": "stream",
     "text": [
      "<ipython-input-3-d5f98cda02b0>:29: MatplotlibDeprecationWarning: Adding an axes using the same arguments as a previous axes currently reuses the earlier instance.  In a future version, a new instance will always be created and returned.  Meanwhile, this warning can be suppressed, and the future behavior ensured, by passing a unique label to each axes instance.\n",
      "  ax = fig.add_subplot(111, autoscale_on=False,\n"
     ]
    },
    {
     "name": "stdout",
     "output_type": "stream",
     "text": [
      "22\n",
      "The interpolation points are stored in the variable \"EF_target_pos\": \n",
      "[[ 18.48528137   8.48528137]\n",
      " [ 14.66666667   5.59615897]\n",
      " [  7.33333333  11.67292641]\n",
      " [ -7.33333333  -1.11249446]\n",
      " [-14.66666667  -6.74190852]]\n",
      "The intermediate points are stored in the variable \"interpolated_points\"\n",
      "[1 1 0]\n",
      "[17 54 39]\n"
     ]
    },
    {
     "name": "stderr",
     "output_type": "stream",
     "text": [
      "<ipython-input-3-d5f98cda02b0>:29: MatplotlibDeprecationWarning: Adding an axes using the same arguments as a previous axes currently reuses the earlier instance.  In a future version, a new instance will always be created and returned.  Meanwhile, this warning can be suppressed, and the future behavior ensured, by passing a unique label to each axes instance.\n",
      "  ax = fig.add_subplot(111, autoscale_on=False,\n"
     ]
    },
    {
     "name": "stdout",
     "output_type": "stream",
     "text": [
      "24\n",
      "The interpolation points are stored in the variable \"EF_target_pos\": \n",
      "[[ 20.77817459   7.77817459]\n",
      " [ 16.           5.7985159 ]\n",
      " [  8.          -0.6819865 ]\n",
      " [ -8.          12.05878661]\n",
      " [-16.          -3.86306473]]\n",
      "The intermediate points are stored in the variable \"interpolated_points\"\n",
      "[0 0 0]\n",
      "[34 59 46]\n"
     ]
    },
    {
     "name": "stderr",
     "output_type": "stream",
     "text": [
      "<ipython-input-3-d5f98cda02b0>:29: MatplotlibDeprecationWarning: Adding an axes using the same arguments as a previous axes currently reuses the earlier instance.  In a future version, a new instance will always be created and returned.  Meanwhile, this warning can be suppressed, and the future behavior ensured, by passing a unique label to each axes instance.\n",
      "  ax = fig.add_subplot(111, autoscale_on=False,\n"
     ]
    },
    {
     "name": "stdout",
     "output_type": "stream",
     "text": [
      "23\n",
      "The interpolation points are stored in the variable \"EF_target_pos\": \n",
      "[[ 18.89949494   9.89949494]\n",
      " [ 15.33333333   1.02091371]\n",
      " [  7.66666667   7.71574886]\n",
      " [ -7.66666667 -11.32850067]\n",
      " [-15.33333333  -4.93271366]]\n",
      "The intermediate points are stored in the variable \"interpolated_points\"\n",
      "[0 1 1]\n",
      "[41 43 38]\n"
     ]
    },
    {
     "name": "stderr",
     "output_type": "stream",
     "text": [
      "<ipython-input-3-d5f98cda02b0>:29: MatplotlibDeprecationWarning: Adding an axes using the same arguments as a previous axes currently reuses the earlier instance.  In a future version, a new instance will always be created and returned.  Meanwhile, this warning can be suppressed, and the future behavior ensured, by passing a unique label to each axes instance.\n",
      "  ax = fig.add_subplot(111, autoscale_on=False,\n"
     ]
    },
    {
     "name": "stdout",
     "output_type": "stream",
     "text": [
      "21\n",
      "The interpolation points are stored in the variable \"EF_target_pos\": \n",
      "[[ 18.07106781   7.07106781]\n",
      " [ 14.           0.27706276]\n",
      " [  7.          12.69532343]\n",
      " [ -7.           4.95027868]\n",
      " [-14.           0.04186165]]\n",
      "The intermediate points are stored in the variable \"interpolated_points\"\n",
      "[0 0 1]\n",
      "[19 20 24]\n"
     ]
    },
    {
     "name": "stderr",
     "output_type": "stream",
     "text": [
      "<ipython-input-3-d5f98cda02b0>:29: MatplotlibDeprecationWarning: Adding an axes using the same arguments as a previous axes currently reuses the earlier instance.  In a future version, a new instance will always be created and returned.  Meanwhile, this warning can be suppressed, and the future behavior ensured, by passing a unique label to each axes instance.\n",
      "  ax = fig.add_subplot(111, autoscale_on=False,\n"
     ]
    },
    {
     "name": "stdout",
     "output_type": "stream",
     "text": [
      "27\n",
      "The interpolation points are stored in the variable \"EF_target_pos\": \n",
      "[[ 23.48528137   8.48528137]\n",
      " [ 18.           5.4856389 ]\n",
      " [  9.          -0.05710653]\n",
      " [ -9.           9.89454387]\n",
      " [-18.           7.88210197]]\n",
      "The intermediate points are stored in the variable \"interpolated_points\"\n",
      "[1 1 0]\n",
      "[30 58 53]\n"
     ]
    },
    {
     "name": "stderr",
     "output_type": "stream",
     "text": [
      "<ipython-input-3-d5f98cda02b0>:29: MatplotlibDeprecationWarning: Adding an axes using the same arguments as a previous axes currently reuses the earlier instance.  In a future version, a new instance will always be created and returned.  Meanwhile, this warning can be suppressed, and the future behavior ensured, by passing a unique label to each axes instance.\n",
      "  ax = fig.add_subplot(111, autoscale_on=False,\n"
     ]
    },
    {
     "name": "stdout",
     "output_type": "stream",
     "text": [
      "27\n",
      "The interpolation points are stored in the variable \"EF_target_pos\": \n",
      "[[ 22.60660172  10.60660172]\n",
      " [ 18.           4.96749141]\n",
      " [  9.         -15.54364231]\n",
      " [ -9.         -17.96386017]\n",
      " [-18.           6.46645283]]\n",
      "The intermediate points are stored in the variable \"interpolated_points\"\n",
      "[0 0 0]\n",
      "[51 19 57]\n"
     ]
    },
    {
     "name": "stderr",
     "output_type": "stream",
     "text": [
      "<ipython-input-3-d5f98cda02b0>:29: MatplotlibDeprecationWarning: Adding an axes using the same arguments as a previous axes currently reuses the earlier instance.  In a future version, a new instance will always be created and returned.  Meanwhile, this warning can be suppressed, and the future behavior ensured, by passing a unique label to each axes instance.\n",
      "  ax = fig.add_subplot(111, autoscale_on=False,\n"
     ]
    },
    {
     "name": "stdout",
     "output_type": "stream",
     "text": [
      "24\n",
      "The interpolation points are stored in the variable \"EF_target_pos\": \n",
      "[[ 19.60660172  10.60660172]\n",
      " [ 16.          -5.47632501]\n",
      " [  8.           2.83105896]\n",
      " [ -8.         -11.23728067]\n",
      " [-16.          -8.00475693]]\n",
      "The intermediate points are stored in the variable \"interpolated_points\"\n",
      "[0 1 1]\n",
      "[49 40 48]\n"
     ]
    },
    {
     "name": "stderr",
     "output_type": "stream",
     "text": [
      "<ipython-input-3-d5f98cda02b0>:29: MatplotlibDeprecationWarning: Adding an axes using the same arguments as a previous axes currently reuses the earlier instance.  In a future version, a new instance will always be created and returned.  Meanwhile, this warning can be suppressed, and the future behavior ensured, by passing a unique label to each axes instance.\n",
      "  ax = fig.add_subplot(111, autoscale_on=False,\n"
     ]
    },
    {
     "name": "stdout",
     "output_type": "stream",
     "text": [
      "21\n",
      "The interpolation points are stored in the variable \"EF_target_pos\": \n",
      "[[ 17.19238816   9.19238816]\n",
      " [ 14.          -5.10104029]\n",
      " [  7.           9.94973677]\n",
      " [ -7.           1.30456789]\n",
      " [-14.          -2.7969681 ]]\n",
      "The intermediate points are stored in the variable \"interpolated_points\"\n",
      "[1 0 1]\n",
      "[48 39 45]\n"
     ]
    },
    {
     "name": "stderr",
     "output_type": "stream",
     "text": [
      "<ipython-input-3-d5f98cda02b0>:29: MatplotlibDeprecationWarning: Adding an axes using the same arguments as a previous axes currently reuses the earlier instance.  In a future version, a new instance will always be created and returned.  Meanwhile, this warning can be suppressed, and the future behavior ensured, by passing a unique label to each axes instance.\n",
      "  ax = fig.add_subplot(111, autoscale_on=False,\n"
     ]
    },
    {
     "name": "stdout",
     "output_type": "stream",
     "text": [
      "23\n",
      "The interpolation points are stored in the variable \"EF_target_pos\": \n",
      "[[ 20.36396103   6.36396103]\n",
      " [ 15.33333333   1.38077154]\n",
      " [  7.66666667 -13.78261534]\n",
      " [ -7.66666667  -8.79574034]\n",
      " [-15.33333333  -5.28299146]]\n",
      "The intermediate points are stored in the variable \"interpolated_points\"\n",
      "[1 0 0]\n",
      "[31 46 41]\n"
     ]
    },
    {
     "name": "stderr",
     "output_type": "stream",
     "text": [
      "<ipython-input-3-d5f98cda02b0>:29: MatplotlibDeprecationWarning: Adding an axes using the same arguments as a previous axes currently reuses the earlier instance.  In a future version, a new instance will always be created and returned.  Meanwhile, this warning can be suppressed, and the future behavior ensured, by passing a unique label to each axes instance.\n",
      "  ax = fig.add_subplot(111, autoscale_on=False,\n"
     ]
    },
    {
     "name": "stdout",
     "output_type": "stream",
     "text": [
      "26\n",
      "The interpolation points are stored in the variable \"EF_target_pos\": \n",
      "[[ 22.48528137   8.48528137]\n",
      " [ 17.33333333  -5.22536453]\n",
      " [  8.66666667 -10.86165167]\n",
      " [ -8.66666667   8.23199911]\n",
      " [-17.33333333   7.20112387]]\n",
      "The intermediate points are stored in the variable \"interpolated_points\"\n",
      "[0 1 1]\n",
      "[50 35 44]\n"
     ]
    },
    {
     "name": "stderr",
     "output_type": "stream",
     "text": [
      "<ipython-input-3-d5f98cda02b0>:29: MatplotlibDeprecationWarning: Adding an axes using the same arguments as a previous axes currently reuses the earlier instance.  In a future version, a new instance will always be created and returned.  Meanwhile, this warning can be suppressed, and the future behavior ensured, by passing a unique label to each axes instance.\n",
      "  ax = fig.add_subplot(111, autoscale_on=False,\n"
     ]
    },
    {
     "name": "stdout",
     "output_type": "stream",
     "text": [
      "23\n",
      "The interpolation points are stored in the variable \"EF_target_pos\": \n",
      "[[ 20.65685425   5.65685425]\n",
      " [ 15.33333333   2.66707932]\n",
      " [  7.66666667 -12.26154996]\n",
      " [ -7.66666667  -2.72041116]\n",
      " [-15.33333333  -7.05734424]]\n",
      "The intermediate points are stored in the variable \"interpolated_points\"\n",
      "[0 1 1]\n",
      "[27 47 24]\n"
     ]
    },
    {
     "name": "stderr",
     "output_type": "stream",
     "text": [
      "<ipython-input-3-d5f98cda02b0>:29: MatplotlibDeprecationWarning: Adding an axes using the same arguments as a previous axes currently reuses the earlier instance.  In a future version, a new instance will always be created and returned.  Meanwhile, this warning can be suppressed, and the future behavior ensured, by passing a unique label to each axes instance.\n",
      "  ax = fig.add_subplot(111, autoscale_on=False,\n"
     ]
    },
    {
     "name": "stdout",
     "output_type": "stream",
     "text": [
      "29\n",
      "The interpolation points are stored in the variable \"EF_target_pos\": \n",
      "[[ 24.89949494   9.89949494]\n",
      " [ 19.33333333   0.96469723]\n",
      " [  9.66666667  16.94314731]\n",
      " [ -9.66666667  12.91976734]\n",
      " [-19.33333333  -6.97435845]]\n",
      "The intermediate points are stored in the variable \"interpolated_points\"\n",
      "[0 0 1]\n",
      "[55 22 18]\n"
     ]
    },
    {
     "name": "stderr",
     "output_type": "stream",
     "text": [
      "<ipython-input-3-d5f98cda02b0>:29: MatplotlibDeprecationWarning: Adding an axes using the same arguments as a previous axes currently reuses the earlier instance.  In a future version, a new instance will always be created and returned.  Meanwhile, this warning can be suppressed, and the future behavior ensured, by passing a unique label to each axes instance.\n",
      "  ax = fig.add_subplot(111, autoscale_on=False,\n"
     ]
    },
    {
     "name": "stdout",
     "output_type": "stream",
     "text": [
      "21\n",
      "The interpolation points are stored in the variable \"EF_target_pos\": \n",
      "[[ 18.07106781   7.07106781]\n",
      " [ 14.           4.70135839]\n",
      " [  7.           3.13807514]\n",
      " [ -7.           2.86913569]\n",
      " [-14.           1.02008094]]\n",
      "The intermediate points are stored in the variable \"interpolated_points\"\n",
      "[1 1 1]\n",
      "[42 55 54]\n"
     ]
    },
    {
     "name": "stderr",
     "output_type": "stream",
     "text": [
      "<ipython-input-3-d5f98cda02b0>:29: MatplotlibDeprecationWarning: Adding an axes using the same arguments as a previous axes currently reuses the earlier instance.  In a future version, a new instance will always be created and returned.  Meanwhile, this warning can be suppressed, and the future behavior ensured, by passing a unique label to each axes instance.\n",
      "  ax = fig.add_subplot(111, autoscale_on=False,\n"
     ]
    },
    {
     "name": "stdout",
     "output_type": "stream",
     "text": [
      "25\n",
      "The interpolation points are stored in the variable \"EF_target_pos\": \n",
      "[[ 21.48528137   8.48528137]\n",
      " [ 16.66666667   5.39375866]\n",
      " [  8.33333333  -3.60344592]\n",
      " [ -8.33333333  -1.90171936]\n",
      " [-16.66666667  -2.55332345]]\n",
      "The intermediate points are stored in the variable \"interpolated_points\"\n",
      "[1 0 1]\n",
      "[41 59 48]\n"
     ]
    },
    {
     "name": "stderr",
     "output_type": "stream",
     "text": [
      "<ipython-input-3-d5f98cda02b0>:29: MatplotlibDeprecationWarning: Adding an axes using the same arguments as a previous axes currently reuses the earlier instance.  In a future version, a new instance will always be created and returned.  Meanwhile, this warning can be suppressed, and the future behavior ensured, by passing a unique label to each axes instance.\n",
      "  ax = fig.add_subplot(111, autoscale_on=False,\n"
     ]
    },
    {
     "name": "stdout",
     "output_type": "stream",
     "text": [
      "27\n",
      "The interpolation points are stored in the variable \"EF_target_pos\": \n",
      "[[ 22.60660172  10.60660172]\n",
      " [ 18.           2.65806676]\n",
      " [  9.           3.82752605]\n",
      " [ -9.         -12.58919207]\n",
      " [-18.           7.42197196]]\n",
      "The intermediate points are stored in the variable \"interpolated_points\"\n",
      "[1 1 1]\n",
      "[44 31 57]\n"
     ]
    },
    {
     "name": "stderr",
     "output_type": "stream",
     "text": [
      "<ipython-input-3-d5f98cda02b0>:29: MatplotlibDeprecationWarning: Adding an axes using the same arguments as a previous axes currently reuses the earlier instance.  In a future version, a new instance will always be created and returned.  Meanwhile, this warning can be suppressed, and the future behavior ensured, by passing a unique label to each axes instance.\n",
      "  ax = fig.add_subplot(111, autoscale_on=False,\n"
     ]
    },
    {
     "name": "stdout",
     "output_type": "stream",
     "text": [
      "24\n",
      "The interpolation points are stored in the variable \"EF_target_pos\": \n",
      "[[ 20.19238816   9.19238816]\n",
      " [ 16.          -5.57299291]\n",
      " [  8.          14.46461436]\n",
      " [ -8.         -12.31397363]\n",
      " [-16.           7.06879939]]\n",
      "The intermediate points are stored in the variable \"interpolated_points\"\n",
      "[1 0 0]\n",
      "[15 22 48]\n"
     ]
    },
    {
     "name": "stderr",
     "output_type": "stream",
     "text": [
      "<ipython-input-3-d5f98cda02b0>:29: MatplotlibDeprecationWarning: Adding an axes using the same arguments as a previous axes currently reuses the earlier instance.  In a future version, a new instance will always be created and returned.  Meanwhile, this warning can be suppressed, and the future behavior ensured, by passing a unique label to each axes instance.\n",
      "  ax = fig.add_subplot(111, autoscale_on=False,\n"
     ]
    },
    {
     "name": "stdout",
     "output_type": "stream",
     "text": [
      "26\n",
      "The interpolation points are stored in the variable \"EF_target_pos\": \n",
      "[[ 22.19238816   9.19238816]\n",
      " [ 17.33333333   3.32370245]\n",
      " [  8.66666667 -15.96174693]\n",
      " [ -8.66666667   1.84999594]\n",
      " [-17.33333333  -0.07908815]]\n",
      "The intermediate points are stored in the variable \"interpolated_points\"\n",
      "[0 1 0]\n",
      "[55 20 46]\n"
     ]
    },
    {
     "name": "stderr",
     "output_type": "stream",
     "text": [
      "<ipython-input-3-d5f98cda02b0>:29: MatplotlibDeprecationWarning: Adding an axes using the same arguments as a previous axes currently reuses the earlier instance.  In a future version, a new instance will always be created and returned.  Meanwhile, this warning can be suppressed, and the future behavior ensured, by passing a unique label to each axes instance.\n",
      "  ax = fig.add_subplot(111, autoscale_on=False,\n"
     ]
    },
    {
     "name": "stdout",
     "output_type": "stream",
     "text": [
      "20\n",
      "The interpolation points are stored in the variable \"EF_target_pos\": \n",
      "[[ 16.77817459   7.77817459]\n",
      " [ 13.33333333   6.12331452]\n",
      " [  6.66666667  -0.53558075]\n",
      " [ -6.66666667  -2.56206113]\n",
      " [-13.33333333  -3.21758611]]\n",
      "The intermediate points are stored in the variable \"interpolated_points\"\n",
      "[1 1 1]\n",
      "[56 37 15]\n"
     ]
    },
    {
     "name": "stderr",
     "output_type": "stream",
     "text": [
      "<ipython-input-3-d5f98cda02b0>:29: MatplotlibDeprecationWarning: Adding an axes using the same arguments as a previous axes currently reuses the earlier instance.  In a future version, a new instance will always be created and returned.  Meanwhile, this warning can be suppressed, and the future behavior ensured, by passing a unique label to each axes instance.\n",
      "  ax = fig.add_subplot(111, autoscale_on=False,\n"
     ]
    },
    {
     "name": "stdout",
     "output_type": "stream",
     "text": [
      "22\n",
      "The interpolation points are stored in the variable \"EF_target_pos\": \n",
      "[[ 18.77817459   7.77817459]\n",
      " [ 14.66666667   0.43327776]\n",
      " [  7.33333333 -13.75296879]\n",
      " [ -7.33333333   7.73997684]\n",
      " [-14.66666667   2.69349338]]\n",
      "The intermediate points are stored in the variable \"interpolated_points\"\n",
      "[1 0 0]\n",
      "[49 55 33]\n"
     ]
    },
    {
     "name": "stderr",
     "output_type": "stream",
     "text": [
      "<ipython-input-3-d5f98cda02b0>:29: MatplotlibDeprecationWarning: Adding an axes using the same arguments as a previous axes currently reuses the earlier instance.  In a future version, a new instance will always be created and returned.  Meanwhile, this warning can be suppressed, and the future behavior ensured, by passing a unique label to each axes instance.\n",
      "  ax = fig.add_subplot(111, autoscale_on=False,\n"
     ]
    },
    {
     "name": "stdout",
     "output_type": "stream",
     "text": [
      "27\n",
      "The interpolation points are stored in the variable \"EF_target_pos\": \n",
      "[[ 23.48528137   8.48528137]\n",
      " [ 18.          -6.78035785]\n",
      " [  9.          -7.12825559]\n",
      " [ -9.         -13.03066043]\n",
      " [-18.           7.67347254]]\n",
      "The intermediate points are stored in the variable \"interpolated_points\"\n",
      "[0 0 0]\n",
      "[58 45 33]\n"
     ]
    },
    {
     "name": "stderr",
     "output_type": "stream",
     "text": [
      "<ipython-input-3-d5f98cda02b0>:29: MatplotlibDeprecationWarning: Adding an axes using the same arguments as a previous axes currently reuses the earlier instance.  In a future version, a new instance will always be created and returned.  Meanwhile, this warning can be suppressed, and the future behavior ensured, by passing a unique label to each axes instance.\n",
      "  ax = fig.add_subplot(111, autoscale_on=False,\n"
     ]
    },
    {
     "name": "stdout",
     "output_type": "stream",
     "text": [
      "26\n",
      "The interpolation points are stored in the variable \"EF_target_pos\": \n",
      "[[ 21.89949494   9.89949494]\n",
      " [ 17.33333333  -4.45346625]\n",
      " [  8.66666667   3.75142495]\n",
      " [ -8.66666667  -5.10109543]\n",
      " [-17.33333333  -4.41147822]]\n",
      "The intermediate points are stored in the variable \"interpolated_points\"\n",
      "[0 1 1]\n",
      "[17 54 48]\n"
     ]
    },
    {
     "name": "stderr",
     "output_type": "stream",
     "text": [
      "<ipython-input-3-d5f98cda02b0>:29: MatplotlibDeprecationWarning: Adding an axes using the same arguments as a previous axes currently reuses the earlier instance.  In a future version, a new instance will always be created and returned.  Meanwhile, this warning can be suppressed, and the future behavior ensured, by passing a unique label to each axes instance.\n",
      "  ax = fig.add_subplot(111, autoscale_on=False,\n"
     ]
    },
    {
     "name": "stdout",
     "output_type": "stream",
     "text": [
      "19\n",
      "The interpolation points are stored in the variable \"EF_target_pos\": \n",
      "[[ 16.65685425   5.65685425]\n",
      " [ 12.66666667   4.63194178]\n",
      " [  6.33333333  -8.39536166]\n",
      " [ -6.33333333   4.56101189]\n",
      " [-12.66666667   4.02476573]]\n",
      "The intermediate points are stored in the variable \"interpolated_points\"\n",
      "[0 1 1]\n",
      "[28 56 19]\n"
     ]
    },
    {
     "name": "stderr",
     "output_type": "stream",
     "text": [
      "<ipython-input-3-d5f98cda02b0>:29: MatplotlibDeprecationWarning: Adding an axes using the same arguments as a previous axes currently reuses the earlier instance.  In a future version, a new instance will always be created and returned.  Meanwhile, this warning can be suppressed, and the future behavior ensured, by passing a unique label to each axes instance.\n",
      "  ax = fig.add_subplot(111, autoscale_on=False,\n"
     ]
    },
    {
     "name": "stdout",
     "output_type": "stream",
     "text": [
      "21\n",
      "The interpolation points are stored in the variable \"EF_target_pos\": \n",
      "[[ 18.07106781   7.07106781]\n",
      " [ 14.           4.54360955]\n",
      " [  7.           5.69085317]\n",
      " [ -7.          10.58807454]\n",
      " [-14.           2.9240517 ]]\n",
      "The intermediate points are stored in the variable \"interpolated_points\"\n",
      "[0 1 0]\n",
      "[55 42 54]\n"
     ]
    },
    {
     "name": "stderr",
     "output_type": "stream",
     "text": [
      "<ipython-input-3-d5f98cda02b0>:29: MatplotlibDeprecationWarning: Adding an axes using the same arguments as a previous axes currently reuses the earlier instance.  In a future version, a new instance will always be created and returned.  Meanwhile, this warning can be suppressed, and the future behavior ensured, by passing a unique label to each axes instance.\n",
      "  ax = fig.add_subplot(111, autoscale_on=False,\n"
     ]
    },
    {
     "name": "stdout",
     "output_type": "stream",
     "text": [
      "26\n",
      "The interpolation points are stored in the variable \"EF_target_pos\": \n",
      "[[ 22.19238816   9.19238816]\n",
      " [ 17.33333333   7.45818402]\n",
      " [  8.66666667  -3.20737101]\n",
      " [ -8.66666667  -2.61227353]\n",
      " [-17.33333333  -8.7658934 ]]\n",
      "The intermediate points are stored in the variable \"interpolated_points\"\n",
      "[1 0 1]\n",
      "[20 43 56]\n"
     ]
    },
    {
     "name": "stderr",
     "output_type": "stream",
     "text": [
      "<ipython-input-3-d5f98cda02b0>:29: MatplotlibDeprecationWarning: Adding an axes using the same arguments as a previous axes currently reuses the earlier instance.  In a future version, a new instance will always be created and returned.  Meanwhile, this warning can be suppressed, and the future behavior ensured, by passing a unique label to each axes instance.\n",
      "  ax = fig.add_subplot(111, autoscale_on=False,\n"
     ]
    },
    {
     "name": "stdout",
     "output_type": "stream",
     "text": [
      "22\n",
      "The interpolation points are stored in the variable \"EF_target_pos\": \n",
      "[[ 18.77817459   7.77817459]\n",
      " [ 14.66666667  -5.39412989]\n",
      " [  7.33333333  -9.82457865]\n",
      " [ -7.33333333  -9.35639113]\n",
      " [-14.66666667  -5.7977653 ]]\n",
      "The intermediate points are stored in the variable \"interpolated_points\"\n",
      "[1 1 1]\n",
      "[24 39 33]\n"
     ]
    },
    {
     "name": "stderr",
     "output_type": "stream",
     "text": [
      "<ipython-input-3-d5f98cda02b0>:29: MatplotlibDeprecationWarning: Adding an axes using the same arguments as a previous axes currently reuses the earlier instance.  In a future version, a new instance will always be created and returned.  Meanwhile, this warning can be suppressed, and the future behavior ensured, by passing a unique label to each axes instance.\n",
      "  ax = fig.add_subplot(111, autoscale_on=False,\n"
     ]
    },
    {
     "name": "stdout",
     "output_type": "stream",
     "text": [
      "22\n",
      "The interpolation points are stored in the variable \"EF_target_pos\": \n",
      "[[ 19.07106781   7.07106781]\n",
      " [ 14.66666667   7.39712694]\n",
      " [  7.33333333  -0.67302018]\n",
      " [ -7.33333333   3.4067226 ]\n",
      " [-14.66666667   6.29786563]]\n",
      "The intermediate points are stored in the variable \"interpolated_points\"\n",
      "[0 1 1]\n",
      "[38 41 57]\n"
     ]
    },
    {
     "name": "stderr",
     "output_type": "stream",
     "text": [
      "<ipython-input-3-d5f98cda02b0>:29: MatplotlibDeprecationWarning: Adding an axes using the same arguments as a previous axes currently reuses the earlier instance.  In a future version, a new instance will always be created and returned.  Meanwhile, this warning can be suppressed, and the future behavior ensured, by passing a unique label to each axes instance.\n",
      "  ax = fig.add_subplot(111, autoscale_on=False,\n"
     ]
    },
    {
     "name": "stdout",
     "output_type": "stream",
     "text": [
      "29\n",
      "The interpolation points are stored in the variable \"EF_target_pos\": \n",
      "[[ 24.60660172  10.60660172]\n",
      " [ 19.33333333   7.9177459 ]\n",
      " [  9.66666667   2.56927013]\n",
      " [ -9.66666667  -2.55093867]\n",
      " [-19.33333333   8.23012479]]\n",
      "The intermediate points are stored in the variable \"interpolated_points\"\n",
      "[0 1 1]\n",
      "[17 39 59]\n"
     ]
    },
    {
     "name": "stderr",
     "output_type": "stream",
     "text": [
      "<ipython-input-3-d5f98cda02b0>:29: MatplotlibDeprecationWarning: Adding an axes using the same arguments as a previous axes currently reuses the earlier instance.  In a future version, a new instance will always be created and returned.  Meanwhile, this warning can be suppressed, and the future behavior ensured, by passing a unique label to each axes instance.\n",
      "  ax = fig.add_subplot(111, autoscale_on=False,\n"
     ]
    },
    {
     "name": "stdout",
     "output_type": "stream",
     "text": [
      "22\n",
      "The interpolation points are stored in the variable \"EF_target_pos\": \n",
      "[[ 19.07106781   7.07106781]\n",
      " [ 14.66666667   4.97202265]\n",
      " [  7.33333333 -10.88793912]\n",
      " [ -7.33333333   7.68061684]\n",
      " [-14.66666667   0.32445949]]\n",
      "The intermediate points are stored in the variable \"interpolated_points\"\n",
      "[0 0 0]\n",
      "[43 20 27]\n"
     ]
    },
    {
     "name": "stderr",
     "output_type": "stream",
     "text": [
      "<ipython-input-3-d5f98cda02b0>:29: MatplotlibDeprecationWarning: Adding an axes using the same arguments as a previous axes currently reuses the earlier instance.  In a future version, a new instance will always be created and returned.  Meanwhile, this warning can be suppressed, and the future behavior ensured, by passing a unique label to each axes instance.\n",
      "  ax = fig.add_subplot(111, autoscale_on=False,\n"
     ]
    },
    {
     "name": "stdout",
     "output_type": "stream",
     "text": [
      "25\n",
      "The interpolation points are stored in the variable \"EF_target_pos\": \n",
      "[[ 21.48528137   8.48528137]\n",
      " [ 16.66666667  -4.15892716]\n",
      " [  8.33333333   2.01846825]\n",
      " [ -8.33333333 -10.10260918]\n",
      " [-16.66666667   6.95497286]]\n",
      "The intermediate points are stored in the variable \"interpolated_points\"\n",
      "[1 0 1]\n",
      "[31 59 47]\n"
     ]
    },
    {
     "name": "stderr",
     "output_type": "stream",
     "text": [
      "<ipython-input-3-d5f98cda02b0>:29: MatplotlibDeprecationWarning: Adding an axes using the same arguments as a previous axes currently reuses the earlier instance.  In a future version, a new instance will always be created and returned.  Meanwhile, this warning can be suppressed, and the future behavior ensured, by passing a unique label to each axes instance.\n",
      "  ax = fig.add_subplot(111, autoscale_on=False,\n"
     ]
    },
    {
     "name": "stdout",
     "output_type": "stream",
     "text": [
      "22\n",
      "The interpolation points are stored in the variable \"EF_target_pos\": \n",
      "[[ 19.36396103   6.36396103]\n",
      " [ 14.66666667  -2.0726457 ]\n",
      " [  7.33333333   6.10192487]\n",
      " [ -7.33333333   0.28896117]\n",
      " [-14.66666667   5.52036511]]\n",
      "The intermediate points are stored in the variable \"interpolated_points\"\n",
      "[1 0 1]\n",
      "[57 54 46]\n"
     ]
    },
    {
     "name": "stderr",
     "output_type": "stream",
     "text": [
      "<ipython-input-3-d5f98cda02b0>:29: MatplotlibDeprecationWarning: Adding an axes using the same arguments as a previous axes currently reuses the earlier instance.  In a future version, a new instance will always be created and returned.  Meanwhile, this warning can be suppressed, and the future behavior ensured, by passing a unique label to each axes instance.\n",
      "  ax = fig.add_subplot(111, autoscale_on=False,\n"
     ]
    },
    {
     "name": "stdout",
     "output_type": "stream",
     "text": [
      "21\n",
      "The interpolation points are stored in the variable \"EF_target_pos\": \n",
      "[[ 17.77817459   7.77817459]\n",
      " [ 14.          -1.44384912]\n",
      " [  7.          -2.55937761]\n",
      " [ -7.          -8.09054141]\n",
      " [-14.          -2.43117441]]\n",
      "The intermediate points are stored in the variable \"interpolated_points\"\n",
      "[0 1 1]\n",
      "[41 29 57]\n"
     ]
    },
    {
     "name": "stderr",
     "output_type": "stream",
     "text": [
      "<ipython-input-3-d5f98cda02b0>:29: MatplotlibDeprecationWarning: Adding an axes using the same arguments as a previous axes currently reuses the earlier instance.  In a future version, a new instance will always be created and returned.  Meanwhile, this warning can be suppressed, and the future behavior ensured, by passing a unique label to each axes instance.\n",
      "  ax = fig.add_subplot(111, autoscale_on=False,\n"
     ]
    },
    {
     "name": "stdout",
     "output_type": "stream",
     "text": [
      "27\n",
      "The interpolation points are stored in the variable \"EF_target_pos\": \n",
      "[[ 23.19238816   9.19238816]\n",
      " [ 18.           8.61464235]\n",
      " [  9.          -2.32525345]\n",
      " [ -9.         -10.45165851]\n",
      " [-18.           1.81607223]]\n",
      "The intermediate points are stored in the variable \"interpolated_points\"\n",
      "[1 0 1]\n",
      "[57 43 26]\n"
     ]
    },
    {
     "name": "stderr",
     "output_type": "stream",
     "text": [
      "<ipython-input-3-d5f98cda02b0>:29: MatplotlibDeprecationWarning: Adding an axes using the same arguments as a previous axes currently reuses the earlier instance.  In a future version, a new instance will always be created and returned.  Meanwhile, this warning can be suppressed, and the future behavior ensured, by passing a unique label to each axes instance.\n",
      "  ax = fig.add_subplot(111, autoscale_on=False,\n"
     ]
    },
    {
     "name": "stdout",
     "output_type": "stream",
     "text": [
      "22\n",
      "The interpolation points are stored in the variable \"EF_target_pos\": \n",
      "[[ 19.07106781   7.07106781]\n",
      " [ 14.66666667   3.34457504]\n",
      " [  7.33333333  -9.9390986 ]\n",
      " [ -7.33333333  14.33278348]\n",
      " [-14.66666667   5.31846532]]\n",
      "The intermediate points are stored in the variable \"interpolated_points\"\n",
      "[0 0 0]\n",
      "[45 58 31]\n"
     ]
    },
    {
     "name": "stderr",
     "output_type": "stream",
     "text": [
      "<ipython-input-3-d5f98cda02b0>:29: MatplotlibDeprecationWarning: Adding an axes using the same arguments as a previous axes currently reuses the earlier instance.  In a future version, a new instance will always be created and returned.  Meanwhile, this warning can be suppressed, and the future behavior ensured, by passing a unique label to each axes instance.\n",
      "  ax = fig.add_subplot(111, autoscale_on=False,\n"
     ]
    },
    {
     "name": "stdout",
     "output_type": "stream",
     "text": [
      "27\n",
      "The interpolation points are stored in the variable \"EF_target_pos\": \n",
      "[[ 23.77817459   7.77817459]\n",
      " [ 18.           2.3428286 ]\n",
      " [  9.          -5.61123225]\n",
      " [ -9.          12.67134437]\n",
      " [-18.           0.79789814]]\n",
      "The intermediate points are stored in the variable \"interpolated_points\"\n",
      "[1 1 0]\n",
      "[25 45 15]\n"
     ]
    },
    {
     "name": "stderr",
     "output_type": "stream",
     "text": [
      "<ipython-input-3-d5f98cda02b0>:29: MatplotlibDeprecationWarning: Adding an axes using the same arguments as a previous axes currently reuses the earlier instance.  In a future version, a new instance will always be created and returned.  Meanwhile, this warning can be suppressed, and the future behavior ensured, by passing a unique label to each axes instance.\n",
      "  ax = fig.add_subplot(111, autoscale_on=False,\n"
     ]
    },
    {
     "name": "stdout",
     "output_type": "stream",
     "text": [
      "21\n",
      "The interpolation points are stored in the variable \"EF_target_pos\": \n",
      "[[ 18.36396103   6.36396103]\n",
      " [ 14.           6.52727695]\n",
      " [  7.          13.2735157 ]\n",
      " [ -7.         -10.67168576]\n",
      " [-14.          -3.36649468]]\n",
      "The intermediate points are stored in the variable \"interpolated_points\"\n",
      "[1 0 1]\n",
      "[42 22 47]\n"
     ]
    },
    {
     "name": "stderr",
     "output_type": "stream",
     "text": [
      "<ipython-input-3-d5f98cda02b0>:29: MatplotlibDeprecationWarning: Adding an axes using the same arguments as a previous axes currently reuses the earlier instance.  In a future version, a new instance will always be created and returned.  Meanwhile, this warning can be suppressed, and the future behavior ensured, by passing a unique label to each axes instance.\n",
      "  ax = fig.add_subplot(111, autoscale_on=False,\n"
     ]
    },
    {
     "name": "stdout",
     "output_type": "stream",
     "text": [
      "29\n",
      "The interpolation points are stored in the variable \"EF_target_pos\": \n",
      "[[ 24.60660172  10.60660172]\n",
      " [ 19.33333333   3.3023609 ]\n",
      " [  9.66666667  -0.77176192]\n",
      " [ -9.66666667  12.72887287]\n",
      " [-19.33333333   8.76354197]]\n",
      "The intermediate points are stored in the variable \"interpolated_points\"\n",
      "[1 0 1]\n",
      "[34 33 17]\n"
     ]
    },
    {
     "name": "stderr",
     "output_type": "stream",
     "text": [
      "<ipython-input-3-d5f98cda02b0>:29: MatplotlibDeprecationWarning: Adding an axes using the same arguments as a previous axes currently reuses the earlier instance.  In a future version, a new instance will always be created and returned.  Meanwhile, this warning can be suppressed, and the future behavior ensured, by passing a unique label to each axes instance.\n",
      "  ax = fig.add_subplot(111, autoscale_on=False,\n"
     ]
    },
    {
     "name": "stdout",
     "output_type": "stream",
     "text": [
      "18\n",
      "The interpolation points are stored in the variable \"EF_target_pos\": \n",
      "[[ 15.07106781   7.07106781]\n",
      " [ 12.           4.17788269]\n",
      " [  6.          -4.84934492]\n",
      " [ -6.          -8.51539744]\n",
      " [-12.          -0.71801321]]\n",
      "The intermediate points are stored in the variable \"interpolated_points\"\n",
      "[1 1 1]\n",
      "[41 41 43]\n"
     ]
    },
    {
     "name": "stderr",
     "output_type": "stream",
     "text": [
      "<ipython-input-3-d5f98cda02b0>:29: MatplotlibDeprecationWarning: Adding an axes using the same arguments as a previous axes currently reuses the earlier instance.  In a future version, a new instance will always be created and returned.  Meanwhile, this warning can be suppressed, and the future behavior ensured, by passing a unique label to each axes instance.\n",
      "  ax = fig.add_subplot(111, autoscale_on=False,\n"
     ]
    },
    {
     "name": "stdout",
     "output_type": "stream",
     "text": [
      "25\n",
      "The interpolation points are stored in the variable \"EF_target_pos\": \n",
      "[[ 21.19238816   9.19238816]\n",
      " [ 16.66666667  -0.63435647]\n",
      " [  8.33333333   1.76592429]\n",
      " [ -8.33333333 -15.18968747]\n",
      " [-16.66666667   4.18038109]]\n",
      "The intermediate points are stored in the variable \"interpolated_points\"\n",
      "[1 0 1]\n",
      "[42 53 26]\n"
     ]
    },
    {
     "name": "stderr",
     "output_type": "stream",
     "text": [
      "<ipython-input-3-d5f98cda02b0>:29: MatplotlibDeprecationWarning: Adding an axes using the same arguments as a previous axes currently reuses the earlier instance.  In a future version, a new instance will always be created and returned.  Meanwhile, this warning can be suppressed, and the future behavior ensured, by passing a unique label to each axes instance.\n",
      "  ax = fig.add_subplot(111, autoscale_on=False,\n"
     ]
    },
    {
     "name": "stdout",
     "output_type": "stream",
     "text": [
      "27\n",
      "The interpolation points are stored in the variable \"EF_target_pos\": \n",
      "[[ 22.60660172  10.60660172]\n",
      " [ 18.          -7.15306379]\n",
      " [  9.          11.82739089]\n",
      " [ -9.          -6.97976581]\n",
      " [-18.          -6.97150411]]\n",
      "The intermediate points are stored in the variable \"interpolated_points\"\n",
      "[0 1 1]\n",
      "[29 50 29]\n"
     ]
    },
    {
     "name": "stderr",
     "output_type": "stream",
     "text": [
      "<ipython-input-3-d5f98cda02b0>:29: MatplotlibDeprecationWarning: Adding an axes using the same arguments as a previous axes currently reuses the earlier instance.  In a future version, a new instance will always be created and returned.  Meanwhile, this warning can be suppressed, and the future behavior ensured, by passing a unique label to each axes instance.\n",
      "  ax = fig.add_subplot(111, autoscale_on=False,\n"
     ]
    },
    {
     "name": "stdout",
     "output_type": "stream",
     "text": [
      "23\n",
      "The interpolation points are stored in the variable \"EF_target_pos\": \n",
      "[[ 19.77817459   7.77817459]\n",
      " [ 15.33333333  -0.03328057]\n",
      " [  7.66666667  -2.25372628]\n",
      " [ -7.66666667  12.89062855]\n",
      " [-15.33333333  -2.56400453]]\n",
      "The intermediate points are stored in the variable \"interpolated_points\"\n",
      "[1 1 0]\n",
      "[34 45 32]\n"
     ]
    },
    {
     "name": "stderr",
     "output_type": "stream",
     "text": [
      "<ipython-input-3-d5f98cda02b0>:29: MatplotlibDeprecationWarning: Adding an axes using the same arguments as a previous axes currently reuses the earlier instance.  In a future version, a new instance will always be created and returned.  Meanwhile, this warning can be suppressed, and the future behavior ensured, by passing a unique label to each axes instance.\n",
      "  ax = fig.add_subplot(111, autoscale_on=False,\n"
     ]
    },
    {
     "name": "stdout",
     "output_type": "stream",
     "text": [
      "26\n",
      "The interpolation points are stored in the variable \"EF_target_pos\": \n",
      "[[ 22.48528137   8.48528137]\n",
      " [ 17.33333333   5.42689141]\n",
      " [  8.66666667   4.2300356 ]\n",
      " [ -8.66666667 -11.31547171]\n",
      " [-17.33333333   1.01883887]]\n",
      "The intermediate points are stored in the variable \"interpolated_points\"\n",
      "[0 0 1]\n",
      "[21 32 34]\n"
     ]
    },
    {
     "name": "stderr",
     "output_type": "stream",
     "text": [
      "<ipython-input-3-d5f98cda02b0>:29: MatplotlibDeprecationWarning: Adding an axes using the same arguments as a previous axes currently reuses the earlier instance.  In a future version, a new instance will always be created and returned.  Meanwhile, this warning can be suppressed, and the future behavior ensured, by passing a unique label to each axes instance.\n",
      "  ax = fig.add_subplot(111, autoscale_on=False,\n"
     ]
    },
    {
     "name": "stdout",
     "output_type": "stream",
     "text": [
      "24\n",
      "The interpolation points are stored in the variable \"EF_target_pos\": \n",
      "[[ 20.19238816   9.19238816]\n",
      " [ 16.           7.87254612]\n",
      " [  8.           9.5876148 ]\n",
      " [ -8.          -8.31239513]\n",
      " [-16.          -4.43158266]]\n",
      "The intermediate points are stored in the variable \"interpolated_points\"\n",
      "[0 0 1]\n",
      "[26 28 27]\n"
     ]
    },
    {
     "name": "stderr",
     "output_type": "stream",
     "text": [
      "<ipython-input-3-d5f98cda02b0>:29: MatplotlibDeprecationWarning: Adding an axes using the same arguments as a previous axes currently reuses the earlier instance.  In a future version, a new instance will always be created and returned.  Meanwhile, this warning can be suppressed, and the future behavior ensured, by passing a unique label to each axes instance.\n",
      "  ax = fig.add_subplot(111, autoscale_on=False,\n"
     ]
    },
    {
     "name": "stdout",
     "output_type": "stream",
     "text": [
      "22\n",
      "The interpolation points are stored in the variable \"EF_target_pos\": \n",
      "[[ 18.19238816   9.19238816]\n",
      " [ 14.66666667  -6.47082712]\n",
      " [  7.33333333  -6.34242135]\n",
      " [ -7.33333333   9.14326881]\n",
      " [-14.66666667   0.03508824]]\n",
      "The intermediate points are stored in the variable \"interpolated_points\"\n",
      "[0 0 1]\n",
      "[48 17 23]\n"
     ]
    },
    {
     "name": "stderr",
     "output_type": "stream",
     "text": [
      "<ipython-input-3-d5f98cda02b0>:29: MatplotlibDeprecationWarning: Adding an axes using the same arguments as a previous axes currently reuses the earlier instance.  In a future version, a new instance will always be created and returned.  Meanwhile, this warning can be suppressed, and the future behavior ensured, by passing a unique label to each axes instance.\n",
      "  ax = fig.add_subplot(111, autoscale_on=False,\n"
     ]
    },
    {
     "name": "stdout",
     "output_type": "stream",
     "text": [
      "22\n",
      "The interpolation points are stored in the variable \"EF_target_pos\": \n",
      "[[ 18.48528137   8.48528137]\n",
      " [ 14.66666667   4.10391039]\n",
      " [  7.33333333   9.69683247]\n",
      " [ -7.33333333   2.37030428]\n",
      " [-14.66666667   0.16337619]]\n",
      "The intermediate points are stored in the variable \"interpolated_points\"\n",
      "[0 0 1]\n",
      "[39 56 23]\n"
     ]
    },
    {
     "name": "stderr",
     "output_type": "stream",
     "text": [
      "<ipython-input-3-d5f98cda02b0>:29: MatplotlibDeprecationWarning: Adding an axes using the same arguments as a previous axes currently reuses the earlier instance.  In a future version, a new instance will always be created and returned.  Meanwhile, this warning can be suppressed, and the future behavior ensured, by passing a unique label to each axes instance.\n",
      "  ax = fig.add_subplot(111, autoscale_on=False,\n"
     ]
    },
    {
     "name": "stdout",
     "output_type": "stream",
     "text": [
      "23\n",
      "The interpolation points are stored in the variable \"EF_target_pos\": \n",
      "[[ 20.07106781   7.07106781]\n",
      " [ 15.33333333   1.44547735]\n",
      " [  7.66666667  -0.29259574]\n",
      " [ -7.66666667  12.31295256]\n",
      " [-15.33333333   0.66027096]]\n",
      "The intermediate points are stored in the variable \"interpolated_points\"\n",
      "[1 1 1]\n",
      "[35 43 53]\n"
     ]
    },
    {
     "name": "stderr",
     "output_type": "stream",
     "text": [
      "<ipython-input-3-d5f98cda02b0>:29: MatplotlibDeprecationWarning: Adding an axes using the same arguments as a previous axes currently reuses the earlier instance.  In a future version, a new instance will always be created and returned.  Meanwhile, this warning can be suppressed, and the future behavior ensured, by passing a unique label to each axes instance.\n",
      "  ax = fig.add_subplot(111, autoscale_on=False,\n"
     ]
    },
    {
     "name": "stdout",
     "output_type": "stream",
     "text": [
      "24\n",
      "The interpolation points are stored in the variable \"EF_target_pos\": \n",
      "[[ 20.48528137   8.48528137]\n",
      " [ 16.           2.39303057]\n",
      " [  8.           7.91901799]\n",
      " [ -8.          -5.80188245]\n",
      " [-16.          -5.40072215]]\n",
      "The intermediate points are stored in the variable \"interpolated_points\"\n",
      "[1 0 1]\n",
      "[45 42 16]\n"
     ]
    },
    {
     "name": "stderr",
     "output_type": "stream",
     "text": [
      "<ipython-input-3-d5f98cda02b0>:29: MatplotlibDeprecationWarning: Adding an axes using the same arguments as a previous axes currently reuses the earlier instance.  In a future version, a new instance will always be created and returned.  Meanwhile, this warning can be suppressed, and the future behavior ensured, by passing a unique label to each axes instance.\n",
      "  ax = fig.add_subplot(111, autoscale_on=False,\n"
     ]
    },
    {
     "name": "stdout",
     "output_type": "stream",
     "text": [
      "24\n",
      "The interpolation points are stored in the variable \"EF_target_pos\": \n",
      "[[ 20.77817459   7.77817459]\n",
      " [ 16.          -5.4042047 ]\n",
      " [  8.          15.32458884]\n",
      " [ -8.         -12.41373157]\n",
      " [-16.          -1.91243984]]\n",
      "The intermediate points are stored in the variable \"interpolated_points\"\n",
      "[1 1 1]\n",
      "[30 15 35]\n"
     ]
    },
    {
     "name": "stderr",
     "output_type": "stream",
     "text": [
      "<ipython-input-3-d5f98cda02b0>:29: MatplotlibDeprecationWarning: Adding an axes using the same arguments as a previous axes currently reuses the earlier instance.  In a future version, a new instance will always be created and returned.  Meanwhile, this warning can be suppressed, and the future behavior ensured, by passing a unique label to each axes instance.\n",
      "  ax = fig.add_subplot(111, autoscale_on=False,\n"
     ]
    },
    {
     "name": "stdout",
     "output_type": "stream",
     "text": [
      "20\n",
      "The interpolation points are stored in the variable \"EF_target_pos\": \n",
      "[[ 17.65685425   5.65685425]\n",
      " [ 13.33333333   2.25024673]\n",
      " [  6.66666667   7.3490831 ]\n",
      " [ -6.66666667   5.96497013]\n",
      " [-13.33333333  -2.05425319]]\n",
      "The intermediate points are stored in the variable \"interpolated_points\"\n",
      "[1 1 1]\n",
      "[46 53 36]\n"
     ]
    },
    {
     "name": "stderr",
     "output_type": "stream",
     "text": [
      "<ipython-input-3-d5f98cda02b0>:29: MatplotlibDeprecationWarning: Adding an axes using the same arguments as a previous axes currently reuses the earlier instance.  In a future version, a new instance will always be created and returned.  Meanwhile, this warning can be suppressed, and the future behavior ensured, by passing a unique label to each axes instance.\n",
      "  ax = fig.add_subplot(111, autoscale_on=False,\n"
     ]
    },
    {
     "name": "stdout",
     "output_type": "stream",
     "text": [
      "24\n",
      "The interpolation points are stored in the variable \"EF_target_pos\": \n",
      "[[ 20.48528137   8.48528137]\n",
      " [ 16.           0.46495281]\n",
      " [  8.         -11.07069095]\n",
      " [ -8.         -13.76175569]\n",
      " [-16.          -3.73941568]]\n",
      "The intermediate points are stored in the variable \"interpolated_points\"\n",
      "[1 1 1]\n",
      "[17 34 54]\n"
     ]
    },
    {
     "name": "stderr",
     "output_type": "stream",
     "text": [
      "<ipython-input-3-d5f98cda02b0>:29: MatplotlibDeprecationWarning: Adding an axes using the same arguments as a previous axes currently reuses the earlier instance.  In a future version, a new instance will always be created and returned.  Meanwhile, this warning can be suppressed, and the future behavior ensured, by passing a unique label to each axes instance.\n",
      "  ax = fig.add_subplot(111, autoscale_on=False,\n"
     ]
    },
    {
     "name": "stdout",
     "output_type": "stream",
     "text": [
      "22\n",
      "The interpolation points are stored in the variable \"EF_target_pos\": \n",
      "[[ 19.65685425   5.65685425]\n",
      " [ 14.66666667  -2.33895687]\n",
      " [  7.33333333  -2.15615602]\n",
      " [ -7.33333333   2.6838679 ]\n",
      " [-14.66666667   1.92823928]]\n",
      "The intermediate points are stored in the variable \"interpolated_points\"\n",
      "[0 1 1]\n",
      "[27 50 16]\n"
     ]
    },
    {
     "name": "stderr",
     "output_type": "stream",
     "text": [
      "<ipython-input-3-d5f98cda02b0>:29: MatplotlibDeprecationWarning: Adding an axes using the same arguments as a previous axes currently reuses the earlier instance.  In a future version, a new instance will always be created and returned.  Meanwhile, this warning can be suppressed, and the future behavior ensured, by passing a unique label to each axes instance.\n",
      "  ax = fig.add_subplot(111, autoscale_on=False,\n"
     ]
    },
    {
     "name": "stdout",
     "output_type": "stream",
     "text": [
      "23\n",
      "The interpolation points are stored in the variable \"EF_target_pos\": \n",
      "[[ 19.48528137   8.48528137]\n",
      " [ 15.33333333   6.79720057]\n",
      " [  7.66666667 -10.03550133]\n",
      " [ -7.66666667   7.00282346]\n",
      " [-15.33333333   4.64424714]]\n",
      "The intermediate points are stored in the variable \"interpolated_points\"\n",
      "[0 0 1]\n",
      "[44 34 16]\n"
     ]
    },
    {
     "name": "stderr",
     "output_type": "stream",
     "text": [
      "<ipython-input-3-d5f98cda02b0>:29: MatplotlibDeprecationWarning: Adding an axes using the same arguments as a previous axes currently reuses the earlier instance.  In a future version, a new instance will always be created and returned.  Meanwhile, this warning can be suppressed, and the future behavior ensured, by passing a unique label to each axes instance.\n",
      "  ax = fig.add_subplot(111, autoscale_on=False,\n"
     ]
    },
    {
     "name": "stdout",
     "output_type": "stream",
     "text": [
      "25\n",
      "The interpolation points are stored in the variable \"EF_target_pos\": \n",
      "[[ 21.19238816   9.19238816]\n",
      " [ 16.66666667   1.90183579]\n",
      " [  8.33333333  14.76002451]\n",
      " [ -8.33333333  15.09152617]\n",
      " [-16.66666667   6.27341039]]\n",
      "The intermediate points are stored in the variable \"interpolated_points\"\n",
      "[1 0 0]\n",
      "[15 29 22]\n"
     ]
    },
    {
     "name": "stderr",
     "output_type": "stream",
     "text": [
      "<ipython-input-3-d5f98cda02b0>:29: MatplotlibDeprecationWarning: Adding an axes using the same arguments as a previous axes currently reuses the earlier instance.  In a future version, a new instance will always be created and returned.  Meanwhile, this warning can be suppressed, and the future behavior ensured, by passing a unique label to each axes instance.\n",
      "  ax = fig.add_subplot(111, autoscale_on=False,\n"
     ]
    },
    {
     "name": "stdout",
     "output_type": "stream",
     "text": [
      "24\n",
      "The interpolation points are stored in the variable \"EF_target_pos\": \n",
      "[[ 21.07106781   7.07106781]\n",
      " [ 16.           7.13548989]\n",
      " [  8.         -13.53759095]\n",
      " [ -8.          -1.92519033]\n",
      " [-16.          -3.42358815]]\n",
      "The intermediate points are stored in the variable \"interpolated_points\"\n",
      "[1 1 0]\n",
      "[19 32 25]\n"
     ]
    },
    {
     "name": "stderr",
     "output_type": "stream",
     "text": [
      "<ipython-input-3-d5f98cda02b0>:29: MatplotlibDeprecationWarning: Adding an axes using the same arguments as a previous axes currently reuses the earlier instance.  In a future version, a new instance will always be created and returned.  Meanwhile, this warning can be suppressed, and the future behavior ensured, by passing a unique label to each axes instance.\n",
      "  ax = fig.add_subplot(111, autoscale_on=False,\n"
     ]
    },
    {
     "name": "stdout",
     "output_type": "stream",
     "text": [
      "19\n",
      "The interpolation points are stored in the variable \"EF_target_pos\": \n",
      "[[ 16.65685425   5.65685425]\n",
      " [ 12.66666667  -2.3835866 ]\n",
      " [  6.33333333  -5.78841263]\n",
      " [ -6.33333333   6.80827782]\n",
      " [-12.66666667  -5.75605688]]\n",
      "The intermediate points are stored in the variable \"interpolated_points\"\n",
      "[1 0 1]\n",
      "[22 43 35]\n"
     ]
    },
    {
     "name": "stderr",
     "output_type": "stream",
     "text": [
      "<ipython-input-3-d5f98cda02b0>:29: MatplotlibDeprecationWarning: Adding an axes using the same arguments as a previous axes currently reuses the earlier instance.  In a future version, a new instance will always be created and returned.  Meanwhile, this warning can be suppressed, and the future behavior ensured, by passing a unique label to each axes instance.\n",
      "  ax = fig.add_subplot(111, autoscale_on=False,\n"
     ]
    },
    {
     "name": "stdout",
     "output_type": "stream",
     "text": [
      "22\n",
      "The interpolation points are stored in the variable \"EF_target_pos\": \n",
      "[[ 19.07106781   7.07106781]\n",
      " [ 14.66666667  -3.33637787]\n",
      " [  7.33333333   2.83296376]\n",
      " [ -7.33333333 -14.7586326 ]\n",
      " [-14.66666667  -1.47290169]]\n",
      "The intermediate points are stored in the variable \"interpolated_points\"\n",
      "[0 0 0]\n",
      "[32 56 53]\n"
     ]
    },
    {
     "name": "stderr",
     "output_type": "stream",
     "text": [
      "<ipython-input-3-d5f98cda02b0>:29: MatplotlibDeprecationWarning: Adding an axes using the same arguments as a previous axes currently reuses the earlier instance.  In a future version, a new instance will always be created and returned.  Meanwhile, this warning can be suppressed, and the future behavior ensured, by passing a unique label to each axes instance.\n",
      "  ax = fig.add_subplot(111, autoscale_on=False,\n"
     ]
    },
    {
     "name": "stdout",
     "output_type": "stream",
     "text": [
      "25\n",
      "The interpolation points are stored in the variable \"EF_target_pos\": \n",
      "[[ 20.89949494   9.89949494]\n",
      " [ 16.66666667   7.80525109]\n",
      " [  8.33333333   8.59003432]\n",
      " [ -8.33333333   6.28838098]\n",
      " [-16.66666667  -2.30283696]]\n",
      "The intermediate points are stored in the variable \"interpolated_points\"\n",
      "[1 0 0]\n",
      "[16 54 58]\n"
     ]
    },
    {
     "name": "stderr",
     "output_type": "stream",
     "text": [
      "<ipython-input-3-d5f98cda02b0>:29: MatplotlibDeprecationWarning: Adding an axes using the same arguments as a previous axes currently reuses the earlier instance.  In a future version, a new instance will always be created and returned.  Meanwhile, this warning can be suppressed, and the future behavior ensured, by passing a unique label to each axes instance.\n",
      "  ax = fig.add_subplot(111, autoscale_on=False,\n"
     ]
    },
    {
     "name": "stdout",
     "output_type": "stream",
     "text": [
      "28\n",
      "The interpolation points are stored in the variable \"EF_target_pos\": \n",
      "[[ 23.89949494   9.89949494]\n",
      " [ 18.66666667  -0.68674966]\n",
      " [  9.33333333 -14.82049014]\n",
      " [ -9.33333333  -4.28024728]\n",
      " [-18.66666667  -8.56814347]]\n",
      "The intermediate points are stored in the variable \"interpolated_points\"\n",
      "[0 1 0]\n",
      "[54 52 30]\n"
     ]
    },
    {
     "name": "stderr",
     "output_type": "stream",
     "text": [
      "<ipython-input-3-d5f98cda02b0>:29: MatplotlibDeprecationWarning: Adding an axes using the same arguments as a previous axes currently reuses the earlier instance.  In a future version, a new instance will always be created and returned.  Meanwhile, this warning can be suppressed, and the future behavior ensured, by passing a unique label to each axes instance.\n",
      "  ax = fig.add_subplot(111, autoscale_on=False,\n"
     ]
    },
    {
     "name": "stdout",
     "output_type": "stream",
     "text": [
      "23\n",
      "The interpolation points are stored in the variable \"EF_target_pos\": \n",
      "[[ 19.77817459   7.77817459]\n",
      " [ 15.33333333   6.51118074]\n",
      " [  7.66666667  -8.29581772]\n",
      " [ -7.66666667 -12.99081065]\n",
      " [-15.33333333   2.32194453]]\n",
      "The intermediate points are stored in the variable \"interpolated_points\"\n",
      "[1 1 0]\n",
      "[43 35 37]\n"
     ]
    },
    {
     "name": "stderr",
     "output_type": "stream",
     "text": [
      "<ipython-input-3-d5f98cda02b0>:29: MatplotlibDeprecationWarning: Adding an axes using the same arguments as a previous axes currently reuses the earlier instance.  In a future version, a new instance will always be created and returned.  Meanwhile, this warning can be suppressed, and the future behavior ensured, by passing a unique label to each axes instance.\n",
      "  ax = fig.add_subplot(111, autoscale_on=False,\n"
     ]
    },
    {
     "name": "stdout",
     "output_type": "stream",
     "text": [
      "26\n",
      "The interpolation points are stored in the variable \"EF_target_pos\": \n",
      "[[ 22.19238816   9.19238816]\n",
      " [ 17.33333333  -8.8241308 ]\n",
      " [  8.66666667  -6.15187492]\n",
      " [ -8.66666667 -11.8755182 ]\n",
      " [-17.33333333   2.79017466]]\n",
      "The intermediate points are stored in the variable \"interpolated_points\"\n",
      "[1 0 1]\n",
      "[52 58 51]\n"
     ]
    },
    {
     "name": "stderr",
     "output_type": "stream",
     "text": [
      "<ipython-input-3-d5f98cda02b0>:29: MatplotlibDeprecationWarning: Adding an axes using the same arguments as a previous axes currently reuses the earlier instance.  In a future version, a new instance will always be created and returned.  Meanwhile, this warning can be suppressed, and the future behavior ensured, by passing a unique label to each axes instance.\n",
      "  ax = fig.add_subplot(111, autoscale_on=False,\n"
     ]
    },
    {
     "name": "stdout",
     "output_type": "stream",
     "text": [
      "21\n",
      "The interpolation points are stored in the variable \"EF_target_pos\": \n",
      "[[ 17.19238816   9.19238816]\n",
      " [ 14.          -6.48582977]\n",
      " [  7.           0.81949607]\n",
      " [ -7.          -0.8888997 ]\n",
      " [-14.           6.77835261]]\n",
      "The intermediate points are stored in the variable \"interpolated_points\"\n",
      "[1 0 1]\n",
      "[44 49 47]\n"
     ]
    },
    {
     "name": "stderr",
     "output_type": "stream",
     "text": [
      "<ipython-input-3-d5f98cda02b0>:29: MatplotlibDeprecationWarning: Adding an axes using the same arguments as a previous axes currently reuses the earlier instance.  In a future version, a new instance will always be created and returned.  Meanwhile, this warning can be suppressed, and the future behavior ensured, by passing a unique label to each axes instance.\n",
      "  ax = fig.add_subplot(111, autoscale_on=False,\n"
     ]
    },
    {
     "name": "stdout",
     "output_type": "stream",
     "text": [
      "24\n",
      "The interpolation points are stored in the variable \"EF_target_pos\": \n",
      "[[ 20.19238816   9.19238816]\n",
      " [ 16.           4.08758904]\n",
      " [  8.           4.32274947]\n",
      " [ -8.          -3.94301844]\n",
      " [-16.          -7.13288999]]\n",
      "The intermediate points are stored in the variable \"interpolated_points\"\n",
      "[1 1 1]\n",
      "[20 49 36]\n"
     ]
    },
    {
     "name": "stderr",
     "output_type": "stream",
     "text": [
      "<ipython-input-3-d5f98cda02b0>:29: MatplotlibDeprecationWarning: Adding an axes using the same arguments as a previous axes currently reuses the earlier instance.  In a future version, a new instance will always be created and returned.  Meanwhile, this warning can be suppressed, and the future behavior ensured, by passing a unique label to each axes instance.\n",
      "  ax = fig.add_subplot(111, autoscale_on=False,\n"
     ]
    },
    {
     "name": "stdout",
     "output_type": "stream",
     "text": [
      "22\n",
      "The interpolation points are stored in the variable \"EF_target_pos\": \n",
      "[[ 18.19238816   9.19238816]\n",
      " [ 14.66666667   5.98685929]\n",
      " [  7.33333333  14.71401047]\n",
      " [ -7.33333333 -11.00881289]\n",
      " [-14.66666667   3.57346323]]\n",
      "The intermediate points are stored in the variable \"interpolated_points\"\n",
      "[1 1 1]\n",
      "[42 41 32]\n"
     ]
    },
    {
     "name": "stderr",
     "output_type": "stream",
     "text": [
      "<ipython-input-3-d5f98cda02b0>:29: MatplotlibDeprecationWarning: Adding an axes using the same arguments as a previous axes currently reuses the earlier instance.  In a future version, a new instance will always be created and returned.  Meanwhile, this warning can be suppressed, and the future behavior ensured, by passing a unique label to each axes instance.\n",
      "  ax = fig.add_subplot(111, autoscale_on=False,\n"
     ]
    },
    {
     "name": "stdout",
     "output_type": "stream",
     "text": [
      "27\n",
      "The interpolation points are stored in the variable \"EF_target_pos\": \n",
      "[[ 23.19238816   9.19238816]\n",
      " [ 18.          -4.76406341]\n",
      " [  9.         -11.00269038]\n",
      " [ -9.          -4.19538944]\n",
      " [-18.          -5.15124842]]\n",
      "The intermediate points are stored in the variable \"interpolated_points\"\n",
      "[0 0 0]\n",
      "[33 19 26]\n"
     ]
    },
    {
     "name": "stderr",
     "output_type": "stream",
     "text": [
      "<ipython-input-3-d5f98cda02b0>:29: MatplotlibDeprecationWarning: Adding an axes using the same arguments as a previous axes currently reuses the earlier instance.  In a future version, a new instance will always be created and returned.  Meanwhile, this warning can be suppressed, and the future behavior ensured, by passing a unique label to each axes instance.\n",
      "  ax = fig.add_subplot(111, autoscale_on=False,\n"
     ]
    },
    {
     "name": "stdout",
     "output_type": "stream",
     "text": [
      "24\n",
      "The interpolation points are stored in the variable \"EF_target_pos\": \n",
      "[[ 21.36396103   6.36396103]\n",
      " [ 16.           3.24649004]\n",
      " [  8.           6.23504671]\n",
      " [ -8.         -13.61660409]\n",
      " [-16.           7.94850097]]\n",
      "The intermediate points are stored in the variable \"interpolated_points\"\n",
      "[1 0 1]\n",
      "[36 59 23]\n"
     ]
    },
    {
     "name": "stderr",
     "output_type": "stream",
     "text": [
      "<ipython-input-3-d5f98cda02b0>:29: MatplotlibDeprecationWarning: Adding an axes using the same arguments as a previous axes currently reuses the earlier instance.  In a future version, a new instance will always be created and returned.  Meanwhile, this warning can be suppressed, and the future behavior ensured, by passing a unique label to each axes instance.\n",
      "  ax = fig.add_subplot(111, autoscale_on=False,\n"
     ]
    },
    {
     "name": "stdout",
     "output_type": "stream",
     "text": [
      "26\n",
      "The interpolation points are stored in the variable \"EF_target_pos\": \n",
      "[[ 22.19238816   9.19238816]\n",
      " [ 17.33333333   8.69394986]\n",
      " [  8.66666667  -9.44672416]\n",
      " [ -8.66666667  16.95109927]\n",
      " [-17.33333333  -0.10229508]]\n",
      "The intermediate points are stored in the variable \"interpolated_points\"\n",
      "[1 1 1]\n",
      "[55 36 16]\n"
     ]
    },
    {
     "name": "stderr",
     "output_type": "stream",
     "text": [
      "<ipython-input-3-d5f98cda02b0>:29: MatplotlibDeprecationWarning: Adding an axes using the same arguments as a previous axes currently reuses the earlier instance.  In a future version, a new instance will always be created and returned.  Meanwhile, this warning can be suppressed, and the future behavior ensured, by passing a unique label to each axes instance.\n",
      "  ax = fig.add_subplot(111, autoscale_on=False,\n"
     ]
    },
    {
     "name": "stdout",
     "output_type": "stream",
     "text": [
      "26\n",
      "The interpolation points are stored in the variable \"EF_target_pos\": \n",
      "[[ 22.48528137   8.48528137]\n",
      " [ 17.33333333  -7.30025612]\n",
      " [  8.66666667 -10.42263211]\n",
      " [ -8.66666667  -8.84059485]\n",
      " [-17.33333333  -0.84200978]]\n",
      "The intermediate points are stored in the variable \"interpolated_points\"\n",
      "[1 1 0]\n",
      "[21 42 59]\n"
     ]
    },
    {
     "name": "stderr",
     "output_type": "stream",
     "text": [
      "<ipython-input-3-d5f98cda02b0>:29: MatplotlibDeprecationWarning: Adding an axes using the same arguments as a previous axes currently reuses the earlier instance.  In a future version, a new instance will always be created and returned.  Meanwhile, this warning can be suppressed, and the future behavior ensured, by passing a unique label to each axes instance.\n",
      "  ax = fig.add_subplot(111, autoscale_on=False,\n"
     ]
    },
    {
     "name": "stdout",
     "output_type": "stream",
     "text": [
      "23\n",
      "The interpolation points are stored in the variable \"EF_target_pos\": \n",
      "[[ 19.48528137   8.48528137]\n",
      " [ 15.33333333  -6.64260608]\n",
      " [  7.66666667  11.10881457]\n",
      " [ -7.66666667   9.50316749]\n",
      " [-15.33333333   7.85574606]]\n",
      "The intermediate points are stored in the variable \"interpolated_points\"\n",
      "[1 0 1]\n",
      "[59 18 32]\n"
     ]
    },
    {
     "name": "stderr",
     "output_type": "stream",
     "text": [
      "<ipython-input-3-d5f98cda02b0>:29: MatplotlibDeprecationWarning: Adding an axes using the same arguments as a previous axes currently reuses the earlier instance.  In a future version, a new instance will always be created and returned.  Meanwhile, this warning can be suppressed, and the future behavior ensured, by passing a unique label to each axes instance.\n",
      "  ax = fig.add_subplot(111, autoscale_on=False,\n"
     ]
    },
    {
     "name": "stdout",
     "output_type": "stream",
     "text": [
      "25\n",
      "The interpolation points are stored in the variable \"EF_target_pos\": \n",
      "[[ 21.19238816   9.19238816]\n",
      " [ 16.66666667  -6.3875745 ]\n",
      " [  8.33333333  -2.49711831]\n",
      " [ -8.33333333 -15.05363021]\n",
      " [-16.66666667   5.25642728]]\n",
      "The intermediate points are stored in the variable \"interpolated_points\"\n",
      "[1 1 1]\n",
      "[42 37 24]\n"
     ]
    },
    {
     "name": "stderr",
     "output_type": "stream",
     "text": [
      "<ipython-input-3-d5f98cda02b0>:29: MatplotlibDeprecationWarning: Adding an axes using the same arguments as a previous axes currently reuses the earlier instance.  In a future version, a new instance will always be created and returned.  Meanwhile, this warning can be suppressed, and the future behavior ensured, by passing a unique label to each axes instance.\n",
      "  ax = fig.add_subplot(111, autoscale_on=False,\n"
     ]
    },
    {
     "name": "stdout",
     "output_type": "stream",
     "text": [
      "28\n",
      "The interpolation points are stored in the variable \"EF_target_pos\": \n",
      "[[ 24.48528137   8.48528137]\n",
      " [ 18.66666667   0.89521671]\n",
      " [  9.33333333 -18.54788235]\n",
      " [ -9.33333333 -17.85028852]\n",
      " [-18.66666667   3.56178004]]\n",
      "The intermediate points are stored in the variable \"interpolated_points\"\n",
      "[1 1 0]\n",
      "[27 59 39]\n"
     ]
    },
    {
     "name": "stderr",
     "output_type": "stream",
     "text": [
      "<ipython-input-3-d5f98cda02b0>:29: MatplotlibDeprecationWarning: Adding an axes using the same arguments as a previous axes currently reuses the earlier instance.  In a future version, a new instance will always be created and returned.  Meanwhile, this warning can be suppressed, and the future behavior ensured, by passing a unique label to each axes instance.\n",
      "  ax = fig.add_subplot(111, autoscale_on=False,\n"
     ]
    },
    {
     "name": "stdout",
     "output_type": "stream",
     "text": [
      "23\n",
      "The interpolation points are stored in the variable \"EF_target_pos\": \n",
      "[[ 20.36396103   6.36396103]\n",
      " [ 15.33333333  -4.63750172]\n",
      " [  7.66666667   6.49094559]\n",
      " [ -7.66666667   9.74727153]\n",
      " [-15.33333333   0.1028006 ]]\n",
      "The intermediate points are stored in the variable \"interpolated_points\"\n",
      "[1 1 0]\n",
      "[19 15 23]\n"
     ]
    },
    {
     "name": "stderr",
     "output_type": "stream",
     "text": [
      "<ipython-input-3-d5f98cda02b0>:29: MatplotlibDeprecationWarning: Adding an axes using the same arguments as a previous axes currently reuses the earlier instance.  In a future version, a new instance will always be created and returned.  Meanwhile, this warning can be suppressed, and the future behavior ensured, by passing a unique label to each axes instance.\n",
      "  ax = fig.add_subplot(111, autoscale_on=False,\n"
     ]
    },
    {
     "name": "stdout",
     "output_type": "stream",
     "text": [
      "29\n",
      "The interpolation points are stored in the variable \"EF_target_pos\": \n",
      "[[ 25.19238816   9.19238816]\n",
      " [ 19.33333333  -9.69293377]\n",
      " [  9.66666667   9.18339967]\n",
      " [ -9.66666667 -14.18918558]\n",
      " [-19.33333333  -7.35666821]]\n",
      "The intermediate points are stored in the variable \"interpolated_points\"\n",
      "[1 0 1]\n",
      "[50 34 30]\n"
     ]
    },
    {
     "name": "stderr",
     "output_type": "stream",
     "text": [
      "<ipython-input-3-d5f98cda02b0>:29: MatplotlibDeprecationWarning: Adding an axes using the same arguments as a previous axes currently reuses the earlier instance.  In a future version, a new instance will always be created and returned.  Meanwhile, this warning can be suppressed, and the future behavior ensured, by passing a unique label to each axes instance.\n",
      "  ax = fig.add_subplot(111, autoscale_on=False,\n"
     ]
    },
    {
     "name": "stdout",
     "output_type": "stream",
     "text": [
      "18\n",
      "The interpolation points are stored in the variable \"EF_target_pos\": \n",
      "[[ 15.65685425   5.65685425]\n",
      " [ 12.           2.3025093 ]\n",
      " [  6.          -0.43847092]\n",
      " [ -6.         -11.08803018]\n",
      " [-12.          -0.36555429]]\n",
      "The intermediate points are stored in the variable \"interpolated_points\"\n",
      "[0 0 0]\n",
      "[45 55 18]\n"
     ]
    },
    {
     "name": "stderr",
     "output_type": "stream",
     "text": [
      "<ipython-input-3-d5f98cda02b0>:29: MatplotlibDeprecationWarning: Adding an axes using the same arguments as a previous axes currently reuses the earlier instance.  In a future version, a new instance will always be created and returned.  Meanwhile, this warning can be suppressed, and the future behavior ensured, by passing a unique label to each axes instance.\n",
      "  ax = fig.add_subplot(111, autoscale_on=False,\n"
     ]
    },
    {
     "name": "stdout",
     "output_type": "stream",
     "text": [
      "29\n",
      "The interpolation points are stored in the variable \"EF_target_pos\": \n",
      "[[ 24.60660172  10.60660172]\n",
      " [ 19.33333333  -5.06663477]\n",
      " [  9.66666667  13.7875237 ]\n",
      " [ -9.66666667  -0.82348908]\n",
      " [-19.33333333  -3.2167771 ]]\n",
      "The intermediate points are stored in the variable \"interpolated_points\"\n",
      "[1 1 1]\n",
      "[39 15 42]\n"
     ]
    },
    {
     "name": "stderr",
     "output_type": "stream",
     "text": [
      "<ipython-input-3-d5f98cda02b0>:29: MatplotlibDeprecationWarning: Adding an axes using the same arguments as a previous axes currently reuses the earlier instance.  In a future version, a new instance will always be created and returned.  Meanwhile, this warning can be suppressed, and the future behavior ensured, by passing a unique label to each axes instance.\n",
      "  ax = fig.add_subplot(111, autoscale_on=False,\n"
     ]
    },
    {
     "name": "stdout",
     "output_type": "stream",
     "text": [
      "21\n",
      "The interpolation points are stored in the variable \"EF_target_pos\": \n",
      "[[ 18.07106781   7.07106781]\n",
      " [ 14.           6.40011113]\n",
      " [  7.           3.72188135]\n",
      " [ -7.          -2.79886266]\n",
      " [-14.           5.82376002]]\n",
      "The intermediate points are stored in the variable \"interpolated_points\"\n",
      "[1 0 1]\n",
      "[20 57 41]\n"
     ]
    },
    {
     "name": "stderr",
     "output_type": "stream",
     "text": [
      "<ipython-input-3-d5f98cda02b0>:29: MatplotlibDeprecationWarning: Adding an axes using the same arguments as a previous axes currently reuses the earlier instance.  In a future version, a new instance will always be created and returned.  Meanwhile, this warning can be suppressed, and the future behavior ensured, by passing a unique label to each axes instance.\n",
      "  ax = fig.add_subplot(111, autoscale_on=False,\n"
     ]
    },
    {
     "name": "stdout",
     "output_type": "stream",
     "text": [
      "29\n",
      "The interpolation points are stored in the variable \"EF_target_pos\": \n",
      "[[ 24.60660172  10.60660172]\n",
      " [ 19.33333333  -5.5728173 ]\n",
      " [  9.66666667   0.49160404]\n",
      " [ -9.66666667 -10.35003887]\n",
      " [-19.33333333   8.91214663]]\n",
      "The intermediate points are stored in the variable \"interpolated_points\"\n",
      "[0 0 0]\n",
      "[18 15 22]\n"
     ]
    },
    {
     "name": "stderr",
     "output_type": "stream",
     "text": [
      "<ipython-input-3-d5f98cda02b0>:29: MatplotlibDeprecationWarning: Adding an axes using the same arguments as a previous axes currently reuses the earlier instance.  In a future version, a new instance will always be created and returned.  Meanwhile, this warning can be suppressed, and the future behavior ensured, by passing a unique label to each axes instance.\n",
      "  ax = fig.add_subplot(111, autoscale_on=False,\n"
     ]
    },
    {
     "name": "stdout",
     "output_type": "stream",
     "text": [
      "26\n",
      "The interpolation points are stored in the variable \"EF_target_pos\": \n",
      "[[ 22.48528137   8.48528137]\n",
      " [ 17.33333333  -0.44864314]\n",
      " [  8.66666667  -5.07618873]\n",
      " [ -8.66666667  -7.17113419]\n",
      " [-17.33333333  -5.23492225]]\n",
      "The intermediate points are stored in the variable \"interpolated_points\"\n",
      "[1 1 0]\n",
      "[15 35 34]\n"
     ]
    },
    {
     "name": "stderr",
     "output_type": "stream",
     "text": [
      "<ipython-input-3-d5f98cda02b0>:29: MatplotlibDeprecationWarning: Adding an axes using the same arguments as a previous axes currently reuses the earlier instance.  In a future version, a new instance will always be created and returned.  Meanwhile, this warning can be suppressed, and the future behavior ensured, by passing a unique label to each axes instance.\n",
      "  ax = fig.add_subplot(111, autoscale_on=False,\n"
     ]
    },
    {
     "name": "stdout",
     "output_type": "stream",
     "text": [
      "25\n",
      "The interpolation points are stored in the variable \"EF_target_pos\": \n",
      "[[ 21.48528137   8.48528137]\n",
      " [ 16.66666667   1.34192331]\n",
      " [  8.33333333   4.96985587]\n",
      " [ -8.33333333  -1.06610104]\n",
      " [-16.66666667  -1.57848864]]\n",
      "The intermediate points are stored in the variable \"interpolated_points\"\n",
      "[0 0 0]\n",
      "[44 22 36]\n"
     ]
    },
    {
     "name": "stderr",
     "output_type": "stream",
     "text": [
      "<ipython-input-3-d5f98cda02b0>:29: MatplotlibDeprecationWarning: Adding an axes using the same arguments as a previous axes currently reuses the earlier instance.  In a future version, a new instance will always be created and returned.  Meanwhile, this warning can be suppressed, and the future behavior ensured, by passing a unique label to each axes instance.\n",
      "  ax = fig.add_subplot(111, autoscale_on=False,\n"
     ]
    },
    {
     "name": "stdout",
     "output_type": "stream",
     "text": [
      "26\n",
      "The interpolation points are stored in the variable \"EF_target_pos\": \n",
      "[[ 21.89949494   9.89949494]\n",
      " [ 17.33333333   5.76015181]\n",
      " [  8.66666667  17.03441522]\n",
      " [ -8.66666667  -1.82927075]\n",
      " [-17.33333333  -1.65322431]]\n",
      "The intermediate points are stored in the variable \"interpolated_points\"\n",
      "[1 1 0]\n",
      "[49 53 36]\n"
     ]
    },
    {
     "name": "stderr",
     "output_type": "stream",
     "text": [
      "<ipython-input-3-d5f98cda02b0>:29: MatplotlibDeprecationWarning: Adding an axes using the same arguments as a previous axes currently reuses the earlier instance.  In a future version, a new instance will always be created and returned.  Meanwhile, this warning can be suppressed, and the future behavior ensured, by passing a unique label to each axes instance.\n",
      "  ax = fig.add_subplot(111, autoscale_on=False,\n"
     ]
    },
    {
     "name": "stdout",
     "output_type": "stream",
     "text": [
      "25\n",
      "The interpolation points are stored in the variable \"EF_target_pos\": \n",
      "[[ 21.48528137   8.48528137]\n",
      " [ 16.66666667   5.82296751]\n",
      " [  8.33333333  -2.4166957 ]\n",
      " [ -8.33333333  -9.31815358]\n",
      " [-16.66666667  -5.00654804]]\n",
      "The intermediate points are stored in the variable \"interpolated_points\"\n",
      "[1 0 0]\n",
      "[18 23 22]\n"
     ]
    },
    {
     "name": "stderr",
     "output_type": "stream",
     "text": [
      "<ipython-input-3-d5f98cda02b0>:29: MatplotlibDeprecationWarning: Adding an axes using the same arguments as a previous axes currently reuses the earlier instance.  In a future version, a new instance will always be created and returned.  Meanwhile, this warning can be suppressed, and the future behavior ensured, by passing a unique label to each axes instance.\n",
      "  ax = fig.add_subplot(111, autoscale_on=False,\n"
     ]
    },
    {
     "name": "stdout",
     "output_type": "stream",
     "text": [
      "29\n",
      "The interpolation points are stored in the variable \"EF_target_pos\": \n",
      "[[ 24.89949494   9.89949494]\n",
      " [ 19.33333333  -6.9919234 ]\n",
      " [  9.66666667   3.01291769]\n",
      " [ -9.66666667  -6.68095057]\n",
      " [-19.33333333   9.57610264]]\n",
      "The intermediate points are stored in the variable \"interpolated_points\"\n",
      "[0 0 1]\n",
      "[54 40 50]\n"
     ]
    },
    {
     "name": "stderr",
     "output_type": "stream",
     "text": [
      "<ipython-input-3-d5f98cda02b0>:29: MatplotlibDeprecationWarning: Adding an axes using the same arguments as a previous axes currently reuses the earlier instance.  In a future version, a new instance will always be created and returned.  Meanwhile, this warning can be suppressed, and the future behavior ensured, by passing a unique label to each axes instance.\n",
      "  ax = fig.add_subplot(111, autoscale_on=False,\n"
     ]
    },
    {
     "name": "stdout",
     "output_type": "stream",
     "text": [
      "26\n",
      "The interpolation points are stored in the variable \"EF_target_pos\": \n",
      "[[ 21.60660172  10.60660172]\n",
      " [ 17.33333333  -1.17378719]\n",
      " [  8.66666667  -5.22353665]\n",
      " [ -8.66666667 -10.87520898]\n",
      " [-17.33333333   8.07196401]]\n",
      "The intermediate points are stored in the variable \"interpolated_points\"\n",
      "[0 1 0]\n",
      "[26 18 31]\n"
     ]
    },
    {
     "name": "stderr",
     "output_type": "stream",
     "text": [
      "<ipython-input-3-d5f98cda02b0>:29: MatplotlibDeprecationWarning: Adding an axes using the same arguments as a previous axes currently reuses the earlier instance.  In a future version, a new instance will always be created and returned.  Meanwhile, this warning can be suppressed, and the future behavior ensured, by passing a unique label to each axes instance.\n",
      "  ax = fig.add_subplot(111, autoscale_on=False,\n"
     ]
    },
    {
     "name": "stdout",
     "output_type": "stream",
     "text": [
      "22\n",
      "The interpolation points are stored in the variable \"EF_target_pos\": \n",
      "[[ 19.07106781   7.07106781]\n",
      " [ 14.66666667  -6.86800585]\n",
      " [  7.33333333 -12.51681672]\n",
      " [ -7.33333333  -4.84322557]\n",
      " [-14.66666667   3.22676318]]\n",
      "The intermediate points are stored in the variable \"interpolated_points\"\n",
      "[0 1 0]\n",
      "[34 55 25]\n"
     ]
    },
    {
     "name": "stderr",
     "output_type": "stream",
     "text": [
      "<ipython-input-3-d5f98cda02b0>:29: MatplotlibDeprecationWarning: Adding an axes using the same arguments as a previous axes currently reuses the earlier instance.  In a future version, a new instance will always be created and returned.  Meanwhile, this warning can be suppressed, and the future behavior ensured, by passing a unique label to each axes instance.\n",
      "  ax = fig.add_subplot(111, autoscale_on=False,\n"
     ]
    }
   ],
   "source": [
    "for i in range(125,250):\n",
    "    create_simulation(i,50)"
   ]
  }
 ],
 "metadata": {
  "kernelspec": {
   "display_name": "Python 3",
   "language": "python",
   "name": "python3"
  },
  "language_info": {
   "codemirror_mode": {
    "name": "ipython",
    "version": 3
   },
   "file_extension": ".py",
   "mimetype": "text/x-python",
   "name": "python",
   "nbconvert_exporter": "python",
   "pygments_lexer": "ipython3",
   "version": "3.8.10"
  }
 },
 "nbformat": 4,
 "nbformat_minor": 2
}
