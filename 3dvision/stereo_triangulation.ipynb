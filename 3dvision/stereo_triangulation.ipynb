{
 "cells": [
  {
   "cell_type": "code",
   "execution_count": 1,
   "id": "87f6b5f9",
   "metadata": {},
   "outputs": [],
   "source": [
    "import numpy as np\n",
    "import cv2"
   ]
  },
  {
   "cell_type": "code",
   "execution_count": 2,
   "id": "67ffd537",
   "metadata": {},
   "outputs": [],
   "source": [
    "# 1. Generating Artificial Data\n",
    "\n",
    "# Intrinsic matrices for two cameras\n",
    "K1 = np.array([\n",
    "    [800, 0, 640],\n",
    "    [0, 800, 360],\n",
    "    [0, 0, 1]\n",
    "])\n",
    "\n",
    "K2 = np.array([\n",
    "    [805, 0, 642],\n",
    "    [0, 805, 362],\n",
    "    [0, 0, 1]\n",
    "])\n",
    "\n",
    "# Generate random 3D points as ground truth\n",
    "num_points = 10\n",
    "X_3D = np.hstack((np.random.randint(0, 50, (num_points, 1)),\n",
    "                  np.random.randint(0, 50, (num_points, 1)),\n",
    "                  np.random.randint(50, 100, (num_points, 1))))\n",
    "\n",
    "# Camera 1 is at the origin of the global coordinate system\n",
    "P1 = K1 @ np.hstack((np.eye(3), np.zeros((3, 1))))\n",
    "\n",
    "# Define a relative rotation and translation for Camera 2\n",
    "R = cv2.Rodrigues(np.array([0.1, 0.2, 0.3]))[0]\n",
    "t = np.array([[10], [5], [2]])\n",
    "\n",
    "P2 = K2 @ np.hstack((R, t))\n",
    "\n",
    "# Convert 3D points to homogeneous coordinates for projection\n",
    "X_3D_homogeneous = np.hstack([X_3D, np.ones((num_points, 1))])\n",
    "\n",
    "# Project the 3D points to the images\n",
    "points1_homogeneous = P1 @ X_3D_homogeneous.T\n",
    "points1 = (points1_homogeneous[:2, :] / points1_homogeneous[2, :]).T\n",
    "\n",
    "points2_homogeneous = P2 @ X_3D_homogeneous.T\n",
    "points2 = (points2_homogeneous[:2, :] / points2_homogeneous[2, :]).T\n"
   ]
  },
  {
   "cell_type": "code",
   "execution_count": 3,
   "id": "1689ba61",
   "metadata": {},
   "outputs": [],
   "source": [
    "# 2. Stereo Triangulation\n",
    "\n",
    "# Compute the fundamental matrix\n",
    "F, _ = cv2.findFundamentalMat(points1, points2, cv2.FM_LMEDS)\n",
    "\n",
    "# Compute the essential matrix\n",
    "E = K1.T @ F @ K2\n",
    "\n",
    "# Recover pose from essential matrix\n",
    "_, R_recovered, t_recovered, _ = cv2.recoverPose(E, points1, points2, K1)\n",
    "\n",
    "# Projection matrix for the second camera\n",
    "P2_recovered = K2 @ np.hstack((R_recovered, t_recovered))\n",
    "\n",
    "# Triangulate points\n",
    "points_4D_hom = cv2.triangulatePoints(P1, P2_recovered, points1.T, points2.T)\n",
    "points_3D_recovered = (points_4D_hom[:3, :] / points_4D_hom[3, :]).T\n"
   ]
  },
  {
   "cell_type": "code",
   "execution_count": 4,
   "id": "e94c3996",
   "metadata": {},
   "outputs": [
    {
     "name": "stdout",
     "output_type": "stream",
     "text": [
      "Mean Reprojection Error: 3.80\n"
     ]
    }
   ],
   "source": [
    "# 3. Comparison\n",
    "\n",
    "# Reprojection errors\n",
    "reprojected_points1_homogeneous = P1 @ points_4D_hom\n",
    "reprojected_points1 = (reprojected_points1_homogeneous[:2, :] / reprojected_points1_homogeneous[2, :]).T\n",
    "\n",
    "reprojected_points2_homogeneous = P2_recovered @ points_4D_hom\n",
    "reprojected_points2 = (reprojected_points2_homogeneous[:2, :] / reprojected_points2_homogeneous[2, :]).T\n",
    "\n",
    "error1 = np.sqrt(np.mean(np.sum((points1 - reprojected_points1)**2, axis=1)))\n",
    "error2 = np.sqrt(np.mean(np.sum((points2 - reprojected_points2)**2, axis=1)))\n",
    "\n",
    "total_reprojection_error = (error1 + error2) / 2\n",
    "\n",
    "print(f\"Mean Reprojection Error: {total_reprojection_error:.2f}\")"
   ]
  },
  {
   "cell_type": "code",
   "execution_count": 5,
   "id": "29125504",
   "metadata": {},
   "outputs": [
    {
     "data": {
      "text/plain": [
       "array([[ 876.73469388,  572.24489796],\n",
       "       [ 812.04301075,  721.29032258],\n",
       "       [1040.        ,  465.88235294],\n",
       "       [ 699.25925926,  493.33333333],\n",
       "       [ 847.40740741,  616.79012346],\n",
       "       [1145.26315789,  935.43859649],\n",
       "       [ 933.33333333,  906.66666667],\n",
       "       [ 986.66666667,  360.        ],\n",
       "       [1084.44444444,  671.11111111],\n",
       "       [ 831.04477612,  467.46268657]])"
      ]
     },
     "execution_count": 5,
     "metadata": {},
     "output_type": "execute_result"
    }
   ],
   "source": [
    "points1"
   ]
  },
  {
   "cell_type": "code",
   "execution_count": 6,
   "id": "2794e500",
   "metadata": {},
   "outputs": [
    {
     "data": {
      "text/plain": [
       "array([[ 877.18085726,  568.82210247],\n",
       "       [ 812.45575386,  716.94834658],\n",
       "       [1040.40104815,  463.37895821],\n",
       "       [ 699.70138893,  490.17698166],\n",
       "       [ 847.85153358,  613.06465043],\n",
       "       [1145.4980804 ,  930.9623794 ],\n",
       "       [ 933.66325303,  900.82611095],\n",
       "       [ 986.9963346 ,  358.18737544],\n",
       "       [1084.78613447,  668.10449124],\n",
       "       [ 831.47040942,  464.65071529]])"
      ]
     },
     "execution_count": 6,
     "metadata": {},
     "output_type": "execute_result"
    }
   ],
   "source": [
    "reprojected_points1"
   ]
  },
  {
   "cell_type": "code",
   "execution_count": 7,
   "id": "a50cf7f9",
   "metadata": {},
   "outputs": [
    {
     "data": {
      "text/plain": [
       "array([[1065.9320302 ,  629.9005939 ],\n",
       "       [ 952.01778694,  742.64875699],\n",
       "       [1322.8424143 ,  606.43121351],\n",
       "       [ 971.43890775,  524.1012012 ],\n",
       "       [1035.0536362 ,  667.59361723],\n",
       "       [1271.82034248, 1091.07527291],\n",
       "       [1053.69110347,  968.77046742],\n",
       "       [1318.9136833 ,  488.81907738],\n",
       "       [1283.45979963,  817.95532864],\n",
       "       [1089.97051511,  531.8803595 ]])"
      ]
     },
     "execution_count": 7,
     "metadata": {},
     "output_type": "execute_result"
    }
   ],
   "source": [
    "points2"
   ]
  },
  {
   "cell_type": "code",
   "execution_count": 8,
   "id": "df7a36d6",
   "metadata": {},
   "outputs": [
    {
     "data": {
      "text/plain": [
       "array([[1064.37093237,  633.15489505],\n",
       "       [ 950.08634183,  746.74820223],\n",
       "       [1321.65473659,  608.8687801 ],\n",
       "       [ 970.04303697,  526.99774929],\n",
       "       [1033.3723384 ,  671.11986858],\n",
       "       [1269.74613793, 1095.57251201],\n",
       "       [1051.08133351,  974.42463153],\n",
       "       [1318.05432545,  490.56132759],\n",
       "       [1282.04795641,  820.92370287],\n",
       "       [1088.69011585,  534.52069536]])"
      ]
     },
     "execution_count": 8,
     "metadata": {},
     "output_type": "execute_result"
    }
   ],
   "source": [
    "reprojected_points2"
   ]
  }
 ],
 "metadata": {
  "kernelspec": {
   "display_name": "Python 3 (ipykernel)",
   "language": "python",
   "name": "python3"
  },
  "language_info": {
   "codemirror_mode": {
    "name": "ipython",
    "version": 3
   },
   "file_extension": ".py",
   "mimetype": "text/x-python",
   "name": "python",
   "nbconvert_exporter": "python",
   "pygments_lexer": "ipython3",
   "version": "3.9.7"
  }
 },
 "nbformat": 4,
 "nbformat_minor": 5
}
