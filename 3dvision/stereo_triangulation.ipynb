{
 "cells": [
  {
   "cell_type": "code",
   "execution_count": 1,
   "id": "3ba22158",
   "metadata": {},
   "outputs": [],
   "source": [
    "import numpy as np\n",
    "import cv2"
   ]
  },
  {
   "cell_type": "code",
   "execution_count": 2,
   "id": "a8af1074",
   "metadata": {},
   "outputs": [],
   "source": [
    "# 1. Generating Artificial Data\n",
    "\n",
    "# Intrinsic matrices for two cameras\n",
    "K1 = np.array([\n",
    "    [800, 0, 640],\n",
    "    [0, 800, 360],\n",
    "    [0, 0, 1]\n",
    "])\n",
    "\n",
    "K2 = np.array([\n",
    "    [805, 0, 642],\n",
    "    [0, 805, 362],\n",
    "    [0, 0, 1]\n",
    "])\n",
    "\n",
    "# Generate random 3D points as ground truth\n",
    "num_points = 10\n",
    "X_3D = np.hstack((np.random.randint(0, 50, (num_points, 1)),\n",
    "                  np.random.randint(0, 50, (num_points, 1)),\n",
    "                  np.random.randint(50, 100, (num_points, 1))))\n",
    "\n",
    "# Camera 1 is at the origin of the global coordinate system\n",
    "P1 = K1 @ np.hstack((np.eye(3), np.zeros((3, 1))))\n",
    "\n",
    "# Define a relative rotation and translation for Camera 2\n",
    "R = cv2.Rodrigues(np.array([0.1, 0.2, 0.3]))[0]\n",
    "t = np.array([[10], [5], [2]])\n",
    "\n",
    "P2 = K2 @ np.hstack((R, t))\n",
    "\n",
    "# Convert 3D points to homogeneous coordinates for projection\n",
    "X_3D_homogeneous = np.hstack([X_3D, np.ones((num_points, 1))])\n",
    "\n",
    "# Project the 3D points to the images\n",
    "points1_homogeneous = P1 @ X_3D_homogeneous.T\n",
    "points1 = (points1_homogeneous[:2, :] / points1_homogeneous[2, :]).T\n",
    "\n",
    "points2_homogeneous = P2 @ X_3D_homogeneous.T\n",
    "points2 = (points2_homogeneous[:2, :] / points2_homogeneous[2, :]).T\n"
   ]
  },
  {
   "cell_type": "code",
   "execution_count": 3,
   "id": "309a0359",
   "metadata": {},
   "outputs": [],
   "source": [
    "# 2. Stereo Triangulation\n",
    "\n",
    "# Compute the fundamental matrix\n",
    "F, _ = cv2.findFundamentalMat(points1, points2, cv2.FM_LMEDS)\n",
    "\n",
    "# Compute the essential matrix\n",
    "E = K1.T @ F @ K2\n",
    "\n",
    "# Recover pose from essential matrix\n",
    "_, R_recovered, t_recovered, _ = cv2.recoverPose(E, points1, points2, K1)\n",
    "\n",
    "# Projection matrix for the second camera\n",
    "P2_recovered = K2 @ np.hstack((R_recovered, t_recovered))\n",
    "\n",
    "# Triangulate points\n",
    "points_4D_hom = cv2.triangulatePoints(P1, P2_recovered, points1.T, points2.T)\n",
    "points_3D_recovered = (points_4D_hom[:3, :] / points_4D_hom[3, :]).T\n"
   ]
  },
  {
   "cell_type": "code",
   "execution_count": 4,
   "id": "fa5375ec",
   "metadata": {},
   "outputs": [
    {
     "name": "stdout",
     "output_type": "stream",
     "text": [
      "Mean Reprojection Error: 36.83\n"
     ]
    }
   ],
   "source": [
    "# 3. Comparison\n",
    "\n",
    "# Reprojection errors\n",
    "reprojected_points1_homogeneous = P1 @ points_4D_hom\n",
    "reprojected_points1 = (reprojected_points1_homogeneous[:2, :] / reprojected_points1_homogeneous[2, :]).T\n",
    "\n",
    "reprojected_points2_homogeneous = P2_recovered @ points_4D_hom\n",
    "reprojected_points2 = (reprojected_points2_homogeneous[:2, :] / reprojected_points2_homogeneous[2, :]).T\n",
    "\n",
    "error1 = np.sqrt(np.mean(np.sum((points1 - reprojected_points1)**2, axis=1)))\n",
    "error2 = np.sqrt(np.mean(np.sum((points2 - reprojected_points2)**2, axis=1)))\n",
    "\n",
    "total_reprojection_error = (error1 + error2) / 2\n",
    "\n",
    "print(f\"Mean Reprojection Error: {total_reprojection_error:.2f}\")"
   ]
  },
  {
   "cell_type": "code",
   "execution_count": 5,
   "id": "f36a81f8",
   "metadata": {},
   "outputs": [
    {
     "data": {
      "text/plain": [
       "array([[ 680.4040404 ,  424.64646465],\n",
       "       [ 968.57142857,  902.85714286],\n",
       "       [ 972.30769231,  889.23076923],\n",
       "       [ 964.05063291,  400.50632911],\n",
       "       [ 765.        ,  393.33333333],\n",
       "       [1081.02564103,  708.71794872],\n",
       "       [ 805.85365854,  360.        ],\n",
       "       [1078.0952381 ,  750.47619048],\n",
       "       [ 734.91525424,  753.22033898],\n",
       "       [ 789.15254237,  536.27118644]])"
      ]
     },
     "execution_count": 5,
     "metadata": {},
     "output_type": "execute_result"
    }
   ],
   "source": [
    "points1"
   ]
  },
  {
   "cell_type": "code",
   "execution_count": 6,
   "id": "e397f038",
   "metadata": {},
   "outputs": [
    {
     "data": {
      "text/plain": [
       "array([[ 672.68646622,  385.40131807],\n",
       "       [ 963.15256848,  920.64998105],\n",
       "       [ 967.89755815,  904.41112974],\n",
       "       [ 956.10605879,  350.73067245],\n",
       "       [ 755.68520688,  349.28264132],\n",
       "       [1075.09628907,  745.99125821],\n",
       "       [ 794.74363435,  312.51512109],\n",
       "       [1070.12319838,  791.82707771],\n",
       "       [ 740.39467541,  705.0385989 ],\n",
       "       [ 787.49018005,  504.02377769]])"
      ]
     },
     "execution_count": 6,
     "metadata": {},
     "output_type": "execute_result"
    }
   ],
   "source": [
    "reprojected_points1"
   ]
  },
  {
   "cell_type": "code",
   "execution_count": 7,
   "id": "85d60894",
   "metadata": {},
   "outputs": [
    {
     "data": {
      "text/plain": [
       "array([[ 913.04627042,  422.24429564],\n",
       "       [1099.0289878 ,  984.0527521 ],\n",
       "       [1090.29611894,  967.41024174],\n",
       "       [1246.64082398,  505.16842119],\n",
       "       [1013.20191231,  420.72176412],\n",
       "       [1256.81249708,  847.76240245],\n",
       "       [1082.15872858,  408.63715254],\n",
       "       [1230.4234415 ,  881.74392534],\n",
       "       [ 911.40881731,  760.44706274],\n",
       "       [1036.44749763,  588.71507418]])"
      ]
     },
     "execution_count": 7,
     "metadata": {},
     "output_type": "execute_result"
    }
   ],
   "source": [
    "points2"
   ]
  },
  {
   "cell_type": "code",
   "execution_count": 8,
   "id": "b263a3fb",
   "metadata": {},
   "outputs": [
    {
     "data": {
      "text/plain": [
       "array([[ 905.68366727,  464.23228812],\n",
       "       [1099.24870234,  970.91308019],\n",
       "       [1090.53336074,  956.17363606],\n",
       "       [1240.97283633,  540.76002137],\n",
       "       [1005.79038032,  462.4025262 ],\n",
       "       [1259.38230793,  824.44341054],\n",
       "       [1074.38161657,  450.65034875],\n",
       "       [1232.9797116 ,  855.53296907],\n",
       "       [ 910.17363863,  809.5615487 ],\n",
       "       [1032.77861134,  617.97990418]])"
      ]
     },
     "execution_count": 8,
     "metadata": {},
     "output_type": "execute_result"
    }
   ],
   "source": [
    "reprojected_points2"
   ]
  }
 ],
 "metadata": {
  "kernelspec": {
   "display_name": "Python 3 (ipykernel)",
   "language": "python",
   "name": "python3"
  },
  "language_info": {
   "codemirror_mode": {
    "name": "ipython",
    "version": 3
   },
   "file_extension": ".py",
   "mimetype": "text/x-python",
   "name": "python",
   "nbconvert_exporter": "python",
   "pygments_lexer": "ipython3",
   "version": "3.9.7"
  }
 },
 "nbformat": 4,
 "nbformat_minor": 5
}
