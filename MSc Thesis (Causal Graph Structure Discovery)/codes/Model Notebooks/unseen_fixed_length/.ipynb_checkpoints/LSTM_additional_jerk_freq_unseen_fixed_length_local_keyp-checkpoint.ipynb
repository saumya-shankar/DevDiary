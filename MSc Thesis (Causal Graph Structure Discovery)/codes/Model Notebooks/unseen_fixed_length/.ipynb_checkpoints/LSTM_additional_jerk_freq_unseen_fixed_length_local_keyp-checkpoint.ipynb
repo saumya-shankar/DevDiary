{
 "cells": [
  {
   "cell_type": "code",
   "execution_count": null,
   "metadata": {
    "colab": {
     "base_uri": "https://localhost:8080/"
    },
    "id": "9JYsWwiwnPzi",
    "outputId": "e03ff322-9547-4408-90a2-0f99d70ce2fb"
   },
   "outputs": [
    {
     "name": "stdout",
     "output_type": "stream",
     "text": [
      "Mon Aug 15 15:32:41 2022       \n",
      "+-----------------------------------------------------------------------------+\n",
      "| NVIDIA-SMI 460.32.03    Driver Version: 460.32.03    CUDA Version: 11.2     |\n",
      "|-------------------------------+----------------------+----------------------+\n",
      "| GPU  Name        Persistence-M| Bus-Id        Disp.A | Volatile Uncorr. ECC |\n",
      "| Fan  Temp  Perf  Pwr:Usage/Cap|         Memory-Usage | GPU-Util  Compute M. |\n",
      "|                               |                      |               MIG M. |\n",
      "|===============================+======================+======================|\n",
      "|   0  Tesla P100-PCIE...  Off  | 00000000:00:04.0 Off |                    0 |\n",
      "| N/A   35C    P0    27W / 250W |      0MiB / 16280MiB |      0%      Default |\n",
      "|                               |                      |                  N/A |\n",
      "+-------------------------------+----------------------+----------------------+\n",
      "                                                                               \n",
      "+-----------------------------------------------------------------------------+\n",
      "| Processes:                                                                  |\n",
      "|  GPU   GI   CI        PID   Type   Process name                  GPU Memory |\n",
      "|        ID   ID                                                   Usage      |\n",
      "|=============================================================================|\n",
      "|  No running processes found                                                 |\n",
      "+-----------------------------------------------------------------------------+\n"
     ]
    }
   ],
   "source": [
    "gpu_info = !nvidia-smi\n",
    "gpu_info = '\\n'.join(gpu_info)\n",
    "if gpu_info.find('failed') >= 0:\n",
    "  print('Not connected to a GPU')\n",
    "else:\n",
    "  print(gpu_info)"
   ]
  },
  {
   "cell_type": "code",
   "execution_count": null,
   "metadata": {
    "colab": {
     "base_uri": "https://localhost:8080/"
    },
    "id": "IdNIB899nhlq",
    "outputId": "bf7fb8ce-bb8c-4ff5-8ce4-cf5ae40e87cd"
   },
   "outputs": [
    {
     "name": "stdout",
     "output_type": "stream",
     "text": [
      "Mounted at /content/drive\n"
     ]
    }
   ],
   "source": [
    "#mounting google drive on colab\n",
    "from google.colab import drive\n",
    "drive.mount('/content/drive')"
   ]
  },
  {
   "cell_type": "code",
   "execution_count": null,
   "metadata": {
    "id": "GfSazzTdnmaM"
   },
   "outputs": [],
   "source": [
    "# Importing the libraries\n",
    "import numpy as np\n",
    "import matplotlib.pyplot as plt\n",
    "import pandas as pd\n",
    "import copy\n",
    "from scipy import signal"
   ]
  },
  {
   "cell_type": "code",
   "execution_count": null,
   "metadata": {
    "id": "bXN_d9Evntel"
   },
   "outputs": [],
   "source": [
    "X_train=np.load(\"./drive/MyDrive/MSc Thesis/Experiments/all_pairs_ts_data_X_trainv7_exp2.npy\")\n",
    "y_train=np.load(\"./drive/MyDrive/MSc Thesis/Experiments/all_pairs_ts_data_y_trainv7_exp2.npy\").astype(int)\n",
    "\n",
    "X_test=np.load(\"./drive/MyDrive/MSc Thesis/Experiments/all_pairs_ts_data_X_testv7_exp2.npy\")\n",
    "y_test=np.load(\"./drive/MyDrive/MSc Thesis/Experiments/all_pairs_ts_data_y_testv7_exp2.npy\").astype(int)\n"
   ]
  },
  {
   "cell_type": "code",
   "execution_count": null,
   "metadata": {
    "colab": {
     "base_uri": "https://localhost:8080/"
    },
    "id": "NVkzHpArmQFD",
    "outputId": "681f5b16-573e-455b-9d07-4f5c0b7b1c14"
   },
   "outputs": [
    {
     "name": "stderr",
     "output_type": "stream",
     "text": [
      "/usr/local/lib/python3.7/dist-packages/scipy/signal/spectral.py:1966: UserWarning: nperseg = 256 is greater than input length  = 50, using nperseg = 50\n",
      "  .format(nperseg, input_length))\n"
     ]
    }
   ],
   "source": [
    "def calc_freq_signal(arr):\n",
    "    freqs, psd = signal.welch(arr, fs=10)\n",
    "    return psd\n",
    "\n",
    "X_train_f=np.apply_along_axis(calc_freq_signal, 1, X_train)\n",
    "X_test_f=np.apply_along_axis(calc_freq_signal, 1, X_test)\n"
   ]
  },
  {
   "cell_type": "code",
   "execution_count": null,
   "metadata": {
    "id": "6MFvsoGCeuLr"
   },
   "outputs": [],
   "source": [
    "X_train_1d=np.gradient(X_train,axis=1)\n",
    "X_test_1d=np.gradient(X_test,axis=1)\n",
    "X_train=np.dstack([X_train,X_train_1d])\n",
    "X_test=np.dstack([X_test,X_test_1d])"
   ]
  },
  {
   "cell_type": "code",
   "execution_count": null,
   "metadata": {
    "id": "uT-WuU1ohSbG"
   },
   "outputs": [],
   "source": [
    "def custom_scaler(X, range=(0, 1),min=None,max=None):\n",
    "    mi, ma = range\n",
    "    if(min==None):\n",
    "      min=X.min()\n",
    "      max=X.max()\n",
    "      print(\"\\nTrain_Scaling:- min=\",min,\" max=\",max)\n",
    "    X_std = (X - min) / (max - min)\n",
    "    X_scaled = X_std * (ma - mi) + mi\n",
    "    return min,max,X_scaled"
   ]
  },
  {
   "cell_type": "code",
   "execution_count": null,
   "metadata": {
    "colab": {
     "base_uri": "https://localhost:8080/"
    },
    "id": "Bc2GRbYck53M",
    "outputId": "f8e88467-ed36-4db1-8537-03cee498e3f5"
   },
   "outputs": [
    {
     "name": "stdout",
     "output_type": "stream",
     "text": [
      "\n",
      "Train_Scaling:- min= -22.01300285743306  max= 25.31370849898476\n",
      "\n",
      "Train_Scaling:- min= -23.9483772423873  max= 22.589302675577027\n",
      "\n",
      "Train_Scaling:- min= -12.057926093194933  max= 12.104502946593886\n",
      "\n",
      "Train_Scaling:- min= -17.405683792063165  max= 17.232860997377067\n",
      "Frequency signals scaling:-------------\n",
      "\n",
      "Train_Scaling:- min= 0.0  max= 294.4161865673738\n",
      "\n",
      "Train_Scaling:- min= 0.0  max= 587.9412907815806\n"
     ]
    }
   ],
   "source": [
    "# Feature Scaling\n",
    "#X_train contains 8 signals x1,x2,y1,y2,x1d,2d,y1d,y2d\n",
    "X_train_scaled=copy.copy(X_train)\n",
    "X_test_scaled=copy.copy(X_test)\n",
    "\n",
    "min_temp,max_temp,X_train_scaled[:,:,0:2]=custom_scaler(X_train_scaled[:,:,0:2],range=(0,1))\n",
    "_,_,X_test_scaled[:,:,0:2]=custom_scaler(X_test_scaled[:,:,0:2],range=(0,1),min=min_temp,max=max_temp)\n",
    "\n",
    "min_temp,max_temp,X_train_scaled[:,:,2:4]=custom_scaler(X_train_scaled[:,:,2:4],range=(0,1))\n",
    "_,_,X_test_scaled[:,:,2:4]=custom_scaler(X_test_scaled[:,:,2:4],range=(0,1),min=min_temp,max=max_temp)\n",
    "\n",
    "min_temp,max_temp,X_train_scaled[:,:,4:6]=custom_scaler(X_train_scaled[:,:,4:6],range=(0,1))\n",
    "_,_,X_test_scaled[:,:,4:6]=custom_scaler(X_test_scaled[:,:,4:6],range=(0,1),min=min_temp,max=max_temp)\n",
    "\n",
    "min_temp,max_temp,X_train_scaled[:,:,6:8]=custom_scaler(X_train_scaled[:,:,6:8],range=(0,1))\n",
    "_,_,X_test_scaled[:,:,6:8]=custom_scaler(X_test_scaled[:,:,6:8],range=(0,1),min=min_temp,max=max_temp)\n",
    "\n",
    "\n",
    "print(\"Frequency signals scaling:-------------\")\n",
    "#X_train contains 8 signals x1f,x2f,y1f,y2f\n",
    "X_train_scaled_f=copy.copy(X_train_f)\n",
    "X_test_scaled_f=copy.copy(X_test_f)\n",
    "\n",
    "min_temp,max_temp,X_train_scaled_f[:,:,0:2]=custom_scaler(X_train_scaled_f[:,:,0:2],range=(0,1))\n",
    "_,_,X_test_scaled_f[:,:,0:2]=custom_scaler(X_test_scaled_f[:,:,0:2],range=(0,1),min=min_temp,max=max_temp)\n",
    "\n",
    "min_temp,max_temp,X_train_scaled_f[:,:,2:4]=custom_scaler(X_train_scaled_f[:,:,2:4],range=(0,1))\n",
    "_,_,X_test_scaled_f[:,:,2:4]=custom_scaler(X_test_scaled_f[:,:,2:4],range=(0,1),min=min_temp,max=max_temp)\n"
   ]
  },
  {
   "cell_type": "code",
   "execution_count": null,
   "metadata": {
    "colab": {
     "base_uri": "https://localhost:8080/"
    },
    "id": "L7JWtkWdfSCb",
    "outputId": "f35c6e78-a35b-4197-dc41-7995c5aa9d8e"
   },
   "outputs": [
    {
     "name": "stdout",
     "output_type": "stream",
     "text": [
      "(18426, 50, 8)\n",
      "(18426, 26, 4)\n",
      "(5628, 50, 8)\n",
      "(5628, 26, 4)\n"
     ]
    }
   ],
   "source": [
    "print(X_train_scaled.shape)\n",
    "print(X_train_scaled_f.shape)\n",
    "\n",
    "print(X_test_scaled.shape)\n",
    "print(X_test_scaled_f.shape)"
   ]
  },
  {
   "cell_type": "code",
   "execution_count": null,
   "metadata": {
    "id": "iLgHyiJDrclv"
   },
   "outputs": [],
   "source": [
    "dataset_train=pd.DataFrame(y_train)\n",
    "dataset_train['node1']=list(X_train_scaled[:,:,[0,2,4,6]])\n",
    "dataset_train['node2']=list(X_train_scaled[:,:,[1,3,5,7]])\n",
    "\n",
    "dataset_test=pd.DataFrame(y_test)\n",
    "dataset_test['node1']=list(X_test_scaled[:,:,[0,2,4,6]])\n",
    "dataset_test['node2']=list(X_test_scaled[:,:,[1,3,5,7]])\n",
    "\n",
    "dataset_train_f=pd.DataFrame(y_train)\n",
    "dataset_train_f['node1']=list(X_train_scaled_f[:,:,[0,2]])\n",
    "dataset_train_f['node2']=list(X_train_scaled_f[:,:,[1,3]])\n",
    "\n",
    "dataset_test_f=pd.DataFrame(y_test)\n",
    "dataset_test_f['node1']=list(X_test_scaled_f[:,:,[0,2]])\n",
    "dataset_test_f['node2']=list(X_test_scaled_f[:,:,[1,3]])"
   ]
  },
  {
   "cell_type": "code",
   "execution_count": null,
   "metadata": {
    "id": "5olvkKTeqgm5"
   },
   "outputs": [],
   "source": [
    "#Adding Local infos\n",
    "padding_dim=20\n",
    "padding_val=1e6 ### all other values will be between 0 and 1s, only those which we want to mask will be 1e6\n",
    "def mask_pair(arr,local_features):\n",
    "  temp=copy.copy(local_features)\n",
    "  temp[[arr[2],arr[3]],:,:]=padding_val\n",
    "  return(temp)\n",
    "\n",
    "def add_local_info(df):\n",
    "  df=df.reset_index(drop=True)\n",
    "  node_features=pd.concat([df['node1'],df['node2'][len(df)-1:]],axis=0).reset_index(drop=True)\n",
    "  node_features=node_features[node_features.astype(str).drop_duplicates().index].reset_index(drop=True)\n",
    "  node_features=np.stack(node_features)\n",
    "  node_features=np.pad(node_features, [(0,padding_dim-node_features.shape[0]),(0,0),(0,0)], 'constant', constant_values=padding_val)\n",
    "  df['local_info']=df.apply(lambda row: mask_pair(row,node_features), axis=1)\n",
    "  return(df)"
   ]
  },
  {
   "cell_type": "code",
   "execution_count": null,
   "metadata": {
    "id": "erxRM-y-CEWH"
   },
   "outputs": [],
   "source": [
    "dataset_train1=dataset_train.groupby(1).apply(add_local_info).reset_index(drop=True)\n",
    "dataset_test1=dataset_test.groupby(1).apply(add_local_info).reset_index(drop=True)\n",
    "dataset_train_f1=dataset_train_f.groupby(1).apply(add_local_info).reset_index(drop=True)\n",
    "dataset_test_f1=dataset_test_f.groupby(1).apply(add_local_info).reset_index(drop=True)"
   ]
  },
  {
   "cell_type": "code",
   "execution_count": null,
   "metadata": {
    "id": "8kHTMzOHDcim"
   },
   "outputs": [],
   "source": [
    "X_train_scaled_local=np.stack(dataset_train1['local_info'])\n",
    "X_test_scaled_local=np.stack(dataset_test1['local_info'])\n",
    "X_train_scaled_f_local=np.stack(dataset_train_f1['local_info'])\n",
    "X_test_scaled_f_local=np.stack(dataset_test_f1['local_info'])"
   ]
  },
  {
   "cell_type": "code",
   "execution_count": null,
   "metadata": {
    "colab": {
     "base_uri": "https://localhost:8080/"
    },
    "id": "86bjG9d7Dn3S",
    "outputId": "0342eccd-5e27-45b5-dc0b-6bc8f2e70452"
   },
   "outputs": [
    {
     "name": "stdout",
     "output_type": "stream",
     "text": [
      "(18426, 50, 8)\n",
      "(5628, 50, 8)\n",
      "(18426, 26, 4)\n",
      "(5628, 26, 4)\n",
      "(18426, 20, 50, 4)\n",
      "(5628, 20, 50, 4)\n",
      "(18426, 20, 26, 2)\n",
      "(5628, 20, 26, 2)\n"
     ]
    }
   ],
   "source": [
    "print(X_train_scaled.shape)\n",
    "print(X_test_scaled.shape)\n",
    "print(X_train_scaled_f.shape)\n",
    "print(X_test_scaled_f.shape)\n",
    "\n",
    "print(X_train_scaled_local.shape)\n",
    "print(X_test_scaled_local.shape)\n",
    "print(X_train_scaled_f_local.shape)\n",
    "print(X_test_scaled_f_local.shape)"
   ]
  },
  {
   "cell_type": "code",
   "execution_count": null,
   "metadata": {
    "id": "u8CMIO_ToBr9"
   },
   "outputs": [],
   "source": [
    "\n",
    "# Part 2 - Building the RNN\n",
    "\n",
    "# Importing the Keras libraries and packages\n",
    "import tensorflow as tf\n",
    "from keras.models import Sequential\n",
    "from keras.layers import Dense\n",
    "from keras.layers import LSTM\n",
    "from keras.layers import Dropout\n",
    "from keras.layers import Input\n",
    "from tensorflow.keras import layers\n",
    "import keras\n",
    "\n",
    "input_1 = Input((X_train_scaled.shape[1], X_train_scaled.shape[2])) #50,8\n",
    "input_2 = Input((X_train_scaled_f.shape[1], X_train_scaled_f.shape[2])) #26,4\n",
    "\n",
    "input_3 = Input((X_train_scaled_local.shape[1], X_train_scaled_local.shape[2], X_train_scaled_local.shape[3])) #20,50,4\n",
    "input_4 = Input((X_train_scaled_f_local.shape[1], X_train_scaled_f_local.shape[2], X_train_scaled_f_local.shape[3])) #20,26,2\n",
    "\n",
    "\n",
    "x1=LSTM(units = 100, return_sequences = True)(input_1)\n",
    "x1=LSTM(units = 50)(x1)\n",
    "\n",
    "x2=LSTM(units = 100, return_sequences = True)(input_2)\n",
    "x2=LSTM(units = 50)(x2)\n",
    "\n",
    "x3=layers.Masking(mask_value=padding_val)(input_3)\n",
    "x3=layers.TimeDistributed(LSTM(units = 100, return_sequences = True))(x3)\n",
    "x3=layers.TimeDistributed(LSTM(units = 50))(x3)\n",
    "# x3=layers.TimeDistributed(Dense(units = 1))(x3)\n",
    "x3=layers.Flatten()(x3)\n",
    "\n",
    "x4=layers.Masking(mask_value=padding_val)(input_4)\n",
    "x4=layers.TimeDistributed(LSTM(units = 100, return_sequences = True))(x4)\n",
    "x4=layers.TimeDistributed(LSTM(units = 50))(x4)\n",
    "# x4=layers.TimeDistributed(Dense(units = 1))(x4)\n",
    "x4=layers.Flatten()(x4)\n",
    "\n",
    "x_neighbbours=layers.concatenate([x3,x4])\n",
    "x_neighbbours=layers.Dense(100)(x_neighbbours)\n",
    "\n",
    "x = layers.concatenate([x1, x2,x_neighbbours])\n",
    "x=layers.Dense(50)(x)\n",
    "\n",
    "output_layer = layers.Dense(1, activation=\"sigmoid\")(x)\n",
    "\n",
    "classifier=keras.Model(inputs=[input_1, input_2, input_3, input_4], outputs=output_layer)\n",
    "\n",
    "# Compiling the RNN\n",
    "classifier.compile(optimizer = 'adam', loss = 'binary_crossentropy', metrics = ['accuracy'])\n"
   ]
  },
  {
   "cell_type": "code",
   "execution_count": null,
   "metadata": {
    "colab": {
     "base_uri": "https://localhost:8080/"
    },
    "id": "B1KmTYGvWGWY",
    "outputId": "356af102-2768-4881-dbd9-80a745e36b07"
   },
   "outputs": [
    {
     "name": "stdout",
     "output_type": "stream",
     "text": [
      "Model: \"model\"\n",
      "__________________________________________________________________________________________________\n",
      " Layer (type)                   Output Shape         Param #     Connected to                     \n",
      "==================================================================================================\n",
      " input_3 (InputLayer)           [(None, 20, 50, 4)]  0           []                               \n",
      "                                                                                                  \n",
      " input_4 (InputLayer)           [(None, 20, 26, 2)]  0           []                               \n",
      "                                                                                                  \n",
      " masking (Masking)              (None, 20, 50, 4)    0           ['input_3[0][0]']                \n",
      "                                                                                                  \n",
      " masking_1 (Masking)            (None, 20, 26, 2)    0           ['input_4[0][0]']                \n",
      "                                                                                                  \n",
      " time_distributed (TimeDistribu  (None, 20, 50, 100)  42000      ['masking[0][0]']                \n",
      " ted)                                                                                             \n",
      "                                                                                                  \n",
      " time_distributed_2 (TimeDistri  (None, 20, 26, 100)  41200      ['masking_1[0][0]']              \n",
      " buted)                                                                                           \n",
      "                                                                                                  \n",
      " time_distributed_1 (TimeDistri  (None, 20, 50)      30200       ['time_distributed[0][0]']       \n",
      " buted)                                                                                           \n",
      "                                                                                                  \n",
      " time_distributed_3 (TimeDistri  (None, 20, 50)      30200       ['time_distributed_2[0][0]']     \n",
      " buted)                                                                                           \n",
      "                                                                                                  \n",
      " input_1 (InputLayer)           [(None, 50, 8)]      0           []                               \n",
      "                                                                                                  \n",
      " input_2 (InputLayer)           [(None, 26, 4)]      0           []                               \n",
      "                                                                                                  \n",
      " flatten (Flatten)              (None, 1000)         0           ['time_distributed_1[0][0]']     \n",
      "                                                                                                  \n",
      " flatten_1 (Flatten)            (None, 1000)         0           ['time_distributed_3[0][0]']     \n",
      "                                                                                                  \n",
      " lstm (LSTM)                    (None, 50, 100)      43600       ['input_1[0][0]']                \n",
      "                                                                                                  \n",
      " lstm_2 (LSTM)                  (None, 26, 100)      42000       ['input_2[0][0]']                \n",
      "                                                                                                  \n",
      " concatenate (Concatenate)      (None, 2000)         0           ['flatten[0][0]',                \n",
      "                                                                  'flatten_1[0][0]']              \n",
      "                                                                                                  \n",
      " lstm_1 (LSTM)                  (None, 50)           30200       ['lstm[0][0]']                   \n",
      "                                                                                                  \n",
      " lstm_3 (LSTM)                  (None, 50)           30200       ['lstm_2[0][0]']                 \n",
      "                                                                                                  \n",
      " dense (Dense)                  (None, 100)          200100      ['concatenate[0][0]']            \n",
      "                                                                                                  \n",
      " concatenate_1 (Concatenate)    (None, 200)          0           ['lstm_1[0][0]',                 \n",
      "                                                                  'lstm_3[0][0]',                 \n",
      "                                                                  'dense[0][0]']                  \n",
      "                                                                                                  \n",
      " dense_1 (Dense)                (None, 50)           10050       ['concatenate_1[0][0]']          \n",
      "                                                                                                  \n",
      " dense_2 (Dense)                (None, 1)            51          ['dense_1[0][0]']                \n",
      "                                                                                                  \n",
      "==================================================================================================\n",
      "Total params: 499,801\n",
      "Trainable params: 499,801\n",
      "Non-trainable params: 0\n",
      "__________________________________________________________________________________________________\n"
     ]
    }
   ],
   "source": [
    "classifier.summary()"
   ]
  },
  {
   "cell_type": "code",
   "execution_count": null,
   "metadata": {
    "colab": {
     "base_uri": "https://localhost:8080/",
     "height": 936
    },
    "id": "e6KCwPfMWP5l",
    "outputId": "e276e7f6-e289-41b4-8173-67f7c2bc148f"
   },
   "outputs": [
    {
     "data": {
      "image/png": "[encoded data removed]",
      "text/plain": [
       "<IPython.core.display.Image object>"
      ]
     },
     "execution_count": 17,
     "metadata": {},
     "output_type": "execute_result"
    }
   ],
   "source": [
    "tf.keras.utils.plot_model(classifier)"
   ]
  },
  {
   "cell_type": "code",
   "execution_count": null,
   "metadata": {
    "id": "uf-jNI2KZJUu"
   },
   "outputs": [],
   "source": [
    "from tensorflow.keras.callbacks import ModelCheckpoint, EarlyStopping\n",
    "\n",
    "checkpoint = ModelCheckpoint(\"./drive/MyDrive/MSc Thesis/Experiments/models/LSTM_1d_freq_exp2_local_info_v2.h5\",\n",
    "                             monitor=\"val_accuracy\",\n",
    "                             mode=\"max\",\n",
    "                             save_best_only = True,\n",
    "                             verbose=1)\n",
    "\n",
    "\n",
    "earlystop = EarlyStopping(monitor = 'val_accuracy', # value being monitored for improvement\n",
    "                          min_delta = 0, #Abs value and is the min change required before we stop\n",
    "                          patience = 20, #Number of epochs we wait before stopping \n",
    "                          verbose = 1,\n",
    "                          restore_best_weights = True) #keeps the best weigths once stopped\n",
    "\n",
    "# we put our call backs into a callback list\n",
    "callbacks = [earlystop,checkpoint]\n"
   ]
  },
  {
   "cell_type": "code",
   "execution_count": null,
   "metadata": {
    "colab": {
     "base_uri": "https://localhost:8080/"
    },
    "id": "jcUvZBOYoFNC",
    "outputId": "f4d20f67-71d2-4edf-f870-3ad4ec072c21"
   },
   "outputs": [
    {
     "name": "stdout",
     "output_type": "stream",
     "text": [
      "Epoch 1/200\n",
      "288/288 [==============================] - ETA: 0s - loss: 0.5676 - accuracy: 0.6988\n",
      "Epoch 1: val_accuracy improved from -inf to 0.75817, saving model to ./drive/MyDrive/MSc Thesis/Experiments/models/LSTM_1d_freq_exp2_local_info_v2.h5\n",
      "288/288 [==============================] - 126s 356ms/step - loss: 0.5676 - accuracy: 0.6988 - val_loss: 0.4473 - val_accuracy: 0.7582\n",
      "Epoch 2/200\n",
      "288/288 [==============================] - ETA: 0s - loss: 0.5409 - accuracy: 0.7048\n",
      "Epoch 2: val_accuracy improved from 0.75817 to 0.77736, saving model to ./drive/MyDrive/MSc Thesis/Experiments/models/LSTM_1d_freq_exp2_local_info_v2.h5\n",
      "288/288 [==============================] - 98s 341ms/step - loss: 0.5409 - accuracy: 0.7048 - val_loss: 0.4160 - val_accuracy: 0.7774\n",
      "Epoch 3/200\n",
      "288/288 [==============================] - ETA: 0s - loss: 0.5397 - accuracy: 0.7093\n",
      "Epoch 3: val_accuracy improved from 0.77736 to 0.79744, saving model to ./drive/MyDrive/MSc Thesis/Experiments/models/LSTM_1d_freq_exp2_local_info_v2.h5\n",
      "288/288 [==============================] - 98s 341ms/step - loss: 0.5397 - accuracy: 0.7093 - val_loss: 0.4095 - val_accuracy: 0.7974\n",
      "Epoch 4/200\n",
      "288/288 [==============================] - ETA: 0s - loss: 0.5373 - accuracy: 0.7085\n",
      "Epoch 4: val_accuracy did not improve from 0.79744\n",
      "288/288 [==============================] - 98s 341ms/step - loss: 0.5373 - accuracy: 0.7085 - val_loss: 0.4111 - val_accuracy: 0.7772\n",
      "Epoch 5/200\n",
      "288/288 [==============================] - ETA: 0s - loss: 0.5340 - accuracy: 0.7100\n",
      "Epoch 5: val_accuracy did not improve from 0.79744\n",
      "288/288 [==============================] - 97s 337ms/step - loss: 0.5340 - accuracy: 0.7100 - val_loss: 0.4115 - val_accuracy: 0.7864\n",
      "Epoch 6/200\n",
      "288/288 [==============================] - ETA: 0s - loss: 0.5345 - accuracy: 0.7132\n",
      "Epoch 6: val_accuracy improved from 0.79744 to 0.79815, saving model to ./drive/MyDrive/MSc Thesis/Experiments/models/LSTM_1d_freq_exp2_local_info_v2.h5\n",
      "288/288 [==============================] - 98s 341ms/step - loss: 0.5345 - accuracy: 0.7132 - val_loss: 0.4120 - val_accuracy: 0.7982\n",
      "Epoch 7/200\n",
      "288/288 [==============================] - ETA: 0s - loss: 0.5238 - accuracy: 0.7177\n",
      "Epoch 7: val_accuracy did not improve from 0.79815\n",
      "288/288 [==============================] - 98s 339ms/step - loss: 0.5238 - accuracy: 0.7177 - val_loss: 0.4019 - val_accuracy: 0.7882\n",
      "Epoch 8/200\n",
      "288/288 [==============================] - ETA: 0s - loss: 0.4901 - accuracy: 0.7296\n",
      "Epoch 8: val_accuracy did not improve from 0.79815\n",
      "288/288 [==============================] - 96s 333ms/step - loss: 0.4901 - accuracy: 0.7296 - val_loss: 0.4071 - val_accuracy: 0.7628\n",
      "Epoch 9/200\n",
      "288/288 [==============================] - ETA: 0s - loss: 0.4221 - accuracy: 0.7871\n",
      "Epoch 9: val_accuracy improved from 0.79815 to 0.84773, saving model to ./drive/MyDrive/MSc Thesis/Experiments/models/LSTM_1d_freq_exp2_local_info_v2.h5\n",
      "288/288 [==============================] - 97s 338ms/step - loss: 0.4221 - accuracy: 0.7871 - val_loss: 0.3180 - val_accuracy: 0.8477\n",
      "Epoch 10/200\n",
      "288/288 [==============================] - ETA: 0s - loss: 0.3796 - accuracy: 0.8196\n",
      "Epoch 10: val_accuracy did not improve from 0.84773\n",
      "288/288 [==============================] - 96s 335ms/step - loss: 0.3796 - accuracy: 0.8196 - val_loss: 0.3372 - val_accuracy: 0.8280\n",
      "Epoch 11/200\n",
      "288/288 [==============================] - ETA: 0s - loss: 0.3187 - accuracy: 0.8570\n",
      "Epoch 11: val_accuracy did not improve from 0.84773\n",
      "288/288 [==============================] - 96s 335ms/step - loss: 0.3187 - accuracy: 0.8570 - val_loss: 0.3435 - val_accuracy: 0.8424\n",
      "Epoch 12/200\n",
      "288/288 [==============================] - ETA: 0s - loss: 0.2737 - accuracy: 0.8810\n",
      "Epoch 12: val_accuracy improved from 0.84773 to 0.87491, saving model to ./drive/MyDrive/MSc Thesis/Experiments/models/LSTM_1d_freq_exp2_local_info_v2.h5\n",
      "288/288 [==============================] - 97s 337ms/step - loss: 0.2737 - accuracy: 0.8810 - val_loss: 0.2695 - val_accuracy: 0.8749\n",
      "Epoch 13/200\n",
      "288/288 [==============================] - ETA: 0s - loss: 0.2315 - accuracy: 0.8977\n",
      "Epoch 13: val_accuracy did not improve from 0.87491\n",
      "288/288 [==============================] - 95s 329ms/step - loss: 0.2315 - accuracy: 0.8977 - val_loss: 0.3488 - val_accuracy: 0.8426\n",
      "Epoch 14/200\n",
      "288/288 [==============================] - ETA: 0s - loss: 0.2189 - accuracy: 0.9052\n",
      "Epoch 14: val_accuracy did not improve from 0.87491\n",
      "288/288 [==============================] - 97s 335ms/step - loss: 0.2189 - accuracy: 0.9052 - val_loss: 0.2665 - val_accuracy: 0.8719\n",
      "Epoch 15/200\n",
      "288/288 [==============================] - ETA: 0s - loss: 0.1883 - accuracy: 0.9191\n",
      "Epoch 15: val_accuracy improved from 0.87491 to 0.88113, saving model to ./drive/MyDrive/MSc Thesis/Experiments/models/LSTM_1d_freq_exp2_local_info_v2.h5\n",
      "288/288 [==============================] - 97s 336ms/step - loss: 0.1883 - accuracy: 0.9191 - val_loss: 0.2544 - val_accuracy: 0.8811\n",
      "Epoch 16/200\n",
      "288/288 [==============================] - ETA: 0s - loss: 0.1862 - accuracy: 0.9184\n",
      "Epoch 16: val_accuracy improved from 0.88113 to 0.88522, saving model to ./drive/MyDrive/MSc Thesis/Experiments/models/LSTM_1d_freq_exp2_local_info_v2.h5\n",
      "288/288 [==============================] - 96s 335ms/step - loss: 0.1862 - accuracy: 0.9184 - val_loss: 0.2579 - val_accuracy: 0.8852\n",
      "Epoch 17/200\n",
      "288/288 [==============================] - ETA: 0s - loss: 0.1887 - accuracy: 0.9187\n",
      "Epoch 17: val_accuracy improved from 0.88522 to 0.89144, saving model to ./drive/MyDrive/MSc Thesis/Experiments/models/LSTM_1d_freq_exp2_local_info_v2.h5\n",
      "288/288 [==============================] - 96s 335ms/step - loss: 0.1887 - accuracy: 0.9187 - val_loss: 0.2367 - val_accuracy: 0.8914\n",
      "Epoch 18/200\n",
      "288/288 [==============================] - ETA: 0s - loss: 0.1913 - accuracy: 0.9175\n",
      "Epoch 18: val_accuracy did not improve from 0.89144\n",
      "288/288 [==============================] - 95s 330ms/step - loss: 0.1913 - accuracy: 0.9175 - val_loss: 0.2373 - val_accuracy: 0.8913\n",
      "Epoch 19/200\n",
      "288/288 [==============================] - ETA: 0s - loss: 0.1704 - accuracy: 0.9270\n",
      "Epoch 19: val_accuracy improved from 0.89144 to 0.89410, saving model to ./drive/MyDrive/MSc Thesis/Experiments/models/LSTM_1d_freq_exp2_local_info_v2.h5\n",
      "288/288 [==============================] - 97s 337ms/step - loss: 0.1704 - accuracy: 0.9270 - val_loss: 0.2346 - val_accuracy: 0.8941\n",
      "Epoch 20/200\n",
      "288/288 [==============================] - ETA: 0s - loss: 0.1654 - accuracy: 0.9297\n",
      "Epoch 20: val_accuracy improved from 0.89410 to 0.89979, saving model to ./drive/MyDrive/MSc Thesis/Experiments/models/LSTM_1d_freq_exp2_local_info_v2.h5\n",
      "288/288 [==============================] - 97s 337ms/step - loss: 0.1654 - accuracy: 0.9297 - val_loss: 0.2302 - val_accuracy: 0.8998\n",
      "Epoch 21/200\n",
      "288/288 [==============================] - ETA: 0s - loss: 0.1664 - accuracy: 0.9286\n",
      "Epoch 21: val_accuracy did not improve from 0.89979\n",
      "288/288 [==============================] - 97s 336ms/step - loss: 0.1664 - accuracy: 0.9286 - val_loss: 0.2461 - val_accuracy: 0.8927\n",
      "Epoch 22/200\n",
      "288/288 [==============================] - ETA: 0s - loss: 0.1672 - accuracy: 0.9273\n",
      "Epoch 22: val_accuracy improved from 0.89979 to 0.90014, saving model to ./drive/MyDrive/MSc Thesis/Experiments/models/LSTM_1d_freq_exp2_local_info_v2.h5\n",
      "288/288 [==============================] - 97s 335ms/step - loss: 0.1672 - accuracy: 0.9273 - val_loss: 0.2178 - val_accuracy: 0.9001\n",
      "Epoch 23/200\n",
      "288/288 [==============================] - ETA: 0s - loss: 0.1560 - accuracy: 0.9328\n",
      "Epoch 23: val_accuracy did not improve from 0.90014\n",
      "288/288 [==============================] - 95s 331ms/step - loss: 0.1560 - accuracy: 0.9328 - val_loss: 0.2440 - val_accuracy: 0.8932\n",
      "Epoch 24/200\n",
      "288/288 [==============================] - ETA: 0s - loss: 0.1667 - accuracy: 0.9296\n",
      "Epoch 24: val_accuracy improved from 0.90014 to 0.90370, saving model to ./drive/MyDrive/MSc Thesis/Experiments/models/LSTM_1d_freq_exp2_local_info_v2.h5\n",
      "288/288 [==============================] - 97s 335ms/step - loss: 0.1667 - accuracy: 0.9296 - val_loss: 0.2183 - val_accuracy: 0.9037\n",
      "Epoch 25/200\n",
      "288/288 [==============================] - ETA: 0s - loss: 0.1551 - accuracy: 0.9318\n",
      "Epoch 25: val_accuracy did not improve from 0.90370\n",
      "288/288 [==============================] - 96s 334ms/step - loss: 0.1551 - accuracy: 0.9318 - val_loss: 0.2277 - val_accuracy: 0.9007\n",
      "Epoch 26/200\n",
      "288/288 [==============================] - ETA: 0s - loss: 0.1631 - accuracy: 0.9306\n",
      "Epoch 26: val_accuracy did not improve from 0.90370\n",
      "288/288 [==============================] - 97s 335ms/step - loss: 0.1631 - accuracy: 0.9306 - val_loss: 0.2427 - val_accuracy: 0.8996\n",
      "Epoch 27/200\n",
      "288/288 [==============================] - ETA: 0s - loss: 0.1501 - accuracy: 0.9367\n",
      "Epoch 27: val_accuracy did not improve from 0.90370\n",
      "288/288 [==============================] - 97s 336ms/step - loss: 0.1501 - accuracy: 0.9367 - val_loss: 0.2252 - val_accuracy: 0.8980\n",
      "Epoch 28/200\n",
      "288/288 [==============================] - ETA: 0s - loss: 0.1607 - accuracy: 0.9324\n",
      "Epoch 28: val_accuracy did not improve from 0.90370\n",
      "288/288 [==============================] - 96s 333ms/step - loss: 0.1607 - accuracy: 0.9324 - val_loss: 0.3009 - val_accuracy: 0.8618\n",
      "Epoch 29/200\n",
      "288/288 [==============================] - ETA: 0s - loss: 0.1440 - accuracy: 0.9395\n",
      "Epoch 29: val_accuracy did not improve from 0.90370\n",
      "288/288 [==============================] - 95s 330ms/step - loss: 0.1440 - accuracy: 0.9395 - val_loss: 0.2442 - val_accuracy: 0.8920\n",
      "Epoch 30/200\n",
      "288/288 [==============================] - ETA: 0s - loss: 0.1530 - accuracy: 0.9359\n",
      "Epoch 30: val_accuracy did not improve from 0.90370\n",
      "288/288 [==============================] - 96s 335ms/step - loss: 0.1530 - accuracy: 0.9359 - val_loss: 0.2520 - val_accuracy: 0.8900\n",
      "Epoch 31/200\n",
      "288/288 [==============================] - ETA: 0s - loss: 0.1428 - accuracy: 0.9394\n",
      "Epoch 31: val_accuracy did not improve from 0.90370\n",
      "288/288 [==============================] - 96s 335ms/step - loss: 0.1428 - accuracy: 0.9394 - val_loss: 0.2504 - val_accuracy: 0.8973\n",
      "Epoch 32/200\n",
      "288/288 [==============================] - ETA: 0s - loss: 0.1421 - accuracy: 0.9405\n",
      "Epoch 32: val_accuracy improved from 0.90370 to 0.90529, saving model to ./drive/MyDrive/MSc Thesis/Experiments/models/LSTM_1d_freq_exp2_local_info_v2.h5\n",
      "288/288 [==============================] - 97s 337ms/step - loss: 0.1421 - accuracy: 0.9405 - val_loss: 0.2406 - val_accuracy: 0.9053\n",
      "Epoch 33/200\n",
      "288/288 [==============================] - ETA: 0s - loss: 0.1332 - accuracy: 0.9432\n",
      "Epoch 33: val_accuracy improved from 0.90529 to 0.90707, saving model to ./drive/MyDrive/MSc Thesis/Experiments/models/LSTM_1d_freq_exp2_local_info_v2.h5\n",
      "288/288 [==============================] - 95s 330ms/step - loss: 0.1332 - accuracy: 0.9432 - val_loss: 0.2081 - val_accuracy: 0.9071\n",
      "Epoch 34/200\n",
      "288/288 [==============================] - ETA: 0s - loss: 0.1398 - accuracy: 0.9433\n",
      "Epoch 34: val_accuracy did not improve from 0.90707\n",
      "288/288 [==============================] - 97s 336ms/step - loss: 0.1398 - accuracy: 0.9433 - val_loss: 0.2233 - val_accuracy: 0.9026\n",
      "Epoch 35/200\n",
      "288/288 [==============================] - ETA: 0s - loss: 0.1222 - accuracy: 0.9516\n",
      "Epoch 35: val_accuracy did not improve from 0.90707\n",
      "288/288 [==============================] - 96s 334ms/step - loss: 0.1222 - accuracy: 0.9516 - val_loss: 0.2234 - val_accuracy: 0.9071\n",
      "Epoch 36/200\n",
      "288/288 [==============================] - ETA: 0s - loss: 0.1343 - accuracy: 0.9442\n",
      "Epoch 36: val_accuracy improved from 0.90707 to 0.90991, saving model to ./drive/MyDrive/MSc Thesis/Experiments/models/LSTM_1d_freq_exp2_local_info_v2.h5\n",
      "288/288 [==============================] - 97s 337ms/step - loss: 0.1343 - accuracy: 0.9442 - val_loss: 0.2070 - val_accuracy: 0.9099\n",
      "Epoch 37/200\n",
      "288/288 [==============================] - ETA: 0s - loss: 0.1258 - accuracy: 0.9473\n",
      "Epoch 37: val_accuracy did not improve from 0.90991\n",
      "288/288 [==============================] - 96s 335ms/step - loss: 0.1258 - accuracy: 0.9473 - val_loss: 0.2386 - val_accuracy: 0.8918\n",
      "Epoch 38/200\n",
      "288/288 [==============================] - ETA: 0s - loss: 0.1276 - accuracy: 0.9477\n",
      "Epoch 38: val_accuracy did not improve from 0.90991\n",
      "288/288 [==============================] - 95s 331ms/step - loss: 0.1276 - accuracy: 0.9477 - val_loss: 0.2655 - val_accuracy: 0.8955\n",
      "Epoch 39/200\n",
      "288/288 [==============================] - ETA: 0s - loss: 0.1222 - accuracy: 0.9502\n",
      "Epoch 39: val_accuracy did not improve from 0.90991\n",
      "288/288 [==============================] - 96s 334ms/step - loss: 0.1222 - accuracy: 0.9502 - val_loss: 0.2142 - val_accuracy: 0.9065\n",
      "Epoch 40/200\n",
      "288/288 [==============================] - ETA: 0s - loss: 0.1161 - accuracy: 0.9527\n",
      "Epoch 40: val_accuracy did not improve from 0.90991\n",
      "288/288 [==============================] - 97s 336ms/step - loss: 0.1161 - accuracy: 0.9527 - val_loss: 0.2489 - val_accuracy: 0.9033\n",
      "Epoch 41/200\n",
      "288/288 [==============================] - ETA: 0s - loss: 0.1247 - accuracy: 0.9493\n",
      "Epoch 41: val_accuracy did not improve from 0.90991\n",
      "288/288 [==============================] - 97s 336ms/step - loss: 0.1247 - accuracy: 0.9493 - val_loss: 0.2685 - val_accuracy: 0.8859\n",
      "Epoch 42/200\n",
      "288/288 [==============================] - ETA: 0s - loss: 0.1212 - accuracy: 0.9506\n",
      "Epoch 42: val_accuracy did not improve from 0.90991\n",
      "288/288 [==============================] - 95s 331ms/step - loss: 0.1212 - accuracy: 0.9506 - val_loss: 0.2252 - val_accuracy: 0.9078\n",
      "Epoch 43/200\n",
      "288/288 [==============================] - ETA: 0s - loss: 0.1207 - accuracy: 0.9512\n",
      "Epoch 43: val_accuracy did not improve from 0.90991\n",
      "288/288 [==============================] - 96s 334ms/step - loss: 0.1207 - accuracy: 0.9512 - val_loss: 0.2282 - val_accuracy: 0.9069\n",
      "Epoch 44/200\n",
      "288/288 [==============================] - ETA: 0s - loss: 0.1142 - accuracy: 0.9542\n",
      "Epoch 44: val_accuracy did not improve from 0.90991\n",
      "288/288 [==============================] - 96s 335ms/step - loss: 0.1142 - accuracy: 0.9542 - val_loss: 0.2447 - val_accuracy: 0.9046\n",
      "Epoch 45/200\n",
      "288/288 [==============================] - ETA: 0s - loss: 0.1098 - accuracy: 0.9562\n",
      "Epoch 45: val_accuracy did not improve from 0.90991\n",
      "288/288 [==============================] - 96s 334ms/step - loss: 0.1098 - accuracy: 0.9562 - val_loss: 0.3407 - val_accuracy: 0.8671\n",
      "Epoch 46/200\n",
      "288/288 [==============================] - ETA: 0s - loss: 0.1077 - accuracy: 0.9573\n",
      "Epoch 46: val_accuracy did not improve from 0.90991\n",
      "288/288 [==============================] - 95s 331ms/step - loss: 0.1077 - accuracy: 0.9573 - val_loss: 0.2451 - val_accuracy: 0.9099\n",
      "Epoch 47/200\n",
      "288/288 [==============================] - ETA: 0s - loss: 0.1134 - accuracy: 0.9561\n",
      "Epoch 47: val_accuracy improved from 0.90991 to 0.91613, saving model to ./drive/MyDrive/MSc Thesis/Experiments/models/LSTM_1d_freq_exp2_local_info_v2.h5\n",
      "288/288 [==============================] - 97s 335ms/step - loss: 0.1134 - accuracy: 0.9561 - val_loss: 0.2118 - val_accuracy: 0.9161\n",
      "Epoch 48/200\n",
      "288/288 [==============================] - ETA: 0s - loss: 0.1014 - accuracy: 0.9593\n",
      "Epoch 48: val_accuracy did not improve from 0.91613\n",
      "288/288 [==============================] - 96s 335ms/step - loss: 0.1014 - accuracy: 0.9593 - val_loss: 0.2220 - val_accuracy: 0.9110\n",
      "Epoch 49/200\n",
      "288/288 [==============================] - ETA: 0s - loss: 0.0923 - accuracy: 0.9641\n",
      "Epoch 49: val_accuracy improved from 0.91613 to 0.91986, saving model to ./drive/MyDrive/MSc Thesis/Experiments/models/LSTM_1d_freq_exp2_local_info_v2.h5\n",
      "288/288 [==============================] - 97s 337ms/step - loss: 0.0923 - accuracy: 0.9641 - val_loss: 0.2332 - val_accuracy: 0.9199\n",
      "Epoch 50/200\n",
      "288/288 [==============================] - ETA: 0s - loss: 0.0998 - accuracy: 0.9619\n",
      "Epoch 50: val_accuracy did not improve from 0.91986\n",
      "288/288 [==============================] - 95s 331ms/step - loss: 0.0998 - accuracy: 0.9619 - val_loss: 0.2174 - val_accuracy: 0.9142\n",
      "Epoch 51/200\n",
      "288/288 [==============================] - ETA: 0s - loss: 0.0972 - accuracy: 0.9596\n",
      "Epoch 51: val_accuracy did not improve from 0.91986\n",
      "288/288 [==============================] - 97s 336ms/step - loss: 0.0972 - accuracy: 0.9596 - val_loss: 0.2955 - val_accuracy: 0.8866\n",
      "Epoch 52/200\n",
      "288/288 [==============================] - ETA: 0s - loss: 0.1035 - accuracy: 0.9583\n",
      "Epoch 52: val_accuracy did not improve from 0.91986\n",
      "288/288 [==============================] - 96s 335ms/step - loss: 0.1035 - accuracy: 0.9583 - val_loss: 0.2272 - val_accuracy: 0.9170\n",
      "Epoch 53/200\n",
      "288/288 [==============================] - ETA: 0s - loss: 0.0946 - accuracy: 0.9622\n",
      "Epoch 53: val_accuracy did not improve from 0.91986\n",
      "288/288 [==============================] - 96s 333ms/step - loss: 0.0946 - accuracy: 0.9622 - val_loss: 0.3004 - val_accuracy: 0.8913\n",
      "Epoch 54/200\n",
      "288/288 [==============================] - ETA: 0s - loss: 0.0922 - accuracy: 0.9640\n",
      "Epoch 54: val_accuracy did not improve from 0.91986\n",
      "288/288 [==============================] - 95s 329ms/step - loss: 0.0922 - accuracy: 0.9640 - val_loss: 0.2542 - val_accuracy: 0.9058\n",
      "Epoch 55/200\n",
      "288/288 [==============================] - ETA: 0s - loss: 0.0921 - accuracy: 0.9642\n",
      "Epoch 55: val_accuracy did not improve from 0.91986\n",
      "288/288 [==============================] - 97s 335ms/step - loss: 0.0921 - accuracy: 0.9642 - val_loss: 0.2229 - val_accuracy: 0.9161\n",
      "Epoch 56/200\n",
      "288/288 [==============================] - ETA: 0s - loss: 0.0977 - accuracy: 0.9614\n",
      "Epoch 56: val_accuracy did not improve from 0.91986\n",
      "288/288 [==============================] - 96s 335ms/step - loss: 0.0977 - accuracy: 0.9614 - val_loss: 0.2209 - val_accuracy: 0.9060\n",
      "Epoch 57/200\n",
      "288/288 [==============================] - ETA: 0s - loss: 0.0797 - accuracy: 0.9685\n",
      "Epoch 57: val_accuracy did not improve from 0.91986\n",
      "288/288 [==============================] - 97s 336ms/step - loss: 0.0797 - accuracy: 0.9685 - val_loss: 0.2222 - val_accuracy: 0.9195\n",
      "Epoch 58/200\n",
      "288/288 [==============================] - ETA: 0s - loss: 0.0812 - accuracy: 0.9694\n",
      "Epoch 58: val_accuracy did not improve from 0.91986\n",
      "288/288 [==============================] - 95s 330ms/step - loss: 0.0812 - accuracy: 0.9694 - val_loss: 0.2585 - val_accuracy: 0.9021\n",
      "Epoch 59/200\n",
      "288/288 [==============================] - ETA: 0s - loss: 0.0860 - accuracy: 0.9679\n",
      "Epoch 59: val_accuracy did not improve from 0.91986\n",
      "288/288 [==============================] - 97s 336ms/step - loss: 0.0860 - accuracy: 0.9679 - val_loss: 0.2538 - val_accuracy: 0.9145\n",
      "Epoch 60/200\n",
      "288/288 [==============================] - ETA: 0s - loss: 0.0845 - accuracy: 0.9681\n",
      "Epoch 60: val_accuracy did not improve from 0.91986\n",
      "288/288 [==============================] - 96s 334ms/step - loss: 0.0845 - accuracy: 0.9681 - val_loss: 0.2241 - val_accuracy: 0.9188\n",
      "Epoch 61/200\n",
      "288/288 [==============================] - ETA: 0s - loss: 0.0796 - accuracy: 0.9716\n",
      "Epoch 61: val_accuracy improved from 0.91986 to 0.92502, saving model to ./drive/MyDrive/MSc Thesis/Experiments/models/LSTM_1d_freq_exp2_local_info_v2.h5\n",
      "288/288 [==============================] - 97s 337ms/step - loss: 0.0796 - accuracy: 0.9716 - val_loss: 0.1969 - val_accuracy: 0.9250\n",
      "Epoch 62/200\n",
      "288/288 [==============================] - ETA: 0s - loss: 0.0782 - accuracy: 0.9701\n",
      "Epoch 62: val_accuracy did not improve from 0.92502\n",
      "288/288 [==============================] - 95s 330ms/step - loss: 0.0782 - accuracy: 0.9701 - val_loss: 0.2223 - val_accuracy: 0.9170\n",
      "Epoch 63/200\n",
      "288/288 [==============================] - ETA: 0s - loss: 0.0738 - accuracy: 0.9716\n",
      "Epoch 63: val_accuracy did not improve from 0.92502\n",
      "288/288 [==============================] - 96s 335ms/step - loss: 0.0738 - accuracy: 0.9716 - val_loss: 0.2798 - val_accuracy: 0.9094\n",
      "Epoch 64/200\n",
      "288/288 [==============================] - ETA: 0s - loss: 0.0816 - accuracy: 0.9688\n",
      "Epoch 64: val_accuracy did not improve from 0.92502\n",
      "288/288 [==============================] - 96s 334ms/step - loss: 0.0816 - accuracy: 0.9688 - val_loss: 0.3039 - val_accuracy: 0.8994\n",
      "Epoch 65/200\n",
      "288/288 [==============================] - ETA: 0s - loss: 0.0717 - accuracy: 0.9736\n",
      "Epoch 65: val_accuracy did not improve from 0.92502\n",
      "288/288 [==============================] - 97s 335ms/step - loss: 0.0717 - accuracy: 0.9736 - val_loss: 0.2324 - val_accuracy: 0.9122\n",
      "Epoch 66/200\n",
      "288/288 [==============================] - ETA: 0s - loss: 0.0808 - accuracy: 0.9710\n",
      "Epoch 66: val_accuracy did not improve from 0.92502\n",
      "288/288 [==============================] - 95s 328ms/step - loss: 0.0808 - accuracy: 0.9710 - val_loss: 0.2584 - val_accuracy: 0.9165\n",
      "Epoch 67/200\n",
      "288/288 [==============================] - ETA: 0s - loss: 0.0687 - accuracy: 0.9737\n",
      "Epoch 67: val_accuracy did not improve from 0.92502\n",
      "288/288 [==============================] - 97s 336ms/step - loss: 0.0687 - accuracy: 0.9737 - val_loss: 0.2249 - val_accuracy: 0.9154\n",
      "Epoch 68/200\n",
      "288/288 [==============================] - ETA: 0s - loss: 0.0789 - accuracy: 0.9713\n",
      "Epoch 68: val_accuracy did not improve from 0.92502\n",
      "288/288 [==============================] - 96s 335ms/step - loss: 0.0789 - accuracy: 0.9713 - val_loss: 0.2978 - val_accuracy: 0.9048\n",
      "Epoch 69/200\n",
      "288/288 [==============================] - ETA: 0s - loss: 0.0595 - accuracy: 0.9773\n",
      "Epoch 69: val_accuracy did not improve from 0.92502\n",
      "288/288 [==============================] - 96s 334ms/step - loss: 0.0595 - accuracy: 0.9773 - val_loss: 0.2477 - val_accuracy: 0.9216\n",
      "Epoch 70/200\n",
      "288/288 [==============================] - ETA: 0s - loss: 0.0765 - accuracy: 0.9710\n",
      "Epoch 70: val_accuracy did not improve from 0.92502\n",
      "288/288 [==============================] - 95s 330ms/step - loss: 0.0765 - accuracy: 0.9710 - val_loss: 0.2294 - val_accuracy: 0.9188\n",
      "Epoch 71/200\n",
      "288/288 [==============================] - ETA: 0s - loss: 0.0680 - accuracy: 0.9747\n",
      "Epoch 71: val_accuracy did not improve from 0.92502\n",
      "288/288 [==============================] - 97s 336ms/step - loss: 0.0680 - accuracy: 0.9747 - val_loss: 0.2241 - val_accuracy: 0.9152\n",
      "Epoch 72/200\n",
      "288/288 [==============================] - ETA: 0s - loss: 0.0597 - accuracy: 0.9773\n",
      "Epoch 72: val_accuracy improved from 0.92502 to 0.93301, saving model to ./drive/MyDrive/MSc Thesis/Experiments/models/LSTM_1d_freq_exp2_local_info_v2.h5\n",
      "288/288 [==============================] - 97s 337ms/step - loss: 0.0597 - accuracy: 0.9773 - val_loss: 0.2122 - val_accuracy: 0.9330\n",
      "Epoch 73/200\n",
      "288/288 [==============================] - ETA: 0s - loss: 0.0553 - accuracy: 0.9787\n",
      "Epoch 73: val_accuracy did not improve from 0.93301\n",
      "288/288 [==============================] - 95s 330ms/step - loss: 0.0553 - accuracy: 0.9787 - val_loss: 0.2363 - val_accuracy: 0.9218\n",
      "Epoch 74/200\n",
      "288/288 [==============================] - ETA: 0s - loss: 0.0746 - accuracy: 0.9714\n",
      "Epoch 74: val_accuracy did not improve from 0.93301\n",
      "288/288 [==============================] - 97s 335ms/step - loss: 0.0746 - accuracy: 0.9714 - val_loss: 0.2401 - val_accuracy: 0.9218\n",
      "Epoch 75/200\n",
      "288/288 [==============================] - ETA: 0s - loss: 0.0756 - accuracy: 0.9725\n",
      "Epoch 75: val_accuracy did not improve from 0.93301\n",
      "288/288 [==============================] - 97s 335ms/step - loss: 0.0756 - accuracy: 0.9725 - val_loss: 0.2486 - val_accuracy: 0.9199\n",
      "Epoch 76/200\n",
      "288/288 [==============================] - ETA: 0s - loss: 0.0607 - accuracy: 0.9780\n",
      "Epoch 76: val_accuracy did not improve from 0.93301\n",
      "288/288 [==============================] - 96s 334ms/step - loss: 0.0607 - accuracy: 0.9780 - val_loss: 0.2215 - val_accuracy: 0.9229\n",
      "Epoch 77/200\n",
      "288/288 [==============================] - ETA: 0s - loss: 0.0668 - accuracy: 0.9752\n",
      "Epoch 77: val_accuracy did not improve from 0.93301\n",
      "288/288 [==============================] - 95s 330ms/step - loss: 0.0668 - accuracy: 0.9752 - val_loss: 0.2254 - val_accuracy: 0.9293\n",
      "Epoch 78/200\n",
      "288/288 [==============================] - ETA: 0s - loss: 0.0499 - accuracy: 0.9818\n",
      "Epoch 78: val_accuracy did not improve from 0.93301\n",
      "288/288 [==============================] - 97s 336ms/step - loss: 0.0499 - accuracy: 0.9818 - val_loss: 0.2791 - val_accuracy: 0.9163\n",
      "Epoch 79/200\n",
      "288/288 [==============================] - ETA: 0s - loss: 0.0532 - accuracy: 0.9796\n",
      "Epoch 79: val_accuracy did not improve from 0.93301\n",
      "288/288 [==============================] - 96s 334ms/step - loss: 0.0532 - accuracy: 0.9796 - val_loss: 0.2339 - val_accuracy: 0.9261\n",
      "Epoch 80/200\n",
      "288/288 [==============================] - ETA: 0s - loss: 0.0597 - accuracy: 0.9787\n",
      "Epoch 80: val_accuracy did not improve from 0.93301\n",
      "288/288 [==============================] - 96s 334ms/step - loss: 0.0597 - accuracy: 0.9787 - val_loss: 0.2127 - val_accuracy: 0.9302\n",
      "Epoch 81/200\n",
      "288/288 [==============================] - ETA: 0s - loss: 0.0664 - accuracy: 0.9750\n",
      "Epoch 81: val_accuracy did not improve from 0.93301\n",
      "288/288 [==============================] - 96s 331ms/step - loss: 0.0664 - accuracy: 0.9750 - val_loss: 0.2070 - val_accuracy: 0.9224\n",
      "Epoch 82/200\n",
      "288/288 [==============================] - ETA: 0s - loss: 0.0519 - accuracy: 0.9814\n",
      "Epoch 82: val_accuracy did not improve from 0.93301\n",
      "288/288 [==============================] - 96s 335ms/step - loss: 0.0519 - accuracy: 0.9814 - val_loss: 0.2454 - val_accuracy: 0.9216\n",
      "Epoch 83/200\n",
      "288/288 [==============================] - ETA: 0s - loss: 0.0571 - accuracy: 0.9783\n",
      "Epoch 83: val_accuracy improved from 0.93301 to 0.93497, saving model to ./drive/MyDrive/MSc Thesis/Experiments/models/LSTM_1d_freq_exp2_local_info_v2.h5\n",
      "288/288 [==============================] - 97s 338ms/step - loss: 0.0571 - accuracy: 0.9783 - val_loss: 0.1885 - val_accuracy: 0.9350\n",
      "Epoch 84/200\n",
      "288/288 [==============================] - ETA: 0s - loss: 0.0403 - accuracy: 0.9853\n",
      "Epoch 84: val_accuracy did not improve from 0.93497\n",
      "288/288 [==============================] - 95s 332ms/step - loss: 0.0403 - accuracy: 0.9853 - val_loss: 0.2969 - val_accuracy: 0.9126\n",
      "Epoch 85/200\n",
      "288/288 [==============================] - ETA: 0s - loss: 0.0488 - accuracy: 0.9824\n",
      "Epoch 85: val_accuracy did not improve from 0.93497\n",
      "288/288 [==============================] - 97s 335ms/step - loss: 0.0488 - accuracy: 0.9824 - val_loss: 0.2690 - val_accuracy: 0.9211\n",
      "Epoch 86/200\n",
      "288/288 [==============================] - ETA: 0s - loss: 0.0756 - accuracy: 0.9730\n",
      "Epoch 86: val_accuracy did not improve from 0.93497\n",
      "288/288 [==============================] - 97s 338ms/step - loss: 0.0756 - accuracy: 0.9730 - val_loss: 0.2129 - val_accuracy: 0.9303\n",
      "Epoch 87/200\n",
      "288/288 [==============================] - ETA: 0s - loss: 0.0400 - accuracy: 0.9850\n",
      "Epoch 87: val_accuracy did not improve from 0.93497\n",
      "288/288 [==============================] - 96s 335ms/step - loss: 0.0400 - accuracy: 0.9850 - val_loss: 0.2430 - val_accuracy: 0.9268\n",
      "Epoch 88/200\n",
      "288/288 [==============================] - ETA: 0s - loss: 0.0500 - accuracy: 0.9814\n",
      "Epoch 88: val_accuracy did not improve from 0.93497\n",
      "288/288 [==============================] - 95s 332ms/step - loss: 0.0500 - accuracy: 0.9814 - val_loss: 0.2463 - val_accuracy: 0.9229\n",
      "Epoch 89/200\n",
      "288/288 [==============================] - ETA: 0s - loss: 0.0539 - accuracy: 0.9805\n",
      "Epoch 89: val_accuracy did not improve from 0.93497\n",
      "288/288 [==============================] - 97s 338ms/step - loss: 0.0539 - accuracy: 0.9805 - val_loss: 0.2186 - val_accuracy: 0.9268\n",
      "Epoch 90/200\n",
      "288/288 [==============================] - ETA: 0s - loss: 0.0434 - accuracy: 0.9847\n",
      "Epoch 90: val_accuracy did not improve from 0.93497\n",
      "288/288 [==============================] - 97s 337ms/step - loss: 0.0434 - accuracy: 0.9847 - val_loss: 0.3292 - val_accuracy: 0.9131\n",
      "Epoch 91/200\n",
      "288/288 [==============================] - ETA: 0s - loss: 0.0639 - accuracy: 0.9776\n",
      "Epoch 91: val_accuracy did not improve from 0.93497\n",
      "288/288 [==============================] - 97s 336ms/step - loss: 0.0639 - accuracy: 0.9776 - val_loss: 0.2779 - val_accuracy: 0.9238\n",
      "Epoch 92/200\n",
      "288/288 [==============================] - ETA: 0s - loss: 0.0485 - accuracy: 0.9822\n",
      "Epoch 92: val_accuracy did not improve from 0.93497\n",
      "288/288 [==============================] - 95s 331ms/step - loss: 0.0485 - accuracy: 0.9822 - val_loss: 0.2188 - val_accuracy: 0.9264\n",
      "Epoch 93/200\n",
      "288/288 [==============================] - ETA: 0s - loss: 0.0465 - accuracy: 0.9823\n",
      "Epoch 93: val_accuracy did not improve from 0.93497\n",
      "288/288 [==============================] - 97s 338ms/step - loss: 0.0465 - accuracy: 0.9823 - val_loss: 0.2530 - val_accuracy: 0.9158\n",
      "Epoch 94/200\n",
      "288/288 [==============================] - ETA: 0s - loss: 0.0368 - accuracy: 0.9868\n",
      "Epoch 94: val_accuracy did not improve from 0.93497\n",
      "288/288 [==============================] - 97s 337ms/step - loss: 0.0368 - accuracy: 0.9868 - val_loss: 0.2488 - val_accuracy: 0.9266\n",
      "Epoch 95/200\n",
      "288/288 [==============================] - ETA: 0s - loss: 0.0570 - accuracy: 0.9795\n",
      "Epoch 95: val_accuracy did not improve from 0.93497\n",
      "288/288 [==============================] - 96s 332ms/step - loss: 0.0570 - accuracy: 0.9795 - val_loss: 0.2758 - val_accuracy: 0.9279\n",
      "Epoch 96/200\n",
      "288/288 [==============================] - ETA: 0s - loss: 0.0397 - accuracy: 0.9862\n",
      "Epoch 96: val_accuracy did not improve from 0.93497\n",
      "288/288 [==============================] - 97s 336ms/step - loss: 0.0397 - accuracy: 0.9862 - val_loss: 0.2453 - val_accuracy: 0.9316\n",
      "Epoch 97/200\n",
      "288/288 [==============================] - ETA: 0s - loss: 0.0425 - accuracy: 0.9833\n",
      "Epoch 97: val_accuracy improved from 0.93497 to 0.93532, saving model to ./drive/MyDrive/MSc Thesis/Experiments/models/LSTM_1d_freq_exp2_local_info_v2.h5\n",
      "288/288 [==============================] - 97s 338ms/step - loss: 0.0425 - accuracy: 0.9833 - val_loss: 0.2123 - val_accuracy: 0.9353\n",
      "Epoch 98/200\n",
      "288/288 [==============================] - ETA: 0s - loss: 0.0450 - accuracy: 0.9831\n",
      "Epoch 98: val_accuracy did not improve from 0.93532\n",
      "288/288 [==============================] - 97s 338ms/step - loss: 0.0450 - accuracy: 0.9831 - val_loss: 0.2341 - val_accuracy: 0.9312\n",
      "Epoch 99/200\n",
      "288/288 [==============================] - ETA: 0s - loss: 0.0493 - accuracy: 0.9815\n",
      "Epoch 99: val_accuracy did not improve from 0.93532\n",
      "288/288 [==============================] - 96s 333ms/step - loss: 0.0493 - accuracy: 0.9815 - val_loss: 0.2093 - val_accuracy: 0.9346\n",
      "Epoch 100/200\n",
      "288/288 [==============================] - ETA: 0s - loss: 0.0387 - accuracy: 0.9862\n",
      "Epoch 100: val_accuracy did not improve from 0.93532\n",
      "288/288 [==============================] - 97s 336ms/step - loss: 0.0387 - accuracy: 0.9862 - val_loss: 0.2638 - val_accuracy: 0.9215\n",
      "Epoch 101/200\n",
      "288/288 [==============================] - ETA: 0s - loss: 0.0437 - accuracy: 0.9842\n",
      "Epoch 101: val_accuracy did not improve from 0.93532\n",
      "288/288 [==============================] - 97s 336ms/step - loss: 0.0437 - accuracy: 0.9842 - val_loss: 0.2643 - val_accuracy: 0.9257\n",
      "Epoch 102/200\n",
      "288/288 [==============================] - ETA: 0s - loss: 0.0346 - accuracy: 0.9875\n",
      "Epoch 102: val_accuracy did not improve from 0.93532\n",
      "288/288 [==============================] - 97s 336ms/step - loss: 0.0346 - accuracy: 0.9875 - val_loss: 0.3222 - val_accuracy: 0.9213\n",
      "Epoch 103/200\n",
      "288/288 [==============================] - ETA: 0s - loss: 0.0628 - accuracy: 0.9786\n",
      "Epoch 103: val_accuracy did not improve from 0.93532\n",
      "288/288 [==============================] - 96s 333ms/step - loss: 0.0628 - accuracy: 0.9786 - val_loss: 0.2245 - val_accuracy: 0.9298\n",
      "Epoch 104/200\n",
      "288/288 [==============================] - ETA: 0s - loss: 0.0416 - accuracy: 0.9850\n",
      "Epoch 104: val_accuracy improved from 0.93532 to 0.93674, saving model to ./drive/MyDrive/MSc Thesis/Experiments/models/LSTM_1d_freq_exp2_local_info_v2.h5\n",
      "288/288 [==============================] - 98s 339ms/step - loss: 0.0416 - accuracy: 0.9850 - val_loss: 0.2298 - val_accuracy: 0.9367\n",
      "Epoch 105/200\n",
      "288/288 [==============================] - ETA: 0s - loss: 0.0652 - accuracy: 0.9770\n",
      "Epoch 105: val_accuracy did not improve from 0.93674\n",
      "288/288 [==============================] - 97s 338ms/step - loss: 0.0652 - accuracy: 0.9770 - val_loss: 0.2304 - val_accuracy: 0.9243\n",
      "Epoch 106/200\n",
      "288/288 [==============================] - ETA: 0s - loss: 0.0558 - accuracy: 0.9808\n",
      "Epoch 106: val_accuracy did not improve from 0.93674\n",
      "288/288 [==============================] - 95s 331ms/step - loss: 0.0558 - accuracy: 0.9808 - val_loss: 0.1827 - val_accuracy: 0.9364\n",
      "Epoch 107/200\n",
      "288/288 [==============================] - ETA: 0s - loss: 0.0346 - accuracy: 0.9877\n",
      "Epoch 107: val_accuracy did not improve from 0.93674\n",
      "288/288 [==============================] - 97s 336ms/step - loss: 0.0346 - accuracy: 0.9877 - val_loss: 0.2781 - val_accuracy: 0.9236\n",
      "Epoch 108/200\n",
      "288/288 [==============================] - ETA: 0s - loss: 0.0339 - accuracy: 0.9874\n",
      "Epoch 108: val_accuracy did not improve from 0.93674\n",
      "288/288 [==============================] - 97s 336ms/step - loss: 0.0339 - accuracy: 0.9874 - val_loss: 0.2895 - val_accuracy: 0.9280\n",
      "Epoch 109/200\n",
      "288/288 [==============================] - ETA: 0s - loss: 0.0444 - accuracy: 0.9831\n",
      "Epoch 109: val_accuracy did not improve from 0.93674\n",
      "288/288 [==============================] - 97s 336ms/step - loss: 0.0444 - accuracy: 0.9831 - val_loss: 0.2301 - val_accuracy: 0.9314\n",
      "Epoch 110/200\n",
      "288/288 [==============================] - ETA: 0s - loss: 0.0503 - accuracy: 0.9832\n",
      "Epoch 110: val_accuracy did not improve from 0.93674\n",
      "288/288 [==============================] - 95s 332ms/step - loss: 0.0503 - accuracy: 0.9832 - val_loss: 0.3128 - val_accuracy: 0.9026\n",
      "Epoch 111/200\n",
      "288/288 [==============================] - ETA: 0s - loss: 0.0379 - accuracy: 0.9864\n",
      "Epoch 111: val_accuracy did not improve from 0.93674\n",
      "288/288 [==============================] - 97s 337ms/step - loss: 0.0379 - accuracy: 0.9864 - val_loss: 0.2431 - val_accuracy: 0.9343\n",
      "Epoch 112/200\n",
      "288/288 [==============================] - ETA: 0s - loss: 0.0488 - accuracy: 0.9817\n",
      "Epoch 112: val_accuracy did not improve from 0.93674\n",
      "288/288 [==============================] - 98s 339ms/step - loss: 0.0488 - accuracy: 0.9817 - val_loss: 0.2103 - val_accuracy: 0.9367\n",
      "Epoch 113/200\n",
      "288/288 [==============================] - ETA: 0s - loss: 0.0356 - accuracy: 0.9871\n",
      "Epoch 113: val_accuracy did not improve from 0.93674\n",
      "288/288 [==============================] - 97s 336ms/step - loss: 0.0356 - accuracy: 0.9871 - val_loss: 0.3176 - val_accuracy: 0.9120\n",
      "Epoch 114/200\n",
      "288/288 [==============================] - ETA: 0s - loss: 0.0389 - accuracy: 0.9870\n",
      "Epoch 114: val_accuracy improved from 0.93674 to 0.93692, saving model to ./drive/MyDrive/MSc Thesis/Experiments/models/LSTM_1d_freq_exp2_local_info_v2.h5\n",
      "288/288 [==============================] - 96s 332ms/step - loss: 0.0389 - accuracy: 0.9870 - val_loss: 0.2177 - val_accuracy: 0.9369\n",
      "Epoch 115/200\n",
      "288/288 [==============================] - ETA: 0s - loss: 0.0212 - accuracy: 0.9926\n",
      "Epoch 115: val_accuracy did not improve from 0.93692\n",
      "288/288 [==============================] - 97s 337ms/step - loss: 0.0212 - accuracy: 0.9926 - val_loss: 0.2673 - val_accuracy: 0.9348\n",
      "Epoch 116/200\n",
      "288/288 [==============================] - ETA: 0s - loss: 0.0503 - accuracy: 0.9818\n",
      "Epoch 116: val_accuracy did not improve from 0.93692\n",
      "288/288 [==============================] - 96s 334ms/step - loss: 0.0503 - accuracy: 0.9818 - val_loss: 0.2120 - val_accuracy: 0.9369\n",
      "Epoch 117/200\n",
      "288/288 [==============================] - ETA: 0s - loss: 0.1338 - accuracy: 0.9463\n",
      "Epoch 117: val_accuracy did not improve from 0.93692\n",
      "288/288 [==============================] - 95s 329ms/step - loss: 0.1338 - accuracy: 0.9463 - val_loss: 0.2616 - val_accuracy: 0.8865\n",
      "Epoch 118/200\n",
      "288/288 [==============================] - ETA: 0s - loss: 0.1019 - accuracy: 0.9612\n",
      "Epoch 118: val_accuracy did not improve from 0.93692\n",
      "288/288 [==============================] - 96s 334ms/step - loss: 0.1019 - accuracy: 0.9612 - val_loss: 0.2201 - val_accuracy: 0.9296\n",
      "Epoch 119/200\n",
      "288/288 [==============================] - ETA: 0s - loss: 0.0418 - accuracy: 0.9852\n",
      "Epoch 119: val_accuracy did not improve from 0.93692\n",
      "288/288 [==============================] - 97s 336ms/step - loss: 0.0418 - accuracy: 0.9852 - val_loss: 0.2733 - val_accuracy: 0.9140\n",
      "Epoch 120/200\n",
      "288/288 [==============================] - ETA: 0s - loss: 0.0394 - accuracy: 0.9858\n",
      "Epoch 120: val_accuracy improved from 0.93692 to 0.94065, saving model to ./drive/MyDrive/MSc Thesis/Experiments/models/LSTM_1d_freq_exp2_local_info_v2.h5\n",
      "288/288 [==============================] - 97s 336ms/step - loss: 0.0394 - accuracy: 0.9858 - val_loss: 0.2148 - val_accuracy: 0.9407\n",
      "Epoch 121/200\n",
      "288/288 [==============================] - ETA: 0s - loss: 0.0298 - accuracy: 0.9896\n",
      "Epoch 121: val_accuracy did not improve from 0.94065\n",
      "288/288 [==============================] - 95s 329ms/step - loss: 0.0298 - accuracy: 0.9896 - val_loss: 0.3076 - val_accuracy: 0.9202\n",
      "Epoch 122/200\n",
      "288/288 [==============================] - ETA: 0s - loss: 0.0415 - accuracy: 0.9865\n",
      "Epoch 122: val_accuracy did not improve from 0.94065\n",
      "288/288 [==============================] - 96s 335ms/step - loss: 0.0415 - accuracy: 0.9865 - val_loss: 0.2716 - val_accuracy: 0.9277\n",
      "Epoch 123/200\n",
      "288/288 [==============================] - ETA: 0s - loss: 0.0316 - accuracy: 0.9889\n",
      "Epoch 123: val_accuracy did not improve from 0.94065\n",
      "288/288 [==============================] - 97s 336ms/step - loss: 0.0316 - accuracy: 0.9889 - val_loss: 0.2926 - val_accuracy: 0.9305\n",
      "Epoch 124/200\n",
      "288/288 [==============================] - ETA: 0s - loss: 0.0388 - accuracy: 0.9868\n",
      "Epoch 124: val_accuracy did not improve from 0.94065\n",
      "288/288 [==============================] - 96s 333ms/step - loss: 0.0388 - accuracy: 0.9868 - val_loss: 0.2584 - val_accuracy: 0.9328\n",
      "Epoch 125/200\n",
      "288/288 [==============================] - ETA: 0s - loss: 0.0336 - accuracy: 0.9884\n",
      "Epoch 125: val_accuracy did not improve from 0.94065\n",
      "288/288 [==============================] - 96s 332ms/step - loss: 0.0336 - accuracy: 0.9884 - val_loss: 0.2367 - val_accuracy: 0.9275\n",
      "Epoch 126/200\n",
      "288/288 [==============================] - ETA: 0s - loss: 0.0244 - accuracy: 0.9912\n",
      "Epoch 126: val_accuracy did not improve from 0.94065\n",
      "288/288 [==============================] - 97s 336ms/step - loss: 0.0244 - accuracy: 0.9912 - val_loss: 0.2533 - val_accuracy: 0.9360\n",
      "Epoch 127/200\n",
      "288/288 [==============================] - ETA: 0s - loss: 0.0273 - accuracy: 0.9902\n",
      "Epoch 127: val_accuracy did not improve from 0.94065\n",
      "288/288 [==============================] - 97s 337ms/step - loss: 0.0273 - accuracy: 0.9902 - val_loss: 0.2166 - val_accuracy: 0.9396\n",
      "Epoch 128/200\n",
      "288/288 [==============================] - ETA: 0s - loss: 0.0266 - accuracy: 0.9907\n",
      "Epoch 128: val_accuracy did not improve from 0.94065\n",
      "288/288 [==============================] - 95s 331ms/step - loss: 0.0266 - accuracy: 0.9907 - val_loss: 0.2336 - val_accuracy: 0.9380\n",
      "Epoch 129/200\n",
      "288/288 [==============================] - ETA: 0s - loss: 0.0447 - accuracy: 0.9851\n",
      "Epoch 129: val_accuracy did not improve from 0.94065\n",
      "288/288 [==============================] - 97s 338ms/step - loss: 0.0447 - accuracy: 0.9851 - val_loss: 0.3168 - val_accuracy: 0.9241\n",
      "Epoch 130/200\n",
      "288/288 [==============================] - ETA: 0s - loss: 0.0365 - accuracy: 0.9865\n",
      "Epoch 130: val_accuracy improved from 0.94065 to 0.94101, saving model to ./drive/MyDrive/MSc Thesis/Experiments/models/LSTM_1d_freq_exp2_local_info_v2.h5\n",
      "288/288 [==============================] - 97s 337ms/step - loss: 0.0365 - accuracy: 0.9865 - val_loss: 0.2202 - val_accuracy: 0.9410\n",
      "Epoch 131/200\n",
      "288/288 [==============================] - ETA: 0s - loss: 0.0291 - accuracy: 0.9898\n",
      "Epoch 131: val_accuracy did not improve from 0.94101\n",
      "288/288 [==============================] - 97s 336ms/step - loss: 0.0291 - accuracy: 0.9898 - val_loss: 0.2378 - val_accuracy: 0.9330\n",
      "Epoch 132/200\n",
      "288/288 [==============================] - ETA: 0s - loss: 0.0295 - accuracy: 0.9907\n",
      "Epoch 132: val_accuracy did not improve from 0.94101\n",
      "288/288 [==============================] - 95s 330ms/step - loss: 0.0295 - accuracy: 0.9907 - val_loss: 0.3084 - val_accuracy: 0.9215\n",
      "Epoch 133/200\n",
      "288/288 [==============================] - ETA: 0s - loss: 0.0281 - accuracy: 0.9905\n",
      "Epoch 133: val_accuracy did not improve from 0.94101\n",
      "288/288 [==============================] - 96s 335ms/step - loss: 0.0281 - accuracy: 0.9905 - val_loss: 0.2568 - val_accuracy: 0.9350\n",
      "Epoch 134/200\n",
      "288/288 [==============================] - ETA: 0s - loss: 0.0301 - accuracy: 0.9895\n",
      "Epoch 134: val_accuracy did not improve from 0.94101\n",
      "288/288 [==============================] - 96s 334ms/step - loss: 0.0301 - accuracy: 0.9895 - val_loss: 0.2385 - val_accuracy: 0.9387\n",
      "Epoch 135/200\n",
      "288/288 [==============================] - ETA: 0s - loss: 0.0235 - accuracy: 0.9920\n",
      "Epoch 135: val_accuracy did not improve from 0.94101\n",
      "288/288 [==============================] - 95s 330ms/step - loss: 0.0235 - accuracy: 0.9920 - val_loss: 0.2378 - val_accuracy: 0.9387\n",
      "Epoch 136/200\n",
      "288/288 [==============================] - ETA: 0s - loss: 0.0290 - accuracy: 0.9895\n",
      "Epoch 136: val_accuracy did not improve from 0.94101\n",
      "288/288 [==============================] - 97s 335ms/step - loss: 0.0290 - accuracy: 0.9895 - val_loss: 0.2657 - val_accuracy: 0.9319\n",
      "Epoch 137/200\n",
      "288/288 [==============================] - ETA: 0s - loss: 0.0373 - accuracy: 0.9869\n",
      "Epoch 137: val_accuracy did not improve from 0.94101\n",
      "288/288 [==============================] - 97s 337ms/step - loss: 0.0373 - accuracy: 0.9869 - val_loss: 0.2256 - val_accuracy: 0.9394\n",
      "Epoch 138/200\n",
      "288/288 [==============================] - ETA: 0s - loss: 0.0244 - accuracy: 0.9913\n",
      "Epoch 138: val_accuracy improved from 0.94101 to 0.94385, saving model to ./drive/MyDrive/MSc Thesis/Experiments/models/LSTM_1d_freq_exp2_local_info_v2.h5\n",
      "288/288 [==============================] - 98s 339ms/step - loss: 0.0244 - accuracy: 0.9913 - val_loss: 0.2345 - val_accuracy: 0.9439\n",
      "Epoch 139/200\n",
      "288/288 [==============================] - ETA: 0s - loss: 0.0384 - accuracy: 0.9868\n",
      "Epoch 139: val_accuracy did not improve from 0.94385\n",
      "288/288 [==============================] - 95s 330ms/step - loss: 0.0384 - accuracy: 0.9868 - val_loss: 0.2603 - val_accuracy: 0.9325\n",
      "Epoch 140/200\n",
      "288/288 [==============================] - ETA: 0s - loss: 0.0263 - accuracy: 0.9904\n",
      "Epoch 140: val_accuracy did not improve from 0.94385\n",
      "288/288 [==============================] - 99s 343ms/step - loss: 0.0263 - accuracy: 0.9904 - val_loss: 0.2535 - val_accuracy: 0.9360\n",
      "Epoch 141/200\n",
      "288/288 [==============================] - ETA: 0s - loss: 0.0402 - accuracy: 0.9862\n",
      "Epoch 141: val_accuracy did not improve from 0.94385\n",
      "288/288 [==============================] - 104s 361ms/step - loss: 0.0402 - accuracy: 0.9862 - val_loss: 0.2298 - val_accuracy: 0.9394\n",
      "Epoch 142/200\n",
      "288/288 [==============================] - ETA: 0s - loss: 0.0234 - accuracy: 0.9916\n",
      "Epoch 142: val_accuracy did not improve from 0.94385\n",
      "288/288 [==============================] - 102s 355ms/step - loss: 0.0234 - accuracy: 0.9916 - val_loss: 0.3024 - val_accuracy: 0.9184\n",
      "Epoch 143/200\n",
      "288/288 [==============================] - ETA: 0s - loss: 0.0260 - accuracy: 0.9908\n",
      "Epoch 143: val_accuracy did not improve from 0.94385\n",
      "288/288 [==============================] - 102s 353ms/step - loss: 0.0260 - accuracy: 0.9908 - val_loss: 0.2848 - val_accuracy: 0.9351\n",
      "Epoch 144/200\n",
      "288/288 [==============================] - ETA: 0s - loss: 0.0424 - accuracy: 0.9849\n",
      "Epoch 144: val_accuracy did not improve from 0.94385\n",
      "288/288 [==============================] - 101s 352ms/step - loss: 0.0424 - accuracy: 0.9849 - val_loss: 0.2495 - val_accuracy: 0.9330\n",
      "Epoch 145/200\n",
      "288/288 [==============================] - ETA: 0s - loss: 0.0420 - accuracy: 0.9850\n",
      "Epoch 145: val_accuracy did not improve from 0.94385\n",
      "288/288 [==============================] - 101s 351ms/step - loss: 0.0420 - accuracy: 0.9850 - val_loss: 0.2231 - val_accuracy: 0.9383\n",
      "Epoch 146/200\n",
      "288/288 [==============================] - ETA: 0s - loss: 0.0157 - accuracy: 0.9947\n",
      "Epoch 146: val_accuracy did not improve from 0.94385\n",
      "288/288 [==============================] - 101s 350ms/step - loss: 0.0157 - accuracy: 0.9947 - val_loss: 0.3719 - val_accuracy: 0.9184\n",
      "Epoch 147/200\n",
      "288/288 [==============================] - ETA: 0s - loss: 0.0565 - accuracy: 0.9811\n",
      "Epoch 147: val_accuracy did not improve from 0.94385\n",
      "288/288 [==============================] - 100s 347ms/step - loss: 0.0565 - accuracy: 0.9811 - val_loss: 0.2004 - val_accuracy: 0.9403\n",
      "Epoch 148/200\n",
      "288/288 [==============================] - ETA: 0s - loss: 0.0293 - accuracy: 0.9904\n",
      "Epoch 148: val_accuracy improved from 0.94385 to 0.94439, saving model to ./drive/MyDrive/MSc Thesis/Experiments/models/LSTM_1d_freq_exp2_local_info_v2.h5\n",
      "288/288 [==============================] - 99s 345ms/step - loss: 0.0293 - accuracy: 0.9904 - val_loss: 0.1996 - val_accuracy: 0.9444\n",
      "Epoch 149/200\n",
      "288/288 [==============================] - ETA: 0s - loss: 0.0343 - accuracy: 0.9881\n",
      "Epoch 149: val_accuracy did not improve from 0.94439\n",
      "288/288 [==============================] - 97s 337ms/step - loss: 0.0343 - accuracy: 0.9881 - val_loss: 0.2904 - val_accuracy: 0.9318\n",
      "Epoch 150/200\n",
      "288/288 [==============================] - ETA: 0s - loss: 0.0258 - accuracy: 0.9910\n",
      "Epoch 150: val_accuracy did not improve from 0.94439\n",
      "288/288 [==============================] - 95s 331ms/step - loss: 0.0258 - accuracy: 0.9910 - val_loss: 0.2385 - val_accuracy: 0.9357\n",
      "Epoch 151/200\n",
      "288/288 [==============================] - ETA: 0s - loss: 0.0230 - accuracy: 0.9928\n",
      "Epoch 151: val_accuracy did not improve from 0.94439\n",
      "288/288 [==============================] - 97s 336ms/step - loss: 0.0230 - accuracy: 0.9928 - val_loss: 0.2255 - val_accuracy: 0.9387\n",
      "Epoch 152/200\n",
      "288/288 [==============================] - ETA: 0s - loss: 0.0202 - accuracy: 0.9929\n",
      "Epoch 152: val_accuracy did not improve from 0.94439\n",
      "288/288 [==============================] - 97s 337ms/step - loss: 0.0202 - accuracy: 0.9929 - val_loss: 0.2922 - val_accuracy: 0.9335\n",
      "Epoch 153/200\n",
      "288/288 [==============================] - ETA: 0s - loss: 0.0411 - accuracy: 0.9863\n",
      "Epoch 153: val_accuracy did not improve from 0.94439\n",
      "288/288 [==============================] - 97s 338ms/step - loss: 0.0411 - accuracy: 0.9863 - val_loss: 0.2175 - val_accuracy: 0.9401\n",
      "Epoch 154/200\n",
      "288/288 [==============================] - ETA: 0s - loss: 0.0272 - accuracy: 0.9903\n",
      "Epoch 154: val_accuracy did not improve from 0.94439\n",
      "288/288 [==============================] - 96s 332ms/step - loss: 0.0272 - accuracy: 0.9903 - val_loss: 0.2137 - val_accuracy: 0.9430\n",
      "Epoch 155/200\n",
      "288/288 [==============================] - ETA: 0s - loss: 0.0348 - accuracy: 0.9883\n",
      "Epoch 155: val_accuracy did not improve from 0.94439\n",
      "288/288 [==============================] - 97s 336ms/step - loss: 0.0348 - accuracy: 0.9883 - val_loss: 0.2714 - val_accuracy: 0.9318\n",
      "Epoch 156/200\n",
      "288/288 [==============================] - ETA: 0s - loss: 0.0261 - accuracy: 0.9910\n",
      "Epoch 156: val_accuracy did not improve from 0.94439\n",
      "288/288 [==============================] - 97s 335ms/step - loss: 0.0261 - accuracy: 0.9910 - val_loss: 0.2562 - val_accuracy: 0.9392\n",
      "Epoch 157/200\n",
      "288/288 [==============================] - ETA: 0s - loss: 0.0266 - accuracy: 0.9908\n",
      "Epoch 157: val_accuracy did not improve from 0.94439\n",
      "288/288 [==============================] - 95s 331ms/step - loss: 0.0266 - accuracy: 0.9908 - val_loss: 0.2326 - val_accuracy: 0.9412\n",
      "Epoch 158/200\n",
      "288/288 [==============================] - ETA: 0s - loss: 0.0395 - accuracy: 0.9866\n",
      "Epoch 158: val_accuracy did not improve from 0.94439\n",
      "288/288 [==============================] - 97s 336ms/step - loss: 0.0395 - accuracy: 0.9866 - val_loss: 0.2131 - val_accuracy: 0.9332\n",
      "Epoch 159/200\n",
      "288/288 [==============================] - ETA: 0s - loss: 0.0182 - accuracy: 0.9933\n",
      "Epoch 159: val_accuracy did not improve from 0.94439\n",
      "288/288 [==============================] - 97s 337ms/step - loss: 0.0182 - accuracy: 0.9933 - val_loss: 0.2819 - val_accuracy: 0.9325\n",
      "Epoch 160/200\n",
      "288/288 [==============================] - ETA: 0s - loss: 0.0180 - accuracy: 0.9935\n",
      "Epoch 160: val_accuracy did not improve from 0.94439\n",
      "288/288 [==============================] - 97s 337ms/step - loss: 0.0180 - accuracy: 0.9935 - val_loss: 0.3692 - val_accuracy: 0.9140\n",
      "Epoch 161/200\n",
      "288/288 [==============================] - ETA: 0s - loss: 0.0237 - accuracy: 0.9917\n",
      "Epoch 161: val_accuracy did not improve from 0.94439\n",
      "288/288 [==============================] - 96s 332ms/step - loss: 0.0237 - accuracy: 0.9917 - val_loss: 0.2479 - val_accuracy: 0.9439\n",
      "Epoch 162/200\n",
      "288/288 [==============================] - ETA: 0s - loss: 0.0170 - accuracy: 0.9946\n",
      "Epoch 162: val_accuracy did not improve from 0.94439\n",
      "288/288 [==============================] - 97s 336ms/step - loss: 0.0170 - accuracy: 0.9946 - val_loss: 0.2870 - val_accuracy: 0.9263\n",
      "Epoch 163/200\n",
      "288/288 [==============================] - ETA: 0s - loss: 0.0676 - accuracy: 0.9761\n",
      "Epoch 163: val_accuracy did not improve from 0.94439\n",
      "288/288 [==============================] - 97s 338ms/step - loss: 0.0676 - accuracy: 0.9761 - val_loss: 0.2376 - val_accuracy: 0.9346\n",
      "Epoch 164/200\n",
      "288/288 [==============================] - ETA: 0s - loss: 0.0201 - accuracy: 0.9934\n",
      "Epoch 164: val_accuracy did not improve from 0.94439\n",
      "288/288 [==============================] - 95s 331ms/step - loss: 0.0201 - accuracy: 0.9934 - val_loss: 0.2952 - val_accuracy: 0.9307\n",
      "Epoch 165/200\n",
      "288/288 [==============================] - ETA: 0s - loss: 0.0163 - accuracy: 0.9940\n",
      "Epoch 165: val_accuracy did not improve from 0.94439\n",
      "288/288 [==============================] - 97s 337ms/step - loss: 0.0163 - accuracy: 0.9940 - val_loss: 0.3398 - val_accuracy: 0.9199\n",
      "Epoch 166/200\n",
      "288/288 [==============================] - ETA: 0s - loss: 0.0321 - accuracy: 0.9884\n",
      "Epoch 166: val_accuracy did not improve from 0.94439\n",
      "288/288 [==============================] - 97s 335ms/step - loss: 0.0321 - accuracy: 0.9884 - val_loss: 0.2980 - val_accuracy: 0.9193\n",
      "Epoch 167/200\n",
      "288/288 [==============================] - ETA: 0s - loss: 0.0148 - accuracy: 0.9947\n",
      "Epoch 167: val_accuracy did not improve from 0.94439\n",
      "288/288 [==============================] - 97s 336ms/step - loss: 0.0148 - accuracy: 0.9947 - val_loss: 0.3183 - val_accuracy: 0.9311\n",
      "Epoch 168/200\n",
      "288/288 [==============================] - ETA: 0s - loss: 0.0265 - accuracy: 0.9913Restoring model weights from the end of the best epoch: 148.\n",
      "\n",
      "Epoch 168: val_accuracy did not improve from 0.94439\n",
      "288/288 [==============================] - 96s 333ms/step - loss: 0.0265 - accuracy: 0.9913 - val_loss: 0.2446 - val_accuracy: 0.9376\n",
      "Epoch 168: early stopping\n"
     ]
    }
   ],
   "source": [
    "# Fitting the RNN to the Training set\n",
    "history=classifier.fit([X_train_scaled,X_train_scaled_f,X_train_scaled_local,X_train_scaled_f_local], y_train[:,0], epochs = 200, batch_size = 64,validation_data=([X_test_scaled,X_test_scaled_f,X_test_scaled_local,X_test_scaled_f_local],y_test[:,0]),callbacks=callbacks)\n"
   ]
  },
  {
   "cell_type": "code",
   "execution_count": null,
   "metadata": {
    "colab": {
     "base_uri": "https://localhost:8080/"
    },
    "id": "7puZMrQ6rZ8B",
    "outputId": "0131a17b-b7e8-4e4d-ec60-4d0efbe69fc6"
   },
   "outputs": [
    {
     "name": "stdout",
     "output_type": "stream",
     "text": [
      "176/176 [==============================] - 7s 37ms/step - loss: 0.1996 - accuracy: 0.9444\n"
     ]
    },
    {
     "data": {
      "text/plain": [
       "[0.19957323372364044, 0.9443852305412292]"
      ]
     },
     "execution_count": 20,
     "metadata": {},
     "output_type": "execute_result"
    }
   ],
   "source": [
    "classifier.evaluate([X_test_scaled,X_test_scaled_f,X_test_scaled_local,X_test_scaled_f_local],y_test[:,0])"
   ]
  },
  {
   "cell_type": "code",
   "execution_count": null,
   "metadata": {
    "colab": {
     "base_uri": "https://localhost:8080/",
     "height": 334
    },
    "id": "pXaIqqGvsq2-",
    "outputId": "55cd8787-6900-406e-92e5-d19052e91ce3"
   },
   "outputs": [
    {
     "data": {
      "image/png": "[encoded data removed]",
      "text/plain": [
       "<Figure size 1080x360 with 2 Axes>"
      ]
     },
     "metadata": {
      "needs_background": "light"
     },
     "output_type": "display_data"
    }
   ],
   "source": [
    "import matplotlib.pyplot as plt\n",
    "def display_learning_curves(history):\n",
    "    fig, (ax1, ax2) = plt.subplots(1, 2, figsize=(15, 5))\n",
    "\n",
    "    ax1.plot(history.history[\"loss\"])\n",
    "    ax1.plot(history.history[\"val_loss\"])\n",
    "    ax1.legend([\"train\", \"valid\"], loc=\"upper right\")\n",
    "    ax1.set_xlabel(\"Epochs\")\n",
    "    ax1.set_ylabel(\"Loss\")\n",
    "\n",
    "    ax2.plot(history.history[\"accuracy\"])\n",
    "    ax2.plot(history.history[\"val_accuracy\"])\n",
    "    ax2.legend([\"train\", \"valid\"], loc=\"upper right\")\n",
    "    ax2.set_xlabel(\"Epochs\")\n",
    "    ax2.set_ylabel(\"Accuracy\")\n",
    "    plt.show()\n",
    "\n",
    "display_learning_curves(history)"
   ]
  },
  {
   "cell_type": "code",
   "execution_count": null,
   "metadata": {
    "id": "jzJ3rz1JZlM7"
   },
   "outputs": [],
   "source": []
  },
  {
   "cell_type": "code",
   "execution_count": null,
   "metadata": {
    "id": "L0VKJswYTc4O"
   },
   "outputs": [],
   "source": [
    "import tensorflow as tf\n",
    "temp=tf.keras.models.load_model(\"./drive/MyDrive/MSc Thesis/Experiments/models/LSTM_1d_freq_exp2_local_info_v2.h5\")"
   ]
  },
  {
   "cell_type": "code",
   "execution_count": null,
   "metadata": {
    "colab": {
     "base_uri": "https://localhost:8080/"
    },
    "id": "u9bgdUJETn0g",
    "outputId": "3a249f15-802e-4d88-ba67-7352f4d35289"
   },
   "outputs": [
    {
     "name": "stdout",
     "output_type": "stream",
     "text": [
      "5628/5628 [==============================] - 221s 38ms/step - loss: 0.1996 - accuracy: 0.9444\n"
     ]
    },
    {
     "data": {
      "text/plain": [
       "[0.19957181811332703, 0.9443852305412292]"
      ]
     },
     "execution_count": 20,
     "metadata": {},
     "output_type": "execute_result"
    }
   ],
   "source": [
    "temp.evaluate([X_test_scaled,X_test_scaled_f,X_test_scaled_local,X_test_scaled_f_local], y_test[:,0], 1)"
   ]
  },
  {
   "cell_type": "code",
   "execution_count": null,
   "metadata": {
    "colab": {
     "base_uri": "https://localhost:8080/"
    },
    "id": "hbTiJwqAZhcj",
    "outputId": "de33b5ea-1033-4ca3-aa54-22a482edac81"
   },
   "outputs": [
    {
     "name": "stdout",
     "output_type": "stream",
     "text": [
      "176/176 [==============================] - 13s 41ms/step - loss: 0.1996 - accuracy: 0.9444\n"
     ]
    },
    {
     "data": {
      "text/plain": [
       "[0.19957323372364044, 0.9443852305412292]"
      ]
     },
     "execution_count": 21,
     "metadata": {},
     "output_type": "execute_result"
    }
   ],
   "source": [
    "temp.evaluate([X_test_scaled,X_test_scaled_f,X_test_scaled_local,X_test_scaled_f_local], y_test[:,0])"
   ]
  },
  {
   "cell_type": "code",
   "execution_count": null,
   "metadata": {
    "id": "RD4YF1AuT2tn"
   },
   "outputs": [],
   "source": [
    "y_pred = temp.predict([X_test_scaled,X_test_scaled_f,X_test_scaled_local,X_test_scaled_f_local])\n",
    "y_pred= (y_pred>=0.5).astype(int)"
   ]
  },
  {
   "cell_type": "code",
   "execution_count": null,
   "metadata": {
    "colab": {
     "base_uri": "https://localhost:8080/"
    },
    "id": "sjx-DjHUWp52",
    "outputId": "76a90dd8-a3ac-44c9-e8d6-1290688c9232"
   },
   "outputs": [
    {
     "data": {
      "text/plain": [
       "array([[1],\n",
       "       [0],\n",
       "       [0],\n",
       "       ...,\n",
       "       [0],\n",
       "       [0],\n",
       "       [0]])"
      ]
     },
     "execution_count": 23,
     "metadata": {},
     "output_type": "execute_result"
    }
   ],
   "source": [
    "y_pred"
   ]
  },
  {
   "cell_type": "code",
   "execution_count": null,
   "metadata": {
    "id": "ipevqB9rXDeW"
   },
   "outputs": [],
   "source": [
    "from sklearn.metrics import accuracy_score, f1_score, classification_report,confusion_matrix"
   ]
  },
  {
   "cell_type": "code",
   "execution_count": null,
   "metadata": {
    "colab": {
     "base_uri": "https://localhost:8080/"
    },
    "id": "rSeo2ltUXffg",
    "outputId": "f39f17e3-11c9-486a-c81f-d6ed17280f57"
   },
   "outputs": [
    {
     "data": {
      "text/plain": [
       "array([[4070,  195],\n",
       "       [ 118, 1245]])"
      ]
     },
     "execution_count": 25,
     "metadata": {},
     "output_type": "execute_result"
    }
   ],
   "source": [
    "confusion_matrix(y_test[:,0],y_pred)"
   ]
  },
  {
   "cell_type": "code",
   "execution_count": null,
   "metadata": {
    "colab": {
     "base_uri": "https://localhost:8080/"
    },
    "id": "eM1TBa2IXtj2",
    "outputId": "cfad7fe2-b934-4d88-8bbe-40d258b7c2be"
   },
   "outputs": [
    {
     "data": {
      "text/plain": [
       "0.9443852167732765"
      ]
     },
     "execution_count": 26,
     "metadata": {},
     "output_type": "execute_result"
    }
   ],
   "source": [
    "accuracy_score(y_test[:,0],y_pred)"
   ]
  },
  {
   "cell_type": "code",
   "execution_count": null,
   "metadata": {
    "colab": {
     "base_uri": "https://localhost:8080/"
    },
    "id": "_9V2DcARYNq6",
    "outputId": "21e764d6-1e70-4e51-95b8-754ee92d9b17"
   },
   "outputs": [
    {
     "data": {
      "text/plain": [
       "0.8883339279343561"
      ]
     },
     "execution_count": 27,
     "metadata": {},
     "output_type": "execute_result"
    }
   ],
   "source": [
    "f1_score(y_test[:,0],y_pred)"
   ]
  },
  {
   "cell_type": "code",
   "execution_count": null,
   "metadata": {
    "colab": {
     "base_uri": "https://localhost:8080/"
    },
    "id": "JwAjeUnMYQ1O",
    "outputId": "59a3d8bd-6d84-44ff-c69c-58dd0b52659f"
   },
   "outputs": [
    {
     "name": "stdout",
     "output_type": "stream",
     "text": [
      "              precision    recall  f1-score   support\n",
      "\n",
      "           0       0.97      0.95      0.96      4265\n",
      "           1       0.86      0.91      0.89      1363\n",
      "\n",
      "    accuracy                           0.94      5628\n",
      "   macro avg       0.92      0.93      0.93      5628\n",
      "weighted avg       0.95      0.94      0.94      5628\n",
      "\n"
     ]
    }
   ],
   "source": [
    "print(classification_report(y_test[:,0],y_pred))"
   ]
  },
  {
   "cell_type": "code",
   "execution_count": null,
   "metadata": {
    "colab": {
     "base_uri": "https://localhost:8080/",
     "height": 424
    },
    "id": "ZwrLoyvlKzlN",
    "outputId": "dffd4690-68f1-49b2-966c-1b544d429e2b"
   },
   "outputs": [
    {
     "data": {
      "text/html": [
       "\n",
       "  <div id=\"df-7e16d69b-5333-454b-9669-5b347e1f348d\">\n",
       "    <div class=\"colab-df-container\">\n",
       "      <div>\n",
       "<style scoped>\n",
       "    .dataframe tbody tr th:only-of-type {\n",
       "        vertical-align: middle;\n",
       "    }\n",
       "\n",
       "    .dataframe tbody tr th {\n",
       "        vertical-align: top;\n",
       "    }\n",
       "\n",
       "    .dataframe thead th {\n",
       "        text-align: right;\n",
       "    }\n",
       "</style>\n",
       "<table border=\"1\" class=\"dataframe\">\n",
       "  <thead>\n",
       "    <tr style=\"text-align: right;\">\n",
       "      <th></th>\n",
       "      <th>y_true</th>\n",
       "      <th>video_id</th>\n",
       "      <th>n1</th>\n",
       "      <th>n2</th>\n",
       "      <th>pred</th>\n",
       "      <th>pred_proba</th>\n",
       "    </tr>\n",
       "  </thead>\n",
       "  <tbody>\n",
       "    <tr>\n",
       "      <th>0</th>\n",
       "      <td>1</td>\n",
       "      <td>250</td>\n",
       "      <td>0</td>\n",
       "      <td>1</td>\n",
       "      <td>1</td>\n",
       "      <td>9.330547e-01</td>\n",
       "    </tr>\n",
       "    <tr>\n",
       "      <th>1</th>\n",
       "      <td>0</td>\n",
       "      <td>250</td>\n",
       "      <td>0</td>\n",
       "      <td>2</td>\n",
       "      <td>0</td>\n",
       "      <td>3.894181e-06</td>\n",
       "    </tr>\n",
       "    <tr>\n",
       "      <th>2</th>\n",
       "      <td>0</td>\n",
       "      <td>250</td>\n",
       "      <td>0</td>\n",
       "      <td>3</td>\n",
       "      <td>0</td>\n",
       "      <td>2.404806e-07</td>\n",
       "    </tr>\n",
       "    <tr>\n",
       "      <th>3</th>\n",
       "      <td>0</td>\n",
       "      <td>250</td>\n",
       "      <td>0</td>\n",
       "      <td>4</td>\n",
       "      <td>0</td>\n",
       "      <td>7.704400e-08</td>\n",
       "    </tr>\n",
       "    <tr>\n",
       "      <th>4</th>\n",
       "      <td>0</td>\n",
       "      <td>250</td>\n",
       "      <td>0</td>\n",
       "      <td>5</td>\n",
       "      <td>0</td>\n",
       "      <td>2.494417e-07</td>\n",
       "    </tr>\n",
       "    <tr>\n",
       "      <th>...</th>\n",
       "      <td>...</td>\n",
       "      <td>...</td>\n",
       "      <td>...</td>\n",
       "      <td>...</td>\n",
       "      <td>...</td>\n",
       "      <td>...</td>\n",
       "    </tr>\n",
       "    <tr>\n",
       "      <th>5623</th>\n",
       "      <td>0</td>\n",
       "      <td>374</td>\n",
       "      <td>7</td>\n",
       "      <td>9</td>\n",
       "      <td>0</td>\n",
       "      <td>4.695600e-07</td>\n",
       "    </tr>\n",
       "    <tr>\n",
       "      <th>5624</th>\n",
       "      <td>0</td>\n",
       "      <td>374</td>\n",
       "      <td>7</td>\n",
       "      <td>10</td>\n",
       "      <td>0</td>\n",
       "      <td>2.072887e-08</td>\n",
       "    </tr>\n",
       "    <tr>\n",
       "      <th>5625</th>\n",
       "      <td>0</td>\n",
       "      <td>374</td>\n",
       "      <td>8</td>\n",
       "      <td>9</td>\n",
       "      <td>0</td>\n",
       "      <td>5.795565e-08</td>\n",
       "    </tr>\n",
       "    <tr>\n",
       "      <th>5626</th>\n",
       "      <td>0</td>\n",
       "      <td>374</td>\n",
       "      <td>8</td>\n",
       "      <td>10</td>\n",
       "      <td>0</td>\n",
       "      <td>1.018370e-08</td>\n",
       "    </tr>\n",
       "    <tr>\n",
       "      <th>5627</th>\n",
       "      <td>0</td>\n",
       "      <td>374</td>\n",
       "      <td>9</td>\n",
       "      <td>10</td>\n",
       "      <td>0</td>\n",
       "      <td>7.232674e-08</td>\n",
       "    </tr>\n",
       "  </tbody>\n",
       "</table>\n",
       "<p>5628 rows × 6 columns</p>\n",
       "</div>\n",
       "      <button class=\"colab-df-convert\" onclick=\"convertToInteractive('df-7e16d69b-5333-454b-9669-5b347e1f348d')\"\n",
       "              title=\"Convert this dataframe to an interactive table.\"\n",
       "              style=\"display:none;\">\n",
       "        \n",
       "  <svg xmlns=\"http://www.w3.org/2000/svg\" height=\"24px\"viewBox=\"0 0 24 24\"\n",
       "       width=\"24px\">\n",
       "    <path d=\"M0 0h24v24H0V0z\" fill=\"none\"/>\n",
       "    <path d=\"M18.56 5.44l.94 2.06.94-2.06 2.06-.94-2.06-.94-.94-2.06-.94 2.06-2.06.94zm-11 1L8.5 8.5l.94-2.06 2.06-.94-2.06-.94L8.5 2.5l-.94 2.06-2.06.94zm10 10l.94 2.06.94-2.06 2.06-.94-2.06-.94-.94-2.06-.94 2.06-2.06.94z\"/><path d=\"M17.41 7.96l-1.37-1.37c-.4-.4-.92-.59-1.43-.59-.52 0-1.04.2-1.43.59L10.3 9.45l-7.72 7.72c-.78.78-.78 2.05 0 2.83L4 21.41c.39.39.9.59 1.41.59.51 0 1.02-.2 1.41-.59l7.78-7.78 2.81-2.81c.8-.78.8-2.07 0-2.86zM5.41 20L4 18.59l7.72-7.72 1.47 1.35L5.41 20z\"/>\n",
       "  </svg>\n",
       "      </button>\n",
       "      \n",
       "  <style>\n",
       "    .colab-df-container {\n",
       "      display:flex;\n",
       "      flex-wrap:wrap;\n",
       "      gap: 12px;\n",
       "    }\n",
       "\n",
       "    .colab-df-convert {\n",
       "      background-color: #E8F0FE;\n",
       "      border: none;\n",
       "      border-radius: 50%;\n",
       "      cursor: pointer;\n",
       "      display: none;\n",
       "      fill: #1967D2;\n",
       "      height: 32px;\n",
       "      padding: 0 0 0 0;\n",
       "      width: 32px;\n",
       "    }\n",
       "\n",
       "    .colab-df-convert:hover {\n",
       "      background-color: #E2EBFA;\n",
       "      box-shadow: 0px 1px 2px rgba(60, 64, 67, 0.3), 0px 1px 3px 1px rgba(60, 64, 67, 0.15);\n",
       "      fill: #174EA6;\n",
       "    }\n",
       "\n",
       "    [theme=dark] .colab-df-convert {\n",
       "      background-color: #3B4455;\n",
       "      fill: #D2E3FC;\n",
       "    }\n",
       "\n",
       "    [theme=dark] .colab-df-convert:hover {\n",
       "      background-color: #434B5C;\n",
       "      box-shadow: 0px 1px 3px 1px rgba(0, 0, 0, 0.15);\n",
       "      filter: drop-shadow(0px 1px 2px rgba(0, 0, 0, 0.3));\n",
       "      fill: #FFFFFF;\n",
       "    }\n",
       "  </style>\n",
       "\n",
       "      <script>\n",
       "        const buttonEl =\n",
       "          document.querySelector('#df-7e16d69b-5333-454b-9669-5b347e1f348d button.colab-df-convert');\n",
       "        buttonEl.style.display =\n",
       "          google.colab.kernel.accessAllowed ? 'block' : 'none';\n",
       "\n",
       "        async function convertToInteractive(key) {\n",
       "          const element = document.querySelector('#df-7e16d69b-5333-454b-9669-5b347e1f348d');\n",
       "          const dataTable =\n",
       "            await google.colab.kernel.invokeFunction('convertToInteractive',\n",
       "                                                     [key], {});\n",
       "          if (!dataTable) return;\n",
       "\n",
       "          const docLinkHtml = 'Like what you see? Visit the ' +\n",
       "            '<a target=\"_blank\" href=https://colab.research.google.com/notebooks/data_table.ipynb>data table notebook</a>'\n",
       "            + ' to learn more about interactive tables.';\n",
       "          element.innerHTML = '';\n",
       "          dataTable['output_type'] = 'display_data';\n",
       "          await google.colab.output.renderOutput(dataTable, element);\n",
       "          const docLink = document.createElement('div');\n",
       "          docLink.innerHTML = docLinkHtml;\n",
       "          element.appendChild(docLink);\n",
       "        }\n",
       "      </script>\n",
       "    </div>\n",
       "  </div>\n",
       "  "
      ],
      "text/plain": [
       "      y_true  video_id  n1  n2  pred    pred_proba\n",
       "0          1       250   0   1     1  9.330547e-01\n",
       "1          0       250   0   2     0  3.894181e-06\n",
       "2          0       250   0   3     0  2.404806e-07\n",
       "3          0       250   0   4     0  7.704400e-08\n",
       "4          0       250   0   5     0  2.494417e-07\n",
       "...      ...       ...  ..  ..   ...           ...\n",
       "5623       0       374   7   9     0  4.695600e-07\n",
       "5624       0       374   7  10     0  2.072887e-08\n",
       "5625       0       374   8   9     0  5.795565e-08\n",
       "5626       0       374   8  10     0  1.018370e-08\n",
       "5627       0       374   9  10     0  7.232674e-08\n",
       "\n",
       "[5628 rows x 6 columns]"
      ]
     },
     "execution_count": 31,
     "metadata": {},
     "output_type": "execute_result"
    }
   ],
   "source": [
    "predictions=pd.DataFrame(y_test)\n",
    "predictions['pred']=y_pred\n",
    "predictions['pred_proba']=temp.predict([X_test_scaled,X_test_scaled_f,X_test_scaled_local,X_test_scaled_f_local])\n",
    "predictions.columns=['y_true','video_id','n1','n2','pred','pred_proba']\n",
    "predictions"
   ]
  },
  {
   "cell_type": "code",
   "execution_count": null,
   "metadata": {
    "id": "hutA6UbKK1AO"
   },
   "outputs": [],
   "source": [
    "predictions.to_csv('LSTM_1d_freq_exp2_local_pairwise_exp2_v2.csv',index=False)"
   ]
  },
  {
   "cell_type": "code",
   "execution_count": null,
   "metadata": {
    "id": "vKWvey6_f1IK"
   },
   "outputs": [],
   "source": [
    "# ###Collect F-Score 10 times\n",
    "# import sklearn\n",
    "# from tqdm.notebook import tqdm\n",
    "# def calc_f1_score(X_train_scaled,X_train_scaled_local,X_test_scaled,X_test_scaled_local,X_train_scaled_f,X_train_scaled_f_local,X_test_scaled_f,X_test_scaled_f_local,y_train,y_test,earlystop):\n",
    "#   input_1 = Input((X_train_scaled.shape[1], X_train_scaled.shape[2])) #50,8\n",
    "#   input_2 = Input((X_train_scaled_f.shape[1], X_train_scaled_f.shape[2])) #26,4\n",
    "#   input_3 = Input((X_train_scaled_local.shape[1], X_train_scaled_local.shape[2], X_train_scaled_local.shape[3])) #20,50,4\n",
    "#   input_4 = Input((X_train_scaled_f_local.shape[1], X_train_scaled_f_local.shape[2], X_train_scaled_f_local.shape[3])) #20,26,2\n",
    "#   x1=LSTM(units = 100, return_sequences = True)(input_1)\n",
    "#   x1=LSTM(units = 50)(x1)\n",
    "#   x2=LSTM(units = 100, return_sequences = True)(input_2)\n",
    "#   x2=LSTM(units = 50)(x2)\n",
    "#   x3=layers.Masking(mask_value=padding_val)(input_3)\n",
    "#   x3=layers.TimeDistributed(LSTM(units = 100, return_sequences = True))(x3)\n",
    "#   x3=layers.TimeDistributed(LSTM(units = 50))(x3)\n",
    "#   x3=layers.Flatten()(x3)\n",
    "#   x4=layers.Masking(mask_value=padding_val)(input_4)\n",
    "#   x4=layers.TimeDistributed(LSTM(units = 100, return_sequences = True))(x4)\n",
    "#   x4=layers.TimeDistributed(LSTM(units = 50))(x4)\n",
    "#   x4=layers.Flatten()(x4)\n",
    "#   x_neighbbours=layers.concatenate([x3,x4])\n",
    "#   x_neighbbours=layers.Dense(100,activation='relu')(x_neighbbours)\n",
    "#   x = layers.concatenate([x1, x2,x_neighbbours])\n",
    "#   x=layers.Dense(50,activation='relu')(x)\n",
    "#   output_layer = layers.Dense(1, activation=\"sigmoid\")(x)\n",
    "#   classifier=keras.Model(inputs=[input_1, input_2, input_3, input_4], outputs=output_layer)\n",
    "#   # Compiling the RNN\n",
    "#   classifier.compile(optimizer = 'adam', loss = 'binary_crossentropy', metrics = ['accuracy'])\n",
    "\n",
    "#   classifier.fit([X_train_scaled,X_train_scaled_f,X_train_scaled_local,X_train_scaled_f_local], y_train[:,0], epochs = 500, batch_size = 64,validation_data=([X_test_scaled,X_test_scaled_f,X_test_scaled_local,X_test_scaled_f_local],y_test[:,0]),callbacks=[earlystop])\n",
    "#   y_pred = classifier.predict([X_test_scaled,X_test_scaled_f,X_test_scaled_local,X_test_scaled_f_local])\n",
    "#   y_pred= (y_pred>=0.5).astype(int)\n",
    "#   return(sklearn.metrics.f1_score(y_test[:,0],y_pred))\n",
    "\n",
    "# f1_score_list=[]\n",
    "# for i in tqdm(range(10)):\n",
    "#   f1_score_list=f1_score_list+[calc_f1_score(X_train_scaled,X_train_scaled_local,X_test_scaled,X_test_scaled_local,X_train_scaled_f,X_train_scaled_f_local,X_test_scaled_f,X_test_scaled_f_local,y_train,y_test,earlystop)]\n",
    "#   print(\"Number of iterations\",len(f1_score_list))\n",
    "#   print(\"F1-scores: \",f1_score_list)\n",
    "#   print(\"Average F1-Score\",np.mean(f1_score_list))\n",
    "#   print(\"Std Dev F1-Score\",np.std(f1_score_list))\n",
    "#   print(\"Error bar F1-Score\",np.std(f1_score_list)/np.sqrt(len(f1_score_list)))\n"
   ]
  }
 ],
 "metadata": {
  "accelerator": "GPU",
  "colab": {
   "collapsed_sections": [],
   "name": "LSTM_1d_freq_exp2_local_pairwise_v2.ipynb",
   "provenance": []
  },
  "gpuClass": "standard",
  "kernelspec": {
   "display_name": "Python 3 (ipykernel)",
   "language": "python",
   "name": "python3"
  },
  "language_info": {
   "codemirror_mode": {
    "name": "ipython",
    "version": 3
   },
   "file_extension": ".py",
   "mimetype": "text/x-python",
   "name": "python",
   "nbconvert_exporter": "python",
   "pygments_lexer": "ipython3",
   "version": "3.9.7"
  }
 },
 "nbformat": 4,
 "nbformat_minor": 1
}
