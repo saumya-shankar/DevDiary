{
 "cells": [
  {
   "cell_type": "code",
   "execution_count": null,
   "metadata": {
    "colab": {
     "base_uri": "https://localhost:8080/"
    },
    "id": "9JYsWwiwnPzi",
    "outputId": "a7677bfa-6aed-4dd8-8278-9b78a7b4857b"
   },
   "outputs": [
    {
     "name": "stdout",
     "output_type": "stream",
     "text": [
      "Mon Aug  8 15:46:33 2022       \n",
      "+-----------------------------------------------------------------------------+\n",
      "| NVIDIA-SMI 460.32.03    Driver Version: 460.32.03    CUDA Version: 11.2     |\n",
      "|-------------------------------+----------------------+----------------------+\n",
      "| GPU  Name        Persistence-M| Bus-Id        Disp.A | Volatile Uncorr. ECC |\n",
      "| Fan  Temp  Perf  Pwr:Usage/Cap|         Memory-Usage | GPU-Util  Compute M. |\n",
      "|                               |                      |               MIG M. |\n",
      "|===============================+======================+======================|\n",
      "|   0  Tesla T4            Off  | 00000000:00:04.0 Off |                    0 |\n",
      "| N/A   39C    P8    10W /  70W |      0MiB / 15109MiB |      0%      Default |\n",
      "|                               |                      |                  N/A |\n",
      "+-------------------------------+----------------------+----------------------+\n",
      "                                                                               \n",
      "+-----------------------------------------------------------------------------+\n",
      "| Processes:                                                                  |\n",
      "|  GPU   GI   CI        PID   Type   Process name                  GPU Memory |\n",
      "|        ID   ID                                                   Usage      |\n",
      "|=============================================================================|\n",
      "|  No running processes found                                                 |\n",
      "+-----------------------------------------------------------------------------+\n"
     ]
    }
   ],
   "source": [
    "gpu_info = !nvidia-smi\n",
    "gpu_info = '\\n'.join(gpu_info)\n",
    "if gpu_info.find('failed') >= 0:\n",
    "  print('Not connected to a GPU')\n",
    "else:\n",
    "  print(gpu_info)"
   ]
  },
  {
   "cell_type": "code",
   "execution_count": null,
   "metadata": {
    "colab": {
     "base_uri": "https://localhost:8080/"
    },
    "id": "IdNIB899nhlq",
    "outputId": "975f1b6a-d4ba-4734-9a39-2e4186299737"
   },
   "outputs": [
    {
     "name": "stdout",
     "output_type": "stream",
     "text": [
      "Mounted at /content/drive\n"
     ]
    }
   ],
   "source": [
    "#mounting google drive on colab\n",
    "from google.colab import drive\n",
    "drive.mount('/content/drive')"
   ]
  },
  {
   "cell_type": "code",
   "execution_count": null,
   "metadata": {
    "id": "GfSazzTdnmaM"
   },
   "outputs": [],
   "source": [
    "# Importing the libraries\n",
    "import numpy as np\n",
    "import matplotlib.pyplot as plt\n",
    "import pandas as pd\n",
    "import copy\n",
    "from scipy import signal"
   ]
  },
  {
   "cell_type": "code",
   "execution_count": null,
   "metadata": {
    "id": "bXN_d9Evntel"
   },
   "outputs": [],
   "source": [
    "X_train=np.load(\"./drive/MyDrive/MSc Thesis/Experiments/all_pairs_ts_data_X_trainv7_exp1_exp5_strat.npy\")\n",
    "y_train=np.load(\"./drive/MyDrive/MSc Thesis/Experiments/all_pairs_ts_data_y_trainv7_exp1_exp5_strat.npy\").astype(int)\n",
    "\n",
    "X_test=np.load(\"./drive/MyDrive/MSc Thesis/Experiments/all_pairs_ts_data_X_testv7_exp1_exp5_strat.npy\")\n",
    "y_test=np.load(\"./drive/MyDrive/MSc Thesis/Experiments/all_pairs_ts_data_y_testv7_exp1_exp5_strat.npy\").astype(int)\n"
   ]
  },
  {
   "cell_type": "code",
   "execution_count": null,
   "metadata": {
    "colab": {
     "base_uri": "https://localhost:8080/"
    },
    "id": "NVkzHpArmQFD",
    "outputId": "3fb0c72e-c43e-44c6-80e9-89a5a9b54f00"
   },
   "outputs": [
    {
     "name": "stderr",
     "output_type": "stream",
     "text": [
      "/usr/local/lib/python3.7/dist-packages/scipy/signal/spectral.py:1966: UserWarning: nperseg = 256 is greater than input length  = 50, using nperseg = 50\n",
      "  .format(nperseg, input_length))\n"
     ]
    }
   ],
   "source": [
    "def calc_freq_signal(arr):\n",
    "    freqs, psd = signal.welch(arr, fs=10)\n",
    "    return psd\n",
    "\n",
    "X_train_f=np.apply_along_axis(calc_freq_signal, 1, X_train)\n",
    "X_test_f=np.apply_along_axis(calc_freq_signal, 1, X_test)\n"
   ]
  },
  {
   "cell_type": "code",
   "execution_count": null,
   "metadata": {
    "id": "6MFvsoGCeuLr"
   },
   "outputs": [],
   "source": [
    "X_train_1d=np.gradient(X_train,axis=1)\n",
    "X_test_1d=np.gradient(X_test,axis=1)\n",
    "X_train=np.dstack([X_train,X_train_1d])\n",
    "X_test=np.dstack([X_test,X_test_1d])"
   ]
  },
  {
   "cell_type": "code",
   "execution_count": null,
   "metadata": {
    "id": "uT-WuU1ohSbG"
   },
   "outputs": [],
   "source": [
    "def custom_scaler(X, range=(0, 1),min=None,max=None):\n",
    "    mi, ma = range\n",
    "    if(min==None):\n",
    "      min=X.min()\n",
    "      max=X.max()\n",
    "      print(\"\\nTrain_Scaling:- min=\",min,\" max=\",max)\n",
    "    X_std = (X - min) / (max - min)\n",
    "    X_scaled = X_std * (ma - mi) + mi\n",
    "    return min,max,X_scaled"
   ]
  },
  {
   "cell_type": "code",
   "execution_count": null,
   "metadata": {
    "colab": {
     "base_uri": "https://localhost:8080/"
    },
    "id": "Bc2GRbYck53M",
    "outputId": "a635e1fc-aafa-4a06-ba73-232bd125701b"
   },
   "outputs": [
    {
     "name": "stdout",
     "output_type": "stream",
     "text": [
      "\n",
      "Train_Scaling:- min= -28.708703327621013  max= 37.07106781186548\n",
      "\n",
      "Train_Scaling:- min= -33.71032582929608  max= 32.1558468622422\n",
      "\n",
      "Train_Scaling:- min= -12.320254626359059  max= 14.385756524143293\n",
      "\n",
      "Train_Scaling:- min= -25.40645604165462  max= 17.0059508424483\n",
      "Frequency signals scaling:-------------\n",
      "\n",
      "Train_Scaling:- min= 0.0  max= 717.6949576342864\n",
      "\n",
      "Train_Scaling:- min= 0.0  max= 1338.5393381137053\n"
     ]
    }
   ],
   "source": [
    "# Feature Scaling\n",
    "#X_train contains 8 signals x1,x2,y1,y2,x1d,2d,y1d,y2d\n",
    "X_train_scaled=copy.copy(X_train)\n",
    "X_test_scaled=copy.copy(X_test)\n",
    "\n",
    "min_temp,max_temp,X_train_scaled[:,:,0:2]=custom_scaler(X_train_scaled[:,:,0:2],range=(0,1))\n",
    "_,_,X_test_scaled[:,:,0:2]=custom_scaler(X_test_scaled[:,:,0:2],range=(0,1),min=min_temp,max=max_temp)\n",
    "\n",
    "min_temp,max_temp,X_train_scaled[:,:,2:4]=custom_scaler(X_train_scaled[:,:,2:4],range=(0,1))\n",
    "_,_,X_test_scaled[:,:,2:4]=custom_scaler(X_test_scaled[:,:,2:4],range=(0,1),min=min_temp,max=max_temp)\n",
    "\n",
    "min_temp,max_temp,X_train_scaled[:,:,4:6]=custom_scaler(X_train_scaled[:,:,4:6],range=(0,1))\n",
    "_,_,X_test_scaled[:,:,4:6]=custom_scaler(X_test_scaled[:,:,4:6],range=(0,1),min=min_temp,max=max_temp)\n",
    "\n",
    "min_temp,max_temp,X_train_scaled[:,:,6:8]=custom_scaler(X_train_scaled[:,:,6:8],range=(0,1))\n",
    "_,_,X_test_scaled[:,:,6:8]=custom_scaler(X_test_scaled[:,:,6:8],range=(0,1),min=min_temp,max=max_temp)\n",
    "\n",
    "\n",
    "print(\"Frequency signals scaling:-------------\")\n",
    "#X_train contains 8 signals x1f,x2f,y1f,y2f\n",
    "X_train_scaled_f=copy.copy(X_train_f)\n",
    "X_test_scaled_f=copy.copy(X_test_f)\n",
    "\n",
    "min_temp,max_temp,X_train_scaled_f[:,:,0:2]=custom_scaler(X_train_scaled_f[:,:,0:2],range=(0,1))\n",
    "_,_,X_test_scaled_f[:,:,0:2]=custom_scaler(X_test_scaled_f[:,:,0:2],range=(0,1),min=min_temp,max=max_temp)\n",
    "\n",
    "min_temp,max_temp,X_train_scaled_f[:,:,2:4]=custom_scaler(X_train_scaled_f[:,:,2:4],range=(0,1))\n",
    "_,_,X_test_scaled_f[:,:,2:4]=custom_scaler(X_test_scaled_f[:,:,2:4],range=(0,1),min=min_temp,max=max_temp)\n"
   ]
  },
  {
   "cell_type": "code",
   "execution_count": null,
   "metadata": {
    "colab": {
     "base_uri": "https://localhost:8080/"
    },
    "id": "L7JWtkWdfSCb",
    "outputId": "4f70e9bc-619f-49be-d34e-f025166e63a6"
   },
   "outputs": [
    {
     "name": "stdout",
     "output_type": "stream",
     "text": [
      "(21346, 50, 8)\n",
      "(21346, 26, 4)\n",
      "(2851, 50, 8)\n",
      "(2851, 26, 4)\n"
     ]
    }
   ],
   "source": [
    "print(X_train_scaled.shape)\n",
    "print(X_train_scaled_f.shape)\n",
    "\n",
    "print(X_test_scaled.shape)\n",
    "print(X_test_scaled_f.shape)"
   ]
  },
  {
   "cell_type": "code",
   "execution_count": null,
   "metadata": {
    "id": "iLgHyiJDrclv"
   },
   "outputs": [],
   "source": [
    "dataset_train=pd.DataFrame(y_train)\n",
    "dataset_train['node1']=list(X_train_scaled[:,:,[0,2,4,6]])\n",
    "dataset_train['node2']=list(X_train_scaled[:,:,[1,3,5,7]])\n",
    "\n",
    "dataset_test=pd.DataFrame(y_test)\n",
    "dataset_test['node1']=list(X_test_scaled[:,:,[0,2,4,6]])\n",
    "dataset_test['node2']=list(X_test_scaled[:,:,[1,3,5,7]])\n",
    "\n",
    "dataset_train_f=pd.DataFrame(y_train)\n",
    "dataset_train_f['node1']=list(X_train_scaled_f[:,:,[0,2]])\n",
    "dataset_train_f['node2']=list(X_train_scaled_f[:,:,[1,3]])\n",
    "\n",
    "dataset_test_f=pd.DataFrame(y_test)\n",
    "dataset_test_f['node1']=list(X_test_scaled_f[:,:,[0,2]])\n",
    "dataset_test_f['node2']=list(X_test_scaled_f[:,:,[1,3]])"
   ]
  },
  {
   "cell_type": "code",
   "execution_count": null,
   "metadata": {
    "id": "5olvkKTeqgm5"
   },
   "outputs": [],
   "source": [
    "#Adding Local infos\n",
    "padding_dim=20\n",
    "padding_val=1e6 ### all other values will be between 0 and 1s, only those which we want to mask will be 1e6\n",
    "def mask_pair(arr,local_features):\n",
    "  temp=copy.copy(local_features)\n",
    "  temp[[arr[2],arr[3]],:,:]=padding_val\n",
    "  return(temp)\n",
    "\n",
    "def add_local_info(df):\n",
    "  df=df.reset_index(drop=True)\n",
    "  node_features=pd.concat([df['node1'],df['node2'][len(df)-1:]],axis=0).reset_index(drop=True)\n",
    "  node_features=node_features[node_features.astype(str).drop_duplicates().index].reset_index(drop=True)\n",
    "  node_features=np.stack(node_features)\n",
    "  node_features=np.pad(node_features, [(0,padding_dim-node_features.shape[0]),(0,0),(0,0)], 'constant', constant_values=padding_val)\n",
    "  df['local_info']=df.apply(lambda row: mask_pair(row,node_features), axis=1)\n",
    "  return(df)"
   ]
  },
  {
   "cell_type": "code",
   "execution_count": null,
   "metadata": {
    "id": "erxRM-y-CEWH"
   },
   "outputs": [],
   "source": [
    "dataset_train1=dataset_train.groupby(1).apply(add_local_info).reset_index(drop=True)\n",
    "dataset_test1=dataset_test.groupby(1).apply(add_local_info).reset_index(drop=True)\n",
    "dataset_train_f1=dataset_train_f.groupby(1).apply(add_local_info).reset_index(drop=True)\n",
    "dataset_test_f1=dataset_test_f.groupby(1).apply(add_local_info).reset_index(drop=True)"
   ]
  },
  {
   "cell_type": "code",
   "execution_count": null,
   "metadata": {
    "id": "8kHTMzOHDcim"
   },
   "outputs": [],
   "source": [
    "X_train_scaled_local=np.stack(dataset_train1['local_info'])\n",
    "X_test_scaled_local=np.stack(dataset_test1['local_info'])\n",
    "X_train_scaled_f_local=np.stack(dataset_train_f1['local_info'])\n",
    "X_test_scaled_f_local=np.stack(dataset_test_f1['local_info'])"
   ]
  },
  {
   "cell_type": "code",
   "execution_count": null,
   "metadata": {
    "colab": {
     "base_uri": "https://localhost:8080/"
    },
    "id": "86bjG9d7Dn3S",
    "outputId": "02bd6328-f0fb-4adc-9976-cc766281590f"
   },
   "outputs": [
    {
     "name": "stdout",
     "output_type": "stream",
     "text": [
      "(21346, 50, 8)\n",
      "(2851, 50, 8)\n",
      "(21346, 26, 4)\n",
      "(2851, 26, 4)\n",
      "(21346, 20, 50, 4)\n",
      "(2851, 20, 50, 4)\n",
      "(21346, 20, 26, 2)\n",
      "(2851, 20, 26, 2)\n"
     ]
    }
   ],
   "source": [
    "print(X_train_scaled.shape)\n",
    "print(X_test_scaled.shape)\n",
    "print(X_train_scaled_f.shape)\n",
    "print(X_test_scaled_f.shape)\n",
    "\n",
    "print(X_train_scaled_local.shape)\n",
    "print(X_test_scaled_local.shape)\n",
    "print(X_train_scaled_f_local.shape)\n",
    "print(X_test_scaled_f_local.shape)"
   ]
  },
  {
   "cell_type": "code",
   "execution_count": null,
   "metadata": {
    "id": "u8CMIO_ToBr9"
   },
   "outputs": [],
   "source": [
    "\n",
    "# Part 2 - Building the RNN\n",
    "\n",
    "# Importing the Keras libraries and packages\n",
    "import tensorflow as tf\n",
    "from keras.models import Sequential\n",
    "from keras.layers import Dense\n",
    "from keras.layers import LSTM\n",
    "from keras.layers import Dropout\n",
    "from keras.layers import Input\n",
    "from tensorflow.keras import layers\n",
    "import keras\n",
    "\n",
    "input_1 = Input((X_train_scaled.shape[1], X_train_scaled.shape[2])) #50,8\n",
    "input_2 = Input((X_train_scaled_f.shape[1], X_train_scaled_f.shape[2])) #26,4\n",
    "\n",
    "input_3 = Input((X_train_scaled_local.shape[1], X_train_scaled_local.shape[2], X_train_scaled_local.shape[3])) #20,50,4\n",
    "input_4 = Input((X_train_scaled_f_local.shape[1], X_train_scaled_f_local.shape[2], X_train_scaled_f_local.shape[3])) #20,26,2\n",
    "\n",
    "\n",
    "x1=LSTM(units = 100, return_sequences = True)(input_1)\n",
    "x1=LSTM(units = 50)(x1)\n",
    "\n",
    "x2=LSTM(units = 100, return_sequences = True)(input_2)\n",
    "x2=LSTM(units = 50)(x2)\n",
    "\n",
    "x3=layers.Masking(mask_value=padding_val)(input_3)\n",
    "x3=layers.TimeDistributed(LSTM(units = 100, return_sequences = True))(x3)\n",
    "x3=layers.TimeDistributed(LSTM(units = 50))(x3)\n",
    "# x3=layers.TimeDistributed(Dense(units = 1))(x3)\n",
    "x3=layers.Flatten()(x3)\n",
    "\n",
    "x4=layers.Masking(mask_value=padding_val)(input_4)\n",
    "x4=layers.TimeDistributed(LSTM(units = 100, return_sequences = True))(x4)\n",
    "x4=layers.TimeDistributed(LSTM(units = 50))(x4)\n",
    "# x4=layers.TimeDistributed(Dense(units = 1))(x4)\n",
    "x4=layers.Flatten()(x4)\n",
    "\n",
    "x_neighbbours=layers.concatenate([x3,x4])\n",
    "x_neighbbours=layers.Dense(100)(x_neighbbours)\n",
    "\n",
    "x = layers.concatenate([x1, x2,x_neighbbours])\n",
    "x=layers.Dense(50)(x)\n",
    "\n",
    "output_layer = layers.Dense(1, activation=\"sigmoid\")(x)\n",
    "\n",
    "classifier=keras.Model(inputs=[input_1, input_2, input_3, input_4], outputs=output_layer)\n",
    "\n",
    "# Compiling the RNN\n",
    "classifier.compile(optimizer = 'adam', loss = 'binary_crossentropy', metrics = ['accuracy'])\n"
   ]
  },
  {
   "cell_type": "code",
   "execution_count": null,
   "metadata": {
    "colab": {
     "base_uri": "https://localhost:8080/"
    },
    "id": "B1KmTYGvWGWY",
    "outputId": "17613c7b-2ea9-429a-b280-e3e7d6435c2f"
   },
   "outputs": [
    {
     "name": "stdout",
     "output_type": "stream",
     "text": [
      "Model: \"model\"\n",
      "__________________________________________________________________________________________________\n",
      " Layer (type)                   Output Shape         Param #     Connected to                     \n",
      "==================================================================================================\n",
      " input_3 (InputLayer)           [(None, 20, 50, 4)]  0           []                               \n",
      "                                                                                                  \n",
      " input_4 (InputLayer)           [(None, 20, 26, 2)]  0           []                               \n",
      "                                                                                                  \n",
      " masking (Masking)              (None, 20, 50, 4)    0           ['input_3[0][0]']                \n",
      "                                                                                                  \n",
      " masking_1 (Masking)            (None, 20, 26, 2)    0           ['input_4[0][0]']                \n",
      "                                                                                                  \n",
      " time_distributed (TimeDistribu  (None, 20, 50, 100)  42000      ['masking[0][0]']                \n",
      " ted)                                                                                             \n",
      "                                                                                                  \n",
      " time_distributed_2 (TimeDistri  (None, 20, 26, 100)  41200      ['masking_1[0][0]']              \n",
      " buted)                                                                                           \n",
      "                                                                                                  \n",
      " time_distributed_1 (TimeDistri  (None, 20, 50)      30200       ['time_distributed[0][0]']       \n",
      " buted)                                                                                           \n",
      "                                                                                                  \n",
      " time_distributed_3 (TimeDistri  (None, 20, 50)      30200       ['time_distributed_2[0][0]']     \n",
      " buted)                                                                                           \n",
      "                                                                                                  \n",
      " input_1 (InputLayer)           [(None, 50, 8)]      0           []                               \n",
      "                                                                                                  \n",
      " input_2 (InputLayer)           [(None, 26, 4)]      0           []                               \n",
      "                                                                                                  \n",
      " flatten (Flatten)              (None, 1000)         0           ['time_distributed_1[0][0]']     \n",
      "                                                                                                  \n",
      " flatten_1 (Flatten)            (None, 1000)         0           ['time_distributed_3[0][0]']     \n",
      "                                                                                                  \n",
      " lstm (LSTM)                    (None, 50, 100)      43600       ['input_1[0][0]']                \n",
      "                                                                                                  \n",
      " lstm_2 (LSTM)                  (None, 26, 100)      42000       ['input_2[0][0]']                \n",
      "                                                                                                  \n",
      " concatenate (Concatenate)      (None, 2000)         0           ['flatten[0][0]',                \n",
      "                                                                  'flatten_1[0][0]']              \n",
      "                                                                                                  \n",
      " lstm_1 (LSTM)                  (None, 50)           30200       ['lstm[0][0]']                   \n",
      "                                                                                                  \n",
      " lstm_3 (LSTM)                  (None, 50)           30200       ['lstm_2[0][0]']                 \n",
      "                                                                                                  \n",
      " dense (Dense)                  (None, 100)          200100      ['concatenate[0][0]']            \n",
      "                                                                                                  \n",
      " concatenate_1 (Concatenate)    (None, 200)          0           ['lstm_1[0][0]',                 \n",
      "                                                                  'lstm_3[0][0]',                 \n",
      "                                                                  'dense[0][0]']                  \n",
      "                                                                                                  \n",
      " dense_1 (Dense)                (None, 50)           10050       ['concatenate_1[0][0]']          \n",
      "                                                                                                  \n",
      " dense_2 (Dense)                (None, 1)            51          ['dense_1[0][0]']                \n",
      "                                                                                                  \n",
      "==================================================================================================\n",
      "Total params: 499,801\n",
      "Trainable params: 499,801\n",
      "Non-trainable params: 0\n",
      "__________________________________________________________________________________________________\n"
     ]
    }
   ],
   "source": [
    "classifier.summary()"
   ]
  },
  {
   "cell_type": "code",
   "execution_count": null,
   "metadata": {
    "colab": {
     "base_uri": "https://localhost:8080/",
     "height": 953
    },
    "id": "e6KCwPfMWP5l",
    "outputId": "51236402-982b-424e-9e5d-0854fa7c67f9"
   },
   "outputs": [
    {
     "data": {
      "image/png": "[encoded data removed]",
      "text/plain": [
       "<IPython.core.display.Image object>"
      ]
     },
     "execution_count": 17,
     "metadata": {},
     "output_type": "execute_result"
    }
   ],
   "source": [
    "tf.keras.utils.plot_model(classifier)"
   ]
  },
  {
   "cell_type": "code",
   "execution_count": null,
   "metadata": {
    "id": "uf-jNI2KZJUu"
   },
   "outputs": [],
   "source": [
    "from tensorflow.keras.callbacks import ModelCheckpoint, EarlyStopping\n",
    "\n",
    "checkpoint = ModelCheckpoint(\"./drive/MyDrive/MSc Thesis/Experiments/models/LSTM_1d_freq_exp1_exp5_strat_local_info_v3.h5\",\n",
    "                             monitor=\"val_accuracy\",\n",
    "                             mode=\"max\",\n",
    "                             save_best_only = True,\n",
    "                             verbose=1)\n",
    "\n",
    "\n",
    "earlystop = EarlyStopping(monitor = 'val_accuracy', # value being monitored for improvement\n",
    "                          min_delta = 0, #Abs value and is the min change required before we stop\n",
    "                          patience = 20, #Number of epochs we wait before stopping \n",
    "                          verbose = 1,\n",
    "                          restore_best_weights = True) #keeps the best weigths once stopped\n",
    "\n",
    "# we put our call backs into a callback list\n",
    "callbacks = [earlystop,checkpoint]\n"
   ]
  },
  {
   "cell_type": "code",
   "execution_count": null,
   "metadata": {
    "colab": {
     "base_uri": "https://localhost:8080/"
    },
    "id": "jcUvZBOYoFNC",
    "outputId": "65cd094e-de5f-4a04-a315-687c37658c49"
   },
   "outputs": [
    {
     "name": "stdout",
     "output_type": "stream",
     "text": [
      "Epoch 1/200\n",
      "334/334 [==============================] - ETA: 0s - loss: 0.5430 - accuracy: 0.7124\n",
      "Epoch 1: val_accuracy improved from -inf to 0.71484, saving model to ./drive/MyDrive/MSc Thesis/Experiments/models/LSTM_1d_freq_exp1_exp5_strat_local_info_v3.h5\n",
      "334/334 [==============================] - 136s 338ms/step - loss: 0.5430 - accuracy: 0.7124 - val_loss: 0.5029 - val_accuracy: 0.7148\n",
      "Epoch 2/200\n",
      "334/334 [==============================] - ETA: 0s - loss: 0.5154 - accuracy: 0.7162\n",
      "Epoch 2: val_accuracy improved from 0.71484 to 0.71905, saving model to ./drive/MyDrive/MSc Thesis/Experiments/models/LSTM_1d_freq_exp1_exp5_strat_local_info_v3.h5\n",
      "334/334 [==============================] - 106s 318ms/step - loss: 0.5154 - accuracy: 0.7162 - val_loss: 0.5148 - val_accuracy: 0.7190\n",
      "Epoch 3/200\n",
      "334/334 [==============================] - ETA: 0s - loss: 0.5021 - accuracy: 0.7235\n",
      "Epoch 3: val_accuracy improved from 0.71905 to 0.73378, saving model to ./drive/MyDrive/MSc Thesis/Experiments/models/LSTM_1d_freq_exp1_exp5_strat_local_info_v3.h5\n",
      "334/334 [==============================] - 105s 316ms/step - loss: 0.5021 - accuracy: 0.7235 - val_loss: 0.4719 - val_accuracy: 0.7338\n",
      "Epoch 4/200\n",
      "334/334 [==============================] - ETA: 0s - loss: 0.4315 - accuracy: 0.7652\n",
      "Epoch 4: val_accuracy improved from 0.73378 to 0.78814, saving model to ./drive/MyDrive/MSc Thesis/Experiments/models/LSTM_1d_freq_exp1_exp5_strat_local_info_v3.h5\n",
      "334/334 [==============================] - 103s 309ms/step - loss: 0.4315 - accuracy: 0.7652 - val_loss: 0.3995 - val_accuracy: 0.7881\n",
      "Epoch 5/200\n",
      "334/334 [==============================] - ETA: 0s - loss: 0.3819 - accuracy: 0.8049\n",
      "Epoch 5: val_accuracy improved from 0.78814 to 0.82392, saving model to ./drive/MyDrive/MSc Thesis/Experiments/models/LSTM_1d_freq_exp1_exp5_strat_local_info_v3.h5\n",
      "334/334 [==============================] - 103s 308ms/step - loss: 0.3819 - accuracy: 0.8049 - val_loss: 0.3828 - val_accuracy: 0.8239\n",
      "Epoch 6/200\n",
      "334/334 [==============================] - ETA: 0s - loss: 0.3569 - accuracy: 0.8263\n",
      "Epoch 6: val_accuracy improved from 0.82392 to 0.83024, saving model to ./drive/MyDrive/MSc Thesis/Experiments/models/LSTM_1d_freq_exp1_exp5_strat_local_info_v3.h5\n",
      "334/334 [==============================] - 102s 306ms/step - loss: 0.3569 - accuracy: 0.8263 - val_loss: 0.3606 - val_accuracy: 0.8302\n",
      "Epoch 7/200\n",
      "334/334 [==============================] - ETA: 0s - loss: 0.3491 - accuracy: 0.8328\n",
      "Epoch 7: val_accuracy improved from 0.83024 to 0.84637, saving model to ./drive/MyDrive/MSc Thesis/Experiments/models/LSTM_1d_freq_exp1_exp5_strat_local_info_v3.h5\n",
      "334/334 [==============================] - 104s 312ms/step - loss: 0.3491 - accuracy: 0.8328 - val_loss: 0.3351 - val_accuracy: 0.8464\n",
      "Epoch 8/200\n",
      "334/334 [==============================] - ETA: 0s - loss: 0.3323 - accuracy: 0.8438\n",
      "Epoch 8: val_accuracy improved from 0.84637 to 0.85900, saving model to ./drive/MyDrive/MSc Thesis/Experiments/models/LSTM_1d_freq_exp1_exp5_strat_local_info_v3.h5\n",
      "334/334 [==============================] - 102s 306ms/step - loss: 0.3323 - accuracy: 0.8438 - val_loss: 0.3097 - val_accuracy: 0.8590\n",
      "Epoch 9/200\n",
      "334/334 [==============================] - ETA: 0s - loss: 0.3157 - accuracy: 0.8506\n",
      "Epoch 9: val_accuracy did not improve from 0.85900\n",
      "334/334 [==============================] - 101s 303ms/step - loss: 0.3157 - accuracy: 0.8506 - val_loss: 0.3176 - val_accuracy: 0.8471\n",
      "Epoch 10/200\n",
      "334/334 [==============================] - ETA: 0s - loss: 0.3084 - accuracy: 0.8566\n",
      "Epoch 10: val_accuracy did not improve from 0.85900\n",
      "334/334 [==============================] - 100s 301ms/step - loss: 0.3084 - accuracy: 0.8566 - val_loss: 0.3188 - val_accuracy: 0.8516\n",
      "Epoch 11/200\n",
      "334/334 [==============================] - ETA: 0s - loss: 0.2990 - accuracy: 0.8627\n",
      "Epoch 11: val_accuracy did not improve from 0.85900\n",
      "334/334 [==============================] - 101s 304ms/step - loss: 0.2990 - accuracy: 0.8627 - val_loss: 0.3203 - val_accuracy: 0.8464\n",
      "Epoch 12/200\n",
      "334/334 [==============================] - ETA: 0s - loss: 0.2822 - accuracy: 0.8694\n",
      "Epoch 12: val_accuracy improved from 0.85900 to 0.87934, saving model to ./drive/MyDrive/MSc Thesis/Experiments/models/LSTM_1d_freq_exp1_exp5_strat_local_info_v3.h5\n",
      "334/334 [==============================] - 103s 308ms/step - loss: 0.2822 - accuracy: 0.8694 - val_loss: 0.2670 - val_accuracy: 0.8793\n",
      "Epoch 13/200\n",
      "334/334 [==============================] - ETA: 0s - loss: 0.2709 - accuracy: 0.8747\n",
      "Epoch 13: val_accuracy did not improve from 0.87934\n",
      "334/334 [==============================] - 102s 307ms/step - loss: 0.2709 - accuracy: 0.8747 - val_loss: 0.2702 - val_accuracy: 0.8737\n",
      "Epoch 14/200\n",
      "334/334 [==============================] - ETA: 0s - loss: 0.2629 - accuracy: 0.8778\n",
      "Epoch 14: val_accuracy improved from 0.87934 to 0.88285, saving model to ./drive/MyDrive/MSc Thesis/Experiments/models/LSTM_1d_freq_exp1_exp5_strat_local_info_v3.h5\n",
      "334/334 [==============================] - 103s 308ms/step - loss: 0.2629 - accuracy: 0.8778 - val_loss: 0.2586 - val_accuracy: 0.8828\n",
      "Epoch 15/200\n",
      "334/334 [==============================] - ETA: 0s - loss: 0.2604 - accuracy: 0.8842\n",
      "Epoch 15: val_accuracy improved from 0.88285 to 0.88916, saving model to ./drive/MyDrive/MSc Thesis/Experiments/models/LSTM_1d_freq_exp1_exp5_strat_local_info_v3.h5\n",
      "334/334 [==============================] - 102s 304ms/step - loss: 0.2604 - accuracy: 0.8842 - val_loss: 0.2485 - val_accuracy: 0.8892\n",
      "Epoch 16/200\n",
      "334/334 [==============================] - ETA: 0s - loss: 0.2481 - accuracy: 0.8863\n",
      "Epoch 16: val_accuracy did not improve from 0.88916\n",
      "334/334 [==============================] - 100s 300ms/step - loss: 0.2481 - accuracy: 0.8863 - val_loss: 0.2511 - val_accuracy: 0.8821\n",
      "Epoch 17/200\n",
      "334/334 [==============================] - ETA: 0s - loss: 0.2465 - accuracy: 0.8898\n",
      "Epoch 17: val_accuracy did not improve from 0.88916\n",
      "334/334 [==============================] - 100s 299ms/step - loss: 0.2465 - accuracy: 0.8898 - val_loss: 0.3199 - val_accuracy: 0.8530\n",
      "Epoch 18/200\n",
      "334/334 [==============================] - ETA: 0s - loss: 0.2450 - accuracy: 0.8894\n",
      "Epoch 18: val_accuracy improved from 0.88916 to 0.89092, saving model to ./drive/MyDrive/MSc Thesis/Experiments/models/LSTM_1d_freq_exp1_exp5_strat_local_info_v3.h5\n",
      "334/334 [==============================] - 101s 302ms/step - loss: 0.2450 - accuracy: 0.8894 - val_loss: 0.2464 - val_accuracy: 0.8909\n",
      "Epoch 19/200\n",
      "334/334 [==============================] - ETA: 0s - loss: 0.2407 - accuracy: 0.8900\n",
      "Epoch 19: val_accuracy did not improve from 0.89092\n",
      "334/334 [==============================] - 100s 301ms/step - loss: 0.2407 - accuracy: 0.8900 - val_loss: 0.2447 - val_accuracy: 0.8874\n",
      "Epoch 20/200\n",
      "334/334 [==============================] - ETA: 0s - loss: 0.2245 - accuracy: 0.8986\n",
      "Epoch 20: val_accuracy did not improve from 0.89092\n",
      "334/334 [==============================] - 100s 300ms/step - loss: 0.2245 - accuracy: 0.8986 - val_loss: 0.2410 - val_accuracy: 0.8874\n",
      "Epoch 21/200\n",
      "334/334 [==============================] - ETA: 0s - loss: 0.2269 - accuracy: 0.8965\n",
      "Epoch 21: val_accuracy improved from 0.89092 to 0.89127, saving model to ./drive/MyDrive/MSc Thesis/Experiments/models/LSTM_1d_freq_exp1_exp5_strat_local_info_v3.h5\n",
      "334/334 [==============================] - 101s 301ms/step - loss: 0.2269 - accuracy: 0.8965 - val_loss: 0.2431 - val_accuracy: 0.8913\n",
      "Epoch 22/200\n",
      "334/334 [==============================] - ETA: 0s - loss: 0.2215 - accuracy: 0.9004\n",
      "Epoch 22: val_accuracy improved from 0.89127 to 0.89407, saving model to ./drive/MyDrive/MSc Thesis/Experiments/models/LSTM_1d_freq_exp1_exp5_strat_local_info_v3.h5\n",
      "334/334 [==============================] - 99s 297ms/step - loss: 0.2215 - accuracy: 0.9004 - val_loss: 0.2283 - val_accuracy: 0.8941\n",
      "Epoch 23/200\n",
      "334/334 [==============================] - ETA: 0s - loss: 0.2181 - accuracy: 0.9017\n",
      "Epoch 23: val_accuracy did not improve from 0.89407\n",
      "334/334 [==============================] - 99s 296ms/step - loss: 0.2181 - accuracy: 0.9017 - val_loss: 0.2459 - val_accuracy: 0.8895\n",
      "Epoch 24/200\n",
      "334/334 [==============================] - ETA: 0s - loss: 0.2175 - accuracy: 0.9021\n",
      "Epoch 24: val_accuracy improved from 0.89407 to 0.90249, saving model to ./drive/MyDrive/MSc Thesis/Experiments/models/LSTM_1d_freq_exp1_exp5_strat_local_info_v3.h5\n",
      "334/334 [==============================] - 99s 297ms/step - loss: 0.2175 - accuracy: 0.9021 - val_loss: 0.2197 - val_accuracy: 0.9025\n",
      "Epoch 25/200\n",
      "334/334 [==============================] - ETA: 0s - loss: 0.2109 - accuracy: 0.9083\n",
      "Epoch 25: val_accuracy did not improve from 0.90249\n",
      "334/334 [==============================] - 98s 294ms/step - loss: 0.2109 - accuracy: 0.9083 - val_loss: 0.2161 - val_accuracy: 0.9014\n",
      "Epoch 26/200\n",
      "334/334 [==============================] - ETA: 0s - loss: 0.2103 - accuracy: 0.9069\n",
      "Epoch 26: val_accuracy did not improve from 0.90249\n",
      "334/334 [==============================] - 98s 294ms/step - loss: 0.2103 - accuracy: 0.9069 - val_loss: 0.2544 - val_accuracy: 0.8807\n",
      "Epoch 27/200\n",
      "334/334 [==============================] - ETA: 0s - loss: 0.2080 - accuracy: 0.9072\n",
      "Epoch 27: val_accuracy improved from 0.90249 to 0.90319, saving model to ./drive/MyDrive/MSc Thesis/Experiments/models/LSTM_1d_freq_exp1_exp5_strat_local_info_v3.h5\n",
      "334/334 [==============================] - 99s 297ms/step - loss: 0.2080 - accuracy: 0.9072 - val_loss: 0.2137 - val_accuracy: 0.9032\n",
      "Epoch 28/200\n",
      "334/334 [==============================] - ETA: 0s - loss: 0.1983 - accuracy: 0.9115\n",
      "Epoch 28: val_accuracy did not improve from 0.90319\n",
      "334/334 [==============================] - 102s 305ms/step - loss: 0.1983 - accuracy: 0.9115 - val_loss: 0.2487 - val_accuracy: 0.8878\n",
      "Epoch 29/200\n",
      "334/334 [==============================] - ETA: 0s - loss: 0.2021 - accuracy: 0.9110\n",
      "Epoch 29: val_accuracy improved from 0.90319 to 0.90565, saving model to ./drive/MyDrive/MSc Thesis/Experiments/models/LSTM_1d_freq_exp1_exp5_strat_local_info_v3.h5\n",
      "334/334 [==============================] - 100s 299ms/step - loss: 0.2021 - accuracy: 0.9110 - val_loss: 0.2096 - val_accuracy: 0.9056\n",
      "Epoch 30/200\n",
      "334/334 [==============================] - ETA: 0s - loss: 0.1985 - accuracy: 0.9131\n",
      "Epoch 30: val_accuracy did not improve from 0.90565\n",
      "334/334 [==============================] - 98s 294ms/step - loss: 0.1985 - accuracy: 0.9131 - val_loss: 0.2339 - val_accuracy: 0.8944\n",
      "Epoch 31/200\n",
      "334/334 [==============================] - ETA: 0s - loss: 0.1954 - accuracy: 0.9134\n",
      "Epoch 31: val_accuracy did not improve from 0.90565\n",
      "334/334 [==============================] - 96s 288ms/step - loss: 0.1954 - accuracy: 0.9134 - val_loss: 0.2417 - val_accuracy: 0.8906\n",
      "Epoch 32/200\n",
      "334/334 [==============================] - ETA: 0s - loss: 0.1934 - accuracy: 0.9156\n",
      "Epoch 32: val_accuracy did not improve from 0.90565\n",
      "334/334 [==============================] - 97s 291ms/step - loss: 0.1934 - accuracy: 0.9156 - val_loss: 0.2098 - val_accuracy: 0.9032\n",
      "Epoch 33/200\n",
      "334/334 [==============================] - ETA: 0s - loss: 0.1844 - accuracy: 0.9175\n",
      "Epoch 33: val_accuracy did not improve from 0.90565\n",
      "334/334 [==============================] - 97s 289ms/step - loss: 0.1844 - accuracy: 0.9175 - val_loss: 0.2328 - val_accuracy: 0.8979\n",
      "Epoch 34/200\n",
      "334/334 [==============================] - ETA: 0s - loss: 0.1835 - accuracy: 0.9200\n",
      "Epoch 34: val_accuracy improved from 0.90565 to 0.90951, saving model to ./drive/MyDrive/MSc Thesis/Experiments/models/LSTM_1d_freq_exp1_exp5_strat_local_info_v3.h5\n",
      "334/334 [==============================] - 97s 291ms/step - loss: 0.1835 - accuracy: 0.9200 - val_loss: 0.2070 - val_accuracy: 0.9095\n",
      "Epoch 35/200\n",
      "334/334 [==============================] - ETA: 0s - loss: 0.1839 - accuracy: 0.9214\n",
      "Epoch 35: val_accuracy improved from 0.90951 to 0.91407, saving model to ./drive/MyDrive/MSc Thesis/Experiments/models/LSTM_1d_freq_exp1_exp5_strat_local_info_v3.h5\n",
      "334/334 [==============================] - 97s 290ms/step - loss: 0.1839 - accuracy: 0.9214 - val_loss: 0.1904 - val_accuracy: 0.9141\n",
      "Epoch 36/200\n",
      "334/334 [==============================] - ETA: 0s - loss: 0.1816 - accuracy: 0.9218\n",
      "Epoch 36: val_accuracy improved from 0.91407 to 0.91792, saving model to ./drive/MyDrive/MSc Thesis/Experiments/models/LSTM_1d_freq_exp1_exp5_strat_local_info_v3.h5\n",
      "334/334 [==============================] - 97s 292ms/step - loss: 0.1816 - accuracy: 0.9218 - val_loss: 0.1812 - val_accuracy: 0.9179\n",
      "Epoch 37/200\n",
      "334/334 [==============================] - ETA: 0s - loss: 0.1841 - accuracy: 0.9178\n",
      "Epoch 37: val_accuracy did not improve from 0.91792\n",
      "334/334 [==============================] - 97s 289ms/step - loss: 0.1841 - accuracy: 0.9178 - val_loss: 0.2369 - val_accuracy: 0.9011\n",
      "Epoch 38/200\n",
      "334/334 [==============================] - ETA: 0s - loss: 0.1741 - accuracy: 0.9245\n",
      "Epoch 38: val_accuracy did not improve from 0.91792\n",
      "334/334 [==============================] - 97s 290ms/step - loss: 0.1741 - accuracy: 0.9245 - val_loss: 0.2282 - val_accuracy: 0.8951\n",
      "Epoch 39/200\n",
      "334/334 [==============================] - ETA: 0s - loss: 0.1749 - accuracy: 0.9238\n",
      "Epoch 39: val_accuracy did not improve from 0.91792\n",
      "334/334 [==============================] - 96s 288ms/step - loss: 0.1749 - accuracy: 0.9238 - val_loss: 0.2331 - val_accuracy: 0.8958\n",
      "Epoch 40/200\n",
      "334/334 [==============================] - ETA: 0s - loss: 0.1736 - accuracy: 0.9265\n",
      "Epoch 40: val_accuracy did not improve from 0.91792\n",
      "334/334 [==============================] - 97s 291ms/step - loss: 0.1736 - accuracy: 0.9265 - val_loss: 0.1978 - val_accuracy: 0.9092\n",
      "Epoch 41/200\n",
      "334/334 [==============================] - ETA: 0s - loss: 0.1645 - accuracy: 0.9283\n",
      "Epoch 41: val_accuracy did not improve from 0.91792\n",
      "334/334 [==============================] - 96s 288ms/step - loss: 0.1645 - accuracy: 0.9283 - val_loss: 0.1896 - val_accuracy: 0.9172\n",
      "Epoch 42/200\n",
      "334/334 [==============================] - ETA: 0s - loss: 0.1614 - accuracy: 0.9300\n",
      "Epoch 42: val_accuracy did not improve from 0.91792\n",
      "334/334 [==============================] - 96s 289ms/step - loss: 0.1614 - accuracy: 0.9300 - val_loss: 0.1856 - val_accuracy: 0.9137\n",
      "Epoch 43/200\n",
      "334/334 [==============================] - ETA: 0s - loss: 0.1645 - accuracy: 0.9287\n",
      "Epoch 43: val_accuracy did not improve from 0.91792\n",
      "334/334 [==============================] - 96s 287ms/step - loss: 0.1645 - accuracy: 0.9287 - val_loss: 0.2486 - val_accuracy: 0.8906\n",
      "Epoch 44/200\n",
      "334/334 [==============================] - ETA: 0s - loss: 0.1585 - accuracy: 0.9319\n",
      "Epoch 44: val_accuracy improved from 0.91792 to 0.92634, saving model to ./drive/MyDrive/MSc Thesis/Experiments/models/LSTM_1d_freq_exp1_exp5_strat_local_info_v3.h5\n",
      "334/334 [==============================] - 97s 290ms/step - loss: 0.1585 - accuracy: 0.9319 - val_loss: 0.1743 - val_accuracy: 0.9263\n",
      "Epoch 45/200\n",
      "334/334 [==============================] - ETA: 0s - loss: 0.1506 - accuracy: 0.9345\n",
      "Epoch 45: val_accuracy did not improve from 0.92634\n",
      "334/334 [==============================] - 96s 288ms/step - loss: 0.1506 - accuracy: 0.9345 - val_loss: 0.2005 - val_accuracy: 0.9134\n",
      "Epoch 46/200\n",
      "334/334 [==============================] - ETA: 0s - loss: 0.1483 - accuracy: 0.9369\n",
      "Epoch 46: val_accuracy did not improve from 0.92634\n",
      "334/334 [==============================] - 99s 297ms/step - loss: 0.1483 - accuracy: 0.9369 - val_loss: 0.1874 - val_accuracy: 0.9218\n",
      "Epoch 47/200\n",
      "334/334 [==============================] - ETA: 0s - loss: 0.1453 - accuracy: 0.9362\n",
      "Epoch 47: val_accuracy did not improve from 0.92634\n",
      "334/334 [==============================] - 98s 294ms/step - loss: 0.1453 - accuracy: 0.9362 - val_loss: 0.2008 - val_accuracy: 0.9137\n",
      "Epoch 48/200\n",
      "334/334 [==============================] - ETA: 0s - loss: 0.1559 - accuracy: 0.9332\n",
      "Epoch 48: val_accuracy did not improve from 0.92634\n",
      "334/334 [==============================] - 99s 295ms/step - loss: 0.1559 - accuracy: 0.9332 - val_loss: 0.1808 - val_accuracy: 0.9253\n",
      "Epoch 49/200\n",
      "334/334 [==============================] - ETA: 0s - loss: 0.1422 - accuracy: 0.9390\n",
      "Epoch 49: val_accuracy improved from 0.92634 to 0.92985, saving model to ./drive/MyDrive/MSc Thesis/Experiments/models/LSTM_1d_freq_exp1_exp5_strat_local_info_v3.h5\n",
      "334/334 [==============================] - 100s 301ms/step - loss: 0.1422 - accuracy: 0.9390 - val_loss: 0.1688 - val_accuracy: 0.9298\n",
      "Epoch 50/200\n",
      "334/334 [==============================] - ETA: 0s - loss: 0.1443 - accuracy: 0.9378\n",
      "Epoch 50: val_accuracy did not improve from 0.92985\n",
      "334/334 [==============================] - 100s 299ms/step - loss: 0.1443 - accuracy: 0.9378 - val_loss: 0.1842 - val_accuracy: 0.9221\n",
      "Epoch 51/200\n",
      "334/334 [==============================] - ETA: 0s - loss: 0.1459 - accuracy: 0.9389\n",
      "Epoch 51: val_accuracy improved from 0.92985 to 0.93301, saving model to ./drive/MyDrive/MSc Thesis/Experiments/models/LSTM_1d_freq_exp1_exp5_strat_local_info_v3.h5\n",
      "334/334 [==============================] - 100s 299ms/step - loss: 0.1459 - accuracy: 0.9389 - val_loss: 0.1649 - val_accuracy: 0.9330\n",
      "Epoch 52/200\n",
      "334/334 [==============================] - ETA: 0s - loss: 0.1349 - accuracy: 0.9423\n",
      "Epoch 52: val_accuracy did not improve from 0.93301\n",
      "334/334 [==============================] - 99s 297ms/step - loss: 0.1349 - accuracy: 0.9423 - val_loss: 0.1807 - val_accuracy: 0.9316\n",
      "Epoch 53/200\n",
      "334/334 [==============================] - ETA: 0s - loss: 0.1377 - accuracy: 0.9415\n",
      "Epoch 53: val_accuracy did not improve from 0.93301\n",
      "334/334 [==============================] - 99s 298ms/step - loss: 0.1377 - accuracy: 0.9415 - val_loss: 0.1787 - val_accuracy: 0.9267\n",
      "Epoch 54/200\n",
      "334/334 [==============================] - ETA: 0s - loss: 0.1284 - accuracy: 0.9457\n",
      "Epoch 54: val_accuracy did not improve from 0.93301\n",
      "334/334 [==============================] - 100s 300ms/step - loss: 0.1284 - accuracy: 0.9457 - val_loss: 0.1758 - val_accuracy: 0.9277\n",
      "Epoch 55/200\n",
      "334/334 [==============================] - ETA: 0s - loss: 0.1305 - accuracy: 0.9442\n",
      "Epoch 55: val_accuracy did not improve from 0.93301\n",
      "334/334 [==============================] - 100s 301ms/step - loss: 0.1305 - accuracy: 0.9442 - val_loss: 0.1895 - val_accuracy: 0.9235\n",
      "Epoch 56/200\n",
      "334/334 [==============================] - ETA: 0s - loss: 0.1281 - accuracy: 0.9445\n",
      "Epoch 56: val_accuracy did not improve from 0.93301\n",
      "334/334 [==============================] - 99s 296ms/step - loss: 0.1281 - accuracy: 0.9445 - val_loss: 0.1849 - val_accuracy: 0.9239\n",
      "Epoch 57/200\n",
      "334/334 [==============================] - ETA: 0s - loss: 0.1275 - accuracy: 0.9459\n",
      "Epoch 57: val_accuracy did not improve from 0.93301\n",
      "334/334 [==============================] - 99s 297ms/step - loss: 0.1275 - accuracy: 0.9459 - val_loss: 0.1754 - val_accuracy: 0.9260\n",
      "Epoch 58/200\n",
      "334/334 [==============================] - ETA: 0s - loss: 0.1239 - accuracy: 0.9485\n",
      "Epoch 58: val_accuracy did not improve from 0.93301\n",
      "334/334 [==============================] - 99s 295ms/step - loss: 0.1239 - accuracy: 0.9485 - val_loss: 0.1712 - val_accuracy: 0.9295\n",
      "Epoch 59/200\n",
      "334/334 [==============================] - ETA: 0s - loss: 0.1213 - accuracy: 0.9494\n",
      "Epoch 59: val_accuracy did not improve from 0.93301\n",
      "334/334 [==============================] - 100s 298ms/step - loss: 0.1213 - accuracy: 0.9494 - val_loss: 0.1708 - val_accuracy: 0.9274\n",
      "Epoch 60/200\n",
      "334/334 [==============================] - ETA: 0s - loss: 0.1182 - accuracy: 0.9513\n",
      "Epoch 60: val_accuracy did not improve from 0.93301\n",
      "334/334 [==============================] - 99s 298ms/step - loss: 0.1182 - accuracy: 0.9513 - val_loss: 0.1910 - val_accuracy: 0.9211\n",
      "Epoch 61/200\n",
      "334/334 [==============================] - ETA: 0s - loss: 0.1213 - accuracy: 0.9497\n",
      "Epoch 61: val_accuracy improved from 0.93301 to 0.93686, saving model to ./drive/MyDrive/MSc Thesis/Experiments/models/LSTM_1d_freq_exp1_exp5_strat_local_info_v3.h5\n",
      "334/334 [==============================] - 101s 303ms/step - loss: 0.1213 - accuracy: 0.9497 - val_loss: 0.1601 - val_accuracy: 0.9369\n",
      "Epoch 62/200\n",
      "334/334 [==============================] - ETA: 0s - loss: 0.1092 - accuracy: 0.9539\n",
      "Epoch 62: val_accuracy did not improve from 0.93686\n",
      "334/334 [==============================] - 99s 297ms/step - loss: 0.1092 - accuracy: 0.9539 - val_loss: 0.1953 - val_accuracy: 0.9228\n",
      "Epoch 63/200\n",
      "334/334 [==============================] - ETA: 0s - loss: 0.1118 - accuracy: 0.9541\n",
      "Epoch 63: val_accuracy did not improve from 0.93686\n",
      "334/334 [==============================] - 99s 298ms/step - loss: 0.1118 - accuracy: 0.9541 - val_loss: 0.1846 - val_accuracy: 0.9288\n",
      "Epoch 64/200\n",
      "334/334 [==============================] - ETA: 0s - loss: 0.1172 - accuracy: 0.9514\n",
      "Epoch 64: val_accuracy did not improve from 0.93686\n",
      "334/334 [==============================] - 101s 304ms/step - loss: 0.1172 - accuracy: 0.9514 - val_loss: 0.1792 - val_accuracy: 0.9270\n",
      "Epoch 65/200\n",
      "334/334 [==============================] - ETA: 0s - loss: 0.1159 - accuracy: 0.9508\n",
      "Epoch 65: val_accuracy did not improve from 0.93686\n",
      "334/334 [==============================] - 102s 305ms/step - loss: 0.1159 - accuracy: 0.9508 - val_loss: 0.1700 - val_accuracy: 0.9327\n",
      "Epoch 66/200\n",
      "334/334 [==============================] - ETA: 0s - loss: 0.1044 - accuracy: 0.9567\n",
      "Epoch 66: val_accuracy improved from 0.93686 to 0.94002, saving model to ./drive/MyDrive/MSc Thesis/Experiments/models/LSTM_1d_freq_exp1_exp5_strat_local_info_v3.h5\n",
      "334/334 [==============================] - 102s 306ms/step - loss: 0.1044 - accuracy: 0.9567 - val_loss: 0.1615 - val_accuracy: 0.9400\n",
      "Epoch 67/200\n",
      "334/334 [==============================] - ETA: 0s - loss: 0.1124 - accuracy: 0.9533\n",
      "Epoch 67: val_accuracy did not improve from 0.94002\n",
      "334/334 [==============================] - 101s 303ms/step - loss: 0.1124 - accuracy: 0.9533 - val_loss: 0.1652 - val_accuracy: 0.9379\n",
      "Epoch 68/200\n",
      "334/334 [==============================] - ETA: 0s - loss: 0.1129 - accuracy: 0.9525\n",
      "Epoch 68: val_accuracy did not improve from 0.94002\n",
      "334/334 [==============================] - 101s 302ms/step - loss: 0.1129 - accuracy: 0.9525 - val_loss: 0.1592 - val_accuracy: 0.9351\n",
      "Epoch 69/200\n",
      "334/334 [==============================] - ETA: 0s - loss: 0.1006 - accuracy: 0.9581\n",
      "Epoch 69: val_accuracy did not improve from 0.94002\n",
      "334/334 [==============================] - 101s 301ms/step - loss: 0.1006 - accuracy: 0.9581 - val_loss: 0.2175 - val_accuracy: 0.9137\n",
      "Epoch 70/200\n",
      "334/334 [==============================] - ETA: 0s - loss: 0.1032 - accuracy: 0.9584\n",
      "Epoch 70: val_accuracy did not improve from 0.94002\n",
      "334/334 [==============================] - 99s 297ms/step - loss: 0.1032 - accuracy: 0.9584 - val_loss: 0.1651 - val_accuracy: 0.9351\n",
      "Epoch 71/200\n",
      "334/334 [==============================] - ETA: 0s - loss: 0.1044 - accuracy: 0.9570\n",
      "Epoch 71: val_accuracy did not improve from 0.94002\n",
      "334/334 [==============================] - 99s 298ms/step - loss: 0.1044 - accuracy: 0.9570 - val_loss: 0.1723 - val_accuracy: 0.9337\n",
      "Epoch 72/200\n",
      "334/334 [==============================] - ETA: 0s - loss: 0.0978 - accuracy: 0.9613\n",
      "Epoch 72: val_accuracy did not improve from 0.94002\n",
      "334/334 [==============================] - 100s 300ms/step - loss: 0.0978 - accuracy: 0.9613 - val_loss: 0.1877 - val_accuracy: 0.9327\n",
      "Epoch 73/200\n",
      "334/334 [==============================] - ETA: 0s - loss: 0.0932 - accuracy: 0.9625\n",
      "Epoch 73: val_accuracy did not improve from 0.94002\n",
      "334/334 [==============================] - 99s 296ms/step - loss: 0.0932 - accuracy: 0.9625 - val_loss: 0.2646 - val_accuracy: 0.9056\n",
      "Epoch 74/200\n",
      "334/334 [==============================] - ETA: 0s - loss: 0.0907 - accuracy: 0.9622\n",
      "Epoch 74: val_accuracy did not improve from 0.94002\n",
      "334/334 [==============================] - 98s 293ms/step - loss: 0.0907 - accuracy: 0.9622 - val_loss: 0.1763 - val_accuracy: 0.9291\n",
      "Epoch 75/200\n",
      "334/334 [==============================] - ETA: 0s - loss: 0.0899 - accuracy: 0.9626\n",
      "Epoch 75: val_accuracy improved from 0.94002 to 0.94213, saving model to ./drive/MyDrive/MSc Thesis/Experiments/models/LSTM_1d_freq_exp1_exp5_strat_local_info_v3.h5\n",
      "334/334 [==============================] - 98s 294ms/step - loss: 0.0899 - accuracy: 0.9626 - val_loss: 0.1517 - val_accuracy: 0.9421\n",
      "Epoch 76/200\n",
      "334/334 [==============================] - ETA: 0s - loss: 0.0908 - accuracy: 0.9633\n",
      "Epoch 76: val_accuracy did not improve from 0.94213\n",
      "334/334 [==============================] - 98s 292ms/step - loss: 0.0908 - accuracy: 0.9633 - val_loss: 0.1916 - val_accuracy: 0.9242\n",
      "Epoch 77/200\n",
      "334/334 [==============================] - ETA: 0s - loss: 0.0870 - accuracy: 0.9659\n",
      "Epoch 77: val_accuracy did not improve from 0.94213\n",
      "334/334 [==============================] - 97s 291ms/step - loss: 0.0870 - accuracy: 0.9659 - val_loss: 0.1705 - val_accuracy: 0.9400\n",
      "Epoch 78/200\n",
      "334/334 [==============================] - ETA: 0s - loss: 0.0929 - accuracy: 0.9617\n",
      "Epoch 78: val_accuracy did not improve from 0.94213\n",
      "334/334 [==============================] - 97s 292ms/step - loss: 0.0929 - accuracy: 0.9617 - val_loss: 0.1699 - val_accuracy: 0.9341\n",
      "Epoch 79/200\n",
      "334/334 [==============================] - ETA: 0s - loss: 0.0899 - accuracy: 0.9639\n",
      "Epoch 79: val_accuracy did not improve from 0.94213\n",
      "334/334 [==============================] - 97s 291ms/step - loss: 0.0899 - accuracy: 0.9639 - val_loss: 0.1692 - val_accuracy: 0.9390\n",
      "Epoch 80/200\n",
      "334/334 [==============================] - ETA: 0s - loss: 0.0870 - accuracy: 0.9655\n",
      "Epoch 80: val_accuracy did not improve from 0.94213\n",
      "334/334 [==============================] - 97s 291ms/step - loss: 0.0870 - accuracy: 0.9655 - val_loss: 0.1782 - val_accuracy: 0.9309\n",
      "Epoch 81/200\n",
      "334/334 [==============================] - ETA: 0s - loss: 0.0795 - accuracy: 0.9684\n",
      "Epoch 81: val_accuracy did not improve from 0.94213\n",
      "334/334 [==============================] - 97s 290ms/step - loss: 0.0795 - accuracy: 0.9684 - val_loss: 0.1793 - val_accuracy: 0.9372\n",
      "Epoch 82/200\n",
      "334/334 [==============================] - ETA: 0s - loss: 0.0775 - accuracy: 0.9690\n",
      "Epoch 82: val_accuracy did not improve from 0.94213\n",
      "334/334 [==============================] - 97s 290ms/step - loss: 0.0775 - accuracy: 0.9690 - val_loss: 0.2606 - val_accuracy: 0.9148\n",
      "Epoch 83/200\n",
      "334/334 [==============================] - ETA: 0s - loss: 0.0813 - accuracy: 0.9678\n",
      "Epoch 83: val_accuracy improved from 0.94213 to 0.94248, saving model to ./drive/MyDrive/MSc Thesis/Experiments/models/LSTM_1d_freq_exp1_exp5_strat_local_info_v3.h5\n",
      "334/334 [==============================] - 98s 292ms/step - loss: 0.0813 - accuracy: 0.9678 - val_loss: 0.1815 - val_accuracy: 0.9425\n",
      "Epoch 84/200\n",
      "334/334 [==============================] - ETA: 0s - loss: 0.0758 - accuracy: 0.9695\n",
      "Epoch 84: val_accuracy did not improve from 0.94248\n",
      "334/334 [==============================] - 95s 286ms/step - loss: 0.0758 - accuracy: 0.9695 - val_loss: 0.2061 - val_accuracy: 0.9267\n",
      "Epoch 85/200\n",
      "334/334 [==============================] - ETA: 0s - loss: 0.0768 - accuracy: 0.9693\n",
      "Epoch 85: val_accuracy improved from 0.94248 to 0.94283, saving model to ./drive/MyDrive/MSc Thesis/Experiments/models/LSTM_1d_freq_exp1_exp5_strat_local_info_v3.h5\n",
      "334/334 [==============================] - 97s 289ms/step - loss: 0.0768 - accuracy: 0.9693 - val_loss: 0.1620 - val_accuracy: 0.9428\n",
      "Epoch 86/200\n",
      "334/334 [==============================] - ETA: 0s - loss: 0.0703 - accuracy: 0.9707\n",
      "Epoch 86: val_accuracy improved from 0.94283 to 0.95616, saving model to ./drive/MyDrive/MSc Thesis/Experiments/models/LSTM_1d_freq_exp1_exp5_strat_local_info_v3.h5\n",
      "334/334 [==============================] - 96s 289ms/step - loss: 0.0703 - accuracy: 0.9707 - val_loss: 0.1466 - val_accuracy: 0.9562\n",
      "Epoch 87/200\n",
      "334/334 [==============================] - ETA: 0s - loss: 0.0723 - accuracy: 0.9717\n",
      "Epoch 87: val_accuracy did not improve from 0.95616\n",
      "334/334 [==============================] - 95s 286ms/step - loss: 0.0723 - accuracy: 0.9717 - val_loss: 0.1469 - val_accuracy: 0.9498\n",
      "Epoch 88/200\n",
      "334/334 [==============================] - ETA: 0s - loss: 0.0704 - accuracy: 0.9721\n",
      "Epoch 88: val_accuracy did not improve from 0.95616\n",
      "334/334 [==============================] - 95s 284ms/step - loss: 0.0704 - accuracy: 0.9721 - val_loss: 0.1670 - val_accuracy: 0.9446\n",
      "Epoch 89/200\n",
      "334/334 [==============================] - ETA: 0s - loss: 0.0629 - accuracy: 0.9753\n",
      "Epoch 89: val_accuracy did not improve from 0.95616\n",
      "334/334 [==============================] - 99s 296ms/step - loss: 0.0629 - accuracy: 0.9753 - val_loss: 0.1600 - val_accuracy: 0.9463\n",
      "Epoch 90/200\n",
      "334/334 [==============================] - ETA: 0s - loss: 0.0735 - accuracy: 0.9723\n",
      "Epoch 90: val_accuracy did not improve from 0.95616\n",
      "334/334 [==============================] - 95s 286ms/step - loss: 0.0735 - accuracy: 0.9723 - val_loss: 0.1838 - val_accuracy: 0.9337\n",
      "Epoch 91/200\n",
      "334/334 [==============================] - ETA: 0s - loss: 0.0649 - accuracy: 0.9732\n",
      "Epoch 91: val_accuracy did not improve from 0.95616\n",
      "334/334 [==============================] - 95s 285ms/step - loss: 0.0649 - accuracy: 0.9732 - val_loss: 0.1425 - val_accuracy: 0.9516\n",
      "Epoch 92/200\n",
      "334/334 [==============================] - ETA: 0s - loss: 0.0646 - accuracy: 0.9752\n",
      "Epoch 92: val_accuracy did not improve from 0.95616\n",
      "334/334 [==============================] - 96s 287ms/step - loss: 0.0646 - accuracy: 0.9752 - val_loss: 0.1834 - val_accuracy: 0.9404\n",
      "Epoch 93/200\n",
      "334/334 [==============================] - ETA: 0s - loss: 0.0772 - accuracy: 0.9688\n",
      "Epoch 93: val_accuracy did not improve from 0.95616\n",
      "334/334 [==============================] - 95s 285ms/step - loss: 0.0772 - accuracy: 0.9688 - val_loss: 0.1621 - val_accuracy: 0.9390\n",
      "Epoch 94/200\n",
      "334/334 [==============================] - ETA: 0s - loss: 0.0626 - accuracy: 0.9765\n",
      "Epoch 94: val_accuracy did not improve from 0.95616\n",
      "334/334 [==============================] - 95s 285ms/step - loss: 0.0626 - accuracy: 0.9765 - val_loss: 0.1710 - val_accuracy: 0.9407\n",
      "Epoch 95/200\n",
      "334/334 [==============================] - ETA: 0s - loss: 0.0644 - accuracy: 0.9742\n",
      "Epoch 95: val_accuracy did not improve from 0.95616\n",
      "334/334 [==============================] - 96s 286ms/step - loss: 0.0644 - accuracy: 0.9742 - val_loss: 0.1489 - val_accuracy: 0.9456\n",
      "Epoch 96/200\n",
      "334/334 [==============================] - ETA: 0s - loss: 0.0699 - accuracy: 0.9722\n",
      "Epoch 96: val_accuracy did not improve from 0.95616\n",
      "334/334 [==============================] - 95s 285ms/step - loss: 0.0699 - accuracy: 0.9722 - val_loss: 0.1708 - val_accuracy: 0.9393\n",
      "Epoch 97/200\n",
      "334/334 [==============================] - ETA: 0s - loss: 0.0514 - accuracy: 0.9800\n",
      "Epoch 97: val_accuracy did not improve from 0.95616\n",
      "334/334 [==============================] - 95s 285ms/step - loss: 0.0514 - accuracy: 0.9800 - val_loss: 0.1808 - val_accuracy: 0.9463\n",
      "Epoch 98/200\n",
      "334/334 [==============================] - ETA: 0s - loss: 0.0648 - accuracy: 0.9747\n",
      "Epoch 98: val_accuracy did not improve from 0.95616\n",
      "334/334 [==============================] - 95s 286ms/step - loss: 0.0648 - accuracy: 0.9747 - val_loss: 0.1592 - val_accuracy: 0.9470\n",
      "Epoch 99/200\n",
      "334/334 [==============================] - ETA: 0s - loss: 0.0625 - accuracy: 0.9755\n",
      "Epoch 99: val_accuracy did not improve from 0.95616\n",
      "334/334 [==============================] - 95s 285ms/step - loss: 0.0625 - accuracy: 0.9755 - val_loss: 0.1822 - val_accuracy: 0.9407\n",
      "Epoch 100/200\n",
      "334/334 [==============================] - ETA: 0s - loss: 0.0606 - accuracy: 0.9766\n",
      "Epoch 100: val_accuracy did not improve from 0.95616\n",
      "334/334 [==============================] - 95s 285ms/step - loss: 0.0606 - accuracy: 0.9766 - val_loss: 0.1572 - val_accuracy: 0.9530\n",
      "Epoch 101/200\n",
      "334/334 [==============================] - ETA: 0s - loss: 0.0550 - accuracy: 0.9785\n",
      "Epoch 101: val_accuracy improved from 0.95616 to 0.95931, saving model to ./drive/MyDrive/MSc Thesis/Experiments/models/LSTM_1d_freq_exp1_exp5_strat_local_info_v3.h5\n",
      "334/334 [==============================] - 96s 289ms/step - loss: 0.0550 - accuracy: 0.9785 - val_loss: 0.1450 - val_accuracy: 0.9593\n",
      "Epoch 102/200\n",
      "334/334 [==============================] - ETA: 0s - loss: 0.0687 - accuracy: 0.9733\n",
      "Epoch 102: val_accuracy did not improve from 0.95931\n",
      "334/334 [==============================] - 96s 286ms/step - loss: 0.0687 - accuracy: 0.9733 - val_loss: 0.1462 - val_accuracy: 0.9509\n",
      "Epoch 103/200\n",
      "334/334 [==============================] - ETA: 0s - loss: 0.0609 - accuracy: 0.9757\n",
      "Epoch 103: val_accuracy did not improve from 0.95931\n",
      "334/334 [==============================] - 95s 285ms/step - loss: 0.0609 - accuracy: 0.9757 - val_loss: 0.1678 - val_accuracy: 0.9526\n",
      "Epoch 104/200\n",
      "334/334 [==============================] - ETA: 0s - loss: 0.0516 - accuracy: 0.9809\n",
      "Epoch 104: val_accuracy did not improve from 0.95931\n",
      "334/334 [==============================] - 95s 286ms/step - loss: 0.0516 - accuracy: 0.9809 - val_loss: 0.1585 - val_accuracy: 0.9583\n",
      "Epoch 105/200\n",
      "334/334 [==============================] - ETA: 0s - loss: 0.0464 - accuracy: 0.9829\n",
      "Epoch 105: val_accuracy did not improve from 0.95931\n",
      "334/334 [==============================] - 95s 285ms/step - loss: 0.0464 - accuracy: 0.9829 - val_loss: 0.1921 - val_accuracy: 0.9505\n",
      "Epoch 106/200\n",
      "334/334 [==============================] - ETA: 0s - loss: 0.0571 - accuracy: 0.9782\n",
      "Epoch 106: val_accuracy did not improve from 0.95931\n",
      "334/334 [==============================] - 95s 285ms/step - loss: 0.0571 - accuracy: 0.9782 - val_loss: 0.1625 - val_accuracy: 0.9432\n",
      "Epoch 107/200\n",
      "334/334 [==============================] - ETA: 0s - loss: 0.0519 - accuracy: 0.9798\n",
      "Epoch 107: val_accuracy did not improve from 0.95931\n",
      "334/334 [==============================] - 96s 286ms/step - loss: 0.0519 - accuracy: 0.9798 - val_loss: 0.1564 - val_accuracy: 0.9537\n",
      "Epoch 108/200\n",
      "334/334 [==============================] - ETA: 0s - loss: 0.0469 - accuracy: 0.9822\n",
      "Epoch 108: val_accuracy did not improve from 0.95931\n",
      "334/334 [==============================] - 96s 286ms/step - loss: 0.0469 - accuracy: 0.9822 - val_loss: 0.1559 - val_accuracy: 0.9491\n",
      "Epoch 109/200\n",
      "334/334 [==============================] - ETA: 0s - loss: 0.0552 - accuracy: 0.9797\n",
      "Epoch 109: val_accuracy did not improve from 0.95931\n",
      "334/334 [==============================] - 95s 285ms/step - loss: 0.0552 - accuracy: 0.9797 - val_loss: 0.1475 - val_accuracy: 0.9548\n",
      "Epoch 110/200\n",
      "334/334 [==============================] - ETA: 0s - loss: 0.0549 - accuracy: 0.9799\n",
      "Epoch 110: val_accuracy did not improve from 0.95931\n",
      "334/334 [==============================] - 95s 286ms/step - loss: 0.0549 - accuracy: 0.9799 - val_loss: 0.2000 - val_accuracy: 0.9362\n",
      "Epoch 111/200\n",
      "334/334 [==============================] - ETA: 0s - loss: 0.0478 - accuracy: 0.9823\n",
      "Epoch 111: val_accuracy did not improve from 0.95931\n",
      "334/334 [==============================] - 94s 282ms/step - loss: 0.0478 - accuracy: 0.9823 - val_loss: 0.1824 - val_accuracy: 0.9470\n",
      "Epoch 112/200\n",
      "334/334 [==============================] - ETA: 0s - loss: 0.0527 - accuracy: 0.9796\n",
      "Epoch 112: val_accuracy did not improve from 0.95931\n",
      "334/334 [==============================] - 95s 284ms/step - loss: 0.0527 - accuracy: 0.9796 - val_loss: 0.1726 - val_accuracy: 0.9491\n",
      "Epoch 113/200\n",
      "334/334 [==============================] - ETA: 0s - loss: 0.0466 - accuracy: 0.9827\n",
      "Epoch 113: val_accuracy did not improve from 0.95931\n",
      "334/334 [==============================] - 95s 284ms/step - loss: 0.0466 - accuracy: 0.9827 - val_loss: 0.2021 - val_accuracy: 0.9379\n",
      "Epoch 114/200\n",
      "334/334 [==============================] - ETA: 0s - loss: 0.0499 - accuracy: 0.9814\n",
      "Epoch 114: val_accuracy did not improve from 0.95931\n",
      "334/334 [==============================] - 95s 284ms/step - loss: 0.0499 - accuracy: 0.9814 - val_loss: 0.1705 - val_accuracy: 0.9530\n",
      "Epoch 115/200\n",
      "334/334 [==============================] - ETA: 0s - loss: 0.0425 - accuracy: 0.9842\n",
      "Epoch 115: val_accuracy did not improve from 0.95931\n",
      "334/334 [==============================] - 95s 285ms/step - loss: 0.0425 - accuracy: 0.9842 - val_loss: 0.1644 - val_accuracy: 0.9530\n",
      "Epoch 116/200\n",
      "334/334 [==============================] - ETA: 0s - loss: 0.0497 - accuracy: 0.9812\n",
      "Epoch 116: val_accuracy did not improve from 0.95931\n",
      "334/334 [==============================] - 95s 284ms/step - loss: 0.0497 - accuracy: 0.9812 - val_loss: 0.1837 - val_accuracy: 0.9463\n",
      "Epoch 117/200\n",
      "334/334 [==============================] - ETA: 0s - loss: 0.0524 - accuracy: 0.9804\n",
      "Epoch 117: val_accuracy did not improve from 0.95931\n",
      "334/334 [==============================] - 94s 282ms/step - loss: 0.0524 - accuracy: 0.9804 - val_loss: 0.1544 - val_accuracy: 0.9505\n",
      "Epoch 118/200\n",
      "334/334 [==============================] - ETA: 0s - loss: 0.0415 - accuracy: 0.9837\n",
      "Epoch 118: val_accuracy did not improve from 0.95931\n",
      "334/334 [==============================] - 95s 284ms/step - loss: 0.0415 - accuracy: 0.9837 - val_loss: 0.1687 - val_accuracy: 0.9491\n",
      "Epoch 119/200\n",
      "334/334 [==============================] - ETA: 0s - loss: 0.0595 - accuracy: 0.9773\n",
      "Epoch 119: val_accuracy did not improve from 0.95931\n",
      "334/334 [==============================] - 95s 285ms/step - loss: 0.0595 - accuracy: 0.9773 - val_loss: 0.1478 - val_accuracy: 0.9526\n",
      "Epoch 120/200\n",
      "334/334 [==============================] - ETA: 0s - loss: 0.0393 - accuracy: 0.9863\n",
      "Epoch 120: val_accuracy did not improve from 0.95931\n",
      "334/334 [==============================] - 95s 284ms/step - loss: 0.0393 - accuracy: 0.9863 - val_loss: 0.1607 - val_accuracy: 0.9474\n",
      "Epoch 121/200\n",
      "334/334 [==============================] - ETA: 0s - loss: 0.0294 - accuracy: 0.9897Restoring model weights from the end of the best epoch: 101.\n",
      "\n",
      "Epoch 121: val_accuracy did not improve from 0.95931\n",
      "334/334 [==============================] - 95s 286ms/step - loss: 0.0294 - accuracy: 0.9897 - val_loss: 0.1720 - val_accuracy: 0.9519\n",
      "Epoch 121: early stopping\n"
     ]
    }
   ],
   "source": [
    "# Fitting the RNN to the Training set\n",
    "history=classifier.fit([X_train_scaled,X_train_scaled_f,X_train_scaled_local,X_train_scaled_f_local], y_train[:,0], epochs = 200, batch_size = 64,validation_data=([X_test_scaled,X_test_scaled_f,X_test_scaled_local,X_test_scaled_f_local],y_test[:,0]),callbacks=callbacks)\n"
   ]
  },
  {
   "cell_type": "code",
   "execution_count": null,
   "metadata": {
    "colab": {
     "base_uri": "https://localhost:8080/"
    },
    "id": "7puZMrQ6rZ8B",
    "outputId": "e9ff150a-13d1-4ae1-8bfc-bceda5e95978"
   },
   "outputs": [
    {
     "name": "stdout",
     "output_type": "stream",
     "text": [
      "90/90 [==============================] - 4s 40ms/step - loss: 0.1450 - accuracy: 0.9593\n"
     ]
    },
    {
     "data": {
      "text/plain": [
       "[0.14497017860412598, 0.9593124985694885]"
      ]
     },
     "execution_count": 20,
     "metadata": {},
     "output_type": "execute_result"
    }
   ],
   "source": [
    "classifier.evaluate([X_test_scaled,X_test_scaled_f,X_test_scaled_local,X_test_scaled_f_local],y_test[:,0])"
   ]
  },
  {
   "cell_type": "code",
   "execution_count": null,
   "metadata": {
    "colab": {
     "base_uri": "https://localhost:8080/",
     "height": 334
    },
    "id": "pXaIqqGvsq2-",
    "outputId": "5ab56a98-ef91-4002-830a-de026fdb0114"
   },
   "outputs": [
    {
     "data": {
      "image/png": "[encoded data removed]",
      "text/plain": [
       "<Figure size 1080x360 with 2 Axes>"
      ]
     },
     "metadata": {
      "needs_background": "light"
     },
     "output_type": "display_data"
    }
   ],
   "source": [
    "import matplotlib.pyplot as plt\n",
    "def display_learning_curves(history):\n",
    "    fig, (ax1, ax2) = plt.subplots(1, 2, figsize=(15, 5))\n",
    "\n",
    "    ax1.plot(history.history[\"loss\"])\n",
    "    ax1.plot(history.history[\"val_loss\"])\n",
    "    ax1.legend([\"train\", \"valid\"], loc=\"upper right\")\n",
    "    ax1.set_xlabel(\"Epochs\")\n",
    "    ax1.set_ylabel(\"Loss\")\n",
    "\n",
    "    ax2.plot(history.history[\"accuracy\"])\n",
    "    ax2.plot(history.history[\"val_accuracy\"])\n",
    "    ax2.legend([\"train\", \"valid\"], loc=\"upper right\")\n",
    "    ax2.set_xlabel(\"Epochs\")\n",
    "    ax2.set_ylabel(\"Accuracy\")\n",
    "    plt.show()\n",
    "\n",
    "display_learning_curves(history)"
   ]
  },
  {
   "cell_type": "code",
   "execution_count": null,
   "metadata": {
    "id": "jzJ3rz1JZlM7"
   },
   "outputs": [],
   "source": []
  },
  {
   "cell_type": "code",
   "execution_count": null,
   "metadata": {
    "id": "L0VKJswYTc4O"
   },
   "outputs": [],
   "source": [
    "import tensorflow as tf\n",
    "temp=tf.keras.models.load_model(\"./drive/MyDrive/MSc Thesis/Experiments/models/LSTM_1d_freq_exp1_exp5_strat_local_info_v3.h5\")"
   ]
  },
  {
   "cell_type": "code",
   "execution_count": null,
   "metadata": {
    "colab": {
     "base_uri": "https://localhost:8080/"
    },
    "id": "u9bgdUJETn0g",
    "outputId": "7d9bbee8-9672-4eba-f390-f32e85a8ca8e"
   },
   "outputs": [
    {
     "name": "stdout",
     "output_type": "stream",
     "text": [
      "2851/2851 [==============================] - 108s 36ms/step - loss: 0.1450 - accuracy: 0.9593\n"
     ]
    },
    {
     "data": {
      "text/plain": [
       "[0.14496974647045135, 0.9593124985694885]"
      ]
     },
     "execution_count": 23,
     "metadata": {},
     "output_type": "execute_result"
    }
   ],
   "source": [
    "temp.evaluate([X_test_scaled,X_test_scaled_f,X_test_scaled_local,X_test_scaled_f_local], y_test[:,0], 1)"
   ]
  },
  {
   "cell_type": "code",
   "execution_count": null,
   "metadata": {
    "colab": {
     "base_uri": "https://localhost:8080/"
    },
    "id": "hbTiJwqAZhcj",
    "outputId": "ac26e4c5-beb5-4f12-9364-2744428467f9"
   },
   "outputs": [
    {
     "name": "stdout",
     "output_type": "stream",
     "text": [
      "90/90 [==============================] - 9s 40ms/step - loss: 0.1450 - accuracy: 0.9593\n"
     ]
    },
    {
     "data": {
      "text/plain": [
       "[0.14497017860412598, 0.9593124985694885]"
      ]
     },
     "execution_count": 24,
     "metadata": {},
     "output_type": "execute_result"
    }
   ],
   "source": [
    "temp.evaluate([X_test_scaled,X_test_scaled_f,X_test_scaled_local,X_test_scaled_f_local], y_test[:,0])"
   ]
  },
  {
   "cell_type": "code",
   "execution_count": null,
   "metadata": {
    "id": "RD4YF1AuT2tn"
   },
   "outputs": [],
   "source": [
    "y_pred = temp.predict([X_test_scaled,X_test_scaled_f,X_test_scaled_local,X_test_scaled_f_local])\n",
    "y_pred= (y_pred>=0.5).astype(int)"
   ]
  },
  {
   "cell_type": "code",
   "execution_count": null,
   "metadata": {
    "colab": {
     "base_uri": "https://localhost:8080/"
    },
    "id": "sjx-DjHUWp52",
    "outputId": "b7d83d12-6031-4bc8-fec7-744d847fe599"
   },
   "outputs": [
    {
     "data": {
      "text/plain": [
       "array([[1],\n",
       "       [0],\n",
       "       [0],\n",
       "       ...,\n",
       "       [1],\n",
       "       [1],\n",
       "       [0]])"
      ]
     },
     "execution_count": 26,
     "metadata": {},
     "output_type": "execute_result"
    }
   ],
   "source": [
    "y_pred"
   ]
  },
  {
   "cell_type": "code",
   "execution_count": null,
   "metadata": {
    "id": "ipevqB9rXDeW"
   },
   "outputs": [],
   "source": [
    "from sklearn.metrics import accuracy_score, f1_score, classification_report,confusion_matrix"
   ]
  },
  {
   "cell_type": "code",
   "execution_count": null,
   "metadata": {
    "colab": {
     "base_uri": "https://localhost:8080/"
    },
    "id": "rSeo2ltUXffg",
    "outputId": "1135f3a9-007e-4311-9e76-1915879bf9d7"
   },
   "outputs": [
    {
     "data": {
      "text/plain": [
       "array([[1956,   75],\n",
       "       [  41,  779]])"
      ]
     },
     "execution_count": 28,
     "metadata": {},
     "output_type": "execute_result"
    }
   ],
   "source": [
    "confusion_matrix(y_test[:,0],y_pred)"
   ]
  },
  {
   "cell_type": "code",
   "execution_count": null,
   "metadata": {
    "colab": {
     "base_uri": "https://localhost:8080/"
    },
    "id": "eM1TBa2IXtj2",
    "outputId": "8946525d-87af-4784-e213-ccd72ec90337"
   },
   "outputs": [
    {
     "data": {
      "text/plain": [
       "0.9593125219221326"
      ]
     },
     "execution_count": 29,
     "metadata": {},
     "output_type": "execute_result"
    }
   ],
   "source": [
    "accuracy_score(y_test[:,0],y_pred)"
   ]
  },
  {
   "cell_type": "code",
   "execution_count": null,
   "metadata": {
    "colab": {
     "base_uri": "https://localhost:8080/"
    },
    "id": "_9V2DcARYNq6",
    "outputId": "e7c69264-0d9b-453c-b7dc-e2fda6e39b08"
   },
   "outputs": [
    {
     "data": {
      "text/plain": [
       "0.9307048984468339"
      ]
     },
     "execution_count": 30,
     "metadata": {},
     "output_type": "execute_result"
    }
   ],
   "source": [
    "f1_score(y_test[:,0],y_pred)"
   ]
  },
  {
   "cell_type": "code",
   "execution_count": null,
   "metadata": {
    "colab": {
     "base_uri": "https://localhost:8080/"
    },
    "id": "JwAjeUnMYQ1O",
    "outputId": "321ca199-5492-4e0d-dc04-00bef459a7f4"
   },
   "outputs": [
    {
     "name": "stdout",
     "output_type": "stream",
     "text": [
      "              precision    recall  f1-score   support\n",
      "\n",
      "           0       0.98      0.96      0.97      2031\n",
      "           1       0.91      0.95      0.93       820\n",
      "\n",
      "    accuracy                           0.96      2851\n",
      "   macro avg       0.95      0.96      0.95      2851\n",
      "weighted avg       0.96      0.96      0.96      2851\n",
      "\n"
     ]
    }
   ],
   "source": [
    "print(classification_report(y_test[:,0],y_pred))"
   ]
  },
  {
   "cell_type": "code",
   "execution_count": null,
   "metadata": {
    "id": "vKWvey6_f1IK"
   },
   "outputs": [],
   "source": [
    "# ###Collect F-Score 10 times\n",
    "# import sklearn\n",
    "# from tqdm.notebook import tqdm\n",
    "# def calc_f1_score(X_train_scaled,X_train_scaled_local,X_test_scaled,X_test_scaled_local,X_train_scaled_f,X_train_scaled_f_local,X_test_scaled_f,X_test_scaled_f_local,y_train,y_test,earlystop):\n",
    "#   input_1 = Input((X_train_scaled.shape[1], X_train_scaled.shape[2])) #50,8\n",
    "#   input_2 = Input((X_train_scaled_f.shape[1], X_train_scaled_f.shape[2])) #26,4\n",
    "#   input_3 = Input((X_train_scaled_local.shape[1], X_train_scaled_local.shape[2], X_train_scaled_local.shape[3])) #20,50,4\n",
    "#   input_4 = Input((X_train_scaled_f_local.shape[1], X_train_scaled_f_local.shape[2], X_train_scaled_f_local.shape[3])) #20,26,2\n",
    "#   x1=LSTM(units = 100, return_sequences = True)(input_1)\n",
    "#   x1=LSTM(units = 50)(x1)\n",
    "#   x2=LSTM(units = 100, return_sequences = True)(input_2)\n",
    "#   x2=LSTM(units = 50)(x2)\n",
    "#   x3=layers.Masking(mask_value=padding_val)(input_3)\n",
    "#   x3=layers.TimeDistributed(LSTM(units = 100, return_sequences = True))(x3)\n",
    "#   x3=layers.TimeDistributed(LSTM(units = 50))(x3)\n",
    "#   x3=layers.Flatten()(x3)\n",
    "#   x4=layers.Masking(mask_value=padding_val)(input_4)\n",
    "#   x4=layers.TimeDistributed(LSTM(units = 100, return_sequences = True))(x4)\n",
    "#   x4=layers.TimeDistributed(LSTM(units = 50))(x4)\n",
    "#   x4=layers.Flatten()(x4)\n",
    "#   x_neighbbours=layers.concatenate([x3,x4])\n",
    "#   x_neighbbours=layers.Dense(100,activation='relu')(x_neighbbours)\n",
    "#   x = layers.concatenate([x1, x2,x_neighbbours])\n",
    "#   x=layers.Dense(50,activation='relu')(x)\n",
    "#   output_layer = layers.Dense(1, activation=\"sigmoid\")(x)\n",
    "#   classifier=keras.Model(inputs=[input_1, input_2, input_3, input_4], outputs=output_layer)\n",
    "#   # Compiling the RNN\n",
    "#   classifier.compile(optimizer = 'adam', loss = 'binary_crossentropy', metrics = ['accuracy'])\n",
    "\n",
    "#   classifier.fit([X_train_scaled,X_train_scaled_f,X_train_scaled_local,X_train_scaled_f_local], y_train[:,0], epochs = 500, batch_size = 64,validation_data=([X_test_scaled,X_test_scaled_f,X_test_scaled_local,X_test_scaled_f_local],y_test[:,0]),callbacks=[earlystop])\n",
    "#   y_pred = classifier.predict([X_test_scaled,X_test_scaled_f,X_test_scaled_local,X_test_scaled_f_local])\n",
    "#   y_pred= (y_pred>=0.5).astype(int)\n",
    "#   return(sklearn.metrics.f1_score(y_test[:,0],y_pred))\n",
    "\n",
    "# f1_score_list=[]\n",
    "# for i in tqdm(range(10)):\n",
    "#   f1_score_list=f1_score_list+[calc_f1_score(X_train_scaled,X_train_scaled_local,X_test_scaled,X_test_scaled_local,X_train_scaled_f,X_train_scaled_f_local,X_test_scaled_f,X_test_scaled_f_local,y_train,y_test,earlystop)]\n",
    "#   print(\"Number of iterations\",len(f1_score_list))\n",
    "#   print(\"F1-scores: \",f1_score_list)\n",
    "#   print(\"Average F1-Score\",np.mean(f1_score_list))\n",
    "#   print(\"Std Dev F1-Score\",np.std(f1_score_list))\n",
    "#   print(\"Error bar F1-Score\",np.std(f1_score_list)/np.sqrt(len(f1_score_list)))\n"
   ]
  }
 ],
 "metadata": {
  "accelerator": "GPU",
  "colab": {
   "collapsed_sections": [],
   "machine_shape": "hm",
   "name": "LSTM_1d_freq_exp1_exp5_local_pairwise_v2.ipynb",
   "provenance": []
  },
  "gpuClass": "standard",
  "kernelspec": {
   "display_name": "Python 3 (ipykernel)",
   "language": "python",
   "name": "python3"
  },
  "language_info": {
   "codemirror_mode": {
    "name": "ipython",
    "version": 3
   },
   "file_extension": ".py",
   "mimetype": "text/x-python",
   "name": "python",
   "nbconvert_exporter": "python",
   "pygments_lexer": "ipython3",
   "version": "3.9.7"
  }
 },
 "nbformat": 4,
 "nbformat_minor": 1
}
