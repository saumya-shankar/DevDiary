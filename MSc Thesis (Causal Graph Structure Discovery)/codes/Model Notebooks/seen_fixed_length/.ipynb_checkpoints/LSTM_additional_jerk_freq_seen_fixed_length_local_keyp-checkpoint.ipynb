{
 "cells": [
  {
   "cell_type": "code",
   "execution_count": null,
   "metadata": {
    "colab": {
     "base_uri": "https://localhost:8080/"
    },
    "id": "9JYsWwiwnPzi",
    "outputId": "e792de38-66d6-4107-e5de-902f2a9b79d7"
   },
   "outputs": [
    {
     "name": "stdout",
     "output_type": "stream",
     "text": [
      "Mon Aug  8 03:22:51 2022       \n",
      "+-----------------------------------------------------------------------------+\n",
      "| NVIDIA-SMI 460.32.03    Driver Version: 460.32.03    CUDA Version: 11.2     |\n",
      "|-------------------------------+----------------------+----------------------+\n",
      "| GPU  Name        Persistence-M| Bus-Id        Disp.A | Volatile Uncorr. ECC |\n",
      "| Fan  Temp  Perf  Pwr:Usage/Cap|         Memory-Usage | GPU-Util  Compute M. |\n",
      "|                               |                      |               MIG M. |\n",
      "|===============================+======================+======================|\n",
      "|   0  Tesla P100-PCIE...  Off  | 00000000:00:04.0 Off |                    0 |\n",
      "| N/A   35C    P0    27W / 250W |      0MiB / 16280MiB |      0%      Default |\n",
      "|                               |                      |                  N/A |\n",
      "+-------------------------------+----------------------+----------------------+\n",
      "                                                                               \n",
      "+-----------------------------------------------------------------------------+\n",
      "| Processes:                                                                  |\n",
      "|  GPU   GI   CI        PID   Type   Process name                  GPU Memory |\n",
      "|        ID   ID                                                   Usage      |\n",
      "|=============================================================================|\n",
      "|  No running processes found                                                 |\n",
      "+-----------------------------------------------------------------------------+\n"
     ]
    }
   ],
   "source": [
    "gpu_info = !nvidia-smi\n",
    "gpu_info = '\\n'.join(gpu_info)\n",
    "if gpu_info.find('failed') >= 0:\n",
    "  print('Not connected to a GPU')\n",
    "else:\n",
    "  print(gpu_info)"
   ]
  },
  {
   "cell_type": "code",
   "execution_count": null,
   "metadata": {
    "colab": {
     "base_uri": "https://localhost:8080/"
    },
    "id": "IdNIB899nhlq",
    "outputId": "8c3d4000-9eda-429e-99bc-2b001f7af4bd"
   },
   "outputs": [
    {
     "name": "stdout",
     "output_type": "stream",
     "text": [
      "Mounted at /content/drive\n"
     ]
    }
   ],
   "source": [
    "#mounting google drive on colab\n",
    "from google.colab import drive\n",
    "drive.mount('/content/drive')"
   ]
  },
  {
   "cell_type": "code",
   "execution_count": null,
   "metadata": {
    "id": "GfSazzTdnmaM"
   },
   "outputs": [],
   "source": [
    "# Importing the libraries\n",
    "import numpy as np\n",
    "import matplotlib.pyplot as plt\n",
    "import pandas as pd\n",
    "import copy\n",
    "from scipy import signal"
   ]
  },
  {
   "cell_type": "code",
   "execution_count": null,
   "metadata": {
    "id": "bXN_d9Evntel"
   },
   "outputs": [],
   "source": [
    "X_train=np.load(\"./drive/MyDrive/MSc Thesis/Experiments/all_pairs_ts_data_X_trainv7_exp1_strat.npy\")\n",
    "y_train=np.load(\"./drive/MyDrive/MSc Thesis/Experiments/all_pairs_ts_data_y_trainv7_exp1_strat.npy\").astype(int)\n",
    "\n",
    "X_test=np.load(\"./drive/MyDrive/MSc Thesis/Experiments/all_pairs_ts_data_X_testv7_exp1_strat.npy\")\n",
    "y_test=np.load(\"./drive/MyDrive/MSc Thesis/Experiments/all_pairs_ts_data_y_testv7_exp1_strat.npy\").astype(int)\n"
   ]
  },
  {
   "cell_type": "code",
   "execution_count": null,
   "metadata": {
    "colab": {
     "base_uri": "https://localhost:8080/"
    },
    "id": "NVkzHpArmQFD",
    "outputId": "ac322a65-c5a6-44a8-8467-43301939f81c"
   },
   "outputs": [
    {
     "name": "stderr",
     "output_type": "stream",
     "text": [
      "/usr/local/lib/python3.7/dist-packages/scipy/signal/spectral.py:1966: UserWarning: nperseg = 256 is greater than input length  = 50, using nperseg = 50\n",
      "  .format(nperseg, input_length))\n"
     ]
    }
   ],
   "source": [
    "def calc_freq_signal(arr):\n",
    "    freqs, psd = signal.welch(arr, fs=10)\n",
    "    return psd\n",
    "\n",
    "X_train_f=np.apply_along_axis(calc_freq_signal, 1, X_train)\n",
    "X_test_f=np.apply_along_axis(calc_freq_signal, 1, X_test)\n"
   ]
  },
  {
   "cell_type": "code",
   "execution_count": null,
   "metadata": {
    "id": "6MFvsoGCeuLr"
   },
   "outputs": [],
   "source": [
    "X_train_1d=np.gradient(X_train,axis=1)\n",
    "X_test_1d=np.gradient(X_test,axis=1)\n",
    "X_train=np.dstack([X_train,X_train_1d])\n",
    "X_test=np.dstack([X_test,X_test_1d])"
   ]
  },
  {
   "cell_type": "code",
   "execution_count": null,
   "metadata": {
    "id": "uT-WuU1ohSbG"
   },
   "outputs": [],
   "source": [
    "def custom_scaler(X, range=(0, 1),min=None,max=None):\n",
    "    mi, ma = range\n",
    "    if(min==None):\n",
    "      min=X.min()\n",
    "      max=X.max()\n",
    "      print(\"\\nTrain_Scaling:- min=\",min,\" max=\",max)\n",
    "    X_std = (X - min) / (max - min)\n",
    "    X_scaled = X_std * (ma - mi) + mi\n",
    "    return min,max,X_scaled"
   ]
  },
  {
   "cell_type": "code",
   "execution_count": null,
   "metadata": {
    "colab": {
     "base_uri": "https://localhost:8080/"
    },
    "id": "Bc2GRbYck53M",
    "outputId": "1166b8cb-26da-4045-e5dc-6468ec830a59"
   },
   "outputs": [
    {
     "name": "stdout",
     "output_type": "stream",
     "text": [
      "\n",
      "Train_Scaling:- min= -23.713684702675817  max= 31.485281374238568\n",
      "\n",
      "Train_Scaling:- min= -24.82483202959873  max= 27.77992367859456\n",
      "\n",
      "Train_Scaling:- min= -9.741382183644802  max= 12.104502946593886\n",
      "\n",
      "Train_Scaling:- min= -17.405683792063165  max= 17.232860997377067\n",
      "Frequency signals scaling:-------------\n",
      "\n",
      "Train_Scaling:- min= 0.0  max= 416.8466535787175\n",
      "\n",
      "Train_Scaling:- min= 0.0  max= 935.9266404552648\n"
     ]
    }
   ],
   "source": [
    "# Feature Scaling\n",
    "#X_train contains 8 signals x1,x2,y1,y2,x1d,2d,y1d,y2d\n",
    "X_train_scaled=copy.copy(X_train)\n",
    "X_test_scaled=copy.copy(X_test)\n",
    "\n",
    "min_temp,max_temp,X_train_scaled[:,:,0:2]=custom_scaler(X_train_scaled[:,:,0:2],range=(0,1))\n",
    "_,_,X_test_scaled[:,:,0:2]=custom_scaler(X_test_scaled[:,:,0:2],range=(0,1),min=min_temp,max=max_temp)\n",
    "\n",
    "min_temp,max_temp,X_train_scaled[:,:,2:4]=custom_scaler(X_train_scaled[:,:,2:4],range=(0,1))\n",
    "_,_,X_test_scaled[:,:,2:4]=custom_scaler(X_test_scaled[:,:,2:4],range=(0,1),min=min_temp,max=max_temp)\n",
    "\n",
    "min_temp,max_temp,X_train_scaled[:,:,4:6]=custom_scaler(X_train_scaled[:,:,4:6],range=(0,1))\n",
    "_,_,X_test_scaled[:,:,4:6]=custom_scaler(X_test_scaled[:,:,4:6],range=(0,1),min=min_temp,max=max_temp)\n",
    "\n",
    "min_temp,max_temp,X_train_scaled[:,:,6:8]=custom_scaler(X_train_scaled[:,:,6:8],range=(0,1))\n",
    "_,_,X_test_scaled[:,:,6:8]=custom_scaler(X_test_scaled[:,:,6:8],range=(0,1),min=min_temp,max=max_temp)\n",
    "\n",
    "\n",
    "print(\"Frequency signals scaling:-------------\")\n",
    "#X_train contains 8 signals x1f,x2f,y1f,y2f\n",
    "X_train_scaled_f=copy.copy(X_train_f)\n",
    "X_test_scaled_f=copy.copy(X_test_f)\n",
    "\n",
    "min_temp,max_temp,X_train_scaled_f[:,:,0:2]=custom_scaler(X_train_scaled_f[:,:,0:2],range=(0,1))\n",
    "_,_,X_test_scaled_f[:,:,0:2]=custom_scaler(X_test_scaled_f[:,:,0:2],range=(0,1),min=min_temp,max=max_temp)\n",
    "\n",
    "min_temp,max_temp,X_train_scaled_f[:,:,2:4]=custom_scaler(X_train_scaled_f[:,:,2:4],range=(0,1))\n",
    "_,_,X_test_scaled_f[:,:,2:4]=custom_scaler(X_test_scaled_f[:,:,2:4],range=(0,1),min=min_temp,max=max_temp)\n"
   ]
  },
  {
   "cell_type": "code",
   "execution_count": null,
   "metadata": {
    "colab": {
     "base_uri": "https://localhost:8080/"
    },
    "id": "L7JWtkWdfSCb",
    "outputId": "107c7249-c98a-4e36-fa9a-5d89564237cf"
   },
   "outputs": [
    {
     "name": "stdout",
     "output_type": "stream",
     "text": [
      "(21256, 50, 8)\n",
      "(21256, 26, 4)\n",
      "(2798, 50, 8)\n",
      "(2798, 26, 4)\n"
     ]
    }
   ],
   "source": [
    "print(X_train_scaled.shape)\n",
    "print(X_train_scaled_f.shape)\n",
    "\n",
    "print(X_test_scaled.shape)\n",
    "print(X_test_scaled_f.shape)"
   ]
  },
  {
   "cell_type": "code",
   "execution_count": null,
   "metadata": {},
   "outputs": [],
   "source": [
    "##Creating neighbouring keypoint information"
   ]
  },
  {
   "cell_type": "code",
   "execution_count": null,
   "metadata": {
    "id": "iLgHyiJDrclv"
   },
   "outputs": [],
   "source": [
    "dataset_train=pd.DataFrame(y_train)\n",
    "dataset_train['node1']=list(X_train_scaled[:,:,[0,2,4,6]])\n",
    "dataset_train['node2']=list(X_train_scaled[:,:,[1,3,5,7]])\n",
    "\n",
    "dataset_test=pd.DataFrame(y_test)\n",
    "dataset_test['node1']=list(X_test_scaled[:,:,[0,2,4,6]])\n",
    "dataset_test['node2']=list(X_test_scaled[:,:,[1,3,5,7]])\n",
    "\n",
    "dataset_train_f=pd.DataFrame(y_train)\n",
    "dataset_train_f['node1']=list(X_train_scaled_f[:,:,[0,2]])\n",
    "dataset_train_f['node2']=list(X_train_scaled_f[:,:,[1,3]])\n",
    "\n",
    "dataset_test_f=pd.DataFrame(y_test)\n",
    "dataset_test_f['node1']=list(X_test_scaled_f[:,:,[0,2]])\n",
    "dataset_test_f['node2']=list(X_test_scaled_f[:,:,[1,3]])"
   ]
  },
  {
   "cell_type": "code",
   "execution_count": null,
   "metadata": {
    "id": "5olvkKTeqgm5"
   },
   "outputs": [],
   "source": [
    "#Adding Local infos\n",
    "padding_dim=20\n",
    "padding_val=1e6 ### all other values will be between 0 and 1s, only those which we want to mask will be 1e6\n",
    "def mask_pair(arr,local_features):\n",
    "  temp=copy.copy(local_features)\n",
    "  temp[[arr[2],arr[3]],:,:]=padding_val\n",
    "  return(temp)\n",
    "\n",
    "def add_local_info(df):\n",
    "  df=df.reset_index(drop=True)\n",
    "  node_features=pd.concat([df['node1'],df['node2'][len(df)-1:]],axis=0).reset_index(drop=True)\n",
    "  node_features=node_features[node_features.astype(str).drop_duplicates().index].reset_index(drop=True)\n",
    "  node_features=np.stack(node_features)\n",
    "  node_features=np.pad(node_features, [(0,padding_dim-node_features.shape[0]),(0,0),(0,0)], 'constant', constant_values=padding_val)\n",
    "  df['local_info']=df.apply(lambda row: mask_pair(row,node_features), axis=1)\n",
    "  return(df)"
   ]
  },
  {
   "cell_type": "code",
   "execution_count": null,
   "metadata": {
    "id": "erxRM-y-CEWH"
   },
   "outputs": [],
   "source": [
    "dataset_train1=dataset_train.groupby(1).apply(add_local_info).reset_index(drop=True)\n",
    "dataset_test1=dataset_test.groupby(1).apply(add_local_info).reset_index(drop=True)\n",
    "dataset_train_f1=dataset_train_f.groupby(1).apply(add_local_info).reset_index(drop=True)\n",
    "dataset_test_f1=dataset_test_f.groupby(1).apply(add_local_info).reset_index(drop=True)"
   ]
  },
  {
   "cell_type": "code",
   "execution_count": null,
   "metadata": {
    "id": "8kHTMzOHDcim"
   },
   "outputs": [],
   "source": [
    "X_train_scaled_local=np.stack(dataset_train1['local_info'])\n",
    "X_test_scaled_local=np.stack(dataset_test1['local_info'])\n",
    "X_train_scaled_f_local=np.stack(dataset_train_f1['local_info'])\n",
    "X_test_scaled_f_local=np.stack(dataset_test_f1['local_info'])"
   ]
  },
  {
   "cell_type": "code",
   "execution_count": null,
   "metadata": {
    "colab": {
     "base_uri": "https://localhost:8080/"
    },
    "id": "86bjG9d7Dn3S",
    "outputId": "84079bac-d6f3-4c84-b5f7-05b9d110ceec"
   },
   "outputs": [
    {
     "name": "stdout",
     "output_type": "stream",
     "text": [
      "(21256, 50, 8)\n",
      "(2798, 50, 8)\n",
      "(21256, 26, 4)\n",
      "(2798, 26, 4)\n",
      "(21256, 20, 50, 4)\n",
      "(2798, 20, 50, 4)\n",
      "(21256, 20, 26, 2)\n",
      "(2798, 20, 26, 2)\n"
     ]
    }
   ],
   "source": [
    "print(X_train_scaled.shape)\n",
    "print(X_test_scaled.shape)\n",
    "print(X_train_scaled_f.shape)\n",
    "print(X_test_scaled_f.shape)\n",
    "\n",
    "print(X_train_scaled_local.shape)\n",
    "print(X_test_scaled_local.shape)\n",
    "print(X_train_scaled_f_local.shape)\n",
    "print(X_test_scaled_f_local.shape)"
   ]
  },
  {
   "cell_type": "code",
   "execution_count": null,
   "metadata": {
    "id": "u8CMIO_ToBr9"
   },
   "outputs": [],
   "source": [
    "\n",
    "# Part 2 - Building the RNN\n",
    "\n",
    "# Importing the Keras libraries and packages\n",
    "import tensorflow as tf\n",
    "from keras.models import Sequential\n",
    "from keras.layers import Dense\n",
    "from keras.layers import LSTM\n",
    "from keras.layers import Dropout\n",
    "from keras.layers import Input\n",
    "from tensorflow.keras import layers\n",
    "import keras\n",
    "\n",
    "input_1 = Input((X_train_scaled.shape[1], X_train_scaled.shape[2])) #50,8\n",
    "input_2 = Input((X_train_scaled_f.shape[1], X_train_scaled_f.shape[2])) #26,4\n",
    "\n",
    "input_3 = Input((X_train_scaled_local.shape[1], X_train_scaled_local.shape[2], X_train_scaled_local.shape[3])) #20,50,4\n",
    "input_4 = Input((X_train_scaled_f_local.shape[1], X_train_scaled_f_local.shape[2], X_train_scaled_f_local.shape[3])) #20,26,2\n",
    "\n",
    "\n",
    "x1=LSTM(units = 100, return_sequences = True)(input_1)\n",
    "x1=LSTM(units = 50)(x1)\n",
    "\n",
    "x2=LSTM(units = 100, return_sequences = True)(input_2)\n",
    "x2=LSTM(units = 50)(x2)\n",
    "\n",
    "x3=layers.Masking(mask_value=padding_val)(input_3)\n",
    "x3=layers.TimeDistributed(LSTM(units = 100, return_sequences = True))(x3)\n",
    "x3=layers.TimeDistributed(LSTM(units = 50))(x3)\n",
    "# x3=layers.TimeDistributed(Dense(units = 1))(x3)\n",
    "x3=layers.Flatten()(x3)\n",
    "\n",
    "x4=layers.Masking(mask_value=padding_val)(input_4)\n",
    "x4=layers.TimeDistributed(LSTM(units = 100, return_sequences = True))(x4)\n",
    "x4=layers.TimeDistributed(LSTM(units = 50))(x4)\n",
    "# x4=layers.TimeDistributed(Dense(units = 1))(x4)\n",
    "x4=layers.Flatten()(x4)\n",
    "\n",
    "x_neighbbours=layers.concatenate([x3,x4])\n",
    "x_neighbbours=layers.Dense(100)(x_neighbbours)\n",
    "\n",
    "x = layers.concatenate([x1, x2,x_neighbbours])\n",
    "x=layers.Dense(50)(x)\n",
    "\n",
    "output_layer = layers.Dense(1, activation=\"sigmoid\")(x)\n",
    "\n",
    "classifier=keras.Model(inputs=[input_1, input_2, input_3, input_4], outputs=output_layer)\n",
    "\n",
    "# Compiling the RNN\n",
    "classifier.compile(optimizer = 'adam', loss = 'binary_crossentropy', metrics = ['accuracy'])\n"
   ]
  },
  {
   "cell_type": "code",
   "execution_count": null,
   "metadata": {
    "colab": {
     "base_uri": "https://localhost:8080/"
    },
    "id": "B1KmTYGvWGWY",
    "outputId": "760acdbd-5ad5-48e9-c90a-a90f52b4ec47"
   },
   "outputs": [
    {
     "name": "stdout",
     "output_type": "stream",
     "text": [
      "Model: \"model\"\n",
      "__________________________________________________________________________________________________\n",
      " Layer (type)                   Output Shape         Param #     Connected to                     \n",
      "==================================================================================================\n",
      " input_3 (InputLayer)           [(None, 20, 50, 4)]  0           []                               \n",
      "                                                                                                  \n",
      " input_4 (InputLayer)           [(None, 20, 26, 2)]  0           []                               \n",
      "                                                                                                  \n",
      " masking (Masking)              (None, 20, 50, 4)    0           ['input_3[0][0]']                \n",
      "                                                                                                  \n",
      " masking_1 (Masking)            (None, 20, 26, 2)    0           ['input_4[0][0]']                \n",
      "                                                                                                  \n",
      " time_distributed (TimeDistribu  (None, 20, 50, 100)  42000      ['masking[0][0]']                \n",
      " ted)                                                                                             \n",
      "                                                                                                  \n",
      " time_distributed_2 (TimeDistri  (None, 20, 26, 100)  41200      ['masking_1[0][0]']              \n",
      " buted)                                                                                           \n",
      "                                                                                                  \n",
      " time_distributed_1 (TimeDistri  (None, 20, 50)      30200       ['time_distributed[0][0]']       \n",
      " buted)                                                                                           \n",
      "                                                                                                  \n",
      " time_distributed_3 (TimeDistri  (None, 20, 50)      30200       ['time_distributed_2[0][0]']     \n",
      " buted)                                                                                           \n",
      "                                                                                                  \n",
      " input_1 (InputLayer)           [(None, 50, 8)]      0           []                               \n",
      "                                                                                                  \n",
      " input_2 (InputLayer)           [(None, 26, 4)]      0           []                               \n",
      "                                                                                                  \n",
      " flatten (Flatten)              (None, 1000)         0           ['time_distributed_1[0][0]']     \n",
      "                                                                                                  \n",
      " flatten_1 (Flatten)            (None, 1000)         0           ['time_distributed_3[0][0]']     \n",
      "                                                                                                  \n",
      " lstm (LSTM)                    (None, 50, 100)      43600       ['input_1[0][0]']                \n",
      "                                                                                                  \n",
      " lstm_2 (LSTM)                  (None, 26, 100)      42000       ['input_2[0][0]']                \n",
      "                                                                                                  \n",
      " concatenate (Concatenate)      (None, 2000)         0           ['flatten[0][0]',                \n",
      "                                                                  'flatten_1[0][0]']              \n",
      "                                                                                                  \n",
      " lstm_1 (LSTM)                  (None, 50)           30200       ['lstm[0][0]']                   \n",
      "                                                                                                  \n",
      " lstm_3 (LSTM)                  (None, 50)           30200       ['lstm_2[0][0]']                 \n",
      "                                                                                                  \n",
      " dense (Dense)                  (None, 100)          200100      ['concatenate[0][0]']            \n",
      "                                                                                                  \n",
      " concatenate_1 (Concatenate)    (None, 200)          0           ['lstm_1[0][0]',                 \n",
      "                                                                  'lstm_3[0][0]',                 \n",
      "                                                                  'dense[0][0]']                  \n",
      "                                                                                                  \n",
      " dense_1 (Dense)                (None, 50)           10050       ['concatenate_1[0][0]']          \n",
      "                                                                                                  \n",
      " dense_2 (Dense)                (None, 1)            51          ['dense_1[0][0]']                \n",
      "                                                                                                  \n",
      "==================================================================================================\n",
      "Total params: 499,801\n",
      "Trainable params: 499,801\n",
      "Non-trainable params: 0\n",
      "__________________________________________________________________________________________________\n"
     ]
    }
   ],
   "source": [
    "classifier.summary()"
   ]
  },
  {
   "cell_type": "code",
   "execution_count": null,
   "metadata": {
    "colab": {
     "base_uri": "https://localhost:8080/",
     "height": 953
    },
    "id": "e6KCwPfMWP5l",
    "outputId": "5303e3a4-7d71-4f53-e013-3056b30e812f"
   },
   "outputs": [
    {
     "data": {
      "image/png": "[encoded data removed]",
      "text/plain": [
       "<IPython.core.display.Image object>"
      ]
     },
     "execution_count": 17,
     "metadata": {},
     "output_type": "execute_result"
    }
   ],
   "source": [
    "tf.keras.utils.plot_model(classifier)"
   ]
  },
  {
   "cell_type": "code",
   "execution_count": null,
   "metadata": {
    "id": "uf-jNI2KZJUu"
   },
   "outputs": [],
   "source": [
    "from tensorflow.keras.callbacks import ModelCheckpoint, EarlyStopping\n",
    "\n",
    "checkpoint = ModelCheckpoint(\"./drive/MyDrive/MSc Thesis/Experiments/models/LSTM_1d_freq_exp1_strat_local_info_v2.h5\",\n",
    "                             monitor=\"val_accuracy\",\n",
    "                             mode=\"max\",\n",
    "                             save_best_only = True,\n",
    "                             verbose=1)\n",
    "\n",
    "\n",
    "earlystop = EarlyStopping(monitor = 'val_accuracy', # value being monitored for improvement\n",
    "                          min_delta = 0, #Abs value and is the min change required before we stop\n",
    "                          patience = 20, #Number of epochs we wait before stopping \n",
    "                          verbose = 1,\n",
    "                          restore_best_weights = True) #keeps the best weigths once stopped\n",
    "\n",
    "# we put our call backs into a callback list\n",
    "callbacks = [earlystop,checkpoint]\n"
   ]
  },
  {
   "cell_type": "code",
   "execution_count": null,
   "metadata": {
    "colab": {
     "base_uri": "https://localhost:8080/"
    },
    "id": "jcUvZBOYoFNC",
    "outputId": "1629ef16-c434-4811-9908-2267cf48b694"
   },
   "outputs": [
    {
     "name": "stdout",
     "output_type": "stream",
     "text": [
      "Epoch 1/200\n",
      "333/333 [==============================] - ETA: 0s - loss: 0.5438 - accuracy: 0.7108\n",
      "Epoch 1: val_accuracy improved from -inf to 0.73695, saving model to ./drive/MyDrive/MSc Thesis/Experiments/models/LSTM_1d_freq_exp1_strat_local_info_v2.h5\n",
      "333/333 [==============================] - 138s 349ms/step - loss: 0.5438 - accuracy: 0.7108 - val_loss: 0.4950 - val_accuracy: 0.7370\n",
      "Epoch 2/200\n",
      "333/333 [==============================] - ETA: 0s - loss: 0.5156 - accuracy: 0.7214\n",
      "Epoch 2: val_accuracy did not improve from 0.73695\n",
      "333/333 [==============================] - 110s 331ms/step - loss: 0.5156 - accuracy: 0.7214 - val_loss: 0.5109 - val_accuracy: 0.7084\n",
      "Epoch 3/200\n",
      "333/333 [==============================] - ETA: 0s - loss: 0.5117 - accuracy: 0.7254\n",
      "Epoch 3: val_accuracy did not improve from 0.73695\n",
      "333/333 [==============================] - 110s 330ms/step - loss: 0.5117 - accuracy: 0.7254 - val_loss: 0.5169 - val_accuracy: 0.7005\n",
      "Epoch 4/200\n",
      "333/333 [==============================] - ETA: 0s - loss: 0.5144 - accuracy: 0.7174\n",
      "Epoch 4: val_accuracy did not improve from 0.73695\n",
      "333/333 [==============================] - 109s 329ms/step - loss: 0.5144 - accuracy: 0.7174 - val_loss: 0.4992 - val_accuracy: 0.7366\n",
      "Epoch 5/200\n",
      "333/333 [==============================] - ETA: 0s - loss: 0.5100 - accuracy: 0.7237\n",
      "Epoch 5: val_accuracy did not improve from 0.73695\n",
      "333/333 [==============================] - 110s 331ms/step - loss: 0.5100 - accuracy: 0.7237 - val_loss: 0.4990 - val_accuracy: 0.7362\n",
      "Epoch 6/200\n",
      "333/333 [==============================] - ETA: 0s - loss: 0.5112 - accuracy: 0.7243\n",
      "Epoch 6: val_accuracy improved from 0.73695 to 0.73803, saving model to ./drive/MyDrive/MSc Thesis/Experiments/models/LSTM_1d_freq_exp1_strat_local_info_v2.h5\n",
      "333/333 [==============================] - 111s 334ms/step - loss: 0.5112 - accuracy: 0.7243 - val_loss: 0.4926 - val_accuracy: 0.7380\n",
      "Epoch 7/200\n",
      "333/333 [==============================] - ETA: 0s - loss: 0.5065 - accuracy: 0.7273\n",
      "Epoch 7: val_accuracy did not improve from 0.73803\n",
      "333/333 [==============================] - 110s 329ms/step - loss: 0.5065 - accuracy: 0.7273 - val_loss: 0.5046 - val_accuracy: 0.7341\n",
      "Epoch 8/200\n",
      "333/333 [==============================] - ETA: 0s - loss: 0.5014 - accuracy: 0.7277\n",
      "Epoch 8: val_accuracy improved from 0.73803 to 0.73910, saving model to ./drive/MyDrive/MSc Thesis/Experiments/models/LSTM_1d_freq_exp1_strat_local_info_v2.h5\n",
      "333/333 [==============================] - 110s 330ms/step - loss: 0.5014 - accuracy: 0.7277 - val_loss: 0.4916 - val_accuracy: 0.7391\n",
      "Epoch 9/200\n",
      "333/333 [==============================] - ETA: 0s - loss: 0.5024 - accuracy: 0.7247\n",
      "Epoch 9: val_accuracy did not improve from 0.73910\n",
      "333/333 [==============================] - 108s 325ms/step - loss: 0.5024 - accuracy: 0.7247 - val_loss: 0.4814 - val_accuracy: 0.7345\n",
      "Epoch 10/200\n",
      "333/333 [==============================] - ETA: 0s - loss: 0.4951 - accuracy: 0.7282\n",
      "Epoch 10: val_accuracy did not improve from 0.73910\n",
      "333/333 [==============================] - 109s 326ms/step - loss: 0.4951 - accuracy: 0.7282 - val_loss: 0.4943 - val_accuracy: 0.7266\n",
      "Epoch 11/200\n",
      "333/333 [==============================] - ETA: 0s - loss: 0.4796 - accuracy: 0.7359\n",
      "Epoch 11: val_accuracy improved from 0.73910 to 0.76376, saving model to ./drive/MyDrive/MSc Thesis/Experiments/models/LSTM_1d_freq_exp1_strat_local_info_v2.h5\n",
      "333/333 [==============================] - 109s 327ms/step - loss: 0.4796 - accuracy: 0.7359 - val_loss: 0.4573 - val_accuracy: 0.7638\n",
      "Epoch 12/200\n",
      "333/333 [==============================] - ETA: 0s - loss: 0.4510 - accuracy: 0.7544\n",
      "Epoch 12: val_accuracy improved from 0.76376 to 0.77734, saving model to ./drive/MyDrive/MSc Thesis/Experiments/models/LSTM_1d_freq_exp1_strat_local_info_v2.h5\n",
      "333/333 [==============================] - 109s 326ms/step - loss: 0.4510 - accuracy: 0.7544 - val_loss: 0.4234 - val_accuracy: 0.7773\n",
      "Epoch 13/200\n",
      "333/333 [==============================] - ETA: 0s - loss: 0.4287 - accuracy: 0.7747\n",
      "Epoch 13: val_accuracy did not improve from 0.77734\n",
      "333/333 [==============================] - 108s 326ms/step - loss: 0.4287 - accuracy: 0.7747 - val_loss: 0.4471 - val_accuracy: 0.7516\n",
      "Epoch 14/200\n",
      "333/333 [==============================] - ETA: 0s - loss: 0.3767 - accuracy: 0.8201\n",
      "Epoch 14: val_accuracy improved from 0.77734 to 0.85204, saving model to ./drive/MyDrive/MSc Thesis/Experiments/models/LSTM_1d_freq_exp1_strat_local_info_v2.h5\n",
      "333/333 [==============================] - 109s 327ms/step - loss: 0.3767 - accuracy: 0.8201 - val_loss: 0.3116 - val_accuracy: 0.8520\n",
      "Epoch 15/200\n",
      "333/333 [==============================] - ETA: 0s - loss: 0.3219 - accuracy: 0.8533\n",
      "Epoch 15: val_accuracy improved from 0.85204 to 0.87026, saving model to ./drive/MyDrive/MSc Thesis/Experiments/models/LSTM_1d_freq_exp1_strat_local_info_v2.h5\n",
      "333/333 [==============================] - 110s 331ms/step - loss: 0.3219 - accuracy: 0.8533 - val_loss: 0.2751 - val_accuracy: 0.8703\n",
      "Epoch 16/200\n",
      "333/333 [==============================] - ETA: 0s - loss: 0.2707 - accuracy: 0.8766\n",
      "Epoch 16: val_accuracy improved from 0.87026 to 0.88349, saving model to ./drive/MyDrive/MSc Thesis/Experiments/models/LSTM_1d_freq_exp1_strat_local_info_v2.h5\n",
      "333/333 [==============================] - 109s 327ms/step - loss: 0.2707 - accuracy: 0.8766 - val_loss: 0.2509 - val_accuracy: 0.8835\n",
      "Epoch 17/200\n",
      "333/333 [==============================] - ETA: 0s - loss: 0.2455 - accuracy: 0.8874\n",
      "Epoch 17: val_accuracy improved from 0.88349 to 0.90350, saving model to ./drive/MyDrive/MSc Thesis/Experiments/models/LSTM_1d_freq_exp1_strat_local_info_v2.h5\n",
      "333/333 [==============================] - 109s 327ms/step - loss: 0.2455 - accuracy: 0.8874 - val_loss: 0.2084 - val_accuracy: 0.9035\n",
      "Epoch 18/200\n",
      "333/333 [==============================] - ETA: 0s - loss: 0.2584 - accuracy: 0.8833\n",
      "Epoch 18: val_accuracy did not improve from 0.90350\n",
      "333/333 [==============================] - 108s 324ms/step - loss: 0.2584 - accuracy: 0.8833 - val_loss: 0.3767 - val_accuracy: 0.8245\n",
      "Epoch 19/200\n",
      "333/333 [==============================] - ETA: 0s - loss: 0.2578 - accuracy: 0.8842\n",
      "Epoch 19: val_accuracy improved from 0.90350 to 0.91923, saving model to ./drive/MyDrive/MSc Thesis/Experiments/models/LSTM_1d_freq_exp1_strat_local_info_v2.h5\n",
      "333/333 [==============================] - 109s 328ms/step - loss: 0.2578 - accuracy: 0.8842 - val_loss: 0.1910 - val_accuracy: 0.9192\n",
      "Epoch 20/200\n",
      "333/333 [==============================] - ETA: 0s - loss: 0.2138 - accuracy: 0.9036\n",
      "Epoch 20: val_accuracy improved from 0.91923 to 0.92530, saving model to ./drive/MyDrive/MSc Thesis/Experiments/models/LSTM_1d_freq_exp1_strat_local_info_v2.h5\n",
      "333/333 [==============================] - 109s 328ms/step - loss: 0.2138 - accuracy: 0.9036 - val_loss: 0.1731 - val_accuracy: 0.9253\n",
      "Epoch 21/200\n",
      "333/333 [==============================] - ETA: 0s - loss: 0.2049 - accuracy: 0.9088\n",
      "Epoch 21: val_accuracy did not improve from 0.92530\n",
      "333/333 [==============================] - 108s 325ms/step - loss: 0.2049 - accuracy: 0.9088 - val_loss: 0.1728 - val_accuracy: 0.9217\n",
      "Epoch 22/200\n",
      "333/333 [==============================] - ETA: 0s - loss: 0.2078 - accuracy: 0.9078\n",
      "Epoch 22: val_accuracy did not improve from 0.92530\n",
      "333/333 [==============================] - 108s 324ms/step - loss: 0.2078 - accuracy: 0.9078 - val_loss: 0.2604 - val_accuracy: 0.8878\n",
      "Epoch 23/200\n",
      "333/333 [==============================] - ETA: 0s - loss: 0.2515 - accuracy: 0.8894\n",
      "Epoch 23: val_accuracy did not improve from 0.92530\n",
      "333/333 [==============================] - 108s 324ms/step - loss: 0.2515 - accuracy: 0.8894 - val_loss: 0.1992 - val_accuracy: 0.9157\n",
      "Epoch 24/200\n",
      "333/333 [==============================] - ETA: 0s - loss: 0.2096 - accuracy: 0.9073\n",
      "Epoch 24: val_accuracy did not improve from 0.92530\n",
      "333/333 [==============================] - 108s 323ms/step - loss: 0.2096 - accuracy: 0.9073 - val_loss: 0.1718 - val_accuracy: 0.9210\n",
      "Epoch 25/200\n",
      "333/333 [==============================] - ETA: 0s - loss: 0.1980 - accuracy: 0.9122\n",
      "Epoch 25: val_accuracy improved from 0.92530 to 0.92781, saving model to ./drive/MyDrive/MSc Thesis/Experiments/models/LSTM_1d_freq_exp1_strat_local_info_v2.h5\n",
      "333/333 [==============================] - 109s 326ms/step - loss: 0.1980 - accuracy: 0.9122 - val_loss: 0.1597 - val_accuracy: 0.9278\n",
      "Epoch 26/200\n",
      "333/333 [==============================] - ETA: 0s - loss: 0.1961 - accuracy: 0.9116\n",
      "Epoch 26: val_accuracy did not improve from 0.92781\n",
      "333/333 [==============================] - 108s 325ms/step - loss: 0.1961 - accuracy: 0.9116 - val_loss: 0.1889 - val_accuracy: 0.9149\n",
      "Epoch 27/200\n",
      "333/333 [==============================] - ETA: 0s - loss: 0.1924 - accuracy: 0.9130\n",
      "Epoch 27: val_accuracy did not improve from 0.92781\n",
      "333/333 [==============================] - 108s 325ms/step - loss: 0.1924 - accuracy: 0.9130 - val_loss: 0.1725 - val_accuracy: 0.9242\n",
      "Epoch 28/200\n",
      "333/333 [==============================] - ETA: 0s - loss: 0.1853 - accuracy: 0.9194\n",
      "Epoch 28: val_accuracy did not improve from 0.92781\n",
      "333/333 [==============================] - 108s 324ms/step - loss: 0.1853 - accuracy: 0.9194 - val_loss: 0.1682 - val_accuracy: 0.9207\n",
      "Epoch 29/200\n",
      "333/333 [==============================] - ETA: 0s - loss: 0.1846 - accuracy: 0.9183\n",
      "Epoch 29: val_accuracy improved from 0.92781 to 0.93031, saving model to ./drive/MyDrive/MSc Thesis/Experiments/models/LSTM_1d_freq_exp1_strat_local_info_v2.h5\n",
      "333/333 [==============================] - 108s 325ms/step - loss: 0.1846 - accuracy: 0.9183 - val_loss: 0.1534 - val_accuracy: 0.9303\n",
      "Epoch 30/200\n",
      "333/333 [==============================] - ETA: 0s - loss: 0.1847 - accuracy: 0.9180\n",
      "Epoch 30: val_accuracy did not improve from 0.93031\n",
      "333/333 [==============================] - 108s 324ms/step - loss: 0.1847 - accuracy: 0.9180 - val_loss: 0.1660 - val_accuracy: 0.9296\n",
      "Epoch 31/200\n",
      "333/333 [==============================] - ETA: 0s - loss: 0.1924 - accuracy: 0.9167\n",
      "Epoch 31: val_accuracy did not improve from 0.93031\n",
      "333/333 [==============================] - 108s 324ms/step - loss: 0.1924 - accuracy: 0.9167 - val_loss: 0.1605 - val_accuracy: 0.9214\n",
      "Epoch 32/200\n",
      "333/333 [==============================] - ETA: 0s - loss: 0.1854 - accuracy: 0.9188\n",
      "Epoch 32: val_accuracy improved from 0.93031 to 0.93102, saving model to ./drive/MyDrive/MSc Thesis/Experiments/models/LSTM_1d_freq_exp1_strat_local_info_v2.h5\n",
      "333/333 [==============================] - 110s 330ms/step - loss: 0.1854 - accuracy: 0.9188 - val_loss: 0.1594 - val_accuracy: 0.9310\n",
      "Epoch 33/200\n",
      "333/333 [==============================] - ETA: 0s - loss: 0.1812 - accuracy: 0.9208\n",
      "Epoch 33: val_accuracy did not improve from 0.93102\n",
      "333/333 [==============================] - 109s 326ms/step - loss: 0.1812 - accuracy: 0.9208 - val_loss: 0.1628 - val_accuracy: 0.9267\n",
      "Epoch 34/200\n",
      "333/333 [==============================] - ETA: 0s - loss: 0.1795 - accuracy: 0.9227\n",
      "Epoch 34: val_accuracy did not improve from 0.93102\n",
      "333/333 [==============================] - 109s 327ms/step - loss: 0.1795 - accuracy: 0.9227 - val_loss: 0.1795 - val_accuracy: 0.9199\n",
      "Epoch 35/200\n",
      "333/333 [==============================] - ETA: 0s - loss: 0.1759 - accuracy: 0.9236\n",
      "Epoch 35: val_accuracy improved from 0.93102 to 0.93495, saving model to ./drive/MyDrive/MSc Thesis/Experiments/models/LSTM_1d_freq_exp1_strat_local_info_v2.h5\n",
      "333/333 [==============================] - 109s 328ms/step - loss: 0.1759 - accuracy: 0.9236 - val_loss: 0.1501 - val_accuracy: 0.9350\n",
      "Epoch 36/200\n",
      "333/333 [==============================] - ETA: 0s - loss: 0.1666 - accuracy: 0.9273\n",
      "Epoch 36: val_accuracy did not improve from 0.93495\n",
      "333/333 [==============================] - 109s 326ms/step - loss: 0.1666 - accuracy: 0.9273 - val_loss: 0.1816 - val_accuracy: 0.9085\n",
      "Epoch 37/200\n",
      "333/333 [==============================] - ETA: 0s - loss: 0.1667 - accuracy: 0.9273\n",
      "Epoch 37: val_accuracy improved from 0.93495 to 0.93674, saving model to ./drive/MyDrive/MSc Thesis/Experiments/models/LSTM_1d_freq_exp1_strat_local_info_v2.h5\n",
      "333/333 [==============================] - 109s 328ms/step - loss: 0.1667 - accuracy: 0.9273 - val_loss: 0.1498 - val_accuracy: 0.9367\n",
      "Epoch 38/200\n",
      "333/333 [==============================] - ETA: 0s - loss: 0.1648 - accuracy: 0.9262\n",
      "Epoch 38: val_accuracy improved from 0.93674 to 0.94603, saving model to ./drive/MyDrive/MSc Thesis/Experiments/models/LSTM_1d_freq_exp1_strat_local_info_v2.h5\n",
      "333/333 [==============================] - 110s 329ms/step - loss: 0.1648 - accuracy: 0.9262 - val_loss: 0.1283 - val_accuracy: 0.9460\n",
      "Epoch 39/200\n",
      "333/333 [==============================] - ETA: 0s - loss: 0.1626 - accuracy: 0.9281\n",
      "Epoch 39: val_accuracy did not improve from 0.94603\n",
      "333/333 [==============================] - 109s 326ms/step - loss: 0.1626 - accuracy: 0.9281 - val_loss: 0.1359 - val_accuracy: 0.9460\n",
      "Epoch 40/200\n",
      "333/333 [==============================] - ETA: 0s - loss: 0.1645 - accuracy: 0.9287\n",
      "Epoch 40: val_accuracy did not improve from 0.94603\n",
      "333/333 [==============================] - 108s 324ms/step - loss: 0.1645 - accuracy: 0.9287 - val_loss: 0.1540 - val_accuracy: 0.9335\n",
      "Epoch 41/200\n",
      "333/333 [==============================] - ETA: 0s - loss: 0.1617 - accuracy: 0.9288\n",
      "Epoch 41: val_accuracy did not improve from 0.94603\n",
      "333/333 [==============================] - 108s 325ms/step - loss: 0.1617 - accuracy: 0.9288 - val_loss: 0.1318 - val_accuracy: 0.9403\n",
      "Epoch 42/200\n",
      "333/333 [==============================] - ETA: 0s - loss: 0.1595 - accuracy: 0.9294\n",
      "Epoch 42: val_accuracy did not improve from 0.94603\n",
      "333/333 [==============================] - 109s 328ms/step - loss: 0.1595 - accuracy: 0.9294 - val_loss: 0.1711 - val_accuracy: 0.9185\n",
      "Epoch 43/200\n",
      "333/333 [==============================] - ETA: 0s - loss: 0.1511 - accuracy: 0.9324\n",
      "Epoch 43: val_accuracy did not improve from 0.94603\n",
      "333/333 [==============================] - 109s 326ms/step - loss: 0.1511 - accuracy: 0.9324 - val_loss: 0.1808 - val_accuracy: 0.9117\n",
      "Epoch 44/200\n",
      "333/333 [==============================] - ETA: 0s - loss: 0.1597 - accuracy: 0.9326\n",
      "Epoch 44: val_accuracy did not improve from 0.94603\n",
      "333/333 [==============================] - 110s 331ms/step - loss: 0.1597 - accuracy: 0.9326 - val_loss: 0.1566 - val_accuracy: 0.9249\n",
      "Epoch 45/200\n",
      "333/333 [==============================] - ETA: 0s - loss: 0.1432 - accuracy: 0.9394\n",
      "Epoch 45: val_accuracy did not improve from 0.94603\n",
      "333/333 [==============================] - 116s 348ms/step - loss: 0.1432 - accuracy: 0.9394 - val_loss: 0.1530 - val_accuracy: 0.9328\n",
      "Epoch 46/200\n",
      "333/333 [==============================] - ETA: 0s - loss: 0.1515 - accuracy: 0.9357\n",
      "Epoch 46: val_accuracy improved from 0.94603 to 0.94853, saving model to ./drive/MyDrive/MSc Thesis/Experiments/models/LSTM_1d_freq_exp1_strat_local_info_v2.h5\n",
      "333/333 [==============================] - 118s 353ms/step - loss: 0.1515 - accuracy: 0.9357 - val_loss: 0.1282 - val_accuracy: 0.9485\n",
      "Epoch 47/200\n",
      "333/333 [==============================] - ETA: 0s - loss: 0.1923 - accuracy: 0.9172\n",
      "Epoch 47: val_accuracy did not improve from 0.94853\n",
      "333/333 [==============================] - 114s 344ms/step - loss: 0.1923 - accuracy: 0.9172 - val_loss: 0.3183 - val_accuracy: 0.8599\n",
      "Epoch 48/200\n",
      "333/333 [==============================] - ETA: 0s - loss: 0.2710 - accuracy: 0.8787\n",
      "Epoch 48: val_accuracy did not improve from 0.94853\n",
      "333/333 [==============================] - 114s 342ms/step - loss: 0.2710 - accuracy: 0.8787 - val_loss: 0.1972 - val_accuracy: 0.9132\n",
      "Epoch 49/200\n",
      "333/333 [==============================] - ETA: 0s - loss: 0.2088 - accuracy: 0.9092\n",
      "Epoch 49: val_accuracy did not improve from 0.94853\n",
      "333/333 [==============================] - 113s 341ms/step - loss: 0.2088 - accuracy: 0.9092 - val_loss: 0.1869 - val_accuracy: 0.9160\n",
      "Epoch 50/200\n",
      "333/333 [==============================] - ETA: 0s - loss: 0.1826 - accuracy: 0.9215\n",
      "Epoch 50: val_accuracy did not improve from 0.94853\n",
      "333/333 [==============================] - 113s 340ms/step - loss: 0.1826 - accuracy: 0.9215 - val_loss: 0.1718 - val_accuracy: 0.9289\n",
      "Epoch 51/200\n",
      "333/333 [==============================] - ETA: 0s - loss: 0.1836 - accuracy: 0.9215\n",
      "Epoch 51: val_accuracy did not improve from 0.94853\n",
      "333/333 [==============================] - 113s 340ms/step - loss: 0.1836 - accuracy: 0.9215 - val_loss: 0.2254 - val_accuracy: 0.9021\n",
      "Epoch 52/200\n",
      "333/333 [==============================] - ETA: 0s - loss: 0.1677 - accuracy: 0.9281\n",
      "Epoch 52: val_accuracy did not improve from 0.94853\n",
      "333/333 [==============================] - 113s 339ms/step - loss: 0.1677 - accuracy: 0.9281 - val_loss: 0.1535 - val_accuracy: 0.9317\n",
      "Epoch 53/200\n",
      "333/333 [==============================] - ETA: 0s - loss: 0.1696 - accuracy: 0.9260\n",
      "Epoch 53: val_accuracy did not improve from 0.94853\n",
      "333/333 [==============================] - 113s 340ms/step - loss: 0.1696 - accuracy: 0.9260 - val_loss: 0.1534 - val_accuracy: 0.9353\n",
      "Epoch 54/200\n",
      "333/333 [==============================] - ETA: 0s - loss: 0.1567 - accuracy: 0.9346\n",
      "Epoch 54: val_accuracy did not improve from 0.94853\n",
      "333/333 [==============================] - 112s 338ms/step - loss: 0.1567 - accuracy: 0.9346 - val_loss: 0.1526 - val_accuracy: 0.9321\n",
      "Epoch 55/200\n",
      "333/333 [==============================] - ETA: 0s - loss: 0.1483 - accuracy: 0.9365\n",
      "Epoch 55: val_accuracy did not improve from 0.94853\n",
      "333/333 [==============================] - 113s 339ms/step - loss: 0.1483 - accuracy: 0.9365 - val_loss: 0.1467 - val_accuracy: 0.9382\n",
      "Epoch 56/200\n",
      "333/333 [==============================] - ETA: 0s - loss: 0.1505 - accuracy: 0.9346\n",
      "Epoch 56: val_accuracy did not improve from 0.94853\n",
      "333/333 [==============================] - 113s 339ms/step - loss: 0.1505 - accuracy: 0.9346 - val_loss: 0.1417 - val_accuracy: 0.9432\n",
      "Epoch 57/200\n",
      "333/333 [==============================] - ETA: 0s - loss: 0.1387 - accuracy: 0.9412\n",
      "Epoch 57: val_accuracy did not improve from 0.94853\n",
      "333/333 [==============================] - 113s 338ms/step - loss: 0.1387 - accuracy: 0.9412 - val_loss: 0.2187 - val_accuracy: 0.9210\n",
      "Epoch 58/200\n",
      "333/333 [==============================] - ETA: 0s - loss: 0.1420 - accuracy: 0.9425\n",
      "Epoch 58: val_accuracy did not improve from 0.94853\n",
      "333/333 [==============================] - 112s 338ms/step - loss: 0.1420 - accuracy: 0.9425 - val_loss: 0.1503 - val_accuracy: 0.9314\n",
      "Epoch 59/200\n",
      "333/333 [==============================] - ETA: 0s - loss: 0.1319 - accuracy: 0.9458\n",
      "Epoch 59: val_accuracy did not improve from 0.94853\n",
      "333/333 [==============================] - 113s 338ms/step - loss: 0.1319 - accuracy: 0.9458 - val_loss: 0.1437 - val_accuracy: 0.9396\n",
      "Epoch 60/200\n",
      "333/333 [==============================] - ETA: 0s - loss: 0.1418 - accuracy: 0.9391\n",
      "Epoch 60: val_accuracy improved from 0.94853 to 0.94925, saving model to ./drive/MyDrive/MSc Thesis/Experiments/models/LSTM_1d_freq_exp1_strat_local_info_v2.h5\n",
      "333/333 [==============================] - 114s 341ms/step - loss: 0.1418 - accuracy: 0.9391 - val_loss: 0.1279 - val_accuracy: 0.9492\n",
      "Epoch 61/200\n",
      "333/333 [==============================] - ETA: 0s - loss: 0.1346 - accuracy: 0.9447\n",
      "Epoch 61: val_accuracy improved from 0.94925 to 0.95211, saving model to ./drive/MyDrive/MSc Thesis/Experiments/models/LSTM_1d_freq_exp1_strat_local_info_v2.h5\n",
      "333/333 [==============================] - 114s 341ms/step - loss: 0.1346 - accuracy: 0.9447 - val_loss: 0.1189 - val_accuracy: 0.9521\n",
      "Epoch 62/200\n",
      "333/333 [==============================] - ETA: 0s - loss: 0.1242 - accuracy: 0.9488\n",
      "Epoch 62: val_accuracy improved from 0.95211 to 0.95461, saving model to ./drive/MyDrive/MSc Thesis/Experiments/models/LSTM_1d_freq_exp1_strat_local_info_v2.h5\n",
      "333/333 [==============================] - 113s 341ms/step - loss: 0.1242 - accuracy: 0.9488 - val_loss: 0.1219 - val_accuracy: 0.9546\n",
      "Epoch 63/200\n",
      "333/333 [==============================] - ETA: 0s - loss: 0.1258 - accuracy: 0.9480\n",
      "Epoch 63: val_accuracy did not improve from 0.95461\n",
      "333/333 [==============================] - 113s 339ms/step - loss: 0.1258 - accuracy: 0.9480 - val_loss: 0.1334 - val_accuracy: 0.9478\n",
      "Epoch 64/200\n",
      "333/333 [==============================] - ETA: 0s - loss: 0.1190 - accuracy: 0.9525\n",
      "Epoch 64: val_accuracy did not improve from 0.95461\n",
      "333/333 [==============================] - 113s 339ms/step - loss: 0.1190 - accuracy: 0.9525 - val_loss: 0.1246 - val_accuracy: 0.9471\n",
      "Epoch 65/200\n",
      "333/333 [==============================] - ETA: 0s - loss: 0.1122 - accuracy: 0.9544\n",
      "Epoch 65: val_accuracy did not improve from 0.95461\n",
      "333/333 [==============================] - 113s 340ms/step - loss: 0.1122 - accuracy: 0.9544 - val_loss: 0.1201 - val_accuracy: 0.9521\n",
      "Epoch 66/200\n",
      "333/333 [==============================] - ETA: 0s - loss: 0.1305 - accuracy: 0.9484\n",
      "Epoch 66: val_accuracy did not improve from 0.95461\n",
      "333/333 [==============================] - 113s 338ms/step - loss: 0.1305 - accuracy: 0.9484 - val_loss: 0.1240 - val_accuracy: 0.9460\n",
      "Epoch 67/200\n",
      "333/333 [==============================] - ETA: 0s - loss: 0.1084 - accuracy: 0.9563\n",
      "Epoch 67: val_accuracy improved from 0.95461 to 0.96748, saving model to ./drive/MyDrive/MSc Thesis/Experiments/models/LSTM_1d_freq_exp1_strat_local_info_v2.h5\n",
      "333/333 [==============================] - 114s 343ms/step - loss: 0.1084 - accuracy: 0.9563 - val_loss: 0.0950 - val_accuracy: 0.9675\n",
      "Epoch 68/200\n",
      "333/333 [==============================] - ETA: 0s - loss: 0.1108 - accuracy: 0.9561\n",
      "Epoch 68: val_accuracy did not improve from 0.96748\n",
      "333/333 [==============================] - 113s 339ms/step - loss: 0.1108 - accuracy: 0.9561 - val_loss: 0.1037 - val_accuracy: 0.9589\n",
      "Epoch 69/200\n",
      "333/333 [==============================] - ETA: 0s - loss: 0.1125 - accuracy: 0.9548\n",
      "Epoch 69: val_accuracy did not improve from 0.96748\n",
      "333/333 [==============================] - 113s 339ms/step - loss: 0.1125 - accuracy: 0.9548 - val_loss: 0.1020 - val_accuracy: 0.9589\n",
      "Epoch 70/200\n",
      "333/333 [==============================] - ETA: 0s - loss: 0.1074 - accuracy: 0.9578\n",
      "Epoch 70: val_accuracy did not improve from 0.96748\n",
      "333/333 [==============================] - 112s 337ms/step - loss: 0.1074 - accuracy: 0.9578 - val_loss: 0.1222 - val_accuracy: 0.9560\n",
      "Epoch 71/200\n",
      "333/333 [==============================] - ETA: 0s - loss: 0.1002 - accuracy: 0.9621\n",
      "Epoch 71: val_accuracy did not improve from 0.96748\n",
      "333/333 [==============================] - 113s 338ms/step - loss: 0.1002 - accuracy: 0.9621 - val_loss: 0.1014 - val_accuracy: 0.9614\n",
      "Epoch 72/200\n",
      "333/333 [==============================] - ETA: 0s - loss: 0.0919 - accuracy: 0.9642\n",
      "Epoch 72: val_accuracy did not improve from 0.96748\n",
      "333/333 [==============================] - 112s 337ms/step - loss: 0.0919 - accuracy: 0.9642 - val_loss: 0.1511 - val_accuracy: 0.9435\n",
      "Epoch 73/200\n",
      "333/333 [==============================] - ETA: 0s - loss: 0.0935 - accuracy: 0.9645\n",
      "Epoch 73: val_accuracy did not improve from 0.96748\n",
      "333/333 [==============================] - 113s 338ms/step - loss: 0.0935 - accuracy: 0.9645 - val_loss: 0.1062 - val_accuracy: 0.9564\n",
      "Epoch 74/200\n",
      "333/333 [==============================] - ETA: 0s - loss: 0.1474 - accuracy: 0.9381\n",
      "Epoch 74: val_accuracy improved from 0.96748 to 0.97069, saving model to ./drive/MyDrive/MSc Thesis/Experiments/models/LSTM_1d_freq_exp1_strat_local_info_v2.h5\n",
      "333/333 [==============================] - 113s 340ms/step - loss: 0.1474 - accuracy: 0.9381 - val_loss: 0.0854 - val_accuracy: 0.9707\n",
      "Epoch 75/200\n",
      "333/333 [==============================] - ETA: 0s - loss: 0.0884 - accuracy: 0.9656\n",
      "Epoch 75: val_accuracy improved from 0.97069 to 0.97105, saving model to ./drive/MyDrive/MSc Thesis/Experiments/models/LSTM_1d_freq_exp1_strat_local_info_v2.h5\n",
      "333/333 [==============================] - 113s 341ms/step - loss: 0.0884 - accuracy: 0.9656 - val_loss: 0.0825 - val_accuracy: 0.9711\n",
      "Epoch 76/200\n",
      "333/333 [==============================] - ETA: 0s - loss: 0.0917 - accuracy: 0.9649\n",
      "Epoch 76: val_accuracy did not improve from 0.97105\n",
      "333/333 [==============================] - 112s 337ms/step - loss: 0.0917 - accuracy: 0.9649 - val_loss: 0.0878 - val_accuracy: 0.9689\n",
      "Epoch 77/200\n",
      "333/333 [==============================] - ETA: 0s - loss: 0.0764 - accuracy: 0.9711\n",
      "Epoch 77: val_accuracy improved from 0.97105 to 0.97141, saving model to ./drive/MyDrive/MSc Thesis/Experiments/models/LSTM_1d_freq_exp1_strat_local_info_v2.h5\n",
      "333/333 [==============================] - 113s 340ms/step - loss: 0.0764 - accuracy: 0.9711 - val_loss: 0.0794 - val_accuracy: 0.9714\n",
      "Epoch 78/200\n",
      "333/333 [==============================] - ETA: 0s - loss: 0.0858 - accuracy: 0.9679\n",
      "Epoch 78: val_accuracy improved from 0.97141 to 0.97212, saving model to ./drive/MyDrive/MSc Thesis/Experiments/models/LSTM_1d_freq_exp1_strat_local_info_v2.h5\n",
      "333/333 [==============================] - 113s 341ms/step - loss: 0.0858 - accuracy: 0.9679 - val_loss: 0.0802 - val_accuracy: 0.9721\n",
      "Epoch 79/200\n",
      "333/333 [==============================] - ETA: 0s - loss: 0.0884 - accuracy: 0.9668\n",
      "Epoch 79: val_accuracy did not improve from 0.97212\n",
      "333/333 [==============================] - 113s 339ms/step - loss: 0.0884 - accuracy: 0.9668 - val_loss: 0.0846 - val_accuracy: 0.9711\n",
      "Epoch 80/200\n",
      "333/333 [==============================] - ETA: 0s - loss: 0.1093 - accuracy: 0.9577\n",
      "Epoch 80: val_accuracy did not improve from 0.97212\n",
      "333/333 [==============================] - 113s 340ms/step - loss: 0.1093 - accuracy: 0.9577 - val_loss: 0.1136 - val_accuracy: 0.9621\n",
      "Epoch 81/200\n",
      "333/333 [==============================] - ETA: 0s - loss: 0.1006 - accuracy: 0.9623\n",
      "Epoch 81: val_accuracy did not improve from 0.97212\n",
      "333/333 [==============================] - 115s 346ms/step - loss: 0.1006 - accuracy: 0.9623 - val_loss: 0.1369 - val_accuracy: 0.9489\n",
      "Epoch 82/200\n",
      "333/333 [==============================] - ETA: 0s - loss: 0.0853 - accuracy: 0.9674\n",
      "Epoch 82: val_accuracy did not improve from 0.97212\n",
      "333/333 [==============================] - 113s 338ms/step - loss: 0.0853 - accuracy: 0.9674 - val_loss: 0.0968 - val_accuracy: 0.9621\n",
      "Epoch 83/200\n",
      "333/333 [==============================] - ETA: 0s - loss: 0.0714 - accuracy: 0.9731\n",
      "Epoch 83: val_accuracy did not improve from 0.97212\n",
      "333/333 [==============================] - 113s 340ms/step - loss: 0.0714 - accuracy: 0.9731 - val_loss: 0.0915 - val_accuracy: 0.9653\n",
      "Epoch 84/200\n",
      "333/333 [==============================] - ETA: 0s - loss: 0.0789 - accuracy: 0.9713\n",
      "Epoch 84: val_accuracy did not improve from 0.97212\n",
      "333/333 [==============================] - 113s 338ms/step - loss: 0.0789 - accuracy: 0.9713 - val_loss: 0.0964 - val_accuracy: 0.9646\n",
      "Epoch 85/200\n",
      "333/333 [==============================] - ETA: 0s - loss: 0.0634 - accuracy: 0.9754\n",
      "Epoch 85: val_accuracy did not improve from 0.97212\n",
      "333/333 [==============================] - 113s 339ms/step - loss: 0.0634 - accuracy: 0.9754 - val_loss: 0.0923 - val_accuracy: 0.9668\n",
      "Epoch 86/200\n",
      "333/333 [==============================] - ETA: 0s - loss: 0.0715 - accuracy: 0.9742\n",
      "Epoch 86: val_accuracy did not improve from 0.97212\n",
      "333/333 [==============================] - 113s 340ms/step - loss: 0.0715 - accuracy: 0.9742 - val_loss: 0.0802 - val_accuracy: 0.9721\n",
      "Epoch 87/200\n",
      "333/333 [==============================] - ETA: 0s - loss: 0.0757 - accuracy: 0.9717\n",
      "Epoch 87: val_accuracy improved from 0.97212 to 0.97427, saving model to ./drive/MyDrive/MSc Thesis/Experiments/models/LSTM_1d_freq_exp1_strat_local_info_v2.h5\n",
      "333/333 [==============================] - 113s 338ms/step - loss: 0.0757 - accuracy: 0.9717 - val_loss: 0.0721 - val_accuracy: 0.9743\n",
      "Epoch 88/200\n",
      "333/333 [==============================] - ETA: 0s - loss: 0.0650 - accuracy: 0.9766\n",
      "Epoch 88: val_accuracy did not improve from 0.97427\n",
      "333/333 [==============================] - 112s 334ms/step - loss: 0.0650 - accuracy: 0.9766 - val_loss: 0.0903 - val_accuracy: 0.9678\n",
      "Epoch 89/200\n",
      "333/333 [==============================] - ETA: 0s - loss: 0.0740 - accuracy: 0.9726\n",
      "Epoch 89: val_accuracy did not improve from 0.97427\n",
      "333/333 [==============================] - 113s 338ms/step - loss: 0.0740 - accuracy: 0.9726 - val_loss: 0.1839 - val_accuracy: 0.9378\n",
      "Epoch 90/200\n",
      "333/333 [==============================] - ETA: 0s - loss: 0.0698 - accuracy: 0.9741\n",
      "Epoch 90: val_accuracy improved from 0.97427 to 0.97856, saving model to ./drive/MyDrive/MSc Thesis/Experiments/models/LSTM_1d_freq_exp1_strat_local_info_v2.h5\n",
      "333/333 [==============================] - 113s 340ms/step - loss: 0.0698 - accuracy: 0.9741 - val_loss: 0.0679 - val_accuracy: 0.9786\n",
      "Epoch 91/200\n",
      "333/333 [==============================] - ETA: 0s - loss: 0.0573 - accuracy: 0.9793\n",
      "Epoch 91: val_accuracy did not improve from 0.97856\n",
      "333/333 [==============================] - 113s 339ms/step - loss: 0.0573 - accuracy: 0.9793 - val_loss: 0.1071 - val_accuracy: 0.9628\n",
      "Epoch 92/200\n",
      "333/333 [==============================] - ETA: 0s - loss: 0.0731 - accuracy: 0.9730\n",
      "Epoch 92: val_accuracy did not improve from 0.97856\n",
      "333/333 [==============================] - 113s 338ms/step - loss: 0.0731 - accuracy: 0.9730 - val_loss: 0.0842 - val_accuracy: 0.9700\n",
      "Epoch 93/200\n",
      "333/333 [==============================] - ETA: 0s - loss: 0.0796 - accuracy: 0.9706\n",
      "Epoch 93: val_accuracy did not improve from 0.97856\n",
      "333/333 [==============================] - 112s 337ms/step - loss: 0.0796 - accuracy: 0.9706 - val_loss: 0.0934 - val_accuracy: 0.9682\n",
      "Epoch 94/200\n",
      "333/333 [==============================] - ETA: 0s - loss: 0.0769 - accuracy: 0.9711\n",
      "Epoch 94: val_accuracy did not improve from 0.97856\n",
      "333/333 [==============================] - 113s 338ms/step - loss: 0.0769 - accuracy: 0.9711 - val_loss: 0.0781 - val_accuracy: 0.9743\n",
      "Epoch 95/200\n",
      "333/333 [==============================] - ETA: 0s - loss: 0.0567 - accuracy: 0.9801\n",
      "Epoch 95: val_accuracy did not improve from 0.97856\n",
      "333/333 [==============================] - 112s 336ms/step - loss: 0.0567 - accuracy: 0.9801 - val_loss: 0.0792 - val_accuracy: 0.9764\n",
      "Epoch 96/200\n",
      "333/333 [==============================] - ETA: 0s - loss: 0.0714 - accuracy: 0.9738\n",
      "Epoch 96: val_accuracy did not improve from 0.97856\n",
      "333/333 [==============================] - 113s 339ms/step - loss: 0.0714 - accuracy: 0.9738 - val_loss: 0.1062 - val_accuracy: 0.9600\n",
      "Epoch 97/200\n",
      "333/333 [==============================] - ETA: 0s - loss: 0.0733 - accuracy: 0.9738\n",
      "Epoch 97: val_accuracy improved from 0.97856 to 0.97927, saving model to ./drive/MyDrive/MSc Thesis/Experiments/models/LSTM_1d_freq_exp1_strat_local_info_v2.h5\n",
      "333/333 [==============================] - 113s 340ms/step - loss: 0.0733 - accuracy: 0.9738 - val_loss: 0.0644 - val_accuracy: 0.9793\n",
      "Epoch 98/200\n",
      "333/333 [==============================] - ETA: 0s - loss: 0.0510 - accuracy: 0.9815\n",
      "Epoch 98: val_accuracy did not improve from 0.97927\n",
      "333/333 [==============================] - 111s 333ms/step - loss: 0.0510 - accuracy: 0.9815 - val_loss: 0.0702 - val_accuracy: 0.9771\n",
      "Epoch 99/200\n",
      "333/333 [==============================] - ETA: 0s - loss: 0.0631 - accuracy: 0.9787\n",
      "Epoch 99: val_accuracy did not improve from 0.97927\n",
      "333/333 [==============================] - 113s 339ms/step - loss: 0.0631 - accuracy: 0.9787 - val_loss: 0.1334 - val_accuracy: 0.9610\n",
      "Epoch 100/200\n",
      "333/333 [==============================] - ETA: 0s - loss: 0.0606 - accuracy: 0.9787\n",
      "Epoch 100: val_accuracy did not improve from 0.97927\n",
      "333/333 [==============================] - 113s 338ms/step - loss: 0.0606 - accuracy: 0.9787 - val_loss: 0.0748 - val_accuracy: 0.9764\n",
      "Epoch 101/200\n",
      "333/333 [==============================] - ETA: 0s - loss: 0.0587 - accuracy: 0.9785\n",
      "Epoch 101: val_accuracy did not improve from 0.97927\n",
      "333/333 [==============================] - 113s 338ms/step - loss: 0.0587 - accuracy: 0.9785 - val_loss: 0.0821 - val_accuracy: 0.9696\n",
      "Epoch 102/200\n",
      "333/333 [==============================] - ETA: 0s - loss: 0.0580 - accuracy: 0.9789\n",
      "Epoch 102: val_accuracy did not improve from 0.97927\n",
      "333/333 [==============================] - 113s 339ms/step - loss: 0.0580 - accuracy: 0.9789 - val_loss: 0.1101 - val_accuracy: 0.9603\n",
      "Epoch 103/200\n",
      "333/333 [==============================] - ETA: 0s - loss: 0.0471 - accuracy: 0.9833\n",
      "Epoch 103: val_accuracy did not improve from 0.97927\n",
      "333/333 [==============================] - 113s 340ms/step - loss: 0.0471 - accuracy: 0.9833 - val_loss: 0.1007 - val_accuracy: 0.9703\n",
      "Epoch 104/200\n",
      "333/333 [==============================] - ETA: 0s - loss: 0.0740 - accuracy: 0.9738\n",
      "Epoch 104: val_accuracy did not improve from 0.97927\n",
      "333/333 [==============================] - 112s 338ms/step - loss: 0.0740 - accuracy: 0.9738 - val_loss: 0.0668 - val_accuracy: 0.9768\n",
      "Epoch 105/200\n",
      "333/333 [==============================] - ETA: 0s - loss: 0.0555 - accuracy: 0.9803\n",
      "Epoch 105: val_accuracy did not improve from 0.97927\n",
      "333/333 [==============================] - 113s 338ms/step - loss: 0.0555 - accuracy: 0.9803 - val_loss: 0.0929 - val_accuracy: 0.9653\n",
      "Epoch 106/200\n",
      "333/333 [==============================] - ETA: 0s - loss: 0.0716 - accuracy: 0.9729\n",
      "Epoch 106: val_accuracy did not improve from 0.97927\n",
      "333/333 [==============================] - 112s 337ms/step - loss: 0.0716 - accuracy: 0.9729 - val_loss: 0.0975 - val_accuracy: 0.9657\n",
      "Epoch 107/200\n",
      "333/333 [==============================] - ETA: 0s - loss: 0.0464 - accuracy: 0.9826\n",
      "Epoch 107: val_accuracy did not improve from 0.97927\n",
      "333/333 [==============================] - 111s 333ms/step - loss: 0.0464 - accuracy: 0.9826 - val_loss: 0.0757 - val_accuracy: 0.9714\n",
      "Epoch 108/200\n",
      "333/333 [==============================] - ETA: 0s - loss: 0.0583 - accuracy: 0.9783\n",
      "Epoch 108: val_accuracy did not improve from 0.97927\n",
      "333/333 [==============================] - 113s 339ms/step - loss: 0.0583 - accuracy: 0.9783 - val_loss: 0.0794 - val_accuracy: 0.9725\n",
      "Epoch 109/200\n",
      "333/333 [==============================] - ETA: 0s - loss: 0.0480 - accuracy: 0.9830\n",
      "Epoch 109: val_accuracy did not improve from 0.97927\n",
      "333/333 [==============================] - 113s 338ms/step - loss: 0.0480 - accuracy: 0.9830 - val_loss: 0.0733 - val_accuracy: 0.9778\n",
      "Epoch 110/200\n",
      "333/333 [==============================] - ETA: 0s - loss: 0.0503 - accuracy: 0.9824\n",
      "Epoch 110: val_accuracy did not improve from 0.97927\n",
      "333/333 [==============================] - 113s 338ms/step - loss: 0.0503 - accuracy: 0.9824 - val_loss: 0.0944 - val_accuracy: 0.9682\n",
      "Epoch 111/200\n",
      "333/333 [==============================] - ETA: 0s - loss: 0.0610 - accuracy: 0.9779\n",
      "Epoch 111: val_accuracy did not improve from 0.97927\n",
      "333/333 [==============================] - 113s 339ms/step - loss: 0.0610 - accuracy: 0.9779 - val_loss: 0.1070 - val_accuracy: 0.9635\n",
      "Epoch 112/200\n",
      "333/333 [==============================] - ETA: 0s - loss: 0.0562 - accuracy: 0.9813\n",
      "Epoch 112: val_accuracy improved from 0.97927 to 0.97963, saving model to ./drive/MyDrive/MSc Thesis/Experiments/models/LSTM_1d_freq_exp1_strat_local_info_v2.h5\n",
      "333/333 [==============================] - 114s 341ms/step - loss: 0.0562 - accuracy: 0.9813 - val_loss: 0.0580 - val_accuracy: 0.9796\n",
      "Epoch 113/200\n",
      "333/333 [==============================] - ETA: 0s - loss: 0.0536 - accuracy: 0.9811\n",
      "Epoch 113: val_accuracy did not improve from 0.97963\n",
      "333/333 [==============================] - 113s 340ms/step - loss: 0.0536 - accuracy: 0.9811 - val_loss: 0.0748 - val_accuracy: 0.9764\n",
      "Epoch 114/200\n",
      "333/333 [==============================] - ETA: 0s - loss: 0.0551 - accuracy: 0.9805\n",
      "Epoch 114: val_accuracy did not improve from 0.97963\n",
      "333/333 [==============================] - 113s 339ms/step - loss: 0.0551 - accuracy: 0.9805 - val_loss: 0.0763 - val_accuracy: 0.9746\n",
      "Epoch 115/200\n",
      "333/333 [==============================] - ETA: 0s - loss: 0.0656 - accuracy: 0.9737\n",
      "Epoch 115: val_accuracy did not improve from 0.97963\n",
      "333/333 [==============================] - 111s 334ms/step - loss: 0.0656 - accuracy: 0.9737 - val_loss: 0.0993 - val_accuracy: 0.9639\n",
      "Epoch 116/200\n",
      "333/333 [==============================] - ETA: 0s - loss: 0.0452 - accuracy: 0.9835\n",
      "Epoch 116: val_accuracy did not improve from 0.97963\n",
      "333/333 [==============================] - 113s 341ms/step - loss: 0.0452 - accuracy: 0.9835 - val_loss: 0.0851 - val_accuracy: 0.9718\n",
      "Epoch 117/200\n",
      "333/333 [==============================] - ETA: 0s - loss: 0.0443 - accuracy: 0.9835\n",
      "Epoch 117: val_accuracy did not improve from 0.97963\n",
      "333/333 [==============================] - 113s 340ms/step - loss: 0.0443 - accuracy: 0.9835 - val_loss: 0.0744 - val_accuracy: 0.9761\n",
      "Epoch 118/200\n",
      "333/333 [==============================] - ETA: 0s - loss: 0.0387 - accuracy: 0.9860\n",
      "Epoch 118: val_accuracy did not improve from 0.97963\n",
      "333/333 [==============================] - 113s 338ms/step - loss: 0.0387 - accuracy: 0.9860 - val_loss: 0.0699 - val_accuracy: 0.9786\n",
      "Epoch 119/200\n",
      "333/333 [==============================] - ETA: 0s - loss: 0.0600 - accuracy: 0.9776\n",
      "Epoch 119: val_accuracy did not improve from 0.97963\n",
      "333/333 [==============================] - 113s 339ms/step - loss: 0.0600 - accuracy: 0.9776 - val_loss: 0.0922 - val_accuracy: 0.9675\n",
      "Epoch 120/200\n",
      "333/333 [==============================] - ETA: 0s - loss: 0.0471 - accuracy: 0.9831\n",
      "Epoch 120: val_accuracy did not improve from 0.97963\n",
      "333/333 [==============================] - 113s 339ms/step - loss: 0.0471 - accuracy: 0.9831 - val_loss: 0.0868 - val_accuracy: 0.9736\n",
      "Epoch 121/200\n",
      "333/333 [==============================] - ETA: 0s - loss: 0.0499 - accuracy: 0.9822\n",
      "Epoch 121: val_accuracy improved from 0.97963 to 0.98070, saving model to ./drive/MyDrive/MSc Thesis/Experiments/models/LSTM_1d_freq_exp1_strat_local_info_v2.h5\n",
      "333/333 [==============================] - 114s 343ms/step - loss: 0.0499 - accuracy: 0.9822 - val_loss: 0.0614 - val_accuracy: 0.9807\n",
      "Epoch 122/200\n",
      "333/333 [==============================] - ETA: 0s - loss: 0.0377 - accuracy: 0.9866\n",
      "Epoch 122: val_accuracy did not improve from 0.98070\n",
      "333/333 [==============================] - 112s 336ms/step - loss: 0.0377 - accuracy: 0.9866 - val_loss: 0.0872 - val_accuracy: 0.9700\n",
      "Epoch 123/200\n",
      "333/333 [==============================] - ETA: 0s - loss: 0.0478 - accuracy: 0.9829\n",
      "Epoch 123: val_accuracy did not improve from 0.98070\n",
      "333/333 [==============================] - 113s 338ms/step - loss: 0.0478 - accuracy: 0.9829 - val_loss: 0.1367 - val_accuracy: 0.9510\n",
      "Epoch 124/200\n",
      "333/333 [==============================] - ETA: 0s - loss: 0.0465 - accuracy: 0.9829\n",
      "Epoch 124: val_accuracy did not improve from 0.98070\n",
      "333/333 [==============================] - 113s 340ms/step - loss: 0.0465 - accuracy: 0.9829 - val_loss: 0.0907 - val_accuracy: 0.9736\n",
      "Epoch 125/200\n",
      "333/333 [==============================] - ETA: 0s - loss: 0.0387 - accuracy: 0.9863\n",
      "Epoch 125: val_accuracy did not improve from 0.98070\n",
      "333/333 [==============================] - 113s 338ms/step - loss: 0.0387 - accuracy: 0.9863 - val_loss: 0.0731 - val_accuracy: 0.9786\n",
      "Epoch 126/200\n",
      "333/333 [==============================] - ETA: 0s - loss: 0.0467 - accuracy: 0.9827\n",
      "Epoch 126: val_accuracy did not improve from 0.98070\n",
      "333/333 [==============================] - 113s 340ms/step - loss: 0.0467 - accuracy: 0.9827 - val_loss: 0.0661 - val_accuracy: 0.9807\n",
      "Epoch 127/200\n",
      "333/333 [==============================] - ETA: 0s - loss: 0.0521 - accuracy: 0.9816\n",
      "Epoch 127: val_accuracy did not improve from 0.98070\n",
      "333/333 [==============================] - 113s 339ms/step - loss: 0.0521 - accuracy: 0.9816 - val_loss: 0.0676 - val_accuracy: 0.9764\n",
      "Epoch 128/200\n",
      "333/333 [==============================] - ETA: 0s - loss: 0.0376 - accuracy: 0.9872\n",
      "Epoch 128: val_accuracy did not improve from 0.98070\n",
      "333/333 [==============================] - 113s 340ms/step - loss: 0.0376 - accuracy: 0.9872 - val_loss: 0.0815 - val_accuracy: 0.9718\n",
      "Epoch 129/200\n",
      "333/333 [==============================] - ETA: 0s - loss: 0.0495 - accuracy: 0.9827\n",
      "Epoch 129: val_accuracy did not improve from 0.98070\n",
      "333/333 [==============================] - 114s 341ms/step - loss: 0.0495 - accuracy: 0.9827 - val_loss: 0.0759 - val_accuracy: 0.9736\n",
      "Epoch 130/200\n",
      "333/333 [==============================] - ETA: 0s - loss: 0.0493 - accuracy: 0.9817\n",
      "Epoch 130: val_accuracy did not improve from 0.98070\n",
      "333/333 [==============================] - 111s 334ms/step - loss: 0.0493 - accuracy: 0.9817 - val_loss: 0.0741 - val_accuracy: 0.9725\n",
      "Epoch 131/200\n",
      "333/333 [==============================] - ETA: 0s - loss: 0.0374 - accuracy: 0.9864\n",
      "Epoch 131: val_accuracy did not improve from 0.98070\n",
      "333/333 [==============================] - 113s 340ms/step - loss: 0.0374 - accuracy: 0.9864 - val_loss: 0.1056 - val_accuracy: 0.9618\n",
      "Epoch 132/200\n",
      "333/333 [==============================] - ETA: 0s - loss: 0.0432 - accuracy: 0.9848\n",
      "Epoch 132: val_accuracy did not improve from 0.98070\n",
      "333/333 [==============================] - 113s 340ms/step - loss: 0.0432 - accuracy: 0.9848 - val_loss: 0.0820 - val_accuracy: 0.9721\n",
      "Epoch 133/200\n",
      "333/333 [==============================] - ETA: 0s - loss: 0.0419 - accuracy: 0.9849\n",
      "Epoch 133: val_accuracy improved from 0.98070 to 0.98249, saving model to ./drive/MyDrive/MSc Thesis/Experiments/models/LSTM_1d_freq_exp1_strat_local_info_v2.h5\n",
      "333/333 [==============================] - 114s 341ms/step - loss: 0.0419 - accuracy: 0.9849 - val_loss: 0.0568 - val_accuracy: 0.9825\n",
      "Epoch 134/200\n",
      "333/333 [==============================] - ETA: 0s - loss: 0.0296 - accuracy: 0.9898\n",
      "Epoch 134: val_accuracy did not improve from 0.98249\n",
      "333/333 [==============================] - 113s 340ms/step - loss: 0.0296 - accuracy: 0.9898 - val_loss: 0.0651 - val_accuracy: 0.9782\n",
      "Epoch 135/200\n",
      "333/333 [==============================] - ETA: 0s - loss: 0.0413 - accuracy: 0.9853\n",
      "Epoch 135: val_accuracy did not improve from 0.98249\n",
      "333/333 [==============================] - 113s 340ms/step - loss: 0.0413 - accuracy: 0.9853 - val_loss: 0.0611 - val_accuracy: 0.9811\n",
      "Epoch 136/200\n",
      "333/333 [==============================] - ETA: 0s - loss: 0.0555 - accuracy: 0.9803\n",
      "Epoch 136: val_accuracy did not improve from 0.98249\n",
      "333/333 [==============================] - 113s 341ms/step - loss: 0.0555 - accuracy: 0.9803 - val_loss: 0.1351 - val_accuracy: 0.9471\n",
      "Epoch 137/200\n",
      "333/333 [==============================] - ETA: 0s - loss: 0.0379 - accuracy: 0.9866\n",
      "Epoch 137: val_accuracy did not improve from 0.98249\n",
      "333/333 [==============================] - 111s 335ms/step - loss: 0.0379 - accuracy: 0.9866 - val_loss: 0.0679 - val_accuracy: 0.9814\n",
      "Epoch 138/200\n",
      "333/333 [==============================] - ETA: 0s - loss: 0.0392 - accuracy: 0.9855\n",
      "Epoch 138: val_accuracy did not improve from 0.98249\n",
      "333/333 [==============================] - 113s 340ms/step - loss: 0.0392 - accuracy: 0.9855 - val_loss: 0.0702 - val_accuracy: 0.9764\n",
      "Epoch 139/200\n",
      "333/333 [==============================] - ETA: 0s - loss: 0.0315 - accuracy: 0.9892\n",
      "Epoch 139: val_accuracy did not improve from 0.98249\n",
      "333/333 [==============================] - 113s 341ms/step - loss: 0.0315 - accuracy: 0.9892 - val_loss: 0.0748 - val_accuracy: 0.9782\n",
      "Epoch 140/200\n",
      "333/333 [==============================] - ETA: 0s - loss: 0.0569 - accuracy: 0.9793\n",
      "Epoch 140: val_accuracy did not improve from 0.98249\n",
      "333/333 [==============================] - 113s 339ms/step - loss: 0.0569 - accuracy: 0.9793 - val_loss: 0.0583 - val_accuracy: 0.9825\n",
      "Epoch 141/200\n",
      "333/333 [==============================] - ETA: 0s - loss: 0.0276 - accuracy: 0.9900\n",
      "Epoch 141: val_accuracy did not improve from 0.98249\n",
      "333/333 [==============================] - 113s 340ms/step - loss: 0.0276 - accuracy: 0.9900 - val_loss: 0.0779 - val_accuracy: 0.9732\n",
      "Epoch 142/200\n",
      "333/333 [==============================] - ETA: 0s - loss: 0.0404 - accuracy: 0.9852\n",
      "Epoch 142: val_accuracy did not improve from 0.98249\n",
      "333/333 [==============================] - 114s 341ms/step - loss: 0.0404 - accuracy: 0.9852 - val_loss: 0.0858 - val_accuracy: 0.9714\n",
      "Epoch 143/200\n",
      "333/333 [==============================] - ETA: 0s - loss: 0.0385 - accuracy: 0.9861\n",
      "Epoch 143: val_accuracy did not improve from 0.98249\n",
      "333/333 [==============================] - 113s 340ms/step - loss: 0.0385 - accuracy: 0.9861 - val_loss: 0.0969 - val_accuracy: 0.9689\n",
      "Epoch 144/200\n",
      "333/333 [==============================] - ETA: 0s - loss: 0.0380 - accuracy: 0.9869\n",
      "Epoch 144: val_accuracy did not improve from 0.98249\n",
      "333/333 [==============================] - 113s 339ms/step - loss: 0.0380 - accuracy: 0.9869 - val_loss: 0.0740 - val_accuracy: 0.9750\n",
      "Epoch 145/200\n",
      "333/333 [==============================] - ETA: 0s - loss: 0.0476 - accuracy: 0.9831\n",
      "Epoch 145: val_accuracy did not improve from 0.98249\n",
      "333/333 [==============================] - 112s 335ms/step - loss: 0.0476 - accuracy: 0.9831 - val_loss: 0.1004 - val_accuracy: 0.9660\n",
      "Epoch 146/200\n",
      "333/333 [==============================] - ETA: 0s - loss: 0.0271 - accuracy: 0.9909\n",
      "Epoch 146: val_accuracy did not improve from 0.98249\n",
      "333/333 [==============================] - 113s 340ms/step - loss: 0.0271 - accuracy: 0.9909 - val_loss: 0.0757 - val_accuracy: 0.9750\n",
      "Epoch 147/200\n",
      "333/333 [==============================] - ETA: 0s - loss: 0.0309 - accuracy: 0.9889\n",
      "Epoch 147: val_accuracy did not improve from 0.98249\n",
      "333/333 [==============================] - 113s 339ms/step - loss: 0.0309 - accuracy: 0.9889 - val_loss: 0.0914 - val_accuracy: 0.9696\n",
      "Epoch 148/200\n",
      "333/333 [==============================] - ETA: 0s - loss: 0.0332 - accuracy: 0.9880\n",
      "Epoch 148: val_accuracy did not improve from 0.98249\n",
      "333/333 [==============================] - 113s 339ms/step - loss: 0.0332 - accuracy: 0.9880 - val_loss: 0.0635 - val_accuracy: 0.9811\n",
      "Epoch 149/200\n",
      "333/333 [==============================] - ETA: 0s - loss: 0.0436 - accuracy: 0.9843\n",
      "Epoch 149: val_accuracy did not improve from 0.98249\n",
      "333/333 [==============================] - 114s 342ms/step - loss: 0.0436 - accuracy: 0.9843 - val_loss: 0.0805 - val_accuracy: 0.9743\n",
      "Epoch 150/200\n",
      "333/333 [==============================] - ETA: 0s - loss: 0.0409 - accuracy: 0.9846\n",
      "Epoch 150: val_accuracy did not improve from 0.98249\n",
      "333/333 [==============================] - 113s 339ms/step - loss: 0.0409 - accuracy: 0.9846 - val_loss: 0.0704 - val_accuracy: 0.9796\n",
      "Epoch 151/200\n",
      "333/333 [==============================] - ETA: 0s - loss: 0.0333 - accuracy: 0.9881\n",
      "Epoch 151: val_accuracy did not improve from 0.98249\n",
      "333/333 [==============================] - 113s 338ms/step - loss: 0.0333 - accuracy: 0.9881 - val_loss: 0.0898 - val_accuracy: 0.9732\n",
      "Epoch 152/200\n",
      "333/333 [==============================] - ETA: 0s - loss: 0.0445 - accuracy: 0.9839\n",
      "Epoch 152: val_accuracy did not improve from 0.98249\n",
      "333/333 [==============================] - 112s 336ms/step - loss: 0.0445 - accuracy: 0.9839 - val_loss: 0.1047 - val_accuracy: 0.9575\n",
      "Epoch 153/200\n",
      "333/333 [==============================] - ETA: 0s - loss: 0.0274 - accuracy: 0.9903Restoring model weights from the end of the best epoch: 133.\n",
      "\n",
      "Epoch 153: val_accuracy did not improve from 0.98249\n",
      "333/333 [==============================] - 113s 340ms/step - loss: 0.0274 - accuracy: 0.9903 - val_loss: 0.0894 - val_accuracy: 0.9736\n",
      "Epoch 153: early stopping\n"
     ]
    }
   ],
   "source": [
    "# Fitting the RNN to the Training set\n",
    "history=classifier.fit([X_train_scaled,X_train_scaled_f,X_train_scaled_local,X_train_scaled_f_local], y_train[:,0], epochs = 200, batch_size = 64,validation_data=([X_test_scaled,X_test_scaled_f,X_test_scaled_local,X_test_scaled_f_local],y_test[:,0]),callbacks=callbacks)\n"
   ]
  },
  {
   "cell_type": "code",
   "execution_count": null,
   "metadata": {
    "colab": {
     "base_uri": "https://localhost:8080/"
    },
    "id": "7puZMrQ6rZ8B",
    "outputId": "d36c0110-c95d-4bbb-b1d2-0915a2ea0b6d"
   },
   "outputs": [
    {
     "name": "stdout",
     "output_type": "stream",
     "text": [
      "88/88 [==============================] - 3s 40ms/step - loss: 0.0568 - accuracy: 0.9825\n"
     ]
    },
    {
     "data": {
      "text/plain": [
       "[0.056785911321640015, 0.9824874997138977]"
      ]
     },
     "execution_count": 20,
     "metadata": {},
     "output_type": "execute_result"
    }
   ],
   "source": [
    "classifier.evaluate([X_test_scaled,X_test_scaled_f,X_test_scaled_local,X_test_scaled_f_local],y_test[:,0])"
   ]
  },
  {
   "cell_type": "code",
   "execution_count": null,
   "metadata": {
    "colab": {
     "base_uri": "https://localhost:8080/"
    },
    "id": "pXaIqqGvsq2-",
    "outputId": "8f8f0d6b-74d5-4dad-cd47-f69ba6054a62"
   },
   "outputs": [
    {
     "data": {
      "image/png": "[encoded data removed]",
      "text/plain": [
       "<Figure size 1080x360 with 2 Axes>"
      ]
     },
     "metadata": {
      "needs_background": "light"
     },
     "output_type": "display_data"
    }
   ],
   "source": [
    "import matplotlib.pyplot as plt\n",
    "def display_learning_curves(history):\n",
    "    fig, (ax1, ax2) = plt.subplots(1, 2, figsize=(15, 5))\n",
    "\n",
    "    ax1.plot(history.history[\"loss\"])\n",
    "    ax1.plot(history.history[\"val_loss\"])\n",
    "    ax1.legend([\"train\", \"valid\"], loc=\"upper right\")\n",
    "    ax1.set_xlabel(\"Epochs\")\n",
    "    ax1.set_ylabel(\"Loss\")\n",
    "\n",
    "    ax2.plot(history.history[\"accuracy\"])\n",
    "    ax2.plot(history.history[\"val_accuracy\"])\n",
    "    ax2.legend([\"train\", \"valid\"], loc=\"upper right\")\n",
    "    ax2.set_xlabel(\"Epochs\")\n",
    "    ax2.set_ylabel(\"Accuracy\")\n",
    "    plt.show()\n",
    "\n",
    "display_learning_curves(history)"
   ]
  },
  {
   "cell_type": "code",
   "execution_count": null,
   "metadata": {
    "id": "jzJ3rz1JZlM7"
   },
   "outputs": [],
   "source": []
  },
  {
   "cell_type": "code",
   "execution_count": null,
   "metadata": {
    "id": "L0VKJswYTc4O"
   },
   "outputs": [],
   "source": [
    "import tensorflow as tf\n",
    "temp=tf.keras.models.load_model(\"./drive/MyDrive/MSc Thesis/Experiments/models/LSTM_1d_freq_exp1_strat_local_info_v2.h5\")"
   ]
  },
  {
   "cell_type": "code",
   "execution_count": null,
   "metadata": {
    "colab": {
     "base_uri": "https://localhost:8080/"
    },
    "id": "u9bgdUJETn0g",
    "outputId": "6bd867d0-e71c-46af-f2fe-36de8cfa37ec"
   },
   "outputs": [
    {
     "name": "stdout",
     "output_type": "stream",
     "text": [
      "2798/2798 [==============================] - 111s 38ms/step - loss: 0.0568 - accuracy: 0.9825\n"
     ]
    },
    {
     "data": {
      "text/plain": [
       "[0.05678555741906166, 0.9824874997138977]"
      ]
     },
     "execution_count": 23,
     "metadata": {},
     "output_type": "execute_result"
    }
   ],
   "source": [
    "temp.evaluate([X_test_scaled,X_test_scaled_f,X_test_scaled_local,X_test_scaled_f_local], y_test[:,0], 1)"
   ]
  },
  {
   "cell_type": "code",
   "execution_count": null,
   "metadata": {
    "colab": {
     "base_uri": "https://localhost:8080/"
    },
    "id": "hbTiJwqAZhcj",
    "outputId": "48e6593c-acd5-4fa6-ca91-503fa7b43f1b"
   },
   "outputs": [
    {
     "name": "stdout",
     "output_type": "stream",
     "text": [
      "88/88 [==============================] - 10s 40ms/step - loss: 0.0568 - accuracy: 0.9825\n"
     ]
    },
    {
     "data": {
      "text/plain": [
       "[0.056785911321640015, 0.9824874997138977]"
      ]
     },
     "execution_count": 24,
     "metadata": {},
     "output_type": "execute_result"
    }
   ],
   "source": [
    "temp.evaluate([X_test_scaled,X_test_scaled_f,X_test_scaled_local,X_test_scaled_f_local], y_test[:,0])"
   ]
  },
  {
   "cell_type": "code",
   "execution_count": null,
   "metadata": {
    "id": "RD4YF1AuT2tn"
   },
   "outputs": [],
   "source": [
    "y_pred = temp.predict([X_test_scaled,X_test_scaled_f,X_test_scaled_local,X_test_scaled_f_local])\n",
    "y_pred= (y_pred>=0.5).astype(int)"
   ]
  },
  {
   "cell_type": "code",
   "execution_count": null,
   "metadata": {
    "colab": {
     "base_uri": "https://localhost:8080/"
    },
    "id": "sjx-DjHUWp52",
    "outputId": "71ae9aaa-beab-4ec8-b632-5ba97d07524d"
   },
   "outputs": [
    {
     "data": {
      "text/plain": [
       "array([[1],\n",
       "       [0],\n",
       "       [0],\n",
       "       ...,\n",
       "       [1],\n",
       "       [1],\n",
       "       [0]])"
      ]
     },
     "execution_count": 26,
     "metadata": {},
     "output_type": "execute_result"
    }
   ],
   "source": [
    "y_pred"
   ]
  },
  {
   "cell_type": "code",
   "execution_count": null,
   "metadata": {
    "id": "ipevqB9rXDeW"
   },
   "outputs": [],
   "source": [
    "from sklearn.metrics import accuracy_score, f1_score, classification_report,confusion_matrix"
   ]
  },
  {
   "cell_type": "code",
   "execution_count": null,
   "metadata": {
    "colab": {
     "base_uri": "https://localhost:8080/"
    },
    "id": "rSeo2ltUXffg",
    "outputId": "71d626ac-b964-4cc5-d414-13f61467b988"
   },
   "outputs": [
    {
     "data": {
      "text/plain": [
       "array([[1966,   28],\n",
       "       [  21,  783]])"
      ]
     },
     "execution_count": 28,
     "metadata": {},
     "output_type": "execute_result"
    }
   ],
   "source": [
    "confusion_matrix(y_test[:,0],y_pred)"
   ]
  },
  {
   "cell_type": "code",
   "execution_count": null,
   "metadata": {
    "colab": {
     "base_uri": "https://localhost:8080/"
    },
    "id": "eM1TBa2IXtj2",
    "outputId": "1de4c0eb-49a5-4e18-d40d-e3140861a685"
   },
   "outputs": [
    {
     "data": {
      "text/plain": [
       "0.9824874910650465"
      ]
     },
     "execution_count": 29,
     "metadata": {},
     "output_type": "execute_result"
    }
   ],
   "source": [
    "accuracy_score(y_test[:,0],y_pred)"
   ]
  },
  {
   "cell_type": "code",
   "execution_count": null,
   "metadata": {
    "colab": {
     "base_uri": "https://localhost:8080/"
    },
    "id": "_9V2DcARYNq6",
    "outputId": "27657220-93c4-4c80-9f20-6bf9410296fe"
   },
   "outputs": [
    {
     "data": {
      "text/plain": [
       "0.9696594427244583"
      ]
     },
     "execution_count": 30,
     "metadata": {},
     "output_type": "execute_result"
    }
   ],
   "source": [
    "f1_score(y_test[:,0],y_pred)"
   ]
  },
  {
   "cell_type": "code",
   "execution_count": null,
   "metadata": {
    "colab": {
     "base_uri": "https://localhost:8080/"
    },
    "id": "JwAjeUnMYQ1O",
    "outputId": "bfbb887c-c63c-4513-f6dc-611c76cf8b3c"
   },
   "outputs": [
    {
     "name": "stdout",
     "output_type": "stream",
     "text": [
      "              precision    recall  f1-score   support\n",
      "\n",
      "           0       0.99      0.99      0.99      1994\n",
      "           1       0.97      0.97      0.97       804\n",
      "\n",
      "    accuracy                           0.98      2798\n",
      "   macro avg       0.98      0.98      0.98      2798\n",
      "weighted avg       0.98      0.98      0.98      2798\n",
      "\n"
     ]
    }
   ],
   "source": [
    "print(classification_report(y_test[:,0],y_pred))"
   ]
  },
  {
   "cell_type": "code",
   "execution_count": null,
   "metadata": {
    "id": "vKWvey6_f1IK"
   },
   "outputs": [],
   "source": [
    "# ###Collect F-Score 10 times\n",
    "# import sklearn\n",
    "# from tqdm.notebook import tqdm\n",
    "# def calc_f1_score(X_train_scaled,X_train_scaled_local,X_test_scaled,X_test_scaled_local,X_train_scaled_f,X_train_scaled_f_local,X_test_scaled_f,X_test_scaled_f_local,y_train,y_test,earlystop):\n",
    "#   input_1 = Input((X_train_scaled.shape[1], X_train_scaled.shape[2])) #50,8\n",
    "#   input_2 = Input((X_train_scaled_f.shape[1], X_train_scaled_f.shape[2])) #26,4\n",
    "#   input_3 = Input((X_train_scaled_local.shape[1], X_train_scaled_local.shape[2], X_train_scaled_local.shape[3])) #20,50,4\n",
    "#   input_4 = Input((X_train_scaled_f_local.shape[1], X_train_scaled_f_local.shape[2], X_train_scaled_f_local.shape[3])) #20,26,2\n",
    "#   x1=LSTM(units = 100, return_sequences = True)(input_1)\n",
    "#   x1=LSTM(units = 50)(x1)\n",
    "#   x2=LSTM(units = 100, return_sequences = True)(input_2)\n",
    "#   x2=LSTM(units = 50)(x2)\n",
    "#   x3=layers.Masking(mask_value=padding_val)(input_3)\n",
    "#   x3=layers.TimeDistributed(LSTM(units = 100, return_sequences = True))(x3)\n",
    "#   x3=layers.TimeDistributed(LSTM(units = 50))(x3)\n",
    "#   x3=layers.Flatten()(x3)\n",
    "#   x4=layers.Masking(mask_value=padding_val)(input_4)\n",
    "#   x4=layers.TimeDistributed(LSTM(units = 100, return_sequences = True))(x4)\n",
    "#   x4=layers.TimeDistributed(LSTM(units = 50))(x4)\n",
    "#   x4=layers.Flatten()(x4)\n",
    "#   x_neighbbours=layers.concatenate([x3,x4])\n",
    "#   x_neighbbours=layers.Dense(100,activation='relu')(x_neighbbours)\n",
    "#   x = layers.concatenate([x1, x2,x_neighbbours])\n",
    "#   x=layers.Dense(50,activation='relu')(x)\n",
    "#   output_layer = layers.Dense(1, activation=\"sigmoid\")(x)\n",
    "#   classifier=keras.Model(inputs=[input_1, input_2, input_3, input_4], outputs=output_layer)\n",
    "#   # Compiling the RNN\n",
    "#   classifier.compile(optimizer = 'adam', loss = 'binary_crossentropy', metrics = ['accuracy'])\n",
    "\n",
    "#   classifier.fit([X_train_scaled,X_train_scaled_f,X_train_scaled_local,X_train_scaled_f_local], y_train[:,0], epochs = 500, batch_size = 64,validation_data=([X_test_scaled,X_test_scaled_f,X_test_scaled_local,X_test_scaled_f_local],y_test[:,0]),callbacks=[earlystop])\n",
    "#   y_pred = classifier.predict([X_test_scaled,X_test_scaled_f,X_test_scaled_local,X_test_scaled_f_local])\n",
    "#   y_pred= (y_pred>=0.5).astype(int)\n",
    "#   return(sklearn.metrics.f1_score(y_test[:,0],y_pred))\n",
    "\n",
    "# f1_score_list=[]\n",
    "# for i in tqdm(range(10)):\n",
    "#   f1_score_list=f1_score_list+[calc_f1_score(X_train_scaled,X_train_scaled_local,X_test_scaled,X_test_scaled_local,X_train_scaled_f,X_train_scaled_f_local,X_test_scaled_f,X_test_scaled_f_local,y_train,y_test,earlystop)]\n",
    "#   print(\"Number of iterations\",len(f1_score_list))\n",
    "#   print(\"F1-scores: \",f1_score_list)\n",
    "#   print(\"Average F1-Score\",np.mean(f1_score_list))\n",
    "#   print(\"Std Dev F1-Score\",np.std(f1_score_list))\n",
    "#   print(\"Error bar F1-Score\",np.std(f1_score_list)/np.sqrt(len(f1_score_list)))\n"
   ]
  }
 ],
 "metadata": {
  "accelerator": "GPU",
  "colab": {
   "collapsed_sections": [],
   "name": "LSTM_1d_freq_exp1_local_pairwise_v2.ipynb",
   "provenance": []
  },
  "gpuClass": "standard",
  "kernelspec": {
   "display_name": "Python 3 (ipykernel)",
   "language": "python",
   "name": "python3"
  },
  "language_info": {
   "codemirror_mode": {
    "name": "ipython",
    "version": 3
   },
   "file_extension": ".py",
   "mimetype": "text/x-python",
   "name": "python",
   "nbconvert_exporter": "python",
   "pygments_lexer": "ipython3",
   "version": "3.9.7"
  }
 },
 "nbformat": 4,
 "nbformat_minor": 1
}
