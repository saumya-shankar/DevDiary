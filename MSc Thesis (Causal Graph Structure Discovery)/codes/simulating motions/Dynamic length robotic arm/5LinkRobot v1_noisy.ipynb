{
 "cells": [
  {
   "cell_type": "code",
   "execution_count": 1,
   "metadata": {},
   "outputs": [],
   "source": [
    "import numpy as np\n",
    "import matplotlib.pyplot as plt\n",
    "from celluloid import Camera\n",
    "from IPython.display import HTML\n",
    "import pandas as pd\n",
    "import random\n",
    "import copy"
   ]
  },
  {
   "cell_type": "code",
   "execution_count": 2,
   "metadata": {},
   "outputs": [],
   "source": [
    "\n",
    "class FiveLinkArm:\n",
    "    \n",
    "    def __init__(self):\n",
    "        # Set parameters for the 5-link planar arm\n",
    "        self.theta1 = np.deg2rad(0)\n",
    "        self.theta2 = np.deg2rad(90)\n",
    "        self.theta3 = np.deg2rad(90)\n",
    "        self.theta4 = np.deg2rad(90)\n",
    "        self.theta5 = np.deg2rad(90)\n",
    "        self.orig_l1 = np.random.randint(4,9)\n",
    "        self.orig_l2 = np.random.randint(4,9)\n",
    "        self.orig_l3 = np.random.randint(4,9)\n",
    "        self.orig_l4 = np.random.randint(4,9)\n",
    "        self.orig_l5 = np.random.randint(4,9)\n",
    "        self.l1=copy.copy(self.orig_l1)\n",
    "        self.l2=copy.copy(self.orig_l2)\n",
    "        self.l3=copy.copy(self.orig_l3)\n",
    "        self.l4=copy.copy(self.orig_l4)\n",
    "        self.l5=copy.copy(self.orig_l5)\n",
    "        max_len_shift=int(np.min([self.l1,self.l2,self.l3,self.l4,self.l5])*(2/3))\n",
    "        self.arr1=np.linspace(-max_len_shift,max_len_shift,np.random.randint(10,50))\n",
    "        self.arr1=np.append(self.arr1,np.flip(self.arr1))\n",
    "        self.permute=np.random.permutation([0.5,0.5,-1,1,-1])\n",
    "\n",
    "\n",
    "    def forwardKinematics(self, theta1, theta2, theta3,theta4,theta5):\n",
    "        # Define the homogeneous transformation matrices for the 5-link planar arm\n",
    "        self.theta1 = theta1\n",
    "        self.theta2 = theta2\n",
    "        self.theta3 = theta3\n",
    "        self.theta4 = theta4\n",
    "        self.theta5 = theta5\n",
    "        self.t01 = np.matrix([[np.cos(self.theta1), -np.sin(self.theta1), 0], \n",
    "                              [np.sin(self.theta1), np.cos(self.theta1), 0],\n",
    "                              [0, 0, 1]])\n",
    "        self.t12 = np.matrix([[np.cos(self.theta2), -np.sin(self.theta2), self.l1],\n",
    "                              [np.sin(self.theta2), np.cos(self.theta2), 0],\n",
    "                              [0, 0, 1]])\n",
    "        self.t23 = np.matrix([[np.cos(self.theta3), -np.sin(self.theta3), self.l2],\n",
    "                              [np.sin(self.theta3), np.cos(self.theta3), 0],\n",
    "                              [0, 0, 1]])        \n",
    "        self.t34 = np.matrix([[np.cos(self.theta4), -np.sin(self.theta4), self.l3],\n",
    "                              [np.sin(self.theta4), np.cos(self.theta4), 0],\n",
    "                              [0, 0, 1]])\n",
    "        self.t45 = np.matrix([[np.cos(self.theta5), -np.sin(self.theta5), self.l4],\n",
    "                              [np.sin(self.theta5), np.cos(self.theta5), 0],\n",
    "                              [0, 0, 1]])\n",
    "        self.t5end = np.matrix([[np.cos(self.theta5), -np.sin(self.theta5), self.l5],\n",
    "                                [np.sin(self.theta5), np.cos(self.theta5), 0],\n",
    "                                [0, 0, 1]])\n",
    "\n",
    "        self.t0end = self.t01*self.t12*self.t23*self.t34*self.t45*self.t5end\n",
    "        return self.t0end\n",
    "    \n",
    "    def findJointPos(self): \n",
    "        # Find the x,y position of each joint and end effector so it can be plotted\n",
    "        # Find the transformation matrices for joint 2 and joint 3 and joint 4 and joint 5\n",
    "        self.t02 = self.t01*self.t12\n",
    "        self.t03 = self.t01*self.t12*self.t23\n",
    "        self.t04 = self.t01*self.t12*self.t23*self.t34\n",
    "        self.t05 = self.t01*self.t12*self.t23*self.t34*self.t45\n",
    "        # Find the x, y coordinates for joints 2 and 3 and 4 and 5. Put them in a list j2 = [x,y]\n",
    "        j2 = [ self.t02[0, 2], self.t02[1, 2] ]\n",
    "        j3 = [ self.t03[0, 2], self.t03[1, 2] ]\n",
    "        j4 = [ self.t04[0, 2], self.t04[1, 2] ]\n",
    "        j5 = [ self.t05[0, 2], self.t05[1, 2] ]\n",
    "        endeff = [self.t0end[0,2],self.t0end[1,2]]\n",
    "        \n",
    "        self.jnt2pos, self.jnt3pos, self.jnt4pos, self.jnt5pos, self.endEffPos = j2,j3,j4,j5,endeff\n",
    "        return j2,j3,j4,j5,endeff\n",
    "    \n",
    "    def geomJacobian(self, jnt2pos=None, jnt3pos=None, jnt4pos=None, jnt5pos=None, endEffPos=None):\n",
    "        if jnt2pos is None:\n",
    "            jnt2pos=self.jnt2pos \n",
    "        if jnt3pos is None:\n",
    "            jnt3pos=self.jnt3pos\n",
    "        if jnt4pos is None:\n",
    "            jnt4pos=self.jnt4pos\n",
    "        if jnt5pos is None:\n",
    "            jnt5pos=self.jnt5pos\n",
    "        if endEffPos is None:\n",
    "            endEffPos=self.endEffPos\n",
    "        ai = np.array([0,0,1])\n",
    "        col0 = np.array(endEffPos + [0])\n",
    "        col1 = np.array(endEffPos + [0]) - np.array(jnt2pos + [0])\n",
    "        col2 = np.array(endEffPos + [0]) - np.array(jnt3pos + [0])\n",
    "        col3 = np.array(endEffPos + [0]) - np.array(jnt4pos + [0])\n",
    "        col4 = np.array(endEffPos + [0]) - np.array(jnt5pos + [0])\n",
    "        J = np.array([np.cross(ai,col0), np.cross(ai,col1), np.cross(ai,col2), np.cross(ai,col3),\n",
    "                      np.cross(ai,col4)]).T \n",
    "        return J\n",
    "    \n",
    "    def random_link_len_change(self,i):\n",
    "        self.l1=self.orig_l1+self.permute[0]*self.arr1[i%len(self.arr1)]\n",
    "        self.l2=self.orig_l2+self.permute[1]*self.arr1[i%len(self.arr1)]\n",
    "        self.l3=self.orig_l3+self.permute[2]*self.arr1[i%len(self.arr1)]\n",
    "        self.l4=self.orig_l4+self.permute[3]*self.arr1[i%len(self.arr1)]\n",
    "        self.l5=self.orig_l5+self.permute[4]*self.arr1[i%len(self.arr1)]"
   ]
  },
  {
   "cell_type": "code",
   "execution_count": 3,
   "metadata": {},
   "outputs": [],
   "source": [
    "def plotArm(jnt2pos, jnt3pos, jnt4pos, jnt5pos, endEffectPos, target=None, step=None):\n",
    "    # set up figure\n",
    "    fig = plt.figure(figsize=(10,10))\n",
    "    ax = fig.add_subplot(111, autoscale_on=False, xlim=(-25, 25), ylim=(-25, 25))\n",
    "    ax.grid()\n",
    "    \n",
    "    if step is not None:\n",
    "        step = np.array(step)\n",
    "        plt.scatter(step[:, 0],step[:, 1], color='lightblue', marker='o')\n",
    "        plt.plot(step[:, 0],step[:, 1], color='lightblue')\n",
    "    if target is not None:\n",
    "        target = np.array(target)\n",
    "        plt.scatter(target[:, 0],target[:, 1], color='red', marker='o')\n",
    "        \n",
    "    line, = ax.plot([], [], 'o-', lw=4, mew=5)\n",
    "    time_text = ax.text(0.02, 0.95, '', transform=ax.transAxes)\n",
    "\n",
    "    line.set_data([], [])\n",
    "    time_text.set_text('')\n",
    "    x = np.array([0, jnt2pos[0], jnt3pos[0], jnt4pos[0], jnt5pos[0], endEffectPos[0]])\n",
    "    y = np.array([0, jnt2pos[1], jnt3pos[1], jnt4pos[1], jnt5pos[1], endEffectPos[1]])\n",
    "    line.set_data((x,y))\n",
    "    \n",
    "    plt.show()\n",
    "    \n",
    "# gif animation plotter\n",
    "def plotArm2(jnt2pos, jnt3pos, jnt4pos, jnt5pos, endEffectPos,x1,y1,x2,y2, target=None, step=None, fig=None, camera=None):\n",
    "    # set up figure\n",
    "    ax = fig.add_subplot(111, autoscale_on=False,\n",
    "                         xlim=(-25, 25), ylim=(-25, 25))\n",
    "    ax.grid()\n",
    "    line, = ax.plot([], [], 'o-', lw=4, mew=5, color='lightblue')\n",
    "    time_text = ax.text(0.02, 0.95, '', transform=ax.transAxes)\n",
    "\n",
    "    line.set_data([], [])\n",
    "    time_text.set_text('')\n",
    "    x = np.array([0, jnt2pos[0], jnt3pos[0], jnt4pos[0], jnt5pos[0], endEffectPos[0]])\n",
    "    y = np.array([0, jnt2pos[1], jnt3pos[1], jnt4pos[1], jnt5pos[1], endEffectPos[1]])\n",
    "    line.set_data((x,y))\n",
    "\n",
    "    if(not np.isnan(x1[0])):\n",
    "            plt.plot([jnt2pos[0],jnt3pos[0],x1[0],jnt2pos[0]],\n",
    "                     [jnt2pos[1],jnt3pos[1],y1[0],jnt2pos[1]],'o-', lw=2, mew=5, color='green')\n",
    "    if(not np.isnan(x1[1])):\n",
    "            plt.plot([jnt3pos[0],jnt4pos[0],x1[1],jnt3pos[0]],\n",
    "                     [jnt3pos[1],jnt4pos[1],y1[1],jnt3pos[1]],'o-', lw=2, mew=5, color='yellow')\n",
    "    if(not np.isnan(x1[2])):\n",
    "            plt.plot([jnt4pos[0],jnt5pos[0],x1[2],jnt4pos[0]],\n",
    "                     [jnt4pos[1],jnt5pos[1],y1[2],jnt4pos[1]],'o-', lw=2, mew=5, color='black')\n",
    "    if(not np.isnan(x1[3])):\n",
    "            plt.plot([jnt5pos[0],endEffectPos[0],x1[3],jnt5pos[0]],\n",
    "                     [jnt5pos[1],endEffectPos[1],y1[3],jnt5pos[1]],'o-', lw=2, mew=5, color='brown')\n",
    "    \n",
    "    plt.plot([endEffectPos[0],x2[0]],[endEffectPos[1],y2[0]],'o-', lw=2, mew=5, color='lightblue')\n",
    "    plt.plot([endEffectPos[0],x2[1]],[endEffectPos[1],y2[1]],'o-', lw=2, mew=5, color='lightblue')\n",
    "\n",
    "\n",
    "    if step is not None:\n",
    "        step = np.array(step)\n",
    "        plt.scatter(step[:, 0],step[:, 1], color='lightblue', marker='o')\n",
    "        plt.plot(step[:, 0],step[:, 1], color='lightblue')\n",
    "    if target is not None:\n",
    "        target = np.array(target)\n",
    "        plt.scatter(target[:, 0],target[:, 1], color='red', marker='o')\n",
    "\n",
    "    camera.snap()"
   ]
  },
  {
   "cell_type": "markdown",
   "metadata": {},
   "source": [
    "In this part, let's plan some simple polynomial trajectories in the work space. "
   ]
  },
  {
   "cell_type": "markdown",
   "metadata": {},
   "source": [
    "First, setup a simple environment with the arm manipulator and four intermediate interpolation points."
   ]
  },
  {
   "cell_type": "code",
   "execution_count": 4,
   "metadata": {},
   "outputs": [],
   "source": [
    "def create_simulation(animation_index,samples):\n",
    "    \n",
    "    # Setup our new manipulator\n",
    "    arm = FiveLinkArm()\n",
    "    \n",
    "    # define the initial configuration of the manipulator (you are welcomed to try other values)\n",
    "    initTheta = [np.deg2rad(0),np.deg2rad(45),np.deg2rad(-45),np.deg2rad(45),np.deg2rad(-45)]\n",
    "\n",
    "    # Initialise the arm with the initial values\n",
    "    _ = arm.forwardKinematics(*initTheta)\n",
    "\n",
    "    # Get the initial end-effector position \n",
    "    init_joint2pos, init_joint3pos, init_joint4pos, init_joint5pos, EF_init_pos = arm.findJointPos()\n",
    "\n",
    "    # Define the target postions of the end-effector\n",
    "    # EF_target_pos = np.array([[EF_init_pos[0], 6.,2.,-4.,-8.],\n",
    "    #                           [EF_init_pos[1], -6.,8.,-5.,6.]]).T\n",
    "    ##Choose points randomly, choose x equally spaced and y randomly\n",
    "    L=arm.l1+arm.l2+arm.l3+arm.l4+arm.l5\n",
    "    print(L)\n",
    "    x_points=np.array([2/3*L, 1/3*L, -1/3*L, -2/3*L])\n",
    "\n",
    "    y_points=[]\n",
    "    R=3*L/4\n",
    "    for i in range(4):\n",
    "        y_points.append(random.uniform(-1*np.sqrt(R**2-x_points[i]**2),\n",
    "                                          np.sqrt(R**2-x_points[i]**2)))\n",
    "    y_points=np.array(y_points)\n",
    "    \n",
    "    EF_target_pos = np.array([[EF_init_pos[0], x_points[0],x_points[1],x_points[2],x_points[3]],\n",
    "                              [EF_init_pos[1], y_points[0],y_points[1],y_points[2],y_points[3]]]).T\n",
    "\n",
    "    # Plot the pose of the arm\n",
    "    #plotArm(*arm.findJointPos(), target=EF_target_pos)\n",
    "    print(f\"The interpolation points are stored in the variable \\\"EF_target_pos\\\": \\n{EF_target_pos}\")\n",
    "    \n",
    "    pol = np.polyfit(EF_target_pos[:, 0], EF_target_pos[:, 1], EF_target_pos.shape[0]-1)  # polynomial coefficients\n",
    "    \n",
    "    # Plotting the planned trajectory\n",
    "    #epsilon = 100\n",
    "    epsilon = samples\n",
    "    \n",
    "    xx = np.linspace(EF_target_pos[0,0],EF_target_pos[-1,0], epsilon)\n",
    "    yy = np.polyval(pol,xx)   \n",
    "    curve = np.hstack([xx[:, None], yy[:, None]]) \n",
    "    \n",
    "    interpolated_points=curve\n",
    "\n",
    "#     plotArm(*arm.findJointPos(), target=EF_target_pos, step=interpolated_points)\n",
    "    print(f\"The intermediate points are stored in the variable \\\"interpolated_points\\\"\")\n",
    "    \n",
    "    # set the current E-F position for the IK loop\n",
    "    joint2pos, joint3pos, joint4pos, joint5pos, endEffectorPos = init_joint2pos, init_joint3pos, init_joint4pos, init_joint5pos, EF_init_pos\n",
    "    # set the initial robot configuration\n",
    "    newTheta = initTheta\n",
    "\n",
    "    # Set up the animation generator\n",
    "    fig = plt.figure(figsize=(10,10))\n",
    "    camera = Camera(fig)\n",
    "\n",
    "    temp=np.random.randint(0,2,4)\n",
    "    temp_angle=np.random.randint(15,60,4) \n",
    "    print(temp)\n",
    "    print(temp_angle)\n",
    "    \n",
    "    temp_eeff_angle=np.append(np.linspace(0,45,int(interpolated_points.shape[0]/8)),\n",
    "                          np.linspace(45,0,int(interpolated_points.shape[0]/8)))\n",
    "    \n",
    "    eeff_len_orig=np.random.randint(2,5)\n",
    "    \n",
    "    keypoints_data=pd.DataFrame(columns=range((6+np.sum(temp)+2)*2),dtype=float)\n",
    "    \n",
    "    arr2=np.linspace(-1,1,np.random.randint(10,50))\n",
    "    arr3=np.linspace(-int(eeff_len_orig/2),int(eeff_len_orig/2),np.random.randint(10,50))\n",
    "    \n",
    "    arr2=np.append(arr2,np.flip(arr2))\n",
    "    arr3=np.append(arr3,np.flip(arr3))\n",
    "\n",
    "\n",
    "    for i in range(interpolated_points.shape[0]):\n",
    "        J = arm.geomJacobian()\n",
    "\n",
    "        newgoal = interpolated_points[i, :]\n",
    "        deltaStep = newgoal - endEffectorPos\n",
    "        subtarget = np.array([deltaStep[0], deltaStep[1], 0]) \n",
    "\n",
    "        radTheta = np.linalg.pinv(J) @ subtarget\n",
    "        newTheta = newTheta + radTheta\n",
    "\n",
    "        # ----------- Do forward kinematics to plot the arm ---------------\n",
    "        arm.random_link_len_change(i)\n",
    "        eeff_len=eeff_len_orig+arr3[i%len(arr3)]\n",
    "\n",
    "        _ = arm.forwardKinematics(newTheta[0],newTheta[1],newTheta[2],newTheta[3],newTheta[4])\n",
    "        joint2pos, joint3pos, joint4pos, joint5pos, endEffectorPos = arm.findJointPos()\n",
    "\n",
    "        x1=[]\n",
    "        y1=[]\n",
    "        x2=[]\n",
    "        y2=[]\n",
    "\n",
    "        if(temp[0]==1):\n",
    "            x1=x1+[arm.l1*np.cos(newTheta[0]) \\\n",
    "                   +(3+arr2[i%len(arr2)])*np.cos(newTheta[0]+newTheta[1]+np.deg2rad(temp_angle[0]))]\n",
    "            y1=y1+[arm.l1*np.sin(newTheta[0]) \\\n",
    "                   +(3+arr2[i%len(arr2)])*np.sin(newTheta[0]+newTheta[1]+np.deg2rad(temp_angle[0]))]\n",
    "        else:\n",
    "            x1=x1+[np.nan]\n",
    "            y1=y1+[np.nan]\n",
    "\n",
    "        if(temp[1]==1):\n",
    "            x1=x1+[arm.l1*np.cos(newTheta[0]) \\\n",
    "                   +arm.l2*np.cos(newTheta[0]+newTheta[1]) \\\n",
    "                   +(3+arr2[i%len(arr2)])*np.cos(newTheta[0]+newTheta[1]+newTheta[2]+np.deg2rad(temp_angle[1]))]\n",
    "            y1=y1+[arm.l1*np.sin(newTheta[0]) \\\n",
    "                   +arm.l2*np.sin(newTheta[0]+newTheta[1]) \\\n",
    "                   +(3+arr2[i%len(arr2)])*np.sin(newTheta[0]+newTheta[1]+newTheta[2]+np.deg2rad(temp_angle[1]))]\n",
    "        else:\n",
    "            x1=x1+[np.nan]\n",
    "            y1=y1+[np.nan]\n",
    "\n",
    "        if(temp[2]==1):\n",
    "            x1=x1+[arm.l1*np.cos(newTheta[0]) \\\n",
    "                   +arm.l2*np.cos(newTheta[0]+newTheta[1]) \\\n",
    "                   +arm.l3*np.cos(newTheta[0]+newTheta[1]+newTheta[2]) \\\n",
    "                   +(3+arr2[i%len(arr2)])*np.cos(newTheta[0]+newTheta[1]+newTheta[2]+newTheta[3]+np.deg2rad(temp_angle[2]))]\n",
    "            y1=y1+[arm.l1*np.sin(newTheta[0]) \\\n",
    "                   +arm.l2*np.sin(newTheta[0]+newTheta[1]) \\\n",
    "                   +arm.l3*np.sin(newTheta[0]+newTheta[1]+newTheta[2]) \\\n",
    "                   +(3+arr2[i%len(arr2)])*np.sin(newTheta[0]+newTheta[1]+newTheta[2]+newTheta[3]+np.deg2rad(temp_angle[2]))]\n",
    "        else:\n",
    "            x1=x1+[np.nan]\n",
    "            y1=y1+[np.nan]\n",
    "\n",
    "        if(temp[3]==1):\n",
    "            x1=x1+[arm.l1*np.cos(newTheta[0]) \\\n",
    "                   +arm.l2*np.cos(newTheta[0]+newTheta[1]) \\\n",
    "                   +arm.l3*np.cos(newTheta[0]+newTheta[1]+newTheta[2]) \\\n",
    "                   +arm.l4*np.cos(newTheta[0]+newTheta[1]+newTheta[2]+newTheta[3]) \\\n",
    "                   +(3+arr2[i%len(arr2)])*np.cos(newTheta[0]+newTheta[1]+newTheta[2]+newTheta[3]+newTheta[4]+np.deg2rad(temp_angle[3]))]\n",
    "            y1=y1+[arm.l1*np.sin(newTheta[0]) \\\n",
    "                   +arm.l2*np.sin(newTheta[0]+newTheta[1]) \\\n",
    "                   +arm.l3*np.sin(newTheta[0]+newTheta[1]+newTheta[2]) \\\n",
    "                   +arm.l4*np.sin(newTheta[0]+newTheta[1]+newTheta[2]+newTheta[3]) \\\n",
    "                   +(3+arr2[i%len(arr2)])*np.sin(newTheta[0]+newTheta[1]+newTheta[2]+newTheta[3]+newTheta[4]+np.deg2rad(temp_angle[3]))]\n",
    "        else:\n",
    "            x1=x1+[np.nan]\n",
    "            y1=y1+[np.nan]\n",
    "\n",
    "        x2=x2+[arm.l1*np.cos(newTheta[0]) \\\n",
    "               +arm.l2*np.cos(newTheta[0]+newTheta[1]) \\\n",
    "               +arm.l3*np.cos(newTheta[0]+newTheta[1]+newTheta[2]) \\\n",
    "               +arm.l4*np.cos(newTheta[0]+newTheta[1]+newTheta[2]+newTheta[3]) \\\n",
    "               +arm.l5*np.cos(newTheta[0]+newTheta[1]+newTheta[2]+newTheta[3]+newTheta[4]) \\\n",
    "               +eeff_len*np.cos(newTheta[0]+newTheta[1]+newTheta[2]+newTheta[3]+newTheta[4]+np.deg2rad(temp_eeff_angle[i%len(temp_eeff_angle)]))]\n",
    "    \n",
    "        y2=y2+[arm.l1*np.sin(newTheta[0]) \\\n",
    "               +arm.l2*np.sin(newTheta[0]+newTheta[1]) \\\n",
    "               +arm.l3*np.sin(newTheta[0]+newTheta[1]+newTheta[2]) \\\n",
    "               +arm.l4*np.sin(newTheta[0]+newTheta[1]+newTheta[2]+newTheta[3]) \\\n",
    "               +arm.l5*np.sin(newTheta[0]+newTheta[1]+newTheta[2]+newTheta[3]+newTheta[4]) \\\n",
    "               +eeff_len*np.sin(newTheta[0]+newTheta[1]+newTheta[2]+newTheta[3]+newTheta[4]+np.deg2rad(temp_eeff_angle[i%len(temp_eeff_angle)]))]\n",
    "        \n",
    "        x2=x2+[arm.l1*np.cos(newTheta[0]) \\\n",
    "               +arm.l2*np.cos(newTheta[0]+newTheta[1]) \\\n",
    "               +arm.l3*np.cos(newTheta[0]+newTheta[1]+newTheta[2]) \\\n",
    "               +arm.l4*np.cos(newTheta[0]+newTheta[1]+newTheta[2]+newTheta[3]) \\\n",
    "               +arm.l5*np.cos(newTheta[0]+newTheta[1]+newTheta[2]+newTheta[3]+newTheta[4]) \\\n",
    "               +eeff_len*np.cos(newTheta[0]+newTheta[1]+newTheta[2]+newTheta[3]+newTheta[4]-np.deg2rad(temp_eeff_angle[i%len(temp_eeff_angle)]))]\n",
    "    \n",
    "        y2=y2+[arm.l1*np.sin(newTheta[0]) \\\n",
    "               +arm.l2*np.sin(newTheta[0]+newTheta[1]) \\\n",
    "               +arm.l3*np.sin(newTheta[0]+newTheta[1]+newTheta[2]) \\\n",
    "               +arm.l4*np.sin(newTheta[0]+newTheta[1]+newTheta[2]+newTheta[3]) \\\n",
    "               +arm.l5*np.sin(newTheta[0]+newTheta[1]+newTheta[2]+newTheta[3]+newTheta[4]) \\\n",
    "               +eeff_len*np.sin(newTheta[0]+newTheta[1]+newTheta[2]+newTheta[3]+newTheta[4]-np.deg2rad(temp_eeff_angle[i%len(temp_eeff_angle)]))]\n",
    "\n",
    "        temp_keypoints=np.array([0,0,joint2pos[0],joint2pos[1],joint3pos[0],joint3pos[1],joint4pos[0],joint4pos[1],\n",
    "                                 joint5pos[0],joint5pos[1],endEffectorPos[0],endEffectorPos[1]])\n",
    "        for k in range(len(temp)):\n",
    "            if(temp[k]!=0):\n",
    "                temp_keypoints=np.append(temp_keypoints,np.array([x1[k],y1[k]]))\n",
    "        \n",
    "        temp_keypoints=np.append(temp_keypoints,np.array([x2[0],y2[0],x2[1],y2[1]]))\n",
    "        \n",
    "        keypoints_data = keypoints_data.append(pd.DataFrame(temp_keypoints[None,:],columns=keypoints_data.columns),\n",
    "                                               ignore_index = True)\n",
    "        \n",
    "        plotArm2(joint2pos, joint3pos, joint4pos, joint5pos, endEffectorPos,x1,\n",
    "                 y1,x2,y2, target=EF_target_pos, fig=fig, camera=camera)\n",
    "\n",
    "\n",
    "    plt.close()\n",
    "    animation = camera.animate()\n",
    "    animation.save('./animated_motion_dynamic_len/animated_motion'+str(animation_index)+'.gif', writer = 'imagemagick')\n",
    "    \n",
    "    # create the adjacency matrix\n",
    "    adj_mat_size=sum(np.invert(np.isnan(x1)))\n",
    "    adj_mat=np.zeros((6+adj_mat_size+2,6+adj_mat_size+2))\n",
    "    adj_mat[0][1]=1\n",
    "    adj_mat[1][2]=1\n",
    "    adj_mat[2][3]=1\n",
    "    adj_mat[3][4]=1\n",
    "    adj_mat[4][5]=1\n",
    "    c2=1\n",
    "    for i in range(len(x1)):\n",
    "        if(not np.isnan(x1[i])):\n",
    "            adj_mat[i+1][5+c2]=1\n",
    "            adj_mat[i+2][5+c2]=1\n",
    "            c2=c2+1\n",
    "    adj_mat[5][5+c2]=1\n",
    "    adj_mat[5][5+c2+1]=1\n",
    "    \n",
    "    pd.DataFrame(adj_mat).astype(int).to_csv('./animated_motion_dynamic_len/adj_mat'+str(animation_index)+'.csv')\n",
    "    keypoints_data.to_csv('./animated_motion_dynamic_len/ts_data'+str(animation_index)+'.csv')    \n",
    "    "
   ]
  },
  {
   "cell_type": "code",
   "execution_count": 5,
   "metadata": {},
   "outputs": [],
   "source": [
    "import os\n",
    "os.environ['MAGICK_THREAD_LIMIT'] = '2'"
   ]
  },
  {
   "cell_type": "code",
   "execution_count": 6,
   "metadata": {},
   "outputs": [],
   "source": [
    "# create_simulation(1022,50)"
   ]
  },
  {
   "cell_type": "code",
   "execution_count": 7,
   "metadata": {},
   "outputs": [
    {
     "name": "stdout",
     "output_type": "stream",
     "text": [
      "30\n",
      "The interpolation points are stored in the variable \"EF_target_pos\": \n",
      "[[ 26.77817459   7.77817459]\n",
      " [ 20.           9.0042525 ]\n",
      " [ 10.          -3.05549463]\n",
      " [-10.          13.63886847]\n",
      " [-20.           7.25281859]]\n",
      "The intermediate points are stored in the variable \"interpolated_points\"\n",
      "[0 1 1 1]\n",
      "[37 53 55 48]\n"
     ]
    },
    {
     "name": "stderr",
     "output_type": "stream",
     "text": [
      "<ipython-input-3-da811ff97447>:29: MatplotlibDeprecationWarning: Adding an axes using the same arguments as a previous axes currently reuses the earlier instance.  In a future version, a new instance will always be created and returned.  Meanwhile, this warning can be suppressed, and the future behavior ensured, by passing a unique label to each axes instance.\n",
      "  ax = fig.add_subplot(111, autoscale_on=False,\n"
     ]
    },
    {
     "name": "stdout",
     "output_type": "stream",
     "text": [
      "30\n",
      "The interpolation points are stored in the variable \"EF_target_pos\": \n",
      "[[ 26.19238816   9.19238816]\n",
      " [ 20.           1.14164054]\n",
      " [ 10.          11.47114967]\n",
      " [-10.           8.01912304]\n",
      " [-20.           0.58363048]]\n",
      "The intermediate points are stored in the variable \"interpolated_points\"\n",
      "[0 0 0 1]\n",
      "[54 22 19 24]\n"
     ]
    },
    {
     "name": "stderr",
     "output_type": "stream",
     "text": [
      "<ipython-input-3-da811ff97447>:29: MatplotlibDeprecationWarning: Adding an axes using the same arguments as a previous axes currently reuses the earlier instance.  In a future version, a new instance will always be created and returned.  Meanwhile, this warning can be suppressed, and the future behavior ensured, by passing a unique label to each axes instance.\n",
      "  ax = fig.add_subplot(111, autoscale_on=False,\n"
     ]
    },
    {
     "name": "stdout",
     "output_type": "stream",
     "text": [
      "27\n",
      "The interpolation points are stored in the variable \"EF_target_pos\": \n",
      "[[ 23.48528137   8.48528137]\n",
      " [ 18.          -6.06814969]\n",
      " [  9.          -3.2600107 ]\n",
      " [ -9.         -13.59557801]\n",
      " [-18.           7.43594205]]\n",
      "The intermediate points are stored in the variable \"interpolated_points\"\n",
      "[0 1 0 1]\n",
      "[30 48 26 27]\n"
     ]
    },
    {
     "name": "stderr",
     "output_type": "stream",
     "text": [
      "<ipython-input-3-da811ff97447>:29: MatplotlibDeprecationWarning: Adding an axes using the same arguments as a previous axes currently reuses the earlier instance.  In a future version, a new instance will always be created and returned.  Meanwhile, this warning can be suppressed, and the future behavior ensured, by passing a unique label to each axes instance.\n",
      "  ax = fig.add_subplot(111, autoscale_on=False,\n"
     ]
    },
    {
     "name": "stdout",
     "output_type": "stream",
     "text": [
      "33\n",
      "The interpolation points are stored in the variable \"EF_target_pos\": \n",
      "[[ 29.77817459   7.77817459]\n",
      " [ 22.           5.50851897]\n",
      " [ 11.         -19.86573518]\n",
      " [-11.          16.01467284]\n",
      " [-22.          -6.96825335]]\n",
      "The intermediate points are stored in the variable \"interpolated_points\"\n",
      "[0 1 0 0]\n",
      "[36 19 39 51]\n"
     ]
    },
    {
     "name": "stderr",
     "output_type": "stream",
     "text": [
      "<ipython-input-3-da811ff97447>:29: MatplotlibDeprecationWarning: Adding an axes using the same arguments as a previous axes currently reuses the earlier instance.  In a future version, a new instance will always be created and returned.  Meanwhile, this warning can be suppressed, and the future behavior ensured, by passing a unique label to each axes instance.\n",
      "  ax = fig.add_subplot(111, autoscale_on=False,\n"
     ]
    },
    {
     "name": "stdout",
     "output_type": "stream",
     "text": [
      "35\n",
      "The interpolation points are stored in the variable \"EF_target_pos\": \n",
      "[[ 30.89949494   9.89949494]\n",
      " [ 23.33333333  -7.37136578]\n",
      " [ 11.66666667  12.15421821]\n",
      " [-11.66666667  21.23498164]\n",
      " [-23.33333333  -6.80351495]]\n",
      "The intermediate points are stored in the variable \"interpolated_points\"\n",
      "[1 1 0 1]\n",
      "[37 33 52 18]\n"
     ]
    },
    {
     "name": "stderr",
     "output_type": "stream",
     "text": [
      "<ipython-input-3-da811ff97447>:29: MatplotlibDeprecationWarning: Adding an axes using the same arguments as a previous axes currently reuses the earlier instance.  In a future version, a new instance will always be created and returned.  Meanwhile, this warning can be suppressed, and the future behavior ensured, by passing a unique label to each axes instance.\n",
      "  ax = fig.add_subplot(111, autoscale_on=False,\n"
     ]
    },
    {
     "name": "stdout",
     "output_type": "stream",
     "text": [
      "24\n",
      "The interpolation points are stored in the variable \"EF_target_pos\": \n",
      "[[ 21.36396103   6.36396103]\n",
      " [ 16.           0.72333139]\n",
      " [  8.           9.06947761]\n",
      " [ -8.         -15.70667352]\n",
      " [-16.          -2.93353137]]\n",
      "The intermediate points are stored in the variable \"interpolated_points\"\n",
      "[1 0 0 1]\n",
      "[30 18 51 40]\n"
     ]
    },
    {
     "name": "stderr",
     "output_type": "stream",
     "text": [
      "<ipython-input-3-da811ff97447>:29: MatplotlibDeprecationWarning: Adding an axes using the same arguments as a previous axes currently reuses the earlier instance.  In a future version, a new instance will always be created and returned.  Meanwhile, this warning can be suppressed, and the future behavior ensured, by passing a unique label to each axes instance.\n",
      "  ax = fig.add_subplot(111, autoscale_on=False,\n"
     ]
    },
    {
     "name": "stdout",
     "output_type": "stream",
     "text": [
      "28\n",
      "The interpolation points are stored in the variable \"EF_target_pos\": \n",
      "[[ 24.77817459   7.77817459]\n",
      " [ 18.66666667   9.2920219 ]\n",
      " [  9.33333333  16.061875  ]\n",
      " [ -9.33333333  15.61189663]\n",
      " [-18.66666667   1.2566294 ]]\n",
      "The intermediate points are stored in the variable \"interpolated_points\"\n",
      "[0 0 0 1]\n",
      "[50 31 33 49]\n"
     ]
    },
    {
     "name": "stderr",
     "output_type": "stream",
     "text": [
      "<ipython-input-3-da811ff97447>:29: MatplotlibDeprecationWarning: Adding an axes using the same arguments as a previous axes currently reuses the earlier instance.  In a future version, a new instance will always be created and returned.  Meanwhile, this warning can be suppressed, and the future behavior ensured, by passing a unique label to each axes instance.\n",
      "  ax = fig.add_subplot(111, autoscale_on=False,\n"
     ]
    },
    {
     "name": "stdout",
     "output_type": "stream",
     "text": [
      "27\n",
      "The interpolation points are stored in the variable \"EF_target_pos\": \n",
      "[[ 23.77817459   7.77817459]\n",
      " [ 18.          -5.79609183]\n",
      " [  9.          -9.66111092]\n",
      " [ -9.          10.21478832]\n",
      " [-18.          -0.75619498]]\n",
      "The intermediate points are stored in the variable \"interpolated_points\"\n",
      "[0 0 0 0]\n",
      "[47 36 23 33]\n"
     ]
    },
    {
     "name": "stderr",
     "output_type": "stream",
     "text": [
      "<ipython-input-3-da811ff97447>:29: MatplotlibDeprecationWarning: Adding an axes using the same arguments as a previous axes currently reuses the earlier instance.  In a future version, a new instance will always be created and returned.  Meanwhile, this warning can be suppressed, and the future behavior ensured, by passing a unique label to each axes instance.\n",
      "  ax = fig.add_subplot(111, autoscale_on=False,\n"
     ]
    },
    {
     "name": "stdout",
     "output_type": "stream",
     "text": [
      "29\n",
      "The interpolation points are stored in the variable \"EF_target_pos\": \n",
      "[[ 25.48528137   8.48528137]\n",
      " [ 19.33333333  -2.87612958]\n",
      " [  9.66666667  19.0175881 ]\n",
      " [ -9.66666667 -15.38414702]\n",
      " [-19.33333333  -2.01335898]]\n",
      "The intermediate points are stored in the variable \"interpolated_points\"\n",
      "[1 1 1 1]\n",
      "[36 26 41 36]\n"
     ]
    },
    {
     "name": "stderr",
     "output_type": "stream",
     "text": [
      "<ipython-input-3-da811ff97447>:29: MatplotlibDeprecationWarning: Adding an axes using the same arguments as a previous axes currently reuses the earlier instance.  In a future version, a new instance will always be created and returned.  Meanwhile, this warning can be suppressed, and the future behavior ensured, by passing a unique label to each axes instance.\n",
      "  ax = fig.add_subplot(111, autoscale_on=False,\n"
     ]
    },
    {
     "name": "stdout",
     "output_type": "stream",
     "text": [
      "28\n",
      "The interpolation points are stored in the variable \"EF_target_pos\": \n",
      "[[ 23.89949494   9.89949494]\n",
      " [ 18.66666667  -1.02587592]\n",
      " [  9.33333333  15.85970901]\n",
      " [ -9.33333333  10.94655515]\n",
      " [-18.66666667   4.85668418]]\n",
      "The intermediate points are stored in the variable \"interpolated_points\"\n",
      "[1 0 1 0]\n",
      "[36 34 29 16]\n"
     ]
    },
    {
     "name": "stderr",
     "output_type": "stream",
     "text": [
      "<ipython-input-3-da811ff97447>:29: MatplotlibDeprecationWarning: Adding an axes using the same arguments as a previous axes currently reuses the earlier instance.  In a future version, a new instance will always be created and returned.  Meanwhile, this warning can be suppressed, and the future behavior ensured, by passing a unique label to each axes instance.\n",
      "  ax = fig.add_subplot(111, autoscale_on=False,\n"
     ]
    },
    {
     "name": "stdout",
     "output_type": "stream",
     "text": [
      "32\n",
      "The interpolation points are stored in the variable \"EF_target_pos\": \n",
      "[[ 28.77817459   7.77817459]\n",
      " [ 21.33333333  -6.55196947]\n",
      " [ 10.66666667 -18.67748261]\n",
      " [-10.66666667 -11.99914447]\n",
      " [-21.33333333  -6.36664091]]\n",
      "The intermediate points are stored in the variable \"interpolated_points\"\n",
      "[1 1 0 0]\n",
      "[37 42 30 54]\n"
     ]
    },
    {
     "name": "stderr",
     "output_type": "stream",
     "text": [
      "<ipython-input-3-da811ff97447>:29: MatplotlibDeprecationWarning: Adding an axes using the same arguments as a previous axes currently reuses the earlier instance.  In a future version, a new instance will always be created and returned.  Meanwhile, this warning can be suppressed, and the future behavior ensured, by passing a unique label to each axes instance.\n",
      "  ax = fig.add_subplot(111, autoscale_on=False,\n"
     ]
    },
    {
     "name": "stdout",
     "output_type": "stream",
     "text": [
      "28\n",
      "The interpolation points are stored in the variable \"EF_target_pos\": \n",
      "[[ 24.48528137   8.48528137]\n",
      " [ 18.66666667   2.23128655]\n",
      " [  9.33333333  -0.40202213]\n",
      " [ -9.33333333  14.55132904]\n",
      " [-18.66666667   0.84465157]]\n",
      "The intermediate points are stored in the variable \"interpolated_points\"\n",
      "[1 0 0 0]\n",
      "[34 16 29 53]\n"
     ]
    },
    {
     "name": "stderr",
     "output_type": "stream",
     "text": [
      "<ipython-input-3-da811ff97447>:29: MatplotlibDeprecationWarning: Adding an axes using the same arguments as a previous axes currently reuses the earlier instance.  In a future version, a new instance will always be created and returned.  Meanwhile, this warning can be suppressed, and the future behavior ensured, by passing a unique label to each axes instance.\n",
      "  ax = fig.add_subplot(111, autoscale_on=False,\n"
     ]
    },
    {
     "name": "stdout",
     "output_type": "stream",
     "text": [
      "29\n",
      "The interpolation points are stored in the variable \"EF_target_pos\": \n",
      "[[ 25.48528137   8.48528137]\n",
      " [ 19.33333333  -5.5645167 ]\n",
      " [  9.66666667  12.20234365]\n",
      " [ -9.66666667  -6.7357386 ]\n",
      " [-19.33333333   3.9369238 ]]\n",
      "The intermediate points are stored in the variable \"interpolated_points\"\n",
      "[0 0 0 0]\n",
      "[25 44 46 38]\n"
     ]
    },
    {
     "name": "stderr",
     "output_type": "stream",
     "text": [
      "<ipython-input-3-da811ff97447>:29: MatplotlibDeprecationWarning: Adding an axes using the same arguments as a previous axes currently reuses the earlier instance.  In a future version, a new instance will always be created and returned.  Meanwhile, this warning can be suppressed, and the future behavior ensured, by passing a unique label to each axes instance.\n",
      "  ax = fig.add_subplot(111, autoscale_on=False,\n"
     ]
    },
    {
     "name": "stdout",
     "output_type": "stream",
     "text": [
      "28\n",
      "The interpolation points are stored in the variable \"EF_target_pos\": \n",
      "[[ 24.48528137   8.48528137]\n",
      " [ 18.66666667  -0.82794208]\n",
      " [  9.33333333  15.02940839]\n",
      " [ -9.33333333   2.09655302]\n",
      " [-18.66666667  -0.29253539]]\n",
      "The intermediate points are stored in the variable \"interpolated_points\"\n",
      "[1 0 1 1]\n",
      "[29 35 16 45]\n"
     ]
    },
    {
     "name": "stderr",
     "output_type": "stream",
     "text": [
      "<ipython-input-3-da811ff97447>:29: MatplotlibDeprecationWarning: Adding an axes using the same arguments as a previous axes currently reuses the earlier instance.  In a future version, a new instance will always be created and returned.  Meanwhile, this warning can be suppressed, and the future behavior ensured, by passing a unique label to each axes instance.\n",
      "  ax = fig.add_subplot(111, autoscale_on=False,\n"
     ]
    },
    {
     "name": "stdout",
     "output_type": "stream",
     "text": [
      "25\n",
      "The interpolation points are stored in the variable \"EF_target_pos\": \n",
      "[[ 21.48528137   8.48528137]\n",
      " [ 16.66666667  -2.67672973]\n",
      " [  8.33333333 -11.5533078 ]\n",
      " [ -8.33333333  -4.38879666]\n",
      " [-16.66666667  -5.38321702]]\n",
      "The intermediate points are stored in the variable \"interpolated_points\"\n",
      "[0 1 1 0]\n",
      "[26 27 46 50]\n"
     ]
    },
    {
     "name": "stderr",
     "output_type": "stream",
     "text": [
      "<ipython-input-3-da811ff97447>:29: MatplotlibDeprecationWarning: Adding an axes using the same arguments as a previous axes currently reuses the earlier instance.  In a future version, a new instance will always be created and returned.  Meanwhile, this warning can be suppressed, and the future behavior ensured, by passing a unique label to each axes instance.\n",
      "  ax = fig.add_subplot(111, autoscale_on=False,\n"
     ]
    },
    {
     "name": "stdout",
     "output_type": "stream",
     "text": [
      "37\n",
      "The interpolation points are stored in the variable \"EF_target_pos\": \n",
      "[[ 32.89949494   9.89949494]\n",
      " [ 24.66666667   4.29086653]\n",
      " [ 12.33333333  11.93043373]\n",
      " [-12.33333333 -21.59890761]\n",
      " [-24.66666667  12.35502042]]\n",
      "The intermediate points are stored in the variable \"interpolated_points\"\n",
      "[0 0 1 1]\n",
      "[58 57 33 25]\n"
     ]
    },
    {
     "name": "stderr",
     "output_type": "stream",
     "text": [
      "<ipython-input-3-da811ff97447>:29: MatplotlibDeprecationWarning: Adding an axes using the same arguments as a previous axes currently reuses the earlier instance.  In a future version, a new instance will always be created and returned.  Meanwhile, this warning can be suppressed, and the future behavior ensured, by passing a unique label to each axes instance.\n",
      "  ax = fig.add_subplot(111, autoscale_on=False,\n"
     ]
    },
    {
     "name": "stdout",
     "output_type": "stream",
     "text": [
      "30\n",
      "The interpolation points are stored in the variable \"EF_target_pos\": \n",
      "[[ 26.48528137   8.48528137]\n",
      " [ 20.          -9.87484632]\n",
      " [ 10.           0.9227304 ]\n",
      " [-10.          -5.79403893]\n",
      " [-20.          -2.49297194]]\n",
      "The intermediate points are stored in the variable \"interpolated_points\"\n",
      "[0 0 0 1]\n",
      "[44 50 25 41]\n"
     ]
    },
    {
     "name": "stderr",
     "output_type": "stream",
     "text": [
      "<ipython-input-3-da811ff97447>:29: MatplotlibDeprecationWarning: Adding an axes using the same arguments as a previous axes currently reuses the earlier instance.  In a future version, a new instance will always be created and returned.  Meanwhile, this warning can be suppressed, and the future behavior ensured, by passing a unique label to each axes instance.\n",
      "  ax = fig.add_subplot(111, autoscale_on=False,\n"
     ]
    },
    {
     "name": "stdout",
     "output_type": "stream",
     "text": [
      "35\n",
      "The interpolation points are stored in the variable \"EF_target_pos\": \n",
      "[[ 30.89949494   9.89949494]\n",
      " [ 23.33333333  11.03007985]\n",
      " [ 11.66666667   0.46961828]\n",
      " [-11.66666667  22.65808188]\n",
      " [-23.33333333  10.70994675]]\n",
      "The intermediate points are stored in the variable \"interpolated_points\"\n",
      "[0 0 1 0]\n",
      "[43 45 54 24]\n"
     ]
    },
    {
     "name": "stderr",
     "output_type": "stream",
     "text": [
      "<ipython-input-3-da811ff97447>:29: MatplotlibDeprecationWarning: Adding an axes using the same arguments as a previous axes currently reuses the earlier instance.  In a future version, a new instance will always be created and returned.  Meanwhile, this warning can be suppressed, and the future behavior ensured, by passing a unique label to each axes instance.\n",
      "  ax = fig.add_subplot(111, autoscale_on=False,\n"
     ]
    },
    {
     "name": "stdout",
     "output_type": "stream",
     "text": [
      "27\n",
      "The interpolation points are stored in the variable \"EF_target_pos\": \n",
      "[[ 24.36396103   6.36396103]\n",
      " [ 18.           6.25535861]\n",
      " [  9.          -3.06450743]\n",
      " [ -9.           4.41912544]\n",
      " [-18.          -9.07550796]]\n",
      "The intermediate points are stored in the variable \"interpolated_points\"\n",
      "[0 0 0 0]\n",
      "[16 17 37 42]\n"
     ]
    },
    {
     "name": "stderr",
     "output_type": "stream",
     "text": [
      "<ipython-input-3-da811ff97447>:29: MatplotlibDeprecationWarning: Adding an axes using the same arguments as a previous axes currently reuses the earlier instance.  In a future version, a new instance will always be created and returned.  Meanwhile, this warning can be suppressed, and the future behavior ensured, by passing a unique label to each axes instance.\n",
      "  ax = fig.add_subplot(111, autoscale_on=False,\n"
     ]
    },
    {
     "name": "stdout",
     "output_type": "stream",
     "text": [
      "38\n",
      "The interpolation points are stored in the variable \"EF_target_pos\": \n",
      "[[ 33.3137085   11.3137085 ]\n",
      " [ 25.33333333   7.8969381 ]\n",
      " [ 12.66666667   9.42498833]\n",
      " [-12.66666667  11.82566491]\n",
      " [-25.33333333  -5.08838002]]\n",
      "The intermediate points are stored in the variable \"interpolated_points\"\n",
      "[1 1 0 1]\n",
      "[38 26 22 33]\n"
     ]
    },
    {
     "name": "stderr",
     "output_type": "stream",
     "text": [
      "<ipython-input-3-da811ff97447>:29: MatplotlibDeprecationWarning: Adding an axes using the same arguments as a previous axes currently reuses the earlier instance.  In a future version, a new instance will always be created and returned.  Meanwhile, this warning can be suppressed, and the future behavior ensured, by passing a unique label to each axes instance.\n",
      "  ax = fig.add_subplot(111, autoscale_on=False,\n"
     ]
    },
    {
     "name": "stdout",
     "output_type": "stream",
     "text": [
      "30\n",
      "The interpolation points are stored in the variable \"EF_target_pos\": \n",
      "[[ 26.48528137   8.48528137]\n",
      " [ 20.          -0.93632092]\n",
      " [ 10.           0.65543678]\n",
      " [-10.          -3.83812346]\n",
      " [-20.          -6.89643346]]\n",
      "The intermediate points are stored in the variable \"interpolated_points\"\n",
      "[0 0 1 0]\n",
      "[17 49 39 35]\n"
     ]
    },
    {
     "name": "stderr",
     "output_type": "stream",
     "text": [
      "<ipython-input-3-da811ff97447>:29: MatplotlibDeprecationWarning: Adding an axes using the same arguments as a previous axes currently reuses the earlier instance.  In a future version, a new instance will always be created and returned.  Meanwhile, this warning can be suppressed, and the future behavior ensured, by passing a unique label to each axes instance.\n",
      "  ax = fig.add_subplot(111, autoscale_on=False,\n"
     ]
    },
    {
     "name": "stdout",
     "output_type": "stream",
     "text": [
      "27\n",
      "The interpolation points are stored in the variable \"EF_target_pos\": \n",
      "[[ 24.36396103   6.36396103]\n",
      " [ 18.          -2.40194029]\n",
      " [  9.           5.443805  ]\n",
      " [ -9.          14.87756493]\n",
      " [-18.          -5.47217797]]\n",
      "The intermediate points are stored in the variable \"interpolated_points\"\n",
      "[0 1 0 1]\n",
      "[52 50 21 23]\n"
     ]
    },
    {
     "name": "stderr",
     "output_type": "stream",
     "text": [
      "<ipython-input-3-da811ff97447>:29: MatplotlibDeprecationWarning: Adding an axes using the same arguments as a previous axes currently reuses the earlier instance.  In a future version, a new instance will always be created and returned.  Meanwhile, this warning can be suppressed, and the future behavior ensured, by passing a unique label to each axes instance.\n",
      "  ax = fig.add_subplot(111, autoscale_on=False,\n"
     ]
    },
    {
     "name": "stdout",
     "output_type": "stream",
     "text": [
      "32\n",
      "The interpolation points are stored in the variable \"EF_target_pos\": \n",
      "[[ 27.89949494   9.89949494]\n",
      " [ 21.33333333 -10.52453467]\n",
      " [ 10.66666667   9.32177682]\n",
      " [-10.66666667 -16.7121016 ]\n",
      " [-21.33333333   0.16730337]]\n",
      "The intermediate points are stored in the variable \"interpolated_points\"\n",
      "[1 1 0 1]\n",
      "[31 28 41 17]\n"
     ]
    },
    {
     "name": "stderr",
     "output_type": "stream",
     "text": [
      "<ipython-input-3-da811ff97447>:29: MatplotlibDeprecationWarning: Adding an axes using the same arguments as a previous axes currently reuses the earlier instance.  In a future version, a new instance will always be created and returned.  Meanwhile, this warning can be suppressed, and the future behavior ensured, by passing a unique label to each axes instance.\n",
      "  ax = fig.add_subplot(111, autoscale_on=False,\n"
     ]
    },
    {
     "name": "stdout",
     "output_type": "stream",
     "text": [
      "24\n",
      "The interpolation points are stored in the variable \"EF_target_pos\": \n",
      "[[ 21.36396103   6.36396103]\n",
      " [ 16.           3.76115807]\n",
      " [  8.          15.00963413]\n",
      " [ -8.           6.45033166]\n",
      " [-16.          -0.86677941]]\n",
      "The intermediate points are stored in the variable \"interpolated_points\"\n",
      "[0 1 0 1]\n",
      "[31 36 48 18]\n"
     ]
    },
    {
     "name": "stderr",
     "output_type": "stream",
     "text": [
      "<ipython-input-3-da811ff97447>:29: MatplotlibDeprecationWarning: Adding an axes using the same arguments as a previous axes currently reuses the earlier instance.  In a future version, a new instance will always be created and returned.  Meanwhile, this warning can be suppressed, and the future behavior ensured, by passing a unique label to each axes instance.\n",
      "  ax = fig.add_subplot(111, autoscale_on=False,\n"
     ]
    },
    {
     "name": "stdout",
     "output_type": "stream",
     "text": [
      "28\n",
      "The interpolation points are stored in the variable \"EF_target_pos\": \n",
      "[[ 24.19238816   9.19238816]\n",
      " [ 18.66666667   6.62791563]\n",
      " [  9.33333333  13.25363145]\n",
      " [ -9.33333333 -13.1222856 ]\n",
      " [-18.66666667   8.55860842]]\n",
      "The intermediate points are stored in the variable \"interpolated_points\"\n",
      "[0 0 1 1]\n",
      "[36 15 43 59]\n"
     ]
    },
    {
     "name": "stderr",
     "output_type": "stream",
     "text": [
      "<ipython-input-3-da811ff97447>:29: MatplotlibDeprecationWarning: Adding an axes using the same arguments as a previous axes currently reuses the earlier instance.  In a future version, a new instance will always be created and returned.  Meanwhile, this warning can be suppressed, and the future behavior ensured, by passing a unique label to each axes instance.\n",
      "  ax = fig.add_subplot(111, autoscale_on=False,\n"
     ]
    },
    {
     "name": "stdout",
     "output_type": "stream",
     "text": [
      "33\n",
      "The interpolation points are stored in the variable \"EF_target_pos\": \n",
      "[[ 30.36396103   6.36396103]\n",
      " [ 22.          -1.35371218]\n",
      " [ 11.         -12.66812545]\n",
      " [-11.           0.15548293]\n",
      " [-22.          -8.77604136]]\n",
      "The intermediate points are stored in the variable \"interpolated_points\"\n",
      "[0 1 1 0]\n",
      "[50 55 48 34]\n"
     ]
    },
    {
     "name": "stderr",
     "output_type": "stream",
     "text": [
      "<ipython-input-3-da811ff97447>:29: MatplotlibDeprecationWarning: Adding an axes using the same arguments as a previous axes currently reuses the earlier instance.  In a future version, a new instance will always be created and returned.  Meanwhile, this warning can be suppressed, and the future behavior ensured, by passing a unique label to each axes instance.\n",
      "  ax = fig.add_subplot(111, autoscale_on=False,\n"
     ]
    },
    {
     "name": "stdout",
     "output_type": "stream",
     "text": [
      "35\n",
      "The interpolation points are stored in the variable \"EF_target_pos\": \n",
      "[[ 31.19238816   9.19238816]\n",
      " [ 23.33333333  -1.54217151]\n",
      " [ 11.66666667  13.82384759]\n",
      " [-11.66666667  -2.4815783 ]\n",
      " [-23.33333333   2.27939153]]\n",
      "The intermediate points are stored in the variable \"interpolated_points\"\n",
      "[1 0 1 1]\n",
      "[25 57 34 45]\n"
     ]
    },
    {
     "name": "stderr",
     "output_type": "stream",
     "text": [
      "<ipython-input-3-da811ff97447>:29: MatplotlibDeprecationWarning: Adding an axes using the same arguments as a previous axes currently reuses the earlier instance.  In a future version, a new instance will always be created and returned.  Meanwhile, this warning can be suppressed, and the future behavior ensured, by passing a unique label to each axes instance.\n",
      "  ax = fig.add_subplot(111, autoscale_on=False,\n"
     ]
    },
    {
     "name": "stdout",
     "output_type": "stream",
     "text": [
      "24\n",
      "The interpolation points are stored in the variable \"EF_target_pos\": \n",
      "[[ 21.07106781   7.07106781]\n",
      " [ 16.           8.08117448]\n",
      " [  8.           7.93065844]\n",
      " [ -8.         -14.30475833]\n",
      " [-16.          -6.38445579]]\n",
      "The intermediate points are stored in the variable \"interpolated_points\"\n",
      "[0 0 0 0]\n",
      "[42 55 19 37]\n"
     ]
    },
    {
     "name": "stderr",
     "output_type": "stream",
     "text": [
      "<ipython-input-3-da811ff97447>:29: MatplotlibDeprecationWarning: Adding an axes using the same arguments as a previous axes currently reuses the earlier instance.  In a future version, a new instance will always be created and returned.  Meanwhile, this warning can be suppressed, and the future behavior ensured, by passing a unique label to each axes instance.\n",
      "  ax = fig.add_subplot(111, autoscale_on=False,\n"
     ]
    },
    {
     "name": "stdout",
     "output_type": "stream",
     "text": [
      "36\n",
      "The interpolation points are stored in the variable \"EF_target_pos\": \n",
      "[[ 31.3137085   11.3137085 ]\n",
      " [ 24.           1.01972621]\n",
      " [ 12.         -17.63614944]\n",
      " [-12.          15.54132337]\n",
      " [-24.           9.5824899 ]]\n",
      "The intermediate points are stored in the variable \"interpolated_points\"\n",
      "[1 0 1 0]\n",
      "[34 18 16 40]\n"
     ]
    },
    {
     "name": "stderr",
     "output_type": "stream",
     "text": [
      "<ipython-input-3-da811ff97447>:29: MatplotlibDeprecationWarning: Adding an axes using the same arguments as a previous axes currently reuses the earlier instance.  In a future version, a new instance will always be created and returned.  Meanwhile, this warning can be suppressed, and the future behavior ensured, by passing a unique label to each axes instance.\n",
      "  ax = fig.add_subplot(111, autoscale_on=False,\n"
     ]
    },
    {
     "name": "stdout",
     "output_type": "stream",
     "text": [
      "29\n",
      "The interpolation points are stored in the variable \"EF_target_pos\": \n",
      "[[ 25.48528137   8.48528137]\n",
      " [ 19.33333333   1.33471815]\n",
      " [  9.66666667 -15.77754868]\n",
      " [ -9.66666667 -10.47441101]\n",
      " [-19.33333333  -0.886242  ]]\n",
      "The intermediate points are stored in the variable \"interpolated_points\"\n",
      "[1 1 0 0]\n",
      "[15 52 55 18]\n"
     ]
    },
    {
     "name": "stderr",
     "output_type": "stream",
     "text": [
      "<ipython-input-3-da811ff97447>:29: MatplotlibDeprecationWarning: Adding an axes using the same arguments as a previous axes currently reuses the earlier instance.  In a future version, a new instance will always be created and returned.  Meanwhile, this warning can be suppressed, and the future behavior ensured, by passing a unique label to each axes instance.\n",
      "  ax = fig.add_subplot(111, autoscale_on=False,\n"
     ]
    },
    {
     "name": "stdout",
     "output_type": "stream",
     "text": [
      "31\n",
      "The interpolation points are stored in the variable \"EF_target_pos\": \n",
      "[[ 27.48528137   8.48528137]\n",
      " [ 20.66666667   7.30921914]\n",
      " [ 10.33333333  12.87306844]\n",
      " [-10.33333333  14.14869553]\n",
      " [-20.66666667   2.83004191]]\n",
      "The intermediate points are stored in the variable \"interpolated_points\"\n",
      "[0 1 0 1]\n",
      "[34 25 46 34]\n"
     ]
    },
    {
     "name": "stderr",
     "output_type": "stream",
     "text": [
      "<ipython-input-3-da811ff97447>:29: MatplotlibDeprecationWarning: Adding an axes using the same arguments as a previous axes currently reuses the earlier instance.  In a future version, a new instance will always be created and returned.  Meanwhile, this warning can be suppressed, and the future behavior ensured, by passing a unique label to each axes instance.\n",
      "  ax = fig.add_subplot(111, autoscale_on=False,\n"
     ]
    },
    {
     "name": "stdout",
     "output_type": "stream",
     "text": [
      "34\n",
      "The interpolation points are stored in the variable \"EF_target_pos\": \n",
      "[[ 29.60660172  10.60660172]\n",
      " [ 22.66666667   0.88498039]\n",
      " [ 11.33333333 -16.99847641]\n",
      " [-11.33333333  17.4828054 ]\n",
      " [-22.66666667   1.46875679]]\n",
      "The intermediate points are stored in the variable \"interpolated_points\"\n",
      "[0 1 1 1]\n",
      "[56 26 23 59]\n"
     ]
    },
    {
     "name": "stderr",
     "output_type": "stream",
     "text": [
      "<ipython-input-3-da811ff97447>:29: MatplotlibDeprecationWarning: Adding an axes using the same arguments as a previous axes currently reuses the earlier instance.  In a future version, a new instance will always be created and returned.  Meanwhile, this warning can be suppressed, and the future behavior ensured, by passing a unique label to each axes instance.\n",
      "  ax = fig.add_subplot(111, autoscale_on=False,\n"
     ]
    },
    {
     "name": "stdout",
     "output_type": "stream",
     "text": [
      "25\n",
      "The interpolation points are stored in the variable \"EF_target_pos\": \n",
      "[[ 22.36396103   6.36396103]\n",
      " [ 16.66666667   5.30132478]\n",
      " [  8.33333333  -5.17382106]\n",
      " [ -8.33333333   5.38197257]\n",
      " [-16.66666667   3.77199262]]\n",
      "The intermediate points are stored in the variable \"interpolated_points\"\n",
      "[1 1 1 0]\n",
      "[20 27 19 19]\n"
     ]
    },
    {
     "name": "stderr",
     "output_type": "stream",
     "text": [
      "<ipython-input-3-da811ff97447>:29: MatplotlibDeprecationWarning: Adding an axes using the same arguments as a previous axes currently reuses the earlier instance.  In a future version, a new instance will always be created and returned.  Meanwhile, this warning can be suppressed, and the future behavior ensured, by passing a unique label to each axes instance.\n",
      "  ax = fig.add_subplot(111, autoscale_on=False,\n"
     ]
    },
    {
     "name": "stdout",
     "output_type": "stream",
     "text": [
      "31\n",
      "The interpolation points are stored in the variable \"EF_target_pos\": \n",
      "[[ 27.77817459   7.77817459]\n",
      " [ 20.66666667   8.08751941]\n",
      " [ 10.33333333 -16.30019277]\n",
      " [-10.33333333 -12.13849711]\n",
      " [-20.66666667   9.16018895]]\n",
      "The intermediate points are stored in the variable \"interpolated_points\"\n",
      "[0 1 1 1]\n",
      "[20 24 55 58]\n"
     ]
    },
    {
     "name": "stderr",
     "output_type": "stream",
     "text": [
      "<ipython-input-3-da811ff97447>:29: MatplotlibDeprecationWarning: Adding an axes using the same arguments as a previous axes currently reuses the earlier instance.  In a future version, a new instance will always be created and returned.  Meanwhile, this warning can be suppressed, and the future behavior ensured, by passing a unique label to each axes instance.\n",
      "  ax = fig.add_subplot(111, autoscale_on=False,\n"
     ]
    },
    {
     "name": "stdout",
     "output_type": "stream",
     "text": [
      "34\n",
      "The interpolation points are stored in the variable \"EF_target_pos\": \n",
      "[[ 30.48528137   8.48528137]\n",
      " [ 22.66666667   7.25657724]\n",
      " [ 11.33333333 -18.72288221]\n",
      " [-11.33333333  -1.31067633]\n",
      " [-22.66666667  -6.59451512]]\n",
      "The intermediate points are stored in the variable \"interpolated_points\"\n",
      "[0 0 1 1]\n",
      "[59 46 15 52]\n"
     ]
    },
    {
     "name": "stderr",
     "output_type": "stream",
     "text": [
      "<ipython-input-3-da811ff97447>:29: MatplotlibDeprecationWarning: Adding an axes using the same arguments as a previous axes currently reuses the earlier instance.  In a future version, a new instance will always be created and returned.  Meanwhile, this warning can be suppressed, and the future behavior ensured, by passing a unique label to each axes instance.\n",
      "  ax = fig.add_subplot(111, autoscale_on=False,\n"
     ]
    },
    {
     "name": "stdout",
     "output_type": "stream",
     "text": [
      "30\n",
      "The interpolation points are stored in the variable \"EF_target_pos\": \n",
      "[[ 27.07106781   7.07106781]\n",
      " [ 20.          -1.25960735]\n",
      " [ 10.          14.28718657]\n",
      " [-10.          -2.44063163]\n",
      " [-20.          -1.68747939]]\n",
      "The intermediate points are stored in the variable \"interpolated_points\"\n",
      "[1 0 1 0]\n",
      "[42 51 37 19]\n"
     ]
    },
    {
     "name": "stderr",
     "output_type": "stream",
     "text": [
      "<ipython-input-3-da811ff97447>:29: MatplotlibDeprecationWarning: Adding an axes using the same arguments as a previous axes currently reuses the earlier instance.  In a future version, a new instance will always be created and returned.  Meanwhile, this warning can be suppressed, and the future behavior ensured, by passing a unique label to each axes instance.\n",
      "  ax = fig.add_subplot(111, autoscale_on=False,\n"
     ]
    },
    {
     "name": "stdout",
     "output_type": "stream",
     "text": [
      "29\n",
      "The interpolation points are stored in the variable \"EF_target_pos\": \n",
      "[[ 24.3137085   11.3137085 ]\n",
      " [ 19.33333333   5.49146727]\n",
      " [  9.66666667  12.91436682]\n",
      " [ -9.66666667   4.74146633]\n",
      " [-19.33333333  -8.68730032]]\n",
      "The intermediate points are stored in the variable \"interpolated_points\"\n",
      "[0 0 0 1]\n",
      "[41 43 26 50]\n"
     ]
    },
    {
     "name": "stderr",
     "output_type": "stream",
     "text": [
      "<ipython-input-3-da811ff97447>:29: MatplotlibDeprecationWarning: Adding an axes using the same arguments as a previous axes currently reuses the earlier instance.  In a future version, a new instance will always be created and returned.  Meanwhile, this warning can be suppressed, and the future behavior ensured, by passing a unique label to each axes instance.\n",
      "  ax = fig.add_subplot(111, autoscale_on=False,\n"
     ]
    },
    {
     "name": "stdout",
     "output_type": "stream",
     "text": [
      "23\n",
      "The interpolation points are stored in the variable \"EF_target_pos\": \n",
      "[[ 20.36396103   6.36396103]\n",
      " [ 15.33333333  -7.8333184 ]\n",
      " [  7.66666667  12.24798346]\n",
      " [ -7.66666667  -8.34156148]\n",
      " [-15.33333333  -5.54478146]]\n",
      "The intermediate points are stored in the variable \"interpolated_points\"\n",
      "[1 1 0 1]\n",
      "[37 20 45 37]\n"
     ]
    },
    {
     "name": "stderr",
     "output_type": "stream",
     "text": [
      "<ipython-input-3-da811ff97447>:29: MatplotlibDeprecationWarning: Adding an axes using the same arguments as a previous axes currently reuses the earlier instance.  In a future version, a new instance will always be created and returned.  Meanwhile, this warning can be suppressed, and the future behavior ensured, by passing a unique label to each axes instance.\n",
      "  ax = fig.add_subplot(111, autoscale_on=False,\n"
     ]
    },
    {
     "name": "stdout",
     "output_type": "stream",
     "text": [
      "30\n",
      "The interpolation points are stored in the variable \"EF_target_pos\": \n",
      "[[ 27.07106781   7.07106781]\n",
      " [ 20.          -6.05302882]\n",
      " [ 10.           9.91373429]\n",
      " [-10.          -2.51079867]\n",
      " [-20.           4.43247453]]\n",
      "The intermediate points are stored in the variable \"interpolated_points\"\n",
      "[0 1 1 1]\n",
      "[40 42 56 45]\n"
     ]
    },
    {
     "name": "stderr",
     "output_type": "stream",
     "text": [
      "<ipython-input-3-da811ff97447>:29: MatplotlibDeprecationWarning: Adding an axes using the same arguments as a previous axes currently reuses the earlier instance.  In a future version, a new instance will always be created and returned.  Meanwhile, this warning can be suppressed, and the future behavior ensured, by passing a unique label to each axes instance.\n",
      "  ax = fig.add_subplot(111, autoscale_on=False,\n"
     ]
    },
    {
     "name": "stdout",
     "output_type": "stream",
     "text": [
      "31\n",
      "The interpolation points are stored in the variable \"EF_target_pos\": \n",
      "[[ 27.19238816   9.19238816]\n",
      " [ 20.66666667   9.32789361]\n",
      " [ 10.33333333 -15.47067541]\n",
      " [-10.33333333   6.91582367]\n",
      " [-20.66666667   6.16736622]]\n",
      "The intermediate points are stored in the variable \"interpolated_points\"\n",
      "[1 1 0 0]\n",
      "[52 30 32 35]\n"
     ]
    },
    {
     "name": "stderr",
     "output_type": "stream",
     "text": [
      "<ipython-input-3-da811ff97447>:29: MatplotlibDeprecationWarning: Adding an axes using the same arguments as a previous axes currently reuses the earlier instance.  In a future version, a new instance will always be created and returned.  Meanwhile, this warning can be suppressed, and the future behavior ensured, by passing a unique label to each axes instance.\n",
      "  ax = fig.add_subplot(111, autoscale_on=False,\n"
     ]
    },
    {
     "name": "stdout",
     "output_type": "stream",
     "text": [
      "34\n",
      "The interpolation points are stored in the variable \"EF_target_pos\": \n",
      "[[ 30.19238816   9.19238816]\n",
      " [ 22.66666667  11.60383365]\n",
      " [ 11.33333333   6.762095  ]\n",
      " [-11.33333333   5.73462863]\n",
      " [-22.66666667   9.2372042 ]]\n",
      "The intermediate points are stored in the variable \"interpolated_points\"\n",
      "[1 0 1 1]\n",
      "[54 23 22 41]\n"
     ]
    },
    {
     "name": "stderr",
     "output_type": "stream",
     "text": [
      "<ipython-input-3-da811ff97447>:29: MatplotlibDeprecationWarning: Adding an axes using the same arguments as a previous axes currently reuses the earlier instance.  In a future version, a new instance will always be created and returned.  Meanwhile, this warning can be suppressed, and the future behavior ensured, by passing a unique label to each axes instance.\n",
      "  ax = fig.add_subplot(111, autoscale_on=False,\n"
     ]
    },
    {
     "name": "stdout",
     "output_type": "stream",
     "text": [
      "30\n",
      "The interpolation points are stored in the variable \"EF_target_pos\": \n",
      "[[ 26.48528137   8.48528137]\n",
      " [ 20.           4.48134198]\n",
      " [ 10.          -5.60696379]\n",
      " [-10.           3.65765264]\n",
      " [-20.           8.97484481]]\n",
      "The intermediate points are stored in the variable \"interpolated_points\"\n",
      "[0 1 1 1]\n",
      "[54 28 51 40]\n"
     ]
    },
    {
     "name": "stderr",
     "output_type": "stream",
     "text": [
      "<ipython-input-3-da811ff97447>:29: MatplotlibDeprecationWarning: Adding an axes using the same arguments as a previous axes currently reuses the earlier instance.  In a future version, a new instance will always be created and returned.  Meanwhile, this warning can be suppressed, and the future behavior ensured, by passing a unique label to each axes instance.\n",
      "  ax = fig.add_subplot(111, autoscale_on=False,\n"
     ]
    },
    {
     "name": "stdout",
     "output_type": "stream",
     "text": [
      "30\n",
      "The interpolation points are stored in the variable \"EF_target_pos\": \n",
      "[[ 26.48528137   8.48528137]\n",
      " [ 20.          -7.11314417]\n",
      " [ 10.          -5.40614145]\n",
      " [-10.          -5.11346524]\n",
      " [-20.          -9.98891132]]\n",
      "The intermediate points are stored in the variable \"interpolated_points\"\n",
      "[1 1 0 1]\n",
      "[26 16 30 29]\n"
     ]
    },
    {
     "name": "stderr",
     "output_type": "stream",
     "text": [
      "<ipython-input-3-da811ff97447>:29: MatplotlibDeprecationWarning: Adding an axes using the same arguments as a previous axes currently reuses the earlier instance.  In a future version, a new instance will always be created and returned.  Meanwhile, this warning can be suppressed, and the future behavior ensured, by passing a unique label to each axes instance.\n",
      "  ax = fig.add_subplot(111, autoscale_on=False,\n"
     ]
    },
    {
     "name": "stdout",
     "output_type": "stream",
     "text": [
      "33\n",
      "The interpolation points are stored in the variable \"EF_target_pos\": \n",
      "[[ 29.48528137   8.48528137]\n",
      " [ 22.           6.06104635]\n",
      " [ 11.          -3.76710469]\n",
      " [-11.         -19.03483193]\n",
      " [-22.          -5.00394393]]\n",
      "The intermediate points are stored in the variable \"interpolated_points\"\n",
      "[1 1 1 0]\n",
      "[52 23 18 38]\n"
     ]
    },
    {
     "name": "stderr",
     "output_type": "stream",
     "text": [
      "<ipython-input-3-da811ff97447>:29: MatplotlibDeprecationWarning: Adding an axes using the same arguments as a previous axes currently reuses the earlier instance.  In a future version, a new instance will always be created and returned.  Meanwhile, this warning can be suppressed, and the future behavior ensured, by passing a unique label to each axes instance.\n",
      "  ax = fig.add_subplot(111, autoscale_on=False,\n"
     ]
    },
    {
     "name": "stdout",
     "output_type": "stream",
     "text": [
      "35\n",
      "The interpolation points are stored in the variable \"EF_target_pos\": \n",
      "[[ 30.60660172  10.60660172]\n",
      " [ 23.33333333   0.79188472]\n",
      " [ 11.66666667 -10.53856046]\n",
      " [-11.66666667  20.73365813]\n",
      " [-23.33333333   1.69304701]]\n",
      "The intermediate points are stored in the variable \"interpolated_points\"\n",
      "[1 0 1 1]\n",
      "[39 47 38 54]\n"
     ]
    },
    {
     "name": "stderr",
     "output_type": "stream",
     "text": [
      "<ipython-input-3-da811ff97447>:29: MatplotlibDeprecationWarning: Adding an axes using the same arguments as a previous axes currently reuses the earlier instance.  In a future version, a new instance will always be created and returned.  Meanwhile, this warning can be suppressed, and the future behavior ensured, by passing a unique label to each axes instance.\n",
      "  ax = fig.add_subplot(111, autoscale_on=False,\n"
     ]
    },
    {
     "name": "stdout",
     "output_type": "stream",
     "text": [
      "26\n",
      "The interpolation points are stored in the variable \"EF_target_pos\": \n",
      "[[ 23.07106781   7.07106781]\n",
      " [ 17.33333333   5.30109201]\n",
      " [  8.66666667  16.79836343]\n",
      " [ -8.66666667   1.80164893]\n",
      " [-17.33333333   5.4786946 ]]\n",
      "The intermediate points are stored in the variable \"interpolated_points\"\n",
      "[1 1 1 0]\n",
      "[56 59 21 22]\n"
     ]
    },
    {
     "name": "stderr",
     "output_type": "stream",
     "text": [
      "<ipython-input-3-da811ff97447>:29: MatplotlibDeprecationWarning: Adding an axes using the same arguments as a previous axes currently reuses the earlier instance.  In a future version, a new instance will always be created and returned.  Meanwhile, this warning can be suppressed, and the future behavior ensured, by passing a unique label to each axes instance.\n",
      "  ax = fig.add_subplot(111, autoscale_on=False,\n"
     ]
    },
    {
     "name": "stdout",
     "output_type": "stream",
     "text": [
      "31\n",
      "The interpolation points are stored in the variable \"EF_target_pos\": \n",
      "[[ 27.48528137   8.48528137]\n",
      " [ 20.66666667  -9.0252351 ]\n",
      " [ 10.33333333 -18.70066857]\n",
      " [-10.33333333 -15.88774151]\n",
      " [-20.66666667   1.81537471]]\n",
      "The intermediate points are stored in the variable \"interpolated_points\"\n",
      "[1 1 0 0]\n",
      "[59 39 45 25]\n"
     ]
    },
    {
     "name": "stderr",
     "output_type": "stream",
     "text": [
      "<ipython-input-3-da811ff97447>:29: MatplotlibDeprecationWarning: Adding an axes using the same arguments as a previous axes currently reuses the earlier instance.  In a future version, a new instance will always be created and returned.  Meanwhile, this warning can be suppressed, and the future behavior ensured, by passing a unique label to each axes instance.\n",
      "  ax = fig.add_subplot(111, autoscale_on=False,\n"
     ]
    },
    {
     "name": "stdout",
     "output_type": "stream",
     "text": [
      "33\n",
      "The interpolation points are stored in the variable \"EF_target_pos\": \n",
      "[[ 28.89949494   9.89949494]\n",
      " [ 22.          -4.76273683]\n",
      " [ 11.         -21.69778566]\n",
      " [-11.          -7.85726449]\n",
      " [-22.         -10.65844638]]\n",
      "The intermediate points are stored in the variable \"interpolated_points\"\n",
      "[0 1 1 0]\n",
      "[40 59 23 47]\n"
     ]
    },
    {
     "name": "stderr",
     "output_type": "stream",
     "text": [
      "<ipython-input-3-da811ff97447>:29: MatplotlibDeprecationWarning: Adding an axes using the same arguments as a previous axes currently reuses the earlier instance.  In a future version, a new instance will always be created and returned.  Meanwhile, this warning can be suppressed, and the future behavior ensured, by passing a unique label to each axes instance.\n",
      "  ax = fig.add_subplot(111, autoscale_on=False,\n"
     ]
    },
    {
     "name": "stdout",
     "output_type": "stream",
     "text": [
      "29\n",
      "The interpolation points are stored in the variable \"EF_target_pos\": \n",
      "[[ 25.48528137   8.48528137]\n",
      " [ 19.33333333   4.12086207]\n",
      " [  9.66666667  -2.34061078]\n",
      " [ -9.66666667  -9.15413615]\n",
      " [-19.33333333   5.07766234]]\n",
      "The intermediate points are stored in the variable \"interpolated_points\"\n",
      "[1 1 0 1]\n",
      "[58 49 22 41]\n"
     ]
    },
    {
     "name": "stderr",
     "output_type": "stream",
     "text": [
      "<ipython-input-3-da811ff97447>:29: MatplotlibDeprecationWarning: Adding an axes using the same arguments as a previous axes currently reuses the earlier instance.  In a future version, a new instance will always be created and returned.  Meanwhile, this warning can be suppressed, and the future behavior ensured, by passing a unique label to each axes instance.\n",
      "  ax = fig.add_subplot(111, autoscale_on=False,\n"
     ]
    },
    {
     "name": "stdout",
     "output_type": "stream",
     "text": [
      "33\n",
      "The interpolation points are stored in the variable \"EF_target_pos\": \n",
      "[[ 29.19238816   9.19238816]\n",
      " [ 22.          10.34149554]\n",
      " [ 11.          -5.87087674]\n",
      " [-11.         -13.1838496 ]\n",
      " [-22.           6.40607109]]\n",
      "The intermediate points are stored in the variable \"interpolated_points\"\n",
      "[1 1 1 0]\n",
      "[23 32 43 53]\n"
     ]
    },
    {
     "name": "stderr",
     "output_type": "stream",
     "text": [
      "<ipython-input-3-da811ff97447>:29: MatplotlibDeprecationWarning: Adding an axes using the same arguments as a previous axes currently reuses the earlier instance.  In a future version, a new instance will always be created and returned.  Meanwhile, this warning can be suppressed, and the future behavior ensured, by passing a unique label to each axes instance.\n",
      "  ax = fig.add_subplot(111, autoscale_on=False,\n"
     ]
    },
    {
     "name": "stdout",
     "output_type": "stream",
     "text": [
      "35\n",
      "The interpolation points are stored in the variable \"EF_target_pos\": \n",
      "[[ 30.60660172  10.60660172]\n",
      " [ 23.33333333   4.51619285]\n",
      " [ 11.66666667  -9.49682727]\n",
      " [-11.66666667 -12.86659288]\n",
      " [-23.33333333   9.92008367]]\n",
      "The intermediate points are stored in the variable \"interpolated_points\"\n",
      "[1 0 1 0]\n",
      "[50 53 36 36]\n"
     ]
    },
    {
     "name": "stderr",
     "output_type": "stream",
     "text": [
      "<ipython-input-3-da811ff97447>:29: MatplotlibDeprecationWarning: Adding an axes using the same arguments as a previous axes currently reuses the earlier instance.  In a future version, a new instance will always be created and returned.  Meanwhile, this warning can be suppressed, and the future behavior ensured, by passing a unique label to each axes instance.\n",
      "  ax = fig.add_subplot(111, autoscale_on=False,\n"
     ]
    },
    {
     "name": "stdout",
     "output_type": "stream",
     "text": [
      "29\n",
      "The interpolation points are stored in the variable \"EF_target_pos\": \n",
      "[[ 25.48528137   8.48528137]\n",
      " [ 19.33333333  -2.8911867 ]\n",
      " [  9.66666667 -13.43544353]\n",
      " [ -9.66666667  -2.37490403]\n",
      " [-19.33333333   6.64550883]]\n",
      "The intermediate points are stored in the variable \"interpolated_points\"\n",
      "[1 0 0 1]\n",
      "[17 56 52 28]\n"
     ]
    },
    {
     "name": "stderr",
     "output_type": "stream",
     "text": [
      "<ipython-input-3-da811ff97447>:29: MatplotlibDeprecationWarning: Adding an axes using the same arguments as a previous axes currently reuses the earlier instance.  In a future version, a new instance will always be created and returned.  Meanwhile, this warning can be suppressed, and the future behavior ensured, by passing a unique label to each axes instance.\n",
      "  ax = fig.add_subplot(111, autoscale_on=False,\n"
     ]
    },
    {
     "name": "stdout",
     "output_type": "stream",
     "text": [
      "30\n",
      "The interpolation points are stored in the variable \"EF_target_pos\": \n",
      "[[ 25.89949494   9.89949494]\n",
      " [ 20.          -1.57530626]\n",
      " [ 10.          -1.34573847]\n",
      " [-10.         -10.01355472]\n",
      " [-20.           6.96091507]]\n",
      "The intermediate points are stored in the variable \"interpolated_points\"\n",
      "[0 0 1 1]\n",
      "[50 43 38 41]\n"
     ]
    },
    {
     "name": "stderr",
     "output_type": "stream",
     "text": [
      "<ipython-input-3-da811ff97447>:29: MatplotlibDeprecationWarning: Adding an axes using the same arguments as a previous axes currently reuses the earlier instance.  In a future version, a new instance will always be created and returned.  Meanwhile, this warning can be suppressed, and the future behavior ensured, by passing a unique label to each axes instance.\n",
      "  ax = fig.add_subplot(111, autoscale_on=False,\n"
     ]
    },
    {
     "name": "stdout",
     "output_type": "stream",
     "text": [
      "27\n",
      "The interpolation points are stored in the variable \"EF_target_pos\": \n",
      "[[ 23.77817459   7.77817459]\n",
      " [ 18.          -6.81212162]\n",
      " [  9.          16.39339261]\n",
      " [ -9.          17.87759479]\n",
      " [-18.           2.22791269]]\n",
      "The intermediate points are stored in the variable \"interpolated_points\"\n",
      "[1 0 1 1]\n",
      "[53 50 52 20]\n"
     ]
    },
    {
     "name": "stderr",
     "output_type": "stream",
     "text": [
      "<ipython-input-3-da811ff97447>:29: MatplotlibDeprecationWarning: Adding an axes using the same arguments as a previous axes currently reuses the earlier instance.  In a future version, a new instance will always be created and returned.  Meanwhile, this warning can be suppressed, and the future behavior ensured, by passing a unique label to each axes instance.\n",
      "  ax = fig.add_subplot(111, autoscale_on=False,\n"
     ]
    },
    {
     "name": "stdout",
     "output_type": "stream",
     "text": [
      "29\n",
      "The interpolation points are stored in the variable \"EF_target_pos\": \n",
      "[[ 25.19238816   9.19238816]\n",
      " [ 19.33333333   1.96644896]\n",
      " [  9.66666667   6.14711309]\n",
      " [ -9.66666667   1.04778558]\n",
      " [-19.33333333  -0.21992011]]\n",
      "The intermediate points are stored in the variable \"interpolated_points\"\n",
      "[0 1 0 1]\n",
      "[32 28 59 54]\n"
     ]
    },
    {
     "name": "stderr",
     "output_type": "stream",
     "text": [
      "<ipython-input-3-da811ff97447>:29: MatplotlibDeprecationWarning: Adding an axes using the same arguments as a previous axes currently reuses the earlier instance.  In a future version, a new instance will always be created and returned.  Meanwhile, this warning can be suppressed, and the future behavior ensured, by passing a unique label to each axes instance.\n",
      "  ax = fig.add_subplot(111, autoscale_on=False,\n"
     ]
    },
    {
     "name": "stdout",
     "output_type": "stream",
     "text": [
      "34\n",
      "The interpolation points are stored in the variable \"EF_target_pos\": \n",
      "[[ 29.60660172  10.60660172]\n",
      " [ 22.66666667   0.36927077]\n",
      " [ 11.33333333  -7.30505077]\n",
      " [-11.33333333 -14.7088464 ]\n",
      " [-22.66666667   9.98734839]]\n",
      "The intermediate points are stored in the variable \"interpolated_points\"\n",
      "[0 1 1 0]\n",
      "[15 35 21 15]\n"
     ]
    },
    {
     "name": "stderr",
     "output_type": "stream",
     "text": [
      "<ipython-input-3-da811ff97447>:29: MatplotlibDeprecationWarning: Adding an axes using the same arguments as a previous axes currently reuses the earlier instance.  In a future version, a new instance will always be created and returned.  Meanwhile, this warning can be suppressed, and the future behavior ensured, by passing a unique label to each axes instance.\n",
      "  ax = fig.add_subplot(111, autoscale_on=False,\n"
     ]
    },
    {
     "name": "stdout",
     "output_type": "stream",
     "text": [
      "28\n",
      "The interpolation points are stored in the variable \"EF_target_pos\": \n",
      "[[ 24.77817459   7.77817459]\n",
      " [ 18.66666667  -3.21935873]\n",
      " [  9.33333333  -7.25909383]\n",
      " [ -9.33333333  18.69913538]\n",
      " [-18.66666667   0.93814582]]\n",
      "The intermediate points are stored in the variable \"interpolated_points\"\n",
      "[0 0 1 1]\n",
      "[31 31 18 22]\n"
     ]
    },
    {
     "name": "stderr",
     "output_type": "stream",
     "text": [
      "<ipython-input-3-da811ff97447>:29: MatplotlibDeprecationWarning: Adding an axes using the same arguments as a previous axes currently reuses the earlier instance.  In a future version, a new instance will always be created and returned.  Meanwhile, this warning can be suppressed, and the future behavior ensured, by passing a unique label to each axes instance.\n",
      "  ax = fig.add_subplot(111, autoscale_on=False,\n"
     ]
    },
    {
     "name": "stdout",
     "output_type": "stream",
     "text": [
      "32\n",
      "The interpolation points are stored in the variable \"EF_target_pos\": \n",
      "[[ 28.48528137   8.48528137]\n",
      " [ 21.33333333   1.42022698]\n",
      " [ 10.66666667  -1.86922709]\n",
      " [-10.66666667  -2.84037751]\n",
      " [-21.33333333   3.06572952]]\n",
      "The intermediate points are stored in the variable \"interpolated_points\"\n",
      "[0 1 0 0]\n",
      "[37 38 40 36]\n"
     ]
    },
    {
     "name": "stderr",
     "output_type": "stream",
     "text": [
      "<ipython-input-3-da811ff97447>:29: MatplotlibDeprecationWarning: Adding an axes using the same arguments as a previous axes currently reuses the earlier instance.  In a future version, a new instance will always be created and returned.  Meanwhile, this warning can be suppressed, and the future behavior ensured, by passing a unique label to each axes instance.\n",
      "  ax = fig.add_subplot(111, autoscale_on=False,\n"
     ]
    },
    {
     "name": "stdout",
     "output_type": "stream",
     "text": [
      "33\n",
      "The interpolation points are stored in the variable \"EF_target_pos\": \n",
      "[[ 28.89949494   9.89949494]\n",
      " [ 22.          -1.03796352]\n",
      " [ 11.         -12.74848545]\n",
      " [-11.          22.11626894]\n",
      " [-22.          -0.84875114]]\n",
      "The intermediate points are stored in the variable \"interpolated_points\"\n",
      "[0 1 0 0]\n",
      "[31 22 49 50]\n"
     ]
    },
    {
     "name": "stderr",
     "output_type": "stream",
     "text": [
      "<ipython-input-3-da811ff97447>:29: MatplotlibDeprecationWarning: Adding an axes using the same arguments as a previous axes currently reuses the earlier instance.  In a future version, a new instance will always be created and returned.  Meanwhile, this warning can be suppressed, and the future behavior ensured, by passing a unique label to each axes instance.\n",
      "  ax = fig.add_subplot(111, autoscale_on=False,\n"
     ]
    },
    {
     "name": "stdout",
     "output_type": "stream",
     "text": [
      "29\n",
      "The interpolation points are stored in the variable \"EF_target_pos\": \n",
      "[[ 25.77817459   7.77817459]\n",
      " [ 19.33333333  -6.44964688]\n",
      " [  9.66666667  -0.2976508 ]\n",
      " [ -9.66666667  -8.93895202]\n",
      " [-19.33333333  -7.79986805]]\n",
      "The intermediate points are stored in the variable \"interpolated_points\"\n",
      "[0 1 0 0]\n",
      "[58 47 15 45]\n"
     ]
    },
    {
     "name": "stderr",
     "output_type": "stream",
     "text": [
      "<ipython-input-3-da811ff97447>:29: MatplotlibDeprecationWarning: Adding an axes using the same arguments as a previous axes currently reuses the earlier instance.  In a future version, a new instance will always be created and returned.  Meanwhile, this warning can be suppressed, and the future behavior ensured, by passing a unique label to each axes instance.\n",
      "  ax = fig.add_subplot(111, autoscale_on=False,\n"
     ]
    },
    {
     "name": "stdout",
     "output_type": "stream",
     "text": [
      "33\n",
      "The interpolation points are stored in the variable \"EF_target_pos\": \n",
      "[[ 29.19238816   9.19238816]\n",
      " [ 22.           3.44435867]\n",
      " [ 11.           0.63609854]\n",
      " [-11.          13.62505206]\n",
      " [-22.           9.54593775]]\n",
      "The intermediate points are stored in the variable \"interpolated_points\"\n",
      "[1 1 1 0]\n",
      "[39 48 54 52]\n"
     ]
    },
    {
     "name": "stderr",
     "output_type": "stream",
     "text": [
      "<ipython-input-3-da811ff97447>:29: MatplotlibDeprecationWarning: Adding an axes using the same arguments as a previous axes currently reuses the earlier instance.  In a future version, a new instance will always be created and returned.  Meanwhile, this warning can be suppressed, and the future behavior ensured, by passing a unique label to each axes instance.\n",
      "  ax = fig.add_subplot(111, autoscale_on=False,\n"
     ]
    },
    {
     "name": "stdout",
     "output_type": "stream",
     "text": [
      "30\n",
      "The interpolation points are stored in the variable \"EF_target_pos\": \n",
      "[[ 26.19238816   9.19238816]\n",
      " [ 20.           6.88659972]\n",
      " [ 10.          -4.16064386]\n",
      " [-10.           5.51917041]\n",
      " [-20.           2.31878588]]\n",
      "The intermediate points are stored in the variable \"interpolated_points\"\n",
      "[1 1 1 0]\n",
      "[26 25 25 31]\n"
     ]
    },
    {
     "name": "stderr",
     "output_type": "stream",
     "text": [
      "<ipython-input-3-da811ff97447>:29: MatplotlibDeprecationWarning: Adding an axes using the same arguments as a previous axes currently reuses the earlier instance.  In a future version, a new instance will always be created and returned.  Meanwhile, this warning can be suppressed, and the future behavior ensured, by passing a unique label to each axes instance.\n",
      "  ax = fig.add_subplot(111, autoscale_on=False,\n"
     ]
    },
    {
     "name": "stdout",
     "output_type": "stream",
     "text": [
      "26\n",
      "The interpolation points are stored in the variable \"EF_target_pos\": \n",
      "[[ 23.07106781   7.07106781]\n",
      " [ 17.33333333   4.10454364]\n",
      " [  8.66666667  16.62832273]\n",
      " [ -8.66666667  12.41211434]\n",
      " [-17.33333333  -6.86245449]]\n",
      "The intermediate points are stored in the variable \"interpolated_points\"\n",
      "[1 0 1 0]\n",
      "[56 35 31 28]\n"
     ]
    },
    {
     "name": "stderr",
     "output_type": "stream",
     "text": [
      "<ipython-input-3-da811ff97447>:29: MatplotlibDeprecationWarning: Adding an axes using the same arguments as a previous axes currently reuses the earlier instance.  In a future version, a new instance will always be created and returned.  Meanwhile, this warning can be suppressed, and the future behavior ensured, by passing a unique label to each axes instance.\n",
      "  ax = fig.add_subplot(111, autoscale_on=False,\n"
     ]
    },
    {
     "name": "stdout",
     "output_type": "stream",
     "text": [
      "27\n",
      "The interpolation points are stored in the variable \"EF_target_pos\": \n",
      "[[ 24.65685425   5.65685425]\n",
      " [ 18.           8.32592209]\n",
      " [  9.           8.30167014]\n",
      " [ -9.          12.95488392]\n",
      " [-18.           1.70933819]]\n",
      "The intermediate points are stored in the variable \"interpolated_points\"\n",
      "[0 1 0 1]\n",
      "[16 27 25 43]\n"
     ]
    },
    {
     "name": "stderr",
     "output_type": "stream",
     "text": [
      "<ipython-input-3-da811ff97447>:29: MatplotlibDeprecationWarning: Adding an axes using the same arguments as a previous axes currently reuses the earlier instance.  In a future version, a new instance will always be created and returned.  Meanwhile, this warning can be suppressed, and the future behavior ensured, by passing a unique label to each axes instance.\n",
      "  ax = fig.add_subplot(111, autoscale_on=False,\n"
     ]
    },
    {
     "name": "stdout",
     "output_type": "stream",
     "text": [
      "30\n",
      "The interpolation points are stored in the variable \"EF_target_pos\": \n",
      "[[ 26.48528137   8.48528137]\n",
      " [ 20.          -5.51493671]\n",
      " [ 10.         -10.26523254]\n",
      " [-10.          -7.11061953]\n",
      " [-20.           9.0216457 ]]\n",
      "The intermediate points are stored in the variable \"interpolated_points\"\n",
      "[1 0 0 1]\n",
      "[43 52 24 32]\n"
     ]
    },
    {
     "name": "stderr",
     "output_type": "stream",
     "text": [
      "<ipython-input-3-da811ff97447>:29: MatplotlibDeprecationWarning: Adding an axes using the same arguments as a previous axes currently reuses the earlier instance.  In a future version, a new instance will always be created and returned.  Meanwhile, this warning can be suppressed, and the future behavior ensured, by passing a unique label to each axes instance.\n",
      "  ax = fig.add_subplot(111, autoscale_on=False,\n"
     ]
    },
    {
     "name": "stdout",
     "output_type": "stream",
     "text": [
      "30\n",
      "The interpolation points are stored in the variable \"EF_target_pos\": \n",
      "[[ 26.19238816   9.19238816]\n",
      " [ 20.           3.53065216]\n",
      " [ 10.          -8.01207068]\n",
      " [-10.          -1.22231834]\n",
      " [-20.          -2.66741186]]\n",
      "The intermediate points are stored in the variable \"interpolated_points\"\n",
      "[0 1 1 0]\n",
      "[35 43 18 37]\n"
     ]
    },
    {
     "name": "stderr",
     "output_type": "stream",
     "text": [
      "<ipython-input-3-da811ff97447>:29: MatplotlibDeprecationWarning: Adding an axes using the same arguments as a previous axes currently reuses the earlier instance.  In a future version, a new instance will always be created and returned.  Meanwhile, this warning can be suppressed, and the future behavior ensured, by passing a unique label to each axes instance.\n",
      "  ax = fig.add_subplot(111, autoscale_on=False,\n"
     ]
    },
    {
     "name": "stdout",
     "output_type": "stream",
     "text": [
      "25\n",
      "The interpolation points are stored in the variable \"EF_target_pos\": \n",
      "[[ 22.36396103   6.36396103]\n",
      " [ 16.66666667   4.69063032]\n",
      " [  8.33333333  -8.82939535]\n",
      " [ -8.33333333  -7.10700074]\n",
      " [-16.66666667   4.20284169]]\n",
      "The intermediate points are stored in the variable \"interpolated_points\"\n",
      "[1 1 0 1]\n",
      "[59 45 37 56]\n"
     ]
    },
    {
     "name": "stderr",
     "output_type": "stream",
     "text": [
      "<ipython-input-3-da811ff97447>:29: MatplotlibDeprecationWarning: Adding an axes using the same arguments as a previous axes currently reuses the earlier instance.  In a future version, a new instance will always be created and returned.  Meanwhile, this warning can be suppressed, and the future behavior ensured, by passing a unique label to each axes instance.\n",
      "  ax = fig.add_subplot(111, autoscale_on=False,\n"
     ]
    },
    {
     "name": "stdout",
     "output_type": "stream",
     "text": [
      "32\n",
      "The interpolation points are stored in the variable \"EF_target_pos\": \n",
      "[[ 28.48528137   8.48528137]\n",
      " [ 21.33333333  -2.98851387]\n",
      " [ 10.66666667  -5.49730036]\n",
      " [-10.66666667   2.98324813]\n",
      " [-21.33333333  -5.36366795]]\n",
      "The intermediate points are stored in the variable \"interpolated_points\"\n",
      "[0 0 1 1]\n",
      "[36 51 40 56]\n"
     ]
    },
    {
     "name": "stderr",
     "output_type": "stream",
     "text": [
      "<ipython-input-3-da811ff97447>:29: MatplotlibDeprecationWarning: Adding an axes using the same arguments as a previous axes currently reuses the earlier instance.  In a future version, a new instance will always be created and returned.  Meanwhile, this warning can be suppressed, and the future behavior ensured, by passing a unique label to each axes instance.\n",
      "  ax = fig.add_subplot(111, autoscale_on=False,\n"
     ]
    },
    {
     "name": "stdout",
     "output_type": "stream",
     "text": [
      "27\n",
      "The interpolation points are stored in the variable \"EF_target_pos\": \n",
      "[[ 23.77817459   7.77817459]\n",
      " [ 18.          -0.97349325]\n",
      " [  9.         -17.34607946]\n",
      " [ -9.         -16.46422519]\n",
      " [-18.          -5.76777069]]\n",
      "The intermediate points are stored in the variable \"interpolated_points\"\n",
      "[1 0 1 0]\n",
      "[44 31 44 43]\n"
     ]
    },
    {
     "name": "stderr",
     "output_type": "stream",
     "text": [
      "<ipython-input-3-da811ff97447>:29: MatplotlibDeprecationWarning: Adding an axes using the same arguments as a previous axes currently reuses the earlier instance.  In a future version, a new instance will always be created and returned.  Meanwhile, this warning can be suppressed, and the future behavior ensured, by passing a unique label to each axes instance.\n",
      "  ax = fig.add_subplot(111, autoscale_on=False,\n"
     ]
    },
    {
     "name": "stdout",
     "output_type": "stream",
     "text": [
      "35\n",
      "The interpolation points are stored in the variable \"EF_target_pos\": \n",
      "[[ 3.11923882e+01  9.19238816e+00]\n",
      " [ 2.33333333e+01  2.58633708e-03]\n",
      " [ 1.16666667e+01 -8.99124959e+00]\n",
      " [-1.16666667e+01  9.67953382e+00]\n",
      " [-2.33333333e+01 -8.74168469e+00]]\n",
      "The intermediate points are stored in the variable \"interpolated_points\"\n",
      "[1 1 0 0]\n",
      "[56 35 40 52]\n"
     ]
    },
    {
     "name": "stderr",
     "output_type": "stream",
     "text": [
      "<ipython-input-3-da811ff97447>:29: MatplotlibDeprecationWarning: Adding an axes using the same arguments as a previous axes currently reuses the earlier instance.  In a future version, a new instance will always be created and returned.  Meanwhile, this warning can be suppressed, and the future behavior ensured, by passing a unique label to each axes instance.\n",
      "  ax = fig.add_subplot(111, autoscale_on=False,\n"
     ]
    },
    {
     "name": "stdout",
     "output_type": "stream",
     "text": [
      "35\n",
      "The interpolation points are stored in the variable \"EF_target_pos\": \n",
      "[[ 30.60660172  10.60660172]\n",
      " [ 23.33333333  -7.09405915]\n",
      " [ 11.66666667  -5.5242873 ]\n",
      " [-11.66666667 -14.3956502 ]\n",
      " [-23.33333333 -11.0327399 ]]\n",
      "The intermediate points are stored in the variable \"interpolated_points\"\n",
      "[1 0 0 0]\n",
      "[24 18 53 21]\n"
     ]
    },
    {
     "name": "stderr",
     "output_type": "stream",
     "text": [
      "<ipython-input-3-da811ff97447>:29: MatplotlibDeprecationWarning: Adding an axes using the same arguments as a previous axes currently reuses the earlier instance.  In a future version, a new instance will always be created and returned.  Meanwhile, this warning can be suppressed, and the future behavior ensured, by passing a unique label to each axes instance.\n",
      "  ax = fig.add_subplot(111, autoscale_on=False,\n"
     ]
    },
    {
     "name": "stdout",
     "output_type": "stream",
     "text": [
      "28\n",
      "The interpolation points are stored in the variable \"EF_target_pos\": \n",
      "[[ 24.48528137   8.48528137]\n",
      " [ 18.66666667  -7.68301167]\n",
      " [  9.33333333  13.01204641]\n",
      " [ -9.33333333   7.74688992]\n",
      " [-18.66666667  -7.54940715]]\n",
      "The intermediate points are stored in the variable \"interpolated_points\"\n",
      "[1 1 0 1]\n",
      "[20 53 32 24]\n"
     ]
    },
    {
     "name": "stderr",
     "output_type": "stream",
     "text": [
      "<ipython-input-3-da811ff97447>:29: MatplotlibDeprecationWarning: Adding an axes using the same arguments as a previous axes currently reuses the earlier instance.  In a future version, a new instance will always be created and returned.  Meanwhile, this warning can be suppressed, and the future behavior ensured, by passing a unique label to each axes instance.\n",
      "  ax = fig.add_subplot(111, autoscale_on=False,\n"
     ]
    },
    {
     "name": "stdout",
     "output_type": "stream",
     "text": [
      "29\n",
      "The interpolation points are stored in the variable \"EF_target_pos\": \n",
      "[[ 25.77817459   7.77817459]\n",
      " [ 19.33333333   5.39816116]\n",
      " [  9.66666667   0.8002242 ]\n",
      " [ -9.66666667  -4.57382209]\n",
      " [-19.33333333  -6.2803831 ]]\n",
      "The intermediate points are stored in the variable \"interpolated_points\"\n",
      "[0 1 0 1]\n",
      "[49 49 35 44]\n"
     ]
    },
    {
     "name": "stderr",
     "output_type": "stream",
     "text": [
      "<ipython-input-3-da811ff97447>:29: MatplotlibDeprecationWarning: Adding an axes using the same arguments as a previous axes currently reuses the earlier instance.  In a future version, a new instance will always be created and returned.  Meanwhile, this warning can be suppressed, and the future behavior ensured, by passing a unique label to each axes instance.\n",
      "  ax = fig.add_subplot(111, autoscale_on=False,\n"
     ]
    },
    {
     "name": "stdout",
     "output_type": "stream",
     "text": [
      "30\n",
      "The interpolation points are stored in the variable \"EF_target_pos\": \n",
      "[[ 25.89949494   9.89949494]\n",
      " [ 20.           4.61536764]\n",
      " [ 10.          19.91739986]\n",
      " [-10.           1.96719336]\n",
      " [-20.          -0.94454884]]\n",
      "The intermediate points are stored in the variable \"interpolated_points\"\n",
      "[1 1 1 0]\n",
      "[50 36 52 25]\n"
     ]
    },
    {
     "name": "stderr",
     "output_type": "stream",
     "text": [
      "<ipython-input-3-da811ff97447>:29: MatplotlibDeprecationWarning: Adding an axes using the same arguments as a previous axes currently reuses the earlier instance.  In a future version, a new instance will always be created and returned.  Meanwhile, this warning can be suppressed, and the future behavior ensured, by passing a unique label to each axes instance.\n",
      "  ax = fig.add_subplot(111, autoscale_on=False,\n"
     ]
    },
    {
     "name": "stdout",
     "output_type": "stream",
     "text": [
      "32\n",
      "The interpolation points are stored in the variable \"EF_target_pos\": \n",
      "[[ 28.48528137   8.48528137]\n",
      " [ 21.33333333   9.93374001]\n",
      " [ 10.66666667 -20.00586153]\n",
      " [-10.66666667   1.26184184]\n",
      " [-21.33333333   7.95095239]]\n",
      "The intermediate points are stored in the variable \"interpolated_points\"\n",
      "[1 0 0 0]\n",
      "[54 25 40 55]\n"
     ]
    },
    {
     "name": "stderr",
     "output_type": "stream",
     "text": [
      "<ipython-input-3-da811ff97447>:29: MatplotlibDeprecationWarning: Adding an axes using the same arguments as a previous axes currently reuses the earlier instance.  In a future version, a new instance will always be created and returned.  Meanwhile, this warning can be suppressed, and the future behavior ensured, by passing a unique label to each axes instance.\n",
      "  ax = fig.add_subplot(111, autoscale_on=False,\n"
     ]
    },
    {
     "name": "stdout",
     "output_type": "stream",
     "text": [
      "30\n",
      "The interpolation points are stored in the variable \"EF_target_pos\": \n",
      "[[ 26.48528137   8.48528137]\n",
      " [ 20.          -3.71902814]\n",
      " [ 10.         -18.7792017 ]\n",
      " [-10.          16.97185302]\n",
      " [-20.           2.0757282 ]]\n",
      "The intermediate points are stored in the variable \"interpolated_points\"\n",
      "[1 0 0 0]\n",
      "[32 35 30 49]\n"
     ]
    },
    {
     "name": "stderr",
     "output_type": "stream",
     "text": [
      "<ipython-input-3-da811ff97447>:29: MatplotlibDeprecationWarning: Adding an axes using the same arguments as a previous axes currently reuses the earlier instance.  In a future version, a new instance will always be created and returned.  Meanwhile, this warning can be suppressed, and the future behavior ensured, by passing a unique label to each axes instance.\n",
      "  ax = fig.add_subplot(111, autoscale_on=False,\n"
     ]
    },
    {
     "name": "stdout",
     "output_type": "stream",
     "text": [
      "27\n",
      "The interpolation points are stored in the variable \"EF_target_pos\": \n",
      "[[ 23.48528137   8.48528137]\n",
      " [ 18.           1.62136173]\n",
      " [  9.          -0.32674733]\n",
      " [ -9.          -8.25802706]\n",
      " [-18.          -1.16200456]]\n",
      "The intermediate points are stored in the variable \"interpolated_points\"\n",
      "[1 0 1 1]\n",
      "[44 20 43 43]\n"
     ]
    },
    {
     "name": "stderr",
     "output_type": "stream",
     "text": [
      "<ipython-input-3-da811ff97447>:29: MatplotlibDeprecationWarning: Adding an axes using the same arguments as a previous axes currently reuses the earlier instance.  In a future version, a new instance will always be created and returned.  Meanwhile, this warning can be suppressed, and the future behavior ensured, by passing a unique label to each axes instance.\n",
      "  ax = fig.add_subplot(111, autoscale_on=False,\n"
     ]
    },
    {
     "name": "stdout",
     "output_type": "stream",
     "text": [
      "32\n",
      "The interpolation points are stored in the variable \"EF_target_pos\": \n",
      "[[ 27.3137085   11.3137085 ]\n",
      " [ 21.33333333  -5.60037068]\n",
      " [ 10.66666667 -18.85416621]\n",
      " [-10.66666667  -8.26645603]\n",
      " [-21.33333333  -5.67105983]]\n",
      "The intermediate points are stored in the variable \"interpolated_points\"\n",
      "[0 0 1 1]\n",
      "[58 28 38 48]\n"
     ]
    },
    {
     "name": "stderr",
     "output_type": "stream",
     "text": [
      "<ipython-input-3-da811ff97447>:29: MatplotlibDeprecationWarning: Adding an axes using the same arguments as a previous axes currently reuses the earlier instance.  In a future version, a new instance will always be created and returned.  Meanwhile, this warning can be suppressed, and the future behavior ensured, by passing a unique label to each axes instance.\n",
      "  ax = fig.add_subplot(111, autoscale_on=False,\n"
     ]
    },
    {
     "name": "stdout",
     "output_type": "stream",
     "text": [
      "32\n",
      "The interpolation points are stored in the variable \"EF_target_pos\": \n",
      "[[ 28.48528137   8.48528137]\n",
      " [ 21.33333333  -5.2399505 ]\n",
      " [ 10.66666667  -6.43135747]\n",
      " [-10.66666667  -6.1739936 ]\n",
      " [-21.33333333 -10.9166986 ]]\n",
      "The intermediate points are stored in the variable \"interpolated_points\"\n",
      "[1 0 1 0]\n",
      "[27 33 54 30]\n"
     ]
    },
    {
     "name": "stderr",
     "output_type": "stream",
     "text": [
      "<ipython-input-3-da811ff97447>:29: MatplotlibDeprecationWarning: Adding an axes using the same arguments as a previous axes currently reuses the earlier instance.  In a future version, a new instance will always be created and returned.  Meanwhile, this warning can be suppressed, and the future behavior ensured, by passing a unique label to each axes instance.\n",
      "  ax = fig.add_subplot(111, autoscale_on=False,\n"
     ]
    },
    {
     "name": "stdout",
     "output_type": "stream",
     "text": [
      "24\n",
      "The interpolation points are stored in the variable \"EF_target_pos\": \n",
      "[[ 21.36396103   6.36396103]\n",
      " [ 16.           4.30503434]\n",
      " [  8.          -2.00535866]\n",
      " [ -8.           7.05470683]\n",
      " [-16.           3.02982099]]\n",
      "The intermediate points are stored in the variable \"interpolated_points\"\n",
      "[1 0 1 1]\n",
      "[15 37 26 42]\n"
     ]
    },
    {
     "name": "stderr",
     "output_type": "stream",
     "text": [
      "<ipython-input-3-da811ff97447>:29: MatplotlibDeprecationWarning: Adding an axes using the same arguments as a previous axes currently reuses the earlier instance.  In a future version, a new instance will always be created and returned.  Meanwhile, this warning can be suppressed, and the future behavior ensured, by passing a unique label to each axes instance.\n",
      "  ax = fig.add_subplot(111, autoscale_on=False,\n"
     ]
    },
    {
     "name": "stdout",
     "output_type": "stream",
     "text": [
      "34\n",
      "The interpolation points are stored in the variable \"EF_target_pos\": \n",
      "[[ 29.60660172  10.60660172]\n",
      " [ 22.66666667  -8.10850807]\n",
      " [ 11.33333333  -0.34165248]\n",
      " [-11.33333333 -16.84140863]\n",
      " [-22.66666667   9.52738898]]\n",
      "The intermediate points are stored in the variable \"interpolated_points\"\n",
      "[1 0 1 1]\n",
      "[36 22 31 33]\n"
     ]
    },
    {
     "name": "stderr",
     "output_type": "stream",
     "text": [
      "<ipython-input-3-da811ff97447>:29: MatplotlibDeprecationWarning: Adding an axes using the same arguments as a previous axes currently reuses the earlier instance.  In a future version, a new instance will always be created and returned.  Meanwhile, this warning can be suppressed, and the future behavior ensured, by passing a unique label to each axes instance.\n",
      "  ax = fig.add_subplot(111, autoscale_on=False,\n"
     ]
    },
    {
     "name": "stdout",
     "output_type": "stream",
     "text": [
      "28\n",
      "The interpolation points are stored in the variable \"EF_target_pos\": \n",
      "[[ 23.89949494   9.89949494]\n",
      " [ 18.66666667  -0.15129066]\n",
      " [  9.33333333  12.92815653]\n",
      " [ -9.33333333  -5.58674363]\n",
      " [-18.66666667  -3.06018934]]\n",
      "The intermediate points are stored in the variable \"interpolated_points\"\n",
      "[0 1 1 0]\n",
      "[32 30 39 28]\n"
     ]
    },
    {
     "name": "stderr",
     "output_type": "stream",
     "text": [
      "<ipython-input-3-da811ff97447>:29: MatplotlibDeprecationWarning: Adding an axes using the same arguments as a previous axes currently reuses the earlier instance.  In a future version, a new instance will always be created and returned.  Meanwhile, this warning can be suppressed, and the future behavior ensured, by passing a unique label to each axes instance.\n",
      "  ax = fig.add_subplot(111, autoscale_on=False,\n"
     ]
    },
    {
     "name": "stdout",
     "output_type": "stream",
     "text": [
      "31\n",
      "The interpolation points are stored in the variable \"EF_target_pos\": \n",
      "[[ 27.48528137   8.48528137]\n",
      " [ 20.66666667  -9.75800806]\n",
      " [ 10.33333333   2.58706258]\n",
      " [-10.33333333  10.98104469]\n",
      " [-20.66666667  -8.66499645]]\n",
      "The intermediate points are stored in the variable \"interpolated_points\"\n",
      "[1 1 0 1]\n",
      "[24 43 26 26]\n"
     ]
    },
    {
     "name": "stderr",
     "output_type": "stream",
     "text": [
      "<ipython-input-3-da811ff97447>:29: MatplotlibDeprecationWarning: Adding an axes using the same arguments as a previous axes currently reuses the earlier instance.  In a future version, a new instance will always be created and returned.  Meanwhile, this warning can be suppressed, and the future behavior ensured, by passing a unique label to each axes instance.\n",
      "  ax = fig.add_subplot(111, autoscale_on=False,\n"
     ]
    },
    {
     "name": "stdout",
     "output_type": "stream",
     "text": [
      "30\n",
      "The interpolation points are stored in the variable \"EF_target_pos\": \n",
      "[[ 27.36396103   6.36396103]\n",
      " [ 20.           9.27798691]\n",
      " [ 10.          16.7321958 ]\n",
      " [-10.          18.40811862]\n",
      " [-20.           8.96873157]]\n",
      "The intermediate points are stored in the variable \"interpolated_points\"\n",
      "[1 1 0 1]\n",
      "[56 51 47 46]\n"
     ]
    },
    {
     "name": "stderr",
     "output_type": "stream",
     "text": [
      "<ipython-input-3-da811ff97447>:29: MatplotlibDeprecationWarning: Adding an axes using the same arguments as a previous axes currently reuses the earlier instance.  In a future version, a new instance will always be created and returned.  Meanwhile, this warning can be suppressed, and the future behavior ensured, by passing a unique label to each axes instance.\n",
      "  ax = fig.add_subplot(111, autoscale_on=False,\n"
     ]
    },
    {
     "name": "stdout",
     "output_type": "stream",
     "text": [
      "30\n",
      "The interpolation points are stored in the variable \"EF_target_pos\": \n",
      "[[ 25.89949494   9.89949494]\n",
      " [ 20.          -9.82831886]\n",
      " [ 10.           4.1122051 ]\n",
      " [-10.          -8.50093044]\n",
      " [-20.          -0.19575368]]\n",
      "The intermediate points are stored in the variable \"interpolated_points\"\n",
      "[0 1 0 1]\n",
      "[47 35 26 26]\n"
     ]
    },
    {
     "name": "stderr",
     "output_type": "stream",
     "text": [
      "<ipython-input-3-da811ff97447>:29: MatplotlibDeprecationWarning: Adding an axes using the same arguments as a previous axes currently reuses the earlier instance.  In a future version, a new instance will always be created and returned.  Meanwhile, this warning can be suppressed, and the future behavior ensured, by passing a unique label to each axes instance.\n",
      "  ax = fig.add_subplot(111, autoscale_on=False,\n"
     ]
    },
    {
     "name": "stdout",
     "output_type": "stream",
     "text": [
      "24\n",
      "The interpolation points are stored in the variable \"EF_target_pos\": \n",
      "[[ 20.77817459   7.77817459]\n",
      " [ 16.           2.59055446]\n",
      " [  8.           0.9058227 ]\n",
      " [ -8.          -1.37022632]\n",
      " [-16.          -7.79791766]]\n",
      "The intermediate points are stored in the variable \"interpolated_points\"\n",
      "[0 0 0 0]\n",
      "[50 26 28 15]\n"
     ]
    },
    {
     "name": "stderr",
     "output_type": "stream",
     "text": [
      "<ipython-input-3-da811ff97447>:29: MatplotlibDeprecationWarning: Adding an axes using the same arguments as a previous axes currently reuses the earlier instance.  In a future version, a new instance will always be created and returned.  Meanwhile, this warning can be suppressed, and the future behavior ensured, by passing a unique label to each axes instance.\n",
      "  ax = fig.add_subplot(111, autoscale_on=False,\n"
     ]
    },
    {
     "name": "stdout",
     "output_type": "stream",
     "text": [
      "31\n",
      "The interpolation points are stored in the variable \"EF_target_pos\": \n",
      "[[ 27.48528137   8.48528137]\n",
      " [ 20.66666667  -2.25771465]\n",
      " [ 10.33333333 -19.92481752]\n",
      " [-10.33333333  13.03389382]\n",
      " [-20.66666667  -7.79696585]]\n",
      "The intermediate points are stored in the variable \"interpolated_points\"\n",
      "[0 1 1 1]\n",
      "[54 41 30 26]\n"
     ]
    },
    {
     "name": "stderr",
     "output_type": "stream",
     "text": [
      "<ipython-input-3-da811ff97447>:29: MatplotlibDeprecationWarning: Adding an axes using the same arguments as a previous axes currently reuses the earlier instance.  In a future version, a new instance will always be created and returned.  Meanwhile, this warning can be suppressed, and the future behavior ensured, by passing a unique label to each axes instance.\n",
      "  ax = fig.add_subplot(111, autoscale_on=False,\n"
     ]
    },
    {
     "name": "stdout",
     "output_type": "stream",
     "text": [
      "26\n",
      "The interpolation points are stored in the variable \"EF_target_pos\": \n",
      "[[ 22.48528137   8.48528137]\n",
      " [ 17.33333333   0.54229326]\n",
      " [  8.66666667   2.41103917]\n",
      " [ -8.66666667  -4.42895141]\n",
      " [-17.33333333   6.62984151]]\n",
      "The intermediate points are stored in the variable \"interpolated_points\"\n",
      "[1 0 1 1]\n",
      "[37 16 57 47]\n"
     ]
    },
    {
     "name": "stderr",
     "output_type": "stream",
     "text": [
      "<ipython-input-3-da811ff97447>:29: MatplotlibDeprecationWarning: Adding an axes using the same arguments as a previous axes currently reuses the earlier instance.  In a future version, a new instance will always be created and returned.  Meanwhile, this warning can be suppressed, and the future behavior ensured, by passing a unique label to each axes instance.\n",
      "  ax = fig.add_subplot(111, autoscale_on=False,\n"
     ]
    },
    {
     "name": "stdout",
     "output_type": "stream",
     "text": [
      "26\n",
      "The interpolation points are stored in the variable \"EF_target_pos\": \n",
      "[[ 23.65685425   5.65685425]\n",
      " [ 17.33333333   7.38067123]\n",
      " [  8.66666667   7.54410866]\n",
      " [ -8.66666667  14.72053283]\n",
      " [-17.33333333   7.94018691]]\n",
      "The intermediate points are stored in the variable \"interpolated_points\"\n",
      "[0 1 1 0]\n",
      "[33 43 18 53]\n"
     ]
    },
    {
     "name": "stderr",
     "output_type": "stream",
     "text": [
      "<ipython-input-3-da811ff97447>:29: MatplotlibDeprecationWarning: Adding an axes using the same arguments as a previous axes currently reuses the earlier instance.  In a future version, a new instance will always be created and returned.  Meanwhile, this warning can be suppressed, and the future behavior ensured, by passing a unique label to each axes instance.\n",
      "  ax = fig.add_subplot(111, autoscale_on=False,\n"
     ]
    },
    {
     "name": "stdout",
     "output_type": "stream",
     "text": [
      "32\n",
      "The interpolation points are stored in the variable \"EF_target_pos\": \n",
      "[[ 29.07106781   7.07106781]\n",
      " [ 21.33333333  -2.97758928]\n",
      " [ 10.66666667  15.50567495]\n",
      " [-10.66666667   9.35395805]\n",
      " [-21.33333333   7.39528114]]\n",
      "The intermediate points are stored in the variable \"interpolated_points\"\n",
      "[1 0 1 0]\n",
      "[44 50 40 59]\n"
     ]
    },
    {
     "name": "stderr",
     "output_type": "stream",
     "text": [
      "<ipython-input-3-da811ff97447>:29: MatplotlibDeprecationWarning: Adding an axes using the same arguments as a previous axes currently reuses the earlier instance.  In a future version, a new instance will always be created and returned.  Meanwhile, this warning can be suppressed, and the future behavior ensured, by passing a unique label to each axes instance.\n",
      "  ax = fig.add_subplot(111, autoscale_on=False,\n"
     ]
    },
    {
     "name": "stdout",
     "output_type": "stream",
     "text": [
      "32\n",
      "The interpolation points are stored in the variable \"EF_target_pos\": \n",
      "[[ 29.07106781   7.07106781]\n",
      " [ 21.33333333  -5.81660505]\n",
      " [ 10.66666667   0.22562387]\n",
      " [-10.66666667 -13.88571484]\n",
      " [-21.33333333   9.67392611]]\n",
      "The intermediate points are stored in the variable \"interpolated_points\"\n",
      "[1 0 0 0]\n",
      "[50 43 54 32]\n"
     ]
    },
    {
     "name": "stderr",
     "output_type": "stream",
     "text": [
      "<ipython-input-3-da811ff97447>:29: MatplotlibDeprecationWarning: Adding an axes using the same arguments as a previous axes currently reuses the earlier instance.  In a future version, a new instance will always be created and returned.  Meanwhile, this warning can be suppressed, and the future behavior ensured, by passing a unique label to each axes instance.\n",
      "  ax = fig.add_subplot(111, autoscale_on=False,\n"
     ]
    },
    {
     "name": "stdout",
     "output_type": "stream",
     "text": [
      "37\n",
      "The interpolation points are stored in the variable \"EF_target_pos\": \n",
      "[[ 32.60660172  10.60660172]\n",
      " [ 24.66666667   0.10470877]\n",
      " [ 12.33333333 -23.445047  ]\n",
      " [-12.33333333  -1.23271627]\n",
      " [-24.66666667   3.30391701]]\n",
      "The intermediate points are stored in the variable \"interpolated_points\"\n",
      "[0 1 1 1]\n",
      "[42 37 34 53]\n"
     ]
    },
    {
     "name": "stderr",
     "output_type": "stream",
     "text": [
      "<ipython-input-3-da811ff97447>:29: MatplotlibDeprecationWarning: Adding an axes using the same arguments as a previous axes currently reuses the earlier instance.  In a future version, a new instance will always be created and returned.  Meanwhile, this warning can be suppressed, and the future behavior ensured, by passing a unique label to each axes instance.\n",
      "  ax = fig.add_subplot(111, autoscale_on=False,\n"
     ]
    },
    {
     "name": "stdout",
     "output_type": "stream",
     "text": [
      "32\n",
      "The interpolation points are stored in the variable \"EF_target_pos\": \n",
      "[[ 27.89949494   9.89949494]\n",
      " [ 21.33333333   1.92447986]\n",
      " [ 10.66666667   8.35400574]\n",
      " [-10.66666667   2.87583254]\n",
      " [-21.33333333   1.80448405]]\n",
      "The intermediate points are stored in the variable \"interpolated_points\"\n",
      "[1 1 0 1]\n",
      "[39 48 39 28]\n"
     ]
    },
    {
     "name": "stderr",
     "output_type": "stream",
     "text": [
      "<ipython-input-3-da811ff97447>:29: MatplotlibDeprecationWarning: Adding an axes using the same arguments as a previous axes currently reuses the earlier instance.  In a future version, a new instance will always be created and returned.  Meanwhile, this warning can be suppressed, and the future behavior ensured, by passing a unique label to each axes instance.\n",
      "  ax = fig.add_subplot(111, autoscale_on=False,\n"
     ]
    },
    {
     "name": "stdout",
     "output_type": "stream",
     "text": [
      "35\n",
      "The interpolation points are stored in the variable \"EF_target_pos\": \n",
      "[[ 31.77817459   7.77817459]\n",
      " [ 23.33333333   3.14872119]\n",
      " [ 11.66666667  16.07137564]\n",
      " [-11.66666667 -18.82992011]\n",
      " [-23.33333333  -3.02748765]]\n",
      "The intermediate points are stored in the variable \"interpolated_points\"\n",
      "[0 0 0 0]\n",
      "[20 57 59 41]\n"
     ]
    },
    {
     "name": "stderr",
     "output_type": "stream",
     "text": [
      "<ipython-input-3-da811ff97447>:29: MatplotlibDeprecationWarning: Adding an axes using the same arguments as a previous axes currently reuses the earlier instance.  In a future version, a new instance will always be created and returned.  Meanwhile, this warning can be suppressed, and the future behavior ensured, by passing a unique label to each axes instance.\n",
      "  ax = fig.add_subplot(111, autoscale_on=False,\n"
     ]
    },
    {
     "name": "stdout",
     "output_type": "stream",
     "text": [
      "29\n",
      "The interpolation points are stored in the variable \"EF_target_pos\": \n",
      "[[ 26.07106781   7.07106781]\n",
      " [ 19.33333333   7.11737099]\n",
      " [  9.66666667   5.40135873]\n",
      " [ -9.66666667  13.65464318]\n",
      " [-19.33333333   8.62308247]]\n",
      "The intermediate points are stored in the variable \"interpolated_points\"\n",
      "[1 0 0 1]\n",
      "[19 25 27 24]\n"
     ]
    },
    {
     "name": "stderr",
     "output_type": "stream",
     "text": [
      "<ipython-input-3-da811ff97447>:29: MatplotlibDeprecationWarning: Adding an axes using the same arguments as a previous axes currently reuses the earlier instance.  In a future version, a new instance will always be created and returned.  Meanwhile, this warning can be suppressed, and the future behavior ensured, by passing a unique label to each axes instance.\n",
      "  ax = fig.add_subplot(111, autoscale_on=False,\n"
     ]
    },
    {
     "name": "stdout",
     "output_type": "stream",
     "text": [
      "32\n",
      "The interpolation points are stored in the variable \"EF_target_pos\": \n",
      "[[ 29.07106781   7.07106781]\n",
      " [ 21.33333333  -4.02469929]\n",
      " [ 10.66666667  12.89237602]\n",
      " [-10.66666667   5.86491201]\n",
      " [-21.33333333   5.91538012]]\n",
      "The intermediate points are stored in the variable \"interpolated_points\"\n",
      "[1 1 0 0]\n",
      "[49 20 48 23]\n"
     ]
    },
    {
     "name": "stderr",
     "output_type": "stream",
     "text": [
      "<ipython-input-3-da811ff97447>:29: MatplotlibDeprecationWarning: Adding an axes using the same arguments as a previous axes currently reuses the earlier instance.  In a future version, a new instance will always be created and returned.  Meanwhile, this warning can be suppressed, and the future behavior ensured, by passing a unique label to each axes instance.\n",
      "  ax = fig.add_subplot(111, autoscale_on=False,\n"
     ]
    },
    {
     "name": "stdout",
     "output_type": "stream",
     "text": [
      "29\n",
      "The interpolation points are stored in the variable \"EF_target_pos\": \n",
      "[[ 25.77817459   7.77817459]\n",
      " [ 19.33333333  -9.31033974]\n",
      " [  9.66666667  17.9855659 ]\n",
      " [ -9.66666667   2.97277492]\n",
      " [-19.33333333  -4.79229667]]\n",
      "The intermediate points are stored in the variable \"interpolated_points\"\n",
      "[0 1 0 1]\n",
      "[56 37 45 30]\n"
     ]
    },
    {
     "name": "stderr",
     "output_type": "stream",
     "text": [
      "<ipython-input-3-da811ff97447>:29: MatplotlibDeprecationWarning: Adding an axes using the same arguments as a previous axes currently reuses the earlier instance.  In a future version, a new instance will always be created and returned.  Meanwhile, this warning can be suppressed, and the future behavior ensured, by passing a unique label to each axes instance.\n",
      "  ax = fig.add_subplot(111, autoscale_on=False,\n"
     ]
    },
    {
     "name": "stdout",
     "output_type": "stream",
     "text": [
      "27\n",
      "The interpolation points are stored in the variable \"EF_target_pos\": \n",
      "[[ 24.36396103   6.36396103]\n",
      " [ 18.          -1.15847102]\n",
      " [  9.           0.43800351]\n",
      " [ -9.           4.86599534]\n",
      " [-18.           0.85936677]]\n",
      "The intermediate points are stored in the variable \"interpolated_points\"\n",
      "[0 1 1 0]\n",
      "[59 32 17 44]\n"
     ]
    },
    {
     "name": "stderr",
     "output_type": "stream",
     "text": [
      "<ipython-input-3-da811ff97447>:29: MatplotlibDeprecationWarning: Adding an axes using the same arguments as a previous axes currently reuses the earlier instance.  In a future version, a new instance will always be created and returned.  Meanwhile, this warning can be suppressed, and the future behavior ensured, by passing a unique label to each axes instance.\n",
      "  ax = fig.add_subplot(111, autoscale_on=False,\n"
     ]
    },
    {
     "name": "stdout",
     "output_type": "stream",
     "text": [
      "31\n",
      "The interpolation points are stored in the variable \"EF_target_pos\": \n",
      "[[ 26.60660172  10.60660172]\n",
      " [ 20.66666667   3.04644188]\n",
      " [ 10.33333333  20.09506671]\n",
      " [-10.33333333 -11.70625905]\n",
      " [-20.66666667 -10.53117248]]\n",
      "The intermediate points are stored in the variable \"interpolated_points\"\n",
      "[1 1 0 1]\n",
      "[43 50 48 59]\n"
     ]
    },
    {
     "name": "stderr",
     "output_type": "stream",
     "text": [
      "<ipython-input-3-da811ff97447>:29: MatplotlibDeprecationWarning: Adding an axes using the same arguments as a previous axes currently reuses the earlier instance.  In a future version, a new instance will always be created and returned.  Meanwhile, this warning can be suppressed, and the future behavior ensured, by passing a unique label to each axes instance.\n",
      "  ax = fig.add_subplot(111, autoscale_on=False,\n"
     ]
    },
    {
     "name": "stdout",
     "output_type": "stream",
     "text": [
      "31\n",
      "The interpolation points are stored in the variable \"EF_target_pos\": \n",
      "[[ 27.48528137   8.48528137]\n",
      " [ 20.66666667   2.56829602]\n",
      " [ 10.33333333  -8.54632409]\n",
      " [-10.33333333  -8.9651701 ]\n",
      " [-20.66666667  -0.54048635]]\n",
      "The intermediate points are stored in the variable \"interpolated_points\"\n",
      "[0 0 1 0]\n",
      "[52 31 22 39]\n"
     ]
    },
    {
     "name": "stderr",
     "output_type": "stream",
     "text": [
      "<ipython-input-3-da811ff97447>:29: MatplotlibDeprecationWarning: Adding an axes using the same arguments as a previous axes currently reuses the earlier instance.  In a future version, a new instance will always be created and returned.  Meanwhile, this warning can be suppressed, and the future behavior ensured, by passing a unique label to each axes instance.\n",
      "  ax = fig.add_subplot(111, autoscale_on=False,\n"
     ]
    },
    {
     "name": "stdout",
     "output_type": "stream",
     "text": [
      "34\n",
      "The interpolation points are stored in the variable \"EF_target_pos\": \n",
      "[[ 29.89949494   9.89949494]\n",
      " [ 22.66666667   1.3993325 ]\n",
      " [ 11.33333333  11.83736743]\n",
      " [-11.33333333  16.08131659]\n",
      " [-22.66666667  -7.76011453]]\n",
      "The intermediate points are stored in the variable \"interpolated_points\"\n",
      "[1 0 1 1]\n",
      "[31 43 39 15]\n"
     ]
    },
    {
     "name": "stderr",
     "output_type": "stream",
     "text": [
      "<ipython-input-3-da811ff97447>:29: MatplotlibDeprecationWarning: Adding an axes using the same arguments as a previous axes currently reuses the earlier instance.  In a future version, a new instance will always be created and returned.  Meanwhile, this warning can be suppressed, and the future behavior ensured, by passing a unique label to each axes instance.\n",
      "  ax = fig.add_subplot(111, autoscale_on=False,\n"
     ]
    },
    {
     "name": "stdout",
     "output_type": "stream",
     "text": [
      "36\n",
      "The interpolation points are stored in the variable \"EF_target_pos\": \n",
      "[[ 31.3137085   11.3137085 ]\n",
      " [ 24.          -1.77045684]\n",
      " [ 12.           8.24763378]\n",
      " [-12.          14.52291046]\n",
      " [-24.          10.98558138]]\n",
      "The intermediate points are stored in the variable \"interpolated_points\"\n",
      "[1 1 1 0]\n",
      "[38 35 28 58]\n"
     ]
    },
    {
     "name": "stderr",
     "output_type": "stream",
     "text": [
      "<ipython-input-3-da811ff97447>:29: MatplotlibDeprecationWarning: Adding an axes using the same arguments as a previous axes currently reuses the earlier instance.  In a future version, a new instance will always be created and returned.  Meanwhile, this warning can be suppressed, and the future behavior ensured, by passing a unique label to each axes instance.\n",
      "  ax = fig.add_subplot(111, autoscale_on=False,\n"
     ]
    },
    {
     "name": "stdout",
     "output_type": "stream",
     "text": [
      "30\n",
      "The interpolation points are stored in the variable \"EF_target_pos\": \n",
      "[[ 27.65685425   5.65685425]\n",
      " [ 20.           5.58939624]\n",
      " [ 10.         -16.54073212]\n",
      " [-10.           2.42025819]\n",
      " [-20.           7.45990766]]\n",
      "The intermediate points are stored in the variable \"interpolated_points\"\n",
      "[0 1 0 1]\n",
      "[35 26 34 46]\n"
     ]
    },
    {
     "name": "stderr",
     "output_type": "stream",
     "text": [
      "<ipython-input-3-da811ff97447>:29: MatplotlibDeprecationWarning: Adding an axes using the same arguments as a previous axes currently reuses the earlier instance.  In a future version, a new instance will always be created and returned.  Meanwhile, this warning can be suppressed, and the future behavior ensured, by passing a unique label to each axes instance.\n",
      "  ax = fig.add_subplot(111, autoscale_on=False,\n"
     ]
    },
    {
     "name": "stdout",
     "output_type": "stream",
     "text": [
      "29\n",
      "The interpolation points are stored in the variable \"EF_target_pos\": \n",
      "[[ 25.77817459   7.77817459]\n",
      " [ 19.33333333   0.14007428]\n",
      " [  9.66666667 -11.49247863]\n",
      " [ -9.66666667  16.84045058]\n",
      " [-19.33333333   2.87584725]]\n",
      "The intermediate points are stored in the variable \"interpolated_points\"\n",
      "[1 1 1 0]\n",
      "[27 17 45 23]\n"
     ]
    },
    {
     "name": "stderr",
     "output_type": "stream",
     "text": [
      "<ipython-input-3-da811ff97447>:29: MatplotlibDeprecationWarning: Adding an axes using the same arguments as a previous axes currently reuses the earlier instance.  In a future version, a new instance will always be created and returned.  Meanwhile, this warning can be suppressed, and the future behavior ensured, by passing a unique label to each axes instance.\n",
      "  ax = fig.add_subplot(111, autoscale_on=False,\n"
     ]
    },
    {
     "name": "stdout",
     "output_type": "stream",
     "text": [
      "32\n",
      "The interpolation points are stored in the variable \"EF_target_pos\": \n",
      "[[ 27.89949494   9.89949494]\n",
      " [ 21.33333333   0.45284538]\n",
      " [ 10.66666667  11.33725317]\n",
      " [-10.66666667 -20.21197414]\n",
      " [-21.33333333 -10.92568117]]\n",
      "The intermediate points are stored in the variable \"interpolated_points\"\n",
      "[0 0 0 0]\n",
      "[35 20 55 26]\n"
     ]
    },
    {
     "name": "stderr",
     "output_type": "stream",
     "text": [
      "<ipython-input-3-da811ff97447>:29: MatplotlibDeprecationWarning: Adding an axes using the same arguments as a previous axes currently reuses the earlier instance.  In a future version, a new instance will always be created and returned.  Meanwhile, this warning can be suppressed, and the future behavior ensured, by passing a unique label to each axes instance.\n",
      "  ax = fig.add_subplot(111, autoscale_on=False,\n"
     ]
    },
    {
     "name": "stdout",
     "output_type": "stream",
     "text": [
      "36\n",
      "The interpolation points are stored in the variable \"EF_target_pos\": \n",
      "[[ 31.60660172  10.60660172]\n",
      " [ 24.           1.59739212]\n",
      " [ 12.         -21.03473699]\n",
      " [-12.         -15.64918363]\n",
      " [-24.          -1.10398817]]\n",
      "The intermediate points are stored in the variable \"interpolated_points\"\n",
      "[1 0 1 1]\n",
      "[51 36 17 35]\n"
     ]
    },
    {
     "name": "stderr",
     "output_type": "stream",
     "text": [
      "<ipython-input-3-da811ff97447>:29: MatplotlibDeprecationWarning: Adding an axes using the same arguments as a previous axes currently reuses the earlier instance.  In a future version, a new instance will always be created and returned.  Meanwhile, this warning can be suppressed, and the future behavior ensured, by passing a unique label to each axes instance.\n",
      "  ax = fig.add_subplot(111, autoscale_on=False,\n"
     ]
    },
    {
     "name": "stdout",
     "output_type": "stream",
     "text": [
      "29\n",
      "The interpolation points are stored in the variable \"EF_target_pos\": \n",
      "[[ 25.77817459   7.77817459]\n",
      " [ 19.33333333  -2.22213341]\n",
      " [  9.66666667 -10.15250804]\n",
      " [ -9.66666667  13.76884431]\n",
      " [-19.33333333  -0.48178023]]\n",
      "The intermediate points are stored in the variable \"interpolated_points\"\n",
      "[0 1 0 1]\n",
      "[25 25 19 41]\n"
     ]
    },
    {
     "name": "stderr",
     "output_type": "stream",
     "text": [
      "<ipython-input-3-da811ff97447>:29: MatplotlibDeprecationWarning: Adding an axes using the same arguments as a previous axes currently reuses the earlier instance.  In a future version, a new instance will always be created and returned.  Meanwhile, this warning can be suppressed, and the future behavior ensured, by passing a unique label to each axes instance.\n",
      "  ax = fig.add_subplot(111, autoscale_on=False,\n"
     ]
    },
    {
     "name": "stdout",
     "output_type": "stream",
     "text": [
      "30\n",
      "The interpolation points are stored in the variable \"EF_target_pos\": \n",
      "[[ 25.89949494   9.89949494]\n",
      " [ 20.          10.29663759]\n",
      " [ 10.         -14.09039319]\n",
      " [-10.          18.22167724]\n",
      " [-20.           8.51517975]]\n",
      "The intermediate points are stored in the variable \"interpolated_points\"\n",
      "[1 0 1 0]\n",
      "[47 15 52 35]\n"
     ]
    },
    {
     "name": "stderr",
     "output_type": "stream",
     "text": [
      "<ipython-input-3-da811ff97447>:29: MatplotlibDeprecationWarning: Adding an axes using the same arguments as a previous axes currently reuses the earlier instance.  In a future version, a new instance will always be created and returned.  Meanwhile, this warning can be suppressed, and the future behavior ensured, by passing a unique label to each axes instance.\n",
      "  ax = fig.add_subplot(111, autoscale_on=False,\n"
     ]
    },
    {
     "name": "stdout",
     "output_type": "stream",
     "text": [
      "28\n",
      "The interpolation points are stored in the variable \"EF_target_pos\": \n",
      "[[ 23.89949494   9.89949494]\n",
      " [ 18.66666667   3.94937057]\n",
      " [  9.33333333  -5.47099076]\n",
      " [ -9.33333333  -4.98837316]\n",
      " [-18.66666667   9.12987559]]\n",
      "The intermediate points are stored in the variable \"interpolated_points\"\n",
      "[1 1 0 1]\n",
      "[44 49 46 50]\n"
     ]
    },
    {
     "name": "stderr",
     "output_type": "stream",
     "text": [
      "<ipython-input-3-da811ff97447>:29: MatplotlibDeprecationWarning: Adding an axes using the same arguments as a previous axes currently reuses the earlier instance.  In a future version, a new instance will always be created and returned.  Meanwhile, this warning can be suppressed, and the future behavior ensured, by passing a unique label to each axes instance.\n",
      "  ax = fig.add_subplot(111, autoscale_on=False,\n"
     ]
    },
    {
     "name": "stdout",
     "output_type": "stream",
     "text": [
      "32\n",
      "The interpolation points are stored in the variable \"EF_target_pos\": \n",
      "[[ 28.77817459   7.77817459]\n",
      " [ 21.33333333  -8.26806356]\n",
      " [ 10.66666667  11.39772925]\n",
      " [-10.66666667   8.42612881]\n",
      " [-21.33333333  -6.90355751]]\n",
      "The intermediate points are stored in the variable \"interpolated_points\"\n",
      "[1 0 0 0]\n",
      "[21 37 42 53]\n"
     ]
    },
    {
     "name": "stderr",
     "output_type": "stream",
     "text": [
      "<ipython-input-3-da811ff97447>:29: MatplotlibDeprecationWarning: Adding an axes using the same arguments as a previous axes currently reuses the earlier instance.  In a future version, a new instance will always be created and returned.  Meanwhile, this warning can be suppressed, and the future behavior ensured, by passing a unique label to each axes instance.\n",
      "  ax = fig.add_subplot(111, autoscale_on=False,\n"
     ]
    },
    {
     "name": "stdout",
     "output_type": "stream",
     "text": [
      "23\n",
      "The interpolation points are stored in the variable \"EF_target_pos\": \n",
      "[[ 20.36396103   6.36396103]\n",
      " [ 15.33333333  -7.23325239]\n",
      " [  7.66666667   9.12669406]\n",
      " [ -7.66666667  10.78446079]\n",
      " [-15.33333333  -7.10969377]]\n",
      "The intermediate points are stored in the variable \"interpolated_points\"\n",
      "[0 0 1 1]\n",
      "[54 17 57 28]\n"
     ]
    },
    {
     "name": "stderr",
     "output_type": "stream",
     "text": [
      "<ipython-input-3-da811ff97447>:29: MatplotlibDeprecationWarning: Adding an axes using the same arguments as a previous axes currently reuses the earlier instance.  In a future version, a new instance will always be created and returned.  Meanwhile, this warning can be suppressed, and the future behavior ensured, by passing a unique label to each axes instance.\n",
      "  ax = fig.add_subplot(111, autoscale_on=False,\n"
     ]
    },
    {
     "name": "stdout",
     "output_type": "stream",
     "text": [
      "26\n",
      "The interpolation points are stored in the variable \"EF_target_pos\": \n",
      "[[ 22.48528137   8.48528137]\n",
      " [ 17.33333333   2.30190938]\n",
      " [  8.66666667  11.03006342]\n",
      " [ -8.66666667  -9.6065505 ]\n",
      " [-17.33333333   0.78791812]]\n",
      "The intermediate points are stored in the variable \"interpolated_points\"\n",
      "[1 0 0 0]\n",
      "[55 44 37 26]\n"
     ]
    },
    {
     "name": "stderr",
     "output_type": "stream",
     "text": [
      "<ipython-input-3-da811ff97447>:29: MatplotlibDeprecationWarning: Adding an axes using the same arguments as a previous axes currently reuses the earlier instance.  In a future version, a new instance will always be created and returned.  Meanwhile, this warning can be suppressed, and the future behavior ensured, by passing a unique label to each axes instance.\n",
      "  ax = fig.add_subplot(111, autoscale_on=False,\n"
     ]
    },
    {
     "name": "stdout",
     "output_type": "stream",
     "text": [
      "31\n",
      "The interpolation points are stored in the variable \"EF_target_pos\": \n",
      "[[ 27.48528137   8.48528137]\n",
      " [ 20.66666667  -4.45336703]\n",
      " [ 10.33333333  -6.71997321]\n",
      " [-10.33333333  -4.18003424]\n",
      " [-20.66666667  -6.28634454]]\n",
      "The intermediate points are stored in the variable \"interpolated_points\"\n",
      "[1 1 1 1]\n",
      "[32 22 47 44]\n"
     ]
    },
    {
     "name": "stderr",
     "output_type": "stream",
     "text": [
      "<ipython-input-3-da811ff97447>:29: MatplotlibDeprecationWarning: Adding an axes using the same arguments as a previous axes currently reuses the earlier instance.  In a future version, a new instance will always be created and returned.  Meanwhile, this warning can be suppressed, and the future behavior ensured, by passing a unique label to each axes instance.\n",
      "  ax = fig.add_subplot(111, autoscale_on=False,\n"
     ]
    },
    {
     "name": "stdout",
     "output_type": "stream",
     "text": [
      "38\n",
      "The interpolation points are stored in the variable \"EF_target_pos\": \n",
      "[[ 33.89949494   9.89949494]\n",
      " [ 25.33333333   2.89698199]\n",
      " [ 12.66666667  20.24410809]\n",
      " [-12.66666667   2.44167481]\n",
      " [-25.33333333   3.33923066]]\n",
      "The intermediate points are stored in the variable \"interpolated_points\"\n",
      "[0 1 1 1]\n",
      "[24 47 57 21]\n"
     ]
    },
    {
     "name": "stderr",
     "output_type": "stream",
     "text": [
      "<ipython-input-3-da811ff97447>:29: MatplotlibDeprecationWarning: Adding an axes using the same arguments as a previous axes currently reuses the earlier instance.  In a future version, a new instance will always be created and returned.  Meanwhile, this warning can be suppressed, and the future behavior ensured, by passing a unique label to each axes instance.\n",
      "  ax = fig.add_subplot(111, autoscale_on=False,\n"
     ]
    },
    {
     "name": "stdout",
     "output_type": "stream",
     "text": [
      "39\n",
      "The interpolation points are stored in the variable \"EF_target_pos\": \n",
      "[[ 34.3137085   11.3137085 ]\n",
      " [ 26.          -4.32325619]\n",
      " [ 13.          18.9250714 ]\n",
      " [-13.          -9.73598979]\n",
      " [-26.           2.75800036]]\n",
      "The intermediate points are stored in the variable \"interpolated_points\"\n",
      "[0 1 0 1]\n",
      "[52 59 43 36]\n"
     ]
    },
    {
     "name": "stderr",
     "output_type": "stream",
     "text": [
      "<ipython-input-3-da811ff97447>:29: MatplotlibDeprecationWarning: Adding an axes using the same arguments as a previous axes currently reuses the earlier instance.  In a future version, a new instance will always be created and returned.  Meanwhile, this warning can be suppressed, and the future behavior ensured, by passing a unique label to each axes instance.\n",
      "  ax = fig.add_subplot(111, autoscale_on=False,\n"
     ]
    },
    {
     "name": "stdout",
     "output_type": "stream",
     "text": [
      "27\n",
      "The interpolation points are stored in the variable \"EF_target_pos\": \n",
      "[[ 23.77817459   7.77817459]\n",
      " [ 18.           0.10036445]\n",
      " [  9.         -13.73464375]\n",
      " [ -9.          13.91149687]\n",
      " [-18.          -9.12450092]]\n",
      "The intermediate points are stored in the variable \"interpolated_points\"\n",
      "[1 1 0 0]\n",
      "[28 35 38 33]\n"
     ]
    },
    {
     "name": "stderr",
     "output_type": "stream",
     "text": [
      "<ipython-input-3-da811ff97447>:29: MatplotlibDeprecationWarning: Adding an axes using the same arguments as a previous axes currently reuses the earlier instance.  In a future version, a new instance will always be created and returned.  Meanwhile, this warning can be suppressed, and the future behavior ensured, by passing a unique label to each axes instance.\n",
      "  ax = fig.add_subplot(111, autoscale_on=False,\n"
     ]
    },
    {
     "name": "stdout",
     "output_type": "stream",
     "text": [
      "30\n",
      "The interpolation points are stored in the variable \"EF_target_pos\": \n",
      "[[ 26.48528137   8.48528137]\n",
      " [ 20.          -0.55121546]\n",
      " [ 10.           9.68787859]\n",
      " [-10.          -3.04449725]\n",
      " [-20.          -5.4205499 ]]\n",
      "The intermediate points are stored in the variable \"interpolated_points\"\n",
      "[0 1 0 0]\n",
      "[33 18 57 30]\n"
     ]
    },
    {
     "name": "stderr",
     "output_type": "stream",
     "text": [
      "<ipython-input-3-da811ff97447>:29: MatplotlibDeprecationWarning: Adding an axes using the same arguments as a previous axes currently reuses the earlier instance.  In a future version, a new instance will always be created and returned.  Meanwhile, this warning can be suppressed, and the future behavior ensured, by passing a unique label to each axes instance.\n",
      "  ax = fig.add_subplot(111, autoscale_on=False,\n"
     ]
    },
    {
     "name": "stdout",
     "output_type": "stream",
     "text": [
      "24\n",
      "The interpolation points are stored in the variable \"EF_target_pos\": \n",
      "[[ 21.07106781   7.07106781]\n",
      " [ 16.           2.4551783 ]\n",
      " [  8.          11.92838889]\n",
      " [ -8.           2.69428877]\n",
      " [-16.          -4.22352981]]\n",
      "The intermediate points are stored in the variable \"interpolated_points\"\n",
      "[0 0 0 1]\n",
      "[43 23 40 58]\n"
     ]
    },
    {
     "name": "stderr",
     "output_type": "stream",
     "text": [
      "<ipython-input-3-da811ff97447>:29: MatplotlibDeprecationWarning: Adding an axes using the same arguments as a previous axes currently reuses the earlier instance.  In a future version, a new instance will always be created and returned.  Meanwhile, this warning can be suppressed, and the future behavior ensured, by passing a unique label to each axes instance.\n",
      "  ax = fig.add_subplot(111, autoscale_on=False,\n"
     ]
    },
    {
     "name": "stdout",
     "output_type": "stream",
     "text": [
      "30\n",
      "The interpolation points are stored in the variable \"EF_target_pos\": \n",
      "[[ 25.60660172  10.60660172]\n",
      " [ 20.           4.08915806]\n",
      " [ 10.           8.89798313]\n",
      " [-10.          12.65271191]\n",
      " [-20.          -8.37368642]]\n",
      "The intermediate points are stored in the variable \"interpolated_points\"\n",
      "[0 1 0 0]\n",
      "[57 55 21 50]\n"
     ]
    },
    {
     "name": "stderr",
     "output_type": "stream",
     "text": [
      "<ipython-input-3-da811ff97447>:29: MatplotlibDeprecationWarning: Adding an axes using the same arguments as a previous axes currently reuses the earlier instance.  In a future version, a new instance will always be created and returned.  Meanwhile, this warning can be suppressed, and the future behavior ensured, by passing a unique label to each axes instance.\n",
      "  ax = fig.add_subplot(111, autoscale_on=False,\n"
     ]
    },
    {
     "name": "stdout",
     "output_type": "stream",
     "text": [
      "29\n",
      "The interpolation points are stored in the variable \"EF_target_pos\": \n",
      "[[ 25.77817459   7.77817459]\n",
      " [ 19.33333333  -4.95673713]\n",
      " [  9.66666667  16.84988404]\n",
      " [ -9.66666667 -19.35740698]\n",
      " [-19.33333333  -7.75824991]]\n",
      "The intermediate points are stored in the variable \"interpolated_points\"\n",
      "[1 0 0 0]\n",
      "[20 43 59 22]\n"
     ]
    },
    {
     "name": "stderr",
     "output_type": "stream",
     "text": [
      "<ipython-input-3-da811ff97447>:29: MatplotlibDeprecationWarning: Adding an axes using the same arguments as a previous axes currently reuses the earlier instance.  In a future version, a new instance will always be created and returned.  Meanwhile, this warning can be suppressed, and the future behavior ensured, by passing a unique label to each axes instance.\n",
      "  ax = fig.add_subplot(111, autoscale_on=False,\n"
     ]
    },
    {
     "name": "stdout",
     "output_type": "stream",
     "text": [
      "35\n",
      "The interpolation points are stored in the variable \"EF_target_pos\": \n",
      "[[ 30.89949494   9.89949494]\n",
      " [ 23.33333333   7.37226459]\n",
      " [ 11.66666667  23.17462894]\n",
      " [-11.66666667 -11.64680535]\n",
      " [-23.33333333   4.32666495]]\n",
      "The intermediate points are stored in the variable \"interpolated_points\"\n",
      "[0 1 0 1]\n",
      "[37 34 54 54]\n"
     ]
    },
    {
     "name": "stderr",
     "output_type": "stream",
     "text": [
      "<ipython-input-3-da811ff97447>:29: MatplotlibDeprecationWarning: Adding an axes using the same arguments as a previous axes currently reuses the earlier instance.  In a future version, a new instance will always be created and returned.  Meanwhile, this warning can be suppressed, and the future behavior ensured, by passing a unique label to each axes instance.\n",
      "  ax = fig.add_subplot(111, autoscale_on=False,\n"
     ]
    },
    {
     "name": "stdout",
     "output_type": "stream",
     "text": [
      "36\n",
      "The interpolation points are stored in the variable \"EF_target_pos\": \n",
      "[[ 31.3137085   11.3137085 ]\n",
      " [ 24.          -9.57517979]\n",
      " [ 12.         -13.93792666]\n",
      " [-12.          10.50951277]\n",
      " [-24.           5.9074215 ]]\n",
      "The intermediate points are stored in the variable \"interpolated_points\"\n",
      "[1 1 0 1]\n",
      "[59 59 35 38]\n"
     ]
    },
    {
     "name": "stderr",
     "output_type": "stream",
     "text": [
      "<ipython-input-3-da811ff97447>:29: MatplotlibDeprecationWarning: Adding an axes using the same arguments as a previous axes currently reuses the earlier instance.  In a future version, a new instance will always be created and returned.  Meanwhile, this warning can be suppressed, and the future behavior ensured, by passing a unique label to each axes instance.\n",
      "  ax = fig.add_subplot(111, autoscale_on=False,\n"
     ]
    },
    {
     "name": "stdout",
     "output_type": "stream",
     "text": [
      "35\n",
      "The interpolation points are stored in the variable \"EF_target_pos\": \n",
      "[[ 30.3137085   11.3137085 ]\n",
      " [ 23.33333333  11.05473552]\n",
      " [ 11.66666667  -4.5774934 ]\n",
      " [-11.66666667  17.83884422]\n",
      " [-23.33333333   0.89131828]]\n",
      "The intermediate points are stored in the variable \"interpolated_points\"\n",
      "[1 1 1 1]\n",
      "[35 28 29 46]\n"
     ]
    },
    {
     "name": "stderr",
     "output_type": "stream",
     "text": [
      "<ipython-input-3-da811ff97447>:29: MatplotlibDeprecationWarning: Adding an axes using the same arguments as a previous axes currently reuses the earlier instance.  In a future version, a new instance will always be created and returned.  Meanwhile, this warning can be suppressed, and the future behavior ensured, by passing a unique label to each axes instance.\n",
      "  ax = fig.add_subplot(111, autoscale_on=False,\n"
     ]
    },
    {
     "name": "stdout",
     "output_type": "stream",
     "text": [
      "28\n",
      "The interpolation points are stored in the variable \"EF_target_pos\": \n",
      "[[ 24.48528137   8.48528137]\n",
      " [ 18.66666667  -5.88829725]\n",
      " [  9.33333333  15.77905272]\n",
      " [ -9.33333333 -12.78618786]\n",
      " [-18.66666667  -0.37904157]]\n",
      "The intermediate points are stored in the variable \"interpolated_points\"\n",
      "[0 0 1 0]\n",
      "[51 30 36 23]\n"
     ]
    },
    {
     "name": "stderr",
     "output_type": "stream",
     "text": [
      "<ipython-input-3-da811ff97447>:29: MatplotlibDeprecationWarning: Adding an axes using the same arguments as a previous axes currently reuses the earlier instance.  In a future version, a new instance will always be created and returned.  Meanwhile, this warning can be suppressed, and the future behavior ensured, by passing a unique label to each axes instance.\n",
      "  ax = fig.add_subplot(111, autoscale_on=False,\n"
     ]
    },
    {
     "name": "stdout",
     "output_type": "stream",
     "text": [
      "31\n",
      "The interpolation points are stored in the variable \"EF_target_pos\": \n",
      "[[ 26.60660172  10.60660172]\n",
      " [ 20.66666667  10.34432757]\n",
      " [ 10.33333333  -1.43716224]\n",
      " [-10.33333333   8.34668717]\n",
      " [-20.66666667   0.80003879]]\n",
      "The intermediate points are stored in the variable \"interpolated_points\"\n",
      "[0 0 0 1]\n",
      "[24 58 48 22]\n"
     ]
    },
    {
     "name": "stderr",
     "output_type": "stream",
     "text": [
      "<ipython-input-3-da811ff97447>:29: MatplotlibDeprecationWarning: Adding an axes using the same arguments as a previous axes currently reuses the earlier instance.  In a future version, a new instance will always be created and returned.  Meanwhile, this warning can be suppressed, and the future behavior ensured, by passing a unique label to each axes instance.\n",
      "  ax = fig.add_subplot(111, autoscale_on=False,\n"
     ]
    }
   ],
   "source": [
    "for i in range(250,375):\n",
    "    create_simulation(i,50)"
   ]
  }
 ],
 "metadata": {
  "kernelspec": {
   "display_name": "Python 3",
   "language": "python",
   "name": "python3"
  },
  "language_info": {
   "codemirror_mode": {
    "name": "ipython",
    "version": 3
   },
   "file_extension": ".py",
   "mimetype": "text/x-python",
   "name": "python",
   "nbconvert_exporter": "python",
   "pygments_lexer": "ipython3",
   "version": "3.8.10"
  }
 },
 "nbformat": 4,
 "nbformat_minor": 2
}
