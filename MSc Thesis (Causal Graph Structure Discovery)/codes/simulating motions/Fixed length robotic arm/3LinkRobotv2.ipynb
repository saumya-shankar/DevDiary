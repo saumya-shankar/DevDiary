{
 "cells": [
  {
   "cell_type": "code",
   "execution_count": 1,
   "metadata": {},
   "outputs": [],
   "source": [
    "import numpy as np\n",
    "import matplotlib.pyplot as plt\n",
    "from celluloid import Camera\n",
    "from IPython.display import HTML\n",
    "import pandas as pd\n",
    "import random"
   ]
  },
  {
   "cell_type": "code",
   "execution_count": 2,
   "metadata": {},
   "outputs": [],
   "source": [
    "\n",
    "class ThreeLinkArm:\n",
    "    \n",
    "    def __init__(self):\n",
    "        # Set parameters for the 3-link planar arm\n",
    "        self.theta1 = np.deg2rad(0)\n",
    "        self.theta2 = np.deg2rad(90)\n",
    "        self.theta3 = np.deg2rad(90)\n",
    "        self.l1 = np.random.randint(2,8)\n",
    "        self.l2 = np.random.randint(2,8)\n",
    "        self.l3 = np.random.randint(2,8)\n",
    "\n",
    "    def forwardKinematics(self, theta1, theta2, theta3):\n",
    "        # Define the homogeneous transformation matrices for the 3-link planar arm\n",
    "        self.theta1 = theta1\n",
    "        self.theta2 = theta2\n",
    "        self.theta3 = theta3\n",
    "        self.t01 = np.matrix([[np.cos(self.theta1), -np.sin(self.theta1), 0], [np.sin(self.theta1), np.cos(self.theta1), 0], [0, 0, 1]])\n",
    "        self.t12 = np.matrix([[np.cos(self.theta2), -np.sin(self.theta2), self.l1], [np.sin(self.theta2), np.cos(self.theta2), 0], [0, 0, 1]])\n",
    "        self.t23 = np.matrix([[np.cos(self.theta3), -np.sin(self.theta3), self.l2], [np.sin(self.theta3), np.cos(self.theta3), 0], [0, 0, 1]])        \n",
    "        self.t3end = np.matrix([[np.cos(self.theta3), -np.sin(self.theta3), self.l3], [np.sin(self.theta3), np.cos(self.theta3), 0], [0, 0, 1]])\n",
    "        self.t0end = self.t01*self.t12*self.t23*self.t3end\n",
    "        return self.t0end\n",
    "    \n",
    "    def findJointPos(self): \n",
    "        # Find the x,y position of each joint and end effector so it can be plotted\n",
    "        # Find the transformation matrices for joint 2 and joint 3\n",
    "        self.t02 = self.t01*self.t12\n",
    "        self.t03 = self.t01*self.t12*self.t23\n",
    "        # Find the x, y coordinates for joints 2 and 3. Put them in a list j2 = [x,y]\n",
    "        j2 = [ self.t02[0, 2], self.t02[1, 2] ]\n",
    "        j3 = [ self.t03[0, 2], self.t03[1, 2] ]\n",
    "        endeff = [self.t0end[0,2],self.t0end[1,2]]\n",
    "        \n",
    "        self.jnt2pos, self.jnt3pos, self.endEffPos = j2,j3,endeff\n",
    "        return j2,j3,endeff\n",
    "    \n",
    "    def geomJacobian(self, jnt2pos=None, jnt3pos=None, endEffPos=None):\n",
    "        if jnt2pos is None:\n",
    "            jnt2pos=self.jnt2pos \n",
    "        if jnt3pos is None:\n",
    "            jnt3pos=self.jnt3pos\n",
    "        if endEffPos is None:\n",
    "            endEffPos=self.endEffPos\n",
    "        ai = np.array([0,0,1])\n",
    "        col0 = np.array(endEffPos + [0])\n",
    "        col1 = np.array(endEffPos + [0]) - np.array(jnt2pos + [0])\n",
    "        col2 = np.array(endEffPos + [0]) - np.array(jnt3pos + [0])\n",
    "        J = np.array([np.cross(ai,col0), np.cross(ai,col1), np.cross(ai,col2)]).T \n",
    "        return J"
   ]
  },
  {
   "cell_type": "code",
   "execution_count": 3,
   "metadata": {},
   "outputs": [],
   "source": [
    "def plotArm(jnt2pos, jnt3pos, endEffectPos, target=None, step=None):\n",
    "    # set up figure\n",
    "    fig = plt.figure(figsize=(10,10))\n",
    "    ax = fig.add_subplot(111, autoscale_on=False, xlim=(-25, 25), ylim=(-25, 25))\n",
    "    ax.grid()\n",
    "    \n",
    "    if step is not None:\n",
    "        step = np.array(step)\n",
    "        plt.scatter(step[:, 0],step[:, 1], color='lightblue', marker='o')\n",
    "        plt.plot(step[:, 0],step[:, 1], color='lightblue')\n",
    "    if target is not None:\n",
    "        target = np.array(target)\n",
    "        plt.scatter(target[:, 0],target[:, 1], color='red', marker='o')\n",
    "        \n",
    "    line, = ax.plot([], [], 'o-', lw=4, mew=5)\n",
    "    time_text = ax.text(0.02, 0.95, '', transform=ax.transAxes)\n",
    "\n",
    "    line.set_data([], [])\n",
    "    time_text.set_text('')\n",
    "    x = np.array([0, jnt2pos[0], jnt3pos[0], endEffectPos[0]])\n",
    "    y = np.array([0, jnt2pos[1], jnt3pos[1], endEffectPos[1]])\n",
    "    line.set_data((x,y))\n",
    "    \n",
    "    plt.show()\n",
    "    \n",
    "# gif animation plotter\n",
    "def plotArm2(jnt2pos, jnt3pos, endEffectPos,x2,y2,target=None, step=None, fig=None, camera=None):\n",
    "    # set up figure\n",
    "    ax = fig.add_subplot(111, autoscale_on=False,\n",
    "                         xlim=(-25, 25), ylim=(-25, 25))\n",
    "    ax.grid()\n",
    "    line, = ax.plot([], [], 'o-', lw=4, mew=5, color='lightblue')\n",
    "    time_text = ax.text(0.02, 0.95, '', transform=ax.transAxes)\n",
    "\n",
    "    line.set_data([], [])\n",
    "    time_text.set_text('')\n",
    "    x = np.array([0, jnt2pos[0], jnt3pos[0], endEffectPos[0]])\n",
    "    y = np.array([0, jnt2pos[1], jnt3pos[1], endEffectPos[1]])\n",
    "    line.set_data((x,y))\n",
    "    \n",
    "    plt.plot([jnt3pos[0],x2[0]],[jnt3pos[1],y2[0]],'o-', lw=2, mew=5, color='black')\n",
    "    plt.plot([jnt3pos[0],x2[1]],[jnt3pos[1],y2[1]],'o-', lw=2, mew=5, color='black')\n",
    "\n",
    "\n",
    "    if step is not None:\n",
    "        step = np.array(step)\n",
    "        plt.scatter(step[:, 0],step[:, 1], color='lightblue', marker='o')\n",
    "        plt.plot(step[:, 0],step[:, 1], color='lightblue')\n",
    "    if target is not None:\n",
    "        target = np.array(target)\n",
    "        plt.scatter(target[:, 0],target[:, 1], color='red', marker='o')\n",
    "\n",
    "    camera.snap()"
   ]
  },
  {
   "cell_type": "markdown",
   "metadata": {},
   "source": [
    "In this part, let's plan some simple polynomial trajectories in the work space. "
   ]
  },
  {
   "cell_type": "markdown",
   "metadata": {},
   "source": [
    "First, setup a simple environment with the arm manipulator and four intermediate interpolation points."
   ]
  },
  {
   "cell_type": "code",
   "execution_count": 4,
   "metadata": {},
   "outputs": [],
   "source": [
    "def create_simulation(animation_index,samples):\n",
    "    \n",
    "    # Setup our new manipulator\n",
    "    arm = ThreeLinkArm()\n",
    "    \n",
    "    # define the initial configuration of the manipulator (you are welcomed to try other values)\n",
    "    initTheta = [np.deg2rad(0),np.deg2rad(45),np.deg2rad(-45)]\n",
    "\n",
    "    # Initialise the arm with the initial values\n",
    "    _ = arm.forwardKinematics(*initTheta)\n",
    "\n",
    "    # Get the initial end-effector position \n",
    "    init_joint2pos, init_joint3pos, EF_init_pos = arm.findJointPos()\n",
    "\n",
    "    # Define the target postions of the end-effector\n",
    "    # EF_target_pos = np.array([[EF_init_pos[0], 6.,2.,-4.,-8.],\n",
    "    #                           [EF_init_pos[1], -6.,8.,-5.,6.]]).T\n",
    "    ##Choose points randomly, choose x equally spaced and y randomly\n",
    "    L=arm.l1+arm.l2+arm.l3\n",
    "    print(L)\n",
    "    x_points=np.array([2/3*L, 1/3*L, -1/3*L, -2/3*L])\n",
    "\n",
    "    y_points=[]\n",
    "    R=3*L/4\n",
    "    for i in range(4):\n",
    "        y_points.append(random.uniform(-1*np.sqrt(R**2-x_points[i]**2),\n",
    "                                          np.sqrt(R**2-x_points[i]**2)))\n",
    "    y_points=np.array(y_points)\n",
    "    \n",
    "    EF_target_pos = np.array([[EF_init_pos[0], x_points[0],x_points[1],x_points[2],x_points[3]],\n",
    "                              [EF_init_pos[1], y_points[0],y_points[1],y_points[2],y_points[3]]]).T\n",
    "\n",
    "    # Plot the pose of the arm\n",
    "    #plotArm(*arm.findJointPos(), target=EF_target_pos)\n",
    "    print(f\"The interpolation points are stored in the variable \\\"EF_target_pos\\\": \\n{EF_target_pos}\")\n",
    "    \n",
    "    pol = np.polyfit(EF_target_pos[:, 0], EF_target_pos[:, 1], EF_target_pos.shape[0]-1)  # polynomial coefficients\n",
    "    \n",
    "    # Plotting the planned trajectory\n",
    "    #epsilon = 100\n",
    "    epsilon = samples\n",
    "    \n",
    "    xx = np.linspace(EF_target_pos[0,0],EF_target_pos[-1,0], epsilon)\n",
    "    yy = np.polyval(pol,xx)   \n",
    "    curve = np.hstack([xx[:, None], yy[:, None]]) \n",
    "    \n",
    "    interpolated_points=curve\n",
    "\n",
    "#     plotArm(*arm.findJointPos(), target=EF_target_pos, step=interpolated_points)\n",
    "    print(f\"The intermediate points are stored in the variable \\\"interpolated_points\\\"\")\n",
    "    \n",
    "    # set the current E-F position for the IK loop\n",
    "    joint2pos, joint3pos, endEffectorPos = init_joint2pos, init_joint3pos, EF_init_pos\n",
    "    # set the initial robot configuration\n",
    "    newTheta = initTheta\n",
    "\n",
    "    # Set up the animation generator\n",
    "    fig = plt.figure(figsize=(10,10))\n",
    "    camera = Camera(fig)\n",
    "    \n",
    "    temp_eeff_angle=np.append(np.linspace(0,45,int(interpolated_points.shape[0]/8)),\n",
    "                          np.linspace(45,0,int(interpolated_points.shape[0]/8)))\n",
    "    \n",
    "    wrist_len=np.random.randint(2,arm.l3+1)\n",
    "    \n",
    "    keypoints_data=pd.DataFrame(columns=range((4+2)*2),dtype=float)\n",
    "\n",
    "    for i in range(interpolated_points.shape[0]):\n",
    "        J = arm.geomJacobian()\n",
    "\n",
    "        newgoal = interpolated_points[i, :]\n",
    "        deltaStep = newgoal - endEffectorPos\n",
    "        subtarget = np.array([deltaStep[0], deltaStep[1], 0]) \n",
    "\n",
    "        radTheta = np.linalg.pinv(J) @ subtarget\n",
    "        newTheta = newTheta + radTheta\n",
    "\n",
    "        # ----------- Do forward kinematics to plot the arm ---------------\n",
    "        _ = arm.forwardKinematics(newTheta[0],newTheta[1],newTheta[2])\n",
    "        joint2pos, joint3pos, endEffectorPos = arm.findJointPos()\n",
    "\n",
    "        x2=[]\n",
    "        y2=[]\n",
    "\n",
    "        x2=x2+[arm.l1*np.cos(newTheta[0]) \\\n",
    "               +arm.l2*np.cos(newTheta[0]+newTheta[1]) \\\n",
    "               +wrist_len*np.cos(newTheta[0]+newTheta[1]+newTheta[2] \\\n",
    "                                 +np.deg2rad(temp_eeff_angle[i%len(temp_eeff_angle)]))]\n",
    "    \n",
    "        y2=y2+[arm.l1*np.sin(newTheta[0]) \\\n",
    "               +arm.l2*np.sin(newTheta[0]+newTheta[1]) \\\n",
    "               +wrist_len*np.sin(newTheta[0]+newTheta[1]+newTheta[2] \\\n",
    "                                 +np.deg2rad(temp_eeff_angle[i%len(temp_eeff_angle)]))]\n",
    "\n",
    "        x2=x2+[arm.l1*np.cos(newTheta[0]) \\\n",
    "               +arm.l2*np.cos(newTheta[0]+newTheta[1]) \\\n",
    "               +wrist_len*np.cos(newTheta[0]+newTheta[1]+newTheta[2] \\\n",
    "                                 -np.deg2rad(temp_eeff_angle[i%len(temp_eeff_angle)]))]\n",
    "    \n",
    "        y2=y2+[arm.l1*np.sin(newTheta[0]) \\\n",
    "               +arm.l2*np.sin(newTheta[0]+newTheta[1]) \\\n",
    "               +wrist_len*np.sin(newTheta[0]+newTheta[1]+newTheta[2] \\\n",
    "                                 -np.deg2rad(temp_eeff_angle[i%len(temp_eeff_angle)]))]\n",
    "\n",
    "        temp_keypoints=np.array([0,0,joint2pos[0],joint2pos[1],joint3pos[0],joint3pos[1],\n",
    "                                 endEffectorPos[0],endEffectorPos[1]])\n",
    "        \n",
    "        temp_keypoints=np.append(temp_keypoints,np.array([x2[0],y2[0],x2[1],y2[1]]))\n",
    "        \n",
    "        keypoints_data = keypoints_data.append(pd.DataFrame(temp_keypoints[None,:],columns=keypoints_data.columns),\n",
    "                                               ignore_index = True)\n",
    "        \n",
    "        plotArm2(joint2pos, joint3pos, endEffectorPos,x2,y2, target=EF_target_pos, fig=fig, camera=camera)\n",
    "\n",
    "\n",
    "    plt.close()\n",
    "    animation = camera.animate()\n",
    "    animation.save('./animated_motionv9/animated_motion'+str(animation_index)+'.gif', writer = 'imagemagick')\n",
    "    \n",
    "    # create the adjacency matrix\n",
    "    adj_mat=np.zeros((4+2,4+2))\n",
    "    adj_mat[0][1]=1\n",
    "    adj_mat[1][2]=1\n",
    "    adj_mat[2][3]=1\n",
    "    adj_mat[2][4]=1\n",
    "    adj_mat[2][5]=1\n",
    "    \n",
    "    pd.DataFrame(adj_mat).astype(int).to_csv('./animated_motionv9/adj_mat'+str(animation_index)+'.csv')\n",
    "    keypoints_data.to_csv('./animated_motionv9/ts_data'+str(animation_index)+'.csv')    \n",
    "    "
   ]
  },
  {
   "cell_type": "code",
   "execution_count": 5,
   "metadata": {},
   "outputs": [],
   "source": [
    "# create_simulation(7001,50)"
   ]
  },
  {
   "cell_type": "code",
   "execution_count": 6,
   "metadata": {},
   "outputs": [],
   "source": [
    "import os\n",
    "os.environ['MAGICK_THREAD_LIMIT'] = '2'"
   ]
  },
  {
   "cell_type": "code",
   "execution_count": 7,
   "metadata": {},
   "outputs": [
    {
     "name": "stdout",
     "output_type": "stream",
     "text": [
      "12\n",
      "The interpolation points are stored in the variable \"EF_target_pos\": \n",
      "[[10.24264069  4.24264069]\n",
      " [ 8.          0.75815333]\n",
      " [ 4.          5.52128093]\n",
      " [-4.          1.10996765]\n",
      " [-8.         -2.89535057]]\n",
      "The intermediate points are stored in the variable \"interpolated_points\"\n"
     ]
    },
    {
     "name": "stderr",
     "output_type": "stream",
     "text": [
      "<ipython-input-3-e5129fb5eb54>:29: MatplotlibDeprecationWarning: Adding an axes using the same arguments as a previous axes currently reuses the earlier instance.  In a future version, a new instance will always be created and returned.  Meanwhile, this warning can be suppressed, and the future behavior ensured, by passing a unique label to each axes instance.\n",
      "  ax = fig.add_subplot(111, autoscale_on=False,\n"
     ]
    },
    {
     "name": "stdout",
     "output_type": "stream",
     "text": [
      "12\n",
      "The interpolation points are stored in the variable \"EF_target_pos\": \n",
      "[[10.82842712  2.82842712]\n",
      " [ 8.          1.71338282]\n",
      " [ 4.          0.9656855 ]\n",
      " [-4.         -7.39554916]\n",
      " [-8.          3.2379108 ]]\n",
      "The intermediate points are stored in the variable \"interpolated_points\"\n"
     ]
    },
    {
     "name": "stderr",
     "output_type": "stream",
     "text": [
      "<ipython-input-3-e5129fb5eb54>:29: MatplotlibDeprecationWarning: Adding an axes using the same arguments as a previous axes currently reuses the earlier instance.  In a future version, a new instance will always be created and returned.  Meanwhile, this warning can be suppressed, and the future behavior ensured, by passing a unique label to each axes instance.\n",
      "  ax = fig.add_subplot(111, autoscale_on=False,\n"
     ]
    },
    {
     "name": "stdout",
     "output_type": "stream",
     "text": [
      "11\n",
      "The interpolation points are stored in the variable \"EF_target_pos\": \n",
      "[[10.12132034  2.12132034]\n",
      " [ 7.33333333  3.1278991 ]\n",
      " [ 3.66666667 -6.50165878]\n",
      " [-3.66666667  6.79425452]\n",
      " [-7.33333333  0.61429   ]]\n",
      "The intermediate points are stored in the variable \"interpolated_points\"\n"
     ]
    },
    {
     "name": "stderr",
     "output_type": "stream",
     "text": [
      "<ipython-input-3-e5129fb5eb54>:29: MatplotlibDeprecationWarning: Adding an axes using the same arguments as a previous axes currently reuses the earlier instance.  In a future version, a new instance will always be created and returned.  Meanwhile, this warning can be suppressed, and the future behavior ensured, by passing a unique label to each axes instance.\n",
      "  ax = fig.add_subplot(111, autoscale_on=False,\n"
     ]
    },
    {
     "name": "stdout",
     "output_type": "stream",
     "text": [
      "14\n",
      "The interpolation points are stored in the variable \"EF_target_pos\": \n",
      "[[11.94974747  4.94974747]\n",
      " [ 9.33333333  3.65337459]\n",
      " [ 4.66666667 -8.00541687]\n",
      " [-4.66666667  0.4878759 ]\n",
      " [-9.33333333 -2.92382547]]\n",
      "The intermediate points are stored in the variable \"interpolated_points\"\n"
     ]
    },
    {
     "name": "stderr",
     "output_type": "stream",
     "text": [
      "<ipython-input-3-e5129fb5eb54>:29: MatplotlibDeprecationWarning: Adding an axes using the same arguments as a previous axes currently reuses the earlier instance.  In a future version, a new instance will always be created and returned.  Meanwhile, this warning can be suppressed, and the future behavior ensured, by passing a unique label to each axes instance.\n",
      "  ax = fig.add_subplot(111, autoscale_on=False,\n"
     ]
    },
    {
     "name": "stdout",
     "output_type": "stream",
     "text": [
      "13\n",
      "The interpolation points are stored in the variable \"EF_target_pos\": \n",
      "[[11.82842712  2.82842712]\n",
      " [ 8.66666667 -1.42435307]\n",
      " [ 4.33333333  1.952676  ]\n",
      " [-4.33333333 -4.96137953]\n",
      " [-8.66666667 -4.45010147]]\n",
      "The intermediate points are stored in the variable \"interpolated_points\"\n"
     ]
    },
    {
     "name": "stderr",
     "output_type": "stream",
     "text": [
      "<ipython-input-3-e5129fb5eb54>:29: MatplotlibDeprecationWarning: Adding an axes using the same arguments as a previous axes currently reuses the earlier instance.  In a future version, a new instance will always be created and returned.  Meanwhile, this warning can be suppressed, and the future behavior ensured, by passing a unique label to each axes instance.\n",
      "  ax = fig.add_subplot(111, autoscale_on=False,\n"
     ]
    },
    {
     "name": "stdout",
     "output_type": "stream",
     "text": [
      "18\n",
      "The interpolation points are stored in the variable \"EF_target_pos\": \n",
      "[[ 16.24264069   4.24264069]\n",
      " [ 12.           3.6633994 ]\n",
      " [  6.          -1.52865546]\n",
      " [ -6.           8.07726868]\n",
      " [-12.           0.40680477]]\n",
      "The intermediate points are stored in the variable \"interpolated_points\"\n"
     ]
    },
    {
     "name": "stderr",
     "output_type": "stream",
     "text": [
      "<ipython-input-3-e5129fb5eb54>:29: MatplotlibDeprecationWarning: Adding an axes using the same arguments as a previous axes currently reuses the earlier instance.  In a future version, a new instance will always be created and returned.  Meanwhile, this warning can be suppressed, and the future behavior ensured, by passing a unique label to each axes instance.\n",
      "  ax = fig.add_subplot(111, autoscale_on=False,\n"
     ]
    },
    {
     "name": "stdout",
     "output_type": "stream",
     "text": [
      "16\n",
      "The interpolation points are stored in the variable \"EF_target_pos\": \n",
      "[[ 15.12132034   2.12132034]\n",
      " [ 10.66666667   3.17885858]\n",
      " [  5.33333333  -4.03075288]\n",
      " [ -5.33333333  -7.3045851 ]\n",
      " [-10.66666667   2.469458  ]]\n",
      "The intermediate points are stored in the variable \"interpolated_points\"\n"
     ]
    },
    {
     "name": "stderr",
     "output_type": "stream",
     "text": [
      "<ipython-input-3-e5129fb5eb54>:29: MatplotlibDeprecationWarning: Adding an axes using the same arguments as a previous axes currently reuses the earlier instance.  In a future version, a new instance will always be created and returned.  Meanwhile, this warning can be suppressed, and the future behavior ensured, by passing a unique label to each axes instance.\n",
      "  ax = fig.add_subplot(111, autoscale_on=False,\n"
     ]
    },
    {
     "name": "stdout",
     "output_type": "stream",
     "text": [
      "14\n",
      "The interpolation points are stored in the variable \"EF_target_pos\": \n",
      "[[12.53553391  3.53553391]\n",
      " [ 9.33333333  3.45748149]\n",
      " [ 4.66666667  8.26191143]\n",
      " [-4.66666667 -2.17366868]\n",
      " [-9.33333333 -1.97180868]]\n",
      "The intermediate points are stored in the variable \"interpolated_points\"\n"
     ]
    },
    {
     "name": "stderr",
     "output_type": "stream",
     "text": [
      "<ipython-input-3-e5129fb5eb54>:29: MatplotlibDeprecationWarning: Adding an axes using the same arguments as a previous axes currently reuses the earlier instance.  In a future version, a new instance will always be created and returned.  Meanwhile, this warning can be suppressed, and the future behavior ensured, by passing a unique label to each axes instance.\n",
      "  ax = fig.add_subplot(111, autoscale_on=False,\n"
     ]
    },
    {
     "name": "stdout",
     "output_type": "stream",
     "text": [
      "14\n",
      "The interpolation points are stored in the variable \"EF_target_pos\": \n",
      "[[12.53553391  3.53553391]\n",
      " [ 9.33333333 -4.56107856]\n",
      " [ 4.66666667 -8.93813642]\n",
      " [-4.66666667  1.22407041]\n",
      " [-9.33333333 -2.45875758]]\n",
      "The intermediate points are stored in the variable \"interpolated_points\"\n"
     ]
    },
    {
     "name": "stderr",
     "output_type": "stream",
     "text": [
      "<ipython-input-3-e5129fb5eb54>:29: MatplotlibDeprecationWarning: Adding an axes using the same arguments as a previous axes currently reuses the earlier instance.  In a future version, a new instance will always be created and returned.  Meanwhile, this warning can be suppressed, and the future behavior ensured, by passing a unique label to each axes instance.\n",
      "  ax = fig.add_subplot(111, autoscale_on=False,\n"
     ]
    },
    {
     "name": "stdout",
     "output_type": "stream",
     "text": [
      "15\n",
      "The interpolation points are stored in the variable \"EF_target_pos\": \n",
      "[[ 13.24264069   4.24264069]\n",
      " [ 10.          -3.56717005]\n",
      " [  5.           4.23132951]\n",
      " [ -5.           3.2349746 ]\n",
      " [-10.           4.76232384]]\n",
      "The intermediate points are stored in the variable \"interpolated_points\"\n"
     ]
    },
    {
     "name": "stderr",
     "output_type": "stream",
     "text": [
      "<ipython-input-3-e5129fb5eb54>:29: MatplotlibDeprecationWarning: Adding an axes using the same arguments as a previous axes currently reuses the earlier instance.  In a future version, a new instance will always be created and returned.  Meanwhile, this warning can be suppressed, and the future behavior ensured, by passing a unique label to each axes instance.\n",
      "  ax = fig.add_subplot(111, autoscale_on=False,\n"
     ]
    },
    {
     "name": "stdout",
     "output_type": "stream",
     "text": [
      "17\n",
      "The interpolation points are stored in the variable \"EF_target_pos\": \n",
      "[[ 14.94974747   4.94974747]\n",
      " [ 11.33333333  -5.66952745]\n",
      " [  5.66666667  -5.72887074]\n",
      " [ -5.66666667   7.19896635]\n",
      " [-11.33333333   4.3895222 ]]\n",
      "The intermediate points are stored in the variable \"interpolated_points\"\n"
     ]
    },
    {
     "name": "stderr",
     "output_type": "stream",
     "text": [
      "<ipython-input-3-e5129fb5eb54>:29: MatplotlibDeprecationWarning: Adding an axes using the same arguments as a previous axes currently reuses the earlier instance.  In a future version, a new instance will always be created and returned.  Meanwhile, this warning can be suppressed, and the future behavior ensured, by passing a unique label to each axes instance.\n",
      "  ax = fig.add_subplot(111, autoscale_on=False,\n"
     ]
    },
    {
     "name": "stdout",
     "output_type": "stream",
     "text": [
      "20\n",
      "The interpolation points are stored in the variable \"EF_target_pos\": \n",
      "[[ 17.94974747   4.94974747]\n",
      " [ 13.33333333  -0.62408004]\n",
      " [  6.66666667  -9.51992928]\n",
      " [ -6.66666667  -4.8114658 ]\n",
      " [-13.33333333   4.76451558]]\n",
      "The intermediate points are stored in the variable \"interpolated_points\"\n"
     ]
    },
    {
     "name": "stderr",
     "output_type": "stream",
     "text": [
      "<ipython-input-3-e5129fb5eb54>:29: MatplotlibDeprecationWarning: Adding an axes using the same arguments as a previous axes currently reuses the earlier instance.  In a future version, a new instance will always be created and returned.  Meanwhile, this warning can be suppressed, and the future behavior ensured, by passing a unique label to each axes instance.\n",
      "  ax = fig.add_subplot(111, autoscale_on=False,\n"
     ]
    },
    {
     "name": "stdout",
     "output_type": "stream",
     "text": [
      "20\n",
      "The interpolation points are stored in the variable \"EF_target_pos\": \n",
      "[[ 18.24264069   4.24264069]\n",
      " [ 13.33333333  -4.27163061]\n",
      " [  6.66666667 -11.08376979]\n",
      " [ -6.66666667  -9.55859292]\n",
      " [-13.33333333   0.72230238]]\n",
      "The intermediate points are stored in the variable \"interpolated_points\"\n"
     ]
    },
    {
     "name": "stderr",
     "output_type": "stream",
     "text": [
      "<ipython-input-3-e5129fb5eb54>:29: MatplotlibDeprecationWarning: Adding an axes using the same arguments as a previous axes currently reuses the earlier instance.  In a future version, a new instance will always be created and returned.  Meanwhile, this warning can be suppressed, and the future behavior ensured, by passing a unique label to each axes instance.\n",
      "  ax = fig.add_subplot(111, autoscale_on=False,\n"
     ]
    },
    {
     "name": "stdout",
     "output_type": "stream",
     "text": [
      "14\n",
      "The interpolation points are stored in the variable \"EF_target_pos\": \n",
      "[[12.24264069  4.24264069]\n",
      " [ 9.33333333 -0.28270298]\n",
      " [ 4.66666667  4.03023314]\n",
      " [-4.66666667 -6.54108951]\n",
      " [-9.33333333 -4.70181762]]\n",
      "The intermediate points are stored in the variable \"interpolated_points\"\n"
     ]
    },
    {
     "name": "stderr",
     "output_type": "stream",
     "text": [
      "<ipython-input-3-e5129fb5eb54>:29: MatplotlibDeprecationWarning: Adding an axes using the same arguments as a previous axes currently reuses the earlier instance.  In a future version, a new instance will always be created and returned.  Meanwhile, this warning can be suppressed, and the future behavior ensured, by passing a unique label to each axes instance.\n",
      "  ax = fig.add_subplot(111, autoscale_on=False,\n"
     ]
    },
    {
     "name": "stdout",
     "output_type": "stream",
     "text": [
      "11\n",
      "The interpolation points are stored in the variable \"EF_target_pos\": \n",
      "[[10.12132034  2.12132034]\n",
      " [ 7.33333333 -2.60825951]\n",
      " [ 3.66666667  0.84198702]\n",
      " [-3.66666667  5.08613141]\n",
      " [-7.33333333  0.10761365]]\n",
      "The intermediate points are stored in the variable \"interpolated_points\"\n"
     ]
    },
    {
     "name": "stderr",
     "output_type": "stream",
     "text": [
      "<ipython-input-3-e5129fb5eb54>:29: MatplotlibDeprecationWarning: Adding an axes using the same arguments as a previous axes currently reuses the earlier instance.  In a future version, a new instance will always be created and returned.  Meanwhile, this warning can be suppressed, and the future behavior ensured, by passing a unique label to each axes instance.\n",
      "  ax = fig.add_subplot(111, autoscale_on=False,\n"
     ]
    },
    {
     "name": "stdout",
     "output_type": "stream",
     "text": [
      "14\n",
      "The interpolation points are stored in the variable \"EF_target_pos\": \n",
      "[[13.12132034  2.12132034]\n",
      " [ 9.33333333  3.15786859]\n",
      " [ 4.66666667  5.69398101]\n",
      " [-4.66666667  4.75466723]\n",
      " [-9.33333333 -3.2594042 ]]\n",
      "The intermediate points are stored in the variable \"interpolated_points\"\n"
     ]
    },
    {
     "name": "stderr",
     "output_type": "stream",
     "text": [
      "<ipython-input-3-e5129fb5eb54>:29: MatplotlibDeprecationWarning: Adding an axes using the same arguments as a previous axes currently reuses the earlier instance.  In a future version, a new instance will always be created and returned.  Meanwhile, this warning can be suppressed, and the future behavior ensured, by passing a unique label to each axes instance.\n",
      "  ax = fig.add_subplot(111, autoscale_on=False,\n"
     ]
    },
    {
     "name": "stdout",
     "output_type": "stream",
     "text": [
      "12\n",
      "The interpolation points are stored in the variable \"EF_target_pos\": \n",
      "[[10.24264069  4.24264069]\n",
      " [ 8.          2.1222881 ]\n",
      " [ 4.          6.56391258]\n",
      " [-4.         -5.86781869]\n",
      " [-8.         -2.76131786]]\n",
      "The intermediate points are stored in the variable \"interpolated_points\"\n"
     ]
    },
    {
     "name": "stderr",
     "output_type": "stream",
     "text": [
      "<ipython-input-3-e5129fb5eb54>:29: MatplotlibDeprecationWarning: Adding an axes using the same arguments as a previous axes currently reuses the earlier instance.  In a future version, a new instance will always be created and returned.  Meanwhile, this warning can be suppressed, and the future behavior ensured, by passing a unique label to each axes instance.\n",
      "  ax = fig.add_subplot(111, autoscale_on=False,\n"
     ]
    },
    {
     "name": "stdout",
     "output_type": "stream",
     "text": [
      "12\n",
      "The interpolation points are stored in the variable \"EF_target_pos\": \n",
      "[[10.82842712  2.82842712]\n",
      " [ 8.         -3.66019635]\n",
      " [ 4.         -4.02165302]\n",
      " [-4.         -2.17443545]\n",
      " [-8.          2.81737035]]\n",
      "The intermediate points are stored in the variable \"interpolated_points\"\n"
     ]
    },
    {
     "name": "stderr",
     "output_type": "stream",
     "text": [
      "<ipython-input-3-e5129fb5eb54>:29: MatplotlibDeprecationWarning: Adding an axes using the same arguments as a previous axes currently reuses the earlier instance.  In a future version, a new instance will always be created and returned.  Meanwhile, this warning can be suppressed, and the future behavior ensured, by passing a unique label to each axes instance.\n",
      "  ax = fig.add_subplot(111, autoscale_on=False,\n"
     ]
    },
    {
     "name": "stdout",
     "output_type": "stream",
     "text": [
      "15\n",
      "The interpolation points are stored in the variable \"EF_target_pos\": \n",
      "[[ 12.94974747   4.94974747]\n",
      " [ 10.          -3.08163619]\n",
      " [  5.          -8.08975245]\n",
      " [ -5.          -8.61837388]\n",
      " [-10.          -0.81001015]]\n",
      "The intermediate points are stored in the variable \"interpolated_points\"\n"
     ]
    },
    {
     "name": "stderr",
     "output_type": "stream",
     "text": [
      "<ipython-input-3-e5129fb5eb54>:29: MatplotlibDeprecationWarning: Adding an axes using the same arguments as a previous axes currently reuses the earlier instance.  In a future version, a new instance will always be created and returned.  Meanwhile, this warning can be suppressed, and the future behavior ensured, by passing a unique label to each axes instance.\n",
      "  ax = fig.add_subplot(111, autoscale_on=False,\n"
     ]
    },
    {
     "name": "stdout",
     "output_type": "stream",
     "text": [
      "11\n",
      "The interpolation points are stored in the variable \"EF_target_pos\": \n",
      "[[ 9.82842712  2.82842712]\n",
      " [ 7.33333333  0.14044249]\n",
      " [ 3.66666667  6.99593748]\n",
      " [-3.66666667  3.56026013]\n",
      " [-7.33333333  1.15209157]]\n",
      "The intermediate points are stored in the variable \"interpolated_points\"\n"
     ]
    },
    {
     "name": "stderr",
     "output_type": "stream",
     "text": [
      "<ipython-input-3-e5129fb5eb54>:29: MatplotlibDeprecationWarning: Adding an axes using the same arguments as a previous axes currently reuses the earlier instance.  In a future version, a new instance will always be created and returned.  Meanwhile, this warning can be suppressed, and the future behavior ensured, by passing a unique label to each axes instance.\n",
      "  ax = fig.add_subplot(111, autoscale_on=False,\n"
     ]
    },
    {
     "name": "stdout",
     "output_type": "stream",
     "text": [
      "13\n",
      "The interpolation points are stored in the variable \"EF_target_pos\": \n",
      "[[11.24264069  4.24264069]\n",
      " [ 8.66666667 -1.84093886]\n",
      " [ 4.33333333  8.3842617 ]\n",
      " [-4.33333333  0.32684706]\n",
      " [-8.66666667 -1.55452402]]\n",
      "The intermediate points are stored in the variable \"interpolated_points\"\n"
     ]
    },
    {
     "name": "stderr",
     "output_type": "stream",
     "text": [
      "<ipython-input-3-e5129fb5eb54>:29: MatplotlibDeprecationWarning: Adding an axes using the same arguments as a previous axes currently reuses the earlier instance.  In a future version, a new instance will always be created and returned.  Meanwhile, this warning can be suppressed, and the future behavior ensured, by passing a unique label to each axes instance.\n",
      "  ax = fig.add_subplot(111, autoscale_on=False,\n"
     ]
    },
    {
     "name": "stdout",
     "output_type": "stream",
     "text": [
      "12\n",
      "The interpolation points are stored in the variable \"EF_target_pos\": \n",
      "[[ 9.94974747  4.94974747]\n",
      " [ 8.         -2.06952195]\n",
      " [ 4.          5.22608107]\n",
      " [-4.         -5.66571948]\n",
      " [-8.         -2.40436006]]\n",
      "The intermediate points are stored in the variable \"interpolated_points\"\n"
     ]
    },
    {
     "name": "stderr",
     "output_type": "stream",
     "text": [
      "<ipython-input-3-e5129fb5eb54>:29: MatplotlibDeprecationWarning: Adding an axes using the same arguments as a previous axes currently reuses the earlier instance.  In a future version, a new instance will always be created and returned.  Meanwhile, this warning can be suppressed, and the future behavior ensured, by passing a unique label to each axes instance.\n",
      "  ax = fig.add_subplot(111, autoscale_on=False,\n"
     ]
    },
    {
     "name": "stdout",
     "output_type": "stream",
     "text": [
      "13\n",
      "The interpolation points are stored in the variable \"EF_target_pos\": \n",
      "[[11.53553391  3.53553391]\n",
      " [ 8.66666667 -2.59506531]\n",
      " [ 4.33333333  6.77993196]\n",
      " [-4.33333333 -5.88536503]\n",
      " [-8.66666667  0.92694221]]\n",
      "The intermediate points are stored in the variable \"interpolated_points\"\n"
     ]
    },
    {
     "name": "stderr",
     "output_type": "stream",
     "text": [
      "<ipython-input-3-e5129fb5eb54>:29: MatplotlibDeprecationWarning: Adding an axes using the same arguments as a previous axes currently reuses the earlier instance.  In a future version, a new instance will always be created and returned.  Meanwhile, this warning can be suppressed, and the future behavior ensured, by passing a unique label to each axes instance.\n",
      "  ax = fig.add_subplot(111, autoscale_on=False,\n"
     ]
    },
    {
     "name": "stdout",
     "output_type": "stream",
     "text": [
      "17\n",
      "The interpolation points are stored in the variable \"EF_target_pos\": \n",
      "[[ 14.94974747   4.94974747]\n",
      " [ 11.33333333   5.29020286]\n",
      " [  5.66666667  -5.29137476]\n",
      " [ -5.66666667  -8.11812829]\n",
      " [-11.33333333  -4.87442928]]\n",
      "The intermediate points are stored in the variable \"interpolated_points\"\n"
     ]
    },
    {
     "name": "stderr",
     "output_type": "stream",
     "text": [
      "<ipython-input-3-e5129fb5eb54>:29: MatplotlibDeprecationWarning: Adding an axes using the same arguments as a previous axes currently reuses the earlier instance.  In a future version, a new instance will always be created and returned.  Meanwhile, this warning can be suppressed, and the future behavior ensured, by passing a unique label to each axes instance.\n",
      "  ax = fig.add_subplot(111, autoscale_on=False,\n"
     ]
    },
    {
     "name": "stdout",
     "output_type": "stream",
     "text": [
      "18\n",
      "The interpolation points are stored in the variable \"EF_target_pos\": \n",
      "[[ 16.53553391   3.53553391]\n",
      " [ 12.          -1.08162918]\n",
      " [  6.           1.61013266]\n",
      " [ -6.          10.46014245]\n",
      " [-12.          -1.98083993]]\n",
      "The intermediate points are stored in the variable \"interpolated_points\"\n"
     ]
    },
    {
     "name": "stderr",
     "output_type": "stream",
     "text": [
      "<ipython-input-3-e5129fb5eb54>:29: MatplotlibDeprecationWarning: Adding an axes using the same arguments as a previous axes currently reuses the earlier instance.  In a future version, a new instance will always be created and returned.  Meanwhile, this warning can be suppressed, and the future behavior ensured, by passing a unique label to each axes instance.\n",
      "  ax = fig.add_subplot(111, autoscale_on=False,\n"
     ]
    },
    {
     "name": "stdout",
     "output_type": "stream",
     "text": [
      "14\n",
      "The interpolation points are stored in the variable \"EF_target_pos\": \n",
      "[[11.94974747  4.94974747]\n",
      " [ 9.33333333 -2.03911249]\n",
      " [ 4.66666667 -7.87827535]\n",
      " [-4.66666667 -2.44410443]\n",
      " [-9.33333333  1.58749947]]\n",
      "The intermediate points are stored in the variable \"interpolated_points\"\n"
     ]
    },
    {
     "name": "stderr",
     "output_type": "stream",
     "text": [
      "<ipython-input-3-e5129fb5eb54>:29: MatplotlibDeprecationWarning: Adding an axes using the same arguments as a previous axes currently reuses the earlier instance.  In a future version, a new instance will always be created and returned.  Meanwhile, this warning can be suppressed, and the future behavior ensured, by passing a unique label to each axes instance.\n",
      "  ax = fig.add_subplot(111, autoscale_on=False,\n"
     ]
    },
    {
     "name": "stdout",
     "output_type": "stream",
     "text": [
      "11\n",
      "The interpolation points are stored in the variable \"EF_target_pos\": \n",
      "[[ 9.53553391  3.53553391]\n",
      " [ 7.33333333 -0.30021076]\n",
      " [ 3.66666667  0.9138748 ]\n",
      " [-3.66666667 -7.21937066]\n",
      " [-7.33333333 -3.46678258]]\n",
      "The intermediate points are stored in the variable \"interpolated_points\"\n"
     ]
    },
    {
     "name": "stderr",
     "output_type": "stream",
     "text": [
      "<ipython-input-3-e5129fb5eb54>:29: MatplotlibDeprecationWarning: Adding an axes using the same arguments as a previous axes currently reuses the earlier instance.  In a future version, a new instance will always be created and returned.  Meanwhile, this warning can be suppressed, and the future behavior ensured, by passing a unique label to each axes instance.\n",
      "  ax = fig.add_subplot(111, autoscale_on=False,\n"
     ]
    },
    {
     "name": "stdout",
     "output_type": "stream",
     "text": [
      "13\n",
      "The interpolation points are stored in the variable \"EF_target_pos\": \n",
      "[[12.12132034  2.12132034]\n",
      " [ 8.66666667 -3.4678557 ]\n",
      " [ 4.33333333 -2.61729569]\n",
      " [-4.33333333 -7.58255644]\n",
      " [-8.66666667 -4.43012791]]\n",
      "The intermediate points are stored in the variable \"interpolated_points\"\n"
     ]
    },
    {
     "name": "stderr",
     "output_type": "stream",
     "text": [
      "<ipython-input-3-e5129fb5eb54>:29: MatplotlibDeprecationWarning: Adding an axes using the same arguments as a previous axes currently reuses the earlier instance.  In a future version, a new instance will always be created and returned.  Meanwhile, this warning can be suppressed, and the future behavior ensured, by passing a unique label to each axes instance.\n",
      "  ax = fig.add_subplot(111, autoscale_on=False,\n"
     ]
    },
    {
     "name": "stdout",
     "output_type": "stream",
     "text": [
      "12\n",
      "The interpolation points are stored in the variable \"EF_target_pos\": \n",
      "[[11.41421356  1.41421356]\n",
      " [ 8.          1.49269157]\n",
      " [ 4.         -4.11294921]\n",
      " [-4.         -2.32123401]\n",
      " [-8.         -2.48854893]]\n",
      "The intermediate points are stored in the variable \"interpolated_points\"\n"
     ]
    },
    {
     "name": "stderr",
     "output_type": "stream",
     "text": [
      "<ipython-input-3-e5129fb5eb54>:29: MatplotlibDeprecationWarning: Adding an axes using the same arguments as a previous axes currently reuses the earlier instance.  In a future version, a new instance will always be created and returned.  Meanwhile, this warning can be suppressed, and the future behavior ensured, by passing a unique label to each axes instance.\n",
      "  ax = fig.add_subplot(111, autoscale_on=False,\n"
     ]
    },
    {
     "name": "stdout",
     "output_type": "stream",
     "text": [
      "12\n",
      "The interpolation points are stored in the variable \"EF_target_pos\": \n",
      "[[10.24264069  4.24264069]\n",
      " [ 8.         -3.01031277]\n",
      " [ 4.          7.11090226]\n",
      " [-4.          3.72799072]\n",
      " [-8.         -0.04247468]]\n",
      "The intermediate points are stored in the variable \"interpolated_points\"\n"
     ]
    },
    {
     "name": "stderr",
     "output_type": "stream",
     "text": [
      "<ipython-input-3-e5129fb5eb54>:29: MatplotlibDeprecationWarning: Adding an axes using the same arguments as a previous axes currently reuses the earlier instance.  In a future version, a new instance will always be created and returned.  Meanwhile, this warning can be suppressed, and the future behavior ensured, by passing a unique label to each axes instance.\n",
      "  ax = fig.add_subplot(111, autoscale_on=False,\n"
     ]
    },
    {
     "name": "stdout",
     "output_type": "stream",
     "text": [
      "12\n",
      "The interpolation points are stored in the variable \"EF_target_pos\": \n",
      "[[ 9.94974747  4.94974747]\n",
      " [ 8.          2.6349347 ]\n",
      " [ 4.         -7.13022255]\n",
      " [-4.         -1.32855088]\n",
      " [-8.         -0.7500509 ]]\n",
      "The intermediate points are stored in the variable \"interpolated_points\"\n"
     ]
    },
    {
     "name": "stderr",
     "output_type": "stream",
     "text": [
      "<ipython-input-3-e5129fb5eb54>:29: MatplotlibDeprecationWarning: Adding an axes using the same arguments as a previous axes currently reuses the earlier instance.  In a future version, a new instance will always be created and returned.  Meanwhile, this warning can be suppressed, and the future behavior ensured, by passing a unique label to each axes instance.\n",
      "  ax = fig.add_subplot(111, autoscale_on=False,\n"
     ]
    },
    {
     "name": "stdout",
     "output_type": "stream",
     "text": [
      "19\n",
      "The interpolation points are stored in the variable \"EF_target_pos\": \n",
      "[[ 17.24264069   4.24264069]\n",
      " [ 12.66666667  -3.78782026]\n",
      " [  6.33333333  -6.80796873]\n",
      " [ -6.33333333   3.46314014]\n",
      " [-12.66666667  -0.38212048]]\n",
      "The intermediate points are stored in the variable \"interpolated_points\"\n"
     ]
    },
    {
     "name": "stderr",
     "output_type": "stream",
     "text": [
      "<ipython-input-3-e5129fb5eb54>:29: MatplotlibDeprecationWarning: Adding an axes using the same arguments as a previous axes currently reuses the earlier instance.  In a future version, a new instance will always be created and returned.  Meanwhile, this warning can be suppressed, and the future behavior ensured, by passing a unique label to each axes instance.\n",
      "  ax = fig.add_subplot(111, autoscale_on=False,\n"
     ]
    },
    {
     "name": "stdout",
     "output_type": "stream",
     "text": [
      "11\n",
      "The interpolation points are stored in the variable \"EF_target_pos\": \n",
      "[[ 9.82842712  2.82842712]\n",
      " [ 7.33333333 -2.06711501]\n",
      " [ 3.66666667  2.18724968]\n",
      " [-3.66666667  2.83217467]\n",
      " [-7.33333333 -0.47243972]]\n",
      "The intermediate points are stored in the variable \"interpolated_points\"\n"
     ]
    },
    {
     "name": "stderr",
     "output_type": "stream",
     "text": [
      "<ipython-input-3-e5129fb5eb54>:29: MatplotlibDeprecationWarning: Adding an axes using the same arguments as a previous axes currently reuses the earlier instance.  In a future version, a new instance will always be created and returned.  Meanwhile, this warning can be suppressed, and the future behavior ensured, by passing a unique label to each axes instance.\n",
      "  ax = fig.add_subplot(111, autoscale_on=False,\n"
     ]
    },
    {
     "name": "stdout",
     "output_type": "stream",
     "text": [
      "10\n",
      "The interpolation points are stored in the variable \"EF_target_pos\": \n",
      "[[ 8.53553391  3.53553391]\n",
      " [ 6.66666667 -1.36906641]\n",
      " [ 3.33333333  4.3209427 ]\n",
      " [-3.33333333 -2.50162019]\n",
      " [-6.66666667  1.98907293]]\n",
      "The intermediate points are stored in the variable \"interpolated_points\"\n"
     ]
    },
    {
     "name": "stderr",
     "output_type": "stream",
     "text": [
      "<ipython-input-3-e5129fb5eb54>:29: MatplotlibDeprecationWarning: Adding an axes using the same arguments as a previous axes currently reuses the earlier instance.  In a future version, a new instance will always be created and returned.  Meanwhile, this warning can be suppressed, and the future behavior ensured, by passing a unique label to each axes instance.\n",
      "  ax = fig.add_subplot(111, autoscale_on=False,\n"
     ]
    },
    {
     "name": "stdout",
     "output_type": "stream",
     "text": [
      "12\n",
      "The interpolation points are stored in the variable \"EF_target_pos\": \n",
      "[[11.41421356  1.41421356]\n",
      " [ 8.          3.95914144]\n",
      " [ 4.          0.40213171]\n",
      " [-4.          4.95382621]\n",
      " [-8.          3.33675187]]\n",
      "The intermediate points are stored in the variable \"interpolated_points\"\n"
     ]
    },
    {
     "name": "stderr",
     "output_type": "stream",
     "text": [
      "<ipython-input-3-e5129fb5eb54>:29: MatplotlibDeprecationWarning: Adding an axes using the same arguments as a previous axes currently reuses the earlier instance.  In a future version, a new instance will always be created and returned.  Meanwhile, this warning can be suppressed, and the future behavior ensured, by passing a unique label to each axes instance.\n",
      "  ax = fig.add_subplot(111, autoscale_on=False,\n"
     ]
    },
    {
     "name": "stdout",
     "output_type": "stream",
     "text": [
      "9\n",
      "The interpolation points are stored in the variable \"EF_target_pos\": \n",
      "[[ 8.12132034  2.12132034]\n",
      " [ 6.         -0.14132783]\n",
      " [ 3.          1.85205097]\n",
      " [-3.          3.58648234]\n",
      " [-6.          2.53918255]]\n",
      "The intermediate points are stored in the variable \"interpolated_points\"\n"
     ]
    },
    {
     "name": "stderr",
     "output_type": "stream",
     "text": [
      "<ipython-input-3-e5129fb5eb54>:29: MatplotlibDeprecationWarning: Adding an axes using the same arguments as a previous axes currently reuses the earlier instance.  In a future version, a new instance will always be created and returned.  Meanwhile, this warning can be suppressed, and the future behavior ensured, by passing a unique label to each axes instance.\n",
      "  ax = fig.add_subplot(111, autoscale_on=False,\n"
     ]
    },
    {
     "name": "stdout",
     "output_type": "stream",
     "text": [
      "15\n",
      "The interpolation points are stored in the variable \"EF_target_pos\": \n",
      "[[ 14.12132034   2.12132034]\n",
      " [ 10.          -2.86191671]\n",
      " [  5.          -0.09959967]\n",
      " [ -5.          -2.07522574]\n",
      " [-10.           4.45343971]]\n",
      "The intermediate points are stored in the variable \"interpolated_points\"\n"
     ]
    },
    {
     "name": "stderr",
     "output_type": "stream",
     "text": [
      "<ipython-input-3-e5129fb5eb54>:29: MatplotlibDeprecationWarning: Adding an axes using the same arguments as a previous axes currently reuses the earlier instance.  In a future version, a new instance will always be created and returned.  Meanwhile, this warning can be suppressed, and the future behavior ensured, by passing a unique label to each axes instance.\n",
      "  ax = fig.add_subplot(111, autoscale_on=False,\n"
     ]
    },
    {
     "name": "stdout",
     "output_type": "stream",
     "text": [
      "13\n",
      "The interpolation points are stored in the variable \"EF_target_pos\": \n",
      "[[12.12132034  2.12132034]\n",
      " [ 8.66666667 -0.93879339]\n",
      " [ 4.33333333 -0.66655096]\n",
      " [-4.33333333 -7.0269299 ]\n",
      " [-8.66666667  2.00672067]]\n",
      "The intermediate points are stored in the variable \"interpolated_points\"\n"
     ]
    },
    {
     "name": "stderr",
     "output_type": "stream",
     "text": [
      "<ipython-input-3-e5129fb5eb54>:29: MatplotlibDeprecationWarning: Adding an axes using the same arguments as a previous axes currently reuses the earlier instance.  In a future version, a new instance will always be created and returned.  Meanwhile, this warning can be suppressed, and the future behavior ensured, by passing a unique label to each axes instance.\n",
      "  ax = fig.add_subplot(111, autoscale_on=False,\n"
     ]
    },
    {
     "name": "stdout",
     "output_type": "stream",
     "text": [
      "18\n",
      "The interpolation points are stored in the variable \"EF_target_pos\": \n",
      "[[ 15.94974747   4.94974747]\n",
      " [ 12.           1.00592671]\n",
      " [  6.           8.41752793]\n",
      " [ -6.          -3.6645419 ]\n",
      " [-12.          -2.0826498 ]]\n",
      "The intermediate points are stored in the variable \"interpolated_points\"\n"
     ]
    },
    {
     "name": "stderr",
     "output_type": "stream",
     "text": [
      "<ipython-input-3-e5129fb5eb54>:29: MatplotlibDeprecationWarning: Adding an axes using the same arguments as a previous axes currently reuses the earlier instance.  In a future version, a new instance will always be created and returned.  Meanwhile, this warning can be suppressed, and the future behavior ensured, by passing a unique label to each axes instance.\n",
      "  ax = fig.add_subplot(111, autoscale_on=False,\n"
     ]
    },
    {
     "name": "stdout",
     "output_type": "stream",
     "text": [
      "16\n",
      "The interpolation points are stored in the variable \"EF_target_pos\": \n",
      "[[ 13.94974747   4.94974747]\n",
      " [ 10.66666667   1.54602826]\n",
      " [  5.33333333   8.97439562]\n",
      " [ -5.33333333  -8.1497544 ]\n",
      " [-10.66666667  -0.23241853]]\n",
      "The intermediate points are stored in the variable \"interpolated_points\"\n"
     ]
    },
    {
     "name": "stderr",
     "output_type": "stream",
     "text": [
      "<ipython-input-3-e5129fb5eb54>:29: MatplotlibDeprecationWarning: Adding an axes using the same arguments as a previous axes currently reuses the earlier instance.  In a future version, a new instance will always be created and returned.  Meanwhile, this warning can be suppressed, and the future behavior ensured, by passing a unique label to each axes instance.\n",
      "  ax = fig.add_subplot(111, autoscale_on=False,\n"
     ]
    },
    {
     "name": "stdout",
     "output_type": "stream",
     "text": [
      "12\n",
      "The interpolation points are stored in the variable \"EF_target_pos\": \n",
      "[[10.53553391  3.53553391]\n",
      " [ 8.         -2.0121677 ]\n",
      " [ 4.          5.21268614]\n",
      " [-4.          3.29402136]\n",
      " [-8.         -4.05885039]]\n",
      "The intermediate points are stored in the variable \"interpolated_points\"\n"
     ]
    },
    {
     "name": "stderr",
     "output_type": "stream",
     "text": [
      "<ipython-input-3-e5129fb5eb54>:29: MatplotlibDeprecationWarning: Adding an axes using the same arguments as a previous axes currently reuses the earlier instance.  In a future version, a new instance will always be created and returned.  Meanwhile, this warning can be suppressed, and the future behavior ensured, by passing a unique label to each axes instance.\n",
      "  ax = fig.add_subplot(111, autoscale_on=False,\n"
     ]
    },
    {
     "name": "stdout",
     "output_type": "stream",
     "text": [
      "16\n",
      "The interpolation points are stored in the variable \"EF_target_pos\": \n",
      "[[ 14.53553391   3.53553391]\n",
      " [ 10.66666667   0.39598207]\n",
      " [  5.33333333   9.18513449]\n",
      " [ -5.33333333 -10.49447465]\n",
      " [-10.66666667   1.19842356]]\n",
      "The intermediate points are stored in the variable \"interpolated_points\"\n"
     ]
    },
    {
     "name": "stderr",
     "output_type": "stream",
     "text": [
      "<ipython-input-3-e5129fb5eb54>:29: MatplotlibDeprecationWarning: Adding an axes using the same arguments as a previous axes currently reuses the earlier instance.  In a future version, a new instance will always be created and returned.  Meanwhile, this warning can be suppressed, and the future behavior ensured, by passing a unique label to each axes instance.\n",
      "  ax = fig.add_subplot(111, autoscale_on=False,\n"
     ]
    },
    {
     "name": "stdout",
     "output_type": "stream",
     "text": [
      "17\n",
      "The interpolation points are stored in the variable \"EF_target_pos\": \n",
      "[[ 15.82842712   2.82842712]\n",
      " [ 11.33333333   0.65413968]\n",
      " [  5.66666667   7.75997333]\n",
      " [ -5.66666667   2.52200826]\n",
      " [-11.33333333   3.89748317]]\n",
      "The intermediate points are stored in the variable \"interpolated_points\"\n"
     ]
    },
    {
     "name": "stderr",
     "output_type": "stream",
     "text": [
      "<ipython-input-3-e5129fb5eb54>:29: MatplotlibDeprecationWarning: Adding an axes using the same arguments as a previous axes currently reuses the earlier instance.  In a future version, a new instance will always be created and returned.  Meanwhile, this warning can be suppressed, and the future behavior ensured, by passing a unique label to each axes instance.\n",
      "  ax = fig.add_subplot(111, autoscale_on=False,\n"
     ]
    },
    {
     "name": "stdout",
     "output_type": "stream",
     "text": [
      "7\n",
      "The interpolation points are stored in the variable \"EF_target_pos\": \n",
      "[[ 6.41421356  1.41421356]\n",
      " [ 4.66666667 -0.86308257]\n",
      " [ 2.33333333  0.02004201]\n",
      " [-2.33333333  0.19574679]\n",
      " [-4.66666667  0.73768554]]\n",
      "The intermediate points are stored in the variable \"interpolated_points\"\n"
     ]
    },
    {
     "name": "stderr",
     "output_type": "stream",
     "text": [
      "<ipython-input-3-e5129fb5eb54>:29: MatplotlibDeprecationWarning: Adding an axes using the same arguments as a previous axes currently reuses the earlier instance.  In a future version, a new instance will always be created and returned.  Meanwhile, this warning can be suppressed, and the future behavior ensured, by passing a unique label to each axes instance.\n",
      "  ax = fig.add_subplot(111, autoscale_on=False,\n"
     ]
    },
    {
     "name": "stdout",
     "output_type": "stream",
     "text": [
      "16\n",
      "The interpolation points are stored in the variable \"EF_target_pos\": \n",
      "[[ 14.24264069   4.24264069]\n",
      " [ 10.66666667  -2.46227639]\n",
      " [  5.33333333   2.30795418]\n",
      " [ -5.33333333  -0.02418021]\n",
      " [-10.66666667   4.37234606]]\n",
      "The intermediate points are stored in the variable \"interpolated_points\"\n"
     ]
    },
    {
     "name": "stderr",
     "output_type": "stream",
     "text": [
      "<ipython-input-3-e5129fb5eb54>:29: MatplotlibDeprecationWarning: Adding an axes using the same arguments as a previous axes currently reuses the earlier instance.  In a future version, a new instance will always be created and returned.  Meanwhile, this warning can be suppressed, and the future behavior ensured, by passing a unique label to each axes instance.\n",
      "  ax = fig.add_subplot(111, autoscale_on=False,\n"
     ]
    },
    {
     "name": "stdout",
     "output_type": "stream",
     "text": [
      "13\n",
      "The interpolation points are stored in the variable \"EF_target_pos\": \n",
      "[[12.41421356  1.41421356]\n",
      " [ 8.66666667  3.53626294]\n",
      " [ 4.33333333 -6.19531567]\n",
      " [-4.33333333  3.63048981]\n",
      " [-8.66666667 -0.77678824]]\n",
      "The intermediate points are stored in the variable \"interpolated_points\"\n"
     ]
    },
    {
     "name": "stderr",
     "output_type": "stream",
     "text": [
      "<ipython-input-3-e5129fb5eb54>:29: MatplotlibDeprecationWarning: Adding an axes using the same arguments as a previous axes currently reuses the earlier instance.  In a future version, a new instance will always be created and returned.  Meanwhile, this warning can be suppressed, and the future behavior ensured, by passing a unique label to each axes instance.\n",
      "  ax = fig.add_subplot(111, autoscale_on=False,\n"
     ]
    },
    {
     "name": "stdout",
     "output_type": "stream",
     "text": [
      "17\n",
      "The interpolation points are stored in the variable \"EF_target_pos\": \n",
      "[[ 15.53553391   3.53553391]\n",
      " [ 11.33333333   0.79875328]\n",
      " [  5.66666667  10.1776866 ]\n",
      " [ -5.66666667  10.82482559]\n",
      " [-11.33333333   4.4068581 ]]\n",
      "The intermediate points are stored in the variable \"interpolated_points\"\n"
     ]
    },
    {
     "name": "stderr",
     "output_type": "stream",
     "text": [
      "<ipython-input-3-e5129fb5eb54>:29: MatplotlibDeprecationWarning: Adding an axes using the same arguments as a previous axes currently reuses the earlier instance.  In a future version, a new instance will always be created and returned.  Meanwhile, this warning can be suppressed, and the future behavior ensured, by passing a unique label to each axes instance.\n",
      "  ax = fig.add_subplot(111, autoscale_on=False,\n"
     ]
    },
    {
     "name": "stdout",
     "output_type": "stream",
     "text": [
      "12\n",
      "The interpolation points are stored in the variable \"EF_target_pos\": \n",
      "[[10.82842712  2.82842712]\n",
      " [ 8.          2.76434388]\n",
      " [ 4.         -2.79501608]\n",
      " [-4.          4.56052445]\n",
      " [-8.         -2.54019017]]\n",
      "The intermediate points are stored in the variable \"interpolated_points\"\n"
     ]
    },
    {
     "name": "stderr",
     "output_type": "stream",
     "text": [
      "<ipython-input-3-e5129fb5eb54>:29: MatplotlibDeprecationWarning: Adding an axes using the same arguments as a previous axes currently reuses the earlier instance.  In a future version, a new instance will always be created and returned.  Meanwhile, this warning can be suppressed, and the future behavior ensured, by passing a unique label to each axes instance.\n",
      "  ax = fig.add_subplot(111, autoscale_on=False,\n"
     ]
    },
    {
     "name": "stdout",
     "output_type": "stream",
     "text": [
      "18\n",
      "The interpolation points are stored in the variable \"EF_target_pos\": \n",
      "[[ 15.94974747   4.94974747]\n",
      " [ 12.          -3.4107583 ]\n",
      " [  6.         -11.36040033]\n",
      " [ -6.          -7.58543614]\n",
      " [-12.          -3.02802676]]\n",
      "The intermediate points are stored in the variable \"interpolated_points\"\n"
     ]
    },
    {
     "name": "stderr",
     "output_type": "stream",
     "text": [
      "<ipython-input-3-e5129fb5eb54>:29: MatplotlibDeprecationWarning: Adding an axes using the same arguments as a previous axes currently reuses the earlier instance.  In a future version, a new instance will always be created and returned.  Meanwhile, this warning can be suppressed, and the future behavior ensured, by passing a unique label to each axes instance.\n",
      "  ax = fig.add_subplot(111, autoscale_on=False,\n"
     ]
    },
    {
     "name": "stdout",
     "output_type": "stream",
     "text": [
      "14\n",
      "The interpolation points are stored in the variable \"EF_target_pos\": \n",
      "[[11.94974747  4.94974747]\n",
      " [ 9.33333333  4.32275078]\n",
      " [ 4.66666667 -2.2647697 ]\n",
      " [-4.66666667  1.40346024]\n",
      " [-9.33333333 -3.04045144]]\n",
      "The intermediate points are stored in the variable \"interpolated_points\"\n"
     ]
    },
    {
     "name": "stderr",
     "output_type": "stream",
     "text": [
      "<ipython-input-3-e5129fb5eb54>:29: MatplotlibDeprecationWarning: Adding an axes using the same arguments as a previous axes currently reuses the earlier instance.  In a future version, a new instance will always be created and returned.  Meanwhile, this warning can be suppressed, and the future behavior ensured, by passing a unique label to each axes instance.\n",
      "  ax = fig.add_subplot(111, autoscale_on=False,\n"
     ]
    },
    {
     "name": "stdout",
     "output_type": "stream",
     "text": [
      "10\n",
      "The interpolation points are stored in the variable \"EF_target_pos\": \n",
      "[[ 9.41421356  1.41421356]\n",
      " [ 6.66666667 -0.76142494]\n",
      " [ 3.33333333  5.18129178]\n",
      " [-3.33333333  1.08480718]\n",
      " [-6.66666667  2.49074672]]\n",
      "The intermediate points are stored in the variable \"interpolated_points\"\n"
     ]
    },
    {
     "name": "stderr",
     "output_type": "stream",
     "text": [
      "<ipython-input-3-e5129fb5eb54>:29: MatplotlibDeprecationWarning: Adding an axes using the same arguments as a previous axes currently reuses the earlier instance.  In a future version, a new instance will always be created and returned.  Meanwhile, this warning can be suppressed, and the future behavior ensured, by passing a unique label to each axes instance.\n",
      "  ax = fig.add_subplot(111, autoscale_on=False,\n"
     ]
    },
    {
     "name": "stdout",
     "output_type": "stream",
     "text": [
      "13\n",
      "The interpolation points are stored in the variable \"EF_target_pos\": \n",
      "[[12.41421356  1.41421356]\n",
      " [ 8.66666667 -2.06455607]\n",
      " [ 4.33333333 -2.55057778]\n",
      " [-4.33333333  4.15732842]\n",
      " [-8.66666667 -1.19541891]]\n",
      "The intermediate points are stored in the variable \"interpolated_points\"\n"
     ]
    },
    {
     "name": "stderr",
     "output_type": "stream",
     "text": [
      "<ipython-input-3-e5129fb5eb54>:29: MatplotlibDeprecationWarning: Adding an axes using the same arguments as a previous axes currently reuses the earlier instance.  In a future version, a new instance will always be created and returned.  Meanwhile, this warning can be suppressed, and the future behavior ensured, by passing a unique label to each axes instance.\n",
      "  ax = fig.add_subplot(111, autoscale_on=False,\n"
     ]
    },
    {
     "name": "stdout",
     "output_type": "stream",
     "text": [
      "15\n",
      "The interpolation points are stored in the variable \"EF_target_pos\": \n",
      "[[ 1.41213203e+01  2.12132034e+00]\n",
      " [ 1.00000000e+01  1.17737889e-02]\n",
      " [ 5.00000000e+00  4.65575609e+00]\n",
      " [-5.00000000e+00 -3.77080447e+00]\n",
      " [-1.00000000e+01 -4.26688819e+00]]\n",
      "The intermediate points are stored in the variable \"interpolated_points\"\n"
     ]
    },
    {
     "name": "stderr",
     "output_type": "stream",
     "text": [
      "<ipython-input-3-e5129fb5eb54>:29: MatplotlibDeprecationWarning: Adding an axes using the same arguments as a previous axes currently reuses the earlier instance.  In a future version, a new instance will always be created and returned.  Meanwhile, this warning can be suppressed, and the future behavior ensured, by passing a unique label to each axes instance.\n",
      "  ax = fig.add_subplot(111, autoscale_on=False,\n"
     ]
    },
    {
     "name": "stdout",
     "output_type": "stream",
     "text": [
      "16\n",
      "The interpolation points are stored in the variable \"EF_target_pos\": \n",
      "[[ 13.94974747   4.94974747]\n",
      " [ 10.66666667   1.99942153]\n",
      " [  5.33333333   1.27763499]\n",
      " [ -5.33333333  -3.45868473]\n",
      " [-10.66666667   1.96991027]]\n",
      "The intermediate points are stored in the variable \"interpolated_points\"\n"
     ]
    },
    {
     "name": "stderr",
     "output_type": "stream",
     "text": [
      "<ipython-input-3-e5129fb5eb54>:29: MatplotlibDeprecationWarning: Adding an axes using the same arguments as a previous axes currently reuses the earlier instance.  In a future version, a new instance will always be created and returned.  Meanwhile, this warning can be suppressed, and the future behavior ensured, by passing a unique label to each axes instance.\n",
      "  ax = fig.add_subplot(111, autoscale_on=False,\n"
     ]
    },
    {
     "name": "stdout",
     "output_type": "stream",
     "text": [
      "14\n",
      "The interpolation points are stored in the variable \"EF_target_pos\": \n",
      "[[11.94974747  4.94974747]\n",
      " [ 9.33333333 -1.35766174]\n",
      " [ 4.66666667 -8.3903825 ]\n",
      " [-4.66666667  7.06397097]\n",
      " [-9.33333333 -1.84185261]]\n",
      "The intermediate points are stored in the variable \"interpolated_points\"\n"
     ]
    },
    {
     "name": "stderr",
     "output_type": "stream",
     "text": [
      "<ipython-input-3-e5129fb5eb54>:29: MatplotlibDeprecationWarning: Adding an axes using the same arguments as a previous axes currently reuses the earlier instance.  In a future version, a new instance will always be created and returned.  Meanwhile, this warning can be suppressed, and the future behavior ensured, by passing a unique label to each axes instance.\n",
      "  ax = fig.add_subplot(111, autoscale_on=False,\n"
     ]
    },
    {
     "name": "stdout",
     "output_type": "stream",
     "text": [
      "14\n",
      "The interpolation points are stored in the variable \"EF_target_pos\": \n",
      "[[13.41421356  1.41421356]\n",
      " [ 9.33333333 -1.10858302]\n",
      " [ 4.66666667 -6.88981556]\n",
      " [-4.66666667  7.57809937]\n",
      " [-9.33333333 -3.96238199]]\n",
      "The intermediate points are stored in the variable \"interpolated_points\"\n"
     ]
    },
    {
     "name": "stderr",
     "output_type": "stream",
     "text": [
      "<ipython-input-3-e5129fb5eb54>:29: MatplotlibDeprecationWarning: Adding an axes using the same arguments as a previous axes currently reuses the earlier instance.  In a future version, a new instance will always be created and returned.  Meanwhile, this warning can be suppressed, and the future behavior ensured, by passing a unique label to each axes instance.\n",
      "  ax = fig.add_subplot(111, autoscale_on=False,\n"
     ]
    },
    {
     "name": "stdout",
     "output_type": "stream",
     "text": [
      "8\n",
      "The interpolation points are stored in the variable \"EF_target_pos\": \n",
      "[[ 7.41421356  1.41421356]\n",
      " [ 5.33333333  1.99806607]\n",
      " [ 2.66666667  4.02635903]\n",
      " [-2.66666667  3.18231136]\n",
      " [-5.33333333 -2.45893088]]\n",
      "The intermediate points are stored in the variable \"interpolated_points\"\n"
     ]
    },
    {
     "name": "stderr",
     "output_type": "stream",
     "text": [
      "<ipython-input-3-e5129fb5eb54>:29: MatplotlibDeprecationWarning: Adding an axes using the same arguments as a previous axes currently reuses the earlier instance.  In a future version, a new instance will always be created and returned.  Meanwhile, this warning can be suppressed, and the future behavior ensured, by passing a unique label to each axes instance.\n",
      "  ax = fig.add_subplot(111, autoscale_on=False,\n"
     ]
    },
    {
     "name": "stdout",
     "output_type": "stream",
     "text": [
      "13\n",
      "The interpolation points are stored in the variable \"EF_target_pos\": \n",
      "[[11.53553391  3.53553391]\n",
      " [ 8.66666667 -1.72268623]\n",
      " [ 4.33333333  0.4741106 ]\n",
      " [-4.33333333 -5.11092565]\n",
      " [-8.66666667 -0.95231763]]\n",
      "The intermediate points are stored in the variable \"interpolated_points\"\n"
     ]
    },
    {
     "name": "stderr",
     "output_type": "stream",
     "text": [
      "<ipython-input-3-e5129fb5eb54>:29: MatplotlibDeprecationWarning: Adding an axes using the same arguments as a previous axes currently reuses the earlier instance.  In a future version, a new instance will always be created and returned.  Meanwhile, this warning can be suppressed, and the future behavior ensured, by passing a unique label to each axes instance.\n",
      "  ax = fig.add_subplot(111, autoscale_on=False,\n"
     ]
    },
    {
     "name": "stdout",
     "output_type": "stream",
     "text": [
      "9\n",
      "The interpolation points are stored in the variable \"EF_target_pos\": \n",
      "[[ 7.82842712  2.82842712]\n",
      " [ 6.          2.31696162]\n",
      " [ 3.         -2.32115986]\n",
      " [-3.          0.2193093 ]\n",
      " [-6.          2.27627353]]\n",
      "The intermediate points are stored in the variable \"interpolated_points\"\n"
     ]
    },
    {
     "name": "stderr",
     "output_type": "stream",
     "text": [
      "<ipython-input-3-e5129fb5eb54>:29: MatplotlibDeprecationWarning: Adding an axes using the same arguments as a previous axes currently reuses the earlier instance.  In a future version, a new instance will always be created and returned.  Meanwhile, this warning can be suppressed, and the future behavior ensured, by passing a unique label to each axes instance.\n",
      "  ax = fig.add_subplot(111, autoscale_on=False,\n"
     ]
    },
    {
     "name": "stdout",
     "output_type": "stream",
     "text": [
      "9\n",
      "The interpolation points are stored in the variable \"EF_target_pos\": \n",
      "[[ 8.12132034  2.12132034]\n",
      " [ 6.         -2.06746481]\n",
      " [ 3.          1.25391183]\n",
      " [-3.         -5.54340823]\n",
      " [-6.         -2.331704  ]]\n",
      "The intermediate points are stored in the variable \"interpolated_points\"\n"
     ]
    },
    {
     "name": "stderr",
     "output_type": "stream",
     "text": [
      "<ipython-input-3-e5129fb5eb54>:29: MatplotlibDeprecationWarning: Adding an axes using the same arguments as a previous axes currently reuses the earlier instance.  In a future version, a new instance will always be created and returned.  Meanwhile, this warning can be suppressed, and the future behavior ensured, by passing a unique label to each axes instance.\n",
      "  ax = fig.add_subplot(111, autoscale_on=False,\n"
     ]
    },
    {
     "name": "stdout",
     "output_type": "stream",
     "text": [
      "11\n",
      "The interpolation points are stored in the variable \"EF_target_pos\": \n",
      "[[ 8.94974747  4.94974747]\n",
      " [ 7.33333333  1.28548598]\n",
      " [ 3.66666667  3.57185065]\n",
      " [-3.66666667 -4.65087652]\n",
      " [-7.33333333  2.51681376]]\n",
      "The intermediate points are stored in the variable \"interpolated_points\"\n"
     ]
    },
    {
     "name": "stderr",
     "output_type": "stream",
     "text": [
      "<ipython-input-3-e5129fb5eb54>:29: MatplotlibDeprecationWarning: Adding an axes using the same arguments as a previous axes currently reuses the earlier instance.  In a future version, a new instance will always be created and returned.  Meanwhile, this warning can be suppressed, and the future behavior ensured, by passing a unique label to each axes instance.\n",
      "  ax = fig.add_subplot(111, autoscale_on=False,\n"
     ]
    },
    {
     "name": "stdout",
     "output_type": "stream",
     "text": [
      "15\n",
      "The interpolation points are stored in the variable \"EF_target_pos\": \n",
      "[[ 13.82842712   2.82842712]\n",
      " [ 10.          -1.39995837]\n",
      " [  5.          -8.98671468]\n",
      " [ -5.          -5.89759148]\n",
      " [-10.           0.83571411]]\n",
      "The intermediate points are stored in the variable \"interpolated_points\"\n"
     ]
    },
    {
     "name": "stderr",
     "output_type": "stream",
     "text": [
      "<ipython-input-3-e5129fb5eb54>:29: MatplotlibDeprecationWarning: Adding an axes using the same arguments as a previous axes currently reuses the earlier instance.  In a future version, a new instance will always be created and returned.  Meanwhile, this warning can be suppressed, and the future behavior ensured, by passing a unique label to each axes instance.\n",
      "  ax = fig.add_subplot(111, autoscale_on=False,\n"
     ]
    },
    {
     "name": "stdout",
     "output_type": "stream",
     "text": [
      "18\n",
      "The interpolation points are stored in the variable \"EF_target_pos\": \n",
      "[[ 15.94974747   4.94974747]\n",
      " [ 12.          -2.66848736]\n",
      " [  6.           3.81716774]\n",
      " [ -6.         -11.45957776]\n",
      " [-12.           0.40732105]]\n",
      "The intermediate points are stored in the variable \"interpolated_points\"\n"
     ]
    },
    {
     "name": "stderr",
     "output_type": "stream",
     "text": [
      "<ipython-input-3-e5129fb5eb54>:29: MatplotlibDeprecationWarning: Adding an axes using the same arguments as a previous axes currently reuses the earlier instance.  In a future version, a new instance will always be created and returned.  Meanwhile, this warning can be suppressed, and the future behavior ensured, by passing a unique label to each axes instance.\n",
      "  ax = fig.add_subplot(111, autoscale_on=False,\n"
     ]
    },
    {
     "name": "stdout",
     "output_type": "stream",
     "text": [
      "21\n",
      "The interpolation points are stored in the variable \"EF_target_pos\": \n",
      "[[ 18.94974747   4.94974747]\n",
      " [ 14.           1.60144835]\n",
      " [  7.          13.24246508]\n",
      " [ -7.         -11.84360813]\n",
      " [-14.           3.57866308]]\n",
      "The intermediate points are stored in the variable \"interpolated_points\"\n"
     ]
    },
    {
     "name": "stderr",
     "output_type": "stream",
     "text": [
      "<ipython-input-3-e5129fb5eb54>:29: MatplotlibDeprecationWarning: Adding an axes using the same arguments as a previous axes currently reuses the earlier instance.  In a future version, a new instance will always be created and returned.  Meanwhile, this warning can be suppressed, and the future behavior ensured, by passing a unique label to each axes instance.\n",
      "  ax = fig.add_subplot(111, autoscale_on=False,\n"
     ]
    },
    {
     "name": "stdout",
     "output_type": "stream",
     "text": [
      "12\n",
      "The interpolation points are stored in the variable \"EF_target_pos\": \n",
      "[[11.41421356  1.41421356]\n",
      " [ 8.         -3.85412595]\n",
      " [ 4.          7.20482441]\n",
      " [-4.          7.11882216]\n",
      " [-8.         -0.53077082]]\n",
      "The intermediate points are stored in the variable \"interpolated_points\"\n"
     ]
    },
    {
     "name": "stderr",
     "output_type": "stream",
     "text": [
      "<ipython-input-3-e5129fb5eb54>:29: MatplotlibDeprecationWarning: Adding an axes using the same arguments as a previous axes currently reuses the earlier instance.  In a future version, a new instance will always be created and returned.  Meanwhile, this warning can be suppressed, and the future behavior ensured, by passing a unique label to each axes instance.\n",
      "  ax = fig.add_subplot(111, autoscale_on=False,\n"
     ]
    },
    {
     "name": "stdout",
     "output_type": "stream",
     "text": [
      "16\n",
      "The interpolation points are stored in the variable \"EF_target_pos\": \n",
      "[[ 14.82842712   2.82842712]\n",
      " [ 10.66666667   4.78882192]\n",
      " [  5.33333333   1.4712143 ]\n",
      " [ -5.33333333  -8.72778059]\n",
      " [-10.66666667   0.06698144]]\n",
      "The intermediate points are stored in the variable \"interpolated_points\"\n"
     ]
    },
    {
     "name": "stderr",
     "output_type": "stream",
     "text": [
      "<ipython-input-3-e5129fb5eb54>:29: MatplotlibDeprecationWarning: Adding an axes using the same arguments as a previous axes currently reuses the earlier instance.  In a future version, a new instance will always be created and returned.  Meanwhile, this warning can be suppressed, and the future behavior ensured, by passing a unique label to each axes instance.\n",
      "  ax = fig.add_subplot(111, autoscale_on=False,\n"
     ]
    },
    {
     "name": "stdout",
     "output_type": "stream",
     "text": [
      "10\n",
      "The interpolation points are stored in the variable \"EF_target_pos\": \n",
      "[[ 8.82842712  2.82842712]\n",
      " [ 6.66666667 -1.48100226]\n",
      " [ 3.33333333 -4.55079297]\n",
      " [-3.33333333 -1.42464207]\n",
      " [-6.66666667  2.43253762]]\n",
      "The intermediate points are stored in the variable \"interpolated_points\"\n"
     ]
    },
    {
     "name": "stderr",
     "output_type": "stream",
     "text": [
      "<ipython-input-3-e5129fb5eb54>:29: MatplotlibDeprecationWarning: Adding an axes using the same arguments as a previous axes currently reuses the earlier instance.  In a future version, a new instance will always be created and returned.  Meanwhile, this warning can be suppressed, and the future behavior ensured, by passing a unique label to each axes instance.\n",
      "  ax = fig.add_subplot(111, autoscale_on=False,\n"
     ]
    },
    {
     "name": "stdout",
     "output_type": "stream",
     "text": [
      "15\n",
      "The interpolation points are stored in the variable \"EF_target_pos\": \n",
      "[[ 13.24264069   4.24264069]\n",
      " [ 10.           2.28217702]\n",
      " [  5.          -3.63576756]\n",
      " [ -5.          -5.11483436]\n",
      " [-10.          -4.48745988]]\n",
      "The intermediate points are stored in the variable \"interpolated_points\"\n"
     ]
    },
    {
     "name": "stderr",
     "output_type": "stream",
     "text": [
      "<ipython-input-3-e5129fb5eb54>:29: MatplotlibDeprecationWarning: Adding an axes using the same arguments as a previous axes currently reuses the earlier instance.  In a future version, a new instance will always be created and returned.  Meanwhile, this warning can be suppressed, and the future behavior ensured, by passing a unique label to each axes instance.\n",
      "  ax = fig.add_subplot(111, autoscale_on=False,\n"
     ]
    },
    {
     "name": "stdout",
     "output_type": "stream",
     "text": [
      "9\n",
      "The interpolation points are stored in the variable \"EF_target_pos\": \n",
      "[[ 7.53553391  3.53553391]\n",
      " [ 6.         -1.16292352]\n",
      " [ 3.          0.98113123]\n",
      " [-3.          0.54710213]\n",
      " [-6.          0.15358007]]\n",
      "The intermediate points are stored in the variable \"interpolated_points\"\n"
     ]
    },
    {
     "name": "stderr",
     "output_type": "stream",
     "text": [
      "<ipython-input-3-e5129fb5eb54>:29: MatplotlibDeprecationWarning: Adding an axes using the same arguments as a previous axes currently reuses the earlier instance.  In a future version, a new instance will always be created and returned.  Meanwhile, this warning can be suppressed, and the future behavior ensured, by passing a unique label to each axes instance.\n",
      "  ax = fig.add_subplot(111, autoscale_on=False,\n"
     ]
    },
    {
     "name": "stdout",
     "output_type": "stream",
     "text": [
      "19\n",
      "The interpolation points are stored in the variable \"EF_target_pos\": \n",
      "[[ 17.24264069   4.24264069]\n",
      " [ 12.66666667   3.91550393]\n",
      " [  6.33333333  -4.87644848]\n",
      " [ -6.33333333   3.74835241]\n",
      " [-12.66666667   3.32595494]]\n",
      "The intermediate points are stored in the variable \"interpolated_points\"\n"
     ]
    },
    {
     "name": "stderr",
     "output_type": "stream",
     "text": [
      "<ipython-input-3-e5129fb5eb54>:29: MatplotlibDeprecationWarning: Adding an axes using the same arguments as a previous axes currently reuses the earlier instance.  In a future version, a new instance will always be created and returned.  Meanwhile, this warning can be suppressed, and the future behavior ensured, by passing a unique label to each axes instance.\n",
      "  ax = fig.add_subplot(111, autoscale_on=False,\n"
     ]
    },
    {
     "name": "stdout",
     "output_type": "stream",
     "text": [
      "11\n",
      "The interpolation points are stored in the variable \"EF_target_pos\": \n",
      "[[10.41421356  1.41421356]\n",
      " [ 7.33333333 -3.5966737 ]\n",
      " [ 3.66666667 -0.13930217]\n",
      " [-3.66666667  4.08857416]\n",
      " [-7.33333333 -3.42500646]]\n",
      "The intermediate points are stored in the variable \"interpolated_points\"\n"
     ]
    },
    {
     "name": "stderr",
     "output_type": "stream",
     "text": [
      "<ipython-input-3-e5129fb5eb54>:29: MatplotlibDeprecationWarning: Adding an axes using the same arguments as a previous axes currently reuses the earlier instance.  In a future version, a new instance will always be created and returned.  Meanwhile, this warning can be suppressed, and the future behavior ensured, by passing a unique label to each axes instance.\n",
      "  ax = fig.add_subplot(111, autoscale_on=False,\n"
     ]
    },
    {
     "name": "stdout",
     "output_type": "stream",
     "text": [
      "15\n",
      "The interpolation points are stored in the variable \"EF_target_pos\": \n",
      "[[ 14.12132034   2.12132034]\n",
      " [ 10.          -2.96568368]\n",
      " [  5.           9.23463301]\n",
      " [ -5.           0.47694895]\n",
      " [-10.          -1.34496803]]\n",
      "The intermediate points are stored in the variable \"interpolated_points\"\n"
     ]
    },
    {
     "name": "stderr",
     "output_type": "stream",
     "text": [
      "<ipython-input-3-e5129fb5eb54>:29: MatplotlibDeprecationWarning: Adding an axes using the same arguments as a previous axes currently reuses the earlier instance.  In a future version, a new instance will always be created and returned.  Meanwhile, this warning can be suppressed, and the future behavior ensured, by passing a unique label to each axes instance.\n",
      "  ax = fig.add_subplot(111, autoscale_on=False,\n"
     ]
    },
    {
     "name": "stdout",
     "output_type": "stream",
     "text": [
      "14\n",
      "The interpolation points are stored in the variable \"EF_target_pos\": \n",
      "[[12.53553391  3.53553391]\n",
      " [ 9.33333333 -4.07049948]\n",
      " [ 4.66666667  2.22080184]\n",
      " [-4.66666667  8.17744182]\n",
      " [-9.33333333 -4.12843236]]\n",
      "The intermediate points are stored in the variable \"interpolated_points\"\n"
     ]
    },
    {
     "name": "stderr",
     "output_type": "stream",
     "text": [
      "<ipython-input-3-e5129fb5eb54>:29: MatplotlibDeprecationWarning: Adding an axes using the same arguments as a previous axes currently reuses the earlier instance.  In a future version, a new instance will always be created and returned.  Meanwhile, this warning can be suppressed, and the future behavior ensured, by passing a unique label to each axes instance.\n",
      "  ax = fig.add_subplot(111, autoscale_on=False,\n"
     ]
    },
    {
     "name": "stdout",
     "output_type": "stream",
     "text": [
      "16\n",
      "The interpolation points are stored in the variable \"EF_target_pos\": \n",
      "[[ 14.24264069   4.24264069]\n",
      " [ 10.66666667   2.42792803]\n",
      " [  5.33333333  -3.86903874]\n",
      " [ -5.33333333   4.63205134]\n",
      " [-10.66666667  -3.88800345]]\n",
      "The intermediate points are stored in the variable \"interpolated_points\"\n"
     ]
    },
    {
     "name": "stderr",
     "output_type": "stream",
     "text": [
      "<ipython-input-3-e5129fb5eb54>:29: MatplotlibDeprecationWarning: Adding an axes using the same arguments as a previous axes currently reuses the earlier instance.  In a future version, a new instance will always be created and returned.  Meanwhile, this warning can be suppressed, and the future behavior ensured, by passing a unique label to each axes instance.\n",
      "  ax = fig.add_subplot(111, autoscale_on=False,\n"
     ]
    },
    {
     "name": "stdout",
     "output_type": "stream",
     "text": [
      "12\n",
      "The interpolation points are stored in the variable \"EF_target_pos\": \n",
      "[[10.53553391  3.53553391]\n",
      " [ 8.          3.99138343]\n",
      " [ 4.          6.27465718]\n",
      " [-4.          1.061932  ]\n",
      " [-8.          1.12613956]]\n",
      "The intermediate points are stored in the variable \"interpolated_points\"\n"
     ]
    },
    {
     "name": "stderr",
     "output_type": "stream",
     "text": [
      "<ipython-input-3-e5129fb5eb54>:29: MatplotlibDeprecationWarning: Adding an axes using the same arguments as a previous axes currently reuses the earlier instance.  In a future version, a new instance will always be created and returned.  Meanwhile, this warning can be suppressed, and the future behavior ensured, by passing a unique label to each axes instance.\n",
      "  ax = fig.add_subplot(111, autoscale_on=False,\n"
     ]
    },
    {
     "name": "stdout",
     "output_type": "stream",
     "text": [
      "8\n",
      "The interpolation points are stored in the variable \"EF_target_pos\": \n",
      "[[ 6.82842712  2.82842712]\n",
      " [ 5.33333333  2.57413524]\n",
      " [ 2.66666667 -3.75685667]\n",
      " [-2.66666667 -4.26515745]\n",
      " [-5.33333333 -2.00105153]]\n",
      "The intermediate points are stored in the variable \"interpolated_points\"\n"
     ]
    },
    {
     "name": "stderr",
     "output_type": "stream",
     "text": [
      "<ipython-input-3-e5129fb5eb54>:29: MatplotlibDeprecationWarning: Adding an axes using the same arguments as a previous axes currently reuses the earlier instance.  In a future version, a new instance will always be created and returned.  Meanwhile, this warning can be suppressed, and the future behavior ensured, by passing a unique label to each axes instance.\n",
      "  ax = fig.add_subplot(111, autoscale_on=False,\n"
     ]
    },
    {
     "name": "stdout",
     "output_type": "stream",
     "text": [
      "9\n",
      "The interpolation points are stored in the variable \"EF_target_pos\": \n",
      "[[ 8.12132034  2.12132034]\n",
      " [ 6.         -0.70314145]\n",
      " [ 3.          3.71481761]\n",
      " [-3.          2.52489951]\n",
      " [-6.         -1.19386093]]\n",
      "The intermediate points are stored in the variable \"interpolated_points\"\n"
     ]
    },
    {
     "name": "stderr",
     "output_type": "stream",
     "text": [
      "<ipython-input-3-e5129fb5eb54>:29: MatplotlibDeprecationWarning: Adding an axes using the same arguments as a previous axes currently reuses the earlier instance.  In a future version, a new instance will always be created and returned.  Meanwhile, this warning can be suppressed, and the future behavior ensured, by passing a unique label to each axes instance.\n",
      "  ax = fig.add_subplot(111, autoscale_on=False,\n"
     ]
    },
    {
     "name": "stdout",
     "output_type": "stream",
     "text": [
      "16\n",
      "The interpolation points are stored in the variable \"EF_target_pos\": \n",
      "[[ 13.94974747   4.94974747]\n",
      " [ 10.66666667  -5.12034693]\n",
      " [  5.33333333  -8.89904361]\n",
      " [ -5.33333333   8.64051758]\n",
      " [-10.66666667   1.69263316]]\n",
      "The intermediate points are stored in the variable \"interpolated_points\"\n"
     ]
    },
    {
     "name": "stderr",
     "output_type": "stream",
     "text": [
      "<ipython-input-3-e5129fb5eb54>:29: MatplotlibDeprecationWarning: Adding an axes using the same arguments as a previous axes currently reuses the earlier instance.  In a future version, a new instance will always be created and returned.  Meanwhile, this warning can be suppressed, and the future behavior ensured, by passing a unique label to each axes instance.\n",
      "  ax = fig.add_subplot(111, autoscale_on=False,\n"
     ]
    },
    {
     "name": "stdout",
     "output_type": "stream",
     "text": [
      "15\n",
      "The interpolation points are stored in the variable \"EF_target_pos\": \n",
      "[[ 13.82842712   2.82842712]\n",
      " [ 10.           2.73740218]\n",
      " [  5.           4.09784969]\n",
      " [ -5.          -2.26551909]\n",
      " [-10.          -5.11056358]]\n",
      "The intermediate points are stored in the variable \"interpolated_points\"\n"
     ]
    },
    {
     "name": "stderr",
     "output_type": "stream",
     "text": [
      "<ipython-input-3-e5129fb5eb54>:29: MatplotlibDeprecationWarning: Adding an axes using the same arguments as a previous axes currently reuses the earlier instance.  In a future version, a new instance will always be created and returned.  Meanwhile, this warning can be suppressed, and the future behavior ensured, by passing a unique label to each axes instance.\n",
      "  ax = fig.add_subplot(111, autoscale_on=False,\n"
     ]
    },
    {
     "name": "stdout",
     "output_type": "stream",
     "text": [
      "8\n",
      "The interpolation points are stored in the variable \"EF_target_pos\": \n",
      "[[ 7.41421356  1.41421356]\n",
      " [ 5.33333333  1.14869982]\n",
      " [ 2.66666667  3.24686533]\n",
      " [-2.66666667  1.91837773]\n",
      " [-5.33333333 -2.60047444]]\n",
      "The intermediate points are stored in the variable \"interpolated_points\"\n"
     ]
    },
    {
     "name": "stderr",
     "output_type": "stream",
     "text": [
      "<ipython-input-3-e5129fb5eb54>:29: MatplotlibDeprecationWarning: Adding an axes using the same arguments as a previous axes currently reuses the earlier instance.  In a future version, a new instance will always be created and returned.  Meanwhile, this warning can be suppressed, and the future behavior ensured, by passing a unique label to each axes instance.\n",
      "  ax = fig.add_subplot(111, autoscale_on=False,\n"
     ]
    },
    {
     "name": "stdout",
     "output_type": "stream",
     "text": [
      "15\n",
      "The interpolation points are stored in the variable \"EF_target_pos\": \n",
      "[[ 13.24264069   4.24264069]\n",
      " [ 10.          -2.97607154]\n",
      " [  5.          -9.52309499]\n",
      " [ -5.          -7.61508861]\n",
      " [-10.           3.3189373 ]]\n",
      "The intermediate points are stored in the variable \"interpolated_points\"\n"
     ]
    },
    {
     "name": "stderr",
     "output_type": "stream",
     "text": [
      "<ipython-input-3-e5129fb5eb54>:29: MatplotlibDeprecationWarning: Adding an axes using the same arguments as a previous axes currently reuses the earlier instance.  In a future version, a new instance will always be created and returned.  Meanwhile, this warning can be suppressed, and the future behavior ensured, by passing a unique label to each axes instance.\n",
      "  ax = fig.add_subplot(111, autoscale_on=False,\n"
     ]
    },
    {
     "name": "stdout",
     "output_type": "stream",
     "text": [
      "14\n",
      "The interpolation points are stored in the variable \"EF_target_pos\": \n",
      "[[12.82842712  2.82842712]\n",
      " [ 9.33333333  0.68538628]\n",
      " [ 4.66666667  9.36350598]\n",
      " [-4.66666667 -3.37746497]\n",
      " [-9.33333333  2.38139649]]\n",
      "The intermediate points are stored in the variable \"interpolated_points\"\n"
     ]
    },
    {
     "name": "stderr",
     "output_type": "stream",
     "text": [
      "<ipython-input-3-e5129fb5eb54>:29: MatplotlibDeprecationWarning: Adding an axes using the same arguments as a previous axes currently reuses the earlier instance.  In a future version, a new instance will always be created and returned.  Meanwhile, this warning can be suppressed, and the future behavior ensured, by passing a unique label to each axes instance.\n",
      "  ax = fig.add_subplot(111, autoscale_on=False,\n"
     ]
    },
    {
     "name": "stdout",
     "output_type": "stream",
     "text": [
      "15\n",
      "The interpolation points are stored in the variable \"EF_target_pos\": \n",
      "[[ 14.41421356   1.41421356]\n",
      " [ 10.           0.91282186]\n",
      " [  5.           8.7068506 ]\n",
      " [ -5.          -4.8347708 ]\n",
      " [-10.          -4.13263036]]\n",
      "The intermediate points are stored in the variable \"interpolated_points\"\n"
     ]
    },
    {
     "name": "stderr",
     "output_type": "stream",
     "text": [
      "<ipython-input-3-e5129fb5eb54>:29: MatplotlibDeprecationWarning: Adding an axes using the same arguments as a previous axes currently reuses the earlier instance.  In a future version, a new instance will always be created and returned.  Meanwhile, this warning can be suppressed, and the future behavior ensured, by passing a unique label to each axes instance.\n",
      "  ax = fig.add_subplot(111, autoscale_on=False,\n"
     ]
    },
    {
     "name": "stdout",
     "output_type": "stream",
     "text": [
      "14\n",
      "The interpolation points are stored in the variable \"EF_target_pos\": \n",
      "[[12.53553391  3.53553391]\n",
      " [ 9.33333333  0.27113102]\n",
      " [ 4.66666667 -0.04760186]\n",
      " [-4.66666667  4.61896214]\n",
      " [-9.33333333  0.53686501]]\n",
      "The intermediate points are stored in the variable \"interpolated_points\"\n"
     ]
    },
    {
     "name": "stderr",
     "output_type": "stream",
     "text": [
      "<ipython-input-3-e5129fb5eb54>:29: MatplotlibDeprecationWarning: Adding an axes using the same arguments as a previous axes currently reuses the earlier instance.  In a future version, a new instance will always be created and returned.  Meanwhile, this warning can be suppressed, and the future behavior ensured, by passing a unique label to each axes instance.\n",
      "  ax = fig.add_subplot(111, autoscale_on=False,\n"
     ]
    },
    {
     "name": "stdout",
     "output_type": "stream",
     "text": [
      "16\n",
      "The interpolation points are stored in the variable \"EF_target_pos\": \n",
      "[[ 14.82842712   2.82842712]\n",
      " [ 10.66666667   3.04932772]\n",
      " [  5.33333333   4.2013436 ]\n",
      " [ -5.33333333  10.74862434]\n",
      " [-10.66666667   4.99141113]]\n",
      "The intermediate points are stored in the variable \"interpolated_points\"\n"
     ]
    },
    {
     "name": "stderr",
     "output_type": "stream",
     "text": [
      "<ipython-input-3-e5129fb5eb54>:29: MatplotlibDeprecationWarning: Adding an axes using the same arguments as a previous axes currently reuses the earlier instance.  In a future version, a new instance will always be created and returned.  Meanwhile, this warning can be suppressed, and the future behavior ensured, by passing a unique label to each axes instance.\n",
      "  ax = fig.add_subplot(111, autoscale_on=False,\n"
     ]
    },
    {
     "name": "stdout",
     "output_type": "stream",
     "text": [
      "15\n",
      "The interpolation points are stored in the variable \"EF_target_pos\": \n",
      "[[ 12.94974747   4.94974747]\n",
      " [ 10.          -3.38276257]\n",
      " [  5.           5.25135954]\n",
      " [ -5.           8.61378941]\n",
      " [-10.           1.02534528]]\n",
      "The intermediate points are stored in the variable \"interpolated_points\"\n"
     ]
    },
    {
     "name": "stderr",
     "output_type": "stream",
     "text": [
      "<ipython-input-3-e5129fb5eb54>:29: MatplotlibDeprecationWarning: Adding an axes using the same arguments as a previous axes currently reuses the earlier instance.  In a future version, a new instance will always be created and returned.  Meanwhile, this warning can be suppressed, and the future behavior ensured, by passing a unique label to each axes instance.\n",
      "  ax = fig.add_subplot(111, autoscale_on=False,\n"
     ]
    },
    {
     "name": "stdout",
     "output_type": "stream",
     "text": [
      "13\n",
      "The interpolation points are stored in the variable \"EF_target_pos\": \n",
      "[[11.53553391  3.53553391]\n",
      " [ 8.66666667 -1.80868111]\n",
      " [ 4.33333333 -8.2779074 ]\n",
      " [-4.33333333  7.20037605]\n",
      " [-8.66666667 -0.34598541]]\n",
      "The intermediate points are stored in the variable \"interpolated_points\"\n"
     ]
    },
    {
     "name": "stderr",
     "output_type": "stream",
     "text": [
      "<ipython-input-3-e5129fb5eb54>:29: MatplotlibDeprecationWarning: Adding an axes using the same arguments as a previous axes currently reuses the earlier instance.  In a future version, a new instance will always be created and returned.  Meanwhile, this warning can be suppressed, and the future behavior ensured, by passing a unique label to each axes instance.\n",
      "  ax = fig.add_subplot(111, autoscale_on=False,\n"
     ]
    },
    {
     "name": "stdout",
     "output_type": "stream",
     "text": [
      "12\n",
      "The interpolation points are stored in the variable \"EF_target_pos\": \n",
      "[[10.53553391  3.53553391]\n",
      " [ 8.          1.97203673]\n",
      " [ 4.          7.34867134]\n",
      " [-4.         -2.6041556 ]\n",
      " [-8.         -2.75592107]]\n",
      "The intermediate points are stored in the variable \"interpolated_points\"\n"
     ]
    },
    {
     "name": "stderr",
     "output_type": "stream",
     "text": [
      "<ipython-input-3-e5129fb5eb54>:29: MatplotlibDeprecationWarning: Adding an axes using the same arguments as a previous axes currently reuses the earlier instance.  In a future version, a new instance will always be created and returned.  Meanwhile, this warning can be suppressed, and the future behavior ensured, by passing a unique label to each axes instance.\n",
      "  ax = fig.add_subplot(111, autoscale_on=False,\n"
     ]
    },
    {
     "name": "stdout",
     "output_type": "stream",
     "text": [
      "10\n",
      "The interpolation points are stored in the variable \"EF_target_pos\": \n",
      "[[ 9.41421356  1.41421356]\n",
      " [ 6.66666667  1.8309739 ]\n",
      " [ 3.33333333  4.16515121]\n",
      " [-3.33333333  2.47024695]\n",
      " [-6.66666667 -2.99061789]]\n",
      "The intermediate points are stored in the variable \"interpolated_points\"\n"
     ]
    },
    {
     "name": "stderr",
     "output_type": "stream",
     "text": [
      "<ipython-input-3-e5129fb5eb54>:29: MatplotlibDeprecationWarning: Adding an axes using the same arguments as a previous axes currently reuses the earlier instance.  In a future version, a new instance will always be created and returned.  Meanwhile, this warning can be suppressed, and the future behavior ensured, by passing a unique label to each axes instance.\n",
      "  ax = fig.add_subplot(111, autoscale_on=False,\n"
     ]
    },
    {
     "name": "stdout",
     "output_type": "stream",
     "text": [
      "19\n",
      "The interpolation points are stored in the variable \"EF_target_pos\": \n",
      "[[ 16.94974747   4.94974747]\n",
      " [ 12.66666667   3.67964922]\n",
      " [  6.33333333  -3.7262159 ]\n",
      " [ -6.33333333   1.8924301 ]\n",
      " [-12.66666667   1.33891027]]\n",
      "The intermediate points are stored in the variable \"interpolated_points\"\n"
     ]
    },
    {
     "name": "stderr",
     "output_type": "stream",
     "text": [
      "<ipython-input-3-e5129fb5eb54>:29: MatplotlibDeprecationWarning: Adding an axes using the same arguments as a previous axes currently reuses the earlier instance.  In a future version, a new instance will always be created and returned.  Meanwhile, this warning can be suppressed, and the future behavior ensured, by passing a unique label to each axes instance.\n",
      "  ax = fig.add_subplot(111, autoscale_on=False,\n"
     ]
    },
    {
     "name": "stdout",
     "output_type": "stream",
     "text": [
      "11\n",
      "The interpolation points are stored in the variable \"EF_target_pos\": \n",
      "[[10.41421356  1.41421356]\n",
      " [ 7.33333333 -2.44658439]\n",
      " [ 3.66666667 -1.29455788]\n",
      " [-3.66666667  1.87603818]\n",
      " [-7.33333333  3.21821924]]\n",
      "The intermediate points are stored in the variable \"interpolated_points\"\n"
     ]
    },
    {
     "name": "stderr",
     "output_type": "stream",
     "text": [
      "<ipython-input-3-e5129fb5eb54>:29: MatplotlibDeprecationWarning: Adding an axes using the same arguments as a previous axes currently reuses the earlier instance.  In a future version, a new instance will always be created and returned.  Meanwhile, this warning can be suppressed, and the future behavior ensured, by passing a unique label to each axes instance.\n",
      "  ax = fig.add_subplot(111, autoscale_on=False,\n"
     ]
    },
    {
     "name": "stdout",
     "output_type": "stream",
     "text": [
      "13\n",
      "The interpolation points are stored in the variable \"EF_target_pos\": \n",
      "[[12.12132034  2.12132034]\n",
      " [ 8.66666667 -3.81668203]\n",
      " [ 4.33333333 -3.71467319]\n",
      " [-4.33333333  4.21135845]\n",
      " [-8.66666667  4.38886488]]\n",
      "The intermediate points are stored in the variable \"interpolated_points\"\n"
     ]
    },
    {
     "name": "stderr",
     "output_type": "stream",
     "text": [
      "<ipython-input-3-e5129fb5eb54>:29: MatplotlibDeprecationWarning: Adding an axes using the same arguments as a previous axes currently reuses the earlier instance.  In a future version, a new instance will always be created and returned.  Meanwhile, this warning can be suppressed, and the future behavior ensured, by passing a unique label to each axes instance.\n",
      "  ax = fig.add_subplot(111, autoscale_on=False,\n"
     ]
    },
    {
     "name": "stdout",
     "output_type": "stream",
     "text": [
      "14\n",
      "The interpolation points are stored in the variable \"EF_target_pos\": \n",
      "[[11.94974747  4.94974747]\n",
      " [ 9.33333333  0.88640477]\n",
      " [ 4.66666667  3.17906429]\n",
      " [-4.66666667 -0.74894503]\n",
      " [-9.33333333 -2.25372808]]\n",
      "The intermediate points are stored in the variable \"interpolated_points\"\n"
     ]
    },
    {
     "name": "stderr",
     "output_type": "stream",
     "text": [
      "<ipython-input-3-e5129fb5eb54>:29: MatplotlibDeprecationWarning: Adding an axes using the same arguments as a previous axes currently reuses the earlier instance.  In a future version, a new instance will always be created and returned.  Meanwhile, this warning can be suppressed, and the future behavior ensured, by passing a unique label to each axes instance.\n",
      "  ax = fig.add_subplot(111, autoscale_on=False,\n"
     ]
    },
    {
     "name": "stdout",
     "output_type": "stream",
     "text": [
      "17\n",
      "The interpolation points are stored in the variable \"EF_target_pos\": \n",
      "[[ 15.24264069   4.24264069]\n",
      " [ 11.33333333  -0.0640534 ]\n",
      " [  5.66666667  -0.19104258]\n",
      " [ -5.66666667  -8.18767273]\n",
      " [-11.33333333  -4.3287732 ]]\n",
      "The intermediate points are stored in the variable \"interpolated_points\"\n"
     ]
    },
    {
     "name": "stderr",
     "output_type": "stream",
     "text": [
      "<ipython-input-3-e5129fb5eb54>:29: MatplotlibDeprecationWarning: Adding an axes using the same arguments as a previous axes currently reuses the earlier instance.  In a future version, a new instance will always be created and returned.  Meanwhile, this warning can be suppressed, and the future behavior ensured, by passing a unique label to each axes instance.\n",
      "  ax = fig.add_subplot(111, autoscale_on=False,\n"
     ]
    },
    {
     "name": "stdout",
     "output_type": "stream",
     "text": [
      "15\n",
      "The interpolation points are stored in the variable \"EF_target_pos\": \n",
      "[[ 12.94974747   4.94974747]\n",
      " [ 10.          -4.3388665 ]\n",
      " [  5.           1.64411832]\n",
      " [ -5.          -4.36878778]\n",
      " [-10.           4.86624433]]\n",
      "The intermediate points are stored in the variable \"interpolated_points\"\n"
     ]
    },
    {
     "name": "stderr",
     "output_type": "stream",
     "text": [
      "<ipython-input-3-e5129fb5eb54>:29: MatplotlibDeprecationWarning: Adding an axes using the same arguments as a previous axes currently reuses the earlier instance.  In a future version, a new instance will always be created and returned.  Meanwhile, this warning can be suppressed, and the future behavior ensured, by passing a unique label to each axes instance.\n",
      "  ax = fig.add_subplot(111, autoscale_on=False,\n"
     ]
    },
    {
     "name": "stdout",
     "output_type": "stream",
     "text": [
      "10\n",
      "The interpolation points are stored in the variable \"EF_target_pos\": \n",
      "[[ 9.41421356  1.41421356]\n",
      " [ 6.66666667 -2.52274794]\n",
      " [ 3.33333333  5.48293756]\n",
      " [-3.33333333 -1.55284259]\n",
      " [-6.66666667  3.19517481]]\n",
      "The intermediate points are stored in the variable \"interpolated_points\"\n"
     ]
    },
    {
     "name": "stderr",
     "output_type": "stream",
     "text": [
      "<ipython-input-3-e5129fb5eb54>:29: MatplotlibDeprecationWarning: Adding an axes using the same arguments as a previous axes currently reuses the earlier instance.  In a future version, a new instance will always be created and returned.  Meanwhile, this warning can be suppressed, and the future behavior ensured, by passing a unique label to each axes instance.\n",
      "  ax = fig.add_subplot(111, autoscale_on=False,\n"
     ]
    },
    {
     "name": "stdout",
     "output_type": "stream",
     "text": [
      "21\n",
      "The interpolation points are stored in the variable \"EF_target_pos\": \n",
      "[[ 18.94974747   4.94974747]\n",
      " [ 14.          -4.19376506]\n",
      " [  7.         -11.1252908 ]\n",
      " [ -7.           5.48816449]\n",
      " [-14.          -0.40919889]]\n",
      "The intermediate points are stored in the variable \"interpolated_points\"\n"
     ]
    },
    {
     "name": "stderr",
     "output_type": "stream",
     "text": [
      "<ipython-input-3-e5129fb5eb54>:29: MatplotlibDeprecationWarning: Adding an axes using the same arguments as a previous axes currently reuses the earlier instance.  In a future version, a new instance will always be created and returned.  Meanwhile, this warning can be suppressed, and the future behavior ensured, by passing a unique label to each axes instance.\n",
      "  ax = fig.add_subplot(111, autoscale_on=False,\n"
     ]
    },
    {
     "name": "stdout",
     "output_type": "stream",
     "text": [
      "16\n",
      "The interpolation points are stored in the variable \"EF_target_pos\": \n",
      "[[ 14.53553391   3.53553391]\n",
      " [ 10.66666667   3.8197683 ]\n",
      " [  5.33333333   5.4342492 ]\n",
      " [ -5.33333333   1.88050395]\n",
      " [-10.66666667   4.12681903]]\n",
      "The intermediate points are stored in the variable \"interpolated_points\"\n"
     ]
    },
    {
     "name": "stderr",
     "output_type": "stream",
     "text": [
      "<ipython-input-3-e5129fb5eb54>:29: MatplotlibDeprecationWarning: Adding an axes using the same arguments as a previous axes currently reuses the earlier instance.  In a future version, a new instance will always be created and returned.  Meanwhile, this warning can be suppressed, and the future behavior ensured, by passing a unique label to each axes instance.\n",
      "  ax = fig.add_subplot(111, autoscale_on=False,\n"
     ]
    },
    {
     "name": "stdout",
     "output_type": "stream",
     "text": [
      "14\n",
      "The interpolation points are stored in the variable \"EF_target_pos\": \n",
      "[[12.82842712  2.82842712]\n",
      " [ 9.33333333 -1.15595103]\n",
      " [ 4.66666667 -2.97311253]\n",
      " [-4.66666667  2.13926561]\n",
      " [-9.33333333 -1.24519971]]\n",
      "The intermediate points are stored in the variable \"interpolated_points\"\n"
     ]
    },
    {
     "name": "stderr",
     "output_type": "stream",
     "text": [
      "<ipython-input-3-e5129fb5eb54>:29: MatplotlibDeprecationWarning: Adding an axes using the same arguments as a previous axes currently reuses the earlier instance.  In a future version, a new instance will always be created and returned.  Meanwhile, this warning can be suppressed, and the future behavior ensured, by passing a unique label to each axes instance.\n",
      "  ax = fig.add_subplot(111, autoscale_on=False,\n"
     ]
    },
    {
     "name": "stdout",
     "output_type": "stream",
     "text": [
      "14\n",
      "The interpolation points are stored in the variable \"EF_target_pos\": \n",
      "[[12.24264069  4.24264069]\n",
      " [ 9.33333333 -2.1291716 ]\n",
      " [ 4.66666667 -0.67987905]\n",
      " [-4.66666667 -6.18200393]\n",
      " [-9.33333333 -2.15119862]]\n",
      "The intermediate points are stored in the variable \"interpolated_points\"\n"
     ]
    },
    {
     "name": "stderr",
     "output_type": "stream",
     "text": [
      "<ipython-input-3-e5129fb5eb54>:29: MatplotlibDeprecationWarning: Adding an axes using the same arguments as a previous axes currently reuses the earlier instance.  In a future version, a new instance will always be created and returned.  Meanwhile, this warning can be suppressed, and the future behavior ensured, by passing a unique label to each axes instance.\n",
      "  ax = fig.add_subplot(111, autoscale_on=False,\n"
     ]
    },
    {
     "name": "stdout",
     "output_type": "stream",
     "text": [
      "11\n",
      "The interpolation points are stored in the variable \"EF_target_pos\": \n",
      "[[ 9.24264069  4.24264069]\n",
      " [ 7.33333333  0.09541646]\n",
      " [ 3.66666667 -5.41421967]\n",
      " [-3.66666667 -2.32343415]\n",
      " [-7.33333333 -1.64332574]]\n",
      "The intermediate points are stored in the variable \"interpolated_points\"\n"
     ]
    },
    {
     "name": "stderr",
     "output_type": "stream",
     "text": [
      "<ipython-input-3-e5129fb5eb54>:29: MatplotlibDeprecationWarning: Adding an axes using the same arguments as a previous axes currently reuses the earlier instance.  In a future version, a new instance will always be created and returned.  Meanwhile, this warning can be suppressed, and the future behavior ensured, by passing a unique label to each axes instance.\n",
      "  ax = fig.add_subplot(111, autoscale_on=False,\n"
     ]
    },
    {
     "name": "stdout",
     "output_type": "stream",
     "text": [
      "14\n",
      "The interpolation points are stored in the variable \"EF_target_pos\": \n",
      "[[12.53553391  3.53553391]\n",
      " [ 9.33333333  0.05242162]\n",
      " [ 4.66666667  8.51882863]\n",
      " [-4.66666667 -8.29383366]\n",
      " [-9.33333333 -1.03733174]]\n",
      "The intermediate points are stored in the variable \"interpolated_points\"\n"
     ]
    },
    {
     "name": "stderr",
     "output_type": "stream",
     "text": [
      "<ipython-input-3-e5129fb5eb54>:29: MatplotlibDeprecationWarning: Adding an axes using the same arguments as a previous axes currently reuses the earlier instance.  In a future version, a new instance will always be created and returned.  Meanwhile, this warning can be suppressed, and the future behavior ensured, by passing a unique label to each axes instance.\n",
      "  ax = fig.add_subplot(111, autoscale_on=False,\n"
     ]
    },
    {
     "name": "stdout",
     "output_type": "stream",
     "text": [
      "13\n",
      "The interpolation points are stored in the variable \"EF_target_pos\": \n",
      "[[11.24264069  4.24264069]\n",
      " [ 8.66666667  1.27316036]\n",
      " [ 4.33333333  6.74740378]\n",
      " [-4.33333333  0.04868445]\n",
      " [-8.66666667  1.52009865]]\n",
      "The intermediate points are stored in the variable \"interpolated_points\"\n"
     ]
    },
    {
     "name": "stderr",
     "output_type": "stream",
     "text": [
      "<ipython-input-3-e5129fb5eb54>:29: MatplotlibDeprecationWarning: Adding an axes using the same arguments as a previous axes currently reuses the earlier instance.  In a future version, a new instance will always be created and returned.  Meanwhile, this warning can be suppressed, and the future behavior ensured, by passing a unique label to each axes instance.\n",
      "  ax = fig.add_subplot(111, autoscale_on=False,\n"
     ]
    },
    {
     "name": "stdout",
     "output_type": "stream",
     "text": [
      "18\n",
      "The interpolation points are stored in the variable \"EF_target_pos\": \n",
      "[[ 16.24264069   4.24264069]\n",
      " [ 12.           3.72074968]\n",
      " [  6.           1.46405417]\n",
      " [ -6.         -10.7749897 ]\n",
      " [-12.           2.21130265]]\n",
      "The intermediate points are stored in the variable \"interpolated_points\"\n"
     ]
    },
    {
     "name": "stderr",
     "output_type": "stream",
     "text": [
      "<ipython-input-3-e5129fb5eb54>:29: MatplotlibDeprecationWarning: Adding an axes using the same arguments as a previous axes currently reuses the earlier instance.  In a future version, a new instance will always be created and returned.  Meanwhile, this warning can be suppressed, and the future behavior ensured, by passing a unique label to each axes instance.\n",
      "  ax = fig.add_subplot(111, autoscale_on=False,\n"
     ]
    },
    {
     "name": "stdout",
     "output_type": "stream",
     "text": [
      "16\n",
      "The interpolation points are stored in the variable \"EF_target_pos\": \n",
      "[[ 15.41421356   1.41421356]\n",
      " [ 10.66666667  -4.78163139]\n",
      " [  5.33333333  -8.05455886]\n",
      " [ -5.33333333  -5.80620575]\n",
      " [-10.66666667   1.42688432]]\n",
      "The intermediate points are stored in the variable \"interpolated_points\"\n"
     ]
    },
    {
     "name": "stderr",
     "output_type": "stream",
     "text": [
      "<ipython-input-3-e5129fb5eb54>:29: MatplotlibDeprecationWarning: Adding an axes using the same arguments as a previous axes currently reuses the earlier instance.  In a future version, a new instance will always be created and returned.  Meanwhile, this warning can be suppressed, and the future behavior ensured, by passing a unique label to each axes instance.\n",
      "  ax = fig.add_subplot(111, autoscale_on=False,\n"
     ]
    },
    {
     "name": "stdout",
     "output_type": "stream",
     "text": [
      "9\n",
      "The interpolation points are stored in the variable \"EF_target_pos\": \n",
      "[[ 8.12132034  2.12132034]\n",
      " [ 6.         -1.77553495]\n",
      " [ 3.         -1.21758093]\n",
      " [-3.         -0.78006348]\n",
      " [-6.         -0.80162358]]\n",
      "The intermediate points are stored in the variable \"interpolated_points\"\n"
     ]
    },
    {
     "name": "stderr",
     "output_type": "stream",
     "text": [
      "<ipython-input-3-e5129fb5eb54>:29: MatplotlibDeprecationWarning: Adding an axes using the same arguments as a previous axes currently reuses the earlier instance.  In a future version, a new instance will always be created and returned.  Meanwhile, this warning can be suppressed, and the future behavior ensured, by passing a unique label to each axes instance.\n",
      "  ax = fig.add_subplot(111, autoscale_on=False,\n"
     ]
    },
    {
     "name": "stdout",
     "output_type": "stream",
     "text": [
      "18\n",
      "The interpolation points are stored in the variable \"EF_target_pos\": \n",
      "[[ 16.24264069   4.24264069]\n",
      " [ 12.           0.76093088]\n",
      " [  6.           7.85735819]\n",
      " [ -6.           7.67686572]\n",
      " [-12.          -5.5594738 ]]\n",
      "The intermediate points are stored in the variable \"interpolated_points\"\n"
     ]
    },
    {
     "name": "stderr",
     "output_type": "stream",
     "text": [
      "<ipython-input-3-e5129fb5eb54>:29: MatplotlibDeprecationWarning: Adding an axes using the same arguments as a previous axes currently reuses the earlier instance.  In a future version, a new instance will always be created and returned.  Meanwhile, this warning can be suppressed, and the future behavior ensured, by passing a unique label to each axes instance.\n",
      "  ax = fig.add_subplot(111, autoscale_on=False,\n"
     ]
    },
    {
     "name": "stdout",
     "output_type": "stream",
     "text": [
      "15\n",
      "The interpolation points are stored in the variable \"EF_target_pos\": \n",
      "[[ 1.38284271e+01  2.82842712e+00]\n",
      " [ 1.00000000e+01 -4.83984574e+00]\n",
      " [ 5.00000000e+00  2.87953381e+00]\n",
      " [-5.00000000e+00  4.97858772e+00]\n",
      " [-1.00000000e+01  6.76634150e-03]]\n",
      "The intermediate points are stored in the variable \"interpolated_points\"\n"
     ]
    },
    {
     "name": "stderr",
     "output_type": "stream",
     "text": [
      "<ipython-input-3-e5129fb5eb54>:29: MatplotlibDeprecationWarning: Adding an axes using the same arguments as a previous axes currently reuses the earlier instance.  In a future version, a new instance will always be created and returned.  Meanwhile, this warning can be suppressed, and the future behavior ensured, by passing a unique label to each axes instance.\n",
      "  ax = fig.add_subplot(111, autoscale_on=False,\n"
     ]
    },
    {
     "name": "stdout",
     "output_type": "stream",
     "text": [
      "14\n",
      "The interpolation points are stored in the variable \"EF_target_pos\": \n",
      "[[12.24264069  4.24264069]\n",
      " [ 9.33333333 -4.13890428]\n",
      " [ 4.66666667 -3.09665497]\n",
      " [-4.66666667 -6.92269126]\n",
      " [-9.33333333  2.11246498]]\n",
      "The intermediate points are stored in the variable \"interpolated_points\"\n"
     ]
    },
    {
     "name": "stderr",
     "output_type": "stream",
     "text": [
      "<ipython-input-3-e5129fb5eb54>:29: MatplotlibDeprecationWarning: Adding an axes using the same arguments as a previous axes currently reuses the earlier instance.  In a future version, a new instance will always be created and returned.  Meanwhile, this warning can be suppressed, and the future behavior ensured, by passing a unique label to each axes instance.\n",
      "  ax = fig.add_subplot(111, autoscale_on=False,\n"
     ]
    },
    {
     "name": "stdout",
     "output_type": "stream",
     "text": [
      "11\n",
      "The interpolation points are stored in the variable \"EF_target_pos\": \n",
      "[[10.12132034  2.12132034]\n",
      " [ 7.33333333 -2.8979087 ]\n",
      " [ 3.66666667  1.07740553]\n",
      " [-3.66666667 -4.89914976]\n",
      " [-7.33333333  3.61895615]]\n",
      "The intermediate points are stored in the variable \"interpolated_points\"\n"
     ]
    },
    {
     "name": "stderr",
     "output_type": "stream",
     "text": [
      "<ipython-input-3-e5129fb5eb54>:29: MatplotlibDeprecationWarning: Adding an axes using the same arguments as a previous axes currently reuses the earlier instance.  In a future version, a new instance will always be created and returned.  Meanwhile, this warning can be suppressed, and the future behavior ensured, by passing a unique label to each axes instance.\n",
      "  ax = fig.add_subplot(111, autoscale_on=False,\n"
     ]
    },
    {
     "name": "stdout",
     "output_type": "stream",
     "text": [
      "13\n",
      "The interpolation points are stored in the variable \"EF_target_pos\": \n",
      "[[11.24264069  4.24264069]\n",
      " [ 8.66666667 -2.42767902]\n",
      " [ 4.33333333  6.5733993 ]\n",
      " [-4.33333333 -1.19724084]\n",
      " [-8.66666667  3.35331726]]\n",
      "The intermediate points are stored in the variable \"interpolated_points\"\n"
     ]
    },
    {
     "name": "stderr",
     "output_type": "stream",
     "text": [
      "<ipython-input-3-e5129fb5eb54>:29: MatplotlibDeprecationWarning: Adding an axes using the same arguments as a previous axes currently reuses the earlier instance.  In a future version, a new instance will always be created and returned.  Meanwhile, this warning can be suppressed, and the future behavior ensured, by passing a unique label to each axes instance.\n",
      "  ax = fig.add_subplot(111, autoscale_on=False,\n"
     ]
    },
    {
     "name": "stdout",
     "output_type": "stream",
     "text": [
      "12\n",
      "The interpolation points are stored in the variable \"EF_target_pos\": \n",
      "[[11.41421356  1.41421356]\n",
      " [ 8.         -1.52506705]\n",
      " [ 4.          8.00713712]\n",
      " [-4.         -6.89410504]\n",
      " [-8.         -0.53939612]]\n",
      "The intermediate points are stored in the variable \"interpolated_points\"\n"
     ]
    },
    {
     "name": "stderr",
     "output_type": "stream",
     "text": [
      "<ipython-input-3-e5129fb5eb54>:29: MatplotlibDeprecationWarning: Adding an axes using the same arguments as a previous axes currently reuses the earlier instance.  In a future version, a new instance will always be created and returned.  Meanwhile, this warning can be suppressed, and the future behavior ensured, by passing a unique label to each axes instance.\n",
      "  ax = fig.add_subplot(111, autoscale_on=False,\n"
     ]
    },
    {
     "name": "stdout",
     "output_type": "stream",
     "text": [
      "14\n",
      "The interpolation points are stored in the variable \"EF_target_pos\": \n",
      "[[12.53553391  3.53553391]\n",
      " [ 9.33333333 -3.61703824]\n",
      " [ 4.66666667  7.39648719]\n",
      " [-4.66666667 -2.92699294]\n",
      " [-9.33333333  0.82262743]]\n",
      "The intermediate points are stored in the variable \"interpolated_points\"\n"
     ]
    },
    {
     "name": "stderr",
     "output_type": "stream",
     "text": [
      "<ipython-input-3-e5129fb5eb54>:29: MatplotlibDeprecationWarning: Adding an axes using the same arguments as a previous axes currently reuses the earlier instance.  In a future version, a new instance will always be created and returned.  Meanwhile, this warning can be suppressed, and the future behavior ensured, by passing a unique label to each axes instance.\n",
      "  ax = fig.add_subplot(111, autoscale_on=False,\n"
     ]
    },
    {
     "name": "stdout",
     "output_type": "stream",
     "text": [
      "15\n",
      "The interpolation points are stored in the variable \"EF_target_pos\": \n",
      "[[ 14.12132034   2.12132034]\n",
      " [ 10.          -0.48647913]\n",
      " [  5.           3.73506865]\n",
      " [ -5.          -1.41241096]\n",
      " [-10.          -4.44180458]]\n",
      "The intermediate points are stored in the variable \"interpolated_points\"\n"
     ]
    },
    {
     "name": "stderr",
     "output_type": "stream",
     "text": [
      "<ipython-input-3-e5129fb5eb54>:29: MatplotlibDeprecationWarning: Adding an axes using the same arguments as a previous axes currently reuses the earlier instance.  In a future version, a new instance will always be created and returned.  Meanwhile, this warning can be suppressed, and the future behavior ensured, by passing a unique label to each axes instance.\n",
      "  ax = fig.add_subplot(111, autoscale_on=False,\n"
     ]
    },
    {
     "name": "stdout",
     "output_type": "stream",
     "text": [
      "12\n",
      "The interpolation points are stored in the variable \"EF_target_pos\": \n",
      "[[10.82842712  2.82842712]\n",
      " [ 8.          3.52969628]\n",
      " [ 4.         -4.79100053]\n",
      " [-4.          1.67613034]\n",
      " [-8.         -3.7411828 ]]\n",
      "The intermediate points are stored in the variable \"interpolated_points\"\n"
     ]
    },
    {
     "name": "stderr",
     "output_type": "stream",
     "text": [
      "<ipython-input-3-e5129fb5eb54>:29: MatplotlibDeprecationWarning: Adding an axes using the same arguments as a previous axes currently reuses the earlier instance.  In a future version, a new instance will always be created and returned.  Meanwhile, this warning can be suppressed, and the future behavior ensured, by passing a unique label to each axes instance.\n",
      "  ax = fig.add_subplot(111, autoscale_on=False,\n"
     ]
    },
    {
     "name": "stdout",
     "output_type": "stream",
     "text": [
      "10\n",
      "The interpolation points are stored in the variable \"EF_target_pos\": \n",
      "[[ 9.41421356  1.41421356]\n",
      " [ 6.66666667  1.06806036]\n",
      " [ 3.33333333  1.30263865]\n",
      " [-3.33333333  4.41144818]\n",
      " [-6.66666667 -0.55136074]]\n",
      "The intermediate points are stored in the variable \"interpolated_points\"\n"
     ]
    },
    {
     "name": "stderr",
     "output_type": "stream",
     "text": [
      "<ipython-input-3-e5129fb5eb54>:29: MatplotlibDeprecationWarning: Adding an axes using the same arguments as a previous axes currently reuses the earlier instance.  In a future version, a new instance will always be created and returned.  Meanwhile, this warning can be suppressed, and the future behavior ensured, by passing a unique label to each axes instance.\n",
      "  ax = fig.add_subplot(111, autoscale_on=False,\n"
     ]
    },
    {
     "name": "stdout",
     "output_type": "stream",
     "text": [
      "15\n",
      "The interpolation points are stored in the variable \"EF_target_pos\": \n",
      "[[ 13.82842712   2.82842712]\n",
      " [ 10.           1.59071628]\n",
      " [  5.          -4.69769723]\n",
      " [ -5.          -8.32327328]\n",
      " [-10.           2.28469495]]\n",
      "The intermediate points are stored in the variable \"interpolated_points\"\n"
     ]
    },
    {
     "name": "stderr",
     "output_type": "stream",
     "text": [
      "<ipython-input-3-e5129fb5eb54>:29: MatplotlibDeprecationWarning: Adding an axes using the same arguments as a previous axes currently reuses the earlier instance.  In a future version, a new instance will always be created and returned.  Meanwhile, this warning can be suppressed, and the future behavior ensured, by passing a unique label to each axes instance.\n",
      "  ax = fig.add_subplot(111, autoscale_on=False,\n"
     ]
    },
    {
     "name": "stdout",
     "output_type": "stream",
     "text": [
      "11\n",
      "The interpolation points are stored in the variable \"EF_target_pos\": \n",
      "[[ 9.82842712  2.82842712]\n",
      " [ 7.33333333  0.3734352 ]\n",
      " [ 3.66666667 -1.62869519]\n",
      " [-3.66666667  4.71156437]\n",
      " [-7.33333333  1.62442077]]\n",
      "The intermediate points are stored in the variable \"interpolated_points\"\n"
     ]
    },
    {
     "name": "stderr",
     "output_type": "stream",
     "text": [
      "<ipython-input-3-e5129fb5eb54>:29: MatplotlibDeprecationWarning: Adding an axes using the same arguments as a previous axes currently reuses the earlier instance.  In a future version, a new instance will always be created and returned.  Meanwhile, this warning can be suppressed, and the future behavior ensured, by passing a unique label to each axes instance.\n",
      "  ax = fig.add_subplot(111, autoscale_on=False,\n"
     ]
    },
    {
     "name": "stdout",
     "output_type": "stream",
     "text": [
      "14\n",
      "The interpolation points are stored in the variable \"EF_target_pos\": \n",
      "[[12.53553391  3.53553391]\n",
      " [ 9.33333333 -0.11044873]\n",
      " [ 4.66666667 -7.85393955]\n",
      " [-4.66666667  1.79089102]\n",
      " [-9.33333333  0.51979495]]\n",
      "The intermediate points are stored in the variable \"interpolated_points\"\n"
     ]
    },
    {
     "name": "stderr",
     "output_type": "stream",
     "text": [
      "<ipython-input-3-e5129fb5eb54>:29: MatplotlibDeprecationWarning: Adding an axes using the same arguments as a previous axes currently reuses the earlier instance.  In a future version, a new instance will always be created and returned.  Meanwhile, this warning can be suppressed, and the future behavior ensured, by passing a unique label to each axes instance.\n",
      "  ax = fig.add_subplot(111, autoscale_on=False,\n"
     ]
    },
    {
     "name": "stdout",
     "output_type": "stream",
     "text": [
      "11\n",
      "The interpolation points are stored in the variable \"EF_target_pos\": \n",
      "[[ 9.82842712  2.82842712]\n",
      " [ 7.33333333 -2.53282498]\n",
      " [ 3.66666667  3.65268126]\n",
      " [-3.66666667 -0.23770489]\n",
      " [-7.33333333  2.64163174]]\n",
      "The intermediate points are stored in the variable \"interpolated_points\"\n"
     ]
    },
    {
     "name": "stderr",
     "output_type": "stream",
     "text": [
      "<ipython-input-3-e5129fb5eb54>:29: MatplotlibDeprecationWarning: Adding an axes using the same arguments as a previous axes currently reuses the earlier instance.  In a future version, a new instance will always be created and returned.  Meanwhile, this warning can be suppressed, and the future behavior ensured, by passing a unique label to each axes instance.\n",
      "  ax = fig.add_subplot(111, autoscale_on=False,\n"
     ]
    },
    {
     "name": "stdout",
     "output_type": "stream",
     "text": [
      "14\n",
      "The interpolation points are stored in the variable \"EF_target_pos\": \n",
      "[[12.82842712  2.82842712]\n",
      " [ 9.33333333  2.10651228]\n",
      " [ 4.66666667  0.77194757]\n",
      " [-4.66666667 -4.51547807]\n",
      " [-9.33333333 -3.72868289]]\n",
      "The intermediate points are stored in the variable \"interpolated_points\"\n"
     ]
    },
    {
     "name": "stderr",
     "output_type": "stream",
     "text": [
      "<ipython-input-3-e5129fb5eb54>:29: MatplotlibDeprecationWarning: Adding an axes using the same arguments as a previous axes currently reuses the earlier instance.  In a future version, a new instance will always be created and returned.  Meanwhile, this warning can be suppressed, and the future behavior ensured, by passing a unique label to each axes instance.\n",
      "  ax = fig.add_subplot(111, autoscale_on=False,\n"
     ]
    },
    {
     "name": "stdout",
     "output_type": "stream",
     "text": [
      "19\n",
      "The interpolation points are stored in the variable \"EF_target_pos\": \n",
      "[[ 16.94974747   4.94974747]\n",
      " [ 12.66666667  -3.30291544]\n",
      " [  6.33333333  -3.49822008]\n",
      " [ -6.33333333   2.52284427]\n",
      " [-12.66666667   1.697206  ]]\n",
      "The intermediate points are stored in the variable \"interpolated_points\"\n"
     ]
    },
    {
     "name": "stderr",
     "output_type": "stream",
     "text": [
      "<ipython-input-3-e5129fb5eb54>:29: MatplotlibDeprecationWarning: Adding an axes using the same arguments as a previous axes currently reuses the earlier instance.  In a future version, a new instance will always be created and returned.  Meanwhile, this warning can be suppressed, and the future behavior ensured, by passing a unique label to each axes instance.\n",
      "  ax = fig.add_subplot(111, autoscale_on=False,\n"
     ]
    },
    {
     "name": "stdout",
     "output_type": "stream",
     "text": [
      "12\n",
      "The interpolation points are stored in the variable \"EF_target_pos\": \n",
      "[[11.12132034  2.12132034]\n",
      " [ 8.          3.82768116]\n",
      " [ 4.         -4.6915295 ]\n",
      " [-4.          2.45369006]\n",
      " [-8.          1.4088207 ]]\n",
      "The intermediate points are stored in the variable \"interpolated_points\"\n"
     ]
    },
    {
     "name": "stderr",
     "output_type": "stream",
     "text": [
      "<ipython-input-3-e5129fb5eb54>:29: MatplotlibDeprecationWarning: Adding an axes using the same arguments as a previous axes currently reuses the earlier instance.  In a future version, a new instance will always be created and returned.  Meanwhile, this warning can be suppressed, and the future behavior ensured, by passing a unique label to each axes instance.\n",
      "  ax = fig.add_subplot(111, autoscale_on=False,\n"
     ]
    },
    {
     "name": "stdout",
     "output_type": "stream",
     "text": [
      "18\n",
      "The interpolation points are stored in the variable \"EF_target_pos\": \n",
      "[[ 15.94974747   4.94974747]\n",
      " [ 12.           6.18300939]\n",
      " [  6.           1.82302966]\n",
      " [ -6.          -9.31973717]\n",
      " [-12.          -0.41303675]]\n",
      "The intermediate points are stored in the variable \"interpolated_points\"\n"
     ]
    },
    {
     "name": "stderr",
     "output_type": "stream",
     "text": [
      "<ipython-input-3-e5129fb5eb54>:29: MatplotlibDeprecationWarning: Adding an axes using the same arguments as a previous axes currently reuses the earlier instance.  In a future version, a new instance will always be created and returned.  Meanwhile, this warning can be suppressed, and the future behavior ensured, by passing a unique label to each axes instance.\n",
      "  ax = fig.add_subplot(111, autoscale_on=False,\n"
     ]
    },
    {
     "name": "stdout",
     "output_type": "stream",
     "text": [
      "17\n",
      "The interpolation points are stored in the variable \"EF_target_pos\": \n",
      "[[ 14.94974747   4.94974747]\n",
      " [ 11.33333333   5.36392409]\n",
      " [  5.66666667  -2.16544581]\n",
      " [ -5.66666667  -7.19840036]\n",
      " [-11.33333333  -0.08783427]]\n",
      "The intermediate points are stored in the variable \"interpolated_points\"\n"
     ]
    },
    {
     "name": "stderr",
     "output_type": "stream",
     "text": [
      "<ipython-input-3-e5129fb5eb54>:29: MatplotlibDeprecationWarning: Adding an axes using the same arguments as a previous axes currently reuses the earlier instance.  In a future version, a new instance will always be created and returned.  Meanwhile, this warning can be suppressed, and the future behavior ensured, by passing a unique label to each axes instance.\n",
      "  ax = fig.add_subplot(111, autoscale_on=False,\n"
     ]
    }
   ],
   "source": [
    "for i in range(375,500):\n",
    "    create_simulation(i,50)"
   ]
  },
  {
   "cell_type": "code",
   "execution_count": null,
   "metadata": {},
   "outputs": [],
   "source": []
  }
 ],
 "metadata": {
  "kernelspec": {
   "display_name": "Python 3",
   "language": "python",
   "name": "python3"
  },
  "language_info": {
   "codemirror_mode": {
    "name": "ipython",
    "version": 3
   },
   "file_extension": ".py",
   "mimetype": "text/x-python",
   "name": "python",
   "nbconvert_exporter": "python",
   "pygments_lexer": "ipython3",
   "version": "3.8.10"
  }
 },
 "nbformat": 4,
 "nbformat_minor": 2
}
