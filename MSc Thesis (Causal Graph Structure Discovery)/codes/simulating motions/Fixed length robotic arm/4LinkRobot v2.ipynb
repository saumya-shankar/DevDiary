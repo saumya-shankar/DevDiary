{
 "cells": [
  {
   "cell_type": "code",
   "execution_count": 1,
   "metadata": {},
   "outputs": [],
   "source": [
    "import numpy as np\n",
    "import matplotlib.pyplot as plt\n",
    "from celluloid import Camera\n",
    "from IPython.display import HTML\n",
    "import pandas as pd\n",
    "import random"
   ]
  },
  {
   "cell_type": "code",
   "execution_count": 2,
   "metadata": {},
   "outputs": [],
   "source": [
    "\n",
    "class FourLinkArm:\n",
    "    \n",
    "    def __init__(self):\n",
    "        # Set parameters for the 3-link planar arm\n",
    "        self.theta1 = np.deg2rad(0)\n",
    "        self.theta2 = np.deg2rad(90)\n",
    "        self.theta3 = np.deg2rad(90)\n",
    "        self.theta4 = np.deg2rad(90)\n",
    "        self.l1 = np.random.randint(2,8)\n",
    "        self.l2 = np.random.randint(2,8)\n",
    "        self.l3 = np.random.randint(2,8)\n",
    "        self.l4 = np.random.randint(2,8)\n",
    "\n",
    "    def forwardKinematics(self, theta1, theta2, theta3,theta4):\n",
    "        # Define the homogeneous transformation matrices for the 4-link planar arm\n",
    "        self.theta1 = theta1\n",
    "        self.theta2 = theta2\n",
    "        self.theta3 = theta3\n",
    "        self.theta4 = theta4\n",
    "        self.t01 = np.matrix([[np.cos(self.theta1), -np.sin(self.theta1), 0], \n",
    "                              [np.sin(self.theta1), np.cos(self.theta1), 0],\n",
    "                              [0, 0, 1]])\n",
    "        self.t12 = np.matrix([[np.cos(self.theta2), -np.sin(self.theta2), self.l1],\n",
    "                              [np.sin(self.theta2), np.cos(self.theta2), 0],\n",
    "                              [0, 0, 1]])\n",
    "        self.t23 = np.matrix([[np.cos(self.theta3), -np.sin(self.theta3), self.l2],\n",
    "                              [np.sin(self.theta3), np.cos(self.theta3), 0],\n",
    "                              [0, 0, 1]])        \n",
    "        self.t34 = np.matrix([[np.cos(self.theta4), -np.sin(self.theta4), self.l3],\n",
    "                              [np.sin(self.theta4), np.cos(self.theta4), 0],\n",
    "                              [0, 0, 1]])\n",
    "        self.t4end = np.matrix([[np.cos(self.theta4), -np.sin(self.theta4), self.l4],\n",
    "                                [np.sin(self.theta4), np.cos(self.theta4), 0],\n",
    "                                [0, 0, 1]])\n",
    "\n",
    "        self.t0end = self.t01*self.t12*self.t23*self.t34*self.t4end\n",
    "        return self.t0end\n",
    "    \n",
    "    def findJointPos(self): \n",
    "        # Find the x,y position of each joint and end effector so it can be plotted\n",
    "        # Find the transformation matrices for joint 2 and joint 3 and joint 4\n",
    "        self.t02 = self.t01*self.t12\n",
    "        self.t03 = self.t01*self.t12*self.t23\n",
    "        self.t04 = self.t01*self.t12*self.t23*self.t34\n",
    "        # Find the x, y coordinates for joints 2 and 3 and 4. Put them in a list j2 = [x,y]\n",
    "        j2 = [ self.t02[0, 2], self.t02[1, 2] ]\n",
    "        j3 = [ self.t03[0, 2], self.t03[1, 2] ]\n",
    "        j4 = [ self.t04[0, 2], self.t04[1, 2] ]\n",
    "        endeff = [self.t0end[0,2],self.t0end[1,2]]\n",
    "        \n",
    "        self.jnt2pos, self.jnt3pos, self.jnt4pos, self.endEffPos = j2,j3,j4,endeff\n",
    "        return j2,j3,j4,endeff\n",
    "    \n",
    "    def geomJacobian(self, jnt2pos=None, jnt3pos=None, jnt4pos=None, endEffPos=None):\n",
    "        if jnt2pos is None:\n",
    "            jnt2pos=self.jnt2pos \n",
    "        if jnt3pos is None:\n",
    "            jnt3pos=self.jnt3pos\n",
    "        if jnt4pos is None:\n",
    "            jnt4pos=self.jnt4pos\n",
    "        if endEffPos is None:\n",
    "            endEffPos=self.endEffPos\n",
    "        ai = np.array([0,0,1])\n",
    "        col0 = np.array(endEffPos + [0])\n",
    "        col1 = np.array(endEffPos + [0]) - np.array(jnt2pos + [0])\n",
    "        col2 = np.array(endEffPos + [0]) - np.array(jnt3pos + [0])\n",
    "        col3 = np.array(endEffPos + [0]) - np.array(jnt4pos + [0])\n",
    "        J = np.array([np.cross(ai,col0), np.cross(ai,col1), np.cross(ai,col2), np.cross(ai,col3)]).T \n",
    "        return J"
   ]
  },
  {
   "cell_type": "code",
   "execution_count": 3,
   "metadata": {},
   "outputs": [],
   "source": [
    "def plotArm(jnt2pos, jnt3pos, jnt4pos, endEffectPos, target=None, step=None):\n",
    "    # set up figure\n",
    "    fig = plt.figure(figsize=(10,10))\n",
    "    ax = fig.add_subplot(111, autoscale_on=False, xlim=(-25, 25), ylim=(-25, 25))\n",
    "    ax.grid()\n",
    "    \n",
    "    if step is not None:\n",
    "        step = np.array(step)\n",
    "        plt.scatter(step[:, 0],step[:, 1], color='lightblue', marker='o')\n",
    "        plt.plot(step[:, 0],step[:, 1], color='lightblue')\n",
    "    if target is not None:\n",
    "        target = np.array(target)\n",
    "        plt.scatter(target[:, 0],target[:, 1], color='red', marker='o')\n",
    "        \n",
    "    line, = ax.plot([], [], 'o-', lw=4, mew=5)\n",
    "    time_text = ax.text(0.02, 0.95, '', transform=ax.transAxes)\n",
    "\n",
    "    line.set_data([], [])\n",
    "    time_text.set_text('')\n",
    "    x = np.array([0, jnt2pos[0], jnt3pos[0], jnt4pos[0], endEffectPos[0]])\n",
    "    y = np.array([0, jnt2pos[1], jnt3pos[1], jnt4pos[1], endEffectPos[1]])\n",
    "    line.set_data((x,y))\n",
    "    \n",
    "    plt.show()\n",
    "    \n",
    "# gif animation plotter\n",
    "def plotArm2(jnt2pos, jnt3pos, jnt4pos, endEffectPos,x2,y2, target=None, step=None, fig=None, camera=None):\n",
    "    # set up figure\n",
    "    ax = fig.add_subplot(111, autoscale_on=False,\n",
    "                         xlim=(-25, 25), ylim=(-25, 25))\n",
    "    ax.grid()\n",
    "    line, = ax.plot([], [], 'o-', lw=4, mew=5, color='lightblue')\n",
    "    time_text = ax.text(0.02, 0.95, '', transform=ax.transAxes)\n",
    "\n",
    "    line.set_data([], [])\n",
    "    time_text.set_text('')\n",
    "    x = np.array([0, jnt2pos[0], jnt3pos[0], jnt4pos[0], endEffectPos[0]])\n",
    "    y = np.array([0, jnt2pos[1], jnt3pos[1], jnt4pos[1], endEffectPos[1]])\n",
    "    line.set_data((x,y))\n",
    "    \n",
    "    plt.plot([jnt4pos[0],x2[0]],[jnt4pos[1],y2[0]],'o-', lw=2, mew=5, color='black')\n",
    "    plt.plot([jnt4pos[0],x2[1]],[jnt4pos[1],y2[1]],'o-', lw=2, mew=5, color='black')\n",
    "\n",
    "\n",
    "    if step is not None:\n",
    "        step = np.array(step)\n",
    "        plt.scatter(step[:, 0],step[:, 1], color='lightblue', marker='o')\n",
    "        plt.plot(step[:, 0],step[:, 1], color='lightblue')\n",
    "    if target is not None:\n",
    "        target = np.array(target)\n",
    "        plt.scatter(target[:, 0],target[:, 1], color='red', marker='o')\n",
    "\n",
    "    camera.snap()"
   ]
  },
  {
   "cell_type": "markdown",
   "metadata": {},
   "source": [
    "In this part, let's plan some simple polynomial trajectories in the work space. "
   ]
  },
  {
   "cell_type": "markdown",
   "metadata": {},
   "source": [
    "First, setup a simple environment with the arm manipulator and four intermediate interpolation points."
   ]
  },
  {
   "cell_type": "code",
   "execution_count": 4,
   "metadata": {},
   "outputs": [],
   "source": [
    "def create_simulation(animation_index,samples):\n",
    "    \n",
    "    # Setup our new manipulator\n",
    "    arm = FourLinkArm()\n",
    "    \n",
    "    # define the initial configuration of the manipulator (you are welcomed to try other values)\n",
    "    initTheta = [np.deg2rad(0),np.deg2rad(45),np.deg2rad(-45),np.deg2rad(45)]\n",
    "\n",
    "    # Initialise the arm with the initial values\n",
    "    _ = arm.forwardKinematics(*initTheta)\n",
    "\n",
    "    # Get the initial end-effector position \n",
    "    init_joint2pos, init_joint3pos, init_joint4pos, EF_init_pos = arm.findJointPos()\n",
    "\n",
    "    # Define the target postions of the end-effector\n",
    "    # EF_target_pos = np.array([[EF_init_pos[0], 6.,2.,-4.,-8.],\n",
    "    #                           [EF_init_pos[1], -6.,8.,-5.,6.]]).T\n",
    "    ##Choose points randomly, choose x equally spaced and y randomly\n",
    "    L=arm.l1+arm.l2+arm.l3+arm.l4\n",
    "    print(L)\n",
    "    x_points=np.array([2/3*L, 1/3*L, -1/3*L, -2/3*L])\n",
    "\n",
    "    y_points=[]\n",
    "    R=3*L/4\n",
    "    for i in range(4):\n",
    "        y_points.append(random.uniform(-1*np.sqrt(R**2-x_points[i]**2),\n",
    "                                          np.sqrt(R**2-x_points[i]**2)))\n",
    "    y_points=np.array(y_points)\n",
    "    \n",
    "    EF_target_pos = np.array([[EF_init_pos[0], x_points[0],x_points[1],x_points[2],x_points[3]],\n",
    "                              [EF_init_pos[1], y_points[0],y_points[1],y_points[2],y_points[3]]]).T\n",
    "\n",
    "    # Plot the pose of the arm\n",
    "    #plotArm(*arm.findJointPos(), target=EF_target_pos)\n",
    "    print(f\"The interpolation points are stored in the variable \\\"EF_target_pos\\\": \\n{EF_target_pos}\")\n",
    "    \n",
    "    pol = np.polyfit(EF_target_pos[:, 0], EF_target_pos[:, 1], EF_target_pos.shape[0]-1)  # polynomial coefficients\n",
    "    \n",
    "    # Plotting the planned trajectory\n",
    "    #epsilon = 100\n",
    "    epsilon = samples\n",
    "    \n",
    "    xx = np.linspace(EF_target_pos[0,0],EF_target_pos[-1,0], epsilon)\n",
    "    yy = np.polyval(pol,xx)   \n",
    "    curve = np.hstack([xx[:, None], yy[:, None]]) \n",
    "    \n",
    "    interpolated_points=curve\n",
    "\n",
    "#     plotArm(*arm.findJointPos(), target=EF_target_pos, step=interpolated_points)\n",
    "    print(f\"The intermediate points are stored in the variable \\\"interpolated_points\\\"\")\n",
    "    \n",
    "    # set the current E-F position for the IK loop\n",
    "    joint2pos, joint3pos, joint4pos, endEffectorPos = init_joint2pos, init_joint3pos, init_joint4pos, EF_init_pos\n",
    "    # set the initial robot configuration\n",
    "    newTheta = initTheta\n",
    "\n",
    "    # Set up the animation generator\n",
    "    fig = plt.figure(figsize=(10,10))\n",
    "    camera = Camera(fig)\n",
    "    \n",
    "    temp_eeff_angle=np.append(np.linspace(0,45,int(interpolated_points.shape[0]/8)),\n",
    "                          np.linspace(45,0,int(interpolated_points.shape[0]/8)))\n",
    "    \n",
    "    wrist_len=np.random.randint(2,arm.l4+1)\n",
    "    \n",
    "    keypoints_data=pd.DataFrame(columns=range((5+2)*2),dtype=float)\n",
    "\n",
    "    for i in range(interpolated_points.shape[0]):\n",
    "        J = arm.geomJacobian()\n",
    "\n",
    "        newgoal = interpolated_points[i, :]\n",
    "        deltaStep = newgoal - endEffectorPos\n",
    "        subtarget = np.array([deltaStep[0], deltaStep[1], 0]) \n",
    "\n",
    "        radTheta = np.linalg.pinv(J) @ subtarget\n",
    "        newTheta = newTheta + radTheta\n",
    "\n",
    "        # ----------- Do forward kinematics to plot the arm ---------------\n",
    "        _ = arm.forwardKinematics(newTheta[0],newTheta[1],newTheta[2],newTheta[3])\n",
    "        joint2pos, joint3pos, joint4pos, endEffectorPos = arm.findJointPos()\n",
    "\n",
    "        x2=[]\n",
    "        y2=[]\n",
    "\n",
    "        x2=x2+[arm.l1*np.cos(newTheta[0]) \\\n",
    "               +arm.l2*np.cos(newTheta[0]+newTheta[1]) \\\n",
    "               +arm.l3*np.cos(newTheta[0]+newTheta[1]+newTheta[2]) \\\n",
    "               +wrist_len*np.cos(newTheta[0]+newTheta[1]+newTheta[2]+newTheta[3]+np.deg2rad(temp_eeff_angle[i%len(temp_eeff_angle)]))]\n",
    "    \n",
    "        y2=y2+[arm.l1*np.sin(newTheta[0]) \\\n",
    "               +arm.l2*np.sin(newTheta[0]+newTheta[1]) \\\n",
    "               +arm.l3*np.sin(newTheta[0]+newTheta[1]+newTheta[2]) \\\n",
    "               +wrist_len*np.sin(newTheta[0]+newTheta[1]+newTheta[2]+newTheta[3]+np.deg2rad(temp_eeff_angle[i%len(temp_eeff_angle)]))]\n",
    "        \n",
    "        x2=x2+[arm.l1*np.cos(newTheta[0]) \\\n",
    "               +arm.l2*np.cos(newTheta[0]+newTheta[1]) \\\n",
    "               +arm.l3*np.cos(newTheta[0]+newTheta[1]+newTheta[2]) \\\n",
    "               +wrist_len*np.cos(newTheta[0]+newTheta[1]+newTheta[2]+newTheta[3]-np.deg2rad(temp_eeff_angle[i%len(temp_eeff_angle)]))]\n",
    "    \n",
    "        y2=y2+[arm.l1*np.sin(newTheta[0]) \\\n",
    "               +arm.l2*np.sin(newTheta[0]+newTheta[1]) \\\n",
    "               +arm.l3*np.sin(newTheta[0]+newTheta[1]+newTheta[2]) \\\n",
    "               +wrist_len*np.sin(newTheta[0]+newTheta[1]+newTheta[2]+newTheta[3]-np.deg2rad(temp_eeff_angle[i%len(temp_eeff_angle)]))]\n",
    "\n",
    "        temp_keypoints=np.array([0,0,joint2pos[0],joint2pos[1],joint3pos[0],joint3pos[1],joint4pos[0],joint4pos[1],\n",
    "                                 endEffectorPos[0],endEffectorPos[1]])\n",
    "        \n",
    "        temp_keypoints=np.append(temp_keypoints,np.array([x2[0],y2[0],x2[1],y2[1]]))\n",
    "        \n",
    "        keypoints_data = keypoints_data.append(pd.DataFrame(temp_keypoints[None,:],columns=keypoints_data.columns),\n",
    "                                               ignore_index = True)\n",
    "        \n",
    "        plotArm2(joint2pos, joint3pos, joint4pos, endEffectorPos,x2,y2, target=EF_target_pos, fig=fig, camera=camera)\n",
    "\n",
    "\n",
    "    plt.close()\n",
    "    animation = camera.animate()\n",
    "    animation.save('./animated_motionv9/animated_motion'+str(animation_index)+'.gif', writer = 'imagemagick')\n",
    "    \n",
    "    # create the adjacency matrix\n",
    "    adj_mat=np.zeros((5+2,5+2))\n",
    "    adj_mat[0][1]=1\n",
    "    adj_mat[1][2]=1\n",
    "    adj_mat[2][3]=1\n",
    "    adj_mat[3][4]=1\n",
    "    adj_mat[3][5]=1\n",
    "    adj_mat[3][6]=1\n",
    "    \n",
    "    pd.DataFrame(adj_mat).astype(int).to_csv('./animated_motionv9/adj_mat'+str(animation_index)+'.csv')\n",
    "    keypoints_data.to_csv('./animated_motionv9/ts_data'+str(animation_index)+'.csv')    \n",
    "    "
   ]
  },
  {
   "cell_type": "code",
   "execution_count": 5,
   "metadata": {},
   "outputs": [],
   "source": [
    "# create_simulation(8005,50)"
   ]
  },
  {
   "cell_type": "code",
   "execution_count": 6,
   "metadata": {},
   "outputs": [],
   "source": [
    "import os\n",
    "os.environ['MAGICK_THREAD_LIMIT'] = '2'"
   ]
  },
  {
   "cell_type": "code",
   "execution_count": 7,
   "metadata": {},
   "outputs": [
    {
     "name": "stdout",
     "output_type": "stream",
     "text": [
      "13\n",
      "The interpolation points are stored in the variable \"EF_target_pos\": \n",
      "[[11.24264069  4.24264069]\n",
      " [ 8.66666667  3.00026116]\n",
      " [ 4.33333333  2.96009359]\n",
      " [-4.33333333  2.4378673 ]\n",
      " [-8.66666667 -3.89176609]]\n",
      "The intermediate points are stored in the variable \"interpolated_points\"\n"
     ]
    },
    {
     "name": "stderr",
     "output_type": "stream",
     "text": [
      "<ipython-input-3-eda05cffcd9b>:29: MatplotlibDeprecationWarning: Adding an axes using the same arguments as a previous axes currently reuses the earlier instance.  In a future version, a new instance will always be created and returned.  Meanwhile, this warning can be suppressed, and the future behavior ensured, by passing a unique label to each axes instance.\n",
      "  ax = fig.add_subplot(111, autoscale_on=False,\n"
     ]
    },
    {
     "name": "stdout",
     "output_type": "stream",
     "text": [
      "17\n",
      "The interpolation points are stored in the variable \"EF_target_pos\": \n",
      "[[ 15.53553391   3.53553391]\n",
      " [ 11.33333333   0.94930942]\n",
      " [  5.66666667   6.66167549]\n",
      " [ -5.66666667   5.02247094]\n",
      " [-11.33333333   0.54108624]]\n",
      "The intermediate points are stored in the variable \"interpolated_points\"\n"
     ]
    },
    {
     "name": "stderr",
     "output_type": "stream",
     "text": [
      "<ipython-input-3-eda05cffcd9b>:29: MatplotlibDeprecationWarning: Adding an axes using the same arguments as a previous axes currently reuses the earlier instance.  In a future version, a new instance will always be created and returned.  Meanwhile, this warning can be suppressed, and the future behavior ensured, by passing a unique label to each axes instance.\n",
      "  ax = fig.add_subplot(111, autoscale_on=False,\n"
     ]
    },
    {
     "name": "stdout",
     "output_type": "stream",
     "text": [
      "12\n",
      "The interpolation points are stored in the variable \"EF_target_pos\": \n",
      "[[10.24264069  4.24264069]\n",
      " [ 8.          3.31179188]\n",
      " [ 4.         -1.83332236]\n",
      " [-4.          1.19096284]\n",
      " [-8.         -0.10854181]]\n",
      "The intermediate points are stored in the variable \"interpolated_points\"\n"
     ]
    },
    {
     "name": "stderr",
     "output_type": "stream",
     "text": [
      "<ipython-input-3-eda05cffcd9b>:29: MatplotlibDeprecationWarning: Adding an axes using the same arguments as a previous axes currently reuses the earlier instance.  In a future version, a new instance will always be created and returned.  Meanwhile, this warning can be suppressed, and the future behavior ensured, by passing a unique label to each axes instance.\n",
      "  ax = fig.add_subplot(111, autoscale_on=False,\n"
     ]
    },
    {
     "name": "stdout",
     "output_type": "stream",
     "text": [
      "19\n",
      "The interpolation points are stored in the variable \"EF_target_pos\": \n",
      "[[ 16.07106781   7.07106781]\n",
      " [ 12.66666667   6.11514822]\n",
      " [  6.33333333  -2.76702297]\n",
      " [ -6.33333333  -4.29922804]\n",
      " [-12.66666667  -3.72433665]]\n",
      "The intermediate points are stored in the variable \"interpolated_points\"\n"
     ]
    },
    {
     "name": "stderr",
     "output_type": "stream",
     "text": [
      "<ipython-input-3-eda05cffcd9b>:29: MatplotlibDeprecationWarning: Adding an axes using the same arguments as a previous axes currently reuses the earlier instance.  In a future version, a new instance will always be created and returned.  Meanwhile, this warning can be suppressed, and the future behavior ensured, by passing a unique label to each axes instance.\n",
      "  ax = fig.add_subplot(111, autoscale_on=False,\n"
     ]
    },
    {
     "name": "stdout",
     "output_type": "stream",
     "text": [
      "25\n",
      "The interpolation points are stored in the variable \"EF_target_pos\": \n",
      "[[ 2.17781746e+01  7.77817459e+00]\n",
      " [ 1.66666667e+01  1.54941988e-02]\n",
      " [ 8.33333333e+00 -3.80717516e+00]\n",
      " [-8.33333333e+00 -7.02919998e+00]\n",
      " [-1.66666667e+01  6.96389278e+00]]\n",
      "The intermediate points are stored in the variable \"interpolated_points\"\n"
     ]
    },
    {
     "name": "stderr",
     "output_type": "stream",
     "text": [
      "<ipython-input-3-eda05cffcd9b>:29: MatplotlibDeprecationWarning: Adding an axes using the same arguments as a previous axes currently reuses the earlier instance.  In a future version, a new instance will always be created and returned.  Meanwhile, this warning can be suppressed, and the future behavior ensured, by passing a unique label to each axes instance.\n",
      "  ax = fig.add_subplot(111, autoscale_on=False,\n"
     ]
    },
    {
     "name": "stdout",
     "output_type": "stream",
     "text": [
      "17\n",
      "The interpolation points are stored in the variable \"EF_target_pos\": \n",
      "[[ 13.48528137   8.48528137]\n",
      " [ 11.33333333  -2.2861683 ]\n",
      " [  5.66666667   2.61225251]\n",
      " [ -5.66666667   6.72223746]\n",
      " [-11.33333333   1.23109715]]\n",
      "The intermediate points are stored in the variable \"interpolated_points\"\n"
     ]
    },
    {
     "name": "stderr",
     "output_type": "stream",
     "text": [
      "<ipython-input-3-eda05cffcd9b>:29: MatplotlibDeprecationWarning: Adding an axes using the same arguments as a previous axes currently reuses the earlier instance.  In a future version, a new instance will always be created and returned.  Meanwhile, this warning can be suppressed, and the future behavior ensured, by passing a unique label to each axes instance.\n",
      "  ax = fig.add_subplot(111, autoscale_on=False,\n"
     ]
    },
    {
     "name": "stdout",
     "output_type": "stream",
     "text": [
      "23\n",
      "The interpolation points are stored in the variable \"EF_target_pos\": \n",
      "[[ 18.89949494   9.89949494]\n",
      " [ 15.33333333  -3.47670466]\n",
      " [  7.66666667 -14.74937579]\n",
      " [ -7.66666667   4.72841364]\n",
      " [-15.33333333  -3.49968413]]\n",
      "The intermediate points are stored in the variable \"interpolated_points\"\n"
     ]
    },
    {
     "name": "stderr",
     "output_type": "stream",
     "text": [
      "<ipython-input-3-eda05cffcd9b>:29: MatplotlibDeprecationWarning: Adding an axes using the same arguments as a previous axes currently reuses the earlier instance.  In a future version, a new instance will always be created and returned.  Meanwhile, this warning can be suppressed, and the future behavior ensured, by passing a unique label to each axes instance.\n",
      "  ax = fig.add_subplot(111, autoscale_on=False,\n"
     ]
    },
    {
     "name": "stdout",
     "output_type": "stream",
     "text": [
      "21\n",
      "The interpolation points are stored in the variable \"EF_target_pos\": \n",
      "[[ 18.36396103   6.36396103]\n",
      " [ 14.           5.39839352]\n",
      " [  7.           1.15840807]\n",
      " [ -7.          -7.90358882]\n",
      " [-14.          -3.25800334]]\n",
      "The intermediate points are stored in the variable \"interpolated_points\"\n"
     ]
    },
    {
     "name": "stderr",
     "output_type": "stream",
     "text": [
      "<ipython-input-3-eda05cffcd9b>:29: MatplotlibDeprecationWarning: Adding an axes using the same arguments as a previous axes currently reuses the earlier instance.  In a future version, a new instance will always be created and returned.  Meanwhile, this warning can be suppressed, and the future behavior ensured, by passing a unique label to each axes instance.\n",
      "  ax = fig.add_subplot(111, autoscale_on=False,\n"
     ]
    },
    {
     "name": "stdout",
     "output_type": "stream",
     "text": [
      "22\n",
      "The interpolation points are stored in the variable \"EF_target_pos\": \n",
      "[[ 19.36396103   6.36396103]\n",
      " [ 14.66666667  -3.99811488]\n",
      " [  7.33333333   2.77987935]\n",
      " [ -7.33333333  13.25724883]\n",
      " [-14.66666667  -2.43915181]]\n",
      "The intermediate points are stored in the variable \"interpolated_points\"\n"
     ]
    },
    {
     "name": "stderr",
     "output_type": "stream",
     "text": [
      "<ipython-input-3-eda05cffcd9b>:29: MatplotlibDeprecationWarning: Adding an axes using the same arguments as a previous axes currently reuses the earlier instance.  In a future version, a new instance will always be created and returned.  Meanwhile, this warning can be suppressed, and the future behavior ensured, by passing a unique label to each axes instance.\n",
      "  ax = fig.add_subplot(111, autoscale_on=False,\n"
     ]
    },
    {
     "name": "stdout",
     "output_type": "stream",
     "text": [
      "20\n",
      "The interpolation points are stored in the variable \"EF_target_pos\": \n",
      "[[ 17.07106781   7.07106781]\n",
      " [ 13.33333333   6.48624261]\n",
      " [  6.66666667  -7.0096681 ]\n",
      " [ -6.66666667   6.52159344]\n",
      " [-13.33333333   6.34408517]]\n",
      "The intermediate points are stored in the variable \"interpolated_points\"\n"
     ]
    },
    {
     "name": "stderr",
     "output_type": "stream",
     "text": [
      "<ipython-input-3-eda05cffcd9b>:29: MatplotlibDeprecationWarning: Adding an axes using the same arguments as a previous axes currently reuses the earlier instance.  In a future version, a new instance will always be created and returned.  Meanwhile, this warning can be suppressed, and the future behavior ensured, by passing a unique label to each axes instance.\n",
      "  ax = fig.add_subplot(111, autoscale_on=False,\n"
     ]
    },
    {
     "name": "stdout",
     "output_type": "stream",
     "text": [
      "17\n",
      "The interpolation points are stored in the variable \"EF_target_pos\": \n",
      "[[ 13.77817459   7.77817459]\n",
      " [ 11.33333333   4.00388889]\n",
      " [  5.66666667  -0.97667166]\n",
      " [ -5.66666667  -9.1944007 ]\n",
      " [-11.33333333   0.60469087]]\n",
      "The intermediate points are stored in the variable \"interpolated_points\"\n"
     ]
    },
    {
     "name": "stderr",
     "output_type": "stream",
     "text": [
      "<ipython-input-3-eda05cffcd9b>:29: MatplotlibDeprecationWarning: Adding an axes using the same arguments as a previous axes currently reuses the earlier instance.  In a future version, a new instance will always be created and returned.  Meanwhile, this warning can be suppressed, and the future behavior ensured, by passing a unique label to each axes instance.\n",
      "  ax = fig.add_subplot(111, autoscale_on=False,\n"
     ]
    },
    {
     "name": "stdout",
     "output_type": "stream",
     "text": [
      "20\n",
      "The interpolation points are stored in the variable \"EF_target_pos\": \n",
      "[[ 16.77817459   7.77817459]\n",
      " [ 13.33333333  -2.98621923]\n",
      " [  6.66666667   7.34266203]\n",
      " [ -6.66666667 -12.78210507]\n",
      " [-13.33333333   6.45470028]]\n",
      "The intermediate points are stored in the variable \"interpolated_points\"\n"
     ]
    },
    {
     "name": "stderr",
     "output_type": "stream",
     "text": [
      "<ipython-input-3-eda05cffcd9b>:29: MatplotlibDeprecationWarning: Adding an axes using the same arguments as a previous axes currently reuses the earlier instance.  In a future version, a new instance will always be created and returned.  Meanwhile, this warning can be suppressed, and the future behavior ensured, by passing a unique label to each axes instance.\n",
      "  ax = fig.add_subplot(111, autoscale_on=False,\n"
     ]
    },
    {
     "name": "stdout",
     "output_type": "stream",
     "text": [
      "22\n",
      "The interpolation points are stored in the variable \"EF_target_pos\": \n",
      "[[ 19.65685425   5.65685425]\n",
      " [ 14.66666667  -6.86246432]\n",
      " [  7.33333333  -8.46965827]\n",
      " [ -7.33333333  10.48627785]\n",
      " [-14.66666667   4.09206955]]\n",
      "The intermediate points are stored in the variable \"interpolated_points\"\n"
     ]
    },
    {
     "name": "stderr",
     "output_type": "stream",
     "text": [
      "<ipython-input-3-eda05cffcd9b>:29: MatplotlibDeprecationWarning: Adding an axes using the same arguments as a previous axes currently reuses the earlier instance.  In a future version, a new instance will always be created and returned.  Meanwhile, this warning can be suppressed, and the future behavior ensured, by passing a unique label to each axes instance.\n",
      "  ax = fig.add_subplot(111, autoscale_on=False,\n"
     ]
    },
    {
     "name": "stdout",
     "output_type": "stream",
     "text": [
      "26\n",
      "The interpolation points are stored in the variable \"EF_target_pos\": \n",
      "[[ 21.89949494   9.89949494]\n",
      " [ 17.33333333  -7.87210589]\n",
      " [  8.66666667 -13.18770742]\n",
      " [ -8.66666667   2.38722694]\n",
      " [-17.33333333   0.60427144]]\n",
      "The intermediate points are stored in the variable \"interpolated_points\"\n"
     ]
    },
    {
     "name": "stderr",
     "output_type": "stream",
     "text": [
      "<ipython-input-3-eda05cffcd9b>:29: MatplotlibDeprecationWarning: Adding an axes using the same arguments as a previous axes currently reuses the earlier instance.  In a future version, a new instance will always be created and returned.  Meanwhile, this warning can be suppressed, and the future behavior ensured, by passing a unique label to each axes instance.\n",
      "  ax = fig.add_subplot(111, autoscale_on=False,\n"
     ]
    },
    {
     "name": "stdout",
     "output_type": "stream",
     "text": [
      "21\n",
      "The interpolation points are stored in the variable \"EF_target_pos\": \n",
      "[[ 1.71923882e+01  9.19238816e+00]\n",
      " [ 1.40000000e+01  5.62564400e+00]\n",
      " [ 7.00000000e+00 -5.05713572e+00]\n",
      " [-7.00000000e+00  2.16600245e-03]\n",
      " [-1.40000000e+01 -6.76471713e+00]]\n",
      "The intermediate points are stored in the variable \"interpolated_points\"\n"
     ]
    },
    {
     "name": "stderr",
     "output_type": "stream",
     "text": [
      "<ipython-input-3-eda05cffcd9b>:29: MatplotlibDeprecationWarning: Adding an axes using the same arguments as a previous axes currently reuses the earlier instance.  In a future version, a new instance will always be created and returned.  Meanwhile, this warning can be suppressed, and the future behavior ensured, by passing a unique label to each axes instance.\n",
      "  ax = fig.add_subplot(111, autoscale_on=False,\n"
     ]
    },
    {
     "name": "stdout",
     "output_type": "stream",
     "text": [
      "18\n",
      "The interpolation points are stored in the variable \"EF_target_pos\": \n",
      "[[ 15.65685425   5.65685425]\n",
      " [ 12.           4.97767008]\n",
      " [  6.          -4.11476213]\n",
      " [ -6.         -11.18599632]\n",
      " [-12.          -2.03805255]]\n",
      "The intermediate points are stored in the variable \"interpolated_points\"\n"
     ]
    },
    {
     "name": "stderr",
     "output_type": "stream",
     "text": [
      "<ipython-input-3-eda05cffcd9b>:29: MatplotlibDeprecationWarning: Adding an axes using the same arguments as a previous axes currently reuses the earlier instance.  In a future version, a new instance will always be created and returned.  Meanwhile, this warning can be suppressed, and the future behavior ensured, by passing a unique label to each axes instance.\n",
      "  ax = fig.add_subplot(111, autoscale_on=False,\n"
     ]
    },
    {
     "name": "stdout",
     "output_type": "stream",
     "text": [
      "17\n",
      "The interpolation points are stored in the variable \"EF_target_pos\": \n",
      "[[ 14.36396103   6.36396103]\n",
      " [ 11.33333333   4.61631982]\n",
      " [  5.66666667   3.14809908]\n",
      " [ -5.66666667  -7.62639458]\n",
      " [-11.33333333  -2.58432567]]\n",
      "The intermediate points are stored in the variable \"interpolated_points\"\n"
     ]
    },
    {
     "name": "stderr",
     "output_type": "stream",
     "text": [
      "<ipython-input-3-eda05cffcd9b>:29: MatplotlibDeprecationWarning: Adding an axes using the same arguments as a previous axes currently reuses the earlier instance.  In a future version, a new instance will always be created and returned.  Meanwhile, this warning can be suppressed, and the future behavior ensured, by passing a unique label to each axes instance.\n",
      "  ax = fig.add_subplot(111, autoscale_on=False,\n"
     ]
    },
    {
     "name": "stdout",
     "output_type": "stream",
     "text": [
      "13\n",
      "The interpolation points are stored in the variable \"EF_target_pos\": \n",
      "[[10.36396103  6.36396103]\n",
      " [ 8.66666667 -1.22662535]\n",
      " [ 4.33333333 -5.88669375]\n",
      " [-4.33333333  5.05983239]\n",
      " [-8.66666667 -0.05526852]]\n",
      "The intermediate points are stored in the variable \"interpolated_points\"\n"
     ]
    },
    {
     "name": "stderr",
     "output_type": "stream",
     "text": [
      "<ipython-input-3-eda05cffcd9b>:29: MatplotlibDeprecationWarning: Adding an axes using the same arguments as a previous axes currently reuses the earlier instance.  In a future version, a new instance will always be created and returned.  Meanwhile, this warning can be suppressed, and the future behavior ensured, by passing a unique label to each axes instance.\n",
      "  ax = fig.add_subplot(111, autoscale_on=False,\n"
     ]
    },
    {
     "name": "stdout",
     "output_type": "stream",
     "text": [
      "14\n",
      "The interpolation points are stored in the variable \"EF_target_pos\": \n",
      "[[11.07106781  7.07106781]\n",
      " [ 9.33333333  3.25578321]\n",
      " [ 4.66666667 -5.13728469]\n",
      " [-4.66666667  2.54587626]\n",
      " [-9.33333333  0.55275406]]\n",
      "The intermediate points are stored in the variable \"interpolated_points\"\n"
     ]
    },
    {
     "name": "stderr",
     "output_type": "stream",
     "text": [
      "<ipython-input-3-eda05cffcd9b>:29: MatplotlibDeprecationWarning: Adding an axes using the same arguments as a previous axes currently reuses the earlier instance.  In a future version, a new instance will always be created and returned.  Meanwhile, this warning can be suppressed, and the future behavior ensured, by passing a unique label to each axes instance.\n",
      "  ax = fig.add_subplot(111, autoscale_on=False,\n"
     ]
    },
    {
     "name": "stdout",
     "output_type": "stream",
     "text": [
      "16\n",
      "The interpolation points are stored in the variable \"EF_target_pos\": \n",
      "[[ 14.24264069   4.24264069]\n",
      " [ 10.66666667   4.5581296 ]\n",
      " [  5.33333333  10.14523937]\n",
      " [ -5.33333333   0.39037563]\n",
      " [-10.66666667   4.0496215 ]]\n",
      "The intermediate points are stored in the variable \"interpolated_points\"\n"
     ]
    },
    {
     "name": "stderr",
     "output_type": "stream",
     "text": [
      "<ipython-input-3-eda05cffcd9b>:29: MatplotlibDeprecationWarning: Adding an axes using the same arguments as a previous axes currently reuses the earlier instance.  In a future version, a new instance will always be created and returned.  Meanwhile, this warning can be suppressed, and the future behavior ensured, by passing a unique label to each axes instance.\n",
      "  ax = fig.add_subplot(111, autoscale_on=False,\n"
     ]
    },
    {
     "name": "stdout",
     "output_type": "stream",
     "text": [
      "21\n",
      "The interpolation points are stored in the variable \"EF_target_pos\": \n",
      "[[ 1.71923882e+01  9.19238816e+00]\n",
      " [ 1.40000000e+01 -4.65386720e-01]\n",
      " [ 7.00000000e+00 -1.25687191e+00]\n",
      " [-7.00000000e+00 -3.67396790e+00]\n",
      " [-1.40000000e+01 -9.28813629e-03]]\n",
      "The intermediate points are stored in the variable \"interpolated_points\"\n"
     ]
    },
    {
     "name": "stderr",
     "output_type": "stream",
     "text": [
      "<ipython-input-3-eda05cffcd9b>:29: MatplotlibDeprecationWarning: Adding an axes using the same arguments as a previous axes currently reuses the earlier instance.  In a future version, a new instance will always be created and returned.  Meanwhile, this warning can be suppressed, and the future behavior ensured, by passing a unique label to each axes instance.\n",
      "  ax = fig.add_subplot(111, autoscale_on=False,\n"
     ]
    },
    {
     "name": "stdout",
     "output_type": "stream",
     "text": [
      "22\n",
      "The interpolation points are stored in the variable \"EF_target_pos\": \n",
      "[[ 18.77817459   7.77817459]\n",
      " [ 14.66666667   5.75130881]\n",
      " [  7.33333333  -6.04618432]\n",
      " [ -7.33333333   9.45477743]\n",
      " [-14.66666667   0.38186606]]\n",
      "The intermediate points are stored in the variable \"interpolated_points\"\n"
     ]
    },
    {
     "name": "stderr",
     "output_type": "stream",
     "text": [
      "<ipython-input-3-eda05cffcd9b>:29: MatplotlibDeprecationWarning: Adding an axes using the same arguments as a previous axes currently reuses the earlier instance.  In a future version, a new instance will always be created and returned.  Meanwhile, this warning can be suppressed, and the future behavior ensured, by passing a unique label to each axes instance.\n",
      "  ax = fig.add_subplot(111, autoscale_on=False,\n"
     ]
    },
    {
     "name": "stdout",
     "output_type": "stream",
     "text": [
      "17\n",
      "The interpolation points are stored in the variable \"EF_target_pos\": \n",
      "[[ 14.36396103   6.36396103]\n",
      " [ 11.33333333   5.57174364]\n",
      " [  5.66666667  -4.02685188]\n",
      " [ -5.66666667   0.5926413 ]\n",
      " [-11.33333333  -4.28127151]]\n",
      "The intermediate points are stored in the variable \"interpolated_points\"\n"
     ]
    },
    {
     "name": "stderr",
     "output_type": "stream",
     "text": [
      "<ipython-input-3-eda05cffcd9b>:29: MatplotlibDeprecationWarning: Adding an axes using the same arguments as a previous axes currently reuses the earlier instance.  In a future version, a new instance will always be created and returned.  Meanwhile, this warning can be suppressed, and the future behavior ensured, by passing a unique label to each axes instance.\n",
      "  ax = fig.add_subplot(111, autoscale_on=False,\n"
     ]
    },
    {
     "name": "stdout",
     "output_type": "stream",
     "text": [
      "26\n",
      "The interpolation points are stored in the variable \"EF_target_pos\": \n",
      "[[ 22.19238816   9.19238816]\n",
      " [ 17.33333333  -4.90160307]\n",
      " [  8.66666667 -10.55202189]\n",
      " [ -8.66666667  10.81849136]\n",
      " [-17.33333333  -4.24665052]]\n",
      "The intermediate points are stored in the variable \"interpolated_points\"\n"
     ]
    },
    {
     "name": "stderr",
     "output_type": "stream",
     "text": [
      "<ipython-input-3-eda05cffcd9b>:29: MatplotlibDeprecationWarning: Adding an axes using the same arguments as a previous axes currently reuses the earlier instance.  In a future version, a new instance will always be created and returned.  Meanwhile, this warning can be suppressed, and the future behavior ensured, by passing a unique label to each axes instance.\n",
      "  ax = fig.add_subplot(111, autoscale_on=False,\n"
     ]
    },
    {
     "name": "stdout",
     "output_type": "stream",
     "text": [
      "24\n",
      "The interpolation points are stored in the variable \"EF_target_pos\": \n",
      "[[ 20.48528137   8.48528137]\n",
      " [ 16.          -0.20412492]\n",
      " [  8.           8.79032258]\n",
      " [ -8.           4.16278226]\n",
      " [-16.          -6.39629384]]\n",
      "The intermediate points are stored in the variable \"interpolated_points\"\n"
     ]
    },
    {
     "name": "stderr",
     "output_type": "stream",
     "text": [
      "<ipython-input-3-eda05cffcd9b>:29: MatplotlibDeprecationWarning: Adding an axes using the same arguments as a previous axes currently reuses the earlier instance.  In a future version, a new instance will always be created and returned.  Meanwhile, this warning can be suppressed, and the future behavior ensured, by passing a unique label to each axes instance.\n",
      "  ax = fig.add_subplot(111, autoscale_on=False,\n"
     ]
    },
    {
     "name": "stdout",
     "output_type": "stream",
     "text": [
      "13\n",
      "The interpolation points are stored in the variable \"EF_target_pos\": \n",
      "[[11.53553391  3.53553391]\n",
      " [ 8.66666667  1.26739735]\n",
      " [ 4.33333333 -5.55133922]\n",
      " [-4.33333333 -8.22527373]\n",
      " [-8.66666667 -0.59822271]]\n",
      "The intermediate points are stored in the variable \"interpolated_points\"\n"
     ]
    },
    {
     "name": "stderr",
     "output_type": "stream",
     "text": [
      "<ipython-input-3-eda05cffcd9b>:29: MatplotlibDeprecationWarning: Adding an axes using the same arguments as a previous axes currently reuses the earlier instance.  In a future version, a new instance will always be created and returned.  Meanwhile, this warning can be suppressed, and the future behavior ensured, by passing a unique label to each axes instance.\n",
      "  ax = fig.add_subplot(111, autoscale_on=False,\n"
     ]
    },
    {
     "name": "stdout",
     "output_type": "stream",
     "text": [
      "16\n",
      "The interpolation points are stored in the variable \"EF_target_pos\": \n",
      "[[ 13.94974747   4.94974747]\n",
      " [ 10.66666667  -3.38386109]\n",
      " [  5.33333333   2.50595361]\n",
      " [ -5.33333333  -4.69978262]\n",
      " [-10.66666667  -4.61966327]]\n",
      "The intermediate points are stored in the variable \"interpolated_points\"\n"
     ]
    },
    {
     "name": "stderr",
     "output_type": "stream",
     "text": [
      "<ipython-input-3-eda05cffcd9b>:29: MatplotlibDeprecationWarning: Adding an axes using the same arguments as a previous axes currently reuses the earlier instance.  In a future version, a new instance will always be created and returned.  Meanwhile, this warning can be suppressed, and the future behavior ensured, by passing a unique label to each axes instance.\n",
      "  ax = fig.add_subplot(111, autoscale_on=False,\n"
     ]
    },
    {
     "name": "stdout",
     "output_type": "stream",
     "text": [
      "18\n",
      "The interpolation points are stored in the variable \"EF_target_pos\": \n",
      "[[ 14.48528137   8.48528137]\n",
      " [ 12.          -3.85833341]\n",
      " [  6.           2.76336098]\n",
      " [ -6.           3.72908189]\n",
      " [-12.           4.54515071]]\n",
      "The intermediate points are stored in the variable \"interpolated_points\"\n"
     ]
    },
    {
     "name": "stderr",
     "output_type": "stream",
     "text": [
      "<ipython-input-3-eda05cffcd9b>:29: MatplotlibDeprecationWarning: Adding an axes using the same arguments as a previous axes currently reuses the earlier instance.  In a future version, a new instance will always be created and returned.  Meanwhile, this warning can be suppressed, and the future behavior ensured, by passing a unique label to each axes instance.\n",
      "  ax = fig.add_subplot(111, autoscale_on=False,\n"
     ]
    },
    {
     "name": "stdout",
     "output_type": "stream",
     "text": [
      "15\n",
      "The interpolation points are stored in the variable \"EF_target_pos\": \n",
      "[[ 12.65685425   5.65685425]\n",
      " [ 10.           3.33401173]\n",
      " [  5.         -10.06604876]\n",
      " [ -5.           5.10187692]\n",
      " [-10.           4.05483637]]\n",
      "The intermediate points are stored in the variable \"interpolated_points\"\n"
     ]
    },
    {
     "name": "stderr",
     "output_type": "stream",
     "text": [
      "<ipython-input-3-eda05cffcd9b>:29: MatplotlibDeprecationWarning: Adding an axes using the same arguments as a previous axes currently reuses the earlier instance.  In a future version, a new instance will always be created and returned.  Meanwhile, this warning can be suppressed, and the future behavior ensured, by passing a unique label to each axes instance.\n",
      "  ax = fig.add_subplot(111, autoscale_on=False,\n"
     ]
    },
    {
     "name": "stdout",
     "output_type": "stream",
     "text": [
      "19\n",
      "The interpolation points are stored in the variable \"EF_target_pos\": \n",
      "[[ 16.36396103   6.36396103]\n",
      " [ 12.66666667   6.24135968]\n",
      " [  6.33333333  -3.30105535]\n",
      " [ -6.33333333  12.56554577]\n",
      " [-12.66666667   1.96761804]]\n",
      "The intermediate points are stored in the variable \"interpolated_points\"\n"
     ]
    },
    {
     "name": "stderr",
     "output_type": "stream",
     "text": [
      "<ipython-input-3-eda05cffcd9b>:29: MatplotlibDeprecationWarning: Adding an axes using the same arguments as a previous axes currently reuses the earlier instance.  In a future version, a new instance will always be created and returned.  Meanwhile, this warning can be suppressed, and the future behavior ensured, by passing a unique label to each axes instance.\n",
      "  ax = fig.add_subplot(111, autoscale_on=False,\n"
     ]
    },
    {
     "name": "stdout",
     "output_type": "stream",
     "text": [
      "11\n",
      "The interpolation points are stored in the variable \"EF_target_pos\": \n",
      "[[ 9.24264069  4.24264069]\n",
      " [ 7.33333333  0.11457936]\n",
      " [ 3.66666667  4.14921743]\n",
      " [-3.66666667 -4.94457971]\n",
      " [-7.33333333 -3.11326235]]\n",
      "The intermediate points are stored in the variable \"interpolated_points\"\n"
     ]
    },
    {
     "name": "stderr",
     "output_type": "stream",
     "text": [
      "<ipython-input-3-eda05cffcd9b>:29: MatplotlibDeprecationWarning: Adding an axes using the same arguments as a previous axes currently reuses the earlier instance.  In a future version, a new instance will always be created and returned.  Meanwhile, this warning can be suppressed, and the future behavior ensured, by passing a unique label to each axes instance.\n",
      "  ax = fig.add_subplot(111, autoscale_on=False,\n"
     ]
    },
    {
     "name": "stdout",
     "output_type": "stream",
     "text": [
      "16\n",
      "The interpolation points are stored in the variable \"EF_target_pos\": \n",
      "[[ 13.65685425   5.65685425]\n",
      " [ 10.66666667  -1.35534654]\n",
      " [  5.33333333  -4.52719135]\n",
      " [ -5.33333333  -7.75385807]\n",
      " [-10.66666667  -1.9609642 ]]\n",
      "The intermediate points are stored in the variable \"interpolated_points\"\n"
     ]
    },
    {
     "name": "stderr",
     "output_type": "stream",
     "text": [
      "<ipython-input-3-eda05cffcd9b>:29: MatplotlibDeprecationWarning: Adding an axes using the same arguments as a previous axes currently reuses the earlier instance.  In a future version, a new instance will always be created and returned.  Meanwhile, this warning can be suppressed, and the future behavior ensured, by passing a unique label to each axes instance.\n",
      "  ax = fig.add_subplot(111, autoscale_on=False,\n"
     ]
    },
    {
     "name": "stdout",
     "output_type": "stream",
     "text": [
      "15\n",
      "The interpolation points are stored in the variable \"EF_target_pos\": \n",
      "[[ 13.24264069   4.24264069]\n",
      " [ 10.           1.20708029]\n",
      " [  5.           6.17847288]\n",
      " [ -5.          -3.49368996]\n",
      " [-10.          -2.6281034 ]]\n",
      "The intermediate points are stored in the variable \"interpolated_points\"\n"
     ]
    },
    {
     "name": "stderr",
     "output_type": "stream",
     "text": [
      "<ipython-input-3-eda05cffcd9b>:29: MatplotlibDeprecationWarning: Adding an axes using the same arguments as a previous axes currently reuses the earlier instance.  In a future version, a new instance will always be created and returned.  Meanwhile, this warning can be suppressed, and the future behavior ensured, by passing a unique label to each axes instance.\n",
      "  ax = fig.add_subplot(111, autoscale_on=False,\n"
     ]
    },
    {
     "name": "stdout",
     "output_type": "stream",
     "text": [
      "22\n",
      "The interpolation points are stored in the variable \"EF_target_pos\": \n",
      "[[ 19.65685425   5.65685425]\n",
      " [ 14.66666667  -2.25832227]\n",
      " [  7.33333333   0.44733938]\n",
      " [ -7.33333333 -10.49595082]\n",
      " [-14.66666667   0.71448516]]\n",
      "The intermediate points are stored in the variable \"interpolated_points\"\n"
     ]
    },
    {
     "name": "stderr",
     "output_type": "stream",
     "text": [
      "<ipython-input-3-eda05cffcd9b>:29: MatplotlibDeprecationWarning: Adding an axes using the same arguments as a previous axes currently reuses the earlier instance.  In a future version, a new instance will always be created and returned.  Meanwhile, this warning can be suppressed, and the future behavior ensured, by passing a unique label to each axes instance.\n",
      "  ax = fig.add_subplot(111, autoscale_on=False,\n"
     ]
    },
    {
     "name": "stdout",
     "output_type": "stream",
     "text": [
      "20\n",
      "The interpolation points are stored in the variable \"EF_target_pos\": \n",
      "[[ 17.07106781   7.07106781]\n",
      " [ 13.33333333   4.24569751]\n",
      " [  6.66666667  -5.8757686 ]\n",
      " [ -6.66666667  -7.01625223]\n",
      " [-13.33333333  -5.24478268]]\n",
      "The intermediate points are stored in the variable \"interpolated_points\"\n"
     ]
    },
    {
     "name": "stderr",
     "output_type": "stream",
     "text": [
      "<ipython-input-3-eda05cffcd9b>:29: MatplotlibDeprecationWarning: Adding an axes using the same arguments as a previous axes currently reuses the earlier instance.  In a future version, a new instance will always be created and returned.  Meanwhile, this warning can be suppressed, and the future behavior ensured, by passing a unique label to each axes instance.\n",
      "  ax = fig.add_subplot(111, autoscale_on=False,\n"
     ]
    },
    {
     "name": "stdout",
     "output_type": "stream",
     "text": [
      "14\n",
      "The interpolation points are stored in the variable \"EF_target_pos\": \n",
      "[[11.65685425  5.65685425]\n",
      " [ 9.33333333 -3.963121  ]\n",
      " [ 4.66666667  0.42366547]\n",
      " [-4.66666667 -2.67336185]\n",
      " [-9.33333333 -4.05190432]]\n",
      "The intermediate points are stored in the variable \"interpolated_points\"\n"
     ]
    },
    {
     "name": "stderr",
     "output_type": "stream",
     "text": [
      "<ipython-input-3-eda05cffcd9b>:29: MatplotlibDeprecationWarning: Adding an axes using the same arguments as a previous axes currently reuses the earlier instance.  In a future version, a new instance will always be created and returned.  Meanwhile, this warning can be suppressed, and the future behavior ensured, by passing a unique label to each axes instance.\n",
      "  ax = fig.add_subplot(111, autoscale_on=False,\n"
     ]
    },
    {
     "name": "stdout",
     "output_type": "stream",
     "text": [
      "15\n",
      "The interpolation points are stored in the variable \"EF_target_pos\": \n",
      "[[ 13.24264069   4.24264069]\n",
      " [ 10.          -3.12107776]\n",
      " [  5.           7.51918375]\n",
      " [ -5.          -4.06228899]\n",
      " [-10.           2.02442196]]\n",
      "The intermediate points are stored in the variable \"interpolated_points\"\n"
     ]
    },
    {
     "name": "stderr",
     "output_type": "stream",
     "text": [
      "<ipython-input-3-eda05cffcd9b>:29: MatplotlibDeprecationWarning: Adding an axes using the same arguments as a previous axes currently reuses the earlier instance.  In a future version, a new instance will always be created and returned.  Meanwhile, this warning can be suppressed, and the future behavior ensured, by passing a unique label to each axes instance.\n",
      "  ax = fig.add_subplot(111, autoscale_on=False,\n"
     ]
    },
    {
     "name": "stdout",
     "output_type": "stream",
     "text": [
      "24\n",
      "The interpolation points are stored in the variable \"EF_target_pos\": \n",
      "[[ 21.07106781   7.07106781]\n",
      " [ 16.          -7.00022418]\n",
      " [  8.          -8.06526825]\n",
      " [ -8.           7.89815506]\n",
      " [-16.          -5.71936364]]\n",
      "The intermediate points are stored in the variable \"interpolated_points\"\n"
     ]
    },
    {
     "name": "stderr",
     "output_type": "stream",
     "text": [
      "<ipython-input-3-eda05cffcd9b>:29: MatplotlibDeprecationWarning: Adding an axes using the same arguments as a previous axes currently reuses the earlier instance.  In a future version, a new instance will always be created and returned.  Meanwhile, this warning can be suppressed, and the future behavior ensured, by passing a unique label to each axes instance.\n",
      "  ax = fig.add_subplot(111, autoscale_on=False,\n"
     ]
    },
    {
     "name": "stdout",
     "output_type": "stream",
     "text": [
      "17\n",
      "The interpolation points are stored in the variable \"EF_target_pos\": \n",
      "[[ 14.94974747   4.94974747]\n",
      " [ 11.33333333  -5.7536591 ]\n",
      " [  5.66666667  -7.67673767]\n",
      " [ -5.66666667  -8.74132024]\n",
      " [-11.33333333   2.63664699]]\n",
      "The intermediate points are stored in the variable \"interpolated_points\"\n"
     ]
    },
    {
     "name": "stderr",
     "output_type": "stream",
     "text": [
      "<ipython-input-3-eda05cffcd9b>:29: MatplotlibDeprecationWarning: Adding an axes using the same arguments as a previous axes currently reuses the earlier instance.  In a future version, a new instance will always be created and returned.  Meanwhile, this warning can be suppressed, and the future behavior ensured, by passing a unique label to each axes instance.\n",
      "  ax = fig.add_subplot(111, autoscale_on=False,\n"
     ]
    },
    {
     "name": "stdout",
     "output_type": "stream",
     "text": [
      "17\n",
      "The interpolation points are stored in the variable \"EF_target_pos\": \n",
      "[[ 14.94974747   4.94974747]\n",
      " [ 11.33333333  -2.46429148]\n",
      " [  5.66666667  -0.49609797]\n",
      " [ -5.66666667   4.4138679 ]\n",
      " [-11.33333333  -1.91787394]]\n",
      "The intermediate points are stored in the variable \"interpolated_points\"\n"
     ]
    },
    {
     "name": "stderr",
     "output_type": "stream",
     "text": [
      "<ipython-input-3-eda05cffcd9b>:29: MatplotlibDeprecationWarning: Adding an axes using the same arguments as a previous axes currently reuses the earlier instance.  In a future version, a new instance will always be created and returned.  Meanwhile, this warning can be suppressed, and the future behavior ensured, by passing a unique label to each axes instance.\n",
      "  ax = fig.add_subplot(111, autoscale_on=False,\n"
     ]
    },
    {
     "name": "stdout",
     "output_type": "stream",
     "text": [
      "17\n",
      "The interpolation points are stored in the variable \"EF_target_pos\": \n",
      "[[ 14.65685425   5.65685425]\n",
      " [ 11.33333333   3.51425847]\n",
      " [  5.66666667  -4.91125456]\n",
      " [ -5.66666667  -4.99134431]\n",
      " [-11.33333333   2.09604369]]\n",
      "The intermediate points are stored in the variable \"interpolated_points\"\n"
     ]
    },
    {
     "name": "stderr",
     "output_type": "stream",
     "text": [
      "<ipython-input-3-eda05cffcd9b>:29: MatplotlibDeprecationWarning: Adding an axes using the same arguments as a previous axes currently reuses the earlier instance.  In a future version, a new instance will always be created and returned.  Meanwhile, this warning can be suppressed, and the future behavior ensured, by passing a unique label to each axes instance.\n",
      "  ax = fig.add_subplot(111, autoscale_on=False,\n"
     ]
    },
    {
     "name": "stdout",
     "output_type": "stream",
     "text": [
      "18\n",
      "The interpolation points are stored in the variable \"EF_target_pos\": \n",
      "[[ 14.48528137   8.48528137]\n",
      " [ 12.           5.9652228 ]\n",
      " [  6.          -2.0081669 ]\n",
      " [ -6.          11.10587498]\n",
      " [-12.           3.77650645]]\n",
      "The intermediate points are stored in the variable \"interpolated_points\"\n"
     ]
    },
    {
     "name": "stderr",
     "output_type": "stream",
     "text": [
      "<ipython-input-3-eda05cffcd9b>:29: MatplotlibDeprecationWarning: Adding an axes using the same arguments as a previous axes currently reuses the earlier instance.  In a future version, a new instance will always be created and returned.  Meanwhile, this warning can be suppressed, and the future behavior ensured, by passing a unique label to each axes instance.\n",
      "  ax = fig.add_subplot(111, autoscale_on=False,\n"
     ]
    },
    {
     "name": "stdout",
     "output_type": "stream",
     "text": [
      "14\n",
      "The interpolation points are stored in the variable \"EF_target_pos\": \n",
      "[[11.94974747  4.94974747]\n",
      " [ 9.33333333  1.63270627]\n",
      " [ 4.66666667  9.26992559]\n",
      " [-4.66666667 -5.65828871]\n",
      " [-9.33333333  1.08486386]]\n",
      "The intermediate points are stored in the variable \"interpolated_points\"\n"
     ]
    },
    {
     "name": "stderr",
     "output_type": "stream",
     "text": [
      "<ipython-input-3-eda05cffcd9b>:29: MatplotlibDeprecationWarning: Adding an axes using the same arguments as a previous axes currently reuses the earlier instance.  In a future version, a new instance will always be created and returned.  Meanwhile, this warning can be suppressed, and the future behavior ensured, by passing a unique label to each axes instance.\n",
      "  ax = fig.add_subplot(111, autoscale_on=False,\n"
     ]
    },
    {
     "name": "stdout",
     "output_type": "stream",
     "text": [
      "19\n",
      "The interpolation points are stored in the variable \"EF_target_pos\": \n",
      "[[ 1.66568542e+01  5.65685425e+00]\n",
      " [ 1.26666667e+01 -1.02263279e-02]\n",
      " [ 6.33333333e+00  9.96852998e+00]\n",
      " [-6.33333333e+00 -1.06951764e+00]\n",
      " [-1.26666667e+01 -1.23476979e+00]]\n",
      "The intermediate points are stored in the variable \"interpolated_points\"\n"
     ]
    },
    {
     "name": "stderr",
     "output_type": "stream",
     "text": [
      "<ipython-input-3-eda05cffcd9b>:29: MatplotlibDeprecationWarning: Adding an axes using the same arguments as a previous axes currently reuses the earlier instance.  In a future version, a new instance will always be created and returned.  Meanwhile, this warning can be suppressed, and the future behavior ensured, by passing a unique label to each axes instance.\n",
      "  ax = fig.add_subplot(111, autoscale_on=False,\n"
     ]
    },
    {
     "name": "stdout",
     "output_type": "stream",
     "text": [
      "19\n",
      "The interpolation points are stored in the variable \"EF_target_pos\": \n",
      "[[ 16.07106781   7.07106781]\n",
      " [ 12.66666667   1.23976668]\n",
      " [  6.33333333   0.27416387]\n",
      " [ -6.33333333   2.27765656]\n",
      " [-12.66666667   4.06315327]]\n",
      "The intermediate points are stored in the variable \"interpolated_points\"\n"
     ]
    },
    {
     "name": "stderr",
     "output_type": "stream",
     "text": [
      "<ipython-input-3-eda05cffcd9b>:29: MatplotlibDeprecationWarning: Adding an axes using the same arguments as a previous axes currently reuses the earlier instance.  In a future version, a new instance will always be created and returned.  Meanwhile, this warning can be suppressed, and the future behavior ensured, by passing a unique label to each axes instance.\n",
      "  ax = fig.add_subplot(111, autoscale_on=False,\n"
     ]
    },
    {
     "name": "stdout",
     "output_type": "stream",
     "text": [
      "18\n",
      "The interpolation points are stored in the variable \"EF_target_pos\": \n",
      "[[ 15.36396103   6.36396103]\n",
      " [ 12.          -1.88732106]\n",
      " [  6.           7.78286594]\n",
      " [ -6.           2.44375685]\n",
      " [-12.          -2.21400479]]\n",
      "The intermediate points are stored in the variable \"interpolated_points\"\n"
     ]
    },
    {
     "name": "stderr",
     "output_type": "stream",
     "text": [
      "<ipython-input-3-eda05cffcd9b>:29: MatplotlibDeprecationWarning: Adding an axes using the same arguments as a previous axes currently reuses the earlier instance.  In a future version, a new instance will always be created and returned.  Meanwhile, this warning can be suppressed, and the future behavior ensured, by passing a unique label to each axes instance.\n",
      "  ax = fig.add_subplot(111, autoscale_on=False,\n"
     ]
    },
    {
     "name": "stdout",
     "output_type": "stream",
     "text": [
      "14\n",
      "The interpolation points are stored in the variable \"EF_target_pos\": \n",
      "[[11.36396103  6.36396103]\n",
      " [ 9.33333333 -1.70519893]\n",
      " [ 4.66666667 -5.98848914]\n",
      " [-4.66666667 -7.8360751 ]\n",
      " [-9.33333333 -2.29670169]]\n",
      "The intermediate points are stored in the variable \"interpolated_points\"\n"
     ]
    },
    {
     "name": "stderr",
     "output_type": "stream",
     "text": [
      "<ipython-input-3-eda05cffcd9b>:29: MatplotlibDeprecationWarning: Adding an axes using the same arguments as a previous axes currently reuses the earlier instance.  In a future version, a new instance will always be created and returned.  Meanwhile, this warning can be suppressed, and the future behavior ensured, by passing a unique label to each axes instance.\n",
      "  ax = fig.add_subplot(111, autoscale_on=False,\n"
     ]
    },
    {
     "name": "stdout",
     "output_type": "stream",
     "text": [
      "19\n",
      "The interpolation points are stored in the variable \"EF_target_pos\": \n",
      "[[ 16.07106781   7.07106781]\n",
      " [ 12.66666667   0.90788369]\n",
      " [  6.33333333  -8.16530302]\n",
      " [ -6.33333333 -10.17511612]\n",
      " [-12.66666667  -0.39653889]]\n",
      "The intermediate points are stored in the variable \"interpolated_points\"\n"
     ]
    },
    {
     "name": "stderr",
     "output_type": "stream",
     "text": [
      "<ipython-input-3-eda05cffcd9b>:29: MatplotlibDeprecationWarning: Adding an axes using the same arguments as a previous axes currently reuses the earlier instance.  In a future version, a new instance will always be created and returned.  Meanwhile, this warning can be suppressed, and the future behavior ensured, by passing a unique label to each axes instance.\n",
      "  ax = fig.add_subplot(111, autoscale_on=False,\n"
     ]
    },
    {
     "name": "stdout",
     "output_type": "stream",
     "text": [
      "16\n",
      "The interpolation points are stored in the variable \"EF_target_pos\": \n",
      "[[ 13.07106781   7.07106781]\n",
      " [ 10.66666667   3.89305275]\n",
      " [  5.33333333  -0.49704371]\n",
      " [ -5.33333333   6.9859849 ]\n",
      " [-10.66666667  -5.25757922]]\n",
      "The intermediate points are stored in the variable \"interpolated_points\"\n"
     ]
    },
    {
     "name": "stderr",
     "output_type": "stream",
     "text": [
      "<ipython-input-3-eda05cffcd9b>:29: MatplotlibDeprecationWarning: Adding an axes using the same arguments as a previous axes currently reuses the earlier instance.  In a future version, a new instance will always be created and returned.  Meanwhile, this warning can be suppressed, and the future behavior ensured, by passing a unique label to each axes instance.\n",
      "  ax = fig.add_subplot(111, autoscale_on=False,\n"
     ]
    },
    {
     "name": "stdout",
     "output_type": "stream",
     "text": [
      "24\n",
      "The interpolation points are stored in the variable \"EF_target_pos\": \n",
      "[[ 20.48528137   8.48528137]\n",
      " [ 16.           7.95762171]\n",
      " [  8.           5.9943806 ]\n",
      " [ -8.           0.37572144]\n",
      " [-16.           7.64440976]]\n",
      "The intermediate points are stored in the variable \"interpolated_points\"\n"
     ]
    },
    {
     "name": "stderr",
     "output_type": "stream",
     "text": [
      "<ipython-input-3-eda05cffcd9b>:29: MatplotlibDeprecationWarning: Adding an axes using the same arguments as a previous axes currently reuses the earlier instance.  In a future version, a new instance will always be created and returned.  Meanwhile, this warning can be suppressed, and the future behavior ensured, by passing a unique label to each axes instance.\n",
      "  ax = fig.add_subplot(111, autoscale_on=False,\n"
     ]
    },
    {
     "name": "stdout",
     "output_type": "stream",
     "text": [
      "15\n",
      "The interpolation points are stored in the variable \"EF_target_pos\": \n",
      "[[ 13.53553391   3.53553391]\n",
      " [ 10.          -2.27145922]\n",
      " [  5.           2.63623446]\n",
      " [ -5.          -4.08118529]\n",
      " [-10.           1.91474897]]\n",
      "The intermediate points are stored in the variable \"interpolated_points\"\n"
     ]
    },
    {
     "name": "stderr",
     "output_type": "stream",
     "text": [
      "<ipython-input-3-eda05cffcd9b>:29: MatplotlibDeprecationWarning: Adding an axes using the same arguments as a previous axes currently reuses the earlier instance.  In a future version, a new instance will always be created and returned.  Meanwhile, this warning can be suppressed, and the future behavior ensured, by passing a unique label to each axes instance.\n",
      "  ax = fig.add_subplot(111, autoscale_on=False,\n"
     ]
    },
    {
     "name": "stdout",
     "output_type": "stream",
     "text": [
      "15\n",
      "The interpolation points are stored in the variable \"EF_target_pos\": \n",
      "[[ 12.65685425   5.65685425]\n",
      " [ 10.          -2.71814219]\n",
      " [  5.          -6.42905839]\n",
      " [ -5.           1.75279383]\n",
      " [-10.           3.01362266]]\n",
      "The intermediate points are stored in the variable \"interpolated_points\"\n"
     ]
    },
    {
     "name": "stderr",
     "output_type": "stream",
     "text": [
      "<ipython-input-3-eda05cffcd9b>:29: MatplotlibDeprecationWarning: Adding an axes using the same arguments as a previous axes currently reuses the earlier instance.  In a future version, a new instance will always be created and returned.  Meanwhile, this warning can be suppressed, and the future behavior ensured, by passing a unique label to each axes instance.\n",
      "  ax = fig.add_subplot(111, autoscale_on=False,\n"
     ]
    },
    {
     "name": "stdout",
     "output_type": "stream",
     "text": [
      "15\n",
      "The interpolation points are stored in the variable \"EF_target_pos\": \n",
      "[[ 12.36396103   6.36396103]\n",
      " [ 10.          -2.50580861]\n",
      " [  5.           6.77537394]\n",
      " [ -5.           1.00241714]\n",
      " [-10.           3.87497923]]\n",
      "The intermediate points are stored in the variable \"interpolated_points\"\n"
     ]
    },
    {
     "name": "stderr",
     "output_type": "stream",
     "text": [
      "<ipython-input-3-eda05cffcd9b>:29: MatplotlibDeprecationWarning: Adding an axes using the same arguments as a previous axes currently reuses the earlier instance.  In a future version, a new instance will always be created and returned.  Meanwhile, this warning can be suppressed, and the future behavior ensured, by passing a unique label to each axes instance.\n",
      "  ax = fig.add_subplot(111, autoscale_on=False,\n"
     ]
    },
    {
     "name": "stdout",
     "output_type": "stream",
     "text": [
      "14\n",
      "The interpolation points are stored in the variable \"EF_target_pos\": \n",
      "[[12.82842712  2.82842712]\n",
      " [ 9.33333333 -4.00677608]\n",
      " [ 4.66666667 -8.08174088]\n",
      " [-4.66666667 -2.78601075]\n",
      " [-9.33333333  1.03057033]]\n",
      "The intermediate points are stored in the variable \"interpolated_points\"\n"
     ]
    },
    {
     "name": "stderr",
     "output_type": "stream",
     "text": [
      "<ipython-input-3-eda05cffcd9b>:29: MatplotlibDeprecationWarning: Adding an axes using the same arguments as a previous axes currently reuses the earlier instance.  In a future version, a new instance will always be created and returned.  Meanwhile, this warning can be suppressed, and the future behavior ensured, by passing a unique label to each axes instance.\n",
      "  ax = fig.add_subplot(111, autoscale_on=False,\n"
     ]
    },
    {
     "name": "stdout",
     "output_type": "stream",
     "text": [
      "15\n",
      "The interpolation points are stored in the variable \"EF_target_pos\": \n",
      "[[ 12.07106781   7.07106781]\n",
      " [ 10.           5.12739839]\n",
      " [  5.          -7.13457324]\n",
      " [ -5.           4.79234209]\n",
      " [-10.          -4.89612229]]\n",
      "The intermediate points are stored in the variable \"interpolated_points\"\n"
     ]
    },
    {
     "name": "stderr",
     "output_type": "stream",
     "text": [
      "<ipython-input-3-eda05cffcd9b>:29: MatplotlibDeprecationWarning: Adding an axes using the same arguments as a previous axes currently reuses the earlier instance.  In a future version, a new instance will always be created and returned.  Meanwhile, this warning can be suppressed, and the future behavior ensured, by passing a unique label to each axes instance.\n",
      "  ax = fig.add_subplot(111, autoscale_on=False,\n"
     ]
    },
    {
     "name": "stdout",
     "output_type": "stream",
     "text": [
      "20\n",
      "The interpolation points are stored in the variable \"EF_target_pos\": \n",
      "[[ 16.19238816   9.19238816]\n",
      " [ 13.33333333  -2.13270307]\n",
      " [  6.66666667   3.07075878]\n",
      " [ -6.66666667   5.6931776 ]\n",
      " [-13.33333333  -3.59308204]]\n",
      "The intermediate points are stored in the variable \"interpolated_points\"\n"
     ]
    },
    {
     "name": "stderr",
     "output_type": "stream",
     "text": [
      "<ipython-input-3-eda05cffcd9b>:29: MatplotlibDeprecationWarning: Adding an axes using the same arguments as a previous axes currently reuses the earlier instance.  In a future version, a new instance will always be created and returned.  Meanwhile, this warning can be suppressed, and the future behavior ensured, by passing a unique label to each axes instance.\n",
      "  ax = fig.add_subplot(111, autoscale_on=False,\n"
     ]
    },
    {
     "name": "stdout",
     "output_type": "stream",
     "text": [
      "21\n",
      "The interpolation points are stored in the variable \"EF_target_pos\": \n",
      "[[ 17.77817459   7.77817459]\n",
      " [ 14.          -5.30298025]\n",
      " [  7.          13.31498007]\n",
      " [ -7.           3.02230622]\n",
      " [-14.           3.89556327]]\n",
      "The intermediate points are stored in the variable \"interpolated_points\"\n"
     ]
    },
    {
     "name": "stderr",
     "output_type": "stream",
     "text": [
      "<ipython-input-3-eda05cffcd9b>:29: MatplotlibDeprecationWarning: Adding an axes using the same arguments as a previous axes currently reuses the earlier instance.  In a future version, a new instance will always be created and returned.  Meanwhile, this warning can be suppressed, and the future behavior ensured, by passing a unique label to each axes instance.\n",
      "  ax = fig.add_subplot(111, autoscale_on=False,\n"
     ]
    },
    {
     "name": "stdout",
     "output_type": "stream",
     "text": [
      "19\n",
      "The interpolation points are stored in the variable \"EF_target_pos\": \n",
      "[[ 16.65685425   5.65685425]\n",
      " [ 12.66666667   5.98245003]\n",
      " [  6.33333333   5.33620899]\n",
      " [ -6.33333333  10.56639108]\n",
      " [-12.66666667  -3.29007754]]\n",
      "The intermediate points are stored in the variable \"interpolated_points\"\n"
     ]
    },
    {
     "name": "stderr",
     "output_type": "stream",
     "text": [
      "<ipython-input-3-eda05cffcd9b>:29: MatplotlibDeprecationWarning: Adding an axes using the same arguments as a previous axes currently reuses the earlier instance.  In a future version, a new instance will always be created and returned.  Meanwhile, this warning can be suppressed, and the future behavior ensured, by passing a unique label to each axes instance.\n",
      "  ax = fig.add_subplot(111, autoscale_on=False,\n"
     ]
    },
    {
     "name": "stdout",
     "output_type": "stream",
     "text": [
      "21\n",
      "The interpolation points are stored in the variable \"EF_target_pos\": \n",
      "[[ 17.19238816   9.19238816]\n",
      " [ 14.           3.99258034]\n",
      " [  7.           3.15402259]\n",
      " [ -7.          10.34128947]\n",
      " [-14.           6.67572131]]\n",
      "The intermediate points are stored in the variable \"interpolated_points\"\n"
     ]
    },
    {
     "name": "stderr",
     "output_type": "stream",
     "text": [
      "<ipython-input-3-eda05cffcd9b>:29: MatplotlibDeprecationWarning: Adding an axes using the same arguments as a previous axes currently reuses the earlier instance.  In a future version, a new instance will always be created and returned.  Meanwhile, this warning can be suppressed, and the future behavior ensured, by passing a unique label to each axes instance.\n",
      "  ax = fig.add_subplot(111, autoscale_on=False,\n"
     ]
    },
    {
     "name": "stdout",
     "output_type": "stream",
     "text": [
      "20\n",
      "The interpolation points are stored in the variable \"EF_target_pos\": \n",
      "[[ 17.36396103   6.36396103]\n",
      " [ 13.33333333   3.25463889]\n",
      " [  6.66666667  -1.24316608]\n",
      " [ -6.66666667  -0.38878046]\n",
      " [-13.33333333  -0.54165947]]\n",
      "The intermediate points are stored in the variable \"interpolated_points\"\n"
     ]
    },
    {
     "name": "stderr",
     "output_type": "stream",
     "text": [
      "<ipython-input-3-eda05cffcd9b>:29: MatplotlibDeprecationWarning: Adding an axes using the same arguments as a previous axes currently reuses the earlier instance.  In a future version, a new instance will always be created and returned.  Meanwhile, this warning can be suppressed, and the future behavior ensured, by passing a unique label to each axes instance.\n",
      "  ax = fig.add_subplot(111, autoscale_on=False,\n"
     ]
    },
    {
     "name": "stdout",
     "output_type": "stream",
     "text": [
      "15\n",
      "The interpolation points are stored in the variable \"EF_target_pos\": \n",
      "[[ 12.36396103   6.36396103]\n",
      " [ 10.          -3.55401931]\n",
      " [  5.          -5.03025133]\n",
      " [ -5.           6.16825971]\n",
      " [-10.          -3.31013864]]\n",
      "The intermediate points are stored in the variable \"interpolated_points\"\n"
     ]
    },
    {
     "name": "stderr",
     "output_type": "stream",
     "text": [
      "<ipython-input-3-eda05cffcd9b>:29: MatplotlibDeprecationWarning: Adding an axes using the same arguments as a previous axes currently reuses the earlier instance.  In a future version, a new instance will always be created and returned.  Meanwhile, this warning can be suppressed, and the future behavior ensured, by passing a unique label to each axes instance.\n",
      "  ax = fig.add_subplot(111, autoscale_on=False,\n"
     ]
    },
    {
     "name": "stdout",
     "output_type": "stream",
     "text": [
      "18\n",
      "The interpolation points are stored in the variable \"EF_target_pos\": \n",
      "[[ 15.65685425   5.65685425]\n",
      " [ 12.          -4.52048172]\n",
      " [  6.          -0.94991376]\n",
      " [ -6.           5.09466428]\n",
      " [-12.          -1.78682571]]\n",
      "The intermediate points are stored in the variable \"interpolated_points\"\n"
     ]
    },
    {
     "name": "stderr",
     "output_type": "stream",
     "text": [
      "<ipython-input-3-eda05cffcd9b>:29: MatplotlibDeprecationWarning: Adding an axes using the same arguments as a previous axes currently reuses the earlier instance.  In a future version, a new instance will always be created and returned.  Meanwhile, this warning can be suppressed, and the future behavior ensured, by passing a unique label to each axes instance.\n",
      "  ax = fig.add_subplot(111, autoscale_on=False,\n"
     ]
    },
    {
     "name": "stdout",
     "output_type": "stream",
     "text": [
      "15\n",
      "The interpolation points are stored in the variable \"EF_target_pos\": \n",
      "[[ 11.77817459   7.77817459]\n",
      " [ 10.           4.47450884]\n",
      " [  5.           3.52426011]\n",
      " [ -5.           2.60955754]\n",
      " [-10.          -3.95447997]]\n",
      "The intermediate points are stored in the variable \"interpolated_points\"\n"
     ]
    },
    {
     "name": "stderr",
     "output_type": "stream",
     "text": [
      "<ipython-input-3-eda05cffcd9b>:29: MatplotlibDeprecationWarning: Adding an axes using the same arguments as a previous axes currently reuses the earlier instance.  In a future version, a new instance will always be created and returned.  Meanwhile, this warning can be suppressed, and the future behavior ensured, by passing a unique label to each axes instance.\n",
      "  ax = fig.add_subplot(111, autoscale_on=False,\n"
     ]
    },
    {
     "name": "stdout",
     "output_type": "stream",
     "text": [
      "18\n",
      "The interpolation points are stored in the variable \"EF_target_pos\": \n",
      "[[ 16.24264069   4.24264069]\n",
      " [ 12.           5.79040132]\n",
      " [  6.          -7.31684393]\n",
      " [ -6.           6.74559159]\n",
      " [-12.          -1.58091505]]\n",
      "The intermediate points are stored in the variable \"interpolated_points\"\n"
     ]
    },
    {
     "name": "stderr",
     "output_type": "stream",
     "text": [
      "<ipython-input-3-eda05cffcd9b>:29: MatplotlibDeprecationWarning: Adding an axes using the same arguments as a previous axes currently reuses the earlier instance.  In a future version, a new instance will always be created and returned.  Meanwhile, this warning can be suppressed, and the future behavior ensured, by passing a unique label to each axes instance.\n",
      "  ax = fig.add_subplot(111, autoscale_on=False,\n"
     ]
    },
    {
     "name": "stdout",
     "output_type": "stream",
     "text": [
      "18\n",
      "The interpolation points are stored in the variable \"EF_target_pos\": \n",
      "[[ 14.77817459   7.77817459]\n",
      " [ 12.           1.82911144]\n",
      " [  6.          -3.90299805]\n",
      " [ -6.          -1.58000956]\n",
      " [-12.           2.40325334]]\n",
      "The intermediate points are stored in the variable \"interpolated_points\"\n"
     ]
    },
    {
     "name": "stderr",
     "output_type": "stream",
     "text": [
      "<ipython-input-3-eda05cffcd9b>:29: MatplotlibDeprecationWarning: Adding an axes using the same arguments as a previous axes currently reuses the earlier instance.  In a future version, a new instance will always be created and returned.  Meanwhile, this warning can be suppressed, and the future behavior ensured, by passing a unique label to each axes instance.\n",
      "  ax = fig.add_subplot(111, autoscale_on=False,\n"
     ]
    },
    {
     "name": "stdout",
     "output_type": "stream",
     "text": [
      "17\n",
      "The interpolation points are stored in the variable \"EF_target_pos\": \n",
      "[[ 14.94974747   4.94974747]\n",
      " [ 11.33333333  -2.2218331 ]\n",
      " [  5.66666667   5.84589423]\n",
      " [ -5.66666667   6.61920703]\n",
      " [-11.33333333  -2.59840671]]\n",
      "The intermediate points are stored in the variable \"interpolated_points\"\n"
     ]
    },
    {
     "name": "stderr",
     "output_type": "stream",
     "text": [
      "<ipython-input-3-eda05cffcd9b>:29: MatplotlibDeprecationWarning: Adding an axes using the same arguments as a previous axes currently reuses the earlier instance.  In a future version, a new instance will always be created and returned.  Meanwhile, this warning can be suppressed, and the future behavior ensured, by passing a unique label to each axes instance.\n",
      "  ax = fig.add_subplot(111, autoscale_on=False,\n"
     ]
    },
    {
     "name": "stdout",
     "output_type": "stream",
     "text": [
      "15\n",
      "The interpolation points are stored in the variable \"EF_target_pos\": \n",
      "[[ 12.07106781   7.07106781]\n",
      " [ 10.          -0.54883386]\n",
      " [  5.          10.05644529]\n",
      " [ -5.           4.14272873]\n",
      " [-10.           2.39830789]]\n",
      "The intermediate points are stored in the variable \"interpolated_points\"\n"
     ]
    },
    {
     "name": "stderr",
     "output_type": "stream",
     "text": [
      "<ipython-input-3-eda05cffcd9b>:29: MatplotlibDeprecationWarning: Adding an axes using the same arguments as a previous axes currently reuses the earlier instance.  In a future version, a new instance will always be created and returned.  Meanwhile, this warning can be suppressed, and the future behavior ensured, by passing a unique label to each axes instance.\n",
      "  ax = fig.add_subplot(111, autoscale_on=False,\n"
     ]
    },
    {
     "name": "stdout",
     "output_type": "stream",
     "text": [
      "16\n",
      "The interpolation points are stored in the variable \"EF_target_pos\": \n",
      "[[ 13.36396103   6.36396103]\n",
      " [ 10.66666667  -1.41649113]\n",
      " [  5.33333333  -4.91087079]\n",
      " [ -5.33333333   4.49087807]\n",
      " [-10.66666667  -3.16775298]]\n",
      "The intermediate points are stored in the variable \"interpolated_points\"\n"
     ]
    },
    {
     "name": "stderr",
     "output_type": "stream",
     "text": [
      "<ipython-input-3-eda05cffcd9b>:29: MatplotlibDeprecationWarning: Adding an axes using the same arguments as a previous axes currently reuses the earlier instance.  In a future version, a new instance will always be created and returned.  Meanwhile, this warning can be suppressed, and the future behavior ensured, by passing a unique label to each axes instance.\n",
      "  ax = fig.add_subplot(111, autoscale_on=False,\n"
     ]
    },
    {
     "name": "stdout",
     "output_type": "stream",
     "text": [
      "16\n",
      "The interpolation points are stored in the variable \"EF_target_pos\": \n",
      "[[ 12.48528137   8.48528137]\n",
      " [ 10.66666667   0.78940914]\n",
      " [  5.33333333   9.18876102]\n",
      " [ -5.33333333   0.69625156]\n",
      " [-10.66666667  -4.57484909]]\n",
      "The intermediate points are stored in the variable \"interpolated_points\"\n"
     ]
    },
    {
     "name": "stderr",
     "output_type": "stream",
     "text": [
      "<ipython-input-3-eda05cffcd9b>:29: MatplotlibDeprecationWarning: Adding an axes using the same arguments as a previous axes currently reuses the earlier instance.  In a future version, a new instance will always be created and returned.  Meanwhile, this warning can be suppressed, and the future behavior ensured, by passing a unique label to each axes instance.\n",
      "  ax = fig.add_subplot(111, autoscale_on=False,\n"
     ]
    },
    {
     "name": "stdout",
     "output_type": "stream",
     "text": [
      "17\n",
      "The interpolation points are stored in the variable \"EF_target_pos\": \n",
      "[[ 15.24264069   4.24264069]\n",
      " [ 11.33333333  -2.23505252]\n",
      " [  5.66666667   5.19546215]\n",
      " [ -5.66666667   8.11752212]\n",
      " [-11.33333333  -0.62942042]]\n",
      "The intermediate points are stored in the variable \"interpolated_points\"\n"
     ]
    },
    {
     "name": "stderr",
     "output_type": "stream",
     "text": [
      "<ipython-input-3-eda05cffcd9b>:29: MatplotlibDeprecationWarning: Adding an axes using the same arguments as a previous axes currently reuses the earlier instance.  In a future version, a new instance will always be created and returned.  Meanwhile, this warning can be suppressed, and the future behavior ensured, by passing a unique label to each axes instance.\n",
      "  ax = fig.add_subplot(111, autoscale_on=False,\n"
     ]
    },
    {
     "name": "stdout",
     "output_type": "stream",
     "text": [
      "15\n",
      "The interpolation points are stored in the variable \"EF_target_pos\": \n",
      "[[ 12.94974747   4.94974747]\n",
      " [ 10.          -1.01231227]\n",
      " [  5.           6.98590733]\n",
      " [ -5.          -0.35843344]\n",
      " [-10.          -2.45836111]]\n",
      "The intermediate points are stored in the variable \"interpolated_points\"\n"
     ]
    },
    {
     "name": "stderr",
     "output_type": "stream",
     "text": [
      "<ipython-input-3-eda05cffcd9b>:29: MatplotlibDeprecationWarning: Adding an axes using the same arguments as a previous axes currently reuses the earlier instance.  In a future version, a new instance will always be created and returned.  Meanwhile, this warning can be suppressed, and the future behavior ensured, by passing a unique label to each axes instance.\n",
      "  ax = fig.add_subplot(111, autoscale_on=False,\n"
     ]
    },
    {
     "name": "stdout",
     "output_type": "stream",
     "text": [
      "19\n",
      "The interpolation points are stored in the variable \"EF_target_pos\": \n",
      "[[ 16.07106781   7.07106781]\n",
      " [ 12.66666667   5.84164432]\n",
      " [  6.33333333   0.25287917]\n",
      " [ -6.33333333  -0.32228916]\n",
      " [-12.66666667  -5.36846305]]\n",
      "The intermediate points are stored in the variable \"interpolated_points\"\n"
     ]
    },
    {
     "name": "stderr",
     "output_type": "stream",
     "text": [
      "<ipython-input-3-eda05cffcd9b>:29: MatplotlibDeprecationWarning: Adding an axes using the same arguments as a previous axes currently reuses the earlier instance.  In a future version, a new instance will always be created and returned.  Meanwhile, this warning can be suppressed, and the future behavior ensured, by passing a unique label to each axes instance.\n",
      "  ax = fig.add_subplot(111, autoscale_on=False,\n"
     ]
    },
    {
     "name": "stdout",
     "output_type": "stream",
     "text": [
      "18\n",
      "The interpolation points are stored in the variable \"EF_target_pos\": \n",
      "[[ 15.94974747   4.94974747]\n",
      " [ 12.          -3.06853403]\n",
      " [  6.           9.18318233]\n",
      " [ -6.          11.4975761 ]\n",
      " [-12.           3.29994928]]\n",
      "The intermediate points are stored in the variable \"interpolated_points\"\n"
     ]
    },
    {
     "name": "stderr",
     "output_type": "stream",
     "text": [
      "<ipython-input-3-eda05cffcd9b>:29: MatplotlibDeprecationWarning: Adding an axes using the same arguments as a previous axes currently reuses the earlier instance.  In a future version, a new instance will always be created and returned.  Meanwhile, this warning can be suppressed, and the future behavior ensured, by passing a unique label to each axes instance.\n",
      "  ax = fig.add_subplot(111, autoscale_on=False,\n"
     ]
    },
    {
     "name": "stdout",
     "output_type": "stream",
     "text": [
      "20\n",
      "The interpolation points are stored in the variable \"EF_target_pos\": \n",
      "[[ 17.65685425   5.65685425]\n",
      " [ 13.33333333   4.67376546]\n",
      " [  6.66666667   9.48650576]\n",
      " [ -6.66666667  12.82763316]\n",
      " [-13.33333333   1.79735049]]\n",
      "The intermediate points are stored in the variable \"interpolated_points\"\n"
     ]
    },
    {
     "name": "stderr",
     "output_type": "stream",
     "text": [
      "<ipython-input-3-eda05cffcd9b>:29: MatplotlibDeprecationWarning: Adding an axes using the same arguments as a previous axes currently reuses the earlier instance.  In a future version, a new instance will always be created and returned.  Meanwhile, this warning can be suppressed, and the future behavior ensured, by passing a unique label to each axes instance.\n",
      "  ax = fig.add_subplot(111, autoscale_on=False,\n"
     ]
    },
    {
     "name": "stdout",
     "output_type": "stream",
     "text": [
      "21\n",
      "The interpolation points are stored in the variable \"EF_target_pos\": \n",
      "[[ 18.07106781   7.07106781]\n",
      " [ 14.          -5.96438288]\n",
      " [  7.           4.18437383]\n",
      " [ -7.           3.51029045]\n",
      " [-14.           1.83620751]]\n",
      "The intermediate points are stored in the variable \"interpolated_points\"\n"
     ]
    },
    {
     "name": "stderr",
     "output_type": "stream",
     "text": [
      "<ipython-input-3-eda05cffcd9b>:29: MatplotlibDeprecationWarning: Adding an axes using the same arguments as a previous axes currently reuses the earlier instance.  In a future version, a new instance will always be created and returned.  Meanwhile, this warning can be suppressed, and the future behavior ensured, by passing a unique label to each axes instance.\n",
      "  ax = fig.add_subplot(111, autoscale_on=False,\n"
     ]
    },
    {
     "name": "stdout",
     "output_type": "stream",
     "text": [
      "14\n",
      "The interpolation points are stored in the variable \"EF_target_pos\": \n",
      "[[12.53553391  3.53553391]\n",
      " [ 9.33333333 -3.46607788]\n",
      " [ 4.66666667 -3.15745291]\n",
      " [-4.66666667  2.74619685]\n",
      " [-9.33333333  0.49558249]]\n",
      "The intermediate points are stored in the variable \"interpolated_points\"\n"
     ]
    },
    {
     "name": "stderr",
     "output_type": "stream",
     "text": [
      "<ipython-input-3-eda05cffcd9b>:29: MatplotlibDeprecationWarning: Adding an axes using the same arguments as a previous axes currently reuses the earlier instance.  In a future version, a new instance will always be created and returned.  Meanwhile, this warning can be suppressed, and the future behavior ensured, by passing a unique label to each axes instance.\n",
      "  ax = fig.add_subplot(111, autoscale_on=False,\n"
     ]
    },
    {
     "name": "stdout",
     "output_type": "stream",
     "text": [
      "23\n",
      "The interpolation points are stored in the variable \"EF_target_pos\": \n",
      "[[ 19.19238816   9.19238816]\n",
      " [ 15.33333333  -3.17113101]\n",
      " [  7.66666667 -12.41351983]\n",
      " [ -7.66666667  -7.11700643]\n",
      " [-15.33333333  -7.64548361]]\n",
      "The intermediate points are stored in the variable \"interpolated_points\"\n"
     ]
    },
    {
     "name": "stderr",
     "output_type": "stream",
     "text": [
      "<ipython-input-3-eda05cffcd9b>:29: MatplotlibDeprecationWarning: Adding an axes using the same arguments as a previous axes currently reuses the earlier instance.  In a future version, a new instance will always be created and returned.  Meanwhile, this warning can be suppressed, and the future behavior ensured, by passing a unique label to each axes instance.\n",
      "  ax = fig.add_subplot(111, autoscale_on=False,\n"
     ]
    },
    {
     "name": "stdout",
     "output_type": "stream",
     "text": [
      "18\n",
      "The interpolation points are stored in the variable \"EF_target_pos\": \n",
      "[[ 15.07106781   7.07106781]\n",
      " [ 12.           5.93887365]\n",
      " [  6.          11.53551557]\n",
      " [ -6.           6.51930673]\n",
      " [-12.           4.84128199]]\n",
      "The intermediate points are stored in the variable \"interpolated_points\"\n"
     ]
    },
    {
     "name": "stderr",
     "output_type": "stream",
     "text": [
      "<ipython-input-3-eda05cffcd9b>:29: MatplotlibDeprecationWarning: Adding an axes using the same arguments as a previous axes currently reuses the earlier instance.  In a future version, a new instance will always be created and returned.  Meanwhile, this warning can be suppressed, and the future behavior ensured, by passing a unique label to each axes instance.\n",
      "  ax = fig.add_subplot(111, autoscale_on=False,\n"
     ]
    },
    {
     "name": "stdout",
     "output_type": "stream",
     "text": [
      "16\n",
      "The interpolation points are stored in the variable \"EF_target_pos\": \n",
      "[[ 13.94974747   4.94974747]\n",
      " [ 10.66666667  -2.41961161]\n",
      " [  5.33333333   1.82736561]\n",
      " [ -5.33333333   2.57056156]\n",
      " [-10.66666667  -1.46711378]]\n",
      "The intermediate points are stored in the variable \"interpolated_points\"\n"
     ]
    },
    {
     "name": "stderr",
     "output_type": "stream",
     "text": [
      "<ipython-input-3-eda05cffcd9b>:29: MatplotlibDeprecationWarning: Adding an axes using the same arguments as a previous axes currently reuses the earlier instance.  In a future version, a new instance will always be created and returned.  Meanwhile, this warning can be suppressed, and the future behavior ensured, by passing a unique label to each axes instance.\n",
      "  ax = fig.add_subplot(111, autoscale_on=False,\n"
     ]
    },
    {
     "name": "stdout",
     "output_type": "stream",
     "text": [
      "20\n",
      "The interpolation points are stored in the variable \"EF_target_pos\": \n",
      "[[ 17.07106781   7.07106781]\n",
      " [ 13.33333333  -1.34003373]\n",
      " [  6.66666667  11.38147393]\n",
      " [ -6.66666667   9.95630523]\n",
      " [-13.33333333   4.15354346]]\n",
      "The intermediate points are stored in the variable \"interpolated_points\"\n"
     ]
    },
    {
     "name": "stderr",
     "output_type": "stream",
     "text": [
      "<ipython-input-3-eda05cffcd9b>:29: MatplotlibDeprecationWarning: Adding an axes using the same arguments as a previous axes currently reuses the earlier instance.  In a future version, a new instance will always be created and returned.  Meanwhile, this warning can be suppressed, and the future behavior ensured, by passing a unique label to each axes instance.\n",
      "  ax = fig.add_subplot(111, autoscale_on=False,\n"
     ]
    },
    {
     "name": "stdout",
     "output_type": "stream",
     "text": [
      "20\n",
      "The interpolation points are stored in the variable \"EF_target_pos\": \n",
      "[[ 16.77817459   7.77817459]\n",
      " [ 13.33333333   6.65086907]\n",
      " [  6.66666667  13.32909097]\n",
      " [ -6.66666667 -10.65990547]\n",
      " [-13.33333333  -5.0335364 ]]\n",
      "The intermediate points are stored in the variable \"interpolated_points\"\n"
     ]
    },
    {
     "name": "stderr",
     "output_type": "stream",
     "text": [
      "<ipython-input-3-eda05cffcd9b>:29: MatplotlibDeprecationWarning: Adding an axes using the same arguments as a previous axes currently reuses the earlier instance.  In a future version, a new instance will always be created and returned.  Meanwhile, this warning can be suppressed, and the future behavior ensured, by passing a unique label to each axes instance.\n",
      "  ax = fig.add_subplot(111, autoscale_on=False,\n"
     ]
    },
    {
     "name": "stdout",
     "output_type": "stream",
     "text": [
      "17\n",
      "The interpolation points are stored in the variable \"EF_target_pos\": \n",
      "[[ 14.07106781   7.07106781]\n",
      " [ 11.33333333   5.52994909]\n",
      " [  5.66666667  -9.47812084]\n",
      " [ -5.66666667   6.17418094]\n",
      " [-11.33333333   2.02280921]]\n",
      "The intermediate points are stored in the variable \"interpolated_points\"\n"
     ]
    },
    {
     "name": "stderr",
     "output_type": "stream",
     "text": [
      "<ipython-input-3-eda05cffcd9b>:29: MatplotlibDeprecationWarning: Adding an axes using the same arguments as a previous axes currently reuses the earlier instance.  In a future version, a new instance will always be created and returned.  Meanwhile, this warning can be suppressed, and the future behavior ensured, by passing a unique label to each axes instance.\n",
      "  ax = fig.add_subplot(111, autoscale_on=False,\n"
     ]
    },
    {
     "name": "stdout",
     "output_type": "stream",
     "text": [
      "11\n",
      "The interpolation points are stored in the variable \"EF_target_pos\": \n",
      "[[ 9.24264069  4.24264069]\n",
      " [ 7.33333333  0.28071679]\n",
      " [ 3.66666667 -3.70175107]\n",
      " [-3.66666667  1.48441666]\n",
      " [-7.33333333 -3.30805127]]\n",
      "The intermediate points are stored in the variable \"interpolated_points\"\n"
     ]
    },
    {
     "name": "stderr",
     "output_type": "stream",
     "text": [
      "<ipython-input-3-eda05cffcd9b>:29: MatplotlibDeprecationWarning: Adding an axes using the same arguments as a previous axes currently reuses the earlier instance.  In a future version, a new instance will always be created and returned.  Meanwhile, this warning can be suppressed, and the future behavior ensured, by passing a unique label to each axes instance.\n",
      "  ax = fig.add_subplot(111, autoscale_on=False,\n"
     ]
    },
    {
     "name": "stdout",
     "output_type": "stream",
     "text": [
      "19\n",
      "The interpolation points are stored in the variable \"EF_target_pos\": \n",
      "[[ 16.94974747   4.94974747]\n",
      " [ 12.66666667   3.99073655]\n",
      " [  6.33333333  -6.39800988]\n",
      " [ -6.33333333 -11.96481953]\n",
      " [-12.66666667  -0.10978537]]\n",
      "The intermediate points are stored in the variable \"interpolated_points\"\n"
     ]
    },
    {
     "name": "stderr",
     "output_type": "stream",
     "text": [
      "<ipython-input-3-eda05cffcd9b>:29: MatplotlibDeprecationWarning: Adding an axes using the same arguments as a previous axes currently reuses the earlier instance.  In a future version, a new instance will always be created and returned.  Meanwhile, this warning can be suppressed, and the future behavior ensured, by passing a unique label to each axes instance.\n",
      "  ax = fig.add_subplot(111, autoscale_on=False,\n"
     ]
    },
    {
     "name": "stdout",
     "output_type": "stream",
     "text": [
      "18\n",
      "The interpolation points are stored in the variable \"EF_target_pos\": \n",
      "[[ 15.07106781   7.07106781]\n",
      " [ 12.           2.92558069]\n",
      " [  6.           0.44536119]\n",
      " [ -6.           6.70114206]\n",
      " [-12.           5.11562535]]\n",
      "The intermediate points are stored in the variable \"interpolated_points\"\n"
     ]
    },
    {
     "name": "stderr",
     "output_type": "stream",
     "text": [
      "<ipython-input-3-eda05cffcd9b>:29: MatplotlibDeprecationWarning: Adding an axes using the same arguments as a previous axes currently reuses the earlier instance.  In a future version, a new instance will always be created and returned.  Meanwhile, this warning can be suppressed, and the future behavior ensured, by passing a unique label to each axes instance.\n",
      "  ax = fig.add_subplot(111, autoscale_on=False,\n"
     ]
    },
    {
     "name": "stdout",
     "output_type": "stream",
     "text": [
      "20\n",
      "The interpolation points are stored in the variable \"EF_target_pos\": \n",
      "[[ 17.65685425   5.65685425]\n",
      " [ 13.33333333   2.69317092]\n",
      " [  6.66666667 -11.59536344]\n",
      " [ -6.66666667   5.24751327]\n",
      " [-13.33333333  -0.39441946]]\n",
      "The intermediate points are stored in the variable \"interpolated_points\"\n"
     ]
    },
    {
     "name": "stderr",
     "output_type": "stream",
     "text": [
      "<ipython-input-3-eda05cffcd9b>:29: MatplotlibDeprecationWarning: Adding an axes using the same arguments as a previous axes currently reuses the earlier instance.  In a future version, a new instance will always be created and returned.  Meanwhile, this warning can be suppressed, and the future behavior ensured, by passing a unique label to each axes instance.\n",
      "  ax = fig.add_subplot(111, autoscale_on=False,\n"
     ]
    },
    {
     "name": "stdout",
     "output_type": "stream",
     "text": [
      "13\n",
      "The interpolation points are stored in the variable \"EF_target_pos\": \n",
      "[[11.53553391  3.53553391]\n",
      " [ 8.66666667  3.1209502 ]\n",
      " [ 4.33333333 -4.87336387]\n",
      " [-4.33333333  2.05736352]\n",
      " [-8.66666667  3.45663115]]\n",
      "The intermediate points are stored in the variable \"interpolated_points\"\n"
     ]
    },
    {
     "name": "stderr",
     "output_type": "stream",
     "text": [
      "<ipython-input-3-eda05cffcd9b>:29: MatplotlibDeprecationWarning: Adding an axes using the same arguments as a previous axes currently reuses the earlier instance.  In a future version, a new instance will always be created and returned.  Meanwhile, this warning can be suppressed, and the future behavior ensured, by passing a unique label to each axes instance.\n",
      "  ax = fig.add_subplot(111, autoscale_on=False,\n"
     ]
    },
    {
     "name": "stdout",
     "output_type": "stream",
     "text": [
      "15\n",
      "The interpolation points are stored in the variable \"EF_target_pos\": \n",
      "[[ 12.94974747   4.94974747]\n",
      " [ 10.           1.65235103]\n",
      " [  5.           7.42836802]\n",
      " [ -5.          -5.23157634]\n",
      " [-10.          -4.56004533]]\n",
      "The intermediate points are stored in the variable \"interpolated_points\"\n"
     ]
    },
    {
     "name": "stderr",
     "output_type": "stream",
     "text": [
      "<ipython-input-3-eda05cffcd9b>:29: MatplotlibDeprecationWarning: Adding an axes using the same arguments as a previous axes currently reuses the earlier instance.  In a future version, a new instance will always be created and returned.  Meanwhile, this warning can be suppressed, and the future behavior ensured, by passing a unique label to each axes instance.\n",
      "  ax = fig.add_subplot(111, autoscale_on=False,\n"
     ]
    },
    {
     "name": "stdout",
     "output_type": "stream",
     "text": [
      "9\n",
      "The interpolation points are stored in the variable \"EF_target_pos\": \n",
      "[[ 7.82842712  2.82842712]\n",
      " [ 6.         -2.74974982]\n",
      " [ 3.         -1.92323798]\n",
      " [-3.         -3.27715185]\n",
      " [-6.          1.00691863]]\n",
      "The intermediate points are stored in the variable \"interpolated_points\"\n"
     ]
    },
    {
     "name": "stderr",
     "output_type": "stream",
     "text": [
      "<ipython-input-3-eda05cffcd9b>:29: MatplotlibDeprecationWarning: Adding an axes using the same arguments as a previous axes currently reuses the earlier instance.  In a future version, a new instance will always be created and returned.  Meanwhile, this warning can be suppressed, and the future behavior ensured, by passing a unique label to each axes instance.\n",
      "  ax = fig.add_subplot(111, autoscale_on=False,\n"
     ]
    },
    {
     "name": "stdout",
     "output_type": "stream",
     "text": [
      "18\n",
      "The interpolation points are stored in the variable \"EF_target_pos\": \n",
      "[[ 16.53553391   3.53553391]\n",
      " [ 12.           2.83038952]\n",
      " [  6.          -1.31046981]\n",
      " [ -6.           0.69861231]\n",
      " [-12.           4.5604595 ]]\n",
      "The intermediate points are stored in the variable \"interpolated_points\"\n"
     ]
    },
    {
     "name": "stderr",
     "output_type": "stream",
     "text": [
      "<ipython-input-3-eda05cffcd9b>:29: MatplotlibDeprecationWarning: Adding an axes using the same arguments as a previous axes currently reuses the earlier instance.  In a future version, a new instance will always be created and returned.  Meanwhile, this warning can be suppressed, and the future behavior ensured, by passing a unique label to each axes instance.\n",
      "  ax = fig.add_subplot(111, autoscale_on=False,\n"
     ]
    },
    {
     "name": "stdout",
     "output_type": "stream",
     "text": [
      "16\n",
      "The interpolation points are stored in the variable \"EF_target_pos\": \n",
      "[[ 13.07106781   7.07106781]\n",
      " [ 10.66666667   2.04309905]\n",
      " [  5.33333333   6.5287964 ]\n",
      " [ -5.33333333   2.30833717]\n",
      " [-10.66666667   2.18570618]]\n",
      "The intermediate points are stored in the variable \"interpolated_points\"\n"
     ]
    },
    {
     "name": "stderr",
     "output_type": "stream",
     "text": [
      "<ipython-input-3-eda05cffcd9b>:29: MatplotlibDeprecationWarning: Adding an axes using the same arguments as a previous axes currently reuses the earlier instance.  In a future version, a new instance will always be created and returned.  Meanwhile, this warning can be suppressed, and the future behavior ensured, by passing a unique label to each axes instance.\n",
      "  ax = fig.add_subplot(111, autoscale_on=False,\n"
     ]
    },
    {
     "name": "stdout",
     "output_type": "stream",
     "text": [
      "22\n",
      "The interpolation points are stored in the variable \"EF_target_pos\": \n",
      "[[ 18.77817459   7.77817459]\n",
      " [ 14.66666667   0.9349096 ]\n",
      " [  7.33333333 -10.82561647]\n",
      " [ -7.33333333 -13.1251309 ]\n",
      " [-14.66666667   3.13459972]]\n",
      "The intermediate points are stored in the variable \"interpolated_points\"\n"
     ]
    },
    {
     "name": "stderr",
     "output_type": "stream",
     "text": [
      "<ipython-input-3-eda05cffcd9b>:29: MatplotlibDeprecationWarning: Adding an axes using the same arguments as a previous axes currently reuses the earlier instance.  In a future version, a new instance will always be created and returned.  Meanwhile, this warning can be suppressed, and the future behavior ensured, by passing a unique label to each axes instance.\n",
      "  ax = fig.add_subplot(111, autoscale_on=False,\n"
     ]
    },
    {
     "name": "stdout",
     "output_type": "stream",
     "text": [
      "28\n",
      "The interpolation points are stored in the variable \"EF_target_pos\": \n",
      "[[ 23.89949494   9.89949494]\n",
      " [ 18.66666667  -4.58509842]\n",
      " [  9.33333333   6.20607202]\n",
      " [ -9.33333333   7.01856104]\n",
      " [-18.66666667  -2.7027852 ]]\n",
      "The intermediate points are stored in the variable \"interpolated_points\"\n"
     ]
    },
    {
     "name": "stderr",
     "output_type": "stream",
     "text": [
      "<ipython-input-3-eda05cffcd9b>:29: MatplotlibDeprecationWarning: Adding an axes using the same arguments as a previous axes currently reuses the earlier instance.  In a future version, a new instance will always be created and returned.  Meanwhile, this warning can be suppressed, and the future behavior ensured, by passing a unique label to each axes instance.\n",
      "  ax = fig.add_subplot(111, autoscale_on=False,\n"
     ]
    },
    {
     "name": "stdout",
     "output_type": "stream",
     "text": [
      "18\n",
      "The interpolation points are stored in the variable \"EF_target_pos\": \n",
      "[[ 15.94974747   4.94974747]\n",
      " [ 12.           0.17450506]\n",
      " [  6.         -11.43670331]\n",
      " [ -6.           9.27175858]\n",
      " [-12.          -5.15583276]]\n",
      "The intermediate points are stored in the variable \"interpolated_points\"\n"
     ]
    },
    {
     "name": "stderr",
     "output_type": "stream",
     "text": [
      "<ipython-input-3-eda05cffcd9b>:29: MatplotlibDeprecationWarning: Adding an axes using the same arguments as a previous axes currently reuses the earlier instance.  In a future version, a new instance will always be created and returned.  Meanwhile, this warning can be suppressed, and the future behavior ensured, by passing a unique label to each axes instance.\n",
      "  ax = fig.add_subplot(111, autoscale_on=False,\n"
     ]
    },
    {
     "name": "stdout",
     "output_type": "stream",
     "text": [
      "15\n",
      "The interpolation points are stored in the variable \"EF_target_pos\": \n",
      "[[ 12.36396103   6.36396103]\n",
      " [ 10.           4.01353111]\n",
      " [  5.          -4.33507826]\n",
      " [ -5.          -5.80667348]\n",
      " [-10.           2.4645418 ]]\n",
      "The intermediate points are stored in the variable \"interpolated_points\"\n"
     ]
    },
    {
     "name": "stderr",
     "output_type": "stream",
     "text": [
      "<ipython-input-3-eda05cffcd9b>:29: MatplotlibDeprecationWarning: Adding an axes using the same arguments as a previous axes currently reuses the earlier instance.  In a future version, a new instance will always be created and returned.  Meanwhile, this warning can be suppressed, and the future behavior ensured, by passing a unique label to each axes instance.\n",
      "  ax = fig.add_subplot(111, autoscale_on=False,\n"
     ]
    },
    {
     "name": "stdout",
     "output_type": "stream",
     "text": [
      "21\n",
      "The interpolation points are stored in the variable \"EF_target_pos\": \n",
      "[[ 18.65685425   5.65685425]\n",
      " [ 14.           3.35945384]\n",
      " [  7.          -9.53691248]\n",
      " [ -7.           0.58998123]\n",
      " [-14.           2.35727652]]\n",
      "The intermediate points are stored in the variable \"interpolated_points\"\n"
     ]
    },
    {
     "name": "stderr",
     "output_type": "stream",
     "text": [
      "<ipython-input-3-eda05cffcd9b>:29: MatplotlibDeprecationWarning: Adding an axes using the same arguments as a previous axes currently reuses the earlier instance.  In a future version, a new instance will always be created and returned.  Meanwhile, this warning can be suppressed, and the future behavior ensured, by passing a unique label to each axes instance.\n",
      "  ax = fig.add_subplot(111, autoscale_on=False,\n"
     ]
    },
    {
     "name": "stdout",
     "output_type": "stream",
     "text": [
      "22\n",
      "The interpolation points are stored in the variable \"EF_target_pos\": \n",
      "[[ 19.36396103   6.36396103]\n",
      " [ 14.66666667   7.16134662]\n",
      " [  7.33333333   8.27293107]\n",
      " [ -7.33333333  -6.40964262]\n",
      " [-14.66666667   1.75164121]]\n",
      "The intermediate points are stored in the variable \"interpolated_points\"\n"
     ]
    },
    {
     "name": "stderr",
     "output_type": "stream",
     "text": [
      "<ipython-input-3-eda05cffcd9b>:29: MatplotlibDeprecationWarning: Adding an axes using the same arguments as a previous axes currently reuses the earlier instance.  In a future version, a new instance will always be created and returned.  Meanwhile, this warning can be suppressed, and the future behavior ensured, by passing a unique label to each axes instance.\n",
      "  ax = fig.add_subplot(111, autoscale_on=False,\n"
     ]
    },
    {
     "name": "stdout",
     "output_type": "stream",
     "text": [
      "18\n",
      "The interpolation points are stored in the variable \"EF_target_pos\": \n",
      "[[ 15.94974747   4.94974747]\n",
      " [ 12.           3.62128226]\n",
      " [  6.          -1.40093256]\n",
      " [ -6.          -0.21166363]\n",
      " [-12.           3.88441027]]\n",
      "The intermediate points are stored in the variable \"interpolated_points\"\n"
     ]
    },
    {
     "name": "stderr",
     "output_type": "stream",
     "text": [
      "<ipython-input-3-eda05cffcd9b>:29: MatplotlibDeprecationWarning: Adding an axes using the same arguments as a previous axes currently reuses the earlier instance.  In a future version, a new instance will always be created and returned.  Meanwhile, this warning can be suppressed, and the future behavior ensured, by passing a unique label to each axes instance.\n",
      "  ax = fig.add_subplot(111, autoscale_on=False,\n"
     ]
    },
    {
     "name": "stdout",
     "output_type": "stream",
     "text": [
      "21\n",
      "The interpolation points are stored in the variable \"EF_target_pos\": \n",
      "[[ 17.77817459   7.77817459]\n",
      " [ 14.          -1.13583432]\n",
      " [  7.           3.93031304]\n",
      " [ -7.         -11.27444694]\n",
      " [-14.          -6.43517437]]\n",
      "The intermediate points are stored in the variable \"interpolated_points\"\n"
     ]
    },
    {
     "name": "stderr",
     "output_type": "stream",
     "text": [
      "<ipython-input-3-eda05cffcd9b>:29: MatplotlibDeprecationWarning: Adding an axes using the same arguments as a previous axes currently reuses the earlier instance.  In a future version, a new instance will always be created and returned.  Meanwhile, this warning can be suppressed, and the future behavior ensured, by passing a unique label to each axes instance.\n",
      "  ax = fig.add_subplot(111, autoscale_on=False,\n"
     ]
    },
    {
     "name": "stdout",
     "output_type": "stream",
     "text": [
      "18\n",
      "The interpolation points are stored in the variable \"EF_target_pos\": \n",
      "[[ 15.65685425   5.65685425]\n",
      " [ 12.           5.72463417]\n",
      " [  6.           4.02703054]\n",
      " [ -6.          -5.34794797]\n",
      " [-12.          -4.89562527]]\n",
      "The intermediate points are stored in the variable \"interpolated_points\"\n"
     ]
    },
    {
     "name": "stderr",
     "output_type": "stream",
     "text": [
      "<ipython-input-3-eda05cffcd9b>:29: MatplotlibDeprecationWarning: Adding an axes using the same arguments as a previous axes currently reuses the earlier instance.  In a future version, a new instance will always be created and returned.  Meanwhile, this warning can be suppressed, and the future behavior ensured, by passing a unique label to each axes instance.\n",
      "  ax = fig.add_subplot(111, autoscale_on=False,\n"
     ]
    },
    {
     "name": "stdout",
     "output_type": "stream",
     "text": [
      "21\n",
      "The interpolation points are stored in the variable \"EF_target_pos\": \n",
      "[[ 17.19238816   9.19238816]\n",
      " [ 14.          -2.32382244]\n",
      " [  7.           1.50970171]\n",
      " [ -7.         -10.85813733]\n",
      " [-14.           3.04388532]]\n",
      "The intermediate points are stored in the variable \"interpolated_points\"\n"
     ]
    },
    {
     "name": "stderr",
     "output_type": "stream",
     "text": [
      "<ipython-input-3-eda05cffcd9b>:29: MatplotlibDeprecationWarning: Adding an axes using the same arguments as a previous axes currently reuses the earlier instance.  In a future version, a new instance will always be created and returned.  Meanwhile, this warning can be suppressed, and the future behavior ensured, by passing a unique label to each axes instance.\n",
      "  ax = fig.add_subplot(111, autoscale_on=False,\n"
     ]
    },
    {
     "name": "stdout",
     "output_type": "stream",
     "text": [
      "21\n",
      "The interpolation points are stored in the variable \"EF_target_pos\": \n",
      "[[ 18.36396103   6.36396103]\n",
      " [ 14.          -1.67368192]\n",
      " [  7.           6.74928312]\n",
      " [ -7.         -10.9845964 ]\n",
      " [-14.          -6.10173043]]\n",
      "The intermediate points are stored in the variable \"interpolated_points\"\n"
     ]
    },
    {
     "name": "stderr",
     "output_type": "stream",
     "text": [
      "<ipython-input-3-eda05cffcd9b>:29: MatplotlibDeprecationWarning: Adding an axes using the same arguments as a previous axes currently reuses the earlier instance.  In a future version, a new instance will always be created and returned.  Meanwhile, this warning can be suppressed, and the future behavior ensured, by passing a unique label to each axes instance.\n",
      "  ax = fig.add_subplot(111, autoscale_on=False,\n"
     ]
    },
    {
     "name": "stdout",
     "output_type": "stream",
     "text": [
      "9\n",
      "The interpolation points are stored in the variable \"EF_target_pos\": \n",
      "[[ 7.53553391  3.53553391]\n",
      " [ 6.          1.93204731]\n",
      " [ 3.          4.20162939]\n",
      " [-3.         -5.78031741]\n",
      " [-6.          2.72224706]]\n",
      "The intermediate points are stored in the variable \"interpolated_points\"\n"
     ]
    },
    {
     "name": "stderr",
     "output_type": "stream",
     "text": [
      "<ipython-input-3-eda05cffcd9b>:29: MatplotlibDeprecationWarning: Adding an axes using the same arguments as a previous axes currently reuses the earlier instance.  In a future version, a new instance will always be created and returned.  Meanwhile, this warning can be suppressed, and the future behavior ensured, by passing a unique label to each axes instance.\n",
      "  ax = fig.add_subplot(111, autoscale_on=False,\n"
     ]
    },
    {
     "name": "stdout",
     "output_type": "stream",
     "text": [
      "21\n",
      "The interpolation points are stored in the variable \"EF_target_pos\": \n",
      "[[ 18.07106781   7.07106781]\n",
      " [ 14.           6.14657991]\n",
      " [  7.          -2.60248439]\n",
      " [ -7.          -9.39901122]\n",
      " [-14.          -5.60437835]]\n",
      "The intermediate points are stored in the variable \"interpolated_points\"\n"
     ]
    },
    {
     "name": "stderr",
     "output_type": "stream",
     "text": [
      "<ipython-input-3-eda05cffcd9b>:29: MatplotlibDeprecationWarning: Adding an axes using the same arguments as a previous axes currently reuses the earlier instance.  In a future version, a new instance will always be created and returned.  Meanwhile, this warning can be suppressed, and the future behavior ensured, by passing a unique label to each axes instance.\n",
      "  ax = fig.add_subplot(111, autoscale_on=False,\n"
     ]
    },
    {
     "name": "stdout",
     "output_type": "stream",
     "text": [
      "16\n",
      "The interpolation points are stored in the variable \"EF_target_pos\": \n",
      "[[ 13.65685425   5.65685425]\n",
      " [ 10.66666667   3.62947489]\n",
      " [  5.33333333  -0.40209734]\n",
      " [ -5.33333333  -0.11607467]\n",
      " [-10.66666667   3.85779365]]\n",
      "The intermediate points are stored in the variable \"interpolated_points\"\n"
     ]
    },
    {
     "name": "stderr",
     "output_type": "stream",
     "text": [
      "<ipython-input-3-eda05cffcd9b>:29: MatplotlibDeprecationWarning: Adding an axes using the same arguments as a previous axes currently reuses the earlier instance.  In a future version, a new instance will always be created and returned.  Meanwhile, this warning can be suppressed, and the future behavior ensured, by passing a unique label to each axes instance.\n",
      "  ax = fig.add_subplot(111, autoscale_on=False,\n"
     ]
    },
    {
     "name": "stdout",
     "output_type": "stream",
     "text": [
      "13\n",
      "The interpolation points are stored in the variable \"EF_target_pos\": \n",
      "[[11.53553391  3.53553391]\n",
      " [ 8.66666667 -2.52212495]\n",
      " [ 4.33333333 -4.71145192]\n",
      " [-4.33333333 -4.95301988]\n",
      " [-8.66666667 -4.15451739]]\n",
      "The intermediate points are stored in the variable \"interpolated_points\"\n"
     ]
    },
    {
     "name": "stderr",
     "output_type": "stream",
     "text": [
      "<ipython-input-3-eda05cffcd9b>:29: MatplotlibDeprecationWarning: Adding an axes using the same arguments as a previous axes currently reuses the earlier instance.  In a future version, a new instance will always be created and returned.  Meanwhile, this warning can be suppressed, and the future behavior ensured, by passing a unique label to each axes instance.\n",
      "  ax = fig.add_subplot(111, autoscale_on=False,\n"
     ]
    },
    {
     "name": "stdout",
     "output_type": "stream",
     "text": [
      "22\n",
      "The interpolation points are stored in the variable \"EF_target_pos\": \n",
      "[[ 19.07106781   7.07106781]\n",
      " [ 14.66666667  -1.41019652]\n",
      " [  7.33333333   0.89568151]\n",
      " [ -7.33333333  14.5238618 ]\n",
      " [-14.66666667  -4.7994038 ]]\n",
      "The intermediate points are stored in the variable \"interpolated_points\"\n"
     ]
    },
    {
     "name": "stderr",
     "output_type": "stream",
     "text": [
      "<ipython-input-3-eda05cffcd9b>:29: MatplotlibDeprecationWarning: Adding an axes using the same arguments as a previous axes currently reuses the earlier instance.  In a future version, a new instance will always be created and returned.  Meanwhile, this warning can be suppressed, and the future behavior ensured, by passing a unique label to each axes instance.\n",
      "  ax = fig.add_subplot(111, autoscale_on=False,\n"
     ]
    },
    {
     "name": "stdout",
     "output_type": "stream",
     "text": [
      "26\n",
      "The interpolation points are stored in the variable \"EF_target_pos\": \n",
      "[[ 22.48528137   8.48528137]\n",
      " [ 17.33333333  -2.70571984]\n",
      " [  8.66666667   9.3552227 ]\n",
      " [ -8.66666667  -5.39664213]\n",
      " [-17.33333333  -7.93206314]]\n",
      "The intermediate points are stored in the variable \"interpolated_points\"\n"
     ]
    },
    {
     "name": "stderr",
     "output_type": "stream",
     "text": [
      "<ipython-input-3-eda05cffcd9b>:29: MatplotlibDeprecationWarning: Adding an axes using the same arguments as a previous axes currently reuses the earlier instance.  In a future version, a new instance will always be created and returned.  Meanwhile, this warning can be suppressed, and the future behavior ensured, by passing a unique label to each axes instance.\n",
      "  ax = fig.add_subplot(111, autoscale_on=False,\n"
     ]
    },
    {
     "name": "stdout",
     "output_type": "stream",
     "text": [
      "22\n",
      "The interpolation points are stored in the variable \"EF_target_pos\": \n",
      "[[ 19.36396103   6.36396103]\n",
      " [ 14.66666667   2.81022875]\n",
      " [  7.33333333  10.12888621]\n",
      " [ -7.33333333   2.70550071]\n",
      " [-14.66666667  -6.22529582]]\n",
      "The intermediate points are stored in the variable \"interpolated_points\"\n"
     ]
    },
    {
     "name": "stderr",
     "output_type": "stream",
     "text": [
      "<ipython-input-3-eda05cffcd9b>:29: MatplotlibDeprecationWarning: Adding an axes using the same arguments as a previous axes currently reuses the earlier instance.  In a future version, a new instance will always be created and returned.  Meanwhile, this warning can be suppressed, and the future behavior ensured, by passing a unique label to each axes instance.\n",
      "  ax = fig.add_subplot(111, autoscale_on=False,\n"
     ]
    },
    {
     "name": "stdout",
     "output_type": "stream",
     "text": [
      "12\n",
      "The interpolation points are stored in the variable \"EF_target_pos\": \n",
      "[[10.53553391  3.53553391]\n",
      " [ 8.          0.71455949]\n",
      " [ 4.         -1.31953014]\n",
      " [-4.          0.47329498]\n",
      " [-8.         -4.10008391]]\n",
      "The intermediate points are stored in the variable \"interpolated_points\"\n"
     ]
    },
    {
     "name": "stderr",
     "output_type": "stream",
     "text": [
      "<ipython-input-3-eda05cffcd9b>:29: MatplotlibDeprecationWarning: Adding an axes using the same arguments as a previous axes currently reuses the earlier instance.  In a future version, a new instance will always be created and returned.  Meanwhile, this warning can be suppressed, and the future behavior ensured, by passing a unique label to each axes instance.\n",
      "  ax = fig.add_subplot(111, autoscale_on=False,\n"
     ]
    },
    {
     "name": "stdout",
     "output_type": "stream",
     "text": [
      "19\n",
      "The interpolation points are stored in the variable \"EF_target_pos\": \n",
      "[[ 15.77817459   7.77817459]\n",
      " [ 12.66666667   6.20053402]\n",
      " [  6.33333333   0.96910453]\n",
      " [ -6.33333333   7.48228429]\n",
      " [-12.66666667  -4.47148812]]\n",
      "The intermediate points are stored in the variable \"interpolated_points\"\n"
     ]
    },
    {
     "name": "stderr",
     "output_type": "stream",
     "text": [
      "<ipython-input-3-eda05cffcd9b>:29: MatplotlibDeprecationWarning: Adding an axes using the same arguments as a previous axes currently reuses the earlier instance.  In a future version, a new instance will always be created and returned.  Meanwhile, this warning can be suppressed, and the future behavior ensured, by passing a unique label to each axes instance.\n",
      "  ax = fig.add_subplot(111, autoscale_on=False,\n"
     ]
    },
    {
     "name": "stdout",
     "output_type": "stream",
     "text": [
      "20\n",
      "The interpolation points are stored in the variable \"EF_target_pos\": \n",
      "[[ 16.19238816   9.19238816]\n",
      " [ 13.33333333   2.06256396]\n",
      " [  6.66666667   0.97473927]\n",
      " [ -6.66666667   8.22703578]\n",
      " [-13.33333333   0.5710294 ]]\n",
      "The intermediate points are stored in the variable \"interpolated_points\"\n"
     ]
    },
    {
     "name": "stderr",
     "output_type": "stream",
     "text": [
      "<ipython-input-3-eda05cffcd9b>:29: MatplotlibDeprecationWarning: Adding an axes using the same arguments as a previous axes currently reuses the earlier instance.  In a future version, a new instance will always be created and returned.  Meanwhile, this warning can be suppressed, and the future behavior ensured, by passing a unique label to each axes instance.\n",
      "  ax = fig.add_subplot(111, autoscale_on=False,\n"
     ]
    },
    {
     "name": "stdout",
     "output_type": "stream",
     "text": [
      "13\n",
      "The interpolation points are stored in the variable \"EF_target_pos\": \n",
      "[[10.65685425  5.65685425]\n",
      " [ 8.66666667  4.13719926]\n",
      " [ 4.33333333  6.01886685]\n",
      " [-4.33333333 -0.14096904]\n",
      " [-8.66666667 -3.6257566 ]]\n",
      "The intermediate points are stored in the variable \"interpolated_points\"\n"
     ]
    },
    {
     "name": "stderr",
     "output_type": "stream",
     "text": [
      "<ipython-input-3-eda05cffcd9b>:29: MatplotlibDeprecationWarning: Adding an axes using the same arguments as a previous axes currently reuses the earlier instance.  In a future version, a new instance will always be created and returned.  Meanwhile, this warning can be suppressed, and the future behavior ensured, by passing a unique label to each axes instance.\n",
      "  ax = fig.add_subplot(111, autoscale_on=False,\n"
     ]
    },
    {
     "name": "stdout",
     "output_type": "stream",
     "text": [
      "12\n",
      "The interpolation points are stored in the variable \"EF_target_pos\": \n",
      "[[10.24264069  4.24264069]\n",
      " [ 8.         -3.69325063]\n",
      " [ 4.         -6.54748233]\n",
      " [-4.         -6.34971526]\n",
      " [-8.         -0.90386907]]\n",
      "The intermediate points are stored in the variable \"interpolated_points\"\n"
     ]
    },
    {
     "name": "stderr",
     "output_type": "stream",
     "text": [
      "<ipython-input-3-eda05cffcd9b>:29: MatplotlibDeprecationWarning: Adding an axes using the same arguments as a previous axes currently reuses the earlier instance.  In a future version, a new instance will always be created and returned.  Meanwhile, this warning can be suppressed, and the future behavior ensured, by passing a unique label to each axes instance.\n",
      "  ax = fig.add_subplot(111, autoscale_on=False,\n"
     ]
    },
    {
     "name": "stdout",
     "output_type": "stream",
     "text": [
      "26\n",
      "The interpolation points are stored in the variable \"EF_target_pos\": \n",
      "[[ 22.19238816   9.19238816]\n",
      " [ 17.33333333  -6.46140376]\n",
      " [  8.66666667  15.32268155]\n",
      " [ -8.66666667 -11.27471549]\n",
      " [-17.33333333   7.78540099]]\n",
      "The intermediate points are stored in the variable \"interpolated_points\"\n"
     ]
    },
    {
     "name": "stderr",
     "output_type": "stream",
     "text": [
      "<ipython-input-3-eda05cffcd9b>:29: MatplotlibDeprecationWarning: Adding an axes using the same arguments as a previous axes currently reuses the earlier instance.  In a future version, a new instance will always be created and returned.  Meanwhile, this warning can be suppressed, and the future behavior ensured, by passing a unique label to each axes instance.\n",
      "  ax = fig.add_subplot(111, autoscale_on=False,\n"
     ]
    },
    {
     "name": "stdout",
     "output_type": "stream",
     "text": [
      "18\n",
      "The interpolation points are stored in the variable \"EF_target_pos\": \n",
      "[[ 15.36396103   6.36396103]\n",
      " [ 12.          -3.68722464]\n",
      " [  6.          -0.43537828]\n",
      " [ -6.           3.31074634]\n",
      " [-12.          -6.01301279]]\n",
      "The intermediate points are stored in the variable \"interpolated_points\"\n"
     ]
    },
    {
     "name": "stderr",
     "output_type": "stream",
     "text": [
      "<ipython-input-3-eda05cffcd9b>:29: MatplotlibDeprecationWarning: Adding an axes using the same arguments as a previous axes currently reuses the earlier instance.  In a future version, a new instance will always be created and returned.  Meanwhile, this warning can be suppressed, and the future behavior ensured, by passing a unique label to each axes instance.\n",
      "  ax = fig.add_subplot(111, autoscale_on=False,\n"
     ]
    },
    {
     "name": "stdout",
     "output_type": "stream",
     "text": [
      "23\n",
      "The interpolation points are stored in the variable \"EF_target_pos\": \n",
      "[[ 18.89949494   9.89949494]\n",
      " [ 15.33333333  -3.17776033]\n",
      " [  7.66666667  14.89415535]\n",
      " [ -7.66666667  14.49001101]\n",
      " [-15.33333333   1.13433145]]\n",
      "The intermediate points are stored in the variable \"interpolated_points\"\n"
     ]
    },
    {
     "name": "stderr",
     "output_type": "stream",
     "text": [
      "<ipython-input-3-eda05cffcd9b>:29: MatplotlibDeprecationWarning: Adding an axes using the same arguments as a previous axes currently reuses the earlier instance.  In a future version, a new instance will always be created and returned.  Meanwhile, this warning can be suppressed, and the future behavior ensured, by passing a unique label to each axes instance.\n",
      "  ax = fig.add_subplot(111, autoscale_on=False,\n"
     ]
    },
    {
     "name": "stdout",
     "output_type": "stream",
     "text": [
      "17\n",
      "The interpolation points are stored in the variable \"EF_target_pos\": \n",
      "[[ 15.53553391   3.53553391]\n",
      " [ 11.33333333  -4.0604785 ]\n",
      " [  5.66666667 -10.0249473 ]\n",
      " [ -5.66666667   4.42177261]\n",
      " [-11.33333333   2.47215966]]\n",
      "The intermediate points are stored in the variable \"interpolated_points\"\n"
     ]
    },
    {
     "name": "stderr",
     "output_type": "stream",
     "text": [
      "<ipython-input-3-eda05cffcd9b>:29: MatplotlibDeprecationWarning: Adding an axes using the same arguments as a previous axes currently reuses the earlier instance.  In a future version, a new instance will always be created and returned.  Meanwhile, this warning can be suppressed, and the future behavior ensured, by passing a unique label to each axes instance.\n",
      "  ax = fig.add_subplot(111, autoscale_on=False,\n"
     ]
    },
    {
     "name": "stdout",
     "output_type": "stream",
     "text": [
      "12\n",
      "The interpolation points are stored in the variable \"EF_target_pos\": \n",
      "[[10.24264069  4.24264069]\n",
      " [ 8.          1.36000889]\n",
      " [ 4.          3.01468817]\n",
      " [-4.         -0.14458633]\n",
      " [-8.         -3.73118839]]\n",
      "The intermediate points are stored in the variable \"interpolated_points\"\n"
     ]
    },
    {
     "name": "stderr",
     "output_type": "stream",
     "text": [
      "<ipython-input-3-eda05cffcd9b>:29: MatplotlibDeprecationWarning: Adding an axes using the same arguments as a previous axes currently reuses the earlier instance.  In a future version, a new instance will always be created and returned.  Meanwhile, this warning can be suppressed, and the future behavior ensured, by passing a unique label to each axes instance.\n",
      "  ax = fig.add_subplot(111, autoscale_on=False,\n"
     ]
    },
    {
     "name": "stdout",
     "output_type": "stream",
     "text": [
      "17\n",
      "The interpolation points are stored in the variable \"EF_target_pos\": \n",
      "[[ 14.65685425   5.65685425]\n",
      " [ 11.33333333   0.89485392]\n",
      " [  5.66666667   1.36439553]\n",
      " [ -5.66666667  -6.35601228]\n",
      " [-11.33333333   1.44868933]]\n",
      "The intermediate points are stored in the variable \"interpolated_points\"\n"
     ]
    },
    {
     "name": "stderr",
     "output_type": "stream",
     "text": [
      "<ipython-input-3-eda05cffcd9b>:29: MatplotlibDeprecationWarning: Adding an axes using the same arguments as a previous axes currently reuses the earlier instance.  In a future version, a new instance will always be created and returned.  Meanwhile, this warning can be suppressed, and the future behavior ensured, by passing a unique label to each axes instance.\n",
      "  ax = fig.add_subplot(111, autoscale_on=False,\n"
     ]
    },
    {
     "name": "stdout",
     "output_type": "stream",
     "text": [
      "21\n",
      "The interpolation points are stored in the variable \"EF_target_pos\": \n",
      "[[ 17.77817459   7.77817459]\n",
      " [ 14.          -5.20776986]\n",
      " [  7.          -4.11824899]\n",
      " [ -7.         -14.03187617]\n",
      " [-14.          -3.23595231]]\n",
      "The intermediate points are stored in the variable \"interpolated_points\"\n"
     ]
    },
    {
     "name": "stderr",
     "output_type": "stream",
     "text": [
      "<ipython-input-3-eda05cffcd9b>:29: MatplotlibDeprecationWarning: Adding an axes using the same arguments as a previous axes currently reuses the earlier instance.  In a future version, a new instance will always be created and returned.  Meanwhile, this warning can be suppressed, and the future behavior ensured, by passing a unique label to each axes instance.\n",
      "  ax = fig.add_subplot(111, autoscale_on=False,\n"
     ]
    },
    {
     "name": "stdout",
     "output_type": "stream",
     "text": [
      "20\n",
      "The interpolation points are stored in the variable \"EF_target_pos\": \n",
      "[[ 17.07106781   7.07106781]\n",
      " [ 13.33333333  -3.39171587]\n",
      " [  6.66666667   5.92069247]\n",
      " [ -6.66666667  -7.5108738 ]\n",
      " [-13.33333333   6.77243754]]\n",
      "The intermediate points are stored in the variable \"interpolated_points\"\n"
     ]
    },
    {
     "name": "stderr",
     "output_type": "stream",
     "text": [
      "<ipython-input-3-eda05cffcd9b>:29: MatplotlibDeprecationWarning: Adding an axes using the same arguments as a previous axes currently reuses the earlier instance.  In a future version, a new instance will always be created and returned.  Meanwhile, this warning can be suppressed, and the future behavior ensured, by passing a unique label to each axes instance.\n",
      "  ax = fig.add_subplot(111, autoscale_on=False,\n"
     ]
    },
    {
     "name": "stdout",
     "output_type": "stream",
     "text": [
      "12\n",
      "The interpolation points are stored in the variable \"EF_target_pos\": \n",
      "[[10.24264069  4.24264069]\n",
      " [ 8.         -1.4617156 ]\n",
      " [ 4.         -4.29651105]\n",
      " [-4.          5.33380827]\n",
      " [-8.         -3.86888927]]\n",
      "The intermediate points are stored in the variable \"interpolated_points\"\n"
     ]
    },
    {
     "name": "stderr",
     "output_type": "stream",
     "text": [
      "<ipython-input-3-eda05cffcd9b>:29: MatplotlibDeprecationWarning: Adding an axes using the same arguments as a previous axes currently reuses the earlier instance.  In a future version, a new instance will always be created and returned.  Meanwhile, this warning can be suppressed, and the future behavior ensured, by passing a unique label to each axes instance.\n",
      "  ax = fig.add_subplot(111, autoscale_on=False,\n"
     ]
    },
    {
     "name": "stdout",
     "output_type": "stream",
     "text": [
      "21\n",
      "The interpolation points are stored in the variable \"EF_target_pos\": \n",
      "[[ 18.65685425   5.65685425]\n",
      " [ 14.           2.5521548 ]\n",
      " [  7.           0.74399741]\n",
      " [ -7.           0.56400716]\n",
      " [-14.          -7.11957704]]\n",
      "The intermediate points are stored in the variable \"interpolated_points\"\n"
     ]
    },
    {
     "name": "stderr",
     "output_type": "stream",
     "text": [
      "<ipython-input-3-eda05cffcd9b>:29: MatplotlibDeprecationWarning: Adding an axes using the same arguments as a previous axes currently reuses the earlier instance.  In a future version, a new instance will always be created and returned.  Meanwhile, this warning can be suppressed, and the future behavior ensured, by passing a unique label to each axes instance.\n",
      "  ax = fig.add_subplot(111, autoscale_on=False,\n"
     ]
    },
    {
     "name": "stdout",
     "output_type": "stream",
     "text": [
      "22\n",
      "The interpolation points are stored in the variable \"EF_target_pos\": \n",
      "[[ 18.19238816   9.19238816]\n",
      " [ 14.66666667   1.99489822]\n",
      " [  7.33333333  -7.88525216]\n",
      " [ -7.33333333  -5.14776192]\n",
      " [-14.66666667   5.89359637]]\n",
      "The intermediate points are stored in the variable \"interpolated_points\"\n"
     ]
    },
    {
     "name": "stderr",
     "output_type": "stream",
     "text": [
      "<ipython-input-3-eda05cffcd9b>:29: MatplotlibDeprecationWarning: Adding an axes using the same arguments as a previous axes currently reuses the earlier instance.  In a future version, a new instance will always be created and returned.  Meanwhile, this warning can be suppressed, and the future behavior ensured, by passing a unique label to each axes instance.\n",
      "  ax = fig.add_subplot(111, autoscale_on=False,\n"
     ]
    }
   ],
   "source": [
    "for i in range(625,750):\n",
    "    create_simulation(i,50)"
   ]
  }
 ],
 "metadata": {
  "kernelspec": {
   "display_name": "Python 3",
   "language": "python",
   "name": "python3"
  },
  "language_info": {
   "codemirror_mode": {
    "name": "ipython",
    "version": 3
   },
   "file_extension": ".py",
   "mimetype": "text/x-python",
   "name": "python",
   "nbconvert_exporter": "python",
   "pygments_lexer": "ipython3",
   "version": "3.8.10"
  }
 },
 "nbformat": 4,
 "nbformat_minor": 2
}
