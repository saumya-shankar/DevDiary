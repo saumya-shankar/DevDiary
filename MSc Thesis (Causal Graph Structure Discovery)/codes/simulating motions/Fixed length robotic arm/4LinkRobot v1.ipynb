{
 "cells": [
  {
   "cell_type": "code",
   "execution_count": 1,
   "metadata": {},
   "outputs": [],
   "source": [
    "import numpy as np\n",
    "import matplotlib.pyplot as plt\n",
    "from celluloid import Camera\n",
    "from IPython.display import HTML\n",
    "import pandas as pd\n",
    "import random"
   ]
  },
  {
   "cell_type": "code",
   "execution_count": 2,
   "metadata": {},
   "outputs": [],
   "source": [
    "\n",
    "class FourLinkArm:\n",
    "    \n",
    "    def __init__(self):\n",
    "        # Set parameters for the 3-link planar arm\n",
    "        self.theta1 = np.deg2rad(0)\n",
    "        self.theta2 = np.deg2rad(90)\n",
    "        self.theta3 = np.deg2rad(90)\n",
    "        self.theta4 = np.deg2rad(90)\n",
    "        self.l1 = np.random.randint(2,8)\n",
    "        self.l2 = np.random.randint(2,8)\n",
    "        self.l3 = np.random.randint(2,8)\n",
    "        self.l4 = np.random.randint(2,8)\n",
    "\n",
    "    def forwardKinematics(self, theta1, theta2, theta3,theta4):\n",
    "        # Define the homogeneous transformation matrices for the 4-link planar arm\n",
    "        self.theta1 = theta1\n",
    "        self.theta2 = theta2\n",
    "        self.theta3 = theta3\n",
    "        self.theta4 = theta4\n",
    "        self.t01 = np.matrix([[np.cos(self.theta1), -np.sin(self.theta1), 0], \n",
    "                              [np.sin(self.theta1), np.cos(self.theta1), 0],\n",
    "                              [0, 0, 1]])\n",
    "        self.t12 = np.matrix([[np.cos(self.theta2), -np.sin(self.theta2), self.l1],\n",
    "                              [np.sin(self.theta2), np.cos(self.theta2), 0],\n",
    "                              [0, 0, 1]])\n",
    "        self.t23 = np.matrix([[np.cos(self.theta3), -np.sin(self.theta3), self.l2],\n",
    "                              [np.sin(self.theta3), np.cos(self.theta3), 0],\n",
    "                              [0, 0, 1]])        \n",
    "        self.t34 = np.matrix([[np.cos(self.theta4), -np.sin(self.theta4), self.l3],\n",
    "                              [np.sin(self.theta4), np.cos(self.theta4), 0],\n",
    "                              [0, 0, 1]])\n",
    "        self.t4end = np.matrix([[np.cos(self.theta4), -np.sin(self.theta4), self.l4],\n",
    "                                [np.sin(self.theta4), np.cos(self.theta4), 0],\n",
    "                                [0, 0, 1]])\n",
    "\n",
    "        self.t0end = self.t01*self.t12*self.t23*self.t34*self.t4end\n",
    "        return self.t0end\n",
    "    \n",
    "    def findJointPos(self): \n",
    "        # Find the x,y position of each joint and end effector so it can be plotted\n",
    "        # Find the transformation matrices for joint 2 and joint 3 and joint 4\n",
    "        self.t02 = self.t01*self.t12\n",
    "        self.t03 = self.t01*self.t12*self.t23\n",
    "        self.t04 = self.t01*self.t12*self.t23*self.t34\n",
    "        # Find the x, y coordinates for joints 2 and 3 and 4. Put them in a list j2 = [x,y]\n",
    "        j2 = [ self.t02[0, 2], self.t02[1, 2] ]\n",
    "        j3 = [ self.t03[0, 2], self.t03[1, 2] ]\n",
    "        j4 = [ self.t04[0, 2], self.t04[1, 2] ]\n",
    "        endeff = [self.t0end[0,2],self.t0end[1,2]]\n",
    "        \n",
    "        self.jnt2pos, self.jnt3pos, self.jnt4pos, self.endEffPos = j2,j3,j4,endeff\n",
    "        return j2,j3,j4,endeff\n",
    "    \n",
    "    def geomJacobian(self, jnt2pos=None, jnt3pos=None, jnt4pos=None, endEffPos=None):\n",
    "        if jnt2pos is None:\n",
    "            jnt2pos=self.jnt2pos \n",
    "        if jnt3pos is None:\n",
    "            jnt3pos=self.jnt3pos\n",
    "        if jnt4pos is None:\n",
    "            jnt4pos=self.jnt4pos\n",
    "        if endEffPos is None:\n",
    "            endEffPos=self.endEffPos\n",
    "        ai = np.array([0,0,1])\n",
    "        col0 = np.array(endEffPos + [0])\n",
    "        col1 = np.array(endEffPos + [0]) - np.array(jnt2pos + [0])\n",
    "        col2 = np.array(endEffPos + [0]) - np.array(jnt3pos + [0])\n",
    "        col3 = np.array(endEffPos + [0]) - np.array(jnt4pos + [0])\n",
    "        J = np.array([np.cross(ai,col0), np.cross(ai,col1), np.cross(ai,col2), np.cross(ai,col3)]).T \n",
    "        return J"
   ]
  },
  {
   "cell_type": "code",
   "execution_count": 3,
   "metadata": {},
   "outputs": [],
   "source": [
    "def plotArm(jnt2pos, jnt3pos, jnt4pos, endEffectPos, target=None, step=None):\n",
    "    # set up figure\n",
    "    fig = plt.figure(figsize=(10,10))\n",
    "    ax = fig.add_subplot(111, autoscale_on=False, xlim=(-25, 25), ylim=(-25, 25))\n",
    "    ax.grid()\n",
    "    \n",
    "    if step is not None:\n",
    "        step = np.array(step)\n",
    "        plt.scatter(step[:, 0],step[:, 1], color='lightblue', marker='o')\n",
    "        plt.plot(step[:, 0],step[:, 1], color='lightblue')\n",
    "    if target is not None:\n",
    "        target = np.array(target)\n",
    "        plt.scatter(target[:, 0],target[:, 1], color='red', marker='o')\n",
    "        \n",
    "    line, = ax.plot([], [], 'o-', lw=4, mew=5)\n",
    "    time_text = ax.text(0.02, 0.95, '', transform=ax.transAxes)\n",
    "\n",
    "    line.set_data([], [])\n",
    "    time_text.set_text('')\n",
    "    x = np.array([0, jnt2pos[0], jnt3pos[0], jnt4pos[0], endEffectPos[0]])\n",
    "    y = np.array([0, jnt2pos[1], jnt3pos[1], jnt4pos[1], endEffectPos[1]])\n",
    "    line.set_data((x,y))\n",
    "    \n",
    "    plt.show()\n",
    "    \n",
    "# gif animation plotter\n",
    "def plotArm2(jnt2pos, jnt3pos, jnt4pos, endEffectPos,x1,y1,x2,y2, target=None, step=None, fig=None, camera=None):\n",
    "    # set up figure\n",
    "    ax = fig.add_subplot(111, autoscale_on=False,\n",
    "                         xlim=(-25, 25), ylim=(-25, 25))\n",
    "    ax.grid()\n",
    "    line, = ax.plot([], [], 'o-', lw=4, mew=5, color='lightblue')\n",
    "    time_text = ax.text(0.02, 0.95, '', transform=ax.transAxes)\n",
    "\n",
    "    line.set_data([], [])\n",
    "    time_text.set_text('')\n",
    "    x = np.array([0, jnt2pos[0], jnt3pos[0], jnt4pos[0], endEffectPos[0]])\n",
    "    y = np.array([0, jnt2pos[1], jnt3pos[1], jnt4pos[1], endEffectPos[1]])\n",
    "    line.set_data((x,y))\n",
    "\n",
    "    if(not np.isnan(x1[0])):\n",
    "            plt.plot([jnt2pos[0],jnt3pos[0],x1[0],jnt2pos[0]],\n",
    "                     [jnt2pos[1],jnt3pos[1],y1[0],jnt2pos[1]],'o-', lw=2, mew=5, color='green')\n",
    "    if(not np.isnan(x1[1])):\n",
    "            plt.plot([jnt3pos[0],jnt4pos[0],x1[1],jnt3pos[0]],\n",
    "                     [jnt3pos[1],jnt4pos[1],y1[1],jnt3pos[1]],'o-', lw=2, mew=5, color='yellow')\n",
    "    if(not np.isnan(x1[2])):\n",
    "            plt.plot([jnt4pos[0],endEffectPos[0],x1[2],jnt4pos[0]],\n",
    "                     [jnt4pos[1],endEffectPos[1],y1[2],jnt4pos[1]],'o-', lw=2, mew=5, color='black')\n",
    "    \n",
    "    plt.plot([endEffectPos[0],x2[0]],[endEffectPos[1],y2[0]],'o-', lw=2, mew=5, color='lightblue')\n",
    "    plt.plot([endEffectPos[0],x2[1]],[endEffectPos[1],y2[1]],'o-', lw=2, mew=5, color='lightblue')\n",
    "\n",
    "\n",
    "    if step is not None:\n",
    "        step = np.array(step)\n",
    "        plt.scatter(step[:, 0],step[:, 1], color='lightblue', marker='o')\n",
    "        plt.plot(step[:, 0],step[:, 1], color='lightblue')\n",
    "    if target is not None:\n",
    "        target = np.array(target)\n",
    "        plt.scatter(target[:, 0],target[:, 1], color='red', marker='o')\n",
    "\n",
    "    camera.snap()"
   ]
  },
  {
   "cell_type": "markdown",
   "metadata": {},
   "source": [
    "In this part, let's plan some simple polynomial trajectories in the work space. "
   ]
  },
  {
   "cell_type": "markdown",
   "metadata": {},
   "source": [
    "First, setup a simple environment with the arm manipulator and four intermediate interpolation points."
   ]
  },
  {
   "cell_type": "code",
   "execution_count": 4,
   "metadata": {},
   "outputs": [],
   "source": [
    "def create_simulation(animation_index,samples):\n",
    "    \n",
    "    # Setup our new manipulator\n",
    "    arm = FourLinkArm()\n",
    "    \n",
    "    # define the initial configuration of the manipulator (you are welcomed to try other values)\n",
    "    initTheta = [np.deg2rad(0),np.deg2rad(45),np.deg2rad(-45),np.deg2rad(45)]\n",
    "\n",
    "    # Initialise the arm with the initial values\n",
    "    _ = arm.forwardKinematics(*initTheta)\n",
    "\n",
    "    # Get the initial end-effector position \n",
    "    init_joint2pos, init_joint3pos, init_joint4pos, EF_init_pos = arm.findJointPos()\n",
    "\n",
    "    # Define the target postions of the end-effector\n",
    "    # EF_target_pos = np.array([[EF_init_pos[0], 6.,2.,-4.,-8.],\n",
    "    #                           [EF_init_pos[1], -6.,8.,-5.,6.]]).T\n",
    "    ##Choose points randomly, choose x equally spaced and y randomly\n",
    "    L=arm.l1+arm.l2+arm.l3+arm.l4\n",
    "    print(L)\n",
    "    x_points=np.array([2/3*L, 1/3*L, -1/3*L, -2/3*L])\n",
    "\n",
    "    y_points=[]\n",
    "    R=3*L/4\n",
    "    for i in range(4):\n",
    "        y_points.append(random.uniform(-1*np.sqrt(R**2-x_points[i]**2),\n",
    "                                          np.sqrt(R**2-x_points[i]**2)))\n",
    "    y_points=np.array(y_points)\n",
    "    \n",
    "    EF_target_pos = np.array([[EF_init_pos[0], x_points[0],x_points[1],x_points[2],x_points[3]],\n",
    "                              [EF_init_pos[1], y_points[0],y_points[1],y_points[2],y_points[3]]]).T\n",
    "\n",
    "    # Plot the pose of the arm\n",
    "    #plotArm(*arm.findJointPos(), target=EF_target_pos)\n",
    "    print(f\"The interpolation points are stored in the variable \\\"EF_target_pos\\\": \\n{EF_target_pos}\")\n",
    "    \n",
    "    pol = np.polyfit(EF_target_pos[:, 0], EF_target_pos[:, 1], EF_target_pos.shape[0]-1)  # polynomial coefficients\n",
    "    \n",
    "    # Plotting the planned trajectory\n",
    "    #epsilon = 100\n",
    "    epsilon = samples\n",
    "    \n",
    "    xx = np.linspace(EF_target_pos[0,0],EF_target_pos[-1,0], epsilon)\n",
    "    yy = np.polyval(pol,xx)   \n",
    "    curve = np.hstack([xx[:, None], yy[:, None]]) \n",
    "    \n",
    "    interpolated_points=curve\n",
    "\n",
    "#     plotArm(*arm.findJointPos(), target=EF_target_pos, step=interpolated_points)\n",
    "    print(f\"The intermediate points are stored in the variable \\\"interpolated_points\\\"\")\n",
    "    \n",
    "    # set the current E-F position for the IK loop\n",
    "    joint2pos, joint3pos, joint4pos, endEffectorPos = init_joint2pos, init_joint3pos, init_joint4pos, EF_init_pos\n",
    "    # set the initial robot configuration\n",
    "    newTheta = initTheta\n",
    "\n",
    "    # Set up the animation generator\n",
    "    fig = plt.figure(figsize=(10,10))\n",
    "    camera = Camera(fig)\n",
    "\n",
    "    temp=np.random.randint(0,2,3)\n",
    "    temp_angle=np.random.randint(15,60,3) \n",
    "    print(temp)\n",
    "    print(temp_angle)\n",
    "    \n",
    "    temp_eeff_angle=np.append(np.linspace(0,45,int(interpolated_points.shape[0]/8)),\n",
    "                          np.linspace(45,0,int(interpolated_points.shape[0]/8)))\n",
    "    \n",
    "    eeff_len=np.random.randint(2,5)\n",
    "    \n",
    "    keypoints_data=pd.DataFrame(columns=range((5+np.sum(temp)+2)*2),dtype=float)\n",
    "\n",
    "    for i in range(interpolated_points.shape[0]):\n",
    "        J = arm.geomJacobian()\n",
    "\n",
    "        newgoal = interpolated_points[i, :]\n",
    "        deltaStep = newgoal - endEffectorPos\n",
    "        subtarget = np.array([deltaStep[0], deltaStep[1], 0]) \n",
    "\n",
    "        radTheta = np.linalg.pinv(J) @ subtarget\n",
    "        newTheta = newTheta + radTheta\n",
    "\n",
    "        # ----------- Do forward kinematics to plot the arm ---------------\n",
    "        _ = arm.forwardKinematics(newTheta[0],newTheta[1],newTheta[2],newTheta[3])\n",
    "        joint2pos, joint3pos, joint4pos, endEffectorPos = arm.findJointPos()\n",
    "\n",
    "        x1=[]\n",
    "        y1=[]\n",
    "        x2=[]\n",
    "        y2=[]\n",
    "\n",
    "        if(temp[0]==1):\n",
    "            x1=x1+[arm.l1*np.cos(newTheta[0]) \\\n",
    "                   +2*np.cos(newTheta[0]+newTheta[1]+np.deg2rad(temp_angle[0]))]\n",
    "            y1=y1+[arm.l1*np.sin(newTheta[0]) \\\n",
    "                   +2*np.sin(newTheta[0]+newTheta[1]+np.deg2rad(temp_angle[0]))]\n",
    "        else:\n",
    "            x1=x1+[np.nan]\n",
    "            y1=y1+[np.nan]\n",
    "\n",
    "        if(temp[1]==1):\n",
    "            x1=x1+[arm.l1*np.cos(newTheta[0]) \\\n",
    "                   +arm.l2*np.cos(newTheta[0]+newTheta[1]) \\\n",
    "                   +2*np.cos(newTheta[0]+newTheta[1]+newTheta[2]+np.deg2rad(temp_angle[1]))]\n",
    "            y1=y1+[arm.l1*np.sin(newTheta[0]) \\\n",
    "                   +arm.l2*np.sin(newTheta[0]+newTheta[1]) \\\n",
    "                   +2*np.sin(newTheta[0]+newTheta[1]+newTheta[2]+np.deg2rad(temp_angle[1]))]\n",
    "        else:\n",
    "            x1=x1+[np.nan]\n",
    "            y1=y1+[np.nan]\n",
    "\n",
    "        if(temp[2]==1):\n",
    "            x1=x1+[arm.l1*np.cos(newTheta[0]) \\\n",
    "                   +arm.l2*np.cos(newTheta[0]+newTheta[1]) \\\n",
    "                   +arm.l3*np.cos(newTheta[0]+newTheta[1]+newTheta[2]) \\\n",
    "                   +2*np.cos(newTheta[0]+newTheta[1]+newTheta[2]+newTheta[3]+np.deg2rad(temp_angle[2]))]\n",
    "            y1=y1+[arm.l1*np.sin(newTheta[0]) \\\n",
    "                   +arm.l2*np.sin(newTheta[0]+newTheta[1]) \\\n",
    "                   +arm.l3*np.sin(newTheta[0]+newTheta[1]+newTheta[2]) \\\n",
    "                   +2*np.sin(newTheta[0]+newTheta[1]+newTheta[2]+newTheta[3]+np.deg2rad(temp_angle[2]))]\n",
    "        else:\n",
    "            x1=x1+[np.nan]\n",
    "            y1=y1+[np.nan]\n",
    "\n",
    "        x2=x2+[arm.l1*np.cos(newTheta[0]) \\\n",
    "               +arm.l2*np.cos(newTheta[0]+newTheta[1]) \\\n",
    "               +arm.l3*np.cos(newTheta[0]+newTheta[1]+newTheta[2]) \\\n",
    "               +arm.l4*np.cos(newTheta[0]+newTheta[1]+newTheta[2]+newTheta[3]) \\\n",
    "               +eeff_len*np.cos(newTheta[0]+newTheta[1]+newTheta[2]+newTheta[3] \\\n",
    "                                +np.deg2rad(temp_eeff_angle[i%len(temp_eeff_angle)]))]\n",
    "    \n",
    "        y2=y2+[arm.l1*np.sin(newTheta[0]) \\\n",
    "               +arm.l2*np.sin(newTheta[0]+newTheta[1]) \\\n",
    "               +arm.l3*np.sin(newTheta[0]+newTheta[1]+newTheta[2]) \\\n",
    "               +arm.l4*np.sin(newTheta[0]+newTheta[1]+newTheta[2]+newTheta[3]) \\\n",
    "               +eeff_len*np.sin(newTheta[0]+newTheta[1]+newTheta[2]+newTheta[3] \\\n",
    "                                +np.deg2rad(temp_eeff_angle[i%len(temp_eeff_angle)]))]\n",
    "        \n",
    "        x2=x2+[arm.l1*np.cos(newTheta[0]) \\\n",
    "               +arm.l2*np.cos(newTheta[0]+newTheta[1]) \\\n",
    "               +arm.l3*np.cos(newTheta[0]+newTheta[1]+newTheta[2]) \\\n",
    "               +arm.l4*np.cos(newTheta[0]+newTheta[1]+newTheta[2]+newTheta[3]) \\\n",
    "               +eeff_len*np.cos(newTheta[0]+newTheta[1]+newTheta[2]+newTheta[3] \\\n",
    "                                -np.deg2rad(temp_eeff_angle[i%len(temp_eeff_angle)]))]\n",
    "    \n",
    "        y2=y2+[arm.l1*np.sin(newTheta[0]) \\\n",
    "               +arm.l2*np.sin(newTheta[0]+newTheta[1]) \\\n",
    "               +arm.l3*np.sin(newTheta[0]+newTheta[1]+newTheta[2]) \\\n",
    "               +arm.l4*np.sin(newTheta[0]+newTheta[1]+newTheta[2]+newTheta[3]) \\\n",
    "               +eeff_len*np.sin(newTheta[0]+newTheta[1]+newTheta[2]+newTheta[3] \\\n",
    "                                -np.deg2rad(temp_eeff_angle[i%len(temp_eeff_angle)]))]\n",
    "\n",
    "        temp_keypoints=np.array([0,0,joint2pos[0],joint2pos[1],joint3pos[0],joint3pos[1],joint4pos[0],joint4pos[1],\n",
    "                                 endEffectorPos[0],endEffectorPos[1]])\n",
    "        for k in range(len(temp)):\n",
    "            if(temp[k]!=0):\n",
    "                temp_keypoints=np.append(temp_keypoints,np.array([x1[k],y1[k]]))\n",
    "        \n",
    "        temp_keypoints=np.append(temp_keypoints,np.array([x2[0],y2[0],x2[1],y2[1]]))\n",
    "        \n",
    "        keypoints_data = keypoints_data.append(pd.DataFrame(temp_keypoints[None,:],columns=keypoints_data.columns),\n",
    "                                               ignore_index = True)\n",
    "        \n",
    "        plotArm2(joint2pos, joint3pos, joint4pos, endEffectorPos,x1,\n",
    "                 y1,x2,y2, target=EF_target_pos, fig=fig, camera=camera)\n",
    "\n",
    "\n",
    "    plt.close()\n",
    "    animation = camera.animate()\n",
    "    animation.save('./animated_motionv9/animated_motion'+str(animation_index)+'.gif', writer = 'imagemagick')\n",
    "    \n",
    "    # create the adjacency matrix\n",
    "    adj_mat_size=sum(np.invert(np.isnan(x1)))\n",
    "    adj_mat=np.zeros((5+adj_mat_size+2,5+adj_mat_size+2))\n",
    "    adj_mat[0][1]=1\n",
    "    adj_mat[1][2]=1\n",
    "    adj_mat[2][3]=1\n",
    "    adj_mat[3][4]=1\n",
    "    c2=1\n",
    "    for i in range(len(x1)):\n",
    "        if(not np.isnan(x1[i])):\n",
    "            adj_mat[i+1][4+c2]=1\n",
    "            adj_mat[i+2][4+c2]=1\n",
    "            c2=c2+1\n",
    "    adj_mat[4][4+c2]=1\n",
    "    adj_mat[4][4+c2+1]=1\n",
    "    \n",
    "    pd.DataFrame(adj_mat).astype(int).to_csv('./animated_motionv9/adj_mat'+str(animation_index)+'.csv')\n",
    "    keypoints_data.to_csv('./animated_motionv9/ts_data'+str(animation_index)+'.csv')    \n",
    "    "
   ]
  },
  {
   "cell_type": "code",
   "execution_count": 5,
   "metadata": {},
   "outputs": [],
   "source": [
    "# create_simulation(6004,50)"
   ]
  },
  {
   "cell_type": "code",
   "execution_count": 6,
   "metadata": {},
   "outputs": [],
   "source": [
    "import os\n",
    "os.environ['MAGICK_THREAD_LIMIT'] = '2'"
   ]
  },
  {
   "cell_type": "code",
   "execution_count": 7,
   "metadata": {},
   "outputs": [
    {
     "name": "stdout",
     "output_type": "stream",
     "text": [
      "10\n",
      "The interpolation points are stored in the variable \"EF_target_pos\": \n",
      "[[ 8.82842712  2.82842712]\n",
      " [ 6.66666667  1.55370779]\n",
      " [ 3.33333333  4.00698025]\n",
      " [-3.33333333  0.14171792]\n",
      " [-6.66666667  1.17040662]]\n",
      "The intermediate points are stored in the variable \"interpolated_points\"\n",
      "[1 1 0]\n",
      "[55 15 56]\n"
     ]
    },
    {
     "name": "stderr",
     "output_type": "stream",
     "text": [
      "<ipython-input-3-d5f98cda02b0>:29: MatplotlibDeprecationWarning: Adding an axes using the same arguments as a previous axes currently reuses the earlier instance.  In a future version, a new instance will always be created and returned.  Meanwhile, this warning can be suppressed, and the future behavior ensured, by passing a unique label to each axes instance.\n",
      "  ax = fig.add_subplot(111, autoscale_on=False,\n"
     ]
    },
    {
     "name": "stdout",
     "output_type": "stream",
     "text": [
      "17\n",
      "The interpolation points are stored in the variable \"EF_target_pos\": \n",
      "[[ 14.94974747   4.94974747]\n",
      " [ 11.33333333   2.67817434]\n",
      " [  5.66666667   3.03931536]\n",
      " [ -5.66666667   7.65857234]\n",
      " [-11.33333333  -4.55472692]]\n",
      "The intermediate points are stored in the variable \"interpolated_points\"\n",
      "[1 1 0]\n",
      "[40 53 52]\n"
     ]
    },
    {
     "name": "stderr",
     "output_type": "stream",
     "text": [
      "<ipython-input-3-d5f98cda02b0>:29: MatplotlibDeprecationWarning: Adding an axes using the same arguments as a previous axes currently reuses the earlier instance.  In a future version, a new instance will always be created and returned.  Meanwhile, this warning can be suppressed, and the future behavior ensured, by passing a unique label to each axes instance.\n",
      "  ax = fig.add_subplot(111, autoscale_on=False,\n"
     ]
    },
    {
     "name": "stdout",
     "output_type": "stream",
     "text": [
      "23\n",
      "The interpolation points are stored in the variable \"EF_target_pos\": \n",
      "[[ 20.07106781   7.07106781]\n",
      " [ 15.33333333   5.13645474]\n",
      " [  7.66666667   6.37372147]\n",
      " [ -7.66666667 -13.74349639]\n",
      " [-15.33333333   0.68267014]]\n",
      "The intermediate points are stored in the variable \"interpolated_points\"\n",
      "[1 1 0]\n",
      "[20 47 30]\n"
     ]
    },
    {
     "name": "stderr",
     "output_type": "stream",
     "text": [
      "<ipython-input-3-d5f98cda02b0>:29: MatplotlibDeprecationWarning: Adding an axes using the same arguments as a previous axes currently reuses the earlier instance.  In a future version, a new instance will always be created and returned.  Meanwhile, this warning can be suppressed, and the future behavior ensured, by passing a unique label to each axes instance.\n",
      "  ax = fig.add_subplot(111, autoscale_on=False,\n"
     ]
    },
    {
     "name": "stdout",
     "output_type": "stream",
     "text": [
      "23\n",
      "The interpolation points are stored in the variable \"EF_target_pos\": \n",
      "[[ 19.77817459   7.77817459]\n",
      " [ 15.33333333   1.15445361]\n",
      " [  7.66666667 -14.22447219]\n",
      " [ -7.66666667 -14.45586783]\n",
      " [-15.33333333  -0.40235896]]\n",
      "The intermediate points are stored in the variable \"interpolated_points\"\n",
      "[1 0 1]\n",
      "[25 24 46]\n"
     ]
    },
    {
     "name": "stderr",
     "output_type": "stream",
     "text": [
      "<ipython-input-3-d5f98cda02b0>:29: MatplotlibDeprecationWarning: Adding an axes using the same arguments as a previous axes currently reuses the earlier instance.  In a future version, a new instance will always be created and returned.  Meanwhile, this warning can be suppressed, and the future behavior ensured, by passing a unique label to each axes instance.\n",
      "  ax = fig.add_subplot(111, autoscale_on=False,\n"
     ]
    },
    {
     "name": "stdout",
     "output_type": "stream",
     "text": [
      "12\n",
      "The interpolation points are stored in the variable \"EF_target_pos\": \n",
      "[[10.24264069  4.24264069]\n",
      " [ 8.         -3.43404954]\n",
      " [ 4.         -4.93420754]\n",
      " [-4.          4.27522613]\n",
      " [-8.          0.07934881]]\n",
      "The intermediate points are stored in the variable \"interpolated_points\"\n",
      "[1 1 1]\n",
      "[44 50 40]\n"
     ]
    },
    {
     "name": "stderr",
     "output_type": "stream",
     "text": [
      "<ipython-input-3-d5f98cda02b0>:29: MatplotlibDeprecationWarning: Adding an axes using the same arguments as a previous axes currently reuses the earlier instance.  In a future version, a new instance will always be created and returned.  Meanwhile, this warning can be suppressed, and the future behavior ensured, by passing a unique label to each axes instance.\n",
      "  ax = fig.add_subplot(111, autoscale_on=False,\n"
     ]
    },
    {
     "name": "stdout",
     "output_type": "stream",
     "text": [
      "17\n",
      "The interpolation points are stored in the variable \"EF_target_pos\": \n",
      "[[ 14.07106781   7.07106781]\n",
      " [ 11.33333333   5.13615876]\n",
      " [  5.66666667   8.39350251]\n",
      " [ -5.66666667  -4.27472259]\n",
      " [-11.33333333  -0.30873778]]\n",
      "The intermediate points are stored in the variable \"interpolated_points\"\n",
      "[0 0 0]\n",
      "[31 36 30]\n"
     ]
    },
    {
     "name": "stderr",
     "output_type": "stream",
     "text": [
      "<ipython-input-3-d5f98cda02b0>:29: MatplotlibDeprecationWarning: Adding an axes using the same arguments as a previous axes currently reuses the earlier instance.  In a future version, a new instance will always be created and returned.  Meanwhile, this warning can be suppressed, and the future behavior ensured, by passing a unique label to each axes instance.\n",
      "  ax = fig.add_subplot(111, autoscale_on=False,\n"
     ]
    },
    {
     "name": "stdout",
     "output_type": "stream",
     "text": [
      "21\n",
      "The interpolation points are stored in the variable \"EF_target_pos\": \n",
      "[[ 17.19238816   9.19238816]\n",
      " [ 14.           6.46696831]\n",
      " [  7.          -9.81589178]\n",
      " [ -7.           9.0668713 ]\n",
      " [-14.           4.34828834]]\n",
      "The intermediate points are stored in the variable \"interpolated_points\"\n",
      "[1 0 1]\n",
      "[19 42 30]\n"
     ]
    },
    {
     "name": "stderr",
     "output_type": "stream",
     "text": [
      "<ipython-input-3-d5f98cda02b0>:29: MatplotlibDeprecationWarning: Adding an axes using the same arguments as a previous axes currently reuses the earlier instance.  In a future version, a new instance will always be created and returned.  Meanwhile, this warning can be suppressed, and the future behavior ensured, by passing a unique label to each axes instance.\n",
      "  ax = fig.add_subplot(111, autoscale_on=False,\n"
     ]
    },
    {
     "name": "stdout",
     "output_type": "stream",
     "text": [
      "13\n",
      "The interpolation points are stored in the variable \"EF_target_pos\": \n",
      "[[11.82842712  2.82842712]\n",
      " [ 8.66666667 -3.74135406]\n",
      " [ 4.33333333  1.1465792 ]\n",
      " [-4.33333333 -6.18418139]\n",
      " [-8.66666667 -1.49117429]]\n",
      "The intermediate points are stored in the variable \"interpolated_points\"\n",
      "[1 1 0]\n",
      "[33 26 31]\n"
     ]
    },
    {
     "name": "stderr",
     "output_type": "stream",
     "text": [
      "<ipython-input-3-d5f98cda02b0>:29: MatplotlibDeprecationWarning: Adding an axes using the same arguments as a previous axes currently reuses the earlier instance.  In a future version, a new instance will always be created and returned.  Meanwhile, this warning can be suppressed, and the future behavior ensured, by passing a unique label to each axes instance.\n",
      "  ax = fig.add_subplot(111, autoscale_on=False,\n"
     ]
    },
    {
     "name": "stdout",
     "output_type": "stream",
     "text": [
      "16\n",
      "The interpolation points are stored in the variable \"EF_target_pos\": \n",
      "[[ 14.82842712   2.82842712]\n",
      " [ 10.66666667   1.79713708]\n",
      " [  5.33333333  -1.89718822]\n",
      " [ -5.33333333   8.83232211]\n",
      " [-10.66666667   5.23332634]]\n",
      "The intermediate points are stored in the variable \"interpolated_points\"\n",
      "[1 1 0]\n",
      "[52 27 29]\n"
     ]
    },
    {
     "name": "stderr",
     "output_type": "stream",
     "text": [
      "<ipython-input-3-d5f98cda02b0>:29: MatplotlibDeprecationWarning: Adding an axes using the same arguments as a previous axes currently reuses the earlier instance.  In a future version, a new instance will always be created and returned.  Meanwhile, this warning can be suppressed, and the future behavior ensured, by passing a unique label to each axes instance.\n",
      "  ax = fig.add_subplot(111, autoscale_on=False,\n"
     ]
    },
    {
     "name": "stdout",
     "output_type": "stream",
     "text": [
      "17\n",
      "The interpolation points are stored in the variable \"EF_target_pos\": \n",
      "[[ 14.36396103   6.36396103]\n",
      " [ 11.33333333  -4.91039537]\n",
      " [  5.66666667   5.56897601]\n",
      " [ -5.66666667  10.09365143]\n",
      " [-11.33333333  -1.92981285]]\n",
      "The intermediate points are stored in the variable \"interpolated_points\"\n",
      "[0 1 1]\n",
      "[25 43 22]\n"
     ]
    },
    {
     "name": "stderr",
     "output_type": "stream",
     "text": [
      "<ipython-input-3-d5f98cda02b0>:29: MatplotlibDeprecationWarning: Adding an axes using the same arguments as a previous axes currently reuses the earlier instance.  In a future version, a new instance will always be created and returned.  Meanwhile, this warning can be suppressed, and the future behavior ensured, by passing a unique label to each axes instance.\n",
      "  ax = fig.add_subplot(111, autoscale_on=False,\n"
     ]
    },
    {
     "name": "stdout",
     "output_type": "stream",
     "text": [
      "14\n",
      "The interpolation points are stored in the variable \"EF_target_pos\": \n",
      "[[11.65685425  5.65685425]\n",
      " [ 9.33333333  3.6316801 ]\n",
      " [ 4.66666667 -4.19647176]\n",
      " [-4.66666667  4.61257591]\n",
      " [-9.33333333 -1.3492283 ]]\n",
      "The intermediate points are stored in the variable \"interpolated_points\"\n",
      "[1 0 0]\n",
      "[36 16 19]\n"
     ]
    },
    {
     "name": "stderr",
     "output_type": "stream",
     "text": [
      "<ipython-input-3-d5f98cda02b0>:29: MatplotlibDeprecationWarning: Adding an axes using the same arguments as a previous axes currently reuses the earlier instance.  In a future version, a new instance will always be created and returned.  Meanwhile, this warning can be suppressed, and the future behavior ensured, by passing a unique label to each axes instance.\n",
      "  ax = fig.add_subplot(111, autoscale_on=False,\n"
     ]
    },
    {
     "name": "stdout",
     "output_type": "stream",
     "text": [
      "24\n",
      "The interpolation points are stored in the variable \"EF_target_pos\": \n",
      "[[ 20.19238816   9.19238816]\n",
      " [ 16.          -0.29623619]\n",
      " [  8.         -12.69936693]\n",
      " [ -8.          10.32161581]\n",
      " [-16.           0.67957102]]\n",
      "The intermediate points are stored in the variable \"interpolated_points\"\n",
      "[0 0 0]\n",
      "[22 18 29]\n"
     ]
    },
    {
     "name": "stderr",
     "output_type": "stream",
     "text": [
      "<ipython-input-3-d5f98cda02b0>:29: MatplotlibDeprecationWarning: Adding an axes using the same arguments as a previous axes currently reuses the earlier instance.  In a future version, a new instance will always be created and returned.  Meanwhile, this warning can be suppressed, and the future behavior ensured, by passing a unique label to each axes instance.\n",
      "  ax = fig.add_subplot(111, autoscale_on=False,\n"
     ]
    },
    {
     "name": "stdout",
     "output_type": "stream",
     "text": [
      "18\n",
      "The interpolation points are stored in the variable \"EF_target_pos\": \n",
      "[[ 14.48528137   8.48528137]\n",
      " [ 12.           4.98263447]\n",
      " [  6.         -10.27910211]\n",
      " [ -6.          -3.08917574]\n",
      " [-12.           1.48483865]]\n",
      "The intermediate points are stored in the variable \"interpolated_points\"\n",
      "[1 1 0]\n",
      "[44 49 55]\n"
     ]
    },
    {
     "name": "stderr",
     "output_type": "stream",
     "text": [
      "<ipython-input-3-d5f98cda02b0>:29: MatplotlibDeprecationWarning: Adding an axes using the same arguments as a previous axes currently reuses the earlier instance.  In a future version, a new instance will always be created and returned.  Meanwhile, this warning can be suppressed, and the future behavior ensured, by passing a unique label to each axes instance.\n",
      "  ax = fig.add_subplot(111, autoscale_on=False,\n"
     ]
    },
    {
     "name": "stdout",
     "output_type": "stream",
     "text": [
      "17\n",
      "The interpolation points are stored in the variable \"EF_target_pos\": \n",
      "[[ 14.94974747   4.94974747]\n",
      " [ 11.33333333  -2.40764136]\n",
      " [  5.66666667  -1.57285562]\n",
      " [ -5.66666667  -3.80591705]\n",
      " [-11.33333333   3.97698661]]\n",
      "The intermediate points are stored in the variable \"interpolated_points\"\n",
      "[0 1 0]\n",
      "[22 35 50]\n"
     ]
    },
    {
     "name": "stderr",
     "output_type": "stream",
     "text": [
      "<ipython-input-3-d5f98cda02b0>:29: MatplotlibDeprecationWarning: Adding an axes using the same arguments as a previous axes currently reuses the earlier instance.  In a future version, a new instance will always be created and returned.  Meanwhile, this warning can be suppressed, and the future behavior ensured, by passing a unique label to each axes instance.\n",
      "  ax = fig.add_subplot(111, autoscale_on=False,\n"
     ]
    },
    {
     "name": "stdout",
     "output_type": "stream",
     "text": [
      "26\n",
      "The interpolation points are stored in the variable \"EF_target_pos\": \n",
      "[[ 22.19238816   9.19238816]\n",
      " [ 17.33333333  -2.07228544]\n",
      " [  8.66666667  15.72561285]\n",
      " [ -8.66666667  -4.25850176]\n",
      " [-17.33333333  -8.30173869]]\n",
      "The intermediate points are stored in the variable \"interpolated_points\"\n",
      "[0 1 1]\n",
      "[54 45 19]\n"
     ]
    },
    {
     "name": "stderr",
     "output_type": "stream",
     "text": [
      "<ipython-input-3-d5f98cda02b0>:29: MatplotlibDeprecationWarning: Adding an axes using the same arguments as a previous axes currently reuses the earlier instance.  In a future version, a new instance will always be created and returned.  Meanwhile, this warning can be suppressed, and the future behavior ensured, by passing a unique label to each axes instance.\n",
      "  ax = fig.add_subplot(111, autoscale_on=False,\n"
     ]
    },
    {
     "name": "stdout",
     "output_type": "stream",
     "text": [
      "18\n",
      "The interpolation points are stored in the variable \"EF_target_pos\": \n",
      "[[ 15.36396103   6.36396103]\n",
      " [ 12.          -0.9392951 ]\n",
      " [  6.         -11.20434316]\n",
      " [ -6.          -4.89486149]\n",
      " [-12.           3.36794228]]\n",
      "The intermediate points are stored in the variable \"interpolated_points\"\n",
      "[1 0 1]\n",
      "[39 56 15]\n"
     ]
    },
    {
     "name": "stderr",
     "output_type": "stream",
     "text": [
      "<ipython-input-3-d5f98cda02b0>:29: MatplotlibDeprecationWarning: Adding an axes using the same arguments as a previous axes currently reuses the earlier instance.  In a future version, a new instance will always be created and returned.  Meanwhile, this warning can be suppressed, and the future behavior ensured, by passing a unique label to each axes instance.\n",
      "  ax = fig.add_subplot(111, autoscale_on=False,\n"
     ]
    },
    {
     "name": "stdout",
     "output_type": "stream",
     "text": [
      "21\n",
      "The interpolation points are stored in the variable \"EF_target_pos\": \n",
      "[[ 18.65685425   5.65685425]\n",
      " [ 14.          -1.63064791]\n",
      " [  7.           7.18182889]\n",
      " [ -7.          11.29853699]\n",
      " [-14.          -1.28924989]]\n",
      "The intermediate points are stored in the variable \"interpolated_points\"\n",
      "[1 1 1]\n",
      "[16 43 19]\n"
     ]
    },
    {
     "name": "stderr",
     "output_type": "stream",
     "text": [
      "<ipython-input-3-d5f98cda02b0>:29: MatplotlibDeprecationWarning: Adding an axes using the same arguments as a previous axes currently reuses the earlier instance.  In a future version, a new instance will always be created and returned.  Meanwhile, this warning can be suppressed, and the future behavior ensured, by passing a unique label to each axes instance.\n",
      "  ax = fig.add_subplot(111, autoscale_on=False,\n"
     ]
    },
    {
     "name": "stdout",
     "output_type": "stream",
     "text": [
      "18\n",
      "The interpolation points are stored in the variable \"EF_target_pos\": \n",
      "[[ 15.65685425   5.65685425]\n",
      " [ 12.           0.79864841]\n",
      " [  6.           5.93325393]\n",
      " [ -6.         -10.01256219]\n",
      " [-12.           3.32760106]]\n",
      "The intermediate points are stored in the variable \"interpolated_points\"\n",
      "[1 1 1]\n",
      "[18 58 19]\n"
     ]
    },
    {
     "name": "stderr",
     "output_type": "stream",
     "text": [
      "<ipython-input-3-d5f98cda02b0>:29: MatplotlibDeprecationWarning: Adding an axes using the same arguments as a previous axes currently reuses the earlier instance.  In a future version, a new instance will always be created and returned.  Meanwhile, this warning can be suppressed, and the future behavior ensured, by passing a unique label to each axes instance.\n",
      "  ax = fig.add_subplot(111, autoscale_on=False,\n"
     ]
    },
    {
     "name": "stdout",
     "output_type": "stream",
     "text": [
      "18\n",
      "The interpolation points are stored in the variable \"EF_target_pos\": \n",
      "[[ 1.50710678e+01  7.07106781e+00]\n",
      " [ 1.20000000e+01  2.31102457e+00]\n",
      " [ 6.00000000e+00  6.88774343e-03]\n",
      " [-6.00000000e+00 -1.18787785e+01]\n",
      " [-1.20000000e+01  3.19923017e+00]]\n",
      "The intermediate points are stored in the variable \"interpolated_points\"\n",
      "[1 1 0]\n",
      "[28 34 45]\n"
     ]
    },
    {
     "name": "stderr",
     "output_type": "stream",
     "text": [
      "<ipython-input-3-d5f98cda02b0>:29: MatplotlibDeprecationWarning: Adding an axes using the same arguments as a previous axes currently reuses the earlier instance.  In a future version, a new instance will always be created and returned.  Meanwhile, this warning can be suppressed, and the future behavior ensured, by passing a unique label to each axes instance.\n",
      "  ax = fig.add_subplot(111, autoscale_on=False,\n"
     ]
    },
    {
     "name": "stdout",
     "output_type": "stream",
     "text": [
      "13\n",
      "The interpolation points are stored in the variable \"EF_target_pos\": \n",
      "[[11.53553391  3.53553391]\n",
      " [ 8.66666667  1.4991769 ]\n",
      " [ 4.33333333 -6.27600862]\n",
      " [-4.33333333  7.89477929]\n",
      " [-8.66666667 -1.95603355]]\n",
      "The intermediate points are stored in the variable \"interpolated_points\"\n",
      "[1 1 1]\n",
      "[39 55 42]\n"
     ]
    },
    {
     "name": "stderr",
     "output_type": "stream",
     "text": [
      "<ipython-input-3-d5f98cda02b0>:29: MatplotlibDeprecationWarning: Adding an axes using the same arguments as a previous axes currently reuses the earlier instance.  In a future version, a new instance will always be created and returned.  Meanwhile, this warning can be suppressed, and the future behavior ensured, by passing a unique label to each axes instance.\n",
      "  ax = fig.add_subplot(111, autoscale_on=False,\n"
     ]
    },
    {
     "name": "stdout",
     "output_type": "stream",
     "text": [
      "20\n",
      "The interpolation points are stored in the variable \"EF_target_pos\": \n",
      "[[ 16.77817459   7.77817459]\n",
      " [ 13.33333333  -3.55762731]\n",
      " [  6.66666667   3.12541388]\n",
      " [ -6.66666667  -3.10424012]\n",
      " [-13.33333333  -1.63501474]]\n",
      "The intermediate points are stored in the variable \"interpolated_points\"\n",
      "[1 1 0]\n",
      "[34 45 16]\n"
     ]
    },
    {
     "name": "stderr",
     "output_type": "stream",
     "text": [
      "<ipython-input-3-d5f98cda02b0>:29: MatplotlibDeprecationWarning: Adding an axes using the same arguments as a previous axes currently reuses the earlier instance.  In a future version, a new instance will always be created and returned.  Meanwhile, this warning can be suppressed, and the future behavior ensured, by passing a unique label to each axes instance.\n",
      "  ax = fig.add_subplot(111, autoscale_on=False,\n"
     ]
    },
    {
     "name": "stdout",
     "output_type": "stream",
     "text": [
      "13\n",
      "The interpolation points are stored in the variable \"EF_target_pos\": \n",
      "[[11.24264069  4.24264069]\n",
      " [ 8.66666667 -2.50657507]\n",
      " [ 4.33333333  5.35574857]\n",
      " [-4.33333333 -5.75621203]\n",
      " [-8.66666667  1.0931847 ]]\n",
      "The intermediate points are stored in the variable \"interpolated_points\"\n",
      "[0 0 0]\n",
      "[49 33 47]\n"
     ]
    },
    {
     "name": "stderr",
     "output_type": "stream",
     "text": [
      "<ipython-input-3-d5f98cda02b0>:29: MatplotlibDeprecationWarning: Adding an axes using the same arguments as a previous axes currently reuses the earlier instance.  In a future version, a new instance will always be created and returned.  Meanwhile, this warning can be suppressed, and the future behavior ensured, by passing a unique label to each axes instance.\n",
      "  ax = fig.add_subplot(111, autoscale_on=False,\n"
     ]
    },
    {
     "name": "stdout",
     "output_type": "stream",
     "text": [
      "14\n",
      "The interpolation points are stored in the variable \"EF_target_pos\": \n",
      "[[11.36396103  6.36396103]\n",
      " [ 9.33333333  3.14915349]\n",
      " [ 4.66666667 -7.28606361]\n",
      " [-4.66666667 -7.82228321]\n",
      " [-9.33333333  1.1243262 ]]\n",
      "The intermediate points are stored in the variable \"interpolated_points\"\n",
      "[0 0 1]\n",
      "[21 27 21]\n"
     ]
    },
    {
     "name": "stderr",
     "output_type": "stream",
     "text": [
      "<ipython-input-3-d5f98cda02b0>:29: MatplotlibDeprecationWarning: Adding an axes using the same arguments as a previous axes currently reuses the earlier instance.  In a future version, a new instance will always be created and returned.  Meanwhile, this warning can be suppressed, and the future behavior ensured, by passing a unique label to each axes instance.\n",
      "  ax = fig.add_subplot(111, autoscale_on=False,\n"
     ]
    },
    {
     "name": "stdout",
     "output_type": "stream",
     "text": [
      "18\n",
      "The interpolation points are stored in the variable \"EF_target_pos\": \n",
      "[[ 15.36396103   6.36396103]\n",
      " [ 12.           3.19946428]\n",
      " [  6.          -6.02435421]\n",
      " [ -6.          -2.25089291]\n",
      " [-12.          -2.36615145]]\n",
      "The intermediate points are stored in the variable \"interpolated_points\"\n",
      "[0 1 0]\n",
      "[46 32 30]\n"
     ]
    },
    {
     "name": "stderr",
     "output_type": "stream",
     "text": [
      "<ipython-input-3-d5f98cda02b0>:29: MatplotlibDeprecationWarning: Adding an axes using the same arguments as a previous axes currently reuses the earlier instance.  In a future version, a new instance will always be created and returned.  Meanwhile, this warning can be suppressed, and the future behavior ensured, by passing a unique label to each axes instance.\n",
      "  ax = fig.add_subplot(111, autoscale_on=False,\n"
     ]
    },
    {
     "name": "stdout",
     "output_type": "stream",
     "text": [
      "16\n",
      "The interpolation points are stored in the variable \"EF_target_pos\": \n",
      "[[ 14.53553391   3.53553391]\n",
      " [ 10.66666667  -1.4431166 ]\n",
      " [  5.33333333  -1.96238828]\n",
      " [ -5.33333333   2.86781982]\n",
      " [-10.66666667   4.98576805]]\n",
      "The intermediate points are stored in the variable \"interpolated_points\"\n",
      "[1 0 1]\n",
      "[39 17 47]\n"
     ]
    },
    {
     "name": "stderr",
     "output_type": "stream",
     "text": [
      "<ipython-input-3-d5f98cda02b0>:29: MatplotlibDeprecationWarning: Adding an axes using the same arguments as a previous axes currently reuses the earlier instance.  In a future version, a new instance will always be created and returned.  Meanwhile, this warning can be suppressed, and the future behavior ensured, by passing a unique label to each axes instance.\n",
      "  ax = fig.add_subplot(111, autoscale_on=False,\n"
     ]
    },
    {
     "name": "stdout",
     "output_type": "stream",
     "text": [
      "14\n",
      "The interpolation points are stored in the variable \"EF_target_pos\": \n",
      "[[11.94974747  4.94974747]\n",
      " [ 9.33333333  2.57921049]\n",
      " [ 4.66666667  7.56727039]\n",
      " [-4.66666667 -6.24544248]\n",
      " [-9.33333333 -2.46420045]]\n",
      "The intermediate points are stored in the variable \"interpolated_points\"\n",
      "[0 1 1]\n",
      "[49 33 49]\n"
     ]
    },
    {
     "name": "stderr",
     "output_type": "stream",
     "text": [
      "<ipython-input-3-d5f98cda02b0>:29: MatplotlibDeprecationWarning: Adding an axes using the same arguments as a previous axes currently reuses the earlier instance.  In a future version, a new instance will always be created and returned.  Meanwhile, this warning can be suppressed, and the future behavior ensured, by passing a unique label to each axes instance.\n",
      "  ax = fig.add_subplot(111, autoscale_on=False,\n"
     ]
    },
    {
     "name": "stdout",
     "output_type": "stream",
     "text": [
      "20\n",
      "The interpolation points are stored in the variable \"EF_target_pos\": \n",
      "[[ 16.19238816   9.19238816]\n",
      " [ 13.33333333  -0.43340433]\n",
      " [  6.66666667   7.38893725]\n",
      " [ -6.66666667   7.60784589]\n",
      " [-13.33333333   3.94431006]]\n",
      "The intermediate points are stored in the variable \"interpolated_points\"\n",
      "[1 1 0]\n",
      "[46 22 33]\n"
     ]
    },
    {
     "name": "stderr",
     "output_type": "stream",
     "text": [
      "<ipython-input-3-d5f98cda02b0>:29: MatplotlibDeprecationWarning: Adding an axes using the same arguments as a previous axes currently reuses the earlier instance.  In a future version, a new instance will always be created and returned.  Meanwhile, this warning can be suppressed, and the future behavior ensured, by passing a unique label to each axes instance.\n",
      "  ax = fig.add_subplot(111, autoscale_on=False,\n"
     ]
    },
    {
     "name": "stdout",
     "output_type": "stream",
     "text": [
      "23\n",
      "The interpolation points are stored in the variable \"EF_target_pos\": \n",
      "[[ 19.77817459   7.77817459]\n",
      " [ 15.33333333  -5.07465777]\n",
      " [  7.66666667  -8.12744295]\n",
      " [ -7.66666667 -15.00187105]\n",
      " [-15.33333333  -6.92269471]]\n",
      "The intermediate points are stored in the variable \"interpolated_points\"\n",
      "[1 0 1]\n",
      "[21 32 39]\n"
     ]
    },
    {
     "name": "stderr",
     "output_type": "stream",
     "text": [
      "<ipython-input-3-d5f98cda02b0>:29: MatplotlibDeprecationWarning: Adding an axes using the same arguments as a previous axes currently reuses the earlier instance.  In a future version, a new instance will always be created and returned.  Meanwhile, this warning can be suppressed, and the future behavior ensured, by passing a unique label to each axes instance.\n",
      "  ax = fig.add_subplot(111, autoscale_on=False,\n"
     ]
    },
    {
     "name": "stdout",
     "output_type": "stream",
     "text": [
      "17\n",
      "The interpolation points are stored in the variable \"EF_target_pos\": \n",
      "[[ 14.65685425   5.65685425]\n",
      " [ 11.33333333  -4.79939591]\n",
      " [  5.66666667   5.01927737]\n",
      " [ -5.66666667  10.10804173]\n",
      " [-11.33333333   2.28547589]]\n",
      "The intermediate points are stored in the variable \"interpolated_points\"\n",
      "[1 1 1]\n",
      "[28 47 37]\n"
     ]
    },
    {
     "name": "stderr",
     "output_type": "stream",
     "text": [
      "<ipython-input-3-d5f98cda02b0>:29: MatplotlibDeprecationWarning: Adding an axes using the same arguments as a previous axes currently reuses the earlier instance.  In a future version, a new instance will always be created and returned.  Meanwhile, this warning can be suppressed, and the future behavior ensured, by passing a unique label to each axes instance.\n",
      "  ax = fig.add_subplot(111, autoscale_on=False,\n"
     ]
    },
    {
     "name": "stdout",
     "output_type": "stream",
     "text": [
      "15\n",
      "The interpolation points are stored in the variable \"EF_target_pos\": \n",
      "[[ 12.36396103   6.36396103]\n",
      " [ 10.           0.06764009]\n",
      " [  5.          -3.06132369]\n",
      " [ -5.           3.53339601]\n",
      " [-10.          -4.40855974]]\n",
      "The intermediate points are stored in the variable \"interpolated_points\"\n",
      "[1 0 1]\n",
      "[57 23 34]\n"
     ]
    },
    {
     "name": "stderr",
     "output_type": "stream",
     "text": [
      "<ipython-input-3-d5f98cda02b0>:29: MatplotlibDeprecationWarning: Adding an axes using the same arguments as a previous axes currently reuses the earlier instance.  In a future version, a new instance will always be created and returned.  Meanwhile, this warning can be suppressed, and the future behavior ensured, by passing a unique label to each axes instance.\n",
      "  ax = fig.add_subplot(111, autoscale_on=False,\n"
     ]
    },
    {
     "name": "stdout",
     "output_type": "stream",
     "text": [
      "20\n",
      "The interpolation points are stored in the variable \"EF_target_pos\": \n",
      "[[ 17.07106781   7.07106781]\n",
      " [ 13.33333333  -3.87117946]\n",
      " [  6.66666667  11.64963847]\n",
      " [ -6.66666667  11.35693476]\n",
      " [-13.33333333   2.19586706]]\n",
      "The intermediate points are stored in the variable \"interpolated_points\"\n",
      "[0 0 1]\n",
      "[40 49 43]\n"
     ]
    },
    {
     "name": "stderr",
     "output_type": "stream",
     "text": [
      "<ipython-input-3-d5f98cda02b0>:29: MatplotlibDeprecationWarning: Adding an axes using the same arguments as a previous axes currently reuses the earlier instance.  In a future version, a new instance will always be created and returned.  Meanwhile, this warning can be suppressed, and the future behavior ensured, by passing a unique label to each axes instance.\n",
      "  ax = fig.add_subplot(111, autoscale_on=False,\n"
     ]
    },
    {
     "name": "stdout",
     "output_type": "stream",
     "text": [
      "14\n",
      "The interpolation points are stored in the variable \"EF_target_pos\": \n",
      "[[11.94974747  4.94974747]\n",
      " [ 9.33333333 -2.67353971]\n",
      " [ 4.66666667 -3.54732522]\n",
      " [-4.66666667 -1.73051725]\n",
      " [-9.33333333  1.29376819]]\n",
      "The intermediate points are stored in the variable \"interpolated_points\"\n",
      "[1 1 1]\n",
      "[44 52 45]\n"
     ]
    },
    {
     "name": "stderr",
     "output_type": "stream",
     "text": [
      "<ipython-input-3-d5f98cda02b0>:29: MatplotlibDeprecationWarning: Adding an axes using the same arguments as a previous axes currently reuses the earlier instance.  In a future version, a new instance will always be created and returned.  Meanwhile, this warning can be suppressed, and the future behavior ensured, by passing a unique label to each axes instance.\n",
      "  ax = fig.add_subplot(111, autoscale_on=False,\n"
     ]
    },
    {
     "name": "stdout",
     "output_type": "stream",
     "text": [
      "18\n",
      "The interpolation points are stored in the variable \"EF_target_pos\": \n",
      "[[ 14.77817459   7.77817459]\n",
      " [ 12.           3.90232813]\n",
      " [  6.           5.93897138]\n",
      " [ -6.          -2.99714429]\n",
      " [-12.           2.97727457]]\n",
      "The intermediate points are stored in the variable \"interpolated_points\"\n",
      "[1 1 0]\n",
      "[47 29 25]\n"
     ]
    },
    {
     "name": "stderr",
     "output_type": "stream",
     "text": [
      "<ipython-input-3-d5f98cda02b0>:29: MatplotlibDeprecationWarning: Adding an axes using the same arguments as a previous axes currently reuses the earlier instance.  In a future version, a new instance will always be created and returned.  Meanwhile, this warning can be suppressed, and the future behavior ensured, by passing a unique label to each axes instance.\n",
      "  ax = fig.add_subplot(111, autoscale_on=False,\n"
     ]
    },
    {
     "name": "stdout",
     "output_type": "stream",
     "text": [
      "20\n",
      "The interpolation points are stored in the variable \"EF_target_pos\": \n",
      "[[ 17.94974747   4.94974747]\n",
      " [ 13.33333333  -3.23113303]\n",
      " [  6.66666667   6.44774986]\n",
      " [ -6.66666667   7.4357364 ]\n",
      " [-13.33333333   1.81934144]]\n",
      "The intermediate points are stored in the variable \"interpolated_points\"\n",
      "[1 0 1]\n",
      "[30 20 18]\n"
     ]
    },
    {
     "name": "stderr",
     "output_type": "stream",
     "text": [
      "<ipython-input-3-d5f98cda02b0>:29: MatplotlibDeprecationWarning: Adding an axes using the same arguments as a previous axes currently reuses the earlier instance.  In a future version, a new instance will always be created and returned.  Meanwhile, this warning can be suppressed, and the future behavior ensured, by passing a unique label to each axes instance.\n",
      "  ax = fig.add_subplot(111, autoscale_on=False,\n"
     ]
    },
    {
     "name": "stdout",
     "output_type": "stream",
     "text": [
      "20\n",
      "The interpolation points are stored in the variable \"EF_target_pos\": \n",
      "[[ 17.36396103   6.36396103]\n",
      " [ 13.33333333   3.30383303]\n",
      " [  6.66666667  -4.92586007]\n",
      " [ -6.66666667  -3.73618283]\n",
      " [-13.33333333  -4.15556152]]\n",
      "The intermediate points are stored in the variable \"interpolated_points\"\n",
      "[1 0 0]\n",
      "[50 28 41]\n"
     ]
    },
    {
     "name": "stderr",
     "output_type": "stream",
     "text": [
      "<ipython-input-3-d5f98cda02b0>:29: MatplotlibDeprecationWarning: Adding an axes using the same arguments as a previous axes currently reuses the earlier instance.  In a future version, a new instance will always be created and returned.  Meanwhile, this warning can be suppressed, and the future behavior ensured, by passing a unique label to each axes instance.\n",
      "  ax = fig.add_subplot(111, autoscale_on=False,\n"
     ]
    },
    {
     "name": "stdout",
     "output_type": "stream",
     "text": [
      "17\n",
      "The interpolation points are stored in the variable \"EF_target_pos\": \n",
      "[[ 14.36396103   6.36396103]\n",
      " [ 11.33333333  -1.83619728]\n",
      " [  5.66666667  -1.62044001]\n",
      " [ -5.66666667   1.0130577 ]\n",
      " [-11.33333333   4.66645292]]\n",
      "The intermediate points are stored in the variable \"interpolated_points\"\n",
      "[0 0 1]\n",
      "[22 39 51]\n"
     ]
    },
    {
     "name": "stderr",
     "output_type": "stream",
     "text": [
      "<ipython-input-3-d5f98cda02b0>:29: MatplotlibDeprecationWarning: Adding an axes using the same arguments as a previous axes currently reuses the earlier instance.  In a future version, a new instance will always be created and returned.  Meanwhile, this warning can be suppressed, and the future behavior ensured, by passing a unique label to each axes instance.\n",
      "  ax = fig.add_subplot(111, autoscale_on=False,\n"
     ]
    },
    {
     "name": "stdout",
     "output_type": "stream",
     "text": [
      "14\n",
      "The interpolation points are stored in the variable \"EF_target_pos\": \n",
      "[[11.07106781  7.07106781]\n",
      " [ 9.33333333  0.3428943 ]\n",
      " [ 4.66666667  3.67832619]\n",
      " [-4.66666667 -5.11591944]\n",
      " [-9.33333333  2.63450587]]\n",
      "The intermediate points are stored in the variable \"interpolated_points\"\n",
      "[1 1 1]\n",
      "[50 23 45]\n"
     ]
    },
    {
     "name": "stderr",
     "output_type": "stream",
     "text": [
      "<ipython-input-3-d5f98cda02b0>:29: MatplotlibDeprecationWarning: Adding an axes using the same arguments as a previous axes currently reuses the earlier instance.  In a future version, a new instance will always be created and returned.  Meanwhile, this warning can be suppressed, and the future behavior ensured, by passing a unique label to each axes instance.\n",
      "  ax = fig.add_subplot(111, autoscale_on=False,\n"
     ]
    },
    {
     "name": "stdout",
     "output_type": "stream",
     "text": [
      "15\n",
      "The interpolation points are stored in the variable \"EF_target_pos\": \n",
      "[[ 11.77817459   7.77817459]\n",
      " [ 10.          -1.46221488]\n",
      " [  5.          -8.81197587]\n",
      " [ -5.          -3.99245653]\n",
      " [-10.          -2.85784014]]\n",
      "The intermediate points are stored in the variable \"interpolated_points\"\n",
      "[1 0 1]\n",
      "[40 45 32]\n"
     ]
    },
    {
     "name": "stderr",
     "output_type": "stream",
     "text": [
      "<ipython-input-3-d5f98cda02b0>:29: MatplotlibDeprecationWarning: Adding an axes using the same arguments as a previous axes currently reuses the earlier instance.  In a future version, a new instance will always be created and returned.  Meanwhile, this warning can be suppressed, and the future behavior ensured, by passing a unique label to each axes instance.\n",
      "  ax = fig.add_subplot(111, autoscale_on=False,\n"
     ]
    },
    {
     "name": "stdout",
     "output_type": "stream",
     "text": [
      "21\n",
      "The interpolation points are stored in the variable \"EF_target_pos\": \n",
      "[[ 17.77817459   7.77817459]\n",
      " [ 14.           2.50026257]\n",
      " [  7.           6.27181488]\n",
      " [ -7.          10.47311168]\n",
      " [-14.          -5.20986687]]\n",
      "The intermediate points are stored in the variable \"interpolated_points\"\n",
      "[0 0 1]\n",
      "[44 33 18]\n"
     ]
    },
    {
     "name": "stderr",
     "output_type": "stream",
     "text": [
      "<ipython-input-3-d5f98cda02b0>:29: MatplotlibDeprecationWarning: Adding an axes using the same arguments as a previous axes currently reuses the earlier instance.  In a future version, a new instance will always be created and returned.  Meanwhile, this warning can be suppressed, and the future behavior ensured, by passing a unique label to each axes instance.\n",
      "  ax = fig.add_subplot(111, autoscale_on=False,\n"
     ]
    },
    {
     "name": "stdout",
     "output_type": "stream",
     "text": [
      "15\n",
      "The interpolation points are stored in the variable \"EF_target_pos\": \n",
      "[[ 13.24264069   4.24264069]\n",
      " [ 10.          -4.97922908]\n",
      " [  5.           5.41812833]\n",
      " [ -5.          -5.79790046]\n",
      " [-10.          -1.1714968 ]]\n",
      "The intermediate points are stored in the variable \"interpolated_points\"\n",
      "[0 1 1]\n",
      "[27 57 50]\n"
     ]
    },
    {
     "name": "stderr",
     "output_type": "stream",
     "text": [
      "<ipython-input-3-d5f98cda02b0>:29: MatplotlibDeprecationWarning: Adding an axes using the same arguments as a previous axes currently reuses the earlier instance.  In a future version, a new instance will always be created and returned.  Meanwhile, this warning can be suppressed, and the future behavior ensured, by passing a unique label to each axes instance.\n",
      "  ax = fig.add_subplot(111, autoscale_on=False,\n"
     ]
    },
    {
     "name": "stdout",
     "output_type": "stream",
     "text": [
      "22\n",
      "The interpolation points are stored in the variable \"EF_target_pos\": \n",
      "[[ 19.36396103   6.36396103]\n",
      " [ 14.66666667  -1.35784525]\n",
      " [  7.33333333  11.28866753]\n",
      " [ -7.33333333   3.78020962]\n",
      " [-14.66666667   1.36641753]]\n",
      "The intermediate points are stored in the variable \"interpolated_points\"\n",
      "[0 0 0]\n",
      "[15 46 36]\n"
     ]
    },
    {
     "name": "stderr",
     "output_type": "stream",
     "text": [
      "<ipython-input-3-d5f98cda02b0>:29: MatplotlibDeprecationWarning: Adding an axes using the same arguments as a previous axes currently reuses the earlier instance.  In a future version, a new instance will always be created and returned.  Meanwhile, this warning can be suppressed, and the future behavior ensured, by passing a unique label to each axes instance.\n",
      "  ax = fig.add_subplot(111, autoscale_on=False,\n"
     ]
    },
    {
     "name": "stdout",
     "output_type": "stream",
     "text": [
      "18\n",
      "The interpolation points are stored in the variable \"EF_target_pos\": \n",
      "[[ 15.65685425   5.65685425]\n",
      " [ 12.           2.28273751]\n",
      " [  6.          -8.95907937]\n",
      " [ -6.           1.41615457]\n",
      " [-12.          -1.07616192]]\n",
      "The intermediate points are stored in the variable \"interpolated_points\"\n",
      "[0 0 0]\n",
      "[39 21 25]\n"
     ]
    },
    {
     "name": "stderr",
     "output_type": "stream",
     "text": [
      "<ipython-input-3-d5f98cda02b0>:29: MatplotlibDeprecationWarning: Adding an axes using the same arguments as a previous axes currently reuses the earlier instance.  In a future version, a new instance will always be created and returned.  Meanwhile, this warning can be suppressed, and the future behavior ensured, by passing a unique label to each axes instance.\n",
      "  ax = fig.add_subplot(111, autoscale_on=False,\n"
     ]
    },
    {
     "name": "stdout",
     "output_type": "stream",
     "text": [
      "20\n",
      "The interpolation points are stored in the variable \"EF_target_pos\": \n",
      "[[ 17.65685425   5.65685425]\n",
      " [ 13.33333333  -3.40555034]\n",
      " [  6.66666667 -11.24348773]\n",
      " [ -6.66666667   4.42093268]\n",
      " [-13.33333333  -5.94164756]]\n",
      "The intermediate points are stored in the variable \"interpolated_points\"\n",
      "[0 1 1]\n",
      "[54 34 52]\n"
     ]
    },
    {
     "name": "stderr",
     "output_type": "stream",
     "text": [
      "<ipython-input-3-d5f98cda02b0>:29: MatplotlibDeprecationWarning: Adding an axes using the same arguments as a previous axes currently reuses the earlier instance.  In a future version, a new instance will always be created and returned.  Meanwhile, this warning can be suppressed, and the future behavior ensured, by passing a unique label to each axes instance.\n",
      "  ax = fig.add_subplot(111, autoscale_on=False,\n"
     ]
    },
    {
     "name": "stdout",
     "output_type": "stream",
     "text": [
      "20\n",
      "The interpolation points are stored in the variable \"EF_target_pos\": \n",
      "[[ 17.94974747   4.94974747]\n",
      " [ 13.33333333  -0.28102016]\n",
      " [  6.66666667 -11.73648328]\n",
      " [ -6.66666667  -8.97267485]\n",
      " [-13.33333333  -4.13610924]]\n",
      "The intermediate points are stored in the variable \"interpolated_points\"\n",
      "[1 0 0]\n",
      "[42 28 55]\n"
     ]
    },
    {
     "name": "stderr",
     "output_type": "stream",
     "text": [
      "<ipython-input-3-d5f98cda02b0>:29: MatplotlibDeprecationWarning: Adding an axes using the same arguments as a previous axes currently reuses the earlier instance.  In a future version, a new instance will always be created and returned.  Meanwhile, this warning can be suppressed, and the future behavior ensured, by passing a unique label to each axes instance.\n",
      "  ax = fig.add_subplot(111, autoscale_on=False,\n"
     ]
    },
    {
     "name": "stdout",
     "output_type": "stream",
     "text": [
      "16\n",
      "The interpolation points are stored in the variable \"EF_target_pos\": \n",
      "[[ 14.53553391   3.53553391]\n",
      " [ 10.66666667   0.54206783]\n",
      " [  5.33333333  -4.74722739]\n",
      " [ -5.33333333  -8.96178211]\n",
      " [-10.66666667   3.33514921]]\n",
      "The intermediate points are stored in the variable \"interpolated_points\"\n",
      "[1 0 0]\n",
      "[58 24 47]\n"
     ]
    },
    {
     "name": "stderr",
     "output_type": "stream",
     "text": [
      "<ipython-input-3-d5f98cda02b0>:29: MatplotlibDeprecationWarning: Adding an axes using the same arguments as a previous axes currently reuses the earlier instance.  In a future version, a new instance will always be created and returned.  Meanwhile, this warning can be suppressed, and the future behavior ensured, by passing a unique label to each axes instance.\n",
      "  ax = fig.add_subplot(111, autoscale_on=False,\n"
     ]
    },
    {
     "name": "stdout",
     "output_type": "stream",
     "text": [
      "16\n",
      "The interpolation points are stored in the variable \"EF_target_pos\": \n",
      "[[ 14.24264069   4.24264069]\n",
      " [ 10.66666667  -0.42203297]\n",
      " [  5.33333333  -9.99953709]\n",
      " [ -5.33333333  -6.69612408]\n",
      " [-10.66666667  -3.34242774]]\n",
      "The intermediate points are stored in the variable \"interpolated_points\"\n",
      "[1 0 1]\n",
      "[59 29 38]\n"
     ]
    },
    {
     "name": "stderr",
     "output_type": "stream",
     "text": [
      "<ipython-input-3-d5f98cda02b0>:29: MatplotlibDeprecationWarning: Adding an axes using the same arguments as a previous axes currently reuses the earlier instance.  In a future version, a new instance will always be created and returned.  Meanwhile, this warning can be suppressed, and the future behavior ensured, by passing a unique label to each axes instance.\n",
      "  ax = fig.add_subplot(111, autoscale_on=False,\n"
     ]
    },
    {
     "name": "stdout",
     "output_type": "stream",
     "text": [
      "24\n",
      "The interpolation points are stored in the variable \"EF_target_pos\": \n",
      "[[ 19.89949494   9.89949494]\n",
      " [ 16.           6.83427944]\n",
      " [  8.          -5.75012611]\n",
      " [ -8.         -13.61190872]\n",
      " [-16.           1.37515272]]\n",
      "The intermediate points are stored in the variable \"interpolated_points\"\n",
      "[0 1 1]\n",
      "[54 57 56]\n"
     ]
    },
    {
     "name": "stderr",
     "output_type": "stream",
     "text": [
      "<ipython-input-3-d5f98cda02b0>:29: MatplotlibDeprecationWarning: Adding an axes using the same arguments as a previous axes currently reuses the earlier instance.  In a future version, a new instance will always be created and returned.  Meanwhile, this warning can be suppressed, and the future behavior ensured, by passing a unique label to each axes instance.\n",
      "  ax = fig.add_subplot(111, autoscale_on=False,\n"
     ]
    },
    {
     "name": "stdout",
     "output_type": "stream",
     "text": [
      "17\n",
      "The interpolation points are stored in the variable \"EF_target_pos\": \n",
      "[[ 14.94974747   4.94974747]\n",
      " [ 11.33333333  -3.31478538]\n",
      " [  5.66666667   7.70427033]\n",
      " [ -5.66666667  11.22164692]\n",
      " [-11.33333333   2.23505677]]\n",
      "The intermediate points are stored in the variable \"interpolated_points\"\n",
      "[0 1 0]\n",
      "[39 44 52]\n"
     ]
    },
    {
     "name": "stderr",
     "output_type": "stream",
     "text": [
      "<ipython-input-3-d5f98cda02b0>:29: MatplotlibDeprecationWarning: Adding an axes using the same arguments as a previous axes currently reuses the earlier instance.  In a future version, a new instance will always be created and returned.  Meanwhile, this warning can be suppressed, and the future behavior ensured, by passing a unique label to each axes instance.\n",
      "  ax = fig.add_subplot(111, autoscale_on=False,\n"
     ]
    },
    {
     "name": "stdout",
     "output_type": "stream",
     "text": [
      "18\n",
      "The interpolation points are stored in the variable \"EF_target_pos\": \n",
      "[[ 15.94974747   4.94974747]\n",
      " [ 12.          -4.83931586]\n",
      " [  6.           1.14420804]\n",
      " [ -6.           0.52736852]\n",
      " [-12.           1.10494075]]\n",
      "The intermediate points are stored in the variable \"interpolated_points\"\n",
      "[1 0 1]\n",
      "[45 20 19]\n"
     ]
    },
    {
     "name": "stderr",
     "output_type": "stream",
     "text": [
      "<ipython-input-3-d5f98cda02b0>:29: MatplotlibDeprecationWarning: Adding an axes using the same arguments as a previous axes currently reuses the earlier instance.  In a future version, a new instance will always be created and returned.  Meanwhile, this warning can be suppressed, and the future behavior ensured, by passing a unique label to each axes instance.\n",
      "  ax = fig.add_subplot(111, autoscale_on=False,\n"
     ]
    },
    {
     "name": "stdout",
     "output_type": "stream",
     "text": [
      "18\n",
      "The interpolation points are stored in the variable \"EF_target_pos\": \n",
      "[[ 15.36396103   6.36396103]\n",
      " [ 12.           1.70607329]\n",
      " [  6.          -9.08901487]\n",
      " [ -6.          -4.95359902]\n",
      " [-12.           0.89364318]]\n",
      "The intermediate points are stored in the variable \"interpolated_points\"\n",
      "[1 0 0]\n",
      "[53 59 54]\n"
     ]
    },
    {
     "name": "stderr",
     "output_type": "stream",
     "text": [
      "<ipython-input-3-d5f98cda02b0>:29: MatplotlibDeprecationWarning: Adding an axes using the same arguments as a previous axes currently reuses the earlier instance.  In a future version, a new instance will always be created and returned.  Meanwhile, this warning can be suppressed, and the future behavior ensured, by passing a unique label to each axes instance.\n",
      "  ax = fig.add_subplot(111, autoscale_on=False,\n"
     ]
    },
    {
     "name": "stdout",
     "output_type": "stream",
     "text": [
      "22\n",
      "The interpolation points are stored in the variable \"EF_target_pos\": \n",
      "[[ 17.89949494   9.89949494]\n",
      " [ 14.66666667  -3.92457166]\n",
      " [  7.33333333   8.88915534]\n",
      " [ -7.33333333 -10.11873694]\n",
      " [-14.66666667  -4.76731919]]\n",
      "The intermediate points are stored in the variable \"interpolated_points\"\n",
      "[1 1 1]\n",
      "[25 34 42]\n"
     ]
    },
    {
     "name": "stderr",
     "output_type": "stream",
     "text": [
      "<ipython-input-3-d5f98cda02b0>:29: MatplotlibDeprecationWarning: Adding an axes using the same arguments as a previous axes currently reuses the earlier instance.  In a future version, a new instance will always be created and returned.  Meanwhile, this warning can be suppressed, and the future behavior ensured, by passing a unique label to each axes instance.\n",
      "  ax = fig.add_subplot(111, autoscale_on=False,\n"
     ]
    },
    {
     "name": "stdout",
     "output_type": "stream",
     "text": [
      "13\n",
      "The interpolation points are stored in the variable \"EF_target_pos\": \n",
      "[[10.94974747  4.94974747]\n",
      " [ 8.66666667  1.89824026]\n",
      " [ 4.33333333 -3.13559094]\n",
      " [-4.33333333 -2.77158378]\n",
      " [-8.66666667  2.39856186]]\n",
      "The intermediate points are stored in the variable \"interpolated_points\"\n",
      "[0 0 1]\n",
      "[44 20 26]\n"
     ]
    },
    {
     "name": "stderr",
     "output_type": "stream",
     "text": [
      "<ipython-input-3-d5f98cda02b0>:29: MatplotlibDeprecationWarning: Adding an axes using the same arguments as a previous axes currently reuses the earlier instance.  In a future version, a new instance will always be created and returned.  Meanwhile, this warning can be suppressed, and the future behavior ensured, by passing a unique label to each axes instance.\n",
      "  ax = fig.add_subplot(111, autoscale_on=False,\n"
     ]
    },
    {
     "name": "stdout",
     "output_type": "stream",
     "text": [
      "23\n",
      "The interpolation points are stored in the variable \"EF_target_pos\": \n",
      "[[ 20.36396103   6.36396103]\n",
      " [ 15.33333333  -1.70844281]\n",
      " [  7.66666667 -11.0132184 ]\n",
      " [ -7.66666667   5.83413719]\n",
      " [-15.33333333  -7.88092118]]\n",
      "The intermediate points are stored in the variable \"interpolated_points\"\n",
      "[0 1 0]\n",
      "[57 15 56]\n"
     ]
    },
    {
     "name": "stderr",
     "output_type": "stream",
     "text": [
      "<ipython-input-3-d5f98cda02b0>:29: MatplotlibDeprecationWarning: Adding an axes using the same arguments as a previous axes currently reuses the earlier instance.  In a future version, a new instance will always be created and returned.  Meanwhile, this warning can be suppressed, and the future behavior ensured, by passing a unique label to each axes instance.\n",
      "  ax = fig.add_subplot(111, autoscale_on=False,\n"
     ]
    },
    {
     "name": "stdout",
     "output_type": "stream",
     "text": [
      "18\n",
      "The interpolation points are stored in the variable \"EF_target_pos\": \n",
      "[[ 15.36396103   6.36396103]\n",
      " [ 12.          -0.76185314]\n",
      " [  6.          -3.98023432]\n",
      " [ -6.          -2.84319668]\n",
      " [-12.           5.82062037]]\n",
      "The intermediate points are stored in the variable \"interpolated_points\"\n",
      "[0 0 0]\n",
      "[51 34 35]\n"
     ]
    },
    {
     "name": "stderr",
     "output_type": "stream",
     "text": [
      "<ipython-input-3-d5f98cda02b0>:29: MatplotlibDeprecationWarning: Adding an axes using the same arguments as a previous axes currently reuses the earlier instance.  In a future version, a new instance will always be created and returned.  Meanwhile, this warning can be suppressed, and the future behavior ensured, by passing a unique label to each axes instance.\n",
      "  ax = fig.add_subplot(111, autoscale_on=False,\n"
     ]
    },
    {
     "name": "stdout",
     "output_type": "stream",
     "text": [
      "21\n",
      "The interpolation points are stored in the variable \"EF_target_pos\": \n",
      "[[ 18.07106781   7.07106781]\n",
      " [ 14.          -6.23818485]\n",
      " [  7.          -2.71331186]\n",
      " [ -7.          10.35170848]\n",
      " [-14.           0.61115154]]\n",
      "The intermediate points are stored in the variable \"interpolated_points\"\n",
      "[1 0 1]\n",
      "[23 18 32]\n"
     ]
    },
    {
     "name": "stderr",
     "output_type": "stream",
     "text": [
      "<ipython-input-3-d5f98cda02b0>:29: MatplotlibDeprecationWarning: Adding an axes using the same arguments as a previous axes currently reuses the earlier instance.  In a future version, a new instance will always be created and returned.  Meanwhile, this warning can be suppressed, and the future behavior ensured, by passing a unique label to each axes instance.\n",
      "  ax = fig.add_subplot(111, autoscale_on=False,\n"
     ]
    },
    {
     "name": "stdout",
     "output_type": "stream",
     "text": [
      "21\n",
      "The interpolation points are stored in the variable \"EF_target_pos\": \n",
      "[[ 18.36396103   6.36396103]\n",
      " [ 14.           2.41099106]\n",
      " [  7.          -0.22232786]\n",
      " [ -7.           1.9642385 ]\n",
      " [-14.          -5.14837707]]\n",
      "The intermediate points are stored in the variable \"interpolated_points\"\n",
      "[0 1 0]\n",
      "[57 16 39]\n"
     ]
    },
    {
     "name": "stderr",
     "output_type": "stream",
     "text": [
      "<ipython-input-3-d5f98cda02b0>:29: MatplotlibDeprecationWarning: Adding an axes using the same arguments as a previous axes currently reuses the earlier instance.  In a future version, a new instance will always be created and returned.  Meanwhile, this warning can be suppressed, and the future behavior ensured, by passing a unique label to each axes instance.\n",
      "  ax = fig.add_subplot(111, autoscale_on=False,\n"
     ]
    },
    {
     "name": "stdout",
     "output_type": "stream",
     "text": [
      "18\n",
      "The interpolation points are stored in the variable \"EF_target_pos\": \n",
      "[[ 15.94974747   4.94974747]\n",
      " [ 12.           2.71210315]\n",
      " [  6.          -0.3045165 ]\n",
      " [ -6.          -2.45118855]\n",
      " [-12.          -2.91471544]]\n",
      "The intermediate points are stored in the variable \"interpolated_points\"\n",
      "[1 1 0]\n",
      "[51 56 30]\n"
     ]
    },
    {
     "name": "stderr",
     "output_type": "stream",
     "text": [
      "<ipython-input-3-d5f98cda02b0>:29: MatplotlibDeprecationWarning: Adding an axes using the same arguments as a previous axes currently reuses the earlier instance.  In a future version, a new instance will always be created and returned.  Meanwhile, this warning can be suppressed, and the future behavior ensured, by passing a unique label to each axes instance.\n",
      "  ax = fig.add_subplot(111, autoscale_on=False,\n"
     ]
    },
    {
     "name": "stdout",
     "output_type": "stream",
     "text": [
      "19\n",
      "The interpolation points are stored in the variable \"EF_target_pos\": \n",
      "[[ 15.77817459   7.77817459]\n",
      " [ 12.66666667  -1.47443754]\n",
      " [  6.33333333  -8.13749049]\n",
      " [ -6.33333333  -3.20116882]\n",
      " [-12.66666667  -4.2527203 ]]\n",
      "The intermediate points are stored in the variable \"interpolated_points\"\n",
      "[0 1 1]\n",
      "[17 49 17]\n"
     ]
    },
    {
     "name": "stderr",
     "output_type": "stream",
     "text": [
      "<ipython-input-3-d5f98cda02b0>:29: MatplotlibDeprecationWarning: Adding an axes using the same arguments as a previous axes currently reuses the earlier instance.  In a future version, a new instance will always be created and returned.  Meanwhile, this warning can be suppressed, and the future behavior ensured, by passing a unique label to each axes instance.\n",
      "  ax = fig.add_subplot(111, autoscale_on=False,\n"
     ]
    },
    {
     "name": "stdout",
     "output_type": "stream",
     "text": [
      "22\n",
      "The interpolation points are stored in the variable \"EF_target_pos\": \n",
      "[[ 19.07106781   7.07106781]\n",
      " [ 14.66666667   7.47807485]\n",
      " [  7.33333333  -8.73782324]\n",
      " [ -7.33333333  -9.80017929]\n",
      " [-14.66666667   2.08440865]]\n",
      "The intermediate points are stored in the variable \"interpolated_points\"\n",
      "[1 0 1]\n",
      "[16 50 37]\n"
     ]
    },
    {
     "name": "stderr",
     "output_type": "stream",
     "text": [
      "<ipython-input-3-d5f98cda02b0>:29: MatplotlibDeprecationWarning: Adding an axes using the same arguments as a previous axes currently reuses the earlier instance.  In a future version, a new instance will always be created and returned.  Meanwhile, this warning can be suppressed, and the future behavior ensured, by passing a unique label to each axes instance.\n",
      "  ax = fig.add_subplot(111, autoscale_on=False,\n"
     ]
    },
    {
     "name": "stdout",
     "output_type": "stream",
     "text": [
      "17\n",
      "The interpolation points are stored in the variable \"EF_target_pos\": \n",
      "[[ 15.24264069   4.24264069]\n",
      " [ 11.33333333  -3.10044531]\n",
      " [  5.66666667  -2.97902424]\n",
      " [ -5.66666667  -2.25435274]\n",
      " [-11.33333333   5.78909767]]\n",
      "The intermediate points are stored in the variable \"interpolated_points\"\n",
      "[0 0 0]\n",
      "[20 51 31]\n"
     ]
    },
    {
     "name": "stderr",
     "output_type": "stream",
     "text": [
      "<ipython-input-3-d5f98cda02b0>:29: MatplotlibDeprecationWarning: Adding an axes using the same arguments as a previous axes currently reuses the earlier instance.  In a future version, a new instance will always be created and returned.  Meanwhile, this warning can be suppressed, and the future behavior ensured, by passing a unique label to each axes instance.\n",
      "  ax = fig.add_subplot(111, autoscale_on=False,\n"
     ]
    },
    {
     "name": "stdout",
     "output_type": "stream",
     "text": [
      "20\n",
      "The interpolation points are stored in the variable \"EF_target_pos\": \n",
      "[[ 17.65685425   5.65685425]\n",
      " [ 13.33333333   4.75659332]\n",
      " [  6.66666667  -8.53127743]\n",
      " [ -6.66666667 -11.57787476]\n",
      " [-13.33333333  -0.22928183]]\n",
      "The intermediate points are stored in the variable \"interpolated_points\"\n",
      "[0 1 0]\n",
      "[26 53 38]\n"
     ]
    },
    {
     "name": "stderr",
     "output_type": "stream",
     "text": [
      "<ipython-input-3-d5f98cda02b0>:29: MatplotlibDeprecationWarning: Adding an axes using the same arguments as a previous axes currently reuses the earlier instance.  In a future version, a new instance will always be created and returned.  Meanwhile, this warning can be suppressed, and the future behavior ensured, by passing a unique label to each axes instance.\n",
      "  ax = fig.add_subplot(111, autoscale_on=False,\n"
     ]
    },
    {
     "name": "stdout",
     "output_type": "stream",
     "text": [
      "20\n",
      "The interpolation points are stored in the variable \"EF_target_pos\": \n",
      "[[ 16.19238816   9.19238816]\n",
      " [ 13.33333333   3.37968402]\n",
      " [  6.66666667  -9.13508389]\n",
      " [ -6.66666667   0.52863876]\n",
      " [-13.33333333   4.52573244]]\n",
      "The intermediate points are stored in the variable \"interpolated_points\"\n",
      "[1 1 1]\n",
      "[59 48 30]\n"
     ]
    },
    {
     "name": "stderr",
     "output_type": "stream",
     "text": [
      "<ipython-input-3-d5f98cda02b0>:29: MatplotlibDeprecationWarning: Adding an axes using the same arguments as a previous axes currently reuses the earlier instance.  In a future version, a new instance will always be created and returned.  Meanwhile, this warning can be suppressed, and the future behavior ensured, by passing a unique label to each axes instance.\n",
      "  ax = fig.add_subplot(111, autoscale_on=False,\n"
     ]
    },
    {
     "name": "stdout",
     "output_type": "stream",
     "text": [
      "17\n",
      "The interpolation points are stored in the variable \"EF_target_pos\": \n",
      "[[ 13.48528137   8.48528137]\n",
      " [ 11.33333333  -1.61684288]\n",
      " [  5.66666667  -3.36101395]\n",
      " [ -5.66666667  -6.30991474]\n",
      " [-11.33333333   4.22175503]]\n",
      "The intermediate points are stored in the variable \"interpolated_points\"\n",
      "[0 1 0]\n",
      "[17 42 28]\n"
     ]
    },
    {
     "name": "stderr",
     "output_type": "stream",
     "text": [
      "<ipython-input-3-d5f98cda02b0>:29: MatplotlibDeprecationWarning: Adding an axes using the same arguments as a previous axes currently reuses the earlier instance.  In a future version, a new instance will always be created and returned.  Meanwhile, this warning can be suppressed, and the future behavior ensured, by passing a unique label to each axes instance.\n",
      "  ax = fig.add_subplot(111, autoscale_on=False,\n"
     ]
    },
    {
     "name": "stdout",
     "output_type": "stream",
     "text": [
      "20\n",
      "The interpolation points are stored in the variable \"EF_target_pos\": \n",
      "[[ 17.07106781   7.07106781]\n",
      " [ 13.33333333   5.33858229]\n",
      " [  6.66666667 -13.12494593]\n",
      " [ -6.66666667  10.89748463]\n",
      " [-13.33333333  -1.97572519]]\n",
      "The intermediate points are stored in the variable \"interpolated_points\"\n",
      "[1 0 1]\n",
      "[32 50 40]\n"
     ]
    },
    {
     "name": "stderr",
     "output_type": "stream",
     "text": [
      "<ipython-input-3-d5f98cda02b0>:29: MatplotlibDeprecationWarning: Adding an axes using the same arguments as a previous axes currently reuses the earlier instance.  In a future version, a new instance will always be created and returned.  Meanwhile, this warning can be suppressed, and the future behavior ensured, by passing a unique label to each axes instance.\n",
      "  ax = fig.add_subplot(111, autoscale_on=False,\n"
     ]
    },
    {
     "name": "stdout",
     "output_type": "stream",
     "text": [
      "11\n",
      "The interpolation points are stored in the variable \"EF_target_pos\": \n",
      "[[ 9.82842712  2.82842712]\n",
      " [ 7.33333333 -2.20850966]\n",
      " [ 3.66666667  5.42719048]\n",
      " [-3.66666667 -3.4907955 ]\n",
      " [-7.33333333  2.94091045]]\n",
      "The intermediate points are stored in the variable \"interpolated_points\"\n",
      "[0 1 1]\n",
      "[15 51 30]\n"
     ]
    },
    {
     "name": "stderr",
     "output_type": "stream",
     "text": [
      "<ipython-input-3-d5f98cda02b0>:29: MatplotlibDeprecationWarning: Adding an axes using the same arguments as a previous axes currently reuses the earlier instance.  In a future version, a new instance will always be created and returned.  Meanwhile, this warning can be suppressed, and the future behavior ensured, by passing a unique label to each axes instance.\n",
      "  ax = fig.add_subplot(111, autoscale_on=False,\n"
     ]
    },
    {
     "name": "stdout",
     "output_type": "stream",
     "text": [
      "18\n",
      "The interpolation points are stored in the variable \"EF_target_pos\": \n",
      "[[ 15.65685425   5.65685425]\n",
      " [ 12.          -4.77281332]\n",
      " [  6.          -3.1377641 ]\n",
      " [ -6.          12.05295321]\n",
      " [-12.           1.32277679]]\n",
      "The intermediate points are stored in the variable \"interpolated_points\"\n",
      "[0 0 0]\n",
      "[47 38 27]\n"
     ]
    },
    {
     "name": "stderr",
     "output_type": "stream",
     "text": [
      "<ipython-input-3-d5f98cda02b0>:29: MatplotlibDeprecationWarning: Adding an axes using the same arguments as a previous axes currently reuses the earlier instance.  In a future version, a new instance will always be created and returned.  Meanwhile, this warning can be suppressed, and the future behavior ensured, by passing a unique label to each axes instance.\n",
      "  ax = fig.add_subplot(111, autoscale_on=False,\n"
     ]
    },
    {
     "name": "stdout",
     "output_type": "stream",
     "text": [
      "21\n",
      "The interpolation points are stored in the variable \"EF_target_pos\": \n",
      "[[ 18.07106781   7.07106781]\n",
      " [ 14.          -0.76167354]\n",
      " [  7.           6.14136065]\n",
      " [ -7.           7.33533045]\n",
      " [-14.           2.48725369]]\n",
      "The intermediate points are stored in the variable \"interpolated_points\"\n",
      "[0 1 1]\n",
      "[39 43 56]\n"
     ]
    },
    {
     "name": "stderr",
     "output_type": "stream",
     "text": [
      "<ipython-input-3-d5f98cda02b0>:29: MatplotlibDeprecationWarning: Adding an axes using the same arguments as a previous axes currently reuses the earlier instance.  In a future version, a new instance will always be created and returned.  Meanwhile, this warning can be suppressed, and the future behavior ensured, by passing a unique label to each axes instance.\n",
      "  ax = fig.add_subplot(111, autoscale_on=False,\n"
     ]
    },
    {
     "name": "stdout",
     "output_type": "stream",
     "text": [
      "21\n",
      "The interpolation points are stored in the variable \"EF_target_pos\": \n",
      "[[ 18.36396103   6.36396103]\n",
      " [ 14.           0.13552473]\n",
      " [  7.           6.38692085]\n",
      " [ -7.          13.566088  ]\n",
      " [-14.           1.39816049]]\n",
      "The intermediate points are stored in the variable \"interpolated_points\"\n",
      "[1 0 0]\n",
      "[35 19 41]\n"
     ]
    },
    {
     "name": "stderr",
     "output_type": "stream",
     "text": [
      "<ipython-input-3-d5f98cda02b0>:29: MatplotlibDeprecationWarning: Adding an axes using the same arguments as a previous axes currently reuses the earlier instance.  In a future version, a new instance will always be created and returned.  Meanwhile, this warning can be suppressed, and the future behavior ensured, by passing a unique label to each axes instance.\n",
      "  ax = fig.add_subplot(111, autoscale_on=False,\n"
     ]
    },
    {
     "name": "stdout",
     "output_type": "stream",
     "text": [
      "13\n",
      "The interpolation points are stored in the variable \"EF_target_pos\": \n",
      "[[10.36396103  6.36396103]\n",
      " [ 8.66666667 -0.23439457]\n",
      " [ 4.33333333  6.99266132]\n",
      " [-4.33333333  2.01135676]\n",
      " [-8.66666667 -1.70611686]]\n",
      "The intermediate points are stored in the variable \"interpolated_points\"\n",
      "[0 0 0]\n",
      "[38 21 30]\n"
     ]
    },
    {
     "name": "stderr",
     "output_type": "stream",
     "text": [
      "<ipython-input-3-d5f98cda02b0>:29: MatplotlibDeprecationWarning: Adding an axes using the same arguments as a previous axes currently reuses the earlier instance.  In a future version, a new instance will always be created and returned.  Meanwhile, this warning can be suppressed, and the future behavior ensured, by passing a unique label to each axes instance.\n",
      "  ax = fig.add_subplot(111, autoscale_on=False,\n"
     ]
    },
    {
     "name": "stdout",
     "output_type": "stream",
     "text": [
      "16\n",
      "The interpolation points are stored in the variable \"EF_target_pos\": \n",
      "[[ 14.24264069   4.24264069]\n",
      " [ 10.66666667   4.6572421 ]\n",
      " [  5.33333333  -5.03462936]\n",
      " [ -5.33333333  -3.99123312]\n",
      " [-10.66666667  -3.78108412]]\n",
      "The intermediate points are stored in the variable \"interpolated_points\"\n",
      "[0 0 0]\n",
      "[49 16 18]\n"
     ]
    },
    {
     "name": "stderr",
     "output_type": "stream",
     "text": [
      "<ipython-input-3-d5f98cda02b0>:29: MatplotlibDeprecationWarning: Adding an axes using the same arguments as a previous axes currently reuses the earlier instance.  In a future version, a new instance will always be created and returned.  Meanwhile, this warning can be suppressed, and the future behavior ensured, by passing a unique label to each axes instance.\n",
      "  ax = fig.add_subplot(111, autoscale_on=False,\n"
     ]
    },
    {
     "name": "stdout",
     "output_type": "stream",
     "text": [
      "26\n",
      "The interpolation points are stored in the variable \"EF_target_pos\": \n",
      "[[ 22.48528137   8.48528137]\n",
      " [ 17.33333333   2.27034886]\n",
      " [  8.66666667 -15.58088073]\n",
      " [ -8.66666667  -0.97566926]\n",
      " [-17.33333333  -0.62040168]]\n",
      "The intermediate points are stored in the variable \"interpolated_points\"\n",
      "[0 0 0]\n",
      "[23 25 36]\n"
     ]
    },
    {
     "name": "stderr",
     "output_type": "stream",
     "text": [
      "<ipython-input-3-d5f98cda02b0>:29: MatplotlibDeprecationWarning: Adding an axes using the same arguments as a previous axes currently reuses the earlier instance.  In a future version, a new instance will always be created and returned.  Meanwhile, this warning can be suppressed, and the future behavior ensured, by passing a unique label to each axes instance.\n",
      "  ax = fig.add_subplot(111, autoscale_on=False,\n"
     ]
    },
    {
     "name": "stdout",
     "output_type": "stream",
     "text": [
      "18\n",
      "The interpolation points are stored in the variable \"EF_target_pos\": \n",
      "[[ 15.07106781   7.07106781]\n",
      " [ 12.           3.06713692]\n",
      " [  6.           3.14344458]\n",
      " [ -6.           9.68406859]\n",
      " [-12.           3.04076303]]\n",
      "The intermediate points are stored in the variable \"interpolated_points\"\n",
      "[1 0 0]\n",
      "[59 41 31]\n"
     ]
    },
    {
     "name": "stderr",
     "output_type": "stream",
     "text": [
      "<ipython-input-3-d5f98cda02b0>:29: MatplotlibDeprecationWarning: Adding an axes using the same arguments as a previous axes currently reuses the earlier instance.  In a future version, a new instance will always be created and returned.  Meanwhile, this warning can be suppressed, and the future behavior ensured, by passing a unique label to each axes instance.\n",
      "  ax = fig.add_subplot(111, autoscale_on=False,\n"
     ]
    },
    {
     "name": "stdout",
     "output_type": "stream",
     "text": [
      "21\n",
      "The interpolation points are stored in the variable \"EF_target_pos\": \n",
      "[[ 17.19238816   9.19238816]\n",
      " [ 14.          -4.10122253]\n",
      " [  7.          -3.4892336 ]\n",
      " [ -7.           4.53538585]\n",
      " [-14.          -3.1980435 ]]\n",
      "The intermediate points are stored in the variable \"interpolated_points\"\n",
      "[0 1 1]\n",
      "[18 57 21]\n"
     ]
    },
    {
     "name": "stderr",
     "output_type": "stream",
     "text": [
      "<ipython-input-3-d5f98cda02b0>:29: MatplotlibDeprecationWarning: Adding an axes using the same arguments as a previous axes currently reuses the earlier instance.  In a future version, a new instance will always be created and returned.  Meanwhile, this warning can be suppressed, and the future behavior ensured, by passing a unique label to each axes instance.\n",
      "  ax = fig.add_subplot(111, autoscale_on=False,\n"
     ]
    },
    {
     "name": "stdout",
     "output_type": "stream",
     "text": [
      "24\n",
      "The interpolation points are stored in the variable \"EF_target_pos\": \n",
      "[[ 20.77817459   7.77817459]\n",
      " [ 16.           7.29917907]\n",
      " [  8.           6.79921084]\n",
      " [ -8.          -7.90946867]\n",
      " [-16.          -1.12888343]]\n",
      "The intermediate points are stored in the variable \"interpolated_points\"\n",
      "[0 1 1]\n",
      "[39 34 41]\n"
     ]
    },
    {
     "name": "stderr",
     "output_type": "stream",
     "text": [
      "<ipython-input-3-d5f98cda02b0>:29: MatplotlibDeprecationWarning: Adding an axes using the same arguments as a previous axes currently reuses the earlier instance.  In a future version, a new instance will always be created and returned.  Meanwhile, this warning can be suppressed, and the future behavior ensured, by passing a unique label to each axes instance.\n",
      "  ax = fig.add_subplot(111, autoscale_on=False,\n"
     ]
    },
    {
     "name": "stdout",
     "output_type": "stream",
     "text": [
      "21\n",
      "The interpolation points are stored in the variable \"EF_target_pos\": \n",
      "[[ 18.07106781   7.07106781]\n",
      " [ 14.           4.04974977]\n",
      " [  7.          -1.4761904 ]\n",
      " [ -7.          -0.93420728]\n",
      " [-14.           3.53596698]]\n",
      "The intermediate points are stored in the variable \"interpolated_points\"\n",
      "[0 1 1]\n",
      "[15 42 39]\n"
     ]
    },
    {
     "name": "stderr",
     "output_type": "stream",
     "text": [
      "<ipython-input-3-d5f98cda02b0>:29: MatplotlibDeprecationWarning: Adding an axes using the same arguments as a previous axes currently reuses the earlier instance.  In a future version, a new instance will always be created and returned.  Meanwhile, this warning can be suppressed, and the future behavior ensured, by passing a unique label to each axes instance.\n",
      "  ax = fig.add_subplot(111, autoscale_on=False,\n"
     ]
    },
    {
     "name": "stdout",
     "output_type": "stream",
     "text": [
      "17\n",
      "The interpolation points are stored in the variable \"EF_target_pos\": \n",
      "[[ 14.36396103   6.36396103]\n",
      " [ 11.33333333  -1.37661611]\n",
      " [  5.66666667 -10.37218073]\n",
      " [ -5.66666667   7.93522482]\n",
      " [-11.33333333  -3.81475433]]\n",
      "The intermediate points are stored in the variable \"interpolated_points\"\n",
      "[1 0 0]\n",
      "[17 44 37]\n"
     ]
    },
    {
     "name": "stderr",
     "output_type": "stream",
     "text": [
      "<ipython-input-3-d5f98cda02b0>:29: MatplotlibDeprecationWarning: Adding an axes using the same arguments as a previous axes currently reuses the earlier instance.  In a future version, a new instance will always be created and returned.  Meanwhile, this warning can be suppressed, and the future behavior ensured, by passing a unique label to each axes instance.\n",
      "  ax = fig.add_subplot(111, autoscale_on=False,\n"
     ]
    },
    {
     "name": "stdout",
     "output_type": "stream",
     "text": [
      "15\n",
      "The interpolation points are stored in the variable \"EF_target_pos\": \n",
      "[[ 12.36396103   6.36396103]\n",
      " [ 10.           3.30243568]\n",
      " [  5.          -4.2127061 ]\n",
      " [ -5.           9.1929473 ]\n",
      " [-10.          -1.57976449]]\n",
      "The intermediate points are stored in the variable \"interpolated_points\"\n",
      "[1 1 1]\n",
      "[30 49 23]\n"
     ]
    },
    {
     "name": "stderr",
     "output_type": "stream",
     "text": [
      "<ipython-input-3-d5f98cda02b0>:29: MatplotlibDeprecationWarning: Adding an axes using the same arguments as a previous axes currently reuses the earlier instance.  In a future version, a new instance will always be created and returned.  Meanwhile, this warning can be suppressed, and the future behavior ensured, by passing a unique label to each axes instance.\n",
      "  ax = fig.add_subplot(111, autoscale_on=False,\n"
     ]
    },
    {
     "name": "stdout",
     "output_type": "stream",
     "text": [
      "20\n",
      "The interpolation points are stored in the variable \"EF_target_pos\": \n",
      "[[ 17.36396103   6.36396103]\n",
      " [ 13.33333333   3.07397464]\n",
      " [  6.66666667   9.57464052]\n",
      " [ -6.66666667  11.4003082 ]\n",
      " [-13.33333333  -0.70980747]]\n",
      "The intermediate points are stored in the variable \"interpolated_points\"\n",
      "[0 1 1]\n",
      "[47 46 21]\n"
     ]
    },
    {
     "name": "stderr",
     "output_type": "stream",
     "text": [
      "<ipython-input-3-d5f98cda02b0>:29: MatplotlibDeprecationWarning: Adding an axes using the same arguments as a previous axes currently reuses the earlier instance.  In a future version, a new instance will always be created and returned.  Meanwhile, this warning can be suppressed, and the future behavior ensured, by passing a unique label to each axes instance.\n",
      "  ax = fig.add_subplot(111, autoscale_on=False,\n"
     ]
    },
    {
     "name": "stdout",
     "output_type": "stream",
     "text": [
      "23\n",
      "The interpolation points are stored in the variable \"EF_target_pos\": \n",
      "[[ 18.89949494   9.89949494]\n",
      " [ 15.33333333   0.89311595]\n",
      " [  7.66666667   8.15420164]\n",
      " [ -7.66666667   1.00707277]\n",
      " [-15.33333333   6.6686497 ]]\n",
      "The intermediate points are stored in the variable \"interpolated_points\"\n",
      "[1 1 1]\n",
      "[39 21 50]\n"
     ]
    },
    {
     "name": "stderr",
     "output_type": "stream",
     "text": [
      "<ipython-input-3-d5f98cda02b0>:29: MatplotlibDeprecationWarning: Adding an axes using the same arguments as a previous axes currently reuses the earlier instance.  In a future version, a new instance will always be created and returned.  Meanwhile, this warning can be suppressed, and the future behavior ensured, by passing a unique label to each axes instance.\n",
      "  ax = fig.add_subplot(111, autoscale_on=False,\n"
     ]
    },
    {
     "name": "stdout",
     "output_type": "stream",
     "text": [
      "23\n",
      "The interpolation points are stored in the variable \"EF_target_pos\": \n",
      "[[ 19.77817459   7.77817459]\n",
      " [ 15.33333333  -4.69425213]\n",
      " [  7.66666667 -10.840076  ]\n",
      " [ -7.66666667  -3.4538054 ]\n",
      " [-15.33333333  -3.41554271]]\n",
      "The intermediate points are stored in the variable \"interpolated_points\"\n",
      "[0 0 1]\n",
      "[41 36 44]\n"
     ]
    },
    {
     "name": "stderr",
     "output_type": "stream",
     "text": [
      "<ipython-input-3-d5f98cda02b0>:29: MatplotlibDeprecationWarning: Adding an axes using the same arguments as a previous axes currently reuses the earlier instance.  In a future version, a new instance will always be created and returned.  Meanwhile, this warning can be suppressed, and the future behavior ensured, by passing a unique label to each axes instance.\n",
      "  ax = fig.add_subplot(111, autoscale_on=False,\n"
     ]
    },
    {
     "name": "stdout",
     "output_type": "stream",
     "text": [
      "16\n",
      "The interpolation points are stored in the variable \"EF_target_pos\": \n",
      "[[ 13.94974747   4.94974747]\n",
      " [ 10.66666667  -1.89477632]\n",
      " [  5.33333333  -8.69426468]\n",
      " [ -5.33333333   8.31168252]\n",
      " [-10.66666667  -0.18659613]]\n",
      "The intermediate points are stored in the variable \"interpolated_points\"\n",
      "[1 1 1]\n",
      "[20 38 47]\n"
     ]
    },
    {
     "name": "stderr",
     "output_type": "stream",
     "text": [
      "<ipython-input-3-d5f98cda02b0>:29: MatplotlibDeprecationWarning: Adding an axes using the same arguments as a previous axes currently reuses the earlier instance.  In a future version, a new instance will always be created and returned.  Meanwhile, this warning can be suppressed, and the future behavior ensured, by passing a unique label to each axes instance.\n",
      "  ax = fig.add_subplot(111, autoscale_on=False,\n"
     ]
    },
    {
     "name": "stdout",
     "output_type": "stream",
     "text": [
      "16\n",
      "The interpolation points are stored in the variable \"EF_target_pos\": \n",
      "[[ 13.65685425   5.65685425]\n",
      " [ 10.66666667   4.81166686]\n",
      " [  5.33333333 -10.04191367]\n",
      " [ -5.33333333   8.03698635]\n",
      " [-10.66666667   4.29057107]]\n",
      "The intermediate points are stored in the variable \"interpolated_points\"\n",
      "[1 0 0]\n",
      "[31 51 21]\n"
     ]
    },
    {
     "name": "stderr",
     "output_type": "stream",
     "text": [
      "<ipython-input-3-d5f98cda02b0>:29: MatplotlibDeprecationWarning: Adding an axes using the same arguments as a previous axes currently reuses the earlier instance.  In a future version, a new instance will always be created and returned.  Meanwhile, this warning can be suppressed, and the future behavior ensured, by passing a unique label to each axes instance.\n",
      "  ax = fig.add_subplot(111, autoscale_on=False,\n"
     ]
    },
    {
     "name": "stdout",
     "output_type": "stream",
     "text": [
      "20\n",
      "The interpolation points are stored in the variable \"EF_target_pos\": \n",
      "[[ 17.07106781   7.07106781]\n",
      " [ 13.33333333   6.01548388]\n",
      " [  6.66666667  -8.30891069]\n",
      " [ -6.66666667   0.6228361 ]\n",
      " [-13.33333333   2.57885524]]\n",
      "The intermediate points are stored in the variable \"interpolated_points\"\n",
      "[0 0 1]\n",
      "[57 37 19]\n"
     ]
    },
    {
     "name": "stderr",
     "output_type": "stream",
     "text": [
      "<ipython-input-3-d5f98cda02b0>:29: MatplotlibDeprecationWarning: Adding an axes using the same arguments as a previous axes currently reuses the earlier instance.  In a future version, a new instance will always be created and returned.  Meanwhile, this warning can be suppressed, and the future behavior ensured, by passing a unique label to each axes instance.\n",
      "  ax = fig.add_subplot(111, autoscale_on=False,\n"
     ]
    },
    {
     "name": "stdout",
     "output_type": "stream",
     "text": [
      "14\n",
      "The interpolation points are stored in the variable \"EF_target_pos\": \n",
      "[[12.53553391  3.53553391]\n",
      " [ 9.33333333  0.56694221]\n",
      " [ 4.66666667 -1.58538584]\n",
      " [-4.66666667  4.40755135]\n",
      " [-9.33333333  1.20009464]]\n",
      "The intermediate points are stored in the variable \"interpolated_points\"\n",
      "[0 0 0]\n",
      "[57 32 37]\n"
     ]
    },
    {
     "name": "stderr",
     "output_type": "stream",
     "text": [
      "<ipython-input-3-d5f98cda02b0>:29: MatplotlibDeprecationWarning: Adding an axes using the same arguments as a previous axes currently reuses the earlier instance.  In a future version, a new instance will always be created and returned.  Meanwhile, this warning can be suppressed, and the future behavior ensured, by passing a unique label to each axes instance.\n",
      "  ax = fig.add_subplot(111, autoscale_on=False,\n"
     ]
    },
    {
     "name": "stdout",
     "output_type": "stream",
     "text": [
      "20\n",
      "The interpolation points are stored in the variable \"EF_target_pos\": \n",
      "[[ 17.65685425   5.65685425]\n",
      " [ 13.33333333  -4.15046267]\n",
      " [  6.66666667  11.00404811]\n",
      " [ -6.66666667  -0.50374662]\n",
      " [-13.33333333   1.2561283 ]]\n",
      "The intermediate points are stored in the variable \"interpolated_points\"\n",
      "[0 1 0]\n",
      "[40 55 51]\n"
     ]
    },
    {
     "name": "stderr",
     "output_type": "stream",
     "text": [
      "<ipython-input-3-d5f98cda02b0>:29: MatplotlibDeprecationWarning: Adding an axes using the same arguments as a previous axes currently reuses the earlier instance.  In a future version, a new instance will always be created and returned.  Meanwhile, this warning can be suppressed, and the future behavior ensured, by passing a unique label to each axes instance.\n",
      "  ax = fig.add_subplot(111, autoscale_on=False,\n"
     ]
    },
    {
     "name": "stdout",
     "output_type": "stream",
     "text": [
      "16\n",
      "The interpolation points are stored in the variable \"EF_target_pos\": \n",
      "[[ 13.07106781   7.07106781]\n",
      " [ 10.66666667   4.35966943]\n",
      " [  5.33333333  -5.75012365]\n",
      " [ -5.33333333   3.66922323]\n",
      " [-10.66666667  -3.45275706]]\n",
      "The intermediate points are stored in the variable \"interpolated_points\"\n",
      "[1 0 0]\n",
      "[34 39 48]\n"
     ]
    },
    {
     "name": "stderr",
     "output_type": "stream",
     "text": [
      "<ipython-input-3-d5f98cda02b0>:29: MatplotlibDeprecationWarning: Adding an axes using the same arguments as a previous axes currently reuses the earlier instance.  In a future version, a new instance will always be created and returned.  Meanwhile, this warning can be suppressed, and the future behavior ensured, by passing a unique label to each axes instance.\n",
      "  ax = fig.add_subplot(111, autoscale_on=False,\n"
     ]
    },
    {
     "name": "stdout",
     "output_type": "stream",
     "text": [
      "18\n",
      "The interpolation points are stored in the variable \"EF_target_pos\": \n",
      "[[ 15.94974747   4.94974747]\n",
      " [ 12.           5.41478619]\n",
      " [  6.           6.94297826]\n",
      " [ -6.           3.49246319]\n",
      " [-12.           2.28982838]]\n",
      "The intermediate points are stored in the variable \"interpolated_points\"\n",
      "[1 1 1]\n",
      "[58 54 40]\n"
     ]
    },
    {
     "name": "stderr",
     "output_type": "stream",
     "text": [
      "<ipython-input-3-d5f98cda02b0>:29: MatplotlibDeprecationWarning: Adding an axes using the same arguments as a previous axes currently reuses the earlier instance.  In a future version, a new instance will always be created and returned.  Meanwhile, this warning can be suppressed, and the future behavior ensured, by passing a unique label to each axes instance.\n",
      "  ax = fig.add_subplot(111, autoscale_on=False,\n"
     ]
    },
    {
     "name": "stdout",
     "output_type": "stream",
     "text": [
      "23\n",
      "The interpolation points are stored in the variable \"EF_target_pos\": \n",
      "[[ 20.07106781   7.07106781]\n",
      " [ 15.33333333  -0.5634517 ]\n",
      " [  7.66666667  -2.98215294]\n",
      " [ -7.66666667  -1.81429236]\n",
      " [-15.33333333  -3.83703103]]\n",
      "The intermediate points are stored in the variable \"interpolated_points\"\n",
      "[0 1 0]\n",
      "[20 29 20]\n"
     ]
    },
    {
     "name": "stderr",
     "output_type": "stream",
     "text": [
      "<ipython-input-3-d5f98cda02b0>:29: MatplotlibDeprecationWarning: Adding an axes using the same arguments as a previous axes currently reuses the earlier instance.  In a future version, a new instance will always be created and returned.  Meanwhile, this warning can be suppressed, and the future behavior ensured, by passing a unique label to each axes instance.\n",
      "  ax = fig.add_subplot(111, autoscale_on=False,\n"
     ]
    },
    {
     "name": "stdout",
     "output_type": "stream",
     "text": [
      "19\n",
      "The interpolation points are stored in the variable \"EF_target_pos\": \n",
      "[[ 15.77817459   7.77817459]\n",
      " [ 12.66666667  -4.7484955 ]\n",
      " [  6.33333333  10.55219572]\n",
      " [ -6.33333333  11.89584565]\n",
      " [-12.66666667   4.87202288]]\n",
      "The intermediate points are stored in the variable \"interpolated_points\"\n",
      "[0 0 1]\n",
      "[34 27 33]\n"
     ]
    },
    {
     "name": "stderr",
     "output_type": "stream",
     "text": [
      "<ipython-input-3-d5f98cda02b0>:29: MatplotlibDeprecationWarning: Adding an axes using the same arguments as a previous axes currently reuses the earlier instance.  In a future version, a new instance will always be created and returned.  Meanwhile, this warning can be suppressed, and the future behavior ensured, by passing a unique label to each axes instance.\n",
      "  ax = fig.add_subplot(111, autoscale_on=False,\n"
     ]
    },
    {
     "name": "stdout",
     "output_type": "stream",
     "text": [
      "25\n",
      "The interpolation points are stored in the variable \"EF_target_pos\": \n",
      "[[ 21.48528137   8.48528137]\n",
      " [ 16.66666667  -0.18146053]\n",
      " [  8.33333333 -14.6502937 ]\n",
      " [ -8.33333333  12.6069505 ]\n",
      " [-16.66666667   2.16277366]]\n",
      "The intermediate points are stored in the variable \"interpolated_points\"\n",
      "[0 1 0]\n",
      "[46 55 44]\n"
     ]
    },
    {
     "name": "stderr",
     "output_type": "stream",
     "text": [
      "<ipython-input-3-d5f98cda02b0>:29: MatplotlibDeprecationWarning: Adding an axes using the same arguments as a previous axes currently reuses the earlier instance.  In a future version, a new instance will always be created and returned.  Meanwhile, this warning can be suppressed, and the future behavior ensured, by passing a unique label to each axes instance.\n",
      "  ax = fig.add_subplot(111, autoscale_on=False,\n"
     ]
    },
    {
     "name": "stdout",
     "output_type": "stream",
     "text": [
      "16\n",
      "The interpolation points are stored in the variable \"EF_target_pos\": \n",
      "[[ 13.36396103   6.36396103]\n",
      " [ 10.66666667   1.62243697]\n",
      " [  5.33333333   0.55182949]\n",
      " [ -5.33333333  -3.24754507]\n",
      " [-10.66666667   3.44516531]]\n",
      "The intermediate points are stored in the variable \"interpolated_points\"\n",
      "[1 1 1]\n",
      "[28 44 54]\n"
     ]
    },
    {
     "name": "stderr",
     "output_type": "stream",
     "text": [
      "<ipython-input-3-d5f98cda02b0>:29: MatplotlibDeprecationWarning: Adding an axes using the same arguments as a previous axes currently reuses the earlier instance.  In a future version, a new instance will always be created and returned.  Meanwhile, this warning can be suppressed, and the future behavior ensured, by passing a unique label to each axes instance.\n",
      "  ax = fig.add_subplot(111, autoscale_on=False,\n"
     ]
    },
    {
     "name": "stdout",
     "output_type": "stream",
     "text": [
      "24\n",
      "The interpolation points are stored in the variable \"EF_target_pos\": \n",
      "[[ 20.48528137   8.48528137]\n",
      " [ 16.           4.39573469]\n",
      " [  8.           1.78055495]\n",
      " [ -8.           9.76032586]\n",
      " [-16.           7.08495698]]\n",
      "The intermediate points are stored in the variable \"interpolated_points\"\n",
      "[0 0 1]\n",
      "[18 26 49]\n"
     ]
    },
    {
     "name": "stderr",
     "output_type": "stream",
     "text": [
      "<ipython-input-3-d5f98cda02b0>:29: MatplotlibDeprecationWarning: Adding an axes using the same arguments as a previous axes currently reuses the earlier instance.  In a future version, a new instance will always be created and returned.  Meanwhile, this warning can be suppressed, and the future behavior ensured, by passing a unique label to each axes instance.\n",
      "  ax = fig.add_subplot(111, autoscale_on=False,\n"
     ]
    },
    {
     "name": "stdout",
     "output_type": "stream",
     "text": [
      "22\n",
      "The interpolation points are stored in the variable \"EF_target_pos\": \n",
      "[[ 18.77817459   7.77817459]\n",
      " [ 14.66666667  -4.48181799]\n",
      " [  7.33333333 -13.378904  ]\n",
      " [ -7.33333333  -2.95475794]\n",
      " [-14.66666667  -4.20609065]]\n",
      "The intermediate points are stored in the variable \"interpolated_points\"\n",
      "[1 1 1]\n",
      "[47 43 31]\n"
     ]
    },
    {
     "name": "stderr",
     "output_type": "stream",
     "text": [
      "<ipython-input-3-d5f98cda02b0>:29: MatplotlibDeprecationWarning: Adding an axes using the same arguments as a previous axes currently reuses the earlier instance.  In a future version, a new instance will always be created and returned.  Meanwhile, this warning can be suppressed, and the future behavior ensured, by passing a unique label to each axes instance.\n",
      "  ax = fig.add_subplot(111, autoscale_on=False,\n"
     ]
    },
    {
     "name": "stdout",
     "output_type": "stream",
     "text": [
      "20\n",
      "The interpolation points are stored in the variable \"EF_target_pos\": \n",
      "[[ 17.07106781   7.07106781]\n",
      " [ 13.33333333   5.0938029 ]\n",
      " [  6.66666667   4.61546477]\n",
      " [ -6.66666667 -10.56158722]\n",
      " [-13.33333333  -3.22188381]]\n",
      "The intermediate points are stored in the variable \"interpolated_points\"\n",
      "[1 1 1]\n",
      "[54 44 28]\n"
     ]
    },
    {
     "name": "stderr",
     "output_type": "stream",
     "text": [
      "<ipython-input-3-d5f98cda02b0>:29: MatplotlibDeprecationWarning: Adding an axes using the same arguments as a previous axes currently reuses the earlier instance.  In a future version, a new instance will always be created and returned.  Meanwhile, this warning can be suppressed, and the future behavior ensured, by passing a unique label to each axes instance.\n",
      "  ax = fig.add_subplot(111, autoscale_on=False,\n"
     ]
    },
    {
     "name": "stdout",
     "output_type": "stream",
     "text": [
      "19\n",
      "The interpolation points are stored in the variable \"EF_target_pos\": \n",
      "[[ 16.07106781   7.07106781]\n",
      " [ 12.66666667   1.75338607]\n",
      " [  6.33333333  -7.91452542]\n",
      " [ -6.33333333 -10.04428649]\n",
      " [-12.66666667  -6.06127759]]\n",
      "The intermediate points are stored in the variable \"interpolated_points\"\n",
      "[0 1 0]\n",
      "[56 57 59]\n"
     ]
    },
    {
     "name": "stderr",
     "output_type": "stream",
     "text": [
      "<ipython-input-3-d5f98cda02b0>:29: MatplotlibDeprecationWarning: Adding an axes using the same arguments as a previous axes currently reuses the earlier instance.  In a future version, a new instance will always be created and returned.  Meanwhile, this warning can be suppressed, and the future behavior ensured, by passing a unique label to each axes instance.\n",
      "  ax = fig.add_subplot(111, autoscale_on=False,\n"
     ]
    },
    {
     "name": "stdout",
     "output_type": "stream",
     "text": [
      "20\n",
      "The interpolation points are stored in the variable \"EF_target_pos\": \n",
      "[[ 17.65685425   5.65685425]\n",
      " [ 13.33333333  -4.50062109]\n",
      " [  6.66666667  11.67350925]\n",
      " [ -6.66666667   9.01317076]\n",
      " [-13.33333333   2.06141718]]\n",
      "The intermediate points are stored in the variable \"interpolated_points\"\n",
      "[0 0 0]\n",
      "[41 28 59]\n"
     ]
    },
    {
     "name": "stderr",
     "output_type": "stream",
     "text": [
      "<ipython-input-3-d5f98cda02b0>:29: MatplotlibDeprecationWarning: Adding an axes using the same arguments as a previous axes currently reuses the earlier instance.  In a future version, a new instance will always be created and returned.  Meanwhile, this warning can be suppressed, and the future behavior ensured, by passing a unique label to each axes instance.\n",
      "  ax = fig.add_subplot(111, autoscale_on=False,\n"
     ]
    },
    {
     "name": "stdout",
     "output_type": "stream",
     "text": [
      "22\n",
      "The interpolation points are stored in the variable \"EF_target_pos\": \n",
      "[[ 18.77817459   7.77817459]\n",
      " [ 14.66666667   4.49295225]\n",
      " [  7.33333333  10.69983542]\n",
      " [ -7.33333333  -0.1837941 ]\n",
      " [-14.66666667   6.82318979]]\n",
      "The intermediate points are stored in the variable \"interpolated_points\"\n",
      "[0 0 0]\n",
      "[50 17 41]\n"
     ]
    },
    {
     "name": "stderr",
     "output_type": "stream",
     "text": [
      "<ipython-input-3-d5f98cda02b0>:29: MatplotlibDeprecationWarning: Adding an axes using the same arguments as a previous axes currently reuses the earlier instance.  In a future version, a new instance will always be created and returned.  Meanwhile, this warning can be suppressed, and the future behavior ensured, by passing a unique label to each axes instance.\n",
      "  ax = fig.add_subplot(111, autoscale_on=False,\n"
     ]
    },
    {
     "name": "stdout",
     "output_type": "stream",
     "text": [
      "21\n",
      "The interpolation points are stored in the variable \"EF_target_pos\": \n",
      "[[ 18.65685425   5.65685425]\n",
      " [ 14.          -4.75289023]\n",
      " [  7.          -9.93339284]\n",
      " [ -7.         -11.06449757]\n",
      " [-14.           4.38759839]]\n",
      "The intermediate points are stored in the variable \"interpolated_points\"\n",
      "[0 0 0]\n",
      "[32 47 32]\n"
     ]
    },
    {
     "name": "stderr",
     "output_type": "stream",
     "text": [
      "<ipython-input-3-d5f98cda02b0>:29: MatplotlibDeprecationWarning: Adding an axes using the same arguments as a previous axes currently reuses the earlier instance.  In a future version, a new instance will always be created and returned.  Meanwhile, this warning can be suppressed, and the future behavior ensured, by passing a unique label to each axes instance.\n",
      "  ax = fig.add_subplot(111, autoscale_on=False,\n"
     ]
    },
    {
     "name": "stdout",
     "output_type": "stream",
     "text": [
      "22\n",
      "The interpolation points are stored in the variable \"EF_target_pos\": \n",
      "[[ 18.19238816   9.19238816]\n",
      " [ 14.66666667   0.89530187]\n",
      " [  7.33333333   7.80092474]\n",
      " [ -7.33333333  -2.6223947 ]\n",
      " [-14.66666667  -5.78668498]]\n",
      "The intermediate points are stored in the variable \"interpolated_points\"\n",
      "[1 0 0]\n",
      "[49 15 30]\n"
     ]
    },
    {
     "name": "stderr",
     "output_type": "stream",
     "text": [
      "<ipython-input-3-d5f98cda02b0>:29: MatplotlibDeprecationWarning: Adding an axes using the same arguments as a previous axes currently reuses the earlier instance.  In a future version, a new instance will always be created and returned.  Meanwhile, this warning can be suppressed, and the future behavior ensured, by passing a unique label to each axes instance.\n",
      "  ax = fig.add_subplot(111, autoscale_on=False,\n"
     ]
    },
    {
     "name": "stdout",
     "output_type": "stream",
     "text": [
      "20\n",
      "The interpolation points are stored in the variable \"EF_target_pos\": \n",
      "[[ 17.07106781   7.07106781]\n",
      " [ 13.33333333  -2.0639507 ]\n",
      " [  6.66666667   6.69191259]\n",
      " [ -6.66666667  -9.41084931]\n",
      " [-13.33333333  -3.19144639]]\n",
      "The intermediate points are stored in the variable \"interpolated_points\"\n",
      "[1 0 1]\n",
      "[35 31 24]\n"
     ]
    },
    {
     "name": "stderr",
     "output_type": "stream",
     "text": [
      "<ipython-input-3-d5f98cda02b0>:29: MatplotlibDeprecationWarning: Adding an axes using the same arguments as a previous axes currently reuses the earlier instance.  In a future version, a new instance will always be created and returned.  Meanwhile, this warning can be suppressed, and the future behavior ensured, by passing a unique label to each axes instance.\n",
      "  ax = fig.add_subplot(111, autoscale_on=False,\n"
     ]
    },
    {
     "name": "stdout",
     "output_type": "stream",
     "text": [
      "16\n",
      "The interpolation points are stored in the variable \"EF_target_pos\": \n",
      "[[ 13.65685425   5.65685425]\n",
      " [ 10.66666667   4.2796085 ]\n",
      " [  5.33333333   5.73017772]\n",
      " [ -5.33333333  -1.16706452]\n",
      " [-10.66666667   1.25946058]]\n",
      "The intermediate points are stored in the variable \"interpolated_points\"\n",
      "[1 1 0]\n",
      "[29 44 53]\n"
     ]
    },
    {
     "name": "stderr",
     "output_type": "stream",
     "text": [
      "<ipython-input-3-d5f98cda02b0>:29: MatplotlibDeprecationWarning: Adding an axes using the same arguments as a previous axes currently reuses the earlier instance.  In a future version, a new instance will always be created and returned.  Meanwhile, this warning can be suppressed, and the future behavior ensured, by passing a unique label to each axes instance.\n",
      "  ax = fig.add_subplot(111, autoscale_on=False,\n"
     ]
    },
    {
     "name": "stdout",
     "output_type": "stream",
     "text": [
      "21\n",
      "The interpolation points are stored in the variable \"EF_target_pos\": \n",
      "[[ 17.48528137   8.48528137]\n",
      " [ 14.           5.45151113]\n",
      " [  7.          -8.12200006]\n",
      " [ -7.           5.69721369]\n",
      " [-14.           4.25496467]]\n",
      "The intermediate points are stored in the variable \"interpolated_points\"\n",
      "[1 0 1]\n",
      "[44 39 31]\n"
     ]
    },
    {
     "name": "stderr",
     "output_type": "stream",
     "text": [
      "<ipython-input-3-d5f98cda02b0>:29: MatplotlibDeprecationWarning: Adding an axes using the same arguments as a previous axes currently reuses the earlier instance.  In a future version, a new instance will always be created and returned.  Meanwhile, this warning can be suppressed, and the future behavior ensured, by passing a unique label to each axes instance.\n",
      "  ax = fig.add_subplot(111, autoscale_on=False,\n"
     ]
    },
    {
     "name": "stdout",
     "output_type": "stream",
     "text": [
      "20\n",
      "The interpolation points are stored in the variable \"EF_target_pos\": \n",
      "[[ 17.07106781   7.07106781]\n",
      " [ 13.33333333  -3.05433048]\n",
      " [  6.66666667   1.98892803]\n",
      " [ -6.66666667  -0.46414253]\n",
      " [-13.33333333   1.94776288]]\n",
      "The intermediate points are stored in the variable \"interpolated_points\"\n",
      "[1 1 0]\n",
      "[41 17 37]\n"
     ]
    },
    {
     "name": "stderr",
     "output_type": "stream",
     "text": [
      "<ipython-input-3-d5f98cda02b0>:29: MatplotlibDeprecationWarning: Adding an axes using the same arguments as a previous axes currently reuses the earlier instance.  In a future version, a new instance will always be created and returned.  Meanwhile, this warning can be suppressed, and the future behavior ensured, by passing a unique label to each axes instance.\n",
      "  ax = fig.add_subplot(111, autoscale_on=False,\n"
     ]
    },
    {
     "name": "stdout",
     "output_type": "stream",
     "text": [
      "22\n",
      "The interpolation points are stored in the variable \"EF_target_pos\": \n",
      "[[ 19.65685425   5.65685425]\n",
      " [ 14.66666667   7.49642808]\n",
      " [  7.33333333  10.95823886]\n",
      " [ -7.33333333 -11.78088235]\n",
      " [-14.66666667  -1.6948131 ]]\n",
      "The intermediate points are stored in the variable \"interpolated_points\"\n",
      "[1 1 0]\n",
      "[31 40 21]\n"
     ]
    },
    {
     "name": "stderr",
     "output_type": "stream",
     "text": [
      "<ipython-input-3-d5f98cda02b0>:29: MatplotlibDeprecationWarning: Adding an axes using the same arguments as a previous axes currently reuses the earlier instance.  In a future version, a new instance will always be created and returned.  Meanwhile, this warning can be suppressed, and the future behavior ensured, by passing a unique label to each axes instance.\n",
      "  ax = fig.add_subplot(111, autoscale_on=False,\n"
     ]
    },
    {
     "name": "stdout",
     "output_type": "stream",
     "text": [
      "22\n",
      "The interpolation points are stored in the variable \"EF_target_pos\": \n",
      "[[ 18.77817459   7.77817459]\n",
      " [ 14.66666667  -7.48091372]\n",
      " [  7.33333333   5.45692725]\n",
      " [ -7.33333333  12.46890946]\n",
      " [-14.66666667  -4.43082178]]\n",
      "The intermediate points are stored in the variable \"interpolated_points\"\n",
      "[0 0 0]\n",
      "[51 57 26]\n"
     ]
    },
    {
     "name": "stderr",
     "output_type": "stream",
     "text": [
      "<ipython-input-3-d5f98cda02b0>:29: MatplotlibDeprecationWarning: Adding an axes using the same arguments as a previous axes currently reuses the earlier instance.  In a future version, a new instance will always be created and returned.  Meanwhile, this warning can be suppressed, and the future behavior ensured, by passing a unique label to each axes instance.\n",
      "  ax = fig.add_subplot(111, autoscale_on=False,\n"
     ]
    },
    {
     "name": "stdout",
     "output_type": "stream",
     "text": [
      "13\n",
      "The interpolation points are stored in the variable \"EF_target_pos\": \n",
      "[[11.24264069  4.24264069]\n",
      " [ 8.66666667 -4.13815128]\n",
      " [ 4.33333333  0.28477767]\n",
      " [-4.33333333  0.40455359]\n",
      " [-8.66666667 -3.0090765 ]]\n",
      "The intermediate points are stored in the variable \"interpolated_points\"\n",
      "[0 1 1]\n",
      "[28 54 45]\n"
     ]
    },
    {
     "name": "stderr",
     "output_type": "stream",
     "text": [
      "<ipython-input-3-d5f98cda02b0>:29: MatplotlibDeprecationWarning: Adding an axes using the same arguments as a previous axes currently reuses the earlier instance.  In a future version, a new instance will always be created and returned.  Meanwhile, this warning can be suppressed, and the future behavior ensured, by passing a unique label to each axes instance.\n",
      "  ax = fig.add_subplot(111, autoscale_on=False,\n"
     ]
    },
    {
     "name": "stdout",
     "output_type": "stream",
     "text": [
      "24\n",
      "The interpolation points are stored in the variable \"EF_target_pos\": \n",
      "[[ 20.48528137   8.48528137]\n",
      " [ 16.          -1.58350954]\n",
      " [  8.           6.08850685]\n",
      " [ -8.         -11.52936185]\n",
      " [-16.           1.16984177]]\n",
      "The intermediate points are stored in the variable \"interpolated_points\"\n",
      "[0 1 0]\n",
      "[55 16 26]\n"
     ]
    },
    {
     "name": "stderr",
     "output_type": "stream",
     "text": [
      "<ipython-input-3-d5f98cda02b0>:29: MatplotlibDeprecationWarning: Adding an axes using the same arguments as a previous axes currently reuses the earlier instance.  In a future version, a new instance will always be created and returned.  Meanwhile, this warning can be suppressed, and the future behavior ensured, by passing a unique label to each axes instance.\n",
      "  ax = fig.add_subplot(111, autoscale_on=False,\n"
     ]
    },
    {
     "name": "stdout",
     "output_type": "stream",
     "text": [
      "21\n",
      "The interpolation points are stored in the variable \"EF_target_pos\": \n",
      "[[ 18.36396103   6.36396103]\n",
      " [ 14.           3.60560826]\n",
      " [  7.           6.80179143]\n",
      " [ -7.          -0.64725944]\n",
      " [-14.          -2.85651686]]\n",
      "The intermediate points are stored in the variable \"interpolated_points\"\n",
      "[0 0 1]\n",
      "[40 40 52]\n"
     ]
    },
    {
     "name": "stderr",
     "output_type": "stream",
     "text": [
      "<ipython-input-3-d5f98cda02b0>:29: MatplotlibDeprecationWarning: Adding an axes using the same arguments as a previous axes currently reuses the earlier instance.  In a future version, a new instance will always be created and returned.  Meanwhile, this warning can be suppressed, and the future behavior ensured, by passing a unique label to each axes instance.\n",
      "  ax = fig.add_subplot(111, autoscale_on=False,\n"
     ]
    },
    {
     "name": "stdout",
     "output_type": "stream",
     "text": [
      "11\n",
      "The interpolation points are stored in the variable \"EF_target_pos\": \n",
      "[[ 9.24264069  4.24264069]\n",
      " [ 7.33333333 -2.94698365]\n",
      " [ 3.66666667 -1.80468473]\n",
      " [-3.66666667  6.99542267]\n",
      " [-7.33333333  3.7725633 ]]\n",
      "The intermediate points are stored in the variable \"interpolated_points\"\n",
      "[1 0 1]\n",
      "[22 34 21]\n"
     ]
    },
    {
     "name": "stderr",
     "output_type": "stream",
     "text": [
      "<ipython-input-3-d5f98cda02b0>:29: MatplotlibDeprecationWarning: Adding an axes using the same arguments as a previous axes currently reuses the earlier instance.  In a future version, a new instance will always be created and returned.  Meanwhile, this warning can be suppressed, and the future behavior ensured, by passing a unique label to each axes instance.\n",
      "  ax = fig.add_subplot(111, autoscale_on=False,\n"
     ]
    },
    {
     "name": "stdout",
     "output_type": "stream",
     "text": [
      "18\n",
      "The interpolation points are stored in the variable \"EF_target_pos\": \n",
      "[[ 15.36396103   6.36396103]\n",
      " [ 12.           2.44955607]\n",
      " [  6.           5.35766958]\n",
      " [ -6.           4.92421206]\n",
      " [-12.          -0.81846724]]\n",
      "The intermediate points are stored in the variable \"interpolated_points\"\n",
      "[0 1 0]\n",
      "[45 18 30]\n"
     ]
    },
    {
     "name": "stderr",
     "output_type": "stream",
     "text": [
      "<ipython-input-3-d5f98cda02b0>:29: MatplotlibDeprecationWarning: Adding an axes using the same arguments as a previous axes currently reuses the earlier instance.  In a future version, a new instance will always be created and returned.  Meanwhile, this warning can be suppressed, and the future behavior ensured, by passing a unique label to each axes instance.\n",
      "  ax = fig.add_subplot(111, autoscale_on=False,\n"
     ]
    },
    {
     "name": "stdout",
     "output_type": "stream",
     "text": [
      "21\n",
      "The interpolation points are stored in the variable \"EF_target_pos\": \n",
      "[[ 17.77817459   7.77817459]\n",
      " [ 14.          -3.1560562 ]\n",
      " [  7.          -3.67405205]\n",
      " [ -7.           3.67626076]\n",
      " [-14.          -0.05134226]]\n",
      "The intermediate points are stored in the variable \"interpolated_points\"\n",
      "[1 1 0]\n",
      "[15 58 32]\n"
     ]
    },
    {
     "name": "stderr",
     "output_type": "stream",
     "text": [
      "<ipython-input-3-d5f98cda02b0>:29: MatplotlibDeprecationWarning: Adding an axes using the same arguments as a previous axes currently reuses the earlier instance.  In a future version, a new instance will always be created and returned.  Meanwhile, this warning can be suppressed, and the future behavior ensured, by passing a unique label to each axes instance.\n",
      "  ax = fig.add_subplot(111, autoscale_on=False,\n"
     ]
    },
    {
     "name": "stdout",
     "output_type": "stream",
     "text": [
      "16\n",
      "The interpolation points are stored in the variable \"EF_target_pos\": \n",
      "[[ 13.36396103   6.36396103]\n",
      " [ 10.66666667  -2.449854  ]\n",
      " [  5.33333333   4.98975064]\n",
      " [ -5.33333333  -5.43666296]\n",
      " [-10.66666667   1.52506726]]\n",
      "The intermediate points are stored in the variable \"interpolated_points\"\n",
      "[0 1 1]\n",
      "[57 41 17]\n"
     ]
    },
    {
     "name": "stderr",
     "output_type": "stream",
     "text": [
      "<ipython-input-3-d5f98cda02b0>:29: MatplotlibDeprecationWarning: Adding an axes using the same arguments as a previous axes currently reuses the earlier instance.  In a future version, a new instance will always be created and returned.  Meanwhile, this warning can be suppressed, and the future behavior ensured, by passing a unique label to each axes instance.\n",
      "  ax = fig.add_subplot(111, autoscale_on=False,\n"
     ]
    },
    {
     "name": "stdout",
     "output_type": "stream",
     "text": [
      "17\n",
      "The interpolation points are stored in the variable \"EF_target_pos\": \n",
      "[[ 14.36396103   6.36396103]\n",
      " [ 11.33333333   3.52411156]\n",
      " [  5.66666667  -9.86092936]\n",
      " [ -5.66666667  -4.68825088]\n",
      " [-11.33333333   1.95033936]]\n",
      "The intermediate points are stored in the variable \"interpolated_points\"\n",
      "[0 1 1]\n",
      "[40 24 37]\n"
     ]
    },
    {
     "name": "stderr",
     "output_type": "stream",
     "text": [
      "<ipython-input-3-d5f98cda02b0>:29: MatplotlibDeprecationWarning: Adding an axes using the same arguments as a previous axes currently reuses the earlier instance.  In a future version, a new instance will always be created and returned.  Meanwhile, this warning can be suppressed, and the future behavior ensured, by passing a unique label to each axes instance.\n",
      "  ax = fig.add_subplot(111, autoscale_on=False,\n"
     ]
    },
    {
     "name": "stdout",
     "output_type": "stream",
     "text": [
      "19\n",
      "The interpolation points are stored in the variable \"EF_target_pos\": \n",
      "[[ 15.48528137   8.48528137]\n",
      " [ 12.66666667   5.19728067]\n",
      " [  6.33333333 -11.19130479]\n",
      " [ -6.33333333  12.083481  ]\n",
      " [-12.66666667   0.57945886]]\n",
      "The intermediate points are stored in the variable \"interpolated_points\"\n",
      "[0 0 1]\n",
      "[35 37 33]\n"
     ]
    },
    {
     "name": "stderr",
     "output_type": "stream",
     "text": [
      "<ipython-input-3-d5f98cda02b0>:29: MatplotlibDeprecationWarning: Adding an axes using the same arguments as a previous axes currently reuses the earlier instance.  In a future version, a new instance will always be created and returned.  Meanwhile, this warning can be suppressed, and the future behavior ensured, by passing a unique label to each axes instance.\n",
      "  ax = fig.add_subplot(111, autoscale_on=False,\n"
     ]
    },
    {
     "name": "stdout",
     "output_type": "stream",
     "text": [
      "20\n",
      "The interpolation points are stored in the variable \"EF_target_pos\": \n",
      "[[ 16.77817459   7.77817459]\n",
      " [ 13.33333333   3.6819548 ]\n",
      " [  6.66666667  12.49311208]\n",
      " [ -6.66666667  -3.42176747]\n",
      " [-13.33333333  -3.44595345]]\n",
      "The intermediate points are stored in the variable \"interpolated_points\"\n",
      "[0 1 1]\n",
      "[26 16 15]\n"
     ]
    },
    {
     "name": "stderr",
     "output_type": "stream",
     "text": [
      "<ipython-input-3-d5f98cda02b0>:29: MatplotlibDeprecationWarning: Adding an axes using the same arguments as a previous axes currently reuses the earlier instance.  In a future version, a new instance will always be created and returned.  Meanwhile, this warning can be suppressed, and the future behavior ensured, by passing a unique label to each axes instance.\n",
      "  ax = fig.add_subplot(111, autoscale_on=False,\n"
     ]
    },
    {
     "name": "stdout",
     "output_type": "stream",
     "text": [
      "23\n",
      "The interpolation points are stored in the variable \"EF_target_pos\": \n",
      "[[ 19.48528137   8.48528137]\n",
      " [ 15.33333333   4.31984867]\n",
      " [  7.66666667   2.97991266]\n",
      " [ -7.66666667 -12.23644289]\n",
      " [-15.33333333   4.99573217]]\n",
      "The intermediate points are stored in the variable \"interpolated_points\"\n",
      "[1 1 0]\n",
      "[49 35 27]\n"
     ]
    },
    {
     "name": "stderr",
     "output_type": "stream",
     "text": [
      "<ipython-input-3-d5f98cda02b0>:29: MatplotlibDeprecationWarning: Adding an axes using the same arguments as a previous axes currently reuses the earlier instance.  In a future version, a new instance will always be created and returned.  Meanwhile, this warning can be suppressed, and the future behavior ensured, by passing a unique label to each axes instance.\n",
      "  ax = fig.add_subplot(111, autoscale_on=False,\n"
     ]
    },
    {
     "name": "stdout",
     "output_type": "stream",
     "text": [
      "16\n",
      "The interpolation points are stored in the variable \"EF_target_pos\": \n",
      "[[ 14.53553391   3.53553391]\n",
      " [ 10.66666667  -1.71705725]\n",
      " [  5.33333333   8.55777736]\n",
      " [ -5.33333333   4.76399721]\n",
      " [-10.66666667  -4.10204287]]\n",
      "The intermediate points are stored in the variable \"interpolated_points\"\n",
      "[0 1 1]\n",
      "[47 22 20]\n"
     ]
    },
    {
     "name": "stderr",
     "output_type": "stream",
     "text": [
      "<ipython-input-3-d5f98cda02b0>:29: MatplotlibDeprecationWarning: Adding an axes using the same arguments as a previous axes currently reuses the earlier instance.  In a future version, a new instance will always be created and returned.  Meanwhile, this warning can be suppressed, and the future behavior ensured, by passing a unique label to each axes instance.\n",
      "  ax = fig.add_subplot(111, autoscale_on=False,\n"
     ]
    },
    {
     "name": "stdout",
     "output_type": "stream",
     "text": [
      "16\n",
      "The interpolation points are stored in the variable \"EF_target_pos\": \n",
      "[[ 13.36396103   6.36396103]\n",
      " [ 10.66666667  -1.36582536]\n",
      " [  5.33333333   9.58303963]\n",
      " [ -5.33333333   7.20465193]\n",
      " [-10.66666667   3.25930057]]\n",
      "The intermediate points are stored in the variable \"interpolated_points\"\n",
      "[1 1 0]\n",
      "[27 37 42]\n"
     ]
    },
    {
     "name": "stderr",
     "output_type": "stream",
     "text": [
      "<ipython-input-3-d5f98cda02b0>:29: MatplotlibDeprecationWarning: Adding an axes using the same arguments as a previous axes currently reuses the earlier instance.  In a future version, a new instance will always be created and returned.  Meanwhile, this warning can be suppressed, and the future behavior ensured, by passing a unique label to each axes instance.\n",
      "  ax = fig.add_subplot(111, autoscale_on=False,\n"
     ]
    },
    {
     "name": "stdout",
     "output_type": "stream",
     "text": [
      "18\n",
      "The interpolation points are stored in the variable \"EF_target_pos\": \n",
      "[[ 15.65685425   5.65685425]\n",
      " [ 12.          -3.60789122]\n",
      " [  6.           1.64745015]\n",
      " [ -6.          -9.4006236 ]\n",
      " [-12.          -1.50451208]]\n",
      "The intermediate points are stored in the variable \"interpolated_points\"\n",
      "[0 1 1]\n",
      "[30 46 16]\n"
     ]
    },
    {
     "name": "stderr",
     "output_type": "stream",
     "text": [
      "<ipython-input-3-d5f98cda02b0>:29: MatplotlibDeprecationWarning: Adding an axes using the same arguments as a previous axes currently reuses the earlier instance.  In a future version, a new instance will always be created and returned.  Meanwhile, this warning can be suppressed, and the future behavior ensured, by passing a unique label to each axes instance.\n",
      "  ax = fig.add_subplot(111, autoscale_on=False,\n"
     ]
    },
    {
     "name": "stdout",
     "output_type": "stream",
     "text": [
      "20\n",
      "The interpolation points are stored in the variable \"EF_target_pos\": \n",
      "[[ 16.77817459   7.77817459]\n",
      " [ 13.33333333  -1.25045224]\n",
      " [  6.66666667   1.90071399]\n",
      " [ -6.66666667  -7.47575244]\n",
      " [-13.33333333  -3.04694143]]\n",
      "The intermediate points are stored in the variable \"interpolated_points\"\n",
      "[1 1 1]\n",
      "[21 54 44]\n"
     ]
    },
    {
     "name": "stderr",
     "output_type": "stream",
     "text": [
      "<ipython-input-3-d5f98cda02b0>:29: MatplotlibDeprecationWarning: Adding an axes using the same arguments as a previous axes currently reuses the earlier instance.  In a future version, a new instance will always be created and returned.  Meanwhile, this warning can be suppressed, and the future behavior ensured, by passing a unique label to each axes instance.\n",
      "  ax = fig.add_subplot(111, autoscale_on=False,\n"
     ]
    },
    {
     "name": "stdout",
     "output_type": "stream",
     "text": [
      "15\n",
      "The interpolation points are stored in the variable \"EF_target_pos\": \n",
      "[[ 12.94974747   4.94974747]\n",
      " [ 10.           4.67380866]\n",
      " [  5.          -9.28555261]\n",
      " [ -5.           2.78067922]\n",
      " [-10.          -0.38679418]]\n",
      "The intermediate points are stored in the variable \"interpolated_points\"\n",
      "[0 1 0]\n",
      "[37 22 36]\n"
     ]
    },
    {
     "name": "stderr",
     "output_type": "stream",
     "text": [
      "<ipython-input-3-d5f98cda02b0>:29: MatplotlibDeprecationWarning: Adding an axes using the same arguments as a previous axes currently reuses the earlier instance.  In a future version, a new instance will always be created and returned.  Meanwhile, this warning can be suppressed, and the future behavior ensured, by passing a unique label to each axes instance.\n",
      "  ax = fig.add_subplot(111, autoscale_on=False,\n"
     ]
    },
    {
     "name": "stdout",
     "output_type": "stream",
     "text": [
      "21\n",
      "The interpolation points are stored in the variable \"EF_target_pos\": \n",
      "[[ 17.77817459   7.77817459]\n",
      " [ 14.          -2.06265546]\n",
      " [  7.          -6.94916171]\n",
      " [ -7.          -7.53296593]\n",
      " [-14.           3.3952878 ]]\n",
      "The intermediate points are stored in the variable \"interpolated_points\"\n",
      "[0 0 1]\n",
      "[37 56 25]\n"
     ]
    },
    {
     "name": "stderr",
     "output_type": "stream",
     "text": [
      "<ipython-input-3-d5f98cda02b0>:29: MatplotlibDeprecationWarning: Adding an axes using the same arguments as a previous axes currently reuses the earlier instance.  In a future version, a new instance will always be created and returned.  Meanwhile, this warning can be suppressed, and the future behavior ensured, by passing a unique label to each axes instance.\n",
      "  ax = fig.add_subplot(111, autoscale_on=False,\n"
     ]
    },
    {
     "name": "stdout",
     "output_type": "stream",
     "text": [
      "17\n",
      "The interpolation points are stored in the variable \"EF_target_pos\": \n",
      "[[ 14.94974747   4.94974747]\n",
      " [ 11.33333333   5.83867862]\n",
      " [  5.66666667   5.29417907]\n",
      " [ -5.66666667  10.16349132]\n",
      " [-11.33333333   1.24561885]]\n",
      "The intermediate points are stored in the variable \"interpolated_points\"\n",
      "[0 0 0]\n",
      "[44 47 57]\n"
     ]
    },
    {
     "name": "stderr",
     "output_type": "stream",
     "text": [
      "<ipython-input-3-d5f98cda02b0>:29: MatplotlibDeprecationWarning: Adding an axes using the same arguments as a previous axes currently reuses the earlier instance.  In a future version, a new instance will always be created and returned.  Meanwhile, this warning can be suppressed, and the future behavior ensured, by passing a unique label to each axes instance.\n",
      "  ax = fig.add_subplot(111, autoscale_on=False,\n"
     ]
    },
    {
     "name": "stdout",
     "output_type": "stream",
     "text": [
      "15\n",
      "The interpolation points are stored in the variable \"EF_target_pos\": \n",
      "[[ 13.24264069   4.24264069]\n",
      " [ 10.           1.60302452]\n",
      " [  5.           5.98187989]\n",
      " [ -5.           1.18470936]\n",
      " [-10.           0.72217086]]\n",
      "The intermediate points are stored in the variable \"interpolated_points\"\n",
      "[0 1 0]\n",
      "[52 24 21]\n"
     ]
    },
    {
     "name": "stderr",
     "output_type": "stream",
     "text": [
      "<ipython-input-3-d5f98cda02b0>:29: MatplotlibDeprecationWarning: Adding an axes using the same arguments as a previous axes currently reuses the earlier instance.  In a future version, a new instance will always be created and returned.  Meanwhile, this warning can be suppressed, and the future behavior ensured, by passing a unique label to each axes instance.\n",
      "  ax = fig.add_subplot(111, autoscale_on=False,\n"
     ]
    },
    {
     "name": "stdout",
     "output_type": "stream",
     "text": [
      "14\n",
      "The interpolation points are stored in the variable \"EF_target_pos\": \n",
      "[[11.94974747  4.94974747]\n",
      " [ 9.33333333  3.95178928]\n",
      " [ 4.66666667 -7.85430939]\n",
      " [-4.66666667  5.12362212]\n",
      " [-9.33333333  1.89791167]]\n",
      "The intermediate points are stored in the variable \"interpolated_points\"\n",
      "[1 0 1]\n",
      "[38 33 51]\n"
     ]
    },
    {
     "name": "stderr",
     "output_type": "stream",
     "text": [
      "<ipython-input-3-d5f98cda02b0>:29: MatplotlibDeprecationWarning: Adding an axes using the same arguments as a previous axes currently reuses the earlier instance.  In a future version, a new instance will always be created and returned.  Meanwhile, this warning can be suppressed, and the future behavior ensured, by passing a unique label to each axes instance.\n",
      "  ax = fig.add_subplot(111, autoscale_on=False,\n"
     ]
    }
   ],
   "source": [
    "for i in range(125,250):\n",
    "    create_simulation(i,50)"
   ]
  }
 ],
 "metadata": {
  "kernelspec": {
   "display_name": "Python 3",
   "language": "python",
   "name": "python3"
  },
  "language_info": {
   "codemirror_mode": {
    "name": "ipython",
    "version": 3
   },
   "file_extension": ".py",
   "mimetype": "text/x-python",
   "name": "python",
   "nbconvert_exporter": "python",
   "pygments_lexer": "ipython3",
   "version": "3.8.10"
  }
 },
 "nbformat": 4,
 "nbformat_minor": 2
}
