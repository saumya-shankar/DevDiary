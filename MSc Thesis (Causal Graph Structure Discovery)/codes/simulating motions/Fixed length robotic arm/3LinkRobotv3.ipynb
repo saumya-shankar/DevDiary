{
 "cells": [
  {
   "cell_type": "code",
   "execution_count": 1,
   "metadata": {},
   "outputs": [],
   "source": [
    "import numpy as np\n",
    "import matplotlib.pyplot as plt\n",
    "from celluloid import Camera\n",
    "from IPython.display import HTML\n",
    "import pandas as pd\n",
    "import random"
   ]
  },
  {
   "cell_type": "code",
   "execution_count": 2,
   "metadata": {},
   "outputs": [],
   "source": [
    "\n",
    "class ThreeLinkArm:\n",
    "    \n",
    "    def __init__(self):\n",
    "        # Set parameters for the 3-link planar arm\n",
    "        self.theta1 = np.deg2rad(0)\n",
    "        self.theta2 = np.deg2rad(90)\n",
    "        self.theta3 = np.deg2rad(90)\n",
    "        self.l1 = np.random.randint(2,8)\n",
    "        self.l2 = np.random.randint(2,8)\n",
    "        self.l3 = np.random.randint(2,8)\n",
    "\n",
    "    def forwardKinematics(self, theta1, theta2, theta3):\n",
    "        # Define the homogeneous transformation matrices for the 3-link planar arm\n",
    "        self.theta1 = theta1\n",
    "        self.theta2 = theta2\n",
    "        self.theta3 = theta3\n",
    "        self.t01 = np.matrix([[np.cos(self.theta1), -np.sin(self.theta1), 0], [np.sin(self.theta1), np.cos(self.theta1), 0], [0, 0, 1]])\n",
    "        self.t12 = np.matrix([[np.cos(self.theta2), -np.sin(self.theta2), self.l1], [np.sin(self.theta2), np.cos(self.theta2), 0], [0, 0, 1]])\n",
    "        self.t23 = np.matrix([[np.cos(self.theta3), -np.sin(self.theta3), self.l2], [np.sin(self.theta3), np.cos(self.theta3), 0], [0, 0, 1]])        \n",
    "        self.t3end = np.matrix([[np.cos(self.theta3), -np.sin(self.theta3), self.l3], [np.sin(self.theta3), np.cos(self.theta3), 0], [0, 0, 1]])\n",
    "        self.t0end = self.t01*self.t12*self.t23*self.t3end\n",
    "        return self.t0end\n",
    "    \n",
    "    def findJointPos(self): \n",
    "        # Find the x,y position of each joint and end effector so it can be plotted\n",
    "        # Find the transformation matrices for joint 2 and joint 3\n",
    "        self.t02 = self.t01*self.t12\n",
    "        self.t03 = self.t01*self.t12*self.t23\n",
    "        # Find the x, y coordinates for joints 2 and 3. Put them in a list j2 = [x,y]\n",
    "        j2 = [ self.t02[0, 2], self.t02[1, 2] ]\n",
    "        j3 = [ self.t03[0, 2], self.t03[1, 2] ]\n",
    "        endeff = [self.t0end[0,2],self.t0end[1,2]]\n",
    "        \n",
    "        self.jnt2pos, self.jnt3pos, self.endEffPos = j2,j3,endeff\n",
    "        return j2,j3,endeff\n",
    "    \n",
    "    def geomJacobian(self, jnt2pos=None, jnt3pos=None, endEffPos=None):\n",
    "        if jnt2pos is None:\n",
    "            jnt2pos=self.jnt2pos \n",
    "        if jnt3pos is None:\n",
    "            jnt3pos=self.jnt3pos\n",
    "        if endEffPos is None:\n",
    "            endEffPos=self.endEffPos\n",
    "        ai = np.array([0,0,1])\n",
    "        col0 = np.array(endEffPos + [0])\n",
    "        col1 = np.array(endEffPos + [0]) - np.array(jnt2pos + [0])\n",
    "        col2 = np.array(endEffPos + [0]) - np.array(jnt3pos + [0])\n",
    "        J = np.array([np.cross(ai,col0), np.cross(ai,col1), np.cross(ai,col2)]).T \n",
    "        return J"
   ]
  },
  {
   "cell_type": "code",
   "execution_count": 3,
   "metadata": {},
   "outputs": [],
   "source": [
    "def plotArm(jnt2pos, jnt3pos, endEffectPos, target=None, step=None):\n",
    "    # set up figure\n",
    "    fig = plt.figure(figsize=(10,10))\n",
    "    ax = fig.add_subplot(111, autoscale_on=False, xlim=(-25, 25), ylim=(-25, 25))\n",
    "    ax.grid()\n",
    "    \n",
    "    if step is not None:\n",
    "        step = np.array(step)\n",
    "        plt.scatter(step[:, 0],step[:, 1], color='lightblue', marker='o')\n",
    "        plt.plot(step[:, 0],step[:, 1], color='lightblue')\n",
    "    if target is not None:\n",
    "        target = np.array(target)\n",
    "        plt.scatter(target[:, 0],target[:, 1], color='red', marker='o')\n",
    "        \n",
    "    line, = ax.plot([], [], 'o-', lw=4, mew=5)\n",
    "    time_text = ax.text(0.02, 0.95, '', transform=ax.transAxes)\n",
    "\n",
    "    line.set_data([], [])\n",
    "    time_text.set_text('')\n",
    "    x = np.array([0, jnt2pos[0], jnt3pos[0], endEffectPos[0]])\n",
    "    y = np.array([0, jnt2pos[1], jnt3pos[1], endEffectPos[1]])\n",
    "    line.set_data((x,y))\n",
    "    \n",
    "    plt.show()\n",
    "    \n",
    "# gif animation plotter\n",
    "def plotArm2(jnt2pos, jnt3pos, endEffectPos,x2,y2,target=None, step=None, fig=None, camera=None):\n",
    "    # set up figure\n",
    "    ax = fig.add_subplot(111, autoscale_on=False,\n",
    "                         xlim=(-25, 25), ylim=(-25, 25))\n",
    "    ax.grid()\n",
    "    line, = ax.plot([], [], 'o-', lw=4, mew=5, color='lightblue')\n",
    "    time_text = ax.text(0.02, 0.95, '', transform=ax.transAxes)\n",
    "\n",
    "    line.set_data([], [])\n",
    "    time_text.set_text('')\n",
    "    x = np.array([0, jnt2pos[0], jnt3pos[0], endEffectPos[0]])\n",
    "    y = np.array([0, jnt2pos[1], jnt3pos[1], endEffectPos[1]])\n",
    "    line.set_data((x,y))\n",
    "    \n",
    "    plt.plot([jnt2pos[0],x2[0]],[jnt2pos[1],y2[0]],'o-', lw=2, mew=5, color='black')\n",
    "    plt.plot([jnt2pos[0],x2[1]],[jnt2pos[1],y2[1]],'o-', lw=2, mew=5, color='black')\n",
    "\n",
    "\n",
    "    if step is not None:\n",
    "        step = np.array(step)\n",
    "        plt.scatter(step[:, 0],step[:, 1], color='lightblue', marker='o')\n",
    "        plt.plot(step[:, 0],step[:, 1], color='lightblue')\n",
    "    if target is not None:\n",
    "        target = np.array(target)\n",
    "        plt.scatter(target[:, 0],target[:, 1], color='red', marker='o')\n",
    "\n",
    "    camera.snap()"
   ]
  },
  {
   "cell_type": "markdown",
   "metadata": {},
   "source": [
    "In this part, let's plan some simple polynomial trajectories in the work space. "
   ]
  },
  {
   "cell_type": "markdown",
   "metadata": {},
   "source": [
    "First, setup a simple environment with the arm manipulator and four intermediate interpolation points."
   ]
  },
  {
   "cell_type": "code",
   "execution_count": 4,
   "metadata": {},
   "outputs": [],
   "source": [
    "def create_simulation(animation_index,samples):\n",
    "    \n",
    "    # Setup our new manipulator\n",
    "    arm = ThreeLinkArm()\n",
    "    \n",
    "    # define the initial configuration of the manipulator (you are welcomed to try other values)\n",
    "    initTheta = [np.deg2rad(0),np.deg2rad(45),np.deg2rad(-45)]\n",
    "\n",
    "    # Initialise the arm with the initial values\n",
    "    _ = arm.forwardKinematics(*initTheta)\n",
    "\n",
    "    # Get the initial end-effector position \n",
    "    init_joint2pos, init_joint3pos, EF_init_pos = arm.findJointPos()\n",
    "\n",
    "    # Define the target postions of the end-effector\n",
    "    # EF_target_pos = np.array([[EF_init_pos[0], 6.,2.,-4.,-8.],\n",
    "    #                           [EF_init_pos[1], -6.,8.,-5.,6.]]).T\n",
    "    ##Choose points randomly, choose x equally spaced and y randomly\n",
    "    L=arm.l1+arm.l2+arm.l3\n",
    "    print(L)\n",
    "    x_points=np.array([2/3*L, 1/3*L, -1/3*L, -2/3*L])\n",
    "\n",
    "    y_points=[]\n",
    "    R=3*L/4\n",
    "    for i in range(4):\n",
    "        y_points.append(random.uniform(-1*np.sqrt(R**2-x_points[i]**2),\n",
    "                                          np.sqrt(R**2-x_points[i]**2)))\n",
    "    y_points=np.array(y_points)\n",
    "    \n",
    "    EF_target_pos = np.array([[EF_init_pos[0], x_points[0],x_points[1],x_points[2],x_points[3]],\n",
    "                              [EF_init_pos[1], y_points[0],y_points[1],y_points[2],y_points[3]]]).T\n",
    "\n",
    "    # Plot the pose of the arm\n",
    "    #plotArm(*arm.findJointPos(), target=EF_target_pos)\n",
    "    print(f\"The interpolation points are stored in the variable \\\"EF_target_pos\\\": \\n{EF_target_pos}\")\n",
    "    \n",
    "    pol = np.polyfit(EF_target_pos[:, 0], EF_target_pos[:, 1], EF_target_pos.shape[0]-1)  # polynomial coefficients\n",
    "    \n",
    "    # Plotting the planned trajectory\n",
    "    #epsilon = 100\n",
    "    epsilon = samples\n",
    "    \n",
    "    xx = np.linspace(EF_target_pos[0,0],EF_target_pos[-1,0], epsilon)\n",
    "    yy = np.polyval(pol,xx)   \n",
    "    curve = np.hstack([xx[:, None], yy[:, None]]) \n",
    "    \n",
    "    interpolated_points=curve\n",
    "\n",
    "#     plotArm(*arm.findJointPos(), target=EF_target_pos, step=interpolated_points)\n",
    "    print(f\"The intermediate points are stored in the variable \\\"interpolated_points\\\"\")\n",
    "    \n",
    "    # set the current E-F position for the IK loop\n",
    "    joint2pos, joint3pos, endEffectorPos = init_joint2pos, init_joint3pos, EF_init_pos\n",
    "    # set the initial robot configuration\n",
    "    newTheta = initTheta\n",
    "\n",
    "    # Set up the animation generator\n",
    "    fig = plt.figure(figsize=(10,10))\n",
    "    camera = Camera(fig)\n",
    "    \n",
    "    temp_eeff_angle=np.append(np.linspace(0,45,int(interpolated_points.shape[0]/8)),\n",
    "                          np.linspace(45,0,int(interpolated_points.shape[0]/8)))\n",
    "    \n",
    "    wrist_len=np.random.randint(2,arm.l2+1)\n",
    "    \n",
    "    keypoints_data=pd.DataFrame(columns=range((4+2)*2),dtype=float)\n",
    "\n",
    "    for i in range(interpolated_points.shape[0]):\n",
    "        J = arm.geomJacobian()\n",
    "\n",
    "        newgoal = interpolated_points[i, :]\n",
    "        deltaStep = newgoal - endEffectorPos\n",
    "        subtarget = np.array([deltaStep[0], deltaStep[1], 0]) \n",
    "\n",
    "        radTheta = np.linalg.pinv(J) @ subtarget\n",
    "        newTheta = newTheta + radTheta\n",
    "\n",
    "        # ----------- Do forward kinematics to plot the arm ---------------\n",
    "        _ = arm.forwardKinematics(newTheta[0],newTheta[1],newTheta[2])\n",
    "        joint2pos, joint3pos, endEffectorPos = arm.findJointPos()\n",
    "\n",
    "        x2=[]\n",
    "        y2=[]\n",
    "\n",
    "        x2=x2+[arm.l1*np.cos(newTheta[0]) \\\n",
    "               +wrist_len*np.cos(newTheta[0]+newTheta[1]+np.deg2rad(temp_eeff_angle[i%len(temp_eeff_angle)]))]\n",
    "    \n",
    "        y2=y2+[arm.l1*np.sin(newTheta[0]) \\\n",
    "               +wrist_len*np.sin(newTheta[0]+newTheta[1]+np.deg2rad(temp_eeff_angle[i%len(temp_eeff_angle)]))]\n",
    "\n",
    "        x2=x2+[arm.l1*np.cos(newTheta[0]) \\\n",
    "               +wrist_len*np.cos(newTheta[0]+newTheta[1]-np.deg2rad(temp_eeff_angle[i%len(temp_eeff_angle)]))]\n",
    "    \n",
    "        y2=y2+[arm.l1*np.sin(newTheta[0]) \\\n",
    "               +wrist_len*np.sin(newTheta[0]+newTheta[1]-np.deg2rad(temp_eeff_angle[i%len(temp_eeff_angle)]))]\n",
    "\n",
    "        temp_keypoints=np.array([0,0,joint2pos[0],joint2pos[1],joint3pos[0],joint3pos[1],\n",
    "                                 endEffectorPos[0],endEffectorPos[1]])\n",
    "        \n",
    "        temp_keypoints=np.append(temp_keypoints,np.array([x2[0],y2[0],x2[1],y2[1]]))\n",
    "        \n",
    "        keypoints_data = keypoints_data.append(pd.DataFrame(temp_keypoints[None,:],columns=keypoints_data.columns),\n",
    "                                               ignore_index = True)\n",
    "        \n",
    "        plotArm2(joint2pos, joint3pos, endEffectorPos,x2,y2, target=EF_target_pos, fig=fig, camera=camera)\n",
    "\n",
    "\n",
    "    plt.close()\n",
    "    animation = camera.animate()\n",
    "    animation.save('./animated_motionv9/animated_motion'+str(animation_index)+'.gif', writer = 'imagemagick')\n",
    "    \n",
    "    # create the adjacency matrix\n",
    "    adj_mat=np.zeros((4+2,4+2))\n",
    "    adj_mat[0][1]=1\n",
    "    adj_mat[1][2]=1\n",
    "    adj_mat[2][3]=1\n",
    "    adj_mat[1][4]=1\n",
    "    adj_mat[1][5]=1\n",
    "    \n",
    "    pd.DataFrame(adj_mat).astype(int).to_csv('./animated_motionv9/adj_mat'+str(animation_index)+'.csv')\n",
    "    keypoints_data.to_csv('./animated_motionv9/ts_data'+str(animation_index)+'.csv')    \n",
    "    "
   ]
  },
  {
   "cell_type": "code",
   "execution_count": 5,
   "metadata": {},
   "outputs": [],
   "source": [
    "# create_simulation(7004,50)"
   ]
  },
  {
   "cell_type": "code",
   "execution_count": 6,
   "metadata": {},
   "outputs": [],
   "source": [
    "import os\n",
    "os.environ['MAGICK_THREAD_LIMIT'] = '2'"
   ]
  },
  {
   "cell_type": "code",
   "execution_count": 7,
   "metadata": {},
   "outputs": [
    {
     "name": "stdout",
     "output_type": "stream",
     "text": [
      "16\n",
      "The interpolation points are stored in the variable \"EF_target_pos\": \n",
      "[[ 14.82842712   2.82842712]\n",
      " [ 10.66666667  -0.3168705 ]\n",
      " [  5.33333333   5.52885259]\n",
      " [ -5.33333333  10.37838115]\n",
      " [-10.66666667   3.96637128]]\n",
      "The intermediate points are stored in the variable \"interpolated_points\"\n"
     ]
    },
    {
     "name": "stderr",
     "output_type": "stream",
     "text": [
      "<ipython-input-3-d26a071e78a2>:29: MatplotlibDeprecationWarning: Adding an axes using the same arguments as a previous axes currently reuses the earlier instance.  In a future version, a new instance will always be created and returned.  Meanwhile, this warning can be suppressed, and the future behavior ensured, by passing a unique label to each axes instance.\n",
      "  ax = fig.add_subplot(111, autoscale_on=False,\n"
     ]
    },
    {
     "name": "stdout",
     "output_type": "stream",
     "text": [
      "15\n",
      "The interpolation points are stored in the variable \"EF_target_pos\": \n",
      "[[ 13.82842712   2.82842712]\n",
      " [ 10.           2.41770149]\n",
      " [  5.          -7.5207281 ]\n",
      " [ -5.           7.86399074]\n",
      " [-10.           0.34321888]]\n",
      "The intermediate points are stored in the variable \"interpolated_points\"\n"
     ]
    },
    {
     "name": "stderr",
     "output_type": "stream",
     "text": [
      "<ipython-input-3-d26a071e78a2>:29: MatplotlibDeprecationWarning: Adding an axes using the same arguments as a previous axes currently reuses the earlier instance.  In a future version, a new instance will always be created and returned.  Meanwhile, this warning can be suppressed, and the future behavior ensured, by passing a unique label to each axes instance.\n",
      "  ax = fig.add_subplot(111, autoscale_on=False,\n"
     ]
    },
    {
     "name": "stdout",
     "output_type": "stream",
     "text": [
      "14\n",
      "The interpolation points are stored in the variable \"EF_target_pos\": \n",
      "[[12.82842712  2.82842712]\n",
      " [ 9.33333333  2.69778748]\n",
      " [ 4.66666667  8.11818776]\n",
      " [-4.66666667  7.57826559]\n",
      " [-9.33333333 -3.36727722]]\n",
      "The intermediate points are stored in the variable \"interpolated_points\"\n"
     ]
    },
    {
     "name": "stderr",
     "output_type": "stream",
     "text": [
      "<ipython-input-3-d26a071e78a2>:29: MatplotlibDeprecationWarning: Adding an axes using the same arguments as a previous axes currently reuses the earlier instance.  In a future version, a new instance will always be created and returned.  Meanwhile, this warning can be suppressed, and the future behavior ensured, by passing a unique label to each axes instance.\n",
      "  ax = fig.add_subplot(111, autoscale_on=False,\n"
     ]
    },
    {
     "name": "stdout",
     "output_type": "stream",
     "text": [
      "16\n",
      "The interpolation points are stored in the variable \"EF_target_pos\": \n",
      "[[ 14.82842712   2.82842712]\n",
      " [ 10.66666667   1.23564871]\n",
      " [  5.33333333  -4.72664612]\n",
      " [ -5.33333333   4.61598692]\n",
      " [-10.66666667  -3.59614023]]\n",
      "The intermediate points are stored in the variable \"interpolated_points\"\n"
     ]
    },
    {
     "name": "stderr",
     "output_type": "stream",
     "text": [
      "<ipython-input-3-d26a071e78a2>:29: MatplotlibDeprecationWarning: Adding an axes using the same arguments as a previous axes currently reuses the earlier instance.  In a future version, a new instance will always be created and returned.  Meanwhile, this warning can be suppressed, and the future behavior ensured, by passing a unique label to each axes instance.\n",
      "  ax = fig.add_subplot(111, autoscale_on=False,\n"
     ]
    },
    {
     "name": "stdout",
     "output_type": "stream",
     "text": [
      "17\n",
      "The interpolation points are stored in the variable \"EF_target_pos\": \n",
      "[[ 14.94974747   4.94974747]\n",
      " [ 11.33333333  -4.40092556]\n",
      " [  5.66666667   3.70881217]\n",
      " [ -5.66666667   0.8198215 ]\n",
      " [-11.33333333   4.42548023]]\n",
      "The intermediate points are stored in the variable \"interpolated_points\"\n"
     ]
    },
    {
     "name": "stderr",
     "output_type": "stream",
     "text": [
      "<ipython-input-3-d26a071e78a2>:29: MatplotlibDeprecationWarning: Adding an axes using the same arguments as a previous axes currently reuses the earlier instance.  In a future version, a new instance will always be created and returned.  Meanwhile, this warning can be suppressed, and the future behavior ensured, by passing a unique label to each axes instance.\n",
      "  ax = fig.add_subplot(111, autoscale_on=False,\n"
     ]
    },
    {
     "name": "stdout",
     "output_type": "stream",
     "text": [
      "10\n",
      "The interpolation points are stored in the variable \"EF_target_pos\": \n",
      "[[ 9.41421356  1.41421356]\n",
      " [ 6.66666667  0.52497964]\n",
      " [ 3.33333333  1.98819755]\n",
      " [-3.33333333  2.68575168]\n",
      " [-6.66666667  0.40361509]]\n",
      "The intermediate points are stored in the variable \"interpolated_points\"\n"
     ]
    },
    {
     "name": "stderr",
     "output_type": "stream",
     "text": [
      "<ipython-input-3-d26a071e78a2>:29: MatplotlibDeprecationWarning: Adding an axes using the same arguments as a previous axes currently reuses the earlier instance.  In a future version, a new instance will always be created and returned.  Meanwhile, this warning can be suppressed, and the future behavior ensured, by passing a unique label to each axes instance.\n",
      "  ax = fig.add_subplot(111, autoscale_on=False,\n"
     ]
    },
    {
     "name": "stdout",
     "output_type": "stream",
     "text": [
      "12\n",
      "The interpolation points are stored in the variable \"EF_target_pos\": \n",
      "[[10.53553391  3.53553391]\n",
      " [ 8.          0.15599461]\n",
      " [ 4.          2.58513496]\n",
      " [-4.          7.13634495]\n",
      " [-8.         -2.12681803]]\n",
      "The intermediate points are stored in the variable \"interpolated_points\"\n"
     ]
    },
    {
     "name": "stderr",
     "output_type": "stream",
     "text": [
      "<ipython-input-3-d26a071e78a2>:29: MatplotlibDeprecationWarning: Adding an axes using the same arguments as a previous axes currently reuses the earlier instance.  In a future version, a new instance will always be created and returned.  Meanwhile, this warning can be suppressed, and the future behavior ensured, by passing a unique label to each axes instance.\n",
      "  ax = fig.add_subplot(111, autoscale_on=False,\n"
     ]
    },
    {
     "name": "stdout",
     "output_type": "stream",
     "text": [
      "10\n",
      "The interpolation points are stored in the variable \"EF_target_pos\": \n",
      "[[ 9.41421356  1.41421356]\n",
      " [ 6.66666667  1.26424649]\n",
      " [ 3.33333333  5.49617144]\n",
      " [-3.33333333  0.82380958]\n",
      " [-6.66666667 -0.40230838]]\n",
      "The intermediate points are stored in the variable \"interpolated_points\"\n"
     ]
    },
    {
     "name": "stderr",
     "output_type": "stream",
     "text": [
      "<ipython-input-3-d26a071e78a2>:29: MatplotlibDeprecationWarning: Adding an axes using the same arguments as a previous axes currently reuses the earlier instance.  In a future version, a new instance will always be created and returned.  Meanwhile, this warning can be suppressed, and the future behavior ensured, by passing a unique label to each axes instance.\n",
      "  ax = fig.add_subplot(111, autoscale_on=False,\n"
     ]
    },
    {
     "name": "stdout",
     "output_type": "stream",
     "text": [
      "13\n",
      "The interpolation points are stored in the variable \"EF_target_pos\": \n",
      "[[12.12132034  2.12132034]\n",
      " [ 8.66666667 -3.30598135]\n",
      " [ 4.33333333 -0.25781782]\n",
      " [-4.33333333  0.63605156]\n",
      " [-8.66666667 -2.2902952 ]]\n",
      "The intermediate points are stored in the variable \"interpolated_points\"\n"
     ]
    },
    {
     "name": "stderr",
     "output_type": "stream",
     "text": [
      "<ipython-input-3-d26a071e78a2>:29: MatplotlibDeprecationWarning: Adding an axes using the same arguments as a previous axes currently reuses the earlier instance.  In a future version, a new instance will always be created and returned.  Meanwhile, this warning can be suppressed, and the future behavior ensured, by passing a unique label to each axes instance.\n",
      "  ax = fig.add_subplot(111, autoscale_on=False,\n"
     ]
    },
    {
     "name": "stdout",
     "output_type": "stream",
     "text": [
      "12\n",
      "The interpolation points are stored in the variable \"EF_target_pos\": \n",
      "[[11.41421356  1.41421356]\n",
      " [ 8.          1.42926763]\n",
      " [ 4.          6.49739127]\n",
      " [-4.         -5.80309745]\n",
      " [-8.         -2.12184223]]\n",
      "The intermediate points are stored in the variable \"interpolated_points\"\n"
     ]
    },
    {
     "name": "stderr",
     "output_type": "stream",
     "text": [
      "<ipython-input-3-d26a071e78a2>:29: MatplotlibDeprecationWarning: Adding an axes using the same arguments as a previous axes currently reuses the earlier instance.  In a future version, a new instance will always be created and returned.  Meanwhile, this warning can be suppressed, and the future behavior ensured, by passing a unique label to each axes instance.\n",
      "  ax = fig.add_subplot(111, autoscale_on=False,\n"
     ]
    },
    {
     "name": "stdout",
     "output_type": "stream",
     "text": [
      "9\n",
      "The interpolation points are stored in the variable \"EF_target_pos\": \n",
      "[[ 8.12132034  2.12132034]\n",
      " [ 6.         -2.93027048]\n",
      " [ 3.         -6.00194375]\n",
      " [-3.          1.51572149]\n",
      " [-6.          0.09151691]]\n",
      "The intermediate points are stored in the variable \"interpolated_points\"\n"
     ]
    },
    {
     "name": "stderr",
     "output_type": "stream",
     "text": [
      "<ipython-input-3-d26a071e78a2>:29: MatplotlibDeprecationWarning: Adding an axes using the same arguments as a previous axes currently reuses the earlier instance.  In a future version, a new instance will always be created and returned.  Meanwhile, this warning can be suppressed, and the future behavior ensured, by passing a unique label to each axes instance.\n",
      "  ax = fig.add_subplot(111, autoscale_on=False,\n"
     ]
    },
    {
     "name": "stdout",
     "output_type": "stream",
     "text": [
      "13\n",
      "The interpolation points are stored in the variable \"EF_target_pos\": \n",
      "[[12.41421356  1.41421356]\n",
      " [ 8.66666667 -4.26905486]\n",
      " [ 4.33333333  3.22144731]\n",
      " [-4.33333333  8.44060062]\n",
      " [-8.66666667 -0.62451361]]\n",
      "The intermediate points are stored in the variable \"interpolated_points\"\n"
     ]
    },
    {
     "name": "stderr",
     "output_type": "stream",
     "text": [
      "<ipython-input-3-d26a071e78a2>:29: MatplotlibDeprecationWarning: Adding an axes using the same arguments as a previous axes currently reuses the earlier instance.  In a future version, a new instance will always be created and returned.  Meanwhile, this warning can be suppressed, and the future behavior ensured, by passing a unique label to each axes instance.\n",
      "  ax = fig.add_subplot(111, autoscale_on=False,\n"
     ]
    },
    {
     "name": "stdout",
     "output_type": "stream",
     "text": [
      "14\n",
      "The interpolation points are stored in the variable \"EF_target_pos\": \n",
      "[[12.53553391  3.53553391]\n",
      " [ 9.33333333 -0.84457623]\n",
      " [ 4.66666667 -5.55213677]\n",
      " [-4.66666667  6.07253007]\n",
      " [-9.33333333  4.60078139]]\n",
      "The intermediate points are stored in the variable \"interpolated_points\"\n"
     ]
    },
    {
     "name": "stderr",
     "output_type": "stream",
     "text": [
      "<ipython-input-3-d26a071e78a2>:29: MatplotlibDeprecationWarning: Adding an axes using the same arguments as a previous axes currently reuses the earlier instance.  In a future version, a new instance will always be created and returned.  Meanwhile, this warning can be suppressed, and the future behavior ensured, by passing a unique label to each axes instance.\n",
      "  ax = fig.add_subplot(111, autoscale_on=False,\n"
     ]
    },
    {
     "name": "stdout",
     "output_type": "stream",
     "text": [
      "15\n",
      "The interpolation points are stored in the variable \"EF_target_pos\": \n",
      "[[ 13.82842712   2.82842712]\n",
      " [ 10.          -3.15750632]\n",
      " [  5.          -2.44433494]\n",
      " [ -5.           7.11288384]\n",
      " [-10.          -4.63522696]]\n",
      "The intermediate points are stored in the variable \"interpolated_points\"\n"
     ]
    },
    {
     "name": "stderr",
     "output_type": "stream",
     "text": [
      "<ipython-input-3-d26a071e78a2>:29: MatplotlibDeprecationWarning: Adding an axes using the same arguments as a previous axes currently reuses the earlier instance.  In a future version, a new instance will always be created and returned.  Meanwhile, this warning can be suppressed, and the future behavior ensured, by passing a unique label to each axes instance.\n",
      "  ax = fig.add_subplot(111, autoscale_on=False,\n"
     ]
    },
    {
     "name": "stdout",
     "output_type": "stream",
     "text": [
      "13\n",
      "The interpolation points are stored in the variable \"EF_target_pos\": \n",
      "[[12.12132034  2.12132034]\n",
      " [ 8.66666667 -3.43776157]\n",
      " [ 4.33333333 -6.52517104]\n",
      " [-4.33333333  0.92309708]\n",
      " [-8.66666667 -0.09088145]]\n",
      "The intermediate points are stored in the variable \"interpolated_points\"\n"
     ]
    },
    {
     "name": "stderr",
     "output_type": "stream",
     "text": [
      "<ipython-input-3-d26a071e78a2>:29: MatplotlibDeprecationWarning: Adding an axes using the same arguments as a previous axes currently reuses the earlier instance.  In a future version, a new instance will always be created and returned.  Meanwhile, this warning can be suppressed, and the future behavior ensured, by passing a unique label to each axes instance.\n",
      "  ax = fig.add_subplot(111, autoscale_on=False,\n"
     ]
    },
    {
     "name": "stdout",
     "output_type": "stream",
     "text": [
      "17\n",
      "The interpolation points are stored in the variable \"EF_target_pos\": \n",
      "[[ 15.24264069   4.24264069]\n",
      " [ 11.33333333   3.03413482]\n",
      " [  5.66666667 -10.38482916]\n",
      " [ -5.66666667 -10.5350582 ]\n",
      " [-11.33333333   4.6935653 ]]\n",
      "The intermediate points are stored in the variable \"interpolated_points\"\n"
     ]
    },
    {
     "name": "stderr",
     "output_type": "stream",
     "text": [
      "<ipython-input-3-d26a071e78a2>:29: MatplotlibDeprecationWarning: Adding an axes using the same arguments as a previous axes currently reuses the earlier instance.  In a future version, a new instance will always be created and returned.  Meanwhile, this warning can be suppressed, and the future behavior ensured, by passing a unique label to each axes instance.\n",
      "  ax = fig.add_subplot(111, autoscale_on=False,\n"
     ]
    },
    {
     "name": "stdout",
     "output_type": "stream",
     "text": [
      "15\n",
      "The interpolation points are stored in the variable \"EF_target_pos\": \n",
      "[[ 13.82842712   2.82842712]\n",
      " [ 10.          -0.33133192]\n",
      " [  5.          -1.92101501]\n",
      " [ -5.           0.47170651]\n",
      " [-10.          -4.51073268]]\n",
      "The intermediate points are stored in the variable \"interpolated_points\"\n"
     ]
    },
    {
     "name": "stderr",
     "output_type": "stream",
     "text": [
      "<ipython-input-3-d26a071e78a2>:29: MatplotlibDeprecationWarning: Adding an axes using the same arguments as a previous axes currently reuses the earlier instance.  In a future version, a new instance will always be created and returned.  Meanwhile, this warning can be suppressed, and the future behavior ensured, by passing a unique label to each axes instance.\n",
      "  ax = fig.add_subplot(111, autoscale_on=False,\n"
     ]
    },
    {
     "name": "stdout",
     "output_type": "stream",
     "text": [
      "12\n",
      "The interpolation points are stored in the variable \"EF_target_pos\": \n",
      "[[10.53553391  3.53553391]\n",
      " [ 8.          3.63185118]\n",
      " [ 4.         -2.03407106]\n",
      " [-4.         -2.699284  ]\n",
      " [-8.         -2.70692155]]\n",
      "The intermediate points are stored in the variable \"interpolated_points\"\n"
     ]
    },
    {
     "name": "stderr",
     "output_type": "stream",
     "text": [
      "<ipython-input-3-d26a071e78a2>:29: MatplotlibDeprecationWarning: Adding an axes using the same arguments as a previous axes currently reuses the earlier instance.  In a future version, a new instance will always be created and returned.  Meanwhile, this warning can be suppressed, and the future behavior ensured, by passing a unique label to each axes instance.\n",
      "  ax = fig.add_subplot(111, autoscale_on=False,\n"
     ]
    },
    {
     "name": "stdout",
     "output_type": "stream",
     "text": [
      "11\n",
      "The interpolation points are stored in the variable \"EF_target_pos\": \n",
      "[[ 9.53553391  3.53553391]\n",
      " [ 7.33333333 -0.79165872]\n",
      " [ 3.66666667 -0.36653832]\n",
      " [-3.66666667  2.81428742]\n",
      " [-7.33333333 -0.52939934]]\n",
      "The intermediate points are stored in the variable \"interpolated_points\"\n"
     ]
    },
    {
     "name": "stderr",
     "output_type": "stream",
     "text": [
      "<ipython-input-3-d26a071e78a2>:29: MatplotlibDeprecationWarning: Adding an axes using the same arguments as a previous axes currently reuses the earlier instance.  In a future version, a new instance will always be created and returned.  Meanwhile, this warning can be suppressed, and the future behavior ensured, by passing a unique label to each axes instance.\n",
      "  ax = fig.add_subplot(111, autoscale_on=False,\n"
     ]
    },
    {
     "name": "stdout",
     "output_type": "stream",
     "text": [
      "10\n",
      "The interpolation points are stored in the variable \"EF_target_pos\": \n",
      "[[ 8.53553391  3.53553391]\n",
      " [ 6.66666667  3.04434579]\n",
      " [ 3.33333333 -0.33173749]\n",
      " [-3.33333333  0.31542609]\n",
      " [-6.66666667  0.07238109]]\n",
      "The intermediate points are stored in the variable \"interpolated_points\"\n"
     ]
    },
    {
     "name": "stderr",
     "output_type": "stream",
     "text": [
      "<ipython-input-3-d26a071e78a2>:29: MatplotlibDeprecationWarning: Adding an axes using the same arguments as a previous axes currently reuses the earlier instance.  In a future version, a new instance will always be created and returned.  Meanwhile, this warning can be suppressed, and the future behavior ensured, by passing a unique label to each axes instance.\n",
      "  ax = fig.add_subplot(111, autoscale_on=False,\n"
     ]
    },
    {
     "name": "stdout",
     "output_type": "stream",
     "text": [
      "14\n",
      "The interpolation points are stored in the variable \"EF_target_pos\": \n",
      "[[12.82842712  2.82842712]\n",
      " [ 9.33333333 -2.49815313]\n",
      " [ 4.66666667 -8.08975271]\n",
      " [-4.66666667  7.1120129 ]\n",
      " [-9.33333333 -1.58900255]]\n",
      "The intermediate points are stored in the variable \"interpolated_points\"\n"
     ]
    },
    {
     "name": "stderr",
     "output_type": "stream",
     "text": [
      "<ipython-input-3-d26a071e78a2>:29: MatplotlibDeprecationWarning: Adding an axes using the same arguments as a previous axes currently reuses the earlier instance.  In a future version, a new instance will always be created and returned.  Meanwhile, this warning can be suppressed, and the future behavior ensured, by passing a unique label to each axes instance.\n",
      "  ax = fig.add_subplot(111, autoscale_on=False,\n"
     ]
    },
    {
     "name": "stdout",
     "output_type": "stream",
     "text": [
      "13\n",
      "The interpolation points are stored in the variable \"EF_target_pos\": \n",
      "[[11.24264069  4.24264069]\n",
      " [ 8.66666667  1.24521802]\n",
      " [ 4.33333333 -4.81619965]\n",
      " [-4.33333333  1.67727227]\n",
      " [-8.66666667  4.39414524]]\n",
      "The intermediate points are stored in the variable \"interpolated_points\"\n"
     ]
    },
    {
     "name": "stderr",
     "output_type": "stream",
     "text": [
      "<ipython-input-3-d26a071e78a2>:29: MatplotlibDeprecationWarning: Adding an axes using the same arguments as a previous axes currently reuses the earlier instance.  In a future version, a new instance will always be created and returned.  Meanwhile, this warning can be suppressed, and the future behavior ensured, by passing a unique label to each axes instance.\n",
      "  ax = fig.add_subplot(111, autoscale_on=False,\n"
     ]
    },
    {
     "name": "stdout",
     "output_type": "stream",
     "text": [
      "16\n",
      "The interpolation points are stored in the variable \"EF_target_pos\": \n",
      "[[ 14.53553391   3.53553391]\n",
      " [ 10.66666667  -2.21137806]\n",
      " [  5.33333333  10.42190207]\n",
      " [ -5.33333333  -8.08265055]\n",
      " [-10.66666667   0.50801367]]\n",
      "The intermediate points are stored in the variable \"interpolated_points\"\n"
     ]
    },
    {
     "name": "stderr",
     "output_type": "stream",
     "text": [
      "<ipython-input-3-d26a071e78a2>:29: MatplotlibDeprecationWarning: Adding an axes using the same arguments as a previous axes currently reuses the earlier instance.  In a future version, a new instance will always be created and returned.  Meanwhile, this warning can be suppressed, and the future behavior ensured, by passing a unique label to each axes instance.\n",
      "  ax = fig.add_subplot(111, autoscale_on=False,\n"
     ]
    },
    {
     "name": "stdout",
     "output_type": "stream",
     "text": [
      "11\n",
      "The interpolation points are stored in the variable \"EF_target_pos\": \n",
      "[[ 9.24264069  4.24264069]\n",
      " [ 7.33333333 -0.82267322]\n",
      " [ 3.66666667  0.35048635]\n",
      " [-3.66666667 -0.27793855]\n",
      " [-7.33333333 -2.20856225]]\n",
      "The intermediate points are stored in the variable \"interpolated_points\"\n"
     ]
    },
    {
     "name": "stderr",
     "output_type": "stream",
     "text": [
      "<ipython-input-3-d26a071e78a2>:29: MatplotlibDeprecationWarning: Adding an axes using the same arguments as a previous axes currently reuses the earlier instance.  In a future version, a new instance will always be created and returned.  Meanwhile, this warning can be suppressed, and the future behavior ensured, by passing a unique label to each axes instance.\n",
      "  ax = fig.add_subplot(111, autoscale_on=False,\n"
     ]
    },
    {
     "name": "stdout",
     "output_type": "stream",
     "text": [
      "15\n",
      "The interpolation points are stored in the variable \"EF_target_pos\": \n",
      "[[ 13.24264069   4.24264069]\n",
      " [ 10.           2.63056523]\n",
      " [  5.          -8.60871528]\n",
      " [ -5.           2.65683634]\n",
      " [-10.          -3.42231537]]\n",
      "The intermediate points are stored in the variable \"interpolated_points\"\n"
     ]
    },
    {
     "name": "stderr",
     "output_type": "stream",
     "text": [
      "<ipython-input-3-d26a071e78a2>:29: MatplotlibDeprecationWarning: Adding an axes using the same arguments as a previous axes currently reuses the earlier instance.  In a future version, a new instance will always be created and returned.  Meanwhile, this warning can be suppressed, and the future behavior ensured, by passing a unique label to each axes instance.\n",
      "  ax = fig.add_subplot(111, autoscale_on=False,\n"
     ]
    },
    {
     "name": "stdout",
     "output_type": "stream",
     "text": [
      "13\n",
      "The interpolation points are stored in the variable \"EF_target_pos\": \n",
      "[[10.94974747  4.94974747]\n",
      " [ 8.66666667 -2.50202664]\n",
      " [ 4.33333333  1.53505786]\n",
      " [-4.33333333  0.58880984]\n",
      " [-8.66666667  3.01332817]]\n",
      "The intermediate points are stored in the variable \"interpolated_points\"\n"
     ]
    },
    {
     "name": "stderr",
     "output_type": "stream",
     "text": [
      "<ipython-input-3-d26a071e78a2>:29: MatplotlibDeprecationWarning: Adding an axes using the same arguments as a previous axes currently reuses the earlier instance.  In a future version, a new instance will always be created and returned.  Meanwhile, this warning can be suppressed, and the future behavior ensured, by passing a unique label to each axes instance.\n",
      "  ax = fig.add_subplot(111, autoscale_on=False,\n"
     ]
    },
    {
     "name": "stdout",
     "output_type": "stream",
     "text": [
      "15\n",
      "The interpolation points are stored in the variable \"EF_target_pos\": \n",
      "[[ 14.12132034   2.12132034]\n",
      " [ 10.          -0.39029685]\n",
      " [  5.          -3.01560825]\n",
      " [ -5.          -0.40740139]\n",
      " [-10.           0.24932956]]\n",
      "The intermediate points are stored in the variable \"interpolated_points\"\n"
     ]
    },
    {
     "name": "stderr",
     "output_type": "stream",
     "text": [
      "<ipython-input-3-d26a071e78a2>:29: MatplotlibDeprecationWarning: Adding an axes using the same arguments as a previous axes currently reuses the earlier instance.  In a future version, a new instance will always be created and returned.  Meanwhile, this warning can be suppressed, and the future behavior ensured, by passing a unique label to each axes instance.\n",
      "  ax = fig.add_subplot(111, autoscale_on=False,\n"
     ]
    },
    {
     "name": "stdout",
     "output_type": "stream",
     "text": [
      "16\n",
      "The interpolation points are stored in the variable \"EF_target_pos\": \n",
      "[[ 14.24264069   4.24264069]\n",
      " [ 10.66666667   3.94765792]\n",
      " [  5.33333333   3.83535513]\n",
      " [ -5.33333333  10.07814677]\n",
      " [-10.66666667   0.40577724]]\n",
      "The intermediate points are stored in the variable \"interpolated_points\"\n"
     ]
    },
    {
     "name": "stderr",
     "output_type": "stream",
     "text": [
      "<ipython-input-3-d26a071e78a2>:29: MatplotlibDeprecationWarning: Adding an axes using the same arguments as a previous axes currently reuses the earlier instance.  In a future version, a new instance will always be created and returned.  Meanwhile, this warning can be suppressed, and the future behavior ensured, by passing a unique label to each axes instance.\n",
      "  ax = fig.add_subplot(111, autoscale_on=False,\n"
     ]
    },
    {
     "name": "stdout",
     "output_type": "stream",
     "text": [
      "12\n",
      "The interpolation points are stored in the variable \"EF_target_pos\": \n",
      "[[11.12132034  2.12132034]\n",
      " [ 8.         -2.80991327]\n",
      " [ 4.          3.39610984]\n",
      " [-4.         -3.41053689]\n",
      " [-8.         -2.45672435]]\n",
      "The intermediate points are stored in the variable \"interpolated_points\"\n"
     ]
    },
    {
     "name": "stderr",
     "output_type": "stream",
     "text": [
      "<ipython-input-3-d26a071e78a2>:29: MatplotlibDeprecationWarning: Adding an axes using the same arguments as a previous axes currently reuses the earlier instance.  In a future version, a new instance will always be created and returned.  Meanwhile, this warning can be suppressed, and the future behavior ensured, by passing a unique label to each axes instance.\n",
      "  ax = fig.add_subplot(111, autoscale_on=False,\n"
     ]
    },
    {
     "name": "stdout",
     "output_type": "stream",
     "text": [
      "15\n",
      "The interpolation points are stored in the variable \"EF_target_pos\": \n",
      "[[ 14.12132034   2.12132034]\n",
      " [ 10.           4.39543747]\n",
      " [  5.           3.03420771]\n",
      " [ -5.          -2.68123649]\n",
      " [-10.           2.1863482 ]]\n",
      "The intermediate points are stored in the variable \"interpolated_points\"\n"
     ]
    },
    {
     "name": "stderr",
     "output_type": "stream",
     "text": [
      "<ipython-input-3-d26a071e78a2>:29: MatplotlibDeprecationWarning: Adding an axes using the same arguments as a previous axes currently reuses the earlier instance.  In a future version, a new instance will always be created and returned.  Meanwhile, this warning can be suppressed, and the future behavior ensured, by passing a unique label to each axes instance.\n",
      "  ax = fig.add_subplot(111, autoscale_on=False,\n"
     ]
    },
    {
     "name": "stdout",
     "output_type": "stream",
     "text": [
      "18\n",
      "The interpolation points are stored in the variable \"EF_target_pos\": \n",
      "[[ 15.94974747   4.94974747]\n",
      " [ 12.          -0.15534594]\n",
      " [  6.           5.21208885]\n",
      " [ -6.          -5.25983678]\n",
      " [-12.           1.03309888]]\n",
      "The intermediate points are stored in the variable \"interpolated_points\"\n"
     ]
    },
    {
     "name": "stderr",
     "output_type": "stream",
     "text": [
      "<ipython-input-3-d26a071e78a2>:29: MatplotlibDeprecationWarning: Adding an axes using the same arguments as a previous axes currently reuses the earlier instance.  In a future version, a new instance will always be created and returned.  Meanwhile, this warning can be suppressed, and the future behavior ensured, by passing a unique label to each axes instance.\n",
      "  ax = fig.add_subplot(111, autoscale_on=False,\n"
     ]
    },
    {
     "name": "stdout",
     "output_type": "stream",
     "text": [
      "13\n",
      "The interpolation points are stored in the variable \"EF_target_pos\": \n",
      "[[11.53553391  3.53553391]\n",
      " [ 8.66666667 -2.21121268]\n",
      " [ 4.33333333  3.56852367]\n",
      " [-4.33333333 -8.47624725]\n",
      " [-8.66666667  1.64172128]]\n",
      "The intermediate points are stored in the variable \"interpolated_points\"\n"
     ]
    },
    {
     "name": "stderr",
     "output_type": "stream",
     "text": [
      "<ipython-input-3-d26a071e78a2>:29: MatplotlibDeprecationWarning: Adding an axes using the same arguments as a previous axes currently reuses the earlier instance.  In a future version, a new instance will always be created and returned.  Meanwhile, this warning can be suppressed, and the future behavior ensured, by passing a unique label to each axes instance.\n",
      "  ax = fig.add_subplot(111, autoscale_on=False,\n"
     ]
    },
    {
     "name": "stdout",
     "output_type": "stream",
     "text": [
      "11\n",
      "The interpolation points are stored in the variable \"EF_target_pos\": \n",
      "[[ 9.24264069  4.24264069]\n",
      " [ 7.33333333 -3.17813905]\n",
      " [ 3.66666667  1.1054444 ]\n",
      " [-3.66666667  0.0544333 ]\n",
      " [-7.33333333  0.13522768]]\n",
      "The intermediate points are stored in the variable \"interpolated_points\"\n"
     ]
    },
    {
     "name": "stderr",
     "output_type": "stream",
     "text": [
      "<ipython-input-3-d26a071e78a2>:29: MatplotlibDeprecationWarning: Adding an axes using the same arguments as a previous axes currently reuses the earlier instance.  In a future version, a new instance will always be created and returned.  Meanwhile, this warning can be suppressed, and the future behavior ensured, by passing a unique label to each axes instance.\n",
      "  ax = fig.add_subplot(111, autoscale_on=False,\n"
     ]
    },
    {
     "name": "stdout",
     "output_type": "stream",
     "text": [
      "12\n",
      "The interpolation points are stored in the variable \"EF_target_pos\": \n",
      "[[10.82842712  2.82842712]\n",
      " [ 8.         -4.02078225]\n",
      " [ 4.         -4.97970911]\n",
      " [-4.         -6.56297446]\n",
      " [-8.          1.62370231]]\n",
      "The intermediate points are stored in the variable \"interpolated_points\"\n"
     ]
    },
    {
     "name": "stderr",
     "output_type": "stream",
     "text": [
      "<ipython-input-3-d26a071e78a2>:29: MatplotlibDeprecationWarning: Adding an axes using the same arguments as a previous axes currently reuses the earlier instance.  In a future version, a new instance will always be created and returned.  Meanwhile, this warning can be suppressed, and the future behavior ensured, by passing a unique label to each axes instance.\n",
      "  ax = fig.add_subplot(111, autoscale_on=False,\n"
     ]
    },
    {
     "name": "stdout",
     "output_type": "stream",
     "text": [
      "17\n",
      "The interpolation points are stored in the variable \"EF_target_pos\": \n",
      "[[ 16.12132034   2.12132034]\n",
      " [ 11.33333333   1.96998481]\n",
      " [  5.66666667  -7.94877697]\n",
      " [ -5.66666667   5.57572144]\n",
      " [-11.33333333   5.51560503]]\n",
      "The intermediate points are stored in the variable \"interpolated_points\"\n"
     ]
    },
    {
     "name": "stderr",
     "output_type": "stream",
     "text": [
      "<ipython-input-3-d26a071e78a2>:29: MatplotlibDeprecationWarning: Adding an axes using the same arguments as a previous axes currently reuses the earlier instance.  In a future version, a new instance will always be created and returned.  Meanwhile, this warning can be suppressed, and the future behavior ensured, by passing a unique label to each axes instance.\n",
      "  ax = fig.add_subplot(111, autoscale_on=False,\n"
     ]
    },
    {
     "name": "stdout",
     "output_type": "stream",
     "text": [
      "16\n",
      "The interpolation points are stored in the variable \"EF_target_pos\": \n",
      "[[ 14.24264069   4.24264069]\n",
      " [ 10.66666667  -2.71157781]\n",
      " [  5.33333333   7.49256753]\n",
      " [ -5.33333333  -4.10997223]\n",
      " [-10.66666667   4.96782137]]\n",
      "The intermediate points are stored in the variable \"interpolated_points\"\n"
     ]
    },
    {
     "name": "stderr",
     "output_type": "stream",
     "text": [
      "<ipython-input-3-d26a071e78a2>:29: MatplotlibDeprecationWarning: Adding an axes using the same arguments as a previous axes currently reuses the earlier instance.  In a future version, a new instance will always be created and returned.  Meanwhile, this warning can be suppressed, and the future behavior ensured, by passing a unique label to each axes instance.\n",
      "  ax = fig.add_subplot(111, autoscale_on=False,\n"
     ]
    },
    {
     "name": "stdout",
     "output_type": "stream",
     "text": [
      "15\n",
      "The interpolation points are stored in the variable \"EF_target_pos\": \n",
      "[[ 13.82842712   2.82842712]\n",
      " [ 10.          -2.42786529]\n",
      " [  5.          -5.8937276 ]\n",
      " [ -5.           3.09619336]\n",
      " [-10.           4.74030833]]\n",
      "The intermediate points are stored in the variable \"interpolated_points\"\n"
     ]
    },
    {
     "name": "stderr",
     "output_type": "stream",
     "text": [
      "<ipython-input-3-d26a071e78a2>:29: MatplotlibDeprecationWarning: Adding an axes using the same arguments as a previous axes currently reuses the earlier instance.  In a future version, a new instance will always be created and returned.  Meanwhile, this warning can be suppressed, and the future behavior ensured, by passing a unique label to each axes instance.\n",
      "  ax = fig.add_subplot(111, autoscale_on=False,\n"
     ]
    },
    {
     "name": "stdout",
     "output_type": "stream",
     "text": [
      "18\n",
      "The interpolation points are stored in the variable \"EF_target_pos\": \n",
      "[[ 16.53553391   3.53553391]\n",
      " [ 12.          -5.52136259]\n",
      " [  6.          -6.0260444 ]\n",
      " [ -6.          -1.51207501]\n",
      " [-12.          -0.49826695]]\n",
      "The intermediate points are stored in the variable \"interpolated_points\"\n"
     ]
    },
    {
     "name": "stderr",
     "output_type": "stream",
     "text": [
      "<ipython-input-3-d26a071e78a2>:29: MatplotlibDeprecationWarning: Adding an axes using the same arguments as a previous axes currently reuses the earlier instance.  In a future version, a new instance will always be created and returned.  Meanwhile, this warning can be suppressed, and the future behavior ensured, by passing a unique label to each axes instance.\n",
      "  ax = fig.add_subplot(111, autoscale_on=False,\n"
     ]
    },
    {
     "name": "stdout",
     "output_type": "stream",
     "text": [
      "13\n",
      "The interpolation points are stored in the variable \"EF_target_pos\": \n",
      "[[11.82842712  2.82842712]\n",
      " [ 8.66666667 -4.28665266]\n",
      " [ 4.33333333  5.99001526]\n",
      " [-4.33333333 -3.36822579]\n",
      " [-8.66666667  4.17444912]]\n",
      "The intermediate points are stored in the variable \"interpolated_points\"\n"
     ]
    },
    {
     "name": "stderr",
     "output_type": "stream",
     "text": [
      "<ipython-input-3-d26a071e78a2>:29: MatplotlibDeprecationWarning: Adding an axes using the same arguments as a previous axes currently reuses the earlier instance.  In a future version, a new instance will always be created and returned.  Meanwhile, this warning can be suppressed, and the future behavior ensured, by passing a unique label to each axes instance.\n",
      "  ax = fig.add_subplot(111, autoscale_on=False,\n"
     ]
    },
    {
     "name": "stdout",
     "output_type": "stream",
     "text": [
      "19\n",
      "The interpolation points are stored in the variable \"EF_target_pos\": \n",
      "[[ 17.24264069   4.24264069]\n",
      " [ 12.66666667   3.36046065]\n",
      " [  6.33333333   4.06832227]\n",
      " [ -6.33333333  -0.83892525]\n",
      " [-12.66666667   3.97934772]]\n",
      "The intermediate points are stored in the variable \"interpolated_points\"\n"
     ]
    },
    {
     "name": "stderr",
     "output_type": "stream",
     "text": [
      "<ipython-input-3-d26a071e78a2>:29: MatplotlibDeprecationWarning: Adding an axes using the same arguments as a previous axes currently reuses the earlier instance.  In a future version, a new instance will always be created and returned.  Meanwhile, this warning can be suppressed, and the future behavior ensured, by passing a unique label to each axes instance.\n",
      "  ax = fig.add_subplot(111, autoscale_on=False,\n"
     ]
    },
    {
     "name": "stdout",
     "output_type": "stream",
     "text": [
      "12\n",
      "The interpolation points are stored in the variable \"EF_target_pos\": \n",
      "[[10.53553391  3.53553391]\n",
      " [ 8.          2.8392126 ]\n",
      " [ 4.          4.19129721]\n",
      " [-4.          3.41249678]\n",
      " [-8.          3.65233122]]\n",
      "The intermediate points are stored in the variable \"interpolated_points\"\n"
     ]
    },
    {
     "name": "stderr",
     "output_type": "stream",
     "text": [
      "<ipython-input-3-d26a071e78a2>:29: MatplotlibDeprecationWarning: Adding an axes using the same arguments as a previous axes currently reuses the earlier instance.  In a future version, a new instance will always be created and returned.  Meanwhile, this warning can be suppressed, and the future behavior ensured, by passing a unique label to each axes instance.\n",
      "  ax = fig.add_subplot(111, autoscale_on=False,\n"
     ]
    },
    {
     "name": "stdout",
     "output_type": "stream",
     "text": [
      "7\n",
      "The interpolation points are stored in the variable \"EF_target_pos\": \n",
      "[[ 6.41421356  1.41421356]\n",
      " [ 4.66666667  1.45988054]\n",
      " [ 2.33333333 -3.11697293]\n",
      " [-2.33333333  2.10062524]\n",
      " [-4.66666667  0.43559096]]\n",
      "The intermediate points are stored in the variable \"interpolated_points\"\n"
     ]
    },
    {
     "name": "stderr",
     "output_type": "stream",
     "text": [
      "<ipython-input-3-d26a071e78a2>:29: MatplotlibDeprecationWarning: Adding an axes using the same arguments as a previous axes currently reuses the earlier instance.  In a future version, a new instance will always be created and returned.  Meanwhile, this warning can be suppressed, and the future behavior ensured, by passing a unique label to each axes instance.\n",
      "  ax = fig.add_subplot(111, autoscale_on=False,\n"
     ]
    },
    {
     "name": "stdout",
     "output_type": "stream",
     "text": [
      "9\n",
      "The interpolation points are stored in the variable \"EF_target_pos\": \n",
      "[[ 8.41421356  1.41421356]\n",
      " [ 6.         -2.94355933]\n",
      " [ 3.          4.40877044]\n",
      " [-3.         -1.2150677 ]\n",
      " [-6.         -0.16115145]]\n",
      "The intermediate points are stored in the variable \"interpolated_points\"\n"
     ]
    },
    {
     "name": "stderr",
     "output_type": "stream",
     "text": [
      "<ipython-input-3-d26a071e78a2>:29: MatplotlibDeprecationWarning: Adding an axes using the same arguments as a previous axes currently reuses the earlier instance.  In a future version, a new instance will always be created and returned.  Meanwhile, this warning can be suppressed, and the future behavior ensured, by passing a unique label to each axes instance.\n",
      "  ax = fig.add_subplot(111, autoscale_on=False,\n"
     ]
    },
    {
     "name": "stdout",
     "output_type": "stream",
     "text": [
      "9\n",
      "The interpolation points are stored in the variable \"EF_target_pos\": \n",
      "[[ 7.82842712  2.82842712]\n",
      " [ 6.          1.24241409]\n",
      " [ 3.         -1.28723432]\n",
      " [-3.         -5.81709326]\n",
      " [-6.         -2.25515167]]\n",
      "The intermediate points are stored in the variable \"interpolated_points\"\n"
     ]
    },
    {
     "name": "stderr",
     "output_type": "stream",
     "text": [
      "<ipython-input-3-d26a071e78a2>:29: MatplotlibDeprecationWarning: Adding an axes using the same arguments as a previous axes currently reuses the earlier instance.  In a future version, a new instance will always be created and returned.  Meanwhile, this warning can be suppressed, and the future behavior ensured, by passing a unique label to each axes instance.\n",
      "  ax = fig.add_subplot(111, autoscale_on=False,\n"
     ]
    },
    {
     "name": "stdout",
     "output_type": "stream",
     "text": [
      "13\n",
      "The interpolation points are stored in the variable \"EF_target_pos\": \n",
      "[[11.53553391  3.53553391]\n",
      " [ 8.66666667 -4.0573197 ]\n",
      " [ 4.33333333  1.16873705]\n",
      " [-4.33333333  3.67163811]\n",
      " [-8.66666667 -2.44176523]]\n",
      "The intermediate points are stored in the variable \"interpolated_points\"\n"
     ]
    },
    {
     "name": "stderr",
     "output_type": "stream",
     "text": [
      "<ipython-input-3-d26a071e78a2>:29: MatplotlibDeprecationWarning: Adding an axes using the same arguments as a previous axes currently reuses the earlier instance.  In a future version, a new instance will always be created and returned.  Meanwhile, this warning can be suppressed, and the future behavior ensured, by passing a unique label to each axes instance.\n",
      "  ax = fig.add_subplot(111, autoscale_on=False,\n"
     ]
    },
    {
     "name": "stdout",
     "output_type": "stream",
     "text": [
      "13\n",
      "The interpolation points are stored in the variable \"EF_target_pos\": \n",
      "[[11.24264069  4.24264069]\n",
      " [ 8.66666667 -3.19514752]\n",
      " [ 4.33333333  2.44310049]\n",
      " [-4.33333333  5.95558965]\n",
      " [-8.66666667  3.62123553]]\n",
      "The intermediate points are stored in the variable \"interpolated_points\"\n"
     ]
    },
    {
     "name": "stderr",
     "output_type": "stream",
     "text": [
      "<ipython-input-3-d26a071e78a2>:29: MatplotlibDeprecationWarning: Adding an axes using the same arguments as a previous axes currently reuses the earlier instance.  In a future version, a new instance will always be created and returned.  Meanwhile, this warning can be suppressed, and the future behavior ensured, by passing a unique label to each axes instance.\n",
      "  ax = fig.add_subplot(111, autoscale_on=False,\n"
     ]
    },
    {
     "name": "stdout",
     "output_type": "stream",
     "text": [
      "10\n",
      "The interpolation points are stored in the variable \"EF_target_pos\": \n",
      "[[ 8.82842712  2.82842712]\n",
      " [ 6.66666667 -0.44309696]\n",
      " [ 3.33333333  2.92636457]\n",
      " [-3.33333333  3.97657492]\n",
      " [-6.66666667  0.49654079]]\n",
      "The intermediate points are stored in the variable \"interpolated_points\"\n"
     ]
    },
    {
     "name": "stderr",
     "output_type": "stream",
     "text": [
      "<ipython-input-3-d26a071e78a2>:29: MatplotlibDeprecationWarning: Adding an axes using the same arguments as a previous axes currently reuses the earlier instance.  In a future version, a new instance will always be created and returned.  Meanwhile, this warning can be suppressed, and the future behavior ensured, by passing a unique label to each axes instance.\n",
      "  ax = fig.add_subplot(111, autoscale_on=False,\n"
     ]
    },
    {
     "name": "stdout",
     "output_type": "stream",
     "text": [
      "13\n",
      "The interpolation points are stored in the variable \"EF_target_pos\": \n",
      "[[11.82842712  2.82842712]\n",
      " [ 8.66666667  3.92571577]\n",
      " [ 4.33333333  3.95431917]\n",
      " [-4.33333333 -2.50795128]\n",
      " [-8.66666667 -3.15797142]]\n",
      "The intermediate points are stored in the variable \"interpolated_points\"\n"
     ]
    },
    {
     "name": "stderr",
     "output_type": "stream",
     "text": [
      "<ipython-input-3-d26a071e78a2>:29: MatplotlibDeprecationWarning: Adding an axes using the same arguments as a previous axes currently reuses the earlier instance.  In a future version, a new instance will always be created and returned.  Meanwhile, this warning can be suppressed, and the future behavior ensured, by passing a unique label to each axes instance.\n",
      "  ax = fig.add_subplot(111, autoscale_on=False,\n"
     ]
    },
    {
     "name": "stdout",
     "output_type": "stream",
     "text": [
      "15\n",
      "The interpolation points are stored in the variable \"EF_target_pos\": \n",
      "[[ 13.24264069   4.24264069]\n",
      " [ 10.           4.82389181]\n",
      " [  5.          -9.50429286]\n",
      " [ -5.           5.48332103]\n",
      " [-10.           4.73182368]]\n",
      "The intermediate points are stored in the variable \"interpolated_points\"\n"
     ]
    },
    {
     "name": "stderr",
     "output_type": "stream",
     "text": [
      "<ipython-input-3-d26a071e78a2>:29: MatplotlibDeprecationWarning: Adding an axes using the same arguments as a previous axes currently reuses the earlier instance.  In a future version, a new instance will always be created and returned.  Meanwhile, this warning can be suppressed, and the future behavior ensured, by passing a unique label to each axes instance.\n",
      "  ax = fig.add_subplot(111, autoscale_on=False,\n"
     ]
    },
    {
     "name": "stdout",
     "output_type": "stream",
     "text": [
      "13\n",
      "The interpolation points are stored in the variable \"EF_target_pos\": \n",
      "[[12.41421356  1.41421356]\n",
      " [ 8.66666667 -1.41604654]\n",
      " [ 4.33333333 -2.24070811]\n",
      " [-4.33333333  5.28042334]\n",
      " [-8.66666667  3.16856393]]\n",
      "The intermediate points are stored in the variable \"interpolated_points\"\n"
     ]
    },
    {
     "name": "stderr",
     "output_type": "stream",
     "text": [
      "<ipython-input-3-d26a071e78a2>:29: MatplotlibDeprecationWarning: Adding an axes using the same arguments as a previous axes currently reuses the earlier instance.  In a future version, a new instance will always be created and returned.  Meanwhile, this warning can be suppressed, and the future behavior ensured, by passing a unique label to each axes instance.\n",
      "  ax = fig.add_subplot(111, autoscale_on=False,\n"
     ]
    },
    {
     "name": "stdout",
     "output_type": "stream",
     "text": [
      "16\n",
      "The interpolation points are stored in the variable \"EF_target_pos\": \n",
      "[[ 14.53553391   3.53553391]\n",
      " [ 10.66666667  -0.14091172]\n",
      " [  5.33333333   5.17280377]\n",
      " [ -5.33333333   1.42699019]\n",
      " [-10.66666667  -0.60699007]]\n",
      "The intermediate points are stored in the variable \"interpolated_points\"\n"
     ]
    },
    {
     "name": "stderr",
     "output_type": "stream",
     "text": [
      "<ipython-input-3-d26a071e78a2>:29: MatplotlibDeprecationWarning: Adding an axes using the same arguments as a previous axes currently reuses the earlier instance.  In a future version, a new instance will always be created and returned.  Meanwhile, this warning can be suppressed, and the future behavior ensured, by passing a unique label to each axes instance.\n",
      "  ax = fig.add_subplot(111, autoscale_on=False,\n"
     ]
    },
    {
     "name": "stdout",
     "output_type": "stream",
     "text": [
      "13\n",
      "The interpolation points are stored in the variable \"EF_target_pos\": \n",
      "[[11.53553391  3.53553391]\n",
      " [ 8.66666667 -1.87128318]\n",
      " [ 4.33333333  1.58344412]\n",
      " [-4.33333333  4.51589345]\n",
      " [-8.66666667  3.84231123]]\n",
      "The intermediate points are stored in the variable \"interpolated_points\"\n"
     ]
    },
    {
     "name": "stderr",
     "output_type": "stream",
     "text": [
      "<ipython-input-3-d26a071e78a2>:29: MatplotlibDeprecationWarning: Adding an axes using the same arguments as a previous axes currently reuses the earlier instance.  In a future version, a new instance will always be created and returned.  Meanwhile, this warning can be suppressed, and the future behavior ensured, by passing a unique label to each axes instance.\n",
      "  ax = fig.add_subplot(111, autoscale_on=False,\n"
     ]
    },
    {
     "name": "stdout",
     "output_type": "stream",
     "text": [
      "11\n",
      "The interpolation points are stored in the variable \"EF_target_pos\": \n",
      "[[10.12132034  2.12132034]\n",
      " [ 7.33333333  2.33821602]\n",
      " [ 3.66666667 -4.21386389]\n",
      " [-3.66666667 -4.69486164]\n",
      " [-7.33333333  1.74526832]]\n",
      "The intermediate points are stored in the variable \"interpolated_points\"\n"
     ]
    },
    {
     "name": "stderr",
     "output_type": "stream",
     "text": [
      "<ipython-input-3-d26a071e78a2>:29: MatplotlibDeprecationWarning: Adding an axes using the same arguments as a previous axes currently reuses the earlier instance.  In a future version, a new instance will always be created and returned.  Meanwhile, this warning can be suppressed, and the future behavior ensured, by passing a unique label to each axes instance.\n",
      "  ax = fig.add_subplot(111, autoscale_on=False,\n"
     ]
    },
    {
     "name": "stdout",
     "output_type": "stream",
     "text": [
      "12\n",
      "The interpolation points are stored in the variable \"EF_target_pos\": \n",
      "[[10.82842712  2.82842712]\n",
      " [ 8.          1.3246413 ]\n",
      " [ 4.         -7.09751426]\n",
      " [-4.         -8.03576506]\n",
      " [-8.          0.78599888]]\n",
      "The intermediate points are stored in the variable \"interpolated_points\"\n"
     ]
    },
    {
     "name": "stderr",
     "output_type": "stream",
     "text": [
      "<ipython-input-3-d26a071e78a2>:29: MatplotlibDeprecationWarning: Adding an axes using the same arguments as a previous axes currently reuses the earlier instance.  In a future version, a new instance will always be created and returned.  Meanwhile, this warning can be suppressed, and the future behavior ensured, by passing a unique label to each axes instance.\n",
      "  ax = fig.add_subplot(111, autoscale_on=False,\n"
     ]
    },
    {
     "name": "stdout",
     "output_type": "stream",
     "text": [
      "13\n",
      "The interpolation points are stored in the variable \"EF_target_pos\": \n",
      "[[12.12132034  2.12132034]\n",
      " [ 8.66666667  4.11830781]\n",
      " [ 4.33333333 -7.83131632]\n",
      " [-4.33333333 -6.34244061]\n",
      " [-8.66666667  3.91913083]]\n",
      "The intermediate points are stored in the variable \"interpolated_points\"\n"
     ]
    },
    {
     "name": "stderr",
     "output_type": "stream",
     "text": [
      "<ipython-input-3-d26a071e78a2>:29: MatplotlibDeprecationWarning: Adding an axes using the same arguments as a previous axes currently reuses the earlier instance.  In a future version, a new instance will always be created and returned.  Meanwhile, this warning can be suppressed, and the future behavior ensured, by passing a unique label to each axes instance.\n",
      "  ax = fig.add_subplot(111, autoscale_on=False,\n"
     ]
    },
    {
     "name": "stdout",
     "output_type": "stream",
     "text": [
      "10\n",
      "The interpolation points are stored in the variable \"EF_target_pos\": \n",
      "[[ 8.53553391  3.53553391]\n",
      " [ 6.66666667 -2.14827496]\n",
      " [ 3.33333333 -4.0203246 ]\n",
      " [-3.33333333 -6.62836156]\n",
      " [-6.66666667 -0.49024978]]\n",
      "The intermediate points are stored in the variable \"interpolated_points\"\n"
     ]
    },
    {
     "name": "stderr",
     "output_type": "stream",
     "text": [
      "<ipython-input-3-d26a071e78a2>:29: MatplotlibDeprecationWarning: Adding an axes using the same arguments as a previous axes currently reuses the earlier instance.  In a future version, a new instance will always be created and returned.  Meanwhile, this warning can be suppressed, and the future behavior ensured, by passing a unique label to each axes instance.\n",
      "  ax = fig.add_subplot(111, autoscale_on=False,\n"
     ]
    },
    {
     "name": "stdout",
     "output_type": "stream",
     "text": [
      "8\n",
      "The interpolation points are stored in the variable \"EF_target_pos\": \n",
      "[[ 7.12132034  2.12132034]\n",
      " [ 5.33333333  2.30922068]\n",
      " [ 2.66666667  1.97576761]\n",
      " [-2.66666667  3.07789057]\n",
      " [-5.33333333  0.10800872]]\n",
      "The intermediate points are stored in the variable \"interpolated_points\"\n"
     ]
    },
    {
     "name": "stderr",
     "output_type": "stream",
     "text": [
      "<ipython-input-3-d26a071e78a2>:29: MatplotlibDeprecationWarning: Adding an axes using the same arguments as a previous axes currently reuses the earlier instance.  In a future version, a new instance will always be created and returned.  Meanwhile, this warning can be suppressed, and the future behavior ensured, by passing a unique label to each axes instance.\n",
      "  ax = fig.add_subplot(111, autoscale_on=False,\n"
     ]
    },
    {
     "name": "stdout",
     "output_type": "stream",
     "text": [
      "13\n",
      "The interpolation points are stored in the variable \"EF_target_pos\": \n",
      "[[11.53553391  3.53553391]\n",
      " [ 8.66666667 -4.07790672]\n",
      " [ 4.33333333  0.96633043]\n",
      " [-4.33333333  2.70742374]\n",
      " [-8.66666667  3.3377312 ]]\n",
      "The intermediate points are stored in the variable \"interpolated_points\"\n"
     ]
    },
    {
     "name": "stderr",
     "output_type": "stream",
     "text": [
      "<ipython-input-3-d26a071e78a2>:29: MatplotlibDeprecationWarning: Adding an axes using the same arguments as a previous axes currently reuses the earlier instance.  In a future version, a new instance will always be created and returned.  Meanwhile, this warning can be suppressed, and the future behavior ensured, by passing a unique label to each axes instance.\n",
      "  ax = fig.add_subplot(111, autoscale_on=False,\n"
     ]
    },
    {
     "name": "stdout",
     "output_type": "stream",
     "text": [
      "10\n",
      "The interpolation points are stored in the variable \"EF_target_pos\": \n",
      "[[ 8.82842712  2.82842712]\n",
      " [ 6.66666667 -0.60723448]\n",
      " [ 3.33333333  5.33393642]\n",
      " [-3.33333333  5.29640439]\n",
      " [-6.66666667 -1.4296457 ]]\n",
      "The intermediate points are stored in the variable \"interpolated_points\"\n"
     ]
    },
    {
     "name": "stderr",
     "output_type": "stream",
     "text": [
      "<ipython-input-3-d26a071e78a2>:29: MatplotlibDeprecationWarning: Adding an axes using the same arguments as a previous axes currently reuses the earlier instance.  In a future version, a new instance will always be created and returned.  Meanwhile, this warning can be suppressed, and the future behavior ensured, by passing a unique label to each axes instance.\n",
      "  ax = fig.add_subplot(111, autoscale_on=False,\n"
     ]
    },
    {
     "name": "stdout",
     "output_type": "stream",
     "text": [
      "8\n",
      "The interpolation points are stored in the variable \"EF_target_pos\": \n",
      "[[ 7.12132034  2.12132034]\n",
      " [ 5.33333333 -1.12758746]\n",
      " [ 2.66666667 -2.91923857]\n",
      " [-2.66666667  2.3801819 ]\n",
      " [-5.33333333 -0.683992  ]]\n",
      "The intermediate points are stored in the variable \"interpolated_points\"\n"
     ]
    },
    {
     "name": "stderr",
     "output_type": "stream",
     "text": [
      "<ipython-input-3-d26a071e78a2>:29: MatplotlibDeprecationWarning: Adding an axes using the same arguments as a previous axes currently reuses the earlier instance.  In a future version, a new instance will always be created and returned.  Meanwhile, this warning can be suppressed, and the future behavior ensured, by passing a unique label to each axes instance.\n",
      "  ax = fig.add_subplot(111, autoscale_on=False,\n"
     ]
    },
    {
     "name": "stdout",
     "output_type": "stream",
     "text": [
      "17\n",
      "The interpolation points are stored in the variable \"EF_target_pos\": \n",
      "[[ 16.12132034   2.12132034]\n",
      " [ 11.33333333   4.67090358]\n",
      " [  5.66666667  -3.66037307]\n",
      " [ -5.66666667   7.80479716]\n",
      " [-11.33333333   3.07949799]]\n",
      "The intermediate points are stored in the variable \"interpolated_points\"\n"
     ]
    },
    {
     "name": "stderr",
     "output_type": "stream",
     "text": [
      "<ipython-input-3-d26a071e78a2>:29: MatplotlibDeprecationWarning: Adding an axes using the same arguments as a previous axes currently reuses the earlier instance.  In a future version, a new instance will always be created and returned.  Meanwhile, this warning can be suppressed, and the future behavior ensured, by passing a unique label to each axes instance.\n",
      "  ax = fig.add_subplot(111, autoscale_on=False,\n"
     ]
    },
    {
     "name": "stdout",
     "output_type": "stream",
     "text": [
      "14\n",
      "The interpolation points are stored in the variable \"EF_target_pos\": \n",
      "[[12.53553391  3.53553391]\n",
      " [ 9.33333333 -2.8222609 ]\n",
      " [ 4.66666667 -8.35683299]\n",
      " [-4.66666667 -5.47653683]\n",
      " [-9.33333333 -2.22061323]]\n",
      "The intermediate points are stored in the variable \"interpolated_points\"\n"
     ]
    },
    {
     "name": "stderr",
     "output_type": "stream",
     "text": [
      "<ipython-input-3-d26a071e78a2>:29: MatplotlibDeprecationWarning: Adding an axes using the same arguments as a previous axes currently reuses the earlier instance.  In a future version, a new instance will always be created and returned.  Meanwhile, this warning can be suppressed, and the future behavior ensured, by passing a unique label to each axes instance.\n",
      "  ax = fig.add_subplot(111, autoscale_on=False,\n"
     ]
    },
    {
     "name": "stdout",
     "output_type": "stream",
     "text": [
      "7\n",
      "The interpolation points are stored in the variable \"EF_target_pos\": \n",
      "[[ 6.41421356  1.41421356]\n",
      " [ 4.66666667  2.17861969]\n",
      " [ 2.33333333 -1.71112444]\n",
      " [-2.33333333 -0.7905899 ]\n",
      " [-4.66666667 -0.99228672]]\n",
      "The intermediate points are stored in the variable \"interpolated_points\"\n"
     ]
    },
    {
     "name": "stderr",
     "output_type": "stream",
     "text": [
      "<ipython-input-3-d26a071e78a2>:29: MatplotlibDeprecationWarning: Adding an axes using the same arguments as a previous axes currently reuses the earlier instance.  In a future version, a new instance will always be created and returned.  Meanwhile, this warning can be suppressed, and the future behavior ensured, by passing a unique label to each axes instance.\n",
      "  ax = fig.add_subplot(111, autoscale_on=False,\n"
     ]
    },
    {
     "name": "stdout",
     "output_type": "stream",
     "text": [
      "18\n",
      "The interpolation points are stored in the variable \"EF_target_pos\": \n",
      "[[ 16.82842712   2.82842712]\n",
      " [ 12.           2.03618989]\n",
      " [  6.          -1.13919816]\n",
      " [ -6.          11.81073749]\n",
      " [-12.           5.46832924]]\n",
      "The intermediate points are stored in the variable \"interpolated_points\"\n"
     ]
    },
    {
     "name": "stderr",
     "output_type": "stream",
     "text": [
      "<ipython-input-3-d26a071e78a2>:29: MatplotlibDeprecationWarning: Adding an axes using the same arguments as a previous axes currently reuses the earlier instance.  In a future version, a new instance will always be created and returned.  Meanwhile, this warning can be suppressed, and the future behavior ensured, by passing a unique label to each axes instance.\n",
      "  ax = fig.add_subplot(111, autoscale_on=False,\n"
     ]
    },
    {
     "name": "stdout",
     "output_type": "stream",
     "text": [
      "15\n",
      "The interpolation points are stored in the variable \"EF_target_pos\": \n",
      "[[ 13.82842712   2.82842712]\n",
      " [ 10.           0.86256127]\n",
      " [  5.          -5.86241009]\n",
      " [ -5.          -2.15396795]\n",
      " [-10.          -2.09612616]]\n",
      "The intermediate points are stored in the variable \"interpolated_points\"\n"
     ]
    },
    {
     "name": "stderr",
     "output_type": "stream",
     "text": [
      "<ipython-input-3-d26a071e78a2>:29: MatplotlibDeprecationWarning: Adding an axes using the same arguments as a previous axes currently reuses the earlier instance.  In a future version, a new instance will always be created and returned.  Meanwhile, this warning can be suppressed, and the future behavior ensured, by passing a unique label to each axes instance.\n",
      "  ax = fig.add_subplot(111, autoscale_on=False,\n"
     ]
    },
    {
     "name": "stdout",
     "output_type": "stream",
     "text": [
      "14\n",
      "The interpolation points are stored in the variable \"EF_target_pos\": \n",
      "[[11.94974747  4.94974747]\n",
      " [ 9.33333333  0.95910004]\n",
      " [ 4.66666667  6.28909153]\n",
      " [-4.66666667  2.30102735]\n",
      " [-9.33333333 -1.95394837]]\n",
      "The intermediate points are stored in the variable \"interpolated_points\"\n"
     ]
    },
    {
     "name": "stderr",
     "output_type": "stream",
     "text": [
      "<ipython-input-3-d26a071e78a2>:29: MatplotlibDeprecationWarning: Adding an axes using the same arguments as a previous axes currently reuses the earlier instance.  In a future version, a new instance will always be created and returned.  Meanwhile, this warning can be suppressed, and the future behavior ensured, by passing a unique label to each axes instance.\n",
      "  ax = fig.add_subplot(111, autoscale_on=False,\n"
     ]
    },
    {
     "name": "stdout",
     "output_type": "stream",
     "text": [
      "14\n",
      "The interpolation points are stored in the variable \"EF_target_pos\": \n",
      "[[12.24264069  4.24264069]\n",
      " [ 9.33333333 -0.23098265]\n",
      " [ 4.66666667 -2.13920256]\n",
      " [-4.66666667 -2.34243631]\n",
      " [-9.33333333 -1.91505143]]\n",
      "The intermediate points are stored in the variable \"interpolated_points\"\n"
     ]
    },
    {
     "name": "stderr",
     "output_type": "stream",
     "text": [
      "<ipython-input-3-d26a071e78a2>:29: MatplotlibDeprecationWarning: Adding an axes using the same arguments as a previous axes currently reuses the earlier instance.  In a future version, a new instance will always be created and returned.  Meanwhile, this warning can be suppressed, and the future behavior ensured, by passing a unique label to each axes instance.\n",
      "  ax = fig.add_subplot(111, autoscale_on=False,\n"
     ]
    },
    {
     "name": "stdout",
     "output_type": "stream",
     "text": [
      "21\n",
      "The interpolation points are stored in the variable \"EF_target_pos\": \n",
      "[[ 18.94974747   4.94974747]\n",
      " [ 14.           3.52275209]\n",
      " [  7.          -6.78320531]\n",
      " [ -7.          13.37695175]\n",
      " [-14.           0.04708466]]\n",
      "The intermediate points are stored in the variable \"interpolated_points\"\n"
     ]
    },
    {
     "name": "stderr",
     "output_type": "stream",
     "text": [
      "<ipython-input-3-d26a071e78a2>:29: MatplotlibDeprecationWarning: Adding an axes using the same arguments as a previous axes currently reuses the earlier instance.  In a future version, a new instance will always be created and returned.  Meanwhile, this warning can be suppressed, and the future behavior ensured, by passing a unique label to each axes instance.\n",
      "  ax = fig.add_subplot(111, autoscale_on=False,\n"
     ]
    },
    {
     "name": "stdout",
     "output_type": "stream",
     "text": [
      "13\n",
      "The interpolation points are stored in the variable \"EF_target_pos\": \n",
      "[[12.41421356  1.41421356]\n",
      " [ 8.66666667  3.25752889]\n",
      " [ 4.33333333  7.74418107]\n",
      " [-4.33333333  4.20423778]\n",
      " [-8.66666667  1.46520092]]\n",
      "The intermediate points are stored in the variable \"interpolated_points\"\n"
     ]
    },
    {
     "name": "stderr",
     "output_type": "stream",
     "text": [
      "<ipython-input-3-d26a071e78a2>:29: MatplotlibDeprecationWarning: Adding an axes using the same arguments as a previous axes currently reuses the earlier instance.  In a future version, a new instance will always be created and returned.  Meanwhile, this warning can be suppressed, and the future behavior ensured, by passing a unique label to each axes instance.\n",
      "  ax = fig.add_subplot(111, autoscale_on=False,\n"
     ]
    },
    {
     "name": "stdout",
     "output_type": "stream",
     "text": [
      "17\n",
      "The interpolation points are stored in the variable \"EF_target_pos\": \n",
      "[[ 1.55355339e+01  3.53553391e+00]\n",
      " [ 1.13333333e+01  1.14234671e-02]\n",
      " [ 5.66666667e+00 -8.95502714e+00]\n",
      " [-5.66666667e+00 -1.06728832e+01]\n",
      " [-1.13333333e+01 -2.11923469e+00]]\n",
      "The intermediate points are stored in the variable \"interpolated_points\"\n"
     ]
    },
    {
     "name": "stderr",
     "output_type": "stream",
     "text": [
      "<ipython-input-3-d26a071e78a2>:29: MatplotlibDeprecationWarning: Adding an axes using the same arguments as a previous axes currently reuses the earlier instance.  In a future version, a new instance will always be created and returned.  Meanwhile, this warning can be suppressed, and the future behavior ensured, by passing a unique label to each axes instance.\n",
      "  ax = fig.add_subplot(111, autoscale_on=False,\n"
     ]
    },
    {
     "name": "stdout",
     "output_type": "stream",
     "text": [
      "17\n",
      "The interpolation points are stored in the variable \"EF_target_pos\": \n",
      "[[ 14.94974747   4.94974747]\n",
      " [ 11.33333333  -3.50923775]\n",
      " [  5.66666667  -7.79946052]\n",
      " [ -5.66666667  10.56282887]\n",
      " [-11.33333333  -4.95961239]]\n",
      "The intermediate points are stored in the variable \"interpolated_points\"\n"
     ]
    },
    {
     "name": "stderr",
     "output_type": "stream",
     "text": [
      "<ipython-input-3-d26a071e78a2>:29: MatplotlibDeprecationWarning: Adding an axes using the same arguments as a previous axes currently reuses the earlier instance.  In a future version, a new instance will always be created and returned.  Meanwhile, this warning can be suppressed, and the future behavior ensured, by passing a unique label to each axes instance.\n",
      "  ax = fig.add_subplot(111, autoscale_on=False,\n"
     ]
    },
    {
     "name": "stdout",
     "output_type": "stream",
     "text": [
      "17\n",
      "The interpolation points are stored in the variable \"EF_target_pos\": \n",
      "[[ 14.94974747   4.94974747]\n",
      " [ 11.33333333  -2.89462274]\n",
      " [  5.66666667   3.6912514 ]\n",
      " [ -5.66666667  -0.79176249]\n",
      " [-11.33333333   4.13831444]]\n",
      "The intermediate points are stored in the variable \"interpolated_points\"\n"
     ]
    },
    {
     "name": "stderr",
     "output_type": "stream",
     "text": [
      "<ipython-input-3-d26a071e78a2>:29: MatplotlibDeprecationWarning: Adding an axes using the same arguments as a previous axes currently reuses the earlier instance.  In a future version, a new instance will always be created and returned.  Meanwhile, this warning can be suppressed, and the future behavior ensured, by passing a unique label to each axes instance.\n",
      "  ax = fig.add_subplot(111, autoscale_on=False,\n"
     ]
    },
    {
     "name": "stdout",
     "output_type": "stream",
     "text": [
      "13\n",
      "The interpolation points are stored in the variable \"EF_target_pos\": \n",
      "[[10.94974747  4.94974747]\n",
      " [ 8.66666667 -1.73608965]\n",
      " [ 4.33333333  4.53652714]\n",
      " [-4.33333333 -6.3540539 ]\n",
      " [-8.66666667  0.78739058]]\n",
      "The intermediate points are stored in the variable \"interpolated_points\"\n"
     ]
    },
    {
     "name": "stderr",
     "output_type": "stream",
     "text": [
      "<ipython-input-3-d26a071e78a2>:29: MatplotlibDeprecationWarning: Adding an axes using the same arguments as a previous axes currently reuses the earlier instance.  In a future version, a new instance will always be created and returned.  Meanwhile, this warning can be suppressed, and the future behavior ensured, by passing a unique label to each axes instance.\n",
      "  ax = fig.add_subplot(111, autoscale_on=False,\n"
     ]
    },
    {
     "name": "stdout",
     "output_type": "stream",
     "text": [
      "17\n",
      "The interpolation points are stored in the variable \"EF_target_pos\": \n",
      "[[ 15.24264069   4.24264069]\n",
      " [ 11.33333333   0.89912932]\n",
      " [  5.66666667   3.30391032]\n",
      " [ -5.66666667  -8.8555033 ]\n",
      " [-11.33333333   5.07547007]]\n",
      "The intermediate points are stored in the variable \"interpolated_points\"\n"
     ]
    },
    {
     "name": "stderr",
     "output_type": "stream",
     "text": [
      "<ipython-input-3-d26a071e78a2>:29: MatplotlibDeprecationWarning: Adding an axes using the same arguments as a previous axes currently reuses the earlier instance.  In a future version, a new instance will always be created and returned.  Meanwhile, this warning can be suppressed, and the future behavior ensured, by passing a unique label to each axes instance.\n",
      "  ax = fig.add_subplot(111, autoscale_on=False,\n"
     ]
    },
    {
     "name": "stdout",
     "output_type": "stream",
     "text": [
      "12\n",
      "The interpolation points are stored in the variable \"EF_target_pos\": \n",
      "[[10.82842712  2.82842712]\n",
      " [ 8.          3.68329424]\n",
      " [ 4.         -3.09876037]\n",
      " [-4.          5.7482019 ]\n",
      " [-8.          3.91497693]]\n",
      "The intermediate points are stored in the variable \"interpolated_points\"\n"
     ]
    },
    {
     "name": "stderr",
     "output_type": "stream",
     "text": [
      "<ipython-input-3-d26a071e78a2>:29: MatplotlibDeprecationWarning: Adding an axes using the same arguments as a previous axes currently reuses the earlier instance.  In a future version, a new instance will always be created and returned.  Meanwhile, this warning can be suppressed, and the future behavior ensured, by passing a unique label to each axes instance.\n",
      "  ax = fig.add_subplot(111, autoscale_on=False,\n"
     ]
    },
    {
     "name": "stdout",
     "output_type": "stream",
     "text": [
      "18\n",
      "The interpolation points are stored in the variable \"EF_target_pos\": \n",
      "[[ 15.94974747   4.94974747]\n",
      " [ 12.           0.03492471]\n",
      " [  6.          -4.02960734]\n",
      " [ -6.          -0.51866178]\n",
      " [-12.          -4.18357424]]\n",
      "The intermediate points are stored in the variable \"interpolated_points\"\n"
     ]
    },
    {
     "name": "stderr",
     "output_type": "stream",
     "text": [
      "<ipython-input-3-d26a071e78a2>:29: MatplotlibDeprecationWarning: Adding an axes using the same arguments as a previous axes currently reuses the earlier instance.  In a future version, a new instance will always be created and returned.  Meanwhile, this warning can be suppressed, and the future behavior ensured, by passing a unique label to each axes instance.\n",
      "  ax = fig.add_subplot(111, autoscale_on=False,\n"
     ]
    },
    {
     "name": "stdout",
     "output_type": "stream",
     "text": [
      "12\n",
      "The interpolation points are stored in the variable \"EF_target_pos\": \n",
      "[[10.24264069  4.24264069]\n",
      " [ 8.          2.92122471]\n",
      " [ 4.         -2.77901539]\n",
      " [-4.          7.63576752]\n",
      " [-8.          3.32833231]]\n",
      "The intermediate points are stored in the variable \"interpolated_points\"\n"
     ]
    },
    {
     "name": "stderr",
     "output_type": "stream",
     "text": [
      "<ipython-input-3-d26a071e78a2>:29: MatplotlibDeprecationWarning: Adding an axes using the same arguments as a previous axes currently reuses the earlier instance.  In a future version, a new instance will always be created and returned.  Meanwhile, this warning can be suppressed, and the future behavior ensured, by passing a unique label to each axes instance.\n",
      "  ax = fig.add_subplot(111, autoscale_on=False,\n"
     ]
    },
    {
     "name": "stdout",
     "output_type": "stream",
     "text": [
      "12\n",
      "The interpolation points are stored in the variable \"EF_target_pos\": \n",
      "[[10.53553391  3.53553391]\n",
      " [ 8.         -3.05316343]\n",
      " [ 4.         -0.04678313]\n",
      " [-4.          4.15269977]\n",
      " [-8.          0.68785029]]\n",
      "The intermediate points are stored in the variable \"interpolated_points\"\n"
     ]
    },
    {
     "name": "stderr",
     "output_type": "stream",
     "text": [
      "<ipython-input-3-d26a071e78a2>:29: MatplotlibDeprecationWarning: Adding an axes using the same arguments as a previous axes currently reuses the earlier instance.  In a future version, a new instance will always be created and returned.  Meanwhile, this warning can be suppressed, and the future behavior ensured, by passing a unique label to each axes instance.\n",
      "  ax = fig.add_subplot(111, autoscale_on=False,\n"
     ]
    },
    {
     "name": "stdout",
     "output_type": "stream",
     "text": [
      "19\n",
      "The interpolation points are stored in the variable \"EF_target_pos\": \n",
      "[[ 16.94974747   4.94974747]\n",
      " [ 12.66666667   4.39942355]\n",
      " [  6.33333333  -6.69700276]\n",
      " [ -6.33333333   5.02581547]\n",
      " [-12.66666667   0.95351047]]\n",
      "The intermediate points are stored in the variable \"interpolated_points\"\n"
     ]
    },
    {
     "name": "stderr",
     "output_type": "stream",
     "text": [
      "<ipython-input-3-d26a071e78a2>:29: MatplotlibDeprecationWarning: Adding an axes using the same arguments as a previous axes currently reuses the earlier instance.  In a future version, a new instance will always be created and returned.  Meanwhile, this warning can be suppressed, and the future behavior ensured, by passing a unique label to each axes instance.\n",
      "  ax = fig.add_subplot(111, autoscale_on=False,\n"
     ]
    },
    {
     "name": "stdout",
     "output_type": "stream",
     "text": [
      "17\n",
      "The interpolation points are stored in the variable \"EF_target_pos\": \n",
      "[[ 15.53553391   3.53553391]\n",
      " [ 11.33333333   3.7124579 ]\n",
      " [  5.66666667   5.41343386]\n",
      " [ -5.66666667  -2.83463501]\n",
      " [-11.33333333  -2.77588031]]\n",
      "The intermediate points are stored in the variable \"interpolated_points\"\n"
     ]
    },
    {
     "name": "stderr",
     "output_type": "stream",
     "text": [
      "<ipython-input-3-d26a071e78a2>:29: MatplotlibDeprecationWarning: Adding an axes using the same arguments as a previous axes currently reuses the earlier instance.  In a future version, a new instance will always be created and returned.  Meanwhile, this warning can be suppressed, and the future behavior ensured, by passing a unique label to each axes instance.\n",
      "  ax = fig.add_subplot(111, autoscale_on=False,\n"
     ]
    },
    {
     "name": "stdout",
     "output_type": "stream",
     "text": [
      "12\n",
      "The interpolation points are stored in the variable \"EF_target_pos\": \n",
      "[[11.41421356  1.41421356]\n",
      " [ 8.          0.20197895]\n",
      " [ 4.         -7.72922656]\n",
      " [-4.          4.40657656]\n",
      " [-8.         -3.75927585]]\n",
      "The intermediate points are stored in the variable \"interpolated_points\"\n"
     ]
    },
    {
     "name": "stderr",
     "output_type": "stream",
     "text": [
      "<ipython-input-3-d26a071e78a2>:29: MatplotlibDeprecationWarning: Adding an axes using the same arguments as a previous axes currently reuses the earlier instance.  In a future version, a new instance will always be created and returned.  Meanwhile, this warning can be suppressed, and the future behavior ensured, by passing a unique label to each axes instance.\n",
      "  ax = fig.add_subplot(111, autoscale_on=False,\n"
     ]
    },
    {
     "name": "stdout",
     "output_type": "stream",
     "text": [
      "13\n",
      "The interpolation points are stored in the variable \"EF_target_pos\": \n",
      "[[11.53553391  3.53553391]\n",
      " [ 8.66666667  3.20444507]\n",
      " [ 4.33333333  2.25232109]\n",
      " [-4.33333333  7.14247218]\n",
      " [-8.66666667  0.02313351]]\n",
      "The intermediate points are stored in the variable \"interpolated_points\"\n"
     ]
    },
    {
     "name": "stderr",
     "output_type": "stream",
     "text": [
      "<ipython-input-3-d26a071e78a2>:29: MatplotlibDeprecationWarning: Adding an axes using the same arguments as a previous axes currently reuses the earlier instance.  In a future version, a new instance will always be created and returned.  Meanwhile, this warning can be suppressed, and the future behavior ensured, by passing a unique label to each axes instance.\n",
      "  ax = fig.add_subplot(111, autoscale_on=False,\n"
     ]
    },
    {
     "name": "stdout",
     "output_type": "stream",
     "text": [
      "13\n",
      "The interpolation points are stored in the variable \"EF_target_pos\": \n",
      "[[11.24264069  4.24264069]\n",
      " [ 8.66666667  1.10199847]\n",
      " [ 4.33333333 -6.38333573]\n",
      " [-4.33333333 -4.75940374]\n",
      " [-8.66666667  0.45037464]]\n",
      "The intermediate points are stored in the variable \"interpolated_points\"\n"
     ]
    },
    {
     "name": "stderr",
     "output_type": "stream",
     "text": [
      "<ipython-input-3-d26a071e78a2>:29: MatplotlibDeprecationWarning: Adding an axes using the same arguments as a previous axes currently reuses the earlier instance.  In a future version, a new instance will always be created and returned.  Meanwhile, this warning can be suppressed, and the future behavior ensured, by passing a unique label to each axes instance.\n",
      "  ax = fig.add_subplot(111, autoscale_on=False,\n"
     ]
    },
    {
     "name": "stdout",
     "output_type": "stream",
     "text": [
      "13\n",
      "The interpolation points are stored in the variable \"EF_target_pos\": \n",
      "[[11.24264069  4.24264069]\n",
      " [ 8.66666667 -3.16928227]\n",
      " [ 4.33333333  3.86706829]\n",
      " [-4.33333333 -8.2808287 ]\n",
      " [-8.66666667 -2.95827169]]\n",
      "The intermediate points are stored in the variable \"interpolated_points\"\n"
     ]
    },
    {
     "name": "stderr",
     "output_type": "stream",
     "text": [
      "<ipython-input-3-d26a071e78a2>:29: MatplotlibDeprecationWarning: Adding an axes using the same arguments as a previous axes currently reuses the earlier instance.  In a future version, a new instance will always be created and returned.  Meanwhile, this warning can be suppressed, and the future behavior ensured, by passing a unique label to each axes instance.\n",
      "  ax = fig.add_subplot(111, autoscale_on=False,\n"
     ]
    },
    {
     "name": "stdout",
     "output_type": "stream",
     "text": [
      "14\n",
      "The interpolation points are stored in the variable \"EF_target_pos\": \n",
      "[[12.53553391  3.53553391]\n",
      " [ 9.33333333  2.62733804]\n",
      " [ 4.66666667  0.57296438]\n",
      " [-4.66666667  5.71874801]\n",
      " [-9.33333333  0.6084628 ]]\n",
      "The intermediate points are stored in the variable \"interpolated_points\"\n"
     ]
    },
    {
     "name": "stderr",
     "output_type": "stream",
     "text": [
      "<ipython-input-3-d26a071e78a2>:29: MatplotlibDeprecationWarning: Adding an axes using the same arguments as a previous axes currently reuses the earlier instance.  In a future version, a new instance will always be created and returned.  Meanwhile, this warning can be suppressed, and the future behavior ensured, by passing a unique label to each axes instance.\n",
      "  ax = fig.add_subplot(111, autoscale_on=False,\n"
     ]
    },
    {
     "name": "stdout",
     "output_type": "stream",
     "text": [
      "14\n",
      "The interpolation points are stored in the variable \"EF_target_pos\": \n",
      "[[12.82842712  2.82842712]\n",
      " [ 9.33333333  2.48565776]\n",
      " [ 4.66666667  0.31445249]\n",
      " [-4.66666667  7.04215777]\n",
      " [-9.33333333 -4.01841817]]\n",
      "The intermediate points are stored in the variable \"interpolated_points\"\n"
     ]
    },
    {
     "name": "stderr",
     "output_type": "stream",
     "text": [
      "<ipython-input-3-d26a071e78a2>:29: MatplotlibDeprecationWarning: Adding an axes using the same arguments as a previous axes currently reuses the earlier instance.  In a future version, a new instance will always be created and returned.  Meanwhile, this warning can be suppressed, and the future behavior ensured, by passing a unique label to each axes instance.\n",
      "  ax = fig.add_subplot(111, autoscale_on=False,\n"
     ]
    },
    {
     "name": "stdout",
     "output_type": "stream",
     "text": [
      "13\n",
      "The interpolation points are stored in the variable \"EF_target_pos\": \n",
      "[[12.12132034  2.12132034]\n",
      " [ 8.66666667 -0.37119605]\n",
      " [ 4.33333333  4.47154145]\n",
      " [-4.33333333  0.1119333 ]\n",
      " [-8.66666667  3.38955067]]\n",
      "The intermediate points are stored in the variable \"interpolated_points\"\n"
     ]
    },
    {
     "name": "stderr",
     "output_type": "stream",
     "text": [
      "<ipython-input-3-d26a071e78a2>:29: MatplotlibDeprecationWarning: Adding an axes using the same arguments as a previous axes currently reuses the earlier instance.  In a future version, a new instance will always be created and returned.  Meanwhile, this warning can be suppressed, and the future behavior ensured, by passing a unique label to each axes instance.\n",
      "  ax = fig.add_subplot(111, autoscale_on=False,\n"
     ]
    },
    {
     "name": "stdout",
     "output_type": "stream",
     "text": [
      "11\n",
      "The interpolation points are stored in the variable \"EF_target_pos\": \n",
      "[[ 9.53553391  3.53553391]\n",
      " [ 7.33333333  0.5578065 ]\n",
      " [ 3.66666667 -2.77985416]\n",
      " [-3.66666667 -1.59557479]\n",
      " [-7.33333333  0.72433917]]\n",
      "The intermediate points are stored in the variable \"interpolated_points\"\n"
     ]
    },
    {
     "name": "stderr",
     "output_type": "stream",
     "text": [
      "<ipython-input-3-d26a071e78a2>:29: MatplotlibDeprecationWarning: Adding an axes using the same arguments as a previous axes currently reuses the earlier instance.  In a future version, a new instance will always be created and returned.  Meanwhile, this warning can be suppressed, and the future behavior ensured, by passing a unique label to each axes instance.\n",
      "  ax = fig.add_subplot(111, autoscale_on=False,\n"
     ]
    },
    {
     "name": "stdout",
     "output_type": "stream",
     "text": [
      "14\n",
      "The interpolation points are stored in the variable \"EF_target_pos\": \n",
      "[[12.53553391  3.53553391]\n",
      " [ 9.33333333  3.00076084]\n",
      " [ 4.66666667 -8.09290751]\n",
      " [-4.66666667 -7.55082402]\n",
      " [-9.33333333  2.96941293]]\n",
      "The intermediate points are stored in the variable \"interpolated_points\"\n"
     ]
    },
    {
     "name": "stderr",
     "output_type": "stream",
     "text": [
      "<ipython-input-3-d26a071e78a2>:29: MatplotlibDeprecationWarning: Adding an axes using the same arguments as a previous axes currently reuses the earlier instance.  In a future version, a new instance will always be created and returned.  Meanwhile, this warning can be suppressed, and the future behavior ensured, by passing a unique label to each axes instance.\n",
      "  ax = fig.add_subplot(111, autoscale_on=False,\n"
     ]
    },
    {
     "name": "stdout",
     "output_type": "stream",
     "text": [
      "13\n",
      "The interpolation points are stored in the variable \"EF_target_pos\": \n",
      "[[11.53553391  3.53553391]\n",
      " [ 8.66666667  3.64882691]\n",
      " [ 4.33333333  4.01822245]\n",
      " [-4.33333333 -0.34313401]\n",
      " [-8.66666667  0.12174149]]\n",
      "The intermediate points are stored in the variable \"interpolated_points\"\n"
     ]
    },
    {
     "name": "stderr",
     "output_type": "stream",
     "text": [
      "<ipython-input-3-d26a071e78a2>:29: MatplotlibDeprecationWarning: Adding an axes using the same arguments as a previous axes currently reuses the earlier instance.  In a future version, a new instance will always be created and returned.  Meanwhile, this warning can be suppressed, and the future behavior ensured, by passing a unique label to each axes instance.\n",
      "  ax = fig.add_subplot(111, autoscale_on=False,\n"
     ]
    },
    {
     "name": "stdout",
     "output_type": "stream",
     "text": [
      "13\n",
      "The interpolation points are stored in the variable \"EF_target_pos\": \n",
      "[[11.53553391  3.53553391]\n",
      " [ 8.66666667  2.70547915]\n",
      " [ 4.33333333  0.25594291]\n",
      " [-4.33333333  1.06042279]\n",
      " [-8.66666667 -4.17025079]]\n",
      "The intermediate points are stored in the variable \"interpolated_points\"\n"
     ]
    },
    {
     "name": "stderr",
     "output_type": "stream",
     "text": [
      "<ipython-input-3-d26a071e78a2>:29: MatplotlibDeprecationWarning: Adding an axes using the same arguments as a previous axes currently reuses the earlier instance.  In a future version, a new instance will always be created and returned.  Meanwhile, this warning can be suppressed, and the future behavior ensured, by passing a unique label to each axes instance.\n",
      "  ax = fig.add_subplot(111, autoscale_on=False,\n"
     ]
    },
    {
     "name": "stdout",
     "output_type": "stream",
     "text": [
      "16\n",
      "The interpolation points are stored in the variable \"EF_target_pos\": \n",
      "[[ 15.12132034   2.12132034]\n",
      " [ 10.66666667   1.75697498]\n",
      " [  5.33333333   2.63629154]\n",
      " [ -5.33333333   5.81111975]\n",
      " [-10.66666667   1.71695119]]\n",
      "The intermediate points are stored in the variable \"interpolated_points\"\n"
     ]
    },
    {
     "name": "stderr",
     "output_type": "stream",
     "text": [
      "<ipython-input-3-d26a071e78a2>:29: MatplotlibDeprecationWarning: Adding an axes using the same arguments as a previous axes currently reuses the earlier instance.  In a future version, a new instance will always be created and returned.  Meanwhile, this warning can be suppressed, and the future behavior ensured, by passing a unique label to each axes instance.\n",
      "  ax = fig.add_subplot(111, autoscale_on=False,\n"
     ]
    },
    {
     "name": "stdout",
     "output_type": "stream",
     "text": [
      "13\n",
      "The interpolation points are stored in the variable \"EF_target_pos\": \n",
      "[[11.82842712  2.82842712]\n",
      " [ 8.66666667  3.93050293]\n",
      " [ 4.33333333  4.03330656]\n",
      " [-4.33333333 -1.04755247]\n",
      " [-8.66666667  4.29583868]]\n",
      "The intermediate points are stored in the variable \"interpolated_points\"\n"
     ]
    },
    {
     "name": "stderr",
     "output_type": "stream",
     "text": [
      "<ipython-input-3-d26a071e78a2>:29: MatplotlibDeprecationWarning: Adding an axes using the same arguments as a previous axes currently reuses the earlier instance.  In a future version, a new instance will always be created and returned.  Meanwhile, this warning can be suppressed, and the future behavior ensured, by passing a unique label to each axes instance.\n",
      "  ax = fig.add_subplot(111, autoscale_on=False,\n"
     ]
    },
    {
     "name": "stdout",
     "output_type": "stream",
     "text": [
      "11\n",
      "The interpolation points are stored in the variable \"EF_target_pos\": \n",
      "[[ 9.53553391  3.53553391]\n",
      " [ 7.33333333 -0.26232444]\n",
      " [ 3.66666667  5.06323122]\n",
      " [-3.66666667 -1.50777394]\n",
      " [-7.33333333 -1.5257432 ]]\n",
      "The intermediate points are stored in the variable \"interpolated_points\"\n"
     ]
    },
    {
     "name": "stderr",
     "output_type": "stream",
     "text": [
      "<ipython-input-3-d26a071e78a2>:29: MatplotlibDeprecationWarning: Adding an axes using the same arguments as a previous axes currently reuses the earlier instance.  In a future version, a new instance will always be created and returned.  Meanwhile, this warning can be suppressed, and the future behavior ensured, by passing a unique label to each axes instance.\n",
      "  ax = fig.add_subplot(111, autoscale_on=False,\n"
     ]
    },
    {
     "name": "stdout",
     "output_type": "stream",
     "text": [
      "17\n",
      "The interpolation points are stored in the variable \"EF_target_pos\": \n",
      "[[ 15.24264069   4.24264069]\n",
      " [ 11.33333333   3.45001355]\n",
      " [  5.66666667   3.61463455]\n",
      " [ -5.66666667  -1.41013512]\n",
      " [-11.33333333   3.70653466]]\n",
      "The intermediate points are stored in the variable \"interpolated_points\"\n"
     ]
    },
    {
     "name": "stderr",
     "output_type": "stream",
     "text": [
      "<ipython-input-3-d26a071e78a2>:29: MatplotlibDeprecationWarning: Adding an axes using the same arguments as a previous axes currently reuses the earlier instance.  In a future version, a new instance will always be created and returned.  Meanwhile, this warning can be suppressed, and the future behavior ensured, by passing a unique label to each axes instance.\n",
      "  ax = fig.add_subplot(111, autoscale_on=False,\n"
     ]
    },
    {
     "name": "stdout",
     "output_type": "stream",
     "text": [
      "19\n",
      "The interpolation points are stored in the variable \"EF_target_pos\": \n",
      "[[ 17.24264069   4.24264069]\n",
      " [ 12.66666667  -4.22371988]\n",
      " [  6.33333333   3.05524312]\n",
      " [ -6.33333333  -5.40362387]\n",
      " [-12.66666667   6.47288633]]\n",
      "The intermediate points are stored in the variable \"interpolated_points\"\n"
     ]
    },
    {
     "name": "stderr",
     "output_type": "stream",
     "text": [
      "<ipython-input-3-d26a071e78a2>:29: MatplotlibDeprecationWarning: Adding an axes using the same arguments as a previous axes currently reuses the earlier instance.  In a future version, a new instance will always be created and returned.  Meanwhile, this warning can be suppressed, and the future behavior ensured, by passing a unique label to each axes instance.\n",
      "  ax = fig.add_subplot(111, autoscale_on=False,\n"
     ]
    },
    {
     "name": "stdout",
     "output_type": "stream",
     "text": [
      "16\n",
      "The interpolation points are stored in the variable \"EF_target_pos\": \n",
      "[[ 13.94974747   4.94974747]\n",
      " [ 10.66666667  -3.45467187]\n",
      " [  5.33333333  -5.54325942]\n",
      " [ -5.33333333   9.18304386]\n",
      " [-10.66666667  -4.93723425]]\n",
      "The intermediate points are stored in the variable \"interpolated_points\"\n"
     ]
    },
    {
     "name": "stderr",
     "output_type": "stream",
     "text": [
      "<ipython-input-3-d26a071e78a2>:29: MatplotlibDeprecationWarning: Adding an axes using the same arguments as a previous axes currently reuses the earlier instance.  In a future version, a new instance will always be created and returned.  Meanwhile, this warning can be suppressed, and the future behavior ensured, by passing a unique label to each axes instance.\n",
      "  ax = fig.add_subplot(111, autoscale_on=False,\n"
     ]
    },
    {
     "name": "stdout",
     "output_type": "stream",
     "text": [
      "10\n",
      "The interpolation points are stored in the variable \"EF_target_pos\": \n",
      "[[ 9.12132034  2.12132034]\n",
      " [ 6.66666667 -2.75271104]\n",
      " [ 3.33333333  1.7087214 ]\n",
      " [-3.33333333  1.93567259]\n",
      " [-6.66666667  0.01257428]]\n",
      "The intermediate points are stored in the variable \"interpolated_points\"\n"
     ]
    },
    {
     "name": "stderr",
     "output_type": "stream",
     "text": [
      "<ipython-input-3-d26a071e78a2>:29: MatplotlibDeprecationWarning: Adding an axes using the same arguments as a previous axes currently reuses the earlier instance.  In a future version, a new instance will always be created and returned.  Meanwhile, this warning can be suppressed, and the future behavior ensured, by passing a unique label to each axes instance.\n",
      "  ax = fig.add_subplot(111, autoscale_on=False,\n"
     ]
    },
    {
     "name": "stdout",
     "output_type": "stream",
     "text": [
      "11\n",
      "The interpolation points are stored in the variable \"EF_target_pos\": \n",
      "[[10.41421356  1.41421356]\n",
      " [ 7.33333333  0.84899391]\n",
      " [ 3.66666667  3.48722154]\n",
      " [-3.66666667 -0.60154088]\n",
      " [-7.33333333 -0.71160385]]\n",
      "The intermediate points are stored in the variable \"interpolated_points\"\n"
     ]
    },
    {
     "name": "stderr",
     "output_type": "stream",
     "text": [
      "<ipython-input-3-d26a071e78a2>:29: MatplotlibDeprecationWarning: Adding an axes using the same arguments as a previous axes currently reuses the earlier instance.  In a future version, a new instance will always be created and returned.  Meanwhile, this warning can be suppressed, and the future behavior ensured, by passing a unique label to each axes instance.\n",
      "  ax = fig.add_subplot(111, autoscale_on=False,\n"
     ]
    },
    {
     "name": "stdout",
     "output_type": "stream",
     "text": [
      "8\n",
      "The interpolation points are stored in the variable \"EF_target_pos\": \n",
      "[[ 6.82842712  2.82842712]\n",
      " [ 5.33333333  2.32752272]\n",
      " [ 2.66666667  1.72675603]\n",
      " [-2.66666667  4.35963835]\n",
      " [-5.33333333  0.50693684]]\n",
      "The intermediate points are stored in the variable \"interpolated_points\"\n"
     ]
    },
    {
     "name": "stderr",
     "output_type": "stream",
     "text": [
      "<ipython-input-3-d26a071e78a2>:29: MatplotlibDeprecationWarning: Adding an axes using the same arguments as a previous axes currently reuses the earlier instance.  In a future version, a new instance will always be created and returned.  Meanwhile, this warning can be suppressed, and the future behavior ensured, by passing a unique label to each axes instance.\n",
      "  ax = fig.add_subplot(111, autoscale_on=False,\n"
     ]
    },
    {
     "name": "stdout",
     "output_type": "stream",
     "text": [
      "18\n",
      "The interpolation points are stored in the variable \"EF_target_pos\": \n",
      "[[ 16.53553391   3.53553391]\n",
      " [ 12.           1.55669282]\n",
      " [  6.          -2.05164881]\n",
      " [ -6.           1.86614059]\n",
      " [-12.          -5.26249507]]\n",
      "The intermediate points are stored in the variable \"interpolated_points\"\n"
     ]
    },
    {
     "name": "stderr",
     "output_type": "stream",
     "text": [
      "<ipython-input-3-d26a071e78a2>:29: MatplotlibDeprecationWarning: Adding an axes using the same arguments as a previous axes currently reuses the earlier instance.  In a future version, a new instance will always be created and returned.  Meanwhile, this warning can be suppressed, and the future behavior ensured, by passing a unique label to each axes instance.\n",
      "  ax = fig.add_subplot(111, autoscale_on=False,\n"
     ]
    },
    {
     "name": "stdout",
     "output_type": "stream",
     "text": [
      "14\n",
      "The interpolation points are stored in the variable \"EF_target_pos\": \n",
      "[[12.24264069  4.24264069]\n",
      " [ 9.33333333 -2.40369271]\n",
      " [ 4.66666667 -1.46258623]\n",
      " [-4.66666667 -0.62719352]\n",
      " [-9.33333333  4.68771847]]\n",
      "The intermediate points are stored in the variable \"interpolated_points\"\n"
     ]
    },
    {
     "name": "stderr",
     "output_type": "stream",
     "text": [
      "<ipython-input-3-d26a071e78a2>:29: MatplotlibDeprecationWarning: Adding an axes using the same arguments as a previous axes currently reuses the earlier instance.  In a future version, a new instance will always be created and returned.  Meanwhile, this warning can be suppressed, and the future behavior ensured, by passing a unique label to each axes instance.\n",
      "  ax = fig.add_subplot(111, autoscale_on=False,\n"
     ]
    },
    {
     "name": "stdout",
     "output_type": "stream",
     "text": [
      "11\n",
      "The interpolation points are stored in the variable \"EF_target_pos\": \n",
      "[[10.12132034  2.12132034]\n",
      " [ 7.33333333  2.85476594]\n",
      " [ 3.66666667 -3.28850286]\n",
      " [-3.66666667  6.34699256]\n",
      " [-7.33333333 -0.24547365]]\n",
      "The intermediate points are stored in the variable \"interpolated_points\"\n"
     ]
    },
    {
     "name": "stderr",
     "output_type": "stream",
     "text": [
      "<ipython-input-3-d26a071e78a2>:29: MatplotlibDeprecationWarning: Adding an axes using the same arguments as a previous axes currently reuses the earlier instance.  In a future version, a new instance will always be created and returned.  Meanwhile, this warning can be suppressed, and the future behavior ensured, by passing a unique label to each axes instance.\n",
      "  ax = fig.add_subplot(111, autoscale_on=False,\n"
     ]
    },
    {
     "name": "stdout",
     "output_type": "stream",
     "text": [
      "17\n",
      "The interpolation points are stored in the variable \"EF_target_pos\": \n",
      "[[ 15.24264069   4.24264069]\n",
      " [ 11.33333333   2.19490489]\n",
      " [  5.66666667  -2.08734635]\n",
      " [ -5.66666667  -3.25427098]\n",
      " [-11.33333333  -0.8960014 ]]\n",
      "The intermediate points are stored in the variable \"interpolated_points\"\n"
     ]
    },
    {
     "name": "stderr",
     "output_type": "stream",
     "text": [
      "<ipython-input-3-d26a071e78a2>:29: MatplotlibDeprecationWarning: Adding an axes using the same arguments as a previous axes currently reuses the earlier instance.  In a future version, a new instance will always be created and returned.  Meanwhile, this warning can be suppressed, and the future behavior ensured, by passing a unique label to each axes instance.\n",
      "  ax = fig.add_subplot(111, autoscale_on=False,\n"
     ]
    },
    {
     "name": "stdout",
     "output_type": "stream",
     "text": [
      "16\n",
      "The interpolation points are stored in the variable \"EF_target_pos\": \n",
      "[[ 13.94974747   4.94974747]\n",
      " [ 10.66666667   0.81095166]\n",
      " [  5.33333333   9.10504241]\n",
      " [ -5.33333333   9.55839959]\n",
      " [-10.66666667  -4.91607003]]\n",
      "The intermediate points are stored in the variable \"interpolated_points\"\n"
     ]
    },
    {
     "name": "stderr",
     "output_type": "stream",
     "text": [
      "<ipython-input-3-d26a071e78a2>:29: MatplotlibDeprecationWarning: Adding an axes using the same arguments as a previous axes currently reuses the earlier instance.  In a future version, a new instance will always be created and returned.  Meanwhile, this warning can be suppressed, and the future behavior ensured, by passing a unique label to each axes instance.\n",
      "  ax = fig.add_subplot(111, autoscale_on=False,\n"
     ]
    },
    {
     "name": "stdout",
     "output_type": "stream",
     "text": [
      "16\n",
      "The interpolation points are stored in the variable \"EF_target_pos\": \n",
      "[[ 14.24264069   4.24264069]\n",
      " [ 10.66666667   4.58677073]\n",
      " [  5.33333333  -2.4726206 ]\n",
      " [ -5.33333333  -8.94811651]\n",
      " [-10.66666667  -2.9825258 ]]\n",
      "The intermediate points are stored in the variable \"interpolated_points\"\n"
     ]
    },
    {
     "name": "stderr",
     "output_type": "stream",
     "text": [
      "<ipython-input-3-d26a071e78a2>:29: MatplotlibDeprecationWarning: Adding an axes using the same arguments as a previous axes currently reuses the earlier instance.  In a future version, a new instance will always be created and returned.  Meanwhile, this warning can be suppressed, and the future behavior ensured, by passing a unique label to each axes instance.\n",
      "  ax = fig.add_subplot(111, autoscale_on=False,\n"
     ]
    },
    {
     "name": "stdout",
     "output_type": "stream",
     "text": [
      "16\n",
      "The interpolation points are stored in the variable \"EF_target_pos\": \n",
      "[[ 14.24264069   4.24264069]\n",
      " [ 10.66666667  -1.28935803]\n",
      " [  5.33333333  -2.53879638]\n",
      " [ -5.33333333   8.31299921]\n",
      " [-10.66666667  -5.29134933]]\n",
      "The intermediate points are stored in the variable \"interpolated_points\"\n"
     ]
    },
    {
     "name": "stderr",
     "output_type": "stream",
     "text": [
      "<ipython-input-3-d26a071e78a2>:29: MatplotlibDeprecationWarning: Adding an axes using the same arguments as a previous axes currently reuses the earlier instance.  In a future version, a new instance will always be created and returned.  Meanwhile, this warning can be suppressed, and the future behavior ensured, by passing a unique label to each axes instance.\n",
      "  ax = fig.add_subplot(111, autoscale_on=False,\n"
     ]
    },
    {
     "name": "stdout",
     "output_type": "stream",
     "text": [
      "9\n",
      "The interpolation points are stored in the variable \"EF_target_pos\": \n",
      "[[ 8.12132034  2.12132034]\n",
      " [ 6.          2.47717355]\n",
      " [ 3.         -3.39944965]\n",
      " [-3.          1.20023066]\n",
      " [-6.          0.02961898]]\n",
      "The intermediate points are stored in the variable \"interpolated_points\"\n"
     ]
    },
    {
     "name": "stderr",
     "output_type": "stream",
     "text": [
      "<ipython-input-3-d26a071e78a2>:29: MatplotlibDeprecationWarning: Adding an axes using the same arguments as a previous axes currently reuses the earlier instance.  In a future version, a new instance will always be created and returned.  Meanwhile, this warning can be suppressed, and the future behavior ensured, by passing a unique label to each axes instance.\n",
      "  ax = fig.add_subplot(111, autoscale_on=False,\n"
     ]
    },
    {
     "name": "stdout",
     "output_type": "stream",
     "text": [
      "10\n",
      "The interpolation points are stored in the variable \"EF_target_pos\": \n",
      "[[ 9.41421356  1.41421356]\n",
      " [ 6.66666667  0.78935391]\n",
      " [ 3.33333333 -3.59702924]\n",
      " [-3.33333333 -0.31779753]\n",
      " [-6.66666667  2.68334673]]\n",
      "The intermediate points are stored in the variable \"interpolated_points\"\n"
     ]
    },
    {
     "name": "stderr",
     "output_type": "stream",
     "text": [
      "<ipython-input-3-d26a071e78a2>:29: MatplotlibDeprecationWarning: Adding an axes using the same arguments as a previous axes currently reuses the earlier instance.  In a future version, a new instance will always be created and returned.  Meanwhile, this warning can be suppressed, and the future behavior ensured, by passing a unique label to each axes instance.\n",
      "  ax = fig.add_subplot(111, autoscale_on=False,\n"
     ]
    },
    {
     "name": "stdout",
     "output_type": "stream",
     "text": [
      "10\n",
      "The interpolation points are stored in the variable \"EF_target_pos\": \n",
      "[[ 8.82842712  2.82842712]\n",
      " [ 6.66666667 -1.74789628]\n",
      " [ 3.33333333 -5.92738924]\n",
      " [-3.33333333 -1.5272573 ]\n",
      " [-6.66666667  0.84402992]]\n",
      "The intermediate points are stored in the variable \"interpolated_points\"\n"
     ]
    },
    {
     "name": "stderr",
     "output_type": "stream",
     "text": [
      "<ipython-input-3-d26a071e78a2>:29: MatplotlibDeprecationWarning: Adding an axes using the same arguments as a previous axes currently reuses the earlier instance.  In a future version, a new instance will always be created and returned.  Meanwhile, this warning can be suppressed, and the future behavior ensured, by passing a unique label to each axes instance.\n",
      "  ax = fig.add_subplot(111, autoscale_on=False,\n"
     ]
    },
    {
     "name": "stdout",
     "output_type": "stream",
     "text": [
      "10\n",
      "The interpolation points are stored in the variable \"EF_target_pos\": \n",
      "[[ 9.41421356  1.41421356]\n",
      " [ 6.66666667 -2.97121876]\n",
      " [ 3.33333333  4.23251687]\n",
      " [-3.33333333 -5.52880658]\n",
      " [-6.66666667  0.46930103]]\n",
      "The intermediate points are stored in the variable \"interpolated_points\"\n"
     ]
    },
    {
     "name": "stderr",
     "output_type": "stream",
     "text": [
      "<ipython-input-3-d26a071e78a2>:29: MatplotlibDeprecationWarning: Adding an axes using the same arguments as a previous axes currently reuses the earlier instance.  In a future version, a new instance will always be created and returned.  Meanwhile, this warning can be suppressed, and the future behavior ensured, by passing a unique label to each axes instance.\n",
      "  ax = fig.add_subplot(111, autoscale_on=False,\n"
     ]
    },
    {
     "name": "stdout",
     "output_type": "stream",
     "text": [
      "12\n",
      "The interpolation points are stored in the variable \"EF_target_pos\": \n",
      "[[11.41421356  1.41421356]\n",
      " [ 8.         -1.08830769]\n",
      " [ 4.          3.22807545]\n",
      " [-4.         -2.57382228]\n",
      " [-8.          0.83903635]]\n",
      "The intermediate points are stored in the variable \"interpolated_points\"\n"
     ]
    },
    {
     "name": "stderr",
     "output_type": "stream",
     "text": [
      "<ipython-input-3-d26a071e78a2>:29: MatplotlibDeprecationWarning: Adding an axes using the same arguments as a previous axes currently reuses the earlier instance.  In a future version, a new instance will always be created and returned.  Meanwhile, this warning can be suppressed, and the future behavior ensured, by passing a unique label to each axes instance.\n",
      "  ax = fig.add_subplot(111, autoscale_on=False,\n"
     ]
    },
    {
     "name": "stdout",
     "output_type": "stream",
     "text": [
      "11\n",
      "The interpolation points are stored in the variable \"EF_target_pos\": \n",
      "[[10.41421356  1.41421356]\n",
      " [ 7.33333333 -3.53367236]\n",
      " [ 3.66666667 -3.99326451]\n",
      " [-3.66666667  0.54947671]\n",
      " [-7.33333333  0.48862255]]\n",
      "The intermediate points are stored in the variable \"interpolated_points\"\n"
     ]
    },
    {
     "name": "stderr",
     "output_type": "stream",
     "text": [
      "<ipython-input-3-d26a071e78a2>:29: MatplotlibDeprecationWarning: Adding an axes using the same arguments as a previous axes currently reuses the earlier instance.  In a future version, a new instance will always be created and returned.  Meanwhile, this warning can be suppressed, and the future behavior ensured, by passing a unique label to each axes instance.\n",
      "  ax = fig.add_subplot(111, autoscale_on=False,\n"
     ]
    },
    {
     "name": "stdout",
     "output_type": "stream",
     "text": [
      "11\n",
      "The interpolation points are stored in the variable \"EF_target_pos\": \n",
      "[[10.41421356  1.41421356]\n",
      " [ 7.33333333 -1.39293098]\n",
      " [ 3.66666667 -0.97383483]\n",
      " [-3.66666667  6.66615275]\n",
      " [-7.33333333 -2.17821538]]\n",
      "The intermediate points are stored in the variable \"interpolated_points\"\n"
     ]
    },
    {
     "name": "stderr",
     "output_type": "stream",
     "text": [
      "<ipython-input-3-d26a071e78a2>:29: MatplotlibDeprecationWarning: Adding an axes using the same arguments as a previous axes currently reuses the earlier instance.  In a future version, a new instance will always be created and returned.  Meanwhile, this warning can be suppressed, and the future behavior ensured, by passing a unique label to each axes instance.\n",
      "  ax = fig.add_subplot(111, autoscale_on=False,\n"
     ]
    },
    {
     "name": "stdout",
     "output_type": "stream",
     "text": [
      "18\n",
      "The interpolation points are stored in the variable \"EF_target_pos\": \n",
      "[[ 15.94974747   4.94974747]\n",
      " [ 12.          -5.69665537]\n",
      " [  6.          11.86451121]\n",
      " [ -6.           6.7322313 ]\n",
      " [-12.           5.09536711]]\n",
      "The intermediate points are stored in the variable \"interpolated_points\"\n"
     ]
    },
    {
     "name": "stderr",
     "output_type": "stream",
     "text": [
      "<ipython-input-3-d26a071e78a2>:29: MatplotlibDeprecationWarning: Adding an axes using the same arguments as a previous axes currently reuses the earlier instance.  In a future version, a new instance will always be created and returned.  Meanwhile, this warning can be suppressed, and the future behavior ensured, by passing a unique label to each axes instance.\n",
      "  ax = fig.add_subplot(111, autoscale_on=False,\n"
     ]
    },
    {
     "name": "stdout",
     "output_type": "stream",
     "text": [
      "9\n",
      "The interpolation points are stored in the variable \"EF_target_pos\": \n",
      "[[ 7.82842712  2.82842712]\n",
      " [ 6.          2.06819369]\n",
      " [ 3.          2.91211005]\n",
      " [-3.          3.17155389]\n",
      " [-6.         -1.93529577]]\n",
      "The intermediate points are stored in the variable \"interpolated_points\"\n"
     ]
    },
    {
     "name": "stderr",
     "output_type": "stream",
     "text": [
      "<ipython-input-3-d26a071e78a2>:29: MatplotlibDeprecationWarning: Adding an axes using the same arguments as a previous axes currently reuses the earlier instance.  In a future version, a new instance will always be created and returned.  Meanwhile, this warning can be suppressed, and the future behavior ensured, by passing a unique label to each axes instance.\n",
      "  ax = fig.add_subplot(111, autoscale_on=False,\n"
     ]
    },
    {
     "name": "stdout",
     "output_type": "stream",
     "text": [
      "17\n",
      "The interpolation points are stored in the variable \"EF_target_pos\": \n",
      "[[ 15.53553391   3.53553391]\n",
      " [ 11.33333333   5.36053172]\n",
      " [  5.66666667   0.12082949]\n",
      " [ -5.66666667   6.13658752]\n",
      " [-11.33333333  -4.39949648]]\n",
      "The intermediate points are stored in the variable \"interpolated_points\"\n"
     ]
    },
    {
     "name": "stderr",
     "output_type": "stream",
     "text": [
      "<ipython-input-3-d26a071e78a2>:29: MatplotlibDeprecationWarning: Adding an axes using the same arguments as a previous axes currently reuses the earlier instance.  In a future version, a new instance will always be created and returned.  Meanwhile, this warning can be suppressed, and the future behavior ensured, by passing a unique label to each axes instance.\n",
      "  ax = fig.add_subplot(111, autoscale_on=False,\n"
     ]
    },
    {
     "name": "stdout",
     "output_type": "stream",
     "text": [
      "12\n",
      "The interpolation points are stored in the variable \"EF_target_pos\": \n",
      "[[11.41421356  1.41421356]\n",
      " [ 8.         -2.71463272]\n",
      " [ 4.          3.4239592 ]\n",
      " [-4.          7.25796359]\n",
      " [-8.          1.90281375]]\n",
      "The intermediate points are stored in the variable \"interpolated_points\"\n"
     ]
    },
    {
     "name": "stderr",
     "output_type": "stream",
     "text": [
      "<ipython-input-3-d26a071e78a2>:29: MatplotlibDeprecationWarning: Adding an axes using the same arguments as a previous axes currently reuses the earlier instance.  In a future version, a new instance will always be created and returned.  Meanwhile, this warning can be suppressed, and the future behavior ensured, by passing a unique label to each axes instance.\n",
      "  ax = fig.add_subplot(111, autoscale_on=False,\n"
     ]
    },
    {
     "name": "stdout",
     "output_type": "stream",
     "text": [
      "13\n",
      "The interpolation points are stored in the variable \"EF_target_pos\": \n",
      "[[11.53553391  3.53553391]\n",
      " [ 8.66666667  3.44793828]\n",
      " [ 4.33333333 -5.32814544]\n",
      " [-4.33333333  2.79143079]\n",
      " [-8.66666667  4.09138941]]\n",
      "The intermediate points are stored in the variable \"interpolated_points\"\n"
     ]
    },
    {
     "name": "stderr",
     "output_type": "stream",
     "text": [
      "<ipython-input-3-d26a071e78a2>:29: MatplotlibDeprecationWarning: Adding an axes using the same arguments as a previous axes currently reuses the earlier instance.  In a future version, a new instance will always be created and returned.  Meanwhile, this warning can be suppressed, and the future behavior ensured, by passing a unique label to each axes instance.\n",
      "  ax = fig.add_subplot(111, autoscale_on=False,\n"
     ]
    },
    {
     "name": "stdout",
     "output_type": "stream",
     "text": [
      "9\n",
      "The interpolation points are stored in the variable \"EF_target_pos\": \n",
      "[[ 8.41421356  1.41421356]\n",
      " [ 6.          2.76815856]\n",
      " [ 3.         -5.79271069]\n",
      " [-3.         -2.08231346]\n",
      " [-6.         -0.60239274]]\n",
      "The intermediate points are stored in the variable \"interpolated_points\"\n"
     ]
    },
    {
     "name": "stderr",
     "output_type": "stream",
     "text": [
      "<ipython-input-3-d26a071e78a2>:29: MatplotlibDeprecationWarning: Adding an axes using the same arguments as a previous axes currently reuses the earlier instance.  In a future version, a new instance will always be created and returned.  Meanwhile, this warning can be suppressed, and the future behavior ensured, by passing a unique label to each axes instance.\n",
      "  ax = fig.add_subplot(111, autoscale_on=False,\n"
     ]
    },
    {
     "name": "stdout",
     "output_type": "stream",
     "text": [
      "13\n",
      "The interpolation points are stored in the variable \"EF_target_pos\": \n",
      "[[12.41421356  1.41421356]\n",
      " [ 8.66666667  2.61655198]\n",
      " [ 4.33333333  0.26323706]\n",
      " [-4.33333333 -7.97244464]\n",
      " [-8.66666667 -0.84870627]]\n",
      "The intermediate points are stored in the variable \"interpolated_points\"\n"
     ]
    },
    {
     "name": "stderr",
     "output_type": "stream",
     "text": [
      "<ipython-input-3-d26a071e78a2>:29: MatplotlibDeprecationWarning: Adding an axes using the same arguments as a previous axes currently reuses the earlier instance.  In a future version, a new instance will always be created and returned.  Meanwhile, this warning can be suppressed, and the future behavior ensured, by passing a unique label to each axes instance.\n",
      "  ax = fig.add_subplot(111, autoscale_on=False,\n"
     ]
    },
    {
     "name": "stdout",
     "output_type": "stream",
     "text": [
      "11\n",
      "The interpolation points are stored in the variable \"EF_target_pos\": \n",
      "[[ 9.53553391  3.53553391]\n",
      " [ 7.33333333 -2.03321857]\n",
      " [ 3.66666667  3.70467203]\n",
      " [-3.66666667 -7.04564074]\n",
      " [-7.33333333  3.49365768]]\n",
      "The intermediate points are stored in the variable \"interpolated_points\"\n"
     ]
    },
    {
     "name": "stderr",
     "output_type": "stream",
     "text": [
      "<ipython-input-3-d26a071e78a2>:29: MatplotlibDeprecationWarning: Adding an axes using the same arguments as a previous axes currently reuses the earlier instance.  In a future version, a new instance will always be created and returned.  Meanwhile, this warning can be suppressed, and the future behavior ensured, by passing a unique label to each axes instance.\n",
      "  ax = fig.add_subplot(111, autoscale_on=False,\n"
     ]
    },
    {
     "name": "stdout",
     "output_type": "stream",
     "text": [
      "14\n",
      "The interpolation points are stored in the variable \"EF_target_pos\": \n",
      "[[13.41421356  1.41421356]\n",
      " [ 9.33333333 -0.79960907]\n",
      " [ 4.66666667 -2.9159712 ]\n",
      " [-4.66666667 -6.41593794]\n",
      " [-9.33333333  4.74877319]]\n",
      "The intermediate points are stored in the variable \"interpolated_points\"\n"
     ]
    },
    {
     "name": "stderr",
     "output_type": "stream",
     "text": [
      "<ipython-input-3-d26a071e78a2>:29: MatplotlibDeprecationWarning: Adding an axes using the same arguments as a previous axes currently reuses the earlier instance.  In a future version, a new instance will always be created and returned.  Meanwhile, this warning can be suppressed, and the future behavior ensured, by passing a unique label to each axes instance.\n",
      "  ax = fig.add_subplot(111, autoscale_on=False,\n"
     ]
    },
    {
     "name": "stdout",
     "output_type": "stream",
     "text": [
      "15\n",
      "The interpolation points are stored in the variable \"EF_target_pos\": \n",
      "[[ 14.12132034   2.12132034]\n",
      " [ 10.           1.18992085]\n",
      " [  5.          -3.93980241]\n",
      " [ -5.          -9.35487302]\n",
      " [-10.          -3.06115704]]\n",
      "The intermediate points are stored in the variable \"interpolated_points\"\n"
     ]
    },
    {
     "name": "stderr",
     "output_type": "stream",
     "text": [
      "<ipython-input-3-d26a071e78a2>:29: MatplotlibDeprecationWarning: Adding an axes using the same arguments as a previous axes currently reuses the earlier instance.  In a future version, a new instance will always be created and returned.  Meanwhile, this warning can be suppressed, and the future behavior ensured, by passing a unique label to each axes instance.\n",
      "  ax = fig.add_subplot(111, autoscale_on=False,\n"
     ]
    },
    {
     "name": "stdout",
     "output_type": "stream",
     "text": [
      "10\n",
      "The interpolation points are stored in the variable \"EF_target_pos\": \n",
      "[[ 8.53553391  3.53553391]\n",
      " [ 6.66666667 -2.79160871]\n",
      " [ 3.33333333 -1.03846915]\n",
      " [-3.33333333 -0.99022227]\n",
      " [-6.66666667  0.53833838]]\n",
      "The intermediate points are stored in the variable \"interpolated_points\"\n"
     ]
    },
    {
     "name": "stderr",
     "output_type": "stream",
     "text": [
      "<ipython-input-3-d26a071e78a2>:29: MatplotlibDeprecationWarning: Adding an axes using the same arguments as a previous axes currently reuses the earlier instance.  In a future version, a new instance will always be created and returned.  Meanwhile, this warning can be suppressed, and the future behavior ensured, by passing a unique label to each axes instance.\n",
      "  ax = fig.add_subplot(111, autoscale_on=False,\n"
     ]
    }
   ],
   "source": [
    "for i in range(500,625):\n",
    "    create_simulation(i,50)"
   ]
  },
  {
   "cell_type": "code",
   "execution_count": null,
   "metadata": {},
   "outputs": [],
   "source": []
  }
 ],
 "metadata": {
  "kernelspec": {
   "display_name": "Python 3",
   "language": "python",
   "name": "python3"
  },
  "language_info": {
   "codemirror_mode": {
    "name": "ipython",
    "version": 3
   },
   "file_extension": ".py",
   "mimetype": "text/x-python",
   "name": "python",
   "nbconvert_exporter": "python",
   "pygments_lexer": "ipython3",
   "version": "3.8.10"
  }
 },
 "nbformat": 4,
 "nbformat_minor": 2
}
