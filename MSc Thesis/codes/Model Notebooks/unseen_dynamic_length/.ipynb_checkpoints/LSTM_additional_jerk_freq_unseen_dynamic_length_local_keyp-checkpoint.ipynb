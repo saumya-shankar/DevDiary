{
 "cells": [
  {
   "cell_type": "code",
   "execution_count": null,
   "metadata": {
    "colab": {
     "base_uri": "https://localhost:8080/"
    },
    "id": "9JYsWwiwnPzi",
    "outputId": "027a64da-566b-4dc6-d457-6cb3104aaa02"
   },
   "outputs": [
    {
     "name": "stdout",
     "output_type": "stream",
     "text": [
      "Tue Aug  2 05:30:58 2022       \n",
      "+-----------------------------------------------------------------------------+\n",
      "| NVIDIA-SMI 460.32.03    Driver Version: 460.32.03    CUDA Version: 11.2     |\n",
      "|-------------------------------+----------------------+----------------------+\n",
      "| GPU  Name        Persistence-M| Bus-Id        Disp.A | Volatile Uncorr. ECC |\n",
      "| Fan  Temp  Perf  Pwr:Usage/Cap|         Memory-Usage | GPU-Util  Compute M. |\n",
      "|                               |                      |               MIG M. |\n",
      "|===============================+======================+======================|\n",
      "|   0  Tesla P100-PCIE...  Off  | 00000000:00:04.0 Off |                    0 |\n",
      "| N/A   37C    P0    28W / 250W |      0MiB / 16280MiB |      0%      Default |\n",
      "|                               |                      |                  N/A |\n",
      "+-------------------------------+----------------------+----------------------+\n",
      "                                                                               \n",
      "+-----------------------------------------------------------------------------+\n",
      "| Processes:                                                                  |\n",
      "|  GPU   GI   CI        PID   Type   Process name                  GPU Memory |\n",
      "|        ID   ID                                                   Usage      |\n",
      "|=============================================================================|\n",
      "|  No running processes found                                                 |\n",
      "+-----------------------------------------------------------------------------+\n"
     ]
    }
   ],
   "source": [
    "gpu_info = !nvidia-smi\n",
    "gpu_info = '\\n'.join(gpu_info)\n",
    "if gpu_info.find('failed') >= 0:\n",
    "  print('Not connected to a GPU')\n",
    "else:\n",
    "  print(gpu_info)"
   ]
  },
  {
   "cell_type": "code",
   "execution_count": null,
   "metadata": {
    "colab": {
     "base_uri": "https://localhost:8080/"
    },
    "id": "IdNIB899nhlq",
    "outputId": "a17bc6d4-3e17-447d-f124-926f5b30424f"
   },
   "outputs": [
    {
     "name": "stdout",
     "output_type": "stream",
     "text": [
      "Mounted at /content/drive\n"
     ]
    }
   ],
   "source": [
    "#mounting google drive on colab\n",
    "from google.colab import drive\n",
    "drive.mount('/content/drive')"
   ]
  },
  {
   "cell_type": "code",
   "execution_count": null,
   "metadata": {
    "id": "GfSazzTdnmaM"
   },
   "outputs": [],
   "source": [
    "# Importing the libraries\n",
    "import numpy as np\n",
    "import matplotlib.pyplot as plt\n",
    "import pandas as pd\n",
    "import copy\n",
    "from scipy import signal"
   ]
  },
  {
   "cell_type": "code",
   "execution_count": null,
   "metadata": {
    "id": "bXN_d9Evntel"
   },
   "outputs": [],
   "source": [
    "X_train=np.load(\"./drive/MyDrive/MSc Thesis/Experiments/all_pairs_ts_data_X_trainv7_exp2_exp5.npy\")\n",
    "y_train=np.load(\"./drive/MyDrive/MSc Thesis/Experiments/all_pairs_ts_data_y_trainv7_exp2_exp5.npy\").astype(int)\n",
    "\n",
    "X_test=np.load(\"./drive/MyDrive/MSc Thesis/Experiments/all_pairs_ts_data_X_testv7_exp2_exp5.npy\")\n",
    "y_test=np.load(\"./drive/MyDrive/MSc Thesis/Experiments/all_pairs_ts_data_y_testv7_exp2_exp5.npy\").astype(int)\n"
   ]
  },
  {
   "cell_type": "code",
   "execution_count": null,
   "metadata": {
    "colab": {
     "base_uri": "https://localhost:8080/"
    },
    "id": "NVkzHpArmQFD",
    "outputId": "ed487a63-95bd-43b2-e45e-9fa805877f57"
   },
   "outputs": [
    {
     "name": "stderr",
     "output_type": "stream",
     "text": [
      "/usr/local/lib/python3.7/dist-packages/scipy/signal/spectral.py:1966: UserWarning: nperseg = 256 is greater than input length  = 50, using nperseg = 50\n",
      "  .format(nperseg, input_length))\n"
     ]
    }
   ],
   "source": [
    "def calc_freq_signal(arr):\n",
    "    freqs, psd = signal.welch(arr, fs=10)\n",
    "    return psd\n",
    "\n",
    "X_train_f=np.apply_along_axis(calc_freq_signal, 1, X_train)\n",
    "X_test_f=np.apply_along_axis(calc_freq_signal, 1, X_test)\n"
   ]
  },
  {
   "cell_type": "code",
   "execution_count": null,
   "metadata": {
    "id": "6MFvsoGCeuLr"
   },
   "outputs": [],
   "source": [
    "X_train_1d=np.gradient(X_train,axis=1)\n",
    "X_test_1d=np.gradient(X_test,axis=1)\n",
    "X_train=np.dstack([X_train,X_train_1d])\n",
    "X_test=np.dstack([X_test,X_test_1d])"
   ]
  },
  {
   "cell_type": "code",
   "execution_count": null,
   "metadata": {
    "id": "uT-WuU1ohSbG"
   },
   "outputs": [],
   "source": [
    "def custom_scaler(X, range=(0, 1),min=None,max=None):\n",
    "    mi, ma = range\n",
    "    if(min==None):\n",
    "      min=X.min()\n",
    "      max=X.max()\n",
    "      print(\"\\nTrain_Scaling:- min=\",min,\" max=\",max)\n",
    "    X_std = (X - min) / (max - min)\n",
    "    X_scaled = X_std * (ma - mi) + mi\n",
    "    return min,max,X_scaled"
   ]
  },
  {
   "cell_type": "code",
   "execution_count": null,
   "metadata": {
    "colab": {
     "base_uri": "https://localhost:8080/"
    },
    "id": "Bc2GRbYck53M",
    "outputId": "20a16205-81ef-4918-facd-aa89ffc61a2d"
   },
   "outputs": [
    {
     "name": "stdout",
     "output_type": "stream",
     "text": [
      "\n",
      "Train_Scaling:- min= -24.132592179310038  max= 28.36396103067893\n",
      "\n",
      "Train_Scaling:- min= -31.27613373276081  max= 33.197802245887985\n",
      "\n",
      "Train_Scaling:- min= -11.72770325673539  max= 13.779106439601684\n",
      "\n",
      "Train_Scaling:- min= -19.048373985970322  max= 18.311546903226954\n",
      "Frequency signals scaling:-------------\n",
      "\n",
      "Train_Scaling:- min= 0.0  max= 423.0426963359623\n",
      "\n",
      "Train_Scaling:- min= 0.0  max= 988.3390100809438\n"
     ]
    }
   ],
   "source": [
    "# Feature Scaling\n",
    "#X_train contains 8 signals x1,x2,y1,y2,x1d,2d,y1d,y2d\n",
    "X_train_scaled=copy.copy(X_train)\n",
    "X_test_scaled=copy.copy(X_test)\n",
    "\n",
    "min_temp,max_temp,X_train_scaled[:,:,0:2]=custom_scaler(X_train_scaled[:,:,0:2],range=(0,1))\n",
    "_,_,X_test_scaled[:,:,0:2]=custom_scaler(X_test_scaled[:,:,0:2],range=(0,1),min=min_temp,max=max_temp)\n",
    "\n",
    "min_temp,max_temp,X_train_scaled[:,:,2:4]=custom_scaler(X_train_scaled[:,:,2:4],range=(0,1))\n",
    "_,_,X_test_scaled[:,:,2:4]=custom_scaler(X_test_scaled[:,:,2:4],range=(0,1),min=min_temp,max=max_temp)\n",
    "\n",
    "min_temp,max_temp,X_train_scaled[:,:,4:6]=custom_scaler(X_train_scaled[:,:,4:6],range=(0,1))\n",
    "_,_,X_test_scaled[:,:,4:6]=custom_scaler(X_test_scaled[:,:,4:6],range=(0,1),min=min_temp,max=max_temp)\n",
    "\n",
    "min_temp,max_temp,X_train_scaled[:,:,6:8]=custom_scaler(X_train_scaled[:,:,6:8],range=(0,1))\n",
    "_,_,X_test_scaled[:,:,6:8]=custom_scaler(X_test_scaled[:,:,6:8],range=(0,1),min=min_temp,max=max_temp)\n",
    "\n",
    "\n",
    "print(\"Frequency signals scaling:-------------\")\n",
    "#X_train contains 8 signals x1f,x2f,y1f,y2f\n",
    "X_train_scaled_f=copy.copy(X_train_f)\n",
    "X_test_scaled_f=copy.copy(X_test_f)\n",
    "\n",
    "min_temp,max_temp,X_train_scaled_f[:,:,0:2]=custom_scaler(X_train_scaled_f[:,:,0:2],range=(0,1))\n",
    "_,_,X_test_scaled_f[:,:,0:2]=custom_scaler(X_test_scaled_f[:,:,0:2],range=(0,1),min=min_temp,max=max_temp)\n",
    "\n",
    "min_temp,max_temp,X_train_scaled_f[:,:,2:4]=custom_scaler(X_train_scaled_f[:,:,2:4],range=(0,1))\n",
    "_,_,X_test_scaled_f[:,:,2:4]=custom_scaler(X_test_scaled_f[:,:,2:4],range=(0,1),min=min_temp,max=max_temp)\n"
   ]
  },
  {
   "cell_type": "code",
   "execution_count": null,
   "metadata": {
    "colab": {
     "base_uri": "https://localhost:8080/"
    },
    "id": "L7JWtkWdfSCb",
    "outputId": "b0ee7a35-0404-4072-dc67-cf481f45c2e9"
   },
   "outputs": [
    {
     "name": "stdout",
     "output_type": "stream",
     "text": [
      "(18424, 50, 8)\n",
      "(18424, 26, 4)\n",
      "(5773, 50, 8)\n",
      "(5773, 26, 4)\n"
     ]
    }
   ],
   "source": [
    "print(X_train_scaled.shape)\n",
    "print(X_train_scaled_f.shape)\n",
    "\n",
    "print(X_test_scaled.shape)\n",
    "print(X_test_scaled_f.shape)"
   ]
  },
  {
   "cell_type": "code",
   "execution_count": null,
   "metadata": {
    "id": "iLgHyiJDrclv"
   },
   "outputs": [],
   "source": [
    "dataset_train=pd.DataFrame(y_train)\n",
    "dataset_train['node1']=list(X_train_scaled[:,:,[0,2,4,6]])\n",
    "dataset_train['node2']=list(X_train_scaled[:,:,[1,3,5,7]])\n",
    "\n",
    "dataset_test=pd.DataFrame(y_test)\n",
    "dataset_test['node1']=list(X_test_scaled[:,:,[0,2,4,6]])\n",
    "dataset_test['node2']=list(X_test_scaled[:,:,[1,3,5,7]])\n",
    "\n",
    "dataset_train_f=pd.DataFrame(y_train)\n",
    "dataset_train_f['node1']=list(X_train_scaled_f[:,:,[0,2]])\n",
    "dataset_train_f['node2']=list(X_train_scaled_f[:,:,[1,3]])\n",
    "\n",
    "dataset_test_f=pd.DataFrame(y_test)\n",
    "dataset_test_f['node1']=list(X_test_scaled_f[:,:,[0,2]])\n",
    "dataset_test_f['node2']=list(X_test_scaled_f[:,:,[1,3]])"
   ]
  },
  {
   "cell_type": "code",
   "execution_count": null,
   "metadata": {
    "id": "5olvkKTeqgm5"
   },
   "outputs": [],
   "source": [
    "#Adding Local infos\n",
    "padding_dim=20\n",
    "padding_val=1e6 ### all other values will be between 0 and 1s, only those which we want to mask will be 1e6\n",
    "def mask_pair(arr,local_features):\n",
    "  temp=copy.copy(local_features)\n",
    "  temp[[arr[2],arr[3]],:,:]=padding_val\n",
    "  return(temp)\n",
    "\n",
    "def add_local_info(df):\n",
    "  df=df.reset_index(drop=True)\n",
    "  node_features=pd.concat([df['node1'],df['node2'][len(df)-1:]],axis=0).reset_index(drop=True)\n",
    "  node_features=node_features[node_features.astype(str).drop_duplicates().index].reset_index(drop=True)\n",
    "  node_features=np.stack(node_features)\n",
    "  node_features=np.pad(node_features, [(0,padding_dim-node_features.shape[0]),(0,0),(0,0)], 'constant', constant_values=padding_val)\n",
    "  df['local_info']=df.apply(lambda row: mask_pair(row,node_features), axis=1)\n",
    "  return(df)"
   ]
  },
  {
   "cell_type": "code",
   "execution_count": null,
   "metadata": {
    "id": "erxRM-y-CEWH"
   },
   "outputs": [],
   "source": [
    "dataset_train1=dataset_train.groupby(1).apply(add_local_info).reset_index(drop=True)\n",
    "dataset_test1=dataset_test.groupby(1).apply(add_local_info).reset_index(drop=True)\n",
    "dataset_train_f1=dataset_train_f.groupby(1).apply(add_local_info).reset_index(drop=True)\n",
    "dataset_test_f1=dataset_test_f.groupby(1).apply(add_local_info).reset_index(drop=True)"
   ]
  },
  {
   "cell_type": "code",
   "execution_count": null,
   "metadata": {
    "id": "8kHTMzOHDcim"
   },
   "outputs": [],
   "source": [
    "X_train_scaled_local=np.stack(dataset_train1['local_info'])\n",
    "X_test_scaled_local=np.stack(dataset_test1['local_info'])\n",
    "X_train_scaled_f_local=np.stack(dataset_train_f1['local_info'])\n",
    "X_test_scaled_f_local=np.stack(dataset_test_f1['local_info'])"
   ]
  },
  {
   "cell_type": "code",
   "execution_count": null,
   "metadata": {
    "colab": {
     "base_uri": "https://localhost:8080/"
    },
    "id": "86bjG9d7Dn3S",
    "outputId": "4218d152-166e-4818-ae9c-39516054ab49"
   },
   "outputs": [
    {
     "name": "stdout",
     "output_type": "stream",
     "text": [
      "(18424, 50, 8)\n",
      "(5773, 50, 8)\n",
      "(18424, 26, 4)\n",
      "(5773, 26, 4)\n",
      "(18424, 20, 50, 4)\n",
      "(5773, 20, 50, 4)\n",
      "(18424, 20, 26, 2)\n",
      "(5773, 20, 26, 2)\n"
     ]
    }
   ],
   "source": [
    "print(X_train_scaled.shape)\n",
    "print(X_test_scaled.shape)\n",
    "print(X_train_scaled_f.shape)\n",
    "print(X_test_scaled_f.shape)\n",
    "\n",
    "print(X_train_scaled_local.shape)\n",
    "print(X_test_scaled_local.shape)\n",
    "print(X_train_scaled_f_local.shape)\n",
    "print(X_test_scaled_f_local.shape)"
   ]
  },
  {
   "cell_type": "code",
   "execution_count": null,
   "metadata": {
    "id": "u8CMIO_ToBr9"
   },
   "outputs": [],
   "source": [
    "\n",
    "# Part 2 - Building the RNN\n",
    "\n",
    "# Importing the Keras libraries and packages\n",
    "import tensorflow as tf\n",
    "from keras.models import Sequential\n",
    "from keras.layers import Dense\n",
    "from keras.layers import LSTM\n",
    "from keras.layers import Dropout\n",
    "from keras.layers import Input\n",
    "from tensorflow.keras import layers\n",
    "import keras\n",
    "\n",
    "input_1 = Input((X_train_scaled.shape[1], X_train_scaled.shape[2])) #50,8\n",
    "input_2 = Input((X_train_scaled_f.shape[1], X_train_scaled_f.shape[2])) #26,4\n",
    "\n",
    "input_3 = Input((X_train_scaled_local.shape[1], X_train_scaled_local.shape[2], X_train_scaled_local.shape[3])) #20,50,4\n",
    "input_4 = Input((X_train_scaled_f_local.shape[1], X_train_scaled_f_local.shape[2], X_train_scaled_f_local.shape[3])) #20,26,2\n",
    "\n",
    "\n",
    "x1=LSTM(units = 100, return_sequences = True)(input_1)\n",
    "x1=LSTM(units = 50)(x1)\n",
    "\n",
    "x2=LSTM(units = 100, return_sequences = True)(input_2)\n",
    "x2=LSTM(units = 50)(x2)\n",
    "\n",
    "x3=layers.Masking(mask_value=padding_val)(input_3)\n",
    "x3=layers.TimeDistributed(LSTM(units = 100, return_sequences = True))(x3)\n",
    "x3=layers.TimeDistributed(LSTM(units = 50))(x3)\n",
    "# x3=layers.TimeDistributed(Dense(units = 1))(x3)\n",
    "x3=layers.Flatten()(x3)\n",
    "\n",
    "x4=layers.Masking(mask_value=padding_val)(input_4)\n",
    "x4=layers.TimeDistributed(LSTM(units = 100, return_sequences = True))(x4)\n",
    "x4=layers.TimeDistributed(LSTM(units = 50))(x4)\n",
    "# x4=layers.TimeDistributed(Dense(units = 1))(x4)\n",
    "x4=layers.Flatten()(x4)\n",
    "\n",
    "x_neighbbours=layers.concatenate([x3,x4])\n",
    "x_neighbbours=layers.Dense(100)(x_neighbbours)\n",
    "\n",
    "x = layers.concatenate([x1, x2,x_neighbbours])\n",
    "x=layers.Dense(50)(x)\n",
    "\n",
    "output_layer = layers.Dense(1, activation=\"sigmoid\")(x)\n",
    "\n",
    "classifier=keras.Model(inputs=[input_1, input_2, input_3, input_4], outputs=output_layer)\n",
    "\n",
    "# Compiling the RNN\n",
    "classifier.compile(optimizer = 'adam', loss = 'binary_crossentropy', metrics = ['accuracy'])\n"
   ]
  },
  {
   "cell_type": "code",
   "execution_count": null,
   "metadata": {
    "colab": {
     "base_uri": "https://localhost:8080/"
    },
    "id": "B1KmTYGvWGWY",
    "outputId": "f4a3bb71-c8e7-4529-b7ed-29ac775344e1"
   },
   "outputs": [
    {
     "name": "stdout",
     "output_type": "stream",
     "text": [
      "Model: \"model\"\n",
      "__________________________________________________________________________________________________\n",
      " Layer (type)                   Output Shape         Param #     Connected to                     \n",
      "==================================================================================================\n",
      " input_3 (InputLayer)           [(None, 20, 50, 4)]  0           []                               \n",
      "                                                                                                  \n",
      " input_4 (InputLayer)           [(None, 20, 26, 2)]  0           []                               \n",
      "                                                                                                  \n",
      " masking (Masking)              (None, 20, 50, 4)    0           ['input_3[0][0]']                \n",
      "                                                                                                  \n",
      " masking_1 (Masking)            (None, 20, 26, 2)    0           ['input_4[0][0]']                \n",
      "                                                                                                  \n",
      " time_distributed (TimeDistribu  (None, 20, 50, 100)  42000      ['masking[0][0]']                \n",
      " ted)                                                                                             \n",
      "                                                                                                  \n",
      " time_distributed_2 (TimeDistri  (None, 20, 26, 100)  41200      ['masking_1[0][0]']              \n",
      " buted)                                                                                           \n",
      "                                                                                                  \n",
      " time_distributed_1 (TimeDistri  (None, 20, 50)      30200       ['time_distributed[0][0]']       \n",
      " buted)                                                                                           \n",
      "                                                                                                  \n",
      " time_distributed_3 (TimeDistri  (None, 20, 50)      30200       ['time_distributed_2[0][0]']     \n",
      " buted)                                                                                           \n",
      "                                                                                                  \n",
      " input_1 (InputLayer)           [(None, 50, 8)]      0           []                               \n",
      "                                                                                                  \n",
      " input_2 (InputLayer)           [(None, 26, 4)]      0           []                               \n",
      "                                                                                                  \n",
      " flatten (Flatten)              (None, 1000)         0           ['time_distributed_1[0][0]']     \n",
      "                                                                                                  \n",
      " flatten_1 (Flatten)            (None, 1000)         0           ['time_distributed_3[0][0]']     \n",
      "                                                                                                  \n",
      " lstm (LSTM)                    (None, 50, 100)      43600       ['input_1[0][0]']                \n",
      "                                                                                                  \n",
      " lstm_2 (LSTM)                  (None, 26, 100)      42000       ['input_2[0][0]']                \n",
      "                                                                                                  \n",
      " concatenate (Concatenate)      (None, 2000)         0           ['flatten[0][0]',                \n",
      "                                                                  'flatten_1[0][0]']              \n",
      "                                                                                                  \n",
      " lstm_1 (LSTM)                  (None, 50)           30200       ['lstm[0][0]']                   \n",
      "                                                                                                  \n",
      " lstm_3 (LSTM)                  (None, 50)           30200       ['lstm_2[0][0]']                 \n",
      "                                                                                                  \n",
      " dense (Dense)                  (None, 100)          200100      ['concatenate[0][0]']            \n",
      "                                                                                                  \n",
      " concatenate_1 (Concatenate)    (None, 200)          0           ['lstm_1[0][0]',                 \n",
      "                                                                  'lstm_3[0][0]',                 \n",
      "                                                                  'dense[0][0]']                  \n",
      "                                                                                                  \n",
      " dense_1 (Dense)                (None, 50)           10050       ['concatenate_1[0][0]']          \n",
      "                                                                                                  \n",
      " dense_2 (Dense)                (None, 1)            51          ['dense_1[0][0]']                \n",
      "                                                                                                  \n",
      "==================================================================================================\n",
      "Total params: 499,801\n",
      "Trainable params: 499,801\n",
      "Non-trainable params: 0\n",
      "__________________________________________________________________________________________________\n"
     ]
    }
   ],
   "source": [
    "classifier.summary()"
   ]
  },
  {
   "cell_type": "code",
   "execution_count": null,
   "metadata": {
    "colab": {
     "base_uri": "https://localhost:8080/",
     "height": 953
    },
    "id": "e6KCwPfMWP5l",
    "outputId": "03dac857-dba2-40a5-bfd3-d5ed3afc5a0f"
   },
   "outputs": [
    {
     "data": {
      "image/png": "[encoded data removed]",
      "text/plain": [
       "<IPython.core.display.Image object>"
      ]
     },
     "execution_count": 17,
     "metadata": {},
     "output_type": "execute_result"
    }
   ],
   "source": [
    "tf.keras.utils.plot_model(classifier)"
   ]
  },
  {
   "cell_type": "code",
   "execution_count": null,
   "metadata": {
    "id": "uf-jNI2KZJUu"
   },
   "outputs": [],
   "source": [
    "from tensorflow.keras.callbacks import ModelCheckpoint, EarlyStopping\n",
    "\n",
    "checkpoint = ModelCheckpoint(\"./drive/MyDrive/MSc Thesis/Experiments/models/LSTM_1d_freq_exp2_exp5_local_info_v2.h5\",\n",
    "                             monitor=\"val_accuracy\",\n",
    "                             mode=\"max\",\n",
    "                             save_best_only = True,\n",
    "                             verbose=1)\n",
    "\n",
    "\n",
    "earlystop = EarlyStopping(monitor = 'val_accuracy', # value being monitored for improvement\n",
    "                          min_delta = 0, #Abs value and is the min change required before we stop\n",
    "                          patience = 20, #Number of epochs we wait before stopping \n",
    "                          verbose = 1,\n",
    "                          restore_best_weights = True) #keeps the best weigths once stopped\n",
    "\n",
    "# we put our call backs into a callback list\n",
    "callbacks = [earlystop,checkpoint]\n"
   ]
  },
  {
   "cell_type": "code",
   "execution_count": null,
   "metadata": {
    "colab": {
     "base_uri": "https://localhost:8080/"
    },
    "id": "jcUvZBOYoFNC",
    "outputId": "231f7e5b-7497-4e0c-9157-3009ff4cb539"
   },
   "outputs": [
    {
     "name": "stdout",
     "output_type": "stream",
     "text": [
      "Epoch 1/200\n",
      "288/288 [==============================] - ETA: 0s - loss: 0.5763 - accuracy: 0.6957\n",
      "Epoch 1: val_accuracy improved from -inf to 0.75818, saving model to ./drive/MyDrive/MSc Thesis/Experiments/models/LSTM_1d_freq_exp2_exp5_local_info_v2.h5\n",
      "288/288 [==============================] - 103s 284ms/step - loss: 0.5763 - accuracy: 0.6957 - val_loss: 0.4567 - val_accuracy: 0.7582\n",
      "Epoch 2/200\n",
      "288/288 [==============================] - ETA: 0s - loss: 0.4941 - accuracy: 0.7319\n",
      "Epoch 2: val_accuracy improved from 0.75818 to 0.82609, saving model to ./drive/MyDrive/MSc Thesis/Experiments/models/LSTM_1d_freq_exp2_exp5_local_info_v2.h5\n",
      "288/288 [==============================] - 76s 263ms/step - loss: 0.4941 - accuracy: 0.7319 - val_loss: 0.3302 - val_accuracy: 0.8261\n",
      "Epoch 3/200\n",
      "288/288 [==============================] - ETA: 0s - loss: 0.3974 - accuracy: 0.8071\n",
      "Epoch 3: val_accuracy improved from 0.82609 to 0.84791, saving model to ./drive/MyDrive/MSc Thesis/Experiments/models/LSTM_1d_freq_exp2_exp5_local_info_v2.h5\n",
      "288/288 [==============================] - 75s 261ms/step - loss: 0.3974 - accuracy: 0.8071 - val_loss: 0.3301 - val_accuracy: 0.8479\n",
      "Epoch 4/200\n",
      "288/288 [==============================] - ETA: 0s - loss: 0.3806 - accuracy: 0.8180\n",
      "Epoch 4: val_accuracy did not improve from 0.84791\n",
      "288/288 [==============================] - 75s 261ms/step - loss: 0.3806 - accuracy: 0.8180 - val_loss: 0.3393 - val_accuracy: 0.8332\n",
      "Epoch 5/200\n",
      "288/288 [==============================] - ETA: 0s - loss: 0.3609 - accuracy: 0.8330\n",
      "Epoch 5: val_accuracy did not improve from 0.84791\n",
      "288/288 [==============================] - 75s 261ms/step - loss: 0.3609 - accuracy: 0.8330 - val_loss: 0.3363 - val_accuracy: 0.8422\n",
      "Epoch 6/200\n",
      "288/288 [==============================] - ETA: 0s - loss: 0.3589 - accuracy: 0.8336\n",
      "Epoch 6: val_accuracy did not improve from 0.84791\n",
      "288/288 [==============================] - 75s 259ms/step - loss: 0.3589 - accuracy: 0.8336 - val_loss: 0.3794 - val_accuracy: 0.8081\n",
      "Epoch 7/200\n",
      "288/288 [==============================] - ETA: 0s - loss: 0.3435 - accuracy: 0.8404\n",
      "Epoch 7: val_accuracy did not improve from 0.84791\n",
      "288/288 [==============================] - 75s 261ms/step - loss: 0.3435 - accuracy: 0.8404 - val_loss: 0.4042 - val_accuracy: 0.7980\n",
      "Epoch 8/200\n",
      "288/288 [==============================] - ETA: 0s - loss: 0.3396 - accuracy: 0.8437\n",
      "Epoch 8: val_accuracy did not improve from 0.84791\n",
      "288/288 [==============================] - 75s 261ms/step - loss: 0.3396 - accuracy: 0.8437 - val_loss: 0.3147 - val_accuracy: 0.8451\n",
      "Epoch 9/200\n",
      "288/288 [==============================] - ETA: 0s - loss: 0.3434 - accuracy: 0.8429\n",
      "Epoch 9: val_accuracy did not improve from 0.84791\n",
      "288/288 [==============================] - 75s 260ms/step - loss: 0.3434 - accuracy: 0.8429 - val_loss: 0.3108 - val_accuracy: 0.8418\n",
      "Epoch 10/200\n",
      "288/288 [==============================] - ETA: 0s - loss: 0.3492 - accuracy: 0.8412\n",
      "Epoch 10: val_accuracy improved from 0.84791 to 0.85172, saving model to ./drive/MyDrive/MSc Thesis/Experiments/models/LSTM_1d_freq_exp2_exp5_local_info_v2.h5\n",
      "288/288 [==============================] - 76s 264ms/step - loss: 0.3492 - accuracy: 0.8412 - val_loss: 0.3167 - val_accuracy: 0.8517\n",
      "Epoch 11/200\n",
      "288/288 [==============================] - ETA: 0s - loss: 0.3274 - accuracy: 0.8511\n",
      "Epoch 11: val_accuracy improved from 0.85172 to 0.85917, saving model to ./drive/MyDrive/MSc Thesis/Experiments/models/LSTM_1d_freq_exp2_exp5_local_info_v2.h5\n",
      "288/288 [==============================] - 75s 262ms/step - loss: 0.3274 - accuracy: 0.8511 - val_loss: 0.2967 - val_accuracy: 0.8592\n",
      "Epoch 12/200\n",
      "288/288 [==============================] - ETA: 0s - loss: 0.3254 - accuracy: 0.8540\n",
      "Epoch 12: val_accuracy improved from 0.85917 to 0.86021, saving model to ./drive/MyDrive/MSc Thesis/Experiments/models/LSTM_1d_freq_exp2_exp5_local_info_v2.h5\n",
      "288/288 [==============================] - 75s 260ms/step - loss: 0.3254 - accuracy: 0.8540 - val_loss: 0.3123 - val_accuracy: 0.8602\n",
      "Epoch 13/200\n",
      "288/288 [==============================] - ETA: 0s - loss: 0.3344 - accuracy: 0.8500\n",
      "Epoch 13: val_accuracy did not improve from 0.86021\n",
      "288/288 [==============================] - 75s 260ms/step - loss: 0.3344 - accuracy: 0.8500 - val_loss: 0.2991 - val_accuracy: 0.8529\n",
      "Epoch 14/200\n",
      "288/288 [==============================] - ETA: 0s - loss: 0.3004 - accuracy: 0.8668\n",
      "Epoch 14: val_accuracy did not improve from 0.86021\n",
      "288/288 [==============================] - 74s 258ms/step - loss: 0.3004 - accuracy: 0.8668 - val_loss: 0.3157 - val_accuracy: 0.8543\n",
      "Epoch 15/200\n",
      "288/288 [==============================] - ETA: 0s - loss: 0.3297 - accuracy: 0.8545\n",
      "Epoch 15: val_accuracy did not improve from 0.86021\n",
      "288/288 [==============================] - 74s 257ms/step - loss: 0.3297 - accuracy: 0.8545 - val_loss: 0.3808 - val_accuracy: 0.8199\n",
      "Epoch 16/200\n",
      "288/288 [==============================] - ETA: 0s - loss: 0.3094 - accuracy: 0.8634\n",
      "Epoch 16: val_accuracy did not improve from 0.86021\n",
      "288/288 [==============================] - 75s 259ms/step - loss: 0.3094 - accuracy: 0.8634 - val_loss: 0.3179 - val_accuracy: 0.8474\n",
      "Epoch 17/200\n",
      "288/288 [==============================] - ETA: 0s - loss: 0.3338 - accuracy: 0.8489\n",
      "Epoch 17: val_accuracy did not improve from 0.86021\n",
      "288/288 [==============================] - 74s 258ms/step - loss: 0.3338 - accuracy: 0.8489 - val_loss: 0.4122 - val_accuracy: 0.8017\n",
      "Epoch 18/200\n",
      "288/288 [==============================] - ETA: 0s - loss: 0.3026 - accuracy: 0.8665\n",
      "Epoch 18: val_accuracy did not improve from 0.86021\n",
      "288/288 [==============================] - 75s 260ms/step - loss: 0.3026 - accuracy: 0.8665 - val_loss: 0.3236 - val_accuracy: 0.8541\n",
      "Epoch 19/200\n",
      "288/288 [==============================] - ETA: 0s - loss: 0.3219 - accuracy: 0.8551\n",
      "Epoch 19: val_accuracy did not improve from 0.86021\n",
      "288/288 [==============================] - 75s 259ms/step - loss: 0.3219 - accuracy: 0.8551 - val_loss: 0.3373 - val_accuracy: 0.8431\n",
      "Epoch 20/200\n",
      "288/288 [==============================] - ETA: 0s - loss: 0.2938 - accuracy: 0.8697\n",
      "Epoch 20: val_accuracy did not improve from 0.86021\n",
      "288/288 [==============================] - 74s 258ms/step - loss: 0.2938 - accuracy: 0.8697 - val_loss: 0.4211 - val_accuracy: 0.8008\n",
      "Epoch 21/200\n",
      "288/288 [==============================] - ETA: 0s - loss: 0.2908 - accuracy: 0.8711\n",
      "Epoch 21: val_accuracy did not improve from 0.86021\n",
      "288/288 [==============================] - 75s 259ms/step - loss: 0.2908 - accuracy: 0.8711 - val_loss: 0.3298 - val_accuracy: 0.8507\n",
      "Epoch 22/200\n",
      "288/288 [==============================] - ETA: 0s - loss: 0.2987 - accuracy: 0.8655\n",
      "Epoch 22: val_accuracy did not improve from 0.86021\n",
      "288/288 [==============================] - 74s 258ms/step - loss: 0.2987 - accuracy: 0.8655 - val_loss: 0.3077 - val_accuracy: 0.8526\n",
      "Epoch 23/200\n",
      "288/288 [==============================] - ETA: 0s - loss: 0.2998 - accuracy: 0.8657\n",
      "Epoch 23: val_accuracy improved from 0.86021 to 0.86749, saving model to ./drive/MyDrive/MSc Thesis/Experiments/models/LSTM_1d_freq_exp2_exp5_local_info_v2.h5\n",
      "288/288 [==============================] - 75s 260ms/step - loss: 0.2998 - accuracy: 0.8657 - val_loss: 0.2861 - val_accuracy: 0.8675\n",
      "Epoch 24/200\n",
      "288/288 [==============================] - ETA: 0s - loss: 0.2933 - accuracy: 0.8675\n",
      "Epoch 24: val_accuracy did not improve from 0.86749\n",
      "288/288 [==============================] - 75s 259ms/step - loss: 0.2933 - accuracy: 0.8675 - val_loss: 0.3362 - val_accuracy: 0.8543\n",
      "Epoch 25/200\n",
      "288/288 [==============================] - ETA: 0s - loss: 0.3048 - accuracy: 0.8620\n",
      "Epoch 25: val_accuracy did not improve from 0.86749\n",
      "288/288 [==============================] - 74s 257ms/step - loss: 0.3048 - accuracy: 0.8620 - val_loss: 0.3553 - val_accuracy: 0.8195\n",
      "Epoch 26/200\n",
      "288/288 [==============================] - ETA: 0s - loss: 0.2814 - accuracy: 0.8753\n",
      "Epoch 26: val_accuracy did not improve from 0.86749\n",
      "288/288 [==============================] - 75s 259ms/step - loss: 0.2814 - accuracy: 0.8753 - val_loss: 0.3105 - val_accuracy: 0.8509\n",
      "Epoch 27/200\n",
      "288/288 [==============================] - ETA: 0s - loss: 0.2914 - accuracy: 0.8698\n",
      "Epoch 27: val_accuracy did not improve from 0.86749\n",
      "288/288 [==============================] - 74s 258ms/step - loss: 0.2914 - accuracy: 0.8698 - val_loss: 0.2941 - val_accuracy: 0.8557\n",
      "Epoch 28/200\n",
      "288/288 [==============================] - ETA: 0s - loss: 0.2880 - accuracy: 0.8701\n",
      "Epoch 28: val_accuracy did not improve from 0.86749\n",
      "288/288 [==============================] - 74s 257ms/step - loss: 0.2880 - accuracy: 0.8701 - val_loss: 0.2759 - val_accuracy: 0.8628\n",
      "Epoch 29/200\n",
      "288/288 [==============================] - ETA: 0s - loss: 0.2871 - accuracy: 0.8717\n",
      "Epoch 29: val_accuracy did not improve from 0.86749\n",
      "288/288 [==============================] - 75s 259ms/step - loss: 0.2871 - accuracy: 0.8717 - val_loss: 0.2909 - val_accuracy: 0.8671\n",
      "Epoch 30/200\n",
      "288/288 [==============================] - ETA: 0s - loss: 0.2887 - accuracy: 0.8723\n",
      "Epoch 30: val_accuracy did not improve from 0.86749\n",
      "288/288 [==============================] - 74s 258ms/step - loss: 0.2887 - accuracy: 0.8723 - val_loss: 0.3303 - val_accuracy: 0.8457\n",
      "Epoch 31/200\n",
      "288/288 [==============================] - ETA: 0s - loss: 0.2867 - accuracy: 0.8730\n",
      "Epoch 31: val_accuracy did not improve from 0.86749\n",
      "288/288 [==============================] - 75s 259ms/step - loss: 0.2867 - accuracy: 0.8730 - val_loss: 0.3178 - val_accuracy: 0.8361\n",
      "Epoch 32/200\n",
      "288/288 [==============================] - ETA: 0s - loss: 0.2874 - accuracy: 0.8717\n",
      "Epoch 32: val_accuracy improved from 0.86749 to 0.87147, saving model to ./drive/MyDrive/MSc Thesis/Experiments/models/LSTM_1d_freq_exp2_exp5_local_info_v2.h5\n",
      "288/288 [==============================] - 75s 261ms/step - loss: 0.2874 - accuracy: 0.8717 - val_loss: 0.2793 - val_accuracy: 0.8715\n",
      "Epoch 33/200\n",
      "288/288 [==============================] - ETA: 0s - loss: 0.2784 - accuracy: 0.8742\n",
      "Epoch 33: val_accuracy improved from 0.87147 to 0.87511, saving model to ./drive/MyDrive/MSc Thesis/Experiments/models/LSTM_1d_freq_exp2_exp5_local_info_v2.h5\n",
      "288/288 [==============================] - 75s 259ms/step - loss: 0.2784 - accuracy: 0.8742 - val_loss: 0.2670 - val_accuracy: 0.8751\n",
      "Epoch 34/200\n",
      "288/288 [==============================] - ETA: 0s - loss: 0.2716 - accuracy: 0.8803\n",
      "Epoch 34: val_accuracy did not improve from 0.87511\n",
      "288/288 [==============================] - 75s 259ms/step - loss: 0.2716 - accuracy: 0.8803 - val_loss: 0.3433 - val_accuracy: 0.8405\n",
      "Epoch 35/200\n",
      "288/288 [==============================] - ETA: 0s - loss: 0.2791 - accuracy: 0.8760\n",
      "Epoch 35: val_accuracy did not improve from 0.87511\n",
      "288/288 [==============================] - 74s 258ms/step - loss: 0.2791 - accuracy: 0.8760 - val_loss: 0.3009 - val_accuracy: 0.8538\n",
      "Epoch 36/200\n",
      "288/288 [==============================] - ETA: 0s - loss: 0.2715 - accuracy: 0.8776\n",
      "Epoch 36: val_accuracy did not improve from 0.87511\n",
      "288/288 [==============================] - 74s 257ms/step - loss: 0.2715 - accuracy: 0.8776 - val_loss: 0.3142 - val_accuracy: 0.8417\n",
      "Epoch 37/200\n",
      "288/288 [==============================] - ETA: 0s - loss: 0.2762 - accuracy: 0.8776\n",
      "Epoch 37: val_accuracy did not improve from 0.87511\n",
      "288/288 [==============================] - 74s 258ms/step - loss: 0.2762 - accuracy: 0.8776 - val_loss: 0.3183 - val_accuracy: 0.8583\n",
      "Epoch 38/200\n",
      "288/288 [==============================] - ETA: 0s - loss: 0.2766 - accuracy: 0.8780\n",
      "Epoch 38: val_accuracy did not improve from 0.87511\n",
      "288/288 [==============================] - 74s 258ms/step - loss: 0.2766 - accuracy: 0.8780 - val_loss: 0.2675 - val_accuracy: 0.8677\n",
      "Epoch 39/200\n",
      "288/288 [==============================] - ETA: 0s - loss: 0.2624 - accuracy: 0.8833\n",
      "Epoch 39: val_accuracy did not improve from 0.87511\n",
      "288/288 [==============================] - 74s 258ms/step - loss: 0.2624 - accuracy: 0.8833 - val_loss: 0.2732 - val_accuracy: 0.8711\n",
      "Epoch 40/200\n",
      "288/288 [==============================] - ETA: 0s - loss: 0.2650 - accuracy: 0.8814\n",
      "Epoch 40: val_accuracy did not improve from 0.87511\n",
      "288/288 [==============================] - 75s 259ms/step - loss: 0.2650 - accuracy: 0.8814 - val_loss: 0.3050 - val_accuracy: 0.8490\n",
      "Epoch 41/200\n",
      "288/288 [==============================] - ETA: 0s - loss: 0.2634 - accuracy: 0.8826\n",
      "Epoch 41: val_accuracy did not improve from 0.87511\n",
      "288/288 [==============================] - 74s 257ms/step - loss: 0.2634 - accuracy: 0.8826 - val_loss: 0.2553 - val_accuracy: 0.8654\n",
      "Epoch 42/200\n",
      "288/288 [==============================] - ETA: 0s - loss: 0.2640 - accuracy: 0.8826\n",
      "Epoch 42: val_accuracy did not improve from 0.87511\n",
      "288/288 [==============================] - 75s 259ms/step - loss: 0.2640 - accuracy: 0.8826 - val_loss: 0.2921 - val_accuracy: 0.8713\n",
      "Epoch 43/200\n",
      "288/288 [==============================] - ETA: 0s - loss: 0.2524 - accuracy: 0.8874\n",
      "Epoch 43: val_accuracy did not improve from 0.87511\n",
      "288/288 [==============================] - 74s 257ms/step - loss: 0.2524 - accuracy: 0.8874 - val_loss: 0.2563 - val_accuracy: 0.8706\n",
      "Epoch 44/200\n",
      "288/288 [==============================] - ETA: 0s - loss: 0.2639 - accuracy: 0.8838\n",
      "Epoch 44: val_accuracy did not improve from 0.87511\n",
      "288/288 [==============================] - 74s 258ms/step - loss: 0.2639 - accuracy: 0.8838 - val_loss: 0.2644 - val_accuracy: 0.8703\n",
      "Epoch 45/200\n",
      "288/288 [==============================] - ETA: 0s - loss: 0.2565 - accuracy: 0.8869\n",
      "Epoch 45: val_accuracy did not improve from 0.87511\n",
      "288/288 [==============================] - 75s 259ms/step - loss: 0.2565 - accuracy: 0.8869 - val_loss: 0.3098 - val_accuracy: 0.8599\n",
      "Epoch 46/200\n",
      "288/288 [==============================] - ETA: 0s - loss: 0.2500 - accuracy: 0.8887\n",
      "Epoch 46: val_accuracy did not improve from 0.87511\n",
      "288/288 [==============================] - 74s 257ms/step - loss: 0.2500 - accuracy: 0.8887 - val_loss: 0.2617 - val_accuracy: 0.8675\n",
      "Epoch 47/200\n",
      "288/288 [==============================] - ETA: 0s - loss: 0.2559 - accuracy: 0.8870\n",
      "Epoch 47: val_accuracy did not improve from 0.87511\n",
      "288/288 [==============================] - 75s 259ms/step - loss: 0.2559 - accuracy: 0.8870 - val_loss: 0.2891 - val_accuracy: 0.8593\n",
      "Epoch 48/200\n",
      "288/288 [==============================] - ETA: 0s - loss: 0.2401 - accuracy: 0.8939\n",
      "Epoch 48: val_accuracy did not improve from 0.87511\n",
      "288/288 [==============================] - 74s 257ms/step - loss: 0.2401 - accuracy: 0.8939 - val_loss: 0.2654 - val_accuracy: 0.8666\n",
      "Epoch 49/200\n",
      "288/288 [==============================] - ETA: 0s - loss: 0.2569 - accuracy: 0.8858\n",
      "Epoch 49: val_accuracy did not improve from 0.87511\n",
      "288/288 [==============================] - 74s 258ms/step - loss: 0.2569 - accuracy: 0.8858 - val_loss: 0.3630 - val_accuracy: 0.8160\n",
      "Epoch 50/200\n",
      "288/288 [==============================] - ETA: 0s - loss: 0.2454 - accuracy: 0.8916\n",
      "Epoch 50: val_accuracy did not improve from 0.87511\n",
      "288/288 [==============================] - 75s 259ms/step - loss: 0.2454 - accuracy: 0.8916 - val_loss: 0.2784 - val_accuracy: 0.8590\n",
      "Epoch 51/200\n",
      "288/288 [==============================] - ETA: 0s - loss: 0.2431 - accuracy: 0.8943\n",
      "Epoch 51: val_accuracy did not improve from 0.87511\n",
      "288/288 [==============================] - 74s 258ms/step - loss: 0.2431 - accuracy: 0.8943 - val_loss: 0.3019 - val_accuracy: 0.8491\n",
      "Epoch 52/200\n",
      "288/288 [==============================] - ETA: 0s - loss: 0.2469 - accuracy: 0.8922\n",
      "Epoch 52: val_accuracy did not improve from 0.87511\n",
      "288/288 [==============================] - 74s 258ms/step - loss: 0.2469 - accuracy: 0.8922 - val_loss: 0.3022 - val_accuracy: 0.8519\n",
      "Epoch 53/200\n",
      "288/288 [==============================] - ETA: 0s - loss: 0.2441 - accuracy: 0.8925\n",
      "Epoch 53: val_accuracy improved from 0.87511 to 0.88602, saving model to ./drive/MyDrive/MSc Thesis/Experiments/models/LSTM_1d_freq_exp2_exp5_local_info_v2.h5\n",
      "288/288 [==============================] - 75s 259ms/step - loss: 0.2441 - accuracy: 0.8925 - val_loss: 0.2460 - val_accuracy: 0.8860\n",
      "Epoch 54/200\n",
      "288/288 [==============================] - ETA: 0s - loss: 0.2344 - accuracy: 0.8996\n",
      "Epoch 54: val_accuracy did not improve from 0.88602\n",
      "288/288 [==============================] - 75s 259ms/step - loss: 0.2344 - accuracy: 0.8996 - val_loss: 0.2541 - val_accuracy: 0.8760\n",
      "Epoch 55/200\n",
      "288/288 [==============================] - ETA: 0s - loss: 0.2362 - accuracy: 0.8974\n",
      "Epoch 55: val_accuracy did not improve from 0.88602\n",
      "288/288 [==============================] - 75s 259ms/step - loss: 0.2362 - accuracy: 0.8974 - val_loss: 0.2599 - val_accuracy: 0.8729\n",
      "Epoch 56/200\n",
      "288/288 [==============================] - ETA: 0s - loss: 0.2299 - accuracy: 0.9005\n",
      "Epoch 56: val_accuracy did not improve from 0.88602\n",
      "288/288 [==============================] - 74s 258ms/step - loss: 0.2299 - accuracy: 0.9005 - val_loss: 0.2531 - val_accuracy: 0.8836\n",
      "Epoch 57/200\n",
      "288/288 [==============================] - ETA: 0s - loss: 0.2255 - accuracy: 0.9033\n",
      "Epoch 57: val_accuracy did not improve from 0.88602\n",
      "288/288 [==============================] - 75s 259ms/step - loss: 0.2255 - accuracy: 0.9033 - val_loss: 0.2625 - val_accuracy: 0.8843\n",
      "Epoch 58/200\n",
      "288/288 [==============================] - ETA: 0s - loss: 0.2254 - accuracy: 0.9027\n",
      "Epoch 58: val_accuracy did not improve from 0.88602\n",
      "288/288 [==============================] - 74s 258ms/step - loss: 0.2254 - accuracy: 0.9027 - val_loss: 0.2775 - val_accuracy: 0.8635\n",
      "Epoch 59/200\n",
      "288/288 [==============================] - ETA: 0s - loss: 0.2314 - accuracy: 0.9004\n",
      "Epoch 59: val_accuracy did not improve from 0.88602\n",
      "288/288 [==============================] - 75s 259ms/step - loss: 0.2314 - accuracy: 0.9004 - val_loss: 0.2650 - val_accuracy: 0.8805\n",
      "Epoch 60/200\n",
      "288/288 [==============================] - ETA: 0s - loss: 0.2117 - accuracy: 0.9091\n",
      "Epoch 60: val_accuracy did not improve from 0.88602\n",
      "288/288 [==============================] - 75s 259ms/step - loss: 0.2117 - accuracy: 0.9091 - val_loss: 0.2598 - val_accuracy: 0.8843\n",
      "Epoch 61/200\n",
      "288/288 [==============================] - ETA: 0s - loss: 0.2457 - accuracy: 0.8923\n",
      "Epoch 61: val_accuracy did not improve from 0.88602\n",
      "288/288 [==============================] - 74s 258ms/step - loss: 0.2457 - accuracy: 0.8923 - val_loss: 0.2414 - val_accuracy: 0.8834\n",
      "Epoch 62/200\n",
      "288/288 [==============================] - ETA: 0s - loss: 0.2195 - accuracy: 0.9068\n",
      "Epoch 62: val_accuracy did not improve from 0.88602\n",
      "288/288 [==============================] - 75s 260ms/step - loss: 0.2195 - accuracy: 0.9068 - val_loss: 0.2567 - val_accuracy: 0.8735\n",
      "Epoch 63/200\n",
      "288/288 [==============================] - ETA: 0s - loss: 0.2050 - accuracy: 0.9128\n",
      "Epoch 63: val_accuracy did not improve from 0.88602\n",
      "288/288 [==============================] - 75s 259ms/step - loss: 0.2050 - accuracy: 0.9128 - val_loss: 0.2749 - val_accuracy: 0.8748\n",
      "Epoch 64/200\n",
      "288/288 [==============================] - ETA: 0s - loss: 0.2094 - accuracy: 0.9105\n",
      "Epoch 64: val_accuracy did not improve from 0.88602\n",
      "288/288 [==============================] - 75s 259ms/step - loss: 0.2094 - accuracy: 0.9105 - val_loss: 0.2556 - val_accuracy: 0.8815\n",
      "Epoch 65/200\n",
      "288/288 [==============================] - ETA: 0s - loss: 0.2003 - accuracy: 0.9148\n",
      "Epoch 65: val_accuracy did not improve from 0.88602\n",
      "288/288 [==============================] - 74s 258ms/step - loss: 0.2003 - accuracy: 0.9148 - val_loss: 0.2492 - val_accuracy: 0.8748\n",
      "Epoch 66/200\n",
      "288/288 [==============================] - ETA: 0s - loss: 0.1864 - accuracy: 0.9227\n",
      "Epoch 66: val_accuracy improved from 0.88602 to 0.88706, saving model to ./drive/MyDrive/MSc Thesis/Experiments/models/LSTM_1d_freq_exp2_exp5_local_info_v2.h5\n",
      "288/288 [==============================] - 76s 263ms/step - loss: 0.1864 - accuracy: 0.9227 - val_loss: 0.3009 - val_accuracy: 0.8871\n",
      "Epoch 67/200\n",
      "288/288 [==============================] - ETA: 0s - loss: 0.2114 - accuracy: 0.9119\n",
      "Epoch 67: val_accuracy improved from 0.88706 to 0.88741, saving model to ./drive/MyDrive/MSc Thesis/Experiments/models/LSTM_1d_freq_exp2_exp5_local_info_v2.h5\n",
      "288/288 [==============================] - 75s 262ms/step - loss: 0.2114 - accuracy: 0.9119 - val_loss: 0.2554 - val_accuracy: 0.8874\n",
      "Epoch 68/200\n",
      "288/288 [==============================] - ETA: 0s - loss: 0.1773 - accuracy: 0.9270\n",
      "Epoch 68: val_accuracy did not improve from 0.88741\n",
      "288/288 [==============================] - 74s 258ms/step - loss: 0.1773 - accuracy: 0.9270 - val_loss: 0.2698 - val_accuracy: 0.8805\n",
      "Epoch 69/200\n",
      "288/288 [==============================] - ETA: 0s - loss: 0.1797 - accuracy: 0.9256\n",
      "Epoch 69: val_accuracy did not improve from 0.88741\n",
      "288/288 [==============================] - 75s 260ms/step - loss: 0.1797 - accuracy: 0.9256 - val_loss: 0.2782 - val_accuracy: 0.8761\n",
      "Epoch 70/200\n",
      "288/288 [==============================] - ETA: 0s - loss: 0.1788 - accuracy: 0.9256\n",
      "Epoch 70: val_accuracy did not improve from 0.88741\n",
      "288/288 [==============================] - 74s 258ms/step - loss: 0.1788 - accuracy: 0.9256 - val_loss: 0.2855 - val_accuracy: 0.8812\n",
      "Epoch 71/200\n",
      "288/288 [==============================] - ETA: 0s - loss: 0.1693 - accuracy: 0.9300\n",
      "Epoch 71: val_accuracy did not improve from 0.88741\n",
      "288/288 [==============================] - 75s 260ms/step - loss: 0.1693 - accuracy: 0.9300 - val_loss: 0.2601 - val_accuracy: 0.8822\n",
      "Epoch 72/200\n",
      "288/288 [==============================] - ETA: 0s - loss: 0.1586 - accuracy: 0.9356\n",
      "Epoch 72: val_accuracy did not improve from 0.88741\n",
      "288/288 [==============================] - 75s 260ms/step - loss: 0.1586 - accuracy: 0.9356 - val_loss: 0.3122 - val_accuracy: 0.8768\n",
      "Epoch 73/200\n",
      "288/288 [==============================] - ETA: 0s - loss: 0.1718 - accuracy: 0.9278\n",
      "Epoch 73: val_accuracy did not improve from 0.88741\n",
      "288/288 [==============================] - 74s 258ms/step - loss: 0.1718 - accuracy: 0.9278 - val_loss: 0.2721 - val_accuracy: 0.8742\n",
      "Epoch 74/200\n",
      "288/288 [==============================] - ETA: 0s - loss: 0.1678 - accuracy: 0.9313\n",
      "Epoch 74: val_accuracy improved from 0.88741 to 0.89988, saving model to ./drive/MyDrive/MSc Thesis/Experiments/models/LSTM_1d_freq_exp2_exp5_local_info_v2.h5\n",
      "288/288 [==============================] - 75s 262ms/step - loss: 0.1678 - accuracy: 0.9313 - val_loss: 0.2284 - val_accuracy: 0.8999\n",
      "Epoch 75/200\n",
      "288/288 [==============================] - ETA: 0s - loss: 0.1585 - accuracy: 0.9348\n",
      "Epoch 75: val_accuracy improved from 0.89988 to 0.90369, saving model to ./drive/MyDrive/MSc Thesis/Experiments/models/LSTM_1d_freq_exp2_exp5_local_info_v2.h5\n",
      "288/288 [==============================] - 75s 260ms/step - loss: 0.1585 - accuracy: 0.9348 - val_loss: 0.2070 - val_accuracy: 0.9037\n",
      "Epoch 76/200\n",
      "288/288 [==============================] - ETA: 0s - loss: 0.1556 - accuracy: 0.9374\n",
      "Epoch 76: val_accuracy improved from 0.90369 to 0.90473, saving model to ./drive/MyDrive/MSc Thesis/Experiments/models/LSTM_1d_freq_exp2_exp5_local_info_v2.h5\n",
      "288/288 [==============================] - 75s 262ms/step - loss: 0.1556 - accuracy: 0.9374 - val_loss: 0.2240 - val_accuracy: 0.9047\n",
      "Epoch 77/200\n",
      "288/288 [==============================] - ETA: 0s - loss: 0.1572 - accuracy: 0.9359\n",
      "Epoch 77: val_accuracy did not improve from 0.90473\n",
      "288/288 [==============================] - 74s 257ms/step - loss: 0.1572 - accuracy: 0.9359 - val_loss: 0.2440 - val_accuracy: 0.8954\n",
      "Epoch 78/200\n",
      "288/288 [==============================] - ETA: 0s - loss: 0.1488 - accuracy: 0.9414\n",
      "Epoch 78: val_accuracy did not improve from 0.90473\n",
      "288/288 [==============================] - 74s 258ms/step - loss: 0.1488 - accuracy: 0.9414 - val_loss: 0.2487 - val_accuracy: 0.8971\n",
      "Epoch 79/200\n",
      "288/288 [==============================] - ETA: 0s - loss: 0.1585 - accuracy: 0.9353\n",
      "Epoch 79: val_accuracy did not improve from 0.90473\n",
      "288/288 [==============================] - 75s 259ms/step - loss: 0.1585 - accuracy: 0.9353 - val_loss: 0.2971 - val_accuracy: 0.8684\n",
      "Epoch 80/200\n",
      "288/288 [==============================] - ETA: 0s - loss: 0.1382 - accuracy: 0.9460\n",
      "Epoch 80: val_accuracy did not improve from 0.90473\n",
      "288/288 [==============================] - 74s 258ms/step - loss: 0.1382 - accuracy: 0.9460 - val_loss: 0.2518 - val_accuracy: 0.8987\n",
      "Epoch 81/200\n",
      "288/288 [==============================] - ETA: 0s - loss: 0.1542 - accuracy: 0.9392\n",
      "Epoch 81: val_accuracy did not improve from 0.90473\n",
      "288/288 [==============================] - 75s 259ms/step - loss: 0.1542 - accuracy: 0.9392 - val_loss: 0.2677 - val_accuracy: 0.8938\n",
      "Epoch 82/200\n",
      "288/288 [==============================] - ETA: 0s - loss: 0.1322 - accuracy: 0.9462\n",
      "Epoch 82: val_accuracy did not improve from 0.90473\n",
      "288/288 [==============================] - 74s 258ms/step - loss: 0.1322 - accuracy: 0.9462 - val_loss: 0.3877 - val_accuracy: 0.8545\n",
      "Epoch 83/200\n",
      "288/288 [==============================] - ETA: 0s - loss: 0.1369 - accuracy: 0.9458\n",
      "Epoch 83: val_accuracy did not improve from 0.90473\n",
      "288/288 [==============================] - 75s 259ms/step - loss: 0.1369 - accuracy: 0.9458 - val_loss: 0.2480 - val_accuracy: 0.9014\n",
      "Epoch 84/200\n",
      "288/288 [==============================] - ETA: 0s - loss: 0.1258 - accuracy: 0.9512\n",
      "Epoch 84: val_accuracy did not improve from 0.90473\n",
      "288/288 [==============================] - 74s 259ms/step - loss: 0.1258 - accuracy: 0.9512 - val_loss: 0.2394 - val_accuracy: 0.9027\n",
      "Epoch 85/200\n",
      "288/288 [==============================] - ETA: 0s - loss: 0.1412 - accuracy: 0.9439\n",
      "Epoch 85: val_accuracy did not improve from 0.90473\n",
      "288/288 [==============================] - 75s 259ms/step - loss: 0.1412 - accuracy: 0.9439 - val_loss: 0.2469 - val_accuracy: 0.8990\n",
      "Epoch 86/200\n",
      "288/288 [==============================] - ETA: 0s - loss: 0.1340 - accuracy: 0.9474\n",
      "Epoch 86: val_accuracy did not improve from 0.90473\n",
      "288/288 [==============================] - 75s 259ms/step - loss: 0.1340 - accuracy: 0.9474 - val_loss: 0.2561 - val_accuracy: 0.8995\n",
      "Epoch 87/200\n",
      "288/288 [==============================] - ETA: 0s - loss: 0.1465 - accuracy: 0.9420\n",
      "Epoch 87: val_accuracy improved from 0.90473 to 0.91096, saving model to ./drive/MyDrive/MSc Thesis/Experiments/models/LSTM_1d_freq_exp2_exp5_local_info_v2.h5\n",
      "288/288 [==============================] - 75s 260ms/step - loss: 0.1465 - accuracy: 0.9420 - val_loss: 0.2153 - val_accuracy: 0.9110\n",
      "Epoch 88/200\n",
      "288/288 [==============================] - ETA: 0s - loss: 0.1259 - accuracy: 0.9501\n",
      "Epoch 88: val_accuracy did not improve from 0.91096\n",
      "288/288 [==============================] - 75s 260ms/step - loss: 0.1259 - accuracy: 0.9501 - val_loss: 0.2592 - val_accuracy: 0.8999\n",
      "Epoch 89/200\n",
      "288/288 [==============================] - ETA: 0s - loss: 0.1261 - accuracy: 0.9508\n",
      "Epoch 89: val_accuracy did not improve from 0.91096\n",
      "288/288 [==============================] - 74s 258ms/step - loss: 0.1261 - accuracy: 0.9508 - val_loss: 0.2452 - val_accuracy: 0.9052\n",
      "Epoch 90/200\n",
      "288/288 [==============================] - ETA: 0s - loss: 0.1247 - accuracy: 0.9512\n",
      "Epoch 90: val_accuracy improved from 0.91096 to 0.91287, saving model to ./drive/MyDrive/MSc Thesis/Experiments/models/LSTM_1d_freq_exp2_exp5_local_info_v2.h5\n",
      "288/288 [==============================] - 75s 262ms/step - loss: 0.1247 - accuracy: 0.9512 - val_loss: 0.2121 - val_accuracy: 0.9129\n",
      "Epoch 91/200\n",
      "288/288 [==============================] - ETA: 0s - loss: 0.1161 - accuracy: 0.9541\n",
      "Epoch 91: val_accuracy did not improve from 0.91287\n",
      "288/288 [==============================] - 74s 258ms/step - loss: 0.1161 - accuracy: 0.9541 - val_loss: 0.2944 - val_accuracy: 0.8933\n",
      "Epoch 92/200\n",
      "288/288 [==============================] - ETA: 0s - loss: 0.1267 - accuracy: 0.9490\n",
      "Epoch 92: val_accuracy did not improve from 0.91287\n",
      "288/288 [==============================] - 75s 260ms/step - loss: 0.1267 - accuracy: 0.9490 - val_loss: 0.2783 - val_accuracy: 0.9047\n",
      "Epoch 93/200\n",
      "288/288 [==============================] - ETA: 0s - loss: 0.1299 - accuracy: 0.9500\n",
      "Epoch 93: val_accuracy improved from 0.91287 to 0.92465, saving model to ./drive/MyDrive/MSc Thesis/Experiments/models/LSTM_1d_freq_exp2_exp5_local_info_v2.h5\n",
      "288/288 [==============================] - 75s 262ms/step - loss: 0.1299 - accuracy: 0.9500 - val_loss: 0.1998 - val_accuracy: 0.9246\n",
      "Epoch 94/200\n",
      "288/288 [==============================] - ETA: 0s - loss: 0.1215 - accuracy: 0.9526\n",
      "Epoch 94: val_accuracy did not improve from 0.92465\n",
      "288/288 [==============================] - 74s 258ms/step - loss: 0.1215 - accuracy: 0.9526 - val_loss: 0.2260 - val_accuracy: 0.9146\n",
      "Epoch 95/200\n",
      "288/288 [==============================] - ETA: 0s - loss: 0.1383 - accuracy: 0.9446\n",
      "Epoch 95: val_accuracy did not improve from 0.92465\n",
      "288/288 [==============================] - 75s 259ms/step - loss: 0.1383 - accuracy: 0.9446 - val_loss: 0.2815 - val_accuracy: 0.8886\n",
      "Epoch 96/200\n",
      "288/288 [==============================] - ETA: 0s - loss: 0.1119 - accuracy: 0.9550\n",
      "Epoch 96: val_accuracy did not improve from 0.92465\n",
      "288/288 [==============================] - 74s 258ms/step - loss: 0.1119 - accuracy: 0.9550 - val_loss: 0.2213 - val_accuracy: 0.9177\n",
      "Epoch 97/200\n",
      "288/288 [==============================] - ETA: 0s - loss: 0.1023 - accuracy: 0.9599\n",
      "Epoch 97: val_accuracy did not improve from 0.92465\n",
      "288/288 [==============================] - 75s 260ms/step - loss: 0.1023 - accuracy: 0.9599 - val_loss: 0.2245 - val_accuracy: 0.9201\n",
      "Epoch 98/200\n",
      "288/288 [==============================] - ETA: 0s - loss: 0.1058 - accuracy: 0.9590\n",
      "Epoch 98: val_accuracy did not improve from 0.92465\n",
      "288/288 [==============================] - 74s 258ms/step - loss: 0.1058 - accuracy: 0.9590 - val_loss: 0.2937 - val_accuracy: 0.8966\n",
      "Epoch 99/200\n",
      "288/288 [==============================] - ETA: 0s - loss: 0.0928 - accuracy: 0.9642\n",
      "Epoch 99: val_accuracy did not improve from 0.92465\n",
      "288/288 [==============================] - 75s 260ms/step - loss: 0.0928 - accuracy: 0.9642 - val_loss: 0.2899 - val_accuracy: 0.9063\n",
      "Epoch 100/200\n",
      "288/288 [==============================] - ETA: 0s - loss: 0.1211 - accuracy: 0.9514\n",
      "Epoch 100: val_accuracy did not improve from 0.92465\n",
      "288/288 [==============================] - 75s 260ms/step - loss: 0.1211 - accuracy: 0.9514 - val_loss: 0.2290 - val_accuracy: 0.9144\n",
      "Epoch 101/200\n",
      "288/288 [==============================] - ETA: 0s - loss: 0.0884 - accuracy: 0.9658\n",
      "Epoch 101: val_accuracy did not improve from 0.92465\n",
      "288/288 [==============================] - 74s 258ms/step - loss: 0.0884 - accuracy: 0.9658 - val_loss: 0.2171 - val_accuracy: 0.9226\n",
      "Epoch 102/200\n",
      "288/288 [==============================] - ETA: 0s - loss: 0.0797 - accuracy: 0.9695\n",
      "Epoch 102: val_accuracy improved from 0.92465 to 0.92638, saving model to ./drive/MyDrive/MSc Thesis/Experiments/models/LSTM_1d_freq_exp2_exp5_local_info_v2.h5\n",
      "288/288 [==============================] - 75s 262ms/step - loss: 0.0797 - accuracy: 0.9695 - val_loss: 0.2211 - val_accuracy: 0.9264\n",
      "Epoch 103/200\n",
      "288/288 [==============================] - ETA: 0s - loss: 0.0811 - accuracy: 0.9700\n",
      "Epoch 103: val_accuracy improved from 0.92638 to 0.92898, saving model to ./drive/MyDrive/MSc Thesis/Experiments/models/LSTM_1d_freq_exp2_exp5_local_info_v2.h5\n",
      "288/288 [==============================] - 75s 260ms/step - loss: 0.0811 - accuracy: 0.9700 - val_loss: 0.2077 - val_accuracy: 0.9290\n",
      "Epoch 104/200\n",
      "288/288 [==============================] - ETA: 0s - loss: 0.0922 - accuracy: 0.9636\n",
      "Epoch 104: val_accuracy did not improve from 0.92898\n",
      "288/288 [==============================] - 75s 259ms/step - loss: 0.0922 - accuracy: 0.9636 - val_loss: 0.2114 - val_accuracy: 0.9252\n",
      "Epoch 105/200\n",
      "288/288 [==============================] - ETA: 0s - loss: 0.1003 - accuracy: 0.9611\n",
      "Epoch 105: val_accuracy did not improve from 0.92898\n",
      "288/288 [==============================] - 76s 264ms/step - loss: 0.1003 - accuracy: 0.9611 - val_loss: 0.2685 - val_accuracy: 0.9111\n",
      "Epoch 106/200\n",
      "288/288 [==============================] - ETA: 0s - loss: 0.1206 - accuracy: 0.9531\n",
      "Epoch 106: val_accuracy did not improve from 0.92898\n",
      "288/288 [==============================] - 75s 259ms/step - loss: 0.1206 - accuracy: 0.9531 - val_loss: 0.2212 - val_accuracy: 0.9267\n",
      "Epoch 107/200\n",
      "288/288 [==============================] - ETA: 0s - loss: 0.1027 - accuracy: 0.9602\n",
      "Epoch 107: val_accuracy did not improve from 0.92898\n",
      "288/288 [==============================] - 75s 260ms/step - loss: 0.1027 - accuracy: 0.9602 - val_loss: 0.2041 - val_accuracy: 0.9260\n",
      "Epoch 108/200\n",
      "288/288 [==============================] - ETA: 0s - loss: 0.1011 - accuracy: 0.9615\n",
      "Epoch 108: val_accuracy improved from 0.92898 to 0.93244, saving model to ./drive/MyDrive/MSc Thesis/Experiments/models/LSTM_1d_freq_exp2_exp5_local_info_v2.h5\n",
      "288/288 [==============================] - 75s 260ms/step - loss: 0.1011 - accuracy: 0.9615 - val_loss: 0.2001 - val_accuracy: 0.9324\n",
      "Epoch 109/200\n",
      "288/288 [==============================] - ETA: 0s - loss: 0.0749 - accuracy: 0.9713\n",
      "Epoch 109: val_accuracy did not improve from 0.93244\n",
      "288/288 [==============================] - 75s 260ms/step - loss: 0.0749 - accuracy: 0.9713 - val_loss: 0.2498 - val_accuracy: 0.9212\n",
      "Epoch 110/200\n",
      "288/288 [==============================] - ETA: 0s - loss: 0.1046 - accuracy: 0.9589\n",
      "Epoch 110: val_accuracy did not improve from 0.93244\n",
      "288/288 [==============================] - 74s 258ms/step - loss: 0.1046 - accuracy: 0.9589 - val_loss: 0.2144 - val_accuracy: 0.9271\n",
      "Epoch 111/200\n",
      "288/288 [==============================] - ETA: 0s - loss: 0.0825 - accuracy: 0.9680\n",
      "Epoch 111: val_accuracy did not improve from 0.93244\n",
      "288/288 [==============================] - 75s 260ms/step - loss: 0.0825 - accuracy: 0.9680 - val_loss: 0.2214 - val_accuracy: 0.9255\n",
      "Epoch 112/200\n",
      "288/288 [==============================] - ETA: 0s - loss: 0.0883 - accuracy: 0.9671\n",
      "Epoch 112: val_accuracy did not improve from 0.93244\n",
      "288/288 [==============================] - 74s 258ms/step - loss: 0.0883 - accuracy: 0.9671 - val_loss: 0.2193 - val_accuracy: 0.9257\n",
      "Epoch 113/200\n",
      "288/288 [==============================] - ETA: 0s - loss: 0.0783 - accuracy: 0.9710\n",
      "Epoch 113: val_accuracy did not improve from 0.93244\n",
      "288/288 [==============================] - 75s 260ms/step - loss: 0.0783 - accuracy: 0.9710 - val_loss: 0.2449 - val_accuracy: 0.9264\n",
      "Epoch 114/200\n",
      "288/288 [==============================] - ETA: 0s - loss: 0.0802 - accuracy: 0.9700\n",
      "Epoch 114: val_accuracy did not improve from 0.93244\n",
      "288/288 [==============================] - 74s 258ms/step - loss: 0.0802 - accuracy: 0.9700 - val_loss: 0.2312 - val_accuracy: 0.9248\n",
      "Epoch 115/200\n",
      "288/288 [==============================] - ETA: 0s - loss: 0.1156 - accuracy: 0.9554\n",
      "Epoch 115: val_accuracy did not improve from 0.93244\n",
      "288/288 [==============================] - 75s 260ms/step - loss: 0.1156 - accuracy: 0.9554 - val_loss: 0.2191 - val_accuracy: 0.9250\n",
      "Epoch 116/200\n",
      "288/288 [==============================] - ETA: 0s - loss: 0.0772 - accuracy: 0.9693\n",
      "Epoch 116: val_accuracy did not improve from 0.93244\n",
      "288/288 [==============================] - 75s 260ms/step - loss: 0.0772 - accuracy: 0.9693 - val_loss: 0.2571 - val_accuracy: 0.9188\n",
      "Epoch 117/200\n",
      "288/288 [==============================] - ETA: 0s - loss: 0.0767 - accuracy: 0.9705\n",
      "Epoch 117: val_accuracy did not improve from 0.93244\n",
      "288/288 [==============================] - 74s 258ms/step - loss: 0.0767 - accuracy: 0.9705 - val_loss: 0.2289 - val_accuracy: 0.9290\n",
      "Epoch 118/200\n",
      "288/288 [==============================] - ETA: 0s - loss: 0.0620 - accuracy: 0.9772\n",
      "Epoch 118: val_accuracy did not improve from 0.93244\n",
      "288/288 [==============================] - 75s 260ms/step - loss: 0.0620 - accuracy: 0.9772 - val_loss: 0.2927 - val_accuracy: 0.9132\n",
      "Epoch 119/200\n",
      "288/288 [==============================] - ETA: 0s - loss: 0.0755 - accuracy: 0.9720\n",
      "Epoch 119: val_accuracy improved from 0.93244 to 0.93383, saving model to ./drive/MyDrive/MSc Thesis/Experiments/models/LSTM_1d_freq_exp2_exp5_local_info_v2.h5\n",
      "288/288 [==============================] - 75s 260ms/step - loss: 0.0755 - accuracy: 0.9720 - val_loss: 0.2209 - val_accuracy: 0.9338\n",
      "Epoch 120/200\n",
      "288/288 [==============================] - ETA: 0s - loss: 0.0853 - accuracy: 0.9682\n",
      "Epoch 120: val_accuracy did not improve from 0.93383\n",
      "288/288 [==============================] - 75s 259ms/step - loss: 0.0853 - accuracy: 0.9682 - val_loss: 0.2427 - val_accuracy: 0.9139\n",
      "Epoch 121/200\n",
      "288/288 [==============================] - ETA: 0s - loss: 0.0687 - accuracy: 0.9739\n",
      "Epoch 121: val_accuracy did not improve from 0.93383\n",
      "288/288 [==============================] - 74s 258ms/step - loss: 0.0687 - accuracy: 0.9739 - val_loss: 0.2689 - val_accuracy: 0.9198\n",
      "Epoch 122/200\n",
      "288/288 [==============================] - ETA: 0s - loss: 0.0756 - accuracy: 0.9721\n",
      "Epoch 122: val_accuracy did not improve from 0.93383\n",
      "288/288 [==============================] - 75s 260ms/step - loss: 0.0756 - accuracy: 0.9721 - val_loss: 0.2251 - val_accuracy: 0.9333\n",
      "Epoch 123/200\n",
      "288/288 [==============================] - ETA: 0s - loss: 0.0693 - accuracy: 0.9731\n",
      "Epoch 123: val_accuracy did not improve from 0.93383\n",
      "288/288 [==============================] - 75s 259ms/step - loss: 0.0693 - accuracy: 0.9731 - val_loss: 0.2270 - val_accuracy: 0.9338\n",
      "Epoch 124/200\n",
      "288/288 [==============================] - ETA: 0s - loss: 0.0741 - accuracy: 0.9730\n",
      "Epoch 124: val_accuracy did not improve from 0.93383\n",
      "288/288 [==============================] - 74s 258ms/step - loss: 0.0741 - accuracy: 0.9730 - val_loss: 0.2439 - val_accuracy: 0.9321\n",
      "Epoch 125/200\n",
      "288/288 [==============================] - ETA: 0s - loss: 0.0731 - accuracy: 0.9731\n",
      "Epoch 125: val_accuracy did not improve from 0.93383\n",
      "288/288 [==============================] - 75s 260ms/step - loss: 0.0731 - accuracy: 0.9731 - val_loss: 0.2448 - val_accuracy: 0.9156\n",
      "Epoch 126/200\n",
      "288/288 [==============================] - ETA: 0s - loss: 0.0582 - accuracy: 0.9784\n",
      "Epoch 126: val_accuracy did not improve from 0.93383\n",
      "288/288 [==============================] - 74s 258ms/step - loss: 0.0582 - accuracy: 0.9784 - val_loss: 0.2250 - val_accuracy: 0.9274\n",
      "Epoch 127/200\n",
      "288/288 [==============================] - ETA: 0s - loss: 0.0624 - accuracy: 0.9776\n",
      "Epoch 127: val_accuracy did not improve from 0.93383\n",
      "288/288 [==============================] - 75s 260ms/step - loss: 0.0624 - accuracy: 0.9776 - val_loss: 0.4512 - val_accuracy: 0.8819\n",
      "Epoch 128/200\n",
      "288/288 [==============================] - ETA: 0s - loss: 0.0683 - accuracy: 0.9738\n",
      "Epoch 128: val_accuracy did not improve from 0.93383\n",
      "288/288 [==============================] - 74s 258ms/step - loss: 0.0683 - accuracy: 0.9738 - val_loss: 0.3578 - val_accuracy: 0.9028\n",
      "Epoch 129/200\n",
      "288/288 [==============================] - ETA: 0s - loss: 0.0675 - accuracy: 0.9743\n",
      "Epoch 129: val_accuracy did not improve from 0.93383\n",
      "288/288 [==============================] - 75s 260ms/step - loss: 0.0675 - accuracy: 0.9743 - val_loss: 0.2249 - val_accuracy: 0.9333\n",
      "Epoch 130/200\n",
      "288/288 [==============================] - ETA: 0s - loss: 0.0568 - accuracy: 0.9795\n",
      "Epoch 130: val_accuracy did not improve from 0.93383\n",
      "288/288 [==============================] - 74s 258ms/step - loss: 0.0568 - accuracy: 0.9795 - val_loss: 0.3509 - val_accuracy: 0.8988\n",
      "Epoch 131/200\n",
      "288/288 [==============================] - ETA: 0s - loss: 0.0497 - accuracy: 0.9812\n",
      "Epoch 131: val_accuracy improved from 0.93383 to 0.93885, saving model to ./drive/MyDrive/MSc Thesis/Experiments/models/LSTM_1d_freq_exp2_exp5_local_info_v2.h5\n",
      "288/288 [==============================] - 76s 262ms/step - loss: 0.0497 - accuracy: 0.9812 - val_loss: 0.2278 - val_accuracy: 0.9389\n",
      "Epoch 132/200\n",
      "288/288 [==============================] - ETA: 0s - loss: 0.0653 - accuracy: 0.9756\n",
      "Epoch 132: val_accuracy did not improve from 0.93885\n",
      "288/288 [==============================] - 75s 260ms/step - loss: 0.0653 - accuracy: 0.9756 - val_loss: 0.3012 - val_accuracy: 0.9148\n",
      "Epoch 133/200\n",
      "288/288 [==============================] - ETA: 0s - loss: 0.0651 - accuracy: 0.9755\n",
      "Epoch 133: val_accuracy did not improve from 0.93885\n",
      "288/288 [==============================] - 74s 258ms/step - loss: 0.0651 - accuracy: 0.9755 - val_loss: 0.1989 - val_accuracy: 0.9383\n",
      "Epoch 134/200\n",
      "288/288 [==============================] - ETA: 0s - loss: 0.0582 - accuracy: 0.9792\n",
      "Epoch 134: val_accuracy did not improve from 0.93885\n",
      "288/288 [==============================] - 75s 260ms/step - loss: 0.0582 - accuracy: 0.9792 - val_loss: 0.2962 - val_accuracy: 0.9201\n",
      "Epoch 135/200\n",
      "288/288 [==============================] - ETA: 0s - loss: 0.0702 - accuracy: 0.9742\n",
      "Epoch 135: val_accuracy did not improve from 0.93885\n",
      "288/288 [==============================] - 74s 258ms/step - loss: 0.0702 - accuracy: 0.9742 - val_loss: 0.2454 - val_accuracy: 0.9278\n",
      "Epoch 136/200\n",
      "288/288 [==============================] - ETA: 0s - loss: 0.0513 - accuracy: 0.9801\n",
      "Epoch 136: val_accuracy did not improve from 0.93885\n",
      "288/288 [==============================] - 75s 260ms/step - loss: 0.0513 - accuracy: 0.9801 - val_loss: 0.2922 - val_accuracy: 0.9215\n",
      "Epoch 137/200\n",
      "288/288 [==============================] - ETA: 0s - loss: 0.0706 - accuracy: 0.9749\n",
      "Epoch 137: val_accuracy did not improve from 0.93885\n",
      "288/288 [==============================] - 74s 259ms/step - loss: 0.0706 - accuracy: 0.9749 - val_loss: 0.2081 - val_accuracy: 0.9324\n",
      "Epoch 138/200\n",
      "288/288 [==============================] - ETA: 0s - loss: 0.0535 - accuracy: 0.9798\n",
      "Epoch 138: val_accuracy did not improve from 0.93885\n",
      "288/288 [==============================] - 75s 261ms/step - loss: 0.0535 - accuracy: 0.9798 - val_loss: 0.2398 - val_accuracy: 0.9350\n",
      "Epoch 139/200\n",
      "288/288 [==============================] - ETA: 0s - loss: 0.0630 - accuracy: 0.9789\n",
      "Epoch 139: val_accuracy did not improve from 0.93885\n",
      "288/288 [==============================] - 75s 260ms/step - loss: 0.0630 - accuracy: 0.9789 - val_loss: 0.2699 - val_accuracy: 0.9292\n",
      "Epoch 140/200\n",
      "288/288 [==============================] - ETA: 0s - loss: 0.0765 - accuracy: 0.9722\n",
      "Epoch 140: val_accuracy did not improve from 0.93885\n",
      "288/288 [==============================] - 75s 259ms/step - loss: 0.0765 - accuracy: 0.9722 - val_loss: 0.2409 - val_accuracy: 0.9061\n",
      "Epoch 141/200\n",
      "288/288 [==============================] - ETA: 0s - loss: 0.0550 - accuracy: 0.9786\n",
      "Epoch 141: val_accuracy did not improve from 0.93885\n",
      "288/288 [==============================] - 75s 260ms/step - loss: 0.0550 - accuracy: 0.9786 - val_loss: 0.2491 - val_accuracy: 0.9318\n",
      "Epoch 142/200\n",
      "288/288 [==============================] - ETA: 0s - loss: 0.0444 - accuracy: 0.9837\n",
      "Epoch 142: val_accuracy did not improve from 0.93885\n",
      "288/288 [==============================] - 75s 259ms/step - loss: 0.0444 - accuracy: 0.9837 - val_loss: 0.2496 - val_accuracy: 0.9314\n",
      "Epoch 143/200\n",
      "288/288 [==============================] - ETA: 0s - loss: 0.0856 - accuracy: 0.9680\n",
      "Epoch 143: val_accuracy did not improve from 0.93885\n",
      "288/288 [==============================] - 75s 261ms/step - loss: 0.0856 - accuracy: 0.9680 - val_loss: 0.2599 - val_accuracy: 0.9260\n",
      "Epoch 144/200\n",
      "288/288 [==============================] - ETA: 0s - loss: 0.0472 - accuracy: 0.9833\n",
      "Epoch 144: val_accuracy did not improve from 0.93885\n",
      "288/288 [==============================] - 75s 259ms/step - loss: 0.0472 - accuracy: 0.9833 - val_loss: 0.2081 - val_accuracy: 0.9359\n",
      "Epoch 145/200\n",
      "288/288 [==============================] - ETA: 0s - loss: 0.0965 - accuracy: 0.9640\n",
      "Epoch 145: val_accuracy did not improve from 0.93885\n",
      "288/288 [==============================] - 75s 261ms/step - loss: 0.0965 - accuracy: 0.9640 - val_loss: 0.2797 - val_accuracy: 0.9124\n",
      "Epoch 146/200\n",
      "288/288 [==============================] - ETA: 0s - loss: 0.1680 - accuracy: 0.9296\n",
      "Epoch 146: val_accuracy did not improve from 0.93885\n",
      "288/288 [==============================] - 75s 259ms/step - loss: 0.1680 - accuracy: 0.9296 - val_loss: 0.2510 - val_accuracy: 0.8978\n",
      "Epoch 147/200\n",
      "288/288 [==============================] - ETA: 0s - loss: 0.0852 - accuracy: 0.9654\n",
      "Epoch 147: val_accuracy did not improve from 0.93885\n",
      "288/288 [==============================] - 75s 261ms/step - loss: 0.0852 - accuracy: 0.9654 - val_loss: 0.2353 - val_accuracy: 0.9307\n",
      "Epoch 148/200\n",
      "288/288 [==============================] - ETA: 0s - loss: 0.0525 - accuracy: 0.9800\n",
      "Epoch 148: val_accuracy did not improve from 0.93885\n",
      "288/288 [==============================] - 75s 261ms/step - loss: 0.0525 - accuracy: 0.9800 - val_loss: 0.2324 - val_accuracy: 0.9331\n",
      "Epoch 149/200\n",
      "288/288 [==============================] - ETA: 0s - loss: 0.0509 - accuracy: 0.9829\n",
      "Epoch 149: val_accuracy did not improve from 0.93885\n",
      "288/288 [==============================] - 75s 259ms/step - loss: 0.0509 - accuracy: 0.9829 - val_loss: 0.3077 - val_accuracy: 0.9032\n",
      "Epoch 150/200\n",
      "288/288 [==============================] - ETA: 0s - loss: 0.0522 - accuracy: 0.9808\n",
      "Epoch 150: val_accuracy did not improve from 0.93885\n",
      "288/288 [==============================] - 75s 261ms/step - loss: 0.0522 - accuracy: 0.9808 - val_loss: 0.2537 - val_accuracy: 0.9340\n",
      "Epoch 151/200\n",
      "288/288 [==============================] - ETA: 0s - loss: 0.0541 - accuracy: 0.9807Restoring model weights from the end of the best epoch: 131.\n",
      "\n",
      "Epoch 151: val_accuracy did not improve from 0.93885\n",
      "288/288 [==============================] - 75s 260ms/step - loss: 0.0541 - accuracy: 0.9807 - val_loss: 0.2590 - val_accuracy: 0.9302\n",
      "Epoch 151: early stopping\n"
     ]
    }
   ],
   "source": [
    "# Fitting the RNN to the Training set\n",
    "history=classifier.fit([X_train_scaled,X_train_scaled_f,X_train_scaled_local,X_train_scaled_f_local], y_train[:,0], epochs = 200, batch_size = 64,validation_data=([X_test_scaled,X_test_scaled_f,X_test_scaled_local,X_test_scaled_f_local],y_test[:,0]),callbacks=callbacks)\n"
   ]
  },
  {
   "cell_type": "code",
   "execution_count": null,
   "metadata": {
    "colab": {
     "base_uri": "https://localhost:8080/"
    },
    "id": "7puZMrQ6rZ8B",
    "outputId": "2721a3c3-575e-4778-8bc9-f4d043904c2b"
   },
   "outputs": [
    {
     "name": "stdout",
     "output_type": "stream",
     "text": [
      "181/181 [==============================] - 6s 34ms/step - loss: 0.2278 - accuracy: 0.9389\n"
     ]
    },
    {
     "data": {
      "text/plain": [
       "[0.22778697311878204, 0.9388532638549805]"
      ]
     },
     "execution_count": 20,
     "metadata": {},
     "output_type": "execute_result"
    }
   ],
   "source": [
    "classifier.evaluate([X_test_scaled,X_test_scaled_f,X_test_scaled_local,X_test_scaled_f_local],y_test[:,0])"
   ]
  },
  {
   "cell_type": "code",
   "execution_count": null,
   "metadata": {
    "colab": {
     "base_uri": "https://localhost:8080/",
     "height": 336
    },
    "id": "pXaIqqGvsq2-",
    "outputId": "3bf60a19-9647-4e3a-9a9f-dc34c149b8dd"
   },
   "outputs": [
    {
     "data": {
      "image/png": "[encoded data removed]",
      "text/plain": [
       "<Figure size 1080x360 with 2 Axes>"
      ]
     },
     "metadata": {
      "needs_background": "light"
     },
     "output_type": "display_data"
    }
   ],
   "source": [
    "import matplotlib.pyplot as plt\n",
    "def display_learning_curves(history):\n",
    "    fig, (ax1, ax2) = plt.subplots(1, 2, figsize=(15, 5))\n",
    "\n",
    "    ax1.plot(history.history[\"loss\"])\n",
    "    ax1.plot(history.history[\"val_loss\"])\n",
    "    ax1.legend([\"train\", \"valid\"], loc=\"upper right\")\n",
    "    ax1.set_xlabel(\"Epochs\")\n",
    "    ax1.set_ylabel(\"Loss\")\n",
    "\n",
    "    ax2.plot(history.history[\"accuracy\"])\n",
    "    ax2.plot(history.history[\"val_accuracy\"])\n",
    "    ax2.legend([\"train\", \"valid\"], loc=\"upper right\")\n",
    "    ax2.set_xlabel(\"Epochs\")\n",
    "    ax2.set_ylabel(\"Accuracy\")\n",
    "    plt.show()\n",
    "\n",
    "display_learning_curves(history)"
   ]
  },
  {
   "cell_type": "code",
   "execution_count": null,
   "metadata": {
    "id": "jzJ3rz1JZlM7"
   },
   "outputs": [],
   "source": []
  },
  {
   "cell_type": "code",
   "execution_count": null,
   "metadata": {
    "id": "L0VKJswYTc4O"
   },
   "outputs": [],
   "source": [
    "import tensorflow as tf\n",
    "temp=tf.keras.models.load_model(\"./drive/MyDrive/MSc Thesis/Experiments/models/LSTM_1d_freq_exp2_exp5_local_info_v2.h5\")"
   ]
  },
  {
   "cell_type": "code",
   "execution_count": null,
   "metadata": {
    "colab": {
     "base_uri": "https://localhost:8080/"
    },
    "id": "u9bgdUJETn0g",
    "outputId": "f4a5a876-4b76-490a-f659-ca6a6aa09674"
   },
   "outputs": [
    {
     "name": "stdout",
     "output_type": "stream",
     "text": [
      "5773/5773 [==============================] - 198s 34ms/step - loss: 0.2278 - accuracy: 0.9389\n"
     ]
    },
    {
     "data": {
      "text/plain": [
       "[0.2277866005897522, 0.9388532638549805]"
      ]
     },
     "execution_count": 23,
     "metadata": {},
     "output_type": "execute_result"
    }
   ],
   "source": [
    "temp.evaluate([X_test_scaled,X_test_scaled_f,X_test_scaled_local,X_test_scaled_f_local], y_test[:,0], 1)"
   ]
  },
  {
   "cell_type": "code",
   "execution_count": null,
   "metadata": {
    "colab": {
     "base_uri": "https://localhost:8080/"
    },
    "id": "hbTiJwqAZhcj",
    "outputId": "434ed08a-e264-4262-f8c9-ed89785bac93"
   },
   "outputs": [
    {
     "name": "stdout",
     "output_type": "stream",
     "text": [
      "181/181 [==============================] - 12s 35ms/step - loss: 0.2278 - accuracy: 0.9389\n"
     ]
    },
    {
     "data": {
      "text/plain": [
       "[0.22778697311878204, 0.9388532638549805]"
      ]
     },
     "execution_count": 24,
     "metadata": {},
     "output_type": "execute_result"
    }
   ],
   "source": [
    "temp.evaluate([X_test_scaled,X_test_scaled_f,X_test_scaled_local,X_test_scaled_f_local], y_test[:,0])"
   ]
  },
  {
   "cell_type": "code",
   "execution_count": null,
   "metadata": {
    "id": "RD4YF1AuT2tn"
   },
   "outputs": [],
   "source": [
    "y_pred = temp.predict([X_test_scaled,X_test_scaled_f,X_test_scaled_local,X_test_scaled_f_local])\n",
    "y_pred= (y_pred>=0.5).astype(int)"
   ]
  },
  {
   "cell_type": "code",
   "execution_count": null,
   "metadata": {
    "colab": {
     "base_uri": "https://localhost:8080/"
    },
    "id": "sjx-DjHUWp52",
    "outputId": "e85bb4c0-c664-41db-e494-e0c7992a8458"
   },
   "outputs": [
    {
     "data": {
      "text/plain": [
       "array([[1],\n",
       "       [0],\n",
       "       [0],\n",
       "       ...,\n",
       "       [1],\n",
       "       [1],\n",
       "       [0]])"
      ]
     },
     "execution_count": 26,
     "metadata": {},
     "output_type": "execute_result"
    }
   ],
   "source": [
    "y_pred"
   ]
  },
  {
   "cell_type": "code",
   "execution_count": null,
   "metadata": {
    "id": "ipevqB9rXDeW"
   },
   "outputs": [],
   "source": [
    "from sklearn.metrics import accuracy_score, f1_score, classification_report,confusion_matrix"
   ]
  },
  {
   "cell_type": "code",
   "execution_count": null,
   "metadata": {
    "colab": {
     "base_uri": "https://localhost:8080/"
    },
    "id": "rSeo2ltUXffg",
    "outputId": "915b82d1-8262-4c47-9b88-ed52ec78d6d2"
   },
   "outputs": [
    {
     "data": {
      "text/plain": [
       "array([[4147,  231],\n",
       "       [ 122, 1273]])"
      ]
     },
     "execution_count": 28,
     "metadata": {},
     "output_type": "execute_result"
    }
   ],
   "source": [
    "confusion_matrix(y_test[:,0],y_pred)"
   ]
  },
  {
   "cell_type": "code",
   "execution_count": null,
   "metadata": {
    "colab": {
     "base_uri": "https://localhost:8080/"
    },
    "id": "eM1TBa2IXtj2",
    "outputId": "d5cd4564-6501-4102-a512-aaa11e484eb4"
   },
   "outputs": [
    {
     "data": {
      "text/plain": [
       "0.9388532825220856"
      ]
     },
     "execution_count": 29,
     "metadata": {},
     "output_type": "execute_result"
    }
   ],
   "source": [
    "accuracy_score(y_test[:,0],y_pred)"
   ]
  },
  {
   "cell_type": "code",
   "execution_count": null,
   "metadata": {
    "colab": {
     "base_uri": "https://localhost:8080/"
    },
    "id": "_9V2DcARYNq6",
    "outputId": "81da96bb-b6ef-4e20-f7d4-52e4cd5dde45"
   },
   "outputs": [
    {
     "data": {
      "text/plain": [
       "0.8782338737495688"
      ]
     },
     "execution_count": 30,
     "metadata": {},
     "output_type": "execute_result"
    }
   ],
   "source": [
    "f1_score(y_test[:,0],y_pred)"
   ]
  },
  {
   "cell_type": "code",
   "execution_count": null,
   "metadata": {
    "colab": {
     "base_uri": "https://localhost:8080/"
    },
    "id": "JwAjeUnMYQ1O",
    "outputId": "0f837e01-bdd5-4152-9268-ec36fcb92c0d"
   },
   "outputs": [
    {
     "name": "stdout",
     "output_type": "stream",
     "text": [
      "              precision    recall  f1-score   support\n",
      "\n",
      "           0       0.97      0.95      0.96      4378\n",
      "           1       0.85      0.91      0.88      1395\n",
      "\n",
      "    accuracy                           0.94      5773\n",
      "   macro avg       0.91      0.93      0.92      5773\n",
      "weighted avg       0.94      0.94      0.94      5773\n",
      "\n"
     ]
    }
   ],
   "source": [
    "print(classification_report(y_test[:,0],y_pred))"
   ]
  },
  {
   "cell_type": "code",
   "execution_count": null,
   "metadata": {
    "id": "vKWvey6_f1IK"
   },
   "outputs": [],
   "source": [
    "# ###Collect F-Score 10 times\n",
    "# import sklearn\n",
    "# from tqdm.notebook import tqdm\n",
    "# def calc_f1_score(X_train_scaled,X_train_scaled_local,X_test_scaled,X_test_scaled_local,X_train_scaled_f,X_train_scaled_f_local,X_test_scaled_f,X_test_scaled_f_local,y_train,y_test,earlystop):\n",
    "#   input_1 = Input((X_train_scaled.shape[1], X_train_scaled.shape[2])) #50,8\n",
    "#   input_2 = Input((X_train_scaled_f.shape[1], X_train_scaled_f.shape[2])) #26,4\n",
    "#   input_3 = Input((X_train_scaled_local.shape[1], X_train_scaled_local.shape[2], X_train_scaled_local.shape[3])) #20,50,4\n",
    "#   input_4 = Input((X_train_scaled_f_local.shape[1], X_train_scaled_f_local.shape[2], X_train_scaled_f_local.shape[3])) #20,26,2\n",
    "#   x1=LSTM(units = 100, return_sequences = True)(input_1)\n",
    "#   x1=LSTM(units = 50)(x1)\n",
    "#   x2=LSTM(units = 100, return_sequences = True)(input_2)\n",
    "#   x2=LSTM(units = 50)(x2)\n",
    "#   x3=layers.Masking(mask_value=padding_val)(input_3)\n",
    "#   x3=layers.TimeDistributed(LSTM(units = 100, return_sequences = True))(x3)\n",
    "#   x3=layers.TimeDistributed(LSTM(units = 50))(x3)\n",
    "#   x3=layers.Flatten()(x3)\n",
    "#   x4=layers.Masking(mask_value=padding_val)(input_4)\n",
    "#   x4=layers.TimeDistributed(LSTM(units = 100, return_sequences = True))(x4)\n",
    "#   x4=layers.TimeDistributed(LSTM(units = 50))(x4)\n",
    "#   x4=layers.Flatten()(x4)\n",
    "#   x_neighbbours=layers.concatenate([x3,x4])\n",
    "#   x_neighbbours=layers.Dense(100,activation='relu')(x_neighbbours)\n",
    "#   x = layers.concatenate([x1, x2,x_neighbbours])\n",
    "#   x=layers.Dense(50,activation='relu')(x)\n",
    "#   output_layer = layers.Dense(1, activation=\"sigmoid\")(x)\n",
    "#   classifier=keras.Model(inputs=[input_1, input_2, input_3, input_4], outputs=output_layer)\n",
    "#   # Compiling the RNN\n",
    "#   classifier.compile(optimizer = 'adam', loss = 'binary_crossentropy', metrics = ['accuracy'])\n",
    "\n",
    "#   classifier.fit([X_train_scaled,X_train_scaled_f,X_train_scaled_local,X_train_scaled_f_local], y_train[:,0], epochs = 500, batch_size = 64,validation_data=([X_test_scaled,X_test_scaled_f,X_test_scaled_local,X_test_scaled_f_local],y_test[:,0]),callbacks=[earlystop])\n",
    "#   y_pred = classifier.predict([X_test_scaled,X_test_scaled_f,X_test_scaled_local,X_test_scaled_f_local])\n",
    "#   y_pred= (y_pred>=0.5).astype(int)\n",
    "#   return(sklearn.metrics.f1_score(y_test[:,0],y_pred))\n",
    "\n",
    "# f1_score_list=[]\n",
    "# for i in tqdm(range(10)):\n",
    "#   f1_score_list=f1_score_list+[calc_f1_score(X_train_scaled,X_train_scaled_local,X_test_scaled,X_test_scaled_local,X_train_scaled_f,X_train_scaled_f_local,X_test_scaled_f,X_test_scaled_f_local,y_train,y_test,earlystop)]\n",
    "#   print(\"Number of iterations\",len(f1_score_list))\n",
    "#   print(\"F1-scores: \",f1_score_list)\n",
    "#   print(\"Average F1-Score\",np.mean(f1_score_list))\n",
    "#   print(\"Std Dev F1-Score\",np.std(f1_score_list))\n",
    "#   print(\"Error bar F1-Score\",np.std(f1_score_list)/np.sqrt(len(f1_score_list)))\n"
   ]
  }
 ],
 "metadata": {
  "accelerator": "GPU",
  "colab": {
   "collapsed_sections": [],
   "machine_shape": "hm",
   "name": "LSTM_1d_freq_exp2_exp5_local_pairwise_v2.ipynb",
   "provenance": []
  },
  "gpuClass": "standard",
  "kernelspec": {
   "display_name": "Python 3 (ipykernel)",
   "language": "python",
   "name": "python3"
  },
  "language_info": {
   "codemirror_mode": {
    "name": "ipython",
    "version": 3
   },
   "file_extension": ".py",
   "mimetype": "text/x-python",
   "name": "python",
   "nbconvert_exporter": "python",
   "pygments_lexer": "ipython3",
   "version": "3.9.7"
  }
 },
 "nbformat": 4,
 "nbformat_minor": 1
}
