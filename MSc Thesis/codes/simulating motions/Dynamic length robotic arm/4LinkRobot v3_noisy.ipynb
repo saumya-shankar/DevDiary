{
 "cells": [
  {
   "cell_type": "code",
   "execution_count": 1,
   "metadata": {},
   "outputs": [],
   "source": [
    "import numpy as np\n",
    "import matplotlib.pyplot as plt\n",
    "from celluloid import Camera\n",
    "from IPython.display import HTML\n",
    "import pandas as pd\n",
    "import random\n",
    "import copy"
   ]
  },
  {
   "cell_type": "code",
   "execution_count": 2,
   "metadata": {},
   "outputs": [],
   "source": [
    "\n",
    "class FourLinkArm:\n",
    "    \n",
    "    def __init__(self):\n",
    "        # Set parameters for the 3-link planar arm\n",
    "        self.theta1 = np.deg2rad(0)\n",
    "        self.theta2 = np.deg2rad(90)\n",
    "        self.theta3 = np.deg2rad(90)\n",
    "        self.theta4 = np.deg2rad(90)\n",
    "        self.orig_l1 = np.random.randint(4,9)\n",
    "        self.orig_l2 = np.random.randint(4,9)\n",
    "        self.orig_l3 = np.random.randint(4,9)\n",
    "        self.orig_l4 = np.random.randint(4,9)\n",
    "        self.l1=copy.copy(self.orig_l1)\n",
    "        self.l2=copy.copy(self.orig_l2)\n",
    "        self.l3=copy.copy(self.orig_l3)\n",
    "        self.l4=copy.copy(self.orig_l4)\n",
    "        max_len_shift=int(np.min([self.l1,self.l2,self.l3,self.l4])*(2/3))\n",
    "        self.arr1=np.linspace(-max_len_shift,max_len_shift,np.random.randint(10,50))\n",
    "        self.arr1=np.append(self.arr1,np.flip(self.arr1))\n",
    "        self.permute=np.random.permutation([1,1,-1,-1])\n",
    "\n",
    "    def forwardKinematics(self, theta1, theta2, theta3,theta4):\n",
    "        # Define the homogeneous transformation matrices for the 4-link planar arm\n",
    "        self.theta1 = theta1\n",
    "        self.theta2 = theta2\n",
    "        self.theta3 = theta3\n",
    "        self.theta4 = theta4\n",
    "        self.t01 = np.matrix([[np.cos(self.theta1), -np.sin(self.theta1), 0], \n",
    "                              [np.sin(self.theta1), np.cos(self.theta1), 0],\n",
    "                              [0, 0, 1]])\n",
    "        self.t12 = np.matrix([[np.cos(self.theta2), -np.sin(self.theta2), self.l1],\n",
    "                              [np.sin(self.theta2), np.cos(self.theta2), 0],\n",
    "                              [0, 0, 1]])\n",
    "        self.t23 = np.matrix([[np.cos(self.theta3), -np.sin(self.theta3), self.l2],\n",
    "                              [np.sin(self.theta3), np.cos(self.theta3), 0],\n",
    "                              [0, 0, 1]])        \n",
    "        self.t34 = np.matrix([[np.cos(self.theta4), -np.sin(self.theta4), self.l3],\n",
    "                              [np.sin(self.theta4), np.cos(self.theta4), 0],\n",
    "                              [0, 0, 1]])\n",
    "        self.t4end = np.matrix([[np.cos(self.theta4), -np.sin(self.theta4), self.l4],\n",
    "                                [np.sin(self.theta4), np.cos(self.theta4), 0],\n",
    "                                [0, 0, 1]])\n",
    "\n",
    "        self.t0end = self.t01*self.t12*self.t23*self.t34*self.t4end\n",
    "        return self.t0end\n",
    "    \n",
    "    def findJointPos(self): \n",
    "        # Find the x,y position of each joint and end effector so it can be plotted\n",
    "        # Find the transformation matrices for joint 2 and joint 3 and joint 4\n",
    "        self.t02 = self.t01*self.t12\n",
    "        self.t03 = self.t01*self.t12*self.t23\n",
    "        self.t04 = self.t01*self.t12*self.t23*self.t34\n",
    "        # Find the x, y coordinates for joints 2 and 3 and 4. Put them in a list j2 = [x,y]\n",
    "        j2 = [ self.t02[0, 2], self.t02[1, 2] ]\n",
    "        j3 = [ self.t03[0, 2], self.t03[1, 2] ]\n",
    "        j4 = [ self.t04[0, 2], self.t04[1, 2] ]\n",
    "        endeff = [self.t0end[0,2],self.t0end[1,2]]\n",
    "        \n",
    "        self.jnt2pos, self.jnt3pos, self.jnt4pos, self.endEffPos = j2,j3,j4,endeff\n",
    "        return j2,j3,j4,endeff\n",
    "    \n",
    "    def geomJacobian(self, jnt2pos=None, jnt3pos=None, jnt4pos=None, endEffPos=None):\n",
    "        if jnt2pos is None:\n",
    "            jnt2pos=self.jnt2pos \n",
    "        if jnt3pos is None:\n",
    "            jnt3pos=self.jnt3pos\n",
    "        if jnt4pos is None:\n",
    "            jnt4pos=self.jnt4pos\n",
    "        if endEffPos is None:\n",
    "            endEffPos=self.endEffPos\n",
    "        ai = np.array([0,0,1])\n",
    "        col0 = np.array(endEffPos + [0])\n",
    "        col1 = np.array(endEffPos + [0]) - np.array(jnt2pos + [0])\n",
    "        col2 = np.array(endEffPos + [0]) - np.array(jnt3pos + [0])\n",
    "        col3 = np.array(endEffPos + [0]) - np.array(jnt4pos + [0])\n",
    "        J = np.array([np.cross(ai,col0), np.cross(ai,col1), np.cross(ai,col2), np.cross(ai,col3)]).T \n",
    "        return J\n",
    "    \n",
    "    def random_link_len_change(self,i):\n",
    "        self.l1=self.orig_l1+self.permute[0]*self.arr1[i%len(self.arr1)]\n",
    "        self.l2=self.orig_l2+self.permute[1]*self.arr1[i%len(self.arr1)]\n",
    "        self.l3=self.orig_l3+self.permute[2]*self.arr1[i%len(self.arr1)]\n",
    "        self.l4=self.orig_l4+self.permute[3]*self.arr1[i%len(self.arr1)]"
   ]
  },
  {
   "cell_type": "code",
   "execution_count": 3,
   "metadata": {},
   "outputs": [],
   "source": [
    "def plotArm(jnt2pos, jnt3pos, jnt4pos, endEffectPos, target=None, step=None):\n",
    "    # set up figure\n",
    "    fig = plt.figure(figsize=(10,10))\n",
    "    ax = fig.add_subplot(111, autoscale_on=False, xlim=(-25, 25), ylim=(-25, 25))\n",
    "    ax.grid()\n",
    "    \n",
    "    if step is not None:\n",
    "        step = np.array(step)\n",
    "        plt.scatter(step[:, 0],step[:, 1], color='lightblue', marker='o')\n",
    "        plt.plot(step[:, 0],step[:, 1], color='lightblue')\n",
    "    if target is not None:\n",
    "        target = np.array(target)\n",
    "        plt.scatter(target[:, 0],target[:, 1], color='red', marker='o')\n",
    "        \n",
    "    line, = ax.plot([], [], 'o-', lw=4, mew=5)\n",
    "    time_text = ax.text(0.02, 0.95, '', transform=ax.transAxes)\n",
    "\n",
    "    line.set_data([], [])\n",
    "    time_text.set_text('')\n",
    "    x = np.array([0, jnt2pos[0], jnt3pos[0], jnt4pos[0], endEffectPos[0]])\n",
    "    y = np.array([0, jnt2pos[1], jnt3pos[1], jnt4pos[1], endEffectPos[1]])\n",
    "    line.set_data((x,y))\n",
    "    \n",
    "    plt.show()\n",
    "    \n",
    "# gif animation plotter\n",
    "def plotArm2(jnt2pos, jnt3pos, jnt4pos, endEffectPos,x2,y2, target=None, step=None, fig=None, camera=None):\n",
    "    # set up figure\n",
    "    ax = fig.add_subplot(111, autoscale_on=False,\n",
    "                         xlim=(-25, 25), ylim=(-25, 25))\n",
    "    ax.grid()\n",
    "    line, = ax.plot([], [], 'o-', lw=4, mew=5, color='lightblue')\n",
    "    time_text = ax.text(0.02, 0.95, '', transform=ax.transAxes)\n",
    "\n",
    "    line.set_data([], [])\n",
    "    time_text.set_text('')\n",
    "    x = np.array([0, jnt2pos[0], jnt3pos[0], jnt4pos[0], endEffectPos[0]])\n",
    "    y = np.array([0, jnt2pos[1], jnt3pos[1], jnt4pos[1], endEffectPos[1]])\n",
    "    line.set_data((x,y))\n",
    "    \n",
    "    plt.plot([jnt3pos[0],x2[0]],[jnt3pos[1],y2[0]],'o-', lw=2, mew=5, color='black')\n",
    "    plt.plot([jnt3pos[0],x2[1]],[jnt3pos[1],y2[1]],'o-', lw=2, mew=5, color='black')\n",
    "\n",
    "\n",
    "    if step is not None:\n",
    "        step = np.array(step)\n",
    "        plt.scatter(step[:, 0],step[:, 1], color='lightblue', marker='o')\n",
    "        plt.plot(step[:, 0],step[:, 1], color='lightblue')\n",
    "    if target is not None:\n",
    "        target = np.array(target)\n",
    "        plt.scatter(target[:, 0],target[:, 1], color='red', marker='o')\n",
    "\n",
    "    camera.snap()"
   ]
  },
  {
   "cell_type": "markdown",
   "metadata": {},
   "source": [
    "In this part, let's plan some simple polynomial trajectories in the work space. "
   ]
  },
  {
   "cell_type": "markdown",
   "metadata": {},
   "source": [
    "First, setup a simple environment with the arm manipulator and four intermediate interpolation points."
   ]
  },
  {
   "cell_type": "code",
   "execution_count": 4,
   "metadata": {},
   "outputs": [],
   "source": [
    "def create_simulation(animation_index,samples):\n",
    "    \n",
    "    # Setup our new manipulator\n",
    "    arm = FourLinkArm()\n",
    "    \n",
    "    # define the initial configuration of the manipulator (you are welcomed to try other values)\n",
    "    initTheta = [np.deg2rad(0),np.deg2rad(45),np.deg2rad(-45),np.deg2rad(45)]\n",
    "\n",
    "    # Initialise the arm with the initial values\n",
    "    _ = arm.forwardKinematics(*initTheta)\n",
    "\n",
    "    # Get the initial end-effector position \n",
    "    init_joint2pos, init_joint3pos, init_joint4pos, EF_init_pos = arm.findJointPos()\n",
    "\n",
    "    # Define the target postions of the end-effector\n",
    "    # EF_target_pos = np.array([[EF_init_pos[0], 6.,2.,-4.,-8.],\n",
    "    #                           [EF_init_pos[1], -6.,8.,-5.,6.]]).T\n",
    "    ##Choose points randomly, choose x equally spaced and y randomly\n",
    "    L=arm.l1+arm.l2+arm.l3+arm.l4\n",
    "    print(L)\n",
    "    x_points=np.array([2/3*L, 1/3*L, -1/3*L, -2/3*L])\n",
    "\n",
    "    y_points=[]\n",
    "    R=3*L/4\n",
    "    for i in range(4):\n",
    "        y_points.append(random.uniform(-1*np.sqrt(R**2-x_points[i]**2),\n",
    "                                          np.sqrt(R**2-x_points[i]**2)))\n",
    "    y_points=np.array(y_points)\n",
    "    \n",
    "    EF_target_pos = np.array([[EF_init_pos[0], x_points[0],x_points[1],x_points[2],x_points[3]],\n",
    "                              [EF_init_pos[1], y_points[0],y_points[1],y_points[2],y_points[3]]]).T\n",
    "\n",
    "    # Plot the pose of the arm\n",
    "    #plotArm(*arm.findJointPos(), target=EF_target_pos)\n",
    "    print(f\"The interpolation points are stored in the variable \\\"EF_target_pos\\\": \\n{EF_target_pos}\")\n",
    "    \n",
    "    pol = np.polyfit(EF_target_pos[:, 0], EF_target_pos[:, 1], EF_target_pos.shape[0]-1)  # polynomial coefficients\n",
    "    \n",
    "    # Plotting the planned trajectory\n",
    "    #epsilon = 100\n",
    "    epsilon = samples\n",
    "    \n",
    "    xx = np.linspace(EF_target_pos[0,0],EF_target_pos[-1,0], epsilon)\n",
    "    yy = np.polyval(pol,xx)   \n",
    "    curve = np.hstack([xx[:, None], yy[:, None]]) \n",
    "    \n",
    "    interpolated_points=curve\n",
    "\n",
    "#     plotArm(*arm.findJointPos(), target=EF_target_pos, step=interpolated_points)\n",
    "    print(f\"The intermediate points are stored in the variable \\\"interpolated_points\\\"\")\n",
    "    \n",
    "    # set the current E-F position for the IK loop\n",
    "    joint2pos, joint3pos, joint4pos, endEffectorPos = init_joint2pos, init_joint3pos, init_joint4pos, EF_init_pos\n",
    "    # set the initial robot configuration\n",
    "    newTheta = initTheta\n",
    "\n",
    "    # Set up the animation generator\n",
    "    fig = plt.figure(figsize=(10,10))\n",
    "    camera = Camera(fig)\n",
    "    \n",
    "    temp_eeff_angle=np.append(np.linspace(0,45,int(interpolated_points.shape[0]/8)),\n",
    "                          np.linspace(45,0,int(interpolated_points.shape[0]/8)))\n",
    "    \n",
    "    wrist_len_orig=np.random.randint(2,arm.l3+1)\n",
    "    \n",
    "    keypoints_data=pd.DataFrame(columns=range((5+2)*2),dtype=float)\n",
    "    arr2=np.linspace(-int(wrist_len_orig/2),int(wrist_len_orig/2),np.random.randint(10,50))\n",
    "    \n",
    "    arr2=np.append(arr2,np.flip(arr2))\n",
    "\n",
    "    \n",
    "    for i in range(interpolated_points.shape[0]):\n",
    "        J = arm.geomJacobian()\n",
    "\n",
    "        newgoal = interpolated_points[i, :]\n",
    "        deltaStep = newgoal - endEffectorPos\n",
    "        subtarget = np.array([deltaStep[0], deltaStep[1], 0]) \n",
    "\n",
    "        radTheta = np.linalg.pinv(J) @ subtarget\n",
    "        newTheta = newTheta + radTheta\n",
    "\n",
    "        # ----------- Do forward kinematics to plot the arm ---------------\n",
    "        arm.random_link_len_change(i)\n",
    "        wrist_len=wrist_len_orig+arr2[i%len(arr2)]\n",
    "\n",
    "        _ = arm.forwardKinematics(newTheta[0],newTheta[1],newTheta[2],newTheta[3])\n",
    "        joint2pos, joint3pos, joint4pos, endEffectorPos = arm.findJointPos()\n",
    "\n",
    "        x2=[]\n",
    "        y2=[]\n",
    "\n",
    "        x2=x2+[arm.l1*np.cos(newTheta[0]) \\\n",
    "               +arm.l2*np.cos(newTheta[0]+newTheta[1]) \\\n",
    "               +wrist_len*np.cos(newTheta[0]+newTheta[1]+newTheta[2]+np.deg2rad(temp_eeff_angle[i%len(temp_eeff_angle)]))]\n",
    "    \n",
    "        y2=y2+[arm.l1*np.sin(newTheta[0]) \\\n",
    "               +arm.l2*np.sin(newTheta[0]+newTheta[1]) \\\n",
    "               +wrist_len*np.sin(newTheta[0]+newTheta[1]+newTheta[2]+np.deg2rad(temp_eeff_angle[i%len(temp_eeff_angle)]))]\n",
    "        \n",
    "        x2=x2+[arm.l1*np.cos(newTheta[0]) \\\n",
    "               +arm.l2*np.cos(newTheta[0]+newTheta[1]) \\\n",
    "               +wrist_len*np.cos(newTheta[0]+newTheta[1]+newTheta[2]-np.deg2rad(temp_eeff_angle[i%len(temp_eeff_angle)]))]\n",
    "    \n",
    "        y2=y2+[arm.l1*np.sin(newTheta[0]) \\\n",
    "               +arm.l2*np.sin(newTheta[0]+newTheta[1]) \\\n",
    "               +wrist_len*np.sin(newTheta[0]+newTheta[1]+newTheta[2]-np.deg2rad(temp_eeff_angle[i%len(temp_eeff_angle)]))]\n",
    "\n",
    "        temp_keypoints=np.array([0,0,joint2pos[0],joint2pos[1],joint3pos[0],joint3pos[1],joint4pos[0],joint4pos[1],\n",
    "                                 endEffectorPos[0],endEffectorPos[1]])\n",
    "        \n",
    "        temp_keypoints=np.append(temp_keypoints,np.array([x2[0],y2[0],x2[1],y2[1]]))\n",
    "        \n",
    "        keypoints_data = keypoints_data.append(pd.DataFrame(temp_keypoints[None,:],columns=keypoints_data.columns),\n",
    "                                               ignore_index = True)\n",
    "        \n",
    "        plotArm2(joint2pos, joint3pos, joint4pos, endEffectorPos,x2,y2, target=EF_target_pos, fig=fig, camera=camera)\n",
    "\n",
    "\n",
    "    plt.close()\n",
    "    animation = camera.animate()\n",
    "    animation.save('./animated_motion_dynamic_len/animated_motion'+str(animation_index)+'.gif', writer = 'imagemagick')\n",
    "    \n",
    "    # create the adjacency matrix\n",
    "    adj_mat=np.zeros((5+2,5+2))\n",
    "    adj_mat[0][1]=1\n",
    "    adj_mat[1][2]=1\n",
    "    adj_mat[2][3]=1\n",
    "    adj_mat[3][4]=1\n",
    "    adj_mat[2][5]=1\n",
    "    adj_mat[2][6]=1\n",
    "    \n",
    "    pd.DataFrame(adj_mat).astype(int).to_csv('./animated_motion_dynamic_len/adj_mat'+str(animation_index)+'.csv')\n",
    "    keypoints_data.to_csv('./animated_motion_dynamic_len/ts_data'+str(animation_index)+'.csv')    \n",
    "    "
   ]
  },
  {
   "cell_type": "code",
   "execution_count": 5,
   "metadata": {},
   "outputs": [],
   "source": [
    "import os\n",
    "os.environ['MAGICK_THREAD_LIMIT'] = '2'"
   ]
  },
  {
   "cell_type": "code",
   "execution_count": 6,
   "metadata": {},
   "outputs": [],
   "source": [
    "# create_simulation(1026,50)"
   ]
  },
  {
   "cell_type": "code",
   "execution_count": 7,
   "metadata": {},
   "outputs": [
    {
     "name": "stdout",
     "output_type": "stream",
     "text": [
      "25\n",
      "The interpolation points are stored in the variable \"EF_target_pos\": \n",
      "[[ 21.48528137   8.48528137]\n",
      " [ 16.66666667   6.71991786]\n",
      " [  8.33333333   4.88967146]\n",
      " [ -8.33333333   7.20619298]\n",
      " [-16.66666667   7.79231615]]\n",
      "The intermediate points are stored in the variable \"interpolated_points\"\n"
     ]
    },
    {
     "name": "stderr",
     "output_type": "stream",
     "text": [
      "<ipython-input-3-9b304879dac9>:29: MatplotlibDeprecationWarning: Adding an axes using the same arguments as a previous axes currently reuses the earlier instance.  In a future version, a new instance will always be created and returned.  Meanwhile, this warning can be suppressed, and the future behavior ensured, by passing a unique label to each axes instance.\n",
      "  ax = fig.add_subplot(111, autoscale_on=False,\n"
     ]
    },
    {
     "name": "stdout",
     "output_type": "stream",
     "text": [
      "23\n",
      "The interpolation points are stored in the variable \"EF_target_pos\": \n",
      "[[ 1.94852814e+01  8.48528137e+00]\n",
      " [ 1.53333333e+01  7.33765161e-03]\n",
      " [ 7.66666667e+00 -1.01787317e+01]\n",
      " [-7.66666667e+00  1.34706844e+01]\n",
      " [-1.53333333e+01  7.14732818e-01]]\n",
      "The intermediate points are stored in the variable \"interpolated_points\"\n"
     ]
    },
    {
     "name": "stderr",
     "output_type": "stream",
     "text": [
      "<ipython-input-3-9b304879dac9>:29: MatplotlibDeprecationWarning: Adding an axes using the same arguments as a previous axes currently reuses the earlier instance.  In a future version, a new instance will always be created and returned.  Meanwhile, this warning can be suppressed, and the future behavior ensured, by passing a unique label to each axes instance.\n",
      "  ax = fig.add_subplot(111, autoscale_on=False,\n"
     ]
    },
    {
     "name": "stdout",
     "output_type": "stream",
     "text": [
      "19\n",
      "The interpolation points are stored in the variable \"EF_target_pos\": \n",
      "[[ 16.65685425   5.65685425]\n",
      " [ 12.66666667   1.51044936]\n",
      " [  6.33333333  12.21876618]\n",
      " [ -6.33333333   0.1464217 ]\n",
      " [-12.66666667   0.27362291]]\n",
      "The intermediate points are stored in the variable \"interpolated_points\"\n"
     ]
    },
    {
     "name": "stderr",
     "output_type": "stream",
     "text": [
      "<ipython-input-3-9b304879dac9>:29: MatplotlibDeprecationWarning: Adding an axes using the same arguments as a previous axes currently reuses the earlier instance.  In a future version, a new instance will always be created and returned.  Meanwhile, this warning can be suppressed, and the future behavior ensured, by passing a unique label to each axes instance.\n",
      "  ax = fig.add_subplot(111, autoscale_on=False,\n"
     ]
    },
    {
     "name": "stdout",
     "output_type": "stream",
     "text": [
      "19\n",
      "The interpolation points are stored in the variable \"EF_target_pos\": \n",
      "[[ 1.57781746e+01  7.77817459e+00]\n",
      " [ 1.26666667e+01  4.91406083e-03]\n",
      " [ 6.33333333e+00  3.59134984e+00]\n",
      " [-6.33333333e+00  3.06933077e+00]\n",
      " [-1.26666667e+01  5.75430728e+00]]\n",
      "The intermediate points are stored in the variable \"interpolated_points\"\n"
     ]
    },
    {
     "name": "stderr",
     "output_type": "stream",
     "text": [
      "<ipython-input-3-9b304879dac9>:29: MatplotlibDeprecationWarning: Adding an axes using the same arguments as a previous axes currently reuses the earlier instance.  In a future version, a new instance will always be created and returned.  Meanwhile, this warning can be suppressed, and the future behavior ensured, by passing a unique label to each axes instance.\n",
      "  ax = fig.add_subplot(111, autoscale_on=False,\n"
     ]
    },
    {
     "name": "stdout",
     "output_type": "stream",
     "text": [
      "25\n",
      "The interpolation points are stored in the variable \"EF_target_pos\": \n",
      "[[ 21.19238816   9.19238816]\n",
      " [ 16.66666667  -3.17060412]\n",
      " [  8.33333333  11.27389357]\n",
      " [ -8.33333333   2.8721343 ]\n",
      " [-16.66666667   8.06668094]]\n",
      "The intermediate points are stored in the variable \"interpolated_points\"\n"
     ]
    },
    {
     "name": "stderr",
     "output_type": "stream",
     "text": [
      "<ipython-input-3-9b304879dac9>:29: MatplotlibDeprecationWarning: Adding an axes using the same arguments as a previous axes currently reuses the earlier instance.  In a future version, a new instance will always be created and returned.  Meanwhile, this warning can be suppressed, and the future behavior ensured, by passing a unique label to each axes instance.\n",
      "  ax = fig.add_subplot(111, autoscale_on=False,\n"
     ]
    },
    {
     "name": "stdout",
     "output_type": "stream",
     "text": [
      "27\n",
      "The interpolation points are stored in the variable \"EF_target_pos\": \n",
      "[[ 23.19238816   9.19238816]\n",
      " [ 18.          -0.39949568]\n",
      " [  9.          -9.95461323]\n",
      " [ -9.         -15.66999651]\n",
      " [-18.          -4.37939098]]\n",
      "The intermediate points are stored in the variable \"interpolated_points\"\n"
     ]
    },
    {
     "name": "stderr",
     "output_type": "stream",
     "text": [
      "<ipython-input-3-9b304879dac9>:29: MatplotlibDeprecationWarning: Adding an axes using the same arguments as a previous axes currently reuses the earlier instance.  In a future version, a new instance will always be created and returned.  Meanwhile, this warning can be suppressed, and the future behavior ensured, by passing a unique label to each axes instance.\n",
      "  ax = fig.add_subplot(111, autoscale_on=False,\n"
     ]
    },
    {
     "name": "stdout",
     "output_type": "stream",
     "text": [
      "25\n",
      "The interpolation points are stored in the variable \"EF_target_pos\": \n",
      "[[ 21.48528137   8.48528137]\n",
      " [ 16.66666667  -1.37418356]\n",
      " [  8.33333333  -0.56760904]\n",
      " [ -8.33333333   3.41146813]\n",
      " [-16.66666667  -0.73489645]]\n",
      "The intermediate points are stored in the variable \"interpolated_points\"\n"
     ]
    },
    {
     "name": "stderr",
     "output_type": "stream",
     "text": [
      "<ipython-input-3-9b304879dac9>:29: MatplotlibDeprecationWarning: Adding an axes using the same arguments as a previous axes currently reuses the earlier instance.  In a future version, a new instance will always be created and returned.  Meanwhile, this warning can be suppressed, and the future behavior ensured, by passing a unique label to each axes instance.\n",
      "  ax = fig.add_subplot(111, autoscale_on=False,\n"
     ]
    },
    {
     "name": "stdout",
     "output_type": "stream",
     "text": [
      "23\n",
      "The interpolation points are stored in the variable \"EF_target_pos\": \n",
      "[[ 19.77817459   7.77817459]\n",
      " [ 15.33333333   4.41904648]\n",
      " [  7.66666667 -10.34753465]\n",
      " [ -7.66666667  -2.54885294]\n",
      " [-15.33333333  -4.94839066]]\n",
      "The intermediate points are stored in the variable \"interpolated_points\"\n"
     ]
    },
    {
     "name": "stderr",
     "output_type": "stream",
     "text": [
      "<ipython-input-3-9b304879dac9>:29: MatplotlibDeprecationWarning: Adding an axes using the same arguments as a previous axes currently reuses the earlier instance.  In a future version, a new instance will always be created and returned.  Meanwhile, this warning can be suppressed, and the future behavior ensured, by passing a unique label to each axes instance.\n",
      "  ax = fig.add_subplot(111, autoscale_on=False,\n"
     ]
    },
    {
     "name": "stdout",
     "output_type": "stream",
     "text": [
      "25\n",
      "The interpolation points are stored in the variable \"EF_target_pos\": \n",
      "[[ 22.07106781   7.07106781]\n",
      " [ 16.66666667  -2.36457282]\n",
      " [  8.33333333  -0.58679955]\n",
      " [ -8.33333333   0.55565086]\n",
      " [-16.66666667   4.38503488]]\n",
      "The intermediate points are stored in the variable \"interpolated_points\"\n"
     ]
    },
    {
     "name": "stderr",
     "output_type": "stream",
     "text": [
      "<ipython-input-3-9b304879dac9>:29: MatplotlibDeprecationWarning: Adding an axes using the same arguments as a previous axes currently reuses the earlier instance.  In a future version, a new instance will always be created and returned.  Meanwhile, this warning can be suppressed, and the future behavior ensured, by passing a unique label to each axes instance.\n",
      "  ax = fig.add_subplot(111, autoscale_on=False,\n"
     ]
    },
    {
     "name": "stdout",
     "output_type": "stream",
     "text": [
      "23\n",
      "The interpolation points are stored in the variable \"EF_target_pos\": \n",
      "[[ 19.48528137   8.48528137]\n",
      " [ 15.33333333  -5.22102472]\n",
      " [  7.66666667   4.84151991]\n",
      " [ -7.66666667   2.55328675]\n",
      " [-15.33333333  -6.25569753]]\n",
      "The intermediate points are stored in the variable \"interpolated_points\"\n"
     ]
    },
    {
     "name": "stderr",
     "output_type": "stream",
     "text": [
      "<ipython-input-3-9b304879dac9>:29: MatplotlibDeprecationWarning: Adding an axes using the same arguments as a previous axes currently reuses the earlier instance.  In a future version, a new instance will always be created and returned.  Meanwhile, this warning can be suppressed, and the future behavior ensured, by passing a unique label to each axes instance.\n",
      "  ax = fig.add_subplot(111, autoscale_on=False,\n"
     ]
    },
    {
     "name": "stdout",
     "output_type": "stream",
     "text": [
      "17\n",
      "The interpolation points are stored in the variable \"EF_target_pos\": \n",
      "[[ 14.36396103   6.36396103]\n",
      " [ 11.33333333   1.64230144]\n",
      " [  5.66666667  -4.02728621]\n",
      " [ -5.66666667   1.1796926 ]\n",
      " [-11.33333333   1.66021696]]\n",
      "The intermediate points are stored in the variable \"interpolated_points\"\n"
     ]
    },
    {
     "name": "stderr",
     "output_type": "stream",
     "text": [
      "<ipython-input-3-9b304879dac9>:29: MatplotlibDeprecationWarning: Adding an axes using the same arguments as a previous axes currently reuses the earlier instance.  In a future version, a new instance will always be created and returned.  Meanwhile, this warning can be suppressed, and the future behavior ensured, by passing a unique label to each axes instance.\n",
      "  ax = fig.add_subplot(111, autoscale_on=False,\n"
     ]
    },
    {
     "name": "stdout",
     "output_type": "stream",
     "text": [
      "25\n",
      "The interpolation points are stored in the variable \"EF_target_pos\": \n",
      "[[ 21.48528137   8.48528137]\n",
      " [ 16.66666667   3.02025653]\n",
      " [  8.33333333  11.1324728 ]\n",
      " [ -8.33333333  16.6285353 ]\n",
      " [-16.66666667  -1.90065437]]\n",
      "The intermediate points are stored in the variable \"interpolated_points\"\n"
     ]
    },
    {
     "name": "stderr",
     "output_type": "stream",
     "text": [
      "<ipython-input-3-9b304879dac9>:29: MatplotlibDeprecationWarning: Adding an axes using the same arguments as a previous axes currently reuses the earlier instance.  In a future version, a new instance will always be created and returned.  Meanwhile, this warning can be suppressed, and the future behavior ensured, by passing a unique label to each axes instance.\n",
      "  ax = fig.add_subplot(111, autoscale_on=False,\n"
     ]
    },
    {
     "name": "stdout",
     "output_type": "stream",
     "text": [
      "20\n",
      "The interpolation points are stored in the variable \"EF_target_pos\": \n",
      "[[ 16.77817459   7.77817459]\n",
      " [ 13.33333333  -2.0877058 ]\n",
      " [  6.66666667   6.58077419]\n",
      " [ -6.66666667  -5.30572714]\n",
      " [-13.33333333  -3.42706894]]\n",
      "The intermediate points are stored in the variable \"interpolated_points\"\n"
     ]
    },
    {
     "name": "stderr",
     "output_type": "stream",
     "text": [
      "<ipython-input-3-9b304879dac9>:29: MatplotlibDeprecationWarning: Adding an axes using the same arguments as a previous axes currently reuses the earlier instance.  In a future version, a new instance will always be created and returned.  Meanwhile, this warning can be suppressed, and the future behavior ensured, by passing a unique label to each axes instance.\n",
      "  ax = fig.add_subplot(111, autoscale_on=False,\n"
     ]
    },
    {
     "name": "stdout",
     "output_type": "stream",
     "text": [
      "24\n",
      "The interpolation points are stored in the variable \"EF_target_pos\": \n",
      "[[ 20.48528137   8.48528137]\n",
      " [ 16.          -0.03869674]\n",
      " [  8.           7.92046824]\n",
      " [ -8.           5.58223858]\n",
      " [-16.           4.02524438]]\n",
      "The intermediate points are stored in the variable \"interpolated_points\"\n"
     ]
    },
    {
     "name": "stderr",
     "output_type": "stream",
     "text": [
      "<ipython-input-3-9b304879dac9>:29: MatplotlibDeprecationWarning: Adding an axes using the same arguments as a previous axes currently reuses the earlier instance.  In a future version, a new instance will always be created and returned.  Meanwhile, this warning can be suppressed, and the future behavior ensured, by passing a unique label to each axes instance.\n",
      "  ax = fig.add_subplot(111, autoscale_on=False,\n"
     ]
    },
    {
     "name": "stdout",
     "output_type": "stream",
     "text": [
      "26\n",
      "The interpolation points are stored in the variable \"EF_target_pos\": \n",
      "[[ 21.89949494   9.89949494]\n",
      " [ 17.33333333  -2.62398011]\n",
      " [  8.66666667  13.44640672]\n",
      " [ -8.66666667 -13.413696  ]\n",
      " [-17.33333333   1.54973213]]\n",
      "The intermediate points are stored in the variable \"interpolated_points\"\n"
     ]
    },
    {
     "name": "stderr",
     "output_type": "stream",
     "text": [
      "<ipython-input-3-9b304879dac9>:29: MatplotlibDeprecationWarning: Adding an axes using the same arguments as a previous axes currently reuses the earlier instance.  In a future version, a new instance will always be created and returned.  Meanwhile, this warning can be suppressed, and the future behavior ensured, by passing a unique label to each axes instance.\n",
      "  ax = fig.add_subplot(111, autoscale_on=False,\n"
     ]
    },
    {
     "name": "stdout",
     "output_type": "stream",
     "text": [
      "26\n",
      "The interpolation points are stored in the variable \"EF_target_pos\": \n",
      "[[ 22.19238816   9.19238816]\n",
      " [ 17.33333333   6.10334431]\n",
      " [  8.66666667  -0.07038693]\n",
      " [ -8.66666667  12.00625317]\n",
      " [-17.33333333   6.75529374]]\n",
      "The intermediate points are stored in the variable \"interpolated_points\"\n"
     ]
    },
    {
     "name": "stderr",
     "output_type": "stream",
     "text": [
      "<ipython-input-3-9b304879dac9>:29: MatplotlibDeprecationWarning: Adding an axes using the same arguments as a previous axes currently reuses the earlier instance.  In a future version, a new instance will always be created and returned.  Meanwhile, this warning can be suppressed, and the future behavior ensured, by passing a unique label to each axes instance.\n",
      "  ax = fig.add_subplot(111, autoscale_on=False,\n"
     ]
    },
    {
     "name": "stdout",
     "output_type": "stream",
     "text": [
      "18\n",
      "The interpolation points are stored in the variable \"EF_target_pos\": \n",
      "[[ 15.07106781   7.07106781]\n",
      " [ 12.          -1.08392537]\n",
      " [  6.           6.96705503]\n",
      " [ -6.          -2.78909763]\n",
      " [-12.           2.2133531 ]]\n",
      "The intermediate points are stored in the variable \"interpolated_points\"\n"
     ]
    },
    {
     "name": "stderr",
     "output_type": "stream",
     "text": [
      "<ipython-input-3-9b304879dac9>:29: MatplotlibDeprecationWarning: Adding an axes using the same arguments as a previous axes currently reuses the earlier instance.  In a future version, a new instance will always be created and returned.  Meanwhile, this warning can be suppressed, and the future behavior ensured, by passing a unique label to each axes instance.\n",
      "  ax = fig.add_subplot(111, autoscale_on=False,\n"
     ]
    },
    {
     "name": "stdout",
     "output_type": "stream",
     "text": [
      "20\n",
      "The interpolation points are stored in the variable \"EF_target_pos\": \n",
      "[[ 17.36396103   6.36396103]\n",
      " [ 13.33333333  -2.05606309]\n",
      " [  6.66666667   6.20225283]\n",
      " [ -6.66666667   3.56061663]\n",
      " [-13.33333333  -0.92131073]]\n",
      "The intermediate points are stored in the variable \"interpolated_points\"\n"
     ]
    },
    {
     "name": "stderr",
     "output_type": "stream",
     "text": [
      "<ipython-input-3-9b304879dac9>:29: MatplotlibDeprecationWarning: Adding an axes using the same arguments as a previous axes currently reuses the earlier instance.  In a future version, a new instance will always be created and returned.  Meanwhile, this warning can be suppressed, and the future behavior ensured, by passing a unique label to each axes instance.\n",
      "  ax = fig.add_subplot(111, autoscale_on=False,\n"
     ]
    },
    {
     "name": "stdout",
     "output_type": "stream",
     "text": [
      "29\n",
      "The interpolation points are stored in the variable \"EF_target_pos\": \n",
      "[[ 24.60660172  10.60660172]\n",
      " [ 19.33333333   2.37224657]\n",
      " [  9.66666667   1.60926316]\n",
      " [ -9.66666667  18.57782865]\n",
      " [-19.33333333   5.89372671]]\n",
      "The intermediate points are stored in the variable \"interpolated_points\"\n"
     ]
    },
    {
     "name": "stderr",
     "output_type": "stream",
     "text": [
      "<ipython-input-3-9b304879dac9>:29: MatplotlibDeprecationWarning: Adding an axes using the same arguments as a previous axes currently reuses the earlier instance.  In a future version, a new instance will always be created and returned.  Meanwhile, this warning can be suppressed, and the future behavior ensured, by passing a unique label to each axes instance.\n",
      "  ax = fig.add_subplot(111, autoscale_on=False,\n"
     ]
    },
    {
     "name": "stdout",
     "output_type": "stream",
     "text": [
      "25\n",
      "The interpolation points are stored in the variable \"EF_target_pos\": \n",
      "[[ 21.48528137   8.48528137]\n",
      " [ 16.66666667  -7.92713623]\n",
      " [  8.33333333  11.24233975]\n",
      " [ -8.33333333   0.03537294]\n",
      " [-16.66666667   5.22159774]]\n",
      "The intermediate points are stored in the variable \"interpolated_points\"\n"
     ]
    },
    {
     "name": "stderr",
     "output_type": "stream",
     "text": [
      "<ipython-input-3-9b304879dac9>:29: MatplotlibDeprecationWarning: Adding an axes using the same arguments as a previous axes currently reuses the earlier instance.  In a future version, a new instance will always be created and returned.  Meanwhile, this warning can be suppressed, and the future behavior ensured, by passing a unique label to each axes instance.\n",
      "  ax = fig.add_subplot(111, autoscale_on=False,\n"
     ]
    },
    {
     "name": "stdout",
     "output_type": "stream",
     "text": [
      "28\n",
      "The interpolation points are stored in the variable \"EF_target_pos\": \n",
      "[[ 23.89949494   9.89949494]\n",
      " [ 18.66666667  -0.64557994]\n",
      " [  9.33333333  -8.5648142 ]\n",
      " [ -9.33333333 -11.65686789]\n",
      " [-18.66666667  -5.32019373]]\n",
      "The intermediate points are stored in the variable \"interpolated_points\"\n"
     ]
    },
    {
     "name": "stderr",
     "output_type": "stream",
     "text": [
      "<ipython-input-3-9b304879dac9>:29: MatplotlibDeprecationWarning: Adding an axes using the same arguments as a previous axes currently reuses the earlier instance.  In a future version, a new instance will always be created and returned.  Meanwhile, this warning can be suppressed, and the future behavior ensured, by passing a unique label to each axes instance.\n",
      "  ax = fig.add_subplot(111, autoscale_on=False,\n"
     ]
    },
    {
     "name": "stdout",
     "output_type": "stream",
     "text": [
      "24\n",
      "The interpolation points are stored in the variable \"EF_target_pos\": \n",
      "[[ 19.89949494   9.89949494]\n",
      " [ 16.          -2.70396886]\n",
      " [  8.           9.77502775]\n",
      " [ -8.         -11.36151374]\n",
      " [-16.           2.32579431]]\n",
      "The intermediate points are stored in the variable \"interpolated_points\"\n"
     ]
    },
    {
     "name": "stderr",
     "output_type": "stream",
     "text": [
      "<ipython-input-3-9b304879dac9>:29: MatplotlibDeprecationWarning: Adding an axes using the same arguments as a previous axes currently reuses the earlier instance.  In a future version, a new instance will always be created and returned.  Meanwhile, this warning can be suppressed, and the future behavior ensured, by passing a unique label to each axes instance.\n",
      "  ax = fig.add_subplot(111, autoscale_on=False,\n"
     ]
    },
    {
     "name": "stdout",
     "output_type": "stream",
     "text": [
      "21\n",
      "The interpolation points are stored in the variable \"EF_target_pos\": \n",
      "[[ 17.19238816   9.19238816]\n",
      " [ 14.           6.07732805]\n",
      " [  7.          -2.84091617]\n",
      " [ -7.          -2.79685995]\n",
      " [-14.           6.75741223]]\n",
      "The intermediate points are stored in the variable \"interpolated_points\"\n"
     ]
    },
    {
     "name": "stderr",
     "output_type": "stream",
     "text": [
      "<ipython-input-3-9b304879dac9>:29: MatplotlibDeprecationWarning: Adding an axes using the same arguments as a previous axes currently reuses the earlier instance.  In a future version, a new instance will always be created and returned.  Meanwhile, this warning can be suppressed, and the future behavior ensured, by passing a unique label to each axes instance.\n",
      "  ax = fig.add_subplot(111, autoscale_on=False,\n"
     ]
    },
    {
     "name": "stdout",
     "output_type": "stream",
     "text": [
      "18\n",
      "The interpolation points are stored in the variable \"EF_target_pos\": \n",
      "[[ 15.36396103   6.36396103]\n",
      " [ 12.           4.68947747]\n",
      " [  6.          -6.94010134]\n",
      " [ -6.           5.55907666]\n",
      " [-12.          -1.25570911]]\n",
      "The intermediate points are stored in the variable \"interpolated_points\"\n"
     ]
    },
    {
     "name": "stderr",
     "output_type": "stream",
     "text": [
      "<ipython-input-3-9b304879dac9>:29: MatplotlibDeprecationWarning: Adding an axes using the same arguments as a previous axes currently reuses the earlier instance.  In a future version, a new instance will always be created and returned.  Meanwhile, this warning can be suppressed, and the future behavior ensured, by passing a unique label to each axes instance.\n",
      "  ax = fig.add_subplot(111, autoscale_on=False,\n"
     ]
    },
    {
     "name": "stdout",
     "output_type": "stream",
     "text": [
      "27\n",
      "The interpolation points are stored in the variable \"EF_target_pos\": \n",
      "[[ 23.77817459   7.77817459]\n",
      " [ 18.          -0.51784326]\n",
      " [  9.         -10.85277157]\n",
      " [ -9.          18.05315919]\n",
      " [-18.          -0.5222243 ]]\n",
      "The intermediate points are stored in the variable \"interpolated_points\"\n"
     ]
    },
    {
     "name": "stderr",
     "output_type": "stream",
     "text": [
      "<ipython-input-3-9b304879dac9>:29: MatplotlibDeprecationWarning: Adding an axes using the same arguments as a previous axes currently reuses the earlier instance.  In a future version, a new instance will always be created and returned.  Meanwhile, this warning can be suppressed, and the future behavior ensured, by passing a unique label to each axes instance.\n",
      "  ax = fig.add_subplot(111, autoscale_on=False,\n"
     ]
    },
    {
     "name": "stdout",
     "output_type": "stream",
     "text": [
      "21\n",
      "The interpolation points are stored in the variable \"EF_target_pos\": \n",
      "[[ 17.77817459   7.77817459]\n",
      " [ 14.          -5.04933297]\n",
      " [  7.          -9.57976727]\n",
      " [ -7.          -2.92693256]\n",
      " [-14.          -2.80099658]]\n",
      "The intermediate points are stored in the variable \"interpolated_points\"\n"
     ]
    },
    {
     "name": "stderr",
     "output_type": "stream",
     "text": [
      "<ipython-input-3-9b304879dac9>:29: MatplotlibDeprecationWarning: Adding an axes using the same arguments as a previous axes currently reuses the earlier instance.  In a future version, a new instance will always be created and returned.  Meanwhile, this warning can be suppressed, and the future behavior ensured, by passing a unique label to each axes instance.\n",
      "  ax = fig.add_subplot(111, autoscale_on=False,\n"
     ]
    },
    {
     "name": "stdout",
     "output_type": "stream",
     "text": [
      "27\n",
      "The interpolation points are stored in the variable \"EF_target_pos\": \n",
      "[[ 22.89949494   9.89949494]\n",
      " [ 18.           8.18109337]\n",
      " [  9.          -4.77569006]\n",
      " [ -9.          -5.21447465]\n",
      " [-18.          -5.80785005]]\n",
      "The intermediate points are stored in the variable \"interpolated_points\"\n"
     ]
    },
    {
     "name": "stderr",
     "output_type": "stream",
     "text": [
      "<ipython-input-3-9b304879dac9>:29: MatplotlibDeprecationWarning: Adding an axes using the same arguments as a previous axes currently reuses the earlier instance.  In a future version, a new instance will always be created and returned.  Meanwhile, this warning can be suppressed, and the future behavior ensured, by passing a unique label to each axes instance.\n",
      "  ax = fig.add_subplot(111, autoscale_on=False,\n"
     ]
    },
    {
     "name": "stdout",
     "output_type": "stream",
     "text": [
      "24\n",
      "The interpolation points are stored in the variable \"EF_target_pos\": \n",
      "[[ 21.65685425   5.65685425]\n",
      " [ 16.           4.84499177]\n",
      " [  8.          13.77498293]\n",
      " [ -8.           5.97492734]\n",
      " [-16.           3.67370865]]\n",
      "The intermediate points are stored in the variable \"interpolated_points\"\n"
     ]
    },
    {
     "name": "stderr",
     "output_type": "stream",
     "text": [
      "<ipython-input-3-9b304879dac9>:29: MatplotlibDeprecationWarning: Adding an axes using the same arguments as a previous axes currently reuses the earlier instance.  In a future version, a new instance will always be created and returned.  Meanwhile, this warning can be suppressed, and the future behavior ensured, by passing a unique label to each axes instance.\n",
      "  ax = fig.add_subplot(111, autoscale_on=False,\n"
     ]
    },
    {
     "name": "stdout",
     "output_type": "stream",
     "text": [
      "26\n",
      "The interpolation points are stored in the variable \"EF_target_pos\": \n",
      "[[ 22.48528137   8.48528137]\n",
      " [ 17.33333333  -1.51364906]\n",
      " [  8.66666667   3.19716959]\n",
      " [ -8.66666667 -14.09771973]\n",
      " [-17.33333333   4.08562265]]\n",
      "The intermediate points are stored in the variable \"interpolated_points\"\n"
     ]
    },
    {
     "name": "stderr",
     "output_type": "stream",
     "text": [
      "<ipython-input-3-9b304879dac9>:29: MatplotlibDeprecationWarning: Adding an axes using the same arguments as a previous axes currently reuses the earlier instance.  In a future version, a new instance will always be created and returned.  Meanwhile, this warning can be suppressed, and the future behavior ensured, by passing a unique label to each axes instance.\n",
      "  ax = fig.add_subplot(111, autoscale_on=False,\n"
     ]
    },
    {
     "name": "stdout",
     "output_type": "stream",
     "text": [
      "22\n",
      "The interpolation points are stored in the variable \"EF_target_pos\": \n",
      "[[ 19.07106781   7.07106781]\n",
      " [ 14.66666667  -2.50309579]\n",
      " [  7.33333333   4.18909697]\n",
      " [ -7.33333333   5.86245362]\n",
      " [-14.66666667  -3.13204706]]\n",
      "The intermediate points are stored in the variable \"interpolated_points\"\n"
     ]
    },
    {
     "name": "stderr",
     "output_type": "stream",
     "text": [
      "<ipython-input-3-9b304879dac9>:29: MatplotlibDeprecationWarning: Adding an axes using the same arguments as a previous axes currently reuses the earlier instance.  In a future version, a new instance will always be created and returned.  Meanwhile, this warning can be suppressed, and the future behavior ensured, by passing a unique label to each axes instance.\n",
      "  ax = fig.add_subplot(111, autoscale_on=False,\n"
     ]
    },
    {
     "name": "stdout",
     "output_type": "stream",
     "text": [
      "27\n",
      "The interpolation points are stored in the variable \"EF_target_pos\": \n",
      "[[ 22.89949494   9.89949494]\n",
      " [ 18.          -4.04469164]\n",
      " [  9.           5.99711829]\n",
      " [ -9.         -14.47721274]\n",
      " [-18.          -3.42020944]]\n",
      "The intermediate points are stored in the variable \"interpolated_points\"\n"
     ]
    },
    {
     "name": "stderr",
     "output_type": "stream",
     "text": [
      "<ipython-input-3-9b304879dac9>:29: MatplotlibDeprecationWarning: Adding an axes using the same arguments as a previous axes currently reuses the earlier instance.  In a future version, a new instance will always be created and returned.  Meanwhile, this warning can be suppressed, and the future behavior ensured, by passing a unique label to each axes instance.\n",
      "  ax = fig.add_subplot(111, autoscale_on=False,\n"
     ]
    },
    {
     "name": "stdout",
     "output_type": "stream",
     "text": [
      "26\n",
      "The interpolation points are stored in the variable \"EF_target_pos\": \n",
      "[[ 21.89949494   9.89949494]\n",
      " [ 17.33333333   1.94219109]\n",
      " [  8.66666667 -11.60191321]\n",
      " [ -8.66666667  -8.87034905]\n",
      " [-17.33333333   3.66794843]]\n",
      "The intermediate points are stored in the variable \"interpolated_points\"\n"
     ]
    },
    {
     "name": "stderr",
     "output_type": "stream",
     "text": [
      "<ipython-input-3-9b304879dac9>:29: MatplotlibDeprecationWarning: Adding an axes using the same arguments as a previous axes currently reuses the earlier instance.  In a future version, a new instance will always be created and returned.  Meanwhile, this warning can be suppressed, and the future behavior ensured, by passing a unique label to each axes instance.\n",
      "  ax = fig.add_subplot(111, autoscale_on=False,\n"
     ]
    },
    {
     "name": "stdout",
     "output_type": "stream",
     "text": [
      "17\n",
      "The interpolation points are stored in the variable \"EF_target_pos\": \n",
      "[[ 14.65685425   5.65685425]\n",
      " [ 11.33333333  -4.51994823]\n",
      " [  5.66666667   2.83612117]\n",
      " [ -5.66666667   5.83359208]\n",
      " [-11.33333333   0.92085955]]\n",
      "The intermediate points are stored in the variable \"interpolated_points\"\n"
     ]
    },
    {
     "name": "stderr",
     "output_type": "stream",
     "text": [
      "<ipython-input-3-9b304879dac9>:29: MatplotlibDeprecationWarning: Adding an axes using the same arguments as a previous axes currently reuses the earlier instance.  In a future version, a new instance will always be created and returned.  Meanwhile, this warning can be suppressed, and the future behavior ensured, by passing a unique label to each axes instance.\n",
      "  ax = fig.add_subplot(111, autoscale_on=False,\n"
     ]
    },
    {
     "name": "stdout",
     "output_type": "stream",
     "text": [
      "26\n",
      "The interpolation points are stored in the variable \"EF_target_pos\": \n",
      "[[ 22.48528137   8.48528137]\n",
      " [ 17.33333333   1.72594993]\n",
      " [  8.66666667 -15.85385386]\n",
      " [ -8.66666667  -6.83014611]\n",
      " [-17.33333333   3.60131327]]\n",
      "The intermediate points are stored in the variable \"interpolated_points\"\n"
     ]
    },
    {
     "name": "stderr",
     "output_type": "stream",
     "text": [
      "<ipython-input-3-9b304879dac9>:29: MatplotlibDeprecationWarning: Adding an axes using the same arguments as a previous axes currently reuses the earlier instance.  In a future version, a new instance will always be created and returned.  Meanwhile, this warning can be suppressed, and the future behavior ensured, by passing a unique label to each axes instance.\n",
      "  ax = fig.add_subplot(111, autoscale_on=False,\n"
     ]
    },
    {
     "name": "stdout",
     "output_type": "stream",
     "text": [
      "24\n",
      "The interpolation points are stored in the variable \"EF_target_pos\": \n",
      "[[ 20.48528137   8.48528137]\n",
      " [ 16.           1.65438866]\n",
      " [  8.          -1.13578508]\n",
      " [ -8.           0.06184129]\n",
      " [-16.          -0.57037822]]\n",
      "The intermediate points are stored in the variable \"interpolated_points\"\n"
     ]
    },
    {
     "name": "stderr",
     "output_type": "stream",
     "text": [
      "<ipython-input-3-9b304879dac9>:29: MatplotlibDeprecationWarning: Adding an axes using the same arguments as a previous axes currently reuses the earlier instance.  In a future version, a new instance will always be created and returned.  Meanwhile, this warning can be suppressed, and the future behavior ensured, by passing a unique label to each axes instance.\n",
      "  ax = fig.add_subplot(111, autoscale_on=False,\n"
     ]
    },
    {
     "name": "stdout",
     "output_type": "stream",
     "text": [
      "29\n",
      "The interpolation points are stored in the variable \"EF_target_pos\": \n",
      "[[ 24.60660172  10.60660172]\n",
      " [ 19.33333333   0.13631552]\n",
      " [  9.66666667  17.97192211]\n",
      " [ -9.66666667  18.83835117]\n",
      " [-19.33333333  -0.55563039]]\n",
      "The intermediate points are stored in the variable \"interpolated_points\"\n"
     ]
    },
    {
     "name": "stderr",
     "output_type": "stream",
     "text": [
      "<ipython-input-3-9b304879dac9>:29: MatplotlibDeprecationWarning: Adding an axes using the same arguments as a previous axes currently reuses the earlier instance.  In a future version, a new instance will always be created and returned.  Meanwhile, this warning can be suppressed, and the future behavior ensured, by passing a unique label to each axes instance.\n",
      "  ax = fig.add_subplot(111, autoscale_on=False,\n"
     ]
    },
    {
     "name": "stdout",
     "output_type": "stream",
     "text": [
      "24\n",
      "The interpolation points are stored in the variable \"EF_target_pos\": \n",
      "[[ 20.77817459   7.77817459]\n",
      " [ 16.           6.5194167 ]\n",
      " [  8.         -14.26930369]\n",
      " [ -8.           6.82287537]\n",
      " [-16.          -3.88601686]]\n",
      "The intermediate points are stored in the variable \"interpolated_points\"\n"
     ]
    },
    {
     "name": "stderr",
     "output_type": "stream",
     "text": [
      "<ipython-input-3-9b304879dac9>:29: MatplotlibDeprecationWarning: Adding an axes using the same arguments as a previous axes currently reuses the earlier instance.  In a future version, a new instance will always be created and returned.  Meanwhile, this warning can be suppressed, and the future behavior ensured, by passing a unique label to each axes instance.\n",
      "  ax = fig.add_subplot(111, autoscale_on=False,\n"
     ]
    },
    {
     "name": "stdout",
     "output_type": "stream",
     "text": [
      "21\n",
      "The interpolation points are stored in the variable \"EF_target_pos\": \n",
      "[[ 18.65685425   5.65685425]\n",
      " [ 14.           0.13276419]\n",
      " [  7.         -11.15906263]\n",
      " [ -7.           6.45191786]\n",
      " [-14.          -3.38153604]]\n",
      "The intermediate points are stored in the variable \"interpolated_points\"\n"
     ]
    },
    {
     "name": "stderr",
     "output_type": "stream",
     "text": [
      "<ipython-input-3-9b304879dac9>:29: MatplotlibDeprecationWarning: Adding an axes using the same arguments as a previous axes currently reuses the earlier instance.  In a future version, a new instance will always be created and returned.  Meanwhile, this warning can be suppressed, and the future behavior ensured, by passing a unique label to each axes instance.\n",
      "  ax = fig.add_subplot(111, autoscale_on=False,\n"
     ]
    },
    {
     "name": "stdout",
     "output_type": "stream",
     "text": [
      "20\n",
      "The interpolation points are stored in the variable \"EF_target_pos\": \n",
      "[[ 17.36396103   6.36396103]\n",
      " [ 13.33333333   1.81060641]\n",
      " [  6.66666667  12.49395855]\n",
      " [ -6.66666667 -12.24273838]\n",
      " [-13.33333333   4.91707213]]\n",
      "The intermediate points are stored in the variable \"interpolated_points\"\n"
     ]
    },
    {
     "name": "stderr",
     "output_type": "stream",
     "text": [
      "<ipython-input-3-9b304879dac9>:29: MatplotlibDeprecationWarning: Adding an axes using the same arguments as a previous axes currently reuses the earlier instance.  In a future version, a new instance will always be created and returned.  Meanwhile, this warning can be suppressed, and the future behavior ensured, by passing a unique label to each axes instance.\n",
      "  ax = fig.add_subplot(111, autoscale_on=False,\n"
     ]
    },
    {
     "name": "stdout",
     "output_type": "stream",
     "text": [
      "25\n",
      "The interpolation points are stored in the variable \"EF_target_pos\": \n",
      "[[ 22.07106781   7.07106781]\n",
      " [ 16.66666667  -4.59531412]\n",
      " [  8.33333333   5.93636255]\n",
      " [ -8.33333333  -4.01995474]\n",
      " [-16.66666667   2.20939803]]\n",
      "The intermediate points are stored in the variable \"interpolated_points\"\n"
     ]
    },
    {
     "name": "stderr",
     "output_type": "stream",
     "text": [
      "<ipython-input-3-9b304879dac9>:29: MatplotlibDeprecationWarning: Adding an axes using the same arguments as a previous axes currently reuses the earlier instance.  In a future version, a new instance will always be created and returned.  Meanwhile, this warning can be suppressed, and the future behavior ensured, by passing a unique label to each axes instance.\n",
      "  ax = fig.add_subplot(111, autoscale_on=False,\n"
     ]
    },
    {
     "name": "stdout",
     "output_type": "stream",
     "text": [
      "20\n",
      "The interpolation points are stored in the variable \"EF_target_pos\": \n",
      "[[ 17.65685425   5.65685425]\n",
      " [ 13.33333333   2.08048546]\n",
      " [  6.66666667 -13.36982474]\n",
      " [ -6.66666667   1.27311055]\n",
      " [-13.33333333   5.26851538]]\n",
      "The intermediate points are stored in the variable \"interpolated_points\"\n"
     ]
    },
    {
     "name": "stderr",
     "output_type": "stream",
     "text": [
      "<ipython-input-3-9b304879dac9>:29: MatplotlibDeprecationWarning: Adding an axes using the same arguments as a previous axes currently reuses the earlier instance.  In a future version, a new instance will always be created and returned.  Meanwhile, this warning can be suppressed, and the future behavior ensured, by passing a unique label to each axes instance.\n",
      "  ax = fig.add_subplot(111, autoscale_on=False,\n"
     ]
    },
    {
     "name": "stdout",
     "output_type": "stream",
     "text": [
      "23\n",
      "The interpolation points are stored in the variable \"EF_target_pos\": \n",
      "[[ 19.77817459   7.77817459]\n",
      " [ 15.33333333   7.45027257]\n",
      " [  7.66666667   5.86739816]\n",
      " [ -7.66666667   9.25317363]\n",
      " [-15.33333333  -5.0795249 ]]\n",
      "The intermediate points are stored in the variable \"interpolated_points\"\n"
     ]
    },
    {
     "name": "stderr",
     "output_type": "stream",
     "text": [
      "<ipython-input-3-9b304879dac9>:29: MatplotlibDeprecationWarning: Adding an axes using the same arguments as a previous axes currently reuses the earlier instance.  In a future version, a new instance will always be created and returned.  Meanwhile, this warning can be suppressed, and the future behavior ensured, by passing a unique label to each axes instance.\n",
      "  ax = fig.add_subplot(111, autoscale_on=False,\n"
     ]
    },
    {
     "name": "stdout",
     "output_type": "stream",
     "text": [
      "23\n",
      "The interpolation points are stored in the variable \"EF_target_pos\": \n",
      "[[ 19.77817459   7.77817459]\n",
      " [ 15.33333333  -0.41878589]\n",
      " [  7.66666667  -7.78443371]\n",
      " [ -7.66666667   5.25899766]\n",
      " [-15.33333333  -4.4695895 ]]\n",
      "The intermediate points are stored in the variable \"interpolated_points\"\n"
     ]
    },
    {
     "name": "stderr",
     "output_type": "stream",
     "text": [
      "<ipython-input-3-9b304879dac9>:29: MatplotlibDeprecationWarning: Adding an axes using the same arguments as a previous axes currently reuses the earlier instance.  In a future version, a new instance will always be created and returned.  Meanwhile, this warning can be suppressed, and the future behavior ensured, by passing a unique label to each axes instance.\n",
      "  ax = fig.add_subplot(111, autoscale_on=False,\n"
     ]
    },
    {
     "name": "stdout",
     "output_type": "stream",
     "text": [
      "23\n",
      "The interpolation points are stored in the variable \"EF_target_pos\": \n",
      "[[ 19.77817459   7.77817459]\n",
      " [ 15.33333333   2.74287762]\n",
      " [  7.66666667 -10.12575514]\n",
      " [ -7.66666667  15.14898771]\n",
      " [-15.33333333   3.43611497]]\n",
      "The intermediate points are stored in the variable \"interpolated_points\"\n"
     ]
    },
    {
     "name": "stderr",
     "output_type": "stream",
     "text": [
      "<ipython-input-3-9b304879dac9>:29: MatplotlibDeprecationWarning: Adding an axes using the same arguments as a previous axes currently reuses the earlier instance.  In a future version, a new instance will always be created and returned.  Meanwhile, this warning can be suppressed, and the future behavior ensured, by passing a unique label to each axes instance.\n",
      "  ax = fig.add_subplot(111, autoscale_on=False,\n"
     ]
    },
    {
     "name": "stdout",
     "output_type": "stream",
     "text": [
      "19\n",
      "The interpolation points are stored in the variable \"EF_target_pos\": \n",
      "[[ 15.77817459   7.77817459]\n",
      " [ 12.66666667  -0.7549899 ]\n",
      " [  6.33333333 -10.58944762]\n",
      " [ -6.33333333  -2.56522466]\n",
      " [-12.66666667  -0.71241029]]\n",
      "The intermediate points are stored in the variable \"interpolated_points\"\n"
     ]
    },
    {
     "name": "stderr",
     "output_type": "stream",
     "text": [
      "<ipython-input-3-9b304879dac9>:29: MatplotlibDeprecationWarning: Adding an axes using the same arguments as a previous axes currently reuses the earlier instance.  In a future version, a new instance will always be created and returned.  Meanwhile, this warning can be suppressed, and the future behavior ensured, by passing a unique label to each axes instance.\n",
      "  ax = fig.add_subplot(111, autoscale_on=False,\n"
     ]
    },
    {
     "name": "stdout",
     "output_type": "stream",
     "text": [
      "28\n",
      "The interpolation points are stored in the variable \"EF_target_pos\": \n",
      "[[ 24.48528137   8.48528137]\n",
      " [ 18.66666667  -1.13136974]\n",
      " [  9.33333333  -1.30403776]\n",
      " [ -9.33333333  -6.69037551]\n",
      " [-18.66666667  -6.28984149]]\n",
      "The intermediate points are stored in the variable \"interpolated_points\"\n"
     ]
    },
    {
     "name": "stderr",
     "output_type": "stream",
     "text": [
      "<ipython-input-3-9b304879dac9>:29: MatplotlibDeprecationWarning: Adding an axes using the same arguments as a previous axes currently reuses the earlier instance.  In a future version, a new instance will always be created and returned.  Meanwhile, this warning can be suppressed, and the future behavior ensured, by passing a unique label to each axes instance.\n",
      "  ax = fig.add_subplot(111, autoscale_on=False,\n"
     ]
    },
    {
     "name": "stdout",
     "output_type": "stream",
     "text": [
      "32\n",
      "The interpolation points are stored in the variable \"EF_target_pos\": \n",
      "[[ 27.3137085   11.3137085 ]\n",
      " [ 21.33333333   5.65517114]\n",
      " [ 10.66666667  10.25941117]\n",
      " [-10.66666667 -12.57998058]\n",
      " [-21.33333333  -3.31396979]]\n",
      "The intermediate points are stored in the variable \"interpolated_points\"\n"
     ]
    },
    {
     "name": "stderr",
     "output_type": "stream",
     "text": [
      "<ipython-input-3-9b304879dac9>:29: MatplotlibDeprecationWarning: Adding an axes using the same arguments as a previous axes currently reuses the earlier instance.  In a future version, a new instance will always be created and returned.  Meanwhile, this warning can be suppressed, and the future behavior ensured, by passing a unique label to each axes instance.\n",
      "  ax = fig.add_subplot(111, autoscale_on=False,\n"
     ]
    },
    {
     "name": "stdout",
     "output_type": "stream",
     "text": [
      "29\n",
      "The interpolation points are stored in the variable \"EF_target_pos\": \n",
      "[[ 25.19238816   9.19238816]\n",
      " [ 19.33333333   4.21839339]\n",
      " [  9.66666667  -9.98005354]\n",
      " [ -9.66666667  15.37224143]\n",
      " [-19.33333333   4.07766127]]\n",
      "The intermediate points are stored in the variable \"interpolated_points\"\n"
     ]
    },
    {
     "name": "stderr",
     "output_type": "stream",
     "text": [
      "<ipython-input-3-9b304879dac9>:29: MatplotlibDeprecationWarning: Adding an axes using the same arguments as a previous axes currently reuses the earlier instance.  In a future version, a new instance will always be created and returned.  Meanwhile, this warning can be suppressed, and the future behavior ensured, by passing a unique label to each axes instance.\n",
      "  ax = fig.add_subplot(111, autoscale_on=False,\n"
     ]
    },
    {
     "name": "stdout",
     "output_type": "stream",
     "text": [
      "27\n",
      "The interpolation points are stored in the variable \"EF_target_pos\": \n",
      "[[ 22.60660172  10.60660172]\n",
      " [ 18.          -3.72811379]\n",
      " [  9.          13.33247886]\n",
      " [ -9.           4.41621637]\n",
      " [-18.          -5.64315829]]\n",
      "The intermediate points are stored in the variable \"interpolated_points\"\n"
     ]
    },
    {
     "name": "stderr",
     "output_type": "stream",
     "text": [
      "<ipython-input-3-9b304879dac9>:29: MatplotlibDeprecationWarning: Adding an axes using the same arguments as a previous axes currently reuses the earlier instance.  In a future version, a new instance will always be created and returned.  Meanwhile, this warning can be suppressed, and the future behavior ensured, by passing a unique label to each axes instance.\n",
      "  ax = fig.add_subplot(111, autoscale_on=False,\n"
     ]
    },
    {
     "name": "stdout",
     "output_type": "stream",
     "text": [
      "27\n",
      "The interpolation points are stored in the variable \"EF_target_pos\": \n",
      "[[ 23.48528137   8.48528137]\n",
      " [ 18.           1.66897001]\n",
      " [  9.          16.53843999]\n",
      " [ -9.          -9.69144758]\n",
      " [-18.           4.93118184]]\n",
      "The intermediate points are stored in the variable \"interpolated_points\"\n"
     ]
    },
    {
     "name": "stderr",
     "output_type": "stream",
     "text": [
      "<ipython-input-3-9b304879dac9>:29: MatplotlibDeprecationWarning: Adding an axes using the same arguments as a previous axes currently reuses the earlier instance.  In a future version, a new instance will always be created and returned.  Meanwhile, this warning can be suppressed, and the future behavior ensured, by passing a unique label to each axes instance.\n",
      "  ax = fig.add_subplot(111, autoscale_on=False,\n"
     ]
    },
    {
     "name": "stdout",
     "output_type": "stream",
     "text": [
      "23\n",
      "The interpolation points are stored in the variable \"EF_target_pos\": \n",
      "[[ 19.48528137   8.48528137]\n",
      " [ 15.33333333   2.60432113]\n",
      " [  7.66666667 -15.18802542]\n",
      " [ -7.66666667  -5.44702136]\n",
      " [-15.33333333   2.51763414]]\n",
      "The intermediate points are stored in the variable \"interpolated_points\"\n"
     ]
    },
    {
     "name": "stderr",
     "output_type": "stream",
     "text": [
      "<ipython-input-3-9b304879dac9>:29: MatplotlibDeprecationWarning: Adding an axes using the same arguments as a previous axes currently reuses the earlier instance.  In a future version, a new instance will always be created and returned.  Meanwhile, this warning can be suppressed, and the future behavior ensured, by passing a unique label to each axes instance.\n",
      "  ax = fig.add_subplot(111, autoscale_on=False,\n"
     ]
    },
    {
     "name": "stdout",
     "output_type": "stream",
     "text": [
      "26\n",
      "The interpolation points are stored in the variable \"EF_target_pos\": \n",
      "[[ 22.19238816   9.19238816]\n",
      " [ 17.33333333   3.60823752]\n",
      " [  8.66666667  -7.76634159]\n",
      " [ -8.66666667  -8.99967777]\n",
      " [-17.33333333   5.56906901]]\n",
      "The intermediate points are stored in the variable \"interpolated_points\"\n"
     ]
    },
    {
     "name": "stderr",
     "output_type": "stream",
     "text": [
      "<ipython-input-3-9b304879dac9>:29: MatplotlibDeprecationWarning: Adding an axes using the same arguments as a previous axes currently reuses the earlier instance.  In a future version, a new instance will always be created and returned.  Meanwhile, this warning can be suppressed, and the future behavior ensured, by passing a unique label to each axes instance.\n",
      "  ax = fig.add_subplot(111, autoscale_on=False,\n"
     ]
    },
    {
     "name": "stdout",
     "output_type": "stream",
     "text": [
      "26\n",
      "The interpolation points are stored in the variable \"EF_target_pos\": \n",
      "[[ 21.89949494   9.89949494]\n",
      " [ 17.33333333  -2.71356113]\n",
      " [  8.66666667  16.50015857]\n",
      " [ -8.66666667   3.68367885]\n",
      " [-17.33333333   5.56910476]]\n",
      "The intermediate points are stored in the variable \"interpolated_points\"\n"
     ]
    },
    {
     "name": "stderr",
     "output_type": "stream",
     "text": [
      "<ipython-input-3-9b304879dac9>:29: MatplotlibDeprecationWarning: Adding an axes using the same arguments as a previous axes currently reuses the earlier instance.  In a future version, a new instance will always be created and returned.  Meanwhile, this warning can be suppressed, and the future behavior ensured, by passing a unique label to each axes instance.\n",
      "  ax = fig.add_subplot(111, autoscale_on=False,\n"
     ]
    },
    {
     "name": "stdout",
     "output_type": "stream",
     "text": [
      "28\n",
      "The interpolation points are stored in the variable \"EF_target_pos\": \n",
      "[[ 24.19238816   9.19238816]\n",
      " [ 18.66666667   5.73698536]\n",
      " [  9.33333333  -0.81320367]\n",
      " [ -9.33333333 -14.18007532]\n",
      " [-18.66666667  -6.60706708]]\n",
      "The intermediate points are stored in the variable \"interpolated_points\"\n"
     ]
    },
    {
     "name": "stderr",
     "output_type": "stream",
     "text": [
      "<ipython-input-3-9b304879dac9>:29: MatplotlibDeprecationWarning: Adding an axes using the same arguments as a previous axes currently reuses the earlier instance.  In a future version, a new instance will always be created and returned.  Meanwhile, this warning can be suppressed, and the future behavior ensured, by passing a unique label to each axes instance.\n",
      "  ax = fig.add_subplot(111, autoscale_on=False,\n"
     ]
    },
    {
     "name": "stdout",
     "output_type": "stream",
     "text": [
      "25\n",
      "The interpolation points are stored in the variable \"EF_target_pos\": \n",
      "[[ 22.36396103   6.36396103]\n",
      " [ 16.66666667   2.96486221]\n",
      " [  8.33333333   6.50602279]\n",
      " [ -8.33333333   3.35142484]\n",
      " [-16.66666667  -1.16791747]]\n",
      "The intermediate points are stored in the variable \"interpolated_points\"\n"
     ]
    },
    {
     "name": "stderr",
     "output_type": "stream",
     "text": [
      "<ipython-input-3-9b304879dac9>:29: MatplotlibDeprecationWarning: Adding an axes using the same arguments as a previous axes currently reuses the earlier instance.  In a future version, a new instance will always be created and returned.  Meanwhile, this warning can be suppressed, and the future behavior ensured, by passing a unique label to each axes instance.\n",
      "  ax = fig.add_subplot(111, autoscale_on=False,\n"
     ]
    },
    {
     "name": "stdout",
     "output_type": "stream",
     "text": [
      "24\n",
      "The interpolation points are stored in the variable \"EF_target_pos\": \n",
      "[[ 20.77817459   7.77817459]\n",
      " [ 16.           7.17386169]\n",
      " [  8.          15.71870098]\n",
      " [ -8.           5.56243048]\n",
      " [-16.           4.04772653]]\n",
      "The intermediate points are stored in the variable \"interpolated_points\"\n"
     ]
    },
    {
     "name": "stderr",
     "output_type": "stream",
     "text": [
      "<ipython-input-3-9b304879dac9>:29: MatplotlibDeprecationWarning: Adding an axes using the same arguments as a previous axes currently reuses the earlier instance.  In a future version, a new instance will always be created and returned.  Meanwhile, this warning can be suppressed, and the future behavior ensured, by passing a unique label to each axes instance.\n",
      "  ax = fig.add_subplot(111, autoscale_on=False,\n"
     ]
    },
    {
     "name": "stdout",
     "output_type": "stream",
     "text": [
      "27\n",
      "The interpolation points are stored in the variable \"EF_target_pos\": \n",
      "[[ 22.60660172  10.60660172]\n",
      " [ 18.          -1.9230995 ]\n",
      " [  9.          13.69102419]\n",
      " [ -9.          -4.55780508]\n",
      " [-18.          -3.20680675]]\n",
      "The intermediate points are stored in the variable \"interpolated_points\"\n"
     ]
    },
    {
     "name": "stderr",
     "output_type": "stream",
     "text": [
      "<ipython-input-3-9b304879dac9>:29: MatplotlibDeprecationWarning: Adding an axes using the same arguments as a previous axes currently reuses the earlier instance.  In a future version, a new instance will always be created and returned.  Meanwhile, this warning can be suppressed, and the future behavior ensured, by passing a unique label to each axes instance.\n",
      "  ax = fig.add_subplot(111, autoscale_on=False,\n"
     ]
    },
    {
     "name": "stdout",
     "output_type": "stream",
     "text": [
      "29\n",
      "The interpolation points are stored in the variable \"EF_target_pos\": \n",
      "[[ 24.89949494   9.89949494]\n",
      " [ 19.33333333   7.04983608]\n",
      " [  9.66666667  -2.35163394]\n",
      " [ -9.66666667   6.00324978]\n",
      " [-19.33333333   4.76030753]]\n",
      "The intermediate points are stored in the variable \"interpolated_points\"\n"
     ]
    },
    {
     "name": "stderr",
     "output_type": "stream",
     "text": [
      "<ipython-input-3-9b304879dac9>:29: MatplotlibDeprecationWarning: Adding an axes using the same arguments as a previous axes currently reuses the earlier instance.  In a future version, a new instance will always be created and returned.  Meanwhile, this warning can be suppressed, and the future behavior ensured, by passing a unique label to each axes instance.\n",
      "  ax = fig.add_subplot(111, autoscale_on=False,\n"
     ]
    },
    {
     "name": "stdout",
     "output_type": "stream",
     "text": [
      "25\n",
      "The interpolation points are stored in the variable \"EF_target_pos\": \n",
      "[[ 21.19238816   9.19238816]\n",
      " [ 16.66666667  -6.60890054]\n",
      " [  8.33333333  12.05045193]\n",
      " [ -8.33333333 -16.25433677]\n",
      " [-16.66666667  -1.90341361]]\n",
      "The intermediate points are stored in the variable \"interpolated_points\"\n"
     ]
    },
    {
     "name": "stderr",
     "output_type": "stream",
     "text": [
      "<ipython-input-3-9b304879dac9>:29: MatplotlibDeprecationWarning: Adding an axes using the same arguments as a previous axes currently reuses the earlier instance.  In a future version, a new instance will always be created and returned.  Meanwhile, this warning can be suppressed, and the future behavior ensured, by passing a unique label to each axes instance.\n",
      "  ax = fig.add_subplot(111, autoscale_on=False,\n"
     ]
    },
    {
     "name": "stdout",
     "output_type": "stream",
     "text": [
      "26\n",
      "The interpolation points are stored in the variable \"EF_target_pos\": \n",
      "[[ 21.3137085   11.3137085 ]\n",
      " [ 17.33333333  -7.5028619 ]\n",
      " [  8.66666667  -5.66073844]\n",
      " [ -8.66666667   1.14907607]\n",
      " [-17.33333333  -1.04102164]]\n",
      "The intermediate points are stored in the variable \"interpolated_points\"\n"
     ]
    },
    {
     "name": "stderr",
     "output_type": "stream",
     "text": [
      "<ipython-input-3-9b304879dac9>:29: MatplotlibDeprecationWarning: Adding an axes using the same arguments as a previous axes currently reuses the earlier instance.  In a future version, a new instance will always be created and returned.  Meanwhile, this warning can be suppressed, and the future behavior ensured, by passing a unique label to each axes instance.\n",
      "  ax = fig.add_subplot(111, autoscale_on=False,\n"
     ]
    },
    {
     "name": "stdout",
     "output_type": "stream",
     "text": [
      "28\n",
      "The interpolation points are stored in the variable \"EF_target_pos\": \n",
      "[[ 24.48528137   8.48528137]\n",
      " [ 18.66666667   5.50701864]\n",
      " [  9.33333333 -11.10917758]\n",
      " [ -9.33333333  17.96966408]\n",
      " [-18.66666667   8.04465585]]\n",
      "The intermediate points are stored in the variable \"interpolated_points\"\n"
     ]
    },
    {
     "name": "stderr",
     "output_type": "stream",
     "text": [
      "<ipython-input-3-9b304879dac9>:29: MatplotlibDeprecationWarning: Adding an axes using the same arguments as a previous axes currently reuses the earlier instance.  In a future version, a new instance will always be created and returned.  Meanwhile, this warning can be suppressed, and the future behavior ensured, by passing a unique label to each axes instance.\n",
      "  ax = fig.add_subplot(111, autoscale_on=False,\n"
     ]
    },
    {
     "name": "stdout",
     "output_type": "stream",
     "text": [
      "25\n",
      "The interpolation points are stored in the variable \"EF_target_pos\": \n",
      "[[ 20.89949494   9.89949494]\n",
      " [ 16.66666667   6.70929907]\n",
      " [  8.33333333  13.99760313]\n",
      " [ -8.33333333 -10.47172063]\n",
      " [-16.66666667  -2.05929971]]\n",
      "The intermediate points are stored in the variable \"interpolated_points\"\n"
     ]
    },
    {
     "name": "stderr",
     "output_type": "stream",
     "text": [
      "<ipython-input-3-9b304879dac9>:29: MatplotlibDeprecationWarning: Adding an axes using the same arguments as a previous axes currently reuses the earlier instance.  In a future version, a new instance will always be created and returned.  Meanwhile, this warning can be suppressed, and the future behavior ensured, by passing a unique label to each axes instance.\n",
      "  ax = fig.add_subplot(111, autoscale_on=False,\n"
     ]
    },
    {
     "name": "stdout",
     "output_type": "stream",
     "text": [
      "21\n",
      "The interpolation points are stored in the variable \"EF_target_pos\": \n",
      "[[ 17.77817459   7.77817459]\n",
      " [ 14.           6.81191723]\n",
      " [  7.           2.80385543]\n",
      " [ -7.           8.92790214]\n",
      " [-14.           0.9906525 ]]\n",
      "The intermediate points are stored in the variable \"interpolated_points\"\n"
     ]
    },
    {
     "name": "stderr",
     "output_type": "stream",
     "text": [
      "<ipython-input-3-9b304879dac9>:29: MatplotlibDeprecationWarning: Adding an axes using the same arguments as a previous axes currently reuses the earlier instance.  In a future version, a new instance will always be created and returned.  Meanwhile, this warning can be suppressed, and the future behavior ensured, by passing a unique label to each axes instance.\n",
      "  ax = fig.add_subplot(111, autoscale_on=False,\n"
     ]
    },
    {
     "name": "stdout",
     "output_type": "stream",
     "text": [
      "29\n",
      "The interpolation points are stored in the variable \"EF_target_pos\": \n",
      "[[ 24.60660172  10.60660172]\n",
      " [ 19.33333333  -9.53160844]\n",
      " [  9.66666667   7.06741432]\n",
      " [ -9.66666667  -9.22880089]\n",
      " [-19.33333333   1.75458591]]\n",
      "The intermediate points are stored in the variable \"interpolated_points\"\n"
     ]
    },
    {
     "name": "stderr",
     "output_type": "stream",
     "text": [
      "<ipython-input-3-9b304879dac9>:29: MatplotlibDeprecationWarning: Adding an axes using the same arguments as a previous axes currently reuses the earlier instance.  In a future version, a new instance will always be created and returned.  Meanwhile, this warning can be suppressed, and the future behavior ensured, by passing a unique label to each axes instance.\n",
      "  ax = fig.add_subplot(111, autoscale_on=False,\n"
     ]
    },
    {
     "name": "stdout",
     "output_type": "stream",
     "text": [
      "25\n",
      "The interpolation points are stored in the variable \"EF_target_pos\": \n",
      "[[ 20.3137085   11.3137085 ]\n",
      " [ 16.66666667  -2.31064777]\n",
      " [  8.33333333  -3.00093803]\n",
      " [ -8.33333333   5.43969247]\n",
      " [-16.66666667   6.57147888]]\n",
      "The intermediate points are stored in the variable \"interpolated_points\"\n"
     ]
    },
    {
     "name": "stderr",
     "output_type": "stream",
     "text": [
      "<ipython-input-3-9b304879dac9>:29: MatplotlibDeprecationWarning: Adding an axes using the same arguments as a previous axes currently reuses the earlier instance.  In a future version, a new instance will always be created and returned.  Meanwhile, this warning can be suppressed, and the future behavior ensured, by passing a unique label to each axes instance.\n",
      "  ax = fig.add_subplot(111, autoscale_on=False,\n"
     ]
    },
    {
     "name": "stdout",
     "output_type": "stream",
     "text": [
      "23\n",
      "The interpolation points are stored in the variable \"EF_target_pos\": \n",
      "[[ 19.19238816   9.19238816]\n",
      " [ 15.33333333   1.92570638]\n",
      " [  7.66666667  11.05024393]\n",
      " [ -7.66666667 -12.86330959]\n",
      " [-15.33333333   1.38740893]]\n",
      "The intermediate points are stored in the variable \"interpolated_points\"\n"
     ]
    },
    {
     "name": "stderr",
     "output_type": "stream",
     "text": [
      "<ipython-input-3-9b304879dac9>:29: MatplotlibDeprecationWarning: Adding an axes using the same arguments as a previous axes currently reuses the earlier instance.  In a future version, a new instance will always be created and returned.  Meanwhile, this warning can be suppressed, and the future behavior ensured, by passing a unique label to each axes instance.\n",
      "  ax = fig.add_subplot(111, autoscale_on=False,\n"
     ]
    },
    {
     "name": "stdout",
     "output_type": "stream",
     "text": [
      "28\n",
      "The interpolation points are stored in the variable \"EF_target_pos\": \n",
      "[[ 23.89949494   9.89949494]\n",
      " [ 18.66666667   2.87606453]\n",
      " [  9.33333333 -15.07205092]\n",
      " [ -9.33333333  -8.43396273]\n",
      " [-18.66666667  -5.47189627]]\n",
      "The intermediate points are stored in the variable \"interpolated_points\"\n"
     ]
    },
    {
     "name": "stderr",
     "output_type": "stream",
     "text": [
      "<ipython-input-3-9b304879dac9>:29: MatplotlibDeprecationWarning: Adding an axes using the same arguments as a previous axes currently reuses the earlier instance.  In a future version, a new instance will always be created and returned.  Meanwhile, this warning can be suppressed, and the future behavior ensured, by passing a unique label to each axes instance.\n",
      "  ax = fig.add_subplot(111, autoscale_on=False,\n"
     ]
    },
    {
     "name": "stdout",
     "output_type": "stream",
     "text": [
      "26\n",
      "The interpolation points are stored in the variable \"EF_target_pos\": \n",
      "[[ 22.77817459   7.77817459]\n",
      " [ 17.33333333   2.44527054]\n",
      " [  8.66666667  10.28914713]\n",
      " [ -8.66666667 -16.79630806]\n",
      " [-17.33333333  -5.56575465]]\n",
      "The intermediate points are stored in the variable \"interpolated_points\"\n"
     ]
    },
    {
     "name": "stderr",
     "output_type": "stream",
     "text": [
      "<ipython-input-3-9b304879dac9>:29: MatplotlibDeprecationWarning: Adding an axes using the same arguments as a previous axes currently reuses the earlier instance.  In a future version, a new instance will always be created and returned.  Meanwhile, this warning can be suppressed, and the future behavior ensured, by passing a unique label to each axes instance.\n",
      "  ax = fig.add_subplot(111, autoscale_on=False,\n"
     ]
    },
    {
     "name": "stdout",
     "output_type": "stream",
     "text": [
      "19\n",
      "The interpolation points are stored in the variable \"EF_target_pos\": \n",
      "[[ 16.07106781   7.07106781]\n",
      " [ 12.66666667   2.31916911]\n",
      " [  6.33333333   0.21396648]\n",
      " [ -6.33333333   7.70857729]\n",
      " [-12.66666667   4.87564464]]\n",
      "The intermediate points are stored in the variable \"interpolated_points\"\n"
     ]
    },
    {
     "name": "stderr",
     "output_type": "stream",
     "text": [
      "<ipython-input-3-9b304879dac9>:29: MatplotlibDeprecationWarning: Adding an axes using the same arguments as a previous axes currently reuses the earlier instance.  In a future version, a new instance will always be created and returned.  Meanwhile, this warning can be suppressed, and the future behavior ensured, by passing a unique label to each axes instance.\n",
      "  ax = fig.add_subplot(111, autoscale_on=False,\n"
     ]
    },
    {
     "name": "stdout",
     "output_type": "stream",
     "text": [
      "22\n",
      "The interpolation points are stored in the variable \"EF_target_pos\": \n",
      "[[ 18.77817459   7.77817459]\n",
      " [ 14.66666667  -7.49878812]\n",
      " [  7.33333333   7.23497746]\n",
      " [ -7.33333333   7.75857069]\n",
      " [-14.66666667   4.54343349]]\n",
      "The intermediate points are stored in the variable \"interpolated_points\"\n"
     ]
    },
    {
     "name": "stderr",
     "output_type": "stream",
     "text": [
      "<ipython-input-3-9b304879dac9>:29: MatplotlibDeprecationWarning: Adding an axes using the same arguments as a previous axes currently reuses the earlier instance.  In a future version, a new instance will always be created and returned.  Meanwhile, this warning can be suppressed, and the future behavior ensured, by passing a unique label to each axes instance.\n",
      "  ax = fig.add_subplot(111, autoscale_on=False,\n"
     ]
    },
    {
     "name": "stdout",
     "output_type": "stream",
     "text": [
      "28\n",
      "The interpolation points are stored in the variable \"EF_target_pos\": \n",
      "[[ 24.48528137   8.48528137]\n",
      " [ 18.66666667   6.20627813]\n",
      " [  9.33333333  -9.16156363]\n",
      " [ -9.33333333  13.77343063]\n",
      " [-18.66666667  -8.93991492]]\n",
      "The intermediate points are stored in the variable \"interpolated_points\"\n"
     ]
    },
    {
     "name": "stderr",
     "output_type": "stream",
     "text": [
      "<ipython-input-3-9b304879dac9>:29: MatplotlibDeprecationWarning: Adding an axes using the same arguments as a previous axes currently reuses the earlier instance.  In a future version, a new instance will always be created and returned.  Meanwhile, this warning can be suppressed, and the future behavior ensured, by passing a unique label to each axes instance.\n",
      "  ax = fig.add_subplot(111, autoscale_on=False,\n"
     ]
    },
    {
     "name": "stdout",
     "output_type": "stream",
     "text": [
      "25\n",
      "The interpolation points are stored in the variable \"EF_target_pos\": \n",
      "[[ 21.48528137   8.48528137]\n",
      " [ 16.66666667  -0.13439507]\n",
      " [  8.33333333   4.50795343]\n",
      " [ -8.33333333 -15.11707601]\n",
      " [-16.66666667   3.16750384]]\n",
      "The intermediate points are stored in the variable \"interpolated_points\"\n"
     ]
    },
    {
     "name": "stderr",
     "output_type": "stream",
     "text": [
      "<ipython-input-3-9b304879dac9>:29: MatplotlibDeprecationWarning: Adding an axes using the same arguments as a previous axes currently reuses the earlier instance.  In a future version, a new instance will always be created and returned.  Meanwhile, this warning can be suppressed, and the future behavior ensured, by passing a unique label to each axes instance.\n",
      "  ax = fig.add_subplot(111, autoscale_on=False,\n"
     ]
    },
    {
     "name": "stdout",
     "output_type": "stream",
     "text": [
      "22\n",
      "The interpolation points are stored in the variable \"EF_target_pos\": \n",
      "[[ 19.36396103   6.36396103]\n",
      " [ 14.66666667   0.21997756]\n",
      " [  7.33333333   7.08177989]\n",
      " [ -7.33333333   2.71663357]\n",
      " [-14.66666667  -0.21582094]]\n",
      "The intermediate points are stored in the variable \"interpolated_points\"\n"
     ]
    },
    {
     "name": "stderr",
     "output_type": "stream",
     "text": [
      "<ipython-input-3-9b304879dac9>:29: MatplotlibDeprecationWarning: Adding an axes using the same arguments as a previous axes currently reuses the earlier instance.  In a future version, a new instance will always be created and returned.  Meanwhile, this warning can be suppressed, and the future behavior ensured, by passing a unique label to each axes instance.\n",
      "  ax = fig.add_subplot(111, autoscale_on=False,\n"
     ]
    },
    {
     "name": "stdout",
     "output_type": "stream",
     "text": [
      "25\n",
      "The interpolation points are stored in the variable \"EF_target_pos\": \n",
      "[[ 21.19238816   9.19238816]\n",
      " [ 16.66666667  -6.14964471]\n",
      " [  8.33333333 -13.06588633]\n",
      " [ -8.33333333 -15.87727329]\n",
      " [-16.66666667   4.23762837]]\n",
      "The intermediate points are stored in the variable \"interpolated_points\"\n"
     ]
    },
    {
     "name": "stderr",
     "output_type": "stream",
     "text": [
      "<ipython-input-3-9b304879dac9>:29: MatplotlibDeprecationWarning: Adding an axes using the same arguments as a previous axes currently reuses the earlier instance.  In a future version, a new instance will always be created and returned.  Meanwhile, this warning can be suppressed, and the future behavior ensured, by passing a unique label to each axes instance.\n",
      "  ax = fig.add_subplot(111, autoscale_on=False,\n"
     ]
    },
    {
     "name": "stdout",
     "output_type": "stream",
     "text": [
      "24\n",
      "The interpolation points are stored in the variable \"EF_target_pos\": \n",
      "[[ 21.07106781   7.07106781]\n",
      " [ 16.          -0.2382855 ]\n",
      " [  8.          -3.92217719]\n",
      " [ -8.          -9.81118133]\n",
      " [-16.           0.02158327]]\n",
      "The intermediate points are stored in the variable \"interpolated_points\"\n"
     ]
    },
    {
     "name": "stderr",
     "output_type": "stream",
     "text": [
      "<ipython-input-3-9b304879dac9>:29: MatplotlibDeprecationWarning: Adding an axes using the same arguments as a previous axes currently reuses the earlier instance.  In a future version, a new instance will always be created and returned.  Meanwhile, this warning can be suppressed, and the future behavior ensured, by passing a unique label to each axes instance.\n",
      "  ax = fig.add_subplot(111, autoscale_on=False,\n"
     ]
    },
    {
     "name": "stdout",
     "output_type": "stream",
     "text": [
      "21\n",
      "The interpolation points are stored in the variable \"EF_target_pos\": \n",
      "[[ 18.07106781   7.07106781]\n",
      " [ 14.          -1.0474925 ]\n",
      " [  7.           3.67450594]\n",
      " [ -7.         -10.95581673]\n",
      " [-14.           0.71675977]]\n",
      "The intermediate points are stored in the variable \"interpolated_points\"\n"
     ]
    },
    {
     "name": "stderr",
     "output_type": "stream",
     "text": [
      "<ipython-input-3-9b304879dac9>:29: MatplotlibDeprecationWarning: Adding an axes using the same arguments as a previous axes currently reuses the earlier instance.  In a future version, a new instance will always be created and returned.  Meanwhile, this warning can be suppressed, and the future behavior ensured, by passing a unique label to each axes instance.\n",
      "  ax = fig.add_subplot(111, autoscale_on=False,\n"
     ]
    },
    {
     "name": "stdout",
     "output_type": "stream",
     "text": [
      "18\n",
      "The interpolation points are stored in the variable \"EF_target_pos\": \n",
      "[[ 15.65685425   5.65685425]\n",
      " [ 12.           2.37595194]\n",
      " [  6.           1.09174734]\n",
      " [ -6.         -11.38173124]\n",
      " [-12.          -3.5185656 ]]\n",
      "The intermediate points are stored in the variable \"interpolated_points\"\n"
     ]
    },
    {
     "name": "stderr",
     "output_type": "stream",
     "text": [
      "<ipython-input-3-9b304879dac9>:29: MatplotlibDeprecationWarning: Adding an axes using the same arguments as a previous axes currently reuses the earlier instance.  In a future version, a new instance will always be created and returned.  Meanwhile, this warning can be suppressed, and the future behavior ensured, by passing a unique label to each axes instance.\n",
      "  ax = fig.add_subplot(111, autoscale_on=False,\n"
     ]
    },
    {
     "name": "stdout",
     "output_type": "stream",
     "text": [
      "25\n",
      "The interpolation points are stored in the variable \"EF_target_pos\": \n",
      "[[ 21.48528137   8.48528137]\n",
      " [ 16.66666667  -4.53587607]\n",
      " [  8.33333333 -16.29484874]\n",
      " [ -8.33333333  -1.90468288]\n",
      " [-16.66666667  -4.48647691]]\n",
      "The intermediate points are stored in the variable \"interpolated_points\"\n"
     ]
    },
    {
     "name": "stderr",
     "output_type": "stream",
     "text": [
      "<ipython-input-3-9b304879dac9>:29: MatplotlibDeprecationWarning: Adding an axes using the same arguments as a previous axes currently reuses the earlier instance.  In a future version, a new instance will always be created and returned.  Meanwhile, this warning can be suppressed, and the future behavior ensured, by passing a unique label to each axes instance.\n",
      "  ax = fig.add_subplot(111, autoscale_on=False,\n"
     ]
    },
    {
     "name": "stdout",
     "output_type": "stream",
     "text": [
      "19\n",
      "The interpolation points are stored in the variable \"EF_target_pos\": \n",
      "[[ 15.77817459   7.77817459]\n",
      " [ 12.66666667   2.53220132]\n",
      " [  6.33333333  10.22594088]\n",
      " [ -6.33333333   9.60369351]\n",
      " [-12.66666667  -6.35132592]]\n",
      "The intermediate points are stored in the variable \"interpolated_points\"\n"
     ]
    },
    {
     "name": "stderr",
     "output_type": "stream",
     "text": [
      "<ipython-input-3-9b304879dac9>:29: MatplotlibDeprecationWarning: Adding an axes using the same arguments as a previous axes currently reuses the earlier instance.  In a future version, a new instance will always be created and returned.  Meanwhile, this warning can be suppressed, and the future behavior ensured, by passing a unique label to each axes instance.\n",
      "  ax = fig.add_subplot(111, autoscale_on=False,\n"
     ]
    },
    {
     "name": "stdout",
     "output_type": "stream",
     "text": [
      "25\n",
      "The interpolation points are stored in the variable \"EF_target_pos\": \n",
      "[[ 21.19238816   9.19238816]\n",
      " [ 16.66666667   1.64846333]\n",
      " [  8.33333333   0.61232312]\n",
      " [ -8.33333333   0.25020607]\n",
      " [-16.66666667  -3.8256214 ]]\n",
      "The intermediate points are stored in the variable \"interpolated_points\"\n"
     ]
    },
    {
     "name": "stderr",
     "output_type": "stream",
     "text": [
      "<ipython-input-3-9b304879dac9>:29: MatplotlibDeprecationWarning: Adding an axes using the same arguments as a previous axes currently reuses the earlier instance.  In a future version, a new instance will always be created and returned.  Meanwhile, this warning can be suppressed, and the future behavior ensured, by passing a unique label to each axes instance.\n",
      "  ax = fig.add_subplot(111, autoscale_on=False,\n"
     ]
    },
    {
     "name": "stdout",
     "output_type": "stream",
     "text": [
      "27\n",
      "The interpolation points are stored in the variable \"EF_target_pos\": \n",
      "[[ 23.48528137   8.48528137]\n",
      " [ 18.          -8.69057248]\n",
      " [  9.          -7.98396239]\n",
      " [ -9.         -13.83688887]\n",
      " [-18.           6.52049194]]\n",
      "The intermediate points are stored in the variable \"interpolated_points\"\n"
     ]
    },
    {
     "name": "stderr",
     "output_type": "stream",
     "text": [
      "<ipython-input-3-9b304879dac9>:29: MatplotlibDeprecationWarning: Adding an axes using the same arguments as a previous axes currently reuses the earlier instance.  In a future version, a new instance will always be created and returned.  Meanwhile, this warning can be suppressed, and the future behavior ensured, by passing a unique label to each axes instance.\n",
      "  ax = fig.add_subplot(111, autoscale_on=False,\n"
     ]
    },
    {
     "name": "stdout",
     "output_type": "stream",
     "text": [
      "22\n",
      "The interpolation points are stored in the variable \"EF_target_pos\": \n",
      "[[ 18.48528137   8.48528137]\n",
      " [ 14.66666667  -4.90224324]\n",
      " [  7.33333333   9.50904772]\n",
      " [ -7.33333333   8.57743463]\n",
      " [-14.66666667   4.72217509]]\n",
      "The intermediate points are stored in the variable \"interpolated_points\"\n"
     ]
    },
    {
     "name": "stderr",
     "output_type": "stream",
     "text": [
      "<ipython-input-3-9b304879dac9>:29: MatplotlibDeprecationWarning: Adding an axes using the same arguments as a previous axes currently reuses the earlier instance.  In a future version, a new instance will always be created and returned.  Meanwhile, this warning can be suppressed, and the future behavior ensured, by passing a unique label to each axes instance.\n",
      "  ax = fig.add_subplot(111, autoscale_on=False,\n"
     ]
    },
    {
     "name": "stdout",
     "output_type": "stream",
     "text": [
      "26\n",
      "The interpolation points are stored in the variable \"EF_target_pos\": \n",
      "[[ 2.18994949e+01  9.89949494e+00]\n",
      " [ 1.73333333e+01  2.14013636e+00]\n",
      " [ 8.66666667e+00 -9.35041100e+00]\n",
      " [-8.66666667e+00  2.63504446e+00]\n",
      " [-1.73333333e+01 -1.82958780e-02]]\n",
      "The intermediate points are stored in the variable \"interpolated_points\"\n"
     ]
    },
    {
     "name": "stderr",
     "output_type": "stream",
     "text": [
      "<ipython-input-3-9b304879dac9>:29: MatplotlibDeprecationWarning: Adding an axes using the same arguments as a previous axes currently reuses the earlier instance.  In a future version, a new instance will always be created and returned.  Meanwhile, this warning can be suppressed, and the future behavior ensured, by passing a unique label to each axes instance.\n",
      "  ax = fig.add_subplot(111, autoscale_on=False,\n"
     ]
    },
    {
     "name": "stdout",
     "output_type": "stream",
     "text": [
      "25\n",
      "The interpolation points are stored in the variable \"EF_target_pos\": \n",
      "[[ 21.48528137   8.48528137]\n",
      " [ 16.66666667  -3.16645648]\n",
      " [  8.33333333   2.93564276]\n",
      " [ -8.33333333  16.68528973]\n",
      " [-16.66666667  -4.6845665 ]]\n",
      "The intermediate points are stored in the variable \"interpolated_points\"\n"
     ]
    },
    {
     "name": "stderr",
     "output_type": "stream",
     "text": [
      "<ipython-input-3-9b304879dac9>:29: MatplotlibDeprecationWarning: Adding an axes using the same arguments as a previous axes currently reuses the earlier instance.  In a future version, a new instance will always be created and returned.  Meanwhile, this warning can be suppressed, and the future behavior ensured, by passing a unique label to each axes instance.\n",
      "  ax = fig.add_subplot(111, autoscale_on=False,\n"
     ]
    },
    {
     "name": "stdout",
     "output_type": "stream",
     "text": [
      "24\n",
      "The interpolation points are stored in the variable \"EF_target_pos\": \n",
      "[[ 20.77817459   7.77817459]\n",
      " [ 16.          -0.06664055]\n",
      " [  8.         -10.94410747]\n",
      " [ -8.          14.66066405]\n",
      " [-16.           4.66065475]]\n",
      "The intermediate points are stored in the variable \"interpolated_points\"\n"
     ]
    },
    {
     "name": "stderr",
     "output_type": "stream",
     "text": [
      "<ipython-input-3-9b304879dac9>:29: MatplotlibDeprecationWarning: Adding an axes using the same arguments as a previous axes currently reuses the earlier instance.  In a future version, a new instance will always be created and returned.  Meanwhile, this warning can be suppressed, and the future behavior ensured, by passing a unique label to each axes instance.\n",
      "  ax = fig.add_subplot(111, autoscale_on=False,\n"
     ]
    },
    {
     "name": "stdout",
     "output_type": "stream",
     "text": [
      "23\n",
      "The interpolation points are stored in the variable \"EF_target_pos\": \n",
      "[[ 18.89949494   9.89949494]\n",
      " [ 15.33333333   5.53204305]\n",
      " [  7.66666667   7.21224036]\n",
      " [ -7.66666667 -10.79526064]\n",
      " [-15.33333333   1.93787804]]\n",
      "The intermediate points are stored in the variable \"interpolated_points\"\n"
     ]
    },
    {
     "name": "stderr",
     "output_type": "stream",
     "text": [
      "<ipython-input-3-9b304879dac9>:29: MatplotlibDeprecationWarning: Adding an axes using the same arguments as a previous axes currently reuses the earlier instance.  In a future version, a new instance will always be created and returned.  Meanwhile, this warning can be suppressed, and the future behavior ensured, by passing a unique label to each axes instance.\n",
      "  ax = fig.add_subplot(111, autoscale_on=False,\n"
     ]
    },
    {
     "name": "stdout",
     "output_type": "stream",
     "text": [
      "22\n",
      "The interpolation points are stored in the variable \"EF_target_pos\": \n",
      "[[ 18.77817459   7.77817459]\n",
      " [ 14.66666667   1.38928659]\n",
      " [  7.33333333   5.1032663 ]\n",
      " [ -7.33333333 -12.10376643]\n",
      " [-14.66666667   4.46597814]]\n",
      "The intermediate points are stored in the variable \"interpolated_points\"\n"
     ]
    },
    {
     "name": "stderr",
     "output_type": "stream",
     "text": [
      "<ipython-input-3-9b304879dac9>:29: MatplotlibDeprecationWarning: Adding an axes using the same arguments as a previous axes currently reuses the earlier instance.  In a future version, a new instance will always be created and returned.  Meanwhile, this warning can be suppressed, and the future behavior ensured, by passing a unique label to each axes instance.\n",
      "  ax = fig.add_subplot(111, autoscale_on=False,\n"
     ]
    },
    {
     "name": "stdout",
     "output_type": "stream",
     "text": [
      "24\n",
      "The interpolation points are stored in the variable \"EF_target_pos\": \n",
      "[[ 20.48528137   8.48528137]\n",
      " [ 16.          -0.42984226]\n",
      " [  8.           1.23184067]\n",
      " [ -8.           2.29819749]\n",
      " [-16.          -0.16775204]]\n",
      "The intermediate points are stored in the variable \"interpolated_points\"\n"
     ]
    },
    {
     "name": "stderr",
     "output_type": "stream",
     "text": [
      "<ipython-input-3-9b304879dac9>:29: MatplotlibDeprecationWarning: Adding an axes using the same arguments as a previous axes currently reuses the earlier instance.  In a future version, a new instance will always be created and returned.  Meanwhile, this warning can be suppressed, and the future behavior ensured, by passing a unique label to each axes instance.\n",
      "  ax = fig.add_subplot(111, autoscale_on=False,\n"
     ]
    },
    {
     "name": "stdout",
     "output_type": "stream",
     "text": [
      "23\n",
      "The interpolation points are stored in the variable \"EF_target_pos\": \n",
      "[[ 20.07106781   7.07106781]\n",
      " [ 15.33333333   4.70725222]\n",
      " [  7.66666667  -6.85443465]\n",
      " [ -7.66666667   0.72901791]\n",
      " [-15.33333333  -1.97876548]]\n",
      "The intermediate points are stored in the variable \"interpolated_points\"\n"
     ]
    },
    {
     "name": "stderr",
     "output_type": "stream",
     "text": [
      "<ipython-input-3-9b304879dac9>:29: MatplotlibDeprecationWarning: Adding an axes using the same arguments as a previous axes currently reuses the earlier instance.  In a future version, a new instance will always be created and returned.  Meanwhile, this warning can be suppressed, and the future behavior ensured, by passing a unique label to each axes instance.\n",
      "  ax = fig.add_subplot(111, autoscale_on=False,\n"
     ]
    },
    {
     "name": "stdout",
     "output_type": "stream",
     "text": [
      "27\n",
      "The interpolation points are stored in the variable \"EF_target_pos\": \n",
      "[[ 23.19238816   9.19238816]\n",
      " [ 18.          -3.90955054]\n",
      " [  9.          16.39614531]\n",
      " [ -9.         -11.37813664]\n",
      " [-18.          -6.27877306]]\n",
      "The intermediate points are stored in the variable \"interpolated_points\"\n"
     ]
    },
    {
     "name": "stderr",
     "output_type": "stream",
     "text": [
      "<ipython-input-3-9b304879dac9>:29: MatplotlibDeprecationWarning: Adding an axes using the same arguments as a previous axes currently reuses the earlier instance.  In a future version, a new instance will always be created and returned.  Meanwhile, this warning can be suppressed, and the future behavior ensured, by passing a unique label to each axes instance.\n",
      "  ax = fig.add_subplot(111, autoscale_on=False,\n"
     ]
    },
    {
     "name": "stdout",
     "output_type": "stream",
     "text": [
      "24\n",
      "The interpolation points are stored in the variable \"EF_target_pos\": \n",
      "[[ 20.19238816   9.19238816]\n",
      " [ 16.          -2.62710787]\n",
      " [  8.           6.15564002]\n",
      " [ -8.          -4.02283612]\n",
      " [-16.           4.53738752]]\n",
      "The intermediate points are stored in the variable \"interpolated_points\"\n"
     ]
    },
    {
     "name": "stderr",
     "output_type": "stream",
     "text": [
      "<ipython-input-3-9b304879dac9>:29: MatplotlibDeprecationWarning: Adding an axes using the same arguments as a previous axes currently reuses the earlier instance.  In a future version, a new instance will always be created and returned.  Meanwhile, this warning can be suppressed, and the future behavior ensured, by passing a unique label to each axes instance.\n",
      "  ax = fig.add_subplot(111, autoscale_on=False,\n"
     ]
    },
    {
     "name": "stdout",
     "output_type": "stream",
     "text": [
      "24\n",
      "The interpolation points are stored in the variable \"EF_target_pos\": \n",
      "[[ 20.77817459   7.77817459]\n",
      " [ 16.          -7.43832022]\n",
      " [  8.          -9.35075273]\n",
      " [ -8.          11.20910928]\n",
      " [-16.           2.84034576]]\n",
      "The intermediate points are stored in the variable \"interpolated_points\"\n"
     ]
    },
    {
     "name": "stderr",
     "output_type": "stream",
     "text": [
      "<ipython-input-3-9b304879dac9>:29: MatplotlibDeprecationWarning: Adding an axes using the same arguments as a previous axes currently reuses the earlier instance.  In a future version, a new instance will always be created and returned.  Meanwhile, this warning can be suppressed, and the future behavior ensured, by passing a unique label to each axes instance.\n",
      "  ax = fig.add_subplot(111, autoscale_on=False,\n"
     ]
    },
    {
     "name": "stdout",
     "output_type": "stream",
     "text": [
      "25\n",
      "The interpolation points are stored in the variable \"EF_target_pos\": \n",
      "[[ 22.07106781   7.07106781]\n",
      " [ 16.66666667   0.57782806]\n",
      " [  8.33333333  10.806735  ]\n",
      " [ -8.33333333 -14.87406644]\n",
      " [-16.66666667   6.6132351 ]]\n",
      "The intermediate points are stored in the variable \"interpolated_points\"\n"
     ]
    },
    {
     "name": "stderr",
     "output_type": "stream",
     "text": [
      "<ipython-input-3-9b304879dac9>:29: MatplotlibDeprecationWarning: Adding an axes using the same arguments as a previous axes currently reuses the earlier instance.  In a future version, a new instance will always be created and returned.  Meanwhile, this warning can be suppressed, and the future behavior ensured, by passing a unique label to each axes instance.\n",
      "  ax = fig.add_subplot(111, autoscale_on=False,\n"
     ]
    },
    {
     "name": "stdout",
     "output_type": "stream",
     "text": [
      "21\n",
      "The interpolation points are stored in the variable \"EF_target_pos\": \n",
      "[[ 17.19238816   9.19238816]\n",
      " [ 14.           3.66269567]\n",
      " [  7.          12.46337028]\n",
      " [ -7.           3.75842265]\n",
      " [-14.           7.03242321]]\n",
      "The intermediate points are stored in the variable \"interpolated_points\"\n"
     ]
    },
    {
     "name": "stderr",
     "output_type": "stream",
     "text": [
      "<ipython-input-3-9b304879dac9>:29: MatplotlibDeprecationWarning: Adding an axes using the same arguments as a previous axes currently reuses the earlier instance.  In a future version, a new instance will always be created and returned.  Meanwhile, this warning can be suppressed, and the future behavior ensured, by passing a unique label to each axes instance.\n",
      "  ax = fig.add_subplot(111, autoscale_on=False,\n"
     ]
    },
    {
     "name": "stdout",
     "output_type": "stream",
     "text": [
      "26\n",
      "The interpolation points are stored in the variable \"EF_target_pos\": \n",
      "[[ 21.89949494   9.89949494]\n",
      " [ 17.33333333   7.3475945 ]\n",
      " [  8.66666667   6.1886215 ]\n",
      " [ -8.66666667  17.41656691]\n",
      " [-17.33333333  -0.32105427]]\n",
      "The intermediate points are stored in the variable \"interpolated_points\"\n"
     ]
    },
    {
     "name": "stderr",
     "output_type": "stream",
     "text": [
      "<ipython-input-3-9b304879dac9>:29: MatplotlibDeprecationWarning: Adding an axes using the same arguments as a previous axes currently reuses the earlier instance.  In a future version, a new instance will always be created and returned.  Meanwhile, this warning can be suppressed, and the future behavior ensured, by passing a unique label to each axes instance.\n",
      "  ax = fig.add_subplot(111, autoscale_on=False,\n"
     ]
    },
    {
     "name": "stdout",
     "output_type": "stream",
     "text": [
      "22\n",
      "The interpolation points are stored in the variable \"EF_target_pos\": \n",
      "[[ 18.77817459   7.77817459]\n",
      " [ 14.66666667  -0.39120542]\n",
      " [  7.33333333  -2.26095959]\n",
      " [ -7.33333333  -1.11201794]\n",
      " [-14.66666667   6.28361662]]\n",
      "The intermediate points are stored in the variable \"interpolated_points\"\n"
     ]
    },
    {
     "name": "stderr",
     "output_type": "stream",
     "text": [
      "<ipython-input-3-9b304879dac9>:29: MatplotlibDeprecationWarning: Adding an axes using the same arguments as a previous axes currently reuses the earlier instance.  In a future version, a new instance will always be created and returned.  Meanwhile, this warning can be suppressed, and the future behavior ensured, by passing a unique label to each axes instance.\n",
      "  ax = fig.add_subplot(111, autoscale_on=False,\n"
     ]
    },
    {
     "name": "stdout",
     "output_type": "stream",
     "text": [
      "23\n",
      "The interpolation points are stored in the variable \"EF_target_pos\": \n",
      "[[ 18.89949494   9.89949494]\n",
      " [ 15.33333333   7.33698103]\n",
      " [  7.66666667  -1.0721527 ]\n",
      " [ -7.66666667 -10.74329233]\n",
      " [-15.33333333   7.73276855]]\n",
      "The intermediate points are stored in the variable \"interpolated_points\"\n"
     ]
    },
    {
     "name": "stderr",
     "output_type": "stream",
     "text": [
      "<ipython-input-3-9b304879dac9>:29: MatplotlibDeprecationWarning: Adding an axes using the same arguments as a previous axes currently reuses the earlier instance.  In a future version, a new instance will always be created and returned.  Meanwhile, this warning can be suppressed, and the future behavior ensured, by passing a unique label to each axes instance.\n",
      "  ax = fig.add_subplot(111, autoscale_on=False,\n"
     ]
    },
    {
     "name": "stdout",
     "output_type": "stream",
     "text": [
      "27\n",
      "The interpolation points are stored in the variable \"EF_target_pos\": \n",
      "[[ 22.3137085   11.3137085 ]\n",
      " [ 18.           6.78831783]\n",
      " [  9.           0.18342776]\n",
      " [ -9.           6.70481831]\n",
      " [-18.          -4.86374282]]\n",
      "The intermediate points are stored in the variable \"interpolated_points\"\n"
     ]
    },
    {
     "name": "stderr",
     "output_type": "stream",
     "text": [
      "<ipython-input-3-9b304879dac9>:29: MatplotlibDeprecationWarning: Adding an axes using the same arguments as a previous axes currently reuses the earlier instance.  In a future version, a new instance will always be created and returned.  Meanwhile, this warning can be suppressed, and the future behavior ensured, by passing a unique label to each axes instance.\n",
      "  ax = fig.add_subplot(111, autoscale_on=False,\n"
     ]
    },
    {
     "name": "stdout",
     "output_type": "stream",
     "text": [
      "25\n",
      "The interpolation points are stored in the variable \"EF_target_pos\": \n",
      "[[ 22.36396103   6.36396103]\n",
      " [ 16.66666667   7.35907442]\n",
      " [  8.33333333   7.95885651]\n",
      " [ -8.33333333  14.68463235]\n",
      " [-16.66666667  -2.84186919]]\n",
      "The intermediate points are stored in the variable \"interpolated_points\"\n"
     ]
    },
    {
     "name": "stderr",
     "output_type": "stream",
     "text": [
      "<ipython-input-3-9b304879dac9>:29: MatplotlibDeprecationWarning: Adding an axes using the same arguments as a previous axes currently reuses the earlier instance.  In a future version, a new instance will always be created and returned.  Meanwhile, this warning can be suppressed, and the future behavior ensured, by passing a unique label to each axes instance.\n",
      "  ax = fig.add_subplot(111, autoscale_on=False,\n"
     ]
    },
    {
     "name": "stdout",
     "output_type": "stream",
     "text": [
      "26\n",
      "The interpolation points are stored in the variable \"EF_target_pos\": \n",
      "[[ 22.48528137   8.48528137]\n",
      " [ 17.33333333   8.43037295]\n",
      " [  8.66666667  -7.3595431 ]\n",
      " [ -8.66666667  -1.89107883]\n",
      " [-17.33333333   6.44489765]]\n",
      "The intermediate points are stored in the variable \"interpolated_points\"\n"
     ]
    },
    {
     "name": "stderr",
     "output_type": "stream",
     "text": [
      "<ipython-input-3-9b304879dac9>:29: MatplotlibDeprecationWarning: Adding an axes using the same arguments as a previous axes currently reuses the earlier instance.  In a future version, a new instance will always be created and returned.  Meanwhile, this warning can be suppressed, and the future behavior ensured, by passing a unique label to each axes instance.\n",
      "  ax = fig.add_subplot(111, autoscale_on=False,\n"
     ]
    },
    {
     "name": "stdout",
     "output_type": "stream",
     "text": [
      "22\n",
      "The interpolation points are stored in the variable \"EF_target_pos\": \n",
      "[[ 19.07106781   7.07106781]\n",
      " [ 14.66666667   6.22010321]\n",
      " [  7.33333333   9.55161959]\n",
      " [ -7.33333333  12.47717896]\n",
      " [-14.66666667   3.95981968]]\n",
      "The intermediate points are stored in the variable \"interpolated_points\"\n"
     ]
    },
    {
     "name": "stderr",
     "output_type": "stream",
     "text": [
      "<ipython-input-3-9b304879dac9>:29: MatplotlibDeprecationWarning: Adding an axes using the same arguments as a previous axes currently reuses the earlier instance.  In a future version, a new instance will always be created and returned.  Meanwhile, this warning can be suppressed, and the future behavior ensured, by passing a unique label to each axes instance.\n",
      "  ax = fig.add_subplot(111, autoscale_on=False,\n"
     ]
    },
    {
     "name": "stdout",
     "output_type": "stream",
     "text": [
      "24\n",
      "The interpolation points are stored in the variable \"EF_target_pos\": \n",
      "[[ 20.19238816   9.19238816]\n",
      " [ 16.           6.49811092]\n",
      " [  8.          13.1038274 ]\n",
      " [ -8.          -4.1136837 ]\n",
      " [-16.          -8.16277341]]\n",
      "The intermediate points are stored in the variable \"interpolated_points\"\n"
     ]
    },
    {
     "name": "stderr",
     "output_type": "stream",
     "text": [
      "<ipython-input-3-9b304879dac9>:29: MatplotlibDeprecationWarning: Adding an axes using the same arguments as a previous axes currently reuses the earlier instance.  In a future version, a new instance will always be created and returned.  Meanwhile, this warning can be suppressed, and the future behavior ensured, by passing a unique label to each axes instance.\n",
      "  ax = fig.add_subplot(111, autoscale_on=False,\n"
     ]
    },
    {
     "name": "stdout",
     "output_type": "stream",
     "text": [
      "24\n",
      "The interpolation points are stored in the variable \"EF_target_pos\": \n",
      "[[ 20.48528137   8.48528137]\n",
      " [ 16.           6.24365577]\n",
      " [  8.          -1.08477025]\n",
      " [ -8.          12.2692117 ]\n",
      " [-16.          -3.21461911]]\n",
      "The intermediate points are stored in the variable \"interpolated_points\"\n"
     ]
    },
    {
     "name": "stderr",
     "output_type": "stream",
     "text": [
      "<ipython-input-3-9b304879dac9>:29: MatplotlibDeprecationWarning: Adding an axes using the same arguments as a previous axes currently reuses the earlier instance.  In a future version, a new instance will always be created and returned.  Meanwhile, this warning can be suppressed, and the future behavior ensured, by passing a unique label to each axes instance.\n",
      "  ax = fig.add_subplot(111, autoscale_on=False,\n"
     ]
    },
    {
     "name": "stdout",
     "output_type": "stream",
     "text": [
      "26\n",
      "The interpolation points are stored in the variable \"EF_target_pos\": \n",
      "[[ 22.48528137   8.48528137]\n",
      " [ 17.33333333  -1.78718768]\n",
      " [  8.66666667  14.88517138]\n",
      " [ -8.66666667 -14.69258452]\n",
      " [-17.33333333   7.72213287]]\n",
      "The intermediate points are stored in the variable \"interpolated_points\"\n"
     ]
    },
    {
     "name": "stderr",
     "output_type": "stream",
     "text": [
      "<ipython-input-3-9b304879dac9>:29: MatplotlibDeprecationWarning: Adding an axes using the same arguments as a previous axes currently reuses the earlier instance.  In a future version, a new instance will always be created and returned.  Meanwhile, this warning can be suppressed, and the future behavior ensured, by passing a unique label to each axes instance.\n",
      "  ax = fig.add_subplot(111, autoscale_on=False,\n"
     ]
    },
    {
     "name": "stdout",
     "output_type": "stream",
     "text": [
      "24\n",
      "The interpolation points are stored in the variable \"EF_target_pos\": \n",
      "[[ 20.77817459   7.77817459]\n",
      " [ 16.          -4.56141602]\n",
      " [  8.           0.77380885]\n",
      " [ -8.           3.20388317]\n",
      " [-16.           0.08618342]]\n",
      "The intermediate points are stored in the variable \"interpolated_points\"\n"
     ]
    },
    {
     "name": "stderr",
     "output_type": "stream",
     "text": [
      "<ipython-input-3-9b304879dac9>:29: MatplotlibDeprecationWarning: Adding an axes using the same arguments as a previous axes currently reuses the earlier instance.  In a future version, a new instance will always be created and returned.  Meanwhile, this warning can be suppressed, and the future behavior ensured, by passing a unique label to each axes instance.\n",
      "  ax = fig.add_subplot(111, autoscale_on=False,\n"
     ]
    },
    {
     "name": "stdout",
     "output_type": "stream",
     "text": [
      "25\n",
      "The interpolation points are stored in the variable \"EF_target_pos\": \n",
      "[[ 20.89949494   9.89949494]\n",
      " [ 16.66666667  -4.7636823 ]\n",
      " [  8.33333333  10.34997599]\n",
      " [ -8.33333333  -4.82232907]\n",
      " [-16.66666667  -1.5916581 ]]\n",
      "The intermediate points are stored in the variable \"interpolated_points\"\n"
     ]
    },
    {
     "name": "stderr",
     "output_type": "stream",
     "text": [
      "<ipython-input-3-9b304879dac9>:29: MatplotlibDeprecationWarning: Adding an axes using the same arguments as a previous axes currently reuses the earlier instance.  In a future version, a new instance will always be created and returned.  Meanwhile, this warning can be suppressed, and the future behavior ensured, by passing a unique label to each axes instance.\n",
      "  ax = fig.add_subplot(111, autoscale_on=False,\n"
     ]
    },
    {
     "name": "stdout",
     "output_type": "stream",
     "text": [
      "23\n",
      "The interpolation points are stored in the variable \"EF_target_pos\": \n",
      "[[ 18.89949494   9.89949494]\n",
      " [ 15.33333333   3.30251809]\n",
      " [  7.66666667   7.64714497]\n",
      " [ -7.66666667  -5.6904328 ]\n",
      " [-15.33333333  -3.64816296]]\n",
      "The intermediate points are stored in the variable \"interpolated_points\"\n"
     ]
    },
    {
     "name": "stderr",
     "output_type": "stream",
     "text": [
      "<ipython-input-3-9b304879dac9>:29: MatplotlibDeprecationWarning: Adding an axes using the same arguments as a previous axes currently reuses the earlier instance.  In a future version, a new instance will always be created and returned.  Meanwhile, this warning can be suppressed, and the future behavior ensured, by passing a unique label to each axes instance.\n",
      "  ax = fig.add_subplot(111, autoscale_on=False,\n"
     ]
    },
    {
     "name": "stdout",
     "output_type": "stream",
     "text": [
      "30\n",
      "The interpolation points are stored in the variable \"EF_target_pos\": \n",
      "[[ 25.60660172  10.60660172]\n",
      " [ 20.          -3.89272388]\n",
      " [ 10.         -19.55196911]\n",
      " [-10.         -14.91697918]\n",
      " [-20.          -0.80315012]]\n",
      "The intermediate points are stored in the variable \"interpolated_points\"\n"
     ]
    },
    {
     "name": "stderr",
     "output_type": "stream",
     "text": [
      "<ipython-input-3-9b304879dac9>:29: MatplotlibDeprecationWarning: Adding an axes using the same arguments as a previous axes currently reuses the earlier instance.  In a future version, a new instance will always be created and returned.  Meanwhile, this warning can be suppressed, and the future behavior ensured, by passing a unique label to each axes instance.\n",
      "  ax = fig.add_subplot(111, autoscale_on=False,\n"
     ]
    },
    {
     "name": "stdout",
     "output_type": "stream",
     "text": [
      "25\n",
      "The interpolation points are stored in the variable \"EF_target_pos\": \n",
      "[[ 21.77817459   7.77817459]\n",
      " [ 16.66666667   4.10349028]\n",
      " [  8.33333333  -1.46258958]\n",
      " [ -8.33333333  -1.42335371]\n",
      " [-16.66666667   7.54394985]]\n",
      "The intermediate points are stored in the variable \"interpolated_points\"\n"
     ]
    },
    {
     "name": "stderr",
     "output_type": "stream",
     "text": [
      "<ipython-input-3-9b304879dac9>:29: MatplotlibDeprecationWarning: Adding an axes using the same arguments as a previous axes currently reuses the earlier instance.  In a future version, a new instance will always be created and returned.  Meanwhile, this warning can be suppressed, and the future behavior ensured, by passing a unique label to each axes instance.\n",
      "  ax = fig.add_subplot(111, autoscale_on=False,\n"
     ]
    },
    {
     "name": "stdout",
     "output_type": "stream",
     "text": [
      "26\n",
      "The interpolation points are stored in the variable \"EF_target_pos\": \n",
      "[[ 21.89949494   9.89949494]\n",
      " [ 17.33333333   2.05756362]\n",
      " [  8.66666667  -9.88820975]\n",
      " [ -8.66666667 -13.47128646]\n",
      " [-17.33333333  -0.91455927]]\n",
      "The intermediate points are stored in the variable \"interpolated_points\"\n"
     ]
    },
    {
     "name": "stderr",
     "output_type": "stream",
     "text": [
      "<ipython-input-3-9b304879dac9>:29: MatplotlibDeprecationWarning: Adding an axes using the same arguments as a previous axes currently reuses the earlier instance.  In a future version, a new instance will always be created and returned.  Meanwhile, this warning can be suppressed, and the future behavior ensured, by passing a unique label to each axes instance.\n",
      "  ax = fig.add_subplot(111, autoscale_on=False,\n"
     ]
    },
    {
     "name": "stdout",
     "output_type": "stream",
     "text": [
      "21\n",
      "The interpolation points are stored in the variable \"EF_target_pos\": \n",
      "[[ 17.77817459   7.77817459]\n",
      " [ 14.           3.2107833 ]\n",
      " [  7.           4.63792876]\n",
      " [ -7.          -4.26601779]\n",
      " [-14.           5.3213106 ]]\n",
      "The intermediate points are stored in the variable \"interpolated_points\"\n"
     ]
    },
    {
     "name": "stderr",
     "output_type": "stream",
     "text": [
      "<ipython-input-3-9b304879dac9>:29: MatplotlibDeprecationWarning: Adding an axes using the same arguments as a previous axes currently reuses the earlier instance.  In a future version, a new instance will always be created and returned.  Meanwhile, this warning can be suppressed, and the future behavior ensured, by passing a unique label to each axes instance.\n",
      "  ax = fig.add_subplot(111, autoscale_on=False,\n"
     ]
    },
    {
     "name": "stdout",
     "output_type": "stream",
     "text": [
      "26\n",
      "The interpolation points are stored in the variable \"EF_target_pos\": \n",
      "[[ 22.19238816   9.19238816]\n",
      " [ 17.33333333   4.89968534]\n",
      " [  8.66666667  17.36879892]\n",
      " [ -8.66666667 -14.50960034]\n",
      " [-17.33333333  -4.86685099]]\n",
      "The intermediate points are stored in the variable \"interpolated_points\"\n"
     ]
    },
    {
     "name": "stderr",
     "output_type": "stream",
     "text": [
      "<ipython-input-3-9b304879dac9>:29: MatplotlibDeprecationWarning: Adding an axes using the same arguments as a previous axes currently reuses the earlier instance.  In a future version, a new instance will always be created and returned.  Meanwhile, this warning can be suppressed, and the future behavior ensured, by passing a unique label to each axes instance.\n",
      "  ax = fig.add_subplot(111, autoscale_on=False,\n"
     ]
    },
    {
     "name": "stdout",
     "output_type": "stream",
     "text": [
      "21\n",
      "The interpolation points are stored in the variable \"EF_target_pos\": \n",
      "[[ 17.48528137   8.48528137]\n",
      " [ 14.           0.94655289]\n",
      " [  7.           0.84322874]\n",
      " [ -7.           6.79019559]\n",
      " [-14.           6.32265822]]\n",
      "The intermediate points are stored in the variable \"interpolated_points\"\n"
     ]
    },
    {
     "name": "stderr",
     "output_type": "stream",
     "text": [
      "<ipython-input-3-9b304879dac9>:29: MatplotlibDeprecationWarning: Adding an axes using the same arguments as a previous axes currently reuses the earlier instance.  In a future version, a new instance will always be created and returned.  Meanwhile, this warning can be suppressed, and the future behavior ensured, by passing a unique label to each axes instance.\n",
      "  ax = fig.add_subplot(111, autoscale_on=False,\n"
     ]
    },
    {
     "name": "stdout",
     "output_type": "stream",
     "text": [
      "24\n",
      "The interpolation points are stored in the variable \"EF_target_pos\": \n",
      "[[ 20.77817459   7.77817459]\n",
      " [ 16.          -4.40645758]\n",
      " [  8.           7.20175781]\n",
      " [ -8.          -3.75547433]\n",
      " [-16.           0.05519779]]\n",
      "The intermediate points are stored in the variable \"interpolated_points\"\n"
     ]
    },
    {
     "name": "stderr",
     "output_type": "stream",
     "text": [
      "<ipython-input-3-9b304879dac9>:29: MatplotlibDeprecationWarning: Adding an axes using the same arguments as a previous axes currently reuses the earlier instance.  In a future version, a new instance will always be created and returned.  Meanwhile, this warning can be suppressed, and the future behavior ensured, by passing a unique label to each axes instance.\n",
      "  ax = fig.add_subplot(111, autoscale_on=False,\n"
     ]
    },
    {
     "name": "stdout",
     "output_type": "stream",
     "text": [
      "24\n",
      "The interpolation points are stored in the variable \"EF_target_pos\": \n",
      "[[ 20.19238816   9.19238816]\n",
      " [ 16.           0.59488035]\n",
      " [  8.          10.09506264]\n",
      " [ -8.          14.35758695]\n",
      " [-16.          -7.14445183]]\n",
      "The intermediate points are stored in the variable \"interpolated_points\"\n"
     ]
    },
    {
     "name": "stderr",
     "output_type": "stream",
     "text": [
      "<ipython-input-3-9b304879dac9>:29: MatplotlibDeprecationWarning: Adding an axes using the same arguments as a previous axes currently reuses the earlier instance.  In a future version, a new instance will always be created and returned.  Meanwhile, this warning can be suppressed, and the future behavior ensured, by passing a unique label to each axes instance.\n",
      "  ax = fig.add_subplot(111, autoscale_on=False,\n"
     ]
    },
    {
     "name": "stdout",
     "output_type": "stream",
     "text": [
      "21\n",
      "The interpolation points are stored in the variable \"EF_target_pos\": \n",
      "[[ 18.07106781   7.07106781]\n",
      " [ 14.          -3.7345376 ]\n",
      " [  7.          13.01105358]\n",
      " [ -7.           6.85656769]\n",
      " [-14.          -4.32804636]]\n",
      "The intermediate points are stored in the variable \"interpolated_points\"\n"
     ]
    },
    {
     "name": "stderr",
     "output_type": "stream",
     "text": [
      "<ipython-input-3-9b304879dac9>:29: MatplotlibDeprecationWarning: Adding an axes using the same arguments as a previous axes currently reuses the earlier instance.  In a future version, a new instance will always be created and returned.  Meanwhile, this warning can be suppressed, and the future behavior ensured, by passing a unique label to each axes instance.\n",
      "  ax = fig.add_subplot(111, autoscale_on=False,\n"
     ]
    },
    {
     "name": "stdout",
     "output_type": "stream",
     "text": [
      "22\n",
      "The interpolation points are stored in the variable \"EF_target_pos\": \n",
      "[[ 18.77817459   7.77817459]\n",
      " [ 14.66666667  -3.34137392]\n",
      " [  7.33333333  -6.48168522]\n",
      " [ -7.33333333  10.22430096]\n",
      " [-14.66666667  -2.73885488]]\n",
      "The intermediate points are stored in the variable \"interpolated_points\"\n"
     ]
    },
    {
     "name": "stderr",
     "output_type": "stream",
     "text": [
      "<ipython-input-3-9b304879dac9>:29: MatplotlibDeprecationWarning: Adding an axes using the same arguments as a previous axes currently reuses the earlier instance.  In a future version, a new instance will always be created and returned.  Meanwhile, this warning can be suppressed, and the future behavior ensured, by passing a unique label to each axes instance.\n",
      "  ax = fig.add_subplot(111, autoscale_on=False,\n"
     ]
    },
    {
     "name": "stdout",
     "output_type": "stream",
     "text": [
      "25\n",
      "The interpolation points are stored in the variable \"EF_target_pos\": \n",
      "[[ 20.60660172  10.60660172]\n",
      " [ 16.66666667  -0.2264861 ]\n",
      " [  8.33333333   6.39204805]\n",
      " [ -8.33333333  -5.57563645]\n",
      " [-16.66666667   3.21581768]]\n",
      "The intermediate points are stored in the variable \"interpolated_points\"\n"
     ]
    },
    {
     "name": "stderr",
     "output_type": "stream",
     "text": [
      "<ipython-input-3-9b304879dac9>:29: MatplotlibDeprecationWarning: Adding an axes using the same arguments as a previous axes currently reuses the earlier instance.  In a future version, a new instance will always be created and returned.  Meanwhile, this warning can be suppressed, and the future behavior ensured, by passing a unique label to each axes instance.\n",
      "  ax = fig.add_subplot(111, autoscale_on=False,\n"
     ]
    },
    {
     "name": "stdout",
     "output_type": "stream",
     "text": [
      "23\n",
      "The interpolation points are stored in the variable \"EF_target_pos\": \n",
      "[[ 19.77817459   7.77817459]\n",
      " [ 15.33333333  -7.4816828 ]\n",
      " [  7.66666667 -11.58897579]\n",
      " [ -7.66666667   1.1012718 ]\n",
      " [-15.33333333  -3.62290803]]\n",
      "The intermediate points are stored in the variable \"interpolated_points\"\n"
     ]
    },
    {
     "name": "stderr",
     "output_type": "stream",
     "text": [
      "<ipython-input-3-9b304879dac9>:29: MatplotlibDeprecationWarning: Adding an axes using the same arguments as a previous axes currently reuses the earlier instance.  In a future version, a new instance will always be created and returned.  Meanwhile, this warning can be suppressed, and the future behavior ensured, by passing a unique label to each axes instance.\n",
      "  ax = fig.add_subplot(111, autoscale_on=False,\n"
     ]
    },
    {
     "name": "stdout",
     "output_type": "stream",
     "text": [
      "19\n",
      "The interpolation points are stored in the variable \"EF_target_pos\": \n",
      "[[ 15.77817459   7.77817459]\n",
      " [ 12.66666667  -3.05985235]\n",
      " [  6.33333333  -4.7889856 ]\n",
      " [ -6.33333333  -0.89265243]\n",
      " [-12.66666667  -4.0550929 ]]\n",
      "The intermediate points are stored in the variable \"interpolated_points\"\n"
     ]
    },
    {
     "name": "stderr",
     "output_type": "stream",
     "text": [
      "<ipython-input-3-9b304879dac9>:29: MatplotlibDeprecationWarning: Adding an axes using the same arguments as a previous axes currently reuses the earlier instance.  In a future version, a new instance will always be created and returned.  Meanwhile, this warning can be suppressed, and the future behavior ensured, by passing a unique label to each axes instance.\n",
      "  ax = fig.add_subplot(111, autoscale_on=False,\n"
     ]
    },
    {
     "name": "stdout",
     "output_type": "stream",
     "text": [
      "22\n",
      "The interpolation points are stored in the variable \"EF_target_pos\": \n",
      "[[ 17.89949494   9.89949494]\n",
      " [ 14.66666667   6.8848613 ]\n",
      " [  7.33333333 -12.84677657]\n",
      " [ -7.33333333   9.18818396]\n",
      " [-14.66666667   7.02719137]]\n",
      "The intermediate points are stored in the variable \"interpolated_points\"\n"
     ]
    },
    {
     "name": "stderr",
     "output_type": "stream",
     "text": [
      "<ipython-input-3-9b304879dac9>:29: MatplotlibDeprecationWarning: Adding an axes using the same arguments as a previous axes currently reuses the earlier instance.  In a future version, a new instance will always be created and returned.  Meanwhile, this warning can be suppressed, and the future behavior ensured, by passing a unique label to each axes instance.\n",
      "  ax = fig.add_subplot(111, autoscale_on=False,\n"
     ]
    },
    {
     "name": "stdout",
     "output_type": "stream",
     "text": [
      "23\n",
      "The interpolation points are stored in the variable \"EF_target_pos\": \n",
      "[[ 19.48528137   8.48528137]\n",
      " [ 15.33333333  -1.59804512]\n",
      " [  7.66666667  12.36113034]\n",
      " [ -7.66666667   4.75888209]\n",
      " [-15.33333333   4.44337631]]\n",
      "The intermediate points are stored in the variable \"interpolated_points\"\n"
     ]
    },
    {
     "name": "stderr",
     "output_type": "stream",
     "text": [
      "<ipython-input-3-9b304879dac9>:29: MatplotlibDeprecationWarning: Adding an axes using the same arguments as a previous axes currently reuses the earlier instance.  In a future version, a new instance will always be created and returned.  Meanwhile, this warning can be suppressed, and the future behavior ensured, by passing a unique label to each axes instance.\n",
      "  ax = fig.add_subplot(111, autoscale_on=False,\n"
     ]
    },
    {
     "name": "stdout",
     "output_type": "stream",
     "text": [
      "24\n",
      "The interpolation points are stored in the variable \"EF_target_pos\": \n",
      "[[ 20.48528137   8.48528137]\n",
      " [ 16.           4.28724138]\n",
      " [  8.         -11.92025859]\n",
      " [ -8.           7.60646199]\n",
      " [-16.          -4.99548985]]\n",
      "The intermediate points are stored in the variable \"interpolated_points\"\n"
     ]
    },
    {
     "name": "stderr",
     "output_type": "stream",
     "text": [
      "<ipython-input-3-9b304879dac9>:29: MatplotlibDeprecationWarning: Adding an axes using the same arguments as a previous axes currently reuses the earlier instance.  In a future version, a new instance will always be created and returned.  Meanwhile, this warning can be suppressed, and the future behavior ensured, by passing a unique label to each axes instance.\n",
      "  ax = fig.add_subplot(111, autoscale_on=False,\n"
     ]
    },
    {
     "name": "stdout",
     "output_type": "stream",
     "text": [
      "21\n",
      "The interpolation points are stored in the variable \"EF_target_pos\": \n",
      "[[ 17.48528137   8.48528137]\n",
      " [ 14.          -2.45706362]\n",
      " [  7.           4.17484379]\n",
      " [ -7.          -5.99437032]\n",
      " [-14.          -1.82372896]]\n",
      "The intermediate points are stored in the variable \"interpolated_points\"\n"
     ]
    },
    {
     "name": "stderr",
     "output_type": "stream",
     "text": [
      "<ipython-input-3-9b304879dac9>:29: MatplotlibDeprecationWarning: Adding an axes using the same arguments as a previous axes currently reuses the earlier instance.  In a future version, a new instance will always be created and returned.  Meanwhile, this warning can be suppressed, and the future behavior ensured, by passing a unique label to each axes instance.\n",
      "  ax = fig.add_subplot(111, autoscale_on=False,\n"
     ]
    },
    {
     "name": "stdout",
     "output_type": "stream",
     "text": [
      "28\n",
      "The interpolation points are stored in the variable \"EF_target_pos\": \n",
      "[[ 23.89949494   9.89949494]\n",
      " [ 18.66666667   1.28298238]\n",
      " [  9.33333333  -4.70323431]\n",
      " [ -9.33333333  -8.91131885]\n",
      " [-18.66666667  -5.65035159]]\n",
      "The intermediate points are stored in the variable \"interpolated_points\"\n"
     ]
    },
    {
     "name": "stderr",
     "output_type": "stream",
     "text": [
      "<ipython-input-3-9b304879dac9>:29: MatplotlibDeprecationWarning: Adding an axes using the same arguments as a previous axes currently reuses the earlier instance.  In a future version, a new instance will always be created and returned.  Meanwhile, this warning can be suppressed, and the future behavior ensured, by passing a unique label to each axes instance.\n",
      "  ax = fig.add_subplot(111, autoscale_on=False,\n"
     ]
    }
   ],
   "source": [
    "for i in range(750,875):\n",
    "    create_simulation(i,50)"
   ]
  }
 ],
 "metadata": {
  "kernelspec": {
   "display_name": "Python 3",
   "language": "python",
   "name": "python3"
  },
  "language_info": {
   "codemirror_mode": {
    "name": "ipython",
    "version": 3
   },
   "file_extension": ".py",
   "mimetype": "text/x-python",
   "name": "python",
   "nbconvert_exporter": "python",
   "pygments_lexer": "ipython3",
   "version": "3.8.10"
  }
 },
 "nbformat": 4,
 "nbformat_minor": 2
}
