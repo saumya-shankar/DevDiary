{
 "cells": [
  {
   "cell_type": "code",
   "execution_count": 1,
   "metadata": {},
   "outputs": [],
   "source": [
    "import numpy as np\n",
    "import matplotlib.pyplot as plt\n",
    "from celluloid import Camera\n",
    "from IPython.display import HTML\n",
    "import pandas as pd\n",
    "import random"
   ]
  },
  {
   "cell_type": "code",
   "execution_count": 2,
   "metadata": {},
   "outputs": [],
   "source": [
    "\n",
    "class FiveLinkArm:\n",
    "    \n",
    "    def __init__(self):\n",
    "        # Set parameters for the 5-link planar arm\n",
    "        self.theta1 = np.deg2rad(0)\n",
    "        self.theta2 = np.deg2rad(90)\n",
    "        self.theta3 = np.deg2rad(90)\n",
    "        self.theta4 = np.deg2rad(90)\n",
    "        self.theta5 = np.deg2rad(90)\n",
    "        self.l1 = np.random.randint(2,8)\n",
    "        self.l2 = np.random.randint(2,8)\n",
    "        self.l3 = np.random.randint(2,8)\n",
    "        self.l4 = np.random.randint(2,8)\n",
    "        self.l5 = np.random.randint(2,8)\n",
    "\n",
    "    def forwardKinematics(self, theta1, theta2, theta3,theta4,theta5):\n",
    "        # Define the homogeneous transformation matrices for the 5-link planar arm\n",
    "        self.theta1 = theta1\n",
    "        self.theta2 = theta2\n",
    "        self.theta3 = theta3\n",
    "        self.theta4 = theta4\n",
    "        self.theta5 = theta5\n",
    "        self.t01 = np.matrix([[np.cos(self.theta1), -np.sin(self.theta1), 0], \n",
    "                              [np.sin(self.theta1), np.cos(self.theta1), 0],\n",
    "                              [0, 0, 1]])\n",
    "        self.t12 = np.matrix([[np.cos(self.theta2), -np.sin(self.theta2), self.l1],\n",
    "                              [np.sin(self.theta2), np.cos(self.theta2), 0],\n",
    "                              [0, 0, 1]])\n",
    "        self.t23 = np.matrix([[np.cos(self.theta3), -np.sin(self.theta3), self.l2],\n",
    "                              [np.sin(self.theta3), np.cos(self.theta3), 0],\n",
    "                              [0, 0, 1]])        \n",
    "        self.t34 = np.matrix([[np.cos(self.theta4), -np.sin(self.theta4), self.l3],\n",
    "                              [np.sin(self.theta4), np.cos(self.theta4), 0],\n",
    "                              [0, 0, 1]])\n",
    "        self.t45 = np.matrix([[np.cos(self.theta5), -np.sin(self.theta5), self.l4],\n",
    "                              [np.sin(self.theta5), np.cos(self.theta5), 0],\n",
    "                              [0, 0, 1]])\n",
    "        self.t5end = np.matrix([[np.cos(self.theta5), -np.sin(self.theta5), self.l5],\n",
    "                                [np.sin(self.theta5), np.cos(self.theta5), 0],\n",
    "                                [0, 0, 1]])\n",
    "\n",
    "        self.t0end = self.t01*self.t12*self.t23*self.t34*self.t45*self.t5end\n",
    "        return self.t0end\n",
    "    \n",
    "    def findJointPos(self): \n",
    "        # Find the x,y position of each joint and end effector so it can be plotted\n",
    "        # Find the transformation matrices for joint 2 and joint 3 and joint 4 and joint 5\n",
    "        self.t02 = self.t01*self.t12\n",
    "        self.t03 = self.t01*self.t12*self.t23\n",
    "        self.t04 = self.t01*self.t12*self.t23*self.t34\n",
    "        self.t05 = self.t01*self.t12*self.t23*self.t34*self.t45\n",
    "        # Find the x, y coordinates for joints 2 and 3 and 4 and 5. Put them in a list j2 = [x,y]\n",
    "        j2 = [ self.t02[0, 2], self.t02[1, 2] ]\n",
    "        j3 = [ self.t03[0, 2], self.t03[1, 2] ]\n",
    "        j4 = [ self.t04[0, 2], self.t04[1, 2] ]\n",
    "        j5 = [ self.t05[0, 2], self.t05[1, 2] ]\n",
    "        endeff = [self.t0end[0,2],self.t0end[1,2]]\n",
    "        \n",
    "        self.jnt2pos, self.jnt3pos, self.jnt4pos, self.jnt5pos, self.endEffPos = j2,j3,j4,j5,endeff\n",
    "        return j2,j3,j4,j5,endeff\n",
    "    \n",
    "    def geomJacobian(self, jnt2pos=None, jnt3pos=None, jnt4pos=None, jnt5pos=None, endEffPos=None):\n",
    "        if jnt2pos is None:\n",
    "            jnt2pos=self.jnt2pos \n",
    "        if jnt3pos is None:\n",
    "            jnt3pos=self.jnt3pos\n",
    "        if jnt4pos is None:\n",
    "            jnt4pos=self.jnt4pos\n",
    "        if jnt5pos is None:\n",
    "            jnt5pos=self.jnt5pos\n",
    "        if endEffPos is None:\n",
    "            endEffPos=self.endEffPos\n",
    "        ai = np.array([0,0,1])\n",
    "        col0 = np.array(endEffPos + [0])\n",
    "        col1 = np.array(endEffPos + [0]) - np.array(jnt2pos + [0])\n",
    "        col2 = np.array(endEffPos + [0]) - np.array(jnt3pos + [0])\n",
    "        col3 = np.array(endEffPos + [0]) - np.array(jnt4pos + [0])\n",
    "        col4 = np.array(endEffPos + [0]) - np.array(jnt5pos + [0])\n",
    "        J = np.array([np.cross(ai,col0), np.cross(ai,col1), np.cross(ai,col2), np.cross(ai,col3),\n",
    "                      np.cross(ai,col4)]).T \n",
    "        return J"
   ]
  },
  {
   "cell_type": "code",
   "execution_count": 3,
   "metadata": {},
   "outputs": [],
   "source": [
    "def plotArm(jnt2pos, jnt3pos, jnt4pos, jnt5pos, endEffectPos, target=None, step=None):\n",
    "    # set up figure\n",
    "    fig = plt.figure(figsize=(10,10))\n",
    "    ax = fig.add_subplot(111, autoscale_on=False, xlim=(-25, 25), ylim=(-25, 25))\n",
    "    ax.grid()\n",
    "    \n",
    "    if step is not None:\n",
    "        step = np.array(step)\n",
    "        plt.scatter(step[:, 0],step[:, 1], color='lightblue', marker='o')\n",
    "        plt.plot(step[:, 0],step[:, 1], color='lightblue')\n",
    "    if target is not None:\n",
    "        target = np.array(target)\n",
    "        plt.scatter(target[:, 0],target[:, 1], color='red', marker='o')\n",
    "        \n",
    "    line, = ax.plot([], [], 'o-', lw=4, mew=5)\n",
    "    time_text = ax.text(0.02, 0.95, '', transform=ax.transAxes)\n",
    "\n",
    "    line.set_data([], [])\n",
    "    time_text.set_text('')\n",
    "    x = np.array([0, jnt2pos[0], jnt3pos[0], jnt4pos[0], jnt5pos[0], endEffectPos[0]])\n",
    "    y = np.array([0, jnt2pos[1], jnt3pos[1], jnt4pos[1], jnt5pos[1], endEffectPos[1]])\n",
    "    line.set_data((x,y))\n",
    "    \n",
    "    plt.show()\n",
    "    \n",
    "# gif animation plotter\n",
    "def plotArm2(jnt2pos, jnt3pos, jnt4pos, jnt5pos, endEffectPos,x1,y1,x2,y2, target=None, step=None, fig=None, camera=None):\n",
    "    # set up figure\n",
    "    ax = fig.add_subplot(111, autoscale_on=False,\n",
    "                         xlim=(-25, 25), ylim=(-25, 25))\n",
    "    ax.grid()\n",
    "    line, = ax.plot([], [], 'o-', lw=4, mew=5, color='lightblue')\n",
    "    time_text = ax.text(0.02, 0.95, '', transform=ax.transAxes)\n",
    "\n",
    "    line.set_data([], [])\n",
    "    time_text.set_text('')\n",
    "    x = np.array([0, jnt2pos[0], jnt3pos[0], jnt4pos[0], jnt5pos[0], endEffectPos[0]])\n",
    "    y = np.array([0, jnt2pos[1], jnt3pos[1], jnt4pos[1], jnt5pos[1], endEffectPos[1]])\n",
    "    line.set_data((x,y))\n",
    "\n",
    "    if(not np.isnan(x1[0])):\n",
    "            plt.plot([jnt2pos[0],jnt3pos[0],x1[0],jnt2pos[0]],\n",
    "                     [jnt2pos[1],jnt3pos[1],y1[0],jnt2pos[1]],'o-', lw=2, mew=5, color='green')\n",
    "    if(not np.isnan(x1[1])):\n",
    "            plt.plot([jnt3pos[0],jnt4pos[0],x1[1],jnt3pos[0]],\n",
    "                     [jnt3pos[1],jnt4pos[1],y1[1],jnt3pos[1]],'o-', lw=2, mew=5, color='yellow')\n",
    "    if(not np.isnan(x1[2])):\n",
    "            plt.plot([jnt4pos[0],jnt5pos[0],x1[2],jnt4pos[0]],\n",
    "                     [jnt4pos[1],jnt5pos[1],y1[2],jnt4pos[1]],'o-', lw=2, mew=5, color='black')\n",
    "    if(not np.isnan(x1[3])):\n",
    "            plt.plot([jnt5pos[0],endEffectPos[0],x1[3],jnt5pos[0]],\n",
    "                     [jnt5pos[1],endEffectPos[1],y1[3],jnt5pos[1]],'o-', lw=2, mew=5, color='brown')\n",
    "    \n",
    "    plt.plot([endEffectPos[0],x2[0]],[endEffectPos[1],y2[0]],'o-', lw=2, mew=5, color='lightblue')\n",
    "    plt.plot([endEffectPos[0],x2[1]],[endEffectPos[1],y2[1]],'o-', lw=2, mew=5, color='lightblue')\n",
    "\n",
    "\n",
    "    if step is not None:\n",
    "        step = np.array(step)\n",
    "        plt.scatter(step[:, 0],step[:, 1], color='lightblue', marker='o')\n",
    "        plt.plot(step[:, 0],step[:, 1], color='lightblue')\n",
    "    if target is not None:\n",
    "        target = np.array(target)\n",
    "        plt.scatter(target[:, 0],target[:, 1], color='red', marker='o')\n",
    "\n",
    "    camera.snap()"
   ]
  },
  {
   "cell_type": "markdown",
   "metadata": {},
   "source": [
    "In this part, let's plan some simple polynomial trajectories in the work space. "
   ]
  },
  {
   "cell_type": "markdown",
   "metadata": {},
   "source": [
    "First, setup a simple environment with the arm manipulator and four intermediate interpolation points."
   ]
  },
  {
   "cell_type": "code",
   "execution_count": 4,
   "metadata": {},
   "outputs": [],
   "source": [
    "def create_simulation(animation_index,samples):\n",
    "    \n",
    "    # Setup our new manipulator\n",
    "    arm = FiveLinkArm()\n",
    "    \n",
    "    # define the initial configuration of the manipulator (you are welcomed to try other values)\n",
    "    initTheta = [np.deg2rad(0),np.deg2rad(45),np.deg2rad(-45),np.deg2rad(45),np.deg2rad(-45)]\n",
    "\n",
    "    # Initialise the arm with the initial values\n",
    "    _ = arm.forwardKinematics(*initTheta)\n",
    "\n",
    "    # Get the initial end-effector position \n",
    "    init_joint2pos, init_joint3pos, init_joint4pos, init_joint5pos, EF_init_pos = arm.findJointPos()\n",
    "\n",
    "    # Define the target postions of the end-effector\n",
    "    # EF_target_pos = np.array([[EF_init_pos[0], 6.,2.,-4.,-8.],\n",
    "    #                           [EF_init_pos[1], -6.,8.,-5.,6.]]).T\n",
    "    ##Choose points randomly, choose x equally spaced and y randomly\n",
    "    L=arm.l1+arm.l2+arm.l3+arm.l4+arm.l5\n",
    "    print(L)\n",
    "    x_points=np.array([2/3*L, 1/3*L, -1/3*L, -2/3*L])\n",
    "\n",
    "    y_points=[]\n",
    "    R=3*L/4\n",
    "    for i in range(4):\n",
    "        y_points.append(random.uniform(-1*np.sqrt(R**2-x_points[i]**2),\n",
    "                                          np.sqrt(R**2-x_points[i]**2)))\n",
    "    y_points=np.array(y_points)\n",
    "    \n",
    "    EF_target_pos = np.array([[EF_init_pos[0], x_points[0],x_points[1],x_points[2],x_points[3]],\n",
    "                              [EF_init_pos[1], y_points[0],y_points[1],y_points[2],y_points[3]]]).T\n",
    "\n",
    "    # Plot the pose of the arm\n",
    "    #plotArm(*arm.findJointPos(), target=EF_target_pos)\n",
    "    print(f\"The interpolation points are stored in the variable \\\"EF_target_pos\\\": \\n{EF_target_pos}\")\n",
    "    \n",
    "    pol = np.polyfit(EF_target_pos[:, 0], EF_target_pos[:, 1], EF_target_pos.shape[0]-1)  # polynomial coefficients\n",
    "    \n",
    "    # Plotting the planned trajectory\n",
    "    #epsilon = 100\n",
    "    epsilon = samples\n",
    "    \n",
    "    xx = np.linspace(EF_target_pos[0,0],EF_target_pos[-1,0], epsilon)\n",
    "    yy = np.polyval(pol,xx)   \n",
    "    curve = np.hstack([xx[:, None], yy[:, None]]) \n",
    "    \n",
    "    interpolated_points=curve\n",
    "\n",
    "#     plotArm(*arm.findJointPos(), target=EF_target_pos, step=interpolated_points)\n",
    "    print(f\"The intermediate points are stored in the variable \\\"interpolated_points\\\"\")\n",
    "    \n",
    "    # set the current E-F position for the IK loop\n",
    "    joint2pos, joint3pos, joint4pos, joint5pos, endEffectorPos = init_joint2pos, init_joint3pos, init_joint4pos, init_joint5pos, EF_init_pos\n",
    "    # set the initial robot configuration\n",
    "    newTheta = initTheta\n",
    "\n",
    "    # Set up the animation generator\n",
    "    fig = plt.figure(figsize=(10,10))\n",
    "    camera = Camera(fig)\n",
    "\n",
    "    temp=np.random.randint(0,2,4)\n",
    "    temp_angle=np.random.randint(15,60,4) \n",
    "    print(temp)\n",
    "    print(temp_angle)\n",
    "    \n",
    "    temp_eeff_angle=np.append(np.linspace(0,45,int(interpolated_points.shape[0]/8)),\n",
    "                          np.linspace(45,0,int(interpolated_points.shape[0]/8)))\n",
    "    \n",
    "    eeff_len=np.random.randint(2,5)\n",
    "    \n",
    "    keypoints_data=pd.DataFrame(columns=range((6+np.sum(temp)+2)*2),dtype=float)\n",
    "\n",
    "    for i in range(interpolated_points.shape[0]):\n",
    "        J = arm.geomJacobian()\n",
    "\n",
    "        newgoal = interpolated_points[i, :]\n",
    "        deltaStep = newgoal - endEffectorPos\n",
    "        subtarget = np.array([deltaStep[0], deltaStep[1], 0]) \n",
    "\n",
    "        radTheta = np.linalg.pinv(J) @ subtarget\n",
    "        newTheta = newTheta + radTheta\n",
    "\n",
    "        # ----------- Do forward kinematics to plot the arm ---------------\n",
    "        _ = arm.forwardKinematics(newTheta[0],newTheta[1],newTheta[2],newTheta[3],newTheta[4])\n",
    "        joint2pos, joint3pos, joint4pos, joint5pos, endEffectorPos = arm.findJointPos()\n",
    "\n",
    "        x1=[]\n",
    "        y1=[]\n",
    "        x2=[]\n",
    "        y2=[]\n",
    "\n",
    "        if(temp[0]==1):\n",
    "            x1=x1+[arm.l1*np.cos(newTheta[0]) \\\n",
    "                   +2*np.cos(newTheta[0]+newTheta[1]+np.deg2rad(temp_angle[0]))]\n",
    "            y1=y1+[arm.l1*np.sin(newTheta[0]) \\\n",
    "                   +2*np.sin(newTheta[0]+newTheta[1]+np.deg2rad(temp_angle[0]))]\n",
    "        else:\n",
    "            x1=x1+[np.nan]\n",
    "            y1=y1+[np.nan]\n",
    "\n",
    "        if(temp[1]==1):\n",
    "            x1=x1+[arm.l1*np.cos(newTheta[0]) \\\n",
    "                   +arm.l2*np.cos(newTheta[0]+newTheta[1]) \\\n",
    "                   +2*np.cos(newTheta[0]+newTheta[1]+newTheta[2]+np.deg2rad(temp_angle[1]))]\n",
    "            y1=y1+[arm.l1*np.sin(newTheta[0]) \\\n",
    "                   +arm.l2*np.sin(newTheta[0]+newTheta[1]) \\\n",
    "                   +2*np.sin(newTheta[0]+newTheta[1]+newTheta[2]+np.deg2rad(temp_angle[1]))]\n",
    "        else:\n",
    "            x1=x1+[np.nan]\n",
    "            y1=y1+[np.nan]\n",
    "\n",
    "        if(temp[2]==1):\n",
    "            x1=x1+[arm.l1*np.cos(newTheta[0]) \\\n",
    "                   +arm.l2*np.cos(newTheta[0]+newTheta[1]) \\\n",
    "                   +arm.l3*np.cos(newTheta[0]+newTheta[1]+newTheta[2]) \\\n",
    "                   +2*np.cos(newTheta[0]+newTheta[1]+newTheta[2]+newTheta[3]+np.deg2rad(temp_angle[2]))]\n",
    "            y1=y1+[arm.l1*np.sin(newTheta[0]) \\\n",
    "                   +arm.l2*np.sin(newTheta[0]+newTheta[1]) \\\n",
    "                   +arm.l3*np.sin(newTheta[0]+newTheta[1]+newTheta[2]) \\\n",
    "                   +2*np.sin(newTheta[0]+newTheta[1]+newTheta[2]+newTheta[3]+np.deg2rad(temp_angle[2]))]\n",
    "        else:\n",
    "            x1=x1+[np.nan]\n",
    "            y1=y1+[np.nan]\n",
    "\n",
    "        if(temp[3]==1):\n",
    "            x1=x1+[arm.l1*np.cos(newTheta[0]) \\\n",
    "                   +arm.l2*np.cos(newTheta[0]+newTheta[1]) \\\n",
    "                   +arm.l3*np.cos(newTheta[0]+newTheta[1]+newTheta[2]) \\\n",
    "                   +arm.l4*np.cos(newTheta[0]+newTheta[1]+newTheta[2]+newTheta[3]) \\\n",
    "                   +2*np.cos(newTheta[0]+newTheta[1]+newTheta[2]+newTheta[3]+newTheta[4]+np.deg2rad(temp_angle[3]))]\n",
    "            y1=y1+[arm.l1*np.sin(newTheta[0]) \\\n",
    "                   +arm.l2*np.sin(newTheta[0]+newTheta[1]) \\\n",
    "                   +arm.l3*np.sin(newTheta[0]+newTheta[1]+newTheta[2]) \\\n",
    "                   +arm.l4*np.sin(newTheta[0]+newTheta[1]+newTheta[2]+newTheta[3]) \\\n",
    "                   +2*np.sin(newTheta[0]+newTheta[1]+newTheta[2]+newTheta[3]+newTheta[4]+np.deg2rad(temp_angle[3]))]\n",
    "        else:\n",
    "            x1=x1+[np.nan]\n",
    "            y1=y1+[np.nan]\n",
    "\n",
    "        x2=x2+[arm.l1*np.cos(newTheta[0]) \\\n",
    "               +arm.l2*np.cos(newTheta[0]+newTheta[1]) \\\n",
    "               +arm.l3*np.cos(newTheta[0]+newTheta[1]+newTheta[2]) \\\n",
    "               +arm.l4*np.cos(newTheta[0]+newTheta[1]+newTheta[2]+newTheta[3]) \\\n",
    "               +arm.l5*np.cos(newTheta[0]+newTheta[1]+newTheta[2]+newTheta[3]+newTheta[4]) \\\n",
    "               +eeff_len*np.cos(newTheta[0]+newTheta[1]+newTheta[2]+newTheta[3]+newTheta[4]+np.deg2rad(temp_eeff_angle[i%len(temp_eeff_angle)]))]\n",
    "    \n",
    "        y2=y2+[arm.l1*np.sin(newTheta[0]) \\\n",
    "               +arm.l2*np.sin(newTheta[0]+newTheta[1]) \\\n",
    "               +arm.l3*np.sin(newTheta[0]+newTheta[1]+newTheta[2]) \\\n",
    "               +arm.l4*np.sin(newTheta[0]+newTheta[1]+newTheta[2]+newTheta[3]) \\\n",
    "               +arm.l5*np.sin(newTheta[0]+newTheta[1]+newTheta[2]+newTheta[3]+newTheta[4]) \\\n",
    "               +eeff_len*np.sin(newTheta[0]+newTheta[1]+newTheta[2]+newTheta[3]+newTheta[4]+np.deg2rad(temp_eeff_angle[i%len(temp_eeff_angle)]))]\n",
    "        \n",
    "        x2=x2+[arm.l1*np.cos(newTheta[0]) \\\n",
    "               +arm.l2*np.cos(newTheta[0]+newTheta[1]) \\\n",
    "               +arm.l3*np.cos(newTheta[0]+newTheta[1]+newTheta[2]) \\\n",
    "               +arm.l4*np.cos(newTheta[0]+newTheta[1]+newTheta[2]+newTheta[3]) \\\n",
    "               +arm.l5*np.cos(newTheta[0]+newTheta[1]+newTheta[2]+newTheta[3]+newTheta[4]) \\\n",
    "               +eeff_len*np.cos(newTheta[0]+newTheta[1]+newTheta[2]+newTheta[3]+newTheta[4]-np.deg2rad(temp_eeff_angle[i%len(temp_eeff_angle)]))]\n",
    "    \n",
    "        y2=y2+[arm.l1*np.sin(newTheta[0]) \\\n",
    "               +arm.l2*np.sin(newTheta[0]+newTheta[1]) \\\n",
    "               +arm.l3*np.sin(newTheta[0]+newTheta[1]+newTheta[2]) \\\n",
    "               +arm.l4*np.sin(newTheta[0]+newTheta[1]+newTheta[2]+newTheta[3]) \\\n",
    "               +arm.l5*np.sin(newTheta[0]+newTheta[1]+newTheta[2]+newTheta[3]+newTheta[4]) \\\n",
    "               +eeff_len*np.sin(newTheta[0]+newTheta[1]+newTheta[2]+newTheta[3]+newTheta[4]-np.deg2rad(temp_eeff_angle[i%len(temp_eeff_angle)]))]\n",
    "\n",
    "        temp_keypoints=np.array([0,0,joint2pos[0],joint2pos[1],joint3pos[0],joint3pos[1],joint4pos[0],joint4pos[1],\n",
    "                                 joint5pos[0],joint5pos[1],endEffectorPos[0],endEffectorPos[1]])\n",
    "        for k in range(len(temp)):\n",
    "            if(temp[k]!=0):\n",
    "                temp_keypoints=np.append(temp_keypoints,np.array([x1[k],y1[k]]))\n",
    "        \n",
    "        temp_keypoints=np.append(temp_keypoints,np.array([x2[0],y2[0],x2[1],y2[1]]))\n",
    "        \n",
    "        keypoints_data = keypoints_data.append(pd.DataFrame(temp_keypoints[None,:],columns=keypoints_data.columns),\n",
    "                                               ignore_index = True)\n",
    "        \n",
    "        plotArm2(joint2pos, joint3pos, joint4pos, joint5pos, endEffectorPos,x1,\n",
    "                 y1,x2,y2, target=EF_target_pos, fig=fig, camera=camera)\n",
    "\n",
    "\n",
    "    plt.close()\n",
    "    animation = camera.animate()\n",
    "    animation.save('./animated_motionv9/animated_motion'+str(animation_index)+'.gif', writer = 'imagemagick')\n",
    "    \n",
    "    # create the adjacency matrix\n",
    "    adj_mat_size=sum(np.invert(np.isnan(x1)))\n",
    "    adj_mat=np.zeros((6+adj_mat_size+2,6+adj_mat_size+2))\n",
    "    adj_mat[0][1]=1\n",
    "    adj_mat[1][2]=1\n",
    "    adj_mat[2][3]=1\n",
    "    adj_mat[3][4]=1\n",
    "    adj_mat[4][5]=1\n",
    "    c2=1\n",
    "    for i in range(len(x1)):\n",
    "        if(not np.isnan(x1[i])):\n",
    "            adj_mat[i+1][5+c2]=1\n",
    "            adj_mat[i+2][5+c2]=1\n",
    "            c2=c2+1\n",
    "    adj_mat[5][5+c2]=1\n",
    "    adj_mat[5][5+c2+1]=1\n",
    "    \n",
    "    pd.DataFrame(adj_mat).astype(int).to_csv('./animated_motionv9/adj_mat'+str(animation_index)+'.csv')\n",
    "    keypoints_data.to_csv('./animated_motionv9/ts_data'+str(animation_index)+'.csv')    \n",
    "    "
   ]
  },
  {
   "cell_type": "code",
   "execution_count": 5,
   "metadata": {},
   "outputs": [],
   "source": [
    "# create_simulation(6005,50)"
   ]
  },
  {
   "cell_type": "code",
   "execution_count": 6,
   "metadata": {},
   "outputs": [],
   "source": [
    "import os\n",
    "os.environ['MAGICK_THREAD_LIMIT'] = '2'"
   ]
  },
  {
   "cell_type": "code",
   "execution_count": 7,
   "metadata": {},
   "outputs": [
    {
     "name": "stdout",
     "output_type": "stream",
     "text": [
      "24\n",
      "The interpolation points are stored in the variable \"EF_target_pos\": \n",
      "[[ 21.94974747   4.94974747]\n",
      " [ 16.          -6.01792944]\n",
      " [  8.         -14.26970075]\n",
      " [ -8.          -7.40590882]\n",
      " [-16.          -0.17154254]]\n",
      "The intermediate points are stored in the variable \"interpolated_points\"\n",
      "[0 0 0 0]\n",
      "[42 26 45 46]\n"
     ]
    },
    {
     "name": "stderr",
     "output_type": "stream",
     "text": [
      "<ipython-input-3-da811ff97447>:29: MatplotlibDeprecationWarning: Adding an axes using the same arguments as a previous axes currently reuses the earlier instance.  In a future version, a new instance will always be created and returned.  Meanwhile, this warning can be suppressed, and the future behavior ensured, by passing a unique label to each axes instance.\n",
      "  ax = fig.add_subplot(111, autoscale_on=False,\n"
     ]
    },
    {
     "name": "stdout",
     "output_type": "stream",
     "text": [
      "15\n",
      "The interpolation points are stored in the variable \"EF_target_pos\": \n",
      "[[ 13.82842712   2.82842712]\n",
      " [ 10.          -2.44857987]\n",
      " [  5.           0.40759024]\n",
      " [ -5.          -3.04734368]\n",
      " [-10.           4.51907529]]\n",
      "The intermediate points are stored in the variable \"interpolated_points\"\n",
      "[0 1 1 0]\n",
      "[17 21 31 30]\n"
     ]
    },
    {
     "name": "stderr",
     "output_type": "stream",
     "text": [
      "<ipython-input-3-da811ff97447>:29: MatplotlibDeprecationWarning: Adding an axes using the same arguments as a previous axes currently reuses the earlier instance.  In a future version, a new instance will always be created and returned.  Meanwhile, this warning can be suppressed, and the future behavior ensured, by passing a unique label to each axes instance.\n",
      "  ax = fig.add_subplot(111, autoscale_on=False,\n"
     ]
    },
    {
     "name": "stdout",
     "output_type": "stream",
     "text": [
      "17\n",
      "The interpolation points are stored in the variable \"EF_target_pos\": \n",
      "[[ 15.82842712   2.82842712]\n",
      " [ 11.33333333  -4.58862848]\n",
      " [  5.66666667   1.40437619]\n",
      " [ -5.66666667   6.26337276]\n",
      " [-11.33333333  -1.31162167]]\n",
      "The intermediate points are stored in the variable \"interpolated_points\"\n",
      "[1 1 1 0]\n",
      "[39 32 51 23]\n"
     ]
    },
    {
     "name": "stderr",
     "output_type": "stream",
     "text": [
      "<ipython-input-3-da811ff97447>:29: MatplotlibDeprecationWarning: Adding an axes using the same arguments as a previous axes currently reuses the earlier instance.  In a future version, a new instance will always be created and returned.  Meanwhile, this warning can be suppressed, and the future behavior ensured, by passing a unique label to each axes instance.\n",
      "  ax = fig.add_subplot(111, autoscale_on=False,\n"
     ]
    },
    {
     "name": "stdout",
     "output_type": "stream",
     "text": [
      "20\n",
      "The interpolation points are stored in the variable \"EF_target_pos\": \n",
      "[[ 17.36396103   6.36396103]\n",
      " [ 13.33333333  -0.13193343]\n",
      " [  6.66666667  -7.56684474]\n",
      " [ -6.66666667 -12.9961196 ]\n",
      " [-13.33333333  -4.9648338 ]]\n",
      "The intermediate points are stored in the variable \"interpolated_points\"\n",
      "[0 1 0 0]\n",
      "[59 48 20 48]\n"
     ]
    },
    {
     "name": "stderr",
     "output_type": "stream",
     "text": [
      "<ipython-input-3-da811ff97447>:29: MatplotlibDeprecationWarning: Adding an axes using the same arguments as a previous axes currently reuses the earlier instance.  In a future version, a new instance will always be created and returned.  Meanwhile, this warning can be suppressed, and the future behavior ensured, by passing a unique label to each axes instance.\n",
      "  ax = fig.add_subplot(111, autoscale_on=False,\n"
     ]
    },
    {
     "name": "stdout",
     "output_type": "stream",
     "text": [
      "27\n",
      "The interpolation points are stored in the variable \"EF_target_pos\": \n",
      "[[ 25.24264069   4.24264069]\n",
      " [ 18.          -0.58240908]\n",
      " [  9.          -7.58970133]\n",
      " [ -9.         -14.28019447]\n",
      " [-18.          -8.79955072]]\n",
      "The intermediate points are stored in the variable \"interpolated_points\"\n",
      "[1 0 1 0]\n",
      "[29 56 34 53]\n"
     ]
    },
    {
     "name": "stderr",
     "output_type": "stream",
     "text": [
      "<ipython-input-3-da811ff97447>:29: MatplotlibDeprecationWarning: Adding an axes using the same arguments as a previous axes currently reuses the earlier instance.  In a future version, a new instance will always be created and returned.  Meanwhile, this warning can be suppressed, and the future behavior ensured, by passing a unique label to each axes instance.\n",
      "  ax = fig.add_subplot(111, autoscale_on=False,\n"
     ]
    },
    {
     "name": "stdout",
     "output_type": "stream",
     "text": [
      "22\n",
      "The interpolation points are stored in the variable \"EF_target_pos\": \n",
      "[[ 19.07106781   7.07106781]\n",
      " [ 14.66666667  -3.85335268]\n",
      " [  7.33333333   8.78369413]\n",
      " [ -7.33333333  -1.76495236]\n",
      " [-14.66666667  -2.97700371]]\n",
      "The intermediate points are stored in the variable \"interpolated_points\"\n",
      "[0 1 0 0]\n",
      "[44 18 20 57]\n"
     ]
    },
    {
     "name": "stderr",
     "output_type": "stream",
     "text": [
      "<ipython-input-3-da811ff97447>:29: MatplotlibDeprecationWarning: Adding an axes using the same arguments as a previous axes currently reuses the earlier instance.  In a future version, a new instance will always be created and returned.  Meanwhile, this warning can be suppressed, and the future behavior ensured, by passing a unique label to each axes instance.\n",
      "  ax = fig.add_subplot(111, autoscale_on=False,\n"
     ]
    },
    {
     "name": "stdout",
     "output_type": "stream",
     "text": [
      "26\n",
      "The interpolation points are stored in the variable \"EF_target_pos\": \n",
      "[[ 22.48528137   8.48528137]\n",
      " [ 17.33333333  -4.17272916]\n",
      " [  8.66666667   0.51790539]\n",
      " [ -8.66666667 -13.58700458]\n",
      " [-17.33333333   0.92979398]]\n",
      "The intermediate points are stored in the variable \"interpolated_points\"\n",
      "[0 0 1 1]\n",
      "[23 54 20 49]\n"
     ]
    },
    {
     "name": "stderr",
     "output_type": "stream",
     "text": [
      "<ipython-input-3-da811ff97447>:29: MatplotlibDeprecationWarning: Adding an axes using the same arguments as a previous axes currently reuses the earlier instance.  In a future version, a new instance will always be created and returned.  Meanwhile, this warning can be suppressed, and the future behavior ensured, by passing a unique label to each axes instance.\n",
      "  ax = fig.add_subplot(111, autoscale_on=False,\n"
     ]
    },
    {
     "name": "stdout",
     "output_type": "stream",
     "text": [
      "23\n",
      "The interpolation points are stored in the variable \"EF_target_pos\": \n",
      "[[ 19.48528137   8.48528137]\n",
      " [ 15.33333333   1.09896328]\n",
      " [  7.66666667  -2.13681607]\n",
      " [ -7.66666667  -5.22977002]\n",
      " [-15.33333333   6.925393  ]]\n",
      "The intermediate points are stored in the variable \"interpolated_points\"\n",
      "[1 1 1 1]\n",
      "[16 24 41 31]\n"
     ]
    },
    {
     "name": "stderr",
     "output_type": "stream",
     "text": [
      "<ipython-input-3-da811ff97447>:29: MatplotlibDeprecationWarning: Adding an axes using the same arguments as a previous axes currently reuses the earlier instance.  In a future version, a new instance will always be created and returned.  Meanwhile, this warning can be suppressed, and the future behavior ensured, by passing a unique label to each axes instance.\n",
      "  ax = fig.add_subplot(111, autoscale_on=False,\n"
     ]
    },
    {
     "name": "stdout",
     "output_type": "stream",
     "text": [
      "19\n",
      "The interpolation points are stored in the variable \"EF_target_pos\": \n",
      "[[ 17.82842712   2.82842712]\n",
      " [ 12.66666667   1.05939376]\n",
      " [  6.33333333  12.16424485]\n",
      " [ -6.33333333   7.60758824]\n",
      " [-12.66666667  -5.77514495]]\n",
      "The intermediate points are stored in the variable \"interpolated_points\"\n",
      "[1 1 1 0]\n",
      "[44 41 23 45]\n"
     ]
    },
    {
     "name": "stderr",
     "output_type": "stream",
     "text": [
      "<ipython-input-3-da811ff97447>:29: MatplotlibDeprecationWarning: Adding an axes using the same arguments as a previous axes currently reuses the earlier instance.  In a future version, a new instance will always be created and returned.  Meanwhile, this warning can be suppressed, and the future behavior ensured, by passing a unique label to each axes instance.\n",
      "  ax = fig.add_subplot(111, autoscale_on=False,\n"
     ]
    },
    {
     "name": "stdout",
     "output_type": "stream",
     "text": [
      "27\n",
      "The interpolation points are stored in the variable \"EF_target_pos\": \n",
      "[[ 24.94974747   4.94974747]\n",
      " [ 18.          -5.60631085]\n",
      " [  9.         -11.24882557]\n",
      " [ -9.         -11.16514373]\n",
      " [-18.           0.89688687]]\n",
      "The intermediate points are stored in the variable \"interpolated_points\"\n",
      "[0 1 0 1]\n",
      "[59 52 42 58]\n"
     ]
    },
    {
     "name": "stderr",
     "output_type": "stream",
     "text": [
      "<ipython-input-3-da811ff97447>:29: MatplotlibDeprecationWarning: Adding an axes using the same arguments as a previous axes currently reuses the earlier instance.  In a future version, a new instance will always be created and returned.  Meanwhile, this warning can be suppressed, and the future behavior ensured, by passing a unique label to each axes instance.\n",
      "  ax = fig.add_subplot(111, autoscale_on=False,\n"
     ]
    },
    {
     "name": "stdout",
     "output_type": "stream",
     "text": [
      "22\n",
      "The interpolation points are stored in the variable \"EF_target_pos\": \n",
      "[[ 19.07106781   7.07106781]\n",
      " [ 14.66666667  -4.47969282]\n",
      " [  7.33333333   2.08036231]\n",
      " [ -7.33333333  -4.29925846]\n",
      " [-14.66666667  -3.49968677]]\n",
      "The intermediate points are stored in the variable \"interpolated_points\"\n",
      "[1 1 0 1]\n",
      "[21 25 55 23]\n"
     ]
    },
    {
     "name": "stderr",
     "output_type": "stream",
     "text": [
      "<ipython-input-3-da811ff97447>:29: MatplotlibDeprecationWarning: Adding an axes using the same arguments as a previous axes currently reuses the earlier instance.  In a future version, a new instance will always be created and returned.  Meanwhile, this warning can be suppressed, and the future behavior ensured, by passing a unique label to each axes instance.\n",
      "  ax = fig.add_subplot(111, autoscale_on=False,\n"
     ]
    },
    {
     "name": "stdout",
     "output_type": "stream",
     "text": [
      "23\n",
      "The interpolation points are stored in the variable \"EF_target_pos\": \n",
      "[[ 19.19238816   9.19238816]\n",
      " [ 15.33333333  -7.02284204]\n",
      " [  7.66666667  -8.60361222]\n",
      " [ -7.66666667   5.38533239]\n",
      " [-15.33333333   3.55963808]]\n",
      "The intermediate points are stored in the variable \"interpolated_points\"\n",
      "[1 0 0 0]\n",
      "[31 40 24 47]\n"
     ]
    },
    {
     "name": "stderr",
     "output_type": "stream",
     "text": [
      "<ipython-input-3-da811ff97447>:29: MatplotlibDeprecationWarning: Adding an axes using the same arguments as a previous axes currently reuses the earlier instance.  In a future version, a new instance will always be created and returned.  Meanwhile, this warning can be suppressed, and the future behavior ensured, by passing a unique label to each axes instance.\n",
      "  ax = fig.add_subplot(111, autoscale_on=False,\n"
     ]
    },
    {
     "name": "stdout",
     "output_type": "stream",
     "text": [
      "23\n",
      "The interpolation points are stored in the variable \"EF_target_pos\": \n",
      "[[ 20.07106781   7.07106781]\n",
      " [ 15.33333333   5.01330296]\n",
      " [  7.66666667  11.87923526]\n",
      " [ -7.66666667  13.43801945]\n",
      " [-15.33333333   0.843911  ]]\n",
      "The intermediate points are stored in the variable \"interpolated_points\"\n",
      "[1 1 0 1]\n",
      "[27 42 48 55]\n"
     ]
    },
    {
     "name": "stderr",
     "output_type": "stream",
     "text": [
      "<ipython-input-3-da811ff97447>:29: MatplotlibDeprecationWarning: Adding an axes using the same arguments as a previous axes currently reuses the earlier instance.  In a future version, a new instance will always be created and returned.  Meanwhile, this warning can be suppressed, and the future behavior ensured, by passing a unique label to each axes instance.\n",
      "  ax = fig.add_subplot(111, autoscale_on=False,\n"
     ]
    },
    {
     "name": "stdout",
     "output_type": "stream",
     "text": [
      "19\n",
      "The interpolation points are stored in the variable \"EF_target_pos\": \n",
      "[[ 16.65685425   5.65685425]\n",
      " [ 12.66666667  -1.34288409]\n",
      " [  6.33333333 -12.13791269]\n",
      " [ -6.33333333   1.08304646]\n",
      " [-12.66666667   4.84635875]]\n",
      "The intermediate points are stored in the variable \"interpolated_points\"\n",
      "[0 1 0 0]\n",
      "[29 24 47 44]\n"
     ]
    },
    {
     "name": "stderr",
     "output_type": "stream",
     "text": [
      "<ipython-input-3-da811ff97447>:29: MatplotlibDeprecationWarning: Adding an axes using the same arguments as a previous axes currently reuses the earlier instance.  In a future version, a new instance will always be created and returned.  Meanwhile, this warning can be suppressed, and the future behavior ensured, by passing a unique label to each axes instance.\n",
      "  ax = fig.add_subplot(111, autoscale_on=False,\n"
     ]
    },
    {
     "name": "stdout",
     "output_type": "stream",
     "text": [
      "30\n",
      "The interpolation points are stored in the variable \"EF_target_pos\": \n",
      "[[ 25.89949494   9.89949494]\n",
      " [ 20.           8.71806806]\n",
      " [ 10.         -12.05430019]\n",
      " [-10.         -19.01685073]\n",
      " [-20.           0.7106106 ]]\n",
      "The intermediate points are stored in the variable \"interpolated_points\"\n",
      "[1 1 0 0]\n",
      "[29 57 59 51]\n"
     ]
    },
    {
     "name": "stderr",
     "output_type": "stream",
     "text": [
      "<ipython-input-3-da811ff97447>:29: MatplotlibDeprecationWarning: Adding an axes using the same arguments as a previous axes currently reuses the earlier instance.  In a future version, a new instance will always be created and returned.  Meanwhile, this warning can be suppressed, and the future behavior ensured, by passing a unique label to each axes instance.\n",
      "  ax = fig.add_subplot(111, autoscale_on=False,\n"
     ]
    },
    {
     "name": "stdout",
     "output_type": "stream",
     "text": [
      "27\n",
      "The interpolation points are stored in the variable \"EF_target_pos\": \n",
      "[[ 23.19238816   9.19238816]\n",
      " [ 18.           6.27517309]\n",
      " [  9.          -5.4774145 ]\n",
      " [ -9.         -17.35847323]\n",
      " [-18.          -4.23241617]]\n",
      "The intermediate points are stored in the variable \"interpolated_points\"\n",
      "[1 0 0 0]\n",
      "[49 46 54 56]\n"
     ]
    },
    {
     "name": "stderr",
     "output_type": "stream",
     "text": [
      "<ipython-input-3-da811ff97447>:29: MatplotlibDeprecationWarning: Adding an axes using the same arguments as a previous axes currently reuses the earlier instance.  In a future version, a new instance will always be created and returned.  Meanwhile, this warning can be suppressed, and the future behavior ensured, by passing a unique label to each axes instance.\n",
      "  ax = fig.add_subplot(111, autoscale_on=False,\n"
     ]
    },
    {
     "name": "stdout",
     "output_type": "stream",
     "text": [
      "23\n",
      "The interpolation points are stored in the variable \"EF_target_pos\": \n",
      "[[ 19.77817459   7.77817459]\n",
      " [ 15.33333333  -4.16430688]\n",
      " [  7.66666667   3.47631833]\n",
      " [ -7.66666667  13.03431645]\n",
      " [-15.33333333  -7.37782196]]\n",
      "The intermediate points are stored in the variable \"interpolated_points\"\n",
      "[1 1 0 1]\n",
      "[28 36 29 31]\n"
     ]
    },
    {
     "name": "stderr",
     "output_type": "stream",
     "text": [
      "<ipython-input-3-da811ff97447>:29: MatplotlibDeprecationWarning: Adding an axes using the same arguments as a previous axes currently reuses the earlier instance.  In a future version, a new instance will always be created and returned.  Meanwhile, this warning can be suppressed, and the future behavior ensured, by passing a unique label to each axes instance.\n",
      "  ax = fig.add_subplot(111, autoscale_on=False,\n"
     ]
    },
    {
     "name": "stdout",
     "output_type": "stream",
     "text": [
      "16\n",
      "The interpolation points are stored in the variable \"EF_target_pos\": \n",
      "[[ 14.53553391   3.53553391]\n",
      " [ 10.66666667  -3.10344103]\n",
      " [  5.33333333   0.46694821]\n",
      " [ -5.33333333  -1.25286618]\n",
      " [-10.66666667  -3.00829597]]\n",
      "The intermediate points are stored in the variable \"interpolated_points\"\n",
      "[0 0 0 0]\n",
      "[56 40 44 16]\n"
     ]
    },
    {
     "name": "stderr",
     "output_type": "stream",
     "text": [
      "<ipython-input-3-da811ff97447>:29: MatplotlibDeprecationWarning: Adding an axes using the same arguments as a previous axes currently reuses the earlier instance.  In a future version, a new instance will always be created and returned.  Meanwhile, this warning can be suppressed, and the future behavior ensured, by passing a unique label to each axes instance.\n",
      "  ax = fig.add_subplot(111, autoscale_on=False,\n"
     ]
    },
    {
     "name": "stdout",
     "output_type": "stream",
     "text": [
      "28\n",
      "The interpolation points are stored in the variable \"EF_target_pos\": \n",
      "[[ 24.77817459   7.77817459]\n",
      " [ 18.66666667   2.09356271]\n",
      " [  9.33333333 -18.58457155]\n",
      " [ -9.33333333   2.31524204]\n",
      " [-18.66666667  -3.49338278]]\n",
      "The intermediate points are stored in the variable \"interpolated_points\"\n",
      "[1 1 0 0]\n",
      "[24 19 44 45]\n"
     ]
    },
    {
     "name": "stderr",
     "output_type": "stream",
     "text": [
      "<ipython-input-3-da811ff97447>:29: MatplotlibDeprecationWarning: Adding an axes using the same arguments as a previous axes currently reuses the earlier instance.  In a future version, a new instance will always be created and returned.  Meanwhile, this warning can be suppressed, and the future behavior ensured, by passing a unique label to each axes instance.\n",
      "  ax = fig.add_subplot(111, autoscale_on=False,\n"
     ]
    },
    {
     "name": "stdout",
     "output_type": "stream",
     "text": [
      "17\n",
      "The interpolation points are stored in the variable \"EF_target_pos\": \n",
      "[[ 14.94974747   4.94974747]\n",
      " [ 11.33333333  -0.69185363]\n",
      " [  5.66666667   6.47308508]\n",
      " [ -5.66666667   5.14229492]\n",
      " [-11.33333333   1.94233258]]\n",
      "The intermediate points are stored in the variable \"interpolated_points\"\n",
      "[0 1 1 1]\n",
      "[37 35 37 41]\n"
     ]
    },
    {
     "name": "stderr",
     "output_type": "stream",
     "text": [
      "<ipython-input-3-da811ff97447>:29: MatplotlibDeprecationWarning: Adding an axes using the same arguments as a previous axes currently reuses the earlier instance.  In a future version, a new instance will always be created and returned.  Meanwhile, this warning can be suppressed, and the future behavior ensured, by passing a unique label to each axes instance.\n",
      "  ax = fig.add_subplot(111, autoscale_on=False,\n"
     ]
    },
    {
     "name": "stdout",
     "output_type": "stream",
     "text": [
      "21\n",
      "The interpolation points are stored in the variable \"EF_target_pos\": \n",
      "[[ 19.24264069   4.24264069]\n",
      " [ 14.          -4.51796374]\n",
      " [  7.          -1.95545932]\n",
      " [ -7.          -0.09148424]\n",
      " [-14.           1.12337016]]\n",
      "The intermediate points are stored in the variable \"interpolated_points\"\n",
      "[0 0 0 1]\n",
      "[15 34 54 26]\n"
     ]
    },
    {
     "name": "stderr",
     "output_type": "stream",
     "text": [
      "<ipython-input-3-da811ff97447>:29: MatplotlibDeprecationWarning: Adding an axes using the same arguments as a previous axes currently reuses the earlier instance.  In a future version, a new instance will always be created and returned.  Meanwhile, this warning can be suppressed, and the future behavior ensured, by passing a unique label to each axes instance.\n",
      "  ax = fig.add_subplot(111, autoscale_on=False,\n"
     ]
    },
    {
     "name": "stdout",
     "output_type": "stream",
     "text": [
      "16\n",
      "The interpolation points are stored in the variable \"EF_target_pos\": \n",
      "[[ 14.24264069   4.24264069]\n",
      " [ 10.66666667   0.36005114]\n",
      " [  5.33333333  -0.26247942]\n",
      " [ -5.33333333  -6.49202263]\n",
      " [-10.66666667   5.41236351]]\n",
      "The intermediate points are stored in the variable \"interpolated_points\"\n",
      "[1 0 0 0]\n",
      "[33 33 39 35]\n"
     ]
    },
    {
     "name": "stderr",
     "output_type": "stream",
     "text": [
      "<ipython-input-3-da811ff97447>:29: MatplotlibDeprecationWarning: Adding an axes using the same arguments as a previous axes currently reuses the earlier instance.  In a future version, a new instance will always be created and returned.  Meanwhile, this warning can be suppressed, and the future behavior ensured, by passing a unique label to each axes instance.\n",
      "  ax = fig.add_subplot(111, autoscale_on=False,\n"
     ]
    },
    {
     "name": "stdout",
     "output_type": "stream",
     "text": [
      "19\n",
      "The interpolation points are stored in the variable \"EF_target_pos\": \n",
      "[[ 17.82842712   2.82842712]\n",
      " [ 12.66666667   4.20752529]\n",
      " [  6.33333333   8.44443257]\n",
      " [ -6.33333333   7.81562408]\n",
      " [-12.66666667   3.31495045]]\n",
      "The intermediate points are stored in the variable \"interpolated_points\"\n",
      "[0 0 1 1]\n",
      "[19 15 27 18]\n"
     ]
    },
    {
     "name": "stderr",
     "output_type": "stream",
     "text": [
      "<ipython-input-3-da811ff97447>:29: MatplotlibDeprecationWarning: Adding an axes using the same arguments as a previous axes currently reuses the earlier instance.  In a future version, a new instance will always be created and returned.  Meanwhile, this warning can be suppressed, and the future behavior ensured, by passing a unique label to each axes instance.\n",
      "  ax = fig.add_subplot(111, autoscale_on=False,\n"
     ]
    },
    {
     "name": "stdout",
     "output_type": "stream",
     "text": [
      "16\n",
      "The interpolation points are stored in the variable \"EF_target_pos\": \n",
      "[[ 14.24264069   4.24264069]\n",
      " [ 10.66666667   4.2444982 ]\n",
      " [  5.33333333 -10.25573211]\n",
      " [ -5.33333333  -4.87076977]\n",
      " [-10.66666667   4.76642884]]\n",
      "The intermediate points are stored in the variable \"interpolated_points\"\n",
      "[0 0 1 0]\n",
      "[24 15 55 43]\n"
     ]
    },
    {
     "name": "stderr",
     "output_type": "stream",
     "text": [
      "<ipython-input-3-da811ff97447>:29: MatplotlibDeprecationWarning: Adding an axes using the same arguments as a previous axes currently reuses the earlier instance.  In a future version, a new instance will always be created and returned.  Meanwhile, this warning can be suppressed, and the future behavior ensured, by passing a unique label to each axes instance.\n",
      "  ax = fig.add_subplot(111, autoscale_on=False,\n"
     ]
    },
    {
     "name": "stdout",
     "output_type": "stream",
     "text": [
      "21\n",
      "The interpolation points are stored in the variable \"EF_target_pos\": \n",
      "[[ 17.48528137   8.48528137]\n",
      " [ 14.           5.39059144]\n",
      " [  7.           9.72064639]\n",
      " [ -7.          11.64328467]\n",
      " [-14.          -4.5915073 ]]\n",
      "The intermediate points are stored in the variable \"interpolated_points\"\n",
      "[0 1 1 1]\n",
      "[57 38 20 28]\n"
     ]
    },
    {
     "name": "stderr",
     "output_type": "stream",
     "text": [
      "<ipython-input-3-da811ff97447>:29: MatplotlibDeprecationWarning: Adding an axes using the same arguments as a previous axes currently reuses the earlier instance.  In a future version, a new instance will always be created and returned.  Meanwhile, this warning can be suppressed, and the future behavior ensured, by passing a unique label to each axes instance.\n",
      "  ax = fig.add_subplot(111, autoscale_on=False,\n"
     ]
    },
    {
     "name": "stdout",
     "output_type": "stream",
     "text": [
      "22\n",
      "The interpolation points are stored in the variable \"EF_target_pos\": \n",
      "[[ 19.94974747   4.94974747]\n",
      " [ 14.66666667  -4.93872268]\n",
      " [  7.33333333   5.26020631]\n",
      " [ -7.33333333   6.4162316 ]\n",
      " [-14.66666667  -1.05093993]]\n",
      "The intermediate points are stored in the variable \"interpolated_points\"\n",
      "[0 1 1 0]\n",
      "[39 58 18 45]\n"
     ]
    },
    {
     "name": "stderr",
     "output_type": "stream",
     "text": [
      "<ipython-input-3-da811ff97447>:29: MatplotlibDeprecationWarning: Adding an axes using the same arguments as a previous axes currently reuses the earlier instance.  In a future version, a new instance will always be created and returned.  Meanwhile, this warning can be suppressed, and the future behavior ensured, by passing a unique label to each axes instance.\n",
      "  ax = fig.add_subplot(111, autoscale_on=False,\n"
     ]
    },
    {
     "name": "stdout",
     "output_type": "stream",
     "text": [
      "21\n",
      "The interpolation points are stored in the variable \"EF_target_pos\": \n",
      "[[ 19.53553391   3.53553391]\n",
      " [ 14.          -6.14762945]\n",
      " [  7.           0.41615493]\n",
      " [ -7.          -1.03796443]\n",
      " [-14.          -4.84747535]]\n",
      "The intermediate points are stored in the variable \"interpolated_points\"\n",
      "[0 1 1 0]\n",
      "[17 21 19 59]\n"
     ]
    },
    {
     "name": "stderr",
     "output_type": "stream",
     "text": [
      "<ipython-input-3-da811ff97447>:29: MatplotlibDeprecationWarning: Adding an axes using the same arguments as a previous axes currently reuses the earlier instance.  In a future version, a new instance will always be created and returned.  Meanwhile, this warning can be suppressed, and the future behavior ensured, by passing a unique label to each axes instance.\n",
      "  ax = fig.add_subplot(111, autoscale_on=False,\n"
     ]
    },
    {
     "name": "stdout",
     "output_type": "stream",
     "text": [
      "22\n",
      "The interpolation points are stored in the variable \"EF_target_pos\": \n",
      "[[ 19.36396103   6.36396103]\n",
      " [ 14.66666667   5.20847889]\n",
      " [  7.33333333 -14.29300428]\n",
      " [ -7.33333333  12.14221295]\n",
      " [-14.66666667   2.00967943]]\n",
      "The intermediate points are stored in the variable \"interpolated_points\"\n",
      "[0 1 1 1]\n",
      "[43 38 34 23]\n"
     ]
    },
    {
     "name": "stderr",
     "output_type": "stream",
     "text": [
      "<ipython-input-3-da811ff97447>:29: MatplotlibDeprecationWarning: Adding an axes using the same arguments as a previous axes currently reuses the earlier instance.  In a future version, a new instance will always be created and returned.  Meanwhile, this warning can be suppressed, and the future behavior ensured, by passing a unique label to each axes instance.\n",
      "  ax = fig.add_subplot(111, autoscale_on=False,\n"
     ]
    },
    {
     "name": "stdout",
     "output_type": "stream",
     "text": [
      "15\n",
      "The interpolation points are stored in the variable \"EF_target_pos\": \n",
      "[[ 13.53553391   3.53553391]\n",
      " [ 10.          -1.11780304]\n",
      " [  5.           9.17580514]\n",
      " [ -5.           2.70659125]\n",
      " [-10.           4.86625677]]\n",
      "The intermediate points are stored in the variable \"interpolated_points\"\n",
      "[1 0 1 1]\n",
      "[48 47 49 29]\n"
     ]
    },
    {
     "name": "stderr",
     "output_type": "stream",
     "text": [
      "<ipython-input-3-da811ff97447>:29: MatplotlibDeprecationWarning: Adding an axes using the same arguments as a previous axes currently reuses the earlier instance.  In a future version, a new instance will always be created and returned.  Meanwhile, this warning can be suppressed, and the future behavior ensured, by passing a unique label to each axes instance.\n",
      "  ax = fig.add_subplot(111, autoscale_on=False,\n"
     ]
    },
    {
     "name": "stdout",
     "output_type": "stream",
     "text": [
      "24\n",
      "The interpolation points are stored in the variable \"EF_target_pos\": \n",
      "[[ 20.77817459   7.77817459]\n",
      " [ 16.           4.42186016]\n",
      " [  8.          12.48140076]\n",
      " [ -8.          -4.58530727]\n",
      " [-16.           3.5643644 ]]\n",
      "The intermediate points are stored in the variable \"interpolated_points\"\n",
      "[1 0 1 0]\n",
      "[32 22 55 52]\n"
     ]
    },
    {
     "name": "stderr",
     "output_type": "stream",
     "text": [
      "<ipython-input-3-da811ff97447>:29: MatplotlibDeprecationWarning: Adding an axes using the same arguments as a previous axes currently reuses the earlier instance.  In a future version, a new instance will always be created and returned.  Meanwhile, this warning can be suppressed, and the future behavior ensured, by passing a unique label to each axes instance.\n",
      "  ax = fig.add_subplot(111, autoscale_on=False,\n"
     ]
    },
    {
     "name": "stdout",
     "output_type": "stream",
     "text": [
      "25\n",
      "The interpolation points are stored in the variable \"EF_target_pos\": \n",
      "[[ 21.77817459   7.77817459]\n",
      " [ 16.66666667   5.71549642]\n",
      " [  8.33333333   6.57309053]\n",
      " [ -8.33333333   4.86754404]\n",
      " [-16.66666667  -3.91792809]]\n",
      "The intermediate points are stored in the variable \"interpolated_points\"\n",
      "[0 1 0 1]\n",
      "[21 24 23 44]\n"
     ]
    },
    {
     "name": "stderr",
     "output_type": "stream",
     "text": [
      "<ipython-input-3-da811ff97447>:29: MatplotlibDeprecationWarning: Adding an axes using the same arguments as a previous axes currently reuses the earlier instance.  In a future version, a new instance will always be created and returned.  Meanwhile, this warning can be suppressed, and the future behavior ensured, by passing a unique label to each axes instance.\n",
      "  ax = fig.add_subplot(111, autoscale_on=False,\n"
     ]
    },
    {
     "name": "stdout",
     "output_type": "stream",
     "text": [
      "29\n",
      "The interpolation points are stored in the variable \"EF_target_pos\": \n",
      "[[ 25.48528137   8.48528137]\n",
      " [ 19.33333333   5.70910731]\n",
      " [  9.66666667  17.01034517]\n",
      " [ -9.66666667 -10.01587534]\n",
      " [-19.33333333  -8.93724688]]\n",
      "The intermediate points are stored in the variable \"interpolated_points\"\n",
      "[0 1 1 1]\n",
      "[24 24 47 35]\n"
     ]
    },
    {
     "name": "stderr",
     "output_type": "stream",
     "text": [
      "<ipython-input-3-da811ff97447>:29: MatplotlibDeprecationWarning: Adding an axes using the same arguments as a previous axes currently reuses the earlier instance.  In a future version, a new instance will always be created and returned.  Meanwhile, this warning can be suppressed, and the future behavior ensured, by passing a unique label to each axes instance.\n",
      "  ax = fig.add_subplot(111, autoscale_on=False,\n"
     ]
    },
    {
     "name": "stdout",
     "output_type": "stream",
     "text": [
      "21\n",
      "The interpolation points are stored in the variable \"EF_target_pos\": \n",
      "[[ 18.94974747   4.94974747]\n",
      " [ 14.           3.97374743]\n",
      " [  7.           0.77148141]\n",
      " [ -7.          -6.53736449]\n",
      " [-14.          -4.06657893]]\n",
      "The intermediate points are stored in the variable \"interpolated_points\"\n",
      "[1 0 1 0]\n",
      "[16 45 27 20]\n"
     ]
    },
    {
     "name": "stderr",
     "output_type": "stream",
     "text": [
      "<ipython-input-3-da811ff97447>:29: MatplotlibDeprecationWarning: Adding an axes using the same arguments as a previous axes currently reuses the earlier instance.  In a future version, a new instance will always be created and returned.  Meanwhile, this warning can be suppressed, and the future behavior ensured, by passing a unique label to each axes instance.\n",
      "  ax = fig.add_subplot(111, autoscale_on=False,\n"
     ]
    },
    {
     "name": "stdout",
     "output_type": "stream",
     "text": [
      "25\n",
      "The interpolation points are stored in the variable \"EF_target_pos\": \n",
      "[[ 21.77817459   7.77817459]\n",
      " [ 16.66666667  -4.06615589]\n",
      " [  8.33333333  -6.78242174]\n",
      " [ -8.33333333  15.51326962]\n",
      " [-16.66666667   1.84759609]]\n",
      "The intermediate points are stored in the variable \"interpolated_points\"\n",
      "[1 0 0 0]\n",
      "[42 55 31 30]\n"
     ]
    },
    {
     "name": "stderr",
     "output_type": "stream",
     "text": [
      "<ipython-input-3-da811ff97447>:29: MatplotlibDeprecationWarning: Adding an axes using the same arguments as a previous axes currently reuses the earlier instance.  In a future version, a new instance will always be created and returned.  Meanwhile, this warning can be suppressed, and the future behavior ensured, by passing a unique label to each axes instance.\n",
      "  ax = fig.add_subplot(111, autoscale_on=False,\n"
     ]
    },
    {
     "name": "stdout",
     "output_type": "stream",
     "text": [
      "28\n",
      "The interpolation points are stored in the variable \"EF_target_pos\": \n",
      "[[ 25.36396103   6.36396103]\n",
      " [ 18.66666667   0.30905164]\n",
      " [  9.33333333  -5.926868  ]\n",
      " [ -9.33333333  -2.05699289]\n",
      " [-18.66666667   8.40901141]]\n",
      "The intermediate points are stored in the variable \"interpolated_points\"\n",
      "[0 1 1 1]\n",
      "[55 47 53 59]\n"
     ]
    },
    {
     "name": "stderr",
     "output_type": "stream",
     "text": [
      "<ipython-input-3-da811ff97447>:29: MatplotlibDeprecationWarning: Adding an axes using the same arguments as a previous axes currently reuses the earlier instance.  In a future version, a new instance will always be created and returned.  Meanwhile, this warning can be suppressed, and the future behavior ensured, by passing a unique label to each axes instance.\n",
      "  ax = fig.add_subplot(111, autoscale_on=False,\n"
     ]
    },
    {
     "name": "stdout",
     "output_type": "stream",
     "text": [
      "20\n",
      "The interpolation points are stored in the variable \"EF_target_pos\": \n",
      "[[ 17.65685425   5.65685425]\n",
      " [ 13.33333333   6.03217961]\n",
      " [  6.66666667 -12.28736785]\n",
      " [ -6.66666667  -7.70753178]\n",
      " [-13.33333333   5.3455344 ]]\n",
      "The intermediate points are stored in the variable \"interpolated_points\"\n",
      "[0 0 1 0]\n",
      "[35 44 28 27]\n"
     ]
    },
    {
     "name": "stderr",
     "output_type": "stream",
     "text": [
      "<ipython-input-3-da811ff97447>:29: MatplotlibDeprecationWarning: Adding an axes using the same arguments as a previous axes currently reuses the earlier instance.  In a future version, a new instance will always be created and returned.  Meanwhile, this warning can be suppressed, and the future behavior ensured, by passing a unique label to each axes instance.\n",
      "  ax = fig.add_subplot(111, autoscale_on=False,\n"
     ]
    },
    {
     "name": "stdout",
     "output_type": "stream",
     "text": [
      "21\n",
      "The interpolation points are stored in the variable \"EF_target_pos\": \n",
      "[[ 17.19238816   9.19238816]\n",
      " [ 14.          -3.96832887]\n",
      " [  7.         -10.45094504]\n",
      " [ -7.           6.5087809 ]\n",
      " [-14.          -1.54617867]]\n",
      "The intermediate points are stored in the variable \"interpolated_points\"\n",
      "[0 0 1 0]\n",
      "[40 59 36 42]\n"
     ]
    },
    {
     "name": "stderr",
     "output_type": "stream",
     "text": [
      "<ipython-input-3-da811ff97447>:29: MatplotlibDeprecationWarning: Adding an axes using the same arguments as a previous axes currently reuses the earlier instance.  In a future version, a new instance will always be created and returned.  Meanwhile, this warning can be suppressed, and the future behavior ensured, by passing a unique label to each axes instance.\n",
      "  ax = fig.add_subplot(111, autoscale_on=False,\n"
     ]
    },
    {
     "name": "stdout",
     "output_type": "stream",
     "text": [
      "24\n",
      "The interpolation points are stored in the variable \"EF_target_pos\": \n",
      "[[ 21.07106781   7.07106781]\n",
      " [ 16.           5.12952046]\n",
      " [  8.          -7.8568034 ]\n",
      " [ -8.           5.46801264]\n",
      " [-16.           6.47135058]]\n",
      "The intermediate points are stored in the variable \"interpolated_points\"\n",
      "[1 1 1 1]\n",
      "[34 52 17 31]\n"
     ]
    },
    {
     "name": "stderr",
     "output_type": "stream",
     "text": [
      "<ipython-input-3-da811ff97447>:29: MatplotlibDeprecationWarning: Adding an axes using the same arguments as a previous axes currently reuses the earlier instance.  In a future version, a new instance will always be created and returned.  Meanwhile, this warning can be suppressed, and the future behavior ensured, by passing a unique label to each axes instance.\n",
      "  ax = fig.add_subplot(111, autoscale_on=False,\n"
     ]
    },
    {
     "name": "stdout",
     "output_type": "stream",
     "text": [
      "25\n",
      "The interpolation points are stored in the variable \"EF_target_pos\": \n",
      "[[ 21.19238816   9.19238816]\n",
      " [ 16.66666667   2.96498533]\n",
      " [  8.33333333  -3.11097529]\n",
      " [ -8.33333333  11.65052046]\n",
      " [-16.66666667   2.61422426]]\n",
      "The intermediate points are stored in the variable \"interpolated_points\"\n",
      "[0 0 0 1]\n",
      "[51 38 37 20]\n"
     ]
    },
    {
     "name": "stderr",
     "output_type": "stream",
     "text": [
      "<ipython-input-3-da811ff97447>:29: MatplotlibDeprecationWarning: Adding an axes using the same arguments as a previous axes currently reuses the earlier instance.  In a future version, a new instance will always be created and returned.  Meanwhile, this warning can be suppressed, and the future behavior ensured, by passing a unique label to each axes instance.\n",
      "  ax = fig.add_subplot(111, autoscale_on=False,\n"
     ]
    },
    {
     "name": "stdout",
     "output_type": "stream",
     "text": [
      "29\n",
      "The interpolation points are stored in the variable \"EF_target_pos\": \n",
      "[[ 26.07106781   7.07106781]\n",
      " [ 19.33333333   3.86119548]\n",
      " [  9.66666667   1.36886009]\n",
      " [ -9.66666667  -3.57727326]\n",
      " [-19.33333333   5.18611822]]\n",
      "The intermediate points are stored in the variable \"interpolated_points\"\n",
      "[0 1 1 0]\n",
      "[27 34 29 30]\n"
     ]
    },
    {
     "name": "stderr",
     "output_type": "stream",
     "text": [
      "<ipython-input-3-da811ff97447>:29: MatplotlibDeprecationWarning: Adding an axes using the same arguments as a previous axes currently reuses the earlier instance.  In a future version, a new instance will always be created and returned.  Meanwhile, this warning can be suppressed, and the future behavior ensured, by passing a unique label to each axes instance.\n",
      "  ax = fig.add_subplot(111, autoscale_on=False,\n"
     ]
    },
    {
     "name": "stdout",
     "output_type": "stream",
     "text": [
      "21\n",
      "The interpolation points are stored in the variable \"EF_target_pos\": \n",
      "[[ 18.36396103   6.36396103]\n",
      " [ 14.          -1.16123086]\n",
      " [  7.           4.79017969]\n",
      " [ -7.          -9.38020823]\n",
      " [-14.           2.04851163]]\n",
      "The intermediate points are stored in the variable \"interpolated_points\"\n",
      "[1 1 0 0]\n",
      "[17 44 35 41]\n"
     ]
    },
    {
     "name": "stderr",
     "output_type": "stream",
     "text": [
      "<ipython-input-3-da811ff97447>:29: MatplotlibDeprecationWarning: Adding an axes using the same arguments as a previous axes currently reuses the earlier instance.  In a future version, a new instance will always be created and returned.  Meanwhile, this warning can be suppressed, and the future behavior ensured, by passing a unique label to each axes instance.\n",
      "  ax = fig.add_subplot(111, autoscale_on=False,\n"
     ]
    },
    {
     "name": "stdout",
     "output_type": "stream",
     "text": [
      "25\n",
      "The interpolation points are stored in the variable \"EF_target_pos\": \n",
      "[[ 22.36396103   6.36396103]\n",
      " [ 16.66666667  -6.16488147]\n",
      " [  8.33333333 -13.86242941]\n",
      " [ -8.33333333  -3.46369687]\n",
      " [-16.66666667   2.9735284 ]]\n",
      "The intermediate points are stored in the variable \"interpolated_points\"\n",
      "[1 1 1 0]\n",
      "[40 20 50 53]\n"
     ]
    },
    {
     "name": "stderr",
     "output_type": "stream",
     "text": [
      "<ipython-input-3-da811ff97447>:29: MatplotlibDeprecationWarning: Adding an axes using the same arguments as a previous axes currently reuses the earlier instance.  In a future version, a new instance will always be created and returned.  Meanwhile, this warning can be suppressed, and the future behavior ensured, by passing a unique label to each axes instance.\n",
      "  ax = fig.add_subplot(111, autoscale_on=False,\n"
     ]
    },
    {
     "name": "stdout",
     "output_type": "stream",
     "text": [
      "25\n",
      "The interpolation points are stored in the variable \"EF_target_pos\": \n",
      "[[ 21.77817459   7.77817459]\n",
      " [ 16.66666667   3.80741565]\n",
      " [  8.33333333   1.77256333]\n",
      " [ -8.33333333 -11.58497426]\n",
      " [-16.66666667  -2.16442347]]\n",
      "The intermediate points are stored in the variable \"interpolated_points\"\n",
      "[0 1 0 0]\n",
      "[41 15 42 40]\n"
     ]
    },
    {
     "name": "stderr",
     "output_type": "stream",
     "text": [
      "<ipython-input-3-da811ff97447>:29: MatplotlibDeprecationWarning: Adding an axes using the same arguments as a previous axes currently reuses the earlier instance.  In a future version, a new instance will always be created and returned.  Meanwhile, this warning can be suppressed, and the future behavior ensured, by passing a unique label to each axes instance.\n",
      "  ax = fig.add_subplot(111, autoscale_on=False,\n"
     ]
    },
    {
     "name": "stdout",
     "output_type": "stream",
     "text": [
      "24\n",
      "The interpolation points are stored in the variable \"EF_target_pos\": \n",
      "[[ 21.94974747   4.94974747]\n",
      " [ 16.          -6.49707374]\n",
      " [  8.          -0.55311203]\n",
      " [ -8.         -10.04698846]\n",
      " [-16.          -7.97040864]]\n",
      "The intermediate points are stored in the variable \"interpolated_points\"\n",
      "[1 1 0 0]\n",
      "[47 48 48 49]\n"
     ]
    },
    {
     "name": "stderr",
     "output_type": "stream",
     "text": [
      "<ipython-input-3-da811ff97447>:29: MatplotlibDeprecationWarning: Adding an axes using the same arguments as a previous axes currently reuses the earlier instance.  In a future version, a new instance will always be created and returned.  Meanwhile, this warning can be suppressed, and the future behavior ensured, by passing a unique label to each axes instance.\n",
      "  ax = fig.add_subplot(111, autoscale_on=False,\n"
     ]
    },
    {
     "name": "stdout",
     "output_type": "stream",
     "text": [
      "18\n",
      "The interpolation points are stored in the variable \"EF_target_pos\": \n",
      "[[ 15.94974747   4.94974747]\n",
      " [ 12.          -0.72029311]\n",
      " [  6.           4.96601574]\n",
      " [ -6.           6.3590904 ]\n",
      " [-12.          -3.46254398]]\n",
      "The intermediate points are stored in the variable \"interpolated_points\"\n",
      "[1 1 0 0]\n",
      "[27 18 39 42]\n"
     ]
    },
    {
     "name": "stderr",
     "output_type": "stream",
     "text": [
      "<ipython-input-3-da811ff97447>:29: MatplotlibDeprecationWarning: Adding an axes using the same arguments as a previous axes currently reuses the earlier instance.  In a future version, a new instance will always be created and returned.  Meanwhile, this warning can be suppressed, and the future behavior ensured, by passing a unique label to each axes instance.\n",
      "  ax = fig.add_subplot(111, autoscale_on=False,\n"
     ]
    },
    {
     "name": "stdout",
     "output_type": "stream",
     "text": [
      "28\n",
      "The interpolation points are stored in the variable \"EF_target_pos\": \n",
      "[[ 24.48528137   8.48528137]\n",
      " [ 18.66666667  -7.01091025]\n",
      " [  9.33333333  16.24588861]\n",
      " [ -9.33333333  17.05512011]\n",
      " [-18.66666667  -2.12799844]]\n",
      "The intermediate points are stored in the variable \"interpolated_points\"\n",
      "[0 1 1 1]\n",
      "[47 26 24 47]\n"
     ]
    },
    {
     "name": "stderr",
     "output_type": "stream",
     "text": [
      "<ipython-input-3-da811ff97447>:29: MatplotlibDeprecationWarning: Adding an axes using the same arguments as a previous axes currently reuses the earlier instance.  In a future version, a new instance will always be created and returned.  Meanwhile, this warning can be suppressed, and the future behavior ensured, by passing a unique label to each axes instance.\n",
      "  ax = fig.add_subplot(111, autoscale_on=False,\n"
     ]
    },
    {
     "name": "stdout",
     "output_type": "stream",
     "text": [
      "18\n",
      "The interpolation points are stored in the variable \"EF_target_pos\": \n",
      "[[ 15.94974747   4.94974747]\n",
      " [ 12.          -1.80153785]\n",
      " [  6.          10.91260411]\n",
      " [ -6.          -4.026437  ]\n",
      " [-12.          -3.66329993]]\n",
      "The intermediate points are stored in the variable \"interpolated_points\"\n",
      "[0 1 0 0]\n",
      "[47 46 25 23]\n"
     ]
    },
    {
     "name": "stderr",
     "output_type": "stream",
     "text": [
      "<ipython-input-3-da811ff97447>:29: MatplotlibDeprecationWarning: Adding an axes using the same arguments as a previous axes currently reuses the earlier instance.  In a future version, a new instance will always be created and returned.  Meanwhile, this warning can be suppressed, and the future behavior ensured, by passing a unique label to each axes instance.\n",
      "  ax = fig.add_subplot(111, autoscale_on=False,\n"
     ]
    },
    {
     "name": "stdout",
     "output_type": "stream",
     "text": [
      "18\n",
      "The interpolation points are stored in the variable \"EF_target_pos\": \n",
      "[[ 16.24264069   4.24264069]\n",
      " [ 12.           6.03401899]\n",
      " [  6.           6.60612358]\n",
      " [ -6.           5.67713851]\n",
      " [-12.           1.3044053 ]]\n",
      "The intermediate points are stored in the variable \"interpolated_points\"\n",
      "[0 0 0 1]\n",
      "[50 49 46 21]\n"
     ]
    },
    {
     "name": "stderr",
     "output_type": "stream",
     "text": [
      "<ipython-input-3-da811ff97447>:29: MatplotlibDeprecationWarning: Adding an axes using the same arguments as a previous axes currently reuses the earlier instance.  In a future version, a new instance will always be created and returned.  Meanwhile, this warning can be suppressed, and the future behavior ensured, by passing a unique label to each axes instance.\n",
      "  ax = fig.add_subplot(111, autoscale_on=False,\n"
     ]
    },
    {
     "name": "stdout",
     "output_type": "stream",
     "text": [
      "27\n",
      "The interpolation points are stored in the variable \"EF_target_pos\": \n",
      "[[ 24.36396103   6.36396103]\n",
      " [ 18.          -5.8580863 ]\n",
      " [  9.          14.40412347]\n",
      " [ -9.          14.55270696]\n",
      " [-18.           2.45634009]]\n",
      "The intermediate points are stored in the variable \"interpolated_points\"\n",
      "[1 0 1 0]\n",
      "[41 44 46 23]\n"
     ]
    },
    {
     "name": "stderr",
     "output_type": "stream",
     "text": [
      "<ipython-input-3-da811ff97447>:29: MatplotlibDeprecationWarning: Adding an axes using the same arguments as a previous axes currently reuses the earlier instance.  In a future version, a new instance will always be created and returned.  Meanwhile, this warning can be suppressed, and the future behavior ensured, by passing a unique label to each axes instance.\n",
      "  ax = fig.add_subplot(111, autoscale_on=False,\n"
     ]
    },
    {
     "name": "stdout",
     "output_type": "stream",
     "text": [
      "30\n",
      "The interpolation points are stored in the variable \"EF_target_pos\": \n",
      "[[ 27.07106781   7.07106781]\n",
      " [ 20.          -0.78174868]\n",
      " [ 10.          -1.92955852]\n",
      " [-10.           4.38535092]\n",
      " [-20.          -7.24117823]]\n",
      "The intermediate points are stored in the variable \"interpolated_points\"\n",
      "[0 0 0 0]\n",
      "[51 59 57 48]\n"
     ]
    },
    {
     "name": "stderr",
     "output_type": "stream",
     "text": [
      "<ipython-input-3-da811ff97447>:29: MatplotlibDeprecationWarning: Adding an axes using the same arguments as a previous axes currently reuses the earlier instance.  In a future version, a new instance will always be created and returned.  Meanwhile, this warning can be suppressed, and the future behavior ensured, by passing a unique label to each axes instance.\n",
      "  ax = fig.add_subplot(111, autoscale_on=False,\n"
     ]
    },
    {
     "name": "stdout",
     "output_type": "stream",
     "text": [
      "25\n",
      "The interpolation points are stored in the variable \"EF_target_pos\": \n",
      "[[ 21.77817459   7.77817459]\n",
      " [ 16.66666667  -3.89358465]\n",
      " [  8.33333333   7.67734589]\n",
      " [ -8.33333333   9.39268346]\n",
      " [-16.66666667  -3.38664447]]\n",
      "The intermediate points are stored in the variable \"interpolated_points\"\n",
      "[0 0 1 0]\n",
      "[33 40 21 29]\n"
     ]
    },
    {
     "name": "stderr",
     "output_type": "stream",
     "text": [
      "<ipython-input-3-da811ff97447>:29: MatplotlibDeprecationWarning: Adding an axes using the same arguments as a previous axes currently reuses the earlier instance.  In a future version, a new instance will always be created and returned.  Meanwhile, this warning can be suppressed, and the future behavior ensured, by passing a unique label to each axes instance.\n",
      "  ax = fig.add_subplot(111, autoscale_on=False,\n"
     ]
    },
    {
     "name": "stdout",
     "output_type": "stream",
     "text": [
      "21\n",
      "The interpolation points are stored in the variable \"EF_target_pos\": \n",
      "[[ 18.94974747   4.94974747]\n",
      " [ 14.          -3.01169016]\n",
      " [  7.           4.62905825]\n",
      " [ -7.          10.80589908]\n",
      " [-14.           2.77210737]]\n",
      "The intermediate points are stored in the variable \"interpolated_points\"\n",
      "[1 1 0 0]\n",
      "[21 17 18 34]\n"
     ]
    },
    {
     "name": "stderr",
     "output_type": "stream",
     "text": [
      "<ipython-input-3-da811ff97447>:29: MatplotlibDeprecationWarning: Adding an axes using the same arguments as a previous axes currently reuses the earlier instance.  In a future version, a new instance will always be created and returned.  Meanwhile, this warning can be suppressed, and the future behavior ensured, by passing a unique label to each axes instance.\n",
      "  ax = fig.add_subplot(111, autoscale_on=False,\n"
     ]
    },
    {
     "name": "stdout",
     "output_type": "stream",
     "text": [
      "21\n",
      "The interpolation points are stored in the variable \"EF_target_pos\": \n",
      "[[ 18.07106781   7.07106781]\n",
      " [ 14.           1.57825743]\n",
      " [  7.          13.69004914]\n",
      " [ -7.           1.03378909]\n",
      " [-14.          -4.33884696]]\n",
      "The intermediate points are stored in the variable \"interpolated_points\"\n",
      "[0 0 1 0]\n",
      "[31 53 43 42]\n"
     ]
    },
    {
     "name": "stderr",
     "output_type": "stream",
     "text": [
      "<ipython-input-3-da811ff97447>:29: MatplotlibDeprecationWarning: Adding an axes using the same arguments as a previous axes currently reuses the earlier instance.  In a future version, a new instance will always be created and returned.  Meanwhile, this warning can be suppressed, and the future behavior ensured, by passing a unique label to each axes instance.\n",
      "  ax = fig.add_subplot(111, autoscale_on=False,\n"
     ]
    },
    {
     "name": "stdout",
     "output_type": "stream",
     "text": [
      "21\n",
      "The interpolation points are stored in the variable \"EF_target_pos\": \n",
      "[[ 18.07106781   7.07106781]\n",
      " [ 14.          -0.52808739]\n",
      " [  7.           3.83535487]\n",
      " [ -7.           4.1155915 ]\n",
      " [-14.          -4.99007679]]\n",
      "The intermediate points are stored in the variable \"interpolated_points\"\n",
      "[0 1 0 1]\n",
      "[21 18 44 36]\n"
     ]
    },
    {
     "name": "stderr",
     "output_type": "stream",
     "text": [
      "<ipython-input-3-da811ff97447>:29: MatplotlibDeprecationWarning: Adding an axes using the same arguments as a previous axes currently reuses the earlier instance.  In a future version, a new instance will always be created and returned.  Meanwhile, this warning can be suppressed, and the future behavior ensured, by passing a unique label to each axes instance.\n",
      "  ax = fig.add_subplot(111, autoscale_on=False,\n"
     ]
    },
    {
     "name": "stdout",
     "output_type": "stream",
     "text": [
      "19\n",
      "The interpolation points are stored in the variable \"EF_target_pos\": \n",
      "[[ 16.36396103   6.36396103]\n",
      " [ 12.66666667  -6.02171261]\n",
      " [  6.33333333   3.38947665]\n",
      " [ -6.33333333 -12.19272387]\n",
      " [-12.66666667   2.39837055]]\n",
      "The intermediate points are stored in the variable \"interpolated_points\"\n",
      "[0 1 0 0]\n",
      "[58 41 44 35]\n"
     ]
    },
    {
     "name": "stderr",
     "output_type": "stream",
     "text": [
      "<ipython-input-3-da811ff97447>:29: MatplotlibDeprecationWarning: Adding an axes using the same arguments as a previous axes currently reuses the earlier instance.  In a future version, a new instance will always be created and returned.  Meanwhile, this warning can be suppressed, and the future behavior ensured, by passing a unique label to each axes instance.\n",
      "  ax = fig.add_subplot(111, autoscale_on=False,\n"
     ]
    },
    {
     "name": "stdout",
     "output_type": "stream",
     "text": [
      "28\n",
      "The interpolation points are stored in the variable \"EF_target_pos\": \n",
      "[[ 23.89949494   9.89949494]\n",
      " [ 18.66666667  -5.88020551]\n",
      " [  9.33333333   6.56108858]\n",
      " [ -9.33333333   5.13303944]\n",
      " [-18.66666667  -4.77571191]]\n",
      "The intermediate points are stored in the variable \"interpolated_points\"\n",
      "[1 0 0 0]\n",
      "[54 42 46 18]\n"
     ]
    },
    {
     "name": "stderr",
     "output_type": "stream",
     "text": [
      "<ipython-input-3-da811ff97447>:29: MatplotlibDeprecationWarning: Adding an axes using the same arguments as a previous axes currently reuses the earlier instance.  In a future version, a new instance will always be created and returned.  Meanwhile, this warning can be suppressed, and the future behavior ensured, by passing a unique label to each axes instance.\n",
      "  ax = fig.add_subplot(111, autoscale_on=False,\n"
     ]
    },
    {
     "name": "stdout",
     "output_type": "stream",
     "text": [
      "22\n",
      "The interpolation points are stored in the variable \"EF_target_pos\": \n",
      "[[ 19.36396103   6.36396103]\n",
      " [ 14.66666667  -0.35172152]\n",
      " [  7.33333333  -9.92020279]\n",
      " [ -7.33333333 -12.65556099]\n",
      " [-14.66666667   0.24572901]]\n",
      "The intermediate points are stored in the variable \"interpolated_points\"\n",
      "[0 0 1 0]\n",
      "[30 57 39 29]\n"
     ]
    },
    {
     "name": "stderr",
     "output_type": "stream",
     "text": [
      "<ipython-input-3-da811ff97447>:29: MatplotlibDeprecationWarning: Adding an axes using the same arguments as a previous axes currently reuses the earlier instance.  In a future version, a new instance will always be created and returned.  Meanwhile, this warning can be suppressed, and the future behavior ensured, by passing a unique label to each axes instance.\n",
      "  ax = fig.add_subplot(111, autoscale_on=False,\n"
     ]
    },
    {
     "name": "stdout",
     "output_type": "stream",
     "text": [
      "23\n",
      "The interpolation points are stored in the variable \"EF_target_pos\": \n",
      "[[ 20.65685425   5.65685425]\n",
      " [ 15.33333333  -5.28376773]\n",
      " [  7.66666667   2.29749502]\n",
      " [ -7.66666667 -13.80182932]\n",
      " [-15.33333333   7.67968571]]\n",
      "The intermediate points are stored in the variable \"interpolated_points\"\n",
      "[1 0 0 0]\n",
      "[41 56 55 45]\n"
     ]
    },
    {
     "name": "stderr",
     "output_type": "stream",
     "text": [
      "<ipython-input-3-da811ff97447>:29: MatplotlibDeprecationWarning: Adding an axes using the same arguments as a previous axes currently reuses the earlier instance.  In a future version, a new instance will always be created and returned.  Meanwhile, this warning can be suppressed, and the future behavior ensured, by passing a unique label to each axes instance.\n",
      "  ax = fig.add_subplot(111, autoscale_on=False,\n"
     ]
    },
    {
     "name": "stdout",
     "output_type": "stream",
     "text": [
      "17\n",
      "The interpolation points are stored in the variable \"EF_target_pos\": \n",
      "[[ 14.94974747   4.94974747]\n",
      " [ 11.33333333   0.75176591]\n",
      " [  5.66666667  -1.24657049]\n",
      " [ -5.66666667  -1.76041315]\n",
      " [-11.33333333   5.78867196]]\n",
      "The intermediate points are stored in the variable \"interpolated_points\"\n",
      "[0 0 1 1]\n",
      "[25 57 17 23]\n"
     ]
    },
    {
     "name": "stderr",
     "output_type": "stream",
     "text": [
      "<ipython-input-3-da811ff97447>:29: MatplotlibDeprecationWarning: Adding an axes using the same arguments as a previous axes currently reuses the earlier instance.  In a future version, a new instance will always be created and returned.  Meanwhile, this warning can be suppressed, and the future behavior ensured, by passing a unique label to each axes instance.\n",
      "  ax = fig.add_subplot(111, autoscale_on=False,\n"
     ]
    },
    {
     "name": "stdout",
     "output_type": "stream",
     "text": [
      "22\n",
      "The interpolation points are stored in the variable \"EF_target_pos\": \n",
      "[[ 18.48528137   8.48528137]\n",
      " [ 14.66666667  -1.84097315]\n",
      " [  7.33333333  -7.41472074]\n",
      " [ -7.33333333  10.56977183]\n",
      " [-14.66666667  -5.86320013]]\n",
      "The intermediate points are stored in the variable \"interpolated_points\"\n",
      "[1 1 1 0]\n",
      "[29 38 50 41]\n"
     ]
    },
    {
     "name": "stderr",
     "output_type": "stream",
     "text": [
      "<ipython-input-3-da811ff97447>:29: MatplotlibDeprecationWarning: Adding an axes using the same arguments as a previous axes currently reuses the earlier instance.  In a future version, a new instance will always be created and returned.  Meanwhile, this warning can be suppressed, and the future behavior ensured, by passing a unique label to each axes instance.\n",
      "  ax = fig.add_subplot(111, autoscale_on=False,\n"
     ]
    },
    {
     "name": "stdout",
     "output_type": "stream",
     "text": [
      "22\n",
      "The interpolation points are stored in the variable \"EF_target_pos\": \n",
      "[[ 19.36396103   6.36396103]\n",
      " [ 14.66666667   3.72910647]\n",
      " [  7.33333333  -8.05718203]\n",
      " [ -7.33333333   0.37113486]\n",
      " [-14.66666667  -5.49374246]]\n",
      "The intermediate points are stored in the variable \"interpolated_points\"\n",
      "[1 0 1 1]\n",
      "[38 41 30 49]\n"
     ]
    },
    {
     "name": "stderr",
     "output_type": "stream",
     "text": [
      "<ipython-input-3-da811ff97447>:29: MatplotlibDeprecationWarning: Adding an axes using the same arguments as a previous axes currently reuses the earlier instance.  In a future version, a new instance will always be created and returned.  Meanwhile, this warning can be suppressed, and the future behavior ensured, by passing a unique label to each axes instance.\n",
      "  ax = fig.add_subplot(111, autoscale_on=False,\n"
     ]
    },
    {
     "name": "stdout",
     "output_type": "stream",
     "text": [
      "17\n",
      "The interpolation points are stored in the variable \"EF_target_pos\": \n",
      "[[ 15.53553391   3.53553391]\n",
      " [ 11.33333333  -4.60534997]\n",
      " [  5.66666667  -0.83214893]\n",
      " [ -5.66666667   6.37152882]\n",
      " [-11.33333333  -2.49229877]]\n",
      "The intermediate points are stored in the variable \"interpolated_points\"\n",
      "[1 1 0 0]\n",
      "[57 55 16 16]\n"
     ]
    },
    {
     "name": "stderr",
     "output_type": "stream",
     "text": [
      "<ipython-input-3-da811ff97447>:29: MatplotlibDeprecationWarning: Adding an axes using the same arguments as a previous axes currently reuses the earlier instance.  In a future version, a new instance will always be created and returned.  Meanwhile, this warning can be suppressed, and the future behavior ensured, by passing a unique label to each axes instance.\n",
      "  ax = fig.add_subplot(111, autoscale_on=False,\n"
     ]
    },
    {
     "name": "stdout",
     "output_type": "stream",
     "text": [
      "19\n",
      "The interpolation points are stored in the variable \"EF_target_pos\": \n",
      "[[ 16.94974747   4.94974747]\n",
      " [ 12.66666667  -0.87915042]\n",
      " [  6.33333333  -6.25802717]\n",
      " [ -6.33333333   3.06054286]\n",
      " [-12.66666667  -6.26608966]]\n",
      "The intermediate points are stored in the variable \"interpolated_points\"\n",
      "[1 1 0 1]\n",
      "[23 58 46 19]\n"
     ]
    },
    {
     "name": "stderr",
     "output_type": "stream",
     "text": [
      "<ipython-input-3-da811ff97447>:29: MatplotlibDeprecationWarning: Adding an axes using the same arguments as a previous axes currently reuses the earlier instance.  In a future version, a new instance will always be created and returned.  Meanwhile, this warning can be suppressed, and the future behavior ensured, by passing a unique label to each axes instance.\n",
      "  ax = fig.add_subplot(111, autoscale_on=False,\n"
     ]
    },
    {
     "name": "stdout",
     "output_type": "stream",
     "text": [
      "27\n",
      "The interpolation points are stored in the variable \"EF_target_pos\": \n",
      "[[ 24.65685425   5.65685425]\n",
      " [ 18.           3.99412897]\n",
      " [  9.           0.96369402]\n",
      " [ -9.          16.6629639 ]\n",
      " [-18.           7.64709752]]\n",
      "The intermediate points are stored in the variable \"interpolated_points\"\n",
      "[1 0 0 1]\n",
      "[37 45 18 16]\n"
     ]
    },
    {
     "name": "stderr",
     "output_type": "stream",
     "text": [
      "<ipython-input-3-da811ff97447>:29: MatplotlibDeprecationWarning: Adding an axes using the same arguments as a previous axes currently reuses the earlier instance.  In a future version, a new instance will always be created and returned.  Meanwhile, this warning can be suppressed, and the future behavior ensured, by passing a unique label to each axes instance.\n",
      "  ax = fig.add_subplot(111, autoscale_on=False,\n"
     ]
    },
    {
     "name": "stdout",
     "output_type": "stream",
     "text": [
      "31\n",
      "The interpolation points are stored in the variable \"EF_target_pos\": \n",
      "[[ 27.48528137   8.48528137]\n",
      " [ 20.66666667   2.08854582]\n",
      " [ 10.33333333  14.53624459]\n",
      " [-10.33333333   3.26939027]\n",
      " [-20.66666667   0.1310826 ]]\n",
      "The intermediate points are stored in the variable \"interpolated_points\"\n",
      "[1 1 0 1]\n",
      "[23 48 21 16]\n"
     ]
    },
    {
     "name": "stderr",
     "output_type": "stream",
     "text": [
      "<ipython-input-3-da811ff97447>:29: MatplotlibDeprecationWarning: Adding an axes using the same arguments as a previous axes currently reuses the earlier instance.  In a future version, a new instance will always be created and returned.  Meanwhile, this warning can be suppressed, and the future behavior ensured, by passing a unique label to each axes instance.\n",
      "  ax = fig.add_subplot(111, autoscale_on=False,\n"
     ]
    },
    {
     "name": "stdout",
     "output_type": "stream",
     "text": [
      "20\n",
      "The interpolation points are stored in the variable \"EF_target_pos\": \n",
      "[[ 17.07106781   7.07106781]\n",
      " [ 13.33333333  -3.98227473]\n",
      " [  6.66666667 -11.04066074]\n",
      " [ -6.66666667   5.86097987]\n",
      " [-13.33333333  -1.33813381]]\n",
      "The intermediate points are stored in the variable \"interpolated_points\"\n",
      "[1 1 1 0]\n",
      "[28 36 41 29]\n"
     ]
    },
    {
     "name": "stderr",
     "output_type": "stream",
     "text": [
      "<ipython-input-3-da811ff97447>:29: MatplotlibDeprecationWarning: Adding an axes using the same arguments as a previous axes currently reuses the earlier instance.  In a future version, a new instance will always be created and returned.  Meanwhile, this warning can be suppressed, and the future behavior ensured, by passing a unique label to each axes instance.\n",
      "  ax = fig.add_subplot(111, autoscale_on=False,\n"
     ]
    },
    {
     "name": "stdout",
     "output_type": "stream",
     "text": [
      "24\n",
      "The interpolation points are stored in the variable \"EF_target_pos\": \n",
      "[[ 21.65685425   5.65685425]\n",
      " [ 16.           1.90460507]\n",
      " [  8.          -9.75040006]\n",
      " [ -8.           0.48690981]\n",
      " [-16.           6.25951709]]\n",
      "The intermediate points are stored in the variable \"interpolated_points\"\n",
      "[0 1 0 1]\n",
      "[57 58 56 15]\n"
     ]
    },
    {
     "name": "stderr",
     "output_type": "stream",
     "text": [
      "<ipython-input-3-da811ff97447>:29: MatplotlibDeprecationWarning: Adding an axes using the same arguments as a previous axes currently reuses the earlier instance.  In a future version, a new instance will always be created and returned.  Meanwhile, this warning can be suppressed, and the future behavior ensured, by passing a unique label to each axes instance.\n",
      "  ax = fig.add_subplot(111, autoscale_on=False,\n"
     ]
    },
    {
     "name": "stdout",
     "output_type": "stream",
     "text": [
      "23\n",
      "The interpolation points are stored in the variable \"EF_target_pos\": \n",
      "[[ 19.48528137   8.48528137]\n",
      " [ 15.33333333   1.26944304]\n",
      " [  7.66666667   2.04168862]\n",
      " [ -7.66666667   0.68965953]\n",
      " [-15.33333333  -0.32638433]]\n",
      "The intermediate points are stored in the variable \"interpolated_points\"\n",
      "[0 1 1 1]\n",
      "[51 45 36 36]\n"
     ]
    },
    {
     "name": "stderr",
     "output_type": "stream",
     "text": [
      "<ipython-input-3-da811ff97447>:29: MatplotlibDeprecationWarning: Adding an axes using the same arguments as a previous axes currently reuses the earlier instance.  In a future version, a new instance will always be created and returned.  Meanwhile, this warning can be suppressed, and the future behavior ensured, by passing a unique label to each axes instance.\n",
      "  ax = fig.add_subplot(111, autoscale_on=False,\n"
     ]
    },
    {
     "name": "stdout",
     "output_type": "stream",
     "text": [
      "21\n",
      "The interpolation points are stored in the variable \"EF_target_pos\": \n",
      "[[ 18.07106781   7.07106781]\n",
      " [ 14.           0.36609105]\n",
      " [  7.           3.13006772]\n",
      " [ -7.           8.56107545]\n",
      " [-14.           1.96029886]]\n",
      "The intermediate points are stored in the variable \"interpolated_points\"\n",
      "[0 1 0 0]\n",
      "[41 59 37 22]\n"
     ]
    },
    {
     "name": "stderr",
     "output_type": "stream",
     "text": [
      "<ipython-input-3-da811ff97447>:29: MatplotlibDeprecationWarning: Adding an axes using the same arguments as a previous axes currently reuses the earlier instance.  In a future version, a new instance will always be created and returned.  Meanwhile, this warning can be suppressed, and the future behavior ensured, by passing a unique label to each axes instance.\n",
      "  ax = fig.add_subplot(111, autoscale_on=False,\n"
     ]
    },
    {
     "name": "stdout",
     "output_type": "stream",
     "text": [
      "18\n",
      "The interpolation points are stored in the variable \"EF_target_pos\": \n",
      "[[ 15.94974747   4.94974747]\n",
      " [ 12.           3.58408031]\n",
      " [  6.           9.18632184]\n",
      " [ -6.          10.48672974]\n",
      " [-12.          -5.16575808]]\n",
      "The intermediate points are stored in the variable \"interpolated_points\"\n",
      "[0 0 0 0]\n",
      "[30 28 46 58]\n"
     ]
    },
    {
     "name": "stderr",
     "output_type": "stream",
     "text": [
      "<ipython-input-3-da811ff97447>:29: MatplotlibDeprecationWarning: Adding an axes using the same arguments as a previous axes currently reuses the earlier instance.  In a future version, a new instance will always be created and returned.  Meanwhile, this warning can be suppressed, and the future behavior ensured, by passing a unique label to each axes instance.\n",
      "  ax = fig.add_subplot(111, autoscale_on=False,\n"
     ]
    },
    {
     "name": "stdout",
     "output_type": "stream",
     "text": [
      "25\n",
      "The interpolation points are stored in the variable \"EF_target_pos\": \n",
      "[[ 21.48528137   8.48528137]\n",
      " [ 16.66666667  -8.29075443]\n",
      " [  8.33333333  -7.97935595]\n",
      " [ -8.33333333 -10.54456348]\n",
      " [-16.66666667   4.12545848]]\n",
      "The intermediate points are stored in the variable \"interpolated_points\"\n",
      "[1 1 0 1]\n",
      "[53 58 23 28]\n"
     ]
    },
    {
     "name": "stderr",
     "output_type": "stream",
     "text": [
      "<ipython-input-3-da811ff97447>:29: MatplotlibDeprecationWarning: Adding an axes using the same arguments as a previous axes currently reuses the earlier instance.  In a future version, a new instance will always be created and returned.  Meanwhile, this warning can be suppressed, and the future behavior ensured, by passing a unique label to each axes instance.\n",
      "  ax = fig.add_subplot(111, autoscale_on=False,\n"
     ]
    },
    {
     "name": "stdout",
     "output_type": "stream",
     "text": [
      "21\n",
      "The interpolation points are stored in the variable \"EF_target_pos\": \n",
      "[[ 18.36396103   6.36396103]\n",
      " [ 14.          -0.80966188]\n",
      " [  7.           6.6242936 ]\n",
      " [ -7.           1.99548882]\n",
      " [-14.          -4.77221875]]\n",
      "The intermediate points are stored in the variable \"interpolated_points\"\n",
      "[0 0 1 0]\n",
      "[49 45 18 59]\n"
     ]
    },
    {
     "name": "stderr",
     "output_type": "stream",
     "text": [
      "<ipython-input-3-da811ff97447>:29: MatplotlibDeprecationWarning: Adding an axes using the same arguments as a previous axes currently reuses the earlier instance.  In a future version, a new instance will always be created and returned.  Meanwhile, this warning can be suppressed, and the future behavior ensured, by passing a unique label to each axes instance.\n",
      "  ax = fig.add_subplot(111, autoscale_on=False,\n"
     ]
    },
    {
     "name": "stdout",
     "output_type": "stream",
     "text": [
      "21\n",
      "The interpolation points are stored in the variable \"EF_target_pos\": \n",
      "[[ 18.07106781   7.07106781]\n",
      " [ 14.          -2.73896397]\n",
      " [  7.           7.26177553]\n",
      " [ -7.           9.31902894]\n",
      " [-14.          -6.77148088]]\n",
      "The intermediate points are stored in the variable \"interpolated_points\"\n",
      "[0 1 1 0]\n",
      "[52 45 30 35]\n"
     ]
    },
    {
     "name": "stderr",
     "output_type": "stream",
     "text": [
      "<ipython-input-3-da811ff97447>:29: MatplotlibDeprecationWarning: Adding an axes using the same arguments as a previous axes currently reuses the earlier instance.  In a future version, a new instance will always be created and returned.  Meanwhile, this warning can be suppressed, and the future behavior ensured, by passing a unique label to each axes instance.\n",
      "  ax = fig.add_subplot(111, autoscale_on=False,\n"
     ]
    },
    {
     "name": "stdout",
     "output_type": "stream",
     "text": [
      "19\n",
      "The interpolation points are stored in the variable \"EF_target_pos\": \n",
      "[[ 17.24264069   4.24264069]\n",
      " [ 12.66666667   4.70813487]\n",
      " [  6.33333333  10.34630314]\n",
      " [ -6.33333333   4.04806536]\n",
      " [-12.66666667  -0.63294785]]\n",
      "The intermediate points are stored in the variable \"interpolated_points\"\n",
      "[1 0 0 1]\n",
      "[37 52 54 33]\n"
     ]
    },
    {
     "name": "stderr",
     "output_type": "stream",
     "text": [
      "<ipython-input-3-da811ff97447>:29: MatplotlibDeprecationWarning: Adding an axes using the same arguments as a previous axes currently reuses the earlier instance.  In a future version, a new instance will always be created and returned.  Meanwhile, this warning can be suppressed, and the future behavior ensured, by passing a unique label to each axes instance.\n",
      "  ax = fig.add_subplot(111, autoscale_on=False,\n"
     ]
    },
    {
     "name": "stdout",
     "output_type": "stream",
     "text": [
      "25\n",
      "The interpolation points are stored in the variable \"EF_target_pos\": \n",
      "[[ 22.65685425   5.65685425]\n",
      " [ 16.66666667  -7.5061359 ]\n",
      " [  8.33333333 -11.72226248]\n",
      " [ -8.33333333  -8.94123606]\n",
      " [-16.66666667   2.47712908]]\n",
      "The intermediate points are stored in the variable \"interpolated_points\"\n",
      "[0 1 0 0]\n",
      "[19 20 18 57]\n"
     ]
    },
    {
     "name": "stderr",
     "output_type": "stream",
     "text": [
      "<ipython-input-3-da811ff97447>:29: MatplotlibDeprecationWarning: Adding an axes using the same arguments as a previous axes currently reuses the earlier instance.  In a future version, a new instance will always be created and returned.  Meanwhile, this warning can be suppressed, and the future behavior ensured, by passing a unique label to each axes instance.\n",
      "  ax = fig.add_subplot(111, autoscale_on=False,\n"
     ]
    },
    {
     "name": "stdout",
     "output_type": "stream",
     "text": [
      "29\n",
      "The interpolation points are stored in the variable \"EF_target_pos\": \n",
      "[[ 25.19238816   9.19238816]\n",
      " [ 19.33333333  -5.61824139]\n",
      " [  9.66666667  17.20360621]\n",
      " [ -9.66666667  -2.69404716]\n",
      " [-19.33333333  -4.33020137]]\n",
      "The intermediate points are stored in the variable \"interpolated_points\"\n",
      "[0 1 1 0]\n",
      "[21 57 32 15]\n"
     ]
    },
    {
     "name": "stderr",
     "output_type": "stream",
     "text": [
      "<ipython-input-3-da811ff97447>:29: MatplotlibDeprecationWarning: Adding an axes using the same arguments as a previous axes currently reuses the earlier instance.  In a future version, a new instance will always be created and returned.  Meanwhile, this warning can be suppressed, and the future behavior ensured, by passing a unique label to each axes instance.\n",
      "  ax = fig.add_subplot(111, autoscale_on=False,\n"
     ]
    },
    {
     "name": "stdout",
     "output_type": "stream",
     "text": [
      "23\n",
      "The interpolation points are stored in the variable \"EF_target_pos\": \n",
      "[[ 20.07106781   7.07106781]\n",
      " [ 15.33333333   4.13482091]\n",
      " [  7.66666667  10.38891248]\n",
      " [ -7.66666667  -9.5833877 ]\n",
      " [-15.33333333   7.80670799]]\n",
      "The intermediate points are stored in the variable \"interpolated_points\"\n",
      "[0 1 0 0]\n",
      "[17 32 45 44]\n"
     ]
    },
    {
     "name": "stderr",
     "output_type": "stream",
     "text": [
      "<ipython-input-3-da811ff97447>:29: MatplotlibDeprecationWarning: Adding an axes using the same arguments as a previous axes currently reuses the earlier instance.  In a future version, a new instance will always be created and returned.  Meanwhile, this warning can be suppressed, and the future behavior ensured, by passing a unique label to each axes instance.\n",
      "  ax = fig.add_subplot(111, autoscale_on=False,\n"
     ]
    },
    {
     "name": "stdout",
     "output_type": "stream",
     "text": [
      "29\n",
      "The interpolation points are stored in the variable \"EF_target_pos\": \n",
      "[[ 25.48528137   8.48528137]\n",
      " [ 19.33333333   6.46678951]\n",
      " [  9.66666667   3.89344541]\n",
      " [ -9.66666667   8.03721613]\n",
      " [-19.33333333   4.71428809]]\n",
      "The intermediate points are stored in the variable \"interpolated_points\"\n",
      "[1 0 0 0]\n",
      "[46 46 43 34]\n"
     ]
    },
    {
     "name": "stderr",
     "output_type": "stream",
     "text": [
      "<ipython-input-3-da811ff97447>:29: MatplotlibDeprecationWarning: Adding an axes using the same arguments as a previous axes currently reuses the earlier instance.  In a future version, a new instance will always be created and returned.  Meanwhile, this warning can be suppressed, and the future behavior ensured, by passing a unique label to each axes instance.\n",
      "  ax = fig.add_subplot(111, autoscale_on=False,\n"
     ]
    },
    {
     "name": "stdout",
     "output_type": "stream",
     "text": [
      "24\n",
      "The interpolation points are stored in the variable \"EF_target_pos\": \n",
      "[[ 21.65685425   5.65685425]\n",
      " [ 16.          -1.76140732]\n",
      " [  8.           6.38264942]\n",
      " [ -8.          -6.07408263]\n",
      " [-16.          -6.73946618]]\n",
      "The intermediate points are stored in the variable \"interpolated_points\"\n",
      "[1 0 1 1]\n",
      "[58 32 41 41]\n"
     ]
    },
    {
     "name": "stderr",
     "output_type": "stream",
     "text": [
      "<ipython-input-3-da811ff97447>:29: MatplotlibDeprecationWarning: Adding an axes using the same arguments as a previous axes currently reuses the earlier instance.  In a future version, a new instance will always be created and returned.  Meanwhile, this warning can be suppressed, and the future behavior ensured, by passing a unique label to each axes instance.\n",
      "  ax = fig.add_subplot(111, autoscale_on=False,\n"
     ]
    },
    {
     "name": "stdout",
     "output_type": "stream",
     "text": [
      "27\n",
      "The interpolation points are stored in the variable \"EF_target_pos\": \n",
      "[[ 23.48528137   8.48528137]\n",
      " [ 18.          -5.14166223]\n",
      " [  9.          12.85635835]\n",
      " [ -9.         -14.54580309]\n",
      " [-18.           9.07319137]]\n",
      "The intermediate points are stored in the variable \"interpolated_points\"\n",
      "[1 1 1 1]\n",
      "[30 37 15 29]\n"
     ]
    },
    {
     "name": "stderr",
     "output_type": "stream",
     "text": [
      "<ipython-input-3-da811ff97447>:29: MatplotlibDeprecationWarning: Adding an axes using the same arguments as a previous axes currently reuses the earlier instance.  In a future version, a new instance will always be created and returned.  Meanwhile, this warning can be suppressed, and the future behavior ensured, by passing a unique label to each axes instance.\n",
      "  ax = fig.add_subplot(111, autoscale_on=False,\n"
     ]
    },
    {
     "name": "stdout",
     "output_type": "stream",
     "text": [
      "21\n",
      "The interpolation points are stored in the variable \"EF_target_pos\": \n",
      "[[ 1.77781746e+01  7.77817459e+00]\n",
      " [ 1.40000000e+01 -1.13786414e-02]\n",
      " [ 7.00000000e+00 -3.76016102e+00]\n",
      " [-7.00000000e+00  6.72503210e+00]\n",
      " [-1.40000000e+01 -4.70461629e+00]]\n",
      "The intermediate points are stored in the variable \"interpolated_points\"\n",
      "[1 0 0 1]\n",
      "[48 25 16 18]\n"
     ]
    },
    {
     "name": "stderr",
     "output_type": "stream",
     "text": [
      "<ipython-input-3-da811ff97447>:29: MatplotlibDeprecationWarning: Adding an axes using the same arguments as a previous axes currently reuses the earlier instance.  In a future version, a new instance will always be created and returned.  Meanwhile, this warning can be suppressed, and the future behavior ensured, by passing a unique label to each axes instance.\n",
      "  ax = fig.add_subplot(111, autoscale_on=False,\n"
     ]
    },
    {
     "name": "stdout",
     "output_type": "stream",
     "text": [
      "31\n",
      "The interpolation points are stored in the variable \"EF_target_pos\": \n",
      "[[ 2.74852814e+01  8.48528137e+00]\n",
      " [ 2.06666667e+01 -6.72528072e+00]\n",
      " [ 1.03333333e+01  2.07380132e+01]\n",
      " [-1.03333333e+01  2.28582164e-02]\n",
      " [-2.06666667e+01 -1.23029065e+00]]\n",
      "The intermediate points are stored in the variable \"interpolated_points\"\n",
      "[0 0 0 1]\n",
      "[34 54 27 31]\n"
     ]
    },
    {
     "name": "stderr",
     "output_type": "stream",
     "text": [
      "<ipython-input-3-da811ff97447>:29: MatplotlibDeprecationWarning: Adding an axes using the same arguments as a previous axes currently reuses the earlier instance.  In a future version, a new instance will always be created and returned.  Meanwhile, this warning can be suppressed, and the future behavior ensured, by passing a unique label to each axes instance.\n",
      "  ax = fig.add_subplot(111, autoscale_on=False,\n"
     ]
    },
    {
     "name": "stdout",
     "output_type": "stream",
     "text": [
      "24\n",
      "The interpolation points are stored in the variable \"EF_target_pos\": \n",
      "[[ 20.77817459   7.77817459]\n",
      " [ 16.           6.51281404]\n",
      " [  8.          -3.9337591 ]\n",
      " [ -8.          -5.39943979]\n",
      " [-16.          -7.22321218]]\n",
      "The intermediate points are stored in the variable \"interpolated_points\"\n",
      "[0 1 0 0]\n",
      "[41 36 45 50]\n"
     ]
    },
    {
     "name": "stderr",
     "output_type": "stream",
     "text": [
      "<ipython-input-3-da811ff97447>:29: MatplotlibDeprecationWarning: Adding an axes using the same arguments as a previous axes currently reuses the earlier instance.  In a future version, a new instance will always be created and returned.  Meanwhile, this warning can be suppressed, and the future behavior ensured, by passing a unique label to each axes instance.\n",
      "  ax = fig.add_subplot(111, autoscale_on=False,\n"
     ]
    },
    {
     "name": "stdout",
     "output_type": "stream",
     "text": [
      "15\n",
      "The interpolation points are stored in the variable \"EF_target_pos\": \n",
      "[[ 12.94974747   4.94974747]\n",
      " [ 10.           2.6980387 ]\n",
      " [  5.           5.40142122]\n",
      " [ -5.          -1.88679083]\n",
      " [-10.           4.37097076]]\n",
      "The intermediate points are stored in the variable \"interpolated_points\"\n",
      "[1 1 0 0]\n",
      "[49 21 26 44]\n"
     ]
    },
    {
     "name": "stderr",
     "output_type": "stream",
     "text": [
      "<ipython-input-3-da811ff97447>:29: MatplotlibDeprecationWarning: Adding an axes using the same arguments as a previous axes currently reuses the earlier instance.  In a future version, a new instance will always be created and returned.  Meanwhile, this warning can be suppressed, and the future behavior ensured, by passing a unique label to each axes instance.\n",
      "  ax = fig.add_subplot(111, autoscale_on=False,\n"
     ]
    },
    {
     "name": "stdout",
     "output_type": "stream",
     "text": [
      "20\n",
      "The interpolation points are stored in the variable \"EF_target_pos\": \n",
      "[[ 16.77817459   7.77817459]\n",
      " [ 13.33333333   1.17795522]\n",
      " [  6.66666667  -6.92021072]\n",
      " [ -6.66666667  -4.61257623]\n",
      " [-13.33333333   5.64671104]]\n",
      "The intermediate points are stored in the variable \"interpolated_points\"\n",
      "[1 1 0 0]\n",
      "[34 16 27 28]\n"
     ]
    },
    {
     "name": "stderr",
     "output_type": "stream",
     "text": [
      "<ipython-input-3-da811ff97447>:29: MatplotlibDeprecationWarning: Adding an axes using the same arguments as a previous axes currently reuses the earlier instance.  In a future version, a new instance will always be created and returned.  Meanwhile, this warning can be suppressed, and the future behavior ensured, by passing a unique label to each axes instance.\n",
      "  ax = fig.add_subplot(111, autoscale_on=False,\n"
     ]
    },
    {
     "name": "stdout",
     "output_type": "stream",
     "text": [
      "27\n",
      "The interpolation points are stored in the variable \"EF_target_pos\": \n",
      "[[ 23.48528137   8.48528137]\n",
      " [ 18.           2.47507843]\n",
      " [  9.           8.0157552 ]\n",
      " [ -9.           2.43179743]\n",
      " [-18.           4.29260885]]\n",
      "The intermediate points are stored in the variable \"interpolated_points\"\n",
      "[0 0 1 0]\n",
      "[18 40 58 23]\n"
     ]
    },
    {
     "name": "stderr",
     "output_type": "stream",
     "text": [
      "<ipython-input-3-da811ff97447>:29: MatplotlibDeprecationWarning: Adding an axes using the same arguments as a previous axes currently reuses the earlier instance.  In a future version, a new instance will always be created and returned.  Meanwhile, this warning can be suppressed, and the future behavior ensured, by passing a unique label to each axes instance.\n",
      "  ax = fig.add_subplot(111, autoscale_on=False,\n"
     ]
    },
    {
     "name": "stdout",
     "output_type": "stream",
     "text": [
      "31\n",
      "The interpolation points are stored in the variable \"EF_target_pos\": \n",
      "[[ 27.48528137   8.48528137]\n",
      " [ 20.66666667  -8.08598987]\n",
      " [ 10.33333333   0.79540832]\n",
      " [-10.33333333  10.41805666]\n",
      " [-20.66666667  -2.71711366]]\n",
      "The intermediate points are stored in the variable \"interpolated_points\"\n",
      "[0 1 0 1]\n",
      "[48 48 38 33]\n"
     ]
    },
    {
     "name": "stderr",
     "output_type": "stream",
     "text": [
      "<ipython-input-3-da811ff97447>:29: MatplotlibDeprecationWarning: Adding an axes using the same arguments as a previous axes currently reuses the earlier instance.  In a future version, a new instance will always be created and returned.  Meanwhile, this warning can be suppressed, and the future behavior ensured, by passing a unique label to each axes instance.\n",
      "  ax = fig.add_subplot(111, autoscale_on=False,\n"
     ]
    },
    {
     "name": "stdout",
     "output_type": "stream",
     "text": [
      "23\n",
      "The interpolation points are stored in the variable \"EF_target_pos\": \n",
      "[[ 20.07106781   7.07106781]\n",
      " [ 15.33333333  -2.99640667]\n",
      " [  7.66666667  -0.71155941]\n",
      " [ -7.66666667   8.09010227]\n",
      " [-15.33333333  -0.29565074]]\n",
      "The intermediate points are stored in the variable \"interpolated_points\"\n",
      "[1 0 1 0]\n",
      "[59 32 34 58]\n"
     ]
    },
    {
     "name": "stderr",
     "output_type": "stream",
     "text": [
      "<ipython-input-3-da811ff97447>:29: MatplotlibDeprecationWarning: Adding an axes using the same arguments as a previous axes currently reuses the earlier instance.  In a future version, a new instance will always be created and returned.  Meanwhile, this warning can be suppressed, and the future behavior ensured, by passing a unique label to each axes instance.\n",
      "  ax = fig.add_subplot(111, autoscale_on=False,\n"
     ]
    },
    {
     "name": "stdout",
     "output_type": "stream",
     "text": [
      "27\n",
      "The interpolation points are stored in the variable \"EF_target_pos\": \n",
      "[[ 23.19238816   9.19238816]\n",
      " [ 18.          -6.59704282]\n",
      " [  9.           7.68110725]\n",
      " [ -9.           8.38220692]\n",
      " [-18.          -3.72488626]]\n",
      "The intermediate points are stored in the variable \"interpolated_points\"\n",
      "[1 0 1 0]\n",
      "[21 39 24 27]\n"
     ]
    },
    {
     "name": "stderr",
     "output_type": "stream",
     "text": [
      "<ipython-input-3-da811ff97447>:29: MatplotlibDeprecationWarning: Adding an axes using the same arguments as a previous axes currently reuses the earlier instance.  In a future version, a new instance will always be created and returned.  Meanwhile, this warning can be suppressed, and the future behavior ensured, by passing a unique label to each axes instance.\n",
      "  ax = fig.add_subplot(111, autoscale_on=False,\n"
     ]
    },
    {
     "name": "stdout",
     "output_type": "stream",
     "text": [
      "24\n",
      "The interpolation points are stored in the variable \"EF_target_pos\": \n",
      "[[ 19.89949494   9.89949494]\n",
      " [ 16.          -2.52377101]\n",
      " [  8.         -16.0193512 ]\n",
      " [ -8.          -4.08364419]\n",
      " [-16.           6.68407354]]\n",
      "The intermediate points are stored in the variable \"interpolated_points\"\n",
      "[1 1 0 0]\n",
      "[41 44 52 35]\n"
     ]
    },
    {
     "name": "stderr",
     "output_type": "stream",
     "text": [
      "<ipython-input-3-da811ff97447>:29: MatplotlibDeprecationWarning: Adding an axes using the same arguments as a previous axes currently reuses the earlier instance.  In a future version, a new instance will always be created and returned.  Meanwhile, this warning can be suppressed, and the future behavior ensured, by passing a unique label to each axes instance.\n",
      "  ax = fig.add_subplot(111, autoscale_on=False,\n"
     ]
    },
    {
     "name": "stdout",
     "output_type": "stream",
     "text": [
      "18\n",
      "The interpolation points are stored in the variable \"EF_target_pos\": \n",
      "[[ 15.94974747   4.94974747]\n",
      " [ 12.          -2.17360873]\n",
      " [  6.          -4.01596113]\n",
      " [ -6.           8.02790876]\n",
      " [-12.           4.69580475]]\n",
      "The intermediate points are stored in the variable \"interpolated_points\"\n",
      "[0 1 0 0]\n",
      "[49 54 21 31]\n"
     ]
    },
    {
     "name": "stderr",
     "output_type": "stream",
     "text": [
      "<ipython-input-3-da811ff97447>:29: MatplotlibDeprecationWarning: Adding an axes using the same arguments as a previous axes currently reuses the earlier instance.  In a future version, a new instance will always be created and returned.  Meanwhile, this warning can be suppressed, and the future behavior ensured, by passing a unique label to each axes instance.\n",
      "  ax = fig.add_subplot(111, autoscale_on=False,\n"
     ]
    },
    {
     "name": "stdout",
     "output_type": "stream",
     "text": [
      "16\n",
      "The interpolation points are stored in the variable \"EF_target_pos\": \n",
      "[[ 13.94974747   4.94974747]\n",
      " [ 10.66666667  -1.39386959]\n",
      " [  5.33333333  -8.8905069 ]\n",
      " [ -5.33333333   2.86404489]\n",
      " [-10.66666667  -3.0850976 ]]\n",
      "The intermediate points are stored in the variable \"interpolated_points\"\n",
      "[0 1 0 0]\n",
      "[38 39 45 30]\n"
     ]
    },
    {
     "name": "stderr",
     "output_type": "stream",
     "text": [
      "<ipython-input-3-da811ff97447>:29: MatplotlibDeprecationWarning: Adding an axes using the same arguments as a previous axes currently reuses the earlier instance.  In a future version, a new instance will always be created and returned.  Meanwhile, this warning can be suppressed, and the future behavior ensured, by passing a unique label to each axes instance.\n",
      "  ax = fig.add_subplot(111, autoscale_on=False,\n"
     ]
    },
    {
     "name": "stdout",
     "output_type": "stream",
     "text": [
      "23\n",
      "The interpolation points are stored in the variable \"EF_target_pos\": \n",
      "[[ 20.07106781   7.07106781]\n",
      " [ 15.33333333  -7.87626137]\n",
      " [  7.66666667 -14.55480371]\n",
      " [ -7.66666667  11.19155551]\n",
      " [-15.33333333   5.81624486]]\n",
      "The intermediate points are stored in the variable \"interpolated_points\"\n",
      "[1 0 0 0]\n",
      "[54 34 31 25]\n"
     ]
    },
    {
     "name": "stderr",
     "output_type": "stream",
     "text": [
      "<ipython-input-3-da811ff97447>:29: MatplotlibDeprecationWarning: Adding an axes using the same arguments as a previous axes currently reuses the earlier instance.  In a future version, a new instance will always be created and returned.  Meanwhile, this warning can be suppressed, and the future behavior ensured, by passing a unique label to each axes instance.\n",
      "  ax = fig.add_subplot(111, autoscale_on=False,\n"
     ]
    },
    {
     "name": "stdout",
     "output_type": "stream",
     "text": [
      "22\n",
      "The interpolation points are stored in the variable \"EF_target_pos\": \n",
      "[[ 19.36396103   6.36396103]\n",
      " [ 14.66666667  -5.58072233]\n",
      " [  7.33333333  10.55629212]\n",
      " [ -7.33333333   6.58822187]\n",
      " [-14.66666667  -1.85651951]]\n",
      "The intermediate points are stored in the variable \"interpolated_points\"\n",
      "[0 1 0 1]\n",
      "[54 53 55 46]\n"
     ]
    },
    {
     "name": "stderr",
     "output_type": "stream",
     "text": [
      "<ipython-input-3-da811ff97447>:29: MatplotlibDeprecationWarning: Adding an axes using the same arguments as a previous axes currently reuses the earlier instance.  In a future version, a new instance will always be created and returned.  Meanwhile, this warning can be suppressed, and the future behavior ensured, by passing a unique label to each axes instance.\n",
      "  ax = fig.add_subplot(111, autoscale_on=False,\n"
     ]
    },
    {
     "name": "stdout",
     "output_type": "stream",
     "text": [
      "21\n",
      "The interpolation points are stored in the variable \"EF_target_pos\": \n",
      "[[ 17.77817459   7.77817459]\n",
      " [ 14.          -6.21511001]\n",
      " [  7.          -0.1867234 ]\n",
      " [ -7.           9.11894584]\n",
      " [-14.           4.91019177]]\n",
      "The intermediate points are stored in the variable \"interpolated_points\"\n",
      "[1 1 0 1]\n",
      "[59 29 26 31]\n"
     ]
    },
    {
     "name": "stderr",
     "output_type": "stream",
     "text": [
      "<ipython-input-3-da811ff97447>:29: MatplotlibDeprecationWarning: Adding an axes using the same arguments as a previous axes currently reuses the earlier instance.  In a future version, a new instance will always be created and returned.  Meanwhile, this warning can be suppressed, and the future behavior ensured, by passing a unique label to each axes instance.\n",
      "  ax = fig.add_subplot(111, autoscale_on=False,\n"
     ]
    },
    {
     "name": "stdout",
     "output_type": "stream",
     "text": [
      "21\n",
      "The interpolation points are stored in the variable \"EF_target_pos\": \n",
      "[[ 18.36396103   6.36396103]\n",
      " [ 14.          -2.21626077]\n",
      " [  7.          -5.16000535]\n",
      " [ -7.         -13.26829713]\n",
      " [-14.          -6.70586131]]\n",
      "The intermediate points are stored in the variable \"interpolated_points\"\n",
      "[1 0 1 1]\n",
      "[52 42 48 31]\n"
     ]
    },
    {
     "name": "stderr",
     "output_type": "stream",
     "text": [
      "<ipython-input-3-da811ff97447>:29: MatplotlibDeprecationWarning: Adding an axes using the same arguments as a previous axes currently reuses the earlier instance.  In a future version, a new instance will always be created and returned.  Meanwhile, this warning can be suppressed, and the future behavior ensured, by passing a unique label to each axes instance.\n",
      "  ax = fig.add_subplot(111, autoscale_on=False,\n"
     ]
    },
    {
     "name": "stdout",
     "output_type": "stream",
     "text": [
      "26\n",
      "The interpolation points are stored in the variable \"EF_target_pos\": \n",
      "[[ 23.07106781   7.07106781]\n",
      " [ 17.33333333  -2.5510604 ]\n",
      " [  8.66666667 -16.06788332]\n",
      " [ -8.66666667  16.64975118]\n",
      " [-17.33333333   8.37595175]]\n",
      "The intermediate points are stored in the variable \"interpolated_points\"\n",
      "[0 1 0 0]\n",
      "[19 35 26 40]\n"
     ]
    },
    {
     "name": "stderr",
     "output_type": "stream",
     "text": [
      "<ipython-input-3-da811ff97447>:29: MatplotlibDeprecationWarning: Adding an axes using the same arguments as a previous axes currently reuses the earlier instance.  In a future version, a new instance will always be created and returned.  Meanwhile, this warning can be suppressed, and the future behavior ensured, by passing a unique label to each axes instance.\n",
      "  ax = fig.add_subplot(111, autoscale_on=False,\n"
     ]
    },
    {
     "name": "stdout",
     "output_type": "stream",
     "text": [
      "27\n",
      "The interpolation points are stored in the variable \"EF_target_pos\": \n",
      "[[ 22.89949494   9.89949494]\n",
      " [ 18.          -3.24826859]\n",
      " [  9.           9.44573451]\n",
      " [ -9.          13.84556429]\n",
      " [-18.          -0.76504089]]\n",
      "The intermediate points are stored in the variable \"interpolated_points\"\n",
      "[1 0 0 1]\n",
      "[38 17 57 35]\n"
     ]
    },
    {
     "name": "stderr",
     "output_type": "stream",
     "text": [
      "<ipython-input-3-da811ff97447>:29: MatplotlibDeprecationWarning: Adding an axes using the same arguments as a previous axes currently reuses the earlier instance.  In a future version, a new instance will always be created and returned.  Meanwhile, this warning can be suppressed, and the future behavior ensured, by passing a unique label to each axes instance.\n",
      "  ax = fig.add_subplot(111, autoscale_on=False,\n"
     ]
    },
    {
     "name": "stdout",
     "output_type": "stream",
     "text": [
      "19\n",
      "The interpolation points are stored in the variable \"EF_target_pos\": \n",
      "[[ 16.94974747   4.94974747]\n",
      " [ 12.66666667  -4.55233314]\n",
      " [  6.33333333 -10.62451061]\n",
      " [ -6.33333333  -4.74881262]\n",
      " [-12.66666667   3.59667788]]\n",
      "The intermediate points are stored in the variable \"interpolated_points\"\n",
      "[0 0 1 0]\n",
      "[43 54 53 15]\n"
     ]
    },
    {
     "name": "stderr",
     "output_type": "stream",
     "text": [
      "<ipython-input-3-da811ff97447>:29: MatplotlibDeprecationWarning: Adding an axes using the same arguments as a previous axes currently reuses the earlier instance.  In a future version, a new instance will always be created and returned.  Meanwhile, this warning can be suppressed, and the future behavior ensured, by passing a unique label to each axes instance.\n",
      "  ax = fig.add_subplot(111, autoscale_on=False,\n"
     ]
    },
    {
     "name": "stdout",
     "output_type": "stream",
     "text": [
      "23\n",
      "The interpolation points are stored in the variable \"EF_target_pos\": \n",
      "[[ 20.94974747   4.94974747]\n",
      " [ 15.33333333  -5.95308101]\n",
      " [  7.66666667   7.16766509]\n",
      " [ -7.66666667  -7.1741695 ]\n",
      " [-15.33333333   1.21580559]]\n",
      "The intermediate points are stored in the variable \"interpolated_points\"\n",
      "[1 1 0 0]\n",
      "[23 29 22 23]\n"
     ]
    },
    {
     "name": "stderr",
     "output_type": "stream",
     "text": [
      "<ipython-input-3-da811ff97447>:29: MatplotlibDeprecationWarning: Adding an axes using the same arguments as a previous axes currently reuses the earlier instance.  In a future version, a new instance will always be created and returned.  Meanwhile, this warning can be suppressed, and the future behavior ensured, by passing a unique label to each axes instance.\n",
      "  ax = fig.add_subplot(111, autoscale_on=False,\n"
     ]
    },
    {
     "name": "stdout",
     "output_type": "stream",
     "text": [
      "22\n",
      "The interpolation points are stored in the variable \"EF_target_pos\": \n",
      "[[ 1.96568542e+01  5.65685425e+00]\n",
      " [ 1.46666667e+01  1.04725582e-02]\n",
      " [ 7.33333333e+00  1.29066471e+01]\n",
      " [-7.33333333e+00  7.98387062e+00]\n",
      " [-1.46666667e+01 -7.35608197e+00]]\n",
      "The intermediate points are stored in the variable \"interpolated_points\"\n",
      "[1 1 1 1]\n",
      "[49 40 17 24]\n"
     ]
    },
    {
     "name": "stderr",
     "output_type": "stream",
     "text": [
      "<ipython-input-3-da811ff97447>:29: MatplotlibDeprecationWarning: Adding an axes using the same arguments as a previous axes currently reuses the earlier instance.  In a future version, a new instance will always be created and returned.  Meanwhile, this warning can be suppressed, and the future behavior ensured, by passing a unique label to each axes instance.\n",
      "  ax = fig.add_subplot(111, autoscale_on=False,\n"
     ]
    },
    {
     "name": "stdout",
     "output_type": "stream",
     "text": [
      "21\n",
      "The interpolation points are stored in the variable \"EF_target_pos\": \n",
      "[[ 18.36396103   6.36396103]\n",
      " [ 14.          -4.66032061]\n",
      " [  7.          -4.68311021]\n",
      " [ -7.          -7.78600637]\n",
      " [-14.          -0.40379836]]\n",
      "The intermediate points are stored in the variable \"interpolated_points\"\n",
      "[1 0 0 1]\n",
      "[57 58 49 28]\n"
     ]
    },
    {
     "name": "stderr",
     "output_type": "stream",
     "text": [
      "<ipython-input-3-da811ff97447>:29: MatplotlibDeprecationWarning: Adding an axes using the same arguments as a previous axes currently reuses the earlier instance.  In a future version, a new instance will always be created and returned.  Meanwhile, this warning can be suppressed, and the future behavior ensured, by passing a unique label to each axes instance.\n",
      "  ax = fig.add_subplot(111, autoscale_on=False,\n"
     ]
    },
    {
     "name": "stdout",
     "output_type": "stream",
     "text": [
      "27\n",
      "The interpolation points are stored in the variable \"EF_target_pos\": \n",
      "[[ 24.07106781   7.07106781]\n",
      " [ 18.          -7.18657794]\n",
      " [  9.           7.699636  ]\n",
      " [ -9.         -16.61585885]\n",
      " [-18.          -2.65293747]]\n",
      "The intermediate points are stored in the variable \"interpolated_points\"\n",
      "[1 0 1 0]\n",
      "[25 28 48 39]\n"
     ]
    },
    {
     "name": "stderr",
     "output_type": "stream",
     "text": [
      "<ipython-input-3-da811ff97447>:29: MatplotlibDeprecationWarning: Adding an axes using the same arguments as a previous axes currently reuses the earlier instance.  In a future version, a new instance will always be created and returned.  Meanwhile, this warning can be suppressed, and the future behavior ensured, by passing a unique label to each axes instance.\n",
      "  ax = fig.add_subplot(111, autoscale_on=False,\n"
     ]
    },
    {
     "name": "stdout",
     "output_type": "stream",
     "text": [
      "22\n",
      "The interpolation points are stored in the variable \"EF_target_pos\": \n",
      "[[ 19.94974747   4.94974747]\n",
      " [ 14.66666667  -6.28788626]\n",
      " [  7.33333333  13.09820518]\n",
      " [ -7.33333333  11.82132513]\n",
      " [-14.66666667   1.41109206]]\n",
      "The intermediate points are stored in the variable \"interpolated_points\"\n",
      "[1 0 0 1]\n",
      "[19 28 26 17]\n"
     ]
    },
    {
     "name": "stderr",
     "output_type": "stream",
     "text": [
      "<ipython-input-3-da811ff97447>:29: MatplotlibDeprecationWarning: Adding an axes using the same arguments as a previous axes currently reuses the earlier instance.  In a future version, a new instance will always be created and returned.  Meanwhile, this warning can be suppressed, and the future behavior ensured, by passing a unique label to each axes instance.\n",
      "  ax = fig.add_subplot(111, autoscale_on=False,\n"
     ]
    },
    {
     "name": "stdout",
     "output_type": "stream",
     "text": [
      "28\n",
      "The interpolation points are stored in the variable \"EF_target_pos\": \n",
      "[[ 23.89949494   9.89949494]\n",
      " [ 18.66666667  -1.68015527]\n",
      " [  9.33333333   0.34911487]\n",
      " [ -9.33333333  13.38391029]\n",
      " [-18.66666667   1.09339863]]\n",
      "The intermediate points are stored in the variable \"interpolated_points\"\n",
      "[0 1 0 0]\n",
      "[19 28 27 37]\n"
     ]
    },
    {
     "name": "stderr",
     "output_type": "stream",
     "text": [
      "<ipython-input-3-da811ff97447>:29: MatplotlibDeprecationWarning: Adding an axes using the same arguments as a previous axes currently reuses the earlier instance.  In a future version, a new instance will always be created and returned.  Meanwhile, this warning can be suppressed, and the future behavior ensured, by passing a unique label to each axes instance.\n",
      "  ax = fig.add_subplot(111, autoscale_on=False,\n"
     ]
    },
    {
     "name": "stdout",
     "output_type": "stream",
     "text": [
      "18\n",
      "The interpolation points are stored in the variable \"EF_target_pos\": \n",
      "[[ 16.53553391   3.53553391]\n",
      " [ 12.           3.16660596]\n",
      " [  6.          -7.19286737]\n",
      " [ -6.           1.42279656]\n",
      " [-12.           1.96330756]]\n",
      "The intermediate points are stored in the variable \"interpolated_points\"\n",
      "[1 0 1 0]\n",
      "[26 23 45 51]\n"
     ]
    },
    {
     "name": "stderr",
     "output_type": "stream",
     "text": [
      "<ipython-input-3-da811ff97447>:29: MatplotlibDeprecationWarning: Adding an axes using the same arguments as a previous axes currently reuses the earlier instance.  In a future version, a new instance will always be created and returned.  Meanwhile, this warning can be suppressed, and the future behavior ensured, by passing a unique label to each axes instance.\n",
      "  ax = fig.add_subplot(111, autoscale_on=False,\n"
     ]
    },
    {
     "name": "stdout",
     "output_type": "stream",
     "text": [
      "31\n",
      "The interpolation points are stored in the variable \"EF_target_pos\": \n",
      "[[ 27.19238816   9.19238816]\n",
      " [ 20.66666667  -8.20960421]\n",
      " [ 10.33333333 -12.11613899]\n",
      " [-10.33333333 -15.47840894]\n",
      " [-20.66666667   1.46824512]]\n",
      "The intermediate points are stored in the variable \"interpolated_points\"\n",
      "[0 0 0 0]\n",
      "[36 36 54 40]\n"
     ]
    },
    {
     "name": "stderr",
     "output_type": "stream",
     "text": [
      "<ipython-input-3-da811ff97447>:29: MatplotlibDeprecationWarning: Adding an axes using the same arguments as a previous axes currently reuses the earlier instance.  In a future version, a new instance will always be created and returned.  Meanwhile, this warning can be suppressed, and the future behavior ensured, by passing a unique label to each axes instance.\n",
      "  ax = fig.add_subplot(111, autoscale_on=False,\n"
     ]
    },
    {
     "name": "stdout",
     "output_type": "stream",
     "text": [
      "22\n",
      "The interpolation points are stored in the variable \"EF_target_pos\": \n",
      "[[ 18.77817459   7.77817459]\n",
      " [ 14.66666667  -3.5769241 ]\n",
      " [  7.33333333  -6.26719906]\n",
      " [ -7.33333333   5.96374175]\n",
      " [-14.66666667  -1.87732779]]\n",
      "The intermediate points are stored in the variable \"interpolated_points\"\n",
      "[1 1 1 1]\n",
      "[32 28 27 45]\n"
     ]
    },
    {
     "name": "stderr",
     "output_type": "stream",
     "text": [
      "<ipython-input-3-da811ff97447>:29: MatplotlibDeprecationWarning: Adding an axes using the same arguments as a previous axes currently reuses the earlier instance.  In a future version, a new instance will always be created and returned.  Meanwhile, this warning can be suppressed, and the future behavior ensured, by passing a unique label to each axes instance.\n",
      "  ax = fig.add_subplot(111, autoscale_on=False,\n"
     ]
    },
    {
     "name": "stdout",
     "output_type": "stream",
     "text": [
      "17\n",
      "The interpolation points are stored in the variable \"EF_target_pos\": \n",
      "[[ 14.65685425   5.65685425]\n",
      " [ 11.33333333  -5.13121139]\n",
      " [  5.66666667   0.14616483]\n",
      " [ -5.66666667  -4.6642672 ]\n",
      " [-11.33333333  -1.7722775 ]]\n",
      "The intermediate points are stored in the variable \"interpolated_points\"\n",
      "[0 1 0 0]\n",
      "[33 20 16 41]\n"
     ]
    },
    {
     "name": "stderr",
     "output_type": "stream",
     "text": [
      "<ipython-input-3-da811ff97447>:29: MatplotlibDeprecationWarning: Adding an axes using the same arguments as a previous axes currently reuses the earlier instance.  In a future version, a new instance will always be created and returned.  Meanwhile, this warning can be suppressed, and the future behavior ensured, by passing a unique label to each axes instance.\n",
      "  ax = fig.add_subplot(111, autoscale_on=False,\n"
     ]
    },
    {
     "name": "stdout",
     "output_type": "stream",
     "text": [
      "25\n",
      "The interpolation points are stored in the variable \"EF_target_pos\": \n",
      "[[ 21.77817459   7.77817459]\n",
      " [ 16.66666667  -3.67954411]\n",
      " [  8.33333333  -3.59832197]\n",
      " [ -8.33333333   2.71979456]\n",
      " [-16.66666667  -5.59975422]]\n",
      "The intermediate points are stored in the variable \"interpolated_points\"\n",
      "[1 0 1 0]\n",
      "[15 41 25 20]\n"
     ]
    },
    {
     "name": "stderr",
     "output_type": "stream",
     "text": [
      "<ipython-input-3-da811ff97447>:29: MatplotlibDeprecationWarning: Adding an axes using the same arguments as a previous axes currently reuses the earlier instance.  In a future version, a new instance will always be created and returned.  Meanwhile, this warning can be suppressed, and the future behavior ensured, by passing a unique label to each axes instance.\n",
      "  ax = fig.add_subplot(111, autoscale_on=False,\n"
     ]
    },
    {
     "name": "stdout",
     "output_type": "stream",
     "text": [
      "26\n",
      "The interpolation points are stored in the variable \"EF_target_pos\": \n",
      "[[ 22.19238816   9.19238816]\n",
      " [ 17.33333333  -2.78299967]\n",
      " [  8.66666667  -5.52073744]\n",
      " [ -8.66666667  12.71781551]\n",
      " [-17.33333333   7.13593224]]\n",
      "The intermediate points are stored in the variable \"interpolated_points\"\n",
      "[1 1 1 1]\n",
      "[39 20 33 20]\n"
     ]
    },
    {
     "name": "stderr",
     "output_type": "stream",
     "text": [
      "<ipython-input-3-da811ff97447>:29: MatplotlibDeprecationWarning: Adding an axes using the same arguments as a previous axes currently reuses the earlier instance.  In a future version, a new instance will always be created and returned.  Meanwhile, this warning can be suppressed, and the future behavior ensured, by passing a unique label to each axes instance.\n",
      "  ax = fig.add_subplot(111, autoscale_on=False,\n"
     ]
    },
    {
     "name": "stdout",
     "output_type": "stream",
     "text": [
      "22\n",
      "The interpolation points are stored in the variable \"EF_target_pos\": \n",
      "[[ 19.65685425   5.65685425]\n",
      " [ 14.66666667   5.08685823]\n",
      " [  7.33333333 -14.16592512]\n",
      " [ -7.33333333  -7.03353927]\n",
      " [-14.66666667   7.20452626]]\n",
      "The intermediate points are stored in the variable \"interpolated_points\"\n",
      "[1 0 0 0]\n",
      "[57 50 37 43]\n"
     ]
    },
    {
     "name": "stderr",
     "output_type": "stream",
     "text": [
      "<ipython-input-3-da811ff97447>:29: MatplotlibDeprecationWarning: Adding an axes using the same arguments as a previous axes currently reuses the earlier instance.  In a future version, a new instance will always be created and returned.  Meanwhile, this warning can be suppressed, and the future behavior ensured, by passing a unique label to each axes instance.\n",
      "  ax = fig.add_subplot(111, autoscale_on=False,\n"
     ]
    },
    {
     "name": "stdout",
     "output_type": "stream",
     "text": [
      "21\n",
      "The interpolation points are stored in the variable \"EF_target_pos\": \n",
      "[[ 18.65685425   5.65685425]\n",
      " [ 14.           2.56307309]\n",
      " [  7.          -1.00403905]\n",
      " [ -7.           5.25540261]\n",
      " [-14.          -6.44719804]]\n",
      "The intermediate points are stored in the variable \"interpolated_points\"\n",
      "[0 0 1 0]\n",
      "[40 46 39 45]\n"
     ]
    },
    {
     "name": "stderr",
     "output_type": "stream",
     "text": [
      "<ipython-input-3-da811ff97447>:29: MatplotlibDeprecationWarning: Adding an axes using the same arguments as a previous axes currently reuses the earlier instance.  In a future version, a new instance will always be created and returned.  Meanwhile, this warning can be suppressed, and the future behavior ensured, by passing a unique label to each axes instance.\n",
      "  ax = fig.add_subplot(111, autoscale_on=False,\n"
     ]
    },
    {
     "name": "stdout",
     "output_type": "stream",
     "text": [
      "27\n",
      "The interpolation points are stored in the variable \"EF_target_pos\": \n",
      "[[ 24.07106781   7.07106781]\n",
      " [ 18.           6.64302406]\n",
      " [  9.           2.6767527 ]\n",
      " [ -9.          15.21359518]\n",
      " [-18.          -6.68073656]]\n",
      "The intermediate points are stored in the variable \"interpolated_points\"\n",
      "[0 0 0 0]\n",
      "[20 39 52 19]\n"
     ]
    },
    {
     "name": "stderr",
     "output_type": "stream",
     "text": [
      "<ipython-input-3-da811ff97447>:29: MatplotlibDeprecationWarning: Adding an axes using the same arguments as a previous axes currently reuses the earlier instance.  In a future version, a new instance will always be created and returned.  Meanwhile, this warning can be suppressed, and the future behavior ensured, by passing a unique label to each axes instance.\n",
      "  ax = fig.add_subplot(111, autoscale_on=False,\n"
     ]
    },
    {
     "name": "stdout",
     "output_type": "stream",
     "text": [
      "23\n",
      "The interpolation points are stored in the variable \"EF_target_pos\": \n",
      "[[ 19.19238816   9.19238816]\n",
      " [ 15.33333333   0.31924625]\n",
      " [  7.66666667  -5.55877526]\n",
      " [ -7.66666667  12.49251509]\n",
      " [-15.33333333   2.09753238]]\n",
      "The intermediate points are stored in the variable \"interpolated_points\"\n",
      "[0 1 1 1]\n",
      "[31 33 37 16]\n"
     ]
    },
    {
     "name": "stderr",
     "output_type": "stream",
     "text": [
      "<ipython-input-3-da811ff97447>:29: MatplotlibDeprecationWarning: Adding an axes using the same arguments as a previous axes currently reuses the earlier instance.  In a future version, a new instance will always be created and returned.  Meanwhile, this warning can be suppressed, and the future behavior ensured, by passing a unique label to each axes instance.\n",
      "  ax = fig.add_subplot(111, autoscale_on=False,\n"
     ]
    },
    {
     "name": "stdout",
     "output_type": "stream",
     "text": [
      "19\n",
      "The interpolation points are stored in the variable \"EF_target_pos\": \n",
      "[[ 17.24264069   4.24264069]\n",
      " [ 12.66666667   5.24050055]\n",
      " [  6.33333333 -10.68630244]\n",
      " [ -6.33333333  -4.85965553]\n",
      " [-12.66666667  -3.41877864]]\n",
      "The intermediate points are stored in the variable \"interpolated_points\"\n",
      "[0 1 0 0]\n",
      "[20 51 53 22]\n"
     ]
    },
    {
     "name": "stderr",
     "output_type": "stream",
     "text": [
      "<ipython-input-3-da811ff97447>:29: MatplotlibDeprecationWarning: Adding an axes using the same arguments as a previous axes currently reuses the earlier instance.  In a future version, a new instance will always be created and returned.  Meanwhile, this warning can be suppressed, and the future behavior ensured, by passing a unique label to each axes instance.\n",
      "  ax = fig.add_subplot(111, autoscale_on=False,\n"
     ]
    },
    {
     "name": "stdout",
     "output_type": "stream",
     "text": [
      "19\n",
      "The interpolation points are stored in the variable \"EF_target_pos\": \n",
      "[[ 16.36396103   6.36396103]\n",
      " [ 12.66666667  -5.62502586]\n",
      " [  6.33333333   7.6750846 ]\n",
      " [ -6.33333333   9.5292114 ]\n",
      " [-12.66666667   0.98461248]]\n",
      "The intermediate points are stored in the variable \"interpolated_points\"\n",
      "[1 0 0 0]\n",
      "[59 46 24 53]\n"
     ]
    },
    {
     "name": "stderr",
     "output_type": "stream",
     "text": [
      "<ipython-input-3-da811ff97447>:29: MatplotlibDeprecationWarning: Adding an axes using the same arguments as a previous axes currently reuses the earlier instance.  In a future version, a new instance will always be created and returned.  Meanwhile, this warning can be suppressed, and the future behavior ensured, by passing a unique label to each axes instance.\n",
      "  ax = fig.add_subplot(111, autoscale_on=False,\n"
     ]
    },
    {
     "name": "stdout",
     "output_type": "stream",
     "text": [
      "22\n",
      "The interpolation points are stored in the variable \"EF_target_pos\": \n",
      "[[ 1.96568542e+01  5.65685425e+00]\n",
      " [ 1.46666667e+01 -4.50778389e+00]\n",
      " [ 7.33333333e+00  3.87285568e+00]\n",
      " [-7.33333333e+00  6.00155331e+00]\n",
      " [-1.46666667e+01 -1.70494919e-02]]\n",
      "The intermediate points are stored in the variable \"interpolated_points\"\n",
      "[0 0 1 1]\n",
      "[27 23 27 44]\n"
     ]
    },
    {
     "name": "stderr",
     "output_type": "stream",
     "text": [
      "<ipython-input-3-da811ff97447>:29: MatplotlibDeprecationWarning: Adding an axes using the same arguments as a previous axes currently reuses the earlier instance.  In a future version, a new instance will always be created and returned.  Meanwhile, this warning can be suppressed, and the future behavior ensured, by passing a unique label to each axes instance.\n",
      "  ax = fig.add_subplot(111, autoscale_on=False,\n"
     ]
    },
    {
     "name": "stdout",
     "output_type": "stream",
     "text": [
      "25\n",
      "The interpolation points are stored in the variable \"EF_target_pos\": \n",
      "[[ 22.36396103   6.36396103]\n",
      " [ 16.66666667   5.29360036]\n",
      " [  8.33333333   3.83945292]\n",
      " [ -8.33333333  -7.63581769]\n",
      " [-16.66666667   5.11959527]]\n",
      "The intermediate points are stored in the variable \"interpolated_points\"\n",
      "[0 1 0 1]\n",
      "[25 38 53 18]\n"
     ]
    },
    {
     "name": "stderr",
     "output_type": "stream",
     "text": [
      "<ipython-input-3-da811ff97447>:29: MatplotlibDeprecationWarning: Adding an axes using the same arguments as a previous axes currently reuses the earlier instance.  In a future version, a new instance will always be created and returned.  Meanwhile, this warning can be suppressed, and the future behavior ensured, by passing a unique label to each axes instance.\n",
      "  ax = fig.add_subplot(111, autoscale_on=False,\n"
     ]
    },
    {
     "name": "stdout",
     "output_type": "stream",
     "text": [
      "27\n",
      "The interpolation points are stored in the variable \"EF_target_pos\": \n",
      "[[ 24.07106781   7.07106781]\n",
      " [ 18.           3.96616948]\n",
      " [  9.          17.59856779]\n",
      " [ -9.           5.11353851]\n",
      " [-18.          -2.26960308]]\n",
      "The intermediate points are stored in the variable \"interpolated_points\"\n",
      "[1 0 0 1]\n",
      "[55 38 30 20]\n"
     ]
    },
    {
     "name": "stderr",
     "output_type": "stream",
     "text": [
      "<ipython-input-3-da811ff97447>:29: MatplotlibDeprecationWarning: Adding an axes using the same arguments as a previous axes currently reuses the earlier instance.  In a future version, a new instance will always be created and returned.  Meanwhile, this warning can be suppressed, and the future behavior ensured, by passing a unique label to each axes instance.\n",
      "  ax = fig.add_subplot(111, autoscale_on=False,\n"
     ]
    },
    {
     "name": "stdout",
     "output_type": "stream",
     "text": [
      "27\n",
      "The interpolation points are stored in the variable \"EF_target_pos\": \n",
      "[[ 23.19238816   9.19238816]\n",
      " [ 18.           6.95667434]\n",
      " [  9.          17.22612856]\n",
      " [ -9.          -3.17330232]\n",
      " [-18.           2.14319095]]\n",
      "The intermediate points are stored in the variable \"interpolated_points\"\n",
      "[0 0 0 0]\n",
      "[18 27 48 48]\n"
     ]
    },
    {
     "name": "stderr",
     "output_type": "stream",
     "text": [
      "<ipython-input-3-da811ff97447>:29: MatplotlibDeprecationWarning: Adding an axes using the same arguments as a previous axes currently reuses the earlier instance.  In a future version, a new instance will always be created and returned.  Meanwhile, this warning can be suppressed, and the future behavior ensured, by passing a unique label to each axes instance.\n",
      "  ax = fig.add_subplot(111, autoscale_on=False,\n"
     ]
    },
    {
     "name": "stdout",
     "output_type": "stream",
     "text": [
      "17\n",
      "The interpolation points are stored in the variable \"EF_target_pos\": \n",
      "[[ 15.53553391   3.53553391]\n",
      " [ 11.33333333   2.09913668]\n",
      " [  5.66666667  -9.44043587]\n",
      " [ -5.66666667   5.50493665]\n",
      " [-11.33333333  -4.0323115 ]]\n",
      "The intermediate points are stored in the variable \"interpolated_points\"\n",
      "[1 0 1 1]\n",
      "[24 26 16 52]\n"
     ]
    },
    {
     "name": "stderr",
     "output_type": "stream",
     "text": [
      "<ipython-input-3-da811ff97447>:29: MatplotlibDeprecationWarning: Adding an axes using the same arguments as a previous axes currently reuses the earlier instance.  In a future version, a new instance will always be created and returned.  Meanwhile, this warning can be suppressed, and the future behavior ensured, by passing a unique label to each axes instance.\n",
      "  ax = fig.add_subplot(111, autoscale_on=False,\n"
     ]
    },
    {
     "name": "stdout",
     "output_type": "stream",
     "text": [
      "20\n",
      "The interpolation points are stored in the variable \"EF_target_pos\": \n",
      "[[ 17.36396103   6.36396103]\n",
      " [ 13.33333333   3.13364498]\n",
      " [  6.66666667   3.47614608]\n",
      " [ -6.66666667  -2.59632901]\n",
      " [-13.33333333   0.37918582]]\n",
      "The intermediate points are stored in the variable \"interpolated_points\"\n",
      "[1 0 0 0]\n",
      "[43 38 36 32]\n"
     ]
    },
    {
     "name": "stderr",
     "output_type": "stream",
     "text": [
      "<ipython-input-3-da811ff97447>:29: MatplotlibDeprecationWarning: Adding an axes using the same arguments as a previous axes currently reuses the earlier instance.  In a future version, a new instance will always be created and returned.  Meanwhile, this warning can be suppressed, and the future behavior ensured, by passing a unique label to each axes instance.\n",
      "  ax = fig.add_subplot(111, autoscale_on=False,\n"
     ]
    },
    {
     "name": "stdout",
     "output_type": "stream",
     "text": [
      "21\n",
      "The interpolation points are stored in the variable \"EF_target_pos\": \n",
      "[[ 18.94974747   4.94974747]\n",
      " [ 14.           6.49877419]\n",
      " [  7.          -3.00627235]\n",
      " [ -7.          -0.2801181 ]\n",
      " [-14.           3.70362748]]\n",
      "The intermediate points are stored in the variable \"interpolated_points\"\n",
      "[0 1 1 1]\n",
      "[19 31 23 58]\n"
     ]
    },
    {
     "name": "stderr",
     "output_type": "stream",
     "text": [
      "<ipython-input-3-da811ff97447>:29: MatplotlibDeprecationWarning: Adding an axes using the same arguments as a previous axes currently reuses the earlier instance.  In a future version, a new instance will always be created and returned.  Meanwhile, this warning can be suppressed, and the future behavior ensured, by passing a unique label to each axes instance.\n",
      "  ax = fig.add_subplot(111, autoscale_on=False,\n"
     ]
    },
    {
     "name": "stdout",
     "output_type": "stream",
     "text": [
      "19\n",
      "The interpolation points are stored in the variable \"EF_target_pos\": \n",
      "[[ 16.07106781   7.07106781]\n",
      " [ 12.66666667  -6.39930963]\n",
      " [  6.33333333 -10.97399655]\n",
      " [ -6.33333333  -1.37020701]\n",
      " [-12.66666667   5.45011892]]\n",
      "The intermediate points are stored in the variable \"interpolated_points\"\n",
      "[1 1 0 1]\n",
      "[54 40 47 22]\n"
     ]
    },
    {
     "name": "stderr",
     "output_type": "stream",
     "text": [
      "<ipython-input-3-da811ff97447>:29: MatplotlibDeprecationWarning: Adding an axes using the same arguments as a previous axes currently reuses the earlier instance.  In a future version, a new instance will always be created and returned.  Meanwhile, this warning can be suppressed, and the future behavior ensured, by passing a unique label to each axes instance.\n",
      "  ax = fig.add_subplot(111, autoscale_on=False,\n"
     ]
    }
   ],
   "source": [
    "for i in range(250,375):\n",
    "    create_simulation(i,50)"
   ]
  }
 ],
 "metadata": {
  "kernelspec": {
   "display_name": "Python 3",
   "language": "python",
   "name": "python3"
  },
  "language_info": {
   "codemirror_mode": {
    "name": "ipython",
    "version": 3
   },
   "file_extension": ".py",
   "mimetype": "text/x-python",
   "name": "python",
   "nbconvert_exporter": "python",
   "pygments_lexer": "ipython3",
   "version": "3.8.10"
  }
 },
 "nbformat": 4,
 "nbformat_minor": 2
}
