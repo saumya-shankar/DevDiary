{
 "cells": [
  {
   "cell_type": "code",
   "execution_count": 1,
   "id": "01814521",
   "metadata": {},
   "outputs": [],
   "source": [
    "import numpy as np\n",
    "import torch\n",
    "import torch.nn as nn\n",
    "import torch.optim as optim\n",
    "from sklearn.metrics import mean_squared_error\n",
    "import matplotlib.pyplot as plt"
   ]
  },
  {
   "cell_type": "code",
   "execution_count": 2,
   "id": "41d9a361",
   "metadata": {},
   "outputs": [],
   "source": [
    "# Constants for data generation\n",
    "m_values = [0.5, 0.2, 0.4, 0.6, 10, 0.01, 0.3, 0.02]\n",
    "num_samples = 5000\n",
    "\n",
    "# Generate data\n",
    "Income = np.random.uniform(1000, 10000, num_samples)\n",
    "Age = np.random.uniform(18, 80, num_samples)\n",
    "PSQ = np.random.uniform(0, 100, num_samples)\n",
    "SES = np.random.uniform(0, 100, num_samples)\n",
    "\n",
    "HS = (m_values[0] * Income + m_values[1] * Age + m_values[2] * PSQ + m_values[3] * SES \n",
    "      + m_values[4] * np.sin(m_values[5] * Age * SES)\n",
    "      + m_values[6] * np.log(m_values[7] * Income * PSQ + 1) \n",
    "      + np.random.normal(0, 10, num_samples))\n",
    "\n",
    "# Convert to PyTorch tensors\n",
    "X = torch.tensor(np.vstack([Income, Age, PSQ, SES]).T, dtype=torch.float32)\n",
    "y = torch.tensor(HS, dtype=torch.float32).view(-1, 1)\n",
    "\n",
    "# Generate test data\n",
    "Income = np.random.uniform(1000, 10000, num_samples)\n",
    "Age = np.random.uniform(18, 80, num_samples)\n",
    "PSQ = np.random.uniform(0, 100, num_samples)\n",
    "SES = np.random.uniform(0, 100, num_samples)\n",
    "\n",
    "HS = (m_values[0] * Income + m_values[1] * Age + m_values[2] * PSQ + m_values[3] * SES \n",
    "      + m_values[4] * np.sin(m_values[5] * Age * SES)\n",
    "      + m_values[6] * np.log(m_values[7] * Income * PSQ + 1) \n",
    "      + np.random.normal(0, 10, num_samples))\n",
    "\n",
    "# Convert to PyTorch tensors\n",
    "X_test = torch.tensor(np.vstack([Income, Age, PSQ, SES]).T, dtype=torch.float32)\n",
    "y_test = torch.tensor(HS, dtype=torch.float32).view(-1, 1)\n",
    "\n"
   ]
  },
  {
   "cell_type": "code",
   "execution_count": 3,
   "id": "7ab9bd31",
   "metadata": {},
   "outputs": [],
   "source": [
    "# Neural Network Model\n",
    "class HappinessPredictor(nn.Module):\n",
    "    def __init__(self):\n",
    "        super(HappinessPredictor, self).__init__()\n",
    "        self.fc = nn.Sequential(\n",
    "            nn.Linear(4, 128),\n",
    "            nn.ReLU(),\n",
    "            nn.Linear(128, 128),\n",
    "            nn.ReLU(),\n",
    "            nn.Linear(128, 1)\n",
    "        )\n",
    "\n",
    "    def forward(self, x):\n",
    "        return self.fc(x)"
   ]
  },
  {
   "cell_type": "code",
   "execution_count": 4,
   "id": "86a5f853",
   "metadata": {},
   "outputs": [
    {
     "name": "stdout",
     "output_type": "stream",
     "text": [
      "Epoch [50/500], Loss: 38595.7969\n",
      "Epoch [100/500], Loss: 856.1059\n",
      "Epoch [150/500], Loss: 563.8263\n",
      "Epoch [200/500], Loss: 343.3604\n",
      "Epoch [250/500], Loss: 230.2284\n",
      "Epoch [300/500], Loss: 191.8029\n",
      "Epoch [350/500], Loss: 179.2176\n",
      "Epoch [400/500], Loss: 172.1750\n",
      "Epoch [450/500], Loss: 166.7632\n",
      "Epoch [500/500], Loss: 162.4427\n",
      "Training Finished!\n",
      "Epoch [50/500], Loss: 1795.8334\n",
      "Epoch [100/500], Loss: 1554.2325\n",
      "Epoch [150/500], Loss: 1461.1840\n",
      "Epoch [200/500], Loss: 1409.5706\n",
      "Epoch [250/500], Loss: 1352.2881\n",
      "Epoch [300/500], Loss: 1289.2720\n",
      "Epoch [350/500], Loss: 1217.7551\n",
      "Epoch [400/500], Loss: 1124.3630\n",
      "Epoch [450/500], Loss: 1028.7816\n",
      "Epoch [500/500], Loss: 924.3867\n",
      "Training Finished!\n",
      "Epoch [50/500], Loss: 1486.4857\n",
      "Epoch [100/500], Loss: 1386.6136\n",
      "Epoch [150/500], Loss: 1174.4631\n",
      "Epoch [200/500], Loss: 1002.1030\n",
      "Epoch [250/500], Loss: 798.3884\n",
      "Epoch [300/500], Loss: 594.2061\n",
      "Epoch [350/500], Loss: 425.1112\n",
      "Epoch [400/500], Loss: 310.6812\n",
      "Epoch [450/500], Loss: 246.5733\n",
      "Epoch [500/500], Loss: 214.4185\n",
      "Training Finished!\n",
      "Epoch [50/500], Loss: 5691.3550\n",
      "Epoch [100/500], Loss: 1356.2770\n",
      "Epoch [150/500], Loss: 1160.9760\n",
      "Epoch [200/500], Loss: 1005.3216\n",
      "Epoch [250/500], Loss: 667.4340\n",
      "Epoch [300/500], Loss: 318.9970\n",
      "Epoch [350/500], Loss: 199.9639\n",
      "Epoch [400/500], Loss: 177.6976\n",
      "Epoch [450/500], Loss: 168.0410\n",
      "Epoch [500/500], Loss: 161.6190\n",
      "Training Finished!\n",
      "Epoch [50/500], Loss: 1662.5869\n",
      "Epoch [100/500], Loss: 1517.5323\n",
      "Epoch [150/500], Loss: 1402.1642\n",
      "Epoch [200/500], Loss: 1354.8297\n",
      "Epoch [250/500], Loss: 1298.7552\n",
      "Epoch [300/500], Loss: 1218.3344\n",
      "Epoch [350/500], Loss: 1037.6079\n",
      "Epoch [400/500], Loss: 702.4921\n",
      "Epoch [450/500], Loss: 382.1384\n",
      "Epoch [500/500], Loss: 248.2522\n",
      "Training Finished!\n",
      "Epoch [50/500], Loss: 1405.1035\n",
      "Epoch [100/500], Loss: 1019.0207\n",
      "Epoch [150/500], Loss: 920.1653\n",
      "Epoch [200/500], Loss: 808.1201\n",
      "Epoch [250/500], Loss: 502.4156\n",
      "Epoch [300/500], Loss: 270.7700\n",
      "Epoch [350/500], Loss: 177.8396\n",
      "Epoch [400/500], Loss: 158.2193\n",
      "Epoch [450/500], Loss: 154.7816\n",
      "Epoch [500/500], Loss: 153.2798\n",
      "Training Finished!\n",
      "Epoch [50/500], Loss: 20711.1836\n",
      "Epoch [100/500], Loss: 1200.6042\n",
      "Epoch [150/500], Loss: 1004.6938\n",
      "Epoch [200/500], Loss: 976.4532\n",
      "Epoch [250/500], Loss: 945.3047\n",
      "Epoch [300/500], Loss: 911.9537\n",
      "Epoch [350/500], Loss: 876.8852\n",
      "Epoch [400/500], Loss: 840.5224\n",
      "Epoch [450/500], Loss: 803.2407\n",
      "Epoch [500/500], Loss: 765.3720\n",
      "Training Finished!\n",
      "Epoch [50/500], Loss: 6102.8340\n",
      "Epoch [100/500], Loss: 1107.3796\n",
      "Epoch [150/500], Loss: 647.5688\n",
      "Epoch [200/500], Loss: 291.7397\n",
      "Epoch [250/500], Loss: 168.3909\n",
      "Epoch [300/500], Loss: 155.6378\n",
      "Epoch [350/500], Loss: 152.4577\n",
      "Epoch [400/500], Loss: 150.7281\n",
      "Epoch [450/500], Loss: 149.8293\n",
      "Epoch [500/500], Loss: 149.3643\n",
      "Training Finished!\n",
      "Epoch [50/500], Loss: 30742.4727\n",
      "Epoch [100/500], Loss: 914.8904\n",
      "Epoch [150/500], Loss: 692.2687\n",
      "Epoch [200/500], Loss: 515.6937\n",
      "Epoch [250/500], Loss: 371.9091\n",
      "Epoch [300/500], Loss: 276.2477\n",
      "Epoch [350/500], Loss: 224.0253\n",
      "Epoch [400/500], Loss: 199.0115\n",
      "Epoch [450/500], Loss: 186.4013\n",
      "Epoch [500/500], Loss: 178.4020\n",
      "Training Finished!\n",
      "Epoch [50/500], Loss: 14845.5811\n",
      "Epoch [100/500], Loss: 788.9116\n",
      "Epoch [150/500], Loss: 470.6795\n",
      "Epoch [200/500], Loss: 302.7690\n",
      "Epoch [250/500], Loss: 176.8289\n",
      "Epoch [300/500], Loss: 153.3501\n",
      "Epoch [350/500], Loss: 150.8356\n",
      "Epoch [400/500], Loss: 150.3790\n",
      "Epoch [450/500], Loss: 150.1444\n",
      "Epoch [500/500], Loss: 150.0179\n",
      "Training Finished!\n"
     ]
    }
   ],
   "source": [
    "## Case 1: Only learning based on one loss\n",
    "result=[]\n",
    "for i in range(10):\n",
    "    model = HappinessPredictor()\n",
    "    criterion = nn.MSELoss()\n",
    "    optimizer = optim.Adam(model.parameters(), lr=0.001)\n",
    "\n",
    "    # Training Loop with Multi-Loss\n",
    "    epochs = 500\n",
    "    for epoch in range(epochs):\n",
    "        # Forward pass\n",
    "        outputs = model(X)\n",
    "\n",
    "        # Main Loss\n",
    "        loss_main = criterion(outputs, y)\n",
    "\n",
    "        # Interaction Loss\n",
    "        sin_interaction = m_values[4] * torch.sin(m_values[5] * X[:, 1].view(-1, 1) * X[:, 3].view(-1, 1))\n",
    "        log_interaction = m_values[6] * torch.log(m_values[7] * X[:, 0].view(-1, 1) * X[:, 2].view(-1, 1) + 1)\n",
    "        interaction_predicted = outputs - (m_values[0] * X[:, 0].view(-1, 1) + m_values[1] * X[:, 1].view(-1, 1) + m_values[2] * X[:, 2].view(-1, 1) + m_values[3] * X[:, 3].view(-1, 1))\n",
    "        loss_interaction = criterion(interaction_predicted, sin_interaction + log_interaction)\n",
    "\n",
    "        # Combined Loss\n",
    "        combined_loss = loss_main + 0 * loss_interaction\n",
    "\n",
    "        # Backprop and optimization\n",
    "        optimizer.zero_grad()\n",
    "        combined_loss.backward()\n",
    "        optimizer.step()\n",
    "\n",
    "        if (epoch + 1) % 50 == 0:\n",
    "            print(f\"Epoch [{epoch + 1}/{epochs}], Loss: {combined_loss.item():.4f}\")\n",
    "\n",
    "    print(\"Training Finished!\")\n",
    "\n",
    "    result.append(mean_squared_error(model(X_test).detach().numpy(),y_test,squared=False))"
   ]
  },
  {
   "cell_type": "code",
   "execution_count": 5,
   "id": "d5397535",
   "metadata": {},
   "outputs": [
    {
     "name": "stdout",
     "output_type": "stream",
     "text": [
      "16.455282\n",
      "6.4212837\n",
      "13.059326\n"
     ]
    },
    {
     "data": {
      "text/plain": [
       "[<matplotlib.lines.Line2D at 0x20e3e87ceb0>]"
      ]
     },
     "execution_count": 5,
     "metadata": {},
     "output_type": "execute_result"
    },
    {
     "data": {
      "image/png": "[encoded data removed]",
      "text/plain": [
       "<Figure size 432x288 with 1 Axes>"
      ]
     },
     "metadata": {
      "needs_background": "light"
     },
     "output_type": "display_data"
    }
   ],
   "source": [
    "## Mean, median , variation of RMSE of predicted and given target\n",
    "print(np.mean(result))\n",
    "print(np.std(result))\n",
    "print(np.median(result))\n",
    "plt.plot(result)"
   ]
  },
  {
   "cell_type": "code",
   "execution_count": 6,
   "id": "c31979c2",
   "metadata": {},
   "outputs": [
    {
     "name": "stdout",
     "output_type": "stream",
     "text": [
      "Epoch [50/500], Loss: 11465.3926\n",
      "Epoch [100/500], Loss: 1225.1923\n",
      "Epoch [150/500], Loss: 1168.6589\n",
      "Epoch [200/500], Loss: 1134.9281\n",
      "Epoch [250/500], Loss: 1098.6367\n",
      "Epoch [300/500], Loss: 1059.5480\n",
      "Epoch [350/500], Loss: 1018.3127\n",
      "Epoch [400/500], Loss: 975.4971\n",
      "Epoch [450/500], Loss: 931.5880\n",
      "Epoch [500/500], Loss: 887.0293\n",
      "Training Finished!\n",
      "Epoch [50/500], Loss: 5922.4102\n",
      "Epoch [100/500], Loss: 947.3677\n",
      "Epoch [150/500], Loss: 919.8239\n",
      "Epoch [200/500], Loss: 890.5388\n",
      "Epoch [250/500], Loss: 859.0625\n",
      "Epoch [300/500], Loss: 825.2206\n",
      "Epoch [350/500], Loss: 789.5945\n",
      "Epoch [400/500], Loss: 752.6826\n",
      "Epoch [450/500], Loss: 714.9182\n",
      "Epoch [500/500], Loss: 676.7432\n",
      "Training Finished!\n",
      "Epoch [50/500], Loss: 4503.1021\n",
      "Epoch [100/500], Loss: 1390.7148\n",
      "Epoch [150/500], Loss: 1084.5626\n",
      "Epoch [200/500], Loss: 649.1609\n",
      "Epoch [250/500], Loss: 272.4798\n",
      "Epoch [300/500], Loss: 129.9332\n",
      "Epoch [350/500], Loss: 107.5759\n",
      "Epoch [400/500], Loss: 103.6350\n",
      "Epoch [450/500], Loss: 101.4779\n",
      "Epoch [500/500], Loss: 100.1484\n",
      "Training Finished!\n",
      "Epoch [50/500], Loss: 4147.9229\n",
      "Epoch [100/500], Loss: 1284.1340\n",
      "Epoch [150/500], Loss: 1250.1245\n",
      "Epoch [200/500], Loss: 1185.1299\n",
      "Epoch [250/500], Loss: 948.5060\n",
      "Epoch [300/500], Loss: 627.2279\n",
      "Epoch [350/500], Loss: 384.3763\n",
      "Epoch [400/500], Loss: 260.1368\n",
      "Epoch [450/500], Loss: 208.5636\n",
      "Epoch [500/500], Loss: 182.1406\n",
      "Training Finished!\n",
      "Epoch [50/500], Loss: 44524.3438\n",
      "Epoch [100/500], Loss: 1133.7587\n",
      "Epoch [150/500], Loss: 925.4451\n",
      "Epoch [200/500], Loss: 781.9345\n",
      "Epoch [250/500], Loss: 557.7442\n",
      "Epoch [300/500], Loss: 423.4742\n",
      "Epoch [350/500], Loss: 361.5593\n",
      "Epoch [400/500], Loss: 320.3157\n",
      "Epoch [450/500], Loss: 286.3857\n",
      "Epoch [500/500], Loss: 256.7803\n",
      "Training Finished!\n",
      "Epoch [50/500], Loss: 9398.6875\n",
      "Epoch [100/500], Loss: 1186.5397\n",
      "Epoch [150/500], Loss: 636.1979\n",
      "Epoch [200/500], Loss: 354.0855\n",
      "Epoch [250/500], Loss: 221.0162\n",
      "Epoch [300/500], Loss: 172.9746\n",
      "Epoch [350/500], Loss: 153.6979\n",
      "Epoch [400/500], Loss: 141.4042\n",
      "Epoch [450/500], Loss: 131.6938\n",
      "Epoch [500/500], Loss: 123.8358\n",
      "Training Finished!\n",
      "Epoch [50/500], Loss: 2175.2861\n",
      "Epoch [100/500], Loss: 700.1173\n",
      "Epoch [150/500], Loss: 402.7411\n",
      "Epoch [200/500], Loss: 213.6975\n",
      "Epoch [250/500], Loss: 129.0447\n",
      "Epoch [300/500], Loss: 108.2806\n",
      "Epoch [350/500], Loss: 104.2652\n",
      "Epoch [400/500], Loss: 102.5578\n",
      "Epoch [450/500], Loss: 101.4226\n",
      "Epoch [500/500], Loss: 100.6711\n",
      "Training Finished!\n",
      "Epoch [50/500], Loss: 21572.5059\n",
      "Epoch [100/500], Loss: 1526.7191\n",
      "Epoch [150/500], Loss: 1076.8550\n",
      "Epoch [200/500], Loss: 700.1257\n",
      "Epoch [250/500], Loss: 421.5366\n",
      "Epoch [300/500], Loss: 243.7778\n",
      "Epoch [350/500], Loss: 175.5560\n",
      "Epoch [400/500], Loss: 144.2898\n",
      "Epoch [450/500], Loss: 124.7444\n",
      "Epoch [500/500], Loss: 113.0414\n",
      "Training Finished!\n",
      "Epoch [50/500], Loss: 5192.6431\n",
      "Epoch [100/500], Loss: 1030.9968\n",
      "Epoch [150/500], Loss: 438.0547\n",
      "Epoch [200/500], Loss: 169.2987\n",
      "Epoch [250/500], Loss: 129.1504\n",
      "Epoch [300/500], Loss: 113.3810\n",
      "Epoch [350/500], Loss: 105.4939\n",
      "Epoch [400/500], Loss: 101.6210\n",
      "Epoch [450/500], Loss: 99.9695\n",
      "Epoch [500/500], Loss: 99.4552\n",
      "Training Finished!\n",
      "Epoch [50/500], Loss: 2905.7114\n",
      "Epoch [100/500], Loss: 922.8044\n",
      "Epoch [150/500], Loss: 488.9784\n",
      "Epoch [200/500], Loss: 211.1038\n",
      "Epoch [250/500], Loss: 140.8994\n",
      "Epoch [300/500], Loss: 125.3350\n",
      "Epoch [350/500], Loss: 117.1057\n",
      "Epoch [400/500], Loss: 111.2241\n",
      "Epoch [450/500], Loss: 107.0702\n",
      "Epoch [500/500], Loss: 104.1884\n",
      "Training Finished!\n"
     ]
    }
   ],
   "source": [
    "## Case 2: Learning based on both losses but equal weights\n",
    "result=[]\n",
    "for i in range(10):\n",
    "    model = HappinessPredictor()\n",
    "    criterion = nn.MSELoss()\n",
    "    optimizer = optim.Adam(model.parameters(), lr=0.001)\n",
    "\n",
    "    # Training Loop with Multi-Loss\n",
    "    epochs = 500\n",
    "    for epoch in range(epochs):\n",
    "        # Forward pass\n",
    "        outputs = model(X)\n",
    "\n",
    "        # Main Loss\n",
    "        loss_main = criterion(outputs, y)\n",
    "\n",
    "        # Interaction Loss\n",
    "        sin_interaction = m_values[4] * torch.sin(m_values[5] * X[:, 1].view(-1, 1) * X[:, 3].view(-1, 1))\n",
    "        log_interaction = m_values[6] * torch.log(m_values[7] * X[:, 0].view(-1, 1) * X[:, 2].view(-1, 1) + 1)\n",
    "        interaction_predicted = outputs - (m_values[0] * X[:, 0].view(-1, 1) + m_values[1] * X[:, 1].view(-1, 1) + m_values[2] * X[:, 2].view(-1, 1) + m_values[3] * X[:, 3].view(-1, 1))\n",
    "        loss_interaction = criterion(interaction_predicted, sin_interaction + log_interaction)\n",
    "\n",
    "        # Combined Loss\n",
    "        combined_loss = 0.5*loss_main + 0.5*loss_interaction\n",
    "\n",
    "        # Backprop and optimization\n",
    "        optimizer.zero_grad()\n",
    "        combined_loss.backward()\n",
    "        optimizer.step()\n",
    "\n",
    "        if (epoch + 1) % 50 == 0:\n",
    "            print(f\"Epoch [{epoch + 1}/{epochs}], Loss: {combined_loss.item():.4f}\")\n",
    "\n",
    "    print(\"Training Finished!\")\n",
    "    result.append(mean_squared_error(model(X_test).detach().numpy(),y_test,squared=False))"
   ]
  },
  {
   "cell_type": "code",
   "execution_count": 7,
   "id": "5fc3d9cc",
   "metadata": {},
   "outputs": [
    {
     "name": "stdout",
     "output_type": "stream",
     "text": [
      "16.592922\n",
      "6.3633037\n",
      "13.018545\n"
     ]
    },
    {
     "data": {
      "text/plain": [
       "[<matplotlib.lines.Line2D at 0x20e409cebb0>]"
      ]
     },
     "execution_count": 7,
     "metadata": {},
     "output_type": "execute_result"
    },
    {
     "data": {
      "image/png": "[encoded data removed]",
      "text/plain": [
       "<Figure size 432x288 with 1 Axes>"
      ]
     },
     "metadata": {
      "needs_background": "light"
     },
     "output_type": "display_data"
    }
   ],
   "source": [
    "## Mean, median , variation of RMSE of predicted and given target\n",
    "print(np.mean(result))\n",
    "print(np.std(result))\n",
    "print(np.median(result))\n",
    "plt.plot(result)"
   ]
  },
  {
   "cell_type": "code",
   "execution_count": 8,
   "id": "685cc14a",
   "metadata": {},
   "outputs": [
    {
     "name": "stdout",
     "output_type": "stream",
     "text": [
      "Epoch [50/500], Loss: 12998.0225\n",
      "Epoch [100/500], Loss: 770.1791\n",
      "Epoch [150/500], Loss: 436.9546\n",
      "Epoch [200/500], Loss: 206.6562\n",
      "Epoch [250/500], Loss: 118.1296\n",
      "Epoch [300/500], Loss: 101.3248\n",
      "Epoch [350/500], Loss: 99.4893\n",
      "Epoch [400/500], Loss: 99.0187\n",
      "Epoch [450/500], Loss: 98.6247\n",
      "Epoch [500/500], Loss: 98.2414\n",
      "Training Finished!\n",
      "Epoch [50/500], Loss: 35349.5156\n",
      "Epoch [100/500], Loss: 926.7355\n",
      "Epoch [150/500], Loss: 586.2114\n",
      "Epoch [200/500], Loss: 391.3362\n",
      "Epoch [250/500], Loss: 247.2327\n",
      "Epoch [300/500], Loss: 170.3096\n",
      "Epoch [350/500], Loss: 139.4948\n",
      "Epoch [400/500], Loss: 127.0275\n",
      "Epoch [450/500], Loss: 119.5944\n",
      "Epoch [500/500], Loss: 113.9053\n",
      "Training Finished!\n",
      "Epoch [50/500], Loss: 12403.0430\n",
      "Epoch [100/500], Loss: 816.3417\n",
      "Epoch [150/500], Loss: 506.5687\n",
      "Epoch [200/500], Loss: 250.9948\n",
      "Epoch [250/500], Loss: 132.0910\n",
      "Epoch [300/500], Loss: 103.7998\n",
      "Epoch [350/500], Loss: 100.3577\n",
      "Epoch [400/500], Loss: 99.7121\n",
      "Epoch [450/500], Loss: 99.2656\n",
      "Epoch [500/500], Loss: 98.8834\n",
      "Training Finished!\n",
      "Epoch [50/500], Loss: 10188.3516\n",
      "Epoch [100/500], Loss: 1122.4395\n",
      "Epoch [150/500], Loss: 988.6567\n",
      "Epoch [200/500], Loss: 955.9250\n",
      "Epoch [250/500], Loss: 920.6129\n",
      "Epoch [300/500], Loss: 882.8530\n",
      "Epoch [350/500], Loss: 843.3250\n",
      "Epoch [400/500], Loss: 802.6309\n",
      "Epoch [450/500], Loss: 761.2932\n",
      "Epoch [500/500], Loss: 719.7522\n",
      "Training Finished!\n",
      "Epoch [50/500], Loss: 17408.6289\n",
      "Epoch [100/500], Loss: 1063.5674\n",
      "Epoch [150/500], Loss: 955.7323\n",
      "Epoch [200/500], Loss: 809.7586\n",
      "Epoch [250/500], Loss: 602.4010\n",
      "Epoch [300/500], Loss: 299.5221\n",
      "Epoch [350/500], Loss: 161.7845\n",
      "Epoch [400/500], Loss: 131.6056\n",
      "Epoch [450/500], Loss: 118.9476\n",
      "Epoch [500/500], Loss: 110.6474\n",
      "Training Finished!\n",
      "Epoch [50/500], Loss: 34980.7344\n",
      "Epoch [100/500], Loss: 899.0972\n",
      "Epoch [150/500], Loss: 659.4775\n",
      "Epoch [200/500], Loss: 459.2117\n",
      "Epoch [250/500], Loss: 307.1609\n",
      "Epoch [300/500], Loss: 212.0624\n",
      "Epoch [350/500], Loss: 162.8369\n",
      "Epoch [400/500], Loss: 140.6968\n",
      "Epoch [450/500], Loss: 130.4176\n",
      "Epoch [500/500], Loss: 124.2911\n",
      "Training Finished!\n",
      "Epoch [50/500], Loss: 13261.8906\n",
      "Epoch [100/500], Loss: 1498.1780\n",
      "Epoch [150/500], Loss: 1314.5146\n",
      "Epoch [200/500], Loss: 1268.9275\n",
      "Epoch [250/500], Loss: 1219.6418\n",
      "Epoch [300/500], Loss: 1167.0229\n",
      "Epoch [350/500], Loss: 1112.0443\n",
      "Epoch [400/500], Loss: 1055.5210\n",
      "Epoch [450/500], Loss: 702.5769\n",
      "Epoch [500/500], Loss: 294.7386\n",
      "Training Finished!\n",
      "Epoch [50/500], Loss: 9841.7949\n",
      "Epoch [100/500], Loss: 975.1057\n",
      "Epoch [150/500], Loss: 612.6859\n",
      "Epoch [200/500], Loss: 319.7211\n",
      "Epoch [250/500], Loss: 188.6110\n",
      "Epoch [300/500], Loss: 150.2750\n",
      "Epoch [350/500], Loss: 134.0893\n",
      "Epoch [400/500], Loss: 122.8359\n",
      "Epoch [450/500], Loss: 114.5805\n",
      "Epoch [500/500], Loss: 108.6866\n",
      "Training Finished!\n",
      "Epoch [50/500], Loss: 15486.3379\n",
      "Epoch [100/500], Loss: 1274.5177\n",
      "Epoch [150/500], Loss: 882.9614\n",
      "Epoch [200/500], Loss: 600.2820\n",
      "Epoch [250/500], Loss: 384.8745\n",
      "Epoch [300/500], Loss: 258.5831\n",
      "Epoch [350/500], Loss: 197.8565\n",
      "Epoch [400/500], Loss: 167.9177\n",
      "Epoch [450/500], Loss: 148.9378\n",
      "Epoch [500/500], Loss: 134.7701\n",
      "Training Finished!\n",
      "Epoch [50/500], Loss: 14271.3809\n",
      "Epoch [100/500], Loss: 837.4719\n",
      "Epoch [150/500], Loss: 412.9208\n",
      "Epoch [200/500], Loss: 189.7474\n",
      "Epoch [250/500], Loss: 128.5961\n",
      "Epoch [300/500], Loss: 111.9466\n",
      "Epoch [350/500], Loss: 103.3318\n",
      "Epoch [400/500], Loss: 99.6000\n",
      "Epoch [450/500], Loss: 98.3283\n",
      "Epoch [500/500], Loss: 97.8249\n",
      "Training Finished!\n"
     ]
    }
   ],
   "source": [
    "## Case 3: Learning based on both loss based on dynamically learned contribution of each losses at each iteration based\n",
    "## on entire loss history\n",
    "result=[]\n",
    "for i in range(10):\n",
    "    model = HappinessPredictor()\n",
    "    criterion = nn.MSELoss()\n",
    "    optimizer = optim.Adam(model.parameters(), lr=0.001)\n",
    "\n",
    "    # Training Loop with Multi-Loss\n",
    "    epochs = 500\n",
    "    loss_history=[]\n",
    "    loss_main_history=[]\n",
    "    loss_main_ratio_history=[]\n",
    "    loss_seasonality_history=[]\n",
    "    loss_seasonality_ratio_history=[]\n",
    "    w1_history=[]\n",
    "    w2_history=[]\n",
    "    for epoch in range(epochs):\n",
    "        # Forward pass\n",
    "        outputs = model(X)\n",
    "\n",
    "        # Main Loss\n",
    "        loss_main = criterion(outputs, y)\n",
    "\n",
    "        # Interaction Loss\n",
    "        sin_interaction = m_values[4] * torch.sin(m_values[5] * X[:, 1].view(-1, 1) * X[:, 3].view(-1, 1))\n",
    "        log_interaction = m_values[6] * torch.log(m_values[7] * X[:, 0].view(-1, 1) * X[:, 2].view(-1, 1) + 1)\n",
    "        interaction_predicted = outputs - (m_values[0] * X[:, 0].view(-1, 1) + m_values[1] * X[:, 1].view(-1, 1) + m_values[2] * X[:, 2].view(-1, 1) + m_values[3] * X[:, 3].view(-1, 1))\n",
    "        loss_seasonality = criterion(interaction_predicted, sin_interaction + log_interaction)\n",
    "\n",
    "        # Combined loss\n",
    "        w1=0.5\n",
    "        w2=0.5\n",
    "        if(epoch>=2):\n",
    "            loss_main_mu_minus1=np.mean(loss_main_history[:-1])\n",
    "            loss_seasonality_mu_minus1=np.mean(loss_seasonality_history[:-1])\n",
    "            loss_main_ratio=loss_main.detach().numpy()/loss_main_mu_minus1\n",
    "            loss_seasonality_ratio=loss_seasonality.detach().numpy()/loss_seasonality_mu_minus1\n",
    "            loss_main_ratio_history.append(loss_main_ratio)\n",
    "            loss_seasonality_ratio_history.append(loss_seasonality_ratio)\n",
    "\n",
    "        if(epoch>=10):    \n",
    "            w1=np.std(loss_main_ratio_history)/np.mean(loss_main_ratio_history)\n",
    "            w2=np.std(loss_seasonality_ratio_history)/np.mean(loss_seasonality_ratio_history)\n",
    "            wtotal=w1+w2\n",
    "            w1=w1/wtotal\n",
    "            w2=w2/wtotal\n",
    "\n",
    "        loss = w1*loss_main + w2 * loss_seasonality\n",
    "        loss_history.append(loss.detach().numpy())\n",
    "        loss_main_history.append(loss_main.detach().numpy())\n",
    "        loss_seasonality_history.append(loss_seasonality.detach().numpy())\n",
    "        w1_history.append(w1)\n",
    "        w2_history.append(w2)\n",
    "        # Backprop and optimization\n",
    "        optimizer.zero_grad()\n",
    "        loss.backward()\n",
    "        optimizer.step()\n",
    "\n",
    "        if (epoch + 1) % 50 == 0:\n",
    "            print(f\"Epoch [{epoch + 1}/{epochs}], Loss: {loss.item():.4f}\")\n",
    "\n",
    "    print(\"Training Finished!\")\n",
    "    result.append(mean_squared_error(model(X_test).detach().numpy(),y_test,squared=False))"
   ]
  },
  {
   "cell_type": "code",
   "execution_count": 9,
   "id": "670e56d1",
   "metadata": {},
   "outputs": [
    {
     "name": "stdout",
     "output_type": "stream",
     "text": [
      "14.823702\n",
      "4.66793\n",
      "12.786421\n"
     ]
    },
    {
     "data": {
      "text/plain": [
       "[<matplotlib.lines.Line2D at 0x20e40a97df0>]"
      ]
     },
     "execution_count": 9,
     "metadata": {},
     "output_type": "execute_result"
    },
    {
     "data": {
      "image/png": "[encoded data removed]",
      "text/plain": [
       "<Figure size 432x288 with 1 Axes>"
      ]
     },
     "metadata": {
      "needs_background": "light"
     },
     "output_type": "display_data"
    }
   ],
   "source": [
    "## Mean, median , variation of RMSE of predicted and given target\n",
    "print(np.mean(result))\n",
    "print(np.std(result))\n",
    "print(np.median(result))\n",
    "plt.plot(result)"
   ]
  },
  {
   "cell_type": "code",
   "execution_count": null,
   "id": "9c4609d0",
   "metadata": {},
   "outputs": [],
   "source": []
  },
  {
   "cell_type": "code",
   "execution_count": 12,
   "id": "b6de3d19",
   "metadata": {},
   "outputs": [
    {
     "data": {
      "text/plain": [
       "[<matplotlib.lines.Line2D at 0x20e42092a90>]"
      ]
     },
     "execution_count": 12,
     "metadata": {},
     "output_type": "execute_result"
    },
    {
     "data": {
      "image/png": "[encoded data removed]",
      "text/plain": [
       "<Figure size 432x288 with 1 Axes>"
      ]
     },
     "metadata": {
      "needs_background": "light"
     },
     "output_type": "display_data"
    }
   ],
   "source": [
    "plt.plot(w1_history)\n",
    "plt.plot(w2_history)"
   ]
  },
  {
   "cell_type": "code",
   "execution_count": 26,
   "id": "62310e57",
   "metadata": {
    "scrolled": true
   },
   "outputs": [
    {
     "name": "stdout",
     "output_type": "stream",
     "text": [
      "Epoch [50/500], Loss: 1184.4194\n",
      "Epoch [100/500], Loss: 717.7467\n",
      "Epoch [150/500], Loss: 422.0475\n",
      "Epoch [200/500], Loss: 254.4365\n",
      "Epoch [250/500], Loss: 149.9167\n",
      "Epoch [300/500], Loss: 156.3810\n",
      "Epoch [350/500], Loss: 165.6259\n",
      "Epoch [400/500], Loss: 154.4342\n",
      "Epoch [450/500], Loss: 99.7406\n",
      "Epoch [500/500], Loss: 137.7900\n",
      "Training Finished!\n",
      "Epoch [50/500], Loss: 22535.1504\n",
      "Epoch [100/500], Loss: 1048.5449\n",
      "Epoch [150/500], Loss: 700.6117\n",
      "Epoch [200/500], Loss: 444.7389\n",
      "Epoch [250/500], Loss: 264.0236\n",
      "Epoch [300/500], Loss: 162.3609\n",
      "Epoch [350/500], Loss: 129.7306\n",
      "Epoch [400/500], Loss: 183.7839\n",
      "Epoch [450/500], Loss: 157.3798\n",
      "Epoch [500/500], Loss: 148.4822\n",
      "Training Finished!\n",
      "Epoch [50/500], Loss: 16982.1367\n",
      "Epoch [100/500], Loss: 808.2175\n",
      "Epoch [150/500], Loss: 511.2730\n",
      "Epoch [200/500], Loss: 313.7901\n",
      "Epoch [250/500], Loss: 190.5787\n",
      "Epoch [300/500], Loss: 225.1671\n",
      "Epoch [350/500], Loss: 208.2463\n",
      "Epoch [400/500], Loss: 177.9017\n",
      "Epoch [450/500], Loss: 156.8379\n",
      "Epoch [500/500], Loss: 145.1704\n",
      "Training Finished!\n",
      "Epoch [50/500], Loss: 22502.1367\n",
      "Epoch [100/500], Loss: 1454.5277\n",
      "Epoch [150/500], Loss: 1276.2238\n",
      "Epoch [200/500], Loss: 1232.5166\n",
      "Epoch [250/500], Loss: 1183.7224\n",
      "Epoch [300/500], Loss: 1129.4811\n",
      "Epoch [350/500], Loss: 1068.9117\n",
      "Epoch [400/500], Loss: 960.9197\n",
      "Epoch [450/500], Loss: 527.4282\n",
      "Epoch [500/500], Loss: 193.2892\n",
      "Training Finished!\n",
      "Epoch [50/500], Loss: 23086.3164\n",
      "Epoch [100/500], Loss: 1768.2336\n",
      "Epoch [150/500], Loss: 841.4459\n",
      "Epoch [200/500], Loss: 335.0345\n",
      "Epoch [250/500], Loss: 187.4697\n",
      "Epoch [300/500], Loss: 163.9353\n",
      "Epoch [350/500], Loss: 155.9709\n",
      "Epoch [400/500], Loss: 146.9493\n",
      "Epoch [450/500], Loss: 149.8926\n",
      "Epoch [500/500], Loss: 159.1238\n",
      "Training Finished!\n",
      "Epoch [50/500], Loss: 18750.7715\n",
      "Epoch [100/500], Loss: 930.3280\n",
      "Epoch [150/500], Loss: 807.6122\n",
      "Epoch [200/500], Loss: 625.9009\n",
      "Epoch [250/500], Loss: 450.4593\n",
      "Epoch [300/500], Loss: 251.5728\n",
      "Epoch [350/500], Loss: 130.2981\n",
      "Epoch [400/500], Loss: 63.6533\n",
      "Epoch [450/500], Loss: 117.7457\n",
      "Epoch [500/500], Loss: 101.7443\n",
      "Training Finished!\n",
      "Epoch [50/500], Loss: 10680.3418\n",
      "Epoch [100/500], Loss: 952.8364\n",
      "Epoch [150/500], Loss: 362.8597\n",
      "Epoch [200/500], Loss: 151.1938\n",
      "Epoch [250/500], Loss: 181.6053\n",
      "Epoch [300/500], Loss: 157.8133\n",
      "Epoch [350/500], Loss: 146.6056\n",
      "Epoch [400/500], Loss: 131.1080\n",
      "Epoch [450/500], Loss: 117.3737\n",
      "Epoch [500/500], Loss: 108.3013\n",
      "Training Finished!\n",
      "Epoch [50/500], Loss: 22583.5098\n",
      "Epoch [100/500], Loss: 944.7706\n",
      "Epoch [150/500], Loss: 918.3911\n",
      "Epoch [200/500], Loss: 883.3997\n",
      "Epoch [250/500], Loss: 840.6519\n",
      "Epoch [300/500], Loss: 783.0500\n",
      "Epoch [350/500], Loss: 677.0216\n",
      "Epoch [400/500], Loss: 476.4611\n",
      "Epoch [450/500], Loss: 233.7520\n",
      "Epoch [500/500], Loss: 130.7317\n",
      "Training Finished!\n",
      "Epoch [50/500], Loss: 1232.3330\n",
      "Epoch [100/500], Loss: 967.7593\n",
      "Epoch [150/500], Loss: 777.3492\n",
      "Epoch [200/500], Loss: 662.1353\n",
      "Epoch [250/500], Loss: 473.9755\n",
      "Epoch [300/500], Loss: 333.5971\n",
      "Epoch [350/500], Loss: 218.8732\n",
      "Epoch [400/500], Loss: 141.1910\n",
      "Epoch [450/500], Loss: 89.3021\n",
      "Epoch [500/500], Loss: 112.1179\n",
      "Training Finished!\n",
      "Epoch [50/500], Loss: 20851.3008\n",
      "Epoch [100/500], Loss: 949.8098\n",
      "Epoch [150/500], Loss: 573.6299\n",
      "Epoch [200/500], Loss: 274.0682\n",
      "Epoch [250/500], Loss: 143.1608\n",
      "Epoch [300/500], Loss: 133.6439\n",
      "Epoch [350/500], Loss: 128.5438\n",
      "Epoch [400/500], Loss: 138.3891\n",
      "Epoch [450/500], Loss: 156.9783\n",
      "Epoch [500/500], Loss: 126.3489\n",
      "Training Finished!\n"
     ]
    }
   ],
   "source": [
    "## Case 4: Learning based on both loss based on dynamically learned contribution of each losses at each iteration based\n",
    "## on last 10 losses history\n",
    "result=[]\n",
    "for i in range(10):\n",
    "    model = HappinessPredictor()\n",
    "    criterion = nn.MSELoss()\n",
    "    optimizer = optim.Adam(model.parameters(), lr=0.001)\n",
    "\n",
    "    # Training Loop with Multi-Loss\n",
    "    epochs = 500\n",
    "    loss_history=[]\n",
    "    loss_main_history=[]\n",
    "    loss_main_ratio_history=[]\n",
    "    loss_seasonality_history=[]\n",
    "    loss_seasonality_ratio_history=[]\n",
    "    w1_history=[]\n",
    "    w2_history=[]\n",
    "    for epoch in range(epochs):\n",
    "        # Forward pass\n",
    "        outputs = model(X)\n",
    "\n",
    "        # Main Loss\n",
    "        loss_main = criterion(outputs, y)\n",
    "\n",
    "        # Interaction Loss\n",
    "        sin_interaction = m_values[4] * torch.sin(m_values[5] * X[:, 1].view(-1, 1) * X[:, 3].view(-1, 1))\n",
    "        log_interaction = m_values[6] * torch.log(m_values[7] * X[:, 0].view(-1, 1) * X[:, 2].view(-1, 1) + 1)\n",
    "        interaction_predicted = outputs - (m_values[0] * X[:, 0].view(-1, 1) + m_values[1] * X[:, 1].view(-1, 1) + m_values[2] * X[:, 2].view(-1, 1) + m_values[3] * X[:, 3].view(-1, 1))\n",
    "        loss_seasonality = criterion(interaction_predicted, sin_interaction + log_interaction)\n",
    "\n",
    "        # Combined loss\n",
    "        w1=0.5\n",
    "        w2=0.5\n",
    "        if(epoch>=2):\n",
    "            loss_main_mu_minus1=np.mean(loss_main_history[:-1])\n",
    "            loss_seasonality_mu_minus1=np.mean(loss_seasonality_history[:-1])\n",
    "            loss_main_ratio=loss_main.detach().numpy()/loss_main_mu_minus1\n",
    "            loss_seasonality_ratio=loss_seasonality.detach().numpy()/loss_seasonality_mu_minus1\n",
    "            loss_main_ratio_history.append(loss_main_ratio)\n",
    "            loss_seasonality_ratio_history.append(loss_seasonality_ratio)\n",
    "\n",
    "        if(epoch>=10):    \n",
    "            w1=np.std(loss_main_ratio_history[-10:])/np.mean(loss_main_ratio_history[-10:])\n",
    "            w2=np.std(loss_seasonality_ratio_history[-10:])/np.mean(loss_seasonality_ratio_history[-10:])\n",
    "            wtotal=w1+w2\n",
    "            w1=w1/wtotal\n",
    "            w2=w2/wtotal\n",
    "\n",
    "        loss = w1*loss_main + w2 * loss_seasonality\n",
    "        loss_history.append(loss.detach().numpy())\n",
    "        loss_main_history.append(loss_main.detach().numpy())\n",
    "        loss_seasonality_history.append(loss_seasonality.detach().numpy())\n",
    "        w1_history.append(w1)\n",
    "        w2_history.append(w2)\n",
    "        # Backprop and optimization\n",
    "        optimizer.zero_grad()\n",
    "        loss.backward()\n",
    "        optimizer.step()\n",
    "\n",
    "        if (epoch + 1) % 50 == 0:\n",
    "            print(f\"Epoch [{epoch + 1}/{epochs}], Loss: {loss.item():.4f}\")\n",
    "\n",
    "    print(\"Training Finished!\")\n",
    "    result.append(mean_squared_error(model(X_test).detach().numpy(),y_test,squared=False))"
   ]
  },
  {
   "cell_type": "code",
   "execution_count": 30,
   "id": "a36a14d5",
   "metadata": {},
   "outputs": [
    {
     "name": "stdout",
     "output_type": "stream",
     "text": [
      "13.280696\n",
      "1.0813326\n",
      "12.865767\n"
     ]
    },
    {
     "data": {
      "text/plain": [
       "[<matplotlib.lines.Line2D at 0x20e43886820>]"
      ]
     },
     "execution_count": 30,
     "metadata": {},
     "output_type": "execute_result"
    },
    {
     "data": {
      "image/png": "[encoded data removed]",
      "text/plain": [
       "<Figure size 432x288 with 1 Axes>"
      ]
     },
     "metadata": {
      "needs_background": "light"
     },
     "output_type": "display_data"
    }
   ],
   "source": [
    "## Mean, median , variation of RMSE of predicted and given target\n",
    "print(np.mean(result))\n",
    "print(np.std(result))\n",
    "print(np.median(result))\n",
    "plt.plot(result)"
   ]
  },
  {
   "cell_type": "code",
   "execution_count": 31,
   "id": "f33a2927",
   "metadata": {},
   "outputs": [
    {
     "data": {
      "text/plain": [
       "[<matplotlib.lines.Line2D at 0x20e438c8c40>]"
      ]
     },
     "execution_count": 31,
     "metadata": {},
     "output_type": "execute_result"
    },
    {
     "data": {
      "image/png": "[encoded data removed]",
      "text/plain": [
       "<Figure size 432x288 with 1 Axes>"
      ]
     },
     "metadata": {
      "needs_background": "light"
     },
     "output_type": "display_data"
    }
   ],
   "source": [
    "plt.plot(w1_history)\n",
    "plt.plot(w2_history)"
   ]
  },
  {
   "cell_type": "code",
   "execution_count": null,
   "id": "0731b572",
   "metadata": {},
   "outputs": [],
   "source": []
  },
  {
   "cell_type": "code",
   "execution_count": 10,
   "id": "2d77a656",
   "metadata": {},
   "outputs": [],
   "source": [
    "## Exact effectiveness (might not be very evident) of training with multiple losses here for an artificial data (as I can't \n",
    "## share the exact data i worked on, but implementation here is based on the research\n",
    "## paper idea mentioned below. This type of loss function calculation is supposed to be done for single task multi loss problem.\n",
    "\n",
    "## We can still observed the overall reduction in error with this approach of dynamic weight adjustment. Error further reduced\n",
    "## if coeficient of variation of losses are calculated just over past 10 values instead of all 10 values.\n",
    "\n",
    "## I have used the similar approach for a 3d reconstruction bundle adjustment problem where I had two losses i) conventional \n",
    "## reconstruction loss ii) structural similarity loss. so two loss of different and one task now."
   ]
  },
  {
   "attachments": {
    "image-2.png": {
     "image/png": "[encoded data removed]"
    }
   },
   "cell_type": "markdown",
   "id": "7134420c",
   "metadata": {},
   "source": [
    "![image-2.png](attachment:image-2.png)"
   ]
  },
  {
   "attachments": {
    "image.png": {
     "image/png": "[encoded data removed]"
    }
   },
   "cell_type": "markdown",
   "id": "ffab8ad0",
   "metadata": {},
   "source": [
    "![image.png](attachment:image.png)"
   ]
  },
  {
   "attachments": {
    "image.png": {
     "image/png": "[encoded data removed]"
    }
   },
   "cell_type": "markdown",
   "id": "690924c7",
   "metadata": {},
   "source": [
    "![image.png](attachment:image.png)"
   ]
  },
  {
   "attachments": {
    "image.png": {
     "image/png": "[encoded data removed]"
    }
   },
   "cell_type": "markdown",
   "id": "d50f702c",
   "metadata": {},
   "source": [
    "![image.png](attachment:image.png)"
   ]
  }
 ],
 "metadata": {
  "kernelspec": {
   "display_name": "Python 3 (ipykernel)",
   "language": "python",
   "name": "python3"
  },
  "language_info": {
   "codemirror_mode": {
    "name": "ipython",
    "version": 3
   },
   "file_extension": ".py",
   "mimetype": "text/x-python",
   "name": "python",
   "nbconvert_exporter": "python",
   "pygments_lexer": "ipython3",
   "version": "3.9.7"
  }
 },
 "nbformat": 4,
 "nbformat_minor": 5
}
