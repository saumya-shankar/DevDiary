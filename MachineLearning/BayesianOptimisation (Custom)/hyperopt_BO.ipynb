{
 "cells": [
  {
   "cell_type": "code",
   "execution_count": 1,
   "id": "4a93185e",
   "metadata": {},
   "outputs": [],
   "source": [
    "import numpy as np\n",
    "from hyperopt import fmin, tpe, hp, Trials, STATUS_OK\n"
   ]
  },
  {
   "cell_type": "code",
   "execution_count": 2,
   "id": "1498bf63",
   "metadata": {},
   "outputs": [],
   "source": [
    "# Define the objective function that we want to minimize (remember: minimize negative to maximize)\n",
    "def objective(x):\n",
    "    return {'loss': -x ** 2, 'status': STATUS_OK}\n",
    "\n",
    "# Define the range for x as a uniform distribution between -10 and 10\n",
    "space = hp.uniform('x', -10, 10)\n"
   ]
  },
  {
   "cell_type": "code",
   "execution_count": 3,
   "id": "b193affb",
   "metadata": {},
   "outputs": [
    {
     "name": "stdout",
     "output_type": "stream",
     "text": [
      "100%|████████████████████████████████████████████████████████████████████████████████████████████████████████████████████████████████████████| 100/100 [00:00<00:00, 483.77trial/s, best loss: -99.54896160067892]\n",
      "Best value of x: 9.97742259306876\n",
      "Maximum value of f(x): 99.54896160067892\n"
     ]
    }
   ],
   "source": [
    "# Start the optimization\n",
    "trials = Trials()\n",
    "best = fmin(fn=objective, space=space, algo=tpe.suggest, max_evals=100, trials=trials)\n",
    "\n",
    "print(f\"Best value of x: {best['x']}\")\n",
    "print(f\"Maximum value of f(x): {-trials.best_trial['result']['loss']}\")\n",
    "\n"
   ]
  },
  {
   "cell_type": "code",
   "execution_count": null,
   "id": "b0b560b8",
   "metadata": {},
   "outputs": [],
   "source": []
  }
 ],
 "metadata": {
  "kernelspec": {
   "display_name": "Python 3 (ipykernel)",
   "language": "python",
   "name": "python3"
  },
  "language_info": {
   "codemirror_mode": {
    "name": "ipython",
    "version": 3
   },
   "file_extension": ".py",
   "mimetype": "text/x-python",
   "name": "python",
   "nbconvert_exporter": "python",
   "pygments_lexer": "ipython3",
   "version": "3.9.7"
  }
 },
 "nbformat": 4,
 "nbformat_minor": 5
}
